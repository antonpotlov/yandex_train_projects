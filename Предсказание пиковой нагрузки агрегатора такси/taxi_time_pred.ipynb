{
 "cells": [
  {
   "cell_type": "markdown",
   "metadata": {},
   "source": [
    "#  Прогнозирование заказов такси"
   ]
  },
  {
   "cell_type": "markdown",
   "metadata": {},
   "source": [
    "Компания «Чётенькое такси» собрала исторические данные о заказах такси в аэропортах. Чтобы привлекать больше водителей в период пиковой нагрузки, нужно спрогнозировать количество заказов такси на следующий час. Постройте модель для такого предсказания.\n",
    "\n",
    "Значение метрики *RMSE* на тестовой выборке должно быть не больше 48.\n",
    "\n",
    "Вам нужно:\n",
    "\n",
    "1. Загрузить данные и выполнить их ресемплирование по одному часу.\n",
    "2. Проанализировать данные.\n",
    "3. Обучить разные модели с различными гиперпараметрами. Сделать тестовую выборку размером 10% от исходных данных.\n",
    "4. Проверить данные на тестовой выборке и сделать выводы.\n",
    "\n",
    "\n",
    "Данные лежат в файле `taxi.csv`. Количество заказов находится в столбце `num_orders` (от англ. *number of orders*, «число заказов»)."
   ]
  },
  {
   "cell_type": "markdown",
   "metadata": {},
   "source": [
    "## Подготовка"
   ]
  },
  {
   "cell_type": "code",
   "execution_count": 1,
   "metadata": {},
   "outputs": [],
   "source": [
    "import pandas as pd\n",
    "import numpy as np\n",
    "from sklearn.model_selection import train_test_split\n",
    "from sklearn.linear_model import LinearRegression\n",
    "from sklearn.ensemble import RandomForestRegressor\n",
    "from sklearn.model_selection import GridSearchCV\n",
    "from statsmodels.tsa.seasonal import seasonal_decompose\n",
    "from sklearn.metrics import mean_squared_error\n",
    "from sklearn.metrics import make_scorer\n",
    "from sklearn.model_selection import cross_validate\n",
    "from sklearn.dummy import DummyRegressor\n",
    "import matplotlib.pyplot as plt\n",
    "import warnings\n",
    "warnings.filterwarnings(\"ignore\")"
   ]
  },
  {
   "cell_type": "code",
   "execution_count": 2,
   "metadata": {},
   "outputs": [],
   "source": [
    "data = pd.read_csv('/datasets/taxi.csv', index_col=[0], parse_dates=[0])"
   ]
  },
  {
   "cell_type": "code",
   "execution_count": 3,
   "metadata": {},
   "outputs": [
    {
     "data": {
      "text/html": [
       "<div>\n",
       "<style scoped>\n",
       "    .dataframe tbody tr th:only-of-type {\n",
       "        vertical-align: middle;\n",
       "    }\n",
       "\n",
       "    .dataframe tbody tr th {\n",
       "        vertical-align: top;\n",
       "    }\n",
       "\n",
       "    .dataframe thead th {\n",
       "        text-align: right;\n",
       "    }\n",
       "</style>\n",
       "<table border=\"1\" class=\"dataframe\">\n",
       "  <thead>\n",
       "    <tr style=\"text-align: right;\">\n",
       "      <th></th>\n",
       "      <th>num_orders</th>\n",
       "    </tr>\n",
       "    <tr>\n",
       "      <th>datetime</th>\n",
       "      <th></th>\n",
       "    </tr>\n",
       "  </thead>\n",
       "  <tbody>\n",
       "    <tr>\n",
       "      <th>2018-03-01 00:00:00</th>\n",
       "      <td>9</td>\n",
       "    </tr>\n",
       "    <tr>\n",
       "      <th>2018-03-01 00:10:00</th>\n",
       "      <td>14</td>\n",
       "    </tr>\n",
       "    <tr>\n",
       "      <th>2018-03-01 00:20:00</th>\n",
       "      <td>28</td>\n",
       "    </tr>\n",
       "    <tr>\n",
       "      <th>2018-03-01 00:30:00</th>\n",
       "      <td>20</td>\n",
       "    </tr>\n",
       "    <tr>\n",
       "      <th>2018-03-01 00:40:00</th>\n",
       "      <td>32</td>\n",
       "    </tr>\n",
       "    <tr>\n",
       "      <th>...</th>\n",
       "      <td>...</td>\n",
       "    </tr>\n",
       "    <tr>\n",
       "      <th>2018-08-31 23:10:00</th>\n",
       "      <td>32</td>\n",
       "    </tr>\n",
       "    <tr>\n",
       "      <th>2018-08-31 23:20:00</th>\n",
       "      <td>24</td>\n",
       "    </tr>\n",
       "    <tr>\n",
       "      <th>2018-08-31 23:30:00</th>\n",
       "      <td>27</td>\n",
       "    </tr>\n",
       "    <tr>\n",
       "      <th>2018-08-31 23:40:00</th>\n",
       "      <td>39</td>\n",
       "    </tr>\n",
       "    <tr>\n",
       "      <th>2018-08-31 23:50:00</th>\n",
       "      <td>53</td>\n",
       "    </tr>\n",
       "  </tbody>\n",
       "</table>\n",
       "<p>26496 rows × 1 columns</p>\n",
       "</div>"
      ],
      "text/plain": [
       "                     num_orders\n",
       "datetime                       \n",
       "2018-03-01 00:00:00           9\n",
       "2018-03-01 00:10:00          14\n",
       "2018-03-01 00:20:00          28\n",
       "2018-03-01 00:30:00          20\n",
       "2018-03-01 00:40:00          32\n",
       "...                         ...\n",
       "2018-08-31 23:10:00          32\n",
       "2018-08-31 23:20:00          24\n",
       "2018-08-31 23:30:00          27\n",
       "2018-08-31 23:40:00          39\n",
       "2018-08-31 23:50:00          53\n",
       "\n",
       "[26496 rows x 1 columns]"
      ]
     },
     "execution_count": 3,
     "metadata": {},
     "output_type": "execute_result"
    }
   ],
   "source": [
    "data"
   ]
  },
  {
   "cell_type": "code",
   "execution_count": 4,
   "metadata": {},
   "outputs": [
    {
     "name": "stdout",
     "output_type": "stream",
     "text": [
      "<class 'pandas.core.frame.DataFrame'>\n",
      "DatetimeIndex: 26496 entries, 2018-03-01 00:00:00 to 2018-08-31 23:50:00\n",
      "Data columns (total 1 columns):\n",
      " #   Column      Non-Null Count  Dtype\n",
      "---  ------      --------------  -----\n",
      " 0   num_orders  26496 non-null  int64\n",
      "dtypes: int64(1)\n",
      "memory usage: 414.0 KB\n"
     ]
    }
   ],
   "source": [
    "data.info()"
   ]
  },
  {
   "cell_type": "code",
   "execution_count": 5,
   "metadata": {},
   "outputs": [],
   "source": [
    "data.sort_index(inplace=True)"
   ]
  },
  {
   "cell_type": "code",
   "execution_count": 6,
   "metadata": {},
   "outputs": [
    {
     "data": {
      "text/plain": [
       "True"
      ]
     },
     "execution_count": 6,
     "metadata": {},
     "output_type": "execute_result"
    }
   ],
   "source": [
    "data.index.is_monotonic"
   ]
  },
  {
   "cell_type": "code",
   "execution_count": 7,
   "metadata": {},
   "outputs": [],
   "source": [
    "data_11 = data.copy()\n",
    "data_12 = data.copy()\n",
    "data_13 = data.copy()\n",
    "data = round(data.resample('1H').sum())\n",
    "data_day = round(data_11.resample('D').sum())\n",
    "data_week = round(data_12.resample('W').sum())\n",
    "data_month = round(data_12.resample('M').sum())"
   ]
  },
  {
   "cell_type": "code",
   "execution_count": 8,
   "metadata": {},
   "outputs": [
    {
     "name": "stdout",
     "output_type": "stream",
     "text": [
      "<class 'pandas.core.frame.DataFrame'>\n",
      "DatetimeIndex: 4416 entries, 2018-03-01 00:00:00 to 2018-08-31 23:00:00\n",
      "Freq: H\n",
      "Data columns (total 1 columns):\n",
      " #   Column      Non-Null Count  Dtype\n",
      "---  ------      --------------  -----\n",
      " 0   num_orders  4416 non-null   int64\n",
      "dtypes: int64(1)\n",
      "memory usage: 69.0 KB\n"
     ]
    }
   ],
   "source": [
    "data.info()"
   ]
  },
  {
   "cell_type": "code",
   "execution_count": 9,
   "metadata": {},
   "outputs": [],
   "source": [
    "data1 = data.copy()\n",
    "data2 = data.copy()"
   ]
  },
  {
   "cell_type": "markdown",
   "metadata": {},
   "source": [
    "Загружены данные о количестве заказов такси. Данные о количестве заказов представлены с начала марта 2018 года по конец агуста 2018 года. Данные не имеют пропусков. Даты переведены в формат Datetime. Датасет отсортирован по убыванию дат. Данные ресемплированы в размере 1 часа."
   ]
  },
  {
   "cell_type": "markdown",
   "metadata": {},
   "source": [
    "## Анализ"
   ]
  },
  {
   "cell_type": "code",
   "execution_count": 10,
   "metadata": {},
   "outputs": [
    {
     "data": {
      "text/plain": [
       "<AxesSubplot:xlabel='datetime'>"
      ]
     },
     "execution_count": 10,
     "metadata": {},
     "output_type": "execute_result"
    },
    {
     "data": {
      "image/png": "[encoded data removed]",
      "text/plain": [
       "<Figure size 432x288 with 1 Axes>"
      ]
     },
     "metadata": {
      "needs_background": "light"
     },
     "output_type": "display_data"
    }
   ],
   "source": [
    "data_month['rolling_mean'] = data_month.rolling(2).mean()\n",
    "data_month.plot()"
   ]
  },
  {
   "cell_type": "code",
   "execution_count": 11,
   "metadata": {},
   "outputs": [],
   "source": [
    "data_month=data_month.drop('rolling_mean', axis=1)"
   ]
  },
  {
   "cell_type": "code",
   "execution_count": null,
   "metadata": {},
   "outputs": [],
   "source": []
  },
  {
   "cell_type": "code",
   "execution_count": 12,
   "metadata": {},
   "outputs": [
    {
     "data": {
      "text/plain": [
       "<AxesSubplot:xlabel='datetime'>"
      ]
     },
     "execution_count": 12,
     "metadata": {},
     "output_type": "execute_result"
    },
    {
     "data": {
      "image/png": "[encoded data removed]",
      "text/plain": [
       "<Figure size 432x288 with 1 Axes>"
      ]
     },
     "metadata": {
      "needs_background": "light"
     },
     "output_type": "display_data"
    }
   ],
   "source": [
    "data_week['rolling_mean'] = data_week.rolling(2).mean()\n",
    "data_week.plot()"
   ]
  },
  {
   "cell_type": "code",
   "execution_count": 13,
   "metadata": {},
   "outputs": [
    {
     "data": {
      "text/plain": [
       "<AxesSubplot:xlabel='datetime'>"
      ]
     },
     "execution_count": 13,
     "metadata": {},
     "output_type": "execute_result"
    },
    {
     "data": {
      "image/png": "[encoded data removed]",
      "text/plain": [
       "<Figure size 432x288 with 1 Axes>"
      ]
     },
     "metadata": {
      "needs_background": "light"
     },
     "output_type": "display_data"
    }
   ],
   "source": [
    "data_day['rolling_mean'] = data_day.rolling(2).mean()\n",
    "data_day.plot()"
   ]
  },
  {
   "cell_type": "code",
   "execution_count": 14,
   "metadata": {},
   "outputs": [
    {
     "data": {
      "text/plain": [
       "<AxesSubplot:xlabel='datetime'>"
      ]
     },
     "execution_count": 14,
     "metadata": {},
     "output_type": "execute_result"
    },
    {
     "data": {
      "image/png": "[encoded data removed]",
      "text/plain": [
       "<Figure size 432x288 with 1 Axes>"
      ]
     },
     "metadata": {
      "needs_background": "light"
     },
     "output_type": "display_data"
    }
   ],
   "source": [
    "data_day['2018-04-01':'2018-04-14'].plot()"
   ]
  },
  {
   "cell_type": "code",
   "execution_count": 15,
   "metadata": {},
   "outputs": [],
   "source": [
    "data_day = data_day.drop('rolling_mean', axis=1)"
   ]
  },
  {
   "cell_type": "code",
   "execution_count": 16,
   "metadata": {},
   "outputs": [],
   "source": [
    "decomposed = seasonal_decompose(data_day)"
   ]
  },
  {
   "cell_type": "code",
   "execution_count": 17,
   "metadata": {},
   "outputs": [
    {
     "data": {
      "text/plain": [
       "Text(0.5, 1.0, 'Trend day')"
      ]
     },
     "execution_count": 17,
     "metadata": {},
     "output_type": "execute_result"
    },
    {
     "data": {
      "image/png": "[encoded data removed]",
      "text/plain": [
       "<Figure size 432x288 with 1 Axes>"
      ]
     },
     "metadata": {
      "needs_background": "light"
     },
     "output_type": "display_data"
    }
   ],
   "source": [
    "decomposed.trend['2018-04-01':'2018-04-14'].plot(ax=plt.gca())\n",
    "plt.title('Trend day')"
   ]
  },
  {
   "cell_type": "code",
   "execution_count": 18,
   "metadata": {},
   "outputs": [
    {
     "data": {
      "text/plain": [
       "Text(0.5, 1.0, 'Seasonality day')"
      ]
     },
     "execution_count": 18,
     "metadata": {},
     "output_type": "execute_result"
    },
    {
     "data": {
      "image/png": "[encoded data removed]",
      "text/plain": [
       "<Figure size 432x288 with 1 Axes>"
      ]
     },
     "metadata": {
      "needs_background": "light"
     },
     "output_type": "display_data"
    }
   ],
   "source": [
    "decomposed.seasonal['2018-04-01':'2018-04-14'].plot(ax=plt.gca())\n",
    "plt.title('Seasonality day')"
   ]
  },
  {
   "cell_type": "code",
   "execution_count": 19,
   "metadata": {},
   "outputs": [
    {
     "data": {
      "text/plain": [
       "<AxesSubplot:xlabel='datetime'>"
      ]
     },
     "execution_count": 19,
     "metadata": {},
     "output_type": "execute_result"
    },
    {
     "data": {
      "image/png": "[encoded data removed]",
      "text/plain": [
       "<Figure size 432x288 with 1 Axes>"
      ]
     },
     "metadata": {
      "needs_background": "light"
     },
     "output_type": "display_data"
    }
   ],
   "source": [
    "data['rolling_mean'] = data.rolling(24).mean()\n",
    "data.plot()"
   ]
  },
  {
   "cell_type": "code",
   "execution_count": 20,
   "metadata": {},
   "outputs": [
    {
     "data": {
      "text/plain": [
       "<AxesSubplot:xlabel='datetime'>"
      ]
     },
     "execution_count": 20,
     "metadata": {},
     "output_type": "execute_result"
    },
    {
     "data": {
      "image/png": "[encoded data removed]",
      "text/plain": [
       "<Figure size 432x288 with 1 Axes>"
      ]
     },
     "metadata": {
      "needs_background": "light"
     },
     "output_type": "display_data"
    }
   ],
   "source": [
    "data['2018-04-01':'2018-04-02'].plot()"
   ]
  },
  {
   "cell_type": "code",
   "execution_count": 21,
   "metadata": {},
   "outputs": [],
   "source": [
    "data=data.drop('rolling_mean', axis=1)"
   ]
  },
  {
   "cell_type": "code",
   "execution_count": 22,
   "metadata": {},
   "outputs": [],
   "source": [
    "decomposed = seasonal_decompose(data)"
   ]
  },
  {
   "cell_type": "code",
   "execution_count": 23,
   "metadata": {},
   "outputs": [
    {
     "data": {
      "text/plain": [
       "Text(0.5, 1.0, 'Trend hour')"
      ]
     },
     "execution_count": 23,
     "metadata": {},
     "output_type": "execute_result"
    },
    {
     "data": {
      "image/png": "[encoded data removed]",
      "text/plain": [
       "<Figure size 432x288 with 1 Axes>"
      ]
     },
     "metadata": {
      "needs_background": "light"
     },
     "output_type": "display_data"
    }
   ],
   "source": [
    "decomposed.trend['2018-04-01':'2018-04-02'].plot(ax=plt.gca())\n",
    "plt.title('Trend hour')"
   ]
  },
  {
   "cell_type": "code",
   "execution_count": 24,
   "metadata": {},
   "outputs": [
    {
     "data": {
      "text/plain": [
       "Text(0.5, 1.0, 'Seasonality day')"
      ]
     },
     "execution_count": 24,
     "metadata": {},
     "output_type": "execute_result"
    },
    {
     "data": {
      "image/png": "[encoded data removed]",
      "text/plain": [
       "<Figure size 432x288 with 1 Axes>"
      ]
     },
     "metadata": {
      "needs_background": "light"
     },
     "output_type": "display_data"
    }
   ],
   "source": [
    "decomposed.seasonal['2018-04-01':'2018-04-02'].plot(ax=plt.gca())\n",
    "plt.title('Seasonality day')"
   ]
  },
  {
   "cell_type": "markdown",
   "metadata": {},
   "source": [
    "Количество заказов такси имеет тренд к росту от марта к августу с незначительными спадами, в начале всех месяцев и середине некоторых месяцев. Анализ недельных колебаний количества заказов говорит о 2-х пиках заказов (пятница и понедельник) в неделю и 2-х спадах (воскресение и вторник). Анализ колебаний количества заказов в течении суток показывает большой минимум заказов в 6 утра  2 маленьких минимума в 12 и 12 часов. Большой пик в 12 часов ночи и 2 малых пика в 10 утра и 16 часов дня. "
   ]
  },
  {
   "cell_type": "markdown",
   "metadata": {},
   "source": [
    "## Обучение"
   ]
  },
  {
   "cell_type": "code",
   "execution_count": 25,
   "metadata": {},
   "outputs": [],
   "source": [
    "score = make_scorer(mean_squared_error, greater_is_better=True)"
   ]
  },
  {
   "cell_type": "code",
   "execution_count": 26,
   "metadata": {},
   "outputs": [],
   "source": [
    "def make_features(data, max_lag, rolling_mean_size):\n",
    "    data['dayofweek'] = data.index.dayofweek\n",
    "    data['hour'] = data.index.hour\n",
    "    \n",
    "    for lag in range(1, max_lag + 1):\n",
    "        data['lag_{}'.format(lag)] = data['num_orders'].shift(lag)\n",
    "\n",
    "    data['rolling_mean'] = data['num_orders'].shift().rolling(rolling_mean_size).mean()"
   ]
  },
  {
   "cell_type": "code",
   "execution_count": 27,
   "metadata": {},
   "outputs": [],
   "source": [
    "data3 = data.copy()"
   ]
  },
  {
   "cell_type": "code",
   "execution_count": 28,
   "metadata": {},
   "outputs": [
    {
     "name": "stdout",
     "output_type": "stream",
     "text": [
      "RMSE линейная регрессия 30.9747019636723\n"
     ]
    }
   ],
   "source": [
    "make_features(data3, 1, 25)\n",
    "train, test = train_test_split(data3, shuffle=False, test_size=0.1)\n",
    "train = train.dropna()\n",
    "\n",
    "train_features = train.drop(['num_orders'], axis=1)\n",
    "train_target = train[['num_orders']]\n",
    "test_features = test.drop(['num_orders'], axis=1)\n",
    "test_target = test[['num_orders']]\n",
    "model = LinearRegression() \n",
    "model.fit(train_features, train_target)\n",
    "cv_result = cross_validate(model, train_features, train_target, scoring=score, cv=5)\n",
    "rmse = cv_result['test_score'].mean()**0.5\n",
    "\n",
    "\n",
    "print('RMSE линейная регрессия', rmse)"
   ]
  },
  {
   "cell_type": "code",
   "execution_count": 29,
   "metadata": {},
   "outputs": [
    {
     "data": {
      "text/html": [
       "<div>\n",
       "<style scoped>\n",
       "    .dataframe tbody tr th:only-of-type {\n",
       "        vertical-align: middle;\n",
       "    }\n",
       "\n",
       "    .dataframe tbody tr th {\n",
       "        vertical-align: top;\n",
       "    }\n",
       "\n",
       "    .dataframe thead th {\n",
       "        text-align: right;\n",
       "    }\n",
       "</style>\n",
       "<table border=\"1\" class=\"dataframe\">\n",
       "  <thead>\n",
       "    <tr style=\"text-align: right;\">\n",
       "      <th></th>\n",
       "      <th>num_orders</th>\n",
       "      <th>dayofweek</th>\n",
       "      <th>hour</th>\n",
       "      <th>lag_1</th>\n",
       "      <th>rolling_mean</th>\n",
       "    </tr>\n",
       "    <tr>\n",
       "      <th>datetime</th>\n",
       "      <th></th>\n",
       "      <th></th>\n",
       "      <th></th>\n",
       "      <th></th>\n",
       "      <th></th>\n",
       "    </tr>\n",
       "  </thead>\n",
       "  <tbody>\n",
       "    <tr>\n",
       "      <th>2018-03-02 01:00:00</th>\n",
       "      <td>120</td>\n",
       "      <td>4</td>\n",
       "      <td>1</td>\n",
       "      <td>90.0</td>\n",
       "      <td>58.16</td>\n",
       "    </tr>\n",
       "    <tr>\n",
       "      <th>2018-03-02 02:00:00</th>\n",
       "      <td>75</td>\n",
       "      <td>4</td>\n",
       "      <td>2</td>\n",
       "      <td>120.0</td>\n",
       "      <td>58.00</td>\n",
       "    </tr>\n",
       "    <tr>\n",
       "      <th>2018-03-02 03:00:00</th>\n",
       "      <td>64</td>\n",
       "      <td>4</td>\n",
       "      <td>3</td>\n",
       "      <td>75.0</td>\n",
       "      <td>57.60</td>\n",
       "    </tr>\n",
       "    <tr>\n",
       "      <th>2018-03-02 04:00:00</th>\n",
       "      <td>20</td>\n",
       "      <td>4</td>\n",
       "      <td>4</td>\n",
       "      <td>64.0</td>\n",
       "      <td>57.32</td>\n",
       "    </tr>\n",
       "    <tr>\n",
       "      <th>2018-03-02 05:00:00</th>\n",
       "      <td>11</td>\n",
       "      <td>4</td>\n",
       "      <td>5</td>\n",
       "      <td>20.0</td>\n",
       "      <td>55.48</td>\n",
       "    </tr>\n",
       "    <tr>\n",
       "      <th>...</th>\n",
       "      <td>...</td>\n",
       "      <td>...</td>\n",
       "      <td>...</td>\n",
       "      <td>...</td>\n",
       "      <td>...</td>\n",
       "    </tr>\n",
       "    <tr>\n",
       "      <th>2018-08-13 09:00:00</th>\n",
       "      <td>137</td>\n",
       "      <td>0</td>\n",
       "      <td>9</td>\n",
       "      <td>91.0</td>\n",
       "      <td>132.56</td>\n",
       "    </tr>\n",
       "    <tr>\n",
       "      <th>2018-08-13 10:00:00</th>\n",
       "      <td>156</td>\n",
       "      <td>0</td>\n",
       "      <td>10</td>\n",
       "      <td>137.0</td>\n",
       "      <td>134.16</td>\n",
       "    </tr>\n",
       "    <tr>\n",
       "      <th>2018-08-13 11:00:00</th>\n",
       "      <td>144</td>\n",
       "      <td>0</td>\n",
       "      <td>11</td>\n",
       "      <td>156.0</td>\n",
       "      <td>136.08</td>\n",
       "    </tr>\n",
       "    <tr>\n",
       "      <th>2018-08-13 12:00:00</th>\n",
       "      <td>92</td>\n",
       "      <td>0</td>\n",
       "      <td>12</td>\n",
       "      <td>144.0</td>\n",
       "      <td>137.52</td>\n",
       "    </tr>\n",
       "    <tr>\n",
       "      <th>2018-08-13 13:00:00</th>\n",
       "      <td>119</td>\n",
       "      <td>0</td>\n",
       "      <td>13</td>\n",
       "      <td>92.0</td>\n",
       "      <td>137.96</td>\n",
       "    </tr>\n",
       "  </tbody>\n",
       "</table>\n",
       "<p>3949 rows × 5 columns</p>\n",
       "</div>"
      ],
      "text/plain": [
       "                     num_orders  dayofweek  hour  lag_1  rolling_mean\n",
       "datetime                                                             \n",
       "2018-03-02 01:00:00         120          4     1   90.0         58.16\n",
       "2018-03-02 02:00:00          75          4     2  120.0         58.00\n",
       "2018-03-02 03:00:00          64          4     3   75.0         57.60\n",
       "2018-03-02 04:00:00          20          4     4   64.0         57.32\n",
       "2018-03-02 05:00:00          11          4     5   20.0         55.48\n",
       "...                         ...        ...   ...    ...           ...\n",
       "2018-08-13 09:00:00         137          0     9   91.0        132.56\n",
       "2018-08-13 10:00:00         156          0    10  137.0        134.16\n",
       "2018-08-13 11:00:00         144          0    11  156.0        136.08\n",
       "2018-08-13 12:00:00          92          0    12  144.0        137.52\n",
       "2018-08-13 13:00:00         119          0    13   92.0        137.96\n",
       "\n",
       "[3949 rows x 5 columns]"
      ]
     },
     "execution_count": 29,
     "metadata": {},
     "output_type": "execute_result"
    }
   ],
   "source": [
    "train"
   ]
  },
  {
   "cell_type": "code",
   "execution_count": 30,
   "metadata": {},
   "outputs": [],
   "source": [
    "param_set = {\n",
    " 'n_estimators':[70, 80, 90, 100, 120, 150],\n",
    " 'max_depth': [8, 9, 10, 12, 15]\n",
    "}"
   ]
  },
  {
   "cell_type": "code",
   "execution_count": 31,
   "metadata": {},
   "outputs": [],
   "source": [
    "data4 = data.copy()"
   ]
  },
  {
   "cell_type": "code",
   "execution_count": 32,
   "metadata": {},
   "outputs": [
    {
     "name": "stdout",
     "output_type": "stream",
     "text": [
      "RMSE случайный лес 19.72622413087037\n"
     ]
    }
   ],
   "source": [
    "make_features(data4, 1, 25)\n",
    "train, test = train_test_split(data4, shuffle=False, test_size=0.1)\n",
    "train = train.dropna()\n",
    "\n",
    "train_features = train.drop(['num_orders'], axis=1)\n",
    "train_target = train[['num_orders']]\n",
    "test_features = test.drop(['num_orders'], axis=1)\n",
    "test_target = test[['num_orders']]\n",
    "\n",
    "model_rf = RandomForestRegressor(random_state=12345) \n",
    "model_rf = GridSearchCV(model_rf, param_grid = param_set, cv=5, scoring = score)\n",
    "model_rf.fit(train_features, train_target)\n",
    "rmse_rf = model_rf.score(train_features, train_target)**0.5\n",
    "\n",
    "print('RMSE случайный лес', rmse_rf)"
   ]
  },
  {
   "cell_type": "code",
   "execution_count": 33,
   "metadata": {},
   "outputs": [],
   "source": [
    "max_depth = model_rf.best_params_['max_depth']\n",
    "n_estimators = model_rf.best_params_['n_estimators']"
   ]
  },
  {
   "cell_type": "code",
   "execution_count": 34,
   "metadata": {},
   "outputs": [
    {
     "data": {
      "text/plain": [
       "{'max_depth': 8, 'n_estimators': 70}"
      ]
     },
     "execution_count": 34,
     "metadata": {},
     "output_type": "execute_result"
    }
   ],
   "source": [
    "model_rf.best_params_"
   ]
  },
  {
   "cell_type": "markdown",
   "metadata": {},
   "source": [
    "Создадим дополнительные признаки (сдивинутые данные о заказах и скользящее среднее) для обучения моделей машинного обрученияю. Обучим модели линиейной регрессии и случайного леса. Для модели случайного леса подберем гиперпараметры. Сохраним подобранные параметры случайного леса для дальнейшего  создания модели случайного леса. Кросс-валидируем модели. RMSE линейной регрессии 31 заказа. RMSE случайного леса 20 заказов."
   ]
  },
  {
   "cell_type": "markdown",
   "metadata": {},
   "source": [
    "## Тестирование"
   ]
  },
  {
   "cell_type": "code",
   "execution_count": 35,
   "metadata": {},
   "outputs": [
    {
     "data": {
      "text/plain": [
       "LinearRegression()"
      ]
     },
     "execution_count": 35,
     "metadata": {},
     "output_type": "execute_result"
    }
   ],
   "source": [
    "data5 = data.copy()\n",
    "make_features(data5, 1, 25)\n",
    "train, test = train_test_split(data5, shuffle=False, test_size=0.1)\n",
    "train = train.dropna()\n",
    "\n",
    "train_features = train.drop(['num_orders'], axis=1)\n",
    "train_target = train[['num_orders']]\n",
    "test_features = test.drop(['num_orders'], axis=1)\n",
    "test_target = test[['num_orders']]\n",
    "model = LinearRegression() \n",
    "model.fit(train_features, train_target)"
   ]
  },
  {
   "cell_type": "code",
   "execution_count": 36,
   "metadata": {},
   "outputs": [
    {
     "data": {
      "text/plain": [
       "GridSearchCV(cv=5, estimator=RandomForestRegressor(random_state=12345),\n",
       "             param_grid={'max_depth': [8, 9, 10, 12, 15],\n",
       "                         'n_estimators': [70, 80, 90, 100, 120, 150]},\n",
       "             scoring=make_scorer(mean_squared_error))"
      ]
     },
     "execution_count": 36,
     "metadata": {},
     "output_type": "execute_result"
    }
   ],
   "source": [
    "data6 = data.copy()\n",
    "make_features(data6, 1, 25)\n",
    "train_1, test_1 = train_test_split(data6, shuffle=False, test_size=0.1)\n",
    "train_1 = train_1.dropna()\n",
    "\n",
    "train_features_1 = train_1.drop(['num_orders'], axis=1)\n",
    "train_target_1 = train_1[['num_orders']]\n",
    "test_features_1 = test_1.drop(['num_orders'], axis=1)\n",
    "test_target_1 = test_1[['num_orders']]\n",
    "model_rf = RandomForestRegressor(random_state=12345)\n",
    "model_rf = GridSearchCV(model_rf, param_grid = param_set, cv=5, scoring = score)\n",
    "model_rf.fit(train_features_1, train_target_1)\n"
   ]
  },
  {
   "cell_type": "code",
   "execution_count": 37,
   "metadata": {},
   "outputs": [
    {
     "name": "stdout",
     "output_type": "stream",
     "text": [
      "50.95960724526439\n"
     ]
    }
   ],
   "source": [
    "predict_test = model.predict(test_features)\n",
    "rmse_test = mean_squared_error(test_target, predict_test, squared=False)\n",
    "print(rmse_test)\n",
    "predict_test = pd.Series(data = predict_test[:,0],dtype='int32', index=test_target.index, name = 'predict_num_orders')\n",
    "predict_targert_test = pd.concat([predict_test, test_target], axis=1)\n"
   ]
  },
  {
   "cell_type": "code",
   "execution_count": 38,
   "metadata": {},
   "outputs": [
    {
     "data": {
      "text/plain": [
       "<AxesSubplot:xlabel='datetime'>"
      ]
     },
     "execution_count": 38,
     "metadata": {},
     "output_type": "execute_result"
    },
    {
     "data": {
      "image/png": "[encoded data removed]",
      "text/plain": [
       "<Figure size 1080x576 with 1 Axes>"
      ]
     },
     "metadata": {
      "needs_background": "light"
     },
     "output_type": "display_data"
    }
   ],
   "source": [
    "predict_targert_test['2018-08-13':'2018-08-15'].plot(figsize=(15, 8))"
   ]
  },
  {
   "cell_type": "code",
   "execution_count": 39,
   "metadata": {},
   "outputs": [
    {
     "name": "stdout",
     "output_type": "stream",
     "text": [
      "47.67285086659229\n"
     ]
    }
   ],
   "source": [
    "predict_test_rf = model_rf.predict(test_features_1)\n",
    "rmse_test_rf = mean_squared_error(test_target_1, predict_test_rf, squared=False)\n",
    "print(rmse_test_rf)\n",
    "predict_test_rf\n",
    "predict_test_rf = pd.Series(predict_test_rf, index=test_target_1.index, name = 'predict_num_orders')\n",
    "predict_targert_test_rf = pd.concat([predict_test_rf, test_target_1], axis=1)\n"
   ]
  },
  {
   "cell_type": "code",
   "execution_count": 40,
   "metadata": {},
   "outputs": [
    {
     "data": {
      "text/plain": [
       "<AxesSubplot:xlabel='datetime'>"
      ]
     },
     "execution_count": 40,
     "metadata": {},
     "output_type": "execute_result"
    },
    {
     "data": {
      "image/png": "[encoded data removed]",
      "text/plain": [
       "<Figure size 1080x576 with 1 Axes>"
      ]
     },
     "metadata": {
      "needs_background": "light"
     },
     "output_type": "display_data"
    }
   ],
   "source": [
    "predict_targert_test_rf['2018-08-13':'2018-08-15'].plot(figsize=(15, 8))"
   ]
  },
  {
   "cell_type": "code",
   "execution_count": 41,
   "metadata": {},
   "outputs": [
    {
     "name": "stdout",
     "output_type": "stream",
     "text": [
      "84.65205585624815\n"
     ]
    }
   ],
   "source": [
    "dr = DummyRegressor()\n",
    "dr.fit(train_features, train_target)\n",
    "dr_predict = dr.predict(test_features)\n",
    "dr_rmse = mean_squared_error(test_target, dr_predict, squared=False)\n",
    "print(dr_rmse)"
   ]
  },
  {
   "cell_type": "markdown",
   "metadata": {},
   "source": [
    "На тестовой выборке модели показали следующие результаты RMSE. Линейная регрессия - 51 заказ, Случайный лес - 48 заказов, Случайный регрессор - 85 заказов. Для предсказаний количества заказов такси предлагается использовать модель случайного леса (деревьям входящим в него лучше удается предсказать пики заказов)."
   ]
  },
  {
   "cell_type": "markdown",
   "metadata": {},
   "source": [
    "Вывод по проекту.<br> Представлены данные о заказах такси с марта 2018 по август 2018. Данные ресемлированы в размере 1 дня.<br> Количество заказов имеет тренд к росту. Количество заказов падает в начале каждого месяца и в середине некоторых месяцев. Пиковыми днями для заказов являются пятница и понедельник. Наибольший спад в заказах отмечается в воскресение и вторник. Пиковыми часами заказа такси является 10 часов утра, 16 часов дня и 12 часов ночи, пиковыми спадами в заказах являются 6 часов утра, 12 часов дня и 18 часов вечера.<br> Подготовлены признаки для обучения моделей. Обучены модели линейной регрессии и случайного леса. Для модели случайного леса подобраны гиперпараметры. Лучшую метрику RMSE на обучающей выборке показала модель случайного леса - 20 заказов. На тестовых данных лучшую метрику показала модель случайного леса - 48 заказов (из-за лучшей адаптации модели к резкому росту целевого признака).<br> Предлагается к использованию предсказания количества заказов такси модель случайного леса."
   ]
  },
  {
   "cell_type": "code",
   "execution_count": null,
   "metadata": {},
   "outputs": [],
   "source": []
  }
 ],
 "metadata": {
  "ExecuteTimeLog": [
   {
    "duration": 221,
    "start_time": "2022-07-11T17:24:02.146Z"
   },
   {
    "duration": 141,
    "start_time": "2022-07-11T17:24:03.312Z"
   },
   {
    "duration": 44,
    "start_time": "2022-07-11T17:24:30.182Z"
   },
   {
    "duration": 32,
    "start_time": "2022-07-11T17:24:42.395Z"
   },
   {
    "duration": 80,
    "start_time": "2022-07-11T17:25:29.674Z"
   },
   {
    "duration": 13,
    "start_time": "2022-07-11T17:25:46.291Z"
   },
   {
    "duration": 34,
    "start_time": "2022-07-11T17:27:24.931Z"
   },
   {
    "duration": 9,
    "start_time": "2022-07-11T17:27:25.752Z"
   },
   {
    "duration": 3,
    "start_time": "2022-07-11T17:28:18.447Z"
   },
   {
    "duration": 11,
    "start_time": "2022-07-11T17:32:47.104Z"
   },
   {
    "duration": 16,
    "start_time": "2022-07-11T17:33:50.556Z"
   },
   {
    "duration": 14,
    "start_time": "2022-07-11T17:35:00.695Z"
   },
   {
    "duration": 1130,
    "start_time": "2022-07-11T17:46:32.393Z"
   },
   {
    "duration": 437,
    "start_time": "2022-07-11T17:47:38.836Z"
   },
   {
    "duration": 296,
    "start_time": "2022-07-11T17:48:08.456Z"
   },
   {
    "duration": 684,
    "start_time": "2022-07-11T17:49:06.319Z"
   },
   {
    "duration": 382,
    "start_time": "2022-07-11T17:49:35.141Z"
   },
   {
    "duration": 173,
    "start_time": "2022-07-11T17:50:28.440Z"
   },
   {
    "duration": 873,
    "start_time": "2022-07-11T17:52:44.757Z"
   },
   {
    "duration": 328,
    "start_time": "2022-07-11T17:54:50.443Z"
   },
   {
    "duration": 212,
    "start_time": "2022-07-11T17:55:00.042Z"
   },
   {
    "duration": 820,
    "start_time": "2022-07-11T17:55:50.243Z"
   },
   {
    "duration": 767,
    "start_time": "2022-07-11T17:55:57.322Z"
   },
   {
    "duration": 916,
    "start_time": "2022-07-11T17:56:06.912Z"
   },
   {
    "duration": 740,
    "start_time": "2022-07-11T17:56:20.484Z"
   },
   {
    "duration": 782,
    "start_time": "2022-07-11T17:56:28.021Z"
   },
   {
    "duration": 469,
    "start_time": "2022-07-11T17:56:39.468Z"
   },
   {
    "duration": 197,
    "start_time": "2022-07-11T17:56:50.045Z"
   },
   {
    "duration": 10,
    "start_time": "2022-07-11T17:58:29.642Z"
   },
   {
    "duration": 229,
    "start_time": "2022-07-11T17:58:34.199Z"
   },
   {
    "duration": 225,
    "start_time": "2022-07-11T17:58:40.987Z"
   },
   {
    "duration": 201,
    "start_time": "2022-07-11T17:58:48.937Z"
   },
   {
    "duration": 234,
    "start_time": "2022-07-11T17:58:52.183Z"
   },
   {
    "duration": 183,
    "start_time": "2022-07-11T17:59:00.809Z"
   },
   {
    "duration": 183,
    "start_time": "2022-07-11T17:59:45.183Z"
   },
   {
    "duration": 1422,
    "start_time": "2022-07-12T14:33:47.745Z"
   },
   {
    "duration": 344,
    "start_time": "2022-07-12T14:33:49.169Z"
   },
   {
    "duration": 4,
    "start_time": "2022-07-12T14:33:49.515Z"
   },
   {
    "duration": 10,
    "start_time": "2022-07-12T14:33:49.522Z"
   },
   {
    "duration": 14,
    "start_time": "2022-07-12T14:33:49.534Z"
   },
   {
    "duration": 218,
    "start_time": "2022-07-12T14:33:49.550Z"
   },
   {
    "duration": 162,
    "start_time": "2022-07-12T14:33:49.769Z"
   },
   {
    "duration": 189,
    "start_time": "2022-07-12T14:33:49.932Z"
   },
   {
    "duration": 156,
    "start_time": "2022-07-12T14:33:50.123Z"
   },
   {
    "duration": 4,
    "start_time": "2022-07-12T14:33:50.281Z"
   },
   {
    "duration": 1348,
    "start_time": "2022-07-12T14:33:50.286Z"
   },
   {
    "duration": 15,
    "start_time": "2022-07-12T14:34:48.678Z"
   },
   {
    "duration": 224,
    "start_time": "2022-07-12T14:35:29.931Z"
   },
   {
    "duration": 1410,
    "start_time": "2022-07-12T14:35:37.949Z"
   },
   {
    "duration": 47,
    "start_time": "2022-07-12T14:35:39.361Z"
   },
   {
    "duration": 2,
    "start_time": "2022-07-12T14:35:39.410Z"
   },
   {
    "duration": 9,
    "start_time": "2022-07-12T14:35:39.415Z"
   },
   {
    "duration": 11,
    "start_time": "2022-07-12T14:35:39.426Z"
   },
   {
    "duration": 11,
    "start_time": "2022-07-12T14:35:39.438Z"
   },
   {
    "duration": 204,
    "start_time": "2022-07-12T14:35:39.451Z"
   },
   {
    "duration": 161,
    "start_time": "2022-07-12T14:35:39.656Z"
   },
   {
    "duration": 192,
    "start_time": "2022-07-12T14:35:39.819Z"
   },
   {
    "duration": 184,
    "start_time": "2022-07-12T14:35:40.013Z"
   },
   {
    "duration": 4,
    "start_time": "2022-07-12T14:35:40.198Z"
   },
   {
    "duration": 14,
    "start_time": "2022-07-12T14:35:40.203Z"
   },
   {
    "duration": 1455,
    "start_time": "2022-07-12T14:36:07.979Z"
   },
   {
    "duration": 48,
    "start_time": "2022-07-12T14:36:09.436Z"
   },
   {
    "duration": 3,
    "start_time": "2022-07-12T14:36:09.486Z"
   },
   {
    "duration": 9,
    "start_time": "2022-07-12T14:36:09.491Z"
   },
   {
    "duration": 13,
    "start_time": "2022-07-12T14:36:09.502Z"
   },
   {
    "duration": 11,
    "start_time": "2022-07-12T14:36:09.516Z"
   },
   {
    "duration": 228,
    "start_time": "2022-07-12T14:36:09.529Z"
   },
   {
    "duration": 158,
    "start_time": "2022-07-12T14:36:09.759Z"
   },
   {
    "duration": 206,
    "start_time": "2022-07-12T14:36:09.919Z"
   },
   {
    "duration": 210,
    "start_time": "2022-07-12T14:36:10.127Z"
   },
   {
    "duration": 3,
    "start_time": "2022-07-12T14:36:10.338Z"
   },
   {
    "duration": 10,
    "start_time": "2022-07-12T14:36:10.342Z"
   },
   {
    "duration": 206,
    "start_time": "2022-07-12T14:36:33.739Z"
   },
   {
    "duration": 326,
    "start_time": "2022-07-12T14:37:06.038Z"
   },
   {
    "duration": 189,
    "start_time": "2022-07-12T14:37:58.691Z"
   },
   {
    "duration": 211,
    "start_time": "2022-07-12T14:38:18.475Z"
   },
   {
    "duration": 1327,
    "start_time": "2022-07-12T14:38:38.100Z"
   },
   {
    "duration": 45,
    "start_time": "2022-07-12T14:38:39.428Z"
   },
   {
    "duration": 4,
    "start_time": "2022-07-12T14:38:39.478Z"
   },
   {
    "duration": 8,
    "start_time": "2022-07-12T14:38:39.484Z"
   },
   {
    "duration": 15,
    "start_time": "2022-07-12T14:38:39.494Z"
   },
   {
    "duration": 11,
    "start_time": "2022-07-12T14:38:39.511Z"
   },
   {
    "duration": 223,
    "start_time": "2022-07-12T14:38:39.524Z"
   },
   {
    "duration": 156,
    "start_time": "2022-07-12T14:38:39.752Z"
   },
   {
    "duration": 203,
    "start_time": "2022-07-12T14:38:39.910Z"
   },
   {
    "duration": 195,
    "start_time": "2022-07-12T14:38:40.114Z"
   },
   {
    "duration": 2,
    "start_time": "2022-07-12T14:38:40.311Z"
   },
   {
    "duration": 9,
    "start_time": "2022-07-12T14:38:40.314Z"
   },
   {
    "duration": 103,
    "start_time": "2022-07-12T14:43:35.778Z"
   },
   {
    "duration": 3,
    "start_time": "2022-07-12T14:44:29.052Z"
   },
   {
    "duration": 11,
    "start_time": "2022-07-12T14:44:37.130Z"
   },
   {
    "duration": 1382,
    "start_time": "2022-07-12T14:44:46.062Z"
   },
   {
    "duration": 48,
    "start_time": "2022-07-12T14:44:47.446Z"
   },
   {
    "duration": 3,
    "start_time": "2022-07-12T14:44:47.496Z"
   },
   {
    "duration": 7,
    "start_time": "2022-07-12T14:44:47.501Z"
   },
   {
    "duration": 14,
    "start_time": "2022-07-12T14:44:47.511Z"
   },
   {
    "duration": 3,
    "start_time": "2022-07-12T14:44:47.526Z"
   },
   {
    "duration": 17,
    "start_time": "2022-07-12T14:44:47.531Z"
   },
   {
    "duration": 219,
    "start_time": "2022-07-12T14:44:47.551Z"
   },
   {
    "duration": 174,
    "start_time": "2022-07-12T14:44:47.772Z"
   },
   {
    "duration": 206,
    "start_time": "2022-07-12T14:44:47.948Z"
   },
   {
    "duration": 211,
    "start_time": "2022-07-12T14:44:48.156Z"
   },
   {
    "duration": 110,
    "start_time": "2022-07-12T14:44:48.369Z"
   },
   {
    "duration": 0,
    "start_time": "2022-07-12T14:44:48.480Z"
   },
   {
    "duration": 0,
    "start_time": "2022-07-12T14:44:48.482Z"
   },
   {
    "duration": 0,
    "start_time": "2022-07-12T14:44:48.482Z"
   },
   {
    "duration": 5,
    "start_time": "2022-07-12T14:44:58.360Z"
   },
   {
    "duration": 189,
    "start_time": "2022-07-12T14:45:00.944Z"
   },
   {
    "duration": 247,
    "start_time": "2022-07-12T14:45:21.208Z"
   },
   {
    "duration": 205,
    "start_time": "2022-07-12T14:46:06.239Z"
   },
   {
    "duration": 152,
    "start_time": "2022-07-12T14:47:23.014Z"
   },
   {
    "duration": 1291,
    "start_time": "2022-07-12T14:52:00.315Z"
   },
   {
    "duration": 47,
    "start_time": "2022-07-12T14:52:01.608Z"
   },
   {
    "duration": 3,
    "start_time": "2022-07-12T14:52:01.657Z"
   },
   {
    "duration": 14,
    "start_time": "2022-07-12T14:52:01.662Z"
   },
   {
    "duration": 14,
    "start_time": "2022-07-12T14:52:01.678Z"
   },
   {
    "duration": 7,
    "start_time": "2022-07-12T14:52:01.694Z"
   },
   {
    "duration": 18,
    "start_time": "2022-07-12T14:52:01.703Z"
   },
   {
    "duration": 197,
    "start_time": "2022-07-12T14:52:01.722Z"
   },
   {
    "duration": 167,
    "start_time": "2022-07-12T14:52:01.921Z"
   },
   {
    "duration": 205,
    "start_time": "2022-07-12T14:52:02.089Z"
   },
   {
    "duration": 193,
    "start_time": "2022-07-12T14:52:02.296Z"
   },
   {
    "duration": 5,
    "start_time": "2022-07-12T14:52:02.490Z"
   },
   {
    "duration": 195,
    "start_time": "2022-07-12T14:52:02.497Z"
   },
   {
    "duration": 225,
    "start_time": "2022-07-12T14:52:02.694Z"
   },
   {
    "duration": 96,
    "start_time": "2022-07-12T14:52:02.921Z"
   },
   {
    "duration": 0,
    "start_time": "2022-07-12T14:52:03.019Z"
   },
   {
    "duration": 3,
    "start_time": "2022-07-12T14:58:47.038Z"
   },
   {
    "duration": 3,
    "start_time": "2022-07-12T15:05:11.476Z"
   },
   {
    "duration": 4,
    "start_time": "2022-07-12T15:06:57.587Z"
   },
   {
    "duration": 1824,
    "start_time": "2022-07-12T17:10:38.011Z"
   },
   {
    "duration": 102,
    "start_time": "2022-07-12T17:10:39.840Z"
   },
   {
    "duration": 4,
    "start_time": "2022-07-12T17:10:39.944Z"
   },
   {
    "duration": 14,
    "start_time": "2022-07-12T17:10:39.950Z"
   },
   {
    "duration": 15,
    "start_time": "2022-07-12T17:10:39.966Z"
   },
   {
    "duration": 3,
    "start_time": "2022-07-12T17:10:39.983Z"
   },
   {
    "duration": 16,
    "start_time": "2022-07-12T17:10:39.988Z"
   },
   {
    "duration": 287,
    "start_time": "2022-07-12T17:10:40.006Z"
   },
   {
    "duration": 206,
    "start_time": "2022-07-12T17:10:40.295Z"
   },
   {
    "duration": 249,
    "start_time": "2022-07-12T17:10:40.503Z"
   },
   {
    "duration": 242,
    "start_time": "2022-07-12T17:10:40.754Z"
   },
   {
    "duration": 5,
    "start_time": "2022-07-12T17:10:40.998Z"
   },
   {
    "duration": 244,
    "start_time": "2022-07-12T17:10:41.005Z"
   },
   {
    "duration": 286,
    "start_time": "2022-07-12T17:10:41.252Z"
   },
   {
    "duration": 3,
    "start_time": "2022-07-12T17:10:41.541Z"
   },
   {
    "duration": 9,
    "start_time": "2022-07-12T17:10:41.546Z"
   },
   {
    "duration": 6,
    "start_time": "2022-07-12T17:10:41.557Z"
   },
   {
    "duration": 5,
    "start_time": "2022-07-12T17:11:07.752Z"
   },
   {
    "duration": 147,
    "start_time": "2022-07-12T17:16:04.668Z"
   },
   {
    "duration": 24,
    "start_time": "2022-07-12T17:16:31.095Z"
   },
   {
    "duration": 2,
    "start_time": "2022-07-12T17:16:41.509Z"
   },
   {
    "duration": 5,
    "start_time": "2022-07-12T17:16:43.039Z"
   },
   {
    "duration": 71,
    "start_time": "2022-07-12T17:16:43.921Z"
   },
   {
    "duration": 6,
    "start_time": "2022-07-12T17:19:50.177Z"
   },
   {
    "duration": 1191,
    "start_time": "2022-07-12T17:19:58.039Z"
   },
   {
    "duration": 1133,
    "start_time": "2022-07-12T17:20:40.928Z"
   },
   {
    "duration": 83,
    "start_time": "2022-07-12T17:20:51.903Z"
   },
   {
    "duration": 1065,
    "start_time": "2022-07-12T17:21:21.413Z"
   },
   {
    "duration": 1178,
    "start_time": "2022-07-12T17:21:41.680Z"
   },
   {
    "duration": 1144,
    "start_time": "2022-07-12T17:22:29.196Z"
   },
   {
    "duration": 1307,
    "start_time": "2022-07-12T17:26:17.497Z"
   },
   {
    "duration": 70,
    "start_time": "2022-07-12T17:27:28.973Z"
   },
   {
    "duration": 1592,
    "start_time": "2022-07-12T17:27:56.796Z"
   },
   {
    "duration": 42,
    "start_time": "2022-07-12T17:27:58.391Z"
   },
   {
    "duration": 7,
    "start_time": "2022-07-12T17:27:58.434Z"
   },
   {
    "duration": 23,
    "start_time": "2022-07-12T17:27:58.443Z"
   },
   {
    "duration": 28,
    "start_time": "2022-07-12T17:27:58.468Z"
   },
   {
    "duration": 4,
    "start_time": "2022-07-12T17:27:58.499Z"
   },
   {
    "duration": 30,
    "start_time": "2022-07-12T17:27:58.505Z"
   },
   {
    "duration": 347,
    "start_time": "2022-07-12T17:27:58.537Z"
   },
   {
    "duration": 302,
    "start_time": "2022-07-12T17:27:58.887Z"
   },
   {
    "duration": 315,
    "start_time": "2022-07-12T17:27:59.194Z"
   },
   {
    "duration": 276,
    "start_time": "2022-07-12T17:27:59.511Z"
   },
   {
    "duration": 9,
    "start_time": "2022-07-12T17:27:59.790Z"
   },
   {
    "duration": 276,
    "start_time": "2022-07-12T17:27:59.802Z"
   },
   {
    "duration": 313,
    "start_time": "2022-07-12T17:28:00.081Z"
   },
   {
    "duration": 3,
    "start_time": "2022-07-12T17:28:00.396Z"
   },
   {
    "duration": 15,
    "start_time": "2022-07-12T17:28:00.401Z"
   },
   {
    "duration": 1389,
    "start_time": "2022-07-12T17:28:00.424Z"
   },
   {
    "duration": 69,
    "start_time": "2022-07-12T17:28:01.815Z"
   },
   {
    "duration": 8,
    "start_time": "2022-07-12T17:33:48.504Z"
   },
   {
    "duration": 120,
    "start_time": "2022-07-12T17:33:50.261Z"
   },
   {
    "duration": 7,
    "start_time": "2022-07-12T17:33:58.074Z"
   },
   {
    "duration": 1452,
    "start_time": "2022-07-12T17:34:54.442Z"
   },
   {
    "duration": 42,
    "start_time": "2022-07-12T17:34:55.896Z"
   },
   {
    "duration": 4,
    "start_time": "2022-07-12T17:34:55.940Z"
   },
   {
    "duration": 9,
    "start_time": "2022-07-12T17:34:55.947Z"
   },
   {
    "duration": 16,
    "start_time": "2022-07-12T17:34:55.958Z"
   },
   {
    "duration": 4,
    "start_time": "2022-07-12T17:34:55.976Z"
   },
   {
    "duration": 16,
    "start_time": "2022-07-12T17:34:55.981Z"
   },
   {
    "duration": 280,
    "start_time": "2022-07-12T17:34:55.999Z"
   },
   {
    "duration": 204,
    "start_time": "2022-07-12T17:34:56.282Z"
   },
   {
    "duration": 270,
    "start_time": "2022-07-12T17:34:56.489Z"
   },
   {
    "duration": 251,
    "start_time": "2022-07-12T17:34:56.761Z"
   },
   {
    "duration": 11,
    "start_time": "2022-07-12T17:34:57.013Z"
   },
   {
    "duration": 236,
    "start_time": "2022-07-12T17:34:57.026Z"
   },
   {
    "duration": 287,
    "start_time": "2022-07-12T17:34:57.264Z"
   },
   {
    "duration": 3,
    "start_time": "2022-07-12T17:34:57.554Z"
   },
   {
    "duration": 7,
    "start_time": "2022-07-12T17:34:57.558Z"
   },
   {
    "duration": 1188,
    "start_time": "2022-07-12T17:34:57.567Z"
   },
   {
    "duration": 53,
    "start_time": "2022-07-12T17:34:58.757Z"
   },
   {
    "duration": 9,
    "start_time": "2022-07-12T17:34:58.822Z"
   },
   {
    "duration": 17,
    "start_time": "2022-07-12T17:34:58.832Z"
   },
   {
    "duration": 53,
    "start_time": "2022-07-12T17:35:21.585Z"
   },
   {
    "duration": 1487,
    "start_time": "2022-07-12T17:35:30.605Z"
   },
   {
    "duration": 43,
    "start_time": "2022-07-12T17:35:32.094Z"
   },
   {
    "duration": 4,
    "start_time": "2022-07-12T17:35:32.139Z"
   },
   {
    "duration": 13,
    "start_time": "2022-07-12T17:35:32.145Z"
   },
   {
    "duration": 16,
    "start_time": "2022-07-12T17:35:32.161Z"
   },
   {
    "duration": 3,
    "start_time": "2022-07-12T17:35:32.180Z"
   },
   {
    "duration": 15,
    "start_time": "2022-07-12T17:35:32.185Z"
   },
   {
    "duration": 292,
    "start_time": "2022-07-12T17:35:32.223Z"
   },
   {
    "duration": 228,
    "start_time": "2022-07-12T17:35:32.522Z"
   },
   {
    "duration": 280,
    "start_time": "2022-07-12T17:35:32.752Z"
   },
   {
    "duration": 262,
    "start_time": "2022-07-12T17:35:33.034Z"
   },
   {
    "duration": 6,
    "start_time": "2022-07-12T17:35:33.298Z"
   },
   {
    "duration": 255,
    "start_time": "2022-07-12T17:35:33.306Z"
   },
   {
    "duration": 289,
    "start_time": "2022-07-12T17:35:33.565Z"
   },
   {
    "duration": 3,
    "start_time": "2022-07-12T17:35:33.857Z"
   },
   {
    "duration": 6,
    "start_time": "2022-07-12T17:35:33.861Z"
   },
   {
    "duration": 1260,
    "start_time": "2022-07-12T17:35:33.869Z"
   },
   {
    "duration": 57,
    "start_time": "2022-07-12T17:35:35.131Z"
   },
   {
    "duration": 7,
    "start_time": "2022-07-12T17:35:35.189Z"
   },
   {
    "duration": 30,
    "start_time": "2022-07-12T17:35:35.198Z"
   },
   {
    "duration": 9,
    "start_time": "2022-07-12T17:36:08.745Z"
   },
   {
    "duration": 7,
    "start_time": "2022-07-12T17:36:10.001Z"
   },
   {
    "duration": 1491,
    "start_time": "2022-07-12T17:36:21.154Z"
   },
   {
    "duration": 38,
    "start_time": "2022-07-12T17:36:22.647Z"
   },
   {
    "duration": 3,
    "start_time": "2022-07-12T17:36:22.687Z"
   },
   {
    "duration": 10,
    "start_time": "2022-07-12T17:36:22.692Z"
   },
   {
    "duration": 10,
    "start_time": "2022-07-12T17:36:22.705Z"
   },
   {
    "duration": 3,
    "start_time": "2022-07-12T17:36:22.723Z"
   },
   {
    "duration": 22,
    "start_time": "2022-07-12T17:36:22.728Z"
   },
   {
    "duration": 286,
    "start_time": "2022-07-12T17:36:22.752Z"
   },
   {
    "duration": 210,
    "start_time": "2022-07-12T17:36:23.040Z"
   },
   {
    "duration": 250,
    "start_time": "2022-07-12T17:36:23.251Z"
   },
   {
    "duration": 250,
    "start_time": "2022-07-12T17:36:23.502Z"
   },
   {
    "duration": 7,
    "start_time": "2022-07-12T17:36:23.754Z"
   },
   {
    "duration": 242,
    "start_time": "2022-07-12T17:36:23.762Z"
   },
   {
    "duration": 303,
    "start_time": "2022-07-12T17:36:24.008Z"
   },
   {
    "duration": 10,
    "start_time": "2022-07-12T17:36:24.313Z"
   },
   {
    "duration": 7,
    "start_time": "2022-07-12T17:36:24.325Z"
   },
   {
    "duration": 1214,
    "start_time": "2022-07-12T17:36:24.334Z"
   },
   {
    "duration": 55,
    "start_time": "2022-07-12T17:36:25.550Z"
   },
   {
    "duration": 24,
    "start_time": "2022-07-12T17:36:25.607Z"
   },
   {
    "duration": 14,
    "start_time": "2022-07-12T17:36:25.633Z"
   },
   {
    "duration": 7,
    "start_time": "2022-07-12T17:37:24.395Z"
   },
   {
    "duration": 66,
    "start_time": "2022-07-12T17:38:38.853Z"
   },
   {
    "duration": 63,
    "start_time": "2022-07-12T17:38:43.913Z"
   },
   {
    "duration": 71,
    "start_time": "2022-07-12T17:38:48.239Z"
   },
   {
    "duration": 52,
    "start_time": "2022-07-12T17:38:53.950Z"
   },
   {
    "duration": 52,
    "start_time": "2022-07-12T17:38:58.558Z"
   },
   {
    "duration": 54,
    "start_time": "2022-07-12T17:39:08.168Z"
   },
   {
    "duration": 57,
    "start_time": "2022-07-12T17:39:13.749Z"
   },
   {
    "duration": 59,
    "start_time": "2022-07-12T17:39:55.837Z"
   },
   {
    "duration": 61,
    "start_time": "2022-07-12T17:40:02.082Z"
   },
   {
    "duration": 2857,
    "start_time": "2022-07-12T17:40:12.661Z"
   },
   {
    "duration": 1623,
    "start_time": "2022-07-12T17:40:24.364Z"
   },
   {
    "duration": 42,
    "start_time": "2022-07-12T17:40:25.989Z"
   },
   {
    "duration": 4,
    "start_time": "2022-07-12T17:40:26.034Z"
   },
   {
    "duration": 13,
    "start_time": "2022-07-12T17:40:26.041Z"
   },
   {
    "duration": 14,
    "start_time": "2022-07-12T17:40:26.057Z"
   },
   {
    "duration": 4,
    "start_time": "2022-07-12T17:40:26.073Z"
   },
   {
    "duration": 19,
    "start_time": "2022-07-12T17:40:26.078Z"
   },
   {
    "duration": 304,
    "start_time": "2022-07-12T17:40:26.098Z"
   },
   {
    "duration": 215,
    "start_time": "2022-07-12T17:40:26.404Z"
   },
   {
    "duration": 280,
    "start_time": "2022-07-12T17:40:26.623Z"
   },
   {
    "duration": 268,
    "start_time": "2022-07-12T17:40:26.905Z"
   },
   {
    "duration": 9,
    "start_time": "2022-07-12T17:40:27.175Z"
   },
   {
    "duration": 263,
    "start_time": "2022-07-12T17:40:27.186Z"
   },
   {
    "duration": 304,
    "start_time": "2022-07-12T17:40:27.452Z"
   },
   {
    "duration": 3,
    "start_time": "2022-07-12T17:40:27.758Z"
   },
   {
    "duration": 9,
    "start_time": "2022-07-12T17:40:27.762Z"
   },
   {
    "duration": 2912,
    "start_time": "2022-07-12T17:40:27.773Z"
   },
   {
    "duration": 68,
    "start_time": "2022-07-12T17:40:30.687Z"
   },
   {
    "duration": 9,
    "start_time": "2022-07-12T17:40:30.757Z"
   },
   {
    "duration": 26,
    "start_time": "2022-07-12T17:40:30.768Z"
   },
   {
    "duration": 57,
    "start_time": "2022-07-12T17:40:54.246Z"
   },
   {
    "duration": 1664,
    "start_time": "2022-07-12T17:43:13.806Z"
   },
   {
    "duration": 44,
    "start_time": "2022-07-12T17:43:15.473Z"
   },
   {
    "duration": 4,
    "start_time": "2022-07-12T17:43:15.518Z"
   },
   {
    "duration": 11,
    "start_time": "2022-07-12T17:43:15.524Z"
   },
   {
    "duration": 17,
    "start_time": "2022-07-12T17:43:15.538Z"
   },
   {
    "duration": 4,
    "start_time": "2022-07-12T17:43:15.558Z"
   },
   {
    "duration": 22,
    "start_time": "2022-07-12T17:43:15.564Z"
   },
   {
    "duration": 306,
    "start_time": "2022-07-12T17:43:15.588Z"
   },
   {
    "duration": 244,
    "start_time": "2022-07-12T17:43:15.897Z"
   },
   {
    "duration": 283,
    "start_time": "2022-07-12T17:43:16.145Z"
   },
   {
    "duration": 272,
    "start_time": "2022-07-12T17:43:16.430Z"
   },
   {
    "duration": 7,
    "start_time": "2022-07-12T17:43:16.704Z"
   },
   {
    "duration": 266,
    "start_time": "2022-07-12T17:43:16.722Z"
   },
   {
    "duration": 334,
    "start_time": "2022-07-12T17:43:16.991Z"
   },
   {
    "duration": 4,
    "start_time": "2022-07-12T17:43:17.327Z"
   },
   {
    "duration": 10,
    "start_time": "2022-07-12T17:43:17.333Z"
   },
   {
    "duration": 3167,
    "start_time": "2022-07-12T17:43:17.347Z"
   },
   {
    "duration": 3,
    "start_time": "2022-07-12T17:43:20.516Z"
   },
   {
    "duration": 24,
    "start_time": "2022-07-12T17:43:20.524Z"
   },
   {
    "duration": 8,
    "start_time": "2022-07-12T17:43:20.551Z"
   },
   {
    "duration": 15,
    "start_time": "2022-07-12T17:43:20.562Z"
   },
   {
    "duration": 1603,
    "start_time": "2022-07-12T17:44:00.698Z"
   },
   {
    "duration": 40,
    "start_time": "2022-07-12T17:44:02.304Z"
   },
   {
    "duration": 3,
    "start_time": "2022-07-12T17:44:02.347Z"
   },
   {
    "duration": 19,
    "start_time": "2022-07-12T17:44:02.352Z"
   },
   {
    "duration": 11,
    "start_time": "2022-07-12T17:44:02.374Z"
   },
   {
    "duration": 3,
    "start_time": "2022-07-12T17:44:02.387Z"
   },
   {
    "duration": 16,
    "start_time": "2022-07-12T17:44:02.392Z"
   },
   {
    "duration": 264,
    "start_time": "2022-07-12T17:44:02.424Z"
   },
   {
    "duration": 208,
    "start_time": "2022-07-12T17:44:02.690Z"
   },
   {
    "duration": 266,
    "start_time": "2022-07-12T17:44:02.900Z"
   },
   {
    "duration": 241,
    "start_time": "2022-07-12T17:44:03.167Z"
   },
   {
    "duration": 17,
    "start_time": "2022-07-12T17:44:03.409Z"
   },
   {
    "duration": 244,
    "start_time": "2022-07-12T17:44:03.428Z"
   },
   {
    "duration": 313,
    "start_time": "2022-07-12T17:44:03.676Z"
   },
   {
    "duration": 4,
    "start_time": "2022-07-12T17:44:03.991Z"
   },
   {
    "duration": 15,
    "start_time": "2022-07-12T17:44:03.997Z"
   },
   {
    "duration": 2864,
    "start_time": "2022-07-12T17:44:04.014Z"
   },
   {
    "duration": 3,
    "start_time": "2022-07-12T17:44:06.880Z"
   },
   {
    "duration": 22,
    "start_time": "2022-07-12T17:44:06.885Z"
   },
   {
    "duration": 22,
    "start_time": "2022-07-12T17:44:06.909Z"
   },
   {
    "duration": 13,
    "start_time": "2022-07-12T17:44:06.933Z"
   },
   {
    "duration": 1628,
    "start_time": "2022-07-12T17:44:45.683Z"
   },
   {
    "duration": 46,
    "start_time": "2022-07-12T17:44:47.313Z"
   },
   {
    "duration": 4,
    "start_time": "2022-07-12T17:44:47.362Z"
   },
   {
    "duration": 9,
    "start_time": "2022-07-12T17:44:47.368Z"
   },
   {
    "duration": 20,
    "start_time": "2022-07-12T17:44:47.378Z"
   },
   {
    "duration": 3,
    "start_time": "2022-07-12T17:44:47.400Z"
   },
   {
    "duration": 31,
    "start_time": "2022-07-12T17:44:47.405Z"
   },
   {
    "duration": 277,
    "start_time": "2022-07-12T17:44:47.438Z"
   },
   {
    "duration": 228,
    "start_time": "2022-07-12T17:44:47.717Z"
   },
   {
    "duration": 259,
    "start_time": "2022-07-12T17:44:47.948Z"
   },
   {
    "duration": 279,
    "start_time": "2022-07-12T17:44:48.210Z"
   },
   {
    "duration": 7,
    "start_time": "2022-07-12T17:44:48.491Z"
   },
   {
    "duration": 272,
    "start_time": "2022-07-12T17:44:48.500Z"
   },
   {
    "duration": 333,
    "start_time": "2022-07-12T17:44:48.774Z"
   },
   {
    "duration": 4,
    "start_time": "2022-07-12T17:44:49.110Z"
   },
   {
    "duration": 12,
    "start_time": "2022-07-12T17:44:49.115Z"
   },
   {
    "duration": 19086,
    "start_time": "2022-07-12T17:44:49.129Z"
   },
   {
    "duration": 10,
    "start_time": "2022-07-12T17:45:08.217Z"
   },
   {
    "duration": 37,
    "start_time": "2022-07-12T17:45:08.229Z"
   },
   {
    "duration": 8,
    "start_time": "2022-07-12T17:45:08.267Z"
   },
   {
    "duration": 15,
    "start_time": "2022-07-12T17:45:08.277Z"
   },
   {
    "duration": 1556,
    "start_time": "2022-07-12T17:48:43.758Z"
   },
   {
    "duration": 51,
    "start_time": "2022-07-12T17:48:45.315Z"
   },
   {
    "duration": 4,
    "start_time": "2022-07-12T17:48:45.368Z"
   },
   {
    "duration": 10,
    "start_time": "2022-07-12T17:48:45.374Z"
   },
   {
    "duration": 11,
    "start_time": "2022-07-12T17:48:45.387Z"
   },
   {
    "duration": 4,
    "start_time": "2022-07-12T17:48:45.401Z"
   },
   {
    "duration": 18,
    "start_time": "2022-07-12T17:48:45.424Z"
   },
   {
    "duration": 297,
    "start_time": "2022-07-12T17:48:45.444Z"
   },
   {
    "duration": 226,
    "start_time": "2022-07-12T17:48:45.743Z"
   },
   {
    "duration": 323,
    "start_time": "2022-07-12T17:48:45.971Z"
   },
   {
    "duration": 280,
    "start_time": "2022-07-12T17:48:46.296Z"
   },
   {
    "duration": 6,
    "start_time": "2022-07-12T17:48:46.578Z"
   },
   {
    "duration": 354,
    "start_time": "2022-07-12T17:48:46.586Z"
   },
   {
    "duration": 234,
    "start_time": "2022-07-12T17:48:46.943Z"
   },
   {
    "duration": 3,
    "start_time": "2022-07-12T17:48:47.179Z"
   },
   {
    "duration": 11,
    "start_time": "2022-07-12T17:48:47.184Z"
   },
   {
    "duration": 20225,
    "start_time": "2022-07-12T17:48:47.197Z"
   },
   {
    "duration": 3,
    "start_time": "2022-07-12T17:49:07.425Z"
   },
   {
    "duration": 38,
    "start_time": "2022-07-12T17:49:07.431Z"
   },
   {
    "duration": 12,
    "start_time": "2022-07-12T17:49:07.471Z"
   },
   {
    "duration": 11,
    "start_time": "2022-07-12T17:49:07.486Z"
   },
   {
    "duration": 1726,
    "start_time": "2022-07-12T17:55:05.353Z"
   },
   {
    "duration": 44,
    "start_time": "2022-07-12T17:55:07.081Z"
   },
   {
    "duration": 4,
    "start_time": "2022-07-12T17:55:07.127Z"
   },
   {
    "duration": 16,
    "start_time": "2022-07-12T17:55:07.134Z"
   },
   {
    "duration": 19,
    "start_time": "2022-07-12T17:55:07.152Z"
   },
   {
    "duration": 3,
    "start_time": "2022-07-12T17:55:07.173Z"
   },
   {
    "duration": 25,
    "start_time": "2022-07-12T17:55:07.177Z"
   },
   {
    "duration": 302,
    "start_time": "2022-07-12T17:55:07.204Z"
   },
   {
    "duration": 210,
    "start_time": "2022-07-12T17:55:07.508Z"
   },
   {
    "duration": 272,
    "start_time": "2022-07-12T17:55:07.724Z"
   },
   {
    "duration": 270,
    "start_time": "2022-07-12T17:55:07.999Z"
   },
   {
    "duration": 9,
    "start_time": "2022-07-12T17:55:08.271Z"
   },
   {
    "duration": 349,
    "start_time": "2022-07-12T17:55:08.282Z"
   },
   {
    "duration": 246,
    "start_time": "2022-07-12T17:55:08.633Z"
   },
   {
    "duration": 4,
    "start_time": "2022-07-12T17:55:08.881Z"
   },
   {
    "duration": 33,
    "start_time": "2022-07-12T17:55:08.887Z"
   },
   {
    "duration": 19281,
    "start_time": "2022-07-12T17:55:08.923Z"
   },
   {
    "duration": 3,
    "start_time": "2022-07-12T17:55:28.206Z"
   },
   {
    "duration": 31,
    "start_time": "2022-07-12T17:55:28.211Z"
   },
   {
    "duration": 165,
    "start_time": "2022-07-12T17:55:28.244Z"
   },
   {
    "duration": 0,
    "start_time": "2022-07-12T17:55:28.411Z"
   },
   {
    "duration": 0,
    "start_time": "2022-07-12T17:55:28.412Z"
   },
   {
    "duration": 0,
    "start_time": "2022-07-12T17:55:28.413Z"
   },
   {
    "duration": 5,
    "start_time": "2022-07-12T17:55:39.944Z"
   },
   {
    "duration": 1554,
    "start_time": "2022-07-12T17:56:06.816Z"
   },
   {
    "duration": 39,
    "start_time": "2022-07-12T17:56:08.372Z"
   },
   {
    "duration": 2,
    "start_time": "2022-07-12T17:56:08.414Z"
   },
   {
    "duration": 9,
    "start_time": "2022-07-12T17:56:08.418Z"
   },
   {
    "duration": 17,
    "start_time": "2022-07-12T17:56:08.429Z"
   },
   {
    "duration": 4,
    "start_time": "2022-07-12T17:56:08.448Z"
   },
   {
    "duration": 25,
    "start_time": "2022-07-12T17:56:08.453Z"
   },
   {
    "duration": 294,
    "start_time": "2022-07-12T17:56:08.479Z"
   },
   {
    "duration": 249,
    "start_time": "2022-07-12T17:56:08.774Z"
   },
   {
    "duration": 323,
    "start_time": "2022-07-12T17:56:09.027Z"
   },
   {
    "duration": 245,
    "start_time": "2022-07-12T17:56:09.352Z"
   },
   {
    "duration": 6,
    "start_time": "2022-07-12T17:56:09.599Z"
   },
   {
    "duration": 332,
    "start_time": "2022-07-12T17:56:09.607Z"
   },
   {
    "duration": 224,
    "start_time": "2022-07-12T17:56:09.941Z"
   },
   {
    "duration": 3,
    "start_time": "2022-07-12T17:56:10.168Z"
   },
   {
    "duration": 7,
    "start_time": "2022-07-12T17:56:10.172Z"
   },
   {
    "duration": 20287,
    "start_time": "2022-07-12T17:56:10.181Z"
   },
   {
    "duration": 3,
    "start_time": "2022-07-12T17:56:30.470Z"
   },
   {
    "duration": 26,
    "start_time": "2022-07-12T17:56:30.475Z"
   },
   {
    "duration": 1464,
    "start_time": "2022-07-12T18:05:39.466Z"
   },
   {
    "duration": 52,
    "start_time": "2022-07-12T18:05:40.933Z"
   },
   {
    "duration": 3,
    "start_time": "2022-07-12T18:05:40.987Z"
   },
   {
    "duration": 11,
    "start_time": "2022-07-12T18:05:40.992Z"
   },
   {
    "duration": 14,
    "start_time": "2022-07-12T18:05:41.006Z"
   },
   {
    "duration": 4,
    "start_time": "2022-07-12T18:05:41.022Z"
   },
   {
    "duration": 19,
    "start_time": "2022-07-12T18:05:41.028Z"
   },
   {
    "duration": 272,
    "start_time": "2022-07-12T18:05:41.049Z"
   },
   {
    "duration": 216,
    "start_time": "2022-07-12T18:05:41.323Z"
   },
   {
    "duration": 265,
    "start_time": "2022-07-12T18:05:41.541Z"
   },
   {
    "duration": 263,
    "start_time": "2022-07-12T18:05:41.807Z"
   },
   {
    "duration": 6,
    "start_time": "2022-07-12T18:05:42.072Z"
   },
   {
    "duration": 326,
    "start_time": "2022-07-12T18:05:42.079Z"
   },
   {
    "duration": 219,
    "start_time": "2022-07-12T18:05:42.409Z"
   },
   {
    "duration": 4,
    "start_time": "2022-07-12T18:05:42.629Z"
   },
   {
    "duration": 12,
    "start_time": "2022-07-12T18:05:42.634Z"
   },
   {
    "duration": 18522,
    "start_time": "2022-07-12T18:05:42.648Z"
   },
   {
    "duration": 4,
    "start_time": "2022-07-12T18:06:01.172Z"
   },
   {
    "duration": 19,
    "start_time": "2022-07-12T18:06:01.177Z"
   },
   {
    "duration": 1518,
    "start_time": "2022-07-12T18:06:16.380Z"
   },
   {
    "duration": 43,
    "start_time": "2022-07-12T18:06:17.900Z"
   },
   {
    "duration": 4,
    "start_time": "2022-07-12T18:06:17.945Z"
   },
   {
    "duration": 27,
    "start_time": "2022-07-12T18:06:17.951Z"
   },
   {
    "duration": 29,
    "start_time": "2022-07-12T18:06:17.980Z"
   },
   {
    "duration": 26,
    "start_time": "2022-07-12T18:06:18.011Z"
   },
   {
    "duration": 26,
    "start_time": "2022-07-12T18:06:18.039Z"
   },
   {
    "duration": 289,
    "start_time": "2022-07-12T18:06:18.067Z"
   },
   {
    "duration": 209,
    "start_time": "2022-07-12T18:06:18.358Z"
   },
   {
    "duration": 256,
    "start_time": "2022-07-12T18:06:18.570Z"
   },
   {
    "duration": 289,
    "start_time": "2022-07-12T18:06:18.828Z"
   },
   {
    "duration": 7,
    "start_time": "2022-07-12T18:06:19.123Z"
   },
   {
    "duration": 345,
    "start_time": "2022-07-12T18:06:19.133Z"
   },
   {
    "duration": 224,
    "start_time": "2022-07-12T18:06:19.480Z"
   },
   {
    "duration": 3,
    "start_time": "2022-07-12T18:06:19.706Z"
   },
   {
    "duration": 20,
    "start_time": "2022-07-12T18:06:19.711Z"
   },
   {
    "duration": 18022,
    "start_time": "2022-07-12T18:06:19.734Z"
   },
   {
    "duration": 3,
    "start_time": "2022-07-12T18:06:37.758Z"
   },
   {
    "duration": 11,
    "start_time": "2022-07-12T18:06:37.762Z"
   },
   {
    "duration": 1459,
    "start_time": "2022-07-12T18:07:21.944Z"
   },
   {
    "duration": 44,
    "start_time": "2022-07-12T18:07:23.406Z"
   },
   {
    "duration": 3,
    "start_time": "2022-07-12T18:07:23.453Z"
   },
   {
    "duration": 14,
    "start_time": "2022-07-12T18:07:23.457Z"
   },
   {
    "duration": 12,
    "start_time": "2022-07-12T18:07:23.474Z"
   },
   {
    "duration": 4,
    "start_time": "2022-07-12T18:07:23.487Z"
   },
   {
    "duration": 13,
    "start_time": "2022-07-12T18:07:23.492Z"
   },
   {
    "duration": 274,
    "start_time": "2022-07-12T18:07:23.507Z"
   },
   {
    "duration": 201,
    "start_time": "2022-07-12T18:07:23.782Z"
   },
   {
    "duration": 255,
    "start_time": "2022-07-12T18:07:23.985Z"
   },
   {
    "duration": 243,
    "start_time": "2022-07-12T18:07:24.242Z"
   },
   {
    "duration": 6,
    "start_time": "2022-07-12T18:07:24.487Z"
   },
   {
    "duration": 320,
    "start_time": "2022-07-12T18:07:24.495Z"
   },
   {
    "duration": 207,
    "start_time": "2022-07-12T18:07:24.825Z"
   },
   {
    "duration": 3,
    "start_time": "2022-07-12T18:07:25.033Z"
   },
   {
    "duration": 15,
    "start_time": "2022-07-12T18:07:25.039Z"
   },
   {
    "duration": 18408,
    "start_time": "2022-07-12T18:07:25.056Z"
   },
   {
    "duration": 3,
    "start_time": "2022-07-12T18:07:43.465Z"
   },
   {
    "duration": 7,
    "start_time": "2022-07-12T18:07:43.470Z"
   },
   {
    "duration": 1491,
    "start_time": "2022-07-12T18:08:20.460Z"
   },
   {
    "duration": 40,
    "start_time": "2022-07-12T18:08:21.954Z"
   },
   {
    "duration": 3,
    "start_time": "2022-07-12T18:08:21.996Z"
   },
   {
    "duration": 23,
    "start_time": "2022-07-12T18:08:22.000Z"
   },
   {
    "duration": 24,
    "start_time": "2022-07-12T18:08:22.026Z"
   },
   {
    "duration": 13,
    "start_time": "2022-07-12T18:08:22.052Z"
   },
   {
    "duration": 36,
    "start_time": "2022-07-12T18:08:22.068Z"
   },
   {
    "duration": 268,
    "start_time": "2022-07-12T18:08:22.106Z"
   },
   {
    "duration": 213,
    "start_time": "2022-07-12T18:08:22.375Z"
   },
   {
    "duration": 260,
    "start_time": "2022-07-12T18:08:22.590Z"
   },
   {
    "duration": 250,
    "start_time": "2022-07-12T18:08:22.852Z"
   },
   {
    "duration": 6,
    "start_time": "2022-07-12T18:08:23.103Z"
   },
   {
    "duration": 330,
    "start_time": "2022-07-12T18:08:23.111Z"
   },
   {
    "duration": 221,
    "start_time": "2022-07-12T18:08:23.446Z"
   },
   {
    "duration": 4,
    "start_time": "2022-07-12T18:08:23.668Z"
   },
   {
    "duration": 8,
    "start_time": "2022-07-12T18:08:23.673Z"
   },
   {
    "duration": 18966,
    "start_time": "2022-07-12T18:08:23.682Z"
   },
   {
    "duration": 3,
    "start_time": "2022-07-12T18:08:42.650Z"
   },
   {
    "duration": 7,
    "start_time": "2022-07-12T18:08:42.655Z"
   },
   {
    "duration": 61098,
    "start_time": "2022-07-12T18:08:42.664Z"
   },
   {
    "duration": 3,
    "start_time": "2022-07-12T18:09:43.764Z"
   },
   {
    "duration": 29,
    "start_time": "2022-07-12T18:09:43.769Z"
   },
   {
    "duration": 7,
    "start_time": "2022-07-12T18:09:43.800Z"
   },
   {
    "duration": 21,
    "start_time": "2022-07-12T18:09:43.809Z"
   },
   {
    "duration": 1545,
    "start_time": "2022-07-12T18:11:19.948Z"
   },
   {
    "duration": 44,
    "start_time": "2022-07-12T18:11:21.495Z"
   },
   {
    "duration": 4,
    "start_time": "2022-07-12T18:11:21.541Z"
   },
   {
    "duration": 13,
    "start_time": "2022-07-12T18:11:21.547Z"
   },
   {
    "duration": 16,
    "start_time": "2022-07-12T18:11:21.563Z"
   },
   {
    "duration": 3,
    "start_time": "2022-07-12T18:11:21.581Z"
   },
   {
    "duration": 17,
    "start_time": "2022-07-12T18:11:21.585Z"
   },
   {
    "duration": 281,
    "start_time": "2022-07-12T18:11:21.604Z"
   },
   {
    "duration": 217,
    "start_time": "2022-07-12T18:11:21.887Z"
   },
   {
    "duration": 275,
    "start_time": "2022-07-12T18:11:22.107Z"
   },
   {
    "duration": 253,
    "start_time": "2022-07-12T18:11:22.384Z"
   },
   {
    "duration": 7,
    "start_time": "2022-07-12T18:11:22.639Z"
   },
   {
    "duration": 331,
    "start_time": "2022-07-12T18:11:22.648Z"
   },
   {
    "duration": 210,
    "start_time": "2022-07-12T18:11:22.981Z"
   },
   {
    "duration": 3,
    "start_time": "2022-07-12T18:11:23.194Z"
   },
   {
    "duration": 7,
    "start_time": "2022-07-12T18:11:23.199Z"
   },
   {
    "duration": 18430,
    "start_time": "2022-07-12T18:11:23.208Z"
   },
   {
    "duration": 3,
    "start_time": "2022-07-12T18:11:41.640Z"
   },
   {
    "duration": 8,
    "start_time": "2022-07-12T18:11:41.645Z"
   },
   {
    "duration": 63817,
    "start_time": "2022-07-12T18:11:41.655Z"
   },
   {
    "duration": 4,
    "start_time": "2022-07-12T18:12:45.474Z"
   },
   {
    "duration": 24,
    "start_time": "2022-07-12T18:12:45.479Z"
   },
   {
    "duration": 24,
    "start_time": "2022-07-12T18:12:45.504Z"
   },
   {
    "duration": 11,
    "start_time": "2022-07-12T18:12:45.530Z"
   },
   {
    "duration": 160,
    "start_time": "2022-07-12T18:17:09.960Z"
   },
   {
    "duration": 12,
    "start_time": "2022-07-12T18:17:43.149Z"
   },
   {
    "duration": 13,
    "start_time": "2022-07-12T18:17:50.919Z"
   },
   {
    "duration": 11,
    "start_time": "2022-07-12T18:18:00.239Z"
   },
   {
    "duration": 10,
    "start_time": "2022-07-12T18:18:10.572Z"
   },
   {
    "duration": 11,
    "start_time": "2022-07-12T18:18:25.249Z"
   },
   {
    "duration": 9,
    "start_time": "2022-07-12T18:19:48.866Z"
   },
   {
    "duration": 4,
    "start_time": "2022-07-12T18:19:54.256Z"
   },
   {
    "duration": 1929,
    "start_time": "2022-07-12T18:24:08.171Z"
   },
   {
    "duration": 53,
    "start_time": "2022-07-12T18:24:10.102Z"
   },
   {
    "duration": 3,
    "start_time": "2022-07-12T18:24:10.158Z"
   },
   {
    "duration": 10,
    "start_time": "2022-07-12T18:24:10.164Z"
   },
   {
    "duration": 13,
    "start_time": "2022-07-12T18:24:10.177Z"
   },
   {
    "duration": 3,
    "start_time": "2022-07-12T18:24:10.193Z"
   },
   {
    "duration": 42,
    "start_time": "2022-07-12T18:24:10.198Z"
   },
   {
    "duration": 337,
    "start_time": "2022-07-12T18:24:10.244Z"
   },
   {
    "duration": 220,
    "start_time": "2022-07-12T18:24:10.583Z"
   },
   {
    "duration": 302,
    "start_time": "2022-07-12T18:24:10.805Z"
   },
   {
    "duration": 295,
    "start_time": "2022-07-12T18:24:11.109Z"
   },
   {
    "duration": 6,
    "start_time": "2022-07-12T18:24:11.406Z"
   },
   {
    "duration": 371,
    "start_time": "2022-07-12T18:24:11.424Z"
   },
   {
    "duration": 243,
    "start_time": "2022-07-12T18:24:11.798Z"
   },
   {
    "duration": 4,
    "start_time": "2022-07-12T18:24:12.043Z"
   },
   {
    "duration": 13,
    "start_time": "2022-07-12T18:24:12.049Z"
   },
   {
    "duration": 20200,
    "start_time": "2022-07-12T18:24:12.065Z"
   },
   {
    "duration": 4,
    "start_time": "2022-07-12T18:24:32.267Z"
   },
   {
    "duration": 9,
    "start_time": "2022-07-12T18:24:32.274Z"
   },
   {
    "duration": 69348,
    "start_time": "2022-07-12T18:24:32.286Z"
   },
   {
    "duration": 3,
    "start_time": "2022-07-12T18:25:41.637Z"
   },
   {
    "duration": 37,
    "start_time": "2022-07-12T18:25:41.643Z"
   },
   {
    "duration": 213,
    "start_time": "2022-07-12T18:25:41.682Z"
   },
   {
    "duration": 9,
    "start_time": "2022-07-12T18:25:41.896Z"
   },
   {
    "duration": 40,
    "start_time": "2022-07-12T18:25:41.907Z"
   },
   {
    "duration": 8,
    "start_time": "2022-07-12T18:25:41.949Z"
   },
   {
    "duration": 1731,
    "start_time": "2022-07-12T18:27:03.454Z"
   },
   {
    "duration": 46,
    "start_time": "2022-07-12T18:27:05.187Z"
   },
   {
    "duration": 3,
    "start_time": "2022-07-12T18:27:05.235Z"
   },
   {
    "duration": 18,
    "start_time": "2022-07-12T18:27:05.240Z"
   },
   {
    "duration": 13,
    "start_time": "2022-07-12T18:27:05.261Z"
   },
   {
    "duration": 3,
    "start_time": "2022-07-12T18:27:05.276Z"
   },
   {
    "duration": 24,
    "start_time": "2022-07-12T18:27:05.282Z"
   },
   {
    "duration": 300,
    "start_time": "2022-07-12T18:27:05.309Z"
   },
   {
    "duration": 246,
    "start_time": "2022-07-12T18:27:05.611Z"
   },
   {
    "duration": 294,
    "start_time": "2022-07-12T18:27:05.859Z"
   },
   {
    "duration": 291,
    "start_time": "2022-07-12T18:27:06.155Z"
   },
   {
    "duration": 9,
    "start_time": "2022-07-12T18:27:06.448Z"
   },
   {
    "duration": 392,
    "start_time": "2022-07-12T18:27:06.459Z"
   },
   {
    "duration": 254,
    "start_time": "2022-07-12T18:27:06.856Z"
   },
   {
    "duration": 4,
    "start_time": "2022-07-12T18:27:07.113Z"
   },
   {
    "duration": 26,
    "start_time": "2022-07-12T18:27:07.127Z"
   },
   {
    "duration": 20689,
    "start_time": "2022-07-12T18:27:07.155Z"
   },
   {
    "duration": 4,
    "start_time": "2022-07-12T18:27:27.847Z"
   },
   {
    "duration": 18,
    "start_time": "2022-07-12T18:27:27.853Z"
   },
   {
    "duration": 219446,
    "start_time": "2022-07-12T18:27:27.873Z"
   },
   {
    "duration": 5,
    "start_time": "2022-07-12T18:31:07.323Z"
   },
   {
    "duration": 44,
    "start_time": "2022-07-12T18:31:07.338Z"
   },
   {
    "duration": 216,
    "start_time": "2022-07-12T18:31:07.385Z"
   },
   {
    "duration": 12,
    "start_time": "2022-07-12T18:31:07.604Z"
   },
   {
    "duration": 49,
    "start_time": "2022-07-12T18:31:07.623Z"
   },
   {
    "duration": 13,
    "start_time": "2022-07-12T18:31:07.675Z"
   },
   {
    "duration": 211,
    "start_time": "2022-07-12T18:32:24.954Z"
   },
   {
    "duration": 249,
    "start_time": "2022-07-12T18:33:06.859Z"
   },
   {
    "duration": 3354,
    "start_time": "2022-07-12T18:36:27.985Z"
   },
   {
    "duration": 43,
    "start_time": "2022-07-12T18:36:31.345Z"
   },
   {
    "duration": 4,
    "start_time": "2022-07-12T18:36:31.390Z"
   },
   {
    "duration": 18,
    "start_time": "2022-07-12T18:36:31.398Z"
   },
   {
    "duration": 30,
    "start_time": "2022-07-12T18:36:31.418Z"
   },
   {
    "duration": 12,
    "start_time": "2022-07-12T18:36:31.450Z"
   },
   {
    "duration": 19,
    "start_time": "2022-07-12T18:36:31.464Z"
   },
   {
    "duration": 300,
    "start_time": "2022-07-12T18:36:31.485Z"
   },
   {
    "duration": 192,
    "start_time": "2022-07-12T18:36:31.787Z"
   },
   {
    "duration": 282,
    "start_time": "2022-07-12T18:36:31.982Z"
   },
   {
    "duration": 253,
    "start_time": "2022-07-12T18:36:32.266Z"
   },
   {
    "duration": 16,
    "start_time": "2022-07-12T18:36:32.521Z"
   },
   {
    "duration": 324,
    "start_time": "2022-07-12T18:36:32.545Z"
   },
   {
    "duration": 217,
    "start_time": "2022-07-12T18:36:32.871Z"
   },
   {
    "duration": 3,
    "start_time": "2022-07-12T18:36:33.090Z"
   },
   {
    "duration": 5,
    "start_time": "2022-07-12T18:36:33.095Z"
   },
   {
    "duration": 214,
    "start_time": "2022-07-12T18:36:33.101Z"
   },
   {
    "duration": 0,
    "start_time": "2022-07-12T18:36:33.318Z"
   },
   {
    "duration": 0,
    "start_time": "2022-07-12T18:36:33.327Z"
   },
   {
    "duration": 0,
    "start_time": "2022-07-12T18:36:33.332Z"
   },
   {
    "duration": 0,
    "start_time": "2022-07-12T18:36:33.334Z"
   },
   {
    "duration": 0,
    "start_time": "2022-07-12T18:36:33.335Z"
   },
   {
    "duration": 0,
    "start_time": "2022-07-12T18:36:33.336Z"
   },
   {
    "duration": 0,
    "start_time": "2022-07-12T18:36:33.338Z"
   },
   {
    "duration": 0,
    "start_time": "2022-07-12T18:36:33.339Z"
   },
   {
    "duration": 0,
    "start_time": "2022-07-12T18:36:33.340Z"
   },
   {
    "duration": 1581,
    "start_time": "2022-07-12T18:38:03.309Z"
   },
   {
    "duration": 53,
    "start_time": "2022-07-12T18:38:04.893Z"
   },
   {
    "duration": 8,
    "start_time": "2022-07-12T18:38:04.950Z"
   },
   {
    "duration": 15,
    "start_time": "2022-07-12T18:38:04.959Z"
   },
   {
    "duration": 16,
    "start_time": "2022-07-12T18:38:04.977Z"
   },
   {
    "duration": 5,
    "start_time": "2022-07-12T18:38:04.995Z"
   },
   {
    "duration": 18,
    "start_time": "2022-07-12T18:38:05.002Z"
   },
   {
    "duration": 271,
    "start_time": "2022-07-12T18:38:05.022Z"
   },
   {
    "duration": 246,
    "start_time": "2022-07-12T18:38:05.298Z"
   },
   {
    "duration": 266,
    "start_time": "2022-07-12T18:38:05.547Z"
   },
   {
    "duration": 270,
    "start_time": "2022-07-12T18:38:05.815Z"
   },
   {
    "duration": 8,
    "start_time": "2022-07-12T18:38:06.087Z"
   },
   {
    "duration": 360,
    "start_time": "2022-07-12T18:38:06.097Z"
   },
   {
    "duration": 243,
    "start_time": "2022-07-12T18:38:06.460Z"
   },
   {
    "duration": 4,
    "start_time": "2022-07-12T18:38:06.706Z"
   },
   {
    "duration": 30,
    "start_time": "2022-07-12T18:38:06.713Z"
   },
   {
    "duration": 239,
    "start_time": "2022-07-12T18:38:06.746Z"
   },
   {
    "duration": 0,
    "start_time": "2022-07-12T18:38:06.987Z"
   },
   {
    "duration": 0,
    "start_time": "2022-07-12T18:38:06.989Z"
   },
   {
    "duration": 0,
    "start_time": "2022-07-12T18:38:06.991Z"
   },
   {
    "duration": 0,
    "start_time": "2022-07-12T18:38:06.992Z"
   },
   {
    "duration": 0,
    "start_time": "2022-07-12T18:38:06.994Z"
   },
   {
    "duration": 0,
    "start_time": "2022-07-12T18:38:06.995Z"
   },
   {
    "duration": 0,
    "start_time": "2022-07-12T18:38:06.996Z"
   },
   {
    "duration": 0,
    "start_time": "2022-07-12T18:38:06.997Z"
   },
   {
    "duration": 0,
    "start_time": "2022-07-12T18:38:06.999Z"
   },
   {
    "duration": 1555,
    "start_time": "2022-07-12T18:38:39.161Z"
   },
   {
    "duration": 63,
    "start_time": "2022-07-12T18:38:40.718Z"
   },
   {
    "duration": 3,
    "start_time": "2022-07-12T18:38:40.783Z"
   },
   {
    "duration": 12,
    "start_time": "2022-07-12T18:38:40.787Z"
   },
   {
    "duration": 12,
    "start_time": "2022-07-12T18:38:40.802Z"
   },
   {
    "duration": 3,
    "start_time": "2022-07-12T18:38:40.817Z"
   },
   {
    "duration": 35,
    "start_time": "2022-07-12T18:38:40.822Z"
   },
   {
    "duration": 283,
    "start_time": "2022-07-12T18:38:40.860Z"
   },
   {
    "duration": 216,
    "start_time": "2022-07-12T18:38:41.145Z"
   },
   {
    "duration": 303,
    "start_time": "2022-07-12T18:38:41.363Z"
   },
   {
    "duration": 267,
    "start_time": "2022-07-12T18:38:41.667Z"
   },
   {
    "duration": 7,
    "start_time": "2022-07-12T18:38:41.938Z"
   },
   {
    "duration": 351,
    "start_time": "2022-07-12T18:38:41.947Z"
   },
   {
    "duration": 236,
    "start_time": "2022-07-12T18:38:42.302Z"
   },
   {
    "duration": 3,
    "start_time": "2022-07-12T18:38:42.540Z"
   },
   {
    "duration": 12,
    "start_time": "2022-07-12T18:38:42.545Z"
   },
   {
    "duration": 86,
    "start_time": "2022-07-12T18:38:42.560Z"
   },
   {
    "duration": 3,
    "start_time": "2022-07-12T18:38:42.648Z"
   },
   {
    "duration": 13,
    "start_time": "2022-07-12T18:38:42.654Z"
   },
   {
    "duration": 9456,
    "start_time": "2022-07-12T18:38:42.669Z"
   },
   {
    "duration": 0,
    "start_time": "2022-07-12T18:38:52.135Z"
   },
   {
    "duration": 0,
    "start_time": "2022-07-12T18:38:52.136Z"
   },
   {
    "duration": 0,
    "start_time": "2022-07-12T18:38:52.138Z"
   },
   {
    "duration": 0,
    "start_time": "2022-07-12T18:38:52.139Z"
   },
   {
    "duration": 0,
    "start_time": "2022-07-12T18:38:52.145Z"
   },
   {
    "duration": 0,
    "start_time": "2022-07-12T18:38:52.146Z"
   },
   {
    "duration": 3160,
    "start_time": "2022-07-12T18:39:23.202Z"
   },
   {
    "duration": 149,
    "start_time": "2022-07-12T18:39:26.365Z"
   },
   {
    "duration": 3,
    "start_time": "2022-07-12T18:39:26.516Z"
   },
   {
    "duration": 32,
    "start_time": "2022-07-12T18:39:26.521Z"
   },
   {
    "duration": 20,
    "start_time": "2022-07-12T18:39:26.555Z"
   },
   {
    "duration": 5,
    "start_time": "2022-07-12T18:39:26.577Z"
   },
   {
    "duration": 25,
    "start_time": "2022-07-12T18:39:26.584Z"
   },
   {
    "duration": 300,
    "start_time": "2022-07-12T18:39:26.610Z"
   },
   {
    "duration": 236,
    "start_time": "2022-07-12T18:39:26.912Z"
   },
   {
    "duration": 291,
    "start_time": "2022-07-12T18:39:27.151Z"
   },
   {
    "duration": 304,
    "start_time": "2022-07-12T18:39:27.444Z"
   },
   {
    "duration": 7,
    "start_time": "2022-07-12T18:39:27.751Z"
   },
   {
    "duration": 342,
    "start_time": "2022-07-12T18:39:27.760Z"
   },
   {
    "duration": 248,
    "start_time": "2022-07-12T18:39:28.104Z"
   },
   {
    "duration": 4,
    "start_time": "2022-07-12T18:39:28.354Z"
   },
   {
    "duration": 7,
    "start_time": "2022-07-12T18:39:28.360Z"
   },
   {
    "duration": 103,
    "start_time": "2022-07-12T18:39:28.369Z"
   },
   {
    "duration": 2,
    "start_time": "2022-07-12T18:39:28.475Z"
   },
   {
    "duration": 16,
    "start_time": "2022-07-12T18:39:28.479Z"
   },
   {
    "duration": 9355,
    "start_time": "2022-07-12T18:39:28.498Z"
   },
   {
    "duration": 3,
    "start_time": "2022-07-12T18:39:37.855Z"
   },
   {
    "duration": 225,
    "start_time": "2022-07-12T18:39:37.860Z"
   },
   {
    "duration": 0,
    "start_time": "2022-07-12T18:39:38.088Z"
   },
   {
    "duration": 0,
    "start_time": "2022-07-12T18:39:38.089Z"
   },
   {
    "duration": 0,
    "start_time": "2022-07-12T18:39:38.091Z"
   },
   {
    "duration": 0,
    "start_time": "2022-07-12T18:39:38.093Z"
   },
   {
    "duration": 2059,
    "start_time": "2022-07-12T18:40:11.860Z"
   },
   {
    "duration": 70,
    "start_time": "2022-07-12T18:40:13.921Z"
   },
   {
    "duration": 3,
    "start_time": "2022-07-12T18:40:13.993Z"
   },
   {
    "duration": 9,
    "start_time": "2022-07-12T18:40:13.998Z"
   },
   {
    "duration": 26,
    "start_time": "2022-07-12T18:40:14.010Z"
   },
   {
    "duration": 22,
    "start_time": "2022-07-12T18:40:14.042Z"
   },
   {
    "duration": 24,
    "start_time": "2022-07-12T18:40:14.067Z"
   },
   {
    "duration": 298,
    "start_time": "2022-07-12T18:40:14.093Z"
   },
   {
    "duration": 233,
    "start_time": "2022-07-12T18:40:14.393Z"
   },
   {
    "duration": 288,
    "start_time": "2022-07-12T18:40:14.632Z"
   },
   {
    "duration": 277,
    "start_time": "2022-07-12T18:40:14.922Z"
   },
   {
    "duration": 6,
    "start_time": "2022-07-12T18:40:15.201Z"
   },
   {
    "duration": 372,
    "start_time": "2022-07-12T18:40:15.210Z"
   },
   {
    "duration": 252,
    "start_time": "2022-07-12T18:40:15.585Z"
   },
   {
    "duration": 3,
    "start_time": "2022-07-12T18:40:15.838Z"
   },
   {
    "duration": 20,
    "start_time": "2022-07-12T18:40:15.843Z"
   },
   {
    "duration": 95,
    "start_time": "2022-07-12T18:40:15.867Z"
   },
   {
    "duration": 4,
    "start_time": "2022-07-12T18:40:15.966Z"
   },
   {
    "duration": 8,
    "start_time": "2022-07-12T18:40:15.973Z"
   },
   {
    "duration": 9500,
    "start_time": "2022-07-12T18:40:15.984Z"
   },
   {
    "duration": 3,
    "start_time": "2022-07-12T18:40:25.486Z"
   },
   {
    "duration": 34,
    "start_time": "2022-07-12T18:40:25.491Z"
   },
   {
    "duration": 187,
    "start_time": "2022-07-12T18:40:25.530Z"
   },
   {
    "duration": 24,
    "start_time": "2022-07-12T18:40:25.719Z"
   },
   {
    "duration": 21,
    "start_time": "2022-07-12T18:40:25.746Z"
   },
   {
    "duration": 14,
    "start_time": "2022-07-12T18:40:25.770Z"
   },
   {
    "duration": 4036,
    "start_time": "2022-07-12T18:42:54.157Z"
   },
   {
    "duration": 104,
    "start_time": "2022-07-12T18:42:58.195Z"
   },
   {
    "duration": 4,
    "start_time": "2022-07-12T18:42:58.301Z"
   },
   {
    "duration": 12,
    "start_time": "2022-07-12T18:42:58.307Z"
   },
   {
    "duration": 34,
    "start_time": "2022-07-12T18:42:58.322Z"
   },
   {
    "duration": 17,
    "start_time": "2022-07-12T18:42:58.360Z"
   },
   {
    "duration": 18,
    "start_time": "2022-07-12T18:42:58.379Z"
   },
   {
    "duration": 339,
    "start_time": "2022-07-12T18:42:58.399Z"
   },
   {
    "duration": 214,
    "start_time": "2022-07-12T18:42:58.740Z"
   },
   {
    "duration": 348,
    "start_time": "2022-07-12T18:42:58.957Z"
   },
   {
    "duration": 289,
    "start_time": "2022-07-12T18:42:59.309Z"
   },
   {
    "duration": 7,
    "start_time": "2022-07-12T18:42:59.601Z"
   },
   {
    "duration": 370,
    "start_time": "2022-07-12T18:42:59.609Z"
   },
   {
    "duration": 230,
    "start_time": "2022-07-12T18:42:59.982Z"
   },
   {
    "duration": 3,
    "start_time": "2022-07-12T18:43:00.214Z"
   },
   {
    "duration": 16,
    "start_time": "2022-07-12T18:43:00.229Z"
   },
   {
    "duration": 72,
    "start_time": "2022-07-12T18:43:00.247Z"
   },
   {
    "duration": 8,
    "start_time": "2022-07-12T18:43:00.321Z"
   },
   {
    "duration": 17308,
    "start_time": "2022-07-12T18:43:00.331Z"
   },
   {
    "duration": 3,
    "start_time": "2022-07-12T18:43:17.641Z"
   },
   {
    "duration": 12,
    "start_time": "2022-07-12T18:43:17.646Z"
   },
   {
    "duration": 26,
    "start_time": "2022-07-12T18:43:17.660Z"
   },
   {
    "duration": 225,
    "start_time": "2022-07-12T18:43:17.688Z"
   },
   {
    "duration": 15,
    "start_time": "2022-07-12T18:43:17.915Z"
   },
   {
    "duration": 31,
    "start_time": "2022-07-12T18:43:17.935Z"
   },
   {
    "duration": 9,
    "start_time": "2022-07-12T18:43:17.968Z"
   },
   {
    "duration": 103,
    "start_time": "2022-07-12T18:43:48.207Z"
   },
   {
    "duration": 68,
    "start_time": "2022-07-12T18:43:52.607Z"
   },
   {
    "duration": 88,
    "start_time": "2022-07-12T18:43:57.163Z"
   },
   {
    "duration": 62,
    "start_time": "2022-07-12T18:44:01.546Z"
   },
   {
    "duration": 62,
    "start_time": "2022-07-12T18:44:05.712Z"
   },
   {
    "duration": 63,
    "start_time": "2022-07-12T18:44:14.091Z"
   },
   {
    "duration": 93,
    "start_time": "2022-07-12T18:44:19.220Z"
   },
   {
    "duration": 63,
    "start_time": "2022-07-12T18:44:23.450Z"
   },
   {
    "duration": 110,
    "start_time": "2022-07-12T18:44:28.958Z"
   },
   {
    "duration": 70,
    "start_time": "2022-07-12T18:44:34.511Z"
   },
   {
    "duration": 67,
    "start_time": "2022-07-12T18:44:39.613Z"
   },
   {
    "duration": 62,
    "start_time": "2022-07-12T18:44:43.448Z"
   },
   {
    "duration": 60,
    "start_time": "2022-07-12T18:44:48.450Z"
   },
   {
    "duration": 62,
    "start_time": "2022-07-12T18:44:54.104Z"
   },
   {
    "duration": 1568,
    "start_time": "2022-07-12T18:45:04.835Z"
   },
   {
    "duration": 43,
    "start_time": "2022-07-12T18:45:06.405Z"
   },
   {
    "duration": 3,
    "start_time": "2022-07-12T18:45:06.451Z"
   },
   {
    "duration": 13,
    "start_time": "2022-07-12T18:45:06.456Z"
   },
   {
    "duration": 20,
    "start_time": "2022-07-12T18:45:06.472Z"
   },
   {
    "duration": 3,
    "start_time": "2022-07-12T18:45:06.494Z"
   },
   {
    "duration": 39,
    "start_time": "2022-07-12T18:45:06.499Z"
   },
   {
    "duration": 281,
    "start_time": "2022-07-12T18:45:06.541Z"
   },
   {
    "duration": 224,
    "start_time": "2022-07-12T18:45:06.828Z"
   },
   {
    "duration": 275,
    "start_time": "2022-07-12T18:45:07.055Z"
   },
   {
    "duration": 256,
    "start_time": "2022-07-12T18:45:07.332Z"
   },
   {
    "duration": 7,
    "start_time": "2022-07-12T18:45:07.590Z"
   },
   {
    "duration": 338,
    "start_time": "2022-07-12T18:45:07.598Z"
   },
   {
    "duration": 217,
    "start_time": "2022-07-12T18:45:07.940Z"
   },
   {
    "duration": 5,
    "start_time": "2022-07-12T18:45:08.159Z"
   },
   {
    "duration": 13,
    "start_time": "2022-07-12T18:45:08.166Z"
   },
   {
    "duration": 89,
    "start_time": "2022-07-12T18:45:08.181Z"
   },
   {
    "duration": 4,
    "start_time": "2022-07-12T18:45:08.272Z"
   },
   {
    "duration": 17012,
    "start_time": "2022-07-12T18:45:08.278Z"
   },
   {
    "duration": 3,
    "start_time": "2022-07-12T18:45:25.292Z"
   },
   {
    "duration": 11,
    "start_time": "2022-07-12T18:45:25.297Z"
   },
   {
    "duration": 42,
    "start_time": "2022-07-12T18:45:25.310Z"
   },
   {
    "duration": 150,
    "start_time": "2022-07-12T18:45:25.354Z"
   },
   {
    "duration": 7,
    "start_time": "2022-07-12T18:45:25.505Z"
   },
   {
    "duration": 37,
    "start_time": "2022-07-12T18:45:25.513Z"
   },
   {
    "duration": 9,
    "start_time": "2022-07-12T18:45:25.552Z"
   },
   {
    "duration": 1594,
    "start_time": "2022-07-12T18:45:43.656Z"
   },
   {
    "duration": 42,
    "start_time": "2022-07-12T18:45:45.253Z"
   },
   {
    "duration": 3,
    "start_time": "2022-07-12T18:45:45.297Z"
   },
   {
    "duration": 10,
    "start_time": "2022-07-12T18:45:45.302Z"
   },
   {
    "duration": 18,
    "start_time": "2022-07-12T18:45:45.314Z"
   },
   {
    "duration": 6,
    "start_time": "2022-07-12T18:45:45.335Z"
   },
   {
    "duration": 18,
    "start_time": "2022-07-12T18:45:45.344Z"
   },
   {
    "duration": 300,
    "start_time": "2022-07-12T18:45:45.365Z"
   },
   {
    "duration": 217,
    "start_time": "2022-07-12T18:45:45.668Z"
   },
   {
    "duration": 348,
    "start_time": "2022-07-12T18:45:45.888Z"
   },
   {
    "duration": 257,
    "start_time": "2022-07-12T18:45:46.239Z"
   },
   {
    "duration": 6,
    "start_time": "2022-07-12T18:45:46.497Z"
   },
   {
    "duration": 341,
    "start_time": "2022-07-12T18:45:46.505Z"
   },
   {
    "duration": 238,
    "start_time": "2022-07-12T18:45:46.848Z"
   },
   {
    "duration": 3,
    "start_time": "2022-07-12T18:45:47.088Z"
   },
   {
    "duration": 6,
    "start_time": "2022-07-12T18:45:47.093Z"
   },
   {
    "duration": 91,
    "start_time": "2022-07-12T18:45:47.101Z"
   },
   {
    "duration": 3,
    "start_time": "2022-07-12T18:45:47.194Z"
   },
   {
    "duration": 17543,
    "start_time": "2022-07-12T18:45:47.199Z"
   },
   {
    "duration": 3,
    "start_time": "2022-07-12T18:46:04.745Z"
   },
   {
    "duration": 12,
    "start_time": "2022-07-12T18:46:04.750Z"
   },
   {
    "duration": 25,
    "start_time": "2022-07-12T18:46:04.764Z"
   },
   {
    "duration": 178,
    "start_time": "2022-07-12T18:46:04.791Z"
   },
   {
    "duration": 8,
    "start_time": "2022-07-12T18:46:04.971Z"
   },
   {
    "duration": 22,
    "start_time": "2022-07-12T18:46:04.981Z"
   },
   {
    "duration": 7,
    "start_time": "2022-07-12T18:46:05.004Z"
   },
   {
    "duration": 1548,
    "start_time": "2022-07-12T18:46:56.903Z"
   },
   {
    "duration": 39,
    "start_time": "2022-07-12T18:46:58.454Z"
   },
   {
    "duration": 3,
    "start_time": "2022-07-12T18:46:58.495Z"
   },
   {
    "duration": 7,
    "start_time": "2022-07-12T18:46:58.501Z"
   },
   {
    "duration": 22,
    "start_time": "2022-07-12T18:46:58.510Z"
   },
   {
    "duration": 4,
    "start_time": "2022-07-12T18:46:58.534Z"
   },
   {
    "duration": 21,
    "start_time": "2022-07-12T18:46:58.540Z"
   },
   {
    "duration": 278,
    "start_time": "2022-07-12T18:46:58.563Z"
   },
   {
    "duration": 257,
    "start_time": "2022-07-12T18:46:58.843Z"
   },
   {
    "duration": 278,
    "start_time": "2022-07-12T18:46:59.104Z"
   },
   {
    "duration": 248,
    "start_time": "2022-07-12T18:46:59.384Z"
   },
   {
    "duration": 7,
    "start_time": "2022-07-12T18:46:59.634Z"
   },
   {
    "duration": 335,
    "start_time": "2022-07-12T18:46:59.643Z"
   },
   {
    "duration": 206,
    "start_time": "2022-07-12T18:46:59.980Z"
   },
   {
    "duration": 5,
    "start_time": "2022-07-12T18:47:00.188Z"
   },
   {
    "duration": 12,
    "start_time": "2022-07-12T18:47:00.194Z"
   },
   {
    "duration": 77,
    "start_time": "2022-07-12T18:47:00.208Z"
   },
   {
    "duration": 3,
    "start_time": "2022-07-12T18:47:00.287Z"
   },
   {
    "duration": 16406,
    "start_time": "2022-07-12T18:47:00.292Z"
   },
   {
    "duration": 3,
    "start_time": "2022-07-12T18:47:16.700Z"
   },
   {
    "duration": 14,
    "start_time": "2022-07-12T18:47:16.704Z"
   },
   {
    "duration": 22,
    "start_time": "2022-07-12T18:47:16.723Z"
   },
   {
    "duration": 159,
    "start_time": "2022-07-12T18:47:16.747Z"
   },
   {
    "duration": 15,
    "start_time": "2022-07-12T18:47:16.908Z"
   },
   {
    "duration": 23,
    "start_time": "2022-07-12T18:47:16.926Z"
   },
   {
    "duration": 8,
    "start_time": "2022-07-12T18:47:16.951Z"
   },
   {
    "duration": 1559,
    "start_time": "2022-07-12T18:47:34.158Z"
   },
   {
    "duration": 47,
    "start_time": "2022-07-12T18:47:35.720Z"
   },
   {
    "duration": 3,
    "start_time": "2022-07-12T18:47:35.769Z"
   },
   {
    "duration": 11,
    "start_time": "2022-07-12T18:47:35.774Z"
   },
   {
    "duration": 13,
    "start_time": "2022-07-12T18:47:35.787Z"
   },
   {
    "duration": 4,
    "start_time": "2022-07-12T18:47:35.802Z"
   },
   {
    "duration": 27,
    "start_time": "2022-07-12T18:47:35.808Z"
   },
   {
    "duration": 290,
    "start_time": "2022-07-12T18:47:35.837Z"
   },
   {
    "duration": 215,
    "start_time": "2022-07-12T18:47:36.128Z"
   },
   {
    "duration": 263,
    "start_time": "2022-07-12T18:47:36.345Z"
   },
   {
    "duration": 268,
    "start_time": "2022-07-12T18:47:36.609Z"
   },
   {
    "duration": 6,
    "start_time": "2022-07-12T18:47:36.880Z"
   },
   {
    "duration": 351,
    "start_time": "2022-07-12T18:47:36.888Z"
   },
   {
    "duration": 223,
    "start_time": "2022-07-12T18:47:37.242Z"
   },
   {
    "duration": 3,
    "start_time": "2022-07-12T18:47:37.467Z"
   },
   {
    "duration": 7,
    "start_time": "2022-07-12T18:47:37.472Z"
   },
   {
    "duration": 86,
    "start_time": "2022-07-12T18:47:37.480Z"
   },
   {
    "duration": 3,
    "start_time": "2022-07-12T18:47:37.567Z"
   },
   {
    "duration": 16801,
    "start_time": "2022-07-12T18:47:37.572Z"
   },
   {
    "duration": 3,
    "start_time": "2022-07-12T18:47:54.375Z"
   },
   {
    "duration": 8,
    "start_time": "2022-07-12T18:47:54.379Z"
   },
   {
    "duration": 37,
    "start_time": "2022-07-12T18:47:54.388Z"
   },
   {
    "duration": 155,
    "start_time": "2022-07-12T18:47:54.427Z"
   },
   {
    "duration": 8,
    "start_time": "2022-07-12T18:47:54.584Z"
   },
   {
    "duration": 31,
    "start_time": "2022-07-12T18:47:54.593Z"
   },
   {
    "duration": 9,
    "start_time": "2022-07-12T18:47:54.626Z"
   },
   {
    "duration": 1527,
    "start_time": "2022-07-12T18:48:20.546Z"
   },
   {
    "duration": 37,
    "start_time": "2022-07-12T18:48:22.076Z"
   },
   {
    "duration": 3,
    "start_time": "2022-07-12T18:48:22.116Z"
   },
   {
    "duration": 20,
    "start_time": "2022-07-12T18:48:22.122Z"
   },
   {
    "duration": 16,
    "start_time": "2022-07-12T18:48:22.144Z"
   },
   {
    "duration": 3,
    "start_time": "2022-07-12T18:48:22.162Z"
   },
   {
    "duration": 16,
    "start_time": "2022-07-12T18:48:22.167Z"
   },
   {
    "duration": 282,
    "start_time": "2022-07-12T18:48:22.185Z"
   },
   {
    "duration": 223,
    "start_time": "2022-07-12T18:48:22.469Z"
   },
   {
    "duration": 301,
    "start_time": "2022-07-12T18:48:22.695Z"
   },
   {
    "duration": 276,
    "start_time": "2022-07-12T18:48:22.997Z"
   },
   {
    "duration": 6,
    "start_time": "2022-07-12T18:48:23.275Z"
   },
   {
    "duration": 325,
    "start_time": "2022-07-12T18:48:23.283Z"
   },
   {
    "duration": 217,
    "start_time": "2022-07-12T18:48:23.610Z"
   },
   {
    "duration": 3,
    "start_time": "2022-07-12T18:48:23.829Z"
   },
   {
    "duration": 13,
    "start_time": "2022-07-12T18:48:23.835Z"
   },
   {
    "duration": 77,
    "start_time": "2022-07-12T18:48:23.850Z"
   },
   {
    "duration": 4,
    "start_time": "2022-07-12T18:48:23.929Z"
   },
   {
    "duration": 18024,
    "start_time": "2022-07-12T18:48:23.934Z"
   },
   {
    "duration": 3,
    "start_time": "2022-07-12T18:48:41.960Z"
   },
   {
    "duration": 25,
    "start_time": "2022-07-12T18:48:41.965Z"
   },
   {
    "duration": 46,
    "start_time": "2022-07-12T18:48:41.992Z"
   },
   {
    "duration": 161,
    "start_time": "2022-07-12T18:48:42.040Z"
   },
   {
    "duration": 8,
    "start_time": "2022-07-12T18:48:42.203Z"
   },
   {
    "duration": 26,
    "start_time": "2022-07-12T18:48:42.223Z"
   },
   {
    "duration": 18,
    "start_time": "2022-07-12T18:48:42.251Z"
   },
   {
    "duration": 1575,
    "start_time": "2022-07-12T18:51:20.245Z"
   },
   {
    "duration": 44,
    "start_time": "2022-07-12T18:51:21.822Z"
   },
   {
    "duration": 3,
    "start_time": "2022-07-12T18:51:21.868Z"
   },
   {
    "duration": 9,
    "start_time": "2022-07-12T18:51:21.873Z"
   },
   {
    "duration": 21,
    "start_time": "2022-07-12T18:51:21.885Z"
   },
   {
    "duration": 6,
    "start_time": "2022-07-12T18:51:21.908Z"
   },
   {
    "duration": 18,
    "start_time": "2022-07-12T18:51:21.915Z"
   },
   {
    "duration": 283,
    "start_time": "2022-07-12T18:51:21.935Z"
   },
   {
    "duration": 206,
    "start_time": "2022-07-12T18:51:22.222Z"
   },
   {
    "duration": 256,
    "start_time": "2022-07-12T18:51:22.430Z"
   },
   {
    "duration": 252,
    "start_time": "2022-07-12T18:51:22.687Z"
   },
   {
    "duration": 8,
    "start_time": "2022-07-12T18:51:22.941Z"
   },
   {
    "duration": 329,
    "start_time": "2022-07-12T18:51:22.951Z"
   },
   {
    "duration": 208,
    "start_time": "2022-07-12T18:51:23.284Z"
   },
   {
    "duration": 2,
    "start_time": "2022-07-12T18:51:23.494Z"
   },
   {
    "duration": 5,
    "start_time": "2022-07-12T18:51:23.498Z"
   },
   {
    "duration": 18,
    "start_time": "2022-07-12T18:51:23.505Z"
   },
   {
    "duration": 272,
    "start_time": "2022-07-12T18:51:23.525Z"
   },
   {
    "duration": 0,
    "start_time": "2022-07-12T18:51:23.799Z"
   },
   {
    "duration": 0,
    "start_time": "2022-07-12T18:51:23.800Z"
   },
   {
    "duration": 0,
    "start_time": "2022-07-12T18:51:23.801Z"
   },
   {
    "duration": 0,
    "start_time": "2022-07-12T18:51:23.803Z"
   },
   {
    "duration": 0,
    "start_time": "2022-07-12T18:51:23.804Z"
   },
   {
    "duration": 0,
    "start_time": "2022-07-12T18:51:23.805Z"
   },
   {
    "duration": 0,
    "start_time": "2022-07-12T18:51:23.806Z"
   },
   {
    "duration": 0,
    "start_time": "2022-07-12T18:51:23.807Z"
   },
   {
    "duration": 0,
    "start_time": "2022-07-12T18:51:23.808Z"
   },
   {
    "duration": 0,
    "start_time": "2022-07-12T18:51:23.810Z"
   },
   {
    "duration": 1481,
    "start_time": "2022-07-12T18:52:12.214Z"
   },
   {
    "duration": 43,
    "start_time": "2022-07-12T18:52:13.697Z"
   },
   {
    "duration": 3,
    "start_time": "2022-07-12T18:52:13.743Z"
   },
   {
    "duration": 12,
    "start_time": "2022-07-12T18:52:13.749Z"
   },
   {
    "duration": 12,
    "start_time": "2022-07-12T18:52:13.762Z"
   },
   {
    "duration": 2,
    "start_time": "2022-07-12T18:52:13.776Z"
   },
   {
    "duration": 14,
    "start_time": "2022-07-12T18:52:13.780Z"
   },
   {
    "duration": 286,
    "start_time": "2022-07-12T18:52:13.795Z"
   },
   {
    "duration": 218,
    "start_time": "2022-07-12T18:52:14.083Z"
   },
   {
    "duration": 272,
    "start_time": "2022-07-12T18:52:14.304Z"
   },
   {
    "duration": 246,
    "start_time": "2022-07-12T18:52:14.577Z"
   },
   {
    "duration": 8,
    "start_time": "2022-07-12T18:52:14.825Z"
   },
   {
    "duration": 337,
    "start_time": "2022-07-12T18:52:14.835Z"
   },
   {
    "duration": 201,
    "start_time": "2022-07-12T18:52:15.175Z"
   },
   {
    "duration": 2,
    "start_time": "2022-07-12T18:52:15.378Z"
   },
   {
    "duration": 11,
    "start_time": "2022-07-12T18:52:15.382Z"
   },
   {
    "duration": 7,
    "start_time": "2022-07-12T18:52:15.394Z"
   },
   {
    "duration": 84,
    "start_time": "2022-07-12T18:52:15.403Z"
   },
   {
    "duration": 11,
    "start_time": "2022-07-12T18:52:15.489Z"
   },
   {
    "duration": 14,
    "start_time": "2022-07-12T18:52:15.502Z"
   },
   {
    "duration": 15858,
    "start_time": "2022-07-12T18:52:15.518Z"
   },
   {
    "duration": 3,
    "start_time": "2022-07-12T18:52:31.378Z"
   },
   {
    "duration": 13,
    "start_time": "2022-07-12T18:52:31.382Z"
   },
   {
    "duration": 31,
    "start_time": "2022-07-12T18:52:31.396Z"
   },
   {
    "duration": 150,
    "start_time": "2022-07-12T18:52:31.429Z"
   },
   {
    "duration": 7,
    "start_time": "2022-07-12T18:52:31.581Z"
   },
   {
    "duration": 21,
    "start_time": "2022-07-12T18:52:31.589Z"
   },
   {
    "duration": 17,
    "start_time": "2022-07-12T18:52:31.613Z"
   },
   {
    "duration": 148,
    "start_time": "2022-07-12T18:53:02.399Z"
   },
   {
    "duration": 1431,
    "start_time": "2022-07-12T18:54:32.458Z"
   },
   {
    "duration": 42,
    "start_time": "2022-07-12T18:54:33.891Z"
   },
   {
    "duration": 4,
    "start_time": "2022-07-12T18:54:33.935Z"
   },
   {
    "duration": 13,
    "start_time": "2022-07-12T18:54:33.941Z"
   },
   {
    "duration": 12,
    "start_time": "2022-07-12T18:54:33.957Z"
   },
   {
    "duration": 3,
    "start_time": "2022-07-12T18:54:33.970Z"
   },
   {
    "duration": 12,
    "start_time": "2022-07-12T18:54:33.975Z"
   },
   {
    "duration": 264,
    "start_time": "2022-07-12T18:54:33.989Z"
   },
   {
    "duration": 207,
    "start_time": "2022-07-12T18:54:34.254Z"
   },
   {
    "duration": 236,
    "start_time": "2022-07-12T18:54:34.463Z"
   },
   {
    "duration": 242,
    "start_time": "2022-07-12T18:54:34.701Z"
   },
   {
    "duration": 7,
    "start_time": "2022-07-12T18:54:34.949Z"
   },
   {
    "duration": 296,
    "start_time": "2022-07-12T18:54:34.958Z"
   },
   {
    "duration": 212,
    "start_time": "2022-07-12T18:54:35.257Z"
   },
   {
    "duration": 3,
    "start_time": "2022-07-12T18:54:35.472Z"
   },
   {
    "duration": 14,
    "start_time": "2022-07-12T18:54:35.477Z"
   },
   {
    "duration": 5,
    "start_time": "2022-07-12T18:54:35.493Z"
   },
   {
    "duration": 77,
    "start_time": "2022-07-12T18:54:35.500Z"
   },
   {
    "duration": 4,
    "start_time": "2022-07-12T18:54:35.579Z"
   },
   {
    "duration": 6,
    "start_time": "2022-07-12T18:54:35.584Z"
   },
   {
    "duration": 16030,
    "start_time": "2022-07-12T18:54:35.591Z"
   },
   {
    "duration": 3,
    "start_time": "2022-07-12T18:54:51.624Z"
   },
   {
    "duration": 22,
    "start_time": "2022-07-12T18:54:51.629Z"
   },
   {
    "duration": 28,
    "start_time": "2022-07-12T18:54:51.654Z"
   },
   {
    "duration": 153,
    "start_time": "2022-07-12T18:54:51.683Z"
   },
   {
    "duration": 7,
    "start_time": "2022-07-12T18:54:51.838Z"
   },
   {
    "duration": 21,
    "start_time": "2022-07-12T18:54:51.847Z"
   },
   {
    "duration": 10,
    "start_time": "2022-07-12T18:54:51.871Z"
   },
   {
    "duration": 14,
    "start_time": "2022-07-12T18:56:40.411Z"
   },
   {
    "duration": 1482,
    "start_time": "2022-07-12T18:56:56.170Z"
   },
   {
    "duration": 38,
    "start_time": "2022-07-12T18:56:57.655Z"
   },
   {
    "duration": 3,
    "start_time": "2022-07-12T18:56:57.694Z"
   },
   {
    "duration": 7,
    "start_time": "2022-07-12T18:56:57.700Z"
   },
   {
    "duration": 20,
    "start_time": "2022-07-12T18:56:57.709Z"
   },
   {
    "duration": 14,
    "start_time": "2022-07-12T18:56:57.731Z"
   },
   {
    "duration": 4,
    "start_time": "2022-07-12T18:56:57.747Z"
   },
   {
    "duration": 16,
    "start_time": "2022-07-12T18:56:57.752Z"
   },
   {
    "duration": 267,
    "start_time": "2022-07-12T18:56:57.770Z"
   },
   {
    "duration": 203,
    "start_time": "2022-07-12T18:56:58.041Z"
   },
   {
    "duration": 242,
    "start_time": "2022-07-12T18:56:58.246Z"
   },
   {
    "duration": 232,
    "start_time": "2022-07-12T18:56:58.490Z"
   },
   {
    "duration": 7,
    "start_time": "2022-07-12T18:56:58.724Z"
   },
   {
    "duration": 361,
    "start_time": "2022-07-12T18:56:58.735Z"
   },
   {
    "duration": 232,
    "start_time": "2022-07-12T18:56:59.099Z"
   },
   {
    "duration": 4,
    "start_time": "2022-07-12T18:56:59.333Z"
   },
   {
    "duration": 10,
    "start_time": "2022-07-12T18:56:59.339Z"
   },
   {
    "duration": 5,
    "start_time": "2022-07-12T18:56:59.351Z"
   },
   {
    "duration": 81,
    "start_time": "2022-07-12T18:56:59.358Z"
   },
   {
    "duration": 3,
    "start_time": "2022-07-12T18:56:59.441Z"
   },
   {
    "duration": 10,
    "start_time": "2022-07-12T18:56:59.446Z"
   },
   {
    "duration": 16126,
    "start_time": "2022-07-12T18:56:59.458Z"
   },
   {
    "duration": 4,
    "start_time": "2022-07-12T18:57:15.585Z"
   },
   {
    "duration": 11,
    "start_time": "2022-07-12T18:57:15.590Z"
   },
   {
    "duration": 45,
    "start_time": "2022-07-12T18:57:15.603Z"
   },
   {
    "duration": 168,
    "start_time": "2022-07-12T18:57:15.650Z"
   },
   {
    "duration": 9,
    "start_time": "2022-07-12T18:57:15.822Z"
   },
   {
    "duration": 23,
    "start_time": "2022-07-12T18:57:15.835Z"
   },
   {
    "duration": 13,
    "start_time": "2022-07-12T18:57:15.860Z"
   },
   {
    "duration": 1579,
    "start_time": "2022-07-12T18:58:45.739Z"
   },
   {
    "duration": 44,
    "start_time": "2022-07-12T18:58:47.321Z"
   },
   {
    "duration": 12,
    "start_time": "2022-07-12T18:58:47.367Z"
   },
   {
    "duration": 4,
    "start_time": "2022-07-12T18:58:47.381Z"
   },
   {
    "duration": 9,
    "start_time": "2022-07-12T18:58:47.388Z"
   },
   {
    "duration": 12,
    "start_time": "2022-07-12T18:58:47.398Z"
   },
   {
    "duration": 13,
    "start_time": "2022-07-12T18:58:47.424Z"
   },
   {
    "duration": 15,
    "start_time": "2022-07-12T18:58:47.439Z"
   },
   {
    "duration": 19,
    "start_time": "2022-07-12T18:58:47.456Z"
   },
   {
    "duration": 254,
    "start_time": "2022-07-12T18:58:47.477Z"
   },
   {
    "duration": 202,
    "start_time": "2022-07-12T18:58:47.733Z"
   },
   {
    "duration": 253,
    "start_time": "2022-07-12T18:58:47.937Z"
   },
   {
    "duration": 265,
    "start_time": "2022-07-12T18:58:48.192Z"
   },
   {
    "duration": 7,
    "start_time": "2022-07-12T18:58:48.461Z"
   },
   {
    "duration": 302,
    "start_time": "2022-07-12T18:58:48.469Z"
   },
   {
    "duration": 198,
    "start_time": "2022-07-12T18:58:48.773Z"
   },
   {
    "duration": 3,
    "start_time": "2022-07-12T18:58:48.973Z"
   },
   {
    "duration": 10,
    "start_time": "2022-07-12T18:58:48.978Z"
   },
   {
    "duration": 13,
    "start_time": "2022-07-12T18:58:48.990Z"
   },
   {
    "duration": 85,
    "start_time": "2022-07-12T18:58:49.005Z"
   },
   {
    "duration": 4,
    "start_time": "2022-07-12T18:58:49.092Z"
   },
   {
    "duration": 7,
    "start_time": "2022-07-12T18:58:49.098Z"
   },
   {
    "duration": 15702,
    "start_time": "2022-07-12T18:58:49.107Z"
   },
   {
    "duration": 3,
    "start_time": "2022-07-12T18:59:04.811Z"
   },
   {
    "duration": 11,
    "start_time": "2022-07-12T18:59:04.815Z"
   },
   {
    "duration": 30,
    "start_time": "2022-07-12T18:59:04.828Z"
   },
   {
    "duration": 168,
    "start_time": "2022-07-12T18:59:04.859Z"
   },
   {
    "duration": 9,
    "start_time": "2022-07-12T18:59:05.030Z"
   },
   {
    "duration": 26,
    "start_time": "2022-07-12T18:59:05.041Z"
   },
   {
    "duration": 7,
    "start_time": "2022-07-12T18:59:05.068Z"
   },
   {
    "duration": 2178,
    "start_time": "2022-07-13T17:35:02.045Z"
   },
   {
    "duration": 155,
    "start_time": "2022-07-13T17:35:04.225Z"
   },
   {
    "duration": 15,
    "start_time": "2022-07-13T17:35:04.382Z"
   },
   {
    "duration": 3,
    "start_time": "2022-07-13T17:35:04.399Z"
   },
   {
    "duration": 12,
    "start_time": "2022-07-13T17:35:04.404Z"
   },
   {
    "duration": 12,
    "start_time": "2022-07-13T17:35:04.418Z"
   },
   {
    "duration": 10,
    "start_time": "2022-07-13T17:35:04.432Z"
   },
   {
    "duration": 5,
    "start_time": "2022-07-13T17:35:04.444Z"
   },
   {
    "duration": 14,
    "start_time": "2022-07-13T17:35:04.450Z"
   },
   {
    "duration": 259,
    "start_time": "2022-07-13T17:35:04.467Z"
   },
   {
    "duration": 192,
    "start_time": "2022-07-13T17:35:04.728Z"
   },
   {
    "duration": 253,
    "start_time": "2022-07-13T17:35:04.922Z"
   },
   {
    "duration": 301,
    "start_time": "2022-07-13T17:35:05.177Z"
   },
   {
    "duration": 7,
    "start_time": "2022-07-13T17:35:05.480Z"
   },
   {
    "duration": 318,
    "start_time": "2022-07-13T17:35:05.489Z"
   },
   {
    "duration": 206,
    "start_time": "2022-07-13T17:35:05.809Z"
   },
   {
    "duration": 4,
    "start_time": "2022-07-13T17:35:06.016Z"
   },
   {
    "duration": 7,
    "start_time": "2022-07-13T17:35:06.022Z"
   },
   {
    "duration": 16,
    "start_time": "2022-07-13T17:35:06.031Z"
   },
   {
    "duration": 64,
    "start_time": "2022-07-13T17:35:06.049Z"
   },
   {
    "duration": 3,
    "start_time": "2022-07-13T17:35:06.115Z"
   },
   {
    "duration": 7,
    "start_time": "2022-07-13T17:35:06.119Z"
   },
   {
    "duration": 14447,
    "start_time": "2022-07-13T17:35:06.127Z"
   },
   {
    "duration": 2,
    "start_time": "2022-07-13T17:35:20.576Z"
   },
   {
    "duration": 9,
    "start_time": "2022-07-13T17:35:20.580Z"
   },
   {
    "duration": 35,
    "start_time": "2022-07-13T17:35:20.590Z"
   },
   {
    "duration": 142,
    "start_time": "2022-07-13T17:35:20.626Z"
   },
   {
    "duration": 7,
    "start_time": "2022-07-13T17:35:20.771Z"
   },
   {
    "duration": 32,
    "start_time": "2022-07-13T17:35:20.780Z"
   },
   {
    "duration": 7,
    "start_time": "2022-07-13T17:35:20.814Z"
   },
   {
    "duration": 1667,
    "start_time": "2022-07-13T19:38:05.007Z"
   },
   {
    "duration": 34,
    "start_time": "2022-07-13T19:38:06.676Z"
   },
   {
    "duration": 10,
    "start_time": "2022-07-13T19:38:06.712Z"
   },
   {
    "duration": 2,
    "start_time": "2022-07-13T19:38:06.724Z"
   },
   {
    "duration": 8,
    "start_time": "2022-07-13T19:38:06.727Z"
   },
   {
    "duration": 8,
    "start_time": "2022-07-13T19:38:06.742Z"
   },
   {
    "duration": 10,
    "start_time": "2022-07-13T19:38:07.190Z"
   },
   {
    "duration": 2,
    "start_time": "2022-07-13T19:38:07.658Z"
   },
   {
    "duration": 13,
    "start_time": "2022-07-13T19:38:08.113Z"
   },
   {
    "duration": 4,
    "start_time": "2022-07-13T19:40:36.374Z"
   },
   {
    "duration": 33,
    "start_time": "2022-07-13T19:40:37.129Z"
   },
   {
    "duration": 9,
    "start_time": "2022-07-13T19:40:37.295Z"
   },
   {
    "duration": 3,
    "start_time": "2022-07-13T19:40:37.452Z"
   },
   {
    "duration": 4,
    "start_time": "2022-07-13T19:40:37.595Z"
   },
   {
    "duration": 7,
    "start_time": "2022-07-13T19:40:37.760Z"
   },
   {
    "duration": 9,
    "start_time": "2022-07-13T19:40:37.917Z"
   },
   {
    "duration": 3,
    "start_time": "2022-07-13T19:40:38.044Z"
   },
   {
    "duration": 11,
    "start_time": "2022-07-13T19:40:38.195Z"
   },
   {
    "duration": 220,
    "start_time": "2022-07-13T19:40:38.776Z"
   },
   {
    "duration": 167,
    "start_time": "2022-07-13T19:40:38.998Z"
   },
   {
    "duration": 198,
    "start_time": "2022-07-13T19:40:39.167Z"
   },
   {
    "duration": 198,
    "start_time": "2022-07-13T19:40:39.367Z"
   },
   {
    "duration": 5,
    "start_time": "2022-07-13T19:40:39.567Z"
   },
   {
    "duration": 249,
    "start_time": "2022-07-13T19:40:39.601Z"
   },
   {
    "duration": 169,
    "start_time": "2022-07-13T19:40:39.852Z"
   },
   {
    "duration": 3,
    "start_time": "2022-07-13T19:40:40.507Z"
   },
   {
    "duration": 4,
    "start_time": "2022-07-13T19:40:40.956Z"
   },
   {
    "duration": 2,
    "start_time": "2022-07-13T19:40:42.518Z"
   },
   {
    "duration": 54,
    "start_time": "2022-07-13T19:40:43.155Z"
   },
   {
    "duration": 21,
    "start_time": "2022-07-13T19:41:13.329Z"
   },
   {
    "duration": 1540,
    "start_time": "2022-07-14T05:56:45.776Z"
   },
   {
    "duration": 89,
    "start_time": "2022-07-14T05:56:47.318Z"
   },
   {
    "duration": 12,
    "start_time": "2022-07-14T05:56:47.408Z"
   },
   {
    "duration": 2,
    "start_time": "2022-07-14T05:56:47.422Z"
   },
   {
    "duration": 12,
    "start_time": "2022-07-14T05:56:47.426Z"
   },
   {
    "duration": 13,
    "start_time": "2022-07-14T05:56:47.439Z"
   },
   {
    "duration": 9,
    "start_time": "2022-07-14T05:56:47.454Z"
   },
   {
    "duration": 5,
    "start_time": "2022-07-14T05:56:47.465Z"
   },
   {
    "duration": 15,
    "start_time": "2022-07-14T05:56:47.472Z"
   },
   {
    "duration": 266,
    "start_time": "2022-07-14T05:56:47.490Z"
   },
   {
    "duration": 196,
    "start_time": "2022-07-14T05:56:47.757Z"
   },
   {
    "duration": 316,
    "start_time": "2022-07-14T05:56:47.955Z"
   },
   {
    "duration": 226,
    "start_time": "2022-07-14T05:56:48.273Z"
   },
   {
    "duration": 9,
    "start_time": "2022-07-14T05:56:48.501Z"
   },
   {
    "duration": 220,
    "start_time": "2022-07-14T05:56:48.511Z"
   },
   {
    "duration": 198,
    "start_time": "2022-07-14T05:56:48.733Z"
   },
   {
    "duration": 3,
    "start_time": "2022-07-14T05:56:48.932Z"
   },
   {
    "duration": 11,
    "start_time": "2022-07-14T05:56:48.936Z"
   },
   {
    "duration": 12,
    "start_time": "2022-07-14T05:56:48.949Z"
   },
   {
    "duration": 218,
    "start_time": "2022-07-14T05:56:48.963Z"
   },
   {
    "duration": 15,
    "start_time": "2022-07-14T05:56:49.182Z"
   },
   {
    "duration": 13,
    "start_time": "2022-07-14T05:56:49.199Z"
   },
   {
    "duration": 8,
    "start_time": "2022-07-14T05:56:49.213Z"
   },
   {
    "duration": 55274,
    "start_time": "2022-07-14T05:56:49.223Z"
   },
   {
    "duration": 3,
    "start_time": "2022-07-14T05:57:44.499Z"
   },
   {
    "duration": 7,
    "start_time": "2022-07-14T05:57:44.503Z"
   },
   {
    "duration": 23,
    "start_time": "2022-07-14T05:57:44.512Z"
   },
   {
    "duration": 776,
    "start_time": "2022-07-14T05:57:44.562Z"
   },
   {
    "duration": 6,
    "start_time": "2022-07-14T05:57:45.339Z"
   },
   {
    "duration": 25,
    "start_time": "2022-07-14T05:57:45.347Z"
   },
   {
    "duration": 6,
    "start_time": "2022-07-14T05:57:45.373Z"
   },
   {
    "duration": 1319,
    "start_time": "2022-07-14T05:58:27.370Z"
   },
   {
    "duration": 37,
    "start_time": "2022-07-14T05:58:28.691Z"
   },
   {
    "duration": 11,
    "start_time": "2022-07-14T05:58:28.729Z"
   },
   {
    "duration": 11,
    "start_time": "2022-07-14T05:58:28.741Z"
   },
   {
    "duration": 12,
    "start_time": "2022-07-14T05:58:28.753Z"
   },
   {
    "duration": 17,
    "start_time": "2022-07-14T05:58:28.766Z"
   },
   {
    "duration": 18,
    "start_time": "2022-07-14T05:58:28.785Z"
   },
   {
    "duration": 9,
    "start_time": "2022-07-14T05:58:28.804Z"
   },
   {
    "duration": 20,
    "start_time": "2022-07-14T05:58:28.815Z"
   },
   {
    "duration": 252,
    "start_time": "2022-07-14T05:58:28.838Z"
   },
   {
    "duration": 191,
    "start_time": "2022-07-14T05:58:29.092Z"
   },
   {
    "duration": 305,
    "start_time": "2022-07-14T05:58:29.285Z"
   },
   {
    "duration": 214,
    "start_time": "2022-07-14T05:58:29.592Z"
   },
   {
    "duration": 8,
    "start_time": "2022-07-14T05:58:29.808Z"
   },
   {
    "duration": 193,
    "start_time": "2022-07-14T05:58:29.817Z"
   },
   {
    "duration": 199,
    "start_time": "2022-07-14T05:58:30.012Z"
   },
   {
    "duration": 4,
    "start_time": "2022-07-14T05:58:30.212Z"
   },
   {
    "duration": 23,
    "start_time": "2022-07-14T05:58:30.217Z"
   },
   {
    "duration": 21,
    "start_time": "2022-07-14T05:58:30.242Z"
   },
   {
    "duration": 65,
    "start_time": "2022-07-14T05:58:30.264Z"
   },
   {
    "duration": 18,
    "start_time": "2022-07-14T05:58:30.337Z"
   },
   {
    "duration": 18,
    "start_time": "2022-07-14T05:58:30.357Z"
   },
   {
    "duration": 11,
    "start_time": "2022-07-14T05:58:30.377Z"
   },
   {
    "duration": 54872,
    "start_time": "2022-07-14T05:58:30.389Z"
   },
   {
    "duration": 3,
    "start_time": "2022-07-14T05:59:25.263Z"
   },
   {
    "duration": 17,
    "start_time": "2022-07-14T05:59:25.269Z"
   },
   {
    "duration": 47,
    "start_time": "2022-07-14T05:59:25.288Z"
   },
   {
    "duration": 442,
    "start_time": "2022-07-14T05:59:25.339Z"
   },
   {
    "duration": 6,
    "start_time": "2022-07-14T05:59:25.783Z"
   },
   {
    "duration": 22,
    "start_time": "2022-07-14T05:59:25.790Z"
   },
   {
    "duration": 6,
    "start_time": "2022-07-14T05:59:25.813Z"
   },
   {
    "duration": 1366,
    "start_time": "2022-07-14T06:00:45.612Z"
   },
   {
    "duration": 35,
    "start_time": "2022-07-14T06:00:46.980Z"
   },
   {
    "duration": 11,
    "start_time": "2022-07-14T06:00:47.016Z"
   },
   {
    "duration": 10,
    "start_time": "2022-07-14T06:00:47.028Z"
   },
   {
    "duration": 4,
    "start_time": "2022-07-14T06:00:47.040Z"
   },
   {
    "duration": 15,
    "start_time": "2022-07-14T06:00:47.045Z"
   },
   {
    "duration": 8,
    "start_time": "2022-07-14T06:00:47.062Z"
   },
   {
    "duration": 10,
    "start_time": "2022-07-14T06:00:47.071Z"
   },
   {
    "duration": 4,
    "start_time": "2022-07-14T06:00:47.083Z"
   },
   {
    "duration": 10,
    "start_time": "2022-07-14T06:00:47.090Z"
   },
   {
    "duration": 280,
    "start_time": "2022-07-14T06:00:47.101Z"
   },
   {
    "duration": 197,
    "start_time": "2022-07-14T06:00:47.383Z"
   },
   {
    "duration": 326,
    "start_time": "2022-07-14T06:00:47.581Z"
   },
   {
    "duration": 217,
    "start_time": "2022-07-14T06:00:47.908Z"
   },
   {
    "duration": 8,
    "start_time": "2022-07-14T06:00:48.127Z"
   },
   {
    "duration": 201,
    "start_time": "2022-07-14T06:00:48.136Z"
   },
   {
    "duration": 205,
    "start_time": "2022-07-14T06:00:48.338Z"
   },
   {
    "duration": 2,
    "start_time": "2022-07-14T06:00:48.545Z"
   },
   {
    "duration": 12,
    "start_time": "2022-07-14T06:00:48.549Z"
   },
   {
    "duration": 6,
    "start_time": "2022-07-14T06:00:48.563Z"
   },
   {
    "duration": 66,
    "start_time": "2022-07-14T06:00:48.571Z"
   },
   {
    "duration": 24,
    "start_time": "2022-07-14T06:00:48.639Z"
   },
   {
    "duration": 6,
    "start_time": "2022-07-14T06:00:48.665Z"
   },
   {
    "duration": 14,
    "start_time": "2022-07-14T06:00:48.673Z"
   },
   {
    "duration": 75955,
    "start_time": "2022-07-14T06:00:48.689Z"
   },
   {
    "duration": 2,
    "start_time": "2022-07-14T06:02:04.646Z"
   },
   {
    "duration": 11,
    "start_time": "2022-07-14T06:02:04.650Z"
   },
   {
    "duration": 22,
    "start_time": "2022-07-14T06:02:04.664Z"
   },
   {
    "duration": 344,
    "start_time": "2022-07-14T06:02:04.688Z"
   },
   {
    "duration": 6,
    "start_time": "2022-07-14T06:02:05.034Z"
   },
   {
    "duration": 33,
    "start_time": "2022-07-14T06:02:05.042Z"
   },
   {
    "duration": 30,
    "start_time": "2022-07-14T06:02:05.077Z"
   },
   {
    "duration": 1421,
    "start_time": "2022-07-14T06:03:34.886Z"
   },
   {
    "duration": 83,
    "start_time": "2022-07-14T06:03:36.310Z"
   },
   {
    "duration": 18,
    "start_time": "2022-07-14T06:03:36.396Z"
   },
   {
    "duration": 12,
    "start_time": "2022-07-14T06:03:36.417Z"
   },
   {
    "duration": 5,
    "start_time": "2022-07-14T06:03:36.431Z"
   },
   {
    "duration": 24,
    "start_time": "2022-07-14T06:03:36.438Z"
   },
   {
    "duration": 15,
    "start_time": "2022-07-14T06:03:36.464Z"
   },
   {
    "duration": 14,
    "start_time": "2022-07-14T06:03:36.481Z"
   },
   {
    "duration": 6,
    "start_time": "2022-07-14T06:03:36.497Z"
   },
   {
    "duration": 12,
    "start_time": "2022-07-14T06:03:36.506Z"
   },
   {
    "duration": 273,
    "start_time": "2022-07-14T06:03:36.520Z"
   },
   {
    "duration": 210,
    "start_time": "2022-07-14T06:03:36.795Z"
   },
   {
    "duration": 310,
    "start_time": "2022-07-14T06:03:37.007Z"
   },
   {
    "duration": 220,
    "start_time": "2022-07-14T06:03:37.319Z"
   },
   {
    "duration": 8,
    "start_time": "2022-07-14T06:03:37.541Z"
   },
   {
    "duration": 221,
    "start_time": "2022-07-14T06:03:37.551Z"
   },
   {
    "duration": 199,
    "start_time": "2022-07-14T06:03:37.774Z"
   },
   {
    "duration": 3,
    "start_time": "2022-07-14T06:03:37.975Z"
   },
   {
    "duration": 32,
    "start_time": "2022-07-14T06:03:37.980Z"
   },
   {
    "duration": 36,
    "start_time": "2022-07-14T06:03:38.013Z"
   },
   {
    "duration": 76,
    "start_time": "2022-07-14T06:03:38.051Z"
   },
   {
    "duration": 16,
    "start_time": "2022-07-14T06:03:38.128Z"
   },
   {
    "duration": 30,
    "start_time": "2022-07-14T06:03:38.146Z"
   },
   {
    "duration": 22,
    "start_time": "2022-07-14T06:03:38.177Z"
   },
   {
    "duration": 91640,
    "start_time": "2022-07-14T06:03:38.200Z"
   },
   {
    "duration": 2,
    "start_time": "2022-07-14T06:05:09.842Z"
   },
   {
    "duration": 9,
    "start_time": "2022-07-14T06:05:09.846Z"
   },
   {
    "duration": 19,
    "start_time": "2022-07-14T06:05:09.863Z"
   },
   {
    "duration": 607,
    "start_time": "2022-07-14T06:05:09.884Z"
   },
   {
    "duration": 7,
    "start_time": "2022-07-14T06:05:10.493Z"
   },
   {
    "duration": 33,
    "start_time": "2022-07-14T06:05:10.502Z"
   },
   {
    "duration": 9,
    "start_time": "2022-07-14T06:05:10.536Z"
   },
   {
    "duration": 202,
    "start_time": "2022-07-14T06:05:10.560Z"
   },
   {
    "duration": 1302,
    "start_time": "2022-07-14T06:07:11.387Z"
   },
   {
    "duration": 43,
    "start_time": "2022-07-14T06:07:12.691Z"
   },
   {
    "duration": 12,
    "start_time": "2022-07-14T06:07:12.735Z"
   },
   {
    "duration": 11,
    "start_time": "2022-07-14T06:07:12.749Z"
   },
   {
    "duration": 4,
    "start_time": "2022-07-14T06:07:12.762Z"
   },
   {
    "duration": 7,
    "start_time": "2022-07-14T06:07:12.768Z"
   },
   {
    "duration": 16,
    "start_time": "2022-07-14T06:07:12.777Z"
   },
   {
    "duration": 8,
    "start_time": "2022-07-14T06:07:12.794Z"
   },
   {
    "duration": 8,
    "start_time": "2022-07-14T06:07:12.804Z"
   },
   {
    "duration": 13,
    "start_time": "2022-07-14T06:07:12.816Z"
   },
   {
    "duration": 251,
    "start_time": "2022-07-14T06:07:12.830Z"
   },
   {
    "duration": 185,
    "start_time": "2022-07-14T06:07:13.083Z"
   },
   {
    "duration": 294,
    "start_time": "2022-07-14T06:07:13.270Z"
   },
   {
    "duration": 166,
    "start_time": "2022-07-14T06:07:13.565Z"
   },
   {
    "duration": 6,
    "start_time": "2022-07-14T06:07:13.733Z"
   },
   {
    "duration": 199,
    "start_time": "2022-07-14T06:07:13.741Z"
   },
   {
    "duration": 175,
    "start_time": "2022-07-14T06:07:13.941Z"
   },
   {
    "duration": 2,
    "start_time": "2022-07-14T06:07:14.118Z"
   },
   {
    "duration": 9,
    "start_time": "2022-07-14T06:07:14.121Z"
   },
   {
    "duration": 9,
    "start_time": "2022-07-14T06:07:14.132Z"
   },
   {
    "duration": 60,
    "start_time": "2022-07-14T06:07:14.142Z"
   },
   {
    "duration": 15,
    "start_time": "2022-07-14T06:07:14.204Z"
   },
   {
    "duration": 4,
    "start_time": "2022-07-14T06:07:14.220Z"
   },
   {
    "duration": 5,
    "start_time": "2022-07-14T06:07:14.226Z"
   },
   {
    "duration": 90932,
    "start_time": "2022-07-14T06:07:14.232Z"
   },
   {
    "duration": 2,
    "start_time": "2022-07-14T06:08:45.166Z"
   },
   {
    "duration": 17,
    "start_time": "2022-07-14T06:08:45.169Z"
   },
   {
    "duration": 21,
    "start_time": "2022-07-14T06:08:45.189Z"
   },
   {
    "duration": 576,
    "start_time": "2022-07-14T06:08:45.212Z"
   },
   {
    "duration": 7,
    "start_time": "2022-07-14T06:08:45.789Z"
   },
   {
    "duration": 23,
    "start_time": "2022-07-14T06:08:45.798Z"
   },
   {
    "duration": 7,
    "start_time": "2022-07-14T06:08:45.822Z"
   },
   {
    "duration": 137,
    "start_time": "2022-07-14T06:09:49.402Z"
   },
   {
    "duration": 130,
    "start_time": "2022-07-14T06:10:19.049Z"
   },
   {
    "duration": 1344,
    "start_time": "2022-07-14T06:10:44.679Z"
   },
   {
    "duration": 35,
    "start_time": "2022-07-14T06:10:46.025Z"
   },
   {
    "duration": 11,
    "start_time": "2022-07-14T06:10:46.062Z"
   },
   {
    "duration": 10,
    "start_time": "2022-07-14T06:10:46.075Z"
   },
   {
    "duration": 2,
    "start_time": "2022-07-14T06:10:46.086Z"
   },
   {
    "duration": 7,
    "start_time": "2022-07-14T06:10:46.090Z"
   },
   {
    "duration": 14,
    "start_time": "2022-07-14T06:10:46.099Z"
   },
   {
    "duration": 9,
    "start_time": "2022-07-14T06:10:46.114Z"
   },
   {
    "duration": 7,
    "start_time": "2022-07-14T06:10:46.125Z"
   },
   {
    "duration": 8,
    "start_time": "2022-07-14T06:10:46.160Z"
   },
   {
    "duration": 324,
    "start_time": "2022-07-14T06:10:46.169Z"
   },
   {
    "duration": 205,
    "start_time": "2022-07-14T06:10:46.495Z"
   },
   {
    "duration": 262,
    "start_time": "2022-07-14T06:10:46.702Z"
   },
   {
    "duration": 174,
    "start_time": "2022-07-14T06:10:46.966Z"
   },
   {
    "duration": 9,
    "start_time": "2022-07-14T06:10:47.141Z"
   },
   {
    "duration": 143,
    "start_time": "2022-07-14T06:10:47.160Z"
   },
   {
    "duration": 155,
    "start_time": "2022-07-14T06:10:47.305Z"
   },
   {
    "duration": 3,
    "start_time": "2022-07-14T06:10:47.462Z"
   },
   {
    "duration": 8,
    "start_time": "2022-07-14T06:10:47.466Z"
   },
   {
    "duration": 12,
    "start_time": "2022-07-14T06:10:47.476Z"
   },
   {
    "duration": 54,
    "start_time": "2022-07-14T06:10:47.490Z"
   },
   {
    "duration": 21,
    "start_time": "2022-07-14T06:10:47.545Z"
   },
   {
    "duration": 3,
    "start_time": "2022-07-14T06:10:47.567Z"
   },
   {
    "duration": 5,
    "start_time": "2022-07-14T06:10:47.574Z"
   },
   {
    "duration": 90025,
    "start_time": "2022-07-14T06:10:47.581Z"
   },
   {
    "duration": 2,
    "start_time": "2022-07-14T06:12:17.608Z"
   },
   {
    "duration": 10,
    "start_time": "2022-07-14T06:12:17.611Z"
   },
   {
    "duration": 21,
    "start_time": "2022-07-14T06:12:17.624Z"
   },
   {
    "duration": 568,
    "start_time": "2022-07-14T06:12:17.646Z"
   },
   {
    "duration": 6,
    "start_time": "2022-07-14T06:12:18.216Z"
   },
   {
    "duration": 18,
    "start_time": "2022-07-14T06:12:18.224Z"
   },
   {
    "duration": 20,
    "start_time": "2022-07-14T06:12:18.244Z"
   },
   {
    "duration": 1391,
    "start_time": "2022-07-14T06:13:03.655Z"
   },
   {
    "duration": 35,
    "start_time": "2022-07-14T06:13:05.048Z"
   },
   {
    "duration": 11,
    "start_time": "2022-07-14T06:13:05.085Z"
   },
   {
    "duration": 19,
    "start_time": "2022-07-14T06:13:05.098Z"
   },
   {
    "duration": 5,
    "start_time": "2022-07-14T06:13:05.119Z"
   },
   {
    "duration": 6,
    "start_time": "2022-07-14T06:13:05.126Z"
   },
   {
    "duration": 15,
    "start_time": "2022-07-14T06:13:05.133Z"
   },
   {
    "duration": 17,
    "start_time": "2022-07-14T06:13:05.150Z"
   },
   {
    "duration": 7,
    "start_time": "2022-07-14T06:13:05.169Z"
   },
   {
    "duration": 17,
    "start_time": "2022-07-14T06:13:05.179Z"
   },
   {
    "duration": 271,
    "start_time": "2022-07-14T06:13:05.197Z"
   },
   {
    "duration": 195,
    "start_time": "2022-07-14T06:13:05.469Z"
   },
   {
    "duration": 261,
    "start_time": "2022-07-14T06:13:05.666Z"
   },
   {
    "duration": 182,
    "start_time": "2022-07-14T06:13:05.928Z"
   },
   {
    "duration": 8,
    "start_time": "2022-07-14T06:13:06.112Z"
   },
   {
    "duration": 187,
    "start_time": "2022-07-14T06:13:06.121Z"
   },
   {
    "duration": 191,
    "start_time": "2022-07-14T06:13:06.310Z"
   },
   {
    "duration": 3,
    "start_time": "2022-07-14T06:13:06.503Z"
   },
   {
    "duration": 8,
    "start_time": "2022-07-14T06:13:06.508Z"
   },
   {
    "duration": 6,
    "start_time": "2022-07-14T06:13:06.518Z"
   },
   {
    "duration": 65,
    "start_time": "2022-07-14T06:13:06.525Z"
   },
   {
    "duration": 14,
    "start_time": "2022-07-14T06:13:06.592Z"
   },
   {
    "duration": 7,
    "start_time": "2022-07-14T06:13:06.608Z"
   },
   {
    "duration": 5,
    "start_time": "2022-07-14T06:13:06.617Z"
   },
   {
    "duration": 76833,
    "start_time": "2022-07-14T06:13:06.624Z"
   },
   {
    "duration": 3,
    "start_time": "2022-07-14T06:14:23.460Z"
   },
   {
    "duration": 8,
    "start_time": "2022-07-14T06:14:23.464Z"
   },
   {
    "duration": 32,
    "start_time": "2022-07-14T06:14:23.474Z"
   },
   {
    "duration": 416,
    "start_time": "2022-07-14T06:14:23.507Z"
   },
   {
    "duration": 7,
    "start_time": "2022-07-14T06:14:23.925Z"
   },
   {
    "duration": 28,
    "start_time": "2022-07-14T06:14:23.933Z"
   },
   {
    "duration": 8,
    "start_time": "2022-07-14T06:14:23.963Z"
   },
   {
    "duration": 2030,
    "start_time": "2022-07-14T11:22:17.540Z"
   },
   {
    "duration": 170,
    "start_time": "2022-07-14T11:22:19.572Z"
   },
   {
    "duration": 17,
    "start_time": "2022-07-14T11:22:19.744Z"
   },
   {
    "duration": 28,
    "start_time": "2022-07-14T11:22:19.764Z"
   },
   {
    "duration": 3,
    "start_time": "2022-07-14T11:22:19.794Z"
   },
   {
    "duration": 17,
    "start_time": "2022-07-14T11:22:19.798Z"
   },
   {
    "duration": 30,
    "start_time": "2022-07-14T11:22:19.816Z"
   },
   {
    "duration": 9,
    "start_time": "2022-07-14T11:22:19.848Z"
   },
   {
    "duration": 6,
    "start_time": "2022-07-14T11:22:19.859Z"
   },
   {
    "duration": 11,
    "start_time": "2022-07-14T11:22:19.867Z"
   },
   {
    "duration": 187,
    "start_time": "2022-07-14T11:22:19.880Z"
   },
   {
    "duration": 199,
    "start_time": "2022-07-14T11:22:20.069Z"
   },
   {
    "duration": 4,
    "start_time": "2022-07-14T11:22:20.270Z"
   },
   {
    "duration": 155,
    "start_time": "2022-07-14T11:22:20.276Z"
   },
   {
    "duration": 0,
    "start_time": "2022-07-14T11:22:20.434Z"
   },
   {
    "duration": 0,
    "start_time": "2022-07-14T11:22:20.435Z"
   },
   {
    "duration": 0,
    "start_time": "2022-07-14T11:22:20.437Z"
   },
   {
    "duration": 0,
    "start_time": "2022-07-14T11:22:20.438Z"
   },
   {
    "duration": 0,
    "start_time": "2022-07-14T11:22:20.440Z"
   },
   {
    "duration": 0,
    "start_time": "2022-07-14T11:22:20.441Z"
   },
   {
    "duration": 0,
    "start_time": "2022-07-14T11:22:20.443Z"
   },
   {
    "duration": 0,
    "start_time": "2022-07-14T11:22:20.444Z"
   },
   {
    "duration": 0,
    "start_time": "2022-07-14T11:22:20.445Z"
   },
   {
    "duration": 0,
    "start_time": "2022-07-14T11:22:20.446Z"
   },
   {
    "duration": 0,
    "start_time": "2022-07-14T11:22:20.448Z"
   },
   {
    "duration": 0,
    "start_time": "2022-07-14T11:22:20.449Z"
   },
   {
    "duration": 0,
    "start_time": "2022-07-14T11:22:20.450Z"
   },
   {
    "duration": 0,
    "start_time": "2022-07-14T11:22:20.451Z"
   },
   {
    "duration": 0,
    "start_time": "2022-07-14T11:22:20.452Z"
   },
   {
    "duration": 0,
    "start_time": "2022-07-14T11:22:20.453Z"
   },
   {
    "duration": 0,
    "start_time": "2022-07-14T11:22:20.454Z"
   },
   {
    "duration": 0,
    "start_time": "2022-07-14T11:22:20.455Z"
   },
   {
    "duration": 0,
    "start_time": "2022-07-14T11:22:20.456Z"
   },
   {
    "duration": 0,
    "start_time": "2022-07-14T11:22:20.457Z"
   },
   {
    "duration": 0,
    "start_time": "2022-07-14T11:22:20.458Z"
   },
   {
    "duration": 0,
    "start_time": "2022-07-14T11:22:20.459Z"
   },
   {
    "duration": 0,
    "start_time": "2022-07-14T11:22:20.460Z"
   },
   {
    "duration": 0,
    "start_time": "2022-07-14T11:22:20.504Z"
   },
   {
    "duration": 0,
    "start_time": "2022-07-14T11:22:20.505Z"
   },
   {
    "duration": 0,
    "start_time": "2022-07-14T11:22:20.505Z"
   },
   {
    "duration": 0,
    "start_time": "2022-07-14T11:22:20.506Z"
   },
   {
    "duration": 0,
    "start_time": "2022-07-14T11:22:20.507Z"
   },
   {
    "duration": 0,
    "start_time": "2022-07-14T11:22:20.508Z"
   },
   {
    "duration": 0,
    "start_time": "2022-07-14T11:22:20.509Z"
   },
   {
    "duration": 0,
    "start_time": "2022-07-14T11:22:20.509Z"
   },
   {
    "duration": 0,
    "start_time": "2022-07-14T11:22:20.513Z"
   },
   {
    "duration": 0,
    "start_time": "2022-07-14T11:22:20.514Z"
   },
   {
    "duration": 0,
    "start_time": "2022-07-14T11:22:20.514Z"
   },
   {
    "duration": 0,
    "start_time": "2022-07-14T11:22:20.515Z"
   },
   {
    "duration": 0,
    "start_time": "2022-07-14T11:22:20.516Z"
   },
   {
    "duration": 0,
    "start_time": "2022-07-14T11:22:20.517Z"
   },
   {
    "duration": 0,
    "start_time": "2022-07-14T11:22:20.519Z"
   },
   {
    "duration": 0,
    "start_time": "2022-07-14T11:22:20.522Z"
   },
   {
    "duration": 0,
    "start_time": "2022-07-14T11:22:20.523Z"
   },
   {
    "duration": 1474,
    "start_time": "2022-07-14T11:25:16.977Z"
   },
   {
    "duration": 47,
    "start_time": "2022-07-14T11:25:18.453Z"
   },
   {
    "duration": 12,
    "start_time": "2022-07-14T11:25:18.502Z"
   },
   {
    "duration": 12,
    "start_time": "2022-07-14T11:25:18.516Z"
   },
   {
    "duration": 2,
    "start_time": "2022-07-14T11:25:18.529Z"
   },
   {
    "duration": 5,
    "start_time": "2022-07-14T11:25:18.533Z"
   },
   {
    "duration": 22,
    "start_time": "2022-07-14T11:25:18.540Z"
   },
   {
    "duration": 40,
    "start_time": "2022-07-14T11:25:18.564Z"
   },
   {
    "duration": 9,
    "start_time": "2022-07-14T11:25:18.607Z"
   },
   {
    "duration": 13,
    "start_time": "2022-07-14T11:25:18.618Z"
   },
   {
    "duration": 181,
    "start_time": "2022-07-14T11:25:18.633Z"
   },
   {
    "duration": 168,
    "start_time": "2022-07-14T11:25:18.816Z"
   },
   {
    "duration": 4,
    "start_time": "2022-07-14T11:25:18.985Z"
   },
   {
    "duration": 125,
    "start_time": "2022-07-14T11:25:18.991Z"
   },
   {
    "duration": 0,
    "start_time": "2022-07-14T11:25:19.118Z"
   },
   {
    "duration": 0,
    "start_time": "2022-07-14T11:25:19.119Z"
   },
   {
    "duration": 0,
    "start_time": "2022-07-14T11:25:19.121Z"
   },
   {
    "duration": 0,
    "start_time": "2022-07-14T11:25:19.122Z"
   },
   {
    "duration": 0,
    "start_time": "2022-07-14T11:25:19.123Z"
   },
   {
    "duration": 0,
    "start_time": "2022-07-14T11:25:19.124Z"
   },
   {
    "duration": 0,
    "start_time": "2022-07-14T11:25:19.125Z"
   },
   {
    "duration": 0,
    "start_time": "2022-07-14T11:25:19.127Z"
   },
   {
    "duration": 0,
    "start_time": "2022-07-14T11:25:19.128Z"
   },
   {
    "duration": 0,
    "start_time": "2022-07-14T11:25:19.129Z"
   },
   {
    "duration": 0,
    "start_time": "2022-07-14T11:25:19.130Z"
   },
   {
    "duration": 0,
    "start_time": "2022-07-14T11:25:19.131Z"
   },
   {
    "duration": 1,
    "start_time": "2022-07-14T11:25:19.131Z"
   },
   {
    "duration": 0,
    "start_time": "2022-07-14T11:25:19.133Z"
   },
   {
    "duration": 0,
    "start_time": "2022-07-14T11:25:19.134Z"
   },
   {
    "duration": 0,
    "start_time": "2022-07-14T11:25:19.136Z"
   },
   {
    "duration": 0,
    "start_time": "2022-07-14T11:25:19.137Z"
   },
   {
    "duration": 0,
    "start_time": "2022-07-14T11:25:19.138Z"
   },
   {
    "duration": 0,
    "start_time": "2022-07-14T11:25:19.139Z"
   },
   {
    "duration": 0,
    "start_time": "2022-07-14T11:25:19.140Z"
   },
   {
    "duration": 0,
    "start_time": "2022-07-14T11:25:19.142Z"
   },
   {
    "duration": 0,
    "start_time": "2022-07-14T11:25:19.143Z"
   },
   {
    "duration": 0,
    "start_time": "2022-07-14T11:25:19.145Z"
   },
   {
    "duration": 0,
    "start_time": "2022-07-14T11:25:19.146Z"
   },
   {
    "duration": 0,
    "start_time": "2022-07-14T11:25:19.147Z"
   },
   {
    "duration": 0,
    "start_time": "2022-07-14T11:25:19.149Z"
   },
   {
    "duration": 0,
    "start_time": "2022-07-14T11:25:19.150Z"
   },
   {
    "duration": 0,
    "start_time": "2022-07-14T11:25:19.205Z"
   },
   {
    "duration": 0,
    "start_time": "2022-07-14T11:25:19.206Z"
   },
   {
    "duration": 0,
    "start_time": "2022-07-14T11:25:19.207Z"
   },
   {
    "duration": 0,
    "start_time": "2022-07-14T11:25:19.209Z"
   },
   {
    "duration": 0,
    "start_time": "2022-07-14T11:25:19.210Z"
   },
   {
    "duration": 0,
    "start_time": "2022-07-14T11:25:19.212Z"
   },
   {
    "duration": 0,
    "start_time": "2022-07-14T11:25:19.213Z"
   },
   {
    "duration": 0,
    "start_time": "2022-07-14T11:25:19.214Z"
   },
   {
    "duration": 0,
    "start_time": "2022-07-14T11:25:19.215Z"
   },
   {
    "duration": 0,
    "start_time": "2022-07-14T11:25:19.217Z"
   },
   {
    "duration": 0,
    "start_time": "2022-07-14T11:25:19.217Z"
   },
   {
    "duration": 0,
    "start_time": "2022-07-14T11:25:19.218Z"
   },
   {
    "duration": 1623,
    "start_time": "2022-07-14T11:33:12.386Z"
   },
   {
    "duration": 63,
    "start_time": "2022-07-14T11:33:14.012Z"
   },
   {
    "duration": 13,
    "start_time": "2022-07-14T11:33:14.077Z"
   },
   {
    "duration": 15,
    "start_time": "2022-07-14T11:33:14.092Z"
   },
   {
    "duration": 3,
    "start_time": "2022-07-14T11:33:14.109Z"
   },
   {
    "duration": 9,
    "start_time": "2022-07-14T11:33:14.113Z"
   },
   {
    "duration": 30,
    "start_time": "2022-07-14T11:33:14.124Z"
   },
   {
    "duration": 11,
    "start_time": "2022-07-14T11:33:14.155Z"
   },
   {
    "duration": 13,
    "start_time": "2022-07-14T11:33:14.168Z"
   },
   {
    "duration": 25,
    "start_time": "2022-07-14T11:33:14.185Z"
   },
   {
    "duration": 177,
    "start_time": "2022-07-14T11:33:14.213Z"
   },
   {
    "duration": 4,
    "start_time": "2022-07-14T11:33:14.391Z"
   },
   {
    "duration": 120,
    "start_time": "2022-07-14T11:33:14.404Z"
   },
   {
    "duration": 0,
    "start_time": "2022-07-14T11:33:14.526Z"
   },
   {
    "duration": 0,
    "start_time": "2022-07-14T11:33:14.528Z"
   },
   {
    "duration": 0,
    "start_time": "2022-07-14T11:33:14.529Z"
   },
   {
    "duration": 0,
    "start_time": "2022-07-14T11:33:14.529Z"
   },
   {
    "duration": 0,
    "start_time": "2022-07-14T11:33:14.530Z"
   },
   {
    "duration": 0,
    "start_time": "2022-07-14T11:33:14.531Z"
   },
   {
    "duration": 0,
    "start_time": "2022-07-14T11:33:14.532Z"
   },
   {
    "duration": 0,
    "start_time": "2022-07-14T11:33:14.533Z"
   },
   {
    "duration": 0,
    "start_time": "2022-07-14T11:33:14.534Z"
   },
   {
    "duration": 0,
    "start_time": "2022-07-14T11:33:14.535Z"
   },
   {
    "duration": 0,
    "start_time": "2022-07-14T11:33:14.536Z"
   },
   {
    "duration": 0,
    "start_time": "2022-07-14T11:33:14.537Z"
   },
   {
    "duration": 0,
    "start_time": "2022-07-14T11:33:14.538Z"
   },
   {
    "duration": 0,
    "start_time": "2022-07-14T11:33:14.539Z"
   },
   {
    "duration": 0,
    "start_time": "2022-07-14T11:33:14.540Z"
   },
   {
    "duration": 0,
    "start_time": "2022-07-14T11:33:14.541Z"
   },
   {
    "duration": 0,
    "start_time": "2022-07-14T11:33:14.542Z"
   },
   {
    "duration": 0,
    "start_time": "2022-07-14T11:33:14.542Z"
   },
   {
    "duration": 0,
    "start_time": "2022-07-14T11:33:14.543Z"
   },
   {
    "duration": 0,
    "start_time": "2022-07-14T11:33:14.544Z"
   },
   {
    "duration": 0,
    "start_time": "2022-07-14T11:33:14.545Z"
   },
   {
    "duration": 0,
    "start_time": "2022-07-14T11:33:14.546Z"
   },
   {
    "duration": 0,
    "start_time": "2022-07-14T11:33:14.547Z"
   },
   {
    "duration": 0,
    "start_time": "2022-07-14T11:33:14.547Z"
   },
   {
    "duration": 0,
    "start_time": "2022-07-14T11:33:14.548Z"
   },
   {
    "duration": 0,
    "start_time": "2022-07-14T11:33:14.549Z"
   },
   {
    "duration": 0,
    "start_time": "2022-07-14T11:33:14.550Z"
   },
   {
    "duration": 0,
    "start_time": "2022-07-14T11:33:14.551Z"
   },
   {
    "duration": 0,
    "start_time": "2022-07-14T11:33:14.552Z"
   },
   {
    "duration": 0,
    "start_time": "2022-07-14T11:33:14.553Z"
   },
   {
    "duration": 0,
    "start_time": "2022-07-14T11:33:14.554Z"
   },
   {
    "duration": 0,
    "start_time": "2022-07-14T11:33:14.556Z"
   },
   {
    "duration": 0,
    "start_time": "2022-07-14T11:33:14.604Z"
   },
   {
    "duration": 0,
    "start_time": "2022-07-14T11:33:14.605Z"
   },
   {
    "duration": 0,
    "start_time": "2022-07-14T11:33:14.606Z"
   },
   {
    "duration": 0,
    "start_time": "2022-07-14T11:33:14.607Z"
   },
   {
    "duration": 0,
    "start_time": "2022-07-14T11:33:14.608Z"
   },
   {
    "duration": 0,
    "start_time": "2022-07-14T11:33:14.609Z"
   },
   {
    "duration": 0,
    "start_time": "2022-07-14T11:33:14.610Z"
   },
   {
    "duration": 8,
    "start_time": "2022-07-14T11:33:39.024Z"
   },
   {
    "duration": 2524,
    "start_time": "2022-07-14T11:35:06.459Z"
   },
   {
    "duration": 51,
    "start_time": "2022-07-14T11:35:08.985Z"
   },
   {
    "duration": 13,
    "start_time": "2022-07-14T11:35:09.038Z"
   },
   {
    "duration": 14,
    "start_time": "2022-07-14T11:35:09.053Z"
   },
   {
    "duration": 3,
    "start_time": "2022-07-14T11:35:09.069Z"
   },
   {
    "duration": 8,
    "start_time": "2022-07-14T11:35:09.073Z"
   },
   {
    "duration": 36,
    "start_time": "2022-07-14T11:35:09.083Z"
   },
   {
    "duration": 10,
    "start_time": "2022-07-14T11:35:09.121Z"
   },
   {
    "duration": 6,
    "start_time": "2022-07-14T11:35:09.133Z"
   },
   {
    "duration": 8,
    "start_time": "2022-07-14T11:35:09.142Z"
   },
   {
    "duration": 186,
    "start_time": "2022-07-14T11:35:09.151Z"
   },
   {
    "duration": 4,
    "start_time": "2022-07-14T11:35:09.338Z"
   },
   {
    "duration": 229,
    "start_time": "2022-07-14T11:35:09.344Z"
   },
   {
    "duration": 167,
    "start_time": "2022-07-14T11:35:09.575Z"
   },
   {
    "duration": 3,
    "start_time": "2022-07-14T11:35:09.744Z"
   },
   {
    "duration": 123,
    "start_time": "2022-07-14T11:35:09.750Z"
   },
   {
    "duration": 0,
    "start_time": "2022-07-14T11:35:09.876Z"
   },
   {
    "duration": 0,
    "start_time": "2022-07-14T11:35:09.877Z"
   },
   {
    "duration": 0,
    "start_time": "2022-07-14T11:35:09.878Z"
   },
   {
    "duration": 0,
    "start_time": "2022-07-14T11:35:09.879Z"
   },
   {
    "duration": 0,
    "start_time": "2022-07-14T11:35:09.880Z"
   },
   {
    "duration": 0,
    "start_time": "2022-07-14T11:35:09.881Z"
   },
   {
    "duration": 0,
    "start_time": "2022-07-14T11:35:09.882Z"
   },
   {
    "duration": 0,
    "start_time": "2022-07-14T11:35:09.883Z"
   },
   {
    "duration": 0,
    "start_time": "2022-07-14T11:35:09.884Z"
   },
   {
    "duration": 0,
    "start_time": "2022-07-14T11:35:09.885Z"
   },
   {
    "duration": 0,
    "start_time": "2022-07-14T11:35:09.904Z"
   },
   {
    "duration": 0,
    "start_time": "2022-07-14T11:35:09.906Z"
   },
   {
    "duration": 0,
    "start_time": "2022-07-14T11:35:09.908Z"
   },
   {
    "duration": 0,
    "start_time": "2022-07-14T11:35:09.909Z"
   },
   {
    "duration": 0,
    "start_time": "2022-07-14T11:35:09.910Z"
   },
   {
    "duration": 0,
    "start_time": "2022-07-14T11:35:09.911Z"
   },
   {
    "duration": 0,
    "start_time": "2022-07-14T11:35:09.912Z"
   },
   {
    "duration": 0,
    "start_time": "2022-07-14T11:35:09.914Z"
   },
   {
    "duration": 0,
    "start_time": "2022-07-14T11:35:09.915Z"
   },
   {
    "duration": 0,
    "start_time": "2022-07-14T11:35:09.916Z"
   },
   {
    "duration": 0,
    "start_time": "2022-07-14T11:35:09.917Z"
   },
   {
    "duration": 0,
    "start_time": "2022-07-14T11:35:09.918Z"
   },
   {
    "duration": 0,
    "start_time": "2022-07-14T11:35:09.919Z"
   },
   {
    "duration": 0,
    "start_time": "2022-07-14T11:35:09.920Z"
   },
   {
    "duration": 0,
    "start_time": "2022-07-14T11:35:09.921Z"
   },
   {
    "duration": 0,
    "start_time": "2022-07-14T11:35:09.922Z"
   },
   {
    "duration": 0,
    "start_time": "2022-07-14T11:35:09.923Z"
   },
   {
    "duration": 0,
    "start_time": "2022-07-14T11:35:09.924Z"
   },
   {
    "duration": 0,
    "start_time": "2022-07-14T11:35:09.925Z"
   },
   {
    "duration": 0,
    "start_time": "2022-07-14T11:35:09.926Z"
   },
   {
    "duration": 0,
    "start_time": "2022-07-14T11:35:09.927Z"
   },
   {
    "duration": 0,
    "start_time": "2022-07-14T11:35:09.928Z"
   },
   {
    "duration": 0,
    "start_time": "2022-07-14T11:35:09.929Z"
   },
   {
    "duration": 1565,
    "start_time": "2022-07-14T11:36:45.224Z"
   },
   {
    "duration": 56,
    "start_time": "2022-07-14T11:36:46.791Z"
   },
   {
    "duration": 12,
    "start_time": "2022-07-14T11:36:46.849Z"
   },
   {
    "duration": 10,
    "start_time": "2022-07-14T11:36:46.863Z"
   },
   {
    "duration": 3,
    "start_time": "2022-07-14T11:36:46.874Z"
   },
   {
    "duration": 9,
    "start_time": "2022-07-14T11:36:46.878Z"
   },
   {
    "duration": 26,
    "start_time": "2022-07-14T11:36:46.888Z"
   },
   {
    "duration": 8,
    "start_time": "2022-07-14T11:36:46.916Z"
   },
   {
    "duration": 5,
    "start_time": "2022-07-14T11:36:46.926Z"
   },
   {
    "duration": 8,
    "start_time": "2022-07-14T11:36:46.934Z"
   },
   {
    "duration": 12,
    "start_time": "2022-07-14T11:36:46.944Z"
   },
   {
    "duration": 10,
    "start_time": "2022-07-14T11:36:46.958Z"
   },
   {
    "duration": 191,
    "start_time": "2022-07-14T11:36:46.969Z"
   },
   {
    "duration": 4,
    "start_time": "2022-07-14T11:36:47.161Z"
   },
   {
    "duration": 237,
    "start_time": "2022-07-14T11:36:47.167Z"
   },
   {
    "duration": 168,
    "start_time": "2022-07-14T11:36:47.405Z"
   },
   {
    "duration": 4,
    "start_time": "2022-07-14T11:36:47.575Z"
   },
   {
    "duration": 124,
    "start_time": "2022-07-14T11:36:47.581Z"
   },
   {
    "duration": 0,
    "start_time": "2022-07-14T11:36:47.707Z"
   },
   {
    "duration": 0,
    "start_time": "2022-07-14T11:36:47.708Z"
   },
   {
    "duration": 0,
    "start_time": "2022-07-14T11:36:47.709Z"
   },
   {
    "duration": 0,
    "start_time": "2022-07-14T11:36:47.710Z"
   },
   {
    "duration": 0,
    "start_time": "2022-07-14T11:36:47.711Z"
   },
   {
    "duration": 0,
    "start_time": "2022-07-14T11:36:47.712Z"
   },
   {
    "duration": 0,
    "start_time": "2022-07-14T11:36:47.713Z"
   },
   {
    "duration": 0,
    "start_time": "2022-07-14T11:36:47.714Z"
   },
   {
    "duration": 0,
    "start_time": "2022-07-14T11:36:47.715Z"
   },
   {
    "duration": 0,
    "start_time": "2022-07-14T11:36:47.717Z"
   },
   {
    "duration": 0,
    "start_time": "2022-07-14T11:36:47.718Z"
   },
   {
    "duration": 0,
    "start_time": "2022-07-14T11:36:47.719Z"
   },
   {
    "duration": 0,
    "start_time": "2022-07-14T11:36:47.720Z"
   },
   {
    "duration": 0,
    "start_time": "2022-07-14T11:36:47.721Z"
   },
   {
    "duration": 0,
    "start_time": "2022-07-14T11:36:47.722Z"
   },
   {
    "duration": 0,
    "start_time": "2022-07-14T11:36:47.723Z"
   },
   {
    "duration": 0,
    "start_time": "2022-07-14T11:36:47.724Z"
   },
   {
    "duration": 0,
    "start_time": "2022-07-14T11:36:47.725Z"
   },
   {
    "duration": 0,
    "start_time": "2022-07-14T11:36:47.727Z"
   },
   {
    "duration": 0,
    "start_time": "2022-07-14T11:36:47.728Z"
   },
   {
    "duration": 0,
    "start_time": "2022-07-14T11:36:47.729Z"
   },
   {
    "duration": 0,
    "start_time": "2022-07-14T11:36:47.730Z"
   },
   {
    "duration": 0,
    "start_time": "2022-07-14T11:36:47.731Z"
   },
   {
    "duration": 0,
    "start_time": "2022-07-14T11:36:47.732Z"
   },
   {
    "duration": 0,
    "start_time": "2022-07-14T11:36:47.733Z"
   },
   {
    "duration": 0,
    "start_time": "2022-07-14T11:36:47.734Z"
   },
   {
    "duration": 0,
    "start_time": "2022-07-14T11:36:47.735Z"
   },
   {
    "duration": 0,
    "start_time": "2022-07-14T11:36:47.736Z"
   },
   {
    "duration": 0,
    "start_time": "2022-07-14T11:36:47.737Z"
   },
   {
    "duration": 0,
    "start_time": "2022-07-14T11:36:47.738Z"
   },
   {
    "duration": 0,
    "start_time": "2022-07-14T11:36:47.739Z"
   },
   {
    "duration": 0,
    "start_time": "2022-07-14T11:36:47.740Z"
   },
   {
    "duration": 0,
    "start_time": "2022-07-14T11:36:47.741Z"
   },
   {
    "duration": 1512,
    "start_time": "2022-07-14T11:38:09.285Z"
   },
   {
    "duration": 49,
    "start_time": "2022-07-14T11:38:10.799Z"
   },
   {
    "duration": 12,
    "start_time": "2022-07-14T11:38:10.850Z"
   },
   {
    "duration": 15,
    "start_time": "2022-07-14T11:38:10.864Z"
   },
   {
    "duration": 3,
    "start_time": "2022-07-14T11:38:10.881Z"
   },
   {
    "duration": 25,
    "start_time": "2022-07-14T11:38:10.885Z"
   },
   {
    "duration": 24,
    "start_time": "2022-07-14T11:38:10.911Z"
   },
   {
    "duration": 9,
    "start_time": "2022-07-14T11:38:10.937Z"
   },
   {
    "duration": 10,
    "start_time": "2022-07-14T11:38:10.948Z"
   },
   {
    "duration": 13,
    "start_time": "2022-07-14T11:38:10.961Z"
   },
   {
    "duration": 15,
    "start_time": "2022-07-14T11:38:10.975Z"
   },
   {
    "duration": 15,
    "start_time": "2022-07-14T11:38:10.991Z"
   },
   {
    "duration": 172,
    "start_time": "2022-07-14T11:38:11.008Z"
   },
   {
    "duration": 224,
    "start_time": "2022-07-14T11:38:11.182Z"
   },
   {
    "duration": 156,
    "start_time": "2022-07-14T11:38:11.407Z"
   },
   {
    "duration": 230,
    "start_time": "2022-07-14T11:38:11.565Z"
   },
   {
    "duration": 250,
    "start_time": "2022-07-14T11:38:11.796Z"
   },
   {
    "duration": 3,
    "start_time": "2022-07-14T11:38:12.048Z"
   },
   {
    "duration": 9,
    "start_time": "2022-07-14T11:38:12.053Z"
   },
   {
    "duration": 158,
    "start_time": "2022-07-14T11:38:12.064Z"
   },
   {
    "duration": 153,
    "start_time": "2022-07-14T11:38:12.224Z"
   },
   {
    "duration": 257,
    "start_time": "2022-07-14T11:38:12.379Z"
   },
   {
    "duration": 197,
    "start_time": "2022-07-14T11:38:12.638Z"
   },
   {
    "duration": 115,
    "start_time": "2022-07-14T11:38:12.837Z"
   },
   {
    "duration": 0,
    "start_time": "2022-07-14T11:38:12.954Z"
   },
   {
    "duration": 0,
    "start_time": "2022-07-14T11:38:12.955Z"
   },
   {
    "duration": 0,
    "start_time": "2022-07-14T11:38:12.957Z"
   },
   {
    "duration": 0,
    "start_time": "2022-07-14T11:38:12.958Z"
   },
   {
    "duration": 0,
    "start_time": "2022-07-14T11:38:12.960Z"
   },
   {
    "duration": 0,
    "start_time": "2022-07-14T11:38:12.961Z"
   },
   {
    "duration": 0,
    "start_time": "2022-07-14T11:38:12.962Z"
   },
   {
    "duration": 0,
    "start_time": "2022-07-14T11:38:12.964Z"
   },
   {
    "duration": 0,
    "start_time": "2022-07-14T11:38:12.965Z"
   },
   {
    "duration": 0,
    "start_time": "2022-07-14T11:38:12.966Z"
   },
   {
    "duration": 0,
    "start_time": "2022-07-14T11:38:12.967Z"
   },
   {
    "duration": 0,
    "start_time": "2022-07-14T11:38:12.968Z"
   },
   {
    "duration": 0,
    "start_time": "2022-07-14T11:38:12.969Z"
   },
   {
    "duration": 0,
    "start_time": "2022-07-14T11:38:12.970Z"
   },
   {
    "duration": 0,
    "start_time": "2022-07-14T11:38:12.972Z"
   },
   {
    "duration": 0,
    "start_time": "2022-07-14T11:38:13.004Z"
   },
   {
    "duration": 0,
    "start_time": "2022-07-14T11:38:13.006Z"
   },
   {
    "duration": 0,
    "start_time": "2022-07-14T11:38:13.007Z"
   },
   {
    "duration": 0,
    "start_time": "2022-07-14T11:38:13.008Z"
   },
   {
    "duration": 0,
    "start_time": "2022-07-14T11:38:13.009Z"
   },
   {
    "duration": 0,
    "start_time": "2022-07-14T11:38:13.010Z"
   },
   {
    "duration": 0,
    "start_time": "2022-07-14T11:38:13.011Z"
   },
   {
    "duration": 1423,
    "start_time": "2022-07-14T11:41:55.058Z"
   },
   {
    "duration": 55,
    "start_time": "2022-07-14T11:41:56.483Z"
   },
   {
    "duration": 18,
    "start_time": "2022-07-14T11:41:56.540Z"
   },
   {
    "duration": 15,
    "start_time": "2022-07-14T11:41:56.562Z"
   },
   {
    "duration": 4,
    "start_time": "2022-07-14T11:41:56.579Z"
   },
   {
    "duration": 24,
    "start_time": "2022-07-14T11:41:56.584Z"
   },
   {
    "duration": 38,
    "start_time": "2022-07-14T11:41:56.610Z"
   },
   {
    "duration": 13,
    "start_time": "2022-07-14T11:41:56.650Z"
   },
   {
    "duration": 9,
    "start_time": "2022-07-14T11:41:56.665Z"
   },
   {
    "duration": 18,
    "start_time": "2022-07-14T11:41:56.677Z"
   },
   {
    "duration": 17,
    "start_time": "2022-07-14T11:41:56.705Z"
   },
   {
    "duration": 18,
    "start_time": "2022-07-14T11:41:56.724Z"
   },
   {
    "duration": 7,
    "start_time": "2022-07-14T11:41:56.744Z"
   },
   {
    "duration": 11,
    "start_time": "2022-07-14T11:41:56.753Z"
   },
   {
    "duration": 25,
    "start_time": "2022-07-14T11:41:56.766Z"
   },
   {
    "duration": 21,
    "start_time": "2022-07-14T11:41:56.793Z"
   },
   {
    "duration": 6,
    "start_time": "2022-07-14T11:41:56.816Z"
   },
   {
    "duration": 13,
    "start_time": "2022-07-14T11:41:56.824Z"
   },
   {
    "duration": 7,
    "start_time": "2022-07-14T11:41:56.839Z"
   },
   {
    "duration": 13,
    "start_time": "2022-07-14T11:41:56.847Z"
   },
   {
    "duration": 61,
    "start_time": "2022-07-14T11:41:56.862Z"
   },
   {
    "duration": 13,
    "start_time": "2022-07-14T11:41:56.925Z"
   },
   {
    "duration": 8,
    "start_time": "2022-07-14T11:41:56.940Z"
   },
   {
    "duration": 7,
    "start_time": "2022-07-14T11:41:56.950Z"
   },
   {
    "duration": 81134,
    "start_time": "2022-07-14T11:41:56.958Z"
   },
   {
    "duration": 2,
    "start_time": "2022-07-14T11:43:18.094Z"
   },
   {
    "duration": 9,
    "start_time": "2022-07-14T11:43:18.098Z"
   },
   {
    "duration": 26,
    "start_time": "2022-07-14T11:43:18.111Z"
   },
   {
    "duration": 524,
    "start_time": "2022-07-14T11:43:18.139Z"
   },
   {
    "duration": 7,
    "start_time": "2022-07-14T11:43:18.665Z"
   },
   {
    "duration": 33,
    "start_time": "2022-07-14T11:43:18.674Z"
   },
   {
    "duration": 7,
    "start_time": "2022-07-14T11:43:18.709Z"
   },
   {
    "duration": 14,
    "start_time": "2022-07-14T11:44:20.436Z"
   },
   {
    "duration": 240,
    "start_time": "2022-07-14T11:44:33.246Z"
   },
   {
    "duration": 205,
    "start_time": "2022-07-14T11:44:57.326Z"
   },
   {
    "duration": 6,
    "start_time": "2022-07-14T11:46:09.212Z"
   },
   {
    "duration": 313,
    "start_time": "2022-07-14T11:46:18.716Z"
   },
   {
    "duration": 227,
    "start_time": "2022-07-14T11:47:10.419Z"
   },
   {
    "duration": 12,
    "start_time": "2022-07-14T11:47:51.342Z"
   },
   {
    "duration": 241,
    "start_time": "2022-07-14T11:48:18.976Z"
   },
   {
    "duration": 129,
    "start_time": "2022-07-14T11:49:05.918Z"
   },
   {
    "duration": 283,
    "start_time": "2022-07-14T11:49:31.669Z"
   },
   {
    "duration": 296,
    "start_time": "2022-07-14T11:49:40.102Z"
   },
   {
    "duration": 272,
    "start_time": "2022-07-14T11:49:52.839Z"
   },
   {
    "duration": 275,
    "start_time": "2022-07-14T11:49:59.364Z"
   },
   {
    "duration": 314,
    "start_time": "2022-07-14T11:51:19.666Z"
   },
   {
    "duration": 245,
    "start_time": "2022-07-14T11:51:37.037Z"
   },
   {
    "duration": 217,
    "start_time": "2022-07-14T11:51:37.947Z"
   },
   {
    "duration": 157,
    "start_time": "2022-07-14T11:54:02.792Z"
   },
   {
    "duration": 151,
    "start_time": "2022-07-14T11:54:10.610Z"
   },
   {
    "duration": 1452,
    "start_time": "2022-07-14T11:54:29.564Z"
   },
   {
    "duration": 73,
    "start_time": "2022-07-14T11:54:31.018Z"
   },
   {
    "duration": 15,
    "start_time": "2022-07-14T11:54:31.093Z"
   },
   {
    "duration": 34,
    "start_time": "2022-07-14T11:54:31.111Z"
   },
   {
    "duration": 7,
    "start_time": "2022-07-14T11:54:31.147Z"
   },
   {
    "duration": 33,
    "start_time": "2022-07-14T11:54:31.156Z"
   },
   {
    "duration": 41,
    "start_time": "2022-07-14T11:54:31.190Z"
   },
   {
    "duration": 10,
    "start_time": "2022-07-14T11:54:31.233Z"
   },
   {
    "duration": 13,
    "start_time": "2022-07-14T11:54:31.245Z"
   },
   {
    "duration": 27,
    "start_time": "2022-07-14T11:54:31.261Z"
   },
   {
    "duration": 21,
    "start_time": "2022-07-14T11:54:31.290Z"
   },
   {
    "duration": 12,
    "start_time": "2022-07-14T11:54:31.314Z"
   },
   {
    "duration": 197,
    "start_time": "2022-07-14T11:54:31.328Z"
   },
   {
    "duration": 228,
    "start_time": "2022-07-14T11:54:31.527Z"
   },
   {
    "duration": 239,
    "start_time": "2022-07-14T11:54:31.757Z"
   },
   {
    "duration": 217,
    "start_time": "2022-07-14T11:54:31.998Z"
   },
   {
    "duration": 349,
    "start_time": "2022-07-14T11:54:32.217Z"
   },
   {
    "duration": 3,
    "start_time": "2022-07-14T11:54:32.568Z"
   },
   {
    "duration": 36,
    "start_time": "2022-07-14T11:54:32.573Z"
   },
   {
    "duration": 11,
    "start_time": "2022-07-14T11:54:32.611Z"
   },
   {
    "duration": 37,
    "start_time": "2022-07-14T11:54:32.624Z"
   },
   {
    "duration": 20,
    "start_time": "2022-07-14T11:54:32.664Z"
   },
   {
    "duration": 12,
    "start_time": "2022-07-14T11:54:32.686Z"
   },
   {
    "duration": 35,
    "start_time": "2022-07-14T11:54:32.700Z"
   },
   {
    "duration": 10,
    "start_time": "2022-07-14T11:54:32.737Z"
   },
   {
    "duration": 73,
    "start_time": "2022-07-14T11:54:32.750Z"
   },
   {
    "duration": 16,
    "start_time": "2022-07-14T11:54:32.824Z"
   },
   {
    "duration": 15,
    "start_time": "2022-07-14T11:54:32.843Z"
   },
   {
    "duration": 14,
    "start_time": "2022-07-14T11:54:32.860Z"
   },
   {
    "duration": 78578,
    "start_time": "2022-07-14T11:54:32.876Z"
   },
   {
    "duration": 3,
    "start_time": "2022-07-14T11:55:51.456Z"
   },
   {
    "duration": 10,
    "start_time": "2022-07-14T11:55:51.461Z"
   },
   {
    "duration": 43,
    "start_time": "2022-07-14T11:55:51.473Z"
   },
   {
    "duration": 420,
    "start_time": "2022-07-14T11:55:51.518Z"
   },
   {
    "duration": 8,
    "start_time": "2022-07-14T11:55:51.941Z"
   },
   {
    "duration": 20,
    "start_time": "2022-07-14T11:55:51.951Z"
   },
   {
    "duration": 9,
    "start_time": "2022-07-14T11:55:51.973Z"
   },
   {
    "duration": 4,
    "start_time": "2022-07-14T11:58:35.449Z"
   },
   {
    "duration": 127,
    "start_time": "2022-07-14T11:58:37.547Z"
   },
   {
    "duration": 192,
    "start_time": "2022-07-14T12:00:40.133Z"
   },
   {
    "duration": 11,
    "start_time": "2022-07-14T12:02:54.490Z"
   },
   {
    "duration": 1599,
    "start_time": "2022-07-14T12:03:49.152Z"
   },
   {
    "duration": 53,
    "start_time": "2022-07-14T12:03:50.754Z"
   },
   {
    "duration": 16,
    "start_time": "2022-07-14T12:03:50.809Z"
   },
   {
    "duration": 17,
    "start_time": "2022-07-14T12:03:50.829Z"
   },
   {
    "duration": 4,
    "start_time": "2022-07-14T12:03:50.849Z"
   },
   {
    "duration": 9,
    "start_time": "2022-07-14T12:03:50.855Z"
   },
   {
    "duration": 60,
    "start_time": "2022-07-14T12:03:50.865Z"
   },
   {
    "duration": 15,
    "start_time": "2022-07-14T12:03:50.927Z"
   },
   {
    "duration": 12,
    "start_time": "2022-07-14T12:03:50.944Z"
   },
   {
    "duration": 22,
    "start_time": "2022-07-14T12:03:50.960Z"
   },
   {
    "duration": 29,
    "start_time": "2022-07-14T12:03:50.984Z"
   },
   {
    "duration": 19,
    "start_time": "2022-07-14T12:03:51.016Z"
   },
   {
    "duration": 217,
    "start_time": "2022-07-14T12:03:51.038Z"
   },
   {
    "duration": 5,
    "start_time": "2022-07-14T12:03:51.258Z"
   },
   {
    "duration": 273,
    "start_time": "2022-07-14T12:03:51.265Z"
   },
   {
    "duration": 292,
    "start_time": "2022-07-14T12:03:51.541Z"
   },
   {
    "duration": 220,
    "start_time": "2022-07-14T12:03:51.835Z"
   },
   {
    "duration": 136,
    "start_time": "2022-07-14T12:03:52.056Z"
   },
   {
    "duration": 0,
    "start_time": "2022-07-14T12:03:52.195Z"
   },
   {
    "duration": 0,
    "start_time": "2022-07-14T12:03:52.196Z"
   },
   {
    "duration": 0,
    "start_time": "2022-07-14T12:03:52.196Z"
   },
   {
    "duration": 0,
    "start_time": "2022-07-14T12:03:52.197Z"
   },
   {
    "duration": 0,
    "start_time": "2022-07-14T12:03:52.203Z"
   },
   {
    "duration": 0,
    "start_time": "2022-07-14T12:03:52.205Z"
   },
   {
    "duration": 0,
    "start_time": "2022-07-14T12:03:52.206Z"
   },
   {
    "duration": 0,
    "start_time": "2022-07-14T12:03:52.208Z"
   },
   {
    "duration": 0,
    "start_time": "2022-07-14T12:03:52.209Z"
   },
   {
    "duration": 0,
    "start_time": "2022-07-14T12:03:52.210Z"
   },
   {
    "duration": 0,
    "start_time": "2022-07-14T12:03:52.212Z"
   },
   {
    "duration": 0,
    "start_time": "2022-07-14T12:03:52.313Z"
   },
   {
    "duration": 0,
    "start_time": "2022-07-14T12:03:52.315Z"
   },
   {
    "duration": 0,
    "start_time": "2022-07-14T12:03:52.317Z"
   },
   {
    "duration": 0,
    "start_time": "2022-07-14T12:03:52.318Z"
   },
   {
    "duration": 0,
    "start_time": "2022-07-14T12:03:52.319Z"
   },
   {
    "duration": 0,
    "start_time": "2022-07-14T12:03:52.320Z"
   },
   {
    "duration": 0,
    "start_time": "2022-07-14T12:03:52.321Z"
   },
   {
    "duration": 0,
    "start_time": "2022-07-14T12:03:52.322Z"
   },
   {
    "duration": 0,
    "start_time": "2022-07-14T12:03:52.324Z"
   },
   {
    "duration": 0,
    "start_time": "2022-07-14T12:03:52.325Z"
   },
   {
    "duration": 0,
    "start_time": "2022-07-14T12:03:52.326Z"
   },
   {
    "duration": 0,
    "start_time": "2022-07-14T12:03:52.328Z"
   },
   {
    "duration": 0,
    "start_time": "2022-07-14T12:03:52.329Z"
   },
   {
    "duration": 3,
    "start_time": "2022-07-14T12:05:45.935Z"
   },
   {
    "duration": 5,
    "start_time": "2022-07-14T12:05:46.849Z"
   },
   {
    "duration": 191,
    "start_time": "2022-07-14T12:05:48.798Z"
   },
   {
    "duration": 204,
    "start_time": "2022-07-14T12:05:53.829Z"
   },
   {
    "duration": 172,
    "start_time": "2022-07-14T12:06:28.917Z"
   },
   {
    "duration": 173,
    "start_time": "2022-07-14T12:06:30.719Z"
   },
   {
    "duration": 256,
    "start_time": "2022-07-14T12:07:15.061Z"
   },
   {
    "duration": 186,
    "start_time": "2022-07-14T12:07:17.971Z"
   },
   {
    "duration": 1387,
    "start_time": "2022-07-14T12:10:03.756Z"
   },
   {
    "duration": 50,
    "start_time": "2022-07-14T12:10:05.145Z"
   },
   {
    "duration": 12,
    "start_time": "2022-07-14T12:10:05.197Z"
   },
   {
    "duration": 12,
    "start_time": "2022-07-14T12:10:05.211Z"
   },
   {
    "duration": 3,
    "start_time": "2022-07-14T12:10:05.225Z"
   },
   {
    "duration": 6,
    "start_time": "2022-07-14T12:10:05.229Z"
   },
   {
    "duration": 23,
    "start_time": "2022-07-14T12:10:05.237Z"
   },
   {
    "duration": 11,
    "start_time": "2022-07-14T12:10:05.262Z"
   },
   {
    "duration": 31,
    "start_time": "2022-07-14T12:10:05.275Z"
   },
   {
    "duration": 8,
    "start_time": "2022-07-14T12:10:05.310Z"
   },
   {
    "duration": 11,
    "start_time": "2022-07-14T12:10:05.319Z"
   },
   {
    "duration": 23,
    "start_time": "2022-07-14T12:10:05.332Z"
   },
   {
    "duration": 182,
    "start_time": "2022-07-14T12:10:05.357Z"
   },
   {
    "duration": 4,
    "start_time": "2022-07-14T12:10:05.540Z"
   },
   {
    "duration": 230,
    "start_time": "2022-07-14T12:10:05.545Z"
   },
   {
    "duration": 243,
    "start_time": "2022-07-14T12:10:05.777Z"
   },
   {
    "duration": 221,
    "start_time": "2022-07-14T12:10:06.021Z"
   },
   {
    "duration": 4,
    "start_time": "2022-07-14T12:10:06.243Z"
   },
   {
    "duration": 7,
    "start_time": "2022-07-14T12:10:06.249Z"
   },
   {
    "duration": 279,
    "start_time": "2022-07-14T12:10:06.258Z"
   },
   {
    "duration": 234,
    "start_time": "2022-07-14T12:10:06.539Z"
   },
   {
    "duration": 255,
    "start_time": "2022-07-14T12:10:06.774Z"
   },
   {
    "duration": 195,
    "start_time": "2022-07-14T12:10:07.031Z"
   },
   {
    "duration": 4,
    "start_time": "2022-07-14T12:10:07.228Z"
   },
   {
    "duration": 22,
    "start_time": "2022-07-14T12:10:07.234Z"
   },
   {
    "duration": 160,
    "start_time": "2022-07-14T12:10:07.258Z"
   },
   {
    "duration": 157,
    "start_time": "2022-07-14T12:10:07.420Z"
   },
   {
    "duration": 3,
    "start_time": "2022-07-14T12:10:07.580Z"
   },
   {
    "duration": 5,
    "start_time": "2022-07-14T12:10:07.585Z"
   },
   {
    "duration": 2,
    "start_time": "2022-07-14T12:10:07.605Z"
   },
   {
    "duration": 5,
    "start_time": "2022-07-14T12:10:07.609Z"
   },
   {
    "duration": 9,
    "start_time": "2022-07-14T12:10:07.616Z"
   },
   {
    "duration": 23,
    "start_time": "2022-07-14T12:10:07.626Z"
   },
   {
    "duration": 5,
    "start_time": "2022-07-14T12:10:07.651Z"
   },
   {
    "duration": 12,
    "start_time": "2022-07-14T12:10:07.657Z"
   },
   {
    "duration": 68,
    "start_time": "2022-07-14T12:10:07.670Z"
   },
   {
    "duration": 13,
    "start_time": "2022-07-14T12:10:07.740Z"
   },
   {
    "duration": 3,
    "start_time": "2022-07-14T12:10:07.755Z"
   },
   {
    "duration": 5,
    "start_time": "2022-07-14T12:10:07.760Z"
   },
   {
    "duration": 78054,
    "start_time": "2022-07-14T12:10:07.767Z"
   },
   {
    "duration": 2,
    "start_time": "2022-07-14T12:11:25.823Z"
   },
   {
    "duration": 12,
    "start_time": "2022-07-14T12:11:25.827Z"
   },
   {
    "duration": 22,
    "start_time": "2022-07-14T12:11:25.840Z"
   },
   {
    "duration": 497,
    "start_time": "2022-07-14T12:11:25.864Z"
   },
   {
    "duration": 8,
    "start_time": "2022-07-14T12:11:26.363Z"
   },
   {
    "duration": 32,
    "start_time": "2022-07-14T12:11:26.373Z"
   },
   {
    "duration": 7,
    "start_time": "2022-07-14T12:11:26.407Z"
   },
   {
    "duration": 197,
    "start_time": "2022-07-14T12:11:26.417Z"
   },
   {
    "duration": 171,
    "start_time": "2022-07-14T12:11:52.557Z"
   },
   {
    "duration": 172,
    "start_time": "2022-07-14T12:17:00.759Z"
   },
   {
    "duration": 18,
    "start_time": "2022-07-14T12:18:15.212Z"
   },
   {
    "duration": 103,
    "start_time": "2022-07-14T12:19:38.767Z"
   },
   {
    "duration": 22,
    "start_time": "2022-07-14T12:23:37.544Z"
   },
   {
    "duration": 17,
    "start_time": "2022-07-14T12:24:11.407Z"
   },
   {
    "duration": 16,
    "start_time": "2022-07-14T12:24:29.105Z"
   },
   {
    "duration": 15,
    "start_time": "2022-07-14T12:26:24.822Z"
   },
   {
    "duration": 15,
    "start_time": "2022-07-14T12:26:42.598Z"
   },
   {
    "duration": 9,
    "start_time": "2022-07-14T12:26:56.253Z"
   },
   {
    "duration": 14,
    "start_time": "2022-07-14T12:28:55.244Z"
   },
   {
    "duration": 10,
    "start_time": "2022-07-14T12:30:06.493Z"
   },
   {
    "duration": 9,
    "start_time": "2022-07-14T12:30:23.552Z"
   },
   {
    "duration": 25,
    "start_time": "2022-07-14T12:32:16.326Z"
   },
   {
    "duration": 14,
    "start_time": "2022-07-14T12:37:38.129Z"
   },
   {
    "duration": 21,
    "start_time": "2022-07-14T12:37:46.187Z"
   },
   {
    "duration": 22,
    "start_time": "2022-07-14T12:38:02.074Z"
   },
   {
    "duration": 23,
    "start_time": "2022-07-14T12:39:55.271Z"
   },
   {
    "duration": 23,
    "start_time": "2022-07-14T12:40:02.631Z"
   },
   {
    "duration": 22,
    "start_time": "2022-07-14T12:41:07.662Z"
   },
   {
    "duration": 19,
    "start_time": "2022-07-14T12:42:16.421Z"
   },
   {
    "duration": 20,
    "start_time": "2022-07-14T12:42:29.108Z"
   },
   {
    "duration": 23,
    "start_time": "2022-07-14T12:47:43.503Z"
   },
   {
    "duration": 18,
    "start_time": "2022-07-14T12:49:36.829Z"
   },
   {
    "duration": 15,
    "start_time": "2022-07-14T12:49:54.213Z"
   },
   {
    "duration": 20,
    "start_time": "2022-07-14T12:50:19.670Z"
   },
   {
    "duration": 19,
    "start_time": "2022-07-14T12:50:32.251Z"
   },
   {
    "duration": 145,
    "start_time": "2022-07-14T12:51:27.378Z"
   },
   {
    "duration": 15,
    "start_time": "2022-07-14T12:51:36.018Z"
   },
   {
    "duration": 8,
    "start_time": "2022-07-14T12:55:41.399Z"
   },
   {
    "duration": 12,
    "start_time": "2022-07-14T12:55:55.030Z"
   },
   {
    "duration": 23,
    "start_time": "2022-07-14T12:56:22.013Z"
   },
   {
    "duration": 24,
    "start_time": "2022-07-14T12:59:59.993Z"
   },
   {
    "duration": 18,
    "start_time": "2022-07-14T13:00:38.027Z"
   },
   {
    "duration": 19,
    "start_time": "2022-07-14T13:00:50.464Z"
   },
   {
    "duration": 26,
    "start_time": "2022-07-14T13:01:17.197Z"
   },
   {
    "duration": 23,
    "start_time": "2022-07-14T13:01:42.647Z"
   },
   {
    "duration": 21,
    "start_time": "2022-07-14T13:02:38.776Z"
   },
   {
    "duration": 16,
    "start_time": "2022-07-14T13:02:48.502Z"
   },
   {
    "duration": 23,
    "start_time": "2022-07-14T13:06:03.256Z"
   },
   {
    "duration": 15,
    "start_time": "2022-07-14T13:06:54.778Z"
   },
   {
    "duration": 19,
    "start_time": "2022-07-14T13:07:30.769Z"
   },
   {
    "duration": 219,
    "start_time": "2022-07-14T13:08:20.485Z"
   },
   {
    "duration": 28,
    "start_time": "2022-07-14T13:09:58.923Z"
   },
   {
    "duration": 26,
    "start_time": "2022-07-14T13:14:10.666Z"
   },
   {
    "duration": 21,
    "start_time": "2022-07-14T13:15:08.760Z"
   },
   {
    "duration": 32,
    "start_time": "2022-07-14T13:15:15.979Z"
   },
   {
    "duration": 224,
    "start_time": "2022-07-14T13:15:38.767Z"
   },
   {
    "duration": 232,
    "start_time": "2022-07-14T13:16:47.375Z"
   },
   {
    "duration": 207,
    "start_time": "2022-07-14T13:17:10.332Z"
   },
   {
    "duration": 205,
    "start_time": "2022-07-14T13:17:18.989Z"
   },
   {
    "duration": 228,
    "start_time": "2022-07-14T13:17:26.727Z"
   },
   {
    "duration": 259,
    "start_time": "2022-07-14T13:18:40.157Z"
   },
   {
    "duration": 253,
    "start_time": "2022-07-14T13:18:56.614Z"
   },
   {
    "duration": 212,
    "start_time": "2022-07-14T13:19:12.325Z"
   },
   {
    "duration": 218,
    "start_time": "2022-07-14T13:19:48.564Z"
   },
   {
    "duration": 235,
    "start_time": "2022-07-14T13:19:58.539Z"
   },
   {
    "duration": 329,
    "start_time": "2022-07-14T13:21:44.523Z"
   },
   {
    "duration": 353,
    "start_time": "2022-07-14T13:22:03.194Z"
   },
   {
    "duration": 222,
    "start_time": "2022-07-14T13:22:15.095Z"
   },
   {
    "duration": 547,
    "start_time": "2022-07-14T13:24:36.398Z"
   },
   {
    "duration": 321,
    "start_time": "2022-07-14T13:24:48.156Z"
   },
   {
    "duration": 306,
    "start_time": "2022-07-14T13:25:08.811Z"
   },
   {
    "duration": 342,
    "start_time": "2022-07-14T13:25:16.451Z"
   },
   {
    "duration": 282,
    "start_time": "2022-07-14T13:25:29.555Z"
   },
   {
    "duration": 1488,
    "start_time": "2022-07-14T13:26:15.027Z"
   },
   {
    "duration": 60,
    "start_time": "2022-07-14T13:26:16.517Z"
   },
   {
    "duration": 18,
    "start_time": "2022-07-14T13:26:16.579Z"
   },
   {
    "duration": 25,
    "start_time": "2022-07-14T13:26:16.600Z"
   },
   {
    "duration": 5,
    "start_time": "2022-07-14T13:26:16.627Z"
   },
   {
    "duration": 13,
    "start_time": "2022-07-14T13:26:16.634Z"
   },
   {
    "duration": 37,
    "start_time": "2022-07-14T13:26:16.649Z"
   },
   {
    "duration": 20,
    "start_time": "2022-07-14T13:26:16.688Z"
   },
   {
    "duration": 51,
    "start_time": "2022-07-14T13:26:16.710Z"
   },
   {
    "duration": 28,
    "start_time": "2022-07-14T13:26:16.765Z"
   },
   {
    "duration": 18,
    "start_time": "2022-07-14T13:26:16.795Z"
   },
   {
    "duration": 15,
    "start_time": "2022-07-14T13:26:16.816Z"
   },
   {
    "duration": 181,
    "start_time": "2022-07-14T13:26:16.833Z"
   },
   {
    "duration": 3,
    "start_time": "2022-07-14T13:26:17.016Z"
   },
   {
    "duration": 247,
    "start_time": "2022-07-14T13:26:17.021Z"
   },
   {
    "duration": 253,
    "start_time": "2022-07-14T13:26:17.270Z"
   },
   {
    "duration": 224,
    "start_time": "2022-07-14T13:26:17.525Z"
   },
   {
    "duration": 3,
    "start_time": "2022-07-14T13:26:17.751Z"
   },
   {
    "duration": 12,
    "start_time": "2022-07-14T13:26:17.756Z"
   },
   {
    "duration": 293,
    "start_time": "2022-07-14T13:26:17.770Z"
   },
   {
    "duration": 207,
    "start_time": "2022-07-14T13:26:18.065Z"
   },
   {
    "duration": 287,
    "start_time": "2022-07-14T13:26:18.275Z"
   },
   {
    "duration": 219,
    "start_time": "2022-07-14T13:26:18.564Z"
   },
   {
    "duration": 4,
    "start_time": "2022-07-14T13:26:18.785Z"
   },
   {
    "duration": 48,
    "start_time": "2022-07-14T13:26:18.791Z"
   },
   {
    "duration": 172,
    "start_time": "2022-07-14T13:26:18.841Z"
   },
   {
    "duration": 185,
    "start_time": "2022-07-14T13:26:19.016Z"
   },
   {
    "duration": 3,
    "start_time": "2022-07-14T13:26:19.206Z"
   },
   {
    "duration": 39,
    "start_time": "2022-07-14T13:26:19.211Z"
   },
   {
    "duration": 22,
    "start_time": "2022-07-14T13:26:19.252Z"
   },
   {
    "duration": 101,
    "start_time": "2022-07-14T13:26:19.276Z"
   },
   {
    "duration": 17,
    "start_time": "2022-07-14T13:26:19.379Z"
   },
   {
    "duration": 98,
    "start_time": "2022-07-14T13:26:19.398Z"
   },
   {
    "duration": 103,
    "start_time": "2022-07-14T13:26:19.498Z"
   },
   {
    "duration": 82689,
    "start_time": "2022-07-14T13:26:19.603Z"
   },
   {
    "duration": 9,
    "start_time": "2022-07-14T13:27:42.295Z"
   },
   {
    "duration": 4,
    "start_time": "2022-07-14T13:27:42.306Z"
   },
   {
    "duration": 25,
    "start_time": "2022-07-14T13:27:42.311Z"
   },
   {
    "duration": 515,
    "start_time": "2022-07-14T13:27:42.338Z"
   },
   {
    "duration": 30,
    "start_time": "2022-07-14T13:27:42.855Z"
   },
   {
    "duration": 322,
    "start_time": "2022-07-14T13:27:42.887Z"
   },
   {
    "duration": 31,
    "start_time": "2022-07-14T13:27:43.212Z"
   },
   {
    "duration": 297,
    "start_time": "2022-07-14T13:27:43.245Z"
   },
   {
    "duration": 8,
    "start_time": "2022-07-14T13:27:43.544Z"
   },
   {
    "duration": 1483,
    "start_time": "2022-07-14T13:30:19.966Z"
   },
   {
    "duration": 51,
    "start_time": "2022-07-14T13:30:21.451Z"
   },
   {
    "duration": 14,
    "start_time": "2022-07-14T13:30:21.504Z"
   },
   {
    "duration": 13,
    "start_time": "2022-07-14T13:30:21.521Z"
   },
   {
    "duration": 3,
    "start_time": "2022-07-14T13:30:21.537Z"
   },
   {
    "duration": 10,
    "start_time": "2022-07-14T13:30:21.542Z"
   },
   {
    "duration": 55,
    "start_time": "2022-07-14T13:30:21.555Z"
   },
   {
    "duration": 12,
    "start_time": "2022-07-14T13:30:21.612Z"
   },
   {
    "duration": 18,
    "start_time": "2022-07-14T13:30:21.626Z"
   },
   {
    "duration": 30,
    "start_time": "2022-07-14T13:30:21.648Z"
   },
   {
    "duration": 21,
    "start_time": "2022-07-14T13:30:21.680Z"
   },
   {
    "duration": 18,
    "start_time": "2022-07-14T13:30:21.703Z"
   },
   {
    "duration": 195,
    "start_time": "2022-07-14T13:30:21.724Z"
   },
   {
    "duration": 4,
    "start_time": "2022-07-14T13:30:21.922Z"
   },
   {
    "duration": 269,
    "start_time": "2022-07-14T13:30:21.929Z"
   },
   {
    "duration": 248,
    "start_time": "2022-07-14T13:30:22.200Z"
   },
   {
    "duration": 219,
    "start_time": "2022-07-14T13:30:22.450Z"
   },
   {
    "duration": 4,
    "start_time": "2022-07-14T13:30:22.672Z"
   },
   {
    "duration": 17,
    "start_time": "2022-07-14T13:30:22.678Z"
   },
   {
    "duration": 274,
    "start_time": "2022-07-14T13:30:22.697Z"
   },
   {
    "duration": 192,
    "start_time": "2022-07-14T13:30:22.973Z"
   },
   {
    "duration": 269,
    "start_time": "2022-07-14T13:30:23.167Z"
   },
   {
    "duration": 206,
    "start_time": "2022-07-14T13:30:23.439Z"
   },
   {
    "duration": 4,
    "start_time": "2022-07-14T13:30:23.647Z"
   },
   {
    "duration": 12,
    "start_time": "2022-07-14T13:30:23.652Z"
   },
   {
    "duration": 179,
    "start_time": "2022-07-14T13:30:23.665Z"
   },
   {
    "duration": 178,
    "start_time": "2022-07-14T13:30:23.846Z"
   },
   {
    "duration": 4,
    "start_time": "2022-07-14T13:30:24.027Z"
   },
   {
    "duration": 8,
    "start_time": "2022-07-14T13:30:24.033Z"
   },
   {
    "duration": 10,
    "start_time": "2022-07-14T13:30:24.043Z"
   },
   {
    "duration": 77,
    "start_time": "2022-07-14T13:30:24.054Z"
   },
   {
    "duration": 17,
    "start_time": "2022-07-14T13:30:24.133Z"
   },
   {
    "duration": 63,
    "start_time": "2022-07-14T13:30:24.152Z"
   },
   {
    "duration": 25,
    "start_time": "2022-07-14T13:30:24.216Z"
   },
   {
    "duration": 80006,
    "start_time": "2022-07-14T13:30:24.243Z"
   },
   {
    "duration": 3,
    "start_time": "2022-07-14T13:31:44.252Z"
   },
   {
    "duration": 10,
    "start_time": "2022-07-14T13:31:44.257Z"
   },
   {
    "duration": 39,
    "start_time": "2022-07-14T13:31:44.269Z"
   },
   {
    "duration": 424,
    "start_time": "2022-07-14T13:31:44.309Z"
   },
   {
    "duration": 20,
    "start_time": "2022-07-14T13:31:44.735Z"
   },
   {
    "duration": 372,
    "start_time": "2022-07-14T13:31:44.757Z"
   },
   {
    "duration": 30,
    "start_time": "2022-07-14T13:31:45.132Z"
   },
   {
    "duration": 287,
    "start_time": "2022-07-14T13:31:45.164Z"
   },
   {
    "duration": 11,
    "start_time": "2022-07-14T13:31:45.453Z"
   },
   {
    "duration": 1528,
    "start_time": "2022-07-14T13:33:14.236Z"
   },
   {
    "duration": 55,
    "start_time": "2022-07-14T13:33:15.766Z"
   },
   {
    "duration": 16,
    "start_time": "2022-07-14T13:33:15.823Z"
   },
   {
    "duration": 29,
    "start_time": "2022-07-14T13:33:15.841Z"
   },
   {
    "duration": 7,
    "start_time": "2022-07-14T13:33:15.873Z"
   },
   {
    "duration": 24,
    "start_time": "2022-07-14T13:33:15.882Z"
   },
   {
    "duration": 35,
    "start_time": "2022-07-14T13:33:15.907Z"
   },
   {
    "duration": 11,
    "start_time": "2022-07-14T13:33:15.944Z"
   },
   {
    "duration": 29,
    "start_time": "2022-07-14T13:33:15.957Z"
   },
   {
    "duration": 21,
    "start_time": "2022-07-14T13:33:15.987Z"
   },
   {
    "duration": 21,
    "start_time": "2022-07-14T13:33:16.010Z"
   },
   {
    "duration": 28,
    "start_time": "2022-07-14T13:33:16.033Z"
   },
   {
    "duration": 181,
    "start_time": "2022-07-14T13:33:16.063Z"
   },
   {
    "duration": 4,
    "start_time": "2022-07-14T13:33:16.247Z"
   },
   {
    "duration": 248,
    "start_time": "2022-07-14T13:33:16.252Z"
   },
   {
    "duration": 284,
    "start_time": "2022-07-14T13:33:16.504Z"
   },
   {
    "duration": 223,
    "start_time": "2022-07-14T13:33:16.790Z"
   },
   {
    "duration": 4,
    "start_time": "2022-07-14T13:33:17.015Z"
   },
   {
    "duration": 9,
    "start_time": "2022-07-14T13:33:17.021Z"
   },
   {
    "duration": 274,
    "start_time": "2022-07-14T13:33:17.031Z"
   },
   {
    "duration": 195,
    "start_time": "2022-07-14T13:33:17.307Z"
   },
   {
    "duration": 270,
    "start_time": "2022-07-14T13:33:17.503Z"
   },
   {
    "duration": 210,
    "start_time": "2022-07-14T13:33:17.775Z"
   },
   {
    "duration": 4,
    "start_time": "2022-07-14T13:33:17.987Z"
   },
   {
    "duration": 16,
    "start_time": "2022-07-14T13:33:17.992Z"
   },
   {
    "duration": 171,
    "start_time": "2022-07-14T13:33:18.010Z"
   },
   {
    "duration": 165,
    "start_time": "2022-07-14T13:33:18.182Z"
   },
   {
    "duration": 3,
    "start_time": "2022-07-14T13:33:18.349Z"
   },
   {
    "duration": 13,
    "start_time": "2022-07-14T13:33:18.353Z"
   },
   {
    "duration": 12,
    "start_time": "2022-07-14T13:33:18.368Z"
   },
   {
    "duration": 66,
    "start_time": "2022-07-14T13:33:18.381Z"
   },
   {
    "duration": 13,
    "start_time": "2022-07-14T13:33:18.449Z"
   },
   {
    "duration": 5,
    "start_time": "2022-07-14T13:33:18.463Z"
   },
   {
    "duration": 6,
    "start_time": "2022-07-14T13:33:18.469Z"
   },
   {
    "duration": 82292,
    "start_time": "2022-07-14T13:33:18.476Z"
   },
   {
    "duration": 3,
    "start_time": "2022-07-14T13:34:40.770Z"
   },
   {
    "duration": 20,
    "start_time": "2022-07-14T13:34:40.776Z"
   },
   {
    "duration": 30,
    "start_time": "2022-07-14T13:34:40.798Z"
   },
   {
    "duration": 762,
    "start_time": "2022-07-14T13:34:40.830Z"
   },
   {
    "duration": 25,
    "start_time": "2022-07-14T13:34:41.594Z"
   },
   {
    "duration": 319,
    "start_time": "2022-07-14T13:34:41.623Z"
   },
   {
    "duration": 38,
    "start_time": "2022-07-14T13:34:41.943Z"
   },
   {
    "duration": 275,
    "start_time": "2022-07-14T13:34:41.984Z"
   },
   {
    "duration": 8,
    "start_time": "2022-07-14T13:34:42.261Z"
   },
   {
    "duration": 1604,
    "start_time": "2022-07-14T13:35:44.230Z"
   },
   {
    "duration": 51,
    "start_time": "2022-07-14T13:35:45.836Z"
   },
   {
    "duration": 13,
    "start_time": "2022-07-14T13:35:45.889Z"
   },
   {
    "duration": 10,
    "start_time": "2022-07-14T13:35:45.905Z"
   },
   {
    "duration": 2,
    "start_time": "2022-07-14T13:35:45.917Z"
   },
   {
    "duration": 7,
    "start_time": "2022-07-14T13:35:45.921Z"
   },
   {
    "duration": 29,
    "start_time": "2022-07-14T13:35:45.929Z"
   },
   {
    "duration": 12,
    "start_time": "2022-07-14T13:35:45.960Z"
   },
   {
    "duration": 29,
    "start_time": "2022-07-14T13:35:45.974Z"
   },
   {
    "duration": 27,
    "start_time": "2022-07-14T13:35:46.006Z"
   },
   {
    "duration": 11,
    "start_time": "2022-07-14T13:35:46.035Z"
   },
   {
    "duration": 26,
    "start_time": "2022-07-14T13:35:46.048Z"
   },
   {
    "duration": 185,
    "start_time": "2022-07-14T13:35:46.077Z"
   },
   {
    "duration": 3,
    "start_time": "2022-07-14T13:35:46.264Z"
   },
   {
    "duration": 231,
    "start_time": "2022-07-14T13:35:46.269Z"
   },
   {
    "duration": 311,
    "start_time": "2022-07-14T13:35:46.504Z"
   },
   {
    "duration": 202,
    "start_time": "2022-07-14T13:35:46.817Z"
   },
   {
    "duration": 4,
    "start_time": "2022-07-14T13:35:47.020Z"
   },
   {
    "duration": 9,
    "start_time": "2022-07-14T13:35:47.026Z"
   },
   {
    "duration": 268,
    "start_time": "2022-07-14T13:35:47.037Z"
   },
   {
    "duration": 181,
    "start_time": "2022-07-14T13:35:47.307Z"
   },
   {
    "duration": 273,
    "start_time": "2022-07-14T13:35:47.490Z"
   },
   {
    "duration": 208,
    "start_time": "2022-07-14T13:35:47.766Z"
   },
   {
    "duration": 4,
    "start_time": "2022-07-14T13:35:47.976Z"
   },
   {
    "duration": 84,
    "start_time": "2022-07-14T13:35:47.982Z"
   },
   {
    "duration": 211,
    "start_time": "2022-07-14T13:35:48.067Z"
   },
   {
    "duration": 166,
    "start_time": "2022-07-14T13:35:48.280Z"
   },
   {
    "duration": 3,
    "start_time": "2022-07-14T13:35:48.449Z"
   },
   {
    "duration": 14,
    "start_time": "2022-07-14T13:35:48.453Z"
   },
   {
    "duration": 10,
    "start_time": "2022-07-14T13:35:48.469Z"
   },
   {
    "duration": 66,
    "start_time": "2022-07-14T13:35:48.481Z"
   },
   {
    "duration": 15,
    "start_time": "2022-07-14T13:35:48.549Z"
   },
   {
    "duration": 5,
    "start_time": "2022-07-14T13:35:48.567Z"
   },
   {
    "duration": 12,
    "start_time": "2022-07-14T13:35:48.573Z"
   },
   {
    "duration": 82048,
    "start_time": "2022-07-14T13:35:48.586Z"
   },
   {
    "duration": 3,
    "start_time": "2022-07-14T13:37:10.636Z"
   },
   {
    "duration": 44,
    "start_time": "2022-07-14T13:37:10.641Z"
   },
   {
    "duration": 33,
    "start_time": "2022-07-14T13:37:10.688Z"
   },
   {
    "duration": 369,
    "start_time": "2022-07-14T13:37:10.723Z"
   },
   {
    "duration": 24,
    "start_time": "2022-07-14T13:37:11.094Z"
   },
   {
    "duration": 285,
    "start_time": "2022-07-14T13:37:11.120Z"
   },
   {
    "duration": 28,
    "start_time": "2022-07-14T13:37:11.407Z"
   },
   {
    "duration": 276,
    "start_time": "2022-07-14T13:37:11.437Z"
   },
   {
    "duration": 8,
    "start_time": "2022-07-14T13:37:11.715Z"
   },
   {
    "duration": 1649,
    "start_time": "2022-07-14T14:54:38.712Z"
   },
   {
    "duration": 131,
    "start_time": "2022-07-14T14:54:40.363Z"
   },
   {
    "duration": 16,
    "start_time": "2022-07-14T14:54:40.496Z"
   },
   {
    "duration": 25,
    "start_time": "2022-07-14T14:54:40.515Z"
   },
   {
    "duration": 9,
    "start_time": "2022-07-14T14:54:40.542Z"
   },
   {
    "duration": 11,
    "start_time": "2022-07-14T14:54:40.553Z"
   },
   {
    "duration": 38,
    "start_time": "2022-07-14T14:54:40.566Z"
   },
   {
    "duration": 12,
    "start_time": "2022-07-14T14:54:40.606Z"
   },
   {
    "duration": 25,
    "start_time": "2022-07-14T14:54:40.620Z"
   },
   {
    "duration": 21,
    "start_time": "2022-07-14T14:54:40.649Z"
   },
   {
    "duration": 20,
    "start_time": "2022-07-14T14:54:40.673Z"
   },
   {
    "duration": 22,
    "start_time": "2022-07-14T14:54:40.695Z"
   },
   {
    "duration": 217,
    "start_time": "2022-07-14T14:54:40.719Z"
   },
   {
    "duration": 4,
    "start_time": "2022-07-14T14:54:40.939Z"
   },
   {
    "duration": 277,
    "start_time": "2022-07-14T14:54:40.945Z"
   },
   {
    "duration": 266,
    "start_time": "2022-07-14T14:54:41.224Z"
   },
   {
    "duration": 229,
    "start_time": "2022-07-14T14:54:41.492Z"
   },
   {
    "duration": 4,
    "start_time": "2022-07-14T14:54:41.723Z"
   },
   {
    "duration": 10,
    "start_time": "2022-07-14T14:54:41.729Z"
   },
   {
    "duration": 298,
    "start_time": "2022-07-14T14:54:41.741Z"
   },
   {
    "duration": 214,
    "start_time": "2022-07-14T14:54:42.041Z"
   },
   {
    "duration": 262,
    "start_time": "2022-07-14T14:54:42.257Z"
   },
   {
    "duration": 205,
    "start_time": "2022-07-14T14:54:42.520Z"
   },
   {
    "duration": 3,
    "start_time": "2022-07-14T14:54:42.727Z"
   },
   {
    "duration": 13,
    "start_time": "2022-07-14T14:54:42.732Z"
   },
   {
    "duration": 176,
    "start_time": "2022-07-14T14:54:42.747Z"
   },
   {
    "duration": 181,
    "start_time": "2022-07-14T14:54:42.925Z"
   },
   {
    "duration": 3,
    "start_time": "2022-07-14T14:54:43.110Z"
   },
   {
    "duration": 7,
    "start_time": "2022-07-14T14:54:43.114Z"
   },
   {
    "duration": 6,
    "start_time": "2022-07-14T14:54:43.122Z"
   },
   {
    "duration": 55,
    "start_time": "2022-07-14T14:54:43.130Z"
   },
   {
    "duration": 13,
    "start_time": "2022-07-14T14:54:43.205Z"
   },
   {
    "duration": 6,
    "start_time": "2022-07-14T14:54:43.220Z"
   },
   {
    "duration": 5,
    "start_time": "2022-07-14T14:54:43.227Z"
   },
   {
    "duration": 84008,
    "start_time": "2022-07-14T14:54:43.234Z"
   },
   {
    "duration": 3,
    "start_time": "2022-07-14T14:56:07.244Z"
   },
   {
    "duration": 10,
    "start_time": "2022-07-14T14:56:07.249Z"
   },
   {
    "duration": 25,
    "start_time": "2022-07-14T14:56:07.261Z"
   },
   {
    "duration": 84705,
    "start_time": "2022-07-14T14:56:07.288Z"
   },
   {
    "duration": 30,
    "start_time": "2022-07-14T14:57:31.995Z"
   },
   {
    "duration": 358,
    "start_time": "2022-07-14T14:57:32.027Z"
   },
   {
    "duration": 37,
    "start_time": "2022-07-14T14:57:32.387Z"
   },
   {
    "duration": 375,
    "start_time": "2022-07-14T14:57:32.426Z"
   },
   {
    "duration": 10,
    "start_time": "2022-07-14T14:57:32.803Z"
   },
   {
    "duration": 1622,
    "start_time": "2022-07-14T17:18:43.424Z"
   },
   {
    "duration": 117,
    "start_time": "2022-07-14T17:18:45.049Z"
   },
   {
    "duration": 12,
    "start_time": "2022-07-14T17:18:45.168Z"
   },
   {
    "duration": 11,
    "start_time": "2022-07-14T17:18:45.182Z"
   },
   {
    "duration": 3,
    "start_time": "2022-07-14T17:18:45.195Z"
   },
   {
    "duration": 8,
    "start_time": "2022-07-14T17:18:45.200Z"
   },
   {
    "duration": 28,
    "start_time": "2022-07-14T17:18:45.210Z"
   },
   {
    "duration": 10,
    "start_time": "2022-07-14T17:18:45.240Z"
   },
   {
    "duration": 3,
    "start_time": "2022-07-14T17:18:45.264Z"
   },
   {
    "duration": 169,
    "start_time": "2022-07-14T17:18:45.270Z"
   },
   {
    "duration": 4,
    "start_time": "2022-07-14T17:18:45.441Z"
   },
   {
    "duration": 193,
    "start_time": "2022-07-14T17:18:45.446Z"
   },
   {
    "duration": 206,
    "start_time": "2022-07-14T17:18:45.641Z"
   },
   {
    "duration": 192,
    "start_time": "2022-07-14T17:18:45.848Z"
   },
   {
    "duration": 3,
    "start_time": "2022-07-14T17:18:46.042Z"
   },
   {
    "duration": 18,
    "start_time": "2022-07-14T17:18:46.047Z"
   },
   {
    "duration": 257,
    "start_time": "2022-07-14T17:18:46.067Z"
   },
   {
    "duration": 163,
    "start_time": "2022-07-14T17:18:46.326Z"
   },
   {
    "duration": 228,
    "start_time": "2022-07-14T17:18:46.491Z"
   },
   {
    "duration": 172,
    "start_time": "2022-07-14T17:18:46.721Z"
   },
   {
    "duration": 3,
    "start_time": "2022-07-14T17:18:46.895Z"
   },
   {
    "duration": 32,
    "start_time": "2022-07-14T17:18:46.900Z"
   },
   {
    "duration": 147,
    "start_time": "2022-07-14T17:18:46.934Z"
   },
   {
    "duration": 152,
    "start_time": "2022-07-14T17:18:47.083Z"
   },
   {
    "duration": 3,
    "start_time": "2022-07-14T17:18:47.236Z"
   },
   {
    "duration": 6,
    "start_time": "2022-07-14T17:18:47.241Z"
   },
   {
    "duration": 15,
    "start_time": "2022-07-14T17:18:47.248Z"
   },
   {
    "duration": 221,
    "start_time": "2022-07-14T17:18:47.266Z"
   },
   {
    "duration": 12,
    "start_time": "2022-07-14T17:18:47.489Z"
   },
   {
    "duration": 15,
    "start_time": "2022-07-14T17:18:47.502Z"
   },
   {
    "duration": 11,
    "start_time": "2022-07-14T17:18:47.519Z"
   },
   {
    "duration": 73323,
    "start_time": "2022-07-14T17:18:47.532Z"
   },
   {
    "duration": 6,
    "start_time": "2022-07-14T17:20:00.857Z"
   },
   {
    "duration": 8,
    "start_time": "2022-07-14T17:20:00.865Z"
   },
   {
    "duration": 26,
    "start_time": "2022-07-14T17:20:00.875Z"
   },
   {
    "duration": 73163,
    "start_time": "2022-07-14T17:20:00.903Z"
   },
   {
    "duration": 8,
    "start_time": "2022-07-14T17:21:14.068Z"
   },
   {
    "duration": 254,
    "start_time": "2022-07-14T17:21:14.078Z"
   },
   {
    "duration": 16,
    "start_time": "2022-07-14T17:21:14.334Z"
   },
   {
    "duration": 312,
    "start_time": "2022-07-14T17:21:14.351Z"
   },
   {
    "duration": 8,
    "start_time": "2022-07-14T17:21:14.665Z"
   }
  ],
  "kernelspec": {
   "display_name": "Python 3 (ipykernel)",
   "language": "python",
   "name": "python3"
  },
  "language_info": {
   "codemirror_mode": {
    "name": "ipython",
    "version": 3
   },
   "file_extension": ".py",
   "mimetype": "text/x-python",
   "name": "python",
   "nbconvert_exporter": "python",
   "pygments_lexer": "ipython3",
   "version": "3.9.7"
  },
  "toc": {
   "base_numbering": 1,
   "nav_menu": {},
   "number_sections": true,
   "sideBar": true,
   "skip_h1_title": true,
   "title_cell": "Содержание",
   "title_sidebar": "Contents",
   "toc_cell": true,
   "toc_position": {},
   "toc_section_display": true,
   "toc_window_display": true
  }
 },
 "nbformat": 4,
 "nbformat_minor": 2
}
