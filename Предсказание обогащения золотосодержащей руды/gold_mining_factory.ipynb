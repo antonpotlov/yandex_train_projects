{
 "cells": [
  {
   "cell_type": "markdown",
   "metadata": {},
   "source": [
    "# Восстановление золота из руды"
   ]
  },
  {
   "cell_type": "markdown",
   "metadata": {},
   "source": [
    "Подготовьте прототип модели машинного обучения для «Цифры». Компания разрабатывает решения для эффективной работы промышленных предприятий.\n",
    "\n",
    "Модель должна предсказать коэффициент восстановления золота из золотосодержащей руды. Используйте данные с параметрами добычи и очистки. \n",
    "\n",
    "Модель поможет оптимизировать производство, чтобы не запускать предприятие с убыточными характеристиками.\n",
    "\n",
    "Вам нужно:\n",
    "\n",
    "1. Подготовить данные;\n",
    "2. Провести исследовательский анализ данных;\n",
    "3. Построить и обучить модель.\n",
    "\n",
    "Чтобы выполнить проект, обращайтесь к библиотекам *pandas*, *matplotlib* и *sklearn.* Вам поможет их документация."
   ]
  },
  {
   "cell_type": "markdown",
   "metadata": {},
   "source": [
    "## Подготовка данных"
   ]
  },
  {
   "cell_type": "code",
   "execution_count": 1,
   "metadata": {},
   "outputs": [],
   "source": [
    "import pandas as pd\n",
    "\n",
    "import matplotlib.pyplot as plt\n",
    " \n",
    "from sklearn.dummy import DummyRegressor\n",
    "\n",
    "from sklearn.ensemble import RandomForestRegressor\n",
    "\n",
    "from sklearn.ensemble import GradientBoostingRegressor\n",
    "\n",
    "from sklearn.linear_model import LinearRegression\n",
    "\n",
    "from sklearn.metrics import make_scorer\n",
    "\n",
    "from sklearn.model_selection import cross_validate\n",
    "\n",
    "from sklearn.model_selection import train_test_split\n",
    "\n",
    "from sklearn.preprocessing import StandardScaler\n",
    "\n",
    "from sklearn.preprocessing import MinMaxScaler\n",
    "\n",
    "from sklearn.preprocessing import RobustScaler\n"
   ]
  },
  {
   "cell_type": "code",
   "execution_count": 2,
   "metadata": {},
   "outputs": [],
   "source": [
    "data_train = pd.read_csv('/datasets/gold_recovery_train_new.csv')\n",
    "data_test = pd.read_csv('/datasets/gold_recovery_test_new.csv')\n",
    "data_full = pd.read_csv('/datasets/gold_recovery_full_new.csv')"
   ]
  },
  {
   "cell_type": "code",
   "execution_count": 3,
   "metadata": {
    "scrolled": true
   },
   "outputs": [
    {
     "name": "stdout",
     "output_type": "stream",
     "text": [
      "<class 'pandas.core.frame.DataFrame'>\n",
      "RangeIndex: 14149 entries, 0 to 14148\n",
      "Data columns (total 87 columns):\n",
      " #   Column                                              Non-Null Count  Dtype  \n",
      "---  ------                                              --------------  -----  \n",
      " 0   date                                                14149 non-null  object \n",
      " 1   final.output.concentrate_ag                         14148 non-null  float64\n",
      " 2   final.output.concentrate_pb                         14148 non-null  float64\n",
      " 3   final.output.concentrate_sol                        13938 non-null  float64\n",
      " 4   final.output.concentrate_au                         14149 non-null  float64\n",
      " 5   final.output.recovery                               14149 non-null  float64\n",
      " 6   final.output.tail_ag                                14149 non-null  float64\n",
      " 7   final.output.tail_pb                                14049 non-null  float64\n",
      " 8   final.output.tail_sol                               14144 non-null  float64\n",
      " 9   final.output.tail_au                                14149 non-null  float64\n",
      " 10  primary_cleaner.input.sulfate                       14129 non-null  float64\n",
      " 11  primary_cleaner.input.depressant                    14117 non-null  float64\n",
      " 12  primary_cleaner.input.feed_size                     14149 non-null  float64\n",
      " 13  primary_cleaner.input.xanthate                      14049 non-null  float64\n",
      " 14  primary_cleaner.output.concentrate_ag               14149 non-null  float64\n",
      " 15  primary_cleaner.output.concentrate_pb               14063 non-null  float64\n",
      " 16  primary_cleaner.output.concentrate_sol              13863 non-null  float64\n",
      " 17  primary_cleaner.output.concentrate_au               14149 non-null  float64\n",
      " 18  primary_cleaner.output.tail_ag                      14148 non-null  float64\n",
      " 19  primary_cleaner.output.tail_pb                      14134 non-null  float64\n",
      " 20  primary_cleaner.output.tail_sol                     14103 non-null  float64\n",
      " 21  primary_cleaner.output.tail_au                      14149 non-null  float64\n",
      " 22  primary_cleaner.state.floatbank8_a_air              14145 non-null  float64\n",
      " 23  primary_cleaner.state.floatbank8_a_level            14148 non-null  float64\n",
      " 24  primary_cleaner.state.floatbank8_b_air              14145 non-null  float64\n",
      " 25  primary_cleaner.state.floatbank8_b_level            14148 non-null  float64\n",
      " 26  primary_cleaner.state.floatbank8_c_air              14147 non-null  float64\n",
      " 27  primary_cleaner.state.floatbank8_c_level            14148 non-null  float64\n",
      " 28  primary_cleaner.state.floatbank8_d_air              14146 non-null  float64\n",
      " 29  primary_cleaner.state.floatbank8_d_level            14148 non-null  float64\n",
      " 30  rougher.calculation.sulfate_to_au_concentrate       14148 non-null  float64\n",
      " 31  rougher.calculation.floatbank10_sulfate_to_au_feed  14148 non-null  float64\n",
      " 32  rougher.calculation.floatbank11_sulfate_to_au_feed  14148 non-null  float64\n",
      " 33  rougher.calculation.au_pb_ratio                     14149 non-null  float64\n",
      " 34  rougher.input.feed_ag                               14149 non-null  float64\n",
      " 35  rougher.input.feed_pb                               14049 non-null  float64\n",
      " 36  rougher.input.feed_rate                             14141 non-null  float64\n",
      " 37  rougher.input.feed_size                             14005 non-null  float64\n",
      " 38  rougher.input.feed_sol                              14071 non-null  float64\n",
      " 39  rougher.input.feed_au                               14149 non-null  float64\n",
      " 40  rougher.input.floatbank10_sulfate                   14120 non-null  float64\n",
      " 41  rougher.input.floatbank10_xanthate                  14141 non-null  float64\n",
      " 42  rougher.input.floatbank11_sulfate                   14113 non-null  float64\n",
      " 43  rougher.input.floatbank11_xanthate                  13721 non-null  float64\n",
      " 44  rougher.output.concentrate_ag                       14149 non-null  float64\n",
      " 45  rougher.output.concentrate_pb                       14149 non-null  float64\n",
      " 46  rougher.output.concentrate_sol                      14127 non-null  float64\n",
      " 47  rougher.output.concentrate_au                       14149 non-null  float64\n",
      " 48  rougher.output.recovery                             14149 non-null  float64\n",
      " 49  rougher.output.tail_ag                              14148 non-null  float64\n",
      " 50  rougher.output.tail_pb                              14149 non-null  float64\n",
      " 51  rougher.output.tail_sol                             14149 non-null  float64\n",
      " 52  rougher.output.tail_au                              14149 non-null  float64\n",
      " 53  rougher.state.floatbank10_a_air                     14148 non-null  float64\n",
      " 54  rougher.state.floatbank10_a_level                   14148 non-null  float64\n",
      " 55  rougher.state.floatbank10_b_air                     14148 non-null  float64\n",
      " 56  rougher.state.floatbank10_b_level                   14148 non-null  float64\n",
      " 57  rougher.state.floatbank10_c_air                     14148 non-null  float64\n",
      " 58  rougher.state.floatbank10_c_level                   14148 non-null  float64\n",
      " 59  rougher.state.floatbank10_d_air                     14149 non-null  float64\n",
      " 60  rougher.state.floatbank10_d_level                   14149 non-null  float64\n",
      " 61  rougher.state.floatbank10_e_air                     13713 non-null  float64\n",
      " 62  rougher.state.floatbank10_e_level                   14149 non-null  float64\n",
      " 63  rougher.state.floatbank10_f_air                     14149 non-null  float64\n",
      " 64  rougher.state.floatbank10_f_level                   14149 non-null  float64\n",
      " 65  secondary_cleaner.output.tail_ag                    14147 non-null  float64\n",
      " 66  secondary_cleaner.output.tail_pb                    14139 non-null  float64\n",
      " 67  secondary_cleaner.output.tail_sol                   12544 non-null  float64\n",
      " 68  secondary_cleaner.output.tail_au                    14149 non-null  float64\n",
      " 69  secondary_cleaner.state.floatbank2_a_air            13932 non-null  float64\n",
      " 70  secondary_cleaner.state.floatbank2_a_level          14148 non-null  float64\n",
      " 71  secondary_cleaner.state.floatbank2_b_air            14128 non-null  float64\n",
      " 72  secondary_cleaner.state.floatbank2_b_level          14148 non-null  float64\n",
      " 73  secondary_cleaner.state.floatbank3_a_air            14145 non-null  float64\n",
      " 74  secondary_cleaner.state.floatbank3_a_level          14148 non-null  float64\n",
      " 75  secondary_cleaner.state.floatbank3_b_air            14148 non-null  float64\n",
      " 76  secondary_cleaner.state.floatbank3_b_level          14148 non-null  float64\n",
      " 77  secondary_cleaner.state.floatbank4_a_air            14143 non-null  float64\n",
      " 78  secondary_cleaner.state.floatbank4_a_level          14148 non-null  float64\n",
      " 79  secondary_cleaner.state.floatbank4_b_air            14148 non-null  float64\n",
      " 80  secondary_cleaner.state.floatbank4_b_level          14148 non-null  float64\n",
      " 81  secondary_cleaner.state.floatbank5_a_air            14148 non-null  float64\n",
      " 82  secondary_cleaner.state.floatbank5_a_level          14148 non-null  float64\n",
      " 83  secondary_cleaner.state.floatbank5_b_air            14148 non-null  float64\n",
      " 84  secondary_cleaner.state.floatbank5_b_level          14148 non-null  float64\n",
      " 85  secondary_cleaner.state.floatbank6_a_air            14147 non-null  float64\n",
      " 86  secondary_cleaner.state.floatbank6_a_level          14148 non-null  float64\n",
      "dtypes: float64(86), object(1)\n",
      "memory usage: 9.4+ MB\n"
     ]
    }
   ],
   "source": [
    "data_train.info()"
   ]
  },
  {
   "cell_type": "code",
   "execution_count": 4,
   "metadata": {},
   "outputs": [],
   "source": [
    "data_train.fillna(method='ffill', inplace=True)\n",
    "data_test.fillna(method='ffill', inplace=True)\n",
    "data_full.fillna(method='ffill', inplace=True)"
   ]
  },
  {
   "cell_type": "code",
   "execution_count": 5,
   "metadata": {},
   "outputs": [],
   "source": [
    "def recovery_roug(row):\n",
    "    rougher_recovery_cof =((row['rougher.output.concentrate_au']*\n",
    "                          (row['rougher.input.feed_au']- row['rougher.output.tail_au']))/\n",
    "                          (row['rougher.input.feed_au']\n",
    "                           *(row['rougher.output.concentrate_au']-row['rougher.output.tail_au']))*100)\n",
    "    return rougher_recovery_cof"
   ]
  },
  {
   "cell_type": "code",
   "execution_count": 6,
   "metadata": {},
   "outputs": [],
   "source": [
    "data_train['rougher_recovery_cof']=data_train.apply(recovery_roug, axis=1)"
   ]
  },
  {
   "cell_type": "code",
   "execution_count": 7,
   "metadata": {},
   "outputs": [],
   "source": [
    "data_train['rougher_recovery_abs'] = abs(data_train['rougher_recovery_cof'] - data_train['rougher.output.recovery'])"
   ]
  },
  {
   "cell_type": "code",
   "execution_count": 8,
   "metadata": {},
   "outputs": [],
   "source": [
    "mae=data_train['rougher_recovery_abs'].mean()"
   ]
  },
  {
   "cell_type": "code",
   "execution_count": 9,
   "metadata": {},
   "outputs": [
    {
     "name": "stdout",
     "output_type": "stream",
     "text": [
      "МАЕ для коэффициентов восстановления после грубой очистки 9.73512347450521e-15\n"
     ]
    }
   ],
   "source": [
    "print(f'МАЕ для коэффициентов восстановления после грубой очистки {mae}') "
   ]
  },
  {
   "cell_type": "markdown",
   "metadata": {},
   "source": [
    "Вывод. Загружены данные для построения моделей предсказания коэффициентов обогащения породы на предварительном и финальном этапах обогащения. Данные имеют пропуски. Наибольший процент пропусков в столбце secondary_cleaner.output.tail_sol. Заполним пропуски в данных средними значениями столбцов. Проанализирована правильность расчета коэффициента обогащения породы. Метрика MAE говорит о правильности данных о коэффициенте восстановления в исходной таблице."
   ]
  },
  {
   "cell_type": "markdown",
   "metadata": {},
   "source": [
    "## Анализ данных"
   ]
  },
  {
   "cell_type": "markdown",
   "metadata": {},
   "source": [
    "проанализируем изменения концентрации металлов на разных этапах обогащения"
   ]
  },
  {
   "cell_type": "code",
   "execution_count": 10,
   "metadata": {},
   "outputs": [
    {
     "data": {
      "image/png": "[encoded data removed]",
      "text/plain": [
       "<Figure size 432x288 with 1 Axes>"
      ]
     },
     "metadata": {
      "needs_background": "light"
     },
     "output_type": "display_data"
    },
    {
     "data": {
      "image/png": "[encoded data removed]",
      "text/plain": [
       "<Figure size 432x288 with 1 Axes>"
      ]
     },
     "metadata": {
      "needs_background": "light"
     },
     "output_type": "display_data"
    },
    {
     "data": {
      "image/png": "[encoded data removed]",
      "text/plain": [
       "<Figure size 432x288 with 1 Axes>"
      ]
     },
     "metadata": {
      "needs_background": "light"
     },
     "output_type": "display_data"
    }
   ],
   "source": [
    "ag_ind=[]\n",
    "ag_data=[]\n",
    "au_ind=[]\n",
    "au_data=[]\n",
    "pb_ind=[]\n",
    "pb_data=[]\n",
    "for col in data_train:\n",
    "    mean=0\n",
    "    if 'ag' in col:\n",
    "        mean = data_train[col].mean()\n",
    "        ag_ind.append(col)\n",
    "        ag_data.append(mean)\n",
    "    if 'au' in col and 'floatbank' not in 'col' and 'sulfate' not in col and 'ratio' not in col:\n",
    "        mean = data_train[col].mean()\n",
    "        au_ind.append(col)\n",
    "        au_data.append(mean)\n",
    "    if 'pb' in col and 'ratio' not in col:\n",
    "        mean = data_train[col].mean()\n",
    "        pb_ind.append(col)\n",
    "        pb_data.append(mean)    \n",
    "\n",
    "columns = ['value']        \n",
    "ag = pd.DataFrame(data=ag_data, index=ag_ind, columns=columns)\n",
    "au = pd.DataFrame(data=au_data, index=au_ind, columns=columns)\n",
    "pb = pd.DataFrame(data=pb_data, index=pb_ind, columns=columns)\n",
    "ag.plot(kind='bar', grid=True)\n",
    "au.plot(kind='bar', grid=True)\n",
    "pb.plot(kind='bar', grid=True)\n",
    "plt.show()"
   ]
  },
  {
   "cell_type": "markdown",
   "metadata": {},
   "source": [
    "концентрация серебра (Ag) падает в процессе обогащения с почти 12 единиц после грубой очистки до 5 единиц после финальной очистки. В процессе очистки серебро в больших концентрациях обнаруживается в отвальных хвостах на первом (16 единиц), втором (14 единиц) и финальном (10 единиц) этапе обогащения.<br>\n",
    "концентрация золота (Au) растет в процессе обогащения с 20 единиц после грубой очистки до 45 единиц после финальной очистки. Концентрация золота в отвальных хвостах на первичном и вторичном этапе переработки равны и составляет 4 единицы. После финальной очистки концентрация золота в отвальных хвостах составляет 2 единицы<br>\n",
    "концентрация свинца (Pb) незначительно растет в процессе обогащения с 8 единиц после грубой очистки до 10 единиц после финальной очистки. В отвальных хвостах наивысшая концентрация после второй очистки - 6 единиц, после первичной очистки концентрация свинца в отвальных хвостах составляет 3,5 единицы, после финальной очистки 2,5 единицы."
   ]
  },
  {
   "cell_type": "code",
   "execution_count": 11,
   "metadata": {},
   "outputs": [
    {
     "data": {
      "text/plain": [
       "<matplotlib.lines.Line2D at 0x7f61448fa6d0>"
      ]
     },
     "execution_count": 11,
     "metadata": {},
     "output_type": "execute_result"
    },
    {
     "data": {
      "image/png": "[encoded data removed]",
      "text/plain": [
       "<Figure size 432x288 with 1 Axes>"
      ]
     },
     "metadata": {
      "needs_background": "light"
     },
     "output_type": "display_data"
    }
   ],
   "source": [
    "data_train['rougher.input.feed_size'].hist(bins=20)\n",
    "data_test['rougher.input.feed_size'].hist(bins=20)\n",
    "plt.axvline(data_train['rougher.input.feed_size'].mean(), color='red')\n",
    "plt.axvline(data_test['rougher.input.feed_size'].mean(), color='black')"
   ]
  },
  {
   "cell_type": "code",
   "execution_count": 12,
   "metadata": {},
   "outputs": [
    {
     "data": {
      "text/plain": [
       "<matplotlib.lines.Line2D at 0x7f6144872eb0>"
      ]
     },
     "execution_count": 12,
     "metadata": {},
     "output_type": "execute_result"
    },
    {
     "data": {
      "image/png": "[encoded data removed]",
      "text/plain": [
       "<Figure size 432x288 with 1 Axes>"
      ]
     },
     "metadata": {
      "needs_background": "light"
     },
     "output_type": "display_data"
    }
   ],
   "source": [
    "data_train.boxplot(column=['rougher.input.feed_size'], vert=False)\n",
    "plt.axvline(data_train['rougher.input.feed_size'].mean(), color='red')\n",
    "plt.axvline(data_test['rougher.input.feed_size'].mean(), color='black')"
   ]
  },
  {
   "cell_type": "markdown",
   "metadata": {},
   "source": [
    "формы распределений размеров гранул сырья в обучающей и тестовой выборке имеют схожую форму. Выборки имеют длинный правый хвост. данные о размерах гранул сырья имеют выбросы."
   ]
  },
  {
   "cell_type": "markdown",
   "metadata": {},
   "source": [
    "<font color='blue'><b>Комментарий ревьюера: </b></font> ✔️\\\n",
    "<font color='green'> Вывод верный!</font>"
   ]
  },
  {
   "cell_type": "code",
   "execution_count": 13,
   "metadata": {},
   "outputs": [],
   "source": [
    "data_train ['total_rougher.input.feed'] = (data_train['rougher.input.feed_ag']+\n",
    "                                           data_train['rougher.input.feed_pb']+\n",
    "                                           data_train['rougher.input.feed_au']+data_train['rougher.input.feed_sol'])\n",
    "\n",
    "data_test ['total_rougher.input.feed'] = (data_test['rougher.input.feed_ag']+\n",
    "                                          data_train['rougher.input.feed_pb']+\n",
    "                                          data_train['rougher.input.feed_au']+data_train['rougher.input.feed_sol'])\n",
    "\n",
    "data_train ['total_primary_cleaner.output.concentrate'] = (data_train['primary_cleaner.output.concentrate_ag']+\n",
    "                                                           data_train['primary_cleaner.output.concentrate_pb']+\n",
    "                                                           data_train['primary_cleaner.output.concentrate_au']+\n",
    "                                                           data_train['primary_cleaner.output.concentrate_sol'])\n",
    "\n",
    "data_train ['total_final.output.concentrate'] = (data_train['final.output.concentrate_ag']+\n",
    "                                                 data_train['final.output.concentrate_pb']+\n",
    "                                                 data_train['final.output.concentrate_au']+\n",
    "                                                 data_train['final.output.concentrate_sol'])"
   ]
  },
  {
   "cell_type": "code",
   "execution_count": 14,
   "metadata": {},
   "outputs": [
    {
     "data": {
      "text/plain": [
       "<matplotlib.lines.Line2D at 0x7f614471dbb0>"
      ]
     },
     "execution_count": 14,
     "metadata": {},
     "output_type": "execute_result"
    },
    {
     "data": {
      "image/png": "[encoded data removed]",
      "text/plain": [
       "<Figure size 432x288 with 1 Axes>"
      ]
     },
     "metadata": {
      "needs_background": "light"
     },
     "output_type": "display_data"
    }
   ],
   "source": [
    "data_train ['total_rougher.input.feed'].hist(alpha=0.6, legend='rougher.input.feed')\n",
    "data_train ['total_primary_cleaner.output.concentrate'].hist(alpha=0.6,\n",
    "                                                        legend='total_primary_cleaner.output.concentrate')\n",
    "data_train ['total_final.output.concentrate'].hist(alpha=0.6, legend='total_final.output.concentrate')\n",
    "plt.axvline(data_train['total_rougher.input.feed'].mean(), color='red')\n",
    "plt.axvline(data_train['total_primary_cleaner.output.concentrate'].mean(), color='orange')\n",
    "plt.axvline(data_train['total_final.output.concentrate'].mean(), color='green')"
   ]
  },
  {
   "cell_type": "code",
   "execution_count": 15,
   "metadata": {},
   "outputs": [
    {
     "data": {
      "text/plain": [
       "<matplotlib.lines.Line2D at 0x7f61447367f0>"
      ]
     },
     "execution_count": 15,
     "metadata": {},
     "output_type": "execute_result"
    },
    {
     "data": {
      "image/png": "[encoded data removed]",
      "text/plain": [
       "<Figure size 432x288 with 1 Axes>"
      ]
     },
     "metadata": {
      "needs_background": "light"
     },
     "output_type": "display_data"
    }
   ],
   "source": [
    "data_train.boxplot(column=['total_rougher.input.feed', \n",
    "                    'total_primary_cleaner.output.concentrate', 'total_final.output.concentrate'], \n",
    "                    vert=False, meanline=True)\n",
    "plt.axvline(data_train['total_rougher.input.feed'].mean(), color='red')\n",
    "plt.axvline(data_train['total_primary_cleaner.output.concentrate'].mean(), color='orange')\n",
    "plt.axvline(data_train['total_final.output.concentrate'].mean(), color='green')"
   ]
  },
  {
   "cell_type": "markdown",
   "metadata": {},
   "source": [
    "Суммарная концентрация веществ (Ag, Au, Pb) в процессе обогащения растет. Размах величин концентрации становится меньше в процессе обогащения (сокращение межквартильного расстояния). Однако в процессе обогащения появляется большое количество выбросов слева (1 квартиль суммарного количества финального выхода веществ совпадает со средним значением выборки - длинный левый хвост)."
   ]
  },
  {
   "cell_type": "code",
   "execution_count": 16,
   "metadata": {},
   "outputs": [],
   "source": [
    "rougher_input_feed_threshold = (\n",
    "                                    (data_train['total_rougher.input.feed'].quantile(0.25)-\n",
    "                                    ((data_train['total_rougher.input.feed'].quantile(0.75) \n",
    "                                    - data_train['total_rougher.input.feed'].quantile(0.25))*1.5))\n",
    "                                )\n",
    "total_primary_cleaner_output_concentrate_threshold = (\n",
    "                                    (data_train['total_primary_cleaner.output.concentrate'].quantile(0.25)-\n",
    "                                    ((data_train['total_primary_cleaner.output.concentrate'].quantile(0.75) \n",
    "                                    - data_train['total_primary_cleaner.output.concentrate'].quantile(0.25))*1.5))\n",
    "                                                        )\n",
    "total_final_output_concentrate_threshold = (\n",
    "                                    (data_train['total_final.output.concentrate'].quantile(0.25)-\n",
    "                                    ((data_train['total_final.output.concentrate'].quantile(0.75) \n",
    "                                    - data_train['total_final.output.concentrate'].quantile(0.25))*1.5))\n",
    "                                            )\n",
    "rougher_input_feed_threshold_test = (\n",
    "                                    (data_test['total_rougher.input.feed'].quantile(0.25)-\n",
    "                                    ((data_test['total_rougher.input.feed'].quantile(0.75) \n",
    "                                    - data_test['total_rougher.input.feed'].quantile(0.25))*1.5))\n",
    "                                    )\n",
    "rougher_input_feed_size_threshold = (\n",
    "                                    (data_train['rougher.input.feed_size'].quantile(0.25)-\n",
    "                                    ((data_train['rougher.input.feed_size'].quantile(0.75) - \n",
    "                                    data_train['rougher.input.feed_size'].quantile(0.25))*1.5))\n",
    "                                    )\n",
    "rougher_input_feed_size_threshold_test = (\n",
    "                                    (data_test['rougher.input.feed_size'].quantile(0.25)\n",
    "                                    -((data_test['rougher.input.feed_size'].quantile(0.75)\n",
    "                                    -data_test['rougher.input.feed_size'].quantile(0.25))*1.5))\n",
    "                                        )"
   ]
  },
  {
   "cell_type": "code",
   "execution_count": 17,
   "metadata": {},
   "outputs": [],
   "source": [
    "data_test = data_test[(data_test['rougher.input.feed_size']>rougher_input_feed_size_threshold_test) \n",
    "    & (data_test['total_rougher.input.feed']>rougher_input_feed_threshold_test)]\n",
    "\n",
    "data_train = data_train[(data_train['rougher.input.feed_size']>=rougher_input_feed_size_threshold) \n",
    "    & (data_train['total_rougher.input.feed']>=rougher_input_feed_threshold) \n",
    "    & (data_train['total_primary_cleaner.output.concentrate']>=total_primary_cleaner_output_concentrate_threshold) \n",
    "    & (data_train['total_final.output.concentrate']>=total_final_output_concentrate_threshold)]"
   ]
  },
  {
   "cell_type": "code",
   "execution_count": null,
   "metadata": {},
   "outputs": [],
   "source": []
  },
  {
   "cell_type": "code",
   "execution_count": 18,
   "metadata": {},
   "outputs": [],
   "source": [
    "data_test['primary_cleaner.state.floatbank_air'] =  (data_test.loc[:, [\"primary_cleaner.state.floatbank8_a_air\",\n",
    "                                                                    \"primary_cleaner.state.floatbank8_b_air\",\n",
    "                                                                    \"primary_cleaner.state.floatbank8_c_air\",\n",
    "                                                                    \"primary_cleaner.state.floatbank8_c_air\"]]).mean(axis=1)\n",
    "data_test['primary_cleaner.state.floatbank_level'] = (data_test.loc[:, ['primary_cleaner.state.floatbank8_a_level',\n",
    "                                                    'primary_cleaner.state.floatbank8_b_level',\n",
    "                                                    'primary_cleaner.state.floatbank8_c_level',\n",
    "                                                    'primary_cleaner.state.floatbank8_d_level']]).mean(axis=1)\n",
    "data_test['rougher.input.floatbank_sulfate'] = (data_test.loc[:,['rougher.input.floatbank10_sulfate', \n",
    "                                                'rougher.input.floatbank11_sulfate']]).mean(axis=1)\n",
    "data_test['rougher.input.floatbank_xanthate'] = (data_test.loc[:,['rougher.input.floatbank10_xanthate', \n",
    "                                                'rougher.input.floatbank11_xanthate']]).mean(axis=1)\n",
    "data_test['rougher.state.floatbank_air'] = (data_test.loc[:,['rougher.state.floatbank10_a_air',\n",
    "                                            'rougher.state.floatbank10_b_air',\n",
    "                                            'rougher.state.floatbank10_c_air',\n",
    "                                            'rougher.state.floatbank10_d_air',\n",
    "                                            'rougher.state.floatbank10_e_air',               \n",
    "                                            'rougher.state.floatbank10_f_air']]).mean(axis=1)\n",
    "data_test['rougher.state.floatbank_level'] = (data_test.loc[:,['rougher.state.floatbank10_a_level',\n",
    "                                            'rougher.state.floatbank10_b_level',\n",
    "                                            'rougher.state.floatbank10_c_level',\n",
    "                                            'rougher.state.floatbank10_d_level',\n",
    "                                            'rougher.state.floatbank10_e_level',                  \n",
    "                                            'rougher.state.floatbank10_f_level']]).mean(axis=1)\n",
    "data_test['secondary_cleaner.state.floatbank_air'] = (data_test.loc[:,['secondary_cleaner.state.floatbank2_a_air',\n",
    "                                                     'secondary_cleaner.state.floatbank2_b_air',\n",
    "                                                     'secondary_cleaner.state.floatbank3_a_air',\n",
    "                                                     'secondary_cleaner.state.floatbank3_b_air',\n",
    "                                                     'secondary_cleaner.state.floatbank4_a_air',\n",
    "                                                     'secondary_cleaner.state.floatbank4_b_air',\n",
    "                                                     'secondary_cleaner.state.floatbank5_a_air',\n",
    "                                                     'secondary_cleaner.state.floatbank5_b_air',\n",
    "                                                     'secondary_cleaner.state.floatbank6_a_air']]).mean(axis=1)\n",
    "data_test['secondary_cleaner.state.floatbank_level'] = (data_test.loc[:,['secondary_cleaner.state.floatbank2_a_level',\n",
    "                                                     'secondary_cleaner.state.floatbank2_b_level',\n",
    "                                                     'secondary_cleaner.state.floatbank3_a_level',\n",
    "                                                     'secondary_cleaner.state.floatbank3_b_level',\n",
    "                                                     'secondary_cleaner.state.floatbank4_a_level',\n",
    "                                                     'secondary_cleaner.state.floatbank4_b_level',\n",
    "                                                     'secondary_cleaner.state.floatbank5_a_level',\n",
    "                                                     'secondary_cleaner.state.floatbank5_b_level',\n",
    "                                                     'secondary_cleaner.state.floatbank6_a_level']]).mean(axis=1)\n",
    "data_test.drop(\n",
    "    ['rougher.input.feed_ag',\n",
    "    'rougher.input.feed_pb',\n",
    "    'rougher.input.feed_sol',\n",
    "    'primary_cleaner.state.floatbank8_a_air',\n",
    "    'primary_cleaner.state.floatbank8_b_air',\n",
    "    'primary_cleaner.state.floatbank8_c_air',\n",
    "    'primary_cleaner.state.floatbank8_d_air',\n",
    "    'primary_cleaner.state.floatbank8_a_level',\n",
    "    'primary_cleaner.state.floatbank8_b_level',\n",
    "    'primary_cleaner.state.floatbank8_c_level',\n",
    "    'primary_cleaner.state.floatbank8_d_level',\n",
    "    'rougher.input.floatbank10_sulfate',\n",
    "    'rougher.input.floatbank11_sulfate',\n",
    "    'rougher.input.floatbank10_xanthate',\n",
    "    'rougher.input.floatbank11_xanthate',\n",
    "    'rougher.state.floatbank10_a_air',\n",
    "    'rougher.state.floatbank10_b_air',\n",
    "    'rougher.state.floatbank10_c_air',\n",
    "    'rougher.state.floatbank10_d_air',\n",
    "    'rougher.state.floatbank10_e_air', \n",
    "    'rougher.state.floatbank10_f_air', \n",
    "    'rougher.state.floatbank10_a_level',\n",
    "    'rougher.state.floatbank10_b_level',\n",
    "    'rougher.state.floatbank10_c_level',\n",
    "    'rougher.state.floatbank10_d_level',\n",
    "    'rougher.state.floatbank10_e_level',\n",
    "    'rougher.state.floatbank10_f_level',\n",
    "    'secondary_cleaner.state.floatbank2_a_air',\n",
    "    'secondary_cleaner.state.floatbank2_b_air',\n",
    "    'secondary_cleaner.state.floatbank3_a_air',\n",
    "    'secondary_cleaner.state.floatbank3_b_air',\n",
    "    'secondary_cleaner.state.floatbank4_a_air',\n",
    "    'secondary_cleaner.state.floatbank4_b_air',\n",
    "    'secondary_cleaner.state.floatbank5_a_air',\n",
    "    'secondary_cleaner.state.floatbank5_b_air',\n",
    "    'secondary_cleaner.state.floatbank6_a_air',\n",
    "    'secondary_cleaner.state.floatbank2_a_level',\n",
    "    'secondary_cleaner.state.floatbank2_b_level',\n",
    "    'secondary_cleaner.state.floatbank3_a_level',\n",
    "    'secondary_cleaner.state.floatbank3_b_level',\n",
    "    'secondary_cleaner.state.floatbank4_a_level',\n",
    "    'secondary_cleaner.state.floatbank4_b_level',\n",
    "    'secondary_cleaner.state.floatbank5_a_level',\n",
    "    'secondary_cleaner.state.floatbank5_b_level',\n",
    "    'secondary_cleaner.state.floatbank6_a_level' \n",
    "    ], axis = 1, inplace=True)"
   ]
  },
  {
   "cell_type": "code",
   "execution_count": null,
   "metadata": {},
   "outputs": [],
   "source": []
  },
  {
   "cell_type": "code",
   "execution_count": 19,
   "metadata": {},
   "outputs": [],
   "source": [
    "data_train['primary_cleaner.state.floatbank_air'] =  (data_train.loc[:, [\"primary_cleaner.state.floatbank8_a_air\",\n",
    "                                                                        \"primary_cleaner.state.floatbank8_b_air\",\n",
    "                                                                        \"primary_cleaner.state.floatbank8_c_air\",\n",
    "                                                                        \"primary_cleaner.state.floatbank8_c_air\"]]).mean(axis=1)\n",
    "data_train['primary_cleaner.state.floatbank_level'] = (data_train.loc[:, ['primary_cleaner.state.floatbank8_a_level',\n",
    "                                                    'primary_cleaner.state.floatbank8_b_level',\n",
    "                                                    'primary_cleaner.state.floatbank8_c_level',\n",
    "                                                    'primary_cleaner.state.floatbank8_d_level']]).mean(axis=1)\n",
    "data_train['rougher.input.floatbank_sulfate'] = (data_train.loc[:,['rougher.input.floatbank10_sulfate', \n",
    "                                                'rougher.input.floatbank11_sulfate']]).mean(axis=1)\n",
    "data_train['rougher.input.floatbank_xanthate'] = (data_train.loc[:,['rougher.input.floatbank10_xanthate', \n",
    "                                                'rougher.input.floatbank11_xanthate']]).mean(axis=1)\n",
    "data_train['rougher.state.floatbank_air'] = (data_train.loc[:,['rougher.state.floatbank10_a_air',\n",
    "                                            'rougher.state.floatbank10_b_air',\n",
    "                                            'rougher.state.floatbank10_c_air',\n",
    "                                            'rougher.state.floatbank10_d_air',\n",
    "                                            'rougher.state.floatbank10_e_air',               \n",
    "                                            'rougher.state.floatbank10_f_air']]).mean(axis=1)\n",
    "data_train['rougher.state.floatbank_level'] = (data_train.loc[:,['rougher.state.floatbank10_a_level',\n",
    "                                            'rougher.state.floatbank10_b_level',\n",
    "                                            'rougher.state.floatbank10_c_level',\n",
    "                                            'rougher.state.floatbank10_d_level',\n",
    "                                            'rougher.state.floatbank10_e_level',                  \n",
    "                                            'rougher.state.floatbank10_f_level']]).mean(axis=1)\n",
    "data_train['secondary_cleaner.state.floatbank_air'] = (data_train.loc[:,['secondary_cleaner.state.floatbank2_a_air',\n",
    "                                                     'secondary_cleaner.state.floatbank2_b_air',\n",
    "                                                     'secondary_cleaner.state.floatbank3_a_air',\n",
    "                                                     'secondary_cleaner.state.floatbank3_b_air',\n",
    "                                                     'secondary_cleaner.state.floatbank4_a_air',\n",
    "                                                     'secondary_cleaner.state.floatbank4_b_air',\n",
    "                                                     'secondary_cleaner.state.floatbank5_a_air',\n",
    "                                                     'secondary_cleaner.state.floatbank5_b_air',\n",
    "                                                     'secondary_cleaner.state.floatbank6_a_air']]).mean(axis=1)\n",
    "data_train['secondary_cleaner.state.floatbank_level'] = (data_train.loc[:,['secondary_cleaner.state.floatbank2_a_level',\n",
    "                                                     'secondary_cleaner.state.floatbank2_b_level',\n",
    "                                                     'secondary_cleaner.state.floatbank3_a_level',\n",
    "                                                     'secondary_cleaner.state.floatbank3_b_level',\n",
    "                                                     'secondary_cleaner.state.floatbank4_a_level',\n",
    "                                                     'secondary_cleaner.state.floatbank4_b_level',\n",
    "                                                     'secondary_cleaner.state.floatbank5_a_level',\n",
    "                                                     'secondary_cleaner.state.floatbank5_b_level',\n",
    "                                                     'secondary_cleaner.state.floatbank6_a_level']]).mean(axis=1)\n",
    "data_train.drop(\n",
    "    ['rougher.input.feed_ag',\n",
    "    'rougher.input.feed_pb',\n",
    "    'rougher.input.feed_sol',\n",
    "    'primary_cleaner.state.floatbank8_a_air',\n",
    "    'primary_cleaner.state.floatbank8_b_air',\n",
    "    'primary_cleaner.state.floatbank8_c_air',\n",
    "    'primary_cleaner.state.floatbank8_d_air',\n",
    "    'primary_cleaner.state.floatbank8_a_level',\n",
    "    'primary_cleaner.state.floatbank8_b_level',\n",
    "    'primary_cleaner.state.floatbank8_c_level',\n",
    "    'primary_cleaner.state.floatbank8_d_level',\n",
    "    'rougher.input.floatbank10_sulfate',\n",
    "    'rougher.input.floatbank11_sulfate',\n",
    "    'rougher.input.floatbank10_xanthate',\n",
    "    'rougher.input.floatbank11_xanthate',\n",
    "    'rougher.state.floatbank10_a_air',\n",
    "    'rougher.state.floatbank10_b_air',\n",
    "    'rougher.state.floatbank10_c_air',\n",
    "    'rougher.state.floatbank10_d_air',\n",
    "    'rougher.state.floatbank10_e_air', \n",
    "    'rougher.state.floatbank10_f_air', \n",
    "    'rougher.state.floatbank10_a_level',\n",
    "    'rougher.state.floatbank10_b_level',\n",
    "    'rougher.state.floatbank10_c_level',\n",
    "    'rougher.state.floatbank10_d_level',\n",
    "    'rougher.state.floatbank10_e_level',\n",
    "    'rougher.state.floatbank10_f_level', \n",
    "    'secondary_cleaner.state.floatbank2_a_air',\n",
    "    'secondary_cleaner.state.floatbank2_b_air',\n",
    "    'secondary_cleaner.state.floatbank3_a_air',\n",
    "    'secondary_cleaner.state.floatbank3_b_air',\n",
    "    'secondary_cleaner.state.floatbank4_a_air',\n",
    "    'secondary_cleaner.state.floatbank4_b_air',\n",
    "    'secondary_cleaner.state.floatbank5_a_air',\n",
    "    'secondary_cleaner.state.floatbank5_b_air',\n",
    "    'secondary_cleaner.state.floatbank6_a_air',\n",
    "    'secondary_cleaner.state.floatbank2_a_level',\n",
    "    'secondary_cleaner.state.floatbank2_b_level',\n",
    "    'secondary_cleaner.state.floatbank3_a_level',\n",
    "    'secondary_cleaner.state.floatbank3_b_level',\n",
    "    'secondary_cleaner.state.floatbank4_a_level',\n",
    "    'secondary_cleaner.state.floatbank4_b_level',\n",
    "    'secondary_cleaner.state.floatbank5_a_level',\n",
    "    'secondary_cleaner.state.floatbank5_b_level',\n",
    "    'secondary_cleaner.state.floatbank6_a_level' \n",
    "    ], axis = 1, inplace=True)"
   ]
  },
  {
   "cell_type": "code",
   "execution_count": null,
   "metadata": {},
   "outputs": [],
   "source": [
    "scaler = RobustScaler()"
   ]
  },
  {
   "cell_type": "code",
   "execution_count": 20,
   "metadata": {},
   "outputs": [],
   "source": [
    "tab_to_merge = data_full[['date','final.output.recovery', 'rougher.output.recovery']]\n",
    "data_test_1 = data_test.merge(tab_to_merge, on='date', how='left')\n",
    "\n",
    "target_test_final=data_test_1['final.output.recovery']\n",
    "target_test_rougher=data_test_1['rougher.output.recovery']\n",
    "target_train_final = data_train['final.output.recovery']\n",
    "target_train_rougher = data_train['rougher.output.recovery']\n",
    "target_full_final = data_full['final.output.recovery']\n",
    "target_full_rougher = data_full['rougher.output.recovery']\n",
    "\n",
    "features_test_final = data_test.loc[:, ~data_test.columns.str.contains(r\"date\") & \n",
    "                                     ~data_test.columns.str.contains(r\"total\")]\n",
    "\n",
    "\n",
    "\n",
    "features_test_rougher = data_test.loc[:, data_test.columns.str.contains(r\"rougher\")& \n",
    "                                       ~data_test.columns.str.contains(r\"total\")]\n",
    "\n",
    "features_train_rougher = data_train.loc[:, data_train.columns.str.contains(r\"rougher\") & \n",
    "                                        ~data_train.columns.str.contains(r\"output\") \n",
    "                                        & ~data_train.columns.str.contains(r\"calculation\") & \n",
    "                                        ~data_train.columns.str.contains(r\"recovery\") \n",
    "                                        & ~data_train.columns.str.contains(r\"total\")]\n",
    "\n",
    "\n",
    "features_train_final = data_train.loc[:, ~data_train.columns.str.contains(r\"output\") \n",
    "                                        & ~data_train.columns.str.contains(r\"calculation\") & \n",
    "                                      ~data_train.columns.str.contains(r\"recovery\") \n",
    "                                        & ~data_train.columns.str.contains(r\"total\") & \n",
    "                                      ~data_train.columns.str.contains(r\"date\")]\n",
    "\n",
    "\n",
    "features_full_rougher = data_full.loc[:, data_full.columns.str.contains(r\"rougher\") & \n",
    "                                      ~data_full.columns.str.contains(r\"output\") & \n",
    "                                      ~data_full.columns.str.contains(r\"calculation\") & \n",
    "                                      ~data_full.columns.str.contains(r\"recovery\")]\n",
    "\n",
    "\n",
    "features_full_final = data_full.loc[:, ~data_full.columns.str.contains(r\"output\") & \n",
    "                                    ~data_full.columns.str.contains(r\"calculation\") & \n",
    "                                    ~data_full.columns.str.contains(r\"recovery\") & \n",
    "                                    ~data_full.columns.str.contains(r\"date\")]\n",
    "\n",
    "\n",
    "features_full_final, features_full_final_valid, target_full_final, target_full_final_valid = (\n",
    "             train_test_split(features_full_final, target_full_final, test_size = 0.2, random_state=12345))\n",
    "\n",
    "features_full_rougher, features_full_rougher_valid, target_full_rougher, target_full_rougher_valid = (\n",
    "            train_test_split(features_full_rougher, target_full_rougher, test_size = 0.2, random_state=12345))"
   ]
  },
  {
   "cell_type": "code",
   "execution_count": 21,
   "metadata": {},
   "outputs": [
    {
     "data": {
      "text/html": [
       "<div>\n",
       "<style scoped>\n",
       "    .dataframe tbody tr th:only-of-type {\n",
       "        vertical-align: middle;\n",
       "    }\n",
       "\n",
       "    .dataframe tbody tr th {\n",
       "        vertical-align: top;\n",
       "    }\n",
       "\n",
       "    .dataframe thead th {\n",
       "        text-align: right;\n",
       "    }\n",
       "</style>\n",
       "<table border=\"1\" class=\"dataframe\">\n",
       "  <thead>\n",
       "    <tr style=\"text-align: right;\">\n",
       "      <th></th>\n",
       "      <th>rougher.input.feed_rate</th>\n",
       "      <th>rougher.input.feed_size</th>\n",
       "      <th>rougher.input.feed_au</th>\n",
       "      <th>rougher.input.floatbank_sulfate</th>\n",
       "      <th>rougher.input.floatbank_xanthate</th>\n",
       "      <th>rougher.state.floatbank_air</th>\n",
       "      <th>rougher.state.floatbank_level</th>\n",
       "    </tr>\n",
       "  </thead>\n",
       "  <tbody>\n",
       "    <tr>\n",
       "      <th>0</th>\n",
       "      <td>489.793655</td>\n",
       "      <td>62.710452</td>\n",
       "      <td>12.084103</td>\n",
       "      <td>16.895197</td>\n",
       "      <td>6.152094</td>\n",
       "      <td>1108.110791</td>\n",
       "      <td>-391.000981</td>\n",
       "    </tr>\n",
       "    <tr>\n",
       "      <th>1</th>\n",
       "      <td>490.104534</td>\n",
       "      <td>61.961163</td>\n",
       "      <td>11.918977</td>\n",
       "      <td>16.999298</td>\n",
       "      <td>6.000679</td>\n",
       "      <td>1107.884879</td>\n",
       "      <td>-392.537336</td>\n",
       "    </tr>\n",
       "    <tr>\n",
       "      <th>2</th>\n",
       "      <td>489.617969</td>\n",
       "      <td>66.903807</td>\n",
       "      <td>12.091332</td>\n",
       "      <td>16.987308</td>\n",
       "      <td>5.852113</td>\n",
       "      <td>1107.363449</td>\n",
       "      <td>-392.002366</td>\n",
       "    </tr>\n",
       "    <tr>\n",
       "      <th>3</th>\n",
       "      <td>476.618130</td>\n",
       "      <td>59.865919</td>\n",
       "      <td>12.181597</td>\n",
       "      <td>16.523710</td>\n",
       "      <td>5.802796</td>\n",
       "      <td>1109.026279</td>\n",
       "      <td>-391.053037</td>\n",
       "    </tr>\n",
       "    <tr>\n",
       "      <th>4</th>\n",
       "      <td>488.248117</td>\n",
       "      <td>63.315324</td>\n",
       "      <td>11.290425</td>\n",
       "      <td>13.628655</td>\n",
       "      <td>5.738858</td>\n",
       "      <td>1144.139906</td>\n",
       "      <td>-391.377914</td>\n",
       "    </tr>\n",
       "    <tr>\n",
       "      <th>...</th>\n",
       "      <td>...</td>\n",
       "      <td>...</td>\n",
       "      <td>...</td>\n",
       "      <td>...</td>\n",
       "      <td>...</td>\n",
       "      <td>...</td>\n",
       "      <td>...</td>\n",
       "    </tr>\n",
       "    <tr>\n",
       "      <th>5285</th>\n",
       "      <td>521.685155</td>\n",
       "      <td>66.758479</td>\n",
       "      <td>10.554544</td>\n",
       "      <td>10.109993</td>\n",
       "      <td>7.201053</td>\n",
       "      <td>992.789444</td>\n",
       "      <td>-466.368166</td>\n",
       "    </tr>\n",
       "    <tr>\n",
       "      <th>5286</th>\n",
       "      <td>530.195798</td>\n",
       "      <td>62.560684</td>\n",
       "      <td>10.254051</td>\n",
       "      <td>9.979175</td>\n",
       "      <td>7.201426</td>\n",
       "      <td>996.245811</td>\n",
       "      <td>-464.406098</td>\n",
       "    </tr>\n",
       "    <tr>\n",
       "      <th>5287</th>\n",
       "      <td>546.306868</td>\n",
       "      <td>73.647513</td>\n",
       "      <td>10.169094</td>\n",
       "      <td>10.183840</td>\n",
       "      <td>7.197466</td>\n",
       "      <td>991.711002</td>\n",
       "      <td>-466.240373</td>\n",
       "    </tr>\n",
       "    <tr>\n",
       "      <th>5288</th>\n",
       "      <td>547.331405</td>\n",
       "      <td>78.066446</td>\n",
       "      <td>10.071156</td>\n",
       "      <td>10.728632</td>\n",
       "      <td>7.200446</td>\n",
       "      <td>991.941539</td>\n",
       "      <td>-466.829908</td>\n",
       "    </tr>\n",
       "    <tr>\n",
       "      <th>5289</th>\n",
       "      <td>564.540376</td>\n",
       "      <td>77.678700</td>\n",
       "      <td>9.697259</td>\n",
       "      <td>10.791187</td>\n",
       "      <td>7.198407</td>\n",
       "      <td>992.646428</td>\n",
       "      <td>-466.483645</td>\n",
       "    </tr>\n",
       "  </tbody>\n",
       "</table>\n",
       "<p>5187 rows × 7 columns</p>\n",
       "</div>"
      ],
      "text/plain": [
       "      rougher.input.feed_rate  rougher.input.feed_size  rougher.input.feed_au  \\\n",
       "0                  489.793655                62.710452              12.084103   \n",
       "1                  490.104534                61.961163              11.918977   \n",
       "2                  489.617969                66.903807              12.091332   \n",
       "3                  476.618130                59.865919              12.181597   \n",
       "4                  488.248117                63.315324              11.290425   \n",
       "...                       ...                      ...                    ...   \n",
       "5285               521.685155                66.758479              10.554544   \n",
       "5286               530.195798                62.560684              10.254051   \n",
       "5287               546.306868                73.647513              10.169094   \n",
       "5288               547.331405                78.066446              10.071156   \n",
       "5289               564.540376                77.678700               9.697259   \n",
       "\n",
       "      rougher.input.floatbank_sulfate  rougher.input.floatbank_xanthate  \\\n",
       "0                           16.895197                          6.152094   \n",
       "1                           16.999298                          6.000679   \n",
       "2                           16.987308                          5.852113   \n",
       "3                           16.523710                          5.802796   \n",
       "4                           13.628655                          5.738858   \n",
       "...                               ...                               ...   \n",
       "5285                        10.109993                          7.201053   \n",
       "5286                         9.979175                          7.201426   \n",
       "5287                        10.183840                          7.197466   \n",
       "5288                        10.728632                          7.200446   \n",
       "5289                        10.791187                          7.198407   \n",
       "\n",
       "      rougher.state.floatbank_air  rougher.state.floatbank_level  \n",
       "0                     1108.110791                    -391.000981  \n",
       "1                     1107.884879                    -392.537336  \n",
       "2                     1107.363449                    -392.002366  \n",
       "3                     1109.026279                    -391.053037  \n",
       "4                     1144.139906                    -391.377914  \n",
       "...                           ...                            ...  \n",
       "5285                   992.789444                    -466.368166  \n",
       "5286                   996.245811                    -464.406098  \n",
       "5287                   991.711002                    -466.240373  \n",
       "5288                   991.941539                    -466.829908  \n",
       "5289                   992.646428                    -466.483645  \n",
       "\n",
       "[5187 rows x 7 columns]"
      ]
     },
     "execution_count": 21,
     "metadata": {},
     "output_type": "execute_result"
    }
   ],
   "source": [
    "features_test_rougher"
   ]
  },
  {
   "cell_type": "code",
   "execution_count": 22,
   "metadata": {},
   "outputs": [
    {
     "data": {
      "text/html": [
       "<div>\n",
       "<style scoped>\n",
       "    .dataframe tbody tr th:only-of-type {\n",
       "        vertical-align: middle;\n",
       "    }\n",
       "\n",
       "    .dataframe tbody tr th {\n",
       "        vertical-align: top;\n",
       "    }\n",
       "\n",
       "    .dataframe thead th {\n",
       "        text-align: right;\n",
       "    }\n",
       "</style>\n",
       "<table border=\"1\" class=\"dataframe\">\n",
       "  <thead>\n",
       "    <tr style=\"text-align: right;\">\n",
       "      <th></th>\n",
       "      <th>primary_cleaner.input.sulfate</th>\n",
       "      <th>primary_cleaner.input.depressant</th>\n",
       "      <th>primary_cleaner.input.feed_size</th>\n",
       "      <th>primary_cleaner.input.xanthate</th>\n",
       "      <th>rougher.input.feed_rate</th>\n",
       "      <th>rougher.input.feed_size</th>\n",
       "      <th>rougher.input.feed_au</th>\n",
       "      <th>primary_cleaner.state.floatbank_air</th>\n",
       "      <th>primary_cleaner.state.floatbank_level</th>\n",
       "      <th>rougher.input.floatbank_sulfate</th>\n",
       "      <th>rougher.input.floatbank_xanthate</th>\n",
       "      <th>rougher.state.floatbank_air</th>\n",
       "      <th>rougher.state.floatbank_level</th>\n",
       "      <th>secondary_cleaner.state.floatbank_air</th>\n",
       "      <th>secondary_cleaner.state.floatbank_level</th>\n",
       "    </tr>\n",
       "  </thead>\n",
       "  <tbody>\n",
       "    <tr>\n",
       "      <th>0</th>\n",
       "      <td>127.092003</td>\n",
       "      <td>10.128295</td>\n",
       "      <td>7.25</td>\n",
       "      <td>0.988759</td>\n",
       "      <td>523.546326</td>\n",
       "      <td>55.486599</td>\n",
       "      <td>6.486150</td>\n",
       "      <td>1550.239441</td>\n",
       "      <td>-501.852577</td>\n",
       "      <td>11.911680</td>\n",
       "      <td>6.006904</td>\n",
       "      <td>1437.476257</td>\n",
       "      <td>-439.947205</td>\n",
       "      <td>17.102487</td>\n",
       "      <td>-511.818186</td>\n",
       "    </tr>\n",
       "    <tr>\n",
       "      <th>1</th>\n",
       "      <td>125.629232</td>\n",
       "      <td>10.296251</td>\n",
       "      <td>7.25</td>\n",
       "      <td>1.002663</td>\n",
       "      <td>525.290581</td>\n",
       "      <td>57.278666</td>\n",
       "      <td>6.478583</td>\n",
       "      <td>1576.026419</td>\n",
       "      <td>-499.754407</td>\n",
       "      <td>11.983678</td>\n",
       "      <td>6.009180</td>\n",
       "      <td>1433.499125</td>\n",
       "      <td>-441.798629</td>\n",
       "      <td>17.087944</td>\n",
       "      <td>-511.918731</td>\n",
       "    </tr>\n",
       "    <tr>\n",
       "      <th>2</th>\n",
       "      <td>123.819808</td>\n",
       "      <td>11.316280</td>\n",
       "      <td>7.25</td>\n",
       "      <td>0.991265</td>\n",
       "      <td>530.026610</td>\n",
       "      <td>57.510649</td>\n",
       "      <td>6.362222</td>\n",
       "      <td>1601.487483</td>\n",
       "      <td>-500.325767</td>\n",
       "      <td>11.920454</td>\n",
       "      <td>6.201005</td>\n",
       "      <td>1433.012774</td>\n",
       "      <td>-441.742662</td>\n",
       "      <td>17.311601</td>\n",
       "      <td>-511.661580</td>\n",
       "    </tr>\n",
       "    <tr>\n",
       "      <th>3</th>\n",
       "      <td>122.270188</td>\n",
       "      <td>11.322140</td>\n",
       "      <td>7.25</td>\n",
       "      <td>0.996739</td>\n",
       "      <td>542.590390</td>\n",
       "      <td>57.792734</td>\n",
       "      <td>6.118189</td>\n",
       "      <td>1600.309061</td>\n",
       "      <td>-500.352361</td>\n",
       "      <td>11.661272</td>\n",
       "      <td>6.199877</td>\n",
       "      <td>1433.131689</td>\n",
       "      <td>-441.780288</td>\n",
       "      <td>17.312067</td>\n",
       "      <td>-511.164860</td>\n",
       "    </tr>\n",
       "    <tr>\n",
       "      <th>4</th>\n",
       "      <td>117.988169</td>\n",
       "      <td>11.913613</td>\n",
       "      <td>7.25</td>\n",
       "      <td>1.009869</td>\n",
       "      <td>540.531893</td>\n",
       "      <td>56.047189</td>\n",
       "      <td>5.663707</td>\n",
       "      <td>1600.485337</td>\n",
       "      <td>-500.194966</td>\n",
       "      <td>10.959138</td>\n",
       "      <td>6.196861</td>\n",
       "      <td>1433.787571</td>\n",
       "      <td>-441.430137</td>\n",
       "      <td>17.302416</td>\n",
       "      <td>-511.708756</td>\n",
       "    </tr>\n",
       "    <tr>\n",
       "      <th>...</th>\n",
       "      <td>...</td>\n",
       "      <td>...</td>\n",
       "      <td>...</td>\n",
       "      <td>...</td>\n",
       "      <td>...</td>\n",
       "      <td>...</td>\n",
       "      <td>...</td>\n",
       "      <td>...</td>\n",
       "      <td>...</td>\n",
       "      <td>...</td>\n",
       "      <td>...</td>\n",
       "      <td>...</td>\n",
       "      <td>...</td>\n",
       "      <td>...</td>\n",
       "      <td>...</td>\n",
       "    </tr>\n",
       "    <tr>\n",
       "      <th>14144</th>\n",
       "      <td>123.381787</td>\n",
       "      <td>8.028927</td>\n",
       "      <td>6.50</td>\n",
       "      <td>1.304232</td>\n",
       "      <td>560.889077</td>\n",
       "      <td>85.718304</td>\n",
       "      <td>5.335862</td>\n",
       "      <td>1648.579915</td>\n",
       "      <td>-399.943668</td>\n",
       "      <td>7.764757</td>\n",
       "      <td>9.157339</td>\n",
       "      <td>1007.180234</td>\n",
       "      <td>-465.643987</td>\n",
       "      <td>23.110396</td>\n",
       "      <td>-500.126762</td>\n",
       "    </tr>\n",
       "    <tr>\n",
       "      <th>14145</th>\n",
       "      <td>120.878188</td>\n",
       "      <td>7.962636</td>\n",
       "      <td>6.50</td>\n",
       "      <td>1.302419</td>\n",
       "      <td>559.031805</td>\n",
       "      <td>119.499241</td>\n",
       "      <td>4.838619</td>\n",
       "      <td>1649.122521</td>\n",
       "      <td>-400.371084</td>\n",
       "      <td>7.226097</td>\n",
       "      <td>9.301438</td>\n",
       "      <td>1006.852024</td>\n",
       "      <td>-466.364674</td>\n",
       "      <td>23.098611</td>\n",
       "      <td>-500.389100</td>\n",
       "    </tr>\n",
       "    <tr>\n",
       "      <th>14146</th>\n",
       "      <td>105.666118</td>\n",
       "      <td>7.955111</td>\n",
       "      <td>6.50</td>\n",
       "      <td>1.315926</td>\n",
       "      <td>555.682872</td>\n",
       "      <td>122.262690</td>\n",
       "      <td>4.525061</td>\n",
       "      <td>1648.539416</td>\n",
       "      <td>-399.846595</td>\n",
       "      <td>6.585075</td>\n",
       "      <td>9.299870</td>\n",
       "      <td>1009.431386</td>\n",
       "      <td>-468.543095</td>\n",
       "      <td>23.101292</td>\n",
       "      <td>-512.922114</td>\n",
       "    </tr>\n",
       "    <tr>\n",
       "      <th>14147</th>\n",
       "      <td>98.880538</td>\n",
       "      <td>7.984164</td>\n",
       "      <td>6.50</td>\n",
       "      <td>1.241969</td>\n",
       "      <td>544.731687</td>\n",
       "      <td>123.742430</td>\n",
       "      <td>4.362781</td>\n",
       "      <td>1648.148694</td>\n",
       "      <td>-399.656755</td>\n",
       "      <td>6.209818</td>\n",
       "      <td>9.297452</td>\n",
       "      <td>1009.512650</td>\n",
       "      <td>-465.868534</td>\n",
       "      <td>23.104930</td>\n",
       "      <td>-509.435196</td>\n",
       "    </tr>\n",
       "    <tr>\n",
       "      <th>14148</th>\n",
       "      <td>95.248427</td>\n",
       "      <td>8.078957</td>\n",
       "      <td>6.50</td>\n",
       "      <td>1.283045</td>\n",
       "      <td>555.820208</td>\n",
       "      <td>94.544358</td>\n",
       "      <td>4.365491</td>\n",
       "      <td>1649.139771</td>\n",
       "      <td>-400.269698</td>\n",
       "      <td>6.157960</td>\n",
       "      <td>9.309232</td>\n",
       "      <td>1006.512698</td>\n",
       "      <td>-466.280338</td>\n",
       "      <td>23.104674</td>\n",
       "      <td>-500.065486</td>\n",
       "    </tr>\n",
       "  </tbody>\n",
       "</table>\n",
       "<p>12628 rows × 15 columns</p>\n",
       "</div>"
      ],
      "text/plain": [
       "       primary_cleaner.input.sulfate  primary_cleaner.input.depressant  \\\n",
       "0                         127.092003                         10.128295   \n",
       "1                         125.629232                         10.296251   \n",
       "2                         123.819808                         11.316280   \n",
       "3                         122.270188                         11.322140   \n",
       "4                         117.988169                         11.913613   \n",
       "...                              ...                               ...   \n",
       "14144                     123.381787                          8.028927   \n",
       "14145                     120.878188                          7.962636   \n",
       "14146                     105.666118                          7.955111   \n",
       "14147                      98.880538                          7.984164   \n",
       "14148                      95.248427                          8.078957   \n",
       "\n",
       "       primary_cleaner.input.feed_size  primary_cleaner.input.xanthate  \\\n",
       "0                                 7.25                        0.988759   \n",
       "1                                 7.25                        1.002663   \n",
       "2                                 7.25                        0.991265   \n",
       "3                                 7.25                        0.996739   \n",
       "4                                 7.25                        1.009869   \n",
       "...                                ...                             ...   \n",
       "14144                             6.50                        1.304232   \n",
       "14145                             6.50                        1.302419   \n",
       "14146                             6.50                        1.315926   \n",
       "14147                             6.50                        1.241969   \n",
       "14148                             6.50                        1.283045   \n",
       "\n",
       "       rougher.input.feed_rate  rougher.input.feed_size  \\\n",
       "0                   523.546326                55.486599   \n",
       "1                   525.290581                57.278666   \n",
       "2                   530.026610                57.510649   \n",
       "3                   542.590390                57.792734   \n",
       "4                   540.531893                56.047189   \n",
       "...                        ...                      ...   \n",
       "14144               560.889077                85.718304   \n",
       "14145               559.031805               119.499241   \n",
       "14146               555.682872               122.262690   \n",
       "14147               544.731687               123.742430   \n",
       "14148               555.820208                94.544358   \n",
       "\n",
       "       rougher.input.feed_au  primary_cleaner.state.floatbank_air  \\\n",
       "0                   6.486150                          1550.239441   \n",
       "1                   6.478583                          1576.026419   \n",
       "2                   6.362222                          1601.487483   \n",
       "3                   6.118189                          1600.309061   \n",
       "4                   5.663707                          1600.485337   \n",
       "...                      ...                                  ...   \n",
       "14144               5.335862                          1648.579915   \n",
       "14145               4.838619                          1649.122521   \n",
       "14146               4.525061                          1648.539416   \n",
       "14147               4.362781                          1648.148694   \n",
       "14148               4.365491                          1649.139771   \n",
       "\n",
       "       primary_cleaner.state.floatbank_level  rougher.input.floatbank_sulfate  \\\n",
       "0                                -501.852577                        11.911680   \n",
       "1                                -499.754407                        11.983678   \n",
       "2                                -500.325767                        11.920454   \n",
       "3                                -500.352361                        11.661272   \n",
       "4                                -500.194966                        10.959138   \n",
       "...                                      ...                              ...   \n",
       "14144                            -399.943668                         7.764757   \n",
       "14145                            -400.371084                         7.226097   \n",
       "14146                            -399.846595                         6.585075   \n",
       "14147                            -399.656755                         6.209818   \n",
       "14148                            -400.269698                         6.157960   \n",
       "\n",
       "       rougher.input.floatbank_xanthate  rougher.state.floatbank_air  \\\n",
       "0                              6.006904                  1437.476257   \n",
       "1                              6.009180                  1433.499125   \n",
       "2                              6.201005                  1433.012774   \n",
       "3                              6.199877                  1433.131689   \n",
       "4                              6.196861                  1433.787571   \n",
       "...                                 ...                          ...   \n",
       "14144                          9.157339                  1007.180234   \n",
       "14145                          9.301438                  1006.852024   \n",
       "14146                          9.299870                  1009.431386   \n",
       "14147                          9.297452                  1009.512650   \n",
       "14148                          9.309232                  1006.512698   \n",
       "\n",
       "       rougher.state.floatbank_level  secondary_cleaner.state.floatbank_air  \\\n",
       "0                        -439.947205                              17.102487   \n",
       "1                        -441.798629                              17.087944   \n",
       "2                        -441.742662                              17.311601   \n",
       "3                        -441.780288                              17.312067   \n",
       "4                        -441.430137                              17.302416   \n",
       "...                              ...                                    ...   \n",
       "14144                    -465.643987                              23.110396   \n",
       "14145                    -466.364674                              23.098611   \n",
       "14146                    -468.543095                              23.101292   \n",
       "14147                    -465.868534                              23.104930   \n",
       "14148                    -466.280338                              23.104674   \n",
       "\n",
       "       secondary_cleaner.state.floatbank_level  \n",
       "0                                  -511.818186  \n",
       "1                                  -511.918731  \n",
       "2                                  -511.661580  \n",
       "3                                  -511.164860  \n",
       "4                                  -511.708756  \n",
       "...                                        ...  \n",
       "14144                              -500.126762  \n",
       "14145                              -500.389100  \n",
       "14146                              -512.922114  \n",
       "14147                              -509.435196  \n",
       "14148                              -500.065486  \n",
       "\n",
       "[12628 rows x 15 columns]"
      ]
     },
     "execution_count": 22,
     "metadata": {},
     "output_type": "execute_result"
    }
   ],
   "source": [
    "features_train_final"
   ]
  },
  {
   "cell_type": "markdown",
   "metadata": {},
   "source": [
    "Рассчитаны границы для выбраковки аномально низких значений размера гранул сырья, суммарной концентрации металлов во входяшем сырье, суммарной концентрации металлов после первичной очистки, суммарной концентрации металлов после финальной обработки."
   ]
  },
  {
   "cell_type": "markdown",
   "metadata": {},
   "source": [
    "Вывод. 1.Исследованы концентрации отдельных веществ по этапа обогащения. Концентрация золота в процессе обогащения растет, концентрация серебра в процессе обогащения падает, концентрация свинца растет в процессе обогащения незначительно.<br>\n",
    "2.Формы распределений гранул сырья в обучающей и тестовой выборках совпадают.<br>\n",
    "3.Суммарная концентрация веществ в процессе обогащения растет, межквартильный размах сокращается со смещением среднего по выборке влево (большое количество выбросов слева - левый хвост) в наличии есть даже значения около нуля.<br>\n",
    "4.Данные очищены от выбросов по размеру гранул сырья (удалены данные с аномально мелкими гранулами), суммарной концентрации металлов во входяшем сырье, суммарной концентрации металлов после первичной очистки, суммарной концентрации металлов после финальной обработки. <br>\n",
    "5.Данные приготовлены для последующего построения моделей машинного обучения."
   ]
  },
  {
   "cell_type": "markdown",
   "metadata": {},
   "source": [
    "## Модель"
   ]
  },
  {
   "cell_type": "code",
   "execution_count": 23,
   "metadata": {},
   "outputs": [],
   "source": [
    "def sMAPE_final(target_rougher, predict_rougher, target_final, predict_final):\n",
    "    rougher_sMAPE = (((abs(target_rougher-predict_rougher))/((abs(target_rougher)+abs(predict_rougher))/2)).mean())*100\n",
    "    final_sMAPE = (((abs(target_final-predict_final))/((abs(target_final)+abs(predict_final))/2)).mean())*100\n",
    "    total_sMAPE = rougher_sMAPE*0.25+final_sMAPE*0.75\n",
    "    return total_sMAPE"
   ]
  },
  {
   "cell_type": "code",
   "execution_count": 24,
   "metadata": {},
   "outputs": [],
   "source": [
    "def sMAPE_for_model_selection (target, predict):\n",
    "    sMAPE_for_model_selection = (((abs(target-predict))/((abs(target)+abs(predict))/2)).mean())*100\n",
    "    return sMAPE_for_model_selection"
   ]
  },
  {
   "cell_type": "markdown",
   "metadata": {},
   "source": [
    "### Случайный лес"
   ]
  },
  {
   "cell_type": "code",
   "execution_count": 25,
   "metadata": {},
   "outputs": [
    {
     "name": "stdout",
     "output_type": "stream",
     "text": [
      "Параметры случайного леса: Глубина дерева 10, количество деревьев 80, sMAPE 16.42\n"
     ]
    }
   ],
   "source": [
    "best_model_rf=None\n",
    "best_sMAPE=1000000\n",
    "best_depth = 0\n",
    "best_est = 0\n",
    "for n_estimators in range (30, 100, 10):\n",
    "    for max_depth in range (10, 16, 1):\n",
    "        model = RandomForestRegressor(n_estimators = n_estimators, max_depth = max_depth, random_state=12345)\n",
    "        model.fit(features_train_rougher, target_train_rougher)\n",
    "        score = make_scorer(sMAPE_for_model_selection, greater_is_better=True)\n",
    "        cv_result = cross_validate(model, features_train_rougher, target_train_rougher, scoring=score, cv=2)\n",
    "        sMAPE = abs(cv_result['test_score']).mean()\n",
    "        if sMAPE<best_sMAPE:\n",
    "            best_sMAPE=sMAPE\n",
    "            best_model_rf = model\n",
    "            best_depth = max_depth\n",
    "            best_est = n_estimators\n",
    "\n",
    "\n",
    "print(('Параметры случайного леса: Глубина дерева {}, количество деревьев {}, sMAPE {:.2f}'\n",
    "      .format (best_depth, best_est, best_sMAPE)))"
   ]
  },
  {
   "cell_type": "code",
   "execution_count": 26,
   "metadata": {},
   "outputs": [
    {
     "name": "stdout",
     "output_type": "stream",
     "text": [
      "sMAPE на финального обогащения случайный лес 9.04\n"
     ]
    }
   ],
   "source": [
    "score = make_scorer(sMAPE_for_model_selection, greater_is_better=True)\n",
    "cv_result = cross_validate(best_model_rf, features_train_final, target_train_final, scoring=score, cv=5)\n",
    "print('sMAPE на финального обогащения случайный лес {:.2f}'.format (abs(cv_result['test_score'].mean())))"
   ]
  },
  {
   "cell_type": "markdown",
   "metadata": {},
   "source": [
    "#### Предварительное обогащение"
   ]
  },
  {
   "cell_type": "code",
   "execution_count": 27,
   "metadata": {},
   "outputs": [],
   "source": [
    "predict_rougher = best_model_rf.predict(features_test_rougher)"
   ]
  },
  {
   "cell_type": "code",
   "execution_count": 28,
   "metadata": {},
   "outputs": [
    {
     "name": "stdout",
     "output_type": "stream",
     "text": [
      "sMAPE на тестовой выборке для предварительного обогащения 22.36\n"
     ]
    }
   ],
   "source": [
    "sMAPE = sMAPE_for_model_selection (target_test_final, predict_rougher)\n",
    "print('sMAPE на тестовой выборке для предварительного обогащения {:.2f}'.format(sMAPE))"
   ]
  },
  {
   "cell_type": "markdown",
   "metadata": {},
   "source": [
    "#### Финальное обогащение"
   ]
  },
  {
   "cell_type": "code",
   "execution_count": 29,
   "metadata": {},
   "outputs": [
    {
     "data": {
      "text/plain": [
       "RandomForestRegressor(max_depth=10, n_estimators=80, random_state=12345)"
      ]
     },
     "execution_count": 29,
     "metadata": {},
     "output_type": "execute_result"
    }
   ],
   "source": [
    "best_model_rf.fit(features_test_final, target_test_final)"
   ]
  },
  {
   "cell_type": "code",
   "execution_count": 30,
   "metadata": {},
   "outputs": [],
   "source": [
    "predict_final = best_model_rf.predict(features_test_final)"
   ]
  },
  {
   "cell_type": "code",
   "execution_count": 31,
   "metadata": {},
   "outputs": [
    {
     "name": "stdout",
     "output_type": "stream",
     "text": [
      "sMAPE на тестовой выборке для финального обогащения 6.89\n"
     ]
    }
   ],
   "source": [
    "sMAPE = sMAPE_for_model_selection (target_test_final, predict_final)\n",
    "print('sMAPE на тестовой выборке для финального обогащения {:.2f}'.format(sMAPE))"
   ]
  },
  {
   "cell_type": "markdown",
   "metadata": {},
   "source": [
    "### Линейная регрессия"
   ]
  },
  {
   "cell_type": "code",
   "execution_count": 32,
   "metadata": {},
   "outputs": [
    {
     "data": {
      "text/plain": [
       "LinearRegression(n_jobs=-1)"
      ]
     },
     "execution_count": 32,
     "metadata": {},
     "output_type": "execute_result"
    }
   ],
   "source": [
    "lr=LinearRegression(n_jobs=-1)\n",
    "lr.fit(features_train_rougher, target_train_rougher)"
   ]
  },
  {
   "cell_type": "code",
   "execution_count": 33,
   "metadata": {},
   "outputs": [
    {
     "name": "stdout",
     "output_type": "stream",
     "text": [
      "sMAPE на предварительного обогащения линейная регрессия 12.81\n"
     ]
    }
   ],
   "source": [
    "score = make_scorer(sMAPE_for_model_selection, greater_is_better=True)\n",
    "cv_result = cross_validate(lr, features_train_rougher, target_train_rougher, scoring=score, cv=5)\n",
    "print('sMAPE на предварительного обогащения линейная регрессия {:.2f}'.format(abs(cv_result['test_score'].mean())))"
   ]
  },
  {
   "cell_type": "code",
   "execution_count": 34,
   "metadata": {},
   "outputs": [
    {
     "name": "stdout",
     "output_type": "stream",
     "text": [
      "sMAPE на финального обогащения линейная регрессия 8.07\n"
     ]
    }
   ],
   "source": [
    "score = make_scorer(sMAPE_for_model_selection, greater_is_better=True)\n",
    "cv_result = cross_validate(lr, features_train_final, target_train_final, scoring=score, cv=5)\n",
    "print('sMAPE на финального обогащения линейная регрессия {:.2f}'.format (abs(cv_result['test_score'].mean())))"
   ]
  },
  {
   "cell_type": "markdown",
   "metadata": {},
   "source": [
    "#### Предварительное обогащение"
   ]
  },
  {
   "cell_type": "code",
   "execution_count": 37,
   "metadata": {},
   "outputs": [],
   "source": [
    "predict_rougher_lr = lr.predict(features_test_rougher)"
   ]
  },
  {
   "cell_type": "code",
   "execution_count": 38,
   "metadata": {},
   "outputs": [
    {
     "name": "stdout",
     "output_type": "stream",
     "text": [
      "sMAPE на тестовой выборке для предварительного обогащения 9.03\n"
     ]
    }
   ],
   "source": [
    "sMAPE = sMAPE_for_model_selection (target_test_rougher, predict_rougher_lr)\n",
    "print('sMAPE на тестовой выборке для предварительного обогащения {:.2f}'.format(sMAPE))"
   ]
  },
  {
   "cell_type": "markdown",
   "metadata": {},
   "source": [
    "#### Финальное обогащение"
   ]
  },
  {
   "cell_type": "code",
   "execution_count": 39,
   "metadata": {},
   "outputs": [],
   "source": [
    "lr.fit(features_train_final,target_train_final)\n",
    "predict_final_lr = lr.predict(features_test_final)"
   ]
  },
  {
   "cell_type": "code",
   "execution_count": 41,
   "metadata": {},
   "outputs": [
    {
     "name": "stdout",
     "output_type": "stream",
     "text": [
      "sMAPE на тестовой выборке для финального обогащения 9.36\n"
     ]
    }
   ],
   "source": [
    "sMAPE = sMAPE_for_model_selection (target_test_final, predict_final_lr)\n",
    "print('sMAPE на тестовой выборке для финального обогащения {:.2f}'.format(sMAPE))"
   ]
  },
  {
   "cell_type": "markdown",
   "metadata": {},
   "source": [
    "### Градиентный бустинг"
   ]
  },
  {
   "cell_type": "code",
   "execution_count": 42,
   "metadata": {},
   "outputs": [],
   "source": [
    "gb = GradientBoostingRegressor(random_state=12345)\n",
    "gb.fit(features_train_rougher, target_train_rougher)\n",
    "predict_rougher_gb = gb.predict(features_test_rougher)"
   ]
  },
  {
   "cell_type": "code",
   "execution_count": 43,
   "metadata": {},
   "outputs": [
    {
     "name": "stdout",
     "output_type": "stream",
     "text": [
      "sMAPE на предварительного обогащения градиентный бустинг 14.26\n"
     ]
    }
   ],
   "source": [
    "score = make_scorer(sMAPE_for_model_selection, greater_is_better=True)\n",
    "cv_result = cross_validate(gb, features_train_rougher, target_train_rougher, scoring=score, cv=5)\n",
    "print('sMAPE на предварительного обогащения градиентный бустинг {:.2f}'.format(abs(cv_result['test_score'].mean())))"
   ]
  },
  {
   "cell_type": "code",
   "execution_count": 44,
   "metadata": {},
   "outputs": [
    {
     "name": "stdout",
     "output_type": "stream",
     "text": [
      "sMAPE на финального обогащения градиентный бустинг 8.60\n"
     ]
    }
   ],
   "source": [
    "score = make_scorer(sMAPE_for_model_selection, greater_is_better=True)\n",
    "cv_result = cross_validate(gb, features_train_final, target_train_final, scoring=score, cv=5)\n",
    "print('sMAPE на финального обогащения градиентный бустинг {:.2f}'.format (abs(cv_result['test_score'].mean())))"
   ]
  },
  {
   "cell_type": "markdown",
   "metadata": {},
   "source": [
    "#### Предварительное обогащение"
   ]
  },
  {
   "cell_type": "code",
   "execution_count": 45,
   "metadata": {},
   "outputs": [
    {
     "name": "stdout",
     "output_type": "stream",
     "text": [
      "sMAPE на тестовой выборке для предварительного обогащения 8.43\n"
     ]
    }
   ],
   "source": [
    "sMAPE = sMAPE_for_model_selection (target_test_rougher, predict_rougher_gb)\n",
    "print('sMAPE на тестовой выборке для предварительного обогащения {:.2f}'.format(sMAPE))"
   ]
  },
  {
   "cell_type": "markdown",
   "metadata": {},
   "source": [
    "#### Финальное обогащение"
   ]
  },
  {
   "cell_type": "code",
   "execution_count": 46,
   "metadata": {},
   "outputs": [
    {
     "data": {
      "text/plain": [
       "GradientBoostingRegressor(random_state=12345)"
      ]
     },
     "execution_count": 46,
     "metadata": {},
     "output_type": "execute_result"
    }
   ],
   "source": [
    "gb.fit(features_train_final, target_train_final)"
   ]
  },
  {
   "cell_type": "code",
   "execution_count": 47,
   "metadata": {},
   "outputs": [],
   "source": [
    "predict_test_final_gb = gb.predict(features_test_final)"
   ]
  },
  {
   "cell_type": "code",
   "execution_count": 48,
   "metadata": {},
   "outputs": [
    {
     "name": "stdout",
     "output_type": "stream",
     "text": [
      "sMAPE на тестовой выборке для предварительного обогащения 27.98\n"
     ]
    }
   ],
   "source": [
    "sMAPE = sMAPE_for_model_selection (target_test_rougher, predict_test_final_gb)\n",
    "print('sMAPE на тестовой выборке для предварительного обогащения {:.2f}'.format(sMAPE))"
   ]
  },
  {
   "cell_type": "markdown",
   "metadata": {},
   "source": [
    "### sMAPE"
   ]
  },
  {
   "cell_type": "code",
   "execution_count": 49,
   "metadata": {},
   "outputs": [],
   "source": [
    "final_sMAPE = sMAPE_final(target_test_rougher, predict_rougher_gb, target_test_final, predict_test_final_gb)\n",
    "final_sMAPE_lr = sMAPE_final(target_test_rougher, predict_rougher_lr, target_test_final, predict_final_lr)\n",
    "final_sMAPE_rf = sMAPE_final(target_test_rougher, predict_rougher, target_test_final, predict_final)"
   ]
  },
  {
   "cell_type": "code",
   "execution_count": 50,
   "metadata": {},
   "outputs": [
    {
     "name": "stdout",
     "output_type": "stream",
     "text": [
      "sMAPE предсказанных коэффициентов предварительного и финального обогащения градиентный бустинг 9.14\n",
      "sMAPE предсказанных коэффициентов предварительного и финального обогащения линейная регрессия 9.28\n",
      "sMAPE предсказанных коэффициентов предварительного и финального обогащения случайный лес 7.61\n"
     ]
    }
   ],
   "source": [
    "print('sMAPE предсказанных коэффициентов предварительного и финального обогащения градиентный бустинг {:.2f}'. format(final_sMAPE))\n",
    "print('sMAPE предсказанных коэффициентов предварительного и финального обогащения линейная регрессия {:.2f}'. format(final_sMAPE_lr))\n",
    "print('sMAPE предсказанных коэффициентов предварительного и финального обогащения случайный лес {:.2f}'. format(final_sMAPE_rf))"
   ]
  },
  {
   "cell_type": "markdown",
   "metadata": {},
   "source": [
    "Валидация sMAPE на константной модели регрессии"
   ]
  },
  {
   "cell_type": "code",
   "execution_count": 51,
   "metadata": {},
   "outputs": [],
   "source": [
    "score = make_scorer(sMAPE_for_model_selection, greater_is_better=False)\n",
    "dr = DummyRegressor(strategy='mean')\n",
    "dr.fit(features_train_rougher, target_train_rougher)\n",
    "predict_rougher_dr = dr.predict(features_test_rougher)\n",
    "dr.fit(features_train_final, target_train_final)\n",
    "predict_full_dr = dr.predict(features_test_final)"
   ]
  },
  {
   "cell_type": "code",
   "execution_count": 52,
   "metadata": {},
   "outputs": [
    {
     "name": "stdout",
     "output_type": "stream",
     "text": [
      "sMAPE константной модели предсказания коэффициентов предварительного и финального обогащения 9.93\n"
     ]
    }
   ],
   "source": [
    "final_sMAPE = sMAPE_final(target_test_rougher, predict_rougher_dr, target_test_final, predict_full_dr)\n",
    "print('sMAPE константной модели предсказания коэффициентов предварительного и финального обогащения {:.2f}'\n",
    "     . format(final_sMAPE))"
   ]
  },
  {
   "cell_type": "markdown",
   "metadata": {},
   "source": [
    "Для расчета sMAPE возьмем данные из предсказаний случайного леса. sMAPE равно 7.61 %. sMAPE констатной модели равно 9,93 %."
   ]
  },
  {
   "cell_type": "markdown",
   "metadata": {},
   "source": [
    "Выводы по проекту:<br>\n",
    "1.Получены данные (обучающие, тестовые, полные) о технологическом процессе по обогащению золота. Данные имеют пропуски, которые заполнены средними значениями соответствующего столбца. Проверена корректность расчета табличного показателя обогащения.<br>\n",
    "2.Проанализированы данные о изменении концентрации металлов в процессе обогащения золота. Концентрация золота растет, концентрация серебра падает (растет концентрация серебра в отвалах), концентрация свинца растет незначительно.<br>\n",
    "3.Размеры гранул сырья распределены пожожим образом в обучающей и тестовой выборках. Данные имет выбросы справа и слева. Расчитаны суммарные концентрации металлов по этапам обогащения. Данные о суммарной концентрации металлов имеют выбросы, преимущественно слева. Уберем левые выборосы указанных данных из обучающей и тестовой выборок. Сформируем набор признаков для моделей машинного обучения.<br>\n",
    "4.Взяты модели случайного леса, линейной регрессии и градиентного бустинга для предсказаний коэффициента обогащения золота после входной обработки и после финальной обработки. Проведена кросс-валидация моделей. Для предсказаний выбрана модель линейной регрессии как имеющая наименьшую RMSE. На основании предсказаний модели линейной регрессии расчитан показатель sMAPE он равен 7,61 %."
   ]
  }
 ],
 "metadata": {
  "ExecuteTimeLog": [
   {
    "duration": 1267,
    "start_time": "2022-05-30T10:06:12.957Z"
   },
   {
    "duration": 114,
    "start_time": "2022-05-30T10:08:17.353Z"
   },
   {
    "duration": 1932,
    "start_time": "2022-05-30T10:08:48.134Z"
   },
   {
    "duration": 35,
    "start_time": "2022-05-30T10:09:00.264Z"
   },
   {
    "duration": 7,
    "start_time": "2022-05-30T10:10:29.282Z"
   },
   {
    "duration": 4,
    "start_time": "2022-05-30T10:14:15.354Z"
   },
   {
    "duration": 11,
    "start_time": "2022-05-30T10:15:06.353Z"
   },
   {
    "duration": 921,
    "start_time": "2022-05-30T10:15:18.602Z"
   },
   {
    "duration": 6,
    "start_time": "2022-05-30T10:15:19.525Z"
   },
   {
    "duration": 46,
    "start_time": "2022-05-30T10:19:01.148Z"
   },
   {
    "duration": 31,
    "start_time": "2022-05-30T10:19:25.671Z"
   },
   {
    "duration": 31,
    "start_time": "2022-05-30T10:19:34.565Z"
   },
   {
    "duration": 24,
    "start_time": "2022-05-30T10:20:07.100Z"
   },
   {
    "duration": 13,
    "start_time": "2022-05-30T10:20:21.420Z"
   },
   {
    "duration": 23,
    "start_time": "2022-05-30T10:20:32.427Z"
   },
   {
    "duration": 10,
    "start_time": "2022-05-30T10:21:31.946Z"
   },
   {
    "duration": 10,
    "start_time": "2022-05-30T10:27:48.314Z"
   },
   {
    "duration": 5,
    "start_time": "2022-05-30T10:28:08.378Z"
   },
   {
    "duration": 38,
    "start_time": "2022-05-30T10:30:19.079Z"
   },
   {
    "duration": 4,
    "start_time": "2022-05-30T10:34:38.710Z"
   },
   {
    "duration": 15,
    "start_time": "2022-05-30T10:35:55.897Z"
   },
   {
    "duration": 13,
    "start_time": "2022-05-30T10:36:19.553Z"
   },
   {
    "duration": 18,
    "start_time": "2022-05-30T10:36:47.440Z"
   },
   {
    "duration": 20,
    "start_time": "2022-05-30T10:38:34.176Z"
   },
   {
    "duration": 20,
    "start_time": "2022-05-30T10:38:55.999Z"
   },
   {
    "duration": 22,
    "start_time": "2022-05-30T10:39:04.942Z"
   },
   {
    "duration": 569,
    "start_time": "2022-05-30T10:39:24.214Z"
   },
   {
    "duration": 10,
    "start_time": "2022-05-30T10:40:21.752Z"
   },
   {
    "duration": 88,
    "start_time": "2022-05-30T10:40:35.765Z"
   },
   {
    "duration": 20,
    "start_time": "2022-05-30T10:41:00.093Z"
   },
   {
    "duration": 21,
    "start_time": "2022-05-30T10:41:21.268Z"
   },
   {
    "duration": 58,
    "start_time": "2022-05-30T10:41:44.140Z"
   },
   {
    "duration": 259,
    "start_time": "2022-05-30T10:41:54.332Z"
   },
   {
    "duration": 43,
    "start_time": "2022-05-30T10:42:07.579Z"
   },
   {
    "duration": 19,
    "start_time": "2022-05-30T10:42:16.843Z"
   },
   {
    "duration": 11,
    "start_time": "2022-05-30T10:42:23.764Z"
   },
   {
    "duration": 25,
    "start_time": "2022-05-30T10:42:35.243Z"
   },
   {
    "duration": 26,
    "start_time": "2022-05-30T10:42:49.012Z"
   },
   {
    "duration": 9,
    "start_time": "2022-05-30T10:42:54.210Z"
   },
   {
    "duration": 11,
    "start_time": "2022-05-30T10:42:59.970Z"
   },
   {
    "duration": 10,
    "start_time": "2022-05-30T10:43:07.329Z"
   },
   {
    "duration": 8,
    "start_time": "2022-05-30T10:43:39.425Z"
   },
   {
    "duration": 14,
    "start_time": "2022-05-30T10:45:09.097Z"
   },
   {
    "duration": 28,
    "start_time": "2022-05-30T10:47:23.678Z"
   },
   {
    "duration": 9,
    "start_time": "2022-05-30T10:48:06.229Z"
   },
   {
    "duration": 6,
    "start_time": "2022-05-30T10:48:17.740Z"
   },
   {
    "duration": 5,
    "start_time": "2022-05-30T10:48:36.931Z"
   },
   {
    "duration": 6,
    "start_time": "2022-05-30T10:49:41.362Z"
   },
   {
    "duration": 27,
    "start_time": "2022-05-30T10:49:48.618Z"
   },
   {
    "duration": 13,
    "start_time": "2022-05-30T10:50:01.619Z"
   },
   {
    "duration": 36,
    "start_time": "2022-05-30T11:18:24.306Z"
   },
   {
    "duration": 26,
    "start_time": "2022-05-30T11:18:57.825Z"
   },
   {
    "duration": 58,
    "start_time": "2022-05-30T11:20:26.903Z"
   },
   {
    "duration": 33,
    "start_time": "2022-05-30T11:20:56.220Z"
   },
   {
    "duration": 38,
    "start_time": "2022-05-30T11:21:06.616Z"
   },
   {
    "duration": 3,
    "start_time": "2022-05-30T11:21:53.389Z"
   },
   {
    "duration": 4,
    "start_time": "2022-05-30T11:23:01.205Z"
   },
   {
    "duration": 20,
    "start_time": "2022-05-30T11:23:10.654Z"
   },
   {
    "duration": 89,
    "start_time": "2022-05-30T11:25:01.218Z"
   },
   {
    "duration": 3,
    "start_time": "2022-05-30T11:25:28.963Z"
   },
   {
    "duration": 76,
    "start_time": "2022-05-30T11:25:29.763Z"
   },
   {
    "duration": 4,
    "start_time": "2022-05-30T11:33:02.505Z"
   },
   {
    "duration": 323,
    "start_time": "2022-05-30T11:33:03.291Z"
   },
   {
    "duration": 59,
    "start_time": "2022-05-30T11:37:40.131Z"
   },
   {
    "duration": 9,
    "start_time": "2022-05-30T11:37:46.987Z"
   },
   {
    "duration": 9,
    "start_time": "2022-05-30T11:37:58.387Z"
   },
   {
    "duration": 5,
    "start_time": "2022-05-30T11:38:07.402Z"
   },
   {
    "duration": 9,
    "start_time": "2022-05-30T11:38:30.626Z"
   },
   {
    "duration": 28,
    "start_time": "2022-05-30T11:38:36.387Z"
   },
   {
    "duration": 5,
    "start_time": "2022-05-30T11:39:50.866Z"
   },
   {
    "duration": 5,
    "start_time": "2022-05-30T11:47:37.535Z"
   },
   {
    "duration": 93,
    "start_time": "2022-05-30T11:47:48.661Z"
   },
   {
    "duration": 3,
    "start_time": "2022-05-30T11:48:06.380Z"
   },
   {
    "duration": 349,
    "start_time": "2022-05-30T11:48:07.519Z"
   },
   {
    "duration": 5,
    "start_time": "2022-05-30T11:48:11.278Z"
   },
   {
    "duration": 6,
    "start_time": "2022-05-30T11:48:12.172Z"
   },
   {
    "duration": 29,
    "start_time": "2022-05-30T11:48:22.926Z"
   },
   {
    "duration": 4,
    "start_time": "2022-05-30T11:48:57.991Z"
   },
   {
    "duration": 31,
    "start_time": "2022-05-30T12:05:27.139Z"
   },
   {
    "duration": 69,
    "start_time": "2022-05-30T12:06:29.322Z"
   },
   {
    "duration": 2,
    "start_time": "2022-05-30T12:08:08.729Z"
   },
   {
    "duration": 3,
    "start_time": "2022-05-30T12:08:19.279Z"
   },
   {
    "duration": 3,
    "start_time": "2022-05-30T12:08:53.647Z"
   },
   {
    "duration": 1221,
    "start_time": "2022-05-30T16:38:49.847Z"
   },
   {
    "duration": 3180,
    "start_time": "2022-05-30T16:38:51.070Z"
   },
   {
    "duration": 17,
    "start_time": "2022-05-30T16:38:54.252Z"
   },
   {
    "duration": 12,
    "start_time": "2022-05-30T16:38:54.272Z"
   },
   {
    "duration": 16,
    "start_time": "2022-05-30T16:38:54.286Z"
   },
   {
    "duration": 3,
    "start_time": "2022-05-30T16:38:54.304Z"
   },
   {
    "duration": 437,
    "start_time": "2022-05-30T16:38:54.310Z"
   },
   {
    "duration": 7,
    "start_time": "2022-05-30T16:38:54.750Z"
   },
   {
    "duration": 7,
    "start_time": "2022-05-30T16:38:54.759Z"
   },
   {
    "duration": 8,
    "start_time": "2022-05-30T16:38:54.768Z"
   },
   {
    "duration": 5,
    "start_time": "2022-05-30T16:38:54.778Z"
   },
   {
    "duration": 0,
    "start_time": "2022-05-30T16:38:54.794Z"
   },
   {
    "duration": 0,
    "start_time": "2022-05-30T16:38:54.796Z"
   },
   {
    "duration": 7,
    "start_time": "2022-05-30T16:39:28.536Z"
   },
   {
    "duration": 5,
    "start_time": "2022-05-30T16:39:46.415Z"
   },
   {
    "duration": 80,
    "start_time": "2022-05-30T16:43:56.577Z"
   },
   {
    "duration": 107,
    "start_time": "2022-05-30T16:54:21.823Z"
   },
   {
    "duration": 9,
    "start_time": "2022-05-30T16:55:12.520Z"
   },
   {
    "duration": 9,
    "start_time": "2022-05-30T16:56:58.394Z"
   },
   {
    "duration": 141,
    "start_time": "2022-05-30T17:00:09.014Z"
   },
   {
    "duration": 12,
    "start_time": "2022-05-30T17:01:40.659Z"
   },
   {
    "duration": 7,
    "start_time": "2022-05-30T17:01:59.629Z"
   },
   {
    "duration": 10,
    "start_time": "2022-05-30T17:02:12.329Z"
   },
   {
    "duration": 106,
    "start_time": "2022-05-30T17:02:52.808Z"
   },
   {
    "duration": 8,
    "start_time": "2022-05-30T17:03:45.779Z"
   },
   {
    "duration": 6,
    "start_time": "2022-05-30T17:04:14.498Z"
   },
   {
    "duration": 10,
    "start_time": "2022-05-30T17:05:01.596Z"
   },
   {
    "duration": 28,
    "start_time": "2022-05-30T17:07:18.996Z"
   },
   {
    "duration": 117,
    "start_time": "2022-05-30T17:07:33.686Z"
   },
   {
    "duration": 7,
    "start_time": "2022-05-30T17:09:14.986Z"
   },
   {
    "duration": 4,
    "start_time": "2022-05-30T17:09:27.905Z"
   },
   {
    "duration": 5,
    "start_time": "2022-05-30T17:09:54.801Z"
   },
   {
    "duration": 4,
    "start_time": "2022-05-30T17:10:24.206Z"
   },
   {
    "duration": 4,
    "start_time": "2022-05-30T17:10:59.783Z"
   },
   {
    "duration": 7,
    "start_time": "2022-05-30T17:11:25.666Z"
   },
   {
    "duration": 435,
    "start_time": "2022-05-30T17:11:53.053Z"
   },
   {
    "duration": 214,
    "start_time": "2022-05-30T17:12:16.124Z"
   },
   {
    "duration": 294,
    "start_time": "2022-05-30T17:16:07.146Z"
   },
   {
    "duration": 9,
    "start_time": "2022-05-30T17:17:23.121Z"
   },
   {
    "duration": 14,
    "start_time": "2022-05-30T17:17:40.265Z"
   },
   {
    "duration": 12,
    "start_time": "2022-05-30T17:18:00.628Z"
   },
   {
    "duration": 3,
    "start_time": "2022-05-30T17:18:23.185Z"
   },
   {
    "duration": 271,
    "start_time": "2022-05-30T17:18:49.853Z"
   },
   {
    "duration": 247,
    "start_time": "2022-05-30T17:19:17.749Z"
   },
   {
    "duration": 9,
    "start_time": "2022-05-30T17:20:20.493Z"
   },
   {
    "duration": 36,
    "start_time": "2022-05-30T17:20:46.089Z"
   },
   {
    "duration": 113,
    "start_time": "2022-05-30T17:20:51.687Z"
   },
   {
    "duration": 110,
    "start_time": "2022-05-30T17:23:16.684Z"
   },
   {
    "duration": 104,
    "start_time": "2022-05-30T17:23:33.298Z"
   },
   {
    "duration": 13,
    "start_time": "2022-05-30T17:23:51.771Z"
   },
   {
    "duration": 105,
    "start_time": "2022-05-30T17:24:49.422Z"
   },
   {
    "duration": 4,
    "start_time": "2022-05-30T17:25:19.808Z"
   },
   {
    "duration": 105,
    "start_time": "2022-05-30T17:30:13.472Z"
   },
   {
    "duration": 9,
    "start_time": "2022-05-30T17:33:38.040Z"
   },
   {
    "duration": 347,
    "start_time": "2022-05-30T17:33:47.045Z"
   },
   {
    "duration": 421,
    "start_time": "2022-05-30T17:34:32.020Z"
   },
   {
    "duration": 29,
    "start_time": "2022-05-30T17:34:45.589Z"
   },
   {
    "duration": 582,
    "start_time": "2022-05-30T17:34:54.142Z"
   },
   {
    "duration": 29,
    "start_time": "2022-05-30T17:51:03.035Z"
   },
   {
    "duration": 37,
    "start_time": "2022-05-30T17:53:06.636Z"
   },
   {
    "duration": 25,
    "start_time": "2022-05-30T17:53:17.827Z"
   },
   {
    "duration": 13,
    "start_time": "2022-05-30T17:54:19.199Z"
   },
   {
    "duration": 9,
    "start_time": "2022-05-30T17:56:46.090Z"
   },
   {
    "duration": 9,
    "start_time": "2022-05-30T17:57:04.726Z"
   },
   {
    "duration": 10,
    "start_time": "2022-05-30T17:58:05.289Z"
   },
   {
    "duration": 11,
    "start_time": "2022-05-30T17:58:11.901Z"
   },
   {
    "duration": 27,
    "start_time": "2022-05-30T18:02:03.837Z"
   },
   {
    "duration": 11,
    "start_time": "2022-05-30T18:02:12.765Z"
   },
   {
    "duration": 11,
    "start_time": "2022-05-30T18:03:18.812Z"
   },
   {
    "duration": 9,
    "start_time": "2022-05-30T18:03:55.575Z"
   },
   {
    "duration": 9,
    "start_time": "2022-05-30T18:04:08.443Z"
   },
   {
    "duration": 11,
    "start_time": "2022-05-30T18:04:23.084Z"
   },
   {
    "duration": 19,
    "start_time": "2022-05-30T18:07:25.839Z"
   },
   {
    "duration": 6,
    "start_time": "2022-05-30T18:07:47.740Z"
   },
   {
    "duration": 7,
    "start_time": "2022-05-30T18:08:33.329Z"
   },
   {
    "duration": 123,
    "start_time": "2022-05-30T18:08:58.288Z"
   },
   {
    "duration": 38,
    "start_time": "2022-05-30T18:09:39.421Z"
   },
   {
    "duration": 19,
    "start_time": "2022-05-30T18:09:54.684Z"
   },
   {
    "duration": 20,
    "start_time": "2022-05-30T18:10:15.329Z"
   },
   {
    "duration": 5,
    "start_time": "2022-05-30T18:10:58.971Z"
   },
   {
    "duration": 7,
    "start_time": "2022-05-30T18:11:09.375Z"
   },
   {
    "duration": 15,
    "start_time": "2022-05-30T18:15:25.741Z"
   },
   {
    "duration": 94,
    "start_time": "2022-05-30T18:15:36.999Z"
   },
   {
    "duration": 9,
    "start_time": "2022-05-30T18:19:13.755Z"
   },
   {
    "duration": 6,
    "start_time": "2022-05-30T18:19:46.413Z"
   },
   {
    "duration": 10,
    "start_time": "2022-05-30T18:20:48.576Z"
   },
   {
    "duration": 11,
    "start_time": "2022-05-30T18:21:11.880Z"
   },
   {
    "duration": 9,
    "start_time": "2022-05-30T18:21:49.641Z"
   },
   {
    "duration": 9,
    "start_time": "2022-05-30T18:21:58.993Z"
   },
   {
    "duration": 6,
    "start_time": "2022-05-30T18:22:12.476Z"
   },
   {
    "duration": 6,
    "start_time": "2022-05-30T18:23:22.837Z"
   },
   {
    "duration": 6,
    "start_time": "2022-05-30T18:23:27.384Z"
   },
   {
    "duration": 16,
    "start_time": "2022-05-30T18:23:35.260Z"
   },
   {
    "duration": 11,
    "start_time": "2022-05-30T18:25:56.544Z"
   },
   {
    "duration": 21,
    "start_time": "2022-05-30T18:26:04.564Z"
   },
   {
    "duration": 6,
    "start_time": "2022-05-30T18:27:51.814Z"
   },
   {
    "duration": 14,
    "start_time": "2022-05-30T18:28:07.910Z"
   },
   {
    "duration": 12,
    "start_time": "2022-05-30T18:28:35.294Z"
   },
   {
    "duration": 157,
    "start_time": "2022-05-30T18:28:44.653Z"
   },
   {
    "duration": 564,
    "start_time": "2022-05-30T18:33:37.948Z"
   },
   {
    "duration": 36,
    "start_time": "2022-05-30T19:07:19.609Z"
   },
   {
    "duration": 166,
    "start_time": "2022-05-30T19:08:57.833Z"
   },
   {
    "duration": 523,
    "start_time": "2022-05-30T19:09:12.293Z"
   },
   {
    "duration": 491,
    "start_time": "2022-05-30T19:10:59.403Z"
   },
   {
    "duration": 482,
    "start_time": "2022-05-30T19:12:00.399Z"
   },
   {
    "duration": 33,
    "start_time": "2022-05-30T19:13:28.445Z"
   },
   {
    "duration": 475,
    "start_time": "2022-05-30T19:14:23.500Z"
   },
   {
    "duration": 587,
    "start_time": "2022-05-30T19:14:47.949Z"
   },
   {
    "duration": 527,
    "start_time": "2022-05-30T19:15:41.232Z"
   },
   {
    "duration": 555,
    "start_time": "2022-05-30T19:16:04.167Z"
   },
   {
    "duration": 586,
    "start_time": "2022-05-30T19:17:01.724Z"
   },
   {
    "duration": 513,
    "start_time": "2022-05-30T19:22:17.630Z"
   },
   {
    "duration": 22,
    "start_time": "2022-05-30T19:22:58.181Z"
   },
   {
    "duration": 498,
    "start_time": "2022-05-30T19:25:02.372Z"
   },
   {
    "duration": 619,
    "start_time": "2022-05-30T19:25:23.132Z"
   },
   {
    "duration": 482,
    "start_time": "2022-05-30T19:25:46.742Z"
   },
   {
    "duration": 528,
    "start_time": "2022-05-30T19:26:21.319Z"
   },
   {
    "duration": 458,
    "start_time": "2022-05-30T19:29:53.840Z"
   },
   {
    "duration": 172,
    "start_time": "2022-05-30T19:34:15.333Z"
   },
   {
    "duration": 125,
    "start_time": "2022-05-30T19:40:04.789Z"
   },
   {
    "duration": 603,
    "start_time": "2022-05-30T19:42:32.906Z"
   },
   {
    "duration": 459,
    "start_time": "2022-05-30T19:44:57.575Z"
   },
   {
    "duration": 433,
    "start_time": "2022-05-30T19:56:30.154Z"
   },
   {
    "duration": 445,
    "start_time": "2022-05-30T19:56:51.613Z"
   },
   {
    "duration": 147,
    "start_time": "2022-05-30T20:08:12.490Z"
   },
   {
    "duration": 197,
    "start_time": "2022-05-30T20:08:22.723Z"
   },
   {
    "duration": 373,
    "start_time": "2022-05-30T20:08:37.207Z"
   },
   {
    "duration": 129,
    "start_time": "2022-05-30T20:08:45.399Z"
   },
   {
    "duration": 148,
    "start_time": "2022-05-30T20:08:54.851Z"
   },
   {
    "duration": 186,
    "start_time": "2022-05-30T20:09:01.652Z"
   },
   {
    "duration": 170,
    "start_time": "2022-05-30T20:09:15.750Z"
   },
   {
    "duration": 4,
    "start_time": "2022-05-30T20:22:59.171Z"
   },
   {
    "duration": 6,
    "start_time": "2022-05-30T20:27:04.905Z"
   },
   {
    "duration": 120,
    "start_time": "2022-05-30T20:27:28.440Z"
   },
   {
    "duration": 155,
    "start_time": "2022-05-30T20:28:04.538Z"
   },
   {
    "duration": 149,
    "start_time": "2022-05-30T20:29:13.371Z"
   },
   {
    "duration": 143,
    "start_time": "2022-05-30T20:29:56.910Z"
   },
   {
    "duration": 150,
    "start_time": "2022-05-30T20:30:15.820Z"
   },
   {
    "duration": 156,
    "start_time": "2022-05-30T20:30:30.370Z"
   },
   {
    "duration": 163,
    "start_time": "2022-05-30T20:30:42.120Z"
   },
   {
    "duration": 184,
    "start_time": "2022-05-30T20:31:02.621Z"
   },
   {
    "duration": 8,
    "start_time": "2022-05-30T20:32:36.192Z"
   },
   {
    "duration": 291,
    "start_time": "2022-05-30T20:32:42.375Z"
   },
   {
    "duration": 118,
    "start_time": "2022-05-30T20:33:22.869Z"
   },
   {
    "duration": 206,
    "start_time": "2022-05-30T20:34:01.265Z"
   },
   {
    "duration": 119,
    "start_time": "2022-05-30T20:34:09.368Z"
   },
   {
    "duration": 182,
    "start_time": "2022-05-30T20:34:23.608Z"
   },
   {
    "duration": 172,
    "start_time": "2022-05-30T20:34:45.768Z"
   },
   {
    "duration": 138,
    "start_time": "2022-05-30T20:35:04.188Z"
   },
   {
    "duration": 116,
    "start_time": "2022-05-30T20:35:15.440Z"
   },
   {
    "duration": 11,
    "start_time": "2022-05-30T20:35:45.567Z"
   },
   {
    "duration": 10,
    "start_time": "2022-05-30T20:36:12.975Z"
   },
   {
    "duration": 25,
    "start_time": "2022-05-30T20:36:28.895Z"
   },
   {
    "duration": 156,
    "start_time": "2022-05-30T20:37:04.937Z"
   },
   {
    "duration": 171,
    "start_time": "2022-05-30T20:37:46.274Z"
   },
   {
    "duration": 176,
    "start_time": "2022-05-30T20:38:14.045Z"
   },
   {
    "duration": 81,
    "start_time": "2022-05-31T05:51:33.132Z"
   },
   {
    "duration": 1723,
    "start_time": "2022-05-31T05:51:39.520Z"
   },
   {
    "duration": 3762,
    "start_time": "2022-05-31T05:51:41.245Z"
   },
   {
    "duration": 27,
    "start_time": "2022-05-31T05:51:45.009Z"
   },
   {
    "duration": 14,
    "start_time": "2022-05-31T05:51:45.039Z"
   },
   {
    "duration": 43,
    "start_time": "2022-05-31T05:51:45.056Z"
   },
   {
    "duration": 4,
    "start_time": "2022-05-31T05:51:45.101Z"
   },
   {
    "duration": 410,
    "start_time": "2022-05-31T05:51:45.107Z"
   },
   {
    "duration": 7,
    "start_time": "2022-05-31T05:51:45.519Z"
   },
   {
    "duration": 9,
    "start_time": "2022-05-31T05:51:45.528Z"
   },
   {
    "duration": 10,
    "start_time": "2022-05-31T05:51:45.539Z"
   },
   {
    "duration": 779,
    "start_time": "2022-05-31T05:51:45.551Z"
   },
   {
    "duration": 216,
    "start_time": "2022-05-31T05:51:46.332Z"
   },
   {
    "duration": 9,
    "start_time": "2022-05-31T05:51:46.554Z"
   },
   {
    "duration": 286,
    "start_time": "2022-05-31T05:51:46.565Z"
   },
   {
    "duration": 146,
    "start_time": "2022-05-31T05:51:46.853Z"
   },
   {
    "duration": 12,
    "start_time": "2022-05-31T05:52:07.987Z"
   },
   {
    "duration": 20,
    "start_time": "2022-05-31T05:52:17.199Z"
   },
   {
    "duration": 107,
    "start_time": "2022-05-31T05:52:23.995Z"
   },
   {
    "duration": 79,
    "start_time": "2022-05-31T05:54:17.487Z"
   },
   {
    "duration": 6,
    "start_time": "2022-05-31T05:54:44.350Z"
   },
   {
    "duration": 29,
    "start_time": "2022-05-31T05:55:23.845Z"
   },
   {
    "duration": 9,
    "start_time": "2022-05-31T05:55:31.933Z"
   },
   {
    "duration": 102,
    "start_time": "2022-05-31T05:55:40.029Z"
   },
   {
    "duration": 86,
    "start_time": "2022-05-31T05:56:25.408Z"
   },
   {
    "duration": 81,
    "start_time": "2022-05-31T05:57:39.410Z"
   },
   {
    "duration": 10,
    "start_time": "2022-05-31T06:00:06.240Z"
   },
   {
    "duration": 18,
    "start_time": "2022-05-31T06:00:59.352Z"
   },
   {
    "duration": 3417,
    "start_time": "2022-05-31T06:01:33.971Z"
   },
   {
    "duration": 113,
    "start_time": "2022-05-31T06:04:54.819Z"
   },
   {
    "duration": 113,
    "start_time": "2022-05-31T06:05:08.370Z"
   },
   {
    "duration": 175,
    "start_time": "2022-05-31T06:05:49.339Z"
   },
   {
    "duration": 301,
    "start_time": "2022-05-31T06:06:24.366Z"
   },
   {
    "duration": 302,
    "start_time": "2022-05-31T06:08:41.374Z"
   },
   {
    "duration": 169,
    "start_time": "2022-05-31T06:11:00.572Z"
   },
   {
    "duration": 335,
    "start_time": "2022-05-31T06:11:15.787Z"
   },
   {
    "duration": 265,
    "start_time": "2022-05-31T06:12:00.049Z"
   },
   {
    "duration": 374,
    "start_time": "2022-05-31T06:12:54.426Z"
   },
   {
    "duration": 1179,
    "start_time": "2022-05-31T06:31:40.337Z"
   },
   {
    "duration": 807,
    "start_time": "2022-05-31T06:31:41.520Z"
   },
   {
    "duration": 19,
    "start_time": "2022-05-31T06:31:42.328Z"
   },
   {
    "duration": 26,
    "start_time": "2022-05-31T06:31:42.355Z"
   },
   {
    "duration": 22,
    "start_time": "2022-05-31T06:31:42.383Z"
   },
   {
    "duration": 3,
    "start_time": "2022-05-31T06:31:42.406Z"
   },
   {
    "duration": 366,
    "start_time": "2022-05-31T06:31:42.411Z"
   },
   {
    "duration": 8,
    "start_time": "2022-05-31T06:31:42.782Z"
   },
   {
    "duration": 3,
    "start_time": "2022-05-31T06:31:42.792Z"
   },
   {
    "duration": 6,
    "start_time": "2022-05-31T06:31:42.798Z"
   },
   {
    "duration": 643,
    "start_time": "2022-05-31T06:31:42.805Z"
   },
   {
    "duration": 218,
    "start_time": "2022-05-31T06:31:43.451Z"
   },
   {
    "duration": 9,
    "start_time": "2022-05-31T06:31:43.675Z"
   },
   {
    "duration": 339,
    "start_time": "2022-05-31T06:31:43.686Z"
   },
   {
    "duration": 294,
    "start_time": "2022-05-31T06:31:44.027Z"
   },
   {
    "duration": 6,
    "start_time": "2022-05-31T06:45:41.341Z"
   },
   {
    "duration": 1183,
    "start_time": "2022-05-31T08:00:09.680Z"
   },
   {
    "duration": 2322,
    "start_time": "2022-05-31T08:00:10.865Z"
   },
   {
    "duration": 27,
    "start_time": "2022-05-31T08:00:13.189Z"
   },
   {
    "duration": 11,
    "start_time": "2022-05-31T08:00:13.219Z"
   },
   {
    "duration": 34,
    "start_time": "2022-05-31T08:00:13.232Z"
   },
   {
    "duration": 10,
    "start_time": "2022-05-31T08:00:13.268Z"
   },
   {
    "duration": 440,
    "start_time": "2022-05-31T08:00:13.280Z"
   },
   {
    "duration": 5,
    "start_time": "2022-05-31T08:00:13.721Z"
   },
   {
    "duration": 0,
    "start_time": "2022-05-31T08:00:13.727Z"
   },
   {
    "duration": 0,
    "start_time": "2022-05-31T08:00:13.728Z"
   },
   {
    "duration": 0,
    "start_time": "2022-05-31T08:00:13.730Z"
   },
   {
    "duration": 0,
    "start_time": "2022-05-31T08:00:13.731Z"
   },
   {
    "duration": 0,
    "start_time": "2022-05-31T08:00:13.733Z"
   },
   {
    "duration": 0,
    "start_time": "2022-05-31T08:00:13.733Z"
   },
   {
    "duration": 0,
    "start_time": "2022-05-31T08:00:13.734Z"
   },
   {
    "duration": 0,
    "start_time": "2022-05-31T08:00:13.735Z"
   },
   {
    "duration": 8,
    "start_time": "2022-05-31T08:00:50.179Z"
   },
   {
    "duration": 126,
    "start_time": "2022-05-31T08:00:55.862Z"
   },
   {
    "duration": 4,
    "start_time": "2022-05-31T08:01:00.481Z"
   },
   {
    "duration": 5,
    "start_time": "2022-05-31T08:01:01.586Z"
   },
   {
    "duration": 1240,
    "start_time": "2022-05-31T08:02:22.825Z"
   },
   {
    "duration": 786,
    "start_time": "2022-05-31T08:02:24.078Z"
   },
   {
    "duration": 35,
    "start_time": "2022-05-31T08:02:24.872Z"
   },
   {
    "duration": 11,
    "start_time": "2022-05-31T08:02:24.909Z"
   },
   {
    "duration": 21,
    "start_time": "2022-05-31T08:02:24.922Z"
   },
   {
    "duration": 4,
    "start_time": "2022-05-31T08:02:24.944Z"
   },
   {
    "duration": 401,
    "start_time": "2022-05-31T08:02:24.949Z"
   },
   {
    "duration": 17,
    "start_time": "2022-05-31T08:02:25.352Z"
   },
   {
    "duration": 34,
    "start_time": "2022-05-31T08:02:25.371Z"
   },
   {
    "duration": 6,
    "start_time": "2022-05-31T08:02:25.409Z"
   },
   {
    "duration": 707,
    "start_time": "2022-05-31T08:02:25.417Z"
   },
   {
    "duration": 203,
    "start_time": "2022-05-31T08:02:26.126Z"
   },
   {
    "duration": 8,
    "start_time": "2022-05-31T08:02:26.331Z"
   },
   {
    "duration": 375,
    "start_time": "2022-05-31T08:02:26.340Z"
   },
   {
    "duration": 307,
    "start_time": "2022-05-31T08:02:26.717Z"
   },
   {
    "duration": 5,
    "start_time": "2022-05-31T08:02:27.026Z"
   },
   {
    "duration": 5,
    "start_time": "2022-05-31T08:03:06.232Z"
   },
   {
    "duration": 4,
    "start_time": "2022-05-31T08:04:06.088Z"
   },
   {
    "duration": 5,
    "start_time": "2022-05-31T08:19:39.881Z"
   },
   {
    "duration": 1278,
    "start_time": "2022-05-31T08:40:15.367Z"
   },
   {
    "duration": 649,
    "start_time": "2022-05-31T08:40:16.647Z"
   },
   {
    "duration": 17,
    "start_time": "2022-05-31T08:40:17.297Z"
   },
   {
    "duration": 14,
    "start_time": "2022-05-31T08:40:17.316Z"
   },
   {
    "duration": 39,
    "start_time": "2022-05-31T08:40:17.331Z"
   },
   {
    "duration": 3,
    "start_time": "2022-05-31T08:40:17.371Z"
   },
   {
    "duration": 20,
    "start_time": "2022-05-31T08:40:17.376Z"
   },
   {
    "duration": 331,
    "start_time": "2022-05-31T08:40:17.397Z"
   },
   {
    "duration": 4,
    "start_time": "2022-05-31T08:40:17.730Z"
   },
   {
    "duration": 7,
    "start_time": "2022-05-31T08:40:17.736Z"
   },
   {
    "duration": 9,
    "start_time": "2022-05-31T08:40:17.744Z"
   },
   {
    "duration": 552,
    "start_time": "2022-05-31T08:40:17.766Z"
   },
   {
    "duration": 177,
    "start_time": "2022-05-31T08:40:18.319Z"
   },
   {
    "duration": 7,
    "start_time": "2022-05-31T08:40:18.498Z"
   },
   {
    "duration": 364,
    "start_time": "2022-05-31T08:40:18.506Z"
   },
   {
    "duration": 255,
    "start_time": "2022-05-31T08:40:18.872Z"
   },
   {
    "duration": 4,
    "start_time": "2022-05-31T08:40:19.129Z"
   },
   {
    "duration": 8,
    "start_time": "2022-05-31T08:41:08.166Z"
   },
   {
    "duration": 6,
    "start_time": "2022-05-31T08:41:52.535Z"
   },
   {
    "duration": 4,
    "start_time": "2022-05-31T08:42:54.078Z"
   },
   {
    "duration": 7,
    "start_time": "2022-05-31T08:43:05.679Z"
   },
   {
    "duration": 4,
    "start_time": "2022-05-31T08:43:43.468Z"
   },
   {
    "duration": 7,
    "start_time": "2022-05-31T08:43:53.590Z"
   },
   {
    "duration": 6,
    "start_time": "2022-05-31T08:44:32.398Z"
   },
   {
    "duration": 13,
    "start_time": "2022-05-31T08:44:50.821Z"
   },
   {
    "duration": 32,
    "start_time": "2022-05-31T08:48:18.876Z"
   },
   {
    "duration": 43,
    "start_time": "2022-05-31T08:48:32.946Z"
   },
   {
    "duration": 44,
    "start_time": "2022-05-31T08:51:10.641Z"
   },
   {
    "duration": 18,
    "start_time": "2022-05-31T08:51:13.545Z"
   },
   {
    "duration": 663,
    "start_time": "2022-05-31T08:55:52.067Z"
   },
   {
    "duration": 14,
    "start_time": "2022-05-31T09:00:28.539Z"
   },
   {
    "duration": 32,
    "start_time": "2022-05-31T09:00:42.344Z"
   },
   {
    "duration": 13,
    "start_time": "2022-05-31T09:02:49.327Z"
   },
   {
    "duration": 10,
    "start_time": "2022-05-31T09:06:06.573Z"
   },
   {
    "duration": 47,
    "start_time": "2022-05-31T09:09:48.670Z"
   },
   {
    "duration": 23,
    "start_time": "2022-05-31T09:10:15.726Z"
   },
   {
    "duration": 30,
    "start_time": "2022-05-31T09:11:08.885Z"
   },
   {
    "duration": 53,
    "start_time": "2022-05-31T09:11:17.147Z"
   },
   {
    "duration": 65,
    "start_time": "2022-05-31T09:12:04.731Z"
   },
   {
    "duration": 21,
    "start_time": "2022-05-31T09:13:29.884Z"
   },
   {
    "duration": 4,
    "start_time": "2022-05-31T09:13:59.705Z"
   },
   {
    "duration": 26,
    "start_time": "2022-05-31T09:14:04.792Z"
   },
   {
    "duration": 52,
    "start_time": "2022-05-31T09:15:47.646Z"
   },
   {
    "duration": 34,
    "start_time": "2022-05-31T09:15:56.526Z"
   },
   {
    "duration": 60,
    "start_time": "2022-05-31T09:16:25.148Z"
   },
   {
    "duration": 41,
    "start_time": "2022-05-31T09:16:33.179Z"
   },
   {
    "duration": 14,
    "start_time": "2022-05-31T09:19:38.386Z"
   },
   {
    "duration": 43,
    "start_time": "2022-05-31T09:19:48.275Z"
   },
   {
    "duration": 14,
    "start_time": "2022-05-31T09:20:20.404Z"
   },
   {
    "duration": 32,
    "start_time": "2022-05-31T09:25:38.358Z"
   },
   {
    "duration": 33,
    "start_time": "2022-05-31T09:25:51.570Z"
   },
   {
    "duration": 11,
    "start_time": "2022-05-31T09:25:59.287Z"
   },
   {
    "duration": 10,
    "start_time": "2022-05-31T09:26:35.242Z"
   },
   {
    "duration": 10,
    "start_time": "2022-05-31T09:27:05.434Z"
   },
   {
    "duration": 27,
    "start_time": "2022-05-31T09:27:55.748Z"
   },
   {
    "duration": 11,
    "start_time": "2022-05-31T09:27:59.026Z"
   },
   {
    "duration": 17,
    "start_time": "2022-05-31T09:28:29.744Z"
   },
   {
    "duration": 13,
    "start_time": "2022-05-31T09:28:31.529Z"
   },
   {
    "duration": 16,
    "start_time": "2022-05-31T09:29:22.535Z"
   },
   {
    "duration": 9,
    "start_time": "2022-05-31T09:29:23.393Z"
   },
   {
    "duration": 11,
    "start_time": "2022-05-31T09:29:57.336Z"
   },
   {
    "duration": 41,
    "start_time": "2022-05-31T09:31:29.149Z"
   },
   {
    "duration": 15,
    "start_time": "2022-05-31T09:31:44.445Z"
   },
   {
    "duration": 26,
    "start_time": "2022-05-31T09:32:02.784Z"
   },
   {
    "duration": 13,
    "start_time": "2022-05-31T09:32:03.518Z"
   },
   {
    "duration": 14,
    "start_time": "2022-05-31T09:32:26.376Z"
   },
   {
    "duration": 11,
    "start_time": "2022-05-31T09:32:40.397Z"
   },
   {
    "duration": 62,
    "start_time": "2022-05-31T14:44:23.348Z"
   },
   {
    "duration": 1304,
    "start_time": "2022-05-31T14:44:31.128Z"
   },
   {
    "duration": 3073,
    "start_time": "2022-05-31T14:44:32.434Z"
   },
   {
    "duration": 229,
    "start_time": "2022-05-31T14:44:35.508Z"
   },
   {
    "duration": 12,
    "start_time": "2022-05-31T14:44:35.739Z"
   },
   {
    "duration": 36,
    "start_time": "2022-05-31T14:44:35.753Z"
   },
   {
    "duration": 3,
    "start_time": "2022-05-31T14:44:35.790Z"
   },
   {
    "duration": 39,
    "start_time": "2022-05-31T14:44:35.795Z"
   },
   {
    "duration": 42,
    "start_time": "2022-05-31T14:44:35.835Z"
   },
   {
    "duration": 343,
    "start_time": "2022-05-31T14:44:35.878Z"
   },
   {
    "duration": 5,
    "start_time": "2022-05-31T14:44:36.225Z"
   },
   {
    "duration": 9,
    "start_time": "2022-05-31T14:44:36.231Z"
   },
   {
    "duration": 17,
    "start_time": "2022-05-31T14:44:36.241Z"
   },
   {
    "duration": 592,
    "start_time": "2022-05-31T14:44:36.259Z"
   },
   {
    "duration": 185,
    "start_time": "2022-05-31T14:44:36.853Z"
   },
   {
    "duration": 6,
    "start_time": "2022-05-31T14:44:37.040Z"
   },
   {
    "duration": 388,
    "start_time": "2022-05-31T14:44:37.048Z"
   },
   {
    "duration": 251,
    "start_time": "2022-05-31T14:44:37.438Z"
   },
   {
    "duration": 35,
    "start_time": "2022-05-31T14:44:37.691Z"
   },
   {
    "duration": 126,
    "start_time": "2022-05-31T14:45:09.112Z"
   },
   {
    "duration": 249,
    "start_time": "2022-05-31T14:45:17.756Z"
   },
   {
    "duration": 41,
    "start_time": "2022-05-31T14:48:26.072Z"
   },
   {
    "duration": 75,
    "start_time": "2022-05-31T14:48:50.743Z"
   },
   {
    "duration": 3,
    "start_time": "2022-05-31T14:55:55.776Z"
   },
   {
    "duration": 125,
    "start_time": "2022-05-31T14:59:42.645Z"
   },
   {
    "duration": 3,
    "start_time": "2022-05-31T15:00:09.047Z"
   },
   {
    "duration": 40225,
    "start_time": "2022-05-31T15:00:14.535Z"
   },
   {
    "duration": 17,
    "start_time": "2022-05-31T17:53:27.691Z"
   },
   {
    "duration": 7,
    "start_time": "2022-05-31T17:54:45.946Z"
   },
   {
    "duration": 17,
    "start_time": "2022-05-31T17:55:16.388Z"
   },
   {
    "duration": 20,
    "start_time": "2022-05-31T17:55:35.362Z"
   },
   {
    "duration": 398,
    "start_time": "2022-05-31T17:58:03.939Z"
   },
   {
    "duration": 20,
    "start_time": "2022-05-31T17:58:46.151Z"
   },
   {
    "duration": 243,
    "start_time": "2022-05-31T18:02:30.340Z"
   },
   {
    "duration": 13,
    "start_time": "2022-05-31T18:02:42.645Z"
   },
   {
    "duration": 7,
    "start_time": "2022-05-31T18:02:58.012Z"
   },
   {
    "duration": 14,
    "start_time": "2022-05-31T18:09:23.063Z"
   },
   {
    "duration": 12,
    "start_time": "2022-05-31T18:09:35.789Z"
   },
   {
    "duration": 11,
    "start_time": "2022-05-31T18:10:00.141Z"
   },
   {
    "duration": 19,
    "start_time": "2022-05-31T18:10:15.861Z"
   },
   {
    "duration": 32,
    "start_time": "2022-05-31T18:49:48.804Z"
   },
   {
    "duration": 28,
    "start_time": "2022-05-31T18:50:13.047Z"
   },
   {
    "duration": 28,
    "start_time": "2022-05-31T18:50:15.174Z"
   },
   {
    "duration": 58,
    "start_time": "2022-05-31T18:50:30.783Z"
   },
   {
    "duration": 46,
    "start_time": "2022-05-31T18:50:40.544Z"
   },
   {
    "duration": 35,
    "start_time": "2022-05-31T19:00:04.467Z"
   },
   {
    "duration": 14,
    "start_time": "2022-05-31T19:00:08.651Z"
   },
   {
    "duration": 37,
    "start_time": "2022-05-31T19:14:40.811Z"
   },
   {
    "duration": 20,
    "start_time": "2022-05-31T19:14:43.698Z"
   },
   {
    "duration": 1402,
    "start_time": "2022-05-31T19:15:19.811Z"
   },
   {
    "duration": 906,
    "start_time": "2022-05-31T19:15:21.216Z"
   },
   {
    "duration": 23,
    "start_time": "2022-05-31T19:15:22.125Z"
   },
   {
    "duration": 187,
    "start_time": "2022-05-31T19:15:22.152Z"
   },
   {
    "duration": 0,
    "start_time": "2022-05-31T19:15:22.341Z"
   },
   {
    "duration": 0,
    "start_time": "2022-05-31T19:15:22.343Z"
   },
   {
    "duration": 0,
    "start_time": "2022-05-31T19:15:22.345Z"
   },
   {
    "duration": 0,
    "start_time": "2022-05-31T19:15:22.347Z"
   },
   {
    "duration": 0,
    "start_time": "2022-05-31T19:15:22.348Z"
   },
   {
    "duration": 0,
    "start_time": "2022-05-31T19:15:22.350Z"
   },
   {
    "duration": 0,
    "start_time": "2022-05-31T19:15:22.352Z"
   },
   {
    "duration": 0,
    "start_time": "2022-05-31T19:15:22.353Z"
   },
   {
    "duration": 0,
    "start_time": "2022-05-31T19:15:22.354Z"
   },
   {
    "duration": 0,
    "start_time": "2022-05-31T19:15:22.356Z"
   },
   {
    "duration": 0,
    "start_time": "2022-05-31T19:15:22.358Z"
   },
   {
    "duration": 0,
    "start_time": "2022-05-31T19:15:22.359Z"
   },
   {
    "duration": 0,
    "start_time": "2022-05-31T19:15:22.360Z"
   },
   {
    "duration": 0,
    "start_time": "2022-05-31T19:15:22.362Z"
   },
   {
    "duration": 0,
    "start_time": "2022-05-31T19:15:22.363Z"
   },
   {
    "duration": 0,
    "start_time": "2022-05-31T19:15:22.364Z"
   },
   {
    "duration": 0,
    "start_time": "2022-05-31T19:15:22.366Z"
   },
   {
    "duration": 18,
    "start_time": "2022-05-31T19:16:22.887Z"
   },
   {
    "duration": 19,
    "start_time": "2022-05-31T19:19:08.617Z"
   },
   {
    "duration": 21,
    "start_time": "2022-05-31T19:21:43.020Z"
   },
   {
    "duration": 24,
    "start_time": "2022-05-31T19:22:12.760Z"
   },
   {
    "duration": 99,
    "start_time": "2022-05-31T19:36:09.438Z"
   },
   {
    "duration": 107,
    "start_time": "2022-05-31T19:36:19.176Z"
   },
   {
    "duration": 97,
    "start_time": "2022-05-31T19:36:27.432Z"
   },
   {
    "duration": 10,
    "start_time": "2022-05-31T19:38:35.925Z"
   },
   {
    "duration": 1115,
    "start_time": "2022-05-31T19:39:37.758Z"
   },
   {
    "duration": 762,
    "start_time": "2022-05-31T19:39:38.876Z"
   },
   {
    "duration": 12,
    "start_time": "2022-05-31T19:39:39.640Z"
   },
   {
    "duration": 261,
    "start_time": "2022-05-31T19:39:39.654Z"
   },
   {
    "duration": 9,
    "start_time": "2022-05-31T19:39:39.917Z"
   },
   {
    "duration": 24,
    "start_time": "2022-05-31T19:39:39.927Z"
   },
   {
    "duration": 327,
    "start_time": "2022-05-31T19:39:39.953Z"
   },
   {
    "duration": 5,
    "start_time": "2022-05-31T19:39:40.282Z"
   },
   {
    "duration": 4,
    "start_time": "2022-05-31T19:39:40.288Z"
   },
   {
    "duration": 5,
    "start_time": "2022-05-31T19:39:40.294Z"
   },
   {
    "duration": 498,
    "start_time": "2022-05-31T19:39:40.301Z"
   },
   {
    "duration": 183,
    "start_time": "2022-05-31T19:39:40.800Z"
   },
   {
    "duration": 7,
    "start_time": "2022-05-31T19:39:40.984Z"
   },
   {
    "duration": 366,
    "start_time": "2022-05-31T19:39:40.993Z"
   },
   {
    "duration": 328,
    "start_time": "2022-05-31T19:39:41.361Z"
   },
   {
    "duration": 3,
    "start_time": "2022-05-31T19:39:41.691Z"
   },
   {
    "duration": 1145,
    "start_time": "2022-05-31T20:08:50.043Z"
   },
   {
    "duration": 827,
    "start_time": "2022-05-31T20:08:51.191Z"
   },
   {
    "duration": 13,
    "start_time": "2022-05-31T20:08:52.019Z"
   },
   {
    "duration": 284,
    "start_time": "2022-05-31T20:08:52.034Z"
   },
   {
    "duration": 6,
    "start_time": "2022-05-31T20:08:52.320Z"
   },
   {
    "duration": 37,
    "start_time": "2022-05-31T20:08:52.327Z"
   },
   {
    "duration": 324,
    "start_time": "2022-05-31T20:08:52.366Z"
   },
   {
    "duration": 5,
    "start_time": "2022-05-31T20:08:52.692Z"
   },
   {
    "duration": 5,
    "start_time": "2022-05-31T20:08:52.699Z"
   },
   {
    "duration": 4,
    "start_time": "2022-05-31T20:08:52.706Z"
   },
   {
    "duration": 519,
    "start_time": "2022-05-31T20:08:52.712Z"
   },
   {
    "duration": 176,
    "start_time": "2022-05-31T20:08:53.233Z"
   },
   {
    "duration": 15,
    "start_time": "2022-05-31T20:08:53.411Z"
   },
   {
    "duration": 319,
    "start_time": "2022-05-31T20:08:53.427Z"
   },
   {
    "duration": 320,
    "start_time": "2022-05-31T20:08:53.748Z"
   },
   {
    "duration": 3,
    "start_time": "2022-05-31T20:08:54.070Z"
   },
   {
    "duration": 1177,
    "start_time": "2022-05-31T20:09:15.338Z"
   },
   {
    "duration": 804,
    "start_time": "2022-05-31T20:09:16.518Z"
   },
   {
    "duration": 12,
    "start_time": "2022-05-31T20:09:17.324Z"
   },
   {
    "duration": 285,
    "start_time": "2022-05-31T20:09:17.337Z"
   },
   {
    "duration": 5,
    "start_time": "2022-05-31T20:09:17.623Z"
   },
   {
    "duration": 26,
    "start_time": "2022-05-31T20:09:17.629Z"
   },
   {
    "duration": 349,
    "start_time": "2022-05-31T20:09:17.657Z"
   },
   {
    "duration": 7,
    "start_time": "2022-05-31T20:09:18.008Z"
   },
   {
    "duration": 11,
    "start_time": "2022-05-31T20:09:18.017Z"
   },
   {
    "duration": 23,
    "start_time": "2022-05-31T20:09:18.030Z"
   },
   {
    "duration": 519,
    "start_time": "2022-05-31T20:09:18.055Z"
   },
   {
    "duration": 199,
    "start_time": "2022-05-31T20:09:18.576Z"
   },
   {
    "duration": 9,
    "start_time": "2022-05-31T20:09:18.777Z"
   },
   {
    "duration": 363,
    "start_time": "2022-05-31T20:09:18.788Z"
   },
   {
    "duration": 323,
    "start_time": "2022-05-31T20:09:19.153Z"
   },
   {
    "duration": 4,
    "start_time": "2022-05-31T20:09:19.478Z"
   },
   {
    "duration": 1153,
    "start_time": "2022-05-31T20:17:38.520Z"
   },
   {
    "duration": 781,
    "start_time": "2022-05-31T20:17:39.676Z"
   },
   {
    "duration": 12,
    "start_time": "2022-05-31T20:17:40.458Z"
   },
   {
    "duration": 264,
    "start_time": "2022-05-31T20:17:40.471Z"
   },
   {
    "duration": 3,
    "start_time": "2022-05-31T20:17:40.738Z"
   },
   {
    "duration": 25,
    "start_time": "2022-05-31T20:17:40.742Z"
   },
   {
    "duration": 335,
    "start_time": "2022-05-31T20:17:40.768Z"
   },
   {
    "duration": 5,
    "start_time": "2022-05-31T20:17:41.105Z"
   },
   {
    "duration": 5,
    "start_time": "2022-05-31T20:17:41.112Z"
   },
   {
    "duration": 7,
    "start_time": "2022-05-31T20:17:41.126Z"
   },
   {
    "duration": 496,
    "start_time": "2022-05-31T20:17:41.135Z"
   },
   {
    "duration": 177,
    "start_time": "2022-05-31T20:17:41.633Z"
   },
   {
    "duration": 14,
    "start_time": "2022-05-31T20:17:41.812Z"
   },
   {
    "duration": 329,
    "start_time": "2022-05-31T20:17:41.828Z"
   },
   {
    "duration": 318,
    "start_time": "2022-05-31T20:17:42.160Z"
   },
   {
    "duration": 4,
    "start_time": "2022-05-31T20:17:42.479Z"
   },
   {
    "duration": 17484489,
    "start_time": "2022-05-31T20:17:42.484Z"
   },
   {
    "duration": 4,
    "start_time": "2022-06-01T04:19:49.457Z"
   },
   {
    "duration": 4,
    "start_time": "2022-06-01T04:22:37.693Z"
   },
   {
    "duration": 23,
    "start_time": "2022-06-01T04:24:08.242Z"
   },
   {
    "duration": 106,
    "start_time": "2022-06-01T04:24:33.279Z"
   },
   {
    "duration": 4,
    "start_time": "2022-06-01T04:24:53.397Z"
   },
   {
    "duration": 13,
    "start_time": "2022-06-01T04:27:12.048Z"
   },
   {
    "duration": 15,
    "start_time": "2022-06-01T04:29:02.250Z"
   },
   {
    "duration": 5,
    "start_time": "2022-06-01T04:29:33.251Z"
   },
   {
    "duration": 13,
    "start_time": "2022-06-01T04:31:16.514Z"
   },
   {
    "duration": 5,
    "start_time": "2022-06-01T04:31:39.756Z"
   },
   {
    "duration": 33,
    "start_time": "2022-06-01T04:42:34.956Z"
   },
   {
    "duration": 30,
    "start_time": "2022-06-01T04:44:38.533Z"
   },
   {
    "duration": 42,
    "start_time": "2022-06-01T04:46:27.533Z"
   },
   {
    "duration": 44,
    "start_time": "2022-06-01T04:48:14.820Z"
   },
   {
    "duration": 29,
    "start_time": "2022-06-01T04:48:39.063Z"
   },
   {
    "duration": 19,
    "start_time": "2022-06-01T04:48:47.898Z"
   },
   {
    "duration": 180,
    "start_time": "2022-06-01T04:51:19.747Z"
   },
   {
    "duration": 21,
    "start_time": "2022-06-01T05:34:51.712Z"
   },
   {
    "duration": 38,
    "start_time": "2022-06-01T05:35:17.803Z"
   },
   {
    "duration": 4,
    "start_time": "2022-06-01T05:35:23.232Z"
   },
   {
    "duration": 49,
    "start_time": "2022-06-01T05:51:43.556Z"
   },
   {
    "duration": 28,
    "start_time": "2022-06-01T05:52:44.809Z"
   },
   {
    "duration": 39,
    "start_time": "2022-06-01T05:53:19.160Z"
   },
   {
    "duration": 44,
    "start_time": "2022-06-01T05:54:17.125Z"
   },
   {
    "duration": 38,
    "start_time": "2022-06-01T05:56:25.511Z"
   },
   {
    "duration": 59,
    "start_time": "2022-06-01T05:57:15.914Z"
   },
   {
    "duration": 38,
    "start_time": "2022-06-01T05:58:07.267Z"
   },
   {
    "duration": 41,
    "start_time": "2022-06-01T05:59:30.422Z"
   },
   {
    "duration": 89,
    "start_time": "2022-06-01T06:00:35.641Z"
   },
   {
    "duration": 27,
    "start_time": "2022-06-01T06:00:43.464Z"
   },
   {
    "duration": 42,
    "start_time": "2022-06-01T06:00:49.663Z"
   },
   {
    "duration": 49,
    "start_time": "2022-06-01T06:02:35.022Z"
   },
   {
    "duration": 58,
    "start_time": "2022-06-01T06:02:46.429Z"
   },
   {
    "duration": 14,
    "start_time": "2022-06-01T06:04:41.760Z"
   },
   {
    "duration": 25,
    "start_time": "2022-06-01T06:04:59.322Z"
   },
   {
    "duration": 7,
    "start_time": "2022-06-01T06:05:02.748Z"
   },
   {
    "duration": 14,
    "start_time": "2022-06-01T06:06:05.488Z"
   },
   {
    "duration": 19,
    "start_time": "2022-06-01T06:06:44.411Z"
   },
   {
    "duration": 12,
    "start_time": "2022-06-01T06:08:29.117Z"
   },
   {
    "duration": 13,
    "start_time": "2022-06-01T06:09:04.166Z"
   },
   {
    "duration": 10,
    "start_time": "2022-06-01T06:09:25.902Z"
   },
   {
    "duration": 59,
    "start_time": "2022-06-01T06:09:37.502Z"
   },
   {
    "duration": 28,
    "start_time": "2022-06-01T06:09:46.414Z"
   },
   {
    "duration": 17,
    "start_time": "2022-06-01T06:10:00.830Z"
   },
   {
    "duration": 5,
    "start_time": "2022-06-01T06:11:51.970Z"
   },
   {
    "duration": 41,
    "start_time": "2022-06-01T06:12:48.786Z"
   },
   {
    "duration": 11,
    "start_time": "2022-06-01T06:12:50.807Z"
   },
   {
    "duration": 11,
    "start_time": "2022-06-01T06:13:05.714Z"
   },
   {
    "duration": 13,
    "start_time": "2022-06-01T06:13:21.562Z"
   },
   {
    "duration": 14,
    "start_time": "2022-06-01T06:13:34.882Z"
   },
   {
    "duration": 9,
    "start_time": "2022-06-01T06:13:37.057Z"
   },
   {
    "duration": 16,
    "start_time": "2022-06-01T06:17:05.405Z"
   },
   {
    "duration": 6,
    "start_time": "2022-06-01T06:17:07.092Z"
   },
   {
    "duration": 14,
    "start_time": "2022-06-01T06:17:07.756Z"
   },
   {
    "duration": 17,
    "start_time": "2022-06-01T06:17:29.916Z"
   },
   {
    "duration": 5,
    "start_time": "2022-06-01T06:18:00.156Z"
   },
   {
    "duration": 33,
    "start_time": "2022-06-01T06:18:58.273Z"
   },
   {
    "duration": 4,
    "start_time": "2022-06-01T06:19:10.714Z"
   },
   {
    "duration": 5,
    "start_time": "2022-06-01T06:19:52.616Z"
   },
   {
    "duration": 5,
    "start_time": "2022-06-01T06:20:22.092Z"
   },
   {
    "duration": 4,
    "start_time": "2022-06-01T06:21:25.251Z"
   },
   {
    "duration": 4,
    "start_time": "2022-06-01T06:21:35.607Z"
   },
   {
    "duration": 38,
    "start_time": "2022-06-01T06:22:54.797Z"
   },
   {
    "duration": 5,
    "start_time": "2022-06-01T06:22:56.723Z"
   },
   {
    "duration": 257,
    "start_time": "2022-06-01T06:23:51.170Z"
   },
   {
    "duration": 247,
    "start_time": "2022-06-01T06:24:08.283Z"
   },
   {
    "duration": 5,
    "start_time": "2022-06-01T06:24:32.498Z"
   },
   {
    "duration": 5,
    "start_time": "2022-06-01T06:24:58.143Z"
   },
   {
    "duration": 2256,
    "start_time": "2022-06-01T07:18:38.588Z"
   },
   {
    "duration": 22,
    "start_time": "2022-06-01T07:18:40.849Z"
   },
   {
    "duration": 299,
    "start_time": "2022-06-01T07:18:40.873Z"
   },
   {
    "duration": 3,
    "start_time": "2022-06-01T07:18:41.175Z"
   },
   {
    "duration": 66,
    "start_time": "2022-06-01T07:18:41.179Z"
   },
   {
    "duration": 14,
    "start_time": "2022-06-01T07:18:41.248Z"
   },
   {
    "duration": 402,
    "start_time": "2022-06-01T07:18:41.263Z"
   },
   {
    "duration": 5,
    "start_time": "2022-06-01T07:18:41.667Z"
   },
   {
    "duration": 14,
    "start_time": "2022-06-01T07:18:41.674Z"
   },
   {
    "duration": 8,
    "start_time": "2022-06-01T07:18:41.690Z"
   },
   {
    "duration": 645,
    "start_time": "2022-06-01T07:18:41.699Z"
   },
   {
    "duration": 188,
    "start_time": "2022-06-01T07:18:42.346Z"
   },
   {
    "duration": 8,
    "start_time": "2022-06-01T07:18:42.536Z"
   },
   {
    "duration": 434,
    "start_time": "2022-06-01T07:18:42.548Z"
   },
   {
    "duration": 328,
    "start_time": "2022-06-01T07:18:42.984Z"
   },
   {
    "duration": 4,
    "start_time": "2022-06-01T07:18:43.313Z"
   },
   {
    "duration": 33,
    "start_time": "2022-06-01T07:18:43.327Z"
   },
   {
    "duration": 160,
    "start_time": "2022-06-01T07:18:43.363Z"
   },
   {
    "duration": 0,
    "start_time": "2022-06-01T07:18:43.526Z"
   },
   {
    "duration": 0,
    "start_time": "2022-06-01T07:18:43.526Z"
   },
   {
    "duration": 0,
    "start_time": "2022-06-01T07:18:43.528Z"
   },
   {
    "duration": 0,
    "start_time": "2022-06-01T07:18:43.529Z"
   },
   {
    "duration": 0,
    "start_time": "2022-06-01T07:18:43.532Z"
   },
   {
    "duration": 0,
    "start_time": "2022-06-01T07:18:43.533Z"
   },
   {
    "duration": 0,
    "start_time": "2022-06-01T07:18:43.537Z"
   },
   {
    "duration": 0,
    "start_time": "2022-06-01T07:18:43.538Z"
   },
   {
    "duration": 0,
    "start_time": "2022-06-01T07:18:43.539Z"
   },
   {
    "duration": 0,
    "start_time": "2022-06-01T07:18:43.540Z"
   },
   {
    "duration": 0,
    "start_time": "2022-06-01T07:18:43.541Z"
   },
   {
    "duration": 0,
    "start_time": "2022-06-01T07:18:43.541Z"
   },
   {
    "duration": 0,
    "start_time": "2022-06-01T07:18:43.542Z"
   },
   {
    "duration": 0,
    "start_time": "2022-06-01T07:18:43.543Z"
   },
   {
    "duration": 0,
    "start_time": "2022-06-01T07:18:43.544Z"
   },
   {
    "duration": 3023,
    "start_time": "2022-06-01T08:09:50.824Z"
   },
   {
    "duration": 20,
    "start_time": "2022-06-01T08:09:53.849Z"
   },
   {
    "duration": 301,
    "start_time": "2022-06-01T08:09:53.871Z"
   },
   {
    "duration": 4,
    "start_time": "2022-06-01T08:09:54.174Z"
   },
   {
    "duration": 74,
    "start_time": "2022-06-01T08:09:54.179Z"
   },
   {
    "duration": 13,
    "start_time": "2022-06-01T08:09:54.255Z"
   },
   {
    "duration": 577,
    "start_time": "2022-06-01T08:09:54.270Z"
   },
   {
    "duration": 12,
    "start_time": "2022-06-01T08:09:54.849Z"
   },
   {
    "duration": 7,
    "start_time": "2022-06-01T08:09:54.863Z"
   },
   {
    "duration": 5,
    "start_time": "2022-06-01T08:09:54.874Z"
   },
   {
    "duration": 618,
    "start_time": "2022-06-01T08:09:54.880Z"
   },
   {
    "duration": 213,
    "start_time": "2022-06-01T08:09:55.499Z"
   },
   {
    "duration": 29,
    "start_time": "2022-06-01T08:09:55.713Z"
   },
   {
    "duration": 384,
    "start_time": "2022-06-01T08:09:55.746Z"
   },
   {
    "duration": 266,
    "start_time": "2022-06-01T08:09:56.132Z"
   },
   {
    "duration": 6,
    "start_time": "2022-06-01T08:09:56.426Z"
   },
   {
    "duration": 2263,
    "start_time": "2022-06-01T08:16:20.885Z"
   },
   {
    "duration": 21,
    "start_time": "2022-06-01T08:16:23.157Z"
   },
   {
    "duration": 286,
    "start_time": "2022-06-01T08:16:23.181Z"
   },
   {
    "duration": 4,
    "start_time": "2022-06-01T08:16:23.471Z"
   },
   {
    "duration": 62,
    "start_time": "2022-06-01T08:16:23.477Z"
   },
   {
    "duration": 14,
    "start_time": "2022-06-01T08:16:23.541Z"
   },
   {
    "duration": 426,
    "start_time": "2022-06-01T08:16:23.563Z"
   },
   {
    "duration": 7,
    "start_time": "2022-06-01T08:16:23.991Z"
   },
   {
    "duration": 20,
    "start_time": "2022-06-01T08:16:23.999Z"
   },
   {
    "duration": 20,
    "start_time": "2022-06-01T08:16:24.022Z"
   },
   {
    "duration": 677,
    "start_time": "2022-06-01T08:16:24.046Z"
   },
   {
    "duration": 293,
    "start_time": "2022-06-01T08:16:24.725Z"
   },
   {
    "duration": 21,
    "start_time": "2022-06-01T08:16:25.020Z"
   },
   {
    "duration": 358,
    "start_time": "2022-06-01T08:16:25.045Z"
   },
   {
    "duration": 337,
    "start_time": "2022-06-01T08:16:25.406Z"
   },
   {
    "duration": 6,
    "start_time": "2022-06-01T08:16:25.749Z"
   },
   {
    "duration": 5807,
    "start_time": "2022-06-01T08:16:25.757Z"
   },
   {
    "duration": 0,
    "start_time": "2022-06-01T08:16:31.567Z"
   },
   {
    "duration": 0,
    "start_time": "2022-06-01T08:16:31.568Z"
   },
   {
    "duration": 0,
    "start_time": "2022-06-01T08:16:31.569Z"
   },
   {
    "duration": 0,
    "start_time": "2022-06-01T08:16:31.570Z"
   },
   {
    "duration": 0,
    "start_time": "2022-06-01T08:16:31.572Z"
   },
   {
    "duration": 0,
    "start_time": "2022-06-01T08:16:31.573Z"
   },
   {
    "duration": 0,
    "start_time": "2022-06-01T08:16:31.574Z"
   },
   {
    "duration": 0,
    "start_time": "2022-06-01T08:16:31.576Z"
   },
   {
    "duration": 0,
    "start_time": "2022-06-01T08:16:31.577Z"
   },
   {
    "duration": 0,
    "start_time": "2022-06-01T08:16:31.579Z"
   },
   {
    "duration": 0,
    "start_time": "2022-06-01T08:16:31.581Z"
   },
   {
    "duration": 0,
    "start_time": "2022-06-01T08:16:31.582Z"
   },
   {
    "duration": 0,
    "start_time": "2022-06-01T08:16:31.584Z"
   },
   {
    "duration": 0,
    "start_time": "2022-06-01T08:16:31.585Z"
   },
   {
    "duration": 0,
    "start_time": "2022-06-01T08:16:31.586Z"
   },
   {
    "duration": 0,
    "start_time": "2022-06-01T08:16:31.587Z"
   },
   {
    "duration": 0,
    "start_time": "2022-06-01T08:16:31.588Z"
   },
   {
    "duration": 0,
    "start_time": "2022-06-01T08:16:31.630Z"
   },
   {
    "duration": 2372,
    "start_time": "2022-06-01T08:17:38.555Z"
   },
   {
    "duration": 26,
    "start_time": "2022-06-01T08:17:40.933Z"
   },
   {
    "duration": 336,
    "start_time": "2022-06-01T08:17:40.963Z"
   },
   {
    "duration": 3,
    "start_time": "2022-06-01T08:17:41.301Z"
   },
   {
    "duration": 68,
    "start_time": "2022-06-01T08:17:41.307Z"
   },
   {
    "duration": 12,
    "start_time": "2022-06-01T08:17:41.378Z"
   },
   {
    "duration": 410,
    "start_time": "2022-06-01T08:17:41.392Z"
   },
   {
    "duration": 6,
    "start_time": "2022-06-01T08:17:41.804Z"
   },
   {
    "duration": 18,
    "start_time": "2022-06-01T08:17:41.812Z"
   },
   {
    "duration": 42,
    "start_time": "2022-06-01T08:17:41.831Z"
   },
   {
    "duration": 650,
    "start_time": "2022-06-01T08:17:41.875Z"
   },
   {
    "duration": 221,
    "start_time": "2022-06-01T08:17:42.530Z"
   },
   {
    "duration": 15,
    "start_time": "2022-06-01T08:17:42.758Z"
   },
   {
    "duration": 387,
    "start_time": "2022-06-01T08:17:42.777Z"
   },
   {
    "duration": 340,
    "start_time": "2022-06-01T08:17:43.165Z"
   },
   {
    "duration": 4,
    "start_time": "2022-06-01T08:17:43.506Z"
   },
   {
    "duration": 582178,
    "start_time": "2022-06-01T08:17:43.512Z"
   },
   {
    "duration": 4,
    "start_time": "2022-06-01T08:27:25.692Z"
   },
   {
    "duration": 13,
    "start_time": "2022-06-01T08:27:25.697Z"
   },
   {
    "duration": 5,
    "start_time": "2022-06-01T08:27:25.712Z"
   },
   {
    "duration": 167,
    "start_time": "2022-06-01T08:27:25.718Z"
   },
   {
    "duration": 0,
    "start_time": "2022-06-01T08:27:25.887Z"
   },
   {
    "duration": 0,
    "start_time": "2022-06-01T08:27:25.888Z"
   },
   {
    "duration": 0,
    "start_time": "2022-06-01T08:27:25.889Z"
   },
   {
    "duration": 1,
    "start_time": "2022-06-01T08:27:25.890Z"
   },
   {
    "duration": 0,
    "start_time": "2022-06-01T08:27:25.892Z"
   },
   {
    "duration": 0,
    "start_time": "2022-06-01T08:27:25.893Z"
   },
   {
    "duration": 0,
    "start_time": "2022-06-01T08:27:25.894Z"
   },
   {
    "duration": 0,
    "start_time": "2022-06-01T08:27:25.895Z"
   },
   {
    "duration": 0,
    "start_time": "2022-06-01T08:27:25.896Z"
   },
   {
    "duration": 0,
    "start_time": "2022-06-01T08:27:25.898Z"
   },
   {
    "duration": 0,
    "start_time": "2022-06-01T08:27:25.899Z"
   },
   {
    "duration": 0,
    "start_time": "2022-06-01T08:27:25.902Z"
   },
   {
    "duration": 0,
    "start_time": "2022-06-01T08:27:25.913Z"
   },
   {
    "duration": 0,
    "start_time": "2022-06-01T08:27:25.913Z"
   },
   {
    "duration": 5939,
    "start_time": "2022-06-01T08:28:04.806Z"
   },
   {
    "duration": 5271,
    "start_time": "2022-06-01T08:29:36.818Z"
   },
   {
    "duration": 19,
    "start_time": "2022-06-01T08:29:42.092Z"
   },
   {
    "duration": 302,
    "start_time": "2022-06-01T08:29:42.113Z"
   },
   {
    "duration": 3,
    "start_time": "2022-06-01T08:29:42.417Z"
   },
   {
    "duration": 73,
    "start_time": "2022-06-01T08:29:42.422Z"
   },
   {
    "duration": 10,
    "start_time": "2022-06-01T08:29:42.497Z"
   },
   {
    "duration": 461,
    "start_time": "2022-06-01T08:29:42.509Z"
   },
   {
    "duration": 6,
    "start_time": "2022-06-01T08:29:42.972Z"
   },
   {
    "duration": 8,
    "start_time": "2022-06-01T08:29:42.980Z"
   },
   {
    "duration": 5,
    "start_time": "2022-06-01T08:29:42.990Z"
   },
   {
    "duration": 594,
    "start_time": "2022-06-01T08:29:42.997Z"
   },
   {
    "duration": 195,
    "start_time": "2022-06-01T08:29:43.592Z"
   },
   {
    "duration": 7,
    "start_time": "2022-06-01T08:29:43.788Z"
   },
   {
    "duration": 382,
    "start_time": "2022-06-01T08:29:43.796Z"
   },
   {
    "duration": 342,
    "start_time": "2022-06-01T08:29:44.180Z"
   },
   {
    "duration": 5,
    "start_time": "2022-06-01T08:29:44.536Z"
   },
   {
    "duration": 2179,
    "start_time": "2022-06-01T08:33:40.275Z"
   },
   {
    "duration": 20,
    "start_time": "2022-06-01T08:33:42.456Z"
   },
   {
    "duration": 294,
    "start_time": "2022-06-01T08:33:42.478Z"
   },
   {
    "duration": 4,
    "start_time": "2022-06-01T08:33:42.774Z"
   },
   {
    "duration": 82,
    "start_time": "2022-06-01T08:33:42.780Z"
   },
   {
    "duration": 13,
    "start_time": "2022-06-01T08:33:42.863Z"
   },
   {
    "duration": 421,
    "start_time": "2022-06-01T08:33:42.877Z"
   },
   {
    "duration": 7,
    "start_time": "2022-06-01T08:33:43.300Z"
   },
   {
    "duration": 57,
    "start_time": "2022-06-01T08:33:43.309Z"
   },
   {
    "duration": 13,
    "start_time": "2022-06-01T08:33:43.369Z"
   },
   {
    "duration": 619,
    "start_time": "2022-06-01T08:33:43.384Z"
   },
   {
    "duration": 208,
    "start_time": "2022-06-01T08:33:44.004Z"
   },
   {
    "duration": 25,
    "start_time": "2022-06-01T08:33:44.214Z"
   },
   {
    "duration": 364,
    "start_time": "2022-06-01T08:33:44.246Z"
   },
   {
    "duration": 385,
    "start_time": "2022-06-01T08:33:44.612Z"
   },
   {
    "duration": 4,
    "start_time": "2022-06-01T08:33:44.999Z"
   },
   {
    "duration": 590639,
    "start_time": "2022-06-01T08:33:45.005Z"
   },
   {
    "duration": 3,
    "start_time": "2022-06-01T08:43:35.646Z"
   },
   {
    "duration": 17,
    "start_time": "2022-06-01T08:43:35.652Z"
   },
   {
    "duration": 14,
    "start_time": "2022-06-01T08:43:35.671Z"
   },
   {
    "duration": 76,
    "start_time": "2022-06-01T08:43:35.686Z"
   },
   {
    "duration": 7,
    "start_time": "2022-06-01T08:43:35.763Z"
   },
   {
    "duration": 74,
    "start_time": "2022-06-01T08:43:35.772Z"
   },
   {
    "duration": 5,
    "start_time": "2022-06-01T08:43:35.847Z"
   },
   {
    "duration": 47763,
    "start_time": "2022-06-01T08:43:35.854Z"
   },
   {
    "duration": 70,
    "start_time": "2022-06-01T08:44:23.619Z"
   },
   {
    "duration": 6,
    "start_time": "2022-06-01T08:44:23.691Z"
   },
   {
    "duration": 80,
    "start_time": "2022-06-01T08:44:23.700Z"
   },
   {
    "duration": 6,
    "start_time": "2022-06-01T08:44:23.782Z"
   },
   {
    "duration": 62,
    "start_time": "2022-06-01T08:44:23.790Z"
   },
   {
    "duration": 82,
    "start_time": "2022-06-01T08:44:23.854Z"
   },
   {
    "duration": 128,
    "start_time": "2022-06-01T08:44:23.938Z"
   },
   {
    "duration": 12,
    "start_time": "2022-06-01T08:44:24.068Z"
   },
   {
    "duration": 99,
    "start_time": "2022-06-01T08:44:24.129Z"
   },
   {
    "duration": 428,
    "start_time": "2022-06-01T08:44:24.229Z"
   },
   {
    "duration": 9,
    "start_time": "2022-06-01T08:44:24.659Z"
   },
   {
    "duration": 193,
    "start_time": "2022-06-01T08:44:24.670Z"
   },
   {
    "duration": 67,
    "start_time": "2022-06-01T08:57:01.687Z"
   },
   {
    "duration": 6,
    "start_time": "2022-06-01T08:57:02.448Z"
   },
   {
    "duration": 7,
    "start_time": "2022-06-01T08:57:21.519Z"
   },
   {
    "duration": 5,
    "start_time": "2022-06-01T08:57:22.417Z"
   },
   {
    "duration": 48524,
    "start_time": "2022-06-01T08:59:21.444Z"
   },
   {
    "duration": 80,
    "start_time": "2022-06-01T09:00:09.971Z"
   },
   {
    "duration": 7,
    "start_time": "2022-06-01T09:00:10.052Z"
   },
   {
    "duration": 79,
    "start_time": "2022-06-01T09:00:10.061Z"
   },
   {
    "duration": 7,
    "start_time": "2022-06-01T09:00:10.147Z"
   },
   {
    "duration": 145,
    "start_time": "2022-06-01T09:00:10.156Z"
   },
   {
    "duration": 0,
    "start_time": "2022-06-01T09:00:10.303Z"
   },
   {
    "duration": 16,
    "start_time": "2022-06-01T09:00:50.909Z"
   },
   {
    "duration": 4,
    "start_time": "2022-06-01T09:01:05.392Z"
   },
   {
    "duration": 7,
    "start_time": "2022-06-01T09:01:10.452Z"
   },
   {
    "duration": 15,
    "start_time": "2022-06-01T09:01:13.324Z"
   },
   {
    "duration": 19,
    "start_time": "2022-06-01T09:21:34.529Z"
   },
   {
    "duration": 15,
    "start_time": "2022-06-01T09:21:49.717Z"
   },
   {
    "duration": 156,
    "start_time": "2022-06-01T09:22:12.424Z"
   },
   {
    "duration": 89,
    "start_time": "2022-06-01T09:23:24.519Z"
   },
   {
    "duration": 66,
    "start_time": "2022-06-01T09:23:34.905Z"
   },
   {
    "duration": 7,
    "start_time": "2022-06-01T09:23:52.807Z"
   },
   {
    "duration": 23,
    "start_time": "2022-06-01T09:24:08.808Z"
   },
   {
    "duration": 14,
    "start_time": "2022-06-01T09:24:37.463Z"
   },
   {
    "duration": 54,
    "start_time": "2022-06-01T09:25:20.412Z"
   },
   {
    "duration": 52,
    "start_time": "2022-06-01T09:26:51.072Z"
   },
   {
    "duration": 16,
    "start_time": "2022-06-01T09:27:36.597Z"
   },
   {
    "duration": 57,
    "start_time": "2022-06-01T09:27:54.246Z"
   },
   {
    "duration": 289,
    "start_time": "2022-06-01T09:36:42.779Z"
   },
   {
    "duration": 47,
    "start_time": "2022-06-01T09:37:26.814Z"
   },
   {
    "duration": 14,
    "start_time": "2022-06-01T09:39:51.577Z"
   },
   {
    "duration": 43,
    "start_time": "2022-06-01T09:40:32.452Z"
   },
   {
    "duration": 2201,
    "start_time": "2022-06-01T09:41:04.569Z"
   },
   {
    "duration": 19,
    "start_time": "2022-06-01T09:41:06.772Z"
   },
   {
    "duration": 292,
    "start_time": "2022-06-01T09:41:06.793Z"
   },
   {
    "duration": 3,
    "start_time": "2022-06-01T09:41:07.088Z"
   },
   {
    "duration": 65,
    "start_time": "2022-06-01T09:41:07.094Z"
   },
   {
    "duration": 12,
    "start_time": "2022-06-01T09:41:07.161Z"
   },
   {
    "duration": 424,
    "start_time": "2022-06-01T09:41:07.175Z"
   },
   {
    "duration": 7,
    "start_time": "2022-06-01T09:41:07.602Z"
   },
   {
    "duration": 27,
    "start_time": "2022-06-01T09:41:07.611Z"
   },
   {
    "duration": 23,
    "start_time": "2022-06-01T09:41:07.647Z"
   },
   {
    "duration": 597,
    "start_time": "2022-06-01T09:41:07.673Z"
   },
   {
    "duration": 234,
    "start_time": "2022-06-01T09:41:08.272Z"
   },
   {
    "duration": 18,
    "start_time": "2022-06-01T09:41:08.508Z"
   },
   {
    "duration": 386,
    "start_time": "2022-06-01T09:41:08.528Z"
   },
   {
    "duration": 468,
    "start_time": "2022-06-01T09:41:08.916Z"
   },
   {
    "duration": 0,
    "start_time": "2022-06-01T09:41:09.387Z"
   },
   {
    "duration": 0,
    "start_time": "2022-06-01T09:41:09.388Z"
   },
   {
    "duration": 0,
    "start_time": "2022-06-01T09:41:09.390Z"
   },
   {
    "duration": 0,
    "start_time": "2022-06-01T09:41:09.391Z"
   },
   {
    "duration": 0,
    "start_time": "2022-06-01T09:41:09.393Z"
   },
   {
    "duration": 0,
    "start_time": "2022-06-01T09:41:09.395Z"
   },
   {
    "duration": 0,
    "start_time": "2022-06-01T09:41:09.397Z"
   },
   {
    "duration": 0,
    "start_time": "2022-06-01T09:41:09.398Z"
   },
   {
    "duration": 0,
    "start_time": "2022-06-01T09:41:09.400Z"
   },
   {
    "duration": 0,
    "start_time": "2022-06-01T09:41:09.426Z"
   },
   {
    "duration": 0,
    "start_time": "2022-06-01T09:41:09.427Z"
   },
   {
    "duration": 0,
    "start_time": "2022-06-01T09:41:09.432Z"
   },
   {
    "duration": 0,
    "start_time": "2022-06-01T09:41:09.433Z"
   },
   {
    "duration": 0,
    "start_time": "2022-06-01T09:41:09.434Z"
   },
   {
    "duration": 0,
    "start_time": "2022-06-01T09:41:09.435Z"
   },
   {
    "duration": 0,
    "start_time": "2022-06-01T09:41:09.436Z"
   },
   {
    "duration": 0,
    "start_time": "2022-06-01T09:41:09.436Z"
   },
   {
    "duration": 0,
    "start_time": "2022-06-01T09:41:09.437Z"
   },
   {
    "duration": 0,
    "start_time": "2022-06-01T09:41:09.438Z"
   },
   {
    "duration": 0,
    "start_time": "2022-06-01T09:41:09.439Z"
   },
   {
    "duration": 0,
    "start_time": "2022-06-01T09:41:09.440Z"
   },
   {
    "duration": 0,
    "start_time": "2022-06-01T09:41:09.441Z"
   },
   {
    "duration": 0,
    "start_time": "2022-06-01T09:41:09.446Z"
   },
   {
    "duration": 0,
    "start_time": "2022-06-01T09:41:09.447Z"
   },
   {
    "duration": 0,
    "start_time": "2022-06-01T09:41:09.448Z"
   },
   {
    "duration": 0,
    "start_time": "2022-06-01T09:41:09.449Z"
   },
   {
    "duration": 368,
    "start_time": "2022-06-01T09:42:35.120Z"
   },
   {
    "duration": 2228,
    "start_time": "2022-06-01T09:42:59.873Z"
   },
   {
    "duration": 47,
    "start_time": "2022-06-01T09:43:02.103Z"
   },
   {
    "duration": 292,
    "start_time": "2022-06-01T09:43:02.156Z"
   },
   {
    "duration": 4,
    "start_time": "2022-06-01T09:43:02.450Z"
   },
   {
    "duration": 83,
    "start_time": "2022-06-01T09:43:02.455Z"
   },
   {
    "duration": 17,
    "start_time": "2022-06-01T09:43:02.541Z"
   },
   {
    "duration": 424,
    "start_time": "2022-06-01T09:43:02.561Z"
   },
   {
    "duration": 6,
    "start_time": "2022-06-01T09:43:02.987Z"
   },
   {
    "duration": 21,
    "start_time": "2022-06-01T09:43:02.995Z"
   },
   {
    "duration": 35,
    "start_time": "2022-06-01T09:43:03.019Z"
   },
   {
    "duration": 658,
    "start_time": "2022-06-01T09:43:03.056Z"
   },
   {
    "duration": 267,
    "start_time": "2022-06-01T09:43:03.716Z"
   },
   {
    "duration": 13,
    "start_time": "2022-06-01T09:43:03.984Z"
   },
   {
    "duration": 418,
    "start_time": "2022-06-01T09:43:03.998Z"
   },
   {
    "duration": 370,
    "start_time": "2022-06-01T09:43:04.419Z"
   },
   {
    "duration": 79,
    "start_time": "2022-06-01T09:43:04.791Z"
   },
   {
    "duration": 12,
    "start_time": "2022-06-01T09:43:04.872Z"
   },
   {
    "duration": 580656,
    "start_time": "2022-06-01T09:43:04.886Z"
   },
   {
    "duration": 11,
    "start_time": "2022-06-01T09:52:45.546Z"
   },
   {
    "duration": 11,
    "start_time": "2022-06-01T09:52:45.559Z"
   },
   {
    "duration": 12,
    "start_time": "2022-06-01T09:52:45.572Z"
   },
   {
    "duration": 73,
    "start_time": "2022-06-01T09:52:45.586Z"
   },
   {
    "duration": 6,
    "start_time": "2022-06-01T09:52:45.661Z"
   },
   {
    "duration": 54,
    "start_time": "2022-06-01T09:52:45.668Z"
   },
   {
    "duration": 13,
    "start_time": "2022-06-01T09:52:45.731Z"
   },
   {
    "duration": 48271,
    "start_time": "2022-06-01T09:52:45.746Z"
   },
   {
    "duration": 71,
    "start_time": "2022-06-01T09:53:34.019Z"
   },
   {
    "duration": 7,
    "start_time": "2022-06-01T09:53:34.093Z"
   },
   {
    "duration": 84,
    "start_time": "2022-06-01T09:53:34.102Z"
   },
   {
    "duration": 7,
    "start_time": "2022-06-01T09:53:34.188Z"
   },
   {
    "duration": 50,
    "start_time": "2022-06-01T09:53:34.197Z"
   },
   {
    "duration": 215,
    "start_time": "2022-06-01T09:53:34.249Z"
   },
   {
    "duration": 8,
    "start_time": "2022-06-01T09:53:34.467Z"
   },
   {
    "duration": 72,
    "start_time": "2022-06-01T09:53:34.531Z"
   },
   {
    "duration": 144,
    "start_time": "2022-06-01T09:53:34.633Z"
   },
   {
    "duration": 566,
    "start_time": "2022-06-01T09:53:34.779Z"
   },
   {
    "duration": 99,
    "start_time": "2022-06-01T09:53:35.350Z"
   },
   {
    "duration": 31,
    "start_time": "2022-06-01T09:53:35.460Z"
   },
   {
    "duration": 39,
    "start_time": "2022-06-01T09:53:35.493Z"
   },
   {
    "duration": 35,
    "start_time": "2022-06-01T09:53:35.534Z"
   },
   {
    "duration": 920,
    "start_time": "2022-06-01T10:11:30.581Z"
   },
   {
    "duration": 170,
    "start_time": "2022-06-01T10:14:49.868Z"
   },
   {
    "duration": 181,
    "start_time": "2022-06-01T10:15:02.879Z"
   },
   {
    "duration": 949,
    "start_time": "2022-06-01T10:16:23.265Z"
   },
   {
    "duration": 13,
    "start_time": "2022-06-01T10:17:37.288Z"
   },
   {
    "duration": 13,
    "start_time": "2022-06-01T10:17:50.183Z"
   },
   {
    "duration": 4,
    "start_time": "2022-06-01T10:18:00.221Z"
   },
   {
    "duration": 90,
    "start_time": "2022-06-01T10:18:03.318Z"
   },
   {
    "duration": 5764,
    "start_time": "2022-06-01T10:34:54.596Z"
   },
   {
    "duration": 52304,
    "start_time": "2022-06-01T10:37:09.165Z"
   },
   {
    "duration": 41535,
    "start_time": "2022-06-01T10:41:57.621Z"
   },
   {
    "duration": 9,
    "start_time": "2022-06-01T10:45:41.393Z"
   },
   {
    "duration": 20,
    "start_time": "2022-06-01T10:46:25.860Z"
   },
   {
    "duration": 79627,
    "start_time": "2022-06-01T10:47:36.485Z"
   },
   {
    "duration": 5,
    "start_time": "2022-06-01T10:48:56.114Z"
   },
   {
    "duration": 6,
    "start_time": "2022-06-01T11:07:28.773Z"
   },
   {
    "duration": 5,
    "start_time": "2022-06-01T11:07:35.078Z"
   },
   {
    "duration": 5,
    "start_time": "2022-06-01T11:07:56.917Z"
   },
   {
    "duration": 6,
    "start_time": "2022-06-01T11:08:03.864Z"
   },
   {
    "duration": 42,
    "start_time": "2022-06-01T11:10:05.013Z"
   },
   {
    "duration": 8,
    "start_time": "2022-06-01T11:10:28.423Z"
   },
   {
    "duration": 1057,
    "start_time": "2022-06-01T11:11:39.577Z"
   },
   {
    "duration": 4,
    "start_time": "2022-06-01T11:11:41.849Z"
   },
   {
    "duration": 10,
    "start_time": "2022-06-01T11:14:13.814Z"
   },
   {
    "duration": 4,
    "start_time": "2022-06-01T11:14:22.614Z"
   },
   {
    "duration": 5,
    "start_time": "2022-06-01T11:14:30.215Z"
   },
   {
    "duration": 5,
    "start_time": "2022-06-01T11:14:31.615Z"
   },
   {
    "duration": 4776,
    "start_time": "2022-06-01T11:19:01.602Z"
   },
   {
    "duration": 20,
    "start_time": "2022-06-01T11:19:06.381Z"
   },
   {
    "duration": 274,
    "start_time": "2022-06-01T11:19:06.403Z"
   },
   {
    "duration": 3,
    "start_time": "2022-06-01T11:19:06.680Z"
   },
   {
    "duration": 81,
    "start_time": "2022-06-01T11:19:06.684Z"
   },
   {
    "duration": 14,
    "start_time": "2022-06-01T11:19:06.767Z"
   },
   {
    "duration": 401,
    "start_time": "2022-06-01T11:19:06.783Z"
   },
   {
    "duration": 6,
    "start_time": "2022-06-01T11:19:07.186Z"
   },
   {
    "duration": 15,
    "start_time": "2022-06-01T11:19:07.193Z"
   },
   {
    "duration": 6,
    "start_time": "2022-06-01T11:19:07.211Z"
   },
   {
    "duration": 559,
    "start_time": "2022-06-01T11:19:07.218Z"
   },
   {
    "duration": 189,
    "start_time": "2022-06-01T11:19:07.778Z"
   },
   {
    "duration": 12,
    "start_time": "2022-06-01T11:19:07.969Z"
   },
   {
    "duration": 400,
    "start_time": "2022-06-01T11:19:07.983Z"
   },
   {
    "duration": 313,
    "start_time": "2022-06-01T11:19:08.385Z"
   },
   {
    "duration": 57,
    "start_time": "2022-06-01T11:19:08.700Z"
   },
   {
    "duration": 3,
    "start_time": "2022-06-01T11:19:08.759Z"
   },
   {
    "duration": 541180,
    "start_time": "2022-06-01T11:19:08.764Z"
   },
   {
    "duration": 2,
    "start_time": "2022-06-01T11:28:09.947Z"
   },
   {
    "duration": 8,
    "start_time": "2022-06-01T11:28:09.951Z"
   },
   {
    "duration": 14,
    "start_time": "2022-06-01T11:28:09.961Z"
   },
   {
    "duration": 78,
    "start_time": "2022-06-01T11:28:09.978Z"
   },
   {
    "duration": 5,
    "start_time": "2022-06-01T11:28:10.059Z"
   },
   {
    "duration": 75369,
    "start_time": "2022-06-01T11:28:10.066Z"
   },
   {
    "duration": 5,
    "start_time": "2022-06-01T11:29:25.440Z"
   },
   {
    "duration": 53,
    "start_time": "2022-06-01T11:29:25.447Z"
   },
   {
    "duration": 6,
    "start_time": "2022-06-01T11:29:25.501Z"
   },
   {
    "duration": 45239,
    "start_time": "2022-06-01T11:29:25.510Z"
   },
   {
    "duration": 76,
    "start_time": "2022-06-01T11:30:10.751Z"
   },
   {
    "duration": 5,
    "start_time": "2022-06-01T11:30:10.829Z"
   },
   {
    "duration": 68,
    "start_time": "2022-06-01T11:30:10.836Z"
   },
   {
    "duration": 5,
    "start_time": "2022-06-01T11:30:10.906Z"
   },
   {
    "duration": 46,
    "start_time": "2022-06-01T11:30:10.912Z"
   },
   {
    "duration": 1079,
    "start_time": "2022-06-01T11:30:10.961Z"
   },
   {
    "duration": 82,
    "start_time": "2022-06-01T11:30:12.045Z"
   },
   {
    "duration": 24,
    "start_time": "2022-06-01T11:30:12.129Z"
   },
   {
    "duration": 78,
    "start_time": "2022-06-01T11:30:12.156Z"
   },
   {
    "duration": 118,
    "start_time": "2022-06-01T11:30:12.238Z"
   },
   {
    "duration": 187,
    "start_time": "2022-06-01T11:30:12.358Z"
   },
   {
    "duration": 184,
    "start_time": "2022-06-01T11:30:12.548Z"
   },
   {
    "duration": 11,
    "start_time": "2022-06-01T11:30:12.738Z"
   },
   {
    "duration": 95,
    "start_time": "2022-06-01T11:30:12.755Z"
   },
   {
    "duration": 16,
    "start_time": "2022-06-01T11:30:12.851Z"
   },
   {
    "duration": 15,
    "start_time": "2022-06-01T11:30:12.869Z"
   },
   {
    "duration": 151,
    "start_time": "2022-06-01T12:03:02.543Z"
   },
   {
    "duration": 785,
    "start_time": "2022-06-01T12:03:09.848Z"
   },
   {
    "duration": 10509,
    "start_time": "2022-06-01T12:03:16.309Z"
   },
   {
    "duration": 40948,
    "start_time": "2022-06-01T12:05:04.421Z"
   },
   {
    "duration": 6,
    "start_time": "2022-06-01T12:05:45.370Z"
   },
   {
    "duration": 2147,
    "start_time": "2022-06-01T12:07:12.162Z"
   },
   {
    "duration": 32,
    "start_time": "2022-06-01T12:07:14.311Z"
   },
   {
    "duration": 316,
    "start_time": "2022-06-01T12:07:14.344Z"
   },
   {
    "duration": 5,
    "start_time": "2022-06-01T12:07:14.663Z"
   },
   {
    "duration": 103,
    "start_time": "2022-06-01T12:07:14.670Z"
   },
   {
    "duration": 36,
    "start_time": "2022-06-01T12:07:14.776Z"
   },
   {
    "duration": 402,
    "start_time": "2022-06-01T12:07:14.815Z"
   },
   {
    "duration": 23,
    "start_time": "2022-06-01T12:07:15.219Z"
   },
   {
    "duration": 29,
    "start_time": "2022-06-01T12:07:15.245Z"
   },
   {
    "duration": 25,
    "start_time": "2022-06-01T12:07:15.277Z"
   },
   {
    "duration": 616,
    "start_time": "2022-06-01T12:07:15.304Z"
   },
   {
    "duration": 244,
    "start_time": "2022-06-01T12:07:15.922Z"
   },
   {
    "duration": 14,
    "start_time": "2022-06-01T12:07:16.169Z"
   },
   {
    "duration": 400,
    "start_time": "2022-06-01T12:07:16.185Z"
   },
   {
    "duration": 328,
    "start_time": "2022-06-01T12:07:16.587Z"
   },
   {
    "duration": 54,
    "start_time": "2022-06-01T12:07:16.928Z"
   },
   {
    "duration": 4,
    "start_time": "2022-06-01T12:07:16.984Z"
   },
   {
    "duration": 572903,
    "start_time": "2022-06-01T12:07:16.989Z"
   },
   {
    "duration": 4,
    "start_time": "2022-06-01T12:16:49.893Z"
   },
   {
    "duration": 10,
    "start_time": "2022-06-01T12:16:49.899Z"
   },
   {
    "duration": 46,
    "start_time": "2022-06-01T12:16:49.912Z"
   },
   {
    "duration": 78,
    "start_time": "2022-06-01T12:16:49.960Z"
   },
   {
    "duration": 6,
    "start_time": "2022-06-01T12:16:50.040Z"
   },
   {
    "duration": 87145,
    "start_time": "2022-06-01T12:16:50.048Z"
   },
   {
    "duration": 4,
    "start_time": "2022-06-01T12:18:17.194Z"
   },
   {
    "duration": 61,
    "start_time": "2022-06-01T12:18:17.200Z"
   },
   {
    "duration": 6,
    "start_time": "2022-06-01T12:18:17.263Z"
   },
   {
    "duration": 46748,
    "start_time": "2022-06-01T12:18:17.273Z"
   },
   {
    "duration": 70,
    "start_time": "2022-06-01T12:19:04.025Z"
   },
   {
    "duration": 5,
    "start_time": "2022-06-01T12:19:04.097Z"
   },
   {
    "duration": 69,
    "start_time": "2022-06-01T12:19:04.104Z"
   },
   {
    "duration": 5,
    "start_time": "2022-06-01T12:19:04.175Z"
   },
   {
    "duration": 67,
    "start_time": "2022-06-01T12:19:04.181Z"
   },
   {
    "duration": 1002,
    "start_time": "2022-06-01T12:19:04.252Z"
   },
   {
    "duration": 8,
    "start_time": "2022-06-01T12:19:05.332Z"
   },
   {
    "duration": 111,
    "start_time": "2022-06-01T12:19:05.342Z"
   },
   {
    "duration": 76,
    "start_time": "2022-06-01T12:19:05.455Z"
   },
   {
    "duration": 128,
    "start_time": "2022-06-01T12:19:05.532Z"
   },
   {
    "duration": 181,
    "start_time": "2022-06-01T12:19:05.665Z"
   },
   {
    "duration": 287,
    "start_time": "2022-06-01T12:19:05.848Z"
   },
   {
    "duration": 9,
    "start_time": "2022-06-01T12:19:06.139Z"
   },
   {
    "duration": 99,
    "start_time": "2022-06-01T12:19:06.150Z"
   },
   {
    "duration": 10320,
    "start_time": "2022-06-01T12:19:06.251Z"
   },
   {
    "duration": 41090,
    "start_time": "2022-06-01T12:19:16.572Z"
   },
   {
    "duration": 4,
    "start_time": "2022-06-01T12:19:57.664Z"
   },
   {
    "duration": 9,
    "start_time": "2022-06-01T12:19:57.670Z"
   },
   {
    "duration": 5,
    "start_time": "2022-06-01T12:19:57.681Z"
   },
   {
    "duration": 4510,
    "start_time": "2022-06-01T14:46:51.680Z"
   },
   {
    "duration": 18,
    "start_time": "2022-06-01T14:46:56.192Z"
   },
   {
    "duration": 254,
    "start_time": "2022-06-01T14:46:56.212Z"
   },
   {
    "duration": 3,
    "start_time": "2022-06-01T14:46:56.468Z"
   },
   {
    "duration": 58,
    "start_time": "2022-06-01T14:46:56.473Z"
   },
   {
    "duration": 9,
    "start_time": "2022-06-01T14:46:56.533Z"
   },
   {
    "duration": 344,
    "start_time": "2022-06-01T14:46:56.543Z"
   },
   {
    "duration": 6,
    "start_time": "2022-06-01T14:46:56.888Z"
   },
   {
    "duration": 5,
    "start_time": "2022-06-01T14:46:56.895Z"
   },
   {
    "duration": 4,
    "start_time": "2022-06-01T14:46:56.902Z"
   },
   {
    "duration": 539,
    "start_time": "2022-06-01T14:46:56.908Z"
   },
   {
    "duration": 194,
    "start_time": "2022-06-01T14:46:57.449Z"
   },
   {
    "duration": 14,
    "start_time": "2022-06-01T14:46:57.645Z"
   },
   {
    "duration": 412,
    "start_time": "2022-06-01T14:46:57.660Z"
   },
   {
    "duration": 297,
    "start_time": "2022-06-01T14:46:58.073Z"
   },
   {
    "duration": 42,
    "start_time": "2022-06-01T14:46:58.372Z"
   },
   {
    "duration": 65,
    "start_time": "2022-06-01T14:46:58.416Z"
   },
   {
    "duration": 3,
    "start_time": "2022-06-01T14:46:58.483Z"
   },
   {
    "duration": 518797,
    "start_time": "2022-06-01T14:46:58.488Z"
   },
   {
    "duration": 3,
    "start_time": "2022-06-01T14:55:37.286Z"
   },
   {
    "duration": 31,
    "start_time": "2022-06-01T14:55:37.291Z"
   },
   {
    "duration": 32,
    "start_time": "2022-06-01T14:55:37.324Z"
   },
   {
    "duration": 148,
    "start_time": "2022-06-01T14:55:37.358Z"
   },
   {
    "duration": 0,
    "start_time": "2022-06-01T14:55:37.509Z"
   },
   {
    "duration": 0,
    "start_time": "2022-06-01T14:55:37.511Z"
   },
   {
    "duration": 0,
    "start_time": "2022-06-01T14:55:37.513Z"
   },
   {
    "duration": 0,
    "start_time": "2022-06-01T14:55:37.514Z"
   },
   {
    "duration": 0,
    "start_time": "2022-06-01T14:55:37.526Z"
   },
   {
    "duration": 0,
    "start_time": "2022-06-01T14:55:37.529Z"
   },
   {
    "duration": 0,
    "start_time": "2022-06-01T14:55:37.530Z"
   },
   {
    "duration": 0,
    "start_time": "2022-06-01T14:55:37.531Z"
   },
   {
    "duration": 0,
    "start_time": "2022-06-01T14:55:37.533Z"
   },
   {
    "duration": 0,
    "start_time": "2022-06-01T14:55:37.534Z"
   },
   {
    "duration": 0,
    "start_time": "2022-06-01T14:55:37.542Z"
   },
   {
    "duration": 0,
    "start_time": "2022-06-01T14:55:37.544Z"
   },
   {
    "duration": 0,
    "start_time": "2022-06-01T14:55:37.545Z"
   },
   {
    "duration": 0,
    "start_time": "2022-06-01T14:55:37.547Z"
   },
   {
    "duration": 0,
    "start_time": "2022-06-01T14:55:37.548Z"
   },
   {
    "duration": 0,
    "start_time": "2022-06-01T14:55:37.549Z"
   },
   {
    "duration": 0,
    "start_time": "2022-06-01T14:55:37.550Z"
   },
   {
    "duration": 0,
    "start_time": "2022-06-01T14:55:37.552Z"
   },
   {
    "duration": 0,
    "start_time": "2022-06-01T14:55:37.553Z"
   },
   {
    "duration": 0,
    "start_time": "2022-06-01T14:55:37.554Z"
   },
   {
    "duration": 0,
    "start_time": "2022-06-01T14:55:37.555Z"
   },
   {
    "duration": 0,
    "start_time": "2022-06-01T14:55:37.557Z"
   },
   {
    "duration": 0,
    "start_time": "2022-06-01T14:55:37.558Z"
   },
   {
    "duration": 0,
    "start_time": "2022-06-01T14:55:37.560Z"
   },
   {
    "duration": 0,
    "start_time": "2022-06-01T14:55:37.561Z"
   },
   {
    "duration": 203,
    "start_time": "2022-06-01T14:57:00.015Z"
   },
   {
    "duration": 228,
    "start_time": "2022-06-01T14:57:24.202Z"
   },
   {
    "duration": 164,
    "start_time": "2022-06-01T14:57:37.183Z"
   },
   {
    "duration": 125,
    "start_time": "2022-06-01T15:00:02.869Z"
   },
   {
    "duration": 43,
    "start_time": "2022-06-01T15:49:04.822Z"
   },
   {
    "duration": 45,
    "start_time": "2022-06-01T15:49:31.106Z"
   },
   {
    "duration": 11,
    "start_time": "2022-06-01T15:50:58.912Z"
   },
   {
    "duration": 35,
    "start_time": "2022-06-01T15:51:05.932Z"
   },
   {
    "duration": 2163,
    "start_time": "2022-06-01T15:51:22.025Z"
   },
   {
    "duration": 17,
    "start_time": "2022-06-01T15:51:24.190Z"
   },
   {
    "duration": 286,
    "start_time": "2022-06-01T15:51:24.209Z"
   },
   {
    "duration": 4,
    "start_time": "2022-06-01T15:51:24.497Z"
   },
   {
    "duration": 67,
    "start_time": "2022-06-01T15:51:24.502Z"
   },
   {
    "duration": 10,
    "start_time": "2022-06-01T15:51:24.571Z"
   },
   {
    "duration": 404,
    "start_time": "2022-06-01T15:51:24.582Z"
   },
   {
    "duration": 6,
    "start_time": "2022-06-01T15:51:24.988Z"
   },
   {
    "duration": 11,
    "start_time": "2022-06-01T15:51:24.995Z"
   },
   {
    "duration": 19,
    "start_time": "2022-06-01T15:51:25.009Z"
   },
   {
    "duration": 617,
    "start_time": "2022-06-01T15:51:25.031Z"
   },
   {
    "duration": 259,
    "start_time": "2022-06-01T15:51:25.650Z"
   },
   {
    "duration": 152,
    "start_time": "2022-06-01T15:51:25.911Z"
   },
   {
    "duration": 10,
    "start_time": "2022-06-01T15:51:26.065Z"
   },
   {
    "duration": 378,
    "start_time": "2022-06-01T15:51:26.076Z"
   },
   {
    "duration": 338,
    "start_time": "2022-06-01T15:51:26.456Z"
   },
   {
    "duration": 63,
    "start_time": "2022-06-01T15:51:26.796Z"
   },
   {
    "duration": 167,
    "start_time": "2022-06-01T15:51:26.861Z"
   },
   {
    "duration": 0,
    "start_time": "2022-06-01T15:51:27.031Z"
   },
   {
    "duration": 0,
    "start_time": "2022-06-01T15:51:27.037Z"
   },
   {
    "duration": 0,
    "start_time": "2022-06-01T15:51:27.044Z"
   },
   {
    "duration": 0,
    "start_time": "2022-06-01T15:51:27.045Z"
   },
   {
    "duration": 0,
    "start_time": "2022-06-01T15:51:27.046Z"
   },
   {
    "duration": 0,
    "start_time": "2022-06-01T15:51:27.047Z"
   },
   {
    "duration": 0,
    "start_time": "2022-06-01T15:51:27.049Z"
   },
   {
    "duration": 0,
    "start_time": "2022-06-01T15:51:27.050Z"
   },
   {
    "duration": 0,
    "start_time": "2022-06-01T15:51:27.052Z"
   },
   {
    "duration": 0,
    "start_time": "2022-06-01T15:51:27.053Z"
   },
   {
    "duration": 0,
    "start_time": "2022-06-01T15:51:27.054Z"
   },
   {
    "duration": 0,
    "start_time": "2022-06-01T15:51:27.056Z"
   },
   {
    "duration": 0,
    "start_time": "2022-06-01T15:51:27.057Z"
   },
   {
    "duration": 0,
    "start_time": "2022-06-01T15:51:27.059Z"
   },
   {
    "duration": 0,
    "start_time": "2022-06-01T15:51:27.060Z"
   },
   {
    "duration": 0,
    "start_time": "2022-06-01T15:51:27.061Z"
   },
   {
    "duration": 0,
    "start_time": "2022-06-01T15:51:27.063Z"
   },
   {
    "duration": 0,
    "start_time": "2022-06-01T15:51:27.064Z"
   },
   {
    "duration": 0,
    "start_time": "2022-06-01T15:51:27.066Z"
   },
   {
    "duration": 0,
    "start_time": "2022-06-01T15:51:27.067Z"
   },
   {
    "duration": 0,
    "start_time": "2022-06-01T15:51:27.069Z"
   },
   {
    "duration": 0,
    "start_time": "2022-06-01T15:51:27.070Z"
   },
   {
    "duration": 0,
    "start_time": "2022-06-01T15:51:27.072Z"
   },
   {
    "duration": 0,
    "start_time": "2022-06-01T15:51:27.073Z"
   },
   {
    "duration": 0,
    "start_time": "2022-06-01T15:51:27.074Z"
   },
   {
    "duration": 0,
    "start_time": "2022-06-01T15:51:27.076Z"
   },
   {
    "duration": 0,
    "start_time": "2022-06-01T15:51:27.128Z"
   },
   {
    "duration": 0,
    "start_time": "2022-06-01T15:51:27.130Z"
   },
   {
    "duration": 0,
    "start_time": "2022-06-01T15:51:27.132Z"
   },
   {
    "duration": 0,
    "start_time": "2022-06-01T15:51:27.133Z"
   },
   {
    "duration": 0,
    "start_time": "2022-06-01T15:51:27.134Z"
   },
   {
    "duration": 39,
    "start_time": "2022-06-01T15:54:04.378Z"
   },
   {
    "duration": 2135,
    "start_time": "2022-06-01T15:54:16.425Z"
   },
   {
    "duration": 19,
    "start_time": "2022-06-01T15:54:18.562Z"
   },
   {
    "duration": 294,
    "start_time": "2022-06-01T15:54:18.583Z"
   },
   {
    "duration": 3,
    "start_time": "2022-06-01T15:54:18.880Z"
   },
   {
    "duration": 68,
    "start_time": "2022-06-01T15:54:18.885Z"
   },
   {
    "duration": 11,
    "start_time": "2022-06-01T15:54:18.954Z"
   },
   {
    "duration": 391,
    "start_time": "2022-06-01T15:54:18.966Z"
   },
   {
    "duration": 5,
    "start_time": "2022-06-01T15:54:19.359Z"
   },
   {
    "duration": 5,
    "start_time": "2022-06-01T15:54:19.366Z"
   },
   {
    "duration": 5,
    "start_time": "2022-06-01T15:54:19.373Z"
   },
   {
    "duration": 604,
    "start_time": "2022-06-01T15:54:19.379Z"
   },
   {
    "duration": 201,
    "start_time": "2022-06-01T15:54:19.984Z"
   },
   {
    "duration": 150,
    "start_time": "2022-06-01T15:54:20.187Z"
   },
   {
    "duration": 12,
    "start_time": "2022-06-01T15:54:20.339Z"
   },
   {
    "duration": 342,
    "start_time": "2022-06-01T15:54:20.353Z"
   },
   {
    "duration": 290,
    "start_time": "2022-06-01T15:54:20.697Z"
   },
   {
    "duration": 63,
    "start_time": "2022-06-01T15:54:20.989Z"
   },
   {
    "duration": 48,
    "start_time": "2022-06-01T15:54:21.053Z"
   },
   {
    "duration": 6,
    "start_time": "2022-06-01T15:54:21.103Z"
   },
   {
    "duration": 533234,
    "start_time": "2022-06-01T15:54:21.111Z"
   },
   {
    "duration": 3,
    "start_time": "2022-06-01T16:03:14.347Z"
   },
   {
    "duration": 8,
    "start_time": "2022-06-01T16:03:14.352Z"
   },
   {
    "duration": 19,
    "start_time": "2022-06-01T16:03:14.362Z"
   },
   {
    "duration": 89,
    "start_time": "2022-06-01T16:03:14.382Z"
   },
   {
    "duration": 4,
    "start_time": "2022-06-01T16:03:14.473Z"
   },
   {
    "duration": 77481,
    "start_time": "2022-06-01T16:03:14.479Z"
   },
   {
    "duration": 6,
    "start_time": "2022-06-01T16:04:31.963Z"
   },
   {
    "duration": 243,
    "start_time": "2022-06-01T16:04:31.973Z"
   },
   {
    "duration": 0,
    "start_time": "2022-06-01T16:04:32.221Z"
   },
   {
    "duration": 0,
    "start_time": "2022-06-01T16:04:32.221Z"
   },
   {
    "duration": 0,
    "start_time": "2022-06-01T16:04:32.222Z"
   },
   {
    "duration": 0,
    "start_time": "2022-06-01T16:04:32.223Z"
   },
   {
    "duration": 0,
    "start_time": "2022-06-01T16:04:32.223Z"
   },
   {
    "duration": 0,
    "start_time": "2022-06-01T16:04:32.225Z"
   },
   {
    "duration": 0,
    "start_time": "2022-06-01T16:04:32.226Z"
   },
   {
    "duration": 0,
    "start_time": "2022-06-01T16:04:32.227Z"
   },
   {
    "duration": 0,
    "start_time": "2022-06-01T16:04:32.227Z"
   },
   {
    "duration": 0,
    "start_time": "2022-06-01T16:04:32.228Z"
   },
   {
    "duration": 1,
    "start_time": "2022-06-01T16:04:32.228Z"
   },
   {
    "duration": 0,
    "start_time": "2022-06-01T16:04:32.229Z"
   },
   {
    "duration": 0,
    "start_time": "2022-06-01T16:04:32.230Z"
   },
   {
    "duration": 0,
    "start_time": "2022-06-01T16:04:32.230Z"
   },
   {
    "duration": 0,
    "start_time": "2022-06-01T16:04:32.231Z"
   },
   {
    "duration": 0,
    "start_time": "2022-06-01T16:04:32.238Z"
   },
   {
    "duration": 0,
    "start_time": "2022-06-01T16:04:32.243Z"
   },
   {
    "duration": 0,
    "start_time": "2022-06-01T16:04:32.245Z"
   },
   {
    "duration": 0,
    "start_time": "2022-06-01T16:04:32.247Z"
   },
   {
    "duration": 0,
    "start_time": "2022-06-01T16:04:32.250Z"
   },
   {
    "duration": 0,
    "start_time": "2022-06-01T16:04:32.260Z"
   },
   {
    "duration": 2000,
    "start_time": "2022-06-01T16:05:38.225Z"
   },
   {
    "duration": 25,
    "start_time": "2022-06-01T16:05:40.227Z"
   },
   {
    "duration": 286,
    "start_time": "2022-06-01T16:05:40.254Z"
   },
   {
    "duration": 4,
    "start_time": "2022-06-01T16:05:40.543Z"
   },
   {
    "duration": 43,
    "start_time": "2022-06-01T16:05:40.549Z"
   },
   {
    "duration": 10,
    "start_time": "2022-06-01T16:05:40.594Z"
   },
   {
    "duration": 387,
    "start_time": "2022-06-01T16:05:40.605Z"
   },
   {
    "duration": 6,
    "start_time": "2022-06-01T16:05:40.993Z"
   },
   {
    "duration": 4,
    "start_time": "2022-06-01T16:05:41.000Z"
   },
   {
    "duration": 4,
    "start_time": "2022-06-01T16:05:41.007Z"
   },
   {
    "duration": 588,
    "start_time": "2022-06-01T16:05:41.013Z"
   },
   {
    "duration": 250,
    "start_time": "2022-06-01T16:05:41.603Z"
   },
   {
    "duration": 144,
    "start_time": "2022-06-01T16:05:41.855Z"
   },
   {
    "duration": 9,
    "start_time": "2022-06-01T16:05:42.001Z"
   },
   {
    "duration": 347,
    "start_time": "2022-06-01T16:05:42.012Z"
   },
   {
    "duration": 333,
    "start_time": "2022-06-01T16:05:42.360Z"
   },
   {
    "duration": 6,
    "start_time": "2022-06-01T16:05:42.694Z"
   },
   {
    "duration": 61,
    "start_time": "2022-06-01T16:05:42.701Z"
   },
   {
    "duration": 136,
    "start_time": "2022-06-01T16:05:42.763Z"
   },
   {
    "duration": 0,
    "start_time": "2022-06-01T16:05:42.901Z"
   },
   {
    "duration": 0,
    "start_time": "2022-06-01T16:05:42.902Z"
   },
   {
    "duration": 0,
    "start_time": "2022-06-01T16:05:42.904Z"
   },
   {
    "duration": 0,
    "start_time": "2022-06-01T16:05:42.905Z"
   },
   {
    "duration": 0,
    "start_time": "2022-06-01T16:05:42.906Z"
   },
   {
    "duration": 0,
    "start_time": "2022-06-01T16:05:42.906Z"
   },
   {
    "duration": 0,
    "start_time": "2022-06-01T16:05:42.907Z"
   },
   {
    "duration": 0,
    "start_time": "2022-06-01T16:05:42.908Z"
   },
   {
    "duration": 0,
    "start_time": "2022-06-01T16:05:42.926Z"
   },
   {
    "duration": 0,
    "start_time": "2022-06-01T16:05:42.928Z"
   },
   {
    "duration": 0,
    "start_time": "2022-06-01T16:05:42.929Z"
   },
   {
    "duration": 0,
    "start_time": "2022-06-01T16:05:42.932Z"
   },
   {
    "duration": 0,
    "start_time": "2022-06-01T16:05:42.933Z"
   },
   {
    "duration": 0,
    "start_time": "2022-06-01T16:05:42.934Z"
   },
   {
    "duration": 0,
    "start_time": "2022-06-01T16:05:42.935Z"
   },
   {
    "duration": 1,
    "start_time": "2022-06-01T16:05:42.936Z"
   },
   {
    "duration": 0,
    "start_time": "2022-06-01T16:05:42.938Z"
   },
   {
    "duration": 0,
    "start_time": "2022-06-01T16:05:42.939Z"
   },
   {
    "duration": 0,
    "start_time": "2022-06-01T16:05:42.940Z"
   },
   {
    "duration": 0,
    "start_time": "2022-06-01T16:05:42.941Z"
   },
   {
    "duration": 0,
    "start_time": "2022-06-01T16:05:42.942Z"
   },
   {
    "duration": 0,
    "start_time": "2022-06-01T16:05:42.943Z"
   },
   {
    "duration": 0,
    "start_time": "2022-06-01T16:05:42.945Z"
   },
   {
    "duration": 0,
    "start_time": "2022-06-01T16:05:42.946Z"
   },
   {
    "duration": 0,
    "start_time": "2022-06-01T16:05:42.947Z"
   },
   {
    "duration": 0,
    "start_time": "2022-06-01T16:05:42.948Z"
   },
   {
    "duration": 0,
    "start_time": "2022-06-01T16:05:42.949Z"
   },
   {
    "duration": 0,
    "start_time": "2022-06-01T16:05:42.950Z"
   },
   {
    "duration": 0,
    "start_time": "2022-06-01T16:05:42.951Z"
   },
   {
    "duration": 0,
    "start_time": "2022-06-01T16:05:42.952Z"
   },
   {
    "duration": 0,
    "start_time": "2022-06-01T16:05:42.953Z"
   },
   {
    "duration": 30,
    "start_time": "2022-06-01T16:07:21.516Z"
   },
   {
    "duration": 11,
    "start_time": "2022-06-01T16:08:16.820Z"
   },
   {
    "duration": 42,
    "start_time": "2022-06-01T16:12:12.279Z"
   },
   {
    "duration": 1989,
    "start_time": "2022-06-01T16:12:25.120Z"
   },
   {
    "duration": 24,
    "start_time": "2022-06-01T16:12:27.111Z"
   },
   {
    "duration": 263,
    "start_time": "2022-06-01T16:12:27.137Z"
   },
   {
    "duration": 3,
    "start_time": "2022-06-01T16:12:27.402Z"
   },
   {
    "duration": 58,
    "start_time": "2022-06-01T16:12:27.407Z"
   },
   {
    "duration": 12,
    "start_time": "2022-06-01T16:12:27.466Z"
   },
   {
    "duration": 358,
    "start_time": "2022-06-01T16:12:27.480Z"
   },
   {
    "duration": 9,
    "start_time": "2022-06-01T16:12:27.840Z"
   },
   {
    "duration": 17,
    "start_time": "2022-06-01T16:12:27.851Z"
   },
   {
    "duration": 20,
    "start_time": "2022-06-01T16:12:27.871Z"
   },
   {
    "duration": 571,
    "start_time": "2022-06-01T16:12:27.892Z"
   },
   {
    "duration": 204,
    "start_time": "2022-06-01T16:12:28.464Z"
   },
   {
    "duration": 140,
    "start_time": "2022-06-01T16:12:28.670Z"
   },
   {
    "duration": 15,
    "start_time": "2022-06-01T16:12:28.812Z"
   },
   {
    "duration": 335,
    "start_time": "2022-06-01T16:12:28.829Z"
   },
   {
    "duration": 309,
    "start_time": "2022-06-01T16:12:29.166Z"
   },
   {
    "duration": 8,
    "start_time": "2022-06-01T16:12:29.477Z"
   },
   {
    "duration": 67,
    "start_time": "2022-06-01T16:12:29.487Z"
   },
   {
    "duration": 19,
    "start_time": "2022-06-01T16:12:29.557Z"
   },
   {
    "duration": 59,
    "start_time": "2022-06-01T16:12:29.579Z"
   },
   {
    "duration": 5,
    "start_time": "2022-06-01T16:12:29.639Z"
   },
   {
    "duration": 504718,
    "start_time": "2022-06-01T16:12:29.645Z"
   },
   {
    "duration": 3,
    "start_time": "2022-06-01T16:20:54.364Z"
   },
   {
    "duration": 8,
    "start_time": "2022-06-01T16:20:54.368Z"
   },
   {
    "duration": 8,
    "start_time": "2022-06-01T16:20:54.377Z"
   },
   {
    "duration": 68,
    "start_time": "2022-06-01T16:20:54.387Z"
   },
   {
    "duration": 4,
    "start_time": "2022-06-01T16:20:54.457Z"
   },
   {
    "duration": 73542,
    "start_time": "2022-06-01T16:20:54.465Z"
   },
   {
    "duration": 4,
    "start_time": "2022-06-01T16:22:08.009Z"
   },
   {
    "duration": 75,
    "start_time": "2022-06-01T16:22:08.015Z"
   },
   {
    "duration": 6,
    "start_time": "2022-06-01T16:22:08.091Z"
   },
   {
    "duration": 45891,
    "start_time": "2022-06-01T16:22:08.099Z"
   },
   {
    "duration": 80,
    "start_time": "2022-06-01T16:22:53.993Z"
   },
   {
    "duration": 8,
    "start_time": "2022-06-01T16:22:54.075Z"
   },
   {
    "duration": 72,
    "start_time": "2022-06-01T16:22:54.085Z"
   },
   {
    "duration": 6,
    "start_time": "2022-06-01T16:22:54.159Z"
   },
   {
    "duration": 69,
    "start_time": "2022-06-01T16:22:54.167Z"
   },
   {
    "duration": 1198,
    "start_time": "2022-06-01T16:22:54.239Z"
   },
   {
    "duration": 80,
    "start_time": "2022-06-01T16:22:55.448Z"
   },
   {
    "duration": 9,
    "start_time": "2022-06-01T16:22:55.530Z"
   },
   {
    "duration": 185,
    "start_time": "2022-06-01T16:22:55.545Z"
   },
   {
    "duration": 34,
    "start_time": "2022-06-01T16:22:55.733Z"
   },
   {
    "duration": 61,
    "start_time": "2022-06-01T16:22:55.769Z"
   },
   {
    "duration": 608,
    "start_time": "2022-06-01T16:22:55.836Z"
   },
   {
    "duration": 94,
    "start_time": "2022-06-01T16:22:56.533Z"
   },
   {
    "duration": 6,
    "start_time": "2022-06-01T16:22:56.634Z"
   },
   {
    "duration": 10482,
    "start_time": "2022-06-01T16:22:56.642Z"
   },
   {
    "duration": 37946,
    "start_time": "2022-06-01T16:23:07.128Z"
   },
   {
    "duration": 5,
    "start_time": "2022-06-01T16:23:45.076Z"
   },
   {
    "duration": 16,
    "start_time": "2022-06-01T16:23:45.083Z"
   },
   {
    "duration": 14,
    "start_time": "2022-06-01T16:23:45.100Z"
   },
   {
    "duration": 119,
    "start_time": "2022-06-01T16:25:02.155Z"
   },
   {
    "duration": 15,
    "start_time": "2022-06-01T16:26:24.555Z"
   },
   {
    "duration": 38,
    "start_time": "2022-06-01T16:26:26.357Z"
   },
   {
    "duration": 31,
    "start_time": "2022-06-01T16:26:58.961Z"
   },
   {
    "duration": 13,
    "start_time": "2022-06-01T16:28:16.514Z"
   },
   {
    "duration": 2101,
    "start_time": "2022-06-01T16:29:06.102Z"
   },
   {
    "duration": 22,
    "start_time": "2022-06-01T16:29:08.205Z"
   },
   {
    "duration": 266,
    "start_time": "2022-06-01T16:29:08.228Z"
   },
   {
    "duration": 4,
    "start_time": "2022-06-01T16:29:08.496Z"
   },
   {
    "duration": 10,
    "start_time": "2022-06-01T16:29:08.503Z"
   },
   {
    "duration": 0,
    "start_time": "2022-06-01T16:29:08.527Z"
   },
   {
    "duration": 0,
    "start_time": "2022-06-01T16:29:08.528Z"
   },
   {
    "duration": 0,
    "start_time": "2022-06-01T16:29:08.530Z"
   },
   {
    "duration": 0,
    "start_time": "2022-06-01T16:29:08.531Z"
   },
   {
    "duration": 0,
    "start_time": "2022-06-01T16:29:08.533Z"
   },
   {
    "duration": 0,
    "start_time": "2022-06-01T16:29:08.535Z"
   },
   {
    "duration": 0,
    "start_time": "2022-06-01T16:29:08.536Z"
   },
   {
    "duration": 0,
    "start_time": "2022-06-01T16:29:08.537Z"
   },
   {
    "duration": 0,
    "start_time": "2022-06-01T16:29:08.540Z"
   },
   {
    "duration": 0,
    "start_time": "2022-06-01T16:29:08.541Z"
   },
   {
    "duration": 0,
    "start_time": "2022-06-01T16:29:08.543Z"
   },
   {
    "duration": 0,
    "start_time": "2022-06-01T16:29:08.545Z"
   },
   {
    "duration": 0,
    "start_time": "2022-06-01T16:29:08.547Z"
   },
   {
    "duration": 0,
    "start_time": "2022-06-01T16:29:08.548Z"
   },
   {
    "duration": 0,
    "start_time": "2022-06-01T16:29:08.550Z"
   },
   {
    "duration": 0,
    "start_time": "2022-06-01T16:29:08.551Z"
   },
   {
    "duration": 0,
    "start_time": "2022-06-01T16:29:08.552Z"
   },
   {
    "duration": 0,
    "start_time": "2022-06-01T16:29:08.554Z"
   },
   {
    "duration": 0,
    "start_time": "2022-06-01T16:29:08.555Z"
   },
   {
    "duration": 0,
    "start_time": "2022-06-01T16:29:08.556Z"
   },
   {
    "duration": 0,
    "start_time": "2022-06-01T16:29:08.557Z"
   },
   {
    "duration": 0,
    "start_time": "2022-06-01T16:29:08.558Z"
   },
   {
    "duration": 0,
    "start_time": "2022-06-01T16:29:08.560Z"
   },
   {
    "duration": 0,
    "start_time": "2022-06-01T16:29:08.561Z"
   },
   {
    "duration": 0,
    "start_time": "2022-06-01T16:29:08.563Z"
   },
   {
    "duration": 0,
    "start_time": "2022-06-01T16:29:08.564Z"
   },
   {
    "duration": 0,
    "start_time": "2022-06-01T16:29:08.565Z"
   },
   {
    "duration": 0,
    "start_time": "2022-06-01T16:29:08.566Z"
   },
   {
    "duration": 0,
    "start_time": "2022-06-01T16:29:08.630Z"
   },
   {
    "duration": 0,
    "start_time": "2022-06-01T16:29:08.631Z"
   },
   {
    "duration": 0,
    "start_time": "2022-06-01T16:29:08.632Z"
   },
   {
    "duration": 0,
    "start_time": "2022-06-01T16:29:08.633Z"
   },
   {
    "duration": 0,
    "start_time": "2022-06-01T16:29:08.634Z"
   },
   {
    "duration": 0,
    "start_time": "2022-06-01T16:29:08.636Z"
   },
   {
    "duration": 0,
    "start_time": "2022-06-01T16:29:08.637Z"
   },
   {
    "duration": 0,
    "start_time": "2022-06-01T16:29:08.638Z"
   },
   {
    "duration": 0,
    "start_time": "2022-06-01T16:29:08.640Z"
   },
   {
    "duration": 0,
    "start_time": "2022-06-01T16:29:08.641Z"
   },
   {
    "duration": 0,
    "start_time": "2022-06-01T16:29:08.642Z"
   },
   {
    "duration": 0,
    "start_time": "2022-06-01T16:29:08.643Z"
   },
   {
    "duration": 0,
    "start_time": "2022-06-01T16:29:08.644Z"
   },
   {
    "duration": 0,
    "start_time": "2022-06-01T16:29:08.645Z"
   },
   {
    "duration": 0,
    "start_time": "2022-06-01T16:29:08.647Z"
   },
   {
    "duration": 0,
    "start_time": "2022-06-01T16:29:08.649Z"
   },
   {
    "duration": 0,
    "start_time": "2022-06-01T16:29:08.651Z"
   },
   {
    "duration": 0,
    "start_time": "2022-06-01T16:29:08.652Z"
   },
   {
    "duration": 2188,
    "start_time": "2022-06-01T16:30:00.679Z"
   },
   {
    "duration": 15,
    "start_time": "2022-06-01T16:30:02.869Z"
   },
   {
    "duration": 292,
    "start_time": "2022-06-01T16:30:02.886Z"
   },
   {
    "duration": 4,
    "start_time": "2022-06-01T16:30:03.180Z"
   },
   {
    "duration": 63,
    "start_time": "2022-06-01T16:30:03.185Z"
   },
   {
    "duration": 113,
    "start_time": "2022-06-01T16:30:03.250Z"
   },
   {
    "duration": 0,
    "start_time": "2022-06-01T16:30:03.366Z"
   },
   {
    "duration": 0,
    "start_time": "2022-06-01T16:30:03.367Z"
   },
   {
    "duration": 1,
    "start_time": "2022-06-01T16:30:03.368Z"
   },
   {
    "duration": 0,
    "start_time": "2022-06-01T16:30:03.370Z"
   },
   {
    "duration": 0,
    "start_time": "2022-06-01T16:30:03.371Z"
   },
   {
    "duration": 0,
    "start_time": "2022-06-01T16:30:03.373Z"
   },
   {
    "duration": 0,
    "start_time": "2022-06-01T16:30:03.374Z"
   },
   {
    "duration": 0,
    "start_time": "2022-06-01T16:30:03.375Z"
   },
   {
    "duration": 0,
    "start_time": "2022-06-01T16:30:03.377Z"
   },
   {
    "duration": 0,
    "start_time": "2022-06-01T16:30:03.378Z"
   },
   {
    "duration": 0,
    "start_time": "2022-06-01T16:30:03.379Z"
   },
   {
    "duration": 0,
    "start_time": "2022-06-01T16:30:03.381Z"
   },
   {
    "duration": 0,
    "start_time": "2022-06-01T16:30:03.382Z"
   },
   {
    "duration": 0,
    "start_time": "2022-06-01T16:30:03.384Z"
   },
   {
    "duration": 0,
    "start_time": "2022-06-01T16:30:03.385Z"
   },
   {
    "duration": 0,
    "start_time": "2022-06-01T16:30:03.386Z"
   },
   {
    "duration": 0,
    "start_time": "2022-06-01T16:30:03.387Z"
   },
   {
    "duration": 0,
    "start_time": "2022-06-01T16:30:03.388Z"
   },
   {
    "duration": 0,
    "start_time": "2022-06-01T16:30:03.390Z"
   },
   {
    "duration": 0,
    "start_time": "2022-06-01T16:30:03.427Z"
   },
   {
    "duration": 0,
    "start_time": "2022-06-01T16:30:03.429Z"
   },
   {
    "duration": 0,
    "start_time": "2022-06-01T16:30:03.430Z"
   },
   {
    "duration": 0,
    "start_time": "2022-06-01T16:30:03.432Z"
   },
   {
    "duration": 0,
    "start_time": "2022-06-01T16:30:03.433Z"
   },
   {
    "duration": 0,
    "start_time": "2022-06-01T16:30:03.435Z"
   },
   {
    "duration": 0,
    "start_time": "2022-06-01T16:30:03.437Z"
   },
   {
    "duration": 0,
    "start_time": "2022-06-01T16:30:03.438Z"
   },
   {
    "duration": 0,
    "start_time": "2022-06-01T16:30:03.439Z"
   },
   {
    "duration": 0,
    "start_time": "2022-06-01T16:30:03.441Z"
   },
   {
    "duration": 0,
    "start_time": "2022-06-01T16:30:03.443Z"
   },
   {
    "duration": 0,
    "start_time": "2022-06-01T16:30:03.444Z"
   },
   {
    "duration": 0,
    "start_time": "2022-06-01T16:30:03.445Z"
   },
   {
    "duration": 0,
    "start_time": "2022-06-01T16:30:03.446Z"
   },
   {
    "duration": 0,
    "start_time": "2022-06-01T16:30:03.448Z"
   },
   {
    "duration": 0,
    "start_time": "2022-06-01T16:30:03.449Z"
   },
   {
    "duration": 0,
    "start_time": "2022-06-01T16:30:03.450Z"
   },
   {
    "duration": 1,
    "start_time": "2022-06-01T16:30:03.451Z"
   },
   {
    "duration": 0,
    "start_time": "2022-06-01T16:30:03.453Z"
   },
   {
    "duration": 0,
    "start_time": "2022-06-01T16:30:03.454Z"
   },
   {
    "duration": 0,
    "start_time": "2022-06-01T16:30:03.455Z"
   },
   {
    "duration": 0,
    "start_time": "2022-06-01T16:30:03.457Z"
   },
   {
    "duration": 0,
    "start_time": "2022-06-01T16:30:03.458Z"
   },
   {
    "duration": 0,
    "start_time": "2022-06-01T16:30:03.460Z"
   },
   {
    "duration": 0,
    "start_time": "2022-06-01T16:30:03.461Z"
   },
   {
    "duration": 0,
    "start_time": "2022-06-01T16:30:03.527Z"
   },
   {
    "duration": 2010,
    "start_time": "2022-06-01T16:30:42.603Z"
   },
   {
    "duration": 28,
    "start_time": "2022-06-01T16:30:44.615Z"
   },
   {
    "duration": 280,
    "start_time": "2022-06-01T16:30:44.645Z"
   },
   {
    "duration": 4,
    "start_time": "2022-06-01T16:30:44.926Z"
   },
   {
    "duration": 6,
    "start_time": "2022-06-01T16:30:44.932Z"
   },
   {
    "duration": 368,
    "start_time": "2022-06-01T16:30:44.940Z"
   },
   {
    "duration": 7,
    "start_time": "2022-06-01T16:30:45.309Z"
   },
   {
    "duration": 4,
    "start_time": "2022-06-01T16:30:45.327Z"
   },
   {
    "duration": 9,
    "start_time": "2022-06-01T16:30:45.333Z"
   },
   {
    "duration": 619,
    "start_time": "2022-06-01T16:30:45.345Z"
   },
   {
    "duration": 210,
    "start_time": "2022-06-01T16:30:45.966Z"
   },
   {
    "duration": 165,
    "start_time": "2022-06-01T16:30:46.179Z"
   },
   {
    "duration": 13,
    "start_time": "2022-06-01T16:30:46.345Z"
   },
   {
    "duration": 351,
    "start_time": "2022-06-01T16:30:46.360Z"
   },
   {
    "duration": 286,
    "start_time": "2022-06-01T16:30:46.713Z"
   },
   {
    "duration": 24,
    "start_time": "2022-06-01T16:30:47.002Z"
   },
   {
    "duration": 54,
    "start_time": "2022-06-01T16:30:47.028Z"
   },
   {
    "duration": 57,
    "start_time": "2022-06-01T16:30:47.085Z"
   },
   {
    "duration": 81,
    "start_time": "2022-06-01T16:30:47.145Z"
   },
   {
    "duration": 4,
    "start_time": "2022-06-01T16:30:47.228Z"
   },
   {
    "duration": 509328,
    "start_time": "2022-06-01T16:30:47.234Z"
   },
   {
    "duration": 3,
    "start_time": "2022-06-01T16:39:16.564Z"
   },
   {
    "duration": 6,
    "start_time": "2022-06-01T16:39:16.569Z"
   },
   {
    "duration": 7,
    "start_time": "2022-06-01T16:39:16.577Z"
   },
   {
    "duration": 94,
    "start_time": "2022-06-01T16:39:16.586Z"
   },
   {
    "duration": 5,
    "start_time": "2022-06-01T16:39:16.682Z"
   },
   {
    "duration": 72376,
    "start_time": "2022-06-01T16:39:16.689Z"
   },
   {
    "duration": 3,
    "start_time": "2022-06-01T16:40:29.069Z"
   },
   {
    "duration": 59,
    "start_time": "2022-06-01T16:40:29.074Z"
   },
   {
    "duration": 5,
    "start_time": "2022-06-01T16:40:29.134Z"
   },
   {
    "duration": 43917,
    "start_time": "2022-06-01T16:40:29.141Z"
   },
   {
    "duration": 70,
    "start_time": "2022-06-01T16:41:13.059Z"
   },
   {
    "duration": 6,
    "start_time": "2022-06-01T16:41:13.130Z"
   },
   {
    "duration": 57,
    "start_time": "2022-06-01T16:41:13.137Z"
   },
   {
    "duration": 5,
    "start_time": "2022-06-01T16:41:13.196Z"
   },
   {
    "duration": 35,
    "start_time": "2022-06-01T16:41:13.202Z"
   },
   {
    "duration": 1096,
    "start_time": "2022-06-01T16:41:13.239Z"
   },
   {
    "duration": 4,
    "start_time": "2022-06-01T16:41:14.427Z"
   },
   {
    "duration": 24,
    "start_time": "2022-06-01T16:41:14.433Z"
   },
   {
    "duration": 103,
    "start_time": "2022-06-01T16:41:14.528Z"
   },
   {
    "duration": 10,
    "start_time": "2022-06-01T16:41:14.633Z"
   },
   {
    "duration": 187,
    "start_time": "2022-06-01T16:41:14.645Z"
   },
   {
    "duration": 293,
    "start_time": "2022-06-01T16:41:14.835Z"
   },
   {
    "duration": 6,
    "start_time": "2022-06-01T16:41:15.130Z"
   },
   {
    "duration": 93,
    "start_time": "2022-06-01T16:41:15.139Z"
   },
   {
    "duration": 9915,
    "start_time": "2022-06-01T16:41:15.234Z"
   },
   {
    "duration": 37503,
    "start_time": "2022-06-01T16:41:25.151Z"
   },
   {
    "duration": 5,
    "start_time": "2022-06-01T16:42:02.656Z"
   },
   {
    "duration": 15,
    "start_time": "2022-06-01T16:42:02.662Z"
   },
   {
    "duration": 28,
    "start_time": "2022-06-01T16:42:02.679Z"
   },
   {
    "duration": 118,
    "start_time": "2022-06-01T16:42:02.708Z"
   },
   {
    "duration": 6,
    "start_time": "2022-06-01T16:42:57.019Z"
   },
   {
    "duration": 12,
    "start_time": "2022-06-01T16:43:18.691Z"
   },
   {
    "duration": 22,
    "start_time": "2022-06-01T16:43:42.552Z"
   },
   {
    "duration": 323,
    "start_time": "2022-06-01T16:45:19.320Z"
   },
   {
    "duration": 185,
    "start_time": "2022-06-01T16:45:38.368Z"
   },
   {
    "duration": 42,
    "start_time": "2022-06-01T16:46:20.252Z"
   },
   {
    "duration": 214,
    "start_time": "2022-06-01T16:46:33.091Z"
   },
   {
    "duration": 2049,
    "start_time": "2022-06-01T16:48:31.351Z"
   },
   {
    "duration": 13,
    "start_time": "2022-06-01T16:48:33.403Z"
   },
   {
    "duration": 268,
    "start_time": "2022-06-01T16:48:33.418Z"
   },
   {
    "duration": 3,
    "start_time": "2022-06-01T16:48:33.689Z"
   },
   {
    "duration": 5,
    "start_time": "2022-06-01T16:48:33.694Z"
   },
   {
    "duration": 359,
    "start_time": "2022-06-01T16:48:33.701Z"
   },
   {
    "duration": 6,
    "start_time": "2022-06-01T16:48:34.061Z"
   },
   {
    "duration": 4,
    "start_time": "2022-06-01T16:48:34.069Z"
   },
   {
    "duration": 6,
    "start_time": "2022-06-01T16:48:34.074Z"
   },
   {
    "duration": 554,
    "start_time": "2022-06-01T16:48:34.084Z"
   },
   {
    "duration": 196,
    "start_time": "2022-06-01T16:48:34.640Z"
   },
   {
    "duration": 119,
    "start_time": "2022-06-01T16:48:34.842Z"
   },
   {
    "duration": 11,
    "start_time": "2022-06-01T16:48:34.963Z"
   },
   {
    "duration": 392,
    "start_time": "2022-06-01T16:48:34.975Z"
   },
   {
    "duration": 330,
    "start_time": "2022-06-01T16:48:35.369Z"
   },
   {
    "duration": 37,
    "start_time": "2022-06-01T16:48:35.700Z"
   },
   {
    "duration": 48,
    "start_time": "2022-06-01T16:48:35.739Z"
   },
   {
    "duration": 117,
    "start_time": "2022-06-01T16:48:35.789Z"
   },
   {
    "duration": 34,
    "start_time": "2022-06-01T16:48:35.908Z"
   },
   {
    "duration": 50,
    "start_time": "2022-06-01T16:48:35.944Z"
   },
   {
    "duration": 3,
    "start_time": "2022-06-01T16:48:35.996Z"
   },
   {
    "duration": 514456,
    "start_time": "2022-06-01T16:48:36.001Z"
   },
   {
    "duration": 2,
    "start_time": "2022-06-01T16:57:10.459Z"
   },
   {
    "duration": 5,
    "start_time": "2022-06-01T16:57:10.463Z"
   },
   {
    "duration": 5,
    "start_time": "2022-06-01T16:57:10.469Z"
   },
   {
    "duration": 68,
    "start_time": "2022-06-01T16:57:10.476Z"
   },
   {
    "duration": 5,
    "start_time": "2022-06-01T16:57:10.545Z"
   },
   {
    "duration": 71181,
    "start_time": "2022-06-01T16:57:10.553Z"
   },
   {
    "duration": 5,
    "start_time": "2022-06-01T16:58:21.740Z"
   },
   {
    "duration": 51,
    "start_time": "2022-06-01T16:58:21.747Z"
   },
   {
    "duration": 4,
    "start_time": "2022-06-01T16:58:21.800Z"
   },
   {
    "duration": 43943,
    "start_time": "2022-06-01T16:58:21.806Z"
   },
   {
    "duration": 65,
    "start_time": "2022-06-01T16:59:05.751Z"
   },
   {
    "duration": 10,
    "start_time": "2022-06-01T16:59:05.827Z"
   },
   {
    "duration": 75,
    "start_time": "2022-06-01T16:59:05.841Z"
   },
   {
    "duration": 5,
    "start_time": "2022-06-01T16:59:05.918Z"
   },
   {
    "duration": 44,
    "start_time": "2022-06-01T16:59:05.924Z"
   },
   {
    "duration": 967,
    "start_time": "2022-06-01T16:59:05.970Z"
   },
   {
    "duration": 8,
    "start_time": "2022-06-01T16:59:06.941Z"
   },
   {
    "duration": 37,
    "start_time": "2022-06-01T16:59:07.026Z"
   },
   {
    "duration": 68,
    "start_time": "2022-06-01T16:59:07.065Z"
   },
   {
    "duration": 117,
    "start_time": "2022-06-01T16:59:07.137Z"
   },
   {
    "duration": 183,
    "start_time": "2022-06-01T16:59:07.261Z"
   },
   {
    "duration": 184,
    "start_time": "2022-06-01T16:59:07.446Z"
   },
   {
    "duration": 113,
    "start_time": "2022-06-01T16:59:07.634Z"
   },
   {
    "duration": 19,
    "start_time": "2022-06-01T16:59:07.749Z"
   },
   {
    "duration": 9703,
    "start_time": "2022-06-01T16:59:07.770Z"
   },
   {
    "duration": 37601,
    "start_time": "2022-06-01T16:59:17.475Z"
   },
   {
    "duration": 4,
    "start_time": "2022-06-01T16:59:55.077Z"
   },
   {
    "duration": 10,
    "start_time": "2022-06-01T16:59:55.083Z"
   },
   {
    "duration": 9,
    "start_time": "2022-06-01T16:59:55.095Z"
   },
   {
    "duration": 22,
    "start_time": "2022-06-01T17:08:55.095Z"
   },
   {
    "duration": 35,
    "start_time": "2022-06-01T17:11:34.372Z"
   },
   {
    "duration": 115,
    "start_time": "2022-06-01T17:11:44.190Z"
   },
   {
    "duration": 21,
    "start_time": "2022-06-01T17:11:47.688Z"
   },
   {
    "duration": 156,
    "start_time": "2022-06-01T17:14:44.175Z"
   },
   {
    "duration": 20,
    "start_time": "2022-06-01T17:14:51.071Z"
   },
   {
    "duration": 38,
    "start_time": "2022-06-01T17:14:55.577Z"
   },
   {
    "duration": 22,
    "start_time": "2022-06-01T17:15:04.177Z"
   },
   {
    "duration": 10,
    "start_time": "2022-06-01T17:15:44.527Z"
   },
   {
    "duration": 9,
    "start_time": "2022-06-01T17:20:41.181Z"
   },
   {
    "duration": 12,
    "start_time": "2022-06-01T17:21:22.859Z"
   },
   {
    "duration": 9,
    "start_time": "2022-06-01T17:21:25.217Z"
   },
   {
    "duration": 14,
    "start_time": "2022-06-01T17:21:46.309Z"
   },
   {
    "duration": 1943,
    "start_time": "2022-06-01T17:22:19.422Z"
   },
   {
    "duration": 14,
    "start_time": "2022-06-01T17:22:21.367Z"
   },
   {
    "duration": 305,
    "start_time": "2022-06-01T17:22:21.382Z"
   },
   {
    "duration": 3,
    "start_time": "2022-06-01T17:22:21.690Z"
   },
   {
    "duration": 11,
    "start_time": "2022-06-01T17:22:21.695Z"
   },
   {
    "duration": 355,
    "start_time": "2022-06-01T17:22:21.708Z"
   },
   {
    "duration": 5,
    "start_time": "2022-06-01T17:22:22.065Z"
   },
   {
    "duration": 11,
    "start_time": "2022-06-01T17:22:22.071Z"
   },
   {
    "duration": 8,
    "start_time": "2022-06-01T17:22:22.083Z"
   },
   {
    "duration": 519,
    "start_time": "2022-06-01T17:22:22.093Z"
   },
   {
    "duration": 192,
    "start_time": "2022-06-01T17:22:22.614Z"
   },
   {
    "duration": 135,
    "start_time": "2022-06-01T17:22:22.807Z"
   },
   {
    "duration": 10,
    "start_time": "2022-06-01T17:22:22.944Z"
   },
   {
    "duration": 334,
    "start_time": "2022-06-01T17:22:22.955Z"
   },
   {
    "duration": 286,
    "start_time": "2022-06-01T17:22:23.291Z"
   },
   {
    "duration": 21,
    "start_time": "2022-06-01T17:22:23.579Z"
   },
   {
    "duration": 25,
    "start_time": "2022-06-01T17:22:23.602Z"
   },
   {
    "duration": 16,
    "start_time": "2022-06-01T17:22:23.629Z"
   },
   {
    "duration": 14,
    "start_time": "2022-06-01T17:22:23.646Z"
   },
   {
    "duration": 69,
    "start_time": "2022-06-01T17:22:23.662Z"
   },
   {
    "duration": 4,
    "start_time": "2022-06-01T17:22:23.733Z"
   },
   {
    "duration": 447540,
    "start_time": "2022-06-01T17:22:23.739Z"
   },
   {
    "duration": 3,
    "start_time": "2022-06-01T17:29:51.280Z"
   },
   {
    "duration": 5,
    "start_time": "2022-06-01T17:29:51.285Z"
   },
   {
    "duration": 6,
    "start_time": "2022-06-01T17:29:51.292Z"
   },
   {
    "duration": 75,
    "start_time": "2022-06-01T17:29:51.300Z"
   },
   {
    "duration": 4,
    "start_time": "2022-06-01T17:29:51.378Z"
   },
   {
    "duration": 63326,
    "start_time": "2022-06-01T17:29:51.386Z"
   },
   {
    "duration": 4,
    "start_time": "2022-06-01T17:30:54.713Z"
   },
   {
    "duration": 51,
    "start_time": "2022-06-01T17:30:54.718Z"
   },
   {
    "duration": 5,
    "start_time": "2022-06-01T17:30:54.771Z"
   },
   {
    "duration": 36769,
    "start_time": "2022-06-01T17:30:54.777Z"
   },
   {
    "duration": 86,
    "start_time": "2022-06-01T17:31:31.548Z"
   },
   {
    "duration": 6,
    "start_time": "2022-06-01T17:31:31.636Z"
   },
   {
    "duration": 82,
    "start_time": "2022-06-01T17:31:31.644Z"
   },
   {
    "duration": 5,
    "start_time": "2022-06-01T17:31:31.727Z"
   },
   {
    "duration": 27,
    "start_time": "2022-06-01T17:31:31.734Z"
   },
   {
    "duration": 572,
    "start_time": "2022-06-01T17:31:31.763Z"
   },
   {
    "duration": 4,
    "start_time": "2022-06-01T17:31:32.428Z"
   },
   {
    "duration": 109,
    "start_time": "2022-06-01T17:31:32.435Z"
   },
   {
    "duration": 187,
    "start_time": "2022-06-01T17:31:32.546Z"
   },
   {
    "duration": 14,
    "start_time": "2022-06-01T17:31:32.734Z"
   },
   {
    "duration": 81,
    "start_time": "2022-06-01T17:31:32.750Z"
   },
   {
    "duration": 198,
    "start_time": "2022-06-01T17:31:32.833Z"
   },
   {
    "duration": 7,
    "start_time": "2022-06-01T17:31:33.126Z"
   },
   {
    "duration": 93,
    "start_time": "2022-06-01T17:31:33.136Z"
   },
   {
    "duration": 8461,
    "start_time": "2022-06-01T17:31:33.231Z"
   },
   {
    "duration": 34689,
    "start_time": "2022-06-01T17:31:41.694Z"
   },
   {
    "duration": 4,
    "start_time": "2022-06-01T17:32:16.385Z"
   },
   {
    "duration": 8,
    "start_time": "2022-06-01T17:32:16.391Z"
   },
   {
    "duration": 6,
    "start_time": "2022-06-01T17:32:16.401Z"
   },
   {
    "duration": 71,
    "start_time": "2022-06-01T17:36:06.773Z"
   },
   {
    "duration": 131,
    "start_time": "2022-06-01T17:36:16.522Z"
   },
   {
    "duration": 39,
    "start_time": "2022-06-01T17:36:32.088Z"
   },
   {
    "duration": 1941,
    "start_time": "2022-06-01T17:37:03.055Z"
   },
   {
    "duration": 14,
    "start_time": "2022-06-01T17:37:04.998Z"
   },
   {
    "duration": 274,
    "start_time": "2022-06-01T17:37:05.014Z"
   },
   {
    "duration": 3,
    "start_time": "2022-06-01T17:37:05.290Z"
   },
   {
    "duration": 9,
    "start_time": "2022-06-01T17:37:05.295Z"
   },
   {
    "duration": 351,
    "start_time": "2022-06-01T17:37:05.305Z"
   },
   {
    "duration": 6,
    "start_time": "2022-06-01T17:37:05.658Z"
   },
   {
    "duration": 14,
    "start_time": "2022-06-01T17:37:05.665Z"
   },
   {
    "duration": 6,
    "start_time": "2022-06-01T17:37:05.681Z"
   },
   {
    "duration": 568,
    "start_time": "2022-06-01T17:37:05.690Z"
   },
   {
    "duration": 181,
    "start_time": "2022-06-01T17:37:06.259Z"
   },
   {
    "duration": 126,
    "start_time": "2022-06-01T17:37:06.441Z"
   },
   {
    "duration": 9,
    "start_time": "2022-06-01T17:37:06.569Z"
   },
   {
    "duration": 388,
    "start_time": "2022-06-01T17:37:06.579Z"
   },
   {
    "duration": 315,
    "start_time": "2022-06-01T17:37:06.969Z"
   },
   {
    "duration": 20,
    "start_time": "2022-06-01T17:37:07.285Z"
   },
   {
    "duration": 29,
    "start_time": "2022-06-01T17:37:07.307Z"
   },
   {
    "duration": 44,
    "start_time": "2022-06-01T17:37:07.338Z"
   },
   {
    "duration": 4,
    "start_time": "2022-06-01T17:37:07.383Z"
   },
   {
    "duration": 447476,
    "start_time": "2022-06-01T17:37:07.388Z"
   },
   {
    "duration": 2,
    "start_time": "2022-06-01T17:44:34.866Z"
   },
   {
    "duration": 8,
    "start_time": "2022-06-01T17:44:34.870Z"
   },
   {
    "duration": 5,
    "start_time": "2022-06-01T17:44:34.879Z"
   },
   {
    "duration": 66,
    "start_time": "2022-06-01T17:44:34.885Z"
   },
   {
    "duration": 4,
    "start_time": "2022-06-01T17:44:34.953Z"
   },
   {
    "duration": 64564,
    "start_time": "2022-06-01T17:44:34.959Z"
   },
   {
    "duration": 3,
    "start_time": "2022-06-01T17:45:39.525Z"
   },
   {
    "duration": 137,
    "start_time": "2022-06-01T17:45:39.532Z"
   },
   {
    "duration": 0,
    "start_time": "2022-06-01T17:45:39.670Z"
   },
   {
    "duration": 0,
    "start_time": "2022-06-01T17:45:39.672Z"
   },
   {
    "duration": 0,
    "start_time": "2022-06-01T17:45:39.673Z"
   },
   {
    "duration": 0,
    "start_time": "2022-06-01T17:45:39.674Z"
   },
   {
    "duration": 0,
    "start_time": "2022-06-01T17:45:39.675Z"
   },
   {
    "duration": 0,
    "start_time": "2022-06-01T17:45:39.677Z"
   },
   {
    "duration": 0,
    "start_time": "2022-06-01T17:45:39.678Z"
   },
   {
    "duration": 0,
    "start_time": "2022-06-01T17:45:39.679Z"
   },
   {
    "duration": 0,
    "start_time": "2022-06-01T17:45:39.681Z"
   },
   {
    "duration": 0,
    "start_time": "2022-06-01T17:45:39.682Z"
   },
   {
    "duration": 0,
    "start_time": "2022-06-01T17:45:39.684Z"
   },
   {
    "duration": 0,
    "start_time": "2022-06-01T17:45:39.685Z"
   },
   {
    "duration": 0,
    "start_time": "2022-06-01T17:45:39.686Z"
   },
   {
    "duration": 0,
    "start_time": "2022-06-01T17:45:39.687Z"
   },
   {
    "duration": 0,
    "start_time": "2022-06-01T17:45:39.688Z"
   },
   {
    "duration": 0,
    "start_time": "2022-06-01T17:45:39.688Z"
   },
   {
    "duration": 0,
    "start_time": "2022-06-01T17:45:39.726Z"
   },
   {
    "duration": 0,
    "start_time": "2022-06-01T17:45:39.728Z"
   },
   {
    "duration": 0,
    "start_time": "2022-06-01T17:45:39.729Z"
   },
   {
    "duration": 0,
    "start_time": "2022-06-01T17:45:39.730Z"
   },
   {
    "duration": 0,
    "start_time": "2022-06-01T17:45:39.731Z"
   },
   {
    "duration": 14,
    "start_time": "2022-06-01T17:49:30.345Z"
   },
   {
    "duration": 13,
    "start_time": "2022-06-01T17:49:44.582Z"
   },
   {
    "duration": 39,
    "start_time": "2022-06-01T17:50:09.873Z"
   },
   {
    "duration": 11,
    "start_time": "2022-06-01T17:50:12.226Z"
   },
   {
    "duration": 56,
    "start_time": "2022-06-01T17:50:25.860Z"
   },
   {
    "duration": 6,
    "start_time": "2022-06-01T17:50:27.078Z"
   },
   {
    "duration": 39296,
    "start_time": "2022-06-01T17:50:28.098Z"
   },
   {
    "duration": 77,
    "start_time": "2022-06-01T17:51:07.396Z"
   },
   {
    "duration": 4,
    "start_time": "2022-06-01T17:51:07.475Z"
   },
   {
    "duration": 73,
    "start_time": "2022-06-01T17:51:07.481Z"
   },
   {
    "duration": 5,
    "start_time": "2022-06-01T17:51:07.555Z"
   },
   {
    "duration": 64,
    "start_time": "2022-06-01T17:51:07.562Z"
   },
   {
    "duration": 700,
    "start_time": "2022-06-01T17:51:07.629Z"
   },
   {
    "duration": 5,
    "start_time": "2022-06-01T17:51:08.331Z"
   },
   {
    "duration": 115,
    "start_time": "2022-06-01T17:51:08.338Z"
   },
   {
    "duration": 167,
    "start_time": "2022-06-01T17:51:08.461Z"
   },
   {
    "duration": 8,
    "start_time": "2022-06-01T17:51:08.630Z"
   },
   {
    "duration": 97,
    "start_time": "2022-06-01T17:51:08.643Z"
   },
   {
    "duration": 206,
    "start_time": "2022-06-01T17:51:08.826Z"
   },
   {
    "duration": 94,
    "start_time": "2022-06-01T17:51:09.034Z"
   },
   {
    "duration": 11,
    "start_time": "2022-06-01T17:51:09.130Z"
   },
   {
    "duration": 8613,
    "start_time": "2022-06-01T17:51:09.228Z"
   },
   {
    "duration": 33470,
    "start_time": "2022-06-01T17:51:17.843Z"
   },
   {
    "duration": 4,
    "start_time": "2022-06-01T17:51:51.315Z"
   },
   {
    "duration": 8,
    "start_time": "2022-06-01T17:51:51.328Z"
   },
   {
    "duration": 7,
    "start_time": "2022-06-01T17:51:51.338Z"
   },
   {
    "duration": 351,
    "start_time": "2022-06-01T17:53:26.395Z"
   },
   {
    "duration": 295,
    "start_time": "2022-06-01T17:53:56.531Z"
   },
   {
    "duration": 29,
    "start_time": "2022-06-01T18:14:35.171Z"
   },
   {
    "duration": 18,
    "start_time": "2022-06-01T18:15:25.128Z"
   },
   {
    "duration": 15,
    "start_time": "2022-06-01T18:15:43.095Z"
   },
   {
    "duration": 3839,
    "start_time": "2022-06-01T18:16:16.143Z"
   },
   {
    "duration": 13,
    "start_time": "2022-06-01T18:16:19.984Z"
   },
   {
    "duration": 245,
    "start_time": "2022-06-01T18:16:19.999Z"
   },
   {
    "duration": 3,
    "start_time": "2022-06-01T18:16:20.246Z"
   },
   {
    "duration": 9,
    "start_time": "2022-06-01T18:16:20.250Z"
   },
   {
    "duration": 331,
    "start_time": "2022-06-01T18:16:20.261Z"
   },
   {
    "duration": 4,
    "start_time": "2022-06-01T18:16:20.594Z"
   },
   {
    "duration": 10,
    "start_time": "2022-06-01T18:16:20.600Z"
   },
   {
    "duration": 7,
    "start_time": "2022-06-01T18:16:20.611Z"
   },
   {
    "duration": 524,
    "start_time": "2022-06-01T18:16:20.627Z"
   },
   {
    "duration": 266,
    "start_time": "2022-06-01T18:16:21.153Z"
   },
   {
    "duration": 137,
    "start_time": "2022-06-01T18:16:21.426Z"
   },
   {
    "duration": 12,
    "start_time": "2022-06-01T18:16:21.565Z"
   },
   {
    "duration": 379,
    "start_time": "2022-06-01T18:16:21.579Z"
   },
   {
    "duration": 301,
    "start_time": "2022-06-01T18:16:21.960Z"
   },
   {
    "duration": 20,
    "start_time": "2022-06-01T18:16:22.263Z"
   },
   {
    "duration": 31,
    "start_time": "2022-06-01T18:16:22.285Z"
   },
   {
    "duration": 22,
    "start_time": "2022-06-01T18:16:22.317Z"
   },
   {
    "duration": 47,
    "start_time": "2022-06-01T18:16:22.341Z"
   },
   {
    "duration": 4,
    "start_time": "2022-06-01T18:16:22.389Z"
   },
   {
    "duration": 458152,
    "start_time": "2022-06-01T18:16:22.394Z"
   },
   {
    "duration": 2,
    "start_time": "2022-06-01T18:24:00.548Z"
   },
   {
    "duration": 21,
    "start_time": "2022-06-01T18:24:00.552Z"
   },
   {
    "duration": 10,
    "start_time": "2022-06-01T18:24:00.575Z"
   },
   {
    "duration": 74,
    "start_time": "2022-06-01T18:24:00.587Z"
   },
   {
    "duration": 5,
    "start_time": "2022-06-01T18:24:00.663Z"
   },
   {
    "duration": 63965,
    "start_time": "2022-06-01T18:24:00.669Z"
   },
   {
    "duration": 4,
    "start_time": "2022-06-01T18:25:04.638Z"
   },
   {
    "duration": 54,
    "start_time": "2022-06-01T18:25:04.644Z"
   },
   {
    "duration": 5,
    "start_time": "2022-06-01T18:25:04.700Z"
   },
   {
    "duration": 38655,
    "start_time": "2022-06-01T18:25:04.706Z"
   },
   {
    "duration": 83,
    "start_time": "2022-06-01T18:25:43.363Z"
   },
   {
    "duration": 6,
    "start_time": "2022-06-01T18:25:43.448Z"
   },
   {
    "duration": 81,
    "start_time": "2022-06-01T18:25:43.455Z"
   },
   {
    "duration": 6,
    "start_time": "2022-06-01T18:25:43.538Z"
   },
   {
    "duration": 21,
    "start_time": "2022-06-01T18:25:43.545Z"
   },
   {
    "duration": 1267,
    "start_time": "2022-06-01T18:25:43.567Z"
   },
   {
    "duration": 92,
    "start_time": "2022-06-01T18:25:44.837Z"
   },
   {
    "duration": 13,
    "start_time": "2022-06-01T18:25:44.931Z"
   },
   {
    "duration": 186,
    "start_time": "2022-06-01T18:25:44.946Z"
   },
   {
    "duration": 12,
    "start_time": "2022-06-01T18:25:45.133Z"
   },
   {
    "duration": 85,
    "start_time": "2022-06-01T18:25:45.148Z"
   },
   {
    "duration": 296,
    "start_time": "2022-06-01T18:25:45.235Z"
   },
   {
    "duration": 7,
    "start_time": "2022-06-01T18:25:45.533Z"
   },
   {
    "duration": 100,
    "start_time": "2022-06-01T18:25:45.542Z"
   },
   {
    "duration": 9164,
    "start_time": "2022-06-01T18:25:45.645Z"
   },
   {
    "duration": 36472,
    "start_time": "2022-06-01T18:25:54.810Z"
   },
   {
    "duration": 5,
    "start_time": "2022-06-01T18:26:31.284Z"
   },
   {
    "duration": 29,
    "start_time": "2022-06-01T18:26:31.290Z"
   },
   {
    "duration": 16,
    "start_time": "2022-06-01T18:26:31.321Z"
   },
   {
    "duration": 5,
    "start_time": "2022-06-01T19:02:33.967Z"
   },
   {
    "duration": 4,
    "start_time": "2022-06-01T19:03:59.753Z"
   },
   {
    "duration": 168,
    "start_time": "2022-06-01T19:04:02.897Z"
   },
   {
    "duration": 1918,
    "start_time": "2022-06-01T19:04:24.076Z"
   },
   {
    "duration": 16,
    "start_time": "2022-06-01T19:04:25.996Z"
   },
   {
    "duration": 291,
    "start_time": "2022-06-01T19:04:26.014Z"
   },
   {
    "duration": 4,
    "start_time": "2022-06-01T19:04:26.307Z"
   },
   {
    "duration": 14,
    "start_time": "2022-06-01T19:04:26.313Z"
   },
   {
    "duration": 354,
    "start_time": "2022-06-01T19:04:26.329Z"
   },
   {
    "duration": 6,
    "start_time": "2022-06-01T19:04:26.685Z"
   },
   {
    "duration": 4,
    "start_time": "2022-06-01T19:04:26.692Z"
   },
   {
    "duration": 5,
    "start_time": "2022-06-01T19:04:26.697Z"
   },
   {
    "duration": 529,
    "start_time": "2022-06-01T19:04:26.705Z"
   },
   {
    "duration": 298,
    "start_time": "2022-06-01T19:04:27.236Z"
   },
   {
    "duration": 141,
    "start_time": "2022-06-01T19:04:27.536Z"
   },
   {
    "duration": 11,
    "start_time": "2022-06-01T19:04:27.679Z"
   },
   {
    "duration": 363,
    "start_time": "2022-06-01T19:04:27.691Z"
   },
   {
    "duration": 307,
    "start_time": "2022-06-01T19:04:28.056Z"
   },
   {
    "duration": 21,
    "start_time": "2022-06-01T19:04:28.364Z"
   },
   {
    "duration": 26,
    "start_time": "2022-06-01T19:04:28.387Z"
   },
   {
    "duration": 21,
    "start_time": "2022-06-01T19:04:28.415Z"
   },
   {
    "duration": 52,
    "start_time": "2022-06-01T19:04:28.438Z"
   },
   {
    "duration": 3,
    "start_time": "2022-06-01T19:04:28.492Z"
   },
   {
    "duration": 436113,
    "start_time": "2022-06-01T19:04:28.496Z"
   },
   {
    "duration": 3,
    "start_time": "2022-06-01T19:11:44.611Z"
   },
   {
    "duration": 17,
    "start_time": "2022-06-01T19:11:44.615Z"
   },
   {
    "duration": 12,
    "start_time": "2022-06-01T19:11:44.634Z"
   },
   {
    "duration": 62,
    "start_time": "2022-06-01T19:11:44.648Z"
   },
   {
    "duration": 4,
    "start_time": "2022-06-01T19:11:44.712Z"
   },
   {
    "duration": 61335,
    "start_time": "2022-06-01T19:11:44.717Z"
   },
   {
    "duration": 3,
    "start_time": "2022-06-01T19:12:46.055Z"
   },
   {
    "duration": 52,
    "start_time": "2022-06-01T19:12:46.060Z"
   },
   {
    "duration": 4,
    "start_time": "2022-06-01T19:12:46.114Z"
   },
   {
    "duration": 35318,
    "start_time": "2022-06-01T19:12:46.126Z"
   },
   {
    "duration": 214,
    "start_time": "2022-06-01T19:13:21.446Z"
   },
   {
    "duration": 0,
    "start_time": "2022-06-01T19:13:21.663Z"
   },
   {
    "duration": 0,
    "start_time": "2022-06-01T19:13:21.665Z"
   },
   {
    "duration": 0,
    "start_time": "2022-06-01T19:13:21.666Z"
   },
   {
    "duration": 0,
    "start_time": "2022-06-01T19:13:21.666Z"
   },
   {
    "duration": 0,
    "start_time": "2022-06-01T19:13:21.668Z"
   },
   {
    "duration": 0,
    "start_time": "2022-06-01T19:13:21.669Z"
   },
   {
    "duration": 0,
    "start_time": "2022-06-01T19:13:21.670Z"
   },
   {
    "duration": 0,
    "start_time": "2022-06-01T19:13:21.672Z"
   },
   {
    "duration": 0,
    "start_time": "2022-06-01T19:13:21.673Z"
   },
   {
    "duration": 0,
    "start_time": "2022-06-01T19:13:21.675Z"
   },
   {
    "duration": 0,
    "start_time": "2022-06-01T19:13:21.676Z"
   },
   {
    "duration": 0,
    "start_time": "2022-06-01T19:13:21.678Z"
   },
   {
    "duration": 0,
    "start_time": "2022-06-01T19:13:21.680Z"
   },
   {
    "duration": 0,
    "start_time": "2022-06-01T19:13:21.681Z"
   },
   {
    "duration": 0,
    "start_time": "2022-06-01T19:13:21.683Z"
   },
   {
    "duration": 0,
    "start_time": "2022-06-01T19:13:21.685Z"
   },
   {
    "duration": 0,
    "start_time": "2022-06-01T19:13:21.727Z"
   },
   {
    "duration": 0,
    "start_time": "2022-06-01T19:13:21.729Z"
   },
   {
    "duration": 68,
    "start_time": "2022-06-01T19:14:02.619Z"
   },
   {
    "duration": 5,
    "start_time": "2022-06-01T19:14:12.410Z"
   },
   {
    "duration": 55,
    "start_time": "2022-06-01T19:14:13.410Z"
   },
   {
    "duration": 5,
    "start_time": "2022-06-01T19:14:14.489Z"
   },
   {
    "duration": 14,
    "start_time": "2022-06-01T19:14:22.263Z"
   },
   {
    "duration": 436,
    "start_time": "2022-06-01T19:14:22.997Z"
   },
   {
    "duration": 4,
    "start_time": "2022-06-01T19:14:23.669Z"
   },
   {
    "duration": 5,
    "start_time": "2022-06-01T19:14:25.142Z"
   },
   {
    "duration": 4,
    "start_time": "2022-06-01T19:14:25.598Z"
   },
   {
    "duration": 5,
    "start_time": "2022-06-01T19:14:26.300Z"
   },
   {
    "duration": 5,
    "start_time": "2022-06-01T19:14:26.902Z"
   },
   {
    "duration": 422,
    "start_time": "2022-06-01T19:14:28.116Z"
   },
   {
    "duration": 4,
    "start_time": "2022-06-01T19:14:28.846Z"
   },
   {
    "duration": 4,
    "start_time": "2022-06-01T19:14:29.405Z"
   },
   {
    "duration": 8313,
    "start_time": "2022-06-01T19:14:30.515Z"
   },
   {
    "duration": 33628,
    "start_time": "2022-06-01T19:14:38.829Z"
   },
   {
    "duration": 4,
    "start_time": "2022-06-01T19:15:12.459Z"
   },
   {
    "duration": 10,
    "start_time": "2022-06-01T19:15:12.465Z"
   },
   {
    "duration": 4,
    "start_time": "2022-06-01T19:15:12.477Z"
   },
   {
    "duration": 4,
    "start_time": "2022-06-01T19:15:21.719Z"
   },
   {
    "duration": 2040,
    "start_time": "2022-06-02T06:41:43.210Z"
   },
   {
    "duration": 13,
    "start_time": "2022-06-02T06:41:45.253Z"
   },
   {
    "duration": 238,
    "start_time": "2022-06-02T06:41:45.268Z"
   },
   {
    "duration": 3,
    "start_time": "2022-06-02T06:41:45.510Z"
   },
   {
    "duration": 5,
    "start_time": "2022-06-02T06:41:45.515Z"
   },
   {
    "duration": 369,
    "start_time": "2022-06-02T06:41:45.521Z"
   },
   {
    "duration": 17,
    "start_time": "2022-06-02T06:41:45.898Z"
   },
   {
    "duration": 9,
    "start_time": "2022-06-02T06:41:45.916Z"
   },
   {
    "duration": 8,
    "start_time": "2022-06-02T06:41:45.926Z"
   },
   {
    "duration": 492,
    "start_time": "2022-06-02T06:41:45.936Z"
   },
   {
    "duration": 262,
    "start_time": "2022-06-02T06:41:46.430Z"
   },
   {
    "duration": 110,
    "start_time": "2022-06-02T06:41:46.698Z"
   },
   {
    "duration": 9,
    "start_time": "2022-06-02T06:41:46.809Z"
   },
   {
    "duration": 389,
    "start_time": "2022-06-02T06:41:46.820Z"
   },
   {
    "duration": 311,
    "start_time": "2022-06-02T06:41:47.210Z"
   },
   {
    "duration": 18,
    "start_time": "2022-06-02T06:41:47.523Z"
   },
   {
    "duration": 14,
    "start_time": "2022-06-02T06:41:47.542Z"
   },
   {
    "duration": 31,
    "start_time": "2022-06-02T06:41:47.557Z"
   },
   {
    "duration": 54,
    "start_time": "2022-06-02T06:41:47.589Z"
   },
   {
    "duration": 4,
    "start_time": "2022-06-02T06:41:47.644Z"
   },
   {
    "duration": 12,
    "start_time": "2022-06-02T06:41:47.649Z"
   },
   {
    "duration": 15,
    "start_time": "2022-06-02T06:42:52.623Z"
   },
   {
    "duration": 4526,
    "start_time": "2022-06-02T07:38:01.581Z"
   },
   {
    "duration": 13,
    "start_time": "2022-06-02T07:38:06.109Z"
   },
   {
    "duration": 243,
    "start_time": "2022-06-02T07:38:06.123Z"
   },
   {
    "duration": 4,
    "start_time": "2022-06-02T07:38:06.368Z"
   },
   {
    "duration": 0,
    "start_time": "2022-06-02T07:38:06.375Z"
   },
   {
    "duration": 0,
    "start_time": "2022-06-02T07:38:06.376Z"
   },
   {
    "duration": 0,
    "start_time": "2022-06-02T07:38:06.377Z"
   },
   {
    "duration": 0,
    "start_time": "2022-06-02T07:38:06.378Z"
   },
   {
    "duration": 0,
    "start_time": "2022-06-02T07:38:06.379Z"
   },
   {
    "duration": 0,
    "start_time": "2022-06-02T07:38:06.380Z"
   },
   {
    "duration": 0,
    "start_time": "2022-06-02T07:38:06.381Z"
   },
   {
    "duration": 0,
    "start_time": "2022-06-02T07:38:06.382Z"
   },
   {
    "duration": 0,
    "start_time": "2022-06-02T07:38:06.383Z"
   },
   {
    "duration": 0,
    "start_time": "2022-06-02T07:38:06.384Z"
   },
   {
    "duration": 0,
    "start_time": "2022-06-02T07:38:06.385Z"
   },
   {
    "duration": 0,
    "start_time": "2022-06-02T07:38:06.386Z"
   },
   {
    "duration": 0,
    "start_time": "2022-06-02T07:38:06.387Z"
   },
   {
    "duration": 0,
    "start_time": "2022-06-02T07:38:06.388Z"
   },
   {
    "duration": 0,
    "start_time": "2022-06-02T07:38:06.390Z"
   },
   {
    "duration": 0,
    "start_time": "2022-06-02T07:38:06.391Z"
   },
   {
    "duration": 0,
    "start_time": "2022-06-02T07:38:06.392Z"
   },
   {
    "duration": 0,
    "start_time": "2022-06-02T07:38:06.393Z"
   },
   {
    "duration": 0,
    "start_time": "2022-06-02T07:38:06.394Z"
   },
   {
    "duration": 0,
    "start_time": "2022-06-02T07:38:06.395Z"
   },
   {
    "duration": 0,
    "start_time": "2022-06-02T07:38:06.396Z"
   },
   {
    "duration": 0,
    "start_time": "2022-06-02T07:38:06.397Z"
   },
   {
    "duration": 0,
    "start_time": "2022-06-02T07:38:06.398Z"
   },
   {
    "duration": 0,
    "start_time": "2022-06-02T07:38:06.399Z"
   },
   {
    "duration": 0,
    "start_time": "2022-06-02T07:38:06.400Z"
   },
   {
    "duration": 0,
    "start_time": "2022-06-02T07:38:06.401Z"
   },
   {
    "duration": 0,
    "start_time": "2022-06-02T07:38:06.402Z"
   },
   {
    "duration": 0,
    "start_time": "2022-06-02T07:38:06.455Z"
   },
   {
    "duration": 0,
    "start_time": "2022-06-02T07:38:06.455Z"
   },
   {
    "duration": 0,
    "start_time": "2022-06-02T07:38:06.457Z"
   },
   {
    "duration": 0,
    "start_time": "2022-06-02T07:38:06.458Z"
   },
   {
    "duration": 0,
    "start_time": "2022-06-02T07:38:06.458Z"
   },
   {
    "duration": 0,
    "start_time": "2022-06-02T07:38:06.459Z"
   },
   {
    "duration": 0,
    "start_time": "2022-06-02T07:38:06.460Z"
   },
   {
    "duration": 0,
    "start_time": "2022-06-02T07:38:06.461Z"
   },
   {
    "duration": 0,
    "start_time": "2022-06-02T07:38:06.462Z"
   },
   {
    "duration": 0,
    "start_time": "2022-06-02T07:38:06.464Z"
   },
   {
    "duration": 0,
    "start_time": "2022-06-02T07:38:06.465Z"
   },
   {
    "duration": 0,
    "start_time": "2022-06-02T07:38:06.466Z"
   },
   {
    "duration": 0,
    "start_time": "2022-06-02T07:38:06.467Z"
   },
   {
    "duration": 0,
    "start_time": "2022-06-02T07:38:06.468Z"
   },
   {
    "duration": 0,
    "start_time": "2022-06-02T07:38:06.470Z"
   },
   {
    "duration": 0,
    "start_time": "2022-06-02T07:38:06.471Z"
   },
   {
    "duration": 3,
    "start_time": "2022-06-02T07:38:35.840Z"
   },
   {
    "duration": 1790,
    "start_time": "2022-06-02T07:38:42.989Z"
   },
   {
    "duration": 14,
    "start_time": "2022-06-02T07:38:44.781Z"
   },
   {
    "duration": 239,
    "start_time": "2022-06-02T07:38:44.796Z"
   },
   {
    "duration": 2,
    "start_time": "2022-06-02T07:38:45.038Z"
   },
   {
    "duration": 14,
    "start_time": "2022-06-02T07:38:45.042Z"
   },
   {
    "duration": 336,
    "start_time": "2022-06-02T07:38:45.057Z"
   },
   {
    "duration": 5,
    "start_time": "2022-06-02T07:38:45.395Z"
   },
   {
    "duration": 8,
    "start_time": "2022-06-02T07:38:45.401Z"
   },
   {
    "duration": 5,
    "start_time": "2022-06-02T07:38:45.410Z"
   },
   {
    "duration": 495,
    "start_time": "2022-06-02T07:38:45.418Z"
   },
   {
    "duration": 312,
    "start_time": "2022-06-02T07:38:45.914Z"
   },
   {
    "duration": 117,
    "start_time": "2022-06-02T07:38:46.228Z"
   },
   {
    "duration": 14,
    "start_time": "2022-06-02T07:38:46.346Z"
   },
   {
    "duration": 307,
    "start_time": "2022-06-02T07:38:46.361Z"
   },
   {
    "duration": 238,
    "start_time": "2022-06-02T07:38:46.670Z"
   },
   {
    "duration": 19,
    "start_time": "2022-06-02T07:38:46.909Z"
   },
   {
    "duration": 36,
    "start_time": "2022-06-02T07:38:46.930Z"
   },
   {
    "duration": 11,
    "start_time": "2022-06-02T07:38:46.968Z"
   },
   {
    "duration": 42,
    "start_time": "2022-06-02T07:38:46.981Z"
   },
   {
    "duration": 3,
    "start_time": "2022-06-02T07:38:47.025Z"
   },
   {
    "duration": 437608,
    "start_time": "2022-06-02T07:38:47.030Z"
   },
   {
    "duration": 62,
    "start_time": "2022-06-02T07:46:04.640Z"
   },
   {
    "duration": 4,
    "start_time": "2022-06-02T07:46:04.704Z"
   },
   {
    "duration": 62615,
    "start_time": "2022-06-02T07:46:04.710Z"
   },
   {
    "duration": 3,
    "start_time": "2022-06-02T07:47:07.327Z"
   },
   {
    "duration": 50,
    "start_time": "2022-06-02T07:47:07.331Z"
   },
   {
    "duration": 4,
    "start_time": "2022-06-02T07:47:07.382Z"
   },
   {
    "duration": 35102,
    "start_time": "2022-06-02T07:47:07.389Z"
   },
   {
    "duration": 76,
    "start_time": "2022-06-02T07:47:42.492Z"
   },
   {
    "duration": 3,
    "start_time": "2022-06-02T07:47:42.570Z"
   },
   {
    "duration": 57,
    "start_time": "2022-06-02T07:47:42.575Z"
   },
   {
    "duration": 3,
    "start_time": "2022-06-02T07:47:42.634Z"
   },
   {
    "duration": 34,
    "start_time": "2022-06-02T07:47:42.638Z"
   },
   {
    "duration": 783,
    "start_time": "2022-06-02T07:47:42.674Z"
   },
   {
    "duration": 5,
    "start_time": "2022-06-02T07:47:43.459Z"
   },
   {
    "duration": 111,
    "start_time": "2022-06-02T07:47:43.465Z"
   },
   {
    "duration": 193,
    "start_time": "2022-06-02T07:47:43.581Z"
   },
   {
    "duration": 5,
    "start_time": "2022-06-02T07:47:43.776Z"
   },
   {
    "duration": 185,
    "start_time": "2022-06-02T07:47:43.786Z"
   },
   {
    "duration": 99,
    "start_time": "2022-06-02T07:47:43.972Z"
   },
   {
    "duration": 102,
    "start_time": "2022-06-02T07:47:44.073Z"
   },
   {
    "duration": 79,
    "start_time": "2022-06-02T07:47:44.176Z"
   },
   {
    "duration": 8255,
    "start_time": "2022-06-02T07:47:44.268Z"
   },
   {
    "duration": 32560,
    "start_time": "2022-06-02T07:47:52.525Z"
   },
   {
    "duration": 3,
    "start_time": "2022-06-02T07:48:25.087Z"
   },
   {
    "duration": 10,
    "start_time": "2022-06-02T07:48:25.092Z"
   },
   {
    "duration": 10,
    "start_time": "2022-06-02T07:48:25.103Z"
   },
   {
    "duration": 1945,
    "start_time": "2022-06-02T08:14:19.947Z"
   },
   {
    "duration": 14,
    "start_time": "2022-06-02T08:14:21.894Z"
   },
   {
    "duration": 196,
    "start_time": "2022-06-02T08:14:21.910Z"
   },
   {
    "duration": 0,
    "start_time": "2022-06-02T08:14:22.110Z"
   },
   {
    "duration": 0,
    "start_time": "2022-06-02T08:14:22.111Z"
   },
   {
    "duration": 0,
    "start_time": "2022-06-02T08:14:22.112Z"
   },
   {
    "duration": 0,
    "start_time": "2022-06-02T08:14:22.113Z"
   },
   {
    "duration": 0,
    "start_time": "2022-06-02T08:14:22.114Z"
   },
   {
    "duration": 0,
    "start_time": "2022-06-02T08:14:22.115Z"
   },
   {
    "duration": 0,
    "start_time": "2022-06-02T08:14:22.116Z"
   },
   {
    "duration": 0,
    "start_time": "2022-06-02T08:14:22.117Z"
   },
   {
    "duration": 0,
    "start_time": "2022-06-02T08:14:22.118Z"
   },
   {
    "duration": 0,
    "start_time": "2022-06-02T08:14:22.119Z"
   },
   {
    "duration": 0,
    "start_time": "2022-06-02T08:14:22.120Z"
   },
   {
    "duration": 0,
    "start_time": "2022-06-02T08:14:22.121Z"
   },
   {
    "duration": 0,
    "start_time": "2022-06-02T08:14:22.122Z"
   },
   {
    "duration": 0,
    "start_time": "2022-06-02T08:14:22.123Z"
   },
   {
    "duration": 0,
    "start_time": "2022-06-02T08:14:22.124Z"
   },
   {
    "duration": 0,
    "start_time": "2022-06-02T08:14:22.154Z"
   },
   {
    "duration": 0,
    "start_time": "2022-06-02T08:14:22.155Z"
   },
   {
    "duration": 0,
    "start_time": "2022-06-02T08:14:22.156Z"
   },
   {
    "duration": 0,
    "start_time": "2022-06-02T08:14:22.157Z"
   },
   {
    "duration": 0,
    "start_time": "2022-06-02T08:14:22.158Z"
   },
   {
    "duration": 0,
    "start_time": "2022-06-02T08:14:22.159Z"
   },
   {
    "duration": 0,
    "start_time": "2022-06-02T08:14:22.160Z"
   },
   {
    "duration": 0,
    "start_time": "2022-06-02T08:14:22.161Z"
   },
   {
    "duration": 0,
    "start_time": "2022-06-02T08:14:22.162Z"
   },
   {
    "duration": 0,
    "start_time": "2022-06-02T08:14:22.163Z"
   },
   {
    "duration": 0,
    "start_time": "2022-06-02T08:14:22.164Z"
   },
   {
    "duration": 0,
    "start_time": "2022-06-02T08:14:22.165Z"
   },
   {
    "duration": 0,
    "start_time": "2022-06-02T08:14:22.165Z"
   },
   {
    "duration": 0,
    "start_time": "2022-06-02T08:14:22.166Z"
   },
   {
    "duration": 0,
    "start_time": "2022-06-02T08:14:22.168Z"
   },
   {
    "duration": 0,
    "start_time": "2022-06-02T08:14:22.169Z"
   },
   {
    "duration": 0,
    "start_time": "2022-06-02T08:14:22.170Z"
   },
   {
    "duration": 0,
    "start_time": "2022-06-02T08:14:22.171Z"
   },
   {
    "duration": 0,
    "start_time": "2022-06-02T08:14:22.172Z"
   },
   {
    "duration": 0,
    "start_time": "2022-06-02T08:14:22.173Z"
   },
   {
    "duration": 0,
    "start_time": "2022-06-02T08:14:22.174Z"
   },
   {
    "duration": 0,
    "start_time": "2022-06-02T08:14:22.175Z"
   },
   {
    "duration": 0,
    "start_time": "2022-06-02T08:14:22.175Z"
   },
   {
    "duration": 0,
    "start_time": "2022-06-02T08:14:22.177Z"
   },
   {
    "duration": 0,
    "start_time": "2022-06-02T08:14:22.177Z"
   },
   {
    "duration": 0,
    "start_time": "2022-06-02T08:14:22.178Z"
   },
   {
    "duration": 0,
    "start_time": "2022-06-02T08:14:22.179Z"
   },
   {
    "duration": 0,
    "start_time": "2022-06-02T08:14:22.180Z"
   },
   {
    "duration": 1812,
    "start_time": "2022-06-02T08:17:05.575Z"
   },
   {
    "duration": 14,
    "start_time": "2022-06-02T08:17:07.389Z"
   },
   {
    "duration": 179,
    "start_time": "2022-06-02T08:17:07.404Z"
   },
   {
    "duration": 0,
    "start_time": "2022-06-02T08:17:07.586Z"
   },
   {
    "duration": 0,
    "start_time": "2022-06-02T08:17:07.588Z"
   },
   {
    "duration": 0,
    "start_time": "2022-06-02T08:17:07.589Z"
   },
   {
    "duration": 0,
    "start_time": "2022-06-02T08:17:07.590Z"
   },
   {
    "duration": 0,
    "start_time": "2022-06-02T08:17:07.592Z"
   },
   {
    "duration": 0,
    "start_time": "2022-06-02T08:17:07.593Z"
   },
   {
    "duration": 0,
    "start_time": "2022-06-02T08:17:07.594Z"
   },
   {
    "duration": 0,
    "start_time": "2022-06-02T08:17:07.596Z"
   },
   {
    "duration": 0,
    "start_time": "2022-06-02T08:17:07.597Z"
   },
   {
    "duration": 0,
    "start_time": "2022-06-02T08:17:07.598Z"
   },
   {
    "duration": 0,
    "start_time": "2022-06-02T08:17:07.600Z"
   },
   {
    "duration": 0,
    "start_time": "2022-06-02T08:17:07.602Z"
   },
   {
    "duration": 0,
    "start_time": "2022-06-02T08:17:07.603Z"
   },
   {
    "duration": 0,
    "start_time": "2022-06-02T08:17:07.604Z"
   },
   {
    "duration": 0,
    "start_time": "2022-06-02T08:17:07.605Z"
   },
   {
    "duration": 0,
    "start_time": "2022-06-02T08:17:07.606Z"
   },
   {
    "duration": 0,
    "start_time": "2022-06-02T08:17:07.607Z"
   },
   {
    "duration": 0,
    "start_time": "2022-06-02T08:17:07.608Z"
   },
   {
    "duration": 0,
    "start_time": "2022-06-02T08:17:07.609Z"
   },
   {
    "duration": 0,
    "start_time": "2022-06-02T08:17:07.610Z"
   },
   {
    "duration": 0,
    "start_time": "2022-06-02T08:17:07.611Z"
   },
   {
    "duration": 0,
    "start_time": "2022-06-02T08:17:07.612Z"
   },
   {
    "duration": 0,
    "start_time": "2022-06-02T08:17:07.655Z"
   },
   {
    "duration": 0,
    "start_time": "2022-06-02T08:17:07.656Z"
   },
   {
    "duration": 0,
    "start_time": "2022-06-02T08:17:07.657Z"
   },
   {
    "duration": 0,
    "start_time": "2022-06-02T08:17:07.658Z"
   },
   {
    "duration": 0,
    "start_time": "2022-06-02T08:17:07.658Z"
   },
   {
    "duration": 0,
    "start_time": "2022-06-02T08:17:07.659Z"
   },
   {
    "duration": 0,
    "start_time": "2022-06-02T08:17:07.660Z"
   },
   {
    "duration": 0,
    "start_time": "2022-06-02T08:17:07.661Z"
   },
   {
    "duration": 0,
    "start_time": "2022-06-02T08:17:07.662Z"
   },
   {
    "duration": 0,
    "start_time": "2022-06-02T08:17:07.663Z"
   },
   {
    "duration": 0,
    "start_time": "2022-06-02T08:17:07.664Z"
   },
   {
    "duration": 0,
    "start_time": "2022-06-02T08:17:07.666Z"
   },
   {
    "duration": 0,
    "start_time": "2022-06-02T08:17:07.666Z"
   },
   {
    "duration": 0,
    "start_time": "2022-06-02T08:17:07.667Z"
   },
   {
    "duration": 0,
    "start_time": "2022-06-02T08:17:07.668Z"
   },
   {
    "duration": 0,
    "start_time": "2022-06-02T08:17:07.669Z"
   },
   {
    "duration": 0,
    "start_time": "2022-06-02T08:17:07.670Z"
   },
   {
    "duration": 0,
    "start_time": "2022-06-02T08:17:07.671Z"
   },
   {
    "duration": 0,
    "start_time": "2022-06-02T08:17:07.672Z"
   },
   {
    "duration": 0,
    "start_time": "2022-06-02T08:17:07.673Z"
   },
   {
    "duration": 0,
    "start_time": "2022-06-02T08:17:07.674Z"
   },
   {
    "duration": 90,
    "start_time": "2022-06-02T08:17:34.753Z"
   },
   {
    "duration": 78,
    "start_time": "2022-06-02T08:18:14.120Z"
   },
   {
    "duration": 78,
    "start_time": "2022-06-02T08:18:42.559Z"
   },
   {
    "duration": 77,
    "start_time": "2022-06-02T08:19:11.879Z"
   },
   {
    "duration": 14,
    "start_time": "2022-06-02T08:20:00.820Z"
   },
   {
    "duration": 5,
    "start_time": "2022-06-02T08:26:19.295Z"
   },
   {
    "duration": 14,
    "start_time": "2022-06-02T08:26:54.278Z"
   },
   {
    "duration": 1876,
    "start_time": "2022-06-02T08:27:15.689Z"
   },
   {
    "duration": 13,
    "start_time": "2022-06-02T08:27:17.567Z"
   },
   {
    "duration": 20,
    "start_time": "2022-06-02T08:27:17.582Z"
   },
   {
    "duration": 4,
    "start_time": "2022-06-02T08:27:17.604Z"
   },
   {
    "duration": 326,
    "start_time": "2022-06-02T08:27:17.609Z"
   },
   {
    "duration": 4,
    "start_time": "2022-06-02T08:27:17.937Z"
   },
   {
    "duration": 11,
    "start_time": "2022-06-02T08:27:17.943Z"
   },
   {
    "duration": 4,
    "start_time": "2022-06-02T08:27:17.956Z"
   },
   {
    "duration": 479,
    "start_time": "2022-06-02T08:27:17.962Z"
   },
   {
    "duration": 285,
    "start_time": "2022-06-02T08:27:18.443Z"
   },
   {
    "duration": 117,
    "start_time": "2022-06-02T08:27:18.730Z"
   },
   {
    "duration": 10,
    "start_time": "2022-06-02T08:27:18.855Z"
   },
   {
    "duration": 352,
    "start_time": "2022-06-02T08:27:18.867Z"
   },
   {
    "duration": 284,
    "start_time": "2022-06-02T08:27:19.221Z"
   },
   {
    "duration": 20,
    "start_time": "2022-06-02T08:27:19.507Z"
   },
   {
    "duration": 31,
    "start_time": "2022-06-02T08:27:19.529Z"
   },
   {
    "duration": 12,
    "start_time": "2022-06-02T08:27:19.562Z"
   },
   {
    "duration": 6,
    "start_time": "2022-06-02T08:27:19.576Z"
   },
   {
    "duration": 0,
    "start_time": "2022-06-02T08:27:19.584Z"
   },
   {
    "duration": 0,
    "start_time": "2022-06-02T08:27:19.585Z"
   },
   {
    "duration": 0,
    "start_time": "2022-06-02T08:27:19.586Z"
   },
   {
    "duration": 0,
    "start_time": "2022-06-02T08:27:19.587Z"
   },
   {
    "duration": 0,
    "start_time": "2022-06-02T08:27:19.588Z"
   },
   {
    "duration": 0,
    "start_time": "2022-06-02T08:27:19.588Z"
   },
   {
    "duration": 0,
    "start_time": "2022-06-02T08:27:19.602Z"
   },
   {
    "duration": 0,
    "start_time": "2022-06-02T08:27:19.603Z"
   },
   {
    "duration": 0,
    "start_time": "2022-06-02T08:27:19.604Z"
   },
   {
    "duration": 0,
    "start_time": "2022-06-02T08:27:19.605Z"
   },
   {
    "duration": 0,
    "start_time": "2022-06-02T08:27:19.607Z"
   },
   {
    "duration": 0,
    "start_time": "2022-06-02T08:27:19.608Z"
   },
   {
    "duration": 0,
    "start_time": "2022-06-02T08:27:19.609Z"
   },
   {
    "duration": 0,
    "start_time": "2022-06-02T08:27:19.610Z"
   },
   {
    "duration": 0,
    "start_time": "2022-06-02T08:27:19.612Z"
   },
   {
    "duration": 0,
    "start_time": "2022-06-02T08:27:19.653Z"
   },
   {
    "duration": 0,
    "start_time": "2022-06-02T08:27:19.654Z"
   },
   {
    "duration": 0,
    "start_time": "2022-06-02T08:27:19.656Z"
   },
   {
    "duration": 0,
    "start_time": "2022-06-02T08:27:19.657Z"
   },
   {
    "duration": 0,
    "start_time": "2022-06-02T08:27:19.658Z"
   },
   {
    "duration": 0,
    "start_time": "2022-06-02T08:27:19.659Z"
   },
   {
    "duration": 0,
    "start_time": "2022-06-02T08:27:19.660Z"
   },
   {
    "duration": 0,
    "start_time": "2022-06-02T08:27:19.662Z"
   },
   {
    "duration": 0,
    "start_time": "2022-06-02T08:27:19.663Z"
   },
   {
    "duration": 0,
    "start_time": "2022-06-02T08:27:19.664Z"
   },
   {
    "duration": 0,
    "start_time": "2022-06-02T08:27:19.665Z"
   },
   {
    "duration": 0,
    "start_time": "2022-06-02T08:27:19.666Z"
   },
   {
    "duration": 0,
    "start_time": "2022-06-02T08:27:19.667Z"
   },
   {
    "duration": 7,
    "start_time": "2022-06-02T08:28:16.608Z"
   },
   {
    "duration": 46,
    "start_time": "2022-06-02T08:28:33.645Z"
   },
   {
    "duration": 41,
    "start_time": "2022-06-02T08:28:58.385Z"
   },
   {
    "duration": 1853,
    "start_time": "2022-06-02T08:29:06.994Z"
   },
   {
    "duration": 14,
    "start_time": "2022-06-02T08:29:08.849Z"
   },
   {
    "duration": 23,
    "start_time": "2022-06-02T08:29:08.864Z"
   },
   {
    "duration": 3,
    "start_time": "2022-06-02T08:29:08.889Z"
   },
   {
    "duration": 339,
    "start_time": "2022-06-02T08:29:08.894Z"
   },
   {
    "duration": 5,
    "start_time": "2022-06-02T08:29:09.235Z"
   },
   {
    "duration": 7,
    "start_time": "2022-06-02T08:29:09.241Z"
   },
   {
    "duration": 4,
    "start_time": "2022-06-02T08:29:09.254Z"
   },
   {
    "duration": 478,
    "start_time": "2022-06-02T08:29:09.259Z"
   },
   {
    "duration": 287,
    "start_time": "2022-06-02T08:29:09.739Z"
   },
   {
    "duration": 116,
    "start_time": "2022-06-02T08:29:10.028Z"
   },
   {
    "duration": 10,
    "start_time": "2022-06-02T08:29:10.154Z"
   },
   {
    "duration": 337,
    "start_time": "2022-06-02T08:29:10.166Z"
   },
   {
    "duration": 288,
    "start_time": "2022-06-02T08:29:10.505Z"
   },
   {
    "duration": 19,
    "start_time": "2022-06-02T08:29:10.795Z"
   },
   {
    "duration": 38,
    "start_time": "2022-06-02T08:29:10.816Z"
   },
   {
    "duration": 13,
    "start_time": "2022-06-02T08:29:10.856Z"
   },
   {
    "duration": 45,
    "start_time": "2022-06-02T08:29:10.870Z"
   },
   {
    "duration": 4,
    "start_time": "2022-06-02T08:29:10.917Z"
   },
   {
    "duration": 17,
    "start_time": "2022-06-02T08:29:10.925Z"
   },
   {
    "duration": 0,
    "start_time": "2022-06-02T08:29:10.944Z"
   },
   {
    "duration": 0,
    "start_time": "2022-06-02T08:29:10.955Z"
   },
   {
    "duration": 0,
    "start_time": "2022-06-02T08:29:10.956Z"
   },
   {
    "duration": 0,
    "start_time": "2022-06-02T08:29:10.957Z"
   },
   {
    "duration": 0,
    "start_time": "2022-06-02T08:29:10.958Z"
   },
   {
    "duration": 0,
    "start_time": "2022-06-02T08:29:10.959Z"
   },
   {
    "duration": 0,
    "start_time": "2022-06-02T08:29:10.960Z"
   },
   {
    "duration": 0,
    "start_time": "2022-06-02T08:29:10.961Z"
   },
   {
    "duration": 0,
    "start_time": "2022-06-02T08:29:10.961Z"
   },
   {
    "duration": 0,
    "start_time": "2022-06-02T08:29:10.963Z"
   },
   {
    "duration": 0,
    "start_time": "2022-06-02T08:29:10.964Z"
   },
   {
    "duration": 0,
    "start_time": "2022-06-02T08:29:10.964Z"
   },
   {
    "duration": 0,
    "start_time": "2022-06-02T08:29:10.966Z"
   },
   {
    "duration": 0,
    "start_time": "2022-06-02T08:29:10.967Z"
   },
   {
    "duration": 0,
    "start_time": "2022-06-02T08:29:10.968Z"
   },
   {
    "duration": 0,
    "start_time": "2022-06-02T08:29:10.969Z"
   },
   {
    "duration": 0,
    "start_time": "2022-06-02T08:29:10.970Z"
   },
   {
    "duration": 0,
    "start_time": "2022-06-02T08:29:10.970Z"
   },
   {
    "duration": 0,
    "start_time": "2022-06-02T08:29:10.971Z"
   },
   {
    "duration": 0,
    "start_time": "2022-06-02T08:29:10.972Z"
   },
   {
    "duration": 0,
    "start_time": "2022-06-02T08:29:10.973Z"
   },
   {
    "duration": 0,
    "start_time": "2022-06-02T08:29:10.974Z"
   },
   {
    "duration": 0,
    "start_time": "2022-06-02T08:29:10.975Z"
   },
   {
    "duration": 0,
    "start_time": "2022-06-02T08:29:10.976Z"
   },
   {
    "duration": 0,
    "start_time": "2022-06-02T08:29:10.978Z"
   },
   {
    "duration": 0,
    "start_time": "2022-06-02T08:29:10.979Z"
   },
   {
    "duration": 4,
    "start_time": "2022-06-02T08:29:49.178Z"
   },
   {
    "duration": 3,
    "start_time": "2022-06-02T08:30:10.038Z"
   },
   {
    "duration": 1883,
    "start_time": "2022-06-02T08:30:35.229Z"
   },
   {
    "duration": 13,
    "start_time": "2022-06-02T08:30:37.114Z"
   },
   {
    "duration": 13,
    "start_time": "2022-06-02T08:30:37.128Z"
   },
   {
    "duration": 12,
    "start_time": "2022-06-02T08:30:37.143Z"
   },
   {
    "duration": 327,
    "start_time": "2022-06-02T08:30:37.156Z"
   },
   {
    "duration": 5,
    "start_time": "2022-06-02T08:30:37.484Z"
   },
   {
    "duration": 6,
    "start_time": "2022-06-02T08:30:37.490Z"
   },
   {
    "duration": 6,
    "start_time": "2022-06-02T08:30:37.497Z"
   },
   {
    "duration": 495,
    "start_time": "2022-06-02T08:30:37.505Z"
   },
   {
    "duration": 272,
    "start_time": "2022-06-02T08:30:38.003Z"
   },
   {
    "duration": 118,
    "start_time": "2022-06-02T08:30:38.276Z"
   },
   {
    "duration": 10,
    "start_time": "2022-06-02T08:30:38.396Z"
   },
   {
    "duration": 350,
    "start_time": "2022-06-02T08:30:38.408Z"
   },
   {
    "duration": 249,
    "start_time": "2022-06-02T08:30:38.760Z"
   },
   {
    "duration": 21,
    "start_time": "2022-06-02T08:30:39.010Z"
   },
   {
    "duration": 37,
    "start_time": "2022-06-02T08:30:39.032Z"
   },
   {
    "duration": 13,
    "start_time": "2022-06-02T08:30:39.071Z"
   },
   {
    "duration": 48,
    "start_time": "2022-06-02T08:30:39.086Z"
   },
   {
    "duration": 19,
    "start_time": "2022-06-02T08:30:39.136Z"
   },
   {
    "duration": 9,
    "start_time": "2022-06-02T08:30:39.157Z"
   },
   {
    "duration": 9,
    "start_time": "2022-06-02T08:30:39.168Z"
   },
   {
    "duration": 14,
    "start_time": "2022-06-02T08:30:39.179Z"
   },
   {
    "duration": 5,
    "start_time": "2022-06-02T08:30:39.195Z"
   },
   {
    "duration": 9,
    "start_time": "2022-06-02T08:30:39.202Z"
   },
   {
    "duration": 6,
    "start_time": "2022-06-02T08:30:39.212Z"
   },
   {
    "duration": 6,
    "start_time": "2022-06-02T08:30:39.219Z"
   },
   {
    "duration": 4,
    "start_time": "2022-06-02T08:30:39.226Z"
   },
   {
    "duration": 3,
    "start_time": "2022-06-02T08:30:39.234Z"
   },
   {
    "duration": 4,
    "start_time": "2022-06-02T08:30:39.239Z"
   },
   {
    "duration": 7,
    "start_time": "2022-06-02T08:30:39.244Z"
   },
   {
    "duration": 5,
    "start_time": "2022-06-02T08:30:39.252Z"
   },
   {
    "duration": 7,
    "start_time": "2022-06-02T08:30:39.259Z"
   },
   {
    "duration": 186,
    "start_time": "2022-06-02T08:30:39.268Z"
   },
   {
    "duration": 115,
    "start_time": "2022-06-02T08:30:39.456Z"
   },
   {
    "duration": 0,
    "start_time": "2022-06-02T08:30:39.573Z"
   },
   {
    "duration": 0,
    "start_time": "2022-06-02T08:30:39.574Z"
   },
   {
    "duration": 0,
    "start_time": "2022-06-02T08:30:39.576Z"
   },
   {
    "duration": 0,
    "start_time": "2022-06-02T08:30:39.577Z"
   },
   {
    "duration": 0,
    "start_time": "2022-06-02T08:30:39.578Z"
   },
   {
    "duration": 0,
    "start_time": "2022-06-02T08:30:39.579Z"
   },
   {
    "duration": 0,
    "start_time": "2022-06-02T08:30:39.581Z"
   },
   {
    "duration": 0,
    "start_time": "2022-06-02T08:30:39.582Z"
   },
   {
    "duration": 0,
    "start_time": "2022-06-02T08:30:39.584Z"
   },
   {
    "duration": 0,
    "start_time": "2022-06-02T08:30:39.585Z"
   },
   {
    "duration": 0,
    "start_time": "2022-06-02T08:30:39.586Z"
   },
   {
    "duration": 0,
    "start_time": "2022-06-02T08:30:39.588Z"
   },
   {
    "duration": 29,
    "start_time": "2022-06-02T08:31:48.729Z"
   },
   {
    "duration": 15,
    "start_time": "2022-06-02T08:31:49.596Z"
   },
   {
    "duration": 1863,
    "start_time": "2022-06-02T08:32:51.485Z"
   },
   {
    "duration": 14,
    "start_time": "2022-06-02T08:32:53.350Z"
   },
   {
    "duration": 13,
    "start_time": "2022-06-02T08:32:53.365Z"
   },
   {
    "duration": 2,
    "start_time": "2022-06-02T08:32:53.380Z"
   },
   {
    "duration": 348,
    "start_time": "2022-06-02T08:32:53.383Z"
   },
   {
    "duration": 4,
    "start_time": "2022-06-02T08:32:53.733Z"
   },
   {
    "duration": 5,
    "start_time": "2022-06-02T08:32:53.738Z"
   },
   {
    "duration": 5,
    "start_time": "2022-06-02T08:32:53.745Z"
   },
   {
    "duration": 475,
    "start_time": "2022-06-02T08:32:53.755Z"
   },
   {
    "duration": 311,
    "start_time": "2022-06-02T08:32:54.233Z"
   },
   {
    "duration": 109,
    "start_time": "2022-06-02T08:32:54.554Z"
   },
   {
    "duration": 10,
    "start_time": "2022-06-02T08:32:54.665Z"
   },
   {
    "duration": 316,
    "start_time": "2022-06-02T08:32:54.676Z"
   },
   {
    "duration": 301,
    "start_time": "2022-06-02T08:32:54.994Z"
   },
   {
    "duration": 20,
    "start_time": "2022-06-02T08:32:55.296Z"
   },
   {
    "duration": 37,
    "start_time": "2022-06-02T08:32:55.318Z"
   },
   {
    "duration": 12,
    "start_time": "2022-06-02T08:32:55.356Z"
   },
   {
    "duration": 43,
    "start_time": "2022-06-02T08:32:55.370Z"
   },
   {
    "duration": 3,
    "start_time": "2022-06-02T08:32:55.415Z"
   },
   {
    "duration": 8,
    "start_time": "2022-06-02T08:32:55.419Z"
   },
   {
    "duration": 4,
    "start_time": "2022-06-02T08:32:55.429Z"
   },
   {
    "duration": 20,
    "start_time": "2022-06-02T08:32:55.435Z"
   },
   {
    "duration": 2,
    "start_time": "2022-06-02T08:32:55.456Z"
   },
   {
    "duration": 6,
    "start_time": "2022-06-02T08:32:55.460Z"
   },
   {
    "duration": 4,
    "start_time": "2022-06-02T08:32:55.468Z"
   },
   {
    "duration": 4,
    "start_time": "2022-06-02T08:32:55.474Z"
   },
   {
    "duration": 5,
    "start_time": "2022-06-02T08:32:55.479Z"
   },
   {
    "duration": 4,
    "start_time": "2022-06-02T08:32:55.486Z"
   },
   {
    "duration": 5,
    "start_time": "2022-06-02T08:32:55.491Z"
   },
   {
    "duration": 4,
    "start_time": "2022-06-02T08:32:55.498Z"
   },
   {
    "duration": 5,
    "start_time": "2022-06-02T08:32:55.503Z"
   },
   {
    "duration": 8,
    "start_time": "2022-06-02T08:32:55.509Z"
   },
   {
    "duration": 236,
    "start_time": "2022-06-02T08:32:55.519Z"
   },
   {
    "duration": 120,
    "start_time": "2022-06-02T08:32:55.756Z"
   },
   {
    "duration": 0,
    "start_time": "2022-06-02T08:32:55.878Z"
   },
   {
    "duration": 0,
    "start_time": "2022-06-02T08:32:55.879Z"
   },
   {
    "duration": 0,
    "start_time": "2022-06-02T08:32:55.880Z"
   },
   {
    "duration": 0,
    "start_time": "2022-06-02T08:32:55.881Z"
   },
   {
    "duration": 0,
    "start_time": "2022-06-02T08:32:55.881Z"
   },
   {
    "duration": 0,
    "start_time": "2022-06-02T08:32:55.882Z"
   },
   {
    "duration": 0,
    "start_time": "2022-06-02T08:32:55.883Z"
   },
   {
    "duration": 0,
    "start_time": "2022-06-02T08:32:55.884Z"
   },
   {
    "duration": 0,
    "start_time": "2022-06-02T08:32:55.885Z"
   },
   {
    "duration": 0,
    "start_time": "2022-06-02T08:32:55.886Z"
   },
   {
    "duration": 0,
    "start_time": "2022-06-02T08:32:55.888Z"
   },
   {
    "duration": 0,
    "start_time": "2022-06-02T08:32:55.889Z"
   },
   {
    "duration": 12,
    "start_time": "2022-06-02T08:33:53.795Z"
   },
   {
    "duration": 19,
    "start_time": "2022-06-02T08:35:21.184Z"
   },
   {
    "duration": 580,
    "start_time": "2022-06-02T08:37:01.180Z"
   },
   {
    "duration": 733,
    "start_time": "2022-06-02T08:37:12.927Z"
   },
   {
    "duration": 1887,
    "start_time": "2022-06-02T08:38:47.502Z"
   },
   {
    "duration": 12,
    "start_time": "2022-06-02T08:38:49.391Z"
   },
   {
    "duration": 12,
    "start_time": "2022-06-02T08:38:49.405Z"
   },
   {
    "duration": 3,
    "start_time": "2022-06-02T08:38:49.419Z"
   },
   {
    "duration": 358,
    "start_time": "2022-06-02T08:38:49.423Z"
   },
   {
    "duration": 5,
    "start_time": "2022-06-02T08:38:49.782Z"
   },
   {
    "duration": 5,
    "start_time": "2022-06-02T08:38:49.788Z"
   },
   {
    "duration": 7,
    "start_time": "2022-06-02T08:38:49.795Z"
   },
   {
    "duration": 528,
    "start_time": "2022-06-02T08:38:49.803Z"
   },
   {
    "duration": 298,
    "start_time": "2022-06-02T08:38:50.334Z"
   },
   {
    "duration": 125,
    "start_time": "2022-06-02T08:38:50.634Z"
   },
   {
    "duration": 11,
    "start_time": "2022-06-02T08:38:50.761Z"
   },
   {
    "duration": 338,
    "start_time": "2022-06-02T08:38:50.773Z"
   },
   {
    "duration": 321,
    "start_time": "2022-06-02T08:38:51.113Z"
   },
   {
    "duration": 32,
    "start_time": "2022-06-02T08:38:51.436Z"
   },
   {
    "duration": 23,
    "start_time": "2022-06-02T08:38:51.469Z"
   },
   {
    "duration": 14,
    "start_time": "2022-06-02T08:38:51.494Z"
   },
   {
    "duration": 71,
    "start_time": "2022-06-02T08:38:51.510Z"
   },
   {
    "duration": 10,
    "start_time": "2022-06-02T08:38:51.583Z"
   },
   {
    "duration": 4,
    "start_time": "2022-06-02T08:38:51.595Z"
   },
   {
    "duration": 17,
    "start_time": "2022-06-02T08:38:51.600Z"
   },
   {
    "duration": 9,
    "start_time": "2022-06-02T08:38:51.619Z"
   },
   {
    "duration": 6,
    "start_time": "2022-06-02T08:38:51.629Z"
   },
   {
    "duration": 4,
    "start_time": "2022-06-02T08:38:51.637Z"
   },
   {
    "duration": 4,
    "start_time": "2022-06-02T08:38:51.642Z"
   },
   {
    "duration": 7,
    "start_time": "2022-06-02T08:38:51.648Z"
   },
   {
    "duration": 4,
    "start_time": "2022-06-02T08:38:51.656Z"
   },
   {
    "duration": 2,
    "start_time": "2022-06-02T08:38:51.664Z"
   },
   {
    "duration": 6,
    "start_time": "2022-06-02T08:38:51.667Z"
   },
   {
    "duration": 5,
    "start_time": "2022-06-02T08:38:51.674Z"
   },
   {
    "duration": 4,
    "start_time": "2022-06-02T08:38:51.681Z"
   },
   {
    "duration": 5,
    "start_time": "2022-06-02T08:38:51.686Z"
   },
   {
    "duration": 10,
    "start_time": "2022-06-02T08:38:51.692Z"
   },
   {
    "duration": 58,
    "start_time": "2022-06-02T08:38:51.704Z"
   },
   {
    "duration": 995,
    "start_time": "2022-06-02T08:38:51.764Z"
   },
   {
    "duration": 3,
    "start_time": "2022-06-02T08:38:52.761Z"
   },
   {
    "duration": 93,
    "start_time": "2022-06-02T08:38:52.766Z"
   },
   {
    "duration": 5,
    "start_time": "2022-06-02T08:38:52.862Z"
   },
   {
    "duration": 6,
    "start_time": "2022-06-02T08:38:52.868Z"
   },
   {
    "duration": 4,
    "start_time": "2022-06-02T08:38:52.876Z"
   },
   {
    "duration": 4,
    "start_time": "2022-06-02T08:38:52.882Z"
   },
   {
    "duration": 2,
    "start_time": "2022-06-02T08:38:52.955Z"
   },
   {
    "duration": 7,
    "start_time": "2022-06-02T08:38:52.959Z"
   },
   {
    "duration": 7866,
    "start_time": "2022-06-02T08:38:52.967Z"
   },
   {
    "duration": 120,
    "start_time": "2022-06-02T08:39:00.835Z"
   },
   {
    "duration": 0,
    "start_time": "2022-06-02T08:39:00.957Z"
   },
   {
    "duration": 0,
    "start_time": "2022-06-02T08:39:00.958Z"
   },
   {
    "duration": 413,
    "start_time": "2022-06-02T08:39:18.450Z"
   },
   {
    "duration": 745,
    "start_time": "2022-06-02T08:39:35.513Z"
   },
   {
    "duration": 579,
    "start_time": "2022-06-02T08:42:57.477Z"
   },
   {
    "duration": 395,
    "start_time": "2022-06-02T08:44:56.565Z"
   },
   {
    "duration": 457,
    "start_time": "2022-06-02T08:45:04.608Z"
   },
   {
    "duration": 686,
    "start_time": "2022-06-02T08:46:25.103Z"
   },
   {
    "duration": 17,
    "start_time": "2022-06-02T08:46:33.365Z"
   },
   {
    "duration": 23,
    "start_time": "2022-06-02T08:46:49.953Z"
   },
   {
    "duration": 24,
    "start_time": "2022-06-02T08:51:02.200Z"
   },
   {
    "duration": 23,
    "start_time": "2022-06-02T08:54:40.420Z"
   },
   {
    "duration": 18,
    "start_time": "2022-06-02T08:55:56.675Z"
   },
   {
    "duration": 16,
    "start_time": "2022-06-02T08:58:29.120Z"
   },
   {
    "duration": 30,
    "start_time": "2022-06-02T09:03:42.730Z"
   },
   {
    "duration": 23,
    "start_time": "2022-06-02T09:04:36.585Z"
   },
   {
    "duration": 45,
    "start_time": "2022-06-02T09:06:32.887Z"
   },
   {
    "duration": 61,
    "start_time": "2022-06-02T09:08:50.460Z"
   },
   {
    "duration": 24,
    "start_time": "2022-06-02T09:09:09.875Z"
   },
   {
    "duration": 22,
    "start_time": "2022-06-02T09:09:28.795Z"
   },
   {
    "duration": 160,
    "start_time": "2022-06-02T09:09:34.220Z"
   },
   {
    "duration": 838,
    "start_time": "2022-06-02T09:09:55.120Z"
   },
   {
    "duration": 747,
    "start_time": "2022-06-02T09:10:35.914Z"
   },
   {
    "duration": 425,
    "start_time": "2022-06-02T09:14:55.338Z"
   },
   {
    "duration": 669,
    "start_time": "2022-06-02T09:15:07.387Z"
   },
   {
    "duration": 741,
    "start_time": "2022-06-02T09:16:20.918Z"
   },
   {
    "duration": 1379,
    "start_time": "2022-06-02T09:17:18.276Z"
   },
   {
    "duration": 839,
    "start_time": "2022-06-02T09:18:52.915Z"
   },
   {
    "duration": 5,
    "start_time": "2022-06-02T09:19:39.049Z"
   },
   {
    "duration": 1322,
    "start_time": "2022-06-02T09:19:58.736Z"
   },
   {
    "duration": 1460,
    "start_time": "2022-06-02T09:20:57.496Z"
   },
   {
    "duration": 881,
    "start_time": "2022-06-02T09:21:47.975Z"
   },
   {
    "duration": 1412,
    "start_time": "2022-06-02T09:21:51.645Z"
   },
   {
    "duration": 7,
    "start_time": "2022-06-02T09:24:00.324Z"
   },
   {
    "duration": 5,
    "start_time": "2022-06-02T09:24:01.059Z"
   },
   {
    "duration": 6,
    "start_time": "2022-06-02T09:24:11.260Z"
   },
   {
    "duration": 185,
    "start_time": "2022-06-02T09:25:38.371Z"
   },
   {
    "duration": 7,
    "start_time": "2022-06-02T09:25:41.403Z"
   },
   {
    "duration": 7857,
    "start_time": "2022-06-02T09:28:52.095Z"
   },
   {
    "duration": 31442,
    "start_time": "2022-06-02T09:29:01.635Z"
   },
   {
    "duration": 72860,
    "start_time": "2022-06-02T09:29:36.623Z"
   },
   {
    "duration": 20685,
    "start_time": "2022-06-02T09:35:46.671Z"
   },
   {
    "duration": 43,
    "start_time": "2022-06-02T10:11:13.678Z"
   },
   {
    "duration": 4629,
    "start_time": "2022-06-05T05:57:15.727Z"
   },
   {
    "duration": 16,
    "start_time": "2022-06-05T05:57:20.358Z"
   },
   {
    "duration": 13,
    "start_time": "2022-06-05T05:57:20.376Z"
   },
   {
    "duration": 3,
    "start_time": "2022-06-05T05:57:20.392Z"
   },
   {
    "duration": 368,
    "start_time": "2022-06-05T05:57:20.397Z"
   },
   {
    "duration": 6,
    "start_time": "2022-06-05T05:57:20.766Z"
   },
   {
    "duration": 5,
    "start_time": "2022-06-05T05:57:20.773Z"
   },
   {
    "duration": 7,
    "start_time": "2022-06-05T05:57:20.780Z"
   },
   {
    "duration": 617,
    "start_time": "2022-06-05T05:57:20.789Z"
   },
   {
    "duration": 334,
    "start_time": "2022-06-05T05:57:21.408Z"
   },
   {
    "duration": 173,
    "start_time": "2022-06-05T05:57:21.744Z"
   },
   {
    "duration": 12,
    "start_time": "2022-06-05T05:57:21.926Z"
   },
   {
    "duration": 342,
    "start_time": "2022-06-05T05:57:21.940Z"
   },
   {
    "duration": 315,
    "start_time": "2022-06-05T05:57:22.284Z"
   },
   {
    "duration": 31,
    "start_time": "2022-06-05T05:57:22.601Z"
   },
   {
    "duration": 19,
    "start_time": "2022-06-05T05:57:22.633Z"
   },
   {
    "duration": 11,
    "start_time": "2022-06-05T05:57:22.654Z"
   },
   {
    "duration": 67,
    "start_time": "2022-06-05T05:57:22.667Z"
   },
   {
    "duration": 11,
    "start_time": "2022-06-05T05:57:22.736Z"
   },
   {
    "duration": 15,
    "start_time": "2022-06-05T05:57:22.748Z"
   },
   {
    "duration": 20,
    "start_time": "2022-06-05T05:57:22.764Z"
   },
   {
    "duration": 849214,
    "start_time": "2022-06-05T05:57:22.785Z"
   },
   {
    "duration": 114600,
    "start_time": "2022-06-05T06:11:32.001Z"
   },
   {
    "duration": 39,
    "start_time": "2022-06-05T06:13:26.603Z"
   },
   {
    "duration": 6,
    "start_time": "2022-06-05T06:13:26.646Z"
   },
   {
    "duration": 125,
    "start_time": "2022-06-05T06:13:26.654Z"
   },
   {
    "duration": 0,
    "start_time": "2022-06-05T06:13:26.782Z"
   },
   {
    "duration": 0,
    "start_time": "2022-06-05T06:13:26.783Z"
   },
   {
    "duration": 0,
    "start_time": "2022-06-05T06:13:26.784Z"
   },
   {
    "duration": 0,
    "start_time": "2022-06-05T06:13:26.784Z"
   },
   {
    "duration": 0,
    "start_time": "2022-06-05T06:13:26.786Z"
   },
   {
    "duration": 0,
    "start_time": "2022-06-05T06:13:26.787Z"
   },
   {
    "duration": 0,
    "start_time": "2022-06-05T06:13:26.788Z"
   },
   {
    "duration": 0,
    "start_time": "2022-06-05T06:13:26.790Z"
   },
   {
    "duration": 0,
    "start_time": "2022-06-05T06:13:26.792Z"
   },
   {
    "duration": 0,
    "start_time": "2022-06-05T06:13:26.793Z"
   },
   {
    "duration": 0,
    "start_time": "2022-06-05T06:13:26.794Z"
   },
   {
    "duration": 0,
    "start_time": "2022-06-05T06:13:26.795Z"
   },
   {
    "duration": 1,
    "start_time": "2022-06-05T06:13:26.796Z"
   },
   {
    "duration": 0,
    "start_time": "2022-06-05T06:13:26.798Z"
   },
   {
    "duration": 0,
    "start_time": "2022-06-05T06:13:26.827Z"
   },
   {
    "duration": 0,
    "start_time": "2022-06-05T06:13:26.828Z"
   },
   {
    "duration": 0,
    "start_time": "2022-06-05T06:13:26.829Z"
   },
   {
    "duration": 0,
    "start_time": "2022-06-05T06:13:26.830Z"
   },
   {
    "duration": 11679,
    "start_time": "2022-06-05T06:21:23.518Z"
   },
   {
    "duration": 33,
    "start_time": "2022-06-05T06:21:41.234Z"
   },
   {
    "duration": 5,
    "start_time": "2022-06-05T06:21:44.047Z"
   },
   {
    "duration": 2199,
    "start_time": "2022-06-05T06:24:51.738Z"
   },
   {
    "duration": 20,
    "start_time": "2022-06-05T06:24:53.940Z"
   },
   {
    "duration": 19,
    "start_time": "2022-06-05T06:24:53.962Z"
   },
   {
    "duration": 32,
    "start_time": "2022-06-05T06:24:53.983Z"
   },
   {
    "duration": 375,
    "start_time": "2022-06-05T06:24:54.017Z"
   },
   {
    "duration": 5,
    "start_time": "2022-06-05T06:24:54.394Z"
   },
   {
    "duration": 23,
    "start_time": "2022-06-05T06:24:54.401Z"
   },
   {
    "duration": 31,
    "start_time": "2022-06-05T06:24:54.425Z"
   },
   {
    "duration": 585,
    "start_time": "2022-06-05T06:24:54.458Z"
   },
   {
    "duration": 327,
    "start_time": "2022-06-05T06:24:55.046Z"
   },
   {
    "duration": 131,
    "start_time": "2022-06-05T06:24:55.375Z"
   },
   {
    "duration": 24,
    "start_time": "2022-06-05T06:24:55.508Z"
   },
   {
    "duration": 426,
    "start_time": "2022-06-05T06:24:55.533Z"
   },
   {
    "duration": 359,
    "start_time": "2022-06-05T06:24:55.961Z"
   },
   {
    "duration": 29,
    "start_time": "2022-06-05T06:24:56.321Z"
   },
   {
    "duration": 48,
    "start_time": "2022-06-05T06:24:56.352Z"
   },
   {
    "duration": 102,
    "start_time": "2022-06-05T06:24:56.402Z"
   },
   {
    "duration": 11,
    "start_time": "2022-06-05T06:24:56.506Z"
   },
   {
    "duration": 32,
    "start_time": "2022-06-05T06:24:56.518Z"
   },
   {
    "duration": 844568,
    "start_time": "2022-06-05T06:24:56.552Z"
   },
   {
    "duration": 117523,
    "start_time": "2022-06-05T06:39:01.123Z"
   },
   {
    "duration": 30,
    "start_time": "2022-06-05T06:40:58.647Z"
   },
   {
    "duration": 5,
    "start_time": "2022-06-05T06:40:58.679Z"
   },
   {
    "duration": 12830,
    "start_time": "2022-06-05T06:40:58.686Z"
   },
   {
    "duration": 36,
    "start_time": "2022-06-05T06:41:11.518Z"
   },
   {
    "duration": 8,
    "start_time": "2022-06-05T06:41:11.555Z"
   },
   {
    "duration": 72,
    "start_time": "2022-06-05T06:41:11.564Z"
   },
   {
    "duration": 1289,
    "start_time": "2022-06-05T06:41:11.644Z"
   },
   {
    "duration": 2197,
    "start_time": "2022-06-05T06:41:12.940Z"
   },
   {
    "duration": 12,
    "start_time": "2022-06-05T06:41:15.139Z"
   },
   {
    "duration": 7,
    "start_time": "2022-06-05T06:41:15.153Z"
   },
   {
    "duration": 94,
    "start_time": "2022-06-05T06:41:15.161Z"
   },
   {
    "duration": 77,
    "start_time": "2022-06-05T06:41:15.258Z"
   },
   {
    "duration": 200,
    "start_time": "2022-06-05T06:41:15.337Z"
   },
   {
    "duration": 10,
    "start_time": "2022-06-05T06:41:15.539Z"
   },
   {
    "duration": 105,
    "start_time": "2022-06-05T06:41:15.628Z"
   },
   {
    "duration": 8524,
    "start_time": "2022-06-05T06:41:15.735Z"
   },
   {
    "duration": 32793,
    "start_time": "2022-06-05T06:41:24.260Z"
   },
   {
    "duration": 77473,
    "start_time": "2022-06-05T06:41:57.055Z"
   },
   {
    "duration": 123,
    "start_time": "2022-06-05T06:43:14.529Z"
   },
   {
    "duration": 0,
    "start_time": "2022-06-05T06:43:14.653Z"
   },
   {
    "duration": 0,
    "start_time": "2022-06-05T06:43:14.655Z"
   },
   {
    "duration": 0,
    "start_time": "2022-06-05T06:43:14.656Z"
   },
   {
    "duration": 12,
    "start_time": "2022-06-05T06:45:45.935Z"
   },
   {
    "duration": 11,
    "start_time": "2022-06-05T06:46:20.619Z"
   },
   {
    "duration": 3,
    "start_time": "2022-06-05T06:47:07.446Z"
   },
   {
    "duration": 6,
    "start_time": "2022-06-05T06:47:12.743Z"
   },
   {
    "duration": 3,
    "start_time": "2022-06-05T06:47:14.560Z"
   },
   {
    "duration": 29,
    "start_time": "2022-06-05T06:47:18.517Z"
   },
   {
    "duration": 11,
    "start_time": "2022-06-05T06:47:47.532Z"
   },
   {
    "duration": 11,
    "start_time": "2022-06-05T06:48:59.028Z"
   },
   {
    "duration": 11,
    "start_time": "2022-06-05T06:49:38.999Z"
   },
   {
    "duration": 11,
    "start_time": "2022-06-05T06:50:44.876Z"
   },
   {
    "duration": 6,
    "start_time": "2022-06-05T06:51:31.988Z"
   },
   {
    "duration": 8,
    "start_time": "2022-06-05T06:51:33.622Z"
   },
   {
    "duration": 6,
    "start_time": "2022-06-05T06:51:45.705Z"
   },
   {
    "duration": 2049,
    "start_time": "2022-06-05T06:52:03.116Z"
   },
   {
    "duration": 14,
    "start_time": "2022-06-05T06:52:05.167Z"
   },
   {
    "duration": 13,
    "start_time": "2022-06-05T06:52:05.182Z"
   },
   {
    "duration": 3,
    "start_time": "2022-06-05T06:52:05.197Z"
   },
   {
    "duration": 342,
    "start_time": "2022-06-05T06:52:05.202Z"
   },
   {
    "duration": 6,
    "start_time": "2022-06-05T06:52:05.546Z"
   },
   {
    "duration": 9,
    "start_time": "2022-06-05T06:52:05.554Z"
   },
   {
    "duration": 13,
    "start_time": "2022-06-05T06:52:05.564Z"
   },
   {
    "duration": 536,
    "start_time": "2022-06-05T06:52:05.578Z"
   },
   {
    "duration": 337,
    "start_time": "2022-06-05T06:52:06.117Z"
   },
   {
    "duration": 250,
    "start_time": "2022-06-05T06:52:06.456Z"
   },
   {
    "duration": 0,
    "start_time": "2022-06-05T06:52:06.708Z"
   },
   {
    "duration": 0,
    "start_time": "2022-06-05T06:52:06.709Z"
   },
   {
    "duration": 0,
    "start_time": "2022-06-05T06:52:06.710Z"
   },
   {
    "duration": 0,
    "start_time": "2022-06-05T06:52:06.711Z"
   },
   {
    "duration": 0,
    "start_time": "2022-06-05T06:52:06.712Z"
   },
   {
    "duration": 0,
    "start_time": "2022-06-05T06:52:06.713Z"
   },
   {
    "duration": 0,
    "start_time": "2022-06-05T06:52:06.727Z"
   },
   {
    "duration": 0,
    "start_time": "2022-06-05T06:52:06.728Z"
   },
   {
    "duration": 0,
    "start_time": "2022-06-05T06:52:06.729Z"
   },
   {
    "duration": 0,
    "start_time": "2022-06-05T06:52:06.730Z"
   },
   {
    "duration": 0,
    "start_time": "2022-06-05T06:52:06.731Z"
   },
   {
    "duration": 0,
    "start_time": "2022-06-05T06:52:06.732Z"
   },
   {
    "duration": 0,
    "start_time": "2022-06-05T06:52:06.733Z"
   },
   {
    "duration": 0,
    "start_time": "2022-06-05T06:52:06.734Z"
   },
   {
    "duration": 0,
    "start_time": "2022-06-05T06:52:06.735Z"
   },
   {
    "duration": 0,
    "start_time": "2022-06-05T06:52:06.736Z"
   },
   {
    "duration": 0,
    "start_time": "2022-06-05T06:52:06.737Z"
   },
   {
    "duration": 0,
    "start_time": "2022-06-05T06:52:06.737Z"
   },
   {
    "duration": 0,
    "start_time": "2022-06-05T06:52:06.738Z"
   },
   {
    "duration": 0,
    "start_time": "2022-06-05T06:52:06.740Z"
   },
   {
    "duration": 0,
    "start_time": "2022-06-05T06:52:06.741Z"
   },
   {
    "duration": 0,
    "start_time": "2022-06-05T06:52:06.742Z"
   },
   {
    "duration": 0,
    "start_time": "2022-06-05T06:52:06.743Z"
   },
   {
    "duration": 0,
    "start_time": "2022-06-05T06:52:06.744Z"
   },
   {
    "duration": 0,
    "start_time": "2022-06-05T06:52:06.745Z"
   },
   {
    "duration": 0,
    "start_time": "2022-06-05T06:52:06.746Z"
   },
   {
    "duration": 0,
    "start_time": "2022-06-05T06:52:06.747Z"
   },
   {
    "duration": 0,
    "start_time": "2022-06-05T06:52:06.748Z"
   },
   {
    "duration": 0,
    "start_time": "2022-06-05T06:52:06.749Z"
   },
   {
    "duration": 0,
    "start_time": "2022-06-05T06:52:06.750Z"
   },
   {
    "duration": 0,
    "start_time": "2022-06-05T06:52:06.751Z"
   },
   {
    "duration": 0,
    "start_time": "2022-06-05T06:52:06.752Z"
   },
   {
    "duration": 0,
    "start_time": "2022-06-05T06:52:06.753Z"
   },
   {
    "duration": 0,
    "start_time": "2022-06-05T06:52:06.754Z"
   },
   {
    "duration": 0,
    "start_time": "2022-06-05T06:52:06.755Z"
   },
   {
    "duration": 303,
    "start_time": "2022-06-05T06:53:34.576Z"
   },
   {
    "duration": 279,
    "start_time": "2022-06-05T06:53:57.476Z"
   },
   {
    "duration": 138,
    "start_time": "2022-06-05T06:54:07.895Z"
   },
   {
    "duration": 126,
    "start_time": "2022-06-05T06:54:26.998Z"
   },
   {
    "duration": 285,
    "start_time": "2022-06-05T06:55:56.673Z"
   },
   {
    "duration": 134,
    "start_time": "2022-06-05T06:56:34.973Z"
   },
   {
    "duration": 329,
    "start_time": "2022-06-05T06:56:47.044Z"
   },
   {
    "duration": 256,
    "start_time": "2022-06-05T06:57:00.876Z"
   },
   {
    "duration": 1967,
    "start_time": "2022-06-05T06:58:09.342Z"
   },
   {
    "duration": 28,
    "start_time": "2022-06-05T06:58:11.311Z"
   },
   {
    "duration": 12,
    "start_time": "2022-06-05T06:58:11.346Z"
   },
   {
    "duration": 4,
    "start_time": "2022-06-05T06:58:11.360Z"
   },
   {
    "duration": 359,
    "start_time": "2022-06-05T06:58:11.365Z"
   },
   {
    "duration": 12,
    "start_time": "2022-06-05T06:58:11.726Z"
   },
   {
    "duration": 15,
    "start_time": "2022-06-05T06:58:11.740Z"
   },
   {
    "duration": 14,
    "start_time": "2022-06-05T06:58:11.757Z"
   },
   {
    "duration": 543,
    "start_time": "2022-06-05T06:58:11.773Z"
   },
   {
    "duration": 321,
    "start_time": "2022-06-05T06:58:12.328Z"
   },
   {
    "duration": 222,
    "start_time": "2022-06-05T06:58:12.651Z"
   },
   {
    "duration": 11,
    "start_time": "2022-06-05T06:58:12.875Z"
   },
   {
    "duration": 368,
    "start_time": "2022-06-05T06:58:12.888Z"
   },
   {
    "duration": 331,
    "start_time": "2022-06-05T06:58:13.258Z"
   },
   {
    "duration": 23,
    "start_time": "2022-06-05T06:58:13.590Z"
   },
   {
    "duration": 24,
    "start_time": "2022-06-05T06:58:13.631Z"
   },
   {
    "duration": 49,
    "start_time": "2022-06-05T06:58:13.657Z"
   },
   {
    "duration": 4,
    "start_time": "2022-06-05T06:58:13.708Z"
   },
   {
    "duration": 5,
    "start_time": "2022-06-05T06:58:13.732Z"
   },
   {
    "duration": 837606,
    "start_time": "2022-06-05T06:58:13.740Z"
   },
   {
    "duration": 114374,
    "start_time": "2022-06-05T07:12:11.348Z"
   },
   {
    "duration": 35,
    "start_time": "2022-06-05T07:14:05.724Z"
   },
   {
    "duration": 5,
    "start_time": "2022-06-05T07:14:05.761Z"
   },
   {
    "duration": 12597,
    "start_time": "2022-06-05T07:14:05.768Z"
   },
   {
    "duration": 33,
    "start_time": "2022-06-05T07:14:18.366Z"
   },
   {
    "duration": 5,
    "start_time": "2022-06-05T07:14:18.401Z"
   },
   {
    "duration": 28,
    "start_time": "2022-06-05T07:14:18.407Z"
   },
   {
    "duration": 1001,
    "start_time": "2022-06-05T07:14:18.438Z"
   },
   {
    "duration": 1602,
    "start_time": "2022-06-05T07:14:19.527Z"
   },
   {
    "duration": 3,
    "start_time": "2022-06-05T07:14:21.131Z"
   },
   {
    "duration": 15,
    "start_time": "2022-06-05T07:14:21.137Z"
   },
   {
    "duration": 16,
    "start_time": "2022-06-05T07:14:21.228Z"
   },
   {
    "duration": 187,
    "start_time": "2022-06-05T07:14:21.246Z"
   },
   {
    "duration": 303,
    "start_time": "2022-06-05T07:14:21.435Z"
   },
   {
    "duration": 87,
    "start_time": "2022-06-05T07:14:21.741Z"
   },
   {
    "duration": 11,
    "start_time": "2022-06-05T07:14:21.831Z"
   },
   {
    "duration": 8137,
    "start_time": "2022-06-05T07:14:21.844Z"
   },
   {
    "duration": 32348,
    "start_time": "2022-06-05T07:14:29.984Z"
   },
   {
    "duration": 74606,
    "start_time": "2022-06-05T07:15:02.334Z"
   },
   {
    "duration": 122,
    "start_time": "2022-06-05T07:16:16.942Z"
   },
   {
    "duration": 0,
    "start_time": "2022-06-05T07:16:17.066Z"
   },
   {
    "duration": 0,
    "start_time": "2022-06-05T07:16:17.067Z"
   },
   {
    "duration": 0,
    "start_time": "2022-06-05T07:16:17.068Z"
   },
   {
    "duration": 0,
    "start_time": "2022-06-05T07:16:17.069Z"
   },
   {
    "duration": 0,
    "start_time": "2022-06-05T07:16:17.070Z"
   },
   {
    "duration": 0,
    "start_time": "2022-06-05T07:16:17.071Z"
   },
   {
    "duration": 10,
    "start_time": "2022-06-05T07:21:07.407Z"
   },
   {
    "duration": 0,
    "start_time": "2022-06-05T07:21:07.418Z"
   },
   {
    "duration": 0,
    "start_time": "2022-06-05T07:21:07.419Z"
   },
   {
    "duration": 51,
    "start_time": "2022-06-05T07:21:07.421Z"
   },
   {
    "duration": 0,
    "start_time": "2022-06-05T07:21:07.474Z"
   },
   {
    "duration": 0,
    "start_time": "2022-06-05T07:21:07.475Z"
   },
   {
    "duration": 0,
    "start_time": "2022-06-05T07:21:07.476Z"
   },
   {
    "duration": 0,
    "start_time": "2022-06-05T07:21:07.477Z"
   },
   {
    "duration": 0,
    "start_time": "2022-06-05T07:21:07.478Z"
   },
   {
    "duration": 9,
    "start_time": "2022-06-05T07:21:07.736Z"
   },
   {
    "duration": 0,
    "start_time": "2022-06-05T07:21:07.746Z"
   },
   {
    "duration": 7,
    "start_time": "2022-06-05T07:21:07.778Z"
   },
   {
    "duration": 0,
    "start_time": "2022-06-05T07:21:07.786Z"
   },
   {
    "duration": 0,
    "start_time": "2022-06-05T07:21:07.788Z"
   },
   {
    "duration": 0,
    "start_time": "2022-06-05T07:21:07.789Z"
   },
   {
    "duration": 0,
    "start_time": "2022-06-05T07:21:07.790Z"
   },
   {
    "duration": 0,
    "start_time": "2022-06-05T07:21:07.791Z"
   },
   {
    "duration": 12,
    "start_time": "2022-06-05T07:21:07.799Z"
   },
   {
    "duration": 0,
    "start_time": "2022-06-05T07:21:07.812Z"
   },
   {
    "duration": 0,
    "start_time": "2022-06-05T07:21:07.813Z"
   },
   {
    "duration": 0,
    "start_time": "2022-06-05T07:21:07.815Z"
   },
   {
    "duration": 0,
    "start_time": "2022-06-05T07:21:07.816Z"
   },
   {
    "duration": 6,
    "start_time": "2022-06-05T07:21:07.830Z"
   },
   {
    "duration": 0,
    "start_time": "2022-06-05T07:21:07.838Z"
   },
   {
    "duration": 0,
    "start_time": "2022-06-05T07:21:07.840Z"
   },
   {
    "duration": 0,
    "start_time": "2022-06-05T07:21:07.841Z"
   },
   {
    "duration": 0,
    "start_time": "2022-06-05T07:21:07.843Z"
   },
   {
    "duration": 0,
    "start_time": "2022-06-05T07:21:07.844Z"
   },
   {
    "duration": 11,
    "start_time": "2022-06-05T07:21:07.848Z"
   },
   {
    "duration": 0,
    "start_time": "2022-06-05T07:21:07.861Z"
   },
   {
    "duration": 0,
    "start_time": "2022-06-05T07:21:07.862Z"
   },
   {
    "duration": 0,
    "start_time": "2022-06-05T07:21:07.863Z"
   },
   {
    "duration": 0,
    "start_time": "2022-06-05T07:21:07.864Z"
   },
   {
    "duration": 0,
    "start_time": "2022-06-05T07:21:07.865Z"
   },
   {
    "duration": 6,
    "start_time": "2022-06-05T07:21:07.881Z"
   },
   {
    "duration": 0,
    "start_time": "2022-06-05T07:21:07.927Z"
   },
   {
    "duration": 0,
    "start_time": "2022-06-05T07:21:07.928Z"
   },
   {
    "duration": 0,
    "start_time": "2022-06-05T07:21:07.930Z"
   },
   {
    "duration": 7,
    "start_time": "2022-06-05T07:21:07.932Z"
   },
   {
    "duration": 0,
    "start_time": "2022-06-05T07:21:07.940Z"
   },
   {
    "duration": 8,
    "start_time": "2022-06-05T07:21:08.177Z"
   },
   {
    "duration": 8,
    "start_time": "2022-06-05T07:21:08.455Z"
   },
   {
    "duration": 0,
    "start_time": "2022-06-05T07:21:08.465Z"
   },
   {
    "duration": 13,
    "start_time": "2022-06-05T07:21:08.476Z"
   },
   {
    "duration": 0,
    "start_time": "2022-06-05T07:21:08.491Z"
   },
   {
    "duration": 9,
    "start_time": "2022-06-05T07:21:08.820Z"
   },
   {
    "duration": 0,
    "start_time": "2022-06-05T07:21:08.831Z"
   },
   {
    "duration": 1160,
    "start_time": "2022-06-05T07:21:31.557Z"
   },
   {
    "duration": 769,
    "start_time": "2022-06-05T07:21:32.721Z"
   },
   {
    "duration": 14,
    "start_time": "2022-06-05T07:21:33.492Z"
   },
   {
    "duration": 26,
    "start_time": "2022-06-05T07:21:33.508Z"
   },
   {
    "duration": 3,
    "start_time": "2022-06-05T07:21:33.536Z"
   },
   {
    "duration": 342,
    "start_time": "2022-06-05T07:21:33.541Z"
   },
   {
    "duration": 5,
    "start_time": "2022-06-05T07:21:33.885Z"
   },
   {
    "duration": 5,
    "start_time": "2022-06-05T07:21:33.892Z"
   },
   {
    "duration": 7,
    "start_time": "2022-06-05T07:21:33.899Z"
   },
   {
    "duration": 506,
    "start_time": "2022-06-05T07:21:33.907Z"
   },
   {
    "duration": 288,
    "start_time": "2022-06-05T07:21:34.414Z"
   },
   {
    "duration": 257,
    "start_time": "2022-06-05T07:21:34.703Z"
   },
   {
    "duration": 11,
    "start_time": "2022-06-05T07:21:34.962Z"
   },
   {
    "duration": 373,
    "start_time": "2022-06-05T07:21:34.976Z"
   },
   {
    "duration": 328,
    "start_time": "2022-06-05T07:21:35.350Z"
   },
   {
    "duration": 21,
    "start_time": "2022-06-05T07:21:35.679Z"
   },
   {
    "duration": 34,
    "start_time": "2022-06-05T07:21:35.701Z"
   },
   {
    "duration": 45,
    "start_time": "2022-06-05T07:21:35.737Z"
   },
   {
    "duration": 4,
    "start_time": "2022-06-05T07:21:35.783Z"
   },
   {
    "duration": 7,
    "start_time": "2022-06-05T07:21:35.789Z"
   },
   {
    "duration": 887120,
    "start_time": "2022-06-05T07:21:35.798Z"
   },
   {
    "duration": 114104,
    "start_time": "2022-06-05T07:36:22.920Z"
   },
   {
    "duration": 31,
    "start_time": "2022-06-05T07:38:17.027Z"
   },
   {
    "duration": 5,
    "start_time": "2022-06-05T07:38:17.060Z"
   },
   {
    "duration": 11922,
    "start_time": "2022-06-05T07:38:17.066Z"
   },
   {
    "duration": 43,
    "start_time": "2022-06-05T07:38:28.990Z"
   },
   {
    "duration": 6,
    "start_time": "2022-06-05T07:38:29.034Z"
   },
   {
    "duration": 19,
    "start_time": "2022-06-05T07:38:29.042Z"
   },
   {
    "duration": 1076,
    "start_time": "2022-06-05T07:38:29.063Z"
   },
   {
    "duration": 1493,
    "start_time": "2022-06-05T07:38:30.141Z"
   },
   {
    "duration": 91,
    "start_time": "2022-06-05T07:38:31.636Z"
   },
   {
    "duration": 98,
    "start_time": "2022-06-05T07:38:31.730Z"
   },
   {
    "duration": 20,
    "start_time": "2022-06-05T07:38:31.830Z"
   },
   {
    "duration": 182,
    "start_time": "2022-06-05T07:38:31.852Z"
   },
   {
    "duration": 195,
    "start_time": "2022-06-05T07:38:32.036Z"
   },
   {
    "duration": 3,
    "start_time": "2022-06-05T07:38:32.233Z"
   },
   {
    "duration": 104,
    "start_time": "2022-06-05T07:38:32.238Z"
   },
   {
    "duration": 8359,
    "start_time": "2022-06-05T07:38:32.344Z"
   },
   {
    "duration": 32421,
    "start_time": "2022-06-05T07:38:40.705Z"
   },
   {
    "duration": 74402,
    "start_time": "2022-06-05T07:39:13.128Z"
   },
   {
    "duration": 5,
    "start_time": "2022-06-05T07:40:27.534Z"
   },
   {
    "duration": 18911,
    "start_time": "2022-06-05T07:40:27.540Z"
   },
   {
    "duration": 12,
    "start_time": "2022-06-05T07:40:46.453Z"
   },
   {
    "duration": 6,
    "start_time": "2022-06-05T07:40:46.467Z"
   },
   {
    "duration": 9,
    "start_time": "2022-06-05T07:40:46.475Z"
   },
   {
    "duration": 27,
    "start_time": "2022-06-05T07:40:46.486Z"
   },
   {
    "duration": 11,
    "start_time": "2022-06-05T07:40:46.516Z"
   },
   {
    "duration": 526,
    "start_time": "2022-06-05T07:49:10.788Z"
   },
   {
    "duration": 0,
    "start_time": "2022-06-05T07:49:11.316Z"
   },
   {
    "duration": 0,
    "start_time": "2022-06-05T07:49:11.317Z"
   },
   {
    "duration": 0,
    "start_time": "2022-06-05T07:49:11.318Z"
   },
   {
    "duration": 0,
    "start_time": "2022-06-05T07:49:11.319Z"
   },
   {
    "duration": 0,
    "start_time": "2022-06-05T07:49:11.320Z"
   },
   {
    "duration": 0,
    "start_time": "2022-06-05T07:49:11.327Z"
   },
   {
    "duration": 0,
    "start_time": "2022-06-05T07:49:11.328Z"
   },
   {
    "duration": 0,
    "start_time": "2022-06-05T07:49:11.333Z"
   },
   {
    "duration": 0,
    "start_time": "2022-06-05T07:49:11.334Z"
   },
   {
    "duration": 0,
    "start_time": "2022-06-05T07:49:11.335Z"
   },
   {
    "duration": 0,
    "start_time": "2022-06-05T07:49:11.336Z"
   },
   {
    "duration": 0,
    "start_time": "2022-06-05T07:49:11.337Z"
   },
   {
    "duration": 0,
    "start_time": "2022-06-05T07:49:11.338Z"
   },
   {
    "duration": 0,
    "start_time": "2022-06-05T07:49:11.339Z"
   },
   {
    "duration": 0,
    "start_time": "2022-06-05T07:49:11.340Z"
   },
   {
    "duration": 0,
    "start_time": "2022-06-05T07:49:11.341Z"
   },
   {
    "duration": 0,
    "start_time": "2022-06-05T07:49:11.342Z"
   },
   {
    "duration": 0,
    "start_time": "2022-06-05T07:49:11.343Z"
   },
   {
    "duration": 0,
    "start_time": "2022-06-05T07:49:11.344Z"
   },
   {
    "duration": 0,
    "start_time": "2022-06-05T07:49:11.345Z"
   },
   {
    "duration": 0,
    "start_time": "2022-06-05T07:49:11.346Z"
   },
   {
    "duration": 0,
    "start_time": "2022-06-05T07:49:11.347Z"
   },
   {
    "duration": 0,
    "start_time": "2022-06-05T07:49:11.348Z"
   },
   {
    "duration": 0,
    "start_time": "2022-06-05T07:49:11.349Z"
   },
   {
    "duration": 0,
    "start_time": "2022-06-05T07:49:11.350Z"
   },
   {
    "duration": 0,
    "start_time": "2022-06-05T07:49:11.351Z"
   },
   {
    "duration": 0,
    "start_time": "2022-06-05T07:49:11.352Z"
   },
   {
    "duration": 0,
    "start_time": "2022-06-05T07:49:11.353Z"
   },
   {
    "duration": 0,
    "start_time": "2022-06-05T07:49:11.354Z"
   },
   {
    "duration": 0,
    "start_time": "2022-06-05T07:49:11.355Z"
   },
   {
    "duration": 0,
    "start_time": "2022-06-05T07:49:11.356Z"
   },
   {
    "duration": 0,
    "start_time": "2022-06-05T07:49:11.357Z"
   },
   {
    "duration": 0,
    "start_time": "2022-06-05T07:49:11.360Z"
   },
   {
    "duration": 0,
    "start_time": "2022-06-05T07:49:11.361Z"
   },
   {
    "duration": 0,
    "start_time": "2022-06-05T07:49:11.362Z"
   },
   {
    "duration": 0,
    "start_time": "2022-06-05T07:49:11.363Z"
   },
   {
    "duration": 0,
    "start_time": "2022-06-05T07:49:11.364Z"
   },
   {
    "duration": 0,
    "start_time": "2022-06-05T07:49:11.365Z"
   },
   {
    "duration": 0,
    "start_time": "2022-06-05T07:49:11.366Z"
   },
   {
    "duration": 0,
    "start_time": "2022-06-05T07:49:11.367Z"
   },
   {
    "duration": 0,
    "start_time": "2022-06-05T07:49:11.368Z"
   },
   {
    "duration": 0,
    "start_time": "2022-06-05T07:49:11.369Z"
   },
   {
    "duration": 0,
    "start_time": "2022-06-05T07:49:11.427Z"
   },
   {
    "duration": 0,
    "start_time": "2022-06-05T07:49:11.428Z"
   },
   {
    "duration": 0,
    "start_time": "2022-06-05T07:49:11.429Z"
   },
   {
    "duration": 0,
    "start_time": "2022-06-05T07:49:11.430Z"
   },
   {
    "duration": 752,
    "start_time": "2022-06-05T07:49:26.578Z"
   },
   {
    "duration": 74,
    "start_time": "2022-06-05T07:49:58.219Z"
   },
   {
    "duration": 12,
    "start_time": "2022-06-05T07:51:38.686Z"
   },
   {
    "duration": 3,
    "start_time": "2022-06-05T07:52:25.613Z"
   },
   {
    "duration": 1167,
    "start_time": "2022-06-05T07:52:34.601Z"
   },
   {
    "duration": 779,
    "start_time": "2022-06-05T07:52:35.771Z"
   },
   {
    "duration": 21,
    "start_time": "2022-06-05T07:52:36.553Z"
   },
   {
    "duration": 14,
    "start_time": "2022-06-05T07:52:36.577Z"
   },
   {
    "duration": 4,
    "start_time": "2022-06-05T07:52:36.594Z"
   },
   {
    "duration": 357,
    "start_time": "2022-06-05T07:52:36.599Z"
   },
   {
    "duration": 5,
    "start_time": "2022-06-05T07:52:36.958Z"
   },
   {
    "duration": 11,
    "start_time": "2022-06-05T07:52:36.964Z"
   },
   {
    "duration": 5,
    "start_time": "2022-06-05T07:52:36.977Z"
   },
   {
    "duration": 535,
    "start_time": "2022-06-05T07:52:36.985Z"
   },
   {
    "duration": 344,
    "start_time": "2022-06-05T07:52:37.521Z"
   },
   {
    "duration": 286,
    "start_time": "2022-06-05T07:52:37.869Z"
   },
   {
    "duration": 10,
    "start_time": "2022-06-05T07:52:38.156Z"
   },
   {
    "duration": 420,
    "start_time": "2022-06-05T07:52:38.168Z"
   },
   {
    "duration": 298,
    "start_time": "2022-06-05T07:52:38.590Z"
   },
   {
    "duration": 7,
    "start_time": "2022-06-05T07:52:38.890Z"
   },
   {
    "duration": 0,
    "start_time": "2022-06-05T07:52:38.899Z"
   },
   {
    "duration": 0,
    "start_time": "2022-06-05T07:52:38.901Z"
   },
   {
    "duration": 0,
    "start_time": "2022-06-05T07:52:38.902Z"
   },
   {
    "duration": 0,
    "start_time": "2022-06-05T07:52:38.903Z"
   },
   {
    "duration": 0,
    "start_time": "2022-06-05T07:52:38.904Z"
   },
   {
    "duration": 0,
    "start_time": "2022-06-05T07:52:38.929Z"
   },
   {
    "duration": 0,
    "start_time": "2022-06-05T07:52:38.931Z"
   },
   {
    "duration": 0,
    "start_time": "2022-06-05T07:52:38.931Z"
   },
   {
    "duration": 0,
    "start_time": "2022-06-05T07:52:38.932Z"
   },
   {
    "duration": 0,
    "start_time": "2022-06-05T07:52:38.933Z"
   },
   {
    "duration": 0,
    "start_time": "2022-06-05T07:52:38.934Z"
   },
   {
    "duration": 0,
    "start_time": "2022-06-05T07:52:38.935Z"
   },
   {
    "duration": 1,
    "start_time": "2022-06-05T07:52:38.936Z"
   },
   {
    "duration": 0,
    "start_time": "2022-06-05T07:52:38.937Z"
   },
   {
    "duration": 0,
    "start_time": "2022-06-05T07:52:38.939Z"
   },
   {
    "duration": 0,
    "start_time": "2022-06-05T07:52:38.940Z"
   },
   {
    "duration": 0,
    "start_time": "2022-06-05T07:52:38.941Z"
   },
   {
    "duration": 0,
    "start_time": "2022-06-05T07:52:38.942Z"
   },
   {
    "duration": 0,
    "start_time": "2022-06-05T07:52:38.943Z"
   },
   {
    "duration": 0,
    "start_time": "2022-06-05T07:52:38.944Z"
   },
   {
    "duration": 0,
    "start_time": "2022-06-05T07:52:38.945Z"
   },
   {
    "duration": 0,
    "start_time": "2022-06-05T07:52:38.946Z"
   },
   {
    "duration": 0,
    "start_time": "2022-06-05T07:52:38.947Z"
   },
   {
    "duration": 0,
    "start_time": "2022-06-05T07:52:38.948Z"
   },
   {
    "duration": 0,
    "start_time": "2022-06-05T07:52:38.949Z"
   },
   {
    "duration": 0,
    "start_time": "2022-06-05T07:52:38.950Z"
   },
   {
    "duration": 0,
    "start_time": "2022-06-05T07:52:38.951Z"
   },
   {
    "duration": 0,
    "start_time": "2022-06-05T07:52:38.952Z"
   },
   {
    "duration": 0,
    "start_time": "2022-06-05T07:52:38.953Z"
   },
   {
    "duration": 1,
    "start_time": "2022-06-05T07:52:38.954Z"
   },
   {
    "duration": 0,
    "start_time": "2022-06-05T07:52:38.956Z"
   },
   {
    "duration": 25,
    "start_time": "2022-06-05T07:55:20.512Z"
   },
   {
    "duration": 1139,
    "start_time": "2022-06-05T07:55:27.732Z"
   },
   {
    "duration": 742,
    "start_time": "2022-06-05T07:55:28.874Z"
   },
   {
    "duration": 21,
    "start_time": "2022-06-05T07:55:29.618Z"
   },
   {
    "duration": 12,
    "start_time": "2022-06-05T07:55:29.643Z"
   },
   {
    "duration": 4,
    "start_time": "2022-06-05T07:55:29.656Z"
   },
   {
    "duration": 343,
    "start_time": "2022-06-05T07:55:29.661Z"
   },
   {
    "duration": 6,
    "start_time": "2022-06-05T07:55:30.006Z"
   },
   {
    "duration": 26,
    "start_time": "2022-06-05T07:55:30.013Z"
   },
   {
    "duration": 19,
    "start_time": "2022-06-05T07:55:30.042Z"
   },
   {
    "duration": 531,
    "start_time": "2022-06-05T07:55:30.064Z"
   },
   {
    "duration": 315,
    "start_time": "2022-06-05T07:55:30.597Z"
   },
   {
    "duration": 252,
    "start_time": "2022-06-05T07:55:30.914Z"
   },
   {
    "duration": 10,
    "start_time": "2022-06-05T07:55:31.168Z"
   },
   {
    "duration": 387,
    "start_time": "2022-06-05T07:55:31.179Z"
   },
   {
    "duration": 313,
    "start_time": "2022-06-05T07:55:31.567Z"
   },
   {
    "duration": 28,
    "start_time": "2022-06-05T07:55:31.883Z"
   },
   {
    "duration": 36,
    "start_time": "2022-06-05T07:55:31.913Z"
   },
   {
    "duration": 48,
    "start_time": "2022-06-05T07:55:31.951Z"
   },
   {
    "duration": 4,
    "start_time": "2022-06-05T07:55:32.001Z"
   },
   {
    "duration": 42,
    "start_time": "2022-06-05T07:55:32.007Z"
   },
   {
    "duration": 837522,
    "start_time": "2022-06-05T07:55:32.051Z"
   },
   {
    "duration": 115462,
    "start_time": "2022-06-05T08:09:29.575Z"
   },
   {
    "duration": 35,
    "start_time": "2022-06-05T08:11:25.039Z"
   },
   {
    "duration": 5,
    "start_time": "2022-06-05T08:11:25.076Z"
   },
   {
    "duration": 12070,
    "start_time": "2022-06-05T08:11:25.088Z"
   },
   {
    "duration": 40,
    "start_time": "2022-06-05T08:11:37.160Z"
   },
   {
    "duration": 6,
    "start_time": "2022-06-05T08:11:37.202Z"
   },
   {
    "duration": 26,
    "start_time": "2022-06-05T08:11:37.212Z"
   },
   {
    "duration": 897,
    "start_time": "2022-06-05T08:11:37.241Z"
   },
   {
    "duration": 1593,
    "start_time": "2022-06-05T08:11:38.141Z"
   },
   {
    "duration": 3,
    "start_time": "2022-06-05T08:11:39.736Z"
   },
   {
    "duration": 25,
    "start_time": "2022-06-05T08:11:39.741Z"
   },
   {
    "duration": 64,
    "start_time": "2022-06-05T08:11:39.768Z"
   },
   {
    "duration": 199,
    "start_time": "2022-06-05T08:11:39.834Z"
   },
   {
    "duration": 192,
    "start_time": "2022-06-05T08:11:40.035Z"
   },
   {
    "duration": 3,
    "start_time": "2022-06-05T08:11:40.232Z"
   },
   {
    "duration": 99,
    "start_time": "2022-06-05T08:11:40.237Z"
   },
   {
    "duration": 8122,
    "start_time": "2022-06-05T08:11:40.338Z"
   },
   {
    "duration": 32868,
    "start_time": "2022-06-05T08:11:48.462Z"
   },
   {
    "duration": 78491,
    "start_time": "2022-06-05T08:12:21.333Z"
   },
   {
    "duration": 10,
    "start_time": "2022-06-05T08:13:39.826Z"
   },
   {
    "duration": 19483,
    "start_time": "2022-06-05T08:13:39.838Z"
   },
   {
    "duration": 17,
    "start_time": "2022-06-05T08:13:59.322Z"
   },
   {
    "duration": 10,
    "start_time": "2022-06-05T08:13:59.343Z"
   },
   {
    "duration": 7,
    "start_time": "2022-06-05T08:13:59.355Z"
   },
   {
    "duration": 7,
    "start_time": "2022-06-05T08:13:59.364Z"
   },
   {
    "duration": 9,
    "start_time": "2022-06-05T08:13:59.372Z"
   },
   {
    "duration": 4,
    "start_time": "2022-06-05T08:14:09.576Z"
   },
   {
    "duration": 5,
    "start_time": "2022-06-05T08:14:32.200Z"
   },
   {
    "duration": 3,
    "start_time": "2022-06-05T08:14:34.376Z"
   },
   {
    "duration": 5,
    "start_time": "2022-06-05T08:14:36.111Z"
   },
   {
    "duration": 8,
    "start_time": "2022-06-05T08:14:36.843Z"
   },
   {
    "duration": 8,
    "start_time": "2022-06-05T08:14:50.050Z"
   },
   {
    "duration": 6,
    "start_time": "2022-06-05T08:15:53.051Z"
   },
   {
    "duration": 1168,
    "start_time": "2022-06-05T08:16:28.623Z"
   },
   {
    "duration": 774,
    "start_time": "2022-06-05T08:16:29.794Z"
   },
   {
    "duration": 14,
    "start_time": "2022-06-05T08:16:30.569Z"
   },
   {
    "duration": 23,
    "start_time": "2022-06-05T08:16:30.585Z"
   },
   {
    "duration": 37,
    "start_time": "2022-06-05T08:16:30.609Z"
   },
   {
    "duration": 378,
    "start_time": "2022-06-05T08:16:30.647Z"
   },
   {
    "duration": 6,
    "start_time": "2022-06-05T08:16:31.029Z"
   },
   {
    "duration": 17,
    "start_time": "2022-06-05T08:16:31.039Z"
   },
   {
    "duration": 9,
    "start_time": "2022-06-05T08:16:31.059Z"
   },
   {
    "duration": 509,
    "start_time": "2022-06-05T08:16:31.071Z"
   },
   {
    "duration": 359,
    "start_time": "2022-06-05T08:16:31.582Z"
   },
   {
    "duration": 224,
    "start_time": "2022-06-05T08:16:31.943Z"
   },
   {
    "duration": 11,
    "start_time": "2022-06-05T08:16:32.169Z"
   },
   {
    "duration": 401,
    "start_time": "2022-06-05T08:16:32.182Z"
   },
   {
    "duration": 329,
    "start_time": "2022-06-05T08:16:32.585Z"
   },
   {
    "duration": 31,
    "start_time": "2022-06-05T08:16:32.915Z"
   },
   {
    "duration": 22,
    "start_time": "2022-06-05T08:16:32.949Z"
   },
   {
    "duration": 56,
    "start_time": "2022-06-05T08:16:32.972Z"
   },
   {
    "duration": 9,
    "start_time": "2022-06-05T08:16:33.031Z"
   },
   {
    "duration": 11,
    "start_time": "2022-06-05T08:16:33.041Z"
   },
   {
    "duration": 841569,
    "start_time": "2022-06-05T08:16:33.053Z"
   },
   {
    "duration": 112585,
    "start_time": "2022-06-05T08:30:34.623Z"
   },
   {
    "duration": 37,
    "start_time": "2022-06-05T08:32:27.209Z"
   },
   {
    "duration": 5,
    "start_time": "2022-06-05T08:32:27.248Z"
   },
   {
    "duration": 11890,
    "start_time": "2022-06-05T08:32:27.262Z"
   },
   {
    "duration": 31,
    "start_time": "2022-06-05T08:32:39.154Z"
   },
   {
    "duration": 5,
    "start_time": "2022-06-05T08:32:39.187Z"
   },
   {
    "duration": 38,
    "start_time": "2022-06-05T08:32:39.195Z"
   },
   {
    "duration": 1012,
    "start_time": "2022-06-05T08:32:39.235Z"
   },
   {
    "duration": 1299,
    "start_time": "2022-06-05T08:32:40.328Z"
   },
   {
    "duration": 3,
    "start_time": "2022-06-05T08:32:41.630Z"
   },
   {
    "duration": 104,
    "start_time": "2022-06-05T08:32:41.635Z"
   },
   {
    "duration": 9,
    "start_time": "2022-06-05T08:32:41.741Z"
   },
   {
    "duration": 77,
    "start_time": "2022-06-05T08:32:41.752Z"
   },
   {
    "duration": 294,
    "start_time": "2022-06-05T08:32:41.833Z"
   },
   {
    "duration": 5,
    "start_time": "2022-06-05T08:32:42.129Z"
   },
   {
    "duration": 92,
    "start_time": "2022-06-05T08:32:42.136Z"
   },
   {
    "duration": 8016,
    "start_time": "2022-06-05T08:32:42.229Z"
   },
   {
    "duration": 32225,
    "start_time": "2022-06-05T08:32:50.247Z"
   },
   {
    "duration": 74055,
    "start_time": "2022-06-05T08:33:22.474Z"
   },
   {
    "duration": 4,
    "start_time": "2022-06-05T08:34:36.531Z"
   },
   {
    "duration": 18713,
    "start_time": "2022-06-05T08:34:36.536Z"
   },
   {
    "duration": 10,
    "start_time": "2022-06-05T08:34:55.251Z"
   },
   {
    "duration": 6,
    "start_time": "2022-06-05T08:34:55.262Z"
   },
   {
    "duration": 24,
    "start_time": "2022-06-05T08:34:55.270Z"
   },
   {
    "duration": 9,
    "start_time": "2022-06-05T08:34:55.296Z"
   },
   {
    "duration": 8,
    "start_time": "2022-06-05T08:34:55.307Z"
   },
   {
    "duration": 13,
    "start_time": "2022-06-05T08:34:55.317Z"
   },
   {
    "duration": 5,
    "start_time": "2022-06-05T08:35:52.999Z"
   },
   {
    "duration": 4,
    "start_time": "2022-06-05T08:35:54.221Z"
   },
   {
    "duration": 1517,
    "start_time": "2022-06-09T10:01:38.578Z"
   },
   {
    "duration": 3279,
    "start_time": "2022-06-09T10:01:40.097Z"
   },
   {
    "duration": 19,
    "start_time": "2022-06-09T10:01:43.379Z"
   },
   {
    "duration": 21,
    "start_time": "2022-06-09T10:01:43.401Z"
   },
   {
    "duration": 6,
    "start_time": "2022-06-09T10:01:43.424Z"
   },
   {
    "duration": 343,
    "start_time": "2022-06-09T10:01:43.433Z"
   },
   {
    "duration": 6,
    "start_time": "2022-06-09T10:01:43.778Z"
   },
   {
    "duration": 6,
    "start_time": "2022-06-09T10:01:43.785Z"
   },
   {
    "duration": 6,
    "start_time": "2022-06-09T10:01:43.793Z"
   },
   {
    "duration": 590,
    "start_time": "2022-06-09T10:01:43.803Z"
   },
   {
    "duration": 348,
    "start_time": "2022-06-09T10:01:44.394Z"
   },
   {
    "duration": 211,
    "start_time": "2022-06-09T10:01:44.743Z"
   },
   {
    "duration": 11,
    "start_time": "2022-06-09T10:01:44.957Z"
   },
   {
    "duration": 367,
    "start_time": "2022-06-09T10:01:44.970Z"
   },
   {
    "duration": 442,
    "start_time": "2022-06-09T10:01:45.339Z"
   },
   {
    "duration": 23,
    "start_time": "2022-06-09T10:01:45.784Z"
   },
   {
    "duration": 33,
    "start_time": "2022-06-09T10:01:45.809Z"
   },
   {
    "duration": 9,
    "start_time": "2022-06-09T10:01:45.844Z"
   },
   {
    "duration": 0,
    "start_time": "2022-06-09T10:01:45.855Z"
   },
   {
    "duration": 0,
    "start_time": "2022-06-09T10:01:45.857Z"
   },
   {
    "duration": 0,
    "start_time": "2022-06-09T10:01:45.859Z"
   },
   {
    "duration": 0,
    "start_time": "2022-06-09T10:01:45.860Z"
   },
   {
    "duration": 0,
    "start_time": "2022-06-09T10:01:45.862Z"
   },
   {
    "duration": 0,
    "start_time": "2022-06-09T10:01:45.863Z"
   },
   {
    "duration": 0,
    "start_time": "2022-06-09T10:01:45.865Z"
   },
   {
    "duration": 0,
    "start_time": "2022-06-09T10:01:45.866Z"
   },
   {
    "duration": 0,
    "start_time": "2022-06-09T10:01:45.867Z"
   },
   {
    "duration": 0,
    "start_time": "2022-06-09T10:01:45.868Z"
   },
   {
    "duration": 0,
    "start_time": "2022-06-09T10:01:45.869Z"
   },
   {
    "duration": 0,
    "start_time": "2022-06-09T10:01:45.871Z"
   },
   {
    "duration": 0,
    "start_time": "2022-06-09T10:01:45.872Z"
   },
   {
    "duration": 0,
    "start_time": "2022-06-09T10:01:45.873Z"
   },
   {
    "duration": 0,
    "start_time": "2022-06-09T10:01:45.924Z"
   },
   {
    "duration": 0,
    "start_time": "2022-06-09T10:01:45.926Z"
   },
   {
    "duration": 0,
    "start_time": "2022-06-09T10:01:45.927Z"
   },
   {
    "duration": 0,
    "start_time": "2022-06-09T10:01:45.930Z"
   },
   {
    "duration": 0,
    "start_time": "2022-06-09T10:01:45.937Z"
   },
   {
    "duration": 0,
    "start_time": "2022-06-09T10:01:45.938Z"
   },
   {
    "duration": 0,
    "start_time": "2022-06-09T10:01:45.940Z"
   },
   {
    "duration": 0,
    "start_time": "2022-06-09T10:01:45.942Z"
   },
   {
    "duration": 0,
    "start_time": "2022-06-09T10:01:45.943Z"
   },
   {
    "duration": 0,
    "start_time": "2022-06-09T10:01:45.945Z"
   },
   {
    "duration": 0,
    "start_time": "2022-06-09T10:01:45.946Z"
   },
   {
    "duration": 0,
    "start_time": "2022-06-09T10:01:45.948Z"
   },
   {
    "duration": 0,
    "start_time": "2022-06-09T10:01:45.950Z"
   },
   {
    "duration": 0,
    "start_time": "2022-06-09T10:01:45.951Z"
   },
   {
    "duration": 0,
    "start_time": "2022-06-09T10:01:45.953Z"
   },
   {
    "duration": 0,
    "start_time": "2022-06-09T10:01:45.954Z"
   },
   {
    "duration": 1351,
    "start_time": "2022-06-09T10:02:24.754Z"
   },
   {
    "duration": 670,
    "start_time": "2022-06-09T10:02:26.108Z"
   },
   {
    "duration": 14,
    "start_time": "2022-06-09T10:02:26.780Z"
   },
   {
    "duration": 27,
    "start_time": "2022-06-09T10:02:26.796Z"
   },
   {
    "duration": 3,
    "start_time": "2022-06-09T10:02:26.826Z"
   },
   {
    "duration": 352,
    "start_time": "2022-06-09T10:02:26.831Z"
   },
   {
    "duration": 5,
    "start_time": "2022-06-09T10:02:27.185Z"
   },
   {
    "duration": 10,
    "start_time": "2022-06-09T10:02:27.192Z"
   },
   {
    "duration": 7,
    "start_time": "2022-06-09T10:02:27.204Z"
   },
   {
    "duration": 549,
    "start_time": "2022-06-09T10:02:27.222Z"
   },
   {
    "duration": 368,
    "start_time": "2022-06-09T10:02:27.772Z"
   },
   {
    "duration": 228,
    "start_time": "2022-06-09T10:02:28.142Z"
   },
   {
    "duration": 12,
    "start_time": "2022-06-09T10:02:28.372Z"
   },
   {
    "duration": 379,
    "start_time": "2022-06-09T10:02:28.388Z"
   },
   {
    "duration": 456,
    "start_time": "2022-06-09T10:02:28.769Z"
   },
   {
    "duration": 30,
    "start_time": "2022-06-09T10:02:29.227Z"
   },
   {
    "duration": 20,
    "start_time": "2022-06-09T10:02:29.259Z"
   },
   {
    "duration": 87,
    "start_time": "2022-06-09T10:02:29.281Z"
   },
   {
    "duration": 4,
    "start_time": "2022-06-09T10:02:29.370Z"
   },
   {
    "duration": 8,
    "start_time": "2022-06-09T10:02:29.375Z"
   },
   {
    "duration": 1222,
    "start_time": "2022-06-09T10:04:54.750Z"
   },
   {
    "duration": 681,
    "start_time": "2022-06-09T10:04:55.975Z"
   },
   {
    "duration": 14,
    "start_time": "2022-06-09T10:04:56.658Z"
   },
   {
    "duration": 13,
    "start_time": "2022-06-09T10:04:56.673Z"
   },
   {
    "duration": 3,
    "start_time": "2022-06-09T10:04:56.689Z"
   },
   {
    "duration": 349,
    "start_time": "2022-06-09T10:04:56.694Z"
   },
   {
    "duration": 6,
    "start_time": "2022-06-09T10:04:57.044Z"
   },
   {
    "duration": 12,
    "start_time": "2022-06-09T10:04:57.052Z"
   },
   {
    "duration": 13,
    "start_time": "2022-06-09T10:04:57.066Z"
   },
   {
    "duration": 527,
    "start_time": "2022-06-09T10:04:57.081Z"
   },
   {
    "duration": 302,
    "start_time": "2022-06-09T10:04:57.610Z"
   },
   {
    "duration": 244,
    "start_time": "2022-06-09T10:04:57.914Z"
   },
   {
    "duration": 11,
    "start_time": "2022-06-09T10:04:58.160Z"
   },
   {
    "duration": 380,
    "start_time": "2022-06-09T10:04:58.174Z"
   },
   {
    "duration": 421,
    "start_time": "2022-06-09T10:04:58.556Z"
   },
   {
    "duration": 26,
    "start_time": "2022-06-09T10:04:58.979Z"
   },
   {
    "duration": 33,
    "start_time": "2022-06-09T10:04:59.007Z"
   },
   {
    "duration": 45,
    "start_time": "2022-06-09T10:04:59.042Z"
   },
   {
    "duration": 4,
    "start_time": "2022-06-09T10:04:59.089Z"
   },
   {
    "duration": 16,
    "start_time": "2022-06-09T10:04:59.096Z"
   },
   {
    "duration": 842342,
    "start_time": "2022-06-09T10:04:59.123Z"
   },
   {
    "duration": 126303,
    "start_time": "2022-06-09T10:19:01.467Z"
   },
   {
    "duration": 33,
    "start_time": "2022-06-09T10:21:07.772Z"
   },
   {
    "duration": 5,
    "start_time": "2022-06-09T10:21:07.806Z"
   },
   {
    "duration": 13326,
    "start_time": "2022-06-09T10:21:07.813Z"
   },
   {
    "duration": 39,
    "start_time": "2022-06-09T10:21:21.141Z"
   },
   {
    "duration": 6,
    "start_time": "2022-06-09T10:21:21.182Z"
   },
   {
    "duration": 47,
    "start_time": "2022-06-09T10:21:21.191Z"
   },
   {
    "duration": 1203,
    "start_time": "2022-06-09T10:21:21.323Z"
   },
   {
    "duration": 1703,
    "start_time": "2022-06-09T10:21:22.530Z"
   },
   {
    "duration": 90,
    "start_time": "2022-06-09T10:21:24.235Z"
   },
   {
    "duration": 6,
    "start_time": "2022-06-09T10:21:24.328Z"
   },
   {
    "duration": 91,
    "start_time": "2022-06-09T10:21:24.336Z"
   },
   {
    "duration": 101,
    "start_time": "2022-06-09T10:21:24.429Z"
   },
   {
    "duration": 294,
    "start_time": "2022-06-09T10:21:24.532Z"
   },
   {
    "duration": 4,
    "start_time": "2022-06-09T10:21:24.831Z"
   },
   {
    "duration": 96,
    "start_time": "2022-06-09T10:21:24.837Z"
   },
   {
    "duration": 8993,
    "start_time": "2022-06-09T10:21:24.936Z"
   },
   {
    "duration": 35461,
    "start_time": "2022-06-09T10:21:33.931Z"
   },
   {
    "duration": 77203,
    "start_time": "2022-06-09T10:22:09.394Z"
   },
   {
    "duration": 5,
    "start_time": "2022-06-09T10:23:26.601Z"
   },
   {
    "duration": 19652,
    "start_time": "2022-06-09T10:23:26.609Z"
   },
   {
    "duration": 10,
    "start_time": "2022-06-09T10:23:46.263Z"
   },
   {
    "duration": 12,
    "start_time": "2022-06-09T10:23:46.274Z"
   },
   {
    "duration": 22,
    "start_time": "2022-06-09T10:23:46.288Z"
   },
   {
    "duration": 12,
    "start_time": "2022-06-09T10:23:46.311Z"
   },
   {
    "duration": 23,
    "start_time": "2022-06-09T10:23:46.324Z"
   },
   {
    "duration": 22,
    "start_time": "2022-06-09T10:23:46.349Z"
   },
   {
    "duration": 1298,
    "start_time": "2022-06-09T10:39:10.574Z"
   },
   {
    "duration": 764,
    "start_time": "2022-06-09T10:39:11.874Z"
   },
   {
    "duration": 17,
    "start_time": "2022-06-09T10:39:12.640Z"
   },
   {
    "duration": 19,
    "start_time": "2022-06-09T10:39:12.660Z"
   },
   {
    "duration": 6,
    "start_time": "2022-06-09T10:39:12.682Z"
   },
   {
    "duration": 401,
    "start_time": "2022-06-09T10:39:12.690Z"
   },
   {
    "duration": 5,
    "start_time": "2022-06-09T10:39:13.093Z"
   },
   {
    "duration": 16,
    "start_time": "2022-06-09T10:39:13.099Z"
   },
   {
    "duration": 6,
    "start_time": "2022-06-09T10:39:13.117Z"
   },
   {
    "duration": 554,
    "start_time": "2022-06-09T10:39:13.126Z"
   },
   {
    "duration": 344,
    "start_time": "2022-06-09T10:39:13.682Z"
   },
   {
    "duration": 228,
    "start_time": "2022-06-09T10:39:14.029Z"
   },
   {
    "duration": 14,
    "start_time": "2022-06-09T10:39:14.259Z"
   },
   {
    "duration": 386,
    "start_time": "2022-06-09T10:39:14.274Z"
   },
   {
    "duration": 420,
    "start_time": "2022-06-09T10:39:14.661Z"
   },
   {
    "duration": 21,
    "start_time": "2022-06-09T10:39:15.082Z"
   },
   {
    "duration": 40,
    "start_time": "2022-06-09T10:39:15.105Z"
   },
   {
    "duration": 43,
    "start_time": "2022-06-09T10:39:15.147Z"
   },
   {
    "duration": 4,
    "start_time": "2022-06-09T10:39:15.192Z"
   },
   {
    "duration": 10,
    "start_time": "2022-06-09T10:39:15.197Z"
   },
   {
    "duration": 942668,
    "start_time": "2022-06-09T10:39:15.224Z"
   },
   {
    "duration": 77278,
    "start_time": "2022-06-09T10:54:57.894Z"
   },
   {
    "duration": 23,
    "start_time": "2022-06-09T10:56:15.174Z"
   },
   {
    "duration": 6,
    "start_time": "2022-06-09T10:56:15.198Z"
   },
   {
    "duration": 7458,
    "start_time": "2022-06-09T10:56:15.205Z"
   },
   {
    "duration": 28,
    "start_time": "2022-06-09T10:56:22.666Z"
   },
   {
    "duration": 9,
    "start_time": "2022-06-09T10:56:22.696Z"
   },
   {
    "duration": 23,
    "start_time": "2022-06-09T10:56:22.723Z"
   },
   {
    "duration": 1090,
    "start_time": "2022-06-09T10:56:22.748Z"
   },
   {
    "duration": 1685,
    "start_time": "2022-06-09T10:56:23.840Z"
   },
   {
    "duration": 3,
    "start_time": "2022-06-09T10:56:25.527Z"
   },
   {
    "duration": 8,
    "start_time": "2022-06-09T10:56:25.532Z"
   },
   {
    "duration": 13,
    "start_time": "2022-06-09T10:56:25.541Z"
   },
   {
    "duration": 104,
    "start_time": "2022-06-09T10:56:25.625Z"
   },
   {
    "duration": 294,
    "start_time": "2022-06-09T10:56:25.730Z"
   },
   {
    "duration": 4,
    "start_time": "2022-06-09T10:56:26.026Z"
   },
   {
    "duration": 94,
    "start_time": "2022-06-09T10:56:26.032Z"
   },
   {
    "duration": 9281,
    "start_time": "2022-06-09T10:56:26.128Z"
   },
   {
    "duration": 36156,
    "start_time": "2022-06-09T10:56:35.410Z"
   },
   {
    "duration": 83953,
    "start_time": "2022-06-09T10:57:11.568Z"
   },
   {
    "duration": 6,
    "start_time": "2022-06-09T10:58:35.523Z"
   },
   {
    "duration": 20897,
    "start_time": "2022-06-09T10:58:35.530Z"
   },
   {
    "duration": 10,
    "start_time": "2022-06-09T10:58:56.428Z"
   },
   {
    "duration": 8,
    "start_time": "2022-06-09T10:58:56.439Z"
   },
   {
    "duration": 12,
    "start_time": "2022-06-09T10:58:56.449Z"
   },
   {
    "duration": 4,
    "start_time": "2022-06-09T10:58:56.463Z"
   },
   {
    "duration": 9,
    "start_time": "2022-06-09T10:58:56.469Z"
   },
   {
    "duration": 8,
    "start_time": "2022-06-09T10:58:56.479Z"
   },
   {
    "duration": 15,
    "start_time": "2022-06-09T11:02:24.182Z"
   },
   {
    "duration": 8,
    "start_time": "2022-06-09T11:08:08.225Z"
   },
   {
    "duration": 31,
    "start_time": "2022-06-09T11:23:13.372Z"
   },
   {
    "duration": 18,
    "start_time": "2022-06-09T11:23:49.796Z"
   },
   {
    "duration": 140,
    "start_time": "2022-06-09T11:32:03.266Z"
   },
   {
    "duration": 23,
    "start_time": "2022-06-09T11:32:53.972Z"
   },
   {
    "duration": 11,
    "start_time": "2022-06-09T11:33:07.558Z"
   },
   {
    "duration": 34,
    "start_time": "2022-06-09T11:36:56.947Z"
   },
   {
    "duration": 1293,
    "start_time": "2022-06-09T11:37:20.911Z"
   },
   {
    "duration": 735,
    "start_time": "2022-06-09T11:37:22.206Z"
   },
   {
    "duration": 14,
    "start_time": "2022-06-09T11:37:22.943Z"
   },
   {
    "duration": 14,
    "start_time": "2022-06-09T11:37:22.958Z"
   },
   {
    "duration": 3,
    "start_time": "2022-06-09T11:37:22.974Z"
   },
   {
    "duration": 343,
    "start_time": "2022-06-09T11:37:22.979Z"
   },
   {
    "duration": 6,
    "start_time": "2022-06-09T11:37:23.323Z"
   },
   {
    "duration": 7,
    "start_time": "2022-06-09T11:37:23.330Z"
   },
   {
    "duration": 13,
    "start_time": "2022-06-09T11:37:23.339Z"
   },
   {
    "duration": 518,
    "start_time": "2022-06-09T11:37:23.353Z"
   },
   {
    "duration": 328,
    "start_time": "2022-06-09T11:37:23.873Z"
   },
   {
    "duration": 252,
    "start_time": "2022-06-09T11:37:24.203Z"
   },
   {
    "duration": 13,
    "start_time": "2022-06-09T11:37:24.457Z"
   },
   {
    "duration": 403,
    "start_time": "2022-06-09T11:37:24.474Z"
   },
   {
    "duration": 399,
    "start_time": "2022-06-09T11:37:24.879Z"
   },
   {
    "duration": 20,
    "start_time": "2022-06-09T11:37:25.281Z"
   },
   {
    "duration": 36,
    "start_time": "2022-06-09T11:37:25.303Z"
   },
   {
    "duration": 24,
    "start_time": "2022-06-09T11:37:25.341Z"
   },
   {
    "duration": 31,
    "start_time": "2022-06-09T11:37:25.367Z"
   },
   {
    "duration": 65,
    "start_time": "2022-06-09T11:37:25.400Z"
   },
   {
    "duration": 4,
    "start_time": "2022-06-09T11:37:25.466Z"
   },
   {
    "duration": 13,
    "start_time": "2022-06-09T11:37:25.472Z"
   },
   {
    "duration": 531289,
    "start_time": "2022-06-09T11:37:25.487Z"
   },
   {
    "duration": 29459,
    "start_time": "2022-06-09T11:46:16.778Z"
   },
   {
    "duration": 22,
    "start_time": "2022-06-09T11:46:46.239Z"
   },
   {
    "duration": 5,
    "start_time": "2022-06-09T11:46:46.263Z"
   },
   {
    "duration": 3128,
    "start_time": "2022-06-09T11:46:46.270Z"
   },
   {
    "duration": 27,
    "start_time": "2022-06-09T11:46:49.399Z"
   },
   {
    "duration": 7,
    "start_time": "2022-06-09T11:46:49.427Z"
   },
   {
    "duration": 14,
    "start_time": "2022-06-09T11:46:49.435Z"
   },
   {
    "duration": 884,
    "start_time": "2022-06-09T11:46:49.451Z"
   },
   {
    "duration": 1197,
    "start_time": "2022-06-09T11:46:50.337Z"
   },
   {
    "duration": 3,
    "start_time": "2022-06-09T11:46:51.622Z"
   },
   {
    "duration": 9,
    "start_time": "2022-06-09T11:46:51.628Z"
   },
   {
    "duration": 11,
    "start_time": "2022-06-09T11:46:51.640Z"
   },
   {
    "duration": 83,
    "start_time": "2022-06-09T11:46:51.654Z"
   },
   {
    "duration": 101,
    "start_time": "2022-06-09T11:46:51.824Z"
   },
   {
    "duration": 104,
    "start_time": "2022-06-09T11:46:51.929Z"
   },
   {
    "duration": 10,
    "start_time": "2022-06-09T11:46:52.036Z"
   },
   {
    "duration": 5426,
    "start_time": "2022-06-09T11:46:52.048Z"
   },
   {
    "duration": 21719,
    "start_time": "2022-06-09T11:46:57.477Z"
   },
   {
    "duration": 32671,
    "start_time": "2022-06-09T11:47:19.198Z"
   },
   {
    "duration": 5,
    "start_time": "2022-06-09T11:47:51.871Z"
   },
   {
    "duration": 8173,
    "start_time": "2022-06-09T11:47:51.877Z"
   },
   {
    "duration": 8,
    "start_time": "2022-06-09T11:48:00.052Z"
   },
   {
    "duration": 15,
    "start_time": "2022-06-09T11:48:00.062Z"
   },
   {
    "duration": 19,
    "start_time": "2022-06-09T11:48:00.078Z"
   },
   {
    "duration": 35,
    "start_time": "2022-06-09T11:48:00.098Z"
   },
   {
    "duration": 36,
    "start_time": "2022-06-09T11:48:00.134Z"
   },
   {
    "duration": 47,
    "start_time": "2022-06-09T11:48:00.171Z"
   },
   {
    "duration": 1358,
    "start_time": "2022-06-09T11:50:50.119Z"
   },
   {
    "duration": 751,
    "start_time": "2022-06-09T11:50:51.479Z"
   },
   {
    "duration": 21,
    "start_time": "2022-06-09T11:50:52.233Z"
   },
   {
    "duration": 18,
    "start_time": "2022-06-09T11:50:52.257Z"
   },
   {
    "duration": 3,
    "start_time": "2022-06-09T11:50:52.278Z"
   },
   {
    "duration": 565,
    "start_time": "2022-06-09T11:50:52.284Z"
   },
   {
    "duration": 6,
    "start_time": "2022-06-09T11:50:52.852Z"
   },
   {
    "duration": 7,
    "start_time": "2022-06-09T11:50:52.860Z"
   },
   {
    "duration": 6,
    "start_time": "2022-06-09T11:50:52.869Z"
   },
   {
    "duration": 584,
    "start_time": "2022-06-09T11:50:52.879Z"
   },
   {
    "duration": 312,
    "start_time": "2022-06-09T11:50:53.465Z"
   },
   {
    "duration": 273,
    "start_time": "2022-06-09T11:50:53.778Z"
   },
   {
    "duration": 12,
    "start_time": "2022-06-09T11:50:54.054Z"
   },
   {
    "duration": 375,
    "start_time": "2022-06-09T11:50:54.068Z"
   },
   {
    "duration": 412,
    "start_time": "2022-06-09T11:50:54.445Z"
   },
   {
    "duration": 22,
    "start_time": "2022-06-09T11:50:54.859Z"
   },
   {
    "duration": 21,
    "start_time": "2022-06-09T11:50:54.882Z"
   },
   {
    "duration": 39,
    "start_time": "2022-06-09T11:50:54.905Z"
   },
   {
    "duration": 12,
    "start_time": "2022-06-09T11:50:54.946Z"
   },
   {
    "duration": 0,
    "start_time": "2022-06-09T11:50:54.962Z"
   },
   {
    "duration": 0,
    "start_time": "2022-06-09T11:50:54.964Z"
   },
   {
    "duration": 0,
    "start_time": "2022-06-09T11:50:54.966Z"
   },
   {
    "duration": 0,
    "start_time": "2022-06-09T11:50:54.968Z"
   },
   {
    "duration": 0,
    "start_time": "2022-06-09T11:50:54.970Z"
   },
   {
    "duration": 0,
    "start_time": "2022-06-09T11:50:54.972Z"
   },
   {
    "duration": 0,
    "start_time": "2022-06-09T11:50:54.973Z"
   },
   {
    "duration": 0,
    "start_time": "2022-06-09T11:50:54.974Z"
   },
   {
    "duration": 0,
    "start_time": "2022-06-09T11:50:54.975Z"
   },
   {
    "duration": 0,
    "start_time": "2022-06-09T11:50:54.977Z"
   },
   {
    "duration": 0,
    "start_time": "2022-06-09T11:50:54.977Z"
   },
   {
    "duration": 0,
    "start_time": "2022-06-09T11:50:54.978Z"
   },
   {
    "duration": 0,
    "start_time": "2022-06-09T11:50:54.979Z"
   },
   {
    "duration": 0,
    "start_time": "2022-06-09T11:50:55.024Z"
   },
   {
    "duration": 0,
    "start_time": "2022-06-09T11:50:55.026Z"
   },
   {
    "duration": 0,
    "start_time": "2022-06-09T11:50:55.027Z"
   },
   {
    "duration": 0,
    "start_time": "2022-06-09T11:50:55.028Z"
   },
   {
    "duration": 0,
    "start_time": "2022-06-09T11:50:55.030Z"
   },
   {
    "duration": 0,
    "start_time": "2022-06-09T11:50:55.031Z"
   },
   {
    "duration": 0,
    "start_time": "2022-06-09T11:50:55.033Z"
   },
   {
    "duration": 0,
    "start_time": "2022-06-09T11:50:55.034Z"
   },
   {
    "duration": 0,
    "start_time": "2022-06-09T11:50:55.035Z"
   },
   {
    "duration": 0,
    "start_time": "2022-06-09T11:50:55.037Z"
   },
   {
    "duration": 0,
    "start_time": "2022-06-09T11:50:55.038Z"
   },
   {
    "duration": 0,
    "start_time": "2022-06-09T11:50:55.040Z"
   },
   {
    "duration": 0,
    "start_time": "2022-06-09T11:50:55.041Z"
   },
   {
    "duration": 0,
    "start_time": "2022-06-09T11:50:55.042Z"
   },
   {
    "duration": 0,
    "start_time": "2022-06-09T11:50:55.044Z"
   },
   {
    "duration": 0,
    "start_time": "2022-06-09T11:50:55.046Z"
   },
   {
    "duration": 0,
    "start_time": "2022-06-09T11:50:55.047Z"
   },
   {
    "duration": 0,
    "start_time": "2022-06-09T11:50:55.049Z"
   },
   {
    "duration": 34,
    "start_time": "2022-06-09T11:51:16.368Z"
   },
   {
    "duration": 1266,
    "start_time": "2022-06-09T11:51:33.477Z"
   },
   {
    "duration": 713,
    "start_time": "2022-06-09T11:51:34.746Z"
   },
   {
    "duration": 16,
    "start_time": "2022-06-09T11:51:35.461Z"
   },
   {
    "duration": 18,
    "start_time": "2022-06-09T11:51:35.480Z"
   },
   {
    "duration": 3,
    "start_time": "2022-06-09T11:51:35.500Z"
   },
   {
    "duration": 350,
    "start_time": "2022-06-09T11:51:35.505Z"
   },
   {
    "duration": 6,
    "start_time": "2022-06-09T11:51:35.857Z"
   },
   {
    "duration": 7,
    "start_time": "2022-06-09T11:51:35.864Z"
   },
   {
    "duration": 25,
    "start_time": "2022-06-09T11:51:35.872Z"
   },
   {
    "duration": 777,
    "start_time": "2022-06-09T11:51:35.900Z"
   },
   {
    "duration": 321,
    "start_time": "2022-06-09T11:51:36.679Z"
   },
   {
    "duration": 234,
    "start_time": "2022-06-09T11:51:37.001Z"
   },
   {
    "duration": 12,
    "start_time": "2022-06-09T11:51:37.237Z"
   },
   {
    "duration": 376,
    "start_time": "2022-06-09T11:51:37.250Z"
   },
   {
    "duration": 373,
    "start_time": "2022-06-09T11:51:37.628Z"
   },
   {
    "duration": 30,
    "start_time": "2022-06-09T11:51:38.003Z"
   },
   {
    "duration": 21,
    "start_time": "2022-06-09T11:51:38.035Z"
   },
   {
    "duration": 24,
    "start_time": "2022-06-09T11:51:38.058Z"
   },
   {
    "duration": 53,
    "start_time": "2022-06-09T11:51:38.084Z"
   },
   {
    "duration": 46,
    "start_time": "2022-06-09T11:51:38.139Z"
   },
   {
    "duration": 4,
    "start_time": "2022-06-09T11:51:38.187Z"
   },
   {
    "duration": 6,
    "start_time": "2022-06-09T11:51:38.193Z"
   },
   {
    "duration": 379063,
    "start_time": "2022-06-09T11:51:38.223Z"
   },
   {
    "duration": 10706,
    "start_time": "2022-06-09T11:57:57.288Z"
   },
   {
    "duration": 18,
    "start_time": "2022-06-09T11:58:07.995Z"
   },
   {
    "duration": 11,
    "start_time": "2022-06-09T11:58:08.022Z"
   },
   {
    "duration": 1202,
    "start_time": "2022-06-09T11:58:08.035Z"
   },
   {
    "duration": 16,
    "start_time": "2022-06-09T11:58:09.241Z"
   },
   {
    "duration": 12,
    "start_time": "2022-06-09T11:58:09.259Z"
   },
   {
    "duration": 27,
    "start_time": "2022-06-09T11:58:09.273Z"
   },
   {
    "duration": 405,
    "start_time": "2022-06-09T11:58:09.325Z"
   },
   {
    "duration": 1195,
    "start_time": "2022-06-09T11:58:09.732Z"
   },
   {
    "duration": 4,
    "start_time": "2022-06-09T11:58:10.930Z"
   },
   {
    "duration": 10,
    "start_time": "2022-06-09T11:58:11.025Z"
   },
   {
    "duration": 16,
    "start_time": "2022-06-09T11:58:11.037Z"
   },
   {
    "duration": 73,
    "start_time": "2022-06-09T11:58:11.059Z"
   },
   {
    "duration": 105,
    "start_time": "2022-06-09T11:58:11.135Z"
   },
   {
    "duration": 4,
    "start_time": "2022-06-09T11:58:11.328Z"
   },
   {
    "duration": 98,
    "start_time": "2022-06-09T11:58:11.334Z"
   },
   {
    "duration": 3901,
    "start_time": "2022-06-09T11:58:11.434Z"
   },
   {
    "duration": 15223,
    "start_time": "2022-06-09T11:58:15.336Z"
   },
   {
    "duration": 21348,
    "start_time": "2022-06-09T11:58:30.561Z"
   },
   {
    "duration": 12,
    "start_time": "2022-06-09T11:58:51.911Z"
   },
   {
    "duration": 5357,
    "start_time": "2022-06-09T11:58:51.924Z"
   },
   {
    "duration": 10,
    "start_time": "2022-06-09T11:58:57.283Z"
   },
   {
    "duration": 9,
    "start_time": "2022-06-09T11:58:57.294Z"
   },
   {
    "duration": 20,
    "start_time": "2022-06-09T11:58:57.304Z"
   },
   {
    "duration": 21,
    "start_time": "2022-06-09T11:58:57.326Z"
   },
   {
    "duration": 9,
    "start_time": "2022-06-09T11:58:57.349Z"
   },
   {
    "duration": 8,
    "start_time": "2022-06-09T11:58:57.360Z"
   },
   {
    "duration": 497,
    "start_time": "2022-06-09T12:02:35.651Z"
   },
   {
    "duration": 562,
    "start_time": "2022-06-09T12:06:15.070Z"
   },
   {
    "duration": 22,
    "start_time": "2022-06-09T12:07:45.951Z"
   },
   {
    "duration": 35,
    "start_time": "2022-06-09T12:21:24.288Z"
   },
   {
    "duration": 18,
    "start_time": "2022-06-09T12:21:39.062Z"
   },
   {
    "duration": 27,
    "start_time": "2022-06-09T12:22:03.969Z"
   },
   {
    "duration": 33,
    "start_time": "2022-06-09T12:23:32.648Z"
   },
   {
    "duration": 28,
    "start_time": "2022-06-09T12:24:11.445Z"
   },
   {
    "duration": 21,
    "start_time": "2022-06-09T12:25:22.244Z"
   },
   {
    "duration": 20,
    "start_time": "2022-06-09T12:26:48.614Z"
   },
   {
    "duration": 14,
    "start_time": "2022-06-09T12:30:58.436Z"
   },
   {
    "duration": 716,
    "start_time": "2022-06-09T12:31:21.219Z"
   },
   {
    "duration": 17,
    "start_time": "2022-06-09T12:31:35.356Z"
   },
   {
    "duration": 8,
    "start_time": "2022-06-09T12:31:39.415Z"
   },
   {
    "duration": 1218,
    "start_time": "2022-06-09T12:33:29.242Z"
   },
   {
    "duration": 716,
    "start_time": "2022-06-09T12:33:30.462Z"
   },
   {
    "duration": 14,
    "start_time": "2022-06-09T12:33:31.179Z"
   },
   {
    "duration": 40,
    "start_time": "2022-06-09T12:33:31.195Z"
   },
   {
    "duration": 10,
    "start_time": "2022-06-09T12:33:31.238Z"
   },
   {
    "duration": 347,
    "start_time": "2022-06-09T12:33:31.250Z"
   },
   {
    "duration": 6,
    "start_time": "2022-06-09T12:33:31.598Z"
   },
   {
    "duration": 6,
    "start_time": "2022-06-09T12:33:31.606Z"
   },
   {
    "duration": 10,
    "start_time": "2022-06-09T12:33:31.614Z"
   },
   {
    "duration": 555,
    "start_time": "2022-06-09T12:33:31.626Z"
   },
   {
    "duration": 303,
    "start_time": "2022-06-09T12:33:32.183Z"
   },
   {
    "duration": 279,
    "start_time": "2022-06-09T12:33:32.488Z"
   },
   {
    "duration": 13,
    "start_time": "2022-06-09T12:33:32.769Z"
   },
   {
    "duration": 362,
    "start_time": "2022-06-09T12:33:32.785Z"
   },
   {
    "duration": 404,
    "start_time": "2022-06-09T12:33:33.149Z"
   },
   {
    "duration": 20,
    "start_time": "2022-06-09T12:33:33.555Z"
   },
   {
    "duration": 30,
    "start_time": "2022-06-09T12:33:33.576Z"
   },
   {
    "duration": 49,
    "start_time": "2022-06-09T12:33:33.608Z"
   },
   {
    "duration": 16,
    "start_time": "2022-06-09T12:33:33.659Z"
   },
   {
    "duration": 88,
    "start_time": "2022-06-09T12:33:33.676Z"
   },
   {
    "duration": 3,
    "start_time": "2022-06-09T12:33:33.766Z"
   },
   {
    "duration": 618,
    "start_time": "2022-06-09T12:33:33.770Z"
   },
   {
    "duration": 4,
    "start_time": "2022-06-09T12:33:34.390Z"
   },
   {
    "duration": 5,
    "start_time": "2022-06-09T12:33:34.396Z"
   },
   {
    "duration": 1220,
    "start_time": "2022-06-09T12:35:58.051Z"
   },
   {
    "duration": 714,
    "start_time": "2022-06-09T12:35:59.273Z"
   },
   {
    "duration": 14,
    "start_time": "2022-06-09T12:35:59.989Z"
   },
   {
    "duration": 26,
    "start_time": "2022-06-09T12:36:00.005Z"
   },
   {
    "duration": 3,
    "start_time": "2022-06-09T12:36:00.033Z"
   },
   {
    "duration": 360,
    "start_time": "2022-06-09T12:36:00.038Z"
   },
   {
    "duration": 8,
    "start_time": "2022-06-09T12:36:00.400Z"
   },
   {
    "duration": 23,
    "start_time": "2022-06-09T12:36:00.411Z"
   },
   {
    "duration": 19,
    "start_time": "2022-06-09T12:36:00.437Z"
   },
   {
    "duration": 557,
    "start_time": "2022-06-09T12:36:00.459Z"
   },
   {
    "duration": 333,
    "start_time": "2022-06-09T12:36:01.018Z"
   },
   {
    "duration": 294,
    "start_time": "2022-06-09T12:36:01.353Z"
   },
   {
    "duration": 12,
    "start_time": "2022-06-09T12:36:01.648Z"
   },
   {
    "duration": 416,
    "start_time": "2022-06-09T12:36:01.663Z"
   },
   {
    "duration": 421,
    "start_time": "2022-06-09T12:36:02.081Z"
   },
   {
    "duration": 30,
    "start_time": "2022-06-09T12:36:02.504Z"
   },
   {
    "duration": 22,
    "start_time": "2022-06-09T12:36:02.536Z"
   },
   {
    "duration": 33,
    "start_time": "2022-06-09T12:36:02.560Z"
   },
   {
    "duration": 100,
    "start_time": "2022-06-09T12:36:02.598Z"
   },
   {
    "duration": 4,
    "start_time": "2022-06-09T12:36:02.700Z"
   },
   {
    "duration": 674,
    "start_time": "2022-06-09T12:36:02.707Z"
   },
   {
    "duration": 5,
    "start_time": "2022-06-09T12:36:03.382Z"
   },
   {
    "duration": 7,
    "start_time": "2022-06-09T12:36:03.388Z"
   },
   {
    "duration": 1345,
    "start_time": "2022-06-09T12:38:08.875Z"
   },
   {
    "duration": 722,
    "start_time": "2022-06-09T12:38:10.223Z"
   },
   {
    "duration": 15,
    "start_time": "2022-06-09T12:38:10.946Z"
   },
   {
    "duration": 13,
    "start_time": "2022-06-09T12:38:10.963Z"
   },
   {
    "duration": 3,
    "start_time": "2022-06-09T12:38:10.978Z"
   },
   {
    "duration": 360,
    "start_time": "2022-06-09T12:38:10.983Z"
   },
   {
    "duration": 6,
    "start_time": "2022-06-09T12:38:11.345Z"
   },
   {
    "duration": 4,
    "start_time": "2022-06-09T12:38:11.352Z"
   },
   {
    "duration": 6,
    "start_time": "2022-06-09T12:38:11.358Z"
   },
   {
    "duration": 515,
    "start_time": "2022-06-09T12:38:11.367Z"
   },
   {
    "duration": 341,
    "start_time": "2022-06-09T12:38:11.884Z"
   },
   {
    "duration": 223,
    "start_time": "2022-06-09T12:38:12.227Z"
   },
   {
    "duration": 13,
    "start_time": "2022-06-09T12:38:12.452Z"
   },
   {
    "duration": 459,
    "start_time": "2022-06-09T12:38:12.466Z"
   },
   {
    "duration": 377,
    "start_time": "2022-06-09T12:38:12.927Z"
   },
   {
    "duration": 29,
    "start_time": "2022-06-09T12:38:13.306Z"
   },
   {
    "duration": 20,
    "start_time": "2022-06-09T12:38:13.337Z"
   },
   {
    "duration": 28,
    "start_time": "2022-06-09T12:38:13.359Z"
   },
   {
    "duration": 85,
    "start_time": "2022-06-09T12:38:13.389Z"
   },
   {
    "duration": 3,
    "start_time": "2022-06-09T12:38:13.476Z"
   },
   {
    "duration": 613,
    "start_time": "2022-06-09T12:38:13.480Z"
   },
   {
    "duration": 4,
    "start_time": "2022-06-09T12:38:14.095Z"
   },
   {
    "duration": 6,
    "start_time": "2022-06-09T12:38:14.100Z"
   },
   {
    "duration": 544706,
    "start_time": "2022-06-09T12:38:14.108Z"
   },
   {
    "duration": 30881,
    "start_time": "2022-06-09T12:47:18.816Z"
   },
   {
    "duration": 32,
    "start_time": "2022-06-09T12:47:49.699Z"
   },
   {
    "duration": 7,
    "start_time": "2022-06-09T12:47:49.734Z"
   },
   {
    "duration": 3302,
    "start_time": "2022-06-09T12:47:49.745Z"
   },
   {
    "duration": 23,
    "start_time": "2022-06-09T12:47:53.049Z"
   },
   {
    "duration": 5,
    "start_time": "2022-06-09T12:47:53.074Z"
   },
   {
    "duration": 50,
    "start_time": "2022-06-09T12:47:53.081Z"
   },
   {
    "duration": 701,
    "start_time": "2022-06-09T12:47:53.133Z"
   },
   {
    "duration": 1001,
    "start_time": "2022-06-09T12:47:53.838Z"
   },
   {
    "duration": 79,
    "start_time": "2022-06-09T12:47:54.846Z"
   },
   {
    "duration": 25,
    "start_time": "2022-06-09T12:47:54.927Z"
   },
   {
    "duration": 20,
    "start_time": "2022-06-09T12:47:54.954Z"
   },
   {
    "duration": 153,
    "start_time": "2022-06-09T12:47:54.977Z"
   },
   {
    "duration": 94,
    "start_time": "2022-06-09T12:47:55.135Z"
   },
   {
    "duration": 106,
    "start_time": "2022-06-09T12:47:55.233Z"
   },
   {
    "duration": 21,
    "start_time": "2022-06-09T12:47:55.341Z"
   },
   {
    "duration": 5456,
    "start_time": "2022-06-09T12:47:55.364Z"
   },
   {
    "duration": 21920,
    "start_time": "2022-06-09T12:48:00.822Z"
   },
   {
    "duration": 31584,
    "start_time": "2022-06-09T12:48:22.744Z"
   },
   {
    "duration": 5,
    "start_time": "2022-06-09T12:48:54.330Z"
   },
   {
    "duration": 8131,
    "start_time": "2022-06-09T12:48:54.336Z"
   },
   {
    "duration": 9,
    "start_time": "2022-06-09T12:49:02.468Z"
   },
   {
    "duration": 11,
    "start_time": "2022-06-09T12:49:02.479Z"
   },
   {
    "duration": 11,
    "start_time": "2022-06-09T12:49:02.492Z"
   },
   {
    "duration": 19,
    "start_time": "2022-06-09T12:49:02.505Z"
   },
   {
    "duration": 15,
    "start_time": "2022-06-09T12:49:02.526Z"
   },
   {
    "duration": 15,
    "start_time": "2022-06-09T12:49:02.543Z"
   },
   {
    "duration": 1381,
    "start_time": "2022-06-09T12:52:32.086Z"
   },
   {
    "duration": 714,
    "start_time": "2022-06-09T12:52:33.469Z"
   },
   {
    "duration": 13,
    "start_time": "2022-06-09T12:52:34.185Z"
   },
   {
    "duration": 23,
    "start_time": "2022-06-09T12:52:34.200Z"
   },
   {
    "duration": 3,
    "start_time": "2022-06-09T12:52:34.225Z"
   },
   {
    "duration": 338,
    "start_time": "2022-06-09T12:52:34.230Z"
   },
   {
    "duration": 5,
    "start_time": "2022-06-09T12:52:34.570Z"
   },
   {
    "duration": 10,
    "start_time": "2022-06-09T12:52:34.576Z"
   },
   {
    "duration": 10,
    "start_time": "2022-06-09T12:52:34.587Z"
   },
   {
    "duration": 530,
    "start_time": "2022-06-09T12:52:34.600Z"
   },
   {
    "duration": 280,
    "start_time": "2022-06-09T12:52:35.131Z"
   },
   {
    "duration": 229,
    "start_time": "2022-06-09T12:52:35.412Z"
   },
   {
    "duration": 11,
    "start_time": "2022-06-09T12:52:35.643Z"
   },
   {
    "duration": 381,
    "start_time": "2022-06-09T12:52:35.656Z"
   },
   {
    "duration": 358,
    "start_time": "2022-06-09T12:52:36.039Z"
   },
   {
    "duration": 20,
    "start_time": "2022-06-09T12:52:36.423Z"
   },
   {
    "duration": 20,
    "start_time": "2022-06-09T12:52:36.445Z"
   },
   {
    "duration": 28,
    "start_time": "2022-06-09T12:52:36.466Z"
   },
   {
    "duration": 86,
    "start_time": "2022-06-09T12:52:36.496Z"
   },
   {
    "duration": 2,
    "start_time": "2022-06-09T12:52:36.584Z"
   },
   {
    "duration": 131,
    "start_time": "2022-06-09T12:52:36.588Z"
   },
   {
    "duration": 5,
    "start_time": "2022-06-09T12:52:36.720Z"
   },
   {
    "duration": 10,
    "start_time": "2022-06-09T12:52:36.726Z"
   },
   {
    "duration": 536258,
    "start_time": "2022-06-09T12:52:36.737Z"
   },
   {
    "duration": 29667,
    "start_time": "2022-06-09T13:01:32.997Z"
   },
   {
    "duration": 35,
    "start_time": "2022-06-09T13:02:02.666Z"
   },
   {
    "duration": 22,
    "start_time": "2022-06-09T13:02:02.704Z"
   },
   {
    "duration": 3228,
    "start_time": "2022-06-09T13:02:02.732Z"
   },
   {
    "duration": 34,
    "start_time": "2022-06-09T13:02:05.961Z"
   },
   {
    "duration": 7,
    "start_time": "2022-06-09T13:02:05.998Z"
   },
   {
    "duration": 25,
    "start_time": "2022-06-09T13:02:06.007Z"
   },
   {
    "duration": 787,
    "start_time": "2022-06-09T13:02:06.035Z"
   },
   {
    "duration": 903,
    "start_time": "2022-06-09T13:02:06.824Z"
   },
   {
    "duration": 91,
    "start_time": "2022-06-09T13:02:07.732Z"
   },
   {
    "duration": 4,
    "start_time": "2022-06-09T13:02:07.825Z"
   },
   {
    "duration": 12,
    "start_time": "2022-06-09T13:02:07.831Z"
   },
   {
    "duration": 186,
    "start_time": "2022-06-09T13:02:07.846Z"
   },
   {
    "duration": 190,
    "start_time": "2022-06-09T13:02:08.034Z"
   },
   {
    "duration": 3,
    "start_time": "2022-06-09T13:02:08.228Z"
   },
   {
    "duration": 92,
    "start_time": "2022-06-09T13:02:08.233Z"
   },
   {
    "duration": 5393,
    "start_time": "2022-06-09T13:02:08.328Z"
   },
   {
    "duration": 20884,
    "start_time": "2022-06-09T13:02:13.723Z"
   },
   {
    "duration": 32153,
    "start_time": "2022-06-09T13:02:34.609Z"
   },
   {
    "duration": 5,
    "start_time": "2022-06-09T13:03:06.764Z"
   },
   {
    "duration": 8165,
    "start_time": "2022-06-09T13:03:06.771Z"
   },
   {
    "duration": 8,
    "start_time": "2022-06-09T13:03:14.937Z"
   },
   {
    "duration": 8,
    "start_time": "2022-06-09T13:03:14.947Z"
   },
   {
    "duration": 10,
    "start_time": "2022-06-09T13:03:14.956Z"
   },
   {
    "duration": 6,
    "start_time": "2022-06-09T13:03:14.967Z"
   },
   {
    "duration": 6,
    "start_time": "2022-06-09T13:03:14.974Z"
   },
   {
    "duration": 7,
    "start_time": "2022-06-09T13:03:14.982Z"
   },
   {
    "duration": 1320,
    "start_time": "2022-06-09T13:05:06.697Z"
   },
   {
    "duration": 740,
    "start_time": "2022-06-09T13:05:08.019Z"
   },
   {
    "duration": 15,
    "start_time": "2022-06-09T13:05:08.761Z"
   },
   {
    "duration": 31,
    "start_time": "2022-06-09T13:05:08.778Z"
   },
   {
    "duration": 3,
    "start_time": "2022-06-09T13:05:08.811Z"
   },
   {
    "duration": 398,
    "start_time": "2022-06-09T13:05:08.815Z"
   },
   {
    "duration": 9,
    "start_time": "2022-06-09T13:05:09.214Z"
   },
   {
    "duration": 32,
    "start_time": "2022-06-09T13:05:09.224Z"
   },
   {
    "duration": 14,
    "start_time": "2022-06-09T13:05:09.258Z"
   },
   {
    "duration": 622,
    "start_time": "2022-06-09T13:05:09.275Z"
   },
   {
    "duration": 338,
    "start_time": "2022-06-09T13:05:09.899Z"
   },
   {
    "duration": 222,
    "start_time": "2022-06-09T13:05:10.241Z"
   },
   {
    "duration": 11,
    "start_time": "2022-06-09T13:05:10.465Z"
   },
   {
    "duration": 396,
    "start_time": "2022-06-09T13:05:10.477Z"
   },
   {
    "duration": 409,
    "start_time": "2022-06-09T13:05:10.875Z"
   },
   {
    "duration": 23,
    "start_time": "2022-06-09T13:05:11.286Z"
   },
   {
    "duration": 26,
    "start_time": "2022-06-09T13:05:11.323Z"
   },
   {
    "duration": 29,
    "start_time": "2022-06-09T13:05:11.351Z"
   },
   {
    "duration": 93,
    "start_time": "2022-06-09T13:05:11.383Z"
   },
   {
    "duration": 3,
    "start_time": "2022-06-09T13:05:11.478Z"
   },
   {
    "duration": 95,
    "start_time": "2022-06-09T13:05:11.483Z"
   },
   {
    "duration": 4,
    "start_time": "2022-06-09T13:05:11.580Z"
   },
   {
    "duration": 19,
    "start_time": "2022-06-09T13:05:11.586Z"
   },
   {
    "duration": 550246,
    "start_time": "2022-06-09T13:05:11.607Z"
   },
   {
    "duration": 29209,
    "start_time": "2022-06-09T13:14:21.855Z"
   },
   {
    "duration": 22,
    "start_time": "2022-06-09T13:14:51.065Z"
   },
   {
    "duration": 5,
    "start_time": "2022-06-09T13:14:51.089Z"
   },
   {
    "duration": 3231,
    "start_time": "2022-06-09T13:14:51.097Z"
   },
   {
    "duration": 24,
    "start_time": "2022-06-09T13:14:54.329Z"
   },
   {
    "duration": 6,
    "start_time": "2022-06-09T13:14:54.355Z"
   },
   {
    "duration": 17,
    "start_time": "2022-06-09T13:14:54.363Z"
   },
   {
    "duration": 1045,
    "start_time": "2022-06-09T13:14:54.382Z"
   },
   {
    "duration": 898,
    "start_time": "2022-06-09T13:14:55.429Z"
   },
   {
    "duration": 4,
    "start_time": "2022-06-09T13:14:56.329Z"
   },
   {
    "duration": 95,
    "start_time": "2022-06-09T13:14:56.335Z"
   },
   {
    "duration": 8,
    "start_time": "2022-06-09T13:14:56.431Z"
   },
   {
    "duration": 86,
    "start_time": "2022-06-09T13:14:56.441Z"
   },
   {
    "duration": 107,
    "start_time": "2022-06-09T13:14:56.529Z"
   },
   {
    "duration": 186,
    "start_time": "2022-06-09T13:14:56.638Z"
   },
   {
    "duration": 11,
    "start_time": "2022-06-09T13:14:56.826Z"
   },
   {
    "duration": 5366,
    "start_time": "2022-06-09T13:14:56.838Z"
   },
   {
    "duration": 21090,
    "start_time": "2022-06-09T13:15:02.206Z"
   },
   {
    "duration": 32194,
    "start_time": "2022-06-09T13:15:23.298Z"
   },
   {
    "duration": 5,
    "start_time": "2022-06-09T13:15:55.494Z"
   },
   {
    "duration": 8318,
    "start_time": "2022-06-09T13:15:55.501Z"
   },
   {
    "duration": 9,
    "start_time": "2022-06-09T13:16:03.821Z"
   },
   {
    "duration": 7,
    "start_time": "2022-06-09T13:16:03.832Z"
   },
   {
    "duration": 9,
    "start_time": "2022-06-09T13:16:03.841Z"
   },
   {
    "duration": 4,
    "start_time": "2022-06-09T13:16:03.852Z"
   },
   {
    "duration": 13,
    "start_time": "2022-06-09T13:16:03.859Z"
   },
   {
    "duration": 8,
    "start_time": "2022-06-09T13:16:03.874Z"
   },
   {
    "duration": 36,
    "start_time": "2022-06-09T13:16:49.704Z"
   },
   {
    "duration": 1490,
    "start_time": "2022-06-09T13:21:48.702Z"
   },
   {
    "duration": 724,
    "start_time": "2022-06-09T13:21:50.194Z"
   },
   {
    "duration": 16,
    "start_time": "2022-06-09T13:21:50.920Z"
   },
   {
    "duration": 22,
    "start_time": "2022-06-09T13:21:50.938Z"
   },
   {
    "duration": 15,
    "start_time": "2022-06-09T13:21:50.962Z"
   },
   {
    "duration": 413,
    "start_time": "2022-06-09T13:21:50.979Z"
   },
   {
    "duration": 7,
    "start_time": "2022-06-09T13:21:51.394Z"
   },
   {
    "duration": 6,
    "start_time": "2022-06-09T13:21:51.402Z"
   },
   {
    "duration": 13,
    "start_time": "2022-06-09T13:21:51.411Z"
   },
   {
    "duration": 557,
    "start_time": "2022-06-09T13:21:51.427Z"
   },
   {
    "duration": 341,
    "start_time": "2022-06-09T13:21:51.986Z"
   },
   {
    "duration": 237,
    "start_time": "2022-06-09T13:21:52.329Z"
   },
   {
    "duration": 16,
    "start_time": "2022-06-09T13:21:52.568Z"
   },
   {
    "duration": 415,
    "start_time": "2022-06-09T13:21:52.587Z"
   },
   {
    "duration": 385,
    "start_time": "2022-06-09T13:21:53.004Z"
   },
   {
    "duration": 35,
    "start_time": "2022-06-09T13:21:53.390Z"
   },
   {
    "duration": 20,
    "start_time": "2022-06-09T13:21:53.427Z"
   },
   {
    "duration": 27,
    "start_time": "2022-06-09T13:21:53.449Z"
   },
   {
    "duration": 90,
    "start_time": "2022-06-09T13:21:53.478Z"
   },
   {
    "duration": 3,
    "start_time": "2022-06-09T13:21:53.570Z"
   },
   {
    "duration": 86,
    "start_time": "2022-06-09T13:21:53.575Z"
   },
   {
    "duration": 20,
    "start_time": "2022-06-09T13:21:53.663Z"
   },
   {
    "duration": 4,
    "start_time": "2022-06-09T13:21:53.685Z"
   },
   {
    "duration": 8,
    "start_time": "2022-06-09T13:21:53.690Z"
   },
   {
    "duration": 1370,
    "start_time": "2022-06-09T13:23:49.705Z"
   },
   {
    "duration": 728,
    "start_time": "2022-06-09T13:23:51.077Z"
   },
   {
    "duration": 19,
    "start_time": "2022-06-09T13:23:51.807Z"
   },
   {
    "duration": 13,
    "start_time": "2022-06-09T13:23:51.829Z"
   },
   {
    "duration": 3,
    "start_time": "2022-06-09T13:23:51.844Z"
   },
   {
    "duration": 356,
    "start_time": "2022-06-09T13:23:51.849Z"
   },
   {
    "duration": 5,
    "start_time": "2022-06-09T13:23:52.207Z"
   },
   {
    "duration": 9,
    "start_time": "2022-06-09T13:23:52.214Z"
   },
   {
    "duration": 6,
    "start_time": "2022-06-09T13:23:52.225Z"
   },
   {
    "duration": 615,
    "start_time": "2022-06-09T13:23:52.234Z"
   },
   {
    "duration": 308,
    "start_time": "2022-06-09T13:23:52.851Z"
   },
   {
    "duration": 203,
    "start_time": "2022-06-09T13:23:53.160Z"
   },
   {
    "duration": 13,
    "start_time": "2022-06-09T13:23:53.364Z"
   },
   {
    "duration": 357,
    "start_time": "2022-06-09T13:23:53.423Z"
   },
   {
    "duration": 400,
    "start_time": "2022-06-09T13:23:53.782Z"
   },
   {
    "duration": 21,
    "start_time": "2022-06-09T13:23:54.184Z"
   },
   {
    "duration": 35,
    "start_time": "2022-06-09T13:23:54.207Z"
   },
   {
    "duration": 29,
    "start_time": "2022-06-09T13:23:54.244Z"
   },
   {
    "duration": 90,
    "start_time": "2022-06-09T13:23:54.275Z"
   },
   {
    "duration": 3,
    "start_time": "2022-06-09T13:23:54.367Z"
   },
   {
    "duration": 92,
    "start_time": "2022-06-09T13:23:54.371Z"
   },
   {
    "duration": 18,
    "start_time": "2022-06-09T13:23:54.465Z"
   },
   {
    "duration": 4,
    "start_time": "2022-06-09T13:23:54.484Z"
   },
   {
    "duration": 7,
    "start_time": "2022-06-09T13:23:54.489Z"
   },
   {
    "duration": 1346,
    "start_time": "2022-06-09T13:27:12.576Z"
   },
   {
    "duration": 719,
    "start_time": "2022-06-09T13:27:13.924Z"
   },
   {
    "duration": 14,
    "start_time": "2022-06-09T13:27:14.645Z"
   },
   {
    "duration": 13,
    "start_time": "2022-06-09T13:27:14.661Z"
   },
   {
    "duration": 3,
    "start_time": "2022-06-09T13:27:14.676Z"
   },
   {
    "duration": 375,
    "start_time": "2022-06-09T13:27:14.681Z"
   },
   {
    "duration": 6,
    "start_time": "2022-06-09T13:27:15.058Z"
   },
   {
    "duration": 10,
    "start_time": "2022-06-09T13:27:15.065Z"
   },
   {
    "duration": 8,
    "start_time": "2022-06-09T13:27:15.077Z"
   },
   {
    "duration": 534,
    "start_time": "2022-06-09T13:27:15.086Z"
   },
   {
    "duration": 291,
    "start_time": "2022-06-09T13:27:15.621Z"
   },
   {
    "duration": 244,
    "start_time": "2022-06-09T13:27:15.914Z"
   },
   {
    "duration": 12,
    "start_time": "2022-06-09T13:27:16.160Z"
   },
   {
    "duration": 372,
    "start_time": "2022-06-09T13:27:16.176Z"
   },
   {
    "duration": 413,
    "start_time": "2022-06-09T13:27:16.550Z"
   },
   {
    "duration": 22,
    "start_time": "2022-06-09T13:27:16.965Z"
   },
   {
    "duration": 34,
    "start_time": "2022-06-09T13:27:16.989Z"
   },
   {
    "duration": 32,
    "start_time": "2022-06-09T13:27:17.025Z"
   },
   {
    "duration": 91,
    "start_time": "2022-06-09T13:27:17.059Z"
   },
   {
    "duration": 3,
    "start_time": "2022-06-09T13:27:17.152Z"
   },
   {
    "duration": 90,
    "start_time": "2022-06-09T13:27:17.157Z"
   },
   {
    "duration": 6,
    "start_time": "2022-06-09T13:27:17.248Z"
   },
   {
    "duration": 9,
    "start_time": "2022-06-09T13:27:17.256Z"
   },
   {
    "duration": 7,
    "start_time": "2022-06-09T13:27:17.266Z"
   },
   {
    "duration": 1339,
    "start_time": "2022-06-09T13:32:30.949Z"
   },
   {
    "duration": 835,
    "start_time": "2022-06-09T13:32:32.290Z"
   },
   {
    "duration": 15,
    "start_time": "2022-06-09T13:32:33.127Z"
   },
   {
    "duration": 14,
    "start_time": "2022-06-09T13:32:33.144Z"
   },
   {
    "duration": 4,
    "start_time": "2022-06-09T13:32:33.159Z"
   },
   {
    "duration": 362,
    "start_time": "2022-06-09T13:32:33.165Z"
   },
   {
    "duration": 6,
    "start_time": "2022-06-09T13:32:33.529Z"
   },
   {
    "duration": 4,
    "start_time": "2022-06-09T13:32:33.537Z"
   },
   {
    "duration": 8,
    "start_time": "2022-06-09T13:32:33.543Z"
   },
   {
    "duration": 604,
    "start_time": "2022-06-09T13:32:33.554Z"
   },
   {
    "duration": 313,
    "start_time": "2022-06-09T13:32:34.160Z"
   },
   {
    "duration": 276,
    "start_time": "2022-06-09T13:32:34.475Z"
   },
   {
    "duration": 11,
    "start_time": "2022-06-09T13:32:34.753Z"
   },
   {
    "duration": 400,
    "start_time": "2022-06-09T13:32:34.766Z"
   },
   {
    "duration": 464,
    "start_time": "2022-06-09T13:32:35.168Z"
   },
   {
    "duration": 22,
    "start_time": "2022-06-09T13:32:35.634Z"
   },
   {
    "duration": 22,
    "start_time": "2022-06-09T13:32:35.658Z"
   },
   {
    "duration": 52,
    "start_time": "2022-06-09T13:32:35.682Z"
   },
   {
    "duration": 72,
    "start_time": "2022-06-09T13:32:35.736Z"
   },
   {
    "duration": 13,
    "start_time": "2022-06-09T13:32:35.810Z"
   },
   {
    "duration": 163,
    "start_time": "2022-06-09T13:32:35.825Z"
   },
   {
    "duration": 1,
    "start_time": "2022-06-09T13:32:35.990Z"
   },
   {
    "duration": 0,
    "start_time": "2022-06-09T13:32:35.992Z"
   },
   {
    "duration": 0,
    "start_time": "2022-06-09T13:32:35.993Z"
   },
   {
    "duration": 0,
    "start_time": "2022-06-09T13:32:35.995Z"
   },
   {
    "duration": 0,
    "start_time": "2022-06-09T13:32:35.997Z"
   },
   {
    "duration": 0,
    "start_time": "2022-06-09T13:32:35.998Z"
   },
   {
    "duration": 0,
    "start_time": "2022-06-09T13:32:36.000Z"
   },
   {
    "duration": 0,
    "start_time": "2022-06-09T13:32:36.002Z"
   },
   {
    "duration": 0,
    "start_time": "2022-06-09T13:32:36.023Z"
   },
   {
    "duration": 0,
    "start_time": "2022-06-09T13:32:36.025Z"
   },
   {
    "duration": 0,
    "start_time": "2022-06-09T13:32:36.027Z"
   },
   {
    "duration": 0,
    "start_time": "2022-06-09T13:32:36.029Z"
   },
   {
    "duration": 0,
    "start_time": "2022-06-09T13:32:36.031Z"
   },
   {
    "duration": 0,
    "start_time": "2022-06-09T13:32:36.032Z"
   },
   {
    "duration": 0,
    "start_time": "2022-06-09T13:32:36.034Z"
   },
   {
    "duration": 0,
    "start_time": "2022-06-09T13:32:36.036Z"
   },
   {
    "duration": 0,
    "start_time": "2022-06-09T13:32:36.039Z"
   },
   {
    "duration": 0,
    "start_time": "2022-06-09T13:32:36.041Z"
   },
   {
    "duration": 1,
    "start_time": "2022-06-09T13:32:36.042Z"
   },
   {
    "duration": 0,
    "start_time": "2022-06-09T13:32:36.044Z"
   },
   {
    "duration": 0,
    "start_time": "2022-06-09T13:32:36.046Z"
   },
   {
    "duration": 0,
    "start_time": "2022-06-09T13:32:36.047Z"
   },
   {
    "duration": 0,
    "start_time": "2022-06-09T13:32:36.048Z"
   },
   {
    "duration": 0,
    "start_time": "2022-06-09T13:32:36.049Z"
   },
   {
    "duration": 0,
    "start_time": "2022-06-09T13:32:36.051Z"
   },
   {
    "duration": 0,
    "start_time": "2022-06-09T13:32:36.052Z"
   },
   {
    "duration": 0,
    "start_time": "2022-06-09T13:32:36.053Z"
   },
   {
    "duration": 0,
    "start_time": "2022-06-09T13:32:36.056Z"
   },
   {
    "duration": 0,
    "start_time": "2022-06-09T13:32:36.057Z"
   },
   {
    "duration": 0,
    "start_time": "2022-06-09T13:32:36.058Z"
   },
   {
    "duration": 0,
    "start_time": "2022-06-09T13:32:36.060Z"
   },
   {
    "duration": 1282,
    "start_time": "2022-06-09T13:37:32.683Z"
   },
   {
    "duration": 729,
    "start_time": "2022-06-09T13:37:33.969Z"
   },
   {
    "duration": 15,
    "start_time": "2022-06-09T13:37:34.700Z"
   },
   {
    "duration": 18,
    "start_time": "2022-06-09T13:37:34.717Z"
   },
   {
    "duration": 3,
    "start_time": "2022-06-09T13:37:34.737Z"
   },
   {
    "duration": 336,
    "start_time": "2022-06-09T13:37:34.741Z"
   },
   {
    "duration": 6,
    "start_time": "2022-06-09T13:37:35.078Z"
   },
   {
    "duration": 9,
    "start_time": "2022-06-09T13:37:35.086Z"
   },
   {
    "duration": 8,
    "start_time": "2022-06-09T13:37:35.096Z"
   },
   {
    "duration": 528,
    "start_time": "2022-06-09T13:37:35.107Z"
   },
   {
    "duration": 279,
    "start_time": "2022-06-09T13:37:35.637Z"
   },
   {
    "duration": 246,
    "start_time": "2022-06-09T13:37:35.923Z"
   },
   {
    "duration": 18,
    "start_time": "2022-06-09T13:37:36.172Z"
   },
   {
    "duration": 377,
    "start_time": "2022-06-09T13:37:36.193Z"
   },
   {
    "duration": 400,
    "start_time": "2022-06-09T13:37:36.571Z"
   },
   {
    "duration": 24,
    "start_time": "2022-06-09T13:37:36.973Z"
   },
   {
    "duration": 32,
    "start_time": "2022-06-09T13:37:36.999Z"
   },
   {
    "duration": 28,
    "start_time": "2022-06-09T13:37:37.033Z"
   },
   {
    "duration": 84,
    "start_time": "2022-06-09T13:37:37.062Z"
   },
   {
    "duration": 3,
    "start_time": "2022-06-09T13:37:37.148Z"
   },
   {
    "duration": 85,
    "start_time": "2022-06-09T13:37:37.152Z"
   },
   {
    "duration": 16,
    "start_time": "2022-06-09T13:37:37.239Z"
   },
   {
    "duration": 3,
    "start_time": "2022-06-09T13:37:37.257Z"
   },
   {
    "duration": 9,
    "start_time": "2022-06-09T13:37:37.262Z"
   },
   {
    "duration": 323753,
    "start_time": "2022-06-09T13:37:37.272Z"
   },
   {
    "duration": 40434,
    "start_time": "2022-06-09T13:43:01.027Z"
   },
   {
    "duration": 113,
    "start_time": "2022-06-09T13:43:41.463Z"
   },
   {
    "duration": 0,
    "start_time": "2022-06-09T13:43:41.579Z"
   },
   {
    "duration": 0,
    "start_time": "2022-06-09T13:43:41.580Z"
   },
   {
    "duration": 0,
    "start_time": "2022-06-09T13:43:41.582Z"
   },
   {
    "duration": 0,
    "start_time": "2022-06-09T13:43:41.583Z"
   },
   {
    "duration": 0,
    "start_time": "2022-06-09T13:43:41.584Z"
   },
   {
    "duration": 0,
    "start_time": "2022-06-09T13:43:41.585Z"
   },
   {
    "duration": 0,
    "start_time": "2022-06-09T13:43:41.587Z"
   },
   {
    "duration": 0,
    "start_time": "2022-06-09T13:43:41.588Z"
   },
   {
    "duration": 0,
    "start_time": "2022-06-09T13:43:41.589Z"
   },
   {
    "duration": 0,
    "start_time": "2022-06-09T13:43:41.591Z"
   },
   {
    "duration": 0,
    "start_time": "2022-06-09T13:43:41.593Z"
   },
   {
    "duration": 0,
    "start_time": "2022-06-09T13:43:41.594Z"
   },
   {
    "duration": 0,
    "start_time": "2022-06-09T13:43:41.623Z"
   },
   {
    "duration": 0,
    "start_time": "2022-06-09T13:43:41.625Z"
   },
   {
    "duration": 0,
    "start_time": "2022-06-09T13:43:41.626Z"
   },
   {
    "duration": 0,
    "start_time": "2022-06-09T13:43:41.628Z"
   },
   {
    "duration": 0,
    "start_time": "2022-06-09T13:43:41.629Z"
   },
   {
    "duration": 0,
    "start_time": "2022-06-09T13:43:41.631Z"
   },
   {
    "duration": 0,
    "start_time": "2022-06-09T13:43:41.632Z"
   },
   {
    "duration": 0,
    "start_time": "2022-06-09T13:43:41.634Z"
   },
   {
    "duration": 0,
    "start_time": "2022-06-09T13:43:41.635Z"
   },
   {
    "duration": 0,
    "start_time": "2022-06-09T13:43:41.637Z"
   },
   {
    "duration": 0,
    "start_time": "2022-06-09T13:43:41.638Z"
   },
   {
    "duration": 0,
    "start_time": "2022-06-09T13:43:41.640Z"
   },
   {
    "duration": 0,
    "start_time": "2022-06-09T13:43:41.641Z"
   },
   {
    "duration": 27,
    "start_time": "2022-06-09T13:44:12.601Z"
   },
   {
    "duration": 1303,
    "start_time": "2022-06-09T13:47:15.348Z"
   },
   {
    "duration": 736,
    "start_time": "2022-06-09T13:47:16.652Z"
   },
   {
    "duration": 16,
    "start_time": "2022-06-09T13:47:17.389Z"
   },
   {
    "duration": 26,
    "start_time": "2022-06-09T13:47:17.407Z"
   },
   {
    "duration": 3,
    "start_time": "2022-06-09T13:47:17.435Z"
   },
   {
    "duration": 339,
    "start_time": "2022-06-09T13:47:17.440Z"
   },
   {
    "duration": 6,
    "start_time": "2022-06-09T13:47:17.781Z"
   },
   {
    "duration": 9,
    "start_time": "2022-06-09T13:47:17.789Z"
   },
   {
    "duration": 16,
    "start_time": "2022-06-09T13:47:17.800Z"
   },
   {
    "duration": 523,
    "start_time": "2022-06-09T13:47:17.819Z"
   },
   {
    "duration": 288,
    "start_time": "2022-06-09T13:47:18.344Z"
   },
   {
    "duration": 222,
    "start_time": "2022-06-09T13:47:18.634Z"
   },
   {
    "duration": 11,
    "start_time": "2022-06-09T13:47:18.857Z"
   },
   {
    "duration": 407,
    "start_time": "2022-06-09T13:47:18.870Z"
   },
   {
    "duration": 413,
    "start_time": "2022-06-09T13:47:19.279Z"
   },
   {
    "duration": 33,
    "start_time": "2022-06-09T13:47:19.695Z"
   },
   {
    "duration": 22,
    "start_time": "2022-06-09T13:47:19.730Z"
   },
   {
    "duration": 148,
    "start_time": "2022-06-09T13:47:19.754Z"
   },
   {
    "duration": 0,
    "start_time": "2022-06-09T13:47:19.904Z"
   },
   {
    "duration": 0,
    "start_time": "2022-06-09T13:47:19.905Z"
   },
   {
    "duration": 0,
    "start_time": "2022-06-09T13:47:19.906Z"
   },
   {
    "duration": 0,
    "start_time": "2022-06-09T13:47:19.908Z"
   },
   {
    "duration": 0,
    "start_time": "2022-06-09T13:47:19.923Z"
   },
   {
    "duration": 0,
    "start_time": "2022-06-09T13:47:19.925Z"
   },
   {
    "duration": 0,
    "start_time": "2022-06-09T13:47:19.927Z"
   },
   {
    "duration": 0,
    "start_time": "2022-06-09T13:47:19.928Z"
   },
   {
    "duration": 0,
    "start_time": "2022-06-09T13:47:19.930Z"
   },
   {
    "duration": 0,
    "start_time": "2022-06-09T13:47:19.931Z"
   },
   {
    "duration": 0,
    "start_time": "2022-06-09T13:47:19.932Z"
   },
   {
    "duration": 0,
    "start_time": "2022-06-09T13:47:19.935Z"
   },
   {
    "duration": 0,
    "start_time": "2022-06-09T13:47:19.937Z"
   },
   {
    "duration": 0,
    "start_time": "2022-06-09T13:47:19.939Z"
   },
   {
    "duration": 0,
    "start_time": "2022-06-09T13:47:19.940Z"
   },
   {
    "duration": 0,
    "start_time": "2022-06-09T13:47:19.943Z"
   },
   {
    "duration": 0,
    "start_time": "2022-06-09T13:47:19.944Z"
   },
   {
    "duration": 0,
    "start_time": "2022-06-09T13:47:19.946Z"
   },
   {
    "duration": 0,
    "start_time": "2022-06-09T13:47:19.947Z"
   },
   {
    "duration": 0,
    "start_time": "2022-06-09T13:47:19.949Z"
   },
   {
    "duration": 0,
    "start_time": "2022-06-09T13:47:19.951Z"
   },
   {
    "duration": 0,
    "start_time": "2022-06-09T13:47:19.953Z"
   },
   {
    "duration": 0,
    "start_time": "2022-06-09T13:47:19.954Z"
   },
   {
    "duration": 0,
    "start_time": "2022-06-09T13:47:19.956Z"
   },
   {
    "duration": 0,
    "start_time": "2022-06-09T13:47:19.957Z"
   },
   {
    "duration": 0,
    "start_time": "2022-06-09T13:47:19.959Z"
   },
   {
    "duration": 0,
    "start_time": "2022-06-09T13:47:19.960Z"
   },
   {
    "duration": 0,
    "start_time": "2022-06-09T13:47:19.963Z"
   },
   {
    "duration": 1,
    "start_time": "2022-06-09T13:47:19.964Z"
   },
   {
    "duration": 0,
    "start_time": "2022-06-09T13:47:19.966Z"
   },
   {
    "duration": 0,
    "start_time": "2022-06-09T13:47:20.024Z"
   },
   {
    "duration": 0,
    "start_time": "2022-06-09T13:47:20.026Z"
   },
   {
    "duration": 1,
    "start_time": "2022-06-09T13:47:20.028Z"
   },
   {
    "duration": 1,
    "start_time": "2022-06-09T13:47:20.030Z"
   },
   {
    "duration": 1309,
    "start_time": "2022-06-09T13:47:54.286Z"
   },
   {
    "duration": 735,
    "start_time": "2022-06-09T13:47:55.597Z"
   },
   {
    "duration": 22,
    "start_time": "2022-06-09T13:47:56.337Z"
   },
   {
    "duration": 18,
    "start_time": "2022-06-09T13:47:56.361Z"
   },
   {
    "duration": 4,
    "start_time": "2022-06-09T13:47:56.382Z"
   },
   {
    "duration": 388,
    "start_time": "2022-06-09T13:47:56.388Z"
   },
   {
    "duration": 6,
    "start_time": "2022-06-09T13:47:56.778Z"
   },
   {
    "duration": 5,
    "start_time": "2022-06-09T13:47:56.786Z"
   },
   {
    "duration": 6,
    "start_time": "2022-06-09T13:47:56.794Z"
   },
   {
    "duration": 579,
    "start_time": "2022-06-09T13:47:56.801Z"
   },
   {
    "duration": 317,
    "start_time": "2022-06-09T13:47:57.381Z"
   },
   {
    "duration": 238,
    "start_time": "2022-06-09T13:47:57.700Z"
   },
   {
    "duration": 17,
    "start_time": "2022-06-09T13:47:57.940Z"
   },
   {
    "duration": 421,
    "start_time": "2022-06-09T13:47:57.959Z"
   },
   {
    "duration": 396,
    "start_time": "2022-06-09T13:47:58.382Z"
   },
   {
    "duration": 22,
    "start_time": "2022-06-09T13:47:58.780Z"
   },
   {
    "duration": 39,
    "start_time": "2022-06-09T13:47:58.804Z"
   },
   {
    "duration": 30,
    "start_time": "2022-06-09T13:47:58.845Z"
   },
   {
    "duration": 115,
    "start_time": "2022-06-09T13:47:58.878Z"
   },
   {
    "duration": 3,
    "start_time": "2022-06-09T13:47:58.996Z"
   },
   {
    "duration": 100,
    "start_time": "2022-06-09T13:47:59.002Z"
   },
   {
    "duration": 33,
    "start_time": "2022-06-09T13:47:59.103Z"
   },
   {
    "duration": 4,
    "start_time": "2022-06-09T13:47:59.137Z"
   },
   {
    "duration": 13,
    "start_time": "2022-06-09T13:47:59.143Z"
   },
   {
    "duration": 324264,
    "start_time": "2022-06-09T13:47:59.158Z"
   },
   {
    "duration": 40955,
    "start_time": "2022-06-09T13:53:23.423Z"
   },
   {
    "duration": 29,
    "start_time": "2022-06-09T13:54:04.381Z"
   },
   {
    "duration": 13,
    "start_time": "2022-06-09T13:54:04.412Z"
   },
   {
    "duration": 4320,
    "start_time": "2022-06-09T13:54:04.427Z"
   },
   {
    "duration": 33,
    "start_time": "2022-06-09T13:54:08.749Z"
   },
   {
    "duration": 5,
    "start_time": "2022-06-09T13:54:08.784Z"
   },
   {
    "duration": 17,
    "start_time": "2022-06-09T13:54:08.791Z"
   },
   {
    "duration": 521,
    "start_time": "2022-06-09T13:54:08.810Z"
   },
   {
    "duration": 1097,
    "start_time": "2022-06-09T13:54:09.333Z"
   },
   {
    "duration": 90,
    "start_time": "2022-06-09T13:54:10.433Z"
   },
   {
    "duration": 5,
    "start_time": "2022-06-09T13:54:10.525Z"
   },
   {
    "duration": 11,
    "start_time": "2022-06-09T13:54:10.532Z"
   },
   {
    "duration": 187,
    "start_time": "2022-06-09T13:54:10.545Z"
   },
   {
    "duration": 20,
    "start_time": "2022-06-09T13:54:10.734Z"
   },
   {
    "duration": 5,
    "start_time": "2022-06-09T13:54:10.826Z"
   },
   {
    "duration": 103,
    "start_time": "2022-06-09T13:54:10.834Z"
   },
   {
    "duration": 3918,
    "start_time": "2022-06-09T13:54:10.940Z"
   },
   {
    "duration": 15181,
    "start_time": "2022-06-09T13:54:14.860Z"
   },
   {
    "duration": 26090,
    "start_time": "2022-06-09T13:54:30.043Z"
   },
   {
    "duration": 4,
    "start_time": "2022-06-09T13:54:56.135Z"
   },
   {
    "duration": 6853,
    "start_time": "2022-06-09T13:54:56.141Z"
   },
   {
    "duration": 8,
    "start_time": "2022-06-09T13:55:02.996Z"
   },
   {
    "duration": 20,
    "start_time": "2022-06-09T13:55:03.005Z"
   },
   {
    "duration": 7,
    "start_time": "2022-06-09T13:55:03.027Z"
   },
   {
    "duration": 8,
    "start_time": "2022-06-09T13:55:03.035Z"
   },
   {
    "duration": 11,
    "start_time": "2022-06-09T13:55:03.045Z"
   },
   {
    "duration": 9,
    "start_time": "2022-06-09T13:55:03.058Z"
   },
   {
    "duration": 1441,
    "start_time": "2022-06-09T13:55:52.208Z"
   },
   {
    "duration": 705,
    "start_time": "2022-06-09T13:55:53.650Z"
   },
   {
    "duration": 16,
    "start_time": "2022-06-09T13:55:54.357Z"
   },
   {
    "duration": 13,
    "start_time": "2022-06-09T13:55:54.375Z"
   },
   {
    "duration": 3,
    "start_time": "2022-06-09T13:55:54.390Z"
   },
   {
    "duration": 357,
    "start_time": "2022-06-09T13:55:54.395Z"
   },
   {
    "duration": 6,
    "start_time": "2022-06-09T13:55:54.753Z"
   },
   {
    "duration": 10,
    "start_time": "2022-06-09T13:55:54.761Z"
   },
   {
    "duration": 10,
    "start_time": "2022-06-09T13:55:54.772Z"
   },
   {
    "duration": 524,
    "start_time": "2022-06-09T13:55:54.784Z"
   },
   {
    "duration": 300,
    "start_time": "2022-06-09T13:55:55.309Z"
   },
   {
    "duration": 258,
    "start_time": "2022-06-09T13:55:55.610Z"
   },
   {
    "duration": 11,
    "start_time": "2022-06-09T13:55:55.870Z"
   },
   {
    "duration": 391,
    "start_time": "2022-06-09T13:55:55.883Z"
   },
   {
    "duration": 422,
    "start_time": "2022-06-09T13:55:56.275Z"
   },
   {
    "duration": 31,
    "start_time": "2022-06-09T13:55:56.699Z"
   },
   {
    "duration": 22,
    "start_time": "2022-06-09T13:55:56.732Z"
   },
   {
    "duration": 29,
    "start_time": "2022-06-09T13:55:56.756Z"
   },
   {
    "duration": 93,
    "start_time": "2022-06-09T13:55:56.788Z"
   },
   {
    "duration": 3,
    "start_time": "2022-06-09T13:55:56.883Z"
   },
   {
    "duration": 113,
    "start_time": "2022-06-09T13:55:56.888Z"
   },
   {
    "duration": 22,
    "start_time": "2022-06-09T13:55:57.003Z"
   },
   {
    "duration": 4,
    "start_time": "2022-06-09T13:55:57.027Z"
   },
   {
    "duration": 10,
    "start_time": "2022-06-09T13:55:57.033Z"
   },
   {
    "duration": 324605,
    "start_time": "2022-06-09T13:55:57.044Z"
   },
   {
    "duration": 40671,
    "start_time": "2022-06-09T14:01:21.652Z"
   },
   {
    "duration": 36,
    "start_time": "2022-06-09T14:02:02.324Z"
   },
   {
    "duration": 6,
    "start_time": "2022-06-09T14:02:02.363Z"
   },
   {
    "duration": 4571,
    "start_time": "2022-06-09T14:02:02.371Z"
   },
   {
    "duration": 35,
    "start_time": "2022-06-09T14:02:06.944Z"
   },
   {
    "duration": 7,
    "start_time": "2022-06-09T14:02:06.981Z"
   },
   {
    "duration": 33,
    "start_time": "2022-06-09T14:02:06.991Z"
   },
   {
    "duration": 799,
    "start_time": "2022-06-09T14:02:07.027Z"
   },
   {
    "duration": 810,
    "start_time": "2022-06-09T14:02:07.827Z"
   },
   {
    "duration": 86,
    "start_time": "2022-06-09T14:02:08.638Z"
   },
   {
    "duration": 107,
    "start_time": "2022-06-09T14:02:08.727Z"
   },
   {
    "duration": 13,
    "start_time": "2022-06-09T14:02:08.836Z"
   },
   {
    "duration": 77,
    "start_time": "2022-06-09T14:02:08.852Z"
   },
   {
    "duration": 192,
    "start_time": "2022-06-09T14:02:08.931Z"
   },
   {
    "duration": 106,
    "start_time": "2022-06-09T14:02:09.126Z"
   },
   {
    "duration": 13,
    "start_time": "2022-06-09T14:02:09.234Z"
   },
   {
    "duration": 3887,
    "start_time": "2022-06-09T14:02:09.248Z"
   },
   {
    "duration": 15522,
    "start_time": "2022-06-09T14:02:13.137Z"
   },
   {
    "duration": 26297,
    "start_time": "2022-06-09T14:02:28.661Z"
   },
   {
    "duration": 6,
    "start_time": "2022-06-09T14:02:54.959Z"
   },
   {
    "duration": 6858,
    "start_time": "2022-06-09T14:02:54.967Z"
   },
   {
    "duration": 9,
    "start_time": "2022-06-09T14:03:01.827Z"
   },
   {
    "duration": 13,
    "start_time": "2022-06-09T14:03:01.838Z"
   },
   {
    "duration": 28,
    "start_time": "2022-06-09T14:03:01.854Z"
   },
   {
    "duration": 13,
    "start_time": "2022-06-09T14:03:01.884Z"
   },
   {
    "duration": 44,
    "start_time": "2022-06-09T14:03:01.900Z"
   },
   {
    "duration": 23,
    "start_time": "2022-06-09T14:03:01.946Z"
   },
   {
    "duration": 1328,
    "start_time": "2022-06-09T14:04:24.111Z"
   },
   {
    "duration": 710,
    "start_time": "2022-06-09T14:04:25.441Z"
   },
   {
    "duration": 14,
    "start_time": "2022-06-09T14:04:26.152Z"
   },
   {
    "duration": 13,
    "start_time": "2022-06-09T14:04:26.167Z"
   },
   {
    "duration": 20,
    "start_time": "2022-06-09T14:04:26.183Z"
   },
   {
    "duration": 343,
    "start_time": "2022-06-09T14:04:26.205Z"
   },
   {
    "duration": 7,
    "start_time": "2022-06-09T14:04:26.550Z"
   },
   {
    "duration": 5,
    "start_time": "2022-06-09T14:04:26.558Z"
   },
   {
    "duration": 6,
    "start_time": "2022-06-09T14:04:26.564Z"
   },
   {
    "duration": 525,
    "start_time": "2022-06-09T14:04:26.571Z"
   },
   {
    "duration": 302,
    "start_time": "2022-06-09T14:04:27.098Z"
   },
   {
    "duration": 248,
    "start_time": "2022-06-09T14:04:27.402Z"
   },
   {
    "duration": 11,
    "start_time": "2022-06-09T14:04:27.652Z"
   },
   {
    "duration": 394,
    "start_time": "2022-06-09T14:04:27.666Z"
   },
   {
    "duration": 412,
    "start_time": "2022-06-09T14:04:28.062Z"
   },
   {
    "duration": 50,
    "start_time": "2022-06-09T14:04:28.476Z"
   },
   {
    "duration": 30,
    "start_time": "2022-06-09T14:04:28.528Z"
   },
   {
    "duration": 36,
    "start_time": "2022-06-09T14:04:28.561Z"
   },
   {
    "duration": 87,
    "start_time": "2022-06-09T14:04:28.599Z"
   },
   {
    "duration": 63,
    "start_time": "2022-06-09T14:04:28.688Z"
   },
   {
    "duration": 18,
    "start_time": "2022-06-09T14:04:28.753Z"
   },
   {
    "duration": 6,
    "start_time": "2022-06-09T14:04:28.774Z"
   },
   {
    "duration": 10,
    "start_time": "2022-06-09T14:04:28.781Z"
   },
   {
    "duration": 319465,
    "start_time": "2022-06-09T14:04:28.792Z"
   },
   {
    "duration": 40608,
    "start_time": "2022-06-09T14:09:48.259Z"
   },
   {
    "duration": 35,
    "start_time": "2022-06-09T14:10:28.869Z"
   },
   {
    "duration": 5,
    "start_time": "2022-06-09T14:10:28.905Z"
   },
   {
    "duration": 4319,
    "start_time": "2022-06-09T14:10:28.924Z"
   },
   {
    "duration": 51,
    "start_time": "2022-06-09T14:10:33.244Z"
   },
   {
    "duration": 6,
    "start_time": "2022-06-09T14:10:33.297Z"
   },
   {
    "duration": 10,
    "start_time": "2022-06-09T14:10:33.323Z"
   },
   {
    "duration": 400,
    "start_time": "2022-06-09T14:10:33.334Z"
   },
   {
    "duration": 900,
    "start_time": "2022-06-09T14:10:33.824Z"
   },
   {
    "duration": 4,
    "start_time": "2022-06-09T14:10:34.726Z"
   },
   {
    "duration": 97,
    "start_time": "2022-06-09T14:10:34.732Z"
   },
   {
    "duration": 7,
    "start_time": "2022-06-09T14:10:34.832Z"
   },
   {
    "duration": 88,
    "start_time": "2022-06-09T14:10:34.841Z"
   },
   {
    "duration": 106,
    "start_time": "2022-06-09T14:10:34.931Z"
   },
   {
    "duration": 185,
    "start_time": "2022-06-09T14:10:35.039Z"
   },
   {
    "duration": 13,
    "start_time": "2022-06-09T14:10:35.226Z"
   },
   {
    "duration": 3803,
    "start_time": "2022-06-09T14:10:35.243Z"
   },
   {
    "duration": 14955,
    "start_time": "2022-06-09T14:10:39.048Z"
   },
   {
    "duration": 26341,
    "start_time": "2022-06-09T14:10:54.005Z"
   },
   {
    "duration": 6,
    "start_time": "2022-06-09T14:11:20.349Z"
   },
   {
    "duration": 6633,
    "start_time": "2022-06-09T14:11:20.357Z"
   },
   {
    "duration": 9,
    "start_time": "2022-06-09T14:11:26.992Z"
   },
   {
    "duration": 9,
    "start_time": "2022-06-09T14:11:27.002Z"
   },
   {
    "duration": 15,
    "start_time": "2022-06-09T14:11:27.013Z"
   },
   {
    "duration": 6,
    "start_time": "2022-06-09T14:11:27.029Z"
   },
   {
    "duration": 8,
    "start_time": "2022-06-09T14:11:27.037Z"
   },
   {
    "duration": 7,
    "start_time": "2022-06-09T14:11:27.046Z"
   },
   {
    "duration": 8,
    "start_time": "2022-06-09T14:14:54.928Z"
   },
   {
    "duration": 8,
    "start_time": "2022-06-09T14:14:57.032Z"
   },
   {
    "duration": 4,
    "start_time": "2022-06-09T14:14:58.764Z"
   },
   {
    "duration": 3,
    "start_time": "2022-06-09T14:15:34.212Z"
   },
   {
    "duration": 1282,
    "start_time": "2022-06-09T14:16:16.800Z"
   },
   {
    "duration": 745,
    "start_time": "2022-06-09T14:16:18.084Z"
   },
   {
    "duration": 18,
    "start_time": "2022-06-09T14:16:18.831Z"
   },
   {
    "duration": 13,
    "start_time": "2022-06-09T14:16:18.850Z"
   },
   {
    "duration": 3,
    "start_time": "2022-06-09T14:16:18.865Z"
   },
   {
    "duration": 391,
    "start_time": "2022-06-09T14:16:18.870Z"
   },
   {
    "duration": 5,
    "start_time": "2022-06-09T14:16:19.263Z"
   },
   {
    "duration": 5,
    "start_time": "2022-06-09T14:16:19.270Z"
   },
   {
    "duration": 9,
    "start_time": "2022-06-09T14:16:19.277Z"
   },
   {
    "duration": 546,
    "start_time": "2022-06-09T14:16:19.288Z"
   },
   {
    "duration": 289,
    "start_time": "2022-06-09T14:16:19.837Z"
   },
   {
    "duration": 229,
    "start_time": "2022-06-09T14:16:20.128Z"
   },
   {
    "duration": 10,
    "start_time": "2022-06-09T14:16:20.359Z"
   },
   {
    "duration": 376,
    "start_time": "2022-06-09T14:16:20.372Z"
   },
   {
    "duration": 440,
    "start_time": "2022-06-09T14:16:20.749Z"
   },
   {
    "duration": 19,
    "start_time": "2022-06-09T14:16:21.191Z"
   },
   {
    "duration": 28,
    "start_time": "2022-06-09T14:16:21.212Z"
   },
   {
    "duration": 33,
    "start_time": "2022-06-09T14:16:21.243Z"
   },
   {
    "duration": 90,
    "start_time": "2022-06-09T14:16:21.278Z"
   },
   {
    "duration": 60,
    "start_time": "2022-06-09T14:16:21.370Z"
   },
   {
    "duration": 22,
    "start_time": "2022-06-09T14:16:21.433Z"
   },
   {
    "duration": 3,
    "start_time": "2022-06-09T14:16:21.457Z"
   },
   {
    "duration": 10,
    "start_time": "2022-06-09T14:16:21.462Z"
   },
   {
    "duration": 330102,
    "start_time": "2022-06-09T14:16:21.474Z"
   },
   {
    "duration": 40621,
    "start_time": "2022-06-09T14:21:51.578Z"
   },
   {
    "duration": 36,
    "start_time": "2022-06-09T14:22:32.201Z"
   },
   {
    "duration": 5,
    "start_time": "2022-06-09T14:22:32.239Z"
   },
   {
    "duration": 4215,
    "start_time": "2022-06-09T14:22:32.246Z"
   },
   {
    "duration": 31,
    "start_time": "2022-06-09T14:22:36.463Z"
   },
   {
    "duration": 5,
    "start_time": "2022-06-09T14:22:36.495Z"
   },
   {
    "duration": 26,
    "start_time": "2022-06-09T14:22:36.501Z"
   },
   {
    "duration": 397,
    "start_time": "2022-06-09T14:22:36.528Z"
   },
   {
    "duration": 600,
    "start_time": "2022-06-09T14:22:36.927Z"
   },
   {
    "duration": 3,
    "start_time": "2022-06-09T14:22:37.529Z"
   },
   {
    "duration": 98,
    "start_time": "2022-06-09T14:22:37.534Z"
   },
   {
    "duration": 15,
    "start_time": "2022-06-09T14:22:37.634Z"
   },
   {
    "duration": 77,
    "start_time": "2022-06-09T14:22:37.651Z"
   },
   {
    "duration": 113,
    "start_time": "2022-06-09T14:22:37.731Z"
   },
   {
    "duration": 98,
    "start_time": "2022-06-09T14:22:37.930Z"
   },
   {
    "duration": 45,
    "start_time": "2022-06-09T14:22:38.030Z"
   },
   {
    "duration": 3890,
    "start_time": "2022-06-09T14:22:38.079Z"
   },
   {
    "duration": 14928,
    "start_time": "2022-06-09T14:22:41.971Z"
   },
   {
    "duration": 25905,
    "start_time": "2022-06-09T14:22:56.901Z"
   },
   {
    "duration": 5,
    "start_time": "2022-06-09T14:23:22.808Z"
   },
   {
    "duration": 6568,
    "start_time": "2022-06-09T14:23:22.823Z"
   },
   {
    "duration": 8,
    "start_time": "2022-06-09T14:23:29.393Z"
   },
   {
    "duration": 8,
    "start_time": "2022-06-09T14:23:29.403Z"
   },
   {
    "duration": 14,
    "start_time": "2022-06-09T14:23:29.413Z"
   },
   {
    "duration": 11,
    "start_time": "2022-06-09T14:23:29.428Z"
   },
   {
    "duration": 20,
    "start_time": "2022-06-09T14:23:29.440Z"
   },
   {
    "duration": 17,
    "start_time": "2022-06-09T14:23:29.462Z"
   },
   {
    "duration": 17,
    "start_time": "2022-06-09T14:23:29.480Z"
   },
   {
    "duration": 1282,
    "start_time": "2022-06-09T14:35:28.364Z"
   },
   {
    "duration": 730,
    "start_time": "2022-06-09T14:35:29.647Z"
   },
   {
    "duration": 15,
    "start_time": "2022-06-09T14:35:30.379Z"
   },
   {
    "duration": 26,
    "start_time": "2022-06-09T14:35:30.397Z"
   },
   {
    "duration": 4,
    "start_time": "2022-06-09T14:35:30.425Z"
   },
   {
    "duration": 371,
    "start_time": "2022-06-09T14:35:30.431Z"
   },
   {
    "duration": 6,
    "start_time": "2022-06-09T14:35:30.804Z"
   },
   {
    "duration": 23,
    "start_time": "2022-06-09T14:35:30.811Z"
   },
   {
    "duration": 9,
    "start_time": "2022-06-09T14:35:30.836Z"
   },
   {
    "duration": 538,
    "start_time": "2022-06-09T14:35:30.847Z"
   },
   {
    "duration": 336,
    "start_time": "2022-06-09T14:35:31.387Z"
   },
   {
    "duration": 237,
    "start_time": "2022-06-09T14:35:31.725Z"
   },
   {
    "duration": 14,
    "start_time": "2022-06-09T14:35:31.963Z"
   },
   {
    "duration": 389,
    "start_time": "2022-06-09T14:35:31.979Z"
   },
   {
    "duration": 423,
    "start_time": "2022-06-09T14:35:32.369Z"
   },
   {
    "duration": 44,
    "start_time": "2022-06-09T14:35:32.794Z"
   },
   {
    "duration": 25,
    "start_time": "2022-06-09T14:35:32.840Z"
   },
   {
    "duration": 56,
    "start_time": "2022-06-09T14:35:32.867Z"
   },
   {
    "duration": 110,
    "start_time": "2022-06-09T14:35:32.925Z"
   },
   {
    "duration": 48,
    "start_time": "2022-06-09T14:35:33.037Z"
   },
   {
    "duration": 17,
    "start_time": "2022-06-09T14:35:33.087Z"
   },
   {
    "duration": 18,
    "start_time": "2022-06-09T14:35:33.105Z"
   },
   {
    "duration": 8,
    "start_time": "2022-06-09T14:35:33.124Z"
   },
   {
    "duration": 320258,
    "start_time": "2022-06-09T14:35:33.134Z"
   },
   {
    "duration": 39807,
    "start_time": "2022-06-09T14:40:53.394Z"
   },
   {
    "duration": 39,
    "start_time": "2022-06-09T14:41:33.203Z"
   },
   {
    "duration": 5,
    "start_time": "2022-06-09T14:41:33.244Z"
   },
   {
    "duration": 4197,
    "start_time": "2022-06-09T14:41:33.253Z"
   },
   {
    "duration": 30,
    "start_time": "2022-06-09T14:41:37.452Z"
   },
   {
    "duration": 5,
    "start_time": "2022-06-09T14:41:37.484Z"
   },
   {
    "duration": 16,
    "start_time": "2022-06-09T14:41:37.490Z"
   },
   {
    "duration": 507,
    "start_time": "2022-06-09T14:41:37.525Z"
   },
   {
    "duration": 1089,
    "start_time": "2022-06-09T14:41:38.035Z"
   },
   {
    "duration": 4,
    "start_time": "2022-06-09T14:41:39.127Z"
   },
   {
    "duration": 100,
    "start_time": "2022-06-09T14:41:39.133Z"
   },
   {
    "duration": 14,
    "start_time": "2022-06-09T14:41:39.236Z"
   },
   {
    "duration": 75,
    "start_time": "2022-06-09T14:41:39.253Z"
   },
   {
    "duration": 112,
    "start_time": "2022-06-09T14:41:39.330Z"
   },
   {
    "duration": 181,
    "start_time": "2022-06-09T14:41:39.445Z"
   },
   {
    "duration": 14,
    "start_time": "2022-06-09T14:41:39.628Z"
   },
   {
    "duration": 3799,
    "start_time": "2022-06-09T14:41:39.643Z"
   },
   {
    "duration": 14938,
    "start_time": "2022-06-09T14:41:43.444Z"
   },
   {
    "duration": 26185,
    "start_time": "2022-06-09T14:41:58.384Z"
   },
   {
    "duration": 4,
    "start_time": "2022-06-09T14:42:24.571Z"
   },
   {
    "duration": 6613,
    "start_time": "2022-06-09T14:42:24.577Z"
   },
   {
    "duration": 9,
    "start_time": "2022-06-09T14:42:31.192Z"
   },
   {
    "duration": 20,
    "start_time": "2022-06-09T14:42:31.202Z"
   },
   {
    "duration": 18,
    "start_time": "2022-06-09T14:42:31.224Z"
   },
   {
    "duration": 21,
    "start_time": "2022-06-09T14:42:31.244Z"
   },
   {
    "duration": 14,
    "start_time": "2022-06-09T14:42:31.266Z"
   },
   {
    "duration": 18,
    "start_time": "2022-06-09T14:42:31.281Z"
   },
   {
    "duration": 26,
    "start_time": "2022-06-09T14:42:31.300Z"
   },
   {
    "duration": 1430,
    "start_time": "2022-06-10T05:59:18.939Z"
   },
   {
    "duration": 3142,
    "start_time": "2022-06-10T05:59:20.371Z"
   },
   {
    "duration": 18,
    "start_time": "2022-06-10T05:59:23.516Z"
   },
   {
    "duration": 19,
    "start_time": "2022-06-10T05:59:23.537Z"
   },
   {
    "duration": 4,
    "start_time": "2022-06-10T05:59:23.559Z"
   },
   {
    "duration": 371,
    "start_time": "2022-06-10T05:59:23.565Z"
   },
   {
    "duration": 6,
    "start_time": "2022-06-10T05:59:23.937Z"
   },
   {
    "duration": 12,
    "start_time": "2022-06-10T05:59:23.944Z"
   },
   {
    "duration": 7,
    "start_time": "2022-06-10T05:59:23.958Z"
   },
   {
    "duration": 554,
    "start_time": "2022-06-10T05:59:23.967Z"
   },
   {
    "duration": 299,
    "start_time": "2022-06-10T05:59:24.522Z"
   },
   {
    "duration": 204,
    "start_time": "2022-06-10T05:59:24.823Z"
   },
   {
    "duration": 11,
    "start_time": "2022-06-10T05:59:25.029Z"
   },
   {
    "duration": 383,
    "start_time": "2022-06-10T05:59:25.042Z"
   },
   {
    "duration": 380,
    "start_time": "2022-06-10T05:59:25.427Z"
   },
   {
    "duration": 21,
    "start_time": "2022-06-10T05:59:25.809Z"
   },
   {
    "duration": 22,
    "start_time": "2022-06-10T05:59:25.831Z"
   },
   {
    "duration": 46,
    "start_time": "2022-06-10T05:59:25.855Z"
   },
   {
    "duration": 63,
    "start_time": "2022-06-10T05:59:25.905Z"
   },
   {
    "duration": 52,
    "start_time": "2022-06-10T05:59:25.970Z"
   },
   {
    "duration": 4,
    "start_time": "2022-06-10T05:59:26.024Z"
   },
   {
    "duration": 9,
    "start_time": "2022-06-10T05:59:26.029Z"
   },
   {
    "duration": 1288,
    "start_time": "2022-06-10T06:02:41.945Z"
   },
   {
    "duration": 740,
    "start_time": "2022-06-10T06:02:43.235Z"
   },
   {
    "duration": 26,
    "start_time": "2022-06-10T06:02:43.977Z"
   },
   {
    "duration": 20,
    "start_time": "2022-06-10T06:02:44.006Z"
   },
   {
    "duration": 3,
    "start_time": "2022-06-10T06:02:44.028Z"
   },
   {
    "duration": 372,
    "start_time": "2022-06-10T06:02:44.033Z"
   },
   {
    "duration": 6,
    "start_time": "2022-06-10T06:02:44.409Z"
   },
   {
    "duration": 5,
    "start_time": "2022-06-10T06:02:44.417Z"
   },
   {
    "duration": 6,
    "start_time": "2022-06-10T06:02:44.423Z"
   },
   {
    "duration": 545,
    "start_time": "2022-06-10T06:02:44.433Z"
   },
   {
    "duration": 313,
    "start_time": "2022-06-10T06:02:44.980Z"
   },
   {
    "duration": 232,
    "start_time": "2022-06-10T06:02:45.294Z"
   },
   {
    "duration": 12,
    "start_time": "2022-06-10T06:02:45.528Z"
   },
   {
    "duration": 374,
    "start_time": "2022-06-10T06:02:45.542Z"
   },
   {
    "duration": 394,
    "start_time": "2022-06-10T06:02:45.917Z"
   },
   {
    "duration": 20,
    "start_time": "2022-06-10T06:02:46.313Z"
   },
   {
    "duration": 20,
    "start_time": "2022-06-10T06:02:46.335Z"
   },
   {
    "duration": 51,
    "start_time": "2022-06-10T06:02:46.357Z"
   },
   {
    "duration": 67,
    "start_time": "2022-06-10T06:02:46.410Z"
   },
   {
    "duration": 52,
    "start_time": "2022-06-10T06:02:46.479Z"
   },
   {
    "duration": 21,
    "start_time": "2022-06-10T06:02:46.533Z"
   },
   {
    "duration": 3,
    "start_time": "2022-06-10T06:02:46.556Z"
   },
   {
    "duration": 6,
    "start_time": "2022-06-10T06:02:46.561Z"
   },
   {
    "duration": 1282,
    "start_time": "2022-06-10T06:04:35.534Z"
   },
   {
    "duration": 701,
    "start_time": "2022-06-10T06:04:36.818Z"
   },
   {
    "duration": 14,
    "start_time": "2022-06-10T06:04:37.520Z"
   },
   {
    "duration": 15,
    "start_time": "2022-06-10T06:04:37.536Z"
   },
   {
    "duration": 4,
    "start_time": "2022-06-10T06:04:37.553Z"
   },
   {
    "duration": 368,
    "start_time": "2022-06-10T06:04:37.559Z"
   },
   {
    "duration": 5,
    "start_time": "2022-06-10T06:04:37.929Z"
   },
   {
    "duration": 5,
    "start_time": "2022-06-10T06:04:37.936Z"
   },
   {
    "duration": 9,
    "start_time": "2022-06-10T06:04:37.943Z"
   },
   {
    "duration": 554,
    "start_time": "2022-06-10T06:04:37.955Z"
   },
   {
    "duration": 267,
    "start_time": "2022-06-10T06:04:38.511Z"
   },
   {
    "duration": 250,
    "start_time": "2022-06-10T06:04:38.780Z"
   },
   {
    "duration": 14,
    "start_time": "2022-06-10T06:04:39.032Z"
   },
   {
    "duration": 390,
    "start_time": "2022-06-10T06:04:39.048Z"
   },
   {
    "duration": 422,
    "start_time": "2022-06-10T06:04:39.440Z"
   },
   {
    "duration": 40,
    "start_time": "2022-06-10T06:04:39.864Z"
   },
   {
    "duration": 26,
    "start_time": "2022-06-10T06:04:39.911Z"
   },
   {
    "duration": 37,
    "start_time": "2022-06-10T06:04:39.939Z"
   },
   {
    "duration": 96,
    "start_time": "2022-06-10T06:04:39.979Z"
   },
   {
    "duration": 65,
    "start_time": "2022-06-10T06:04:40.078Z"
   },
   {
    "duration": 22,
    "start_time": "2022-06-10T06:04:40.145Z"
   },
   {
    "duration": 37,
    "start_time": "2022-06-10T06:04:40.170Z"
   },
   {
    "duration": 31,
    "start_time": "2022-06-10T06:04:40.210Z"
   },
   {
    "duration": 1350,
    "start_time": "2022-06-10T06:06:56.741Z"
   },
   {
    "duration": 864,
    "start_time": "2022-06-10T06:06:58.093Z"
   },
   {
    "duration": 18,
    "start_time": "2022-06-10T06:06:58.959Z"
   },
   {
    "duration": 36,
    "start_time": "2022-06-10T06:06:58.980Z"
   },
   {
    "duration": 9,
    "start_time": "2022-06-10T06:06:59.019Z"
   },
   {
    "duration": 443,
    "start_time": "2022-06-10T06:06:59.030Z"
   },
   {
    "duration": 6,
    "start_time": "2022-06-10T06:06:59.475Z"
   },
   {
    "duration": 12,
    "start_time": "2022-06-10T06:06:59.483Z"
   },
   {
    "duration": 25,
    "start_time": "2022-06-10T06:06:59.497Z"
   },
   {
    "duration": 607,
    "start_time": "2022-06-10T06:06:59.529Z"
   },
   {
    "duration": 304,
    "start_time": "2022-06-10T06:07:00.138Z"
   },
   {
    "duration": 273,
    "start_time": "2022-06-10T06:07:00.443Z"
   },
   {
    "duration": 18,
    "start_time": "2022-06-10T06:07:00.718Z"
   },
   {
    "duration": 424,
    "start_time": "2022-06-10T06:07:00.738Z"
   },
   {
    "duration": 423,
    "start_time": "2022-06-10T06:07:01.165Z"
   },
   {
    "duration": 34,
    "start_time": "2022-06-10T06:07:01.589Z"
   },
   {
    "duration": 38,
    "start_time": "2022-06-10T06:07:01.625Z"
   },
   {
    "duration": 30,
    "start_time": "2022-06-10T06:07:01.665Z"
   },
   {
    "duration": 96,
    "start_time": "2022-06-10T06:07:01.697Z"
   },
   {
    "duration": 63,
    "start_time": "2022-06-10T06:07:01.797Z"
   },
   {
    "duration": 21,
    "start_time": "2022-06-10T06:07:01.862Z"
   },
   {
    "duration": 17,
    "start_time": "2022-06-10T06:07:01.885Z"
   },
   {
    "duration": 45,
    "start_time": "2022-06-10T06:07:01.904Z"
   },
   {
    "duration": 407556,
    "start_time": "2022-06-10T06:07:01.951Z"
   },
   {
    "duration": 43167,
    "start_time": "2022-06-10T06:13:49.509Z"
   },
   {
    "duration": 42,
    "start_time": "2022-06-10T06:14:32.679Z"
   },
   {
    "duration": 6,
    "start_time": "2022-06-10T06:14:32.723Z"
   },
   {
    "duration": 4605,
    "start_time": "2022-06-10T06:14:32.734Z"
   },
   {
    "duration": 32,
    "start_time": "2022-06-10T06:14:37.341Z"
   },
   {
    "duration": 5,
    "start_time": "2022-06-10T06:14:37.375Z"
   },
   {
    "duration": 15,
    "start_time": "2022-06-10T06:14:37.401Z"
   },
   {
    "duration": 479,
    "start_time": "2022-06-10T06:14:37.418Z"
   },
   {
    "duration": 910,
    "start_time": "2022-06-10T06:14:37.900Z"
   },
   {
    "duration": 11,
    "start_time": "2022-06-10T06:14:38.895Z"
   },
   {
    "duration": 26,
    "start_time": "2022-06-10T06:14:38.907Z"
   },
   {
    "duration": 12,
    "start_time": "2022-06-10T06:14:38.935Z"
   },
   {
    "duration": 80,
    "start_time": "2022-06-10T06:14:38.950Z"
   },
   {
    "duration": 99,
    "start_time": "2022-06-10T06:14:39.095Z"
   },
   {
    "duration": 113,
    "start_time": "2022-06-10T06:14:39.197Z"
   },
   {
    "duration": 19,
    "start_time": "2022-06-10T06:14:39.312Z"
   },
   {
    "duration": 4242,
    "start_time": "2022-06-10T06:14:39.333Z"
   },
   {
    "duration": 16484,
    "start_time": "2022-06-10T06:14:43.577Z"
   },
   {
    "duration": 28467,
    "start_time": "2022-06-10T06:15:00.063Z"
   },
   {
    "duration": 7,
    "start_time": "2022-06-10T06:15:28.532Z"
   },
   {
    "duration": 7278,
    "start_time": "2022-06-10T06:15:28.540Z"
   },
   {
    "duration": 11,
    "start_time": "2022-06-10T06:15:35.819Z"
   },
   {
    "duration": 9,
    "start_time": "2022-06-10T06:15:35.832Z"
   },
   {
    "duration": 8,
    "start_time": "2022-06-10T06:15:35.843Z"
   },
   {
    "duration": 6,
    "start_time": "2022-06-10T06:15:35.853Z"
   },
   {
    "duration": 7,
    "start_time": "2022-06-10T06:15:35.860Z"
   },
   {
    "duration": 16,
    "start_time": "2022-06-10T06:15:35.894Z"
   },
   {
    "duration": 1365,
    "start_time": "2022-06-10T06:17:07.945Z"
   },
   {
    "duration": 761,
    "start_time": "2022-06-10T06:17:09.313Z"
   },
   {
    "duration": 32,
    "start_time": "2022-06-10T06:17:10.076Z"
   },
   {
    "duration": 15,
    "start_time": "2022-06-10T06:17:10.110Z"
   },
   {
    "duration": 3,
    "start_time": "2022-06-10T06:17:10.127Z"
   },
   {
    "duration": 359,
    "start_time": "2022-06-10T06:17:10.132Z"
   },
   {
    "duration": 20,
    "start_time": "2022-06-10T06:17:10.493Z"
   },
   {
    "duration": 5,
    "start_time": "2022-06-10T06:17:10.515Z"
   },
   {
    "duration": 6,
    "start_time": "2022-06-10T06:17:10.522Z"
   },
   {
    "duration": 585,
    "start_time": "2022-06-10T06:17:10.532Z"
   },
   {
    "duration": 283,
    "start_time": "2022-06-10T06:17:11.118Z"
   },
   {
    "duration": 228,
    "start_time": "2022-06-10T06:17:11.402Z"
   },
   {
    "duration": 12,
    "start_time": "2022-06-10T06:17:11.632Z"
   },
   {
    "duration": 414,
    "start_time": "2022-06-10T06:17:11.645Z"
   },
   {
    "duration": 421,
    "start_time": "2022-06-10T06:17:12.061Z"
   },
   {
    "duration": 32,
    "start_time": "2022-06-10T06:17:12.484Z"
   },
   {
    "duration": 28,
    "start_time": "2022-06-10T06:17:12.518Z"
   },
   {
    "duration": 54,
    "start_time": "2022-06-10T06:17:12.548Z"
   },
   {
    "duration": 81,
    "start_time": "2022-06-10T06:17:12.605Z"
   },
   {
    "duration": 68,
    "start_time": "2022-06-10T06:17:12.688Z"
   },
   {
    "duration": 17,
    "start_time": "2022-06-10T06:17:12.758Z"
   },
   {
    "duration": 35,
    "start_time": "2022-06-10T06:17:12.777Z"
   },
   {
    "duration": 4,
    "start_time": "2022-06-10T06:17:12.816Z"
   },
   {
    "duration": 8,
    "start_time": "2022-06-10T06:17:12.822Z"
   },
   {
    "duration": 413491,
    "start_time": "2022-06-10T06:17:12.831Z"
   },
   {
    "duration": 43983,
    "start_time": "2022-06-10T06:24:06.324Z"
   },
   {
    "duration": 34,
    "start_time": "2022-06-10T06:24:50.314Z"
   },
   {
    "duration": 5,
    "start_time": "2022-06-10T06:24:50.351Z"
   },
   {
    "duration": 4491,
    "start_time": "2022-06-10T06:24:50.358Z"
   },
   {
    "duration": 33,
    "start_time": "2022-06-10T06:24:54.851Z"
   },
   {
    "duration": 23,
    "start_time": "2022-06-10T06:24:54.886Z"
   },
   {
    "duration": 13,
    "start_time": "2022-06-10T06:24:54.911Z"
   },
   {
    "duration": 487,
    "start_time": "2022-06-10T06:24:54.926Z"
   },
   {
    "duration": 986,
    "start_time": "2022-06-10T06:24:55.415Z"
   },
   {
    "duration": 5,
    "start_time": "2022-06-10T06:24:56.406Z"
   },
   {
    "duration": 21,
    "start_time": "2022-06-10T06:24:56.494Z"
   },
   {
    "duration": 11,
    "start_time": "2022-06-10T06:24:56.517Z"
   },
   {
    "duration": 168,
    "start_time": "2022-06-10T06:24:56.533Z"
   },
   {
    "duration": 91,
    "start_time": "2022-06-10T06:24:56.704Z"
   },
   {
    "duration": 100,
    "start_time": "2022-06-10T06:24:56.797Z"
   },
   {
    "duration": 23,
    "start_time": "2022-06-10T06:24:56.900Z"
   },
   {
    "duration": 4268,
    "start_time": "2022-06-10T06:24:56.925Z"
   },
   {
    "duration": 16320,
    "start_time": "2022-06-10T06:25:01.201Z"
   },
   {
    "duration": 28544,
    "start_time": "2022-06-10T06:25:17.523Z"
   },
   {
    "duration": 8,
    "start_time": "2022-06-10T06:25:46.069Z"
   },
   {
    "duration": 7461,
    "start_time": "2022-06-10T06:25:46.079Z"
   },
   {
    "duration": 9,
    "start_time": "2022-06-10T06:25:53.541Z"
   },
   {
    "duration": 11,
    "start_time": "2022-06-10T06:25:53.552Z"
   },
   {
    "duration": 9,
    "start_time": "2022-06-10T06:25:53.565Z"
   },
   {
    "duration": 26,
    "start_time": "2022-06-10T06:25:53.575Z"
   },
   {
    "duration": 17,
    "start_time": "2022-06-10T06:25:53.604Z"
   },
   {
    "duration": 10,
    "start_time": "2022-06-10T06:25:53.622Z"
   },
   {
    "duration": 1613,
    "start_time": "2022-06-10T06:37:00.561Z"
   },
   {
    "duration": 869,
    "start_time": "2022-06-10T06:37:02.177Z"
   },
   {
    "duration": 17,
    "start_time": "2022-06-10T06:37:03.048Z"
   },
   {
    "duration": 34,
    "start_time": "2022-06-10T06:37:03.068Z"
   },
   {
    "duration": 5,
    "start_time": "2022-06-10T06:37:03.105Z"
   },
   {
    "duration": 394,
    "start_time": "2022-06-10T06:37:03.112Z"
   },
   {
    "duration": 8,
    "start_time": "2022-06-10T06:37:03.507Z"
   },
   {
    "duration": 14,
    "start_time": "2022-06-10T06:37:03.517Z"
   },
   {
    "duration": 11,
    "start_time": "2022-06-10T06:37:03.534Z"
   },
   {
    "duration": 672,
    "start_time": "2022-06-10T06:37:03.550Z"
   },
   {
    "duration": 380,
    "start_time": "2022-06-10T06:37:04.225Z"
   },
   {
    "duration": 225,
    "start_time": "2022-06-10T06:37:04.612Z"
   },
   {
    "duration": 15,
    "start_time": "2022-06-10T06:37:04.839Z"
   },
   {
    "duration": 418,
    "start_time": "2022-06-10T06:37:04.857Z"
   },
   {
    "duration": 431,
    "start_time": "2022-06-10T06:37:05.277Z"
   },
   {
    "duration": 31,
    "start_time": "2022-06-10T06:37:05.713Z"
   },
   {
    "duration": 22,
    "start_time": "2022-06-10T06:37:05.746Z"
   },
   {
    "duration": 58,
    "start_time": "2022-06-10T06:37:05.770Z"
   },
   {
    "duration": 85,
    "start_time": "2022-06-10T06:37:05.831Z"
   },
   {
    "duration": 49,
    "start_time": "2022-06-10T06:37:05.921Z"
   },
   {
    "duration": 26,
    "start_time": "2022-06-10T06:37:05.972Z"
   },
   {
    "duration": 20,
    "start_time": "2022-06-10T06:37:06.002Z"
   },
   {
    "duration": 18,
    "start_time": "2022-06-10T06:37:06.024Z"
   },
   {
    "duration": 26,
    "start_time": "2022-06-10T06:37:06.045Z"
   },
   {
    "duration": 434525,
    "start_time": "2022-06-10T06:37:06.074Z"
   },
   {
    "duration": 47454,
    "start_time": "2022-06-10T06:44:20.604Z"
   },
   {
    "duration": 55,
    "start_time": "2022-06-10T06:45:08.060Z"
   },
   {
    "duration": 8,
    "start_time": "2022-06-10T06:45:08.132Z"
   },
   {
    "duration": 5183,
    "start_time": "2022-06-10T06:45:08.142Z"
   },
   {
    "duration": 38,
    "start_time": "2022-06-10T06:45:13.332Z"
   },
   {
    "duration": 6,
    "start_time": "2022-06-10T06:45:13.373Z"
   },
   {
    "duration": 43,
    "start_time": "2022-06-10T06:45:13.381Z"
   },
   {
    "duration": 910,
    "start_time": "2022-06-10T06:45:13.428Z"
   },
   {
    "duration": 1025,
    "start_time": "2022-06-10T06:45:14.410Z"
   },
   {
    "duration": 79,
    "start_time": "2022-06-10T06:45:15.439Z"
   },
   {
    "duration": 4,
    "start_time": "2022-06-10T06:45:15.529Z"
   },
   {
    "duration": 78,
    "start_time": "2022-06-10T06:45:15.538Z"
   },
   {
    "duration": 85,
    "start_time": "2022-06-10T06:45:15.632Z"
   },
   {
    "duration": 173,
    "start_time": "2022-06-10T06:45:15.726Z"
   },
   {
    "duration": 7,
    "start_time": "2022-06-10T06:45:15.905Z"
   },
   {
    "duration": 91,
    "start_time": "2022-06-10T06:45:15.920Z"
   },
   {
    "duration": 4817,
    "start_time": "2022-06-10T06:45:16.017Z"
   },
   {
    "duration": 18173,
    "start_time": "2022-06-10T06:45:20.841Z"
   },
   {
    "duration": 30311,
    "start_time": "2022-06-10T06:45:39.022Z"
   },
   {
    "duration": 6,
    "start_time": "2022-06-10T06:46:09.341Z"
   },
   {
    "duration": 7495,
    "start_time": "2022-06-10T06:46:09.349Z"
   },
   {
    "duration": 10,
    "start_time": "2022-06-10T06:46:16.846Z"
   },
   {
    "duration": 12,
    "start_time": "2022-06-10T06:46:16.857Z"
   },
   {
    "duration": 8,
    "start_time": "2022-06-10T06:46:16.870Z"
   },
   {
    "duration": 25,
    "start_time": "2022-06-10T06:46:16.880Z"
   },
   {
    "duration": 24,
    "start_time": "2022-06-10T06:46:16.912Z"
   },
   {
    "duration": 8,
    "start_time": "2022-06-10T06:46:16.938Z"
   },
   {
    "duration": 1383,
    "start_time": "2022-06-10T06:55:19.900Z"
   },
   {
    "duration": 820,
    "start_time": "2022-06-10T06:55:21.286Z"
   },
   {
    "duration": 26,
    "start_time": "2022-06-10T06:55:22.110Z"
   },
   {
    "duration": 20,
    "start_time": "2022-06-10T06:55:22.139Z"
   },
   {
    "duration": 3,
    "start_time": "2022-06-10T06:55:22.161Z"
   },
   {
    "duration": 415,
    "start_time": "2022-06-10T06:55:22.166Z"
   },
   {
    "duration": 12,
    "start_time": "2022-06-10T06:55:22.583Z"
   },
   {
    "duration": 5,
    "start_time": "2022-06-10T06:55:22.597Z"
   },
   {
    "duration": 31,
    "start_time": "2022-06-10T06:55:22.605Z"
   },
   {
    "duration": 614,
    "start_time": "2022-06-10T06:55:22.640Z"
   },
   {
    "duration": 374,
    "start_time": "2022-06-10T06:55:23.256Z"
   },
   {
    "duration": 293,
    "start_time": "2022-06-10T06:55:23.632Z"
   },
   {
    "duration": 13,
    "start_time": "2022-06-10T06:55:23.927Z"
   },
   {
    "duration": 398,
    "start_time": "2022-06-10T06:55:23.942Z"
   },
   {
    "duration": 438,
    "start_time": "2022-06-10T06:55:24.343Z"
   },
   {
    "duration": 41,
    "start_time": "2022-06-10T06:55:24.783Z"
   },
   {
    "duration": 30,
    "start_time": "2022-06-10T06:55:24.825Z"
   },
   {
    "duration": 30,
    "start_time": "2022-06-10T06:55:24.857Z"
   },
   {
    "duration": 81,
    "start_time": "2022-06-10T06:55:24.888Z"
   },
   {
    "duration": 57,
    "start_time": "2022-06-10T06:55:24.970Z"
   },
   {
    "duration": 15,
    "start_time": "2022-06-10T06:55:25.029Z"
   },
   {
    "duration": 12,
    "start_time": "2022-06-10T06:55:25.046Z"
   },
   {
    "duration": 7,
    "start_time": "2022-06-10T06:55:25.060Z"
   },
   {
    "duration": 7,
    "start_time": "2022-06-10T06:55:25.068Z"
   },
   {
    "duration": 304060,
    "start_time": "2022-06-10T06:55:25.076Z"
   },
   {
    "duration": 32934,
    "start_time": "2022-06-10T07:00:29.139Z"
   },
   {
    "duration": 45,
    "start_time": "2022-06-10T07:01:02.075Z"
   },
   {
    "duration": 12,
    "start_time": "2022-06-10T07:01:02.129Z"
   },
   {
    "duration": 3493,
    "start_time": "2022-06-10T07:01:02.143Z"
   },
   {
    "duration": 33,
    "start_time": "2022-06-10T07:01:05.637Z"
   },
   {
    "duration": 6,
    "start_time": "2022-06-10T07:01:05.672Z"
   },
   {
    "duration": 39,
    "start_time": "2022-06-10T07:01:05.680Z"
   },
   {
    "duration": 515,
    "start_time": "2022-06-10T07:01:05.720Z"
   },
   {
    "duration": 865,
    "start_time": "2022-06-10T07:01:06.237Z"
   },
   {
    "duration": 4,
    "start_time": "2022-06-10T07:01:07.107Z"
   },
   {
    "duration": 108,
    "start_time": "2022-06-10T07:01:07.118Z"
   },
   {
    "duration": 14,
    "start_time": "2022-06-10T07:01:07.228Z"
   },
   {
    "duration": 158,
    "start_time": "2022-06-10T07:01:07.245Z"
   },
   {
    "duration": 101,
    "start_time": "2022-06-10T07:01:07.405Z"
   },
   {
    "duration": 93,
    "start_time": "2022-06-10T07:01:07.508Z"
   },
   {
    "duration": 30,
    "start_time": "2022-06-10T07:01:07.603Z"
   },
   {
    "duration": 3074,
    "start_time": "2022-06-10T07:01:07.635Z"
   },
   {
    "duration": 11794,
    "start_time": "2022-06-10T07:01:10.713Z"
   },
   {
    "duration": 24202,
    "start_time": "2022-06-10T07:01:22.511Z"
   },
   {
    "duration": 7,
    "start_time": "2022-06-10T07:01:46.716Z"
   },
   {
    "duration": 6403,
    "start_time": "2022-06-10T07:01:46.726Z"
   },
   {
    "duration": 11,
    "start_time": "2022-06-10T07:01:53.131Z"
   },
   {
    "duration": 29,
    "start_time": "2022-06-10T07:01:53.144Z"
   },
   {
    "duration": 15,
    "start_time": "2022-06-10T07:01:53.175Z"
   },
   {
    "duration": 37,
    "start_time": "2022-06-10T07:01:53.192Z"
   },
   {
    "duration": 15,
    "start_time": "2022-06-10T07:01:53.233Z"
   },
   {
    "duration": 19,
    "start_time": "2022-06-10T07:01:53.250Z"
   },
   {
    "duration": 15,
    "start_time": "2022-06-10T07:03:38.888Z"
   },
   {
    "duration": 4,
    "start_time": "2022-06-10T07:03:39.684Z"
   },
   {
    "duration": 13,
    "start_time": "2022-06-10T07:05:47.313Z"
   },
   {
    "duration": 4,
    "start_time": "2022-06-10T07:05:47.890Z"
   },
   {
    "duration": 5,
    "start_time": "2022-06-10T07:06:36.650Z"
   },
   {
    "duration": 1322,
    "start_time": "2022-06-10T07:07:16.308Z"
   },
   {
    "duration": 823,
    "start_time": "2022-06-10T07:07:17.632Z"
   },
   {
    "duration": 16,
    "start_time": "2022-06-10T07:07:18.457Z"
   },
   {
    "duration": 34,
    "start_time": "2022-06-10T07:07:18.475Z"
   },
   {
    "duration": 4,
    "start_time": "2022-06-10T07:07:18.510Z"
   },
   {
    "duration": 418,
    "start_time": "2022-06-10T07:07:18.517Z"
   },
   {
    "duration": 8,
    "start_time": "2022-06-10T07:07:18.937Z"
   },
   {
    "duration": 41,
    "start_time": "2022-06-10T07:07:18.947Z"
   },
   {
    "duration": 35,
    "start_time": "2022-06-10T07:07:18.991Z"
   },
   {
    "duration": 609,
    "start_time": "2022-06-10T07:07:19.030Z"
   },
   {
    "duration": 366,
    "start_time": "2022-06-10T07:07:19.640Z"
   },
   {
    "duration": 223,
    "start_time": "2022-06-10T07:07:20.013Z"
   },
   {
    "duration": 14,
    "start_time": "2022-06-10T07:07:20.239Z"
   },
   {
    "duration": 405,
    "start_time": "2022-06-10T07:07:20.255Z"
   },
   {
    "duration": 420,
    "start_time": "2022-06-10T07:07:20.662Z"
   },
   {
    "duration": 40,
    "start_time": "2022-06-10T07:07:21.085Z"
   },
   {
    "duration": 24,
    "start_time": "2022-06-10T07:07:21.128Z"
   },
   {
    "duration": 61,
    "start_time": "2022-06-10T07:07:21.155Z"
   },
   {
    "duration": 75,
    "start_time": "2022-06-10T07:07:21.218Z"
   },
   {
    "duration": 50,
    "start_time": "2022-06-10T07:07:21.304Z"
   },
   {
    "duration": 16,
    "start_time": "2022-06-10T07:07:21.356Z"
   },
   {
    "duration": 38,
    "start_time": "2022-06-10T07:07:21.373Z"
   },
   {
    "duration": 9,
    "start_time": "2022-06-10T07:07:21.413Z"
   },
   {
    "duration": 20,
    "start_time": "2022-06-10T07:07:21.423Z"
   },
   {
    "duration": 298107,
    "start_time": "2022-06-10T07:07:21.446Z"
   },
   {
    "duration": 32020,
    "start_time": "2022-06-10T07:12:19.555Z"
   },
   {
    "duration": 45,
    "start_time": "2022-06-10T07:12:51.578Z"
   },
   {
    "duration": 6,
    "start_time": "2022-06-10T07:12:51.628Z"
   },
   {
    "duration": 3375,
    "start_time": "2022-06-10T07:12:51.636Z"
   },
   {
    "duration": 29,
    "start_time": "2022-06-10T07:12:55.013Z"
   },
   {
    "duration": 5,
    "start_time": "2022-06-10T07:12:55.044Z"
   },
   {
    "duration": 13,
    "start_time": "2022-06-10T07:12:55.050Z"
   },
   {
    "duration": 636,
    "start_time": "2022-06-10T07:12:55.065Z"
   },
   {
    "duration": 603,
    "start_time": "2022-06-10T07:12:55.709Z"
   },
   {
    "duration": 83,
    "start_time": "2022-06-10T07:12:56.314Z"
   },
   {
    "duration": 112,
    "start_time": "2022-06-10T07:12:56.400Z"
   },
   {
    "duration": 9,
    "start_time": "2022-06-10T07:12:56.513Z"
   },
   {
    "duration": 179,
    "start_time": "2022-06-10T07:12:56.524Z"
   },
   {
    "duration": 90,
    "start_time": "2022-06-10T07:12:56.705Z"
   },
   {
    "duration": 116,
    "start_time": "2022-06-10T07:12:56.798Z"
   },
   {
    "duration": 9,
    "start_time": "2022-06-10T07:12:56.916Z"
   },
   {
    "duration": 2918,
    "start_time": "2022-06-10T07:12:56.927Z"
   },
   {
    "duration": 11667,
    "start_time": "2022-06-10T07:12:59.848Z"
   },
   {
    "duration": 23362,
    "start_time": "2022-06-10T07:13:11.517Z"
   },
   {
    "duration": 5,
    "start_time": "2022-06-10T07:13:34.881Z"
   },
   {
    "duration": 5718,
    "start_time": "2022-06-10T07:13:34.888Z"
   },
   {
    "duration": 11,
    "start_time": "2022-06-10T07:13:40.607Z"
   },
   {
    "duration": 21,
    "start_time": "2022-06-10T07:13:40.621Z"
   },
   {
    "duration": 16,
    "start_time": "2022-06-10T07:13:40.644Z"
   },
   {
    "duration": 4,
    "start_time": "2022-06-10T07:13:40.663Z"
   },
   {
    "duration": 13,
    "start_time": "2022-06-10T07:13:40.669Z"
   },
   {
    "duration": 19,
    "start_time": "2022-06-10T07:13:40.684Z"
   },
   {
    "duration": 22,
    "start_time": "2022-06-10T07:17:34.403Z"
   },
   {
    "duration": 1327,
    "start_time": "2022-06-10T07:21:07.930Z"
   },
   {
    "duration": 752,
    "start_time": "2022-06-10T07:21:09.259Z"
   },
   {
    "duration": 15,
    "start_time": "2022-06-10T07:21:10.013Z"
   },
   {
    "duration": 14,
    "start_time": "2022-06-10T07:21:10.030Z"
   },
   {
    "duration": 4,
    "start_time": "2022-06-10T07:21:10.046Z"
   },
   {
    "duration": 402,
    "start_time": "2022-06-10T07:21:10.052Z"
   },
   {
    "duration": 5,
    "start_time": "2022-06-10T07:21:10.456Z"
   },
   {
    "duration": 6,
    "start_time": "2022-06-10T07:21:10.462Z"
   },
   {
    "duration": 7,
    "start_time": "2022-06-10T07:21:10.469Z"
   },
   {
    "duration": 589,
    "start_time": "2022-06-10T07:21:10.479Z"
   },
   {
    "duration": 307,
    "start_time": "2022-06-10T07:21:11.070Z"
   },
   {
    "duration": 237,
    "start_time": "2022-06-10T07:21:11.378Z"
   },
   {
    "duration": 11,
    "start_time": "2022-06-10T07:21:11.616Z"
   },
   {
    "duration": 337,
    "start_time": "2022-06-10T07:21:11.629Z"
   },
   {
    "duration": 391,
    "start_time": "2022-06-10T07:21:11.968Z"
   },
   {
    "duration": 21,
    "start_time": "2022-06-10T07:21:12.361Z"
   },
   {
    "duration": 23,
    "start_time": "2022-06-10T07:21:12.398Z"
   },
   {
    "duration": 40,
    "start_time": "2022-06-10T07:21:12.424Z"
   },
   {
    "duration": 90,
    "start_time": "2022-06-10T07:21:12.467Z"
   },
   {
    "duration": 57,
    "start_time": "2022-06-10T07:21:12.559Z"
   },
   {
    "duration": 14,
    "start_time": "2022-06-10T07:21:12.618Z"
   },
   {
    "duration": 18,
    "start_time": "2022-06-10T07:21:12.634Z"
   },
   {
    "duration": 4,
    "start_time": "2022-06-10T07:21:12.654Z"
   },
   {
    "duration": 8,
    "start_time": "2022-06-10T07:21:12.659Z"
   },
   {
    "duration": 299589,
    "start_time": "2022-06-10T07:21:12.668Z"
   },
   {
    "duration": 31623,
    "start_time": "2022-06-10T07:26:12.259Z"
   },
   {
    "duration": 42,
    "start_time": "2022-06-10T07:26:43.884Z"
   },
   {
    "duration": 5,
    "start_time": "2022-06-10T07:26:43.930Z"
   },
   {
    "duration": 3384,
    "start_time": "2022-06-10T07:26:43.937Z"
   },
   {
    "duration": 28,
    "start_time": "2022-06-10T07:26:47.323Z"
   },
   {
    "duration": 7,
    "start_time": "2022-06-10T07:26:47.353Z"
   },
   {
    "duration": 40,
    "start_time": "2022-06-10T07:26:47.361Z"
   },
   {
    "duration": 715,
    "start_time": "2022-06-10T07:26:47.406Z"
   },
   {
    "duration": 714,
    "start_time": "2022-06-10T07:26:48.197Z"
   },
   {
    "duration": 4,
    "start_time": "2022-06-10T07:26:48.918Z"
   },
   {
    "duration": 113,
    "start_time": "2022-06-10T07:26:48.924Z"
   },
   {
    "duration": 13,
    "start_time": "2022-06-10T07:26:49.039Z"
   },
   {
    "duration": 147,
    "start_time": "2022-06-10T07:26:49.054Z"
   },
   {
    "duration": 108,
    "start_time": "2022-06-10T07:26:49.202Z"
   },
   {
    "duration": 94,
    "start_time": "2022-06-10T07:26:49.318Z"
   },
   {
    "duration": 7,
    "start_time": "2022-06-10T07:26:49.414Z"
   },
   {
    "duration": 2832,
    "start_time": "2022-06-10T07:26:49.422Z"
   },
   {
    "duration": 11435,
    "start_time": "2022-06-10T07:26:52.256Z"
   },
   {
    "duration": 23272,
    "start_time": "2022-06-10T07:27:03.693Z"
   },
   {
    "duration": 5,
    "start_time": "2022-06-10T07:27:26.967Z"
   },
   {
    "duration": 6030,
    "start_time": "2022-06-10T07:27:26.974Z"
   },
   {
    "duration": 13,
    "start_time": "2022-06-10T07:27:33.006Z"
   },
   {
    "duration": 19,
    "start_time": "2022-06-10T07:27:33.020Z"
   },
   {
    "duration": 27,
    "start_time": "2022-06-10T07:27:33.041Z"
   },
   {
    "duration": 21,
    "start_time": "2022-06-10T07:27:33.071Z"
   },
   {
    "duration": 36,
    "start_time": "2022-06-10T07:27:33.093Z"
   },
   {
    "duration": 29,
    "start_time": "2022-06-10T07:27:33.132Z"
   },
   {
    "duration": 57,
    "start_time": "2022-06-10T07:27:33.163Z"
   },
   {
    "duration": 1307,
    "start_time": "2022-06-10T10:31:43.787Z"
   },
   {
    "duration": 1721,
    "start_time": "2022-06-10T10:31:45.096Z"
   },
   {
    "duration": 18,
    "start_time": "2022-06-10T10:31:46.819Z"
   },
   {
    "duration": 11,
    "start_time": "2022-06-10T10:31:46.839Z"
   },
   {
    "duration": 2,
    "start_time": "2022-06-10T10:31:46.852Z"
   },
   {
    "duration": 294,
    "start_time": "2022-06-10T10:31:46.856Z"
   },
   {
    "duration": 4,
    "start_time": "2022-06-10T10:31:47.152Z"
   },
   {
    "duration": 4,
    "start_time": "2022-06-10T10:31:47.158Z"
   },
   {
    "duration": 5,
    "start_time": "2022-06-10T10:31:47.163Z"
   },
   {
    "duration": 538,
    "start_time": "2022-06-10T10:31:47.170Z"
   },
   {
    "duration": 287,
    "start_time": "2022-06-10T10:31:47.709Z"
   },
   {
    "duration": 211,
    "start_time": "2022-06-10T10:31:47.997Z"
   },
   {
    "duration": 10,
    "start_time": "2022-06-10T10:31:48.210Z"
   },
   {
    "duration": 294,
    "start_time": "2022-06-10T10:31:48.222Z"
   },
   {
    "duration": 333,
    "start_time": "2022-06-10T10:31:48.518Z"
   },
   {
    "duration": 17,
    "start_time": "2022-06-10T10:31:48.853Z"
   },
   {
    "duration": 31,
    "start_time": "2022-06-10T10:31:48.872Z"
   },
   {
    "duration": 25,
    "start_time": "2022-06-10T10:31:48.905Z"
   },
   {
    "duration": 72,
    "start_time": "2022-06-10T10:31:48.932Z"
   },
   {
    "duration": 2,
    "start_time": "2022-06-10T10:31:49.006Z"
   },
   {
    "duration": 89,
    "start_time": "2022-06-10T10:31:49.010Z"
   },
   {
    "duration": 12,
    "start_time": "2022-06-10T10:31:49.101Z"
   },
   {
    "duration": 15,
    "start_time": "2022-06-10T10:31:49.114Z"
   },
   {
    "duration": 4,
    "start_time": "2022-06-10T10:31:49.131Z"
   },
   {
    "duration": 10,
    "start_time": "2022-06-10T10:31:49.136Z"
   },
   {
    "duration": 242368,
    "start_time": "2022-06-10T10:31:49.147Z"
   },
   {
    "duration": 26526,
    "start_time": "2022-06-10T10:35:51.517Z"
   },
   {
    "duration": 28,
    "start_time": "2022-06-10T10:36:18.046Z"
   },
   {
    "duration": 4,
    "start_time": "2022-06-10T10:36:18.076Z"
   },
   {
    "duration": 2755,
    "start_time": "2022-06-10T10:36:18.081Z"
   },
   {
    "duration": 27,
    "start_time": "2022-06-10T10:36:20.838Z"
   },
   {
    "duration": 5,
    "start_time": "2022-06-10T10:36:20.867Z"
   },
   {
    "duration": 24,
    "start_time": "2022-06-10T10:36:20.873Z"
   },
   {
    "duration": 399,
    "start_time": "2022-06-10T10:36:20.899Z"
   },
   {
    "duration": 504,
    "start_time": "2022-06-10T10:36:21.300Z"
   },
   {
    "duration": 3,
    "start_time": "2022-06-10T10:36:21.895Z"
   },
   {
    "duration": 95,
    "start_time": "2022-06-10T10:36:21.901Z"
   },
   {
    "duration": 9,
    "start_time": "2022-06-10T10:36:21.998Z"
   },
   {
    "duration": 196,
    "start_time": "2022-06-10T10:36:22.009Z"
   },
   {
    "duration": 20,
    "start_time": "2022-06-10T10:36:22.207Z"
   },
   {
    "duration": 68,
    "start_time": "2022-06-10T10:36:22.228Z"
   },
   {
    "duration": 132,
    "start_time": "2022-06-10T10:36:22.298Z"
   },
   {
    "duration": 2530,
    "start_time": "2022-06-10T10:36:22.432Z"
   },
   {
    "duration": 9263,
    "start_time": "2022-06-10T10:36:24.963Z"
   },
   {
    "duration": 19112,
    "start_time": "2022-06-10T10:36:34.228Z"
   },
   {
    "duration": 4,
    "start_time": "2022-06-10T10:36:53.342Z"
   },
   {
    "duration": 5351,
    "start_time": "2022-06-10T10:36:53.347Z"
   },
   {
    "duration": 8,
    "start_time": "2022-06-10T10:36:58.700Z"
   },
   {
    "duration": 7,
    "start_time": "2022-06-10T10:36:58.710Z"
   },
   {
    "duration": 14,
    "start_time": "2022-06-10T10:36:58.719Z"
   },
   {
    "duration": 3,
    "start_time": "2022-06-10T10:36:58.735Z"
   },
   {
    "duration": 6,
    "start_time": "2022-06-10T10:36:58.740Z"
   },
   {
    "duration": 7,
    "start_time": "2022-06-10T10:36:58.747Z"
   },
   {
    "duration": 1231,
    "start_time": "2022-06-10T10:37:50.893Z"
   },
   {
    "duration": 696,
    "start_time": "2022-06-10T10:37:52.126Z"
   },
   {
    "duration": 15,
    "start_time": "2022-06-10T10:37:52.823Z"
   },
   {
    "duration": 12,
    "start_time": "2022-06-10T10:37:52.840Z"
   },
   {
    "duration": 3,
    "start_time": "2022-06-10T10:37:52.853Z"
   },
   {
    "duration": 362,
    "start_time": "2022-06-10T10:37:52.858Z"
   },
   {
    "duration": 6,
    "start_time": "2022-06-10T10:37:53.221Z"
   },
   {
    "duration": 7,
    "start_time": "2022-06-10T10:37:53.229Z"
   },
   {
    "duration": 9,
    "start_time": "2022-06-10T10:37:53.240Z"
   },
   {
    "duration": 530,
    "start_time": "2022-06-10T10:37:53.251Z"
   },
   {
    "duration": 297,
    "start_time": "2022-06-10T10:37:53.782Z"
   },
   {
    "duration": 237,
    "start_time": "2022-06-10T10:37:54.081Z"
   },
   {
    "duration": 11,
    "start_time": "2022-06-10T10:37:54.320Z"
   },
   {
    "duration": 329,
    "start_time": "2022-06-10T10:37:54.332Z"
   },
   {
    "duration": 395,
    "start_time": "2022-06-10T10:37:54.662Z"
   },
   {
    "duration": 35,
    "start_time": "2022-06-10T10:37:55.059Z"
   },
   {
    "duration": 22,
    "start_time": "2022-06-10T10:37:55.096Z"
   },
   {
    "duration": 27,
    "start_time": "2022-06-10T10:37:55.120Z"
   },
   {
    "duration": 73,
    "start_time": "2022-06-10T10:37:55.148Z"
   },
   {
    "duration": 3,
    "start_time": "2022-06-10T10:37:55.222Z"
   },
   {
    "duration": 90,
    "start_time": "2022-06-10T10:37:55.227Z"
   },
   {
    "duration": 15,
    "start_time": "2022-06-10T10:37:55.318Z"
   },
   {
    "duration": 22,
    "start_time": "2022-06-10T10:37:55.335Z"
   },
   {
    "duration": 5,
    "start_time": "2022-06-10T10:37:55.359Z"
   },
   {
    "duration": 7,
    "start_time": "2022-06-10T10:37:55.366Z"
   },
   {
    "duration": 251939,
    "start_time": "2022-06-10T10:37:55.374Z"
   },
   {
    "duration": 27844,
    "start_time": "2022-06-10T10:42:07.315Z"
   },
   {
    "duration": 34,
    "start_time": "2022-06-10T10:42:35.164Z"
   },
   {
    "duration": 5,
    "start_time": "2022-06-10T10:42:35.200Z"
   },
   {
    "duration": 2808,
    "start_time": "2022-06-10T10:42:35.206Z"
   },
   {
    "duration": 31,
    "start_time": "2022-06-10T10:42:38.015Z"
   },
   {
    "duration": 5,
    "start_time": "2022-06-10T10:42:38.048Z"
   },
   {
    "duration": 18,
    "start_time": "2022-06-10T10:42:38.055Z"
   },
   {
    "duration": 326,
    "start_time": "2022-06-10T10:42:38.075Z"
   },
   {
    "duration": 901,
    "start_time": "2022-06-10T10:42:38.403Z"
   },
   {
    "duration": 88,
    "start_time": "2022-06-10T10:42:39.307Z"
   },
   {
    "duration": 6,
    "start_time": "2022-06-10T10:42:39.397Z"
   },
   {
    "duration": 10,
    "start_time": "2022-06-10T10:42:39.405Z"
   },
   {
    "duration": 91,
    "start_time": "2022-06-10T10:42:39.416Z"
   },
   {
    "duration": 109,
    "start_time": "2022-06-10T10:42:39.508Z"
   },
   {
    "duration": 176,
    "start_time": "2022-06-10T10:42:39.619Z"
   },
   {
    "duration": 22,
    "start_time": "2022-06-10T10:42:39.797Z"
   },
   {
    "duration": 2331,
    "start_time": "2022-06-10T10:42:39.821Z"
   },
   {
    "duration": 9638,
    "start_time": "2022-06-10T10:42:42.153Z"
   },
   {
    "duration": 20021,
    "start_time": "2022-06-10T10:42:51.792Z"
   },
   {
    "duration": 5,
    "start_time": "2022-06-10T10:43:11.815Z"
   },
   {
    "duration": 5213,
    "start_time": "2022-06-10T10:43:11.821Z"
   },
   {
    "duration": 9,
    "start_time": "2022-06-10T10:43:17.036Z"
   },
   {
    "duration": 5,
    "start_time": "2022-06-10T10:43:17.047Z"
   },
   {
    "duration": 15,
    "start_time": "2022-06-10T10:43:17.054Z"
   },
   {
    "duration": 8,
    "start_time": "2022-06-10T10:43:17.071Z"
   },
   {
    "duration": 16,
    "start_time": "2022-06-10T10:43:17.081Z"
   },
   {
    "duration": 12,
    "start_time": "2022-06-10T10:43:17.099Z"
   },
   {
    "duration": 1232,
    "start_time": "2022-06-10T10:44:19.638Z"
   },
   {
    "duration": 662,
    "start_time": "2022-06-10T10:44:20.871Z"
   },
   {
    "duration": 18,
    "start_time": "2022-06-10T10:44:21.535Z"
   },
   {
    "duration": 15,
    "start_time": "2022-06-10T10:44:21.556Z"
   },
   {
    "duration": 3,
    "start_time": "2022-06-10T10:44:21.572Z"
   },
   {
    "duration": 381,
    "start_time": "2022-06-10T10:44:21.577Z"
   },
   {
    "duration": 6,
    "start_time": "2022-06-10T10:44:21.960Z"
   },
   {
    "duration": 4,
    "start_time": "2022-06-10T10:44:21.967Z"
   },
   {
    "duration": 6,
    "start_time": "2022-06-10T10:44:21.972Z"
   },
   {
    "duration": 579,
    "start_time": "2022-06-10T10:44:21.993Z"
   },
   {
    "duration": 328,
    "start_time": "2022-06-10T10:44:22.574Z"
   },
   {
    "duration": 216,
    "start_time": "2022-06-10T10:44:22.905Z"
   },
   {
    "duration": 11,
    "start_time": "2022-06-10T10:44:23.123Z"
   },
   {
    "duration": 375,
    "start_time": "2022-06-10T10:44:23.136Z"
   },
   {
    "duration": 370,
    "start_time": "2022-06-10T10:44:23.512Z"
   },
   {
    "duration": 26,
    "start_time": "2022-06-10T10:44:23.884Z"
   },
   {
    "duration": 22,
    "start_time": "2022-06-10T10:44:23.912Z"
   },
   {
    "duration": 33,
    "start_time": "2022-06-10T10:44:23.937Z"
   },
   {
    "duration": 91,
    "start_time": "2022-06-10T10:44:23.972Z"
   },
   {
    "duration": 72,
    "start_time": "2022-06-10T10:44:24.065Z"
   },
   {
    "duration": 14,
    "start_time": "2022-06-10T10:44:24.139Z"
   },
   {
    "duration": 24,
    "start_time": "2022-06-10T10:44:24.155Z"
   },
   {
    "duration": 4,
    "start_time": "2022-06-10T10:44:24.193Z"
   },
   {
    "duration": 10,
    "start_time": "2022-06-10T10:44:24.199Z"
   },
   {
    "duration": 255677,
    "start_time": "2022-06-10T10:44:24.211Z"
   },
   {
    "duration": 26738,
    "start_time": "2022-06-10T10:48:39.890Z"
   },
   {
    "duration": 28,
    "start_time": "2022-06-10T10:49:06.629Z"
   },
   {
    "duration": 4,
    "start_time": "2022-06-10T10:49:06.660Z"
   },
   {
    "duration": 2954,
    "start_time": "2022-06-10T10:49:06.665Z"
   },
   {
    "duration": 29,
    "start_time": "2022-06-10T10:49:09.620Z"
   },
   {
    "duration": 5,
    "start_time": "2022-06-10T10:49:09.651Z"
   },
   {
    "duration": 12,
    "start_time": "2022-06-10T10:49:09.657Z"
   },
   {
    "duration": 431,
    "start_time": "2022-06-10T10:49:09.670Z"
   },
   {
    "duration": 720,
    "start_time": "2022-06-10T10:49:10.102Z"
   },
   {
    "duration": 8,
    "start_time": "2022-06-10T10:49:10.898Z"
   },
   {
    "duration": 112,
    "start_time": "2022-06-10T10:49:10.911Z"
   },
   {
    "duration": 7,
    "start_time": "2022-06-10T10:49:11.025Z"
   },
   {
    "duration": 70,
    "start_time": "2022-06-10T10:49:11.035Z"
   },
   {
    "duration": 121,
    "start_time": "2022-06-10T10:49:11.110Z"
   },
   {
    "duration": 96,
    "start_time": "2022-06-10T10:49:11.303Z"
   },
   {
    "duration": 17,
    "start_time": "2022-06-10T10:49:11.412Z"
   },
   {
    "duration": 2489,
    "start_time": "2022-06-10T10:49:11.430Z"
   },
   {
    "duration": 10105,
    "start_time": "2022-06-10T10:49:13.923Z"
   },
   {
    "duration": 20602,
    "start_time": "2022-06-10T10:49:24.030Z"
   },
   {
    "duration": 4,
    "start_time": "2022-06-10T10:49:44.633Z"
   },
   {
    "duration": 5052,
    "start_time": "2022-06-10T10:49:44.638Z"
   },
   {
    "duration": 18,
    "start_time": "2022-06-10T10:49:49.692Z"
   },
   {
    "duration": 19,
    "start_time": "2022-06-10T10:49:49.712Z"
   },
   {
    "duration": 9,
    "start_time": "2022-06-10T10:49:49.733Z"
   },
   {
    "duration": 13,
    "start_time": "2022-06-10T10:49:49.743Z"
   },
   {
    "duration": 5,
    "start_time": "2022-06-10T10:49:49.757Z"
   },
   {
    "duration": 5,
    "start_time": "2022-06-10T10:49:49.764Z"
   }
  ],
  "kernelspec": {
   "display_name": "Python 3 (ipykernel)",
   "language": "python",
   "name": "python3"
  },
  "language_info": {
   "codemirror_mode": {
    "name": "ipython",
    "version": 3
   },
   "file_extension": ".py",
   "mimetype": "text/x-python",
   "name": "python",
   "nbconvert_exporter": "python",
   "pygments_lexer": "ipython3",
   "version": "3.9.7"
  },
  "toc": {
   "base_numbering": 1,
   "nav_menu": {},
   "number_sections": true,
   "sideBar": true,
   "skip_h1_title": true,
   "title_cell": "Содержание",
   "title_sidebar": "Contents",
   "toc_cell": true,
   "toc_position": {
    "height": "calc(100% - 180px)",
    "left": "10px",
    "top": "150px",
    "width": "165px"
   },
   "toc_section_display": true,
   "toc_window_display": true
  }
 },
 "nbformat": 4,
 "nbformat_minor": 2
}
