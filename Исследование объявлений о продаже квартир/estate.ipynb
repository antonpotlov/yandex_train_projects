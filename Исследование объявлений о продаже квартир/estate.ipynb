{
 "cells": [
  {
   "cell_type": "markdown",
   "metadata": {},
   "source": [
    "<div class=\"alert alert-success\">\n",
    "<b>Комментарий ревьюера v 3.0 ✔️:</b> Отлично, Антон! Ты исправил все, даже самые незначительные недостатки и теперь твой проект конечно же принят. Однако, я всё же отправлю проект тебе ещё раз, вдруг ты захочешь в него добавить что-то еще или просто взглянуть на него. Когда решишь, что ты готов закончить проект, просто отправь мне его и я его сразу приму."
   ]
  },
  {
   "cell_type": "markdown",
   "metadata": {},
   "source": [
    "<div class=\"alert alert-success\">\n",
    "<b>Комментарий ревьюера v 2.0 ✔️:</b> Антон, отлично! Ты внёс очень хорошие допополнения в работу, но я все же попрошу тебя исследовать нелинейную зависимость параметров чуть более подробно, обрати пожалуйста внимание на комментарии в соответствующих разделах)"
   ]
  },
  {
   "cell_type": "markdown",
   "metadata": {},
   "source": [
    "<div class=\"alert alert-success\">\n",
    "<b>Комментарий ревьюера v 4.0 ✔️:</b> Проект принят. Спасибо за работу!)"
   ]
  },
  {
   "cell_type": "markdown",
   "metadata": {},
   "source": [
    "<div style=\"border:solid green 2px; padding: 20px\">\n",
    "<b>Привет!</b>\n",
    "\n",
    "Меня зовут Михаленко Дмитрий, и я буду проверять твой проект. Предлагаю общаться на «ты» :) Но если это не удобно - дай знать, и мы перейдем на \"вы\". \n",
    "\n",
    "Моя основная цель — не указать на совершенные тобою ошибки, а поделиться своим опытом и помочь тебе стать аналитиком данных. Ты уже проделал большую работу над проектом, но давай сделаем его еще лучше. Ниже ты найдешь мои комментарии - **пожалуйста, не перемещай, не изменяй и не удаляй их**. Увидев у тебя ошибку, в первый раз я лишь укажу на ее наличие и дам тебе возможность самому найти и исправить ее. На реальной работе твой начальник будет поступать так же, а я пытаюсь подготовить тебя именно к работе аналитиком. Но если ты пока не справишься с такой задачей - при следующей проверке я дам более точную подсказку. Я буду использовать цветовую разметку:\n",
    "\n",
    "<div class=\"alert alert-danger\">\n",
    "<b>Комментарий ревьюера ❌:</b> Так выделены самые важные замечания. Без их отработки проект не будет принят. </div>\n",
    "\n",
    "<div class=\"alert alert-warning\">\n",
    "<b>Комментарий ревьюера ⚠️:</b> Так выделены небольшие замечания. Я надеюсь, что их ты тоже учтешь - твой проект от этого станет только лучше. Но настаивать на их отработке не буду.\n",
    "\n",
    "</div>\n",
    "\n",
    "<div class=\"alert alert-success\">\n",
    "<b>Комментарий ревьюера ✔️:</b> Так я выделяю все остальные комментарии.</div>\n",
    "\n",
    "Давай работать над проектом в диалоге: **если ты что-то меняешь в проекте или отвечаешь на мои комментарии — пиши об этом.** Мне будет легче отследить изменения, если ты выделишь свои комментарии:\n",
    "<div class=\"alert alert-info\"> <b>Комментарий студента:</b> Например, вот так.</div>\n",
    "\n",
    "Всё это поможет выполнить повторную проверку твоего проекта оперативнее. "
   ]
  },
  {
   "cell_type": "markdown",
   "metadata": {
    "toc": true
   },
   "source": [
    "<h1>Содержание<span class=\"tocSkip\"></span></h1>\n",
    "<div class=\"toc\"><ul class=\"toc-item\"><li><span><a href=\"#Изучение-данных-из-файла\" data-toc-modified-id=\"Изучение-данных-из-файла-1\"><span class=\"toc-item-num\">1&nbsp;&nbsp;</span>Изучение данных из файла</a></span><ul class=\"toc-item\"><li><span><a href=\"#Вывод\" data-toc-modified-id=\"Вывод-1.1\"><span class=\"toc-item-num\">1.1&nbsp;&nbsp;</span>Вывод</a></span></li></ul></li><li><span><a href=\"#Предобработка-данных\" data-toc-modified-id=\"Предобработка-данных-2\"><span class=\"toc-item-num\">2&nbsp;&nbsp;</span>Предобработка данных</a></span></li><li><span><a href=\"#Расчёты-и-добавление-результатов-в-таблицу\" data-toc-modified-id=\"Расчёты-и-добавление-результатов-в-таблицу-3\"><span class=\"toc-item-num\">3&nbsp;&nbsp;</span>Расчёты и добавление результатов в таблицу</a></span></li><li><span><a href=\"#Исследовательский-анализ-данных\" data-toc-modified-id=\"Исследовательский-анализ-данных-4\"><span class=\"toc-item-num\">4&nbsp;&nbsp;</span>Исследовательский анализ данных</a></span></li><li><span><a href=\"#Общий-вывод\" data-toc-modified-id=\"Общий-вывод-5\"><span class=\"toc-item-num\">5&nbsp;&nbsp;</span>Общий вывод</a></span></li><li><span><a href=\"#Чек-лист-готовности-проекта\" data-toc-modified-id=\"Чек-лист-готовности-проекта-6\"><span class=\"toc-item-num\">6&nbsp;&nbsp;</span>Чек-лист готовности проекта</a></span></li></ul></div>"
   ]
  },
  {
   "cell_type": "markdown",
   "metadata": {},
   "source": [
    "# Исследование объявлений о продаже квартир\n",
    "\n",
    "В вашем распоряжении данные сервиса Яндекc Недвижимость — архив объявлений о продаже квартир в Санкт-Петербурге и соседних населённых пунктах за несколько лет. Нужно научиться определять рыночную стоимость объектов недвижимости. Ваша задача — установить параметры. Это позволит построить автоматизированную систему: она отследит аномалии и мошенническую деятельность. \n",
    "\n",
    "По каждой квартире на продажу доступны два вида данных. Первые вписаны пользователем, вторые получены автоматически на основе картографических данных. Например, расстояние до центра, аэропорта, ближайшего парка и водоёма. "
   ]
  },
  {
   "cell_type": "markdown",
   "metadata": {},
   "source": [
    "<div class=\"alert alert-success\">\n",
    "<b>Комментарий ревьюера ✔️:</b> Объёмная и творческая аналитическая задача, тем интереснее будет с ней справиться! </div>"
   ]
  },
  {
   "cell_type": "markdown",
   "metadata": {},
   "source": [
    "## Изучение данных из файла"
   ]
  },
  {
   "cell_type": "code",
   "execution_count": 1,
   "metadata": {},
   "outputs": [],
   "source": [
    "import pandas as pd\n",
    "import matplotlib.pyplot as plt\n",
    "import warnings\n",
    "warnings.filterwarnings(\"ignore\")"
   ]
  },
  {
   "cell_type": "code",
   "execution_count": 2,
   "metadata": {},
   "outputs": [],
   "source": [
    "data = pd.read_csv('/datasets/real_estate_data.csv', sep='\\t', decimal='.')"
   ]
  },
  {
   "cell_type": "code",
   "execution_count": 3,
   "metadata": {
    "scrolled": true
   },
   "outputs": [
    {
     "name": "stdout",
     "output_type": "stream",
     "text": [
      "<class 'pandas.core.frame.DataFrame'>\n",
      "RangeIndex: 23699 entries, 0 to 23698\n",
      "Data columns (total 22 columns):\n",
      " #   Column                Non-Null Count  Dtype  \n",
      "---  ------                --------------  -----  \n",
      " 0   total_images          23699 non-null  int64  \n",
      " 1   last_price            23699 non-null  float64\n",
      " 2   total_area            23699 non-null  float64\n",
      " 3   first_day_exposition  23699 non-null  object \n",
      " 4   rooms                 23699 non-null  int64  \n",
      " 5   ceiling_height        14504 non-null  float64\n",
      " 6   floors_total          23613 non-null  float64\n",
      " 7   living_area           21796 non-null  float64\n",
      " 8   floor                 23699 non-null  int64  \n",
      " 9   is_apartment          2775 non-null   object \n",
      " 10  studio                23699 non-null  bool   \n",
      " 11  open_plan             23699 non-null  bool   \n",
      " 12  kitchen_area          21421 non-null  float64\n",
      " 13  balcony               12180 non-null  float64\n",
      " 14  locality_name         23650 non-null  object \n",
      " 15  airports_nearest      18157 non-null  float64\n",
      " 16  cityCenters_nearest   18180 non-null  float64\n",
      " 17  parks_around3000      18181 non-null  float64\n",
      " 18  parks_nearest         8079 non-null   float64\n",
      " 19  ponds_around3000      18181 non-null  float64\n",
      " 20  ponds_nearest         9110 non-null   float64\n",
      " 21  days_exposition       20518 non-null  float64\n",
      "dtypes: bool(2), float64(14), int64(3), object(3)\n",
      "memory usage: 3.7+ MB\n"
     ]
    }
   ],
   "source": [
    "data.info()"
   ]
  },
  {
   "cell_type": "code",
   "execution_count": null,
   "metadata": {},
   "outputs": [],
   "source": []
  },
  {
   "cell_type": "code",
   "execution_count": 4,
   "metadata": {},
   "outputs": [
    {
     "data": {
      "text/plain": [
       "total_images            0.000000\n",
       "last_price              0.000000\n",
       "total_area              0.000000\n",
       "first_day_exposition    0.000000\n",
       "rooms                   0.000000\n",
       "ceiling_height          0.387991\n",
       "floors_total            0.003629\n",
       "living_area             0.080299\n",
       "floor                   0.000000\n",
       "is_apartment            0.882906\n",
       "studio                  0.000000\n",
       "open_plan               0.000000\n",
       "kitchen_area            0.096122\n",
       "balcony                 0.486054\n",
       "locality_name           0.002068\n",
       "airports_nearest        0.233850\n",
       "cityCenters_nearest     0.232879\n",
       "parks_around3000        0.232837\n",
       "parks_nearest           0.659100\n",
       "ponds_around3000        0.232837\n",
       "ponds_nearest           0.615596\n",
       "days_exposition         0.134225\n",
       "dtype: float64"
      ]
     },
     "execution_count": 4,
     "metadata": {},
     "output_type": "execute_result"
    }
   ],
   "source": [
    "data.isna().mean()"
   ]
  },
  {
   "cell_type": "code",
   "execution_count": 5,
   "metadata": {},
   "outputs": [
    {
     "data": {
      "text/html": [
       "<div>\n",
       "<style scoped>\n",
       "    .dataframe tbody tr th:only-of-type {\n",
       "        vertical-align: middle;\n",
       "    }\n",
       "\n",
       "    .dataframe tbody tr th {\n",
       "        vertical-align: top;\n",
       "    }\n",
       "\n",
       "    .dataframe thead th {\n",
       "        text-align: right;\n",
       "    }\n",
       "</style>\n",
       "<table border=\"1\" class=\"dataframe\">\n",
       "  <thead>\n",
       "    <tr style=\"text-align: right;\">\n",
       "      <th></th>\n",
       "      <th>total_images</th>\n",
       "      <th>last_price</th>\n",
       "      <th>total_area</th>\n",
       "      <th>first_day_exposition</th>\n",
       "      <th>rooms</th>\n",
       "      <th>ceiling_height</th>\n",
       "      <th>floors_total</th>\n",
       "      <th>living_area</th>\n",
       "      <th>floor</th>\n",
       "      <th>is_apartment</th>\n",
       "      <th>...</th>\n",
       "      <th>kitchen_area</th>\n",
       "      <th>balcony</th>\n",
       "      <th>locality_name</th>\n",
       "      <th>airports_nearest</th>\n",
       "      <th>cityCenters_nearest</th>\n",
       "      <th>parks_around3000</th>\n",
       "      <th>parks_nearest</th>\n",
       "      <th>ponds_around3000</th>\n",
       "      <th>ponds_nearest</th>\n",
       "      <th>days_exposition</th>\n",
       "    </tr>\n",
       "  </thead>\n",
       "  <tbody>\n",
       "    <tr>\n",
       "      <th>0</th>\n",
       "      <td>20</td>\n",
       "      <td>13000000.0</td>\n",
       "      <td>108.0</td>\n",
       "      <td>2019-03-07T00:00:00</td>\n",
       "      <td>3</td>\n",
       "      <td>2.70</td>\n",
       "      <td>16.0</td>\n",
       "      <td>51.0</td>\n",
       "      <td>8</td>\n",
       "      <td>NaN</td>\n",
       "      <td>...</td>\n",
       "      <td>25.0</td>\n",
       "      <td>NaN</td>\n",
       "      <td>Санкт-Петербург</td>\n",
       "      <td>18863.0</td>\n",
       "      <td>16028.0</td>\n",
       "      <td>1.0</td>\n",
       "      <td>482.0</td>\n",
       "      <td>2.0</td>\n",
       "      <td>755.0</td>\n",
       "      <td>NaN</td>\n",
       "    </tr>\n",
       "    <tr>\n",
       "      <th>1</th>\n",
       "      <td>7</td>\n",
       "      <td>3350000.0</td>\n",
       "      <td>40.4</td>\n",
       "      <td>2018-12-04T00:00:00</td>\n",
       "      <td>1</td>\n",
       "      <td>NaN</td>\n",
       "      <td>11.0</td>\n",
       "      <td>18.6</td>\n",
       "      <td>1</td>\n",
       "      <td>NaN</td>\n",
       "      <td>...</td>\n",
       "      <td>11.0</td>\n",
       "      <td>2.0</td>\n",
       "      <td>посёлок Шушары</td>\n",
       "      <td>12817.0</td>\n",
       "      <td>18603.0</td>\n",
       "      <td>0.0</td>\n",
       "      <td>NaN</td>\n",
       "      <td>0.0</td>\n",
       "      <td>NaN</td>\n",
       "      <td>81.0</td>\n",
       "    </tr>\n",
       "    <tr>\n",
       "      <th>2</th>\n",
       "      <td>10</td>\n",
       "      <td>5196000.0</td>\n",
       "      <td>56.0</td>\n",
       "      <td>2015-08-20T00:00:00</td>\n",
       "      <td>2</td>\n",
       "      <td>NaN</td>\n",
       "      <td>5.0</td>\n",
       "      <td>34.3</td>\n",
       "      <td>4</td>\n",
       "      <td>NaN</td>\n",
       "      <td>...</td>\n",
       "      <td>8.3</td>\n",
       "      <td>0.0</td>\n",
       "      <td>Санкт-Петербург</td>\n",
       "      <td>21741.0</td>\n",
       "      <td>13933.0</td>\n",
       "      <td>1.0</td>\n",
       "      <td>90.0</td>\n",
       "      <td>2.0</td>\n",
       "      <td>574.0</td>\n",
       "      <td>558.0</td>\n",
       "    </tr>\n",
       "    <tr>\n",
       "      <th>3</th>\n",
       "      <td>0</td>\n",
       "      <td>64900000.0</td>\n",
       "      <td>159.0</td>\n",
       "      <td>2015-07-24T00:00:00</td>\n",
       "      <td>3</td>\n",
       "      <td>NaN</td>\n",
       "      <td>14.0</td>\n",
       "      <td>NaN</td>\n",
       "      <td>9</td>\n",
       "      <td>NaN</td>\n",
       "      <td>...</td>\n",
       "      <td>NaN</td>\n",
       "      <td>0.0</td>\n",
       "      <td>Санкт-Петербург</td>\n",
       "      <td>28098.0</td>\n",
       "      <td>6800.0</td>\n",
       "      <td>2.0</td>\n",
       "      <td>84.0</td>\n",
       "      <td>3.0</td>\n",
       "      <td>234.0</td>\n",
       "      <td>424.0</td>\n",
       "    </tr>\n",
       "    <tr>\n",
       "      <th>4</th>\n",
       "      <td>2</td>\n",
       "      <td>10000000.0</td>\n",
       "      <td>100.0</td>\n",
       "      <td>2018-06-19T00:00:00</td>\n",
       "      <td>2</td>\n",
       "      <td>3.03</td>\n",
       "      <td>14.0</td>\n",
       "      <td>32.0</td>\n",
       "      <td>13</td>\n",
       "      <td>NaN</td>\n",
       "      <td>...</td>\n",
       "      <td>41.0</td>\n",
       "      <td>NaN</td>\n",
       "      <td>Санкт-Петербург</td>\n",
       "      <td>31856.0</td>\n",
       "      <td>8098.0</td>\n",
       "      <td>2.0</td>\n",
       "      <td>112.0</td>\n",
       "      <td>1.0</td>\n",
       "      <td>48.0</td>\n",
       "      <td>121.0</td>\n",
       "    </tr>\n",
       "  </tbody>\n",
       "</table>\n",
       "<p>5 rows × 22 columns</p>\n",
       "</div>"
      ],
      "text/plain": [
       "   total_images  last_price  total_area first_day_exposition  rooms  \\\n",
       "0            20  13000000.0       108.0  2019-03-07T00:00:00      3   \n",
       "1             7   3350000.0        40.4  2018-12-04T00:00:00      1   \n",
       "2            10   5196000.0        56.0  2015-08-20T00:00:00      2   \n",
       "3             0  64900000.0       159.0  2015-07-24T00:00:00      3   \n",
       "4             2  10000000.0       100.0  2018-06-19T00:00:00      2   \n",
       "\n",
       "   ceiling_height  floors_total  living_area  floor is_apartment  ...  \\\n",
       "0            2.70          16.0         51.0      8          NaN  ...   \n",
       "1             NaN          11.0         18.6      1          NaN  ...   \n",
       "2             NaN           5.0         34.3      4          NaN  ...   \n",
       "3             NaN          14.0          NaN      9          NaN  ...   \n",
       "4            3.03          14.0         32.0     13          NaN  ...   \n",
       "\n",
       "   kitchen_area  balcony    locality_name  airports_nearest  \\\n",
       "0          25.0      NaN  Санкт-Петербург           18863.0   \n",
       "1          11.0      2.0   посёлок Шушары           12817.0   \n",
       "2           8.3      0.0  Санкт-Петербург           21741.0   \n",
       "3           NaN      0.0  Санкт-Петербург           28098.0   \n",
       "4          41.0      NaN  Санкт-Петербург           31856.0   \n",
       "\n",
       "  cityCenters_nearest  parks_around3000  parks_nearest  ponds_around3000  \\\n",
       "0             16028.0               1.0          482.0               2.0   \n",
       "1             18603.0               0.0            NaN               0.0   \n",
       "2             13933.0               1.0           90.0               2.0   \n",
       "3              6800.0               2.0           84.0               3.0   \n",
       "4              8098.0               2.0          112.0               1.0   \n",
       "\n",
       "   ponds_nearest  days_exposition  \n",
       "0          755.0              NaN  \n",
       "1            NaN             81.0  \n",
       "2          574.0            558.0  \n",
       "3          234.0            424.0  \n",
       "4           48.0            121.0  \n",
       "\n",
       "[5 rows x 22 columns]"
      ]
     },
     "execution_count": 5,
     "metadata": {},
     "output_type": "execute_result"
    }
   ],
   "source": [
    "data.head()"
   ]
  },
  {
   "cell_type": "markdown",
   "metadata": {},
   "source": [
    "### Вывод"
   ]
  },
  {
   "cell_type": "markdown",
   "metadata": {},
   "source": [
    "Размер импортированной таблицы 23699. \n",
    "<br/>В таблице имеются пропуски, кроме столбцов (количество фотографий, послдняя цена, общая площадь, дата публикации, количество комнат, этаж, свободная планировка,студия) в разных соотношениях к величине таблицы. В таблице есть "
   ]
  },
  {
   "cell_type": "markdown",
   "metadata": {},
   "source": [
    "<div class=\"alert alert-success\">\n",
    "<b>Комментарий ревьюера ✔️:</b> Хорошее начало и первый промежуточный вывод, так держать. </div>"
   ]
  },
  {
   "cell_type": "markdown",
   "metadata": {},
   "source": [
    "## Предобработка данных"
   ]
  },
  {
   "cell_type": "code",
   "execution_count": 6,
   "metadata": {},
   "outputs": [],
   "source": [
    "data.rename(columns={'cityCenters_nearest':'city_сenters_nearest'}, inplace=True)"
   ]
  },
  {
   "cell_type": "markdown",
   "metadata": {},
   "source": [
    "изменено название столбца cityCenters_nearest"
   ]
  },
  {
   "cell_type": "code",
   "execution_count": 7,
   "metadata": {},
   "outputs": [],
   "source": [
    "data['first_day_exposition']= pd.to_datetime(data['first_day_exposition'])"
   ]
  },
  {
   "cell_type": "markdown",
   "metadata": {},
   "source": [
    "<div class=\"alert alert-success\">\n",
    "<b>Комментарий ревьюера ✔️:</b> Это изменение еще пригодится далее в проекте"
   ]
  },
  {
   "cell_type": "markdown",
   "metadata": {},
   "source": [
    "преобразован формат столбца first_day_exposition"
   ]
  },
  {
   "cell_type": "code",
   "execution_count": 8,
   "metadata": {},
   "outputs": [],
   "source": [
    "data['days_exposition']=data['days_exposition'].fillna(data.groupby('locality_name')['days_exposition'].transform('median'))"
   ]
  },
  {
   "cell_type": "markdown",
   "metadata": {},
   "source": [
    "<div class=\"alert alert-success\">\n",
    "<b>Комментарий ревьюера ✔️:</b> Хорошее решение"
   ]
  },
  {
   "cell_type": "markdown",
   "metadata": {},
   "source": [
    "пропущенные значения столбца days_exposition заменены на медианные значения данного столбца сгруппированные по населенным пунктам"
   ]
  },
  {
   "cell_type": "code",
   "execution_count": 9,
   "metadata": {
    "scrolled": true
   },
   "outputs": [],
   "source": [
    "data = data.dropna(subset=['locality_name'])"
   ]
  },
  {
   "cell_type": "code",
   "execution_count": 10,
   "metadata": {},
   "outputs": [],
   "source": [
    "data = data.dropna(subset=['floors_total'])\n",
    "data['floors_total'] = data['floors_total'].astype('int64')"
   ]
  },
  {
   "cell_type": "markdown",
   "metadata": {},
   "source": [
    "<div class=\"alert alert-success\">\n",
    "<b>Комментарий ревьюера ✔️:</b> Да, эти данные вполне можно отбросить"
   ]
  },
  {
   "cell_type": "markdown",
   "metadata": {},
   "source": [
    "удалены строки в которых пропущено название населенного пункта (0,2% от размера исходных данных) и общее число этажей в здании (0,4 % от исходных данных)"
   ]
  },
  {
   "cell_type": "code",
   "execution_count": 11,
   "metadata": {},
   "outputs": [],
   "source": [
    "days_exposition_median=data['days_exposition'].median()\n",
    "data['days_exposition']=data['days_exposition'].fillna(days_exposition_median).astype('int64')"
   ]
  },
  {
   "cell_type": "markdown",
   "metadata": {},
   "source": [
    "остальные пропущенные значения в столбце days_exposition заменены медианным значением столбца days_exposition"
   ]
  },
  {
   "cell_type": "code",
   "execution_count": 12,
   "metadata": {},
   "outputs": [],
   "source": [
    "data['balcony']=data['balcony'].fillna(0).astype('int64')"
   ]
  },
  {
   "cell_type": "markdown",
   "metadata": {},
   "source": [
    "<div class=\"alert alert-success\">\n",
    "<b>Комментарий ревьюера ✔️:</b> Отлично"
   ]
  },
  {
   "cell_type": "markdown",
   "metadata": {},
   "source": [
    "пропущенные значения в стобце balcony заменены нулевыми значениями"
   ]
  },
  {
   "cell_type": "code",
   "execution_count": 13,
   "metadata": {},
   "outputs": [],
   "source": [
    "data['ceiling_height']=data['ceiling_height'].fillna(data.groupby('locality_name')['ceiling_height'].transform('median'))"
   ]
  },
  {
   "cell_type": "code",
   "execution_count": 14,
   "metadata": {},
   "outputs": [],
   "source": [
    "ceiling_height_median = data['ceiling_height'].median()\n",
    "data['ceiling_height'] = data['ceiling_height'].fillna(ceiling_height_median)"
   ]
  },
  {
   "cell_type": "markdown",
   "metadata": {},
   "source": [
    "<div class=\"alert alert-success\">\n",
    "<b>Комментарий ревьюера ✔️:</b> Медиана здесь самое то"
   ]
  },
  {
   "cell_type": "markdown",
   "metadata": {},
   "source": [
    "пропущенные значения в столбце ceiling_height заменены медианным значением ceiling_height группы населенных пунктов\n",
    "остальные пропущенные значения заменены на медианное значение ceiling_height"
   ]
  },
  {
   "cell_type": "code",
   "execution_count": 15,
   "metadata": {},
   "outputs": [],
   "source": [
    "data['parks_around3000']=data['parks_around3000'].fillna(0).astype('int64')"
   ]
  },
  {
   "cell_type": "code",
   "execution_count": 16,
   "metadata": {},
   "outputs": [],
   "source": [
    "parks_nearest_max = data['parks_nearest'].max()\n",
    "data['parks_nearest']=data['parks_nearest'].fillna(parks_nearest_max)"
   ]
  },
  {
   "cell_type": "code",
   "execution_count": 17,
   "metadata": {},
   "outputs": [],
   "source": [
    "data['ponds_around3000']=data['ponds_around3000'].fillna(0).astype('int64')"
   ]
  },
  {
   "cell_type": "code",
   "execution_count": 18,
   "metadata": {},
   "outputs": [],
   "source": [
    "ponds_nearest_max = data['ponds_nearest'].max()\n",
    "data['ponds_nearest']=data['ponds_nearest'].fillna(parks_nearest_max)"
   ]
  },
  {
   "cell_type": "markdown",
   "metadata": {},
   "source": [
    "<div class=\"alert alert-success\">\n",
    "<b>Комментарий ревьюера ✔️:</b> Хорошие изменения"
   ]
  },
  {
   "cell_type": "markdown",
   "metadata": {},
   "source": [
    "пропущенные данные по наличию парков и прудов заменены на 0, тип данных этого столбца изменен на целочисленный. пропущенные значения по расстоянию до указанных объектов изменены на максимальные в данных столбцах"
   ]
  },
  {
   "cell_type": "code",
   "execution_count": 19,
   "metadata": {},
   "outputs": [],
   "source": [
    "data['is_apartment']=data['is_apartment'].fillna(False).astype('bool')"
   ]
  },
  {
   "cell_type": "code",
   "execution_count": 20,
   "metadata": {},
   "outputs": [],
   "source": [
    "data['airports_nearest']=data['airports_nearest'].fillna(data.groupby('locality_name')['airports_nearest'].transform('median'))"
   ]
  },
  {
   "cell_type": "code",
   "execution_count": 21,
   "metadata": {},
   "outputs": [],
   "source": [
    "data['city_сenters_nearest']=data['city_сenters_nearest'].fillna(data.groupby('locality_name')['city_сenters_nearest'].transform('median'))"
   ]
  },
  {
   "cell_type": "markdown",
   "metadata": {},
   "source": [
    "<div class=\"alert alert-success\">\n",
    "<b>Комментарий ревьюера ✔️:</b> Здесь также все отлично"
   ]
  },
  {
   "cell_type": "code",
   "execution_count": 22,
   "metadata": {},
   "outputs": [
    {
     "data": {
      "text/html": [
       "<div>\n",
       "<style scoped>\n",
       "    .dataframe tbody tr th:only-of-type {\n",
       "        vertical-align: middle;\n",
       "    }\n",
       "\n",
       "    .dataframe tbody tr th {\n",
       "        vertical-align: top;\n",
       "    }\n",
       "\n",
       "    .dataframe thead th {\n",
       "        text-align: right;\n",
       "    }\n",
       "</style>\n",
       "<table border=\"1\" class=\"dataframe\">\n",
       "  <thead>\n",
       "    <tr style=\"text-align: right;\">\n",
       "      <th></th>\n",
       "      <th>total_images</th>\n",
       "      <th>last_price</th>\n",
       "      <th>total_area</th>\n",
       "      <th>first_day_exposition</th>\n",
       "      <th>rooms</th>\n",
       "      <th>ceiling_height</th>\n",
       "      <th>floors_total</th>\n",
       "      <th>living_area</th>\n",
       "      <th>floor</th>\n",
       "      <th>is_apartment</th>\n",
       "      <th>...</th>\n",
       "      <th>kitchen_area</th>\n",
       "      <th>balcony</th>\n",
       "      <th>locality_name</th>\n",
       "      <th>airports_nearest</th>\n",
       "      <th>city_сenters_nearest</th>\n",
       "      <th>parks_around3000</th>\n",
       "      <th>parks_nearest</th>\n",
       "      <th>ponds_around3000</th>\n",
       "      <th>ponds_nearest</th>\n",
       "      <th>days_exposition</th>\n",
       "    </tr>\n",
       "  </thead>\n",
       "  <tbody>\n",
       "  </tbody>\n",
       "</table>\n",
       "<p>0 rows × 22 columns</p>\n",
       "</div>"
      ],
      "text/plain": [
       "Empty DataFrame\n",
       "Columns: [total_images, last_price, total_area, first_day_exposition, rooms, ceiling_height, floors_total, living_area, floor, is_apartment, studio, open_plan, kitchen_area, balcony, locality_name, airports_nearest, city_сenters_nearest, parks_around3000, parks_nearest, ponds_around3000, ponds_nearest, days_exposition]\n",
       "Index: []\n",
       "\n",
       "[0 rows x 22 columns]"
      ]
     },
     "execution_count": 22,
     "metadata": {},
     "output_type": "execute_result"
    }
   ],
   "source": [
    "data[data['floors_total'].isna()]\n",
    "#data['floors_total']=data['floors_total'].astype('int64')"
   ]
  },
  {
   "cell_type": "code",
   "execution_count": 23,
   "metadata": {},
   "outputs": [
    {
     "data": {
      "text/plain": [
       "total_images            0.000000\n",
       "last_price              0.000000\n",
       "total_area              0.000000\n",
       "first_day_exposition    0.000000\n",
       "rooms                   0.000000\n",
       "ceiling_height          0.000000\n",
       "floors_total            0.000000\n",
       "living_area             0.079143\n",
       "floor                   0.000000\n",
       "is_apartment            0.000000\n",
       "studio                  0.000000\n",
       "open_plan               0.000000\n",
       "kitchen_area            0.094292\n",
       "balcony                 0.000000\n",
       "locality_name           0.000000\n",
       "airports_nearest        0.230511\n",
       "city_сenters_nearest    0.230511\n",
       "parks_around3000        0.000000\n",
       "parks_nearest           0.000000\n",
       "ponds_around3000        0.000000\n",
       "ponds_nearest           0.000000\n",
       "days_exposition         0.000000\n",
       "dtype: float64"
      ]
     },
     "execution_count": 23,
     "metadata": {},
     "output_type": "execute_result"
    }
   ],
   "source": [
    "data.isna().mean()"
   ]
  },
  {
   "cell_type": "code",
   "execution_count": 24,
   "metadata": {},
   "outputs": [],
   "source": [
    "airports_nearest_max = data['airports_nearest'].max()\n",
    "data['airports_nearest'] = data['airports_nearest'].fillna(airports_nearest_max)\n"
   ]
  },
  {
   "cell_type": "code",
   "execution_count": 25,
   "metadata": {},
   "outputs": [],
   "source": [
    "city_centers_nearest_max = data['city_сenters_nearest'].max()\n",
    "data['city_сenters_nearest'] = data['city_сenters_nearest'].fillna(city_centers_nearest_max)"
   ]
  },
  {
   "cell_type": "code",
   "execution_count": 26,
   "metadata": {},
   "outputs": [
    {
     "data": {
      "text/plain": [
       "total_images            0.000000\n",
       "last_price              0.000000\n",
       "total_area              0.000000\n",
       "first_day_exposition    0.000000\n",
       "rooms                   0.000000\n",
       "ceiling_height          0.000000\n",
       "floors_total            0.000000\n",
       "living_area             0.079143\n",
       "floor                   0.000000\n",
       "is_apartment            0.000000\n",
       "studio                  0.000000\n",
       "open_plan               0.000000\n",
       "kitchen_area            0.094292\n",
       "balcony                 0.000000\n",
       "locality_name           0.000000\n",
       "airports_nearest        0.000000\n",
       "city_сenters_nearest    0.000000\n",
       "parks_around3000        0.000000\n",
       "parks_nearest           0.000000\n",
       "ponds_around3000        0.000000\n",
       "ponds_nearest           0.000000\n",
       "days_exposition         0.000000\n",
       "dtype: float64"
      ]
     },
     "execution_count": 26,
     "metadata": {},
     "output_type": "execute_result"
    }
   ],
   "source": [
    "data.isna().mean()"
   ]
  },
  {
   "cell_type": "code",
   "execution_count": 27,
   "metadata": {},
   "outputs": [],
   "source": [
    "rate_living_area = data['living_area'].sum()/data['total_area'].sum()\n",
    "data['living_area'] = data['living_area'].fillna(rate_living_area*data['total_area'])\n"
   ]
  },
  {
   "cell_type": "code",
   "execution_count": 28,
   "metadata": {},
   "outputs": [],
   "source": [
    "rate_kitchen_area = data['kitchen_area'].sum()/data['total_area'].sum()\n",
    "data['kitchen_area'] = data['kitchen_area'].fillna(rate_kitchen_area*data['total_area'])"
   ]
  },
  {
   "cell_type": "markdown",
   "metadata": {},
   "source": [
    "<div class=\"alert alert-success\">\n",
    "<b>Комментарий ревьюера ✔️:</b> Такое заполнение вполне логично"
   ]
  },
  {
   "cell_type": "code",
   "execution_count": 29,
   "metadata": {},
   "outputs": [
    {
     "name": "stdout",
     "output_type": "stream",
     "text": [
      "<class 'pandas.core.frame.DataFrame'>\n",
      "Int64Index: 23565 entries, 0 to 23698\n",
      "Data columns (total 22 columns):\n",
      " #   Column                Non-Null Count  Dtype         \n",
      "---  ------                --------------  -----         \n",
      " 0   total_images          23565 non-null  int64         \n",
      " 1   last_price            23565 non-null  float64       \n",
      " 2   total_area            23565 non-null  float64       \n",
      " 3   first_day_exposition  23565 non-null  datetime64[ns]\n",
      " 4   rooms                 23565 non-null  int64         \n",
      " 5   ceiling_height        23565 non-null  float64       \n",
      " 6   floors_total          23565 non-null  int64         \n",
      " 7   living_area           23565 non-null  float64       \n",
      " 8   floor                 23565 non-null  int64         \n",
      " 9   is_apartment          23565 non-null  bool          \n",
      " 10  studio                23565 non-null  bool          \n",
      " 11  open_plan             23565 non-null  bool          \n",
      " 12  kitchen_area          23565 non-null  float64       \n",
      " 13  balcony               23565 non-null  int64         \n",
      " 14  locality_name         23565 non-null  object        \n",
      " 15  airports_nearest      23565 non-null  float64       \n",
      " 16  city_сenters_nearest  23565 non-null  float64       \n",
      " 17  parks_around3000      23565 non-null  int64         \n",
      " 18  parks_nearest         23565 non-null  float64       \n",
      " 19  ponds_around3000      23565 non-null  int64         \n",
      " 20  ponds_nearest         23565 non-null  float64       \n",
      " 21  days_exposition       23565 non-null  int64         \n",
      "dtypes: bool(3), datetime64[ns](1), float64(9), int64(8), object(1)\n",
      "memory usage: 3.7+ MB\n"
     ]
    }
   ],
   "source": [
    "data.info()"
   ]
  },
  {
   "cell_type": "markdown",
   "metadata": {},
   "source": [
    "пропущенные значения по расстоянию до центра населенного пункта и расстоянию до аэропорта заменены на сгруппированные по названию населенного пункта медианное значение. Остальные пропущенные значения в этих столбцах заменены на максимальные значения соответствующих столбцов"
   ]
  },
  {
   "cell_type": "markdown",
   "metadata": {},
   "source": [
    "Вывод: Данные преобразованны для последующего анализа"
   ]
  },
  {
   "cell_type": "markdown",
   "metadata": {},
   "source": [
    "<div class=\"alert alert-success\">\n",
    "<b>Комментарий ревьюера ✔️:</b> Отличный раздел работы, все операции над данными произведены абсолютно верно"
   ]
  },
  {
   "cell_type": "markdown",
   "metadata": {},
   "source": [
    "## Расчёты и добавление результатов в таблицу"
   ]
  },
  {
   "cell_type": "code",
   "execution_count": 30,
   "metadata": {},
   "outputs": [
    {
     "data": {
      "text/html": [
       "<div>\n",
       "<style scoped>\n",
       "    .dataframe tbody tr th:only-of-type {\n",
       "        vertical-align: middle;\n",
       "    }\n",
       "\n",
       "    .dataframe tbody tr th {\n",
       "        vertical-align: top;\n",
       "    }\n",
       "\n",
       "    .dataframe thead th {\n",
       "        text-align: right;\n",
       "    }\n",
       "</style>\n",
       "<table border=\"1\" class=\"dataframe\">\n",
       "  <thead>\n",
       "    <tr style=\"text-align: right;\">\n",
       "      <th></th>\n",
       "      <th>total_images</th>\n",
       "      <th>last_price</th>\n",
       "      <th>total_area</th>\n",
       "      <th>first_day_exposition</th>\n",
       "      <th>rooms</th>\n",
       "      <th>ceiling_height</th>\n",
       "      <th>floors_total</th>\n",
       "      <th>living_area</th>\n",
       "      <th>floor</th>\n",
       "      <th>is_apartment</th>\n",
       "      <th>...</th>\n",
       "      <th>balcony</th>\n",
       "      <th>locality_name</th>\n",
       "      <th>airports_nearest</th>\n",
       "      <th>city_сenters_nearest</th>\n",
       "      <th>parks_around3000</th>\n",
       "      <th>parks_nearest</th>\n",
       "      <th>ponds_around3000</th>\n",
       "      <th>ponds_nearest</th>\n",
       "      <th>days_exposition</th>\n",
       "      <th>price_per_sqr</th>\n",
       "    </tr>\n",
       "  </thead>\n",
       "  <tbody>\n",
       "    <tr>\n",
       "      <th>0</th>\n",
       "      <td>20</td>\n",
       "      <td>13000000.0</td>\n",
       "      <td>108.0</td>\n",
       "      <td>2019-03-07</td>\n",
       "      <td>3</td>\n",
       "      <td>2.700</td>\n",
       "      <td>16</td>\n",
       "      <td>51.000000</td>\n",
       "      <td>8</td>\n",
       "      <td>False</td>\n",
       "      <td>...</td>\n",
       "      <td>0</td>\n",
       "      <td>Санкт-Петербург</td>\n",
       "      <td>18863.0</td>\n",
       "      <td>16028.0</td>\n",
       "      <td>1</td>\n",
       "      <td>482.0</td>\n",
       "      <td>2</td>\n",
       "      <td>755.0</td>\n",
       "      <td>95</td>\n",
       "      <td>120370.370370</td>\n",
       "    </tr>\n",
       "    <tr>\n",
       "      <th>1</th>\n",
       "      <td>7</td>\n",
       "      <td>3350000.0</td>\n",
       "      <td>40.4</td>\n",
       "      <td>2018-12-04</td>\n",
       "      <td>1</td>\n",
       "      <td>2.615</td>\n",
       "      <td>11</td>\n",
       "      <td>18.600000</td>\n",
       "      <td>1</td>\n",
       "      <td>False</td>\n",
       "      <td>...</td>\n",
       "      <td>2</td>\n",
       "      <td>посёлок Шушары</td>\n",
       "      <td>12817.0</td>\n",
       "      <td>18603.0</td>\n",
       "      <td>0</td>\n",
       "      <td>3190.0</td>\n",
       "      <td>0</td>\n",
       "      <td>3190.0</td>\n",
       "      <td>81</td>\n",
       "      <td>82920.792079</td>\n",
       "    </tr>\n",
       "    <tr>\n",
       "      <th>2</th>\n",
       "      <td>10</td>\n",
       "      <td>5196000.0</td>\n",
       "      <td>56.0</td>\n",
       "      <td>2015-08-20</td>\n",
       "      <td>2</td>\n",
       "      <td>2.700</td>\n",
       "      <td>5</td>\n",
       "      <td>34.300000</td>\n",
       "      <td>4</td>\n",
       "      <td>False</td>\n",
       "      <td>...</td>\n",
       "      <td>0</td>\n",
       "      <td>Санкт-Петербург</td>\n",
       "      <td>21741.0</td>\n",
       "      <td>13933.0</td>\n",
       "      <td>1</td>\n",
       "      <td>90.0</td>\n",
       "      <td>2</td>\n",
       "      <td>574.0</td>\n",
       "      <td>558</td>\n",
       "      <td>92785.714286</td>\n",
       "    </tr>\n",
       "    <tr>\n",
       "      <th>3</th>\n",
       "      <td>0</td>\n",
       "      <td>64900000.0</td>\n",
       "      <td>159.0</td>\n",
       "      <td>2015-07-24</td>\n",
       "      <td>3</td>\n",
       "      <td>2.700</td>\n",
       "      <td>14</td>\n",
       "      <td>83.629164</td>\n",
       "      <td>9</td>\n",
       "      <td>False</td>\n",
       "      <td>...</td>\n",
       "      <td>0</td>\n",
       "      <td>Санкт-Петербург</td>\n",
       "      <td>28098.0</td>\n",
       "      <td>6800.0</td>\n",
       "      <td>2</td>\n",
       "      <td>84.0</td>\n",
       "      <td>3</td>\n",
       "      <td>234.0</td>\n",
       "      <td>424</td>\n",
       "      <td>408176.100629</td>\n",
       "    </tr>\n",
       "    <tr>\n",
       "      <th>4</th>\n",
       "      <td>2</td>\n",
       "      <td>10000000.0</td>\n",
       "      <td>100.0</td>\n",
       "      <td>2018-06-19</td>\n",
       "      <td>2</td>\n",
       "      <td>3.030</td>\n",
       "      <td>14</td>\n",
       "      <td>32.000000</td>\n",
       "      <td>13</td>\n",
       "      <td>False</td>\n",
       "      <td>...</td>\n",
       "      <td>0</td>\n",
       "      <td>Санкт-Петербург</td>\n",
       "      <td>31856.0</td>\n",
       "      <td>8098.0</td>\n",
       "      <td>2</td>\n",
       "      <td>112.0</td>\n",
       "      <td>1</td>\n",
       "      <td>48.0</td>\n",
       "      <td>121</td>\n",
       "      <td>100000.000000</td>\n",
       "    </tr>\n",
       "  </tbody>\n",
       "</table>\n",
       "<p>5 rows × 23 columns</p>\n",
       "</div>"
      ],
      "text/plain": [
       "   total_images  last_price  total_area first_day_exposition  rooms  \\\n",
       "0            20  13000000.0       108.0           2019-03-07      3   \n",
       "1             7   3350000.0        40.4           2018-12-04      1   \n",
       "2            10   5196000.0        56.0           2015-08-20      2   \n",
       "3             0  64900000.0       159.0           2015-07-24      3   \n",
       "4             2  10000000.0       100.0           2018-06-19      2   \n",
       "\n",
       "   ceiling_height  floors_total  living_area  floor  is_apartment  ...  \\\n",
       "0           2.700            16    51.000000      8         False  ...   \n",
       "1           2.615            11    18.600000      1         False  ...   \n",
       "2           2.700             5    34.300000      4         False  ...   \n",
       "3           2.700            14    83.629164      9         False  ...   \n",
       "4           3.030            14    32.000000     13         False  ...   \n",
       "\n",
       "   balcony    locality_name  airports_nearest  city_сenters_nearest  \\\n",
       "0        0  Санкт-Петербург           18863.0               16028.0   \n",
       "1        2   посёлок Шушары           12817.0               18603.0   \n",
       "2        0  Санкт-Петербург           21741.0               13933.0   \n",
       "3        0  Санкт-Петербург           28098.0                6800.0   \n",
       "4        0  Санкт-Петербург           31856.0                8098.0   \n",
       "\n",
       "  parks_around3000  parks_nearest  ponds_around3000  ponds_nearest  \\\n",
       "0                1          482.0                 2          755.0   \n",
       "1                0         3190.0                 0         3190.0   \n",
       "2                1           90.0                 2          574.0   \n",
       "3                2           84.0                 3          234.0   \n",
       "4                2          112.0                 1           48.0   \n",
       "\n",
       "   days_exposition  price_per_sqr  \n",
       "0               95  120370.370370  \n",
       "1               81   82920.792079  \n",
       "2              558   92785.714286  \n",
       "3              424  408176.100629  \n",
       "4              121  100000.000000  \n",
       "\n",
       "[5 rows x 23 columns]"
      ]
     },
     "execution_count": 30,
     "metadata": {},
     "output_type": "execute_result"
    }
   ],
   "source": [
    "data['price_per_sqr'] = data['last_price']/data['total_area']\n",
    "data.head()"
   ]
  },
  {
   "cell_type": "code",
   "execution_count": 31,
   "metadata": {},
   "outputs": [
    {
     "data": {
      "text/html": [
       "<div>\n",
       "<style scoped>\n",
       "    .dataframe tbody tr th:only-of-type {\n",
       "        vertical-align: middle;\n",
       "    }\n",
       "\n",
       "    .dataframe tbody tr th {\n",
       "        vertical-align: top;\n",
       "    }\n",
       "\n",
       "    .dataframe thead th {\n",
       "        text-align: right;\n",
       "    }\n",
       "</style>\n",
       "<table border=\"1\" class=\"dataframe\">\n",
       "  <thead>\n",
       "    <tr style=\"text-align: right;\">\n",
       "      <th></th>\n",
       "      <th>total_images</th>\n",
       "      <th>last_price</th>\n",
       "      <th>total_area</th>\n",
       "      <th>first_day_exposition</th>\n",
       "      <th>rooms</th>\n",
       "      <th>ceiling_height</th>\n",
       "      <th>floors_total</th>\n",
       "      <th>living_area</th>\n",
       "      <th>floor</th>\n",
       "      <th>is_apartment</th>\n",
       "      <th>...</th>\n",
       "      <th>city_сenters_nearest</th>\n",
       "      <th>parks_around3000</th>\n",
       "      <th>parks_nearest</th>\n",
       "      <th>ponds_around3000</th>\n",
       "      <th>ponds_nearest</th>\n",
       "      <th>days_exposition</th>\n",
       "      <th>price_per_sqr</th>\n",
       "      <th>week_day</th>\n",
       "      <th>month</th>\n",
       "      <th>year</th>\n",
       "    </tr>\n",
       "  </thead>\n",
       "  <tbody>\n",
       "    <tr>\n",
       "      <th>0</th>\n",
       "      <td>20</td>\n",
       "      <td>13000000.0</td>\n",
       "      <td>108.0</td>\n",
       "      <td>2019-03-07</td>\n",
       "      <td>3</td>\n",
       "      <td>2.700</td>\n",
       "      <td>16</td>\n",
       "      <td>51.000000</td>\n",
       "      <td>8</td>\n",
       "      <td>False</td>\n",
       "      <td>...</td>\n",
       "      <td>16028.0</td>\n",
       "      <td>1</td>\n",
       "      <td>482.0</td>\n",
       "      <td>2</td>\n",
       "      <td>755.0</td>\n",
       "      <td>95</td>\n",
       "      <td>120370.370370</td>\n",
       "      <td>3</td>\n",
       "      <td>3</td>\n",
       "      <td>2019</td>\n",
       "    </tr>\n",
       "    <tr>\n",
       "      <th>1</th>\n",
       "      <td>7</td>\n",
       "      <td>3350000.0</td>\n",
       "      <td>40.4</td>\n",
       "      <td>2018-12-04</td>\n",
       "      <td>1</td>\n",
       "      <td>2.615</td>\n",
       "      <td>11</td>\n",
       "      <td>18.600000</td>\n",
       "      <td>1</td>\n",
       "      <td>False</td>\n",
       "      <td>...</td>\n",
       "      <td>18603.0</td>\n",
       "      <td>0</td>\n",
       "      <td>3190.0</td>\n",
       "      <td>0</td>\n",
       "      <td>3190.0</td>\n",
       "      <td>81</td>\n",
       "      <td>82920.792079</td>\n",
       "      <td>1</td>\n",
       "      <td>12</td>\n",
       "      <td>2018</td>\n",
       "    </tr>\n",
       "    <tr>\n",
       "      <th>2</th>\n",
       "      <td>10</td>\n",
       "      <td>5196000.0</td>\n",
       "      <td>56.0</td>\n",
       "      <td>2015-08-20</td>\n",
       "      <td>2</td>\n",
       "      <td>2.700</td>\n",
       "      <td>5</td>\n",
       "      <td>34.300000</td>\n",
       "      <td>4</td>\n",
       "      <td>False</td>\n",
       "      <td>...</td>\n",
       "      <td>13933.0</td>\n",
       "      <td>1</td>\n",
       "      <td>90.0</td>\n",
       "      <td>2</td>\n",
       "      <td>574.0</td>\n",
       "      <td>558</td>\n",
       "      <td>92785.714286</td>\n",
       "      <td>3</td>\n",
       "      <td>8</td>\n",
       "      <td>2015</td>\n",
       "    </tr>\n",
       "    <tr>\n",
       "      <th>3</th>\n",
       "      <td>0</td>\n",
       "      <td>64900000.0</td>\n",
       "      <td>159.0</td>\n",
       "      <td>2015-07-24</td>\n",
       "      <td>3</td>\n",
       "      <td>2.700</td>\n",
       "      <td>14</td>\n",
       "      <td>83.629164</td>\n",
       "      <td>9</td>\n",
       "      <td>False</td>\n",
       "      <td>...</td>\n",
       "      <td>6800.0</td>\n",
       "      <td>2</td>\n",
       "      <td>84.0</td>\n",
       "      <td>3</td>\n",
       "      <td>234.0</td>\n",
       "      <td>424</td>\n",
       "      <td>408176.100629</td>\n",
       "      <td>4</td>\n",
       "      <td>7</td>\n",
       "      <td>2015</td>\n",
       "    </tr>\n",
       "    <tr>\n",
       "      <th>4</th>\n",
       "      <td>2</td>\n",
       "      <td>10000000.0</td>\n",
       "      <td>100.0</td>\n",
       "      <td>2018-06-19</td>\n",
       "      <td>2</td>\n",
       "      <td>3.030</td>\n",
       "      <td>14</td>\n",
       "      <td>32.000000</td>\n",
       "      <td>13</td>\n",
       "      <td>False</td>\n",
       "      <td>...</td>\n",
       "      <td>8098.0</td>\n",
       "      <td>2</td>\n",
       "      <td>112.0</td>\n",
       "      <td>1</td>\n",
       "      <td>48.0</td>\n",
       "      <td>121</td>\n",
       "      <td>100000.000000</td>\n",
       "      <td>1</td>\n",
       "      <td>6</td>\n",
       "      <td>2018</td>\n",
       "    </tr>\n",
       "  </tbody>\n",
       "</table>\n",
       "<p>5 rows × 26 columns</p>\n",
       "</div>"
      ],
      "text/plain": [
       "   total_images  last_price  total_area first_day_exposition  rooms  \\\n",
       "0            20  13000000.0       108.0           2019-03-07      3   \n",
       "1             7   3350000.0        40.4           2018-12-04      1   \n",
       "2            10   5196000.0        56.0           2015-08-20      2   \n",
       "3             0  64900000.0       159.0           2015-07-24      3   \n",
       "4             2  10000000.0       100.0           2018-06-19      2   \n",
       "\n",
       "   ceiling_height  floors_total  living_area  floor  is_apartment  ...  \\\n",
       "0           2.700            16    51.000000      8         False  ...   \n",
       "1           2.615            11    18.600000      1         False  ...   \n",
       "2           2.700             5    34.300000      4         False  ...   \n",
       "3           2.700            14    83.629164      9         False  ...   \n",
       "4           3.030            14    32.000000     13         False  ...   \n",
       "\n",
       "   city_сenters_nearest  parks_around3000  parks_nearest  ponds_around3000  \\\n",
       "0               16028.0                 1          482.0                 2   \n",
       "1               18603.0                 0         3190.0                 0   \n",
       "2               13933.0                 1           90.0                 2   \n",
       "3                6800.0                 2           84.0                 3   \n",
       "4                8098.0                 2          112.0                 1   \n",
       "\n",
       "  ponds_nearest  days_exposition  price_per_sqr  week_day  month  year  \n",
       "0         755.0               95  120370.370370         3      3  2019  \n",
       "1        3190.0               81   82920.792079         1     12  2018  \n",
       "2         574.0              558   92785.714286         3      8  2015  \n",
       "3         234.0              424  408176.100629         4      7  2015  \n",
       "4          48.0              121  100000.000000         1      6  2018  \n",
       "\n",
       "[5 rows x 26 columns]"
      ]
     },
     "execution_count": 31,
     "metadata": {},
     "output_type": "execute_result"
    }
   ],
   "source": [
    "data['week_day'] = data['first_day_exposition'].dt.weekday\n",
    "data['month'] = data['first_day_exposition'].dt.month\n",
    "data['year'] = data['first_day_exposition'].dt.year\n",
    "data.head()"
   ]
  },
  {
   "cell_type": "code",
   "execution_count": 32,
   "metadata": {},
   "outputs": [
    {
     "data": {
      "text/plain": [
       "array(['другой', 'первый', 'последний'], dtype=object)"
      ]
     },
     "execution_count": 32,
     "metadata": {},
     "output_type": "execute_result"
    }
   ],
   "source": [
    "def floor_category(row):\n",
    "    if row[6] == row [8]:\n",
    "        return 'последний'\n",
    "    if row[8] == 1:\n",
    "        return 'первый'\n",
    "    return 'другой'\n",
    "\n",
    "data['floor_category']=data.apply(floor_category, axis=1)\n",
    "data['floor_category'].unique()"
   ]
  },
  {
   "cell_type": "code",
   "execution_count": 33,
   "metadata": {},
   "outputs": [],
   "source": [
    "data['living_area_rate'] = data['living_area']/data['total_area']"
   ]
  },
  {
   "cell_type": "code",
   "execution_count": 34,
   "metadata": {},
   "outputs": [
    {
     "data": {
      "text/html": [
       "<div>\n",
       "<style scoped>\n",
       "    .dataframe tbody tr th:only-of-type {\n",
       "        vertical-align: middle;\n",
       "    }\n",
       "\n",
       "    .dataframe tbody tr th {\n",
       "        vertical-align: top;\n",
       "    }\n",
       "\n",
       "    .dataframe thead th {\n",
       "        text-align: right;\n",
       "    }\n",
       "</style>\n",
       "<table border=\"1\" class=\"dataframe\">\n",
       "  <thead>\n",
       "    <tr style=\"text-align: right;\">\n",
       "      <th></th>\n",
       "      <th>total_images</th>\n",
       "      <th>last_price</th>\n",
       "      <th>total_area</th>\n",
       "      <th>first_day_exposition</th>\n",
       "      <th>rooms</th>\n",
       "      <th>ceiling_height</th>\n",
       "      <th>floors_total</th>\n",
       "      <th>living_area</th>\n",
       "      <th>floor</th>\n",
       "      <th>is_apartment</th>\n",
       "      <th>...</th>\n",
       "      <th>ponds_around3000</th>\n",
       "      <th>ponds_nearest</th>\n",
       "      <th>days_exposition</th>\n",
       "      <th>price_per_sqr</th>\n",
       "      <th>week_day</th>\n",
       "      <th>month</th>\n",
       "      <th>year</th>\n",
       "      <th>floor_category</th>\n",
       "      <th>living_area_rate</th>\n",
       "      <th>kitchen_area_rate</th>\n",
       "    </tr>\n",
       "  </thead>\n",
       "  <tbody>\n",
       "    <tr>\n",
       "      <th>0</th>\n",
       "      <td>20</td>\n",
       "      <td>13000000.0</td>\n",
       "      <td>108.0</td>\n",
       "      <td>2019-03-07</td>\n",
       "      <td>3</td>\n",
       "      <td>2.700</td>\n",
       "      <td>16</td>\n",
       "      <td>51.000000</td>\n",
       "      <td>8</td>\n",
       "      <td>False</td>\n",
       "      <td>...</td>\n",
       "      <td>2</td>\n",
       "      <td>755.0</td>\n",
       "      <td>95</td>\n",
       "      <td>120370.370370</td>\n",
       "      <td>3</td>\n",
       "      <td>3</td>\n",
       "      <td>2019</td>\n",
       "      <td>другой</td>\n",
       "      <td>0.472222</td>\n",
       "      <td>0.231481</td>\n",
       "    </tr>\n",
       "    <tr>\n",
       "      <th>1</th>\n",
       "      <td>7</td>\n",
       "      <td>3350000.0</td>\n",
       "      <td>40.4</td>\n",
       "      <td>2018-12-04</td>\n",
       "      <td>1</td>\n",
       "      <td>2.615</td>\n",
       "      <td>11</td>\n",
       "      <td>18.600000</td>\n",
       "      <td>1</td>\n",
       "      <td>False</td>\n",
       "      <td>...</td>\n",
       "      <td>0</td>\n",
       "      <td>3190.0</td>\n",
       "      <td>81</td>\n",
       "      <td>82920.792079</td>\n",
       "      <td>1</td>\n",
       "      <td>12</td>\n",
       "      <td>2018</td>\n",
       "      <td>первый</td>\n",
       "      <td>0.460396</td>\n",
       "      <td>0.272277</td>\n",
       "    </tr>\n",
       "    <tr>\n",
       "      <th>2</th>\n",
       "      <td>10</td>\n",
       "      <td>5196000.0</td>\n",
       "      <td>56.0</td>\n",
       "      <td>2015-08-20</td>\n",
       "      <td>2</td>\n",
       "      <td>2.700</td>\n",
       "      <td>5</td>\n",
       "      <td>34.300000</td>\n",
       "      <td>4</td>\n",
       "      <td>False</td>\n",
       "      <td>...</td>\n",
       "      <td>2</td>\n",
       "      <td>574.0</td>\n",
       "      <td>558</td>\n",
       "      <td>92785.714286</td>\n",
       "      <td>3</td>\n",
       "      <td>8</td>\n",
       "      <td>2015</td>\n",
       "      <td>другой</td>\n",
       "      <td>0.612500</td>\n",
       "      <td>0.148214</td>\n",
       "    </tr>\n",
       "    <tr>\n",
       "      <th>3</th>\n",
       "      <td>0</td>\n",
       "      <td>64900000.0</td>\n",
       "      <td>159.0</td>\n",
       "      <td>2015-07-24</td>\n",
       "      <td>3</td>\n",
       "      <td>2.700</td>\n",
       "      <td>14</td>\n",
       "      <td>83.629164</td>\n",
       "      <td>9</td>\n",
       "      <td>False</td>\n",
       "      <td>...</td>\n",
       "      <td>3</td>\n",
       "      <td>234.0</td>\n",
       "      <td>424</td>\n",
       "      <td>408176.100629</td>\n",
       "      <td>4</td>\n",
       "      <td>7</td>\n",
       "      <td>2015</td>\n",
       "      <td>другой</td>\n",
       "      <td>0.525970</td>\n",
       "      <td>0.158566</td>\n",
       "    </tr>\n",
       "    <tr>\n",
       "      <th>4</th>\n",
       "      <td>2</td>\n",
       "      <td>10000000.0</td>\n",
       "      <td>100.0</td>\n",
       "      <td>2018-06-19</td>\n",
       "      <td>2</td>\n",
       "      <td>3.030</td>\n",
       "      <td>14</td>\n",
       "      <td>32.000000</td>\n",
       "      <td>13</td>\n",
       "      <td>False</td>\n",
       "      <td>...</td>\n",
       "      <td>1</td>\n",
       "      <td>48.0</td>\n",
       "      <td>121</td>\n",
       "      <td>100000.000000</td>\n",
       "      <td>1</td>\n",
       "      <td>6</td>\n",
       "      <td>2018</td>\n",
       "      <td>другой</td>\n",
       "      <td>0.320000</td>\n",
       "      <td>0.410000</td>\n",
       "    </tr>\n",
       "  </tbody>\n",
       "</table>\n",
       "<p>5 rows × 29 columns</p>\n",
       "</div>"
      ],
      "text/plain": [
       "   total_images  last_price  total_area first_day_exposition  rooms  \\\n",
       "0            20  13000000.0       108.0           2019-03-07      3   \n",
       "1             7   3350000.0        40.4           2018-12-04      1   \n",
       "2            10   5196000.0        56.0           2015-08-20      2   \n",
       "3             0  64900000.0       159.0           2015-07-24      3   \n",
       "4             2  10000000.0       100.0           2018-06-19      2   \n",
       "\n",
       "   ceiling_height  floors_total  living_area  floor  is_apartment  ...  \\\n",
       "0           2.700            16    51.000000      8         False  ...   \n",
       "1           2.615            11    18.600000      1         False  ...   \n",
       "2           2.700             5    34.300000      4         False  ...   \n",
       "3           2.700            14    83.629164      9         False  ...   \n",
       "4           3.030            14    32.000000     13         False  ...   \n",
       "\n",
       "   ponds_around3000  ponds_nearest  days_exposition  price_per_sqr week_day  \\\n",
       "0                 2          755.0               95  120370.370370        3   \n",
       "1                 0         3190.0               81   82920.792079        1   \n",
       "2                 2          574.0              558   92785.714286        3   \n",
       "3                 3          234.0              424  408176.100629        4   \n",
       "4                 1           48.0              121  100000.000000        1   \n",
       "\n",
       "   month  year  floor_category  living_area_rate  kitchen_area_rate  \n",
       "0      3  2019          другой          0.472222           0.231481  \n",
       "1     12  2018          первый          0.460396           0.272277  \n",
       "2      8  2015          другой          0.612500           0.148214  \n",
       "3      7  2015          другой          0.525970           0.158566  \n",
       "4      6  2018          другой          0.320000           0.410000  \n",
       "\n",
       "[5 rows x 29 columns]"
      ]
     },
     "execution_count": 34,
     "metadata": {},
     "output_type": "execute_result"
    }
   ],
   "source": [
    "data['kitchen_area_rate'] = data['kitchen_area']/data['total_area']\n",
    "data.head()"
   ]
  },
  {
   "cell_type": "code",
   "execution_count": 35,
   "metadata": {},
   "outputs": [
    {
     "data": {
      "text/html": [
       "<div>\n",
       "<style scoped>\n",
       "    .dataframe tbody tr th:only-of-type {\n",
       "        vertical-align: middle;\n",
       "    }\n",
       "\n",
       "    .dataframe tbody tr th {\n",
       "        vertical-align: top;\n",
       "    }\n",
       "\n",
       "    .dataframe thead th {\n",
       "        text-align: right;\n",
       "    }\n",
       "</style>\n",
       "<table border=\"1\" class=\"dataframe\">\n",
       "  <thead>\n",
       "    <tr style=\"text-align: right;\">\n",
       "      <th></th>\n",
       "      <th>total_images</th>\n",
       "      <th>last_price</th>\n",
       "      <th>total_area</th>\n",
       "      <th>first_day_exposition</th>\n",
       "      <th>rooms</th>\n",
       "      <th>ceiling_height</th>\n",
       "      <th>floors_total</th>\n",
       "      <th>living_area</th>\n",
       "      <th>floor</th>\n",
       "      <th>is_apartment</th>\n",
       "      <th>...</th>\n",
       "      <th>ponds_nearest</th>\n",
       "      <th>days_exposition</th>\n",
       "      <th>price_per_sqr</th>\n",
       "      <th>week_day</th>\n",
       "      <th>month</th>\n",
       "      <th>year</th>\n",
       "      <th>floor_category</th>\n",
       "      <th>living_area_rate</th>\n",
       "      <th>kitchen_area_rate</th>\n",
       "      <th>last_price_thousand</th>\n",
       "    </tr>\n",
       "  </thead>\n",
       "  <tbody>\n",
       "    <tr>\n",
       "      <th>0</th>\n",
       "      <td>20</td>\n",
       "      <td>13000000.0</td>\n",
       "      <td>108.0</td>\n",
       "      <td>2019-03-07</td>\n",
       "      <td>3</td>\n",
       "      <td>2.700</td>\n",
       "      <td>16</td>\n",
       "      <td>51.000000</td>\n",
       "      <td>8</td>\n",
       "      <td>False</td>\n",
       "      <td>...</td>\n",
       "      <td>755.0</td>\n",
       "      <td>95</td>\n",
       "      <td>120370.370370</td>\n",
       "      <td>3</td>\n",
       "      <td>3</td>\n",
       "      <td>2019</td>\n",
       "      <td>другой</td>\n",
       "      <td>0.472222</td>\n",
       "      <td>0.231481</td>\n",
       "      <td>13000.0</td>\n",
       "    </tr>\n",
       "    <tr>\n",
       "      <th>1</th>\n",
       "      <td>7</td>\n",
       "      <td>3350000.0</td>\n",
       "      <td>40.4</td>\n",
       "      <td>2018-12-04</td>\n",
       "      <td>1</td>\n",
       "      <td>2.615</td>\n",
       "      <td>11</td>\n",
       "      <td>18.600000</td>\n",
       "      <td>1</td>\n",
       "      <td>False</td>\n",
       "      <td>...</td>\n",
       "      <td>3190.0</td>\n",
       "      <td>81</td>\n",
       "      <td>82920.792079</td>\n",
       "      <td>1</td>\n",
       "      <td>12</td>\n",
       "      <td>2018</td>\n",
       "      <td>первый</td>\n",
       "      <td>0.460396</td>\n",
       "      <td>0.272277</td>\n",
       "      <td>3350.0</td>\n",
       "    </tr>\n",
       "    <tr>\n",
       "      <th>2</th>\n",
       "      <td>10</td>\n",
       "      <td>5196000.0</td>\n",
       "      <td>56.0</td>\n",
       "      <td>2015-08-20</td>\n",
       "      <td>2</td>\n",
       "      <td>2.700</td>\n",
       "      <td>5</td>\n",
       "      <td>34.300000</td>\n",
       "      <td>4</td>\n",
       "      <td>False</td>\n",
       "      <td>...</td>\n",
       "      <td>574.0</td>\n",
       "      <td>558</td>\n",
       "      <td>92785.714286</td>\n",
       "      <td>3</td>\n",
       "      <td>8</td>\n",
       "      <td>2015</td>\n",
       "      <td>другой</td>\n",
       "      <td>0.612500</td>\n",
       "      <td>0.148214</td>\n",
       "      <td>5196.0</td>\n",
       "    </tr>\n",
       "    <tr>\n",
       "      <th>3</th>\n",
       "      <td>0</td>\n",
       "      <td>64900000.0</td>\n",
       "      <td>159.0</td>\n",
       "      <td>2015-07-24</td>\n",
       "      <td>3</td>\n",
       "      <td>2.700</td>\n",
       "      <td>14</td>\n",
       "      <td>83.629164</td>\n",
       "      <td>9</td>\n",
       "      <td>False</td>\n",
       "      <td>...</td>\n",
       "      <td>234.0</td>\n",
       "      <td>424</td>\n",
       "      <td>408176.100629</td>\n",
       "      <td>4</td>\n",
       "      <td>7</td>\n",
       "      <td>2015</td>\n",
       "      <td>другой</td>\n",
       "      <td>0.525970</td>\n",
       "      <td>0.158566</td>\n",
       "      <td>64900.0</td>\n",
       "    </tr>\n",
       "    <tr>\n",
       "      <th>4</th>\n",
       "      <td>2</td>\n",
       "      <td>10000000.0</td>\n",
       "      <td>100.0</td>\n",
       "      <td>2018-06-19</td>\n",
       "      <td>2</td>\n",
       "      <td>3.030</td>\n",
       "      <td>14</td>\n",
       "      <td>32.000000</td>\n",
       "      <td>13</td>\n",
       "      <td>False</td>\n",
       "      <td>...</td>\n",
       "      <td>48.0</td>\n",
       "      <td>121</td>\n",
       "      <td>100000.000000</td>\n",
       "      <td>1</td>\n",
       "      <td>6</td>\n",
       "      <td>2018</td>\n",
       "      <td>другой</td>\n",
       "      <td>0.320000</td>\n",
       "      <td>0.410000</td>\n",
       "      <td>10000.0</td>\n",
       "    </tr>\n",
       "  </tbody>\n",
       "</table>\n",
       "<p>5 rows × 30 columns</p>\n",
       "</div>"
      ],
      "text/plain": [
       "   total_images  last_price  total_area first_day_exposition  rooms  \\\n",
       "0            20  13000000.0       108.0           2019-03-07      3   \n",
       "1             7   3350000.0        40.4           2018-12-04      1   \n",
       "2            10   5196000.0        56.0           2015-08-20      2   \n",
       "3             0  64900000.0       159.0           2015-07-24      3   \n",
       "4             2  10000000.0       100.0           2018-06-19      2   \n",
       "\n",
       "   ceiling_height  floors_total  living_area  floor  is_apartment  ...  \\\n",
       "0           2.700            16    51.000000      8         False  ...   \n",
       "1           2.615            11    18.600000      1         False  ...   \n",
       "2           2.700             5    34.300000      4         False  ...   \n",
       "3           2.700            14    83.629164      9         False  ...   \n",
       "4           3.030            14    32.000000     13         False  ...   \n",
       "\n",
       "   ponds_nearest  days_exposition  price_per_sqr  week_day month  year  \\\n",
       "0          755.0               95  120370.370370         3     3  2019   \n",
       "1         3190.0               81   82920.792079         1    12  2018   \n",
       "2          574.0              558   92785.714286         3     8  2015   \n",
       "3          234.0              424  408176.100629         4     7  2015   \n",
       "4           48.0              121  100000.000000         1     6  2018   \n",
       "\n",
       "   floor_category  living_area_rate  kitchen_area_rate  last_price_thousand  \n",
       "0          другой          0.472222           0.231481              13000.0  \n",
       "1          первый          0.460396           0.272277               3350.0  \n",
       "2          другой          0.612500           0.148214               5196.0  \n",
       "3          другой          0.525970           0.158566              64900.0  \n",
       "4          другой          0.320000           0.410000              10000.0  \n",
       "\n",
       "[5 rows x 30 columns]"
      ]
     },
     "execution_count": 35,
     "metadata": {},
     "output_type": "execute_result"
    }
   ],
   "source": [
    "data['last_price_thousand']= data['last_price']/1000\n",
    "data.head()"
   ]
  },
  {
   "cell_type": "markdown",
   "metadata": {},
   "source": [
    "переводим данные столбца last_price в тысячи"
   ]
  },
  {
   "cell_type": "markdown",
   "metadata": {},
   "source": [
    "Исходные данные переработаны для дальнейшего использования. Заполнены пропуски данных, удалены данные непригодные для анализа. Рассчитаны требуемые показатели отношения жилой площади и площади кухни к общей площади."
   ]
  },
  {
   "cell_type": "markdown",
   "metadata": {},
   "source": [
    "<div class=\"alert alert-success\">\n",
    "<b>Комментарий ревьюера ✔️:</b> Великолепно, все пункты задания выполнены в полном объёме"
   ]
  },
  {
   "cell_type": "markdown",
   "metadata": {},
   "source": [
    "## Исследовательский анализ данных"
   ]
  },
  {
   "cell_type": "code",
   "execution_count": 36,
   "metadata": {},
   "outputs": [
    {
     "data": {
      "text/plain": [
       "count    23565.000000\n",
       "mean        60.322824\n",
       "std         35.657060\n",
       "min         12.000000\n",
       "25%         40.000000\n",
       "50%         52.000000\n",
       "75%         69.700000\n",
       "max        900.000000\n",
       "Name: total_area, dtype: float64"
      ]
     },
     "execution_count": 36,
     "metadata": {},
     "output_type": "execute_result"
    },
    {
     "data": {
      "image/png": "[encoded data removed]",
      "text/plain": [
       "<Figure size 432x288 with 1 Axes>"
      ]
     },
     "metadata": {
      "needs_background": "light"
     },
     "output_type": "display_data"
    }
   ],
   "source": [
    "data['total_area'].hist(bins=100, range=(0,260))\n",
    "data['total_area'].describe()"
   ]
  },
  {
   "cell_type": "code",
   "execution_count": 37,
   "metadata": {},
   "outputs": [
    {
     "data": {
      "text/plain": [
       "count     23565.000000\n",
       "mean       6540.058260\n",
       "std       10910.934722\n",
       "min          12.190000\n",
       "25%        3400.000000\n",
       "50%        4646.000000\n",
       "75%        6790.000000\n",
       "max      763000.000000\n",
       "Name: last_price_thousand, dtype: float64"
      ]
     },
     "execution_count": 37,
     "metadata": {},
     "output_type": "execute_result"
    },
    {
     "data": {
      "image/png": "[encoded data removed]",
      "text/plain": [
       "<Figure size 432x288 with 1 Axes>"
      ]
     },
     "metadata": {
      "needs_background": "light"
     },
     "output_type": "display_data"
    }
   ],
   "source": [
    "data['last_price_thousand'].hist(bins=25, range=(500, 15000))\n",
    "data['last_price_thousand'].describe()"
   ]
  },
  {
   "cell_type": "code",
   "execution_count": 38,
   "metadata": {},
   "outputs": [
    {
     "data": {
      "text/plain": [
       "count    23565.000000\n",
       "mean         2.070656\n",
       "std          1.078591\n",
       "min          0.000000\n",
       "25%          1.000000\n",
       "50%          2.000000\n",
       "75%          3.000000\n",
       "max         19.000000\n",
       "Name: rooms, dtype: float64"
      ]
     },
     "execution_count": 38,
     "metadata": {},
     "output_type": "execute_result"
    },
    {
     "data": {
      "image/png": "[encoded data removed]",
      "text/plain": [
       "<Figure size 432x288 with 1 Axes>"
      ]
     },
     "metadata": {
      "needs_background": "light"
     },
     "output_type": "display_data"
    }
   ],
   "source": [
    "data['rooms'].hist(bins=10, range = (1,8))\n",
    "data['rooms'].describe()"
   ]
  },
  {
   "cell_type": "code",
   "execution_count": 39,
   "metadata": {},
   "outputs": [
    {
     "data": {
      "text/plain": [
       "count    23565.000000\n",
       "mean         2.733740\n",
       "std          1.012203\n",
       "min          1.000000\n",
       "25%          2.550000\n",
       "50%          2.700000\n",
       "75%          2.700000\n",
       "max        100.000000\n",
       "Name: ceiling_height, dtype: float64"
      ]
     },
     "execution_count": 39,
     "metadata": {},
     "output_type": "execute_result"
    },
    {
     "data": {
      "image/png": "[encoded data removed]",
      "text/plain": [
       "<Figure size 432x288 with 1 Axes>"
      ]
     },
     "metadata": {
      "needs_background": "light"
     },
     "output_type": "display_data"
    }
   ],
   "source": [
    "data['ceiling_height'].hist(bins=10, range=(1.5,5))\n",
    "data['ceiling_height'].describe()"
   ]
  },
  {
   "cell_type": "markdown",
   "metadata": {},
   "source": [
    "<div class=\"alert alert-danger\">\n",
    "<b>Комментарий ревьюера ❌:</b> Здесь все же стоит описать каждую из гистограмм хотя бы в двух словах"
   ]
  },
  {
   "cell_type": "markdown",
   "metadata": {},
   "source": [
    "<div class=\"alert alert-success\">\n",
    "<b>Комментарий ревьюера v 2.0 ✔️:</b> Здорово, так твой проект стал еще лучше!"
   ]
  },
  {
   "cell_type": "markdown",
   "metadata": {},
   "source": [
    "Гистограмма распределения общей площади квартир имеет длинный правый хвост из-за наличия жилых объектов площадью более 400 кв.м (значения более 250 кв.м. единичны) при этом примерное равенство среднего и медианы говорит об малом влиянии больших значений на параметры выборки.</b>\n",
    "\n",
    "Гистограмма распределения стоимости квартир похожа на гистограмму общей площади квартир, поскольку стоимость прямо зависит от площади. В данном случае выборка сдвинута вправо (среднее намного больше медианы) за счет более высокой цены метра некоторых квартир.</b>\n",
    "\n",
    "Гистограмма распределения количества комнат показывает, что самыми распространенными являются квартиры с количеством комнат 1 и 2, чуть меньше в продаже квартир с 3 комнатами. Квартиры с более чем 4 комнатами занимают незначительную часть выборки. Среднее равное медиане говогит о несмещенности выборки</b>\n",
    "\n",
    "Гистограмма распределения высоты потолков говорит о том, что значительная часть потолков в квартирах высотой от 2,2м до 2,9 м. Жилые помещения с высотой потолков более 4,3 м. единичны. Равенство медианы и среднего говорит о несмещенности выборки. \n",
    "\n"
   ]
  },
  {
   "cell_type": "code",
   "execution_count": 40,
   "metadata": {},
   "outputs": [
    {
     "data": {
      "text/plain": [
       "count    23565.000000\n",
       "mean       169.918693\n",
       "std        206.879279\n",
       "min          1.000000\n",
       "25%         45.000000\n",
       "50%         95.000000\n",
       "75%        200.000000\n",
       "max       1580.000000\n",
       "Name: days_exposition, dtype: float64"
      ]
     },
     "execution_count": 40,
     "metadata": {},
     "output_type": "execute_result"
    },
    {
     "data": {
      "image/png": "[encoded data removed]",
      "text/plain": [
       "<Figure size 432x288 with 1 Axes>"
      ]
     },
     "metadata": {
      "needs_background": "light"
     },
     "output_type": "display_data"
    }
   ],
   "source": [
    "data['days_exposition'].hist(bins=100)\n",
    "data['days_exposition'].describe()"
   ]
  },
  {
   "cell_type": "markdown",
   "metadata": {},
   "source": [
    "Среднее время продажи квартиры составляет 170 дней. Медианное время продажи квартиры равно 95 дней. Это говорит о наличии достаточного количества долгих продаж (об этом говорит большое стандартное отклонение). Обычно занимает от 45 до 200 дней. Необычно долгими можно считать продаж более 200+(200-45)*1,5=200+155*1,5= 432 дней."
   ]
  },
  {
   "cell_type": "markdown",
   "metadata": {},
   "source": [
    "<div class=\"alert alert-success\">\n",
    "<b>Комментарий ревьюера ✔️:</b> Отлично, молодец!"
   ]
  },
  {
   "cell_type": "code",
   "execution_count": 41,
   "metadata": {},
   "outputs": [],
   "source": [
    "data['price_per_sqr_thousand']= data['price_per_sqr']/1000"
   ]
  },
  {
   "cell_type": "code",
   "execution_count": 42,
   "metadata": {},
   "outputs": [
    {
     "data": {
      "text/plain": [
       "count    23565.000000\n",
       "mean        99.405837\n",
       "std         50.389433\n",
       "min          0.111835\n",
       "25%         76.566125\n",
       "50%         95.000000\n",
       "75%        114.213198\n",
       "max       1907.500000\n",
       "Name: price_per_sqr_thousand, dtype: float64"
      ]
     },
     "execution_count": 42,
     "metadata": {},
     "output_type": "execute_result"
    }
   ],
   "source": [
    "data['price_per_sqr_thousand'].describe()"
   ]
  },
  {
   "cell_type": "code",
   "execution_count": 43,
   "metadata": {},
   "outputs": [],
   "source": [
    "good_data = data.query('last_price_thousand > 1200 and price_per_sqr_thousand > 20 and 2.5<ceiling_height<=4 and days_exposition <450')"
   ]
  },
  {
   "cell_type": "code",
   "execution_count": 44,
   "metadata": {},
   "outputs": [
    {
     "data": {
      "text/plain": [
       "count    17237.000000\n",
       "mean       104.110232\n",
       "std         51.057095\n",
       "min         20.063694\n",
       "25%         80.793651\n",
       "50%         97.902098\n",
       "75%        117.336152\n",
       "max       1907.500000\n",
       "Name: price_per_sqr_thousand, dtype: float64"
      ]
     },
     "execution_count": 44,
     "metadata": {},
     "output_type": "execute_result"
    }
   ],
   "source": [
    "good_data['price_per_sqr_thousand'].describe()"
   ]
  },
  {
   "cell_type": "code",
   "execution_count": 45,
   "metadata": {},
   "outputs": [
    {
     "name": "stdout",
     "output_type": "stream",
     "text": [
      "<class 'pandas.core.frame.DataFrame'>\n",
      "Int64Index: 17237 entries, 0 to 23696\n",
      "Data columns (total 31 columns):\n",
      " #   Column                  Non-Null Count  Dtype         \n",
      "---  ------                  --------------  -----         \n",
      " 0   total_images            17237 non-null  int64         \n",
      " 1   last_price              17237 non-null  float64       \n",
      " 2   total_area              17237 non-null  float64       \n",
      " 3   first_day_exposition    17237 non-null  datetime64[ns]\n",
      " 4   rooms                   17237 non-null  int64         \n",
      " 5   ceiling_height          17237 non-null  float64       \n",
      " 6   floors_total            17237 non-null  int64         \n",
      " 7   living_area             17237 non-null  float64       \n",
      " 8   floor                   17237 non-null  int64         \n",
      " 9   is_apartment            17237 non-null  bool          \n",
      " 10  studio                  17237 non-null  bool          \n",
      " 11  open_plan               17237 non-null  bool          \n",
      " 12  kitchen_area            17237 non-null  float64       \n",
      " 13  balcony                 17237 non-null  int64         \n",
      " 14  locality_name           17237 non-null  object        \n",
      " 15  airports_nearest        17237 non-null  float64       \n",
      " 16  city_сenters_nearest    17237 non-null  float64       \n",
      " 17  parks_around3000        17237 non-null  int64         \n",
      " 18  parks_nearest           17237 non-null  float64       \n",
      " 19  ponds_around3000        17237 non-null  int64         \n",
      " 20  ponds_nearest           17237 non-null  float64       \n",
      " 21  days_exposition         17237 non-null  int64         \n",
      " 22  price_per_sqr           17237 non-null  float64       \n",
      " 23  week_day                17237 non-null  int64         \n",
      " 24  month                   17237 non-null  int64         \n",
      " 25  year                    17237 non-null  int64         \n",
      " 26  floor_category          17237 non-null  object        \n",
      " 27  living_area_rate        17237 non-null  float64       \n",
      " 28  kitchen_area_rate       17237 non-null  float64       \n",
      " 29  last_price_thousand     17237 non-null  float64       \n",
      " 30  price_per_sqr_thousand  17237 non-null  float64       \n",
      "dtypes: bool(3), datetime64[ns](1), float64(14), int64(11), object(2)\n",
      "memory usage: 3.9+ MB\n"
     ]
    }
   ],
   "source": [
    "good_data.info()"
   ]
  },
  {
   "cell_type": "code",
   "execution_count": 46,
   "metadata": {},
   "outputs": [
    {
     "data": {
      "text/html": [
       "<div>\n",
       "<style scoped>\n",
       "    .dataframe tbody tr th:only-of-type {\n",
       "        vertical-align: middle;\n",
       "    }\n",
       "\n",
       "    .dataframe tbody tr th {\n",
       "        vertical-align: top;\n",
       "    }\n",
       "\n",
       "    .dataframe thead th {\n",
       "        text-align: right;\n",
       "    }\n",
       "</style>\n",
       "<table border=\"1\" class=\"dataframe\">\n",
       "  <thead>\n",
       "    <tr style=\"text-align: right;\">\n",
       "      <th></th>\n",
       "      <th>total_images</th>\n",
       "      <th>last_price</th>\n",
       "      <th>total_area</th>\n",
       "      <th>rooms</th>\n",
       "      <th>ceiling_height</th>\n",
       "      <th>floors_total</th>\n",
       "      <th>living_area</th>\n",
       "      <th>floor</th>\n",
       "      <th>kitchen_area</th>\n",
       "      <th>balcony</th>\n",
       "      <th>...</th>\n",
       "      <th>ponds_nearest</th>\n",
       "      <th>days_exposition</th>\n",
       "      <th>price_per_sqr</th>\n",
       "      <th>week_day</th>\n",
       "      <th>month</th>\n",
       "      <th>year</th>\n",
       "      <th>living_area_rate</th>\n",
       "      <th>kitchen_area_rate</th>\n",
       "      <th>last_price_thousand</th>\n",
       "      <th>price_per_sqr_thousand</th>\n",
       "    </tr>\n",
       "  </thead>\n",
       "  <tbody>\n",
       "    <tr>\n",
       "      <th>count</th>\n",
       "      <td>23565.000000</td>\n",
       "      <td>2.356500e+04</td>\n",
       "      <td>23565.000000</td>\n",
       "      <td>23565.000000</td>\n",
       "      <td>23565.000000</td>\n",
       "      <td>23565.000000</td>\n",
       "      <td>23565.000000</td>\n",
       "      <td>23565.000000</td>\n",
       "      <td>23565.000000</td>\n",
       "      <td>23565.000000</td>\n",
       "      <td>...</td>\n",
       "      <td>23565.000000</td>\n",
       "      <td>23565.000000</td>\n",
       "      <td>2.356500e+04</td>\n",
       "      <td>23565.000000</td>\n",
       "      <td>23565.000000</td>\n",
       "      <td>23565.000000</td>\n",
       "      <td>23565.000000</td>\n",
       "      <td>23565.000000</td>\n",
       "      <td>23565.000000</td>\n",
       "      <td>23565.000000</td>\n",
       "    </tr>\n",
       "    <tr>\n",
       "      <th>mean</th>\n",
       "      <td>9.878421</td>\n",
       "      <td>6.540058e+06</td>\n",
       "      <td>60.322824</td>\n",
       "      <td>2.070656</td>\n",
       "      <td>2.733740</td>\n",
       "      <td>10.675875</td>\n",
       "      <td>34.365588</td>\n",
       "      <td>5.878124</td>\n",
       "      <td>10.411760</td>\n",
       "      <td>0.593677</td>\n",
       "      <td>...</td>\n",
       "      <td>2165.532527</td>\n",
       "      <td>169.918693</td>\n",
       "      <td>9.940584e+04</td>\n",
       "      <td>2.567367</td>\n",
       "      <td>6.401570</td>\n",
       "      <td>2017.371016</td>\n",
       "      <td>0.561853</td>\n",
       "      <td>0.184627</td>\n",
       "      <td>6540.058260</td>\n",
       "      <td>99.405837</td>\n",
       "    </tr>\n",
       "    <tr>\n",
       "      <th>std</th>\n",
       "      <td>5.681156</td>\n",
       "      <td>1.091093e+07</td>\n",
       "      <td>35.657060</td>\n",
       "      <td>1.078591</td>\n",
       "      <td>1.012203</td>\n",
       "      <td>6.594823</td>\n",
       "      <td>22.190610</td>\n",
       "      <td>4.871485</td>\n",
       "      <td>5.979533</td>\n",
       "      <td>0.960660</td>\n",
       "      <td>...</td>\n",
       "      <td>1310.440031</td>\n",
       "      <td>206.879279</td>\n",
       "      <td>5.038943e+04</td>\n",
       "      <td>1.788279</td>\n",
       "      <td>3.492948</td>\n",
       "      <td>1.037393</td>\n",
       "      <td>0.101603</td>\n",
       "      <td>0.069960</td>\n",
       "      <td>10910.934722</td>\n",
       "      <td>50.389433</td>\n",
       "    </tr>\n",
       "    <tr>\n",
       "      <th>min</th>\n",
       "      <td>0.000000</td>\n",
       "      <td>1.219000e+04</td>\n",
       "      <td>12.000000</td>\n",
       "      <td>0.000000</td>\n",
       "      <td>1.000000</td>\n",
       "      <td>1.000000</td>\n",
       "      <td>2.000000</td>\n",
       "      <td>1.000000</td>\n",
       "      <td>1.300000</td>\n",
       "      <td>0.000000</td>\n",
       "      <td>...</td>\n",
       "      <td>13.000000</td>\n",
       "      <td>1.000000</td>\n",
       "      <td>1.118349e+02</td>\n",
       "      <td>0.000000</td>\n",
       "      <td>1.000000</td>\n",
       "      <td>2014.000000</td>\n",
       "      <td>0.021583</td>\n",
       "      <td>0.025381</td>\n",
       "      <td>12.190000</td>\n",
       "      <td>0.111835</td>\n",
       "    </tr>\n",
       "    <tr>\n",
       "      <th>25%</th>\n",
       "      <td>6.000000</td>\n",
       "      <td>3.400000e+06</td>\n",
       "      <td>40.000000</td>\n",
       "      <td>1.000000</td>\n",
       "      <td>2.550000</td>\n",
       "      <td>5.000000</td>\n",
       "      <td>18.934905</td>\n",
       "      <td>2.000000</td>\n",
       "      <td>7.000000</td>\n",
       "      <td>0.000000</td>\n",
       "      <td>...</td>\n",
       "      <td>639.000000</td>\n",
       "      <td>45.000000</td>\n",
       "      <td>7.656613e+04</td>\n",
       "      <td>1.000000</td>\n",
       "      <td>3.000000</td>\n",
       "      <td>2017.000000</td>\n",
       "      <td>0.500000</td>\n",
       "      <td>0.136738</td>\n",
       "      <td>3400.000000</td>\n",
       "      <td>76.566125</td>\n",
       "    </tr>\n",
       "    <tr>\n",
       "      <th>50%</th>\n",
       "      <td>9.000000</td>\n",
       "      <td>4.646000e+06</td>\n",
       "      <td>52.000000</td>\n",
       "      <td>2.000000</td>\n",
       "      <td>2.700000</td>\n",
       "      <td>9.000000</td>\n",
       "      <td>30.000000</td>\n",
       "      <td>4.000000</td>\n",
       "      <td>9.000000</td>\n",
       "      <td>0.000000</td>\n",
       "      <td>...</td>\n",
       "      <td>3190.000000</td>\n",
       "      <td>95.000000</td>\n",
       "      <td>9.500000e+04</td>\n",
       "      <td>3.000000</td>\n",
       "      <td>6.000000</td>\n",
       "      <td>2017.000000</td>\n",
       "      <td>0.557461</td>\n",
       "      <td>0.162162</td>\n",
       "      <td>4646.000000</td>\n",
       "      <td>95.000000</td>\n",
       "    </tr>\n",
       "    <tr>\n",
       "      <th>75%</th>\n",
       "      <td>14.000000</td>\n",
       "      <td>6.790000e+06</td>\n",
       "      <td>69.700000</td>\n",
       "      <td>3.000000</td>\n",
       "      <td>2.700000</td>\n",
       "      <td>16.000000</td>\n",
       "      <td>42.000000</td>\n",
       "      <td>8.000000</td>\n",
       "      <td>11.900000</td>\n",
       "      <td>1.000000</td>\n",
       "      <td>...</td>\n",
       "      <td>3190.000000</td>\n",
       "      <td>200.000000</td>\n",
       "      <td>1.142132e+05</td>\n",
       "      <td>4.000000</td>\n",
       "      <td>10.000000</td>\n",
       "      <td>2018.000000</td>\n",
       "      <td>0.631732</td>\n",
       "      <td>0.223881</td>\n",
       "      <td>6790.000000</td>\n",
       "      <td>114.213198</td>\n",
       "    </tr>\n",
       "    <tr>\n",
       "      <th>max</th>\n",
       "      <td>50.000000</td>\n",
       "      <td>7.630000e+08</td>\n",
       "      <td>900.000000</td>\n",
       "      <td>19.000000</td>\n",
       "      <td>100.000000</td>\n",
       "      <td>60.000000</td>\n",
       "      <td>409.700000</td>\n",
       "      <td>33.000000</td>\n",
       "      <td>112.000000</td>\n",
       "      <td>5.000000</td>\n",
       "      <td>...</td>\n",
       "      <td>3190.000000</td>\n",
       "      <td>1580.000000</td>\n",
       "      <td>1.907500e+06</td>\n",
       "      <td>6.000000</td>\n",
       "      <td>12.000000</td>\n",
       "      <td>2019.000000</td>\n",
       "      <td>1.000000</td>\n",
       "      <td>0.787879</td>\n",
       "      <td>763000.000000</td>\n",
       "      <td>1907.500000</td>\n",
       "    </tr>\n",
       "  </tbody>\n",
       "</table>\n",
       "<p>8 rows × 25 columns</p>\n",
       "</div>"
      ],
      "text/plain": [
       "       total_images    last_price    total_area         rooms  ceiling_height  \\\n",
       "count  23565.000000  2.356500e+04  23565.000000  23565.000000    23565.000000   \n",
       "mean       9.878421  6.540058e+06     60.322824      2.070656        2.733740   \n",
       "std        5.681156  1.091093e+07     35.657060      1.078591        1.012203   \n",
       "min        0.000000  1.219000e+04     12.000000      0.000000        1.000000   \n",
       "25%        6.000000  3.400000e+06     40.000000      1.000000        2.550000   \n",
       "50%        9.000000  4.646000e+06     52.000000      2.000000        2.700000   \n",
       "75%       14.000000  6.790000e+06     69.700000      3.000000        2.700000   \n",
       "max       50.000000  7.630000e+08    900.000000     19.000000      100.000000   \n",
       "\n",
       "       floors_total   living_area         floor  kitchen_area       balcony  \\\n",
       "count  23565.000000  23565.000000  23565.000000  23565.000000  23565.000000   \n",
       "mean      10.675875     34.365588      5.878124     10.411760      0.593677   \n",
       "std        6.594823     22.190610      4.871485      5.979533      0.960660   \n",
       "min        1.000000      2.000000      1.000000      1.300000      0.000000   \n",
       "25%        5.000000     18.934905      2.000000      7.000000      0.000000   \n",
       "50%        9.000000     30.000000      4.000000      9.000000      0.000000   \n",
       "75%       16.000000     42.000000      8.000000     11.900000      1.000000   \n",
       "max       60.000000    409.700000     33.000000    112.000000      5.000000   \n",
       "\n",
       "       ...  ponds_nearest  days_exposition  price_per_sqr      week_day  \\\n",
       "count  ...   23565.000000     23565.000000   2.356500e+04  23565.000000   \n",
       "mean   ...    2165.532527       169.918693   9.940584e+04      2.567367   \n",
       "std    ...    1310.440031       206.879279   5.038943e+04      1.788279   \n",
       "min    ...      13.000000         1.000000   1.118349e+02      0.000000   \n",
       "25%    ...     639.000000        45.000000   7.656613e+04      1.000000   \n",
       "50%    ...    3190.000000        95.000000   9.500000e+04      3.000000   \n",
       "75%    ...    3190.000000       200.000000   1.142132e+05      4.000000   \n",
       "max    ...    3190.000000      1580.000000   1.907500e+06      6.000000   \n",
       "\n",
       "              month          year  living_area_rate  kitchen_area_rate  \\\n",
       "count  23565.000000  23565.000000      23565.000000       23565.000000   \n",
       "mean       6.401570   2017.371016          0.561853           0.184627   \n",
       "std        3.492948      1.037393          0.101603           0.069960   \n",
       "min        1.000000   2014.000000          0.021583           0.025381   \n",
       "25%        3.000000   2017.000000          0.500000           0.136738   \n",
       "50%        6.000000   2017.000000          0.557461           0.162162   \n",
       "75%       10.000000   2018.000000          0.631732           0.223881   \n",
       "max       12.000000   2019.000000          1.000000           0.787879   \n",
       "\n",
       "       last_price_thousand  price_per_sqr_thousand  \n",
       "count         23565.000000            23565.000000  \n",
       "mean           6540.058260               99.405837  \n",
       "std           10910.934722               50.389433  \n",
       "min              12.190000                0.111835  \n",
       "25%            3400.000000               76.566125  \n",
       "50%            4646.000000               95.000000  \n",
       "75%            6790.000000              114.213198  \n",
       "max          763000.000000             1907.500000  \n",
       "\n",
       "[8 rows x 25 columns]"
      ]
     },
     "execution_count": 46,
     "metadata": {},
     "output_type": "execute_result"
    }
   ],
   "source": [
    "data.describe()"
   ]
  },
  {
   "cell_type": "code",
   "execution_count": 47,
   "metadata": {},
   "outputs": [
    {
     "data": {
      "text/html": [
       "<div>\n",
       "<style scoped>\n",
       "    .dataframe tbody tr th:only-of-type {\n",
       "        vertical-align: middle;\n",
       "    }\n",
       "\n",
       "    .dataframe tbody tr th {\n",
       "        vertical-align: top;\n",
       "    }\n",
       "\n",
       "    .dataframe thead th {\n",
       "        text-align: right;\n",
       "    }\n",
       "</style>\n",
       "<table border=\"1\" class=\"dataframe\">\n",
       "  <thead>\n",
       "    <tr style=\"text-align: right;\">\n",
       "      <th></th>\n",
       "      <th>total_images</th>\n",
       "      <th>last_price</th>\n",
       "      <th>total_area</th>\n",
       "      <th>rooms</th>\n",
       "      <th>ceiling_height</th>\n",
       "      <th>floors_total</th>\n",
       "      <th>living_area</th>\n",
       "      <th>floor</th>\n",
       "      <th>kitchen_area</th>\n",
       "      <th>balcony</th>\n",
       "      <th>...</th>\n",
       "      <th>ponds_nearest</th>\n",
       "      <th>days_exposition</th>\n",
       "      <th>price_per_sqr</th>\n",
       "      <th>week_day</th>\n",
       "      <th>month</th>\n",
       "      <th>year</th>\n",
       "      <th>living_area_rate</th>\n",
       "      <th>kitchen_area_rate</th>\n",
       "      <th>last_price_thousand</th>\n",
       "      <th>price_per_sqr_thousand</th>\n",
       "    </tr>\n",
       "  </thead>\n",
       "  <tbody>\n",
       "    <tr>\n",
       "      <th>count</th>\n",
       "      <td>17237.000000</td>\n",
       "      <td>1.723700e+04</td>\n",
       "      <td>17237.000000</td>\n",
       "      <td>17237.000000</td>\n",
       "      <td>17237.000000</td>\n",
       "      <td>17237.000000</td>\n",
       "      <td>17237.000000</td>\n",
       "      <td>17237.000000</td>\n",
       "      <td>17237.000000</td>\n",
       "      <td>17237.000000</td>\n",
       "      <td>...</td>\n",
       "      <td>17237.000000</td>\n",
       "      <td>17237.000000</td>\n",
       "      <td>1.723700e+04</td>\n",
       "      <td>17237.000000</td>\n",
       "      <td>17237.000000</td>\n",
       "      <td>17237.000000</td>\n",
       "      <td>17237.000000</td>\n",
       "      <td>17237.000000</td>\n",
       "      <td>17237.000000</td>\n",
       "      <td>17237.000000</td>\n",
       "    </tr>\n",
       "    <tr>\n",
       "      <th>mean</th>\n",
       "      <td>10.030748</td>\n",
       "      <td>6.966355e+06</td>\n",
       "      <td>61.802543</td>\n",
       "      <td>2.053722</td>\n",
       "      <td>2.740531</td>\n",
       "      <td>11.541916</td>\n",
       "      <td>34.765997</td>\n",
       "      <td>6.306898</td>\n",
       "      <td>10.903848</td>\n",
       "      <td>0.614724</td>\n",
       "      <td>...</td>\n",
       "      <td>2099.807797</td>\n",
       "      <td>118.433080</td>\n",
       "      <td>1.041102e+05</td>\n",
       "      <td>2.580147</td>\n",
       "      <td>6.420491</td>\n",
       "      <td>2017.475663</td>\n",
       "      <td>0.553183</td>\n",
       "      <td>0.189934</td>\n",
       "      <td>6966.355134</td>\n",
       "      <td>104.110232</td>\n",
       "    </tr>\n",
       "    <tr>\n",
       "      <th>std</th>\n",
       "      <td>5.752484</td>\n",
       "      <td>1.164384e+07</td>\n",
       "      <td>36.730739</td>\n",
       "      <td>1.094837</td>\n",
       "      <td>0.199033</td>\n",
       "      <td>6.879972</td>\n",
       "      <td>22.832308</td>\n",
       "      <td>5.142969</td>\n",
       "      <td>6.083315</td>\n",
       "      <td>0.983986</td>\n",
       "      <td>...</td>\n",
       "      <td>1325.117385</td>\n",
       "      <td>102.835712</td>\n",
       "      <td>5.105710e+04</td>\n",
       "      <td>1.791210</td>\n",
       "      <td>3.483811</td>\n",
       "      <td>0.918627</td>\n",
       "      <td>0.102482</td>\n",
       "      <td>0.071790</td>\n",
       "      <td>11643.842112</td>\n",
       "      <td>51.057095</td>\n",
       "    </tr>\n",
       "    <tr>\n",
       "      <th>min</th>\n",
       "      <td>0.000000</td>\n",
       "      <td>1.220000e+06</td>\n",
       "      <td>12.000000</td>\n",
       "      <td>0.000000</td>\n",
       "      <td>2.510000</td>\n",
       "      <td>1.000000</td>\n",
       "      <td>2.000000</td>\n",
       "      <td>1.000000</td>\n",
       "      <td>1.300000</td>\n",
       "      <td>0.000000</td>\n",
       "      <td>...</td>\n",
       "      <td>13.000000</td>\n",
       "      <td>2.000000</td>\n",
       "      <td>2.006369e+04</td>\n",
       "      <td>0.000000</td>\n",
       "      <td>1.000000</td>\n",
       "      <td>2014.000000</td>\n",
       "      <td>0.021583</td>\n",
       "      <td>0.025381</td>\n",
       "      <td>1220.000000</td>\n",
       "      <td>20.063694</td>\n",
       "    </tr>\n",
       "    <tr>\n",
       "      <th>25%</th>\n",
       "      <td>6.000000</td>\n",
       "      <td>3.650000e+06</td>\n",
       "      <td>40.100000</td>\n",
       "      <td>1.000000</td>\n",
       "      <td>2.640000</td>\n",
       "      <td>5.000000</td>\n",
       "      <td>18.900000</td>\n",
       "      <td>3.000000</td>\n",
       "      <td>7.500000</td>\n",
       "      <td>0.000000</td>\n",
       "      <td>...</td>\n",
       "      <td>594.000000</td>\n",
       "      <td>45.000000</td>\n",
       "      <td>8.079365e+04</td>\n",
       "      <td>1.000000</td>\n",
       "      <td>3.000000</td>\n",
       "      <td>2017.000000</td>\n",
       "      <td>0.489617</td>\n",
       "      <td>0.141509</td>\n",
       "      <td>3650.000000</td>\n",
       "      <td>80.793651</td>\n",
       "    </tr>\n",
       "    <tr>\n",
       "      <th>50%</th>\n",
       "      <td>10.000000</td>\n",
       "      <td>4.950000e+06</td>\n",
       "      <td>53.400000</td>\n",
       "      <td>2.000000</td>\n",
       "      <td>2.700000</td>\n",
       "      <td>9.000000</td>\n",
       "      <td>30.000000</td>\n",
       "      <td>5.000000</td>\n",
       "      <td>10.000000</td>\n",
       "      <td>0.000000</td>\n",
       "      <td>...</td>\n",
       "      <td>3190.000000</td>\n",
       "      <td>95.000000</td>\n",
       "      <td>9.790210e+04</td>\n",
       "      <td>3.000000</td>\n",
       "      <td>6.000000</td>\n",
       "      <td>2018.000000</td>\n",
       "      <td>0.546875</td>\n",
       "      <td>0.167939</td>\n",
       "      <td>4950.000000</td>\n",
       "      <td>97.902098</td>\n",
       "    </tr>\n",
       "    <tr>\n",
       "      <th>75%</th>\n",
       "      <td>14.000000</td>\n",
       "      <td>7.265000e+06</td>\n",
       "      <td>72.000000</td>\n",
       "      <td>3.000000</td>\n",
       "      <td>2.750000</td>\n",
       "      <td>16.000000</td>\n",
       "      <td>42.800000</td>\n",
       "      <td>9.000000</td>\n",
       "      <td>12.051046</td>\n",
       "      <td>1.000000</td>\n",
       "      <td>...</td>\n",
       "      <td>3190.000000</td>\n",
       "      <td>157.000000</td>\n",
       "      <td>1.173362e+05</td>\n",
       "      <td>4.000000</td>\n",
       "      <td>10.000000</td>\n",
       "      <td>2018.000000</td>\n",
       "      <td>0.622222</td>\n",
       "      <td>0.233333</td>\n",
       "      <td>7265.000000</td>\n",
       "      <td>117.336152</td>\n",
       "    </tr>\n",
       "    <tr>\n",
       "      <th>max</th>\n",
       "      <td>50.000000</td>\n",
       "      <td>7.630000e+08</td>\n",
       "      <td>900.000000</td>\n",
       "      <td>19.000000</td>\n",
       "      <td>4.000000</td>\n",
       "      <td>60.000000</td>\n",
       "      <td>409.700000</td>\n",
       "      <td>33.000000</td>\n",
       "      <td>112.000000</td>\n",
       "      <td>5.000000</td>\n",
       "      <td>...</td>\n",
       "      <td>3190.000000</td>\n",
       "      <td>449.000000</td>\n",
       "      <td>1.907500e+06</td>\n",
       "      <td>6.000000</td>\n",
       "      <td>12.000000</td>\n",
       "      <td>2019.000000</td>\n",
       "      <td>1.000000</td>\n",
       "      <td>0.787879</td>\n",
       "      <td>763000.000000</td>\n",
       "      <td>1907.500000</td>\n",
       "    </tr>\n",
       "  </tbody>\n",
       "</table>\n",
       "<p>8 rows × 25 columns</p>\n",
       "</div>"
      ],
      "text/plain": [
       "       total_images    last_price    total_area         rooms  ceiling_height  \\\n",
       "count  17237.000000  1.723700e+04  17237.000000  17237.000000    17237.000000   \n",
       "mean      10.030748  6.966355e+06     61.802543      2.053722        2.740531   \n",
       "std        5.752484  1.164384e+07     36.730739      1.094837        0.199033   \n",
       "min        0.000000  1.220000e+06     12.000000      0.000000        2.510000   \n",
       "25%        6.000000  3.650000e+06     40.100000      1.000000        2.640000   \n",
       "50%       10.000000  4.950000e+06     53.400000      2.000000        2.700000   \n",
       "75%       14.000000  7.265000e+06     72.000000      3.000000        2.750000   \n",
       "max       50.000000  7.630000e+08    900.000000     19.000000        4.000000   \n",
       "\n",
       "       floors_total   living_area         floor  kitchen_area       balcony  \\\n",
       "count  17237.000000  17237.000000  17237.000000  17237.000000  17237.000000   \n",
       "mean      11.541916     34.765997      6.306898     10.903848      0.614724   \n",
       "std        6.879972     22.832308      5.142969      6.083315      0.983986   \n",
       "min        1.000000      2.000000      1.000000      1.300000      0.000000   \n",
       "25%        5.000000     18.900000      3.000000      7.500000      0.000000   \n",
       "50%        9.000000     30.000000      5.000000     10.000000      0.000000   \n",
       "75%       16.000000     42.800000      9.000000     12.051046      1.000000   \n",
       "max       60.000000    409.700000     33.000000    112.000000      5.000000   \n",
       "\n",
       "       ...  ponds_nearest  days_exposition  price_per_sqr      week_day  \\\n",
       "count  ...   17237.000000     17237.000000   1.723700e+04  17237.000000   \n",
       "mean   ...    2099.807797       118.433080   1.041102e+05      2.580147   \n",
       "std    ...    1325.117385       102.835712   5.105710e+04      1.791210   \n",
       "min    ...      13.000000         2.000000   2.006369e+04      0.000000   \n",
       "25%    ...     594.000000        45.000000   8.079365e+04      1.000000   \n",
       "50%    ...    3190.000000        95.000000   9.790210e+04      3.000000   \n",
       "75%    ...    3190.000000       157.000000   1.173362e+05      4.000000   \n",
       "max    ...    3190.000000       449.000000   1.907500e+06      6.000000   \n",
       "\n",
       "              month          year  living_area_rate  kitchen_area_rate  \\\n",
       "count  17237.000000  17237.000000      17237.000000       17237.000000   \n",
       "mean       6.420491   2017.475663          0.553183           0.189934   \n",
       "std        3.483811      0.918627          0.102482           0.071790   \n",
       "min        1.000000   2014.000000          0.021583           0.025381   \n",
       "25%        3.000000   2017.000000          0.489617           0.141509   \n",
       "50%        6.000000   2018.000000          0.546875           0.167939   \n",
       "75%       10.000000   2018.000000          0.622222           0.233333   \n",
       "max       12.000000   2019.000000          1.000000           0.787879   \n",
       "\n",
       "       last_price_thousand  price_per_sqr_thousand  \n",
       "count         17237.000000            17237.000000  \n",
       "mean           6966.355134              104.110232  \n",
       "std           11643.842112               51.057095  \n",
       "min            1220.000000               20.063694  \n",
       "25%            3650.000000               80.793651  \n",
       "50%            4950.000000               97.902098  \n",
       "75%            7265.000000              117.336152  \n",
       "max          763000.000000             1907.500000  \n",
       "\n",
       "[8 rows x 25 columns]"
      ]
     },
     "execution_count": 47,
     "metadata": {},
     "output_type": "execute_result"
    }
   ],
   "source": [
    "good_data.describe()"
   ]
  },
  {
   "cell_type": "markdown",
   "metadata": {},
   "source": [
    "Уберем из исходных данных объявления с ценой продажи менее 1200 тыс.,(при минимальной площади 12 кв.м и средней ценой за 1 кв.м 99.4 тыс. с высотой потолков менее 2 метров и более 4 метров, со временем продажи более 450 дней, с ценой за квадратный метр менее 20 тыс. 76.566-(114.2131 - 76.566)*1.5 = 20.0953 тыс. (граница за которой остаются выбросы).</b>\n",
    "\n",
    "Выборка до фильтрации составляла 23 565 записей. После фильтрации по выбранным параметрам число записей сократилось до 17 237 шт., т.е на 27 %.\n",
    "\n",
    "Рассматриваемые параметры (медианные общая площадь, стоимость, количество комнат, высота потолков)  в отфильтрованной выборке по сранению с исходной не претерпели сильных изменений.\n"
   ]
  },
  {
   "cell_type": "markdown",
   "metadata": {},
   "source": [
    "<div class=\"alert alert-success\">\n",
    "<b>Комментарий ревьюера ✔️:</b> Хорошие параметры для фильтрации"
   ]
  },
  {
   "cell_type": "markdown",
   "metadata": {},
   "source": [
    "<div class=\"alert alert-danger\">\n",
    "<b>Комментарий ревьюера ❌:</b> Анализ \"редких и выбивающихся\" значений стоит дополнить сравнением изначального и фильтрованного датасетов по объёму и статистическим характеристикам. Вдруг измененный датасет стал слишком неузнаваемым относительно изначального и мы это не заметили, это стало бы большой неприятностью в дальнейшем анализе"
   ]
  },
  {
   "cell_type": "markdown",
   "metadata": {},
   "source": [
    "<div class=\"alert alert-success\">\n",
    "<b>Комментарий ревьюера v 2.0 ✔️:</b> Отличное дополнение, молодец!"
   ]
  },
  {
   "cell_type": "code",
   "execution_count": 48,
   "metadata": {},
   "outputs": [
    {
     "data": {
      "text/plain": [
       "20.09535000000001"
      ]
     },
     "execution_count": 48,
     "metadata": {},
     "output_type": "execute_result"
    }
   ],
   "source": [
    "76.566-(114.2131 - 76.566)*1.5"
   ]
  },
  {
   "cell_type": "code",
   "execution_count": 49,
   "metadata": {},
   "outputs": [
    {
     "name": "stdout",
     "output_type": "stream",
     "text": [
      "0.28373618867868305\n"
     ]
    },
    {
     "data": {
      "text/plain": [
       "<AxesSubplot:xlabel='total_area', ylabel='price_per_sqr'>"
      ]
     },
     "execution_count": 49,
     "metadata": {},
     "output_type": "execute_result"
    },
    {
     "data": {
      "image/png": "[encoded data removed]",
      "text/plain": [
       "<Figure size 432x288 with 1 Axes>"
      ]
     },
     "metadata": {
      "needs_background": "light"
     },
     "output_type": "display_data"
    }
   ],
   "source": [
    "print(good_data['price_per_sqr'].corr(good_data['total_area']))\n",
    "good_data.plot(kind='scatter', x='total_area', y='price_per_sqr')"
   ]
  },
  {
   "cell_type": "markdown",
   "metadata": {},
   "source": [
    "<div class=\"alert alert-danger\">\n",
    "<b>Комментарий ревьюера ❌:</b> Корреляция Пирсона может указать только на наличие\\отсутствие линейной зависимости, а она может быть и нелинейной. Пожалуйста дополни анализ в этом разделе"
   ]
  },
  {
   "cell_type": "markdown",
   "metadata": {},
   "source": [
    "<div class=\"alert alert-success\">\n",
    "<b>Комментарий ревьюера v 2.0 ✔️:</b> Очень хорошо, что внес такие дополнения, но все же нелинейную зависимость лучше исследовать отдельно, диаграмма рассеяния например здорово справится с этой задачей"
   ]
  },
  {
   "cell_type": "markdown",
   "metadata": {},
   "source": [
    "<div class=\"alert alert-info\"> <b>Комментарий студента V2.0:</b> Построенны и проанализированы формы графиков рассеяния исследуемых величин.</div>"
   ]
  },
  {
   "cell_type": "markdown",
   "metadata": {},
   "source": [
    "<div class=\"alert alert-success\">\n",
    "<b>Комментарий ревьюера v 3.0 ✔️:</b> Великолепно, молодец!"
   ]
  },
  {
   "cell_type": "markdown",
   "metadata": {},
   "source": [
    "Слабая линейная корреляция между стоимостью квадратного метра и площадью квартиры. График рассеяния величин большу похож на колокол, то есть может быть лучше описан обратной параболической функцией."
   ]
  },
  {
   "cell_type": "code",
   "execution_count": 50,
   "metadata": {},
   "outputs": [
    {
     "name": "stdout",
     "output_type": "stream",
     "text": [
      "0.06162387617483261\n"
     ]
    },
    {
     "data": {
      "text/plain": [
       "<AxesSubplot:xlabel='rooms', ylabel='price_per_sqr'>"
      ]
     },
     "execution_count": 50,
     "metadata": {},
     "output_type": "execute_result"
    },
    {
     "data": {
      "image/png": "[encoded data removed]",
      "text/plain": [
       "<Figure size 432x288 with 1 Axes>"
      ]
     },
     "metadata": {
      "needs_background": "light"
     },
     "output_type": "display_data"
    }
   ],
   "source": [
    "print(good_data['price_per_sqr'].corr(good_data['rooms']))\n",
    "good_data.plot(kind='scatter', x='rooms', y='price_per_sqr')"
   ]
  },
  {
   "cell_type": "markdown",
   "metadata": {},
   "source": [
    "Нет линейной корреляции между стоимостью квадратного метра и количеством комнат. График рассеяния величин похож на колокол, то есть может быть описан обратной параболической функцией."
   ]
  },
  {
   "cell_type": "code",
   "execution_count": 51,
   "metadata": {},
   "outputs": [
    {
     "name": "stdout",
     "output_type": "stream",
     "text": [
      "-0.41473853433348173\n"
     ]
    },
    {
     "data": {
      "text/plain": [
       "<AxesSubplot:xlabel='price_per_sqr', ylabel='city_сenters_nearest'>"
      ]
     },
     "execution_count": 51,
     "metadata": {},
     "output_type": "execute_result"
    },
    {
     "data": {
      "image/png": "[encoded data removed]",
      "text/plain": [
       "<Figure size 432x288 with 1 Axes>"
      ]
     },
     "metadata": {
      "needs_background": "light"
     },
     "output_type": "display_data"
    }
   ],
   "source": [
    "print(good_data['price_per_sqr'].corr(good_data['city_сenters_nearest']))\n",
    "good_data.plot(kind='scatter', x='price_per_sqr', y='city_сenters_nearest')"
   ]
  },
  {
   "cell_type": "markdown",
   "metadata": {},
   "source": [
    "Средняя линейная отрицательная взаимосвязь между стомостью квадратного метра и удаленностью от центра. "
   ]
  },
  {
   "cell_type": "code",
   "execution_count": 52,
   "metadata": {},
   "outputs": [
    {
     "data": {
      "text/plain": [
       "floor_category\n",
       "другой       106967.942983\n",
       "первый        88341.941562\n",
       "последний    100782.088691\n",
       "Name: price_per_sqr, dtype: float64"
      ]
     },
     "execution_count": 52,
     "metadata": {},
     "output_type": "execute_result"
    }
   ],
   "source": [
    "good_data.groupby('floor_category')['price_per_sqr'].mean()"
   ]
  },
  {
   "cell_type": "markdown",
   "metadata": {},
   "source": [
    "<div class=\"alert alert-success\">\n",
    "<b>Комментарий ревьюера ✔️:</b> Здесь результат достаточно предсказуем"
   ]
  },
  {
   "cell_type": "markdown",
   "metadata": {},
   "source": [
    "Средняя цена 1 метра на некрайних этажах выше, чем на первом и последнем. Средняя цена квадратного метра на 1 этаже меньше чем на последнем."
   ]
  },
  {
   "cell_type": "code",
   "execution_count": 53,
   "metadata": {},
   "outputs": [
    {
     "data": {
      "text/plain": [
       "week_day\n",
       "0    104767.363673\n",
       "1    104785.735980\n",
       "2    104014.789851\n",
       "3    104130.900892\n",
       "4    103261.280435\n",
       "5    105087.145798\n",
       "6    102162.815246\n",
       "Name: price_per_sqr, dtype: float64"
      ]
     },
     "execution_count": 53,
     "metadata": {},
     "output_type": "execute_result"
    }
   ],
   "source": [
    "good_data.groupby('week_day')['price_per_sqr'].mean()"
   ]
  },
  {
   "cell_type": "code",
   "execution_count": 54,
   "metadata": {},
   "outputs": [
    {
     "data": {
      "text/plain": [
       "-0.010151814006674044"
      ]
     },
     "execution_count": 54,
     "metadata": {},
     "output_type": "execute_result"
    }
   ],
   "source": [
    "good_data['price_per_sqr'].corr(good_data['week_day'])"
   ]
  },
  {
   "cell_type": "code",
   "execution_count": 55,
   "metadata": {},
   "outputs": [
    {
     "data": {
      "text/plain": [
       "month\n",
       "1     104513.427483\n",
       "2     104127.836263\n",
       "3     105169.464745\n",
       "4     107508.574565\n",
       "5     101185.695543\n",
       "6     103822.545337\n",
       "7     103503.222711\n",
       "8     103637.977234\n",
       "9     105595.481500\n",
       "10    101372.917660\n",
       "11    103742.284417\n",
       "12    103184.405364\n",
       "Name: price_per_sqr, dtype: float64"
      ]
     },
     "execution_count": 55,
     "metadata": {},
     "output_type": "execute_result"
    }
   ],
   "source": [
    "good_data.groupby('month')['price_per_sqr'].mean()"
   ]
  },
  {
   "cell_type": "code",
   "execution_count": 56,
   "metadata": {},
   "outputs": [
    {
     "data": {
      "text/plain": [
       "-0.01282004602798379"
      ]
     },
     "execution_count": 56,
     "metadata": {},
     "output_type": "execute_result"
    }
   ],
   "source": [
    "good_data['price_per_sqr'].corr(good_data['month'])"
   ]
  },
  {
   "cell_type": "code",
   "execution_count": 57,
   "metadata": {},
   "outputs": [
    {
     "data": {
      "text/plain": [
       "year\n",
       "2014    152549.746993\n",
       "2015    108251.861155\n",
       "2016    102103.272800\n",
       "2017    101311.851347\n",
       "2018    103709.322980\n",
       "2019    114326.608960\n",
       "Name: price_per_sqr, dtype: float64"
      ]
     },
     "execution_count": 57,
     "metadata": {},
     "output_type": "execute_result"
    }
   ],
   "source": [
    "good_data.groupby('year')['price_per_sqr'].mean()"
   ]
  },
  {
   "cell_type": "code",
   "execution_count": 58,
   "metadata": {},
   "outputs": [
    {
     "data": {
      "text/plain": [
       "0.04779231959837269"
      ]
     },
     "execution_count": 58,
     "metadata": {},
     "output_type": "execute_result"
    }
   ],
   "source": [
    "good_data['price_per_sqr'].corr(good_data['year'])"
   ]
  },
  {
   "cell_type": "markdown",
   "metadata": {},
   "source": [
    "Отсутствует взаимосвязь между днем недели и месяцем размещения объявления. Однако можно увидеть, что объявления со средней стомиостью квадратного метра менее 100 тыс. размещены в пятницу и воскресение. Средняя стоимость квадратного метра в объявлениях, размещенных в разные месяцы разная. Самый дорогой средний квадратный метр в объявлениях размещенных в апреле, самый дешевый средний квадратный метр в объявлениях размещенных в октябре.\n",
    "Средняя стоимость квадратного метра снижалась с 2014 по 2017 год. В 2018 и 2019 году средняя стоимость квадратного метра росла."
   ]
  },
  {
   "cell_type": "markdown",
   "metadata": {},
   "source": [
    "<div class=\"alert alert-success\">\n",
    "<b>Комментарий ревьюера ✔️:</b> Очень хороший анализ временных показателей, все верно"
   ]
  },
  {
   "cell_type": "code",
   "execution_count": 59,
   "metadata": {},
   "outputs": [
    {
     "data": {
      "text/html": [
       "<div>\n",
       "<style scoped>\n",
       "    .dataframe tbody tr th:only-of-type {\n",
       "        vertical-align: middle;\n",
       "    }\n",
       "\n",
       "    .dataframe tbody tr th {\n",
       "        vertical-align: top;\n",
       "    }\n",
       "\n",
       "    .dataframe thead th {\n",
       "        text-align: right;\n",
       "    }\n",
       "</style>\n",
       "<table border=\"1\" class=\"dataframe\">\n",
       "  <thead>\n",
       "    <tr style=\"text-align: right;\">\n",
       "      <th></th>\n",
       "      <th>count</th>\n",
       "      <th>mean</th>\n",
       "    </tr>\n",
       "    <tr>\n",
       "      <th>locality_name</th>\n",
       "      <th></th>\n",
       "      <th></th>\n",
       "    </tr>\n",
       "  </thead>\n",
       "  <tbody>\n",
       "    <tr>\n",
       "      <th>Санкт-Петербург</th>\n",
       "      <td>12134</td>\n",
       "      <td>116415.749160</td>\n",
       "    </tr>\n",
       "    <tr>\n",
       "      <th>Пушкин</th>\n",
       "      <td>264</td>\n",
       "      <td>104522.628847</td>\n",
       "    </tr>\n",
       "    <tr>\n",
       "      <th>Кудрово</th>\n",
       "      <td>161</td>\n",
       "      <td>99927.022123</td>\n",
       "    </tr>\n",
       "    <tr>\n",
       "      <th>деревня Кудрово</th>\n",
       "      <td>263</td>\n",
       "      <td>92654.528485</td>\n",
       "    </tr>\n",
       "    <tr>\n",
       "      <th>посёлок Парголово</th>\n",
       "      <td>293</td>\n",
       "      <td>89823.749508</td>\n",
       "    </tr>\n",
       "    <tr>\n",
       "      <th>посёлок Мурино</th>\n",
       "      <td>470</td>\n",
       "      <td>85815.729208</td>\n",
       "    </tr>\n",
       "    <tr>\n",
       "      <th>посёлок Шушары</th>\n",
       "      <td>384</td>\n",
       "      <td>78540.426915</td>\n",
       "    </tr>\n",
       "    <tr>\n",
       "      <th>Гатчина</th>\n",
       "      <td>209</td>\n",
       "      <td>69926.745998</td>\n",
       "    </tr>\n",
       "    <tr>\n",
       "      <th>Всеволожск</th>\n",
       "      <td>330</td>\n",
       "      <td>69452.629904</td>\n",
       "    </tr>\n",
       "    <tr>\n",
       "      <th>Выборг</th>\n",
       "      <td>170</td>\n",
       "      <td>59561.095796</td>\n",
       "    </tr>\n",
       "  </tbody>\n",
       "</table>\n",
       "</div>"
      ],
      "text/plain": [
       "                   count           mean\n",
       "locality_name                          \n",
       "Санкт-Петербург    12134  116415.749160\n",
       "Пушкин               264  104522.628847\n",
       "Кудрово              161   99927.022123\n",
       "деревня Кудрово      263   92654.528485\n",
       "посёлок Парголово    293   89823.749508\n",
       "посёлок Мурино       470   85815.729208\n",
       "посёлок Шушары       384   78540.426915\n",
       "Гатчина              209   69926.745998\n",
       "Всеволожск           330   69452.629904\n",
       "Выборг               170   59561.095796"
      ]
     },
     "execution_count": 59,
     "metadata": {},
     "output_type": "execute_result"
    }
   ],
   "source": [
    "pivot_city = good_data.pivot_table(index='locality_name', values='price_per_sqr', aggfunc=['count','mean'])\n",
    "pivot_city.columns = ['count', 'mean']\n",
    "sort_pivot_city = pivot_city.sort_values('count', ascending=False).head(10)\n",
    "sort_pivot_city_by_mean = sort_pivot_city.sort_values('mean', ascending=False)\n",
    "sort_pivot_city_by_mean"
   ]
  },
  {
   "cell_type": "markdown",
   "metadata": {},
   "source": [
    "Из 10 первых по количеству размещенных объявлений, населенных пунктов самая высокая средняя цена квадратного метра в Санкт-Петербурге 116 тыс, самая низкая средняя цена квадратного метра в г. Выборг 60 тыс."
   ]
  },
  {
   "cell_type": "markdown",
   "metadata": {},
   "source": [
    "<div class=\"alert alert-success\">\n",
    "<b>Комментарий ревьюера ✔️:</b> Ты правильно ответил на вопрос задания, молодец!"
   ]
  },
  {
   "cell_type": "code",
   "execution_count": 60,
   "metadata": {},
   "outputs": [
    {
     "name": "stdout",
     "output_type": "stream",
     "text": [
      "<class 'pandas.core.frame.DataFrame'>\n",
      "Int64Index: 12134 entries, 0 to 23694\n",
      "Data columns (total 31 columns):\n",
      " #   Column                  Non-Null Count  Dtype         \n",
      "---  ------                  --------------  -----         \n",
      " 0   total_images            12134 non-null  int64         \n",
      " 1   last_price              12134 non-null  float64       \n",
      " 2   total_area              12134 non-null  float64       \n",
      " 3   first_day_exposition    12134 non-null  datetime64[ns]\n",
      " 4   rooms                   12134 non-null  int64         \n",
      " 5   ceiling_height          12134 non-null  float64       \n",
      " 6   floors_total            12134 non-null  int64         \n",
      " 7   living_area             12134 non-null  float64       \n",
      " 8   floor                   12134 non-null  int64         \n",
      " 9   is_apartment            12134 non-null  bool          \n",
      " 10  studio                  12134 non-null  bool          \n",
      " 11  open_plan               12134 non-null  bool          \n",
      " 12  kitchen_area            12134 non-null  float64       \n",
      " 13  balcony                 12134 non-null  int64         \n",
      " 14  locality_name           12134 non-null  object        \n",
      " 15  airports_nearest        12134 non-null  float64       \n",
      " 16  city_сenters_nearest    12134 non-null  float64       \n",
      " 17  parks_around3000        12134 non-null  int64         \n",
      " 18  parks_nearest           12134 non-null  float64       \n",
      " 19  ponds_around3000        12134 non-null  int64         \n",
      " 20  ponds_nearest           12134 non-null  float64       \n",
      " 21  days_exposition         12134 non-null  int64         \n",
      " 22  price_per_sqr           12134 non-null  float64       \n",
      " 23  week_day                12134 non-null  int64         \n",
      " 24  month                   12134 non-null  int64         \n",
      " 25  year                    12134 non-null  int64         \n",
      " 26  floor_category          12134 non-null  object        \n",
      " 27  living_area_rate        12134 non-null  float64       \n",
      " 28  kitchen_area_rate       12134 non-null  float64       \n",
      " 29  last_price_thousand     12134 non-null  float64       \n",
      " 30  price_per_sqr_thousand  12134 non-null  float64       \n",
      "dtypes: bool(3), datetime64[ns](1), float64(14), int64(11), object(2)\n",
      "memory usage: 2.7+ MB\n"
     ]
    }
   ],
   "source": [
    "spb_data = good_data.query('locality_name == \"Санкт-Петербург\"')\n",
    "spb_data.info()"
   ]
  },
  {
   "cell_type": "markdown",
   "metadata": {},
   "source": [
    "<div class=\"alert alert-warning\">\n",
    "<b>Комментарий ревьюера ⚠️:</b> Для борьбы с warnings могу посоветовать такой прием:\n",
    "    \n",
    "import warnings\n",
    "\n",
    "warnings.filterwarnings(\"ignore\")"
   ]
  },
  {
   "cell_type": "code",
   "execution_count": 61,
   "metadata": {},
   "outputs": [],
   "source": [
    "spb_data['city_сenters_nearest_km'] = ((spb_data.loc[:,['city_сenters_nearest']]+1000)/1000).astype('int64')#((spb_data['city_сenters_nearest']+1000)/1000).astype('int64')"
   ]
  },
  {
   "cell_type": "code",
   "execution_count": 62,
   "metadata": {},
   "outputs": [
    {
     "data": {
      "text/html": [
       "<div>\n",
       "<style scoped>\n",
       "    .dataframe tbody tr th:only-of-type {\n",
       "        vertical-align: middle;\n",
       "    }\n",
       "\n",
       "    .dataframe tbody tr th {\n",
       "        vertical-align: top;\n",
       "    }\n",
       "\n",
       "    .dataframe thead th {\n",
       "        text-align: right;\n",
       "    }\n",
       "</style>\n",
       "<table border=\"1\" class=\"dataframe\">\n",
       "  <thead>\n",
       "    <tr style=\"text-align: right;\">\n",
       "      <th></th>\n",
       "      <th>total_images</th>\n",
       "      <th>last_price</th>\n",
       "      <th>total_area</th>\n",
       "      <th>first_day_exposition</th>\n",
       "      <th>rooms</th>\n",
       "      <th>ceiling_height</th>\n",
       "      <th>floors_total</th>\n",
       "      <th>living_area</th>\n",
       "      <th>floor</th>\n",
       "      <th>is_apartment</th>\n",
       "      <th>...</th>\n",
       "      <th>week_day</th>\n",
       "      <th>month</th>\n",
       "      <th>year</th>\n",
       "      <th>floor_category</th>\n",
       "      <th>living_area_rate</th>\n",
       "      <th>kitchen_area_rate</th>\n",
       "      <th>last_price_thousand</th>\n",
       "      <th>price_per_sqr_thousand</th>\n",
       "      <th>city_сenters_nearest_km</th>\n",
       "      <th>price_per_km</th>\n",
       "    </tr>\n",
       "  </thead>\n",
       "  <tbody>\n",
       "    <tr>\n",
       "      <th>0</th>\n",
       "      <td>20</td>\n",
       "      <td>13000000.0</td>\n",
       "      <td>108.0</td>\n",
       "      <td>2019-03-07</td>\n",
       "      <td>3</td>\n",
       "      <td>2.70</td>\n",
       "      <td>16</td>\n",
       "      <td>51.000000</td>\n",
       "      <td>8</td>\n",
       "      <td>False</td>\n",
       "      <td>...</td>\n",
       "      <td>3</td>\n",
       "      <td>3</td>\n",
       "      <td>2019</td>\n",
       "      <td>другой</td>\n",
       "      <td>0.472222</td>\n",
       "      <td>0.231481</td>\n",
       "      <td>13000.0</td>\n",
       "      <td>120.370370</td>\n",
       "      <td>17</td>\n",
       "      <td>7080.610022</td>\n",
       "    </tr>\n",
       "    <tr>\n",
       "      <th>3</th>\n",
       "      <td>0</td>\n",
       "      <td>64900000.0</td>\n",
       "      <td>159.0</td>\n",
       "      <td>2015-07-24</td>\n",
       "      <td>3</td>\n",
       "      <td>2.70</td>\n",
       "      <td>14</td>\n",
       "      <td>83.629164</td>\n",
       "      <td>9</td>\n",
       "      <td>False</td>\n",
       "      <td>...</td>\n",
       "      <td>4</td>\n",
       "      <td>7</td>\n",
       "      <td>2015</td>\n",
       "      <td>другой</td>\n",
       "      <td>0.525970</td>\n",
       "      <td>0.158566</td>\n",
       "      <td>64900.0</td>\n",
       "      <td>408.176101</td>\n",
       "      <td>7</td>\n",
       "      <td>58310.871518</td>\n",
       "    </tr>\n",
       "    <tr>\n",
       "      <th>4</th>\n",
       "      <td>2</td>\n",
       "      <td>10000000.0</td>\n",
       "      <td>100.0</td>\n",
       "      <td>2018-06-19</td>\n",
       "      <td>2</td>\n",
       "      <td>3.03</td>\n",
       "      <td>14</td>\n",
       "      <td>32.000000</td>\n",
       "      <td>13</td>\n",
       "      <td>False</td>\n",
       "      <td>...</td>\n",
       "      <td>1</td>\n",
       "      <td>6</td>\n",
       "      <td>2018</td>\n",
       "      <td>другой</td>\n",
       "      <td>0.320000</td>\n",
       "      <td>0.410000</td>\n",
       "      <td>10000.0</td>\n",
       "      <td>100.000000</td>\n",
       "      <td>9</td>\n",
       "      <td>11111.111111</td>\n",
       "    </tr>\n",
       "    <tr>\n",
       "      <th>7</th>\n",
       "      <td>5</td>\n",
       "      <td>7915000.0</td>\n",
       "      <td>71.6</td>\n",
       "      <td>2019-04-18</td>\n",
       "      <td>2</td>\n",
       "      <td>2.70</td>\n",
       "      <td>24</td>\n",
       "      <td>37.659422</td>\n",
       "      <td>22</td>\n",
       "      <td>False</td>\n",
       "      <td>...</td>\n",
       "      <td>3</td>\n",
       "      <td>4</td>\n",
       "      <td>2019</td>\n",
       "      <td>другой</td>\n",
       "      <td>0.525970</td>\n",
       "      <td>0.263966</td>\n",
       "      <td>7915.0</td>\n",
       "      <td>110.544693</td>\n",
       "      <td>12</td>\n",
       "      <td>9212.057728</td>\n",
       "    </tr>\n",
       "    <tr>\n",
       "      <th>10</th>\n",
       "      <td>5</td>\n",
       "      <td>5050000.0</td>\n",
       "      <td>39.6</td>\n",
       "      <td>2017-11-16</td>\n",
       "      <td>1</td>\n",
       "      <td>2.67</td>\n",
       "      <td>12</td>\n",
       "      <td>20.300000</td>\n",
       "      <td>3</td>\n",
       "      <td>False</td>\n",
       "      <td>...</td>\n",
       "      <td>3</td>\n",
       "      <td>11</td>\n",
       "      <td>2017</td>\n",
       "      <td>другой</td>\n",
       "      <td>0.512626</td>\n",
       "      <td>0.214646</td>\n",
       "      <td>5050.0</td>\n",
       "      <td>127.525253</td>\n",
       "      <td>14</td>\n",
       "      <td>9108.946609</td>\n",
       "    </tr>\n",
       "  </tbody>\n",
       "</table>\n",
       "<p>5 rows × 33 columns</p>\n",
       "</div>"
      ],
      "text/plain": [
       "    total_images  last_price  total_area first_day_exposition  rooms  \\\n",
       "0             20  13000000.0       108.0           2019-03-07      3   \n",
       "3              0  64900000.0       159.0           2015-07-24      3   \n",
       "4              2  10000000.0       100.0           2018-06-19      2   \n",
       "7              5   7915000.0        71.6           2019-04-18      2   \n",
       "10             5   5050000.0        39.6           2017-11-16      1   \n",
       "\n",
       "    ceiling_height  floors_total  living_area  floor  is_apartment  ...  \\\n",
       "0             2.70            16    51.000000      8         False  ...   \n",
       "3             2.70            14    83.629164      9         False  ...   \n",
       "4             3.03            14    32.000000     13         False  ...   \n",
       "7             2.70            24    37.659422     22         False  ...   \n",
       "10            2.67            12    20.300000      3         False  ...   \n",
       "\n",
       "    week_day  month  year  floor_category living_area_rate  kitchen_area_rate  \\\n",
       "0          3      3  2019          другой         0.472222           0.231481   \n",
       "3          4      7  2015          другой         0.525970           0.158566   \n",
       "4          1      6  2018          другой         0.320000           0.410000   \n",
       "7          3      4  2019          другой         0.525970           0.263966   \n",
       "10         3     11  2017          другой         0.512626           0.214646   \n",
       "\n",
       "    last_price_thousand  price_per_sqr_thousand  city_сenters_nearest_km  \\\n",
       "0               13000.0              120.370370                       17   \n",
       "3               64900.0              408.176101                        7   \n",
       "4               10000.0              100.000000                        9   \n",
       "7                7915.0              110.544693                       12   \n",
       "10               5050.0              127.525253                       14   \n",
       "\n",
       "    price_per_km  \n",
       "0    7080.610022  \n",
       "3   58310.871518  \n",
       "4   11111.111111  \n",
       "7    9212.057728  \n",
       "10   9108.946609  \n",
       "\n",
       "[5 rows x 33 columns]"
      ]
     },
     "execution_count": 62,
     "metadata": {},
     "output_type": "execute_result"
    }
   ],
   "source": [
    "spb_data['price_per_km'] = spb_data['price_per_sqr']/spb_data['city_сenters_nearest_km']\n",
    "spb_data.head()"
   ]
  },
  {
   "cell_type": "code",
   "execution_count": 63,
   "metadata": {},
   "outputs": [
    {
     "data": {
      "text/plain": [
       "<AxesSubplot:xlabel='city_сenters_nearest_km', ylabel='price_per_sqr_thousand'>"
      ]
     },
     "execution_count": 63,
     "metadata": {},
     "output_type": "execute_result"
    },
    {
     "data": {
      "image/png": "[encoded data removed]",
      "text/plain": [
       "<Figure size 432x288 with 1 Axes>"
      ]
     },
     "metadata": {
      "needs_background": "light"
     },
     "output_type": "display_data"
    }
   ],
   "source": [
    "spb_data.plot(kind='scatter', x='city_сenters_nearest_km', y= 'price_per_sqr_thousand')"
   ]
  },
  {
   "cell_type": "markdown",
   "metadata": {},
   "source": [
    "По данным вышеприведенного графика можно определить, что центральный район города ограничен расстоянием 8км от географического центра города."
   ]
  },
  {
   "cell_type": "markdown",
   "metadata": {},
   "source": [
    "<div class=\"alert alert-success\">\n",
    "<b>Комментарий ревьюера ✔️:</b> Да, видимо 7-8 км это и есть граница центра города"
   ]
  },
  {
   "cell_type": "code",
   "execution_count": 64,
   "metadata": {},
   "outputs": [
    {
     "name": "stdout",
     "output_type": "stream",
     "text": [
      "<class 'pandas.core.frame.DataFrame'>\n",
      "Int64Index: 3012 entries, 3 to 23694\n",
      "Data columns (total 33 columns):\n",
      " #   Column                   Non-Null Count  Dtype         \n",
      "---  ------                   --------------  -----         \n",
      " 0   total_images             3012 non-null   int64         \n",
      " 1   last_price               3012 non-null   float64       \n",
      " 2   total_area               3012 non-null   float64       \n",
      " 3   first_day_exposition     3012 non-null   datetime64[ns]\n",
      " 4   rooms                    3012 non-null   int64         \n",
      " 5   ceiling_height           3012 non-null   float64       \n",
      " 6   floors_total             3012 non-null   int64         \n",
      " 7   living_area              3012 non-null   float64       \n",
      " 8   floor                    3012 non-null   int64         \n",
      " 9   is_apartment             3012 non-null   bool          \n",
      " 10  studio                   3012 non-null   bool          \n",
      " 11  open_plan                3012 non-null   bool          \n",
      " 12  kitchen_area             3012 non-null   float64       \n",
      " 13  balcony                  3012 non-null   int64         \n",
      " 14  locality_name            3012 non-null   object        \n",
      " 15  airports_nearest         3012 non-null   float64       \n",
      " 16  city_сenters_nearest     3012 non-null   float64       \n",
      " 17  parks_around3000         3012 non-null   int64         \n",
      " 18  parks_nearest            3012 non-null   float64       \n",
      " 19  ponds_around3000         3012 non-null   int64         \n",
      " 20  ponds_nearest            3012 non-null   float64       \n",
      " 21  days_exposition          3012 non-null   int64         \n",
      " 22  price_per_sqr            3012 non-null   float64       \n",
      " 23  week_day                 3012 non-null   int64         \n",
      " 24  month                    3012 non-null   int64         \n",
      " 25  year                     3012 non-null   int64         \n",
      " 26  floor_category           3012 non-null   object        \n",
      " 27  living_area_rate         3012 non-null   float64       \n",
      " 28  kitchen_area_rate        3012 non-null   float64       \n",
      " 29  last_price_thousand      3012 non-null   float64       \n",
      " 30  price_per_sqr_thousand   3012 non-null   float64       \n",
      " 31  city_сenters_nearest_km  3012 non-null   int64         \n",
      " 32  price_per_km             3012 non-null   float64       \n",
      "dtypes: bool(3), datetime64[ns](1), float64(15), int64(12), object(2)\n",
      "memory usage: 738.3+ KB\n"
     ]
    }
   ],
   "source": [
    "spb_data_center = spb_data.query('city_сenters_nearest_km<=8')\n",
    "spb_data_center.info()"
   ]
  },
  {
   "cell_type": "code",
   "execution_count": 65,
   "metadata": {},
   "outputs": [
    {
     "data": {
      "text/plain": [
       "<AxesSubplot:>"
      ]
     },
     "execution_count": 65,
     "metadata": {},
     "output_type": "execute_result"
    },
    {
     "data": {
      "image/png": "[encoded data removed]",
      "text/plain": [
       "<Figure size 432x288 with 1 Axes>"
      ]
     },
     "metadata": {
      "needs_background": "light"
     },
     "output_type": "display_data"
    }
   ],
   "source": [
    "spb_data_center['total_area'].hist(bins=100)"
   ]
  },
  {
   "cell_type": "code",
   "execution_count": 66,
   "metadata": {},
   "outputs": [
    {
     "data": {
      "text/plain": [
       "<AxesSubplot:>"
      ]
     },
     "execution_count": 66,
     "metadata": {},
     "output_type": "execute_result"
    },
    {
     "data": {
      "image/png": "[encoded data removed]",
      "text/plain": [
       "<Figure size 432x288 with 1 Axes>"
      ]
     },
     "metadata": {
      "needs_background": "light"
     },
     "output_type": "display_data"
    }
   ],
   "source": [
    "good_data['total_area'].hist(bins=100)"
   ]
  },
  {
   "cell_type": "markdown",
   "metadata": {},
   "source": [
    "форма распределения общей площади, выставленных в объявлениях квартир совпадает в общей выборке и выборке по городу и определенному расстоянию до центра"
   ]
  },
  {
   "cell_type": "markdown",
   "metadata": {},
   "source": [
    "<div class=\"alert alert-success\">\n",
    "<b>Комментарий ревьюера ✔️:</b> И правда они очень похожи"
   ]
  },
  {
   "cell_type": "code",
   "execution_count": 67,
   "metadata": {},
   "outputs": [
    {
     "data": {
      "text/plain": [
       "<AxesSubplot:>"
      ]
     },
     "execution_count": 67,
     "metadata": {},
     "output_type": "execute_result"
    },
    {
     "data": {
      "image/png": "[encoded data removed]",
      "text/plain": [
       "<Figure size 432x288 with 1 Axes>"
      ]
     },
     "metadata": {
      "needs_background": "light"
     },
     "output_type": "display_data"
    }
   ],
   "source": [
    "spb_data_center['price_per_sqr'].hist(bins=100)"
   ]
  },
  {
   "cell_type": "code",
   "execution_count": 68,
   "metadata": {},
   "outputs": [
    {
     "data": {
      "text/plain": [
       "<AxesSubplot:>"
      ]
     },
     "execution_count": 68,
     "metadata": {},
     "output_type": "execute_result"
    },
    {
     "data": {
      "image/png": "[encoded data removed]",
      "text/plain": [
       "<Figure size 432x288 with 1 Axes>"
      ]
     },
     "metadata": {
      "needs_background": "light"
     },
     "output_type": "display_data"
    }
   ],
   "source": [
    "good_data['price_per_sqr'].hist(bins=100)"
   ]
  },
  {
   "cell_type": "markdown",
   "metadata": {},
   "source": [
    "форма распределения цены за квадратный метр, выставленных в объявлениях квартир совпадает в общей выборке и выборке по городу и определенному расстоянию до центра"
   ]
  },
  {
   "cell_type": "markdown",
   "metadata": {},
   "source": [
    "<div class=\"alert alert-success\">\n",
    "<b>Комментарий ревьюера ✔️:</b> Отлично"
   ]
  },
  {
   "cell_type": "code",
   "execution_count": 69,
   "metadata": {},
   "outputs": [
    {
     "data": {
      "text/plain": [
       "<AxesSubplot:>"
      ]
     },
     "execution_count": 69,
     "metadata": {},
     "output_type": "execute_result"
    },
    {
     "data": {
      "image/png": "[encoded data removed]",
      "text/plain": [
       "<Figure size 432x288 with 1 Axes>"
      ]
     },
     "metadata": {
      "needs_background": "light"
     },
     "output_type": "display_data"
    }
   ],
   "source": [
    "spb_data_center['rooms'].hist(bins=15)"
   ]
  },
  {
   "cell_type": "code",
   "execution_count": 70,
   "metadata": {},
   "outputs": [
    {
     "data": {
      "text/plain": [
       "<AxesSubplot:>"
      ]
     },
     "execution_count": 70,
     "metadata": {},
     "output_type": "execute_result"
    },
    {
     "data": {
      "image/png": "[encoded data removed]",
      "text/plain": [
       "<Figure size 432x288 with 1 Axes>"
      ]
     },
     "metadata": {
      "needs_background": "light"
     },
     "output_type": "display_data"
    }
   ],
   "source": [
    "good_data['rooms'].hist(bins=15)"
   ]
  },
  {
   "cell_type": "markdown",
   "metadata": {},
   "source": [
    "форма распределения количества комнат, выставленных в объявлениях квартир не совпадает в общей выборке и выборке по городу и определенному расстоянию до центра"
   ]
  },
  {
   "cell_type": "markdown",
   "metadata": {},
   "source": [
    "<div class=\"alert alert-success\">\n",
    "<b>Комментарий ревьюера ✔️:</b> Отлично"
   ]
  },
  {
   "cell_type": "code",
   "execution_count": 71,
   "metadata": {},
   "outputs": [
    {
     "data": {
      "text/plain": [
       "<AxesSubplot:>"
      ]
     },
     "execution_count": 71,
     "metadata": {},
     "output_type": "execute_result"
    },
    {
     "data": {
      "image/png": "[encoded data removed]",
      "text/plain": [
       "<Figure size 432x288 with 1 Axes>"
      ]
     },
     "metadata": {
      "needs_background": "light"
     },
     "output_type": "display_data"
    }
   ],
   "source": [
    "spb_data_center['ceiling_height'].hist(bins=5)"
   ]
  },
  {
   "cell_type": "code",
   "execution_count": 72,
   "metadata": {},
   "outputs": [
    {
     "data": {
      "text/plain": [
       "<AxesSubplot:>"
      ]
     },
     "execution_count": 72,
     "metadata": {},
     "output_type": "execute_result"
    },
    {
     "data": {
      "image/png": "[encoded data removed]",
      "text/plain": [
       "<Figure size 432x288 with 1 Axes>"
      ]
     },
     "metadata": {
      "needs_background": "light"
     },
     "output_type": "display_data"
    }
   ],
   "source": [
    "good_data['ceiling_height'].hist(bins=5)"
   ]
  },
  {
   "cell_type": "markdown",
   "metadata": {},
   "source": [
    "форма распределения высоты потолков, выставленных в объявлениях квартир совпадает в общей выборке и выборке по городу и определенному расстоянию до центра"
   ]
  },
  {
   "cell_type": "markdown",
   "metadata": {},
   "source": [
    "<div class=\"alert alert-success\">\n",
    "<b>Комментарий ревьюера ✔️:</b> Да, все так и есть"
   ]
  },
  {
   "cell_type": "code",
   "execution_count": 73,
   "metadata": {},
   "outputs": [
    {
     "name": "stdout",
     "output_type": "stream",
     "text": [
      "0.23458816455299888\n"
     ]
    },
    {
     "data": {
      "text/plain": [
       "<AxesSubplot:xlabel='total_area', ylabel='price_per_sqr'>"
      ]
     },
     "execution_count": 73,
     "metadata": {},
     "output_type": "execute_result"
    },
    {
     "data": {
      "image/png": "[encoded data removed]",
      "text/plain": [
       "<Figure size 432x288 with 1 Axes>"
      ]
     },
     "metadata": {
      "needs_background": "light"
     },
     "output_type": "display_data"
    }
   ],
   "source": [
    "print(spb_data_center['price_per_sqr'].corr(spb_data_center['total_area']))\n",
    "spb_data_center.plot(kind='scatter', x='total_area', y='price_per_sqr')"
   ]
  },
  {
   "cell_type": "markdown",
   "metadata": {},
   "source": [
    "<div class=\"alert alert-danger\">\n",
    "<b>Комментарий ревьюера ❌:</b> Корреляция Пирсона может указать только на наличие\\отсутствие линейной зависимости, а она может быть и нелинейной. Пожалуйста дополни анализ в этом разделе"
   ]
  },
  {
   "cell_type": "markdown",
   "metadata": {},
   "source": [
    "<div class=\"alert alert-success\">\n",
    "<b>Комментарий ревьюера v 2.0 ✔️:</b> Здесь также стоит проанализировать нелинейную зависимость отдельно, но снова молодец, что дополнил здесь анализ"
   ]
  },
  {
   "cell_type": "markdown",
   "metadata": {},
   "source": [
    "<div class=\"alert alert-info\"> <b>Комментарий студента V2.0:</b> Построенны и проанализированы формы графиков рассеяния исследуемых величин.</div>"
   ]
  },
  {
   "cell_type": "markdown",
   "metadata": {},
   "source": [
    "<div class=\"alert alert-success\">\n",
    "<b>Комментарий ревьюера v 3.0 ✔️:</b> Теперь всё безупречно"
   ]
  },
  {
   "cell_type": "markdown",
   "metadata": {},
   "source": [
    "Слабая линейная корреляция между ценой за квадратный метр и общей площадью. График рассеяния величин больше похож на колокол, то есть может быть лучше описан обратной параболической функцией."
   ]
  },
  {
   "cell_type": "code",
   "execution_count": 74,
   "metadata": {},
   "outputs": [
    {
     "name": "stdout",
     "output_type": "stream",
     "text": [
      "-0.0036348801195947257\n"
     ]
    },
    {
     "data": {
      "text/plain": [
       "<AxesSubplot:xlabel='rooms', ylabel='price_per_sqr'>"
      ]
     },
     "execution_count": 74,
     "metadata": {},
     "output_type": "execute_result"
    },
    {
     "data": {
      "image/png": "[encoded data removed]",
      "text/plain": [
       "<Figure size 432x288 with 1 Axes>"
      ]
     },
     "metadata": {
      "needs_background": "light"
     },
     "output_type": "display_data"
    }
   ],
   "source": [
    "print(spb_data_center['price_per_sqr'].corr(spb_data_center['rooms']))\n",
    "spb_data_center.plot(kind='scatter', x='rooms', y='price_per_sqr')"
   ]
  },
  {
   "cell_type": "markdown",
   "metadata": {},
   "source": [
    "Нет линейной корреляции между ценой за квадратный метр и количеством комнат. График рассеяния величин похож на колокол, то есть может быть описан обратной параболической функцией."
   ]
  },
  {
   "cell_type": "code",
   "execution_count": 75,
   "metadata": {},
   "outputs": [
    {
     "name": "stdout",
     "output_type": "stream",
     "text": [
      "-0.03307932219435443\n"
     ]
    },
    {
     "data": {
      "text/plain": [
       "<AxesSubplot:xlabel='city_сenters_nearest', ylabel='price_per_sqr'>"
      ]
     },
     "execution_count": 75,
     "metadata": {},
     "output_type": "execute_result"
    },
    {
     "data": {
      "image/png": "[encoded data removed]",
      "text/plain": [
       "<Figure size 432x288 with 1 Axes>"
      ]
     },
     "metadata": {
      "needs_background": "light"
     },
     "output_type": "display_data"
    }
   ],
   "source": [
    "print(spb_data_center['price_per_sqr'].corr(spb_data_center['city_сenters_nearest']))\n",
    "spb_data_center.plot(kind='scatter', x='city_сenters_nearest', y='price_per_sqr')"
   ]
  },
  {
   "cell_type": "markdown",
   "metadata": {},
   "source": [
    "Нет линейной корреляции между ценой и расстоянием до центра. График рассеяния величин показывает, что основные значения попадают в линейную функцию проходящую практически параллельно оси Х, то есть в стоимость квадратного метра практически одинакова в любом месте центра Санкт-Петербурга."
   ]
  },
  {
   "cell_type": "code",
   "execution_count": 76,
   "metadata": {},
   "outputs": [
    {
     "data": {
      "text/plain": [
       "floor_category\n",
       "другой       147123.325506\n",
       "первый       125139.440066\n",
       "последний    145971.368570\n",
       "Name: price_per_sqr, dtype: float64"
      ]
     },
     "execution_count": 76,
     "metadata": {},
     "output_type": "execute_result"
    }
   ],
   "source": [
    "spb_data_center.groupby('floor_category')['price_per_sqr'].mean()"
   ]
  },
  {
   "cell_type": "markdown",
   "metadata": {},
   "source": [
    "Средняя цена квадратного метра в центре Санкт-Петербурга некрайнего этажа выше цены первого и последнего этажей (совпадает с общей выборкой). Средняя цена квадратного метра в центре Санкт-Петербурга последнего этажа больше аналогичного показателя первого этажа(совпадает с общей выборкой)"
   ]
  },
  {
   "cell_type": "markdown",
   "metadata": {},
   "source": [
    "<div class=\"alert alert-success\">\n",
    "<b>Комментарий ревьюера ✔️:</b> Здесь всё снова достаточно предсказуемо"
   ]
  },
  {
   "cell_type": "code",
   "execution_count": 77,
   "metadata": {},
   "outputs": [
    {
     "data": {
      "text/plain": [
       "week_day\n",
       "0    145436.294210\n",
       "1    145457.027380\n",
       "2    142892.396598\n",
       "3    141474.614270\n",
       "4    141317.657986\n",
       "5    157304.626316\n",
       "6    145042.769117\n",
       "Name: price_per_sqr, dtype: float64"
      ]
     },
     "execution_count": 77,
     "metadata": {},
     "output_type": "execute_result"
    }
   ],
   "source": [
    "spb_data_center.groupby('week_day')['price_per_sqr'].mean()"
   ]
  },
  {
   "cell_type": "markdown",
   "metadata": {},
   "source": [
    "Средняя цена квадратного метра в центр Санкт-Петебурга по объявлениям размещенным в субботу наибольшая по отношению к другим дням недели. Наименьшие средние цены квадратного метра в центр Санкт-Петебурга по объявлениям, размещенным в четверг и пятницу. Данная тенденция различается с аналогичной тенденцией в общей совокупности."
   ]
  },
  {
   "cell_type": "code",
   "execution_count": 78,
   "metadata": {},
   "outputs": [
    {
     "data": {
      "text/plain": [
       "month\n",
       "1     146485.339605\n",
       "2     146019.849377\n",
       "3     148601.031307\n",
       "4     156806.435802\n",
       "5     132852.817516\n",
       "6     148250.753913\n",
       "7     137940.218332\n",
       "8     141891.335727\n",
       "9     145944.750518\n",
       "10    135958.765385\n",
       "11    142604.156141\n",
       "12    141815.626966\n",
       "Name: price_per_sqr, dtype: float64"
      ]
     },
     "execution_count": 78,
     "metadata": {},
     "output_type": "execute_result"
    }
   ],
   "source": [
    "spb_data_center.groupby('month')['price_per_sqr'].mean()"
   ]
  },
  {
   "cell_type": "markdown",
   "metadata": {},
   "source": [
    "Наименьшая средняя цена квадратного метра в центре Санкт-Петебурга по объявлениям размещенным в октябре(совпадает с тендецией аналогичного показателя общей выборки). Наибольшая средняя цена квадратного метра в центре Санкт-Петебурга по объявлениям размещенным в апреле (совпадает с тендецией аналогичного показателя общей выборки)."
   ]
  },
  {
   "cell_type": "code",
   "execution_count": 79,
   "metadata": {},
   "outputs": [
    {
     "data": {
      "text/plain": [
       "year\n",
       "2014    320979.020979\n",
       "2015    155139.247584\n",
       "2016    144070.325266\n",
       "2017    141685.744080\n",
       "2018    140521.193962\n",
       "2019    160829.476038\n",
       "Name: price_per_sqr, dtype: float64"
      ]
     },
     "execution_count": 79,
     "metadata": {},
     "output_type": "execute_result"
    }
   ],
   "source": [
    "spb_data_center.groupby('year')['price_per_sqr'].mean()"
   ]
  },
  {
   "cell_type": "code",
   "execution_count": 80,
   "metadata": {},
   "outputs": [
    {
     "data": {
      "text/plain": [
       "0.021736758712146108"
      ]
     },
     "execution_count": 80,
     "metadata": {},
     "output_type": "execute_result"
    }
   ],
   "source": [
    "spb_data_center['price_per_sqr'].corr(good_data['year'])"
   ]
  },
  {
   "cell_type": "markdown",
   "metadata": {},
   "source": [
    "Падение средней цены квадратного метра в центре Санкт-Петебурга в 2014-2018 годах, увеличение в 2019 году. В общей выборке увеличение средней цены квадратного метра началось в 2018 году."
   ]
  },
  {
   "cell_type": "markdown",
   "metadata": {},
   "source": [
    "<div class=\"alert alert-success\">\n",
    "<b>Комментарий ревьюера ✔️:</b> Временные показатели ты проанализировал просто отлично!"
   ]
  },
  {
   "cell_type": "markdown",
   "metadata": {},
   "source": [
    "Вывод:\n",
    "Данные очищены от выбросов и аномальных значений. Проанализированы показатели средней стоимости квадратного метра в представленной совокупности данных. Выделена совокупность данных для центра Санкт-Петербурга. В общей совокупности имеется слабая корреляция между стоимостью квадратного метра и площадью квартиры, нет корреляции между стоимостью квадратного метра и количеством комнат, есть средняя отрицательная корреляция между стоимостью квадратного метра и удаленностью от центра населенного пункта. Указанная корреляция не характерна для данных в выборке по центру Санкт-Петебурга. "
   ]
  },
  {
   "cell_type": "markdown",
   "metadata": {},
   "source": [
    "<div class=\"alert alert-success\">\n",
    "<b>Комментарий ревьюера ✔️:</b> Хорошее сравнение двух выборок, молодец!"
   ]
  },
  {
   "cell_type": "markdown",
   "metadata": {},
   "source": [
    "## Общий вывод"
   ]
  },
  {
   "cell_type": "markdown",
   "metadata": {},
   "source": [
    "Проанализированы данные по продажам квартир в Санкт-Петербурге и соседних населенных пунктах. Установлено, что средняя продолжительность продажи квартиры составляет от 45 до 200 дней.(данный параметр имеет сдвиг вправо, за счет наличия долгих продаж). Долгая продажа составляет более 432 дней.\n",
    "Тенденции в показателях средней цены квадратного метра в зависимости от этажности характерны для общей выборки и для центра Санкт-Петербурга. Остальные зависимости и их степень характерные для общей выборки (удаленность от центра и т.д.), не характерны для центра Санкт-Петербурга."
   ]
  },
  {
   "cell_type": "markdown",
   "metadata": {},
   "source": [
    "<div class=\"alert alert-success\">\n",
    "<b>Комментарий ревьюера ✔️:</b> Супер, подробные и хорошие выводы"
   ]
  },
  {
   "cell_type": "markdown",
   "metadata": {},
   "source": [
    "<div class=\"alert alert-success\">\n",
    "<b>Комментарий ревьюера ✔️:</b> Антон, проект отличный! У тебя очень сильные аналитические навыки и владение инструментами для проведения исследования. Но всё же в проекте есть несколько замечаний и я попрошу тебя исправить их, чтобы он стал еще лучше! </div>"
   ]
  },
  {
   "cell_type": "markdown",
   "metadata": {},
   "source": [
    "## Чек-лист готовности проекта\n",
    "\n",
    "Поставьте 'x' в выполненных пунктах. Далее нажмите Shift+Enter."
   ]
  },
  {
   "cell_type": "markdown",
   "metadata": {},
   "source": [
    "- [x]  открыт файл\n",
    "- [x]  файлы изучены (выведены первые строки, метод `info()`)\n",
    "- [x]  определены пропущенные значения\n",
    "- [x]  заполнены пропущенные значения\n",
    "- [x]  есть пояснение, какие пропущенные значения обнаружены\n",
    "- [x]  изменены типы данных\n",
    "- [x]  есть пояснение, в каких столбцах изменены типы и почему\n",
    "- [x]  посчитано и добавлено в таблицу: цена квадратного метра\n",
    "- [x]  посчитано и добавлено в таблицу: день недели, месяц и год публикации объявления\n",
    "- [x]  посчитано и добавлено в таблицу: этаж квартиры; варианты — первый, последний, другой\n",
    "- [x]  посчитано и добавлено в таблицу: соотношение жилой и общей площади, а также отношение площади кухни к общей\n",
    "- [x]  изучены следующие параметры: площадь, цена, число комнат, высота потолков\n",
    "- [x]  построены гистограммы для каждого параметра\n",
    "- [x]  выполнено задание: «Изучите время продажи квартиры. Постройте гистограмму. Посчитайте среднее и медиану. Опишите, сколько обычно занимает продажа. Когда можно считать, что продажи прошли очень быстро, а когда необычно долго?»\n",
    "- [x]  выполнено задание: «Уберите редкие и выбивающиеся значения. Опишите, какие особенности обнаружили».\n",
    "- [x]  выполнено задание: «Какие факторы больше всего влияют на стоимость квартиры? Изучите, зависит ли цена от квадратного метра, числа комнат, этажа (первого или последнего), удалённости от центра. Также изучите зависимость от даты размещения: дня недели, месяца и года». \n",
    "- [x]  выполнено задание: «Выберите 10 населённых пунктов с наибольшим числом объявлений. Посчитайте среднюю цену квадратного метра в этих населённых пунктах. Выделите населённые пункты с самой высокой и низкой стоимостью жилья. Эти данные можно найти по имени в столбце `locality_name`».\n",
    "- [x]  выполнено задание: «Изучите предложения квартир: для каждой квартиры есть информация о расстоянии до центра. Выделите квартиры в Санкт-Петербурге (`locality_name`). Ваша задача — выяснить, какая область входит в центр. Создайте столбец с расстоянием до центра в километрах: округлите до целых значений. После этого посчитайте среднюю цену для каждого километра. Постройте график: он должен показывать, как цена зависит от удалённости от центра. Определите границу, где график сильно меняется — это и будет центральная зона».\n",
    "- [x]  выполнено задание: «Выделите сегмент квартир в центре. Проанализируйте эту территорию и изучите следующие параметры: площадь, цена, число комнат, высота потолков. Также выделите факторы, которые влияют на стоимость квартиры (число комнат, этаж, удалённость от центра, дата размещения объявления). Сделайте выводы. Отличаются ли они от общих выводов по всей базе?»\n",
    "- [x]  в каждом этапе есть выводы\n",
    "- [x]  есть общий вывод"
   ]
  },
  {
   "cell_type": "markdown",
   "metadata": {},
   "source": [
    "<div class=\"alert alert-info\"><div class=\"alert alert-info\"><b>Комментарий студента </b><br>\n",
    "    Дмирий, добрый день! Внес изменения в проект согласно твоим замечаниям.<div>\n",
    "    Дополнил корреляционный анализ формулировками о линености обнаруженной степени зависимости исследуемых показателей<br>\n",
    "    Добавил описание гистрограмм распредения исследуемых значений (стоимости квартиры, высоты потолков, количества комнат, общей площади)<br>\n",
    "    Сравнил статистические параметры целевых показателей и количественные параметры выборок исходной ис отброшенными аномальными значениями."
   ]
  },
  {
   "cell_type": "code",
   "execution_count": null,
   "metadata": {},
   "outputs": [],
   "source": []
  }
 ],
 "metadata": {
  "ExecuteTimeLog": [
   {
    "duration": 737,
    "start_time": "2022-03-12T08:12:46.359Z"
   },
   {
    "duration": 88,
    "start_time": "2022-03-12T08:12:47.898Z"
   },
   {
    "duration": 17,
    "start_time": "2022-03-12T08:12:48.791Z"
   },
   {
    "duration": 93,
    "start_time": "2022-03-12T08:22:07.729Z"
   },
   {
    "duration": 35,
    "start_time": "2022-03-12T08:22:08.953Z"
   },
   {
    "duration": 16,
    "start_time": "2022-03-12T08:22:22.547Z"
   },
   {
    "duration": 36,
    "start_time": "2022-03-12T08:30:04.870Z"
   },
   {
    "duration": 41,
    "start_time": "2022-03-12T09:06:05.521Z"
   },
   {
    "duration": 38,
    "start_time": "2022-03-12T09:07:40.584Z"
   },
   {
    "duration": 110,
    "start_time": "2022-03-12T09:11:15.421Z"
   },
   {
    "duration": 424,
    "start_time": "2022-03-12T09:11:23.137Z"
   },
   {
    "duration": 14,
    "start_time": "2022-03-12T09:11:45.186Z"
   },
   {
    "duration": 16,
    "start_time": "2022-03-12T09:19:33.242Z"
   },
   {
    "duration": 36,
    "start_time": "2022-03-12T09:21:39.527Z"
   },
   {
    "duration": 114,
    "start_time": "2022-03-12T09:25:47.545Z"
   },
   {
    "duration": 877,
    "start_time": "2022-03-12T09:33:21.165Z"
   },
   {
    "duration": 929,
    "start_time": "2022-03-12T09:34:03.753Z"
   },
   {
    "duration": 11,
    "start_time": "2022-03-12T09:35:17.030Z"
   },
   {
    "duration": 36,
    "start_time": "2022-03-12T09:35:20.634Z"
   },
   {
    "duration": 8,
    "start_time": "2022-03-12T09:36:16.677Z"
   },
   {
    "duration": 36,
    "start_time": "2022-03-12T09:36:18.286Z"
   },
   {
    "duration": 3,
    "start_time": "2022-03-12T09:36:25.953Z"
   },
   {
    "duration": 99,
    "start_time": "2022-03-12T09:36:26.436Z"
   },
   {
    "duration": 18,
    "start_time": "2022-03-12T09:36:27.031Z"
   },
   {
    "duration": 36,
    "start_time": "2022-03-12T09:36:31.011Z"
   },
   {
    "duration": 6,
    "start_time": "2022-03-12T09:36:41.193Z"
   },
   {
    "duration": 3111,
    "start_time": "2022-03-12T09:36:43.130Z"
   },
   {
    "duration": -4958,
    "start_time": "2022-03-12T09:36:51.202Z"
   },
   {
    "duration": 2378,
    "start_time": "2022-03-12T09:37:35.399Z"
   },
   {
    "duration": 2354,
    "start_time": "2022-03-12T09:38:15.593Z"
   },
   {
    "duration": 2372,
    "start_time": "2022-03-12T09:39:17.057Z"
   },
   {
    "duration": 12,
    "start_time": "2022-03-12T09:39:51.775Z"
   },
   {
    "duration": 36,
    "start_time": "2022-03-12T09:39:54.978Z"
   },
   {
    "duration": 7,
    "start_time": "2022-03-12T09:40:24.465Z"
   },
   {
    "duration": 37,
    "start_time": "2022-03-12T09:40:25.120Z"
   },
   {
    "duration": 16,
    "start_time": "2022-03-12T09:40:33.915Z"
   },
   {
    "duration": 393,
    "start_time": "2022-03-12T09:41:30.732Z"
   },
   {
    "duration": 337,
    "start_time": "2022-03-12T09:45:28.700Z"
   },
   {
    "duration": 345,
    "start_time": "2022-03-12T09:48:54.056Z"
   },
   {
    "duration": 11,
    "start_time": "2022-03-12T09:49:18.202Z"
   },
   {
    "duration": 15,
    "start_time": "2022-03-12T09:49:40.521Z"
   },
   {
    "duration": 11,
    "start_time": "2022-03-12T09:50:44.159Z"
   },
   {
    "duration": 3,
    "start_time": "2022-03-12T09:50:54.813Z"
   },
   {
    "duration": 85,
    "start_time": "2022-03-12T09:50:55.321Z"
   },
   {
    "duration": 16,
    "start_time": "2022-03-12T09:50:55.936Z"
   },
   {
    "duration": 12,
    "start_time": "2022-03-12T09:50:56.700Z"
   },
   {
    "duration": 34,
    "start_time": "2022-03-12T09:50:57.181Z"
   },
   {
    "duration": 6,
    "start_time": "2022-03-12T09:50:58.076Z"
   },
   {
    "duration": 12,
    "start_time": "2022-03-12T09:50:58.448Z"
   },
   {
    "duration": 13,
    "start_time": "2022-03-12T09:50:58.968Z"
   },
   {
    "duration": 15,
    "start_time": "2022-03-12T09:50:59.240Z"
   },
   {
    "duration": 335,
    "start_time": "2022-03-12T09:53:23.028Z"
   },
   {
    "duration": 12,
    "start_time": "2022-03-12T09:53:31.640Z"
   },
   {
    "duration": 72,
    "start_time": "2022-03-12T10:29:20.783Z"
   },
   {
    "duration": 25,
    "start_time": "2022-03-12T10:30:44.140Z"
   },
   {
    "duration": 21,
    "start_time": "2022-03-12T10:31:17.859Z"
   },
   {
    "duration": 16,
    "start_time": "2022-03-12T10:32:03.827Z"
   },
   {
    "duration": 735,
    "start_time": "2022-03-12T10:36:27.162Z"
   },
   {
    "duration": 106,
    "start_time": "2022-03-12T10:36:27.899Z"
   },
   {
    "duration": 32,
    "start_time": "2022-03-12T10:36:28.008Z"
   },
   {
    "duration": 19,
    "start_time": "2022-03-12T10:36:28.043Z"
   },
   {
    "duration": 36,
    "start_time": "2022-03-12T10:36:28.065Z"
   },
   {
    "duration": 30,
    "start_time": "2022-03-12T10:36:28.103Z"
   },
   {
    "duration": 11,
    "start_time": "2022-03-12T10:36:28.136Z"
   },
   {
    "duration": 10,
    "start_time": "2022-03-12T10:36:28.151Z"
   },
   {
    "duration": 14,
    "start_time": "2022-03-12T10:36:28.164Z"
   },
   {
    "duration": 539,
    "start_time": "2022-03-12T10:36:28.180Z"
   },
   {
    "duration": -5001,
    "start_time": "2022-03-12T10:36:33.723Z"
   },
   {
    "duration": 5,
    "start_time": "2022-03-12T10:37:04.322Z"
   },
   {
    "duration": 359,
    "start_time": "2022-03-12T10:37:14.773Z"
   },
   {
    "duration": 324,
    "start_time": "2022-03-12T10:38:02.814Z"
   },
   {
    "duration": 13,
    "start_time": "2022-03-12T10:38:09.700Z"
   },
   {
    "duration": 5,
    "start_time": "2022-03-12T10:38:10.411Z"
   },
   {
    "duration": 5,
    "start_time": "2022-03-12T10:38:11.109Z"
   },
   {
    "duration": 19,
    "start_time": "2022-03-12T10:38:45.162Z"
   },
   {
    "duration": 5,
    "start_time": "2022-03-12T10:40:34.419Z"
   },
   {
    "duration": 4,
    "start_time": "2022-03-12T10:42:20.200Z"
   },
   {
    "duration": 37,
    "start_time": "2022-03-12T10:42:37.619Z"
   },
   {
    "duration": 366,
    "start_time": "2022-03-12T10:47:12.098Z"
   },
   {
    "duration": 446,
    "start_time": "2022-03-12T10:55:47.451Z"
   },
   {
    "duration": 15,
    "start_time": "2022-03-12T10:56:45.519Z"
   },
   {
    "duration": 12,
    "start_time": "2022-03-12T11:00:48.220Z"
   },
   {
    "duration": 7,
    "start_time": "2022-03-12T11:06:13.537Z"
   },
   {
    "duration": 18,
    "start_time": "2022-03-12T11:06:29.515Z"
   },
   {
    "duration": 6,
    "start_time": "2022-03-12T11:06:44.277Z"
   },
   {
    "duration": 12,
    "start_time": "2022-03-12T11:08:01.561Z"
   },
   {
    "duration": 30,
    "start_time": "2022-03-12T11:08:38.537Z"
   },
   {
    "duration": 18,
    "start_time": "2022-03-12T11:08:49.407Z"
   },
   {
    "duration": 7,
    "start_time": "2022-03-12T11:15:55.638Z"
   },
   {
    "duration": 5,
    "start_time": "2022-03-12T11:18:34.498Z"
   },
   {
    "duration": 6,
    "start_time": "2022-03-12T11:18:35.411Z"
   },
   {
    "duration": 6,
    "start_time": "2022-03-12T11:18:35.704Z"
   },
   {
    "duration": 14,
    "start_time": "2022-03-12T13:04:54.028Z"
   },
   {
    "duration": 16,
    "start_time": "2022-03-12T13:05:07.227Z"
   },
   {
    "duration": 419,
    "start_time": "2022-03-12T13:06:01.130Z"
   },
   {
    "duration": 7,
    "start_time": "2022-03-12T13:06:10.716Z"
   },
   {
    "duration": 15,
    "start_time": "2022-03-12T13:06:14.402Z"
   },
   {
    "duration": 70,
    "start_time": "2022-03-12T13:09:20.869Z"
   },
   {
    "duration": 744,
    "start_time": "2022-03-12T13:09:51.972Z"
   },
   {
    "duration": 100,
    "start_time": "2022-03-12T13:09:52.718Z"
   },
   {
    "duration": 21,
    "start_time": "2022-03-12T13:09:52.821Z"
   },
   {
    "duration": 26,
    "start_time": "2022-03-12T13:09:52.845Z"
   },
   {
    "duration": 109,
    "start_time": "2022-03-12T13:09:52.874Z"
   },
   {
    "duration": 6,
    "start_time": "2022-03-12T13:09:52.986Z"
   },
   {
    "duration": 17,
    "start_time": "2022-03-12T13:09:52.994Z"
   },
   {
    "duration": 10,
    "start_time": "2022-03-12T13:09:53.033Z"
   },
   {
    "duration": 12,
    "start_time": "2022-03-12T13:09:53.047Z"
   },
   {
    "duration": 4,
    "start_time": "2022-03-12T13:09:53.062Z"
   },
   {
    "duration": 10,
    "start_time": "2022-03-12T13:09:53.069Z"
   },
   {
    "duration": 53,
    "start_time": "2022-03-12T13:09:53.081Z"
   },
   {
    "duration": 17,
    "start_time": "2022-03-12T13:09:53.137Z"
   },
   {
    "duration": 10,
    "start_time": "2022-03-12T13:09:53.157Z"
   },
   {
    "duration": 7,
    "start_time": "2022-03-12T13:09:53.170Z"
   },
   {
    "duration": 58,
    "start_time": "2022-03-12T13:09:53.180Z"
   },
   {
    "duration": 7,
    "start_time": "2022-03-12T13:09:53.241Z"
   },
   {
    "duration": 17,
    "start_time": "2022-03-12T13:09:53.251Z"
   },
   {
    "duration": 824,
    "start_time": "2022-03-12T13:13:47.141Z"
   },
   {
    "duration": 95,
    "start_time": "2022-03-12T13:13:47.967Z"
   },
   {
    "duration": 17,
    "start_time": "2022-03-12T13:13:48.065Z"
   },
   {
    "duration": 53,
    "start_time": "2022-03-12T13:13:48.086Z"
   },
   {
    "duration": 115,
    "start_time": "2022-03-12T13:13:48.142Z"
   },
   {
    "duration": 11,
    "start_time": "2022-03-12T13:13:48.260Z"
   },
   {
    "duration": 20,
    "start_time": "2022-03-12T13:13:48.274Z"
   },
   {
    "duration": 40,
    "start_time": "2022-03-12T13:13:48.300Z"
   },
   {
    "duration": 16,
    "start_time": "2022-03-12T13:13:48.344Z"
   },
   {
    "duration": 8,
    "start_time": "2022-03-12T13:13:48.362Z"
   },
   {
    "duration": 13,
    "start_time": "2022-03-12T13:13:48.372Z"
   },
   {
    "duration": 8,
    "start_time": "2022-03-12T13:13:48.388Z"
   },
   {
    "duration": 47,
    "start_time": "2022-03-12T13:13:48.398Z"
   },
   {
    "duration": 9,
    "start_time": "2022-03-12T13:13:48.447Z"
   },
   {
    "duration": 6,
    "start_time": "2022-03-12T13:13:48.458Z"
   },
   {
    "duration": 8,
    "start_time": "2022-03-12T13:13:48.467Z"
   },
   {
    "duration": 7,
    "start_time": "2022-03-12T13:13:48.477Z"
   },
   {
    "duration": 17,
    "start_time": "2022-03-12T13:13:48.534Z"
   },
   {
    "duration": 6,
    "start_time": "2022-03-12T13:15:50.616Z"
   },
   {
    "duration": 6,
    "start_time": "2022-03-12T13:16:14.436Z"
   },
   {
    "duration": 6,
    "start_time": "2022-03-12T13:17:14.159Z"
   },
   {
    "duration": 105,
    "start_time": "2022-03-12T13:17:37.686Z"
   },
   {
    "duration": 6,
    "start_time": "2022-03-12T13:17:45.036Z"
   },
   {
    "duration": 20,
    "start_time": "2022-03-12T13:17:51.127Z"
   },
   {
    "duration": 8,
    "start_time": "2022-03-12T13:18:31.329Z"
   },
   {
    "duration": 9,
    "start_time": "2022-03-12T13:23:32.877Z"
   },
   {
    "duration": 14,
    "start_time": "2022-03-12T13:23:59.280Z"
   },
   {
    "duration": 15,
    "start_time": "2022-03-12T13:27:21.436Z"
   },
   {
    "duration": 12,
    "start_time": "2022-03-12T13:27:24.315Z"
   },
   {
    "duration": 15,
    "start_time": "2022-03-12T13:27:46.193Z"
   },
   {
    "duration": 10,
    "start_time": "2022-03-12T13:30:04.435Z"
   },
   {
    "duration": 792,
    "start_time": "2022-03-12T13:31:19.089Z"
   },
   {
    "duration": 92,
    "start_time": "2022-03-12T13:31:19.884Z"
   },
   {
    "duration": 17,
    "start_time": "2022-03-12T13:31:19.978Z"
   },
   {
    "duration": 42,
    "start_time": "2022-03-12T13:31:19.997Z"
   },
   {
    "duration": 66,
    "start_time": "2022-03-12T13:31:20.041Z"
   },
   {
    "duration": 8,
    "start_time": "2022-03-12T13:31:20.136Z"
   },
   {
    "duration": 20,
    "start_time": "2022-03-12T13:31:20.146Z"
   },
   {
    "duration": 18,
    "start_time": "2022-03-12T13:31:20.171Z"
   },
   {
    "duration": 17,
    "start_time": "2022-03-12T13:31:20.193Z"
   },
   {
    "duration": 21,
    "start_time": "2022-03-12T13:31:20.213Z"
   },
   {
    "duration": 11,
    "start_time": "2022-03-12T13:31:20.237Z"
   },
   {
    "duration": 5,
    "start_time": "2022-03-12T13:31:20.251Z"
   },
   {
    "duration": 16,
    "start_time": "2022-03-12T13:31:20.258Z"
   },
   {
    "duration": 7,
    "start_time": "2022-03-12T13:31:20.277Z"
   },
   {
    "duration": 6,
    "start_time": "2022-03-12T13:31:20.333Z"
   },
   {
    "duration": 7,
    "start_time": "2022-03-12T13:31:20.342Z"
   },
   {
    "duration": 7,
    "start_time": "2022-03-12T13:31:20.352Z"
   },
   {
    "duration": 11,
    "start_time": "2022-03-12T13:31:20.362Z"
   },
   {
    "duration": 62,
    "start_time": "2022-03-12T13:31:20.376Z"
   },
   {
    "duration": 14,
    "start_time": "2022-03-12T13:31:20.440Z"
   },
   {
    "duration": 11,
    "start_time": "2022-03-12T13:31:20.456Z"
   },
   {
    "duration": 13,
    "start_time": "2022-03-12T13:32:38.895Z"
   },
   {
    "duration": 11,
    "start_time": "2022-03-12T13:33:33.343Z"
   },
   {
    "duration": 9,
    "start_time": "2022-03-12T13:34:09.440Z"
   },
   {
    "duration": 8,
    "start_time": "2022-03-12T13:35:30.695Z"
   },
   {
    "duration": 8745,
    "start_time": "2022-03-12T13:35:59.997Z"
   },
   {
    "duration": 4,
    "start_time": "2022-03-12T13:37:36.733Z"
   },
   {
    "duration": 113,
    "start_time": "2022-03-12T13:37:49.628Z"
   },
   {
    "duration": 7,
    "start_time": "2022-03-12T13:38:08.849Z"
   },
   {
    "duration": 6,
    "start_time": "2022-03-12T13:41:52.453Z"
   },
   {
    "duration": 8915,
    "start_time": "2022-03-12T13:41:53.770Z"
   },
   {
    "duration": 8720,
    "start_time": "2022-03-12T13:43:41.487Z"
   },
   {
    "duration": 778,
    "start_time": "2022-03-12T13:44:24.225Z"
   },
   {
    "duration": 94,
    "start_time": "2022-03-12T13:44:25.006Z"
   },
   {
    "duration": 17,
    "start_time": "2022-03-12T13:44:25.103Z"
   },
   {
    "duration": 33,
    "start_time": "2022-03-12T13:44:25.123Z"
   },
   {
    "duration": 91,
    "start_time": "2022-03-12T13:44:25.159Z"
   },
   {
    "duration": 8,
    "start_time": "2022-03-12T13:44:25.253Z"
   },
   {
    "duration": 14,
    "start_time": "2022-03-12T13:44:25.264Z"
   },
   {
    "duration": 14,
    "start_time": "2022-03-12T13:44:25.281Z"
   },
   {
    "duration": 41,
    "start_time": "2022-03-12T13:44:25.298Z"
   },
   {
    "duration": 4,
    "start_time": "2022-03-12T13:44:25.342Z"
   },
   {
    "duration": 9,
    "start_time": "2022-03-12T13:44:25.348Z"
   },
   {
    "duration": 6,
    "start_time": "2022-03-12T13:44:25.360Z"
   },
   {
    "duration": 14,
    "start_time": "2022-03-12T13:44:25.368Z"
   },
   {
    "duration": 53,
    "start_time": "2022-03-12T13:44:25.384Z"
   },
   {
    "duration": 6,
    "start_time": "2022-03-12T13:44:25.439Z"
   },
   {
    "duration": 6,
    "start_time": "2022-03-12T13:44:25.447Z"
   },
   {
    "duration": 6,
    "start_time": "2022-03-12T13:44:25.455Z"
   },
   {
    "duration": 9,
    "start_time": "2022-03-12T13:44:25.463Z"
   },
   {
    "duration": 64,
    "start_time": "2022-03-12T13:44:25.475Z"
   },
   {
    "duration": 11,
    "start_time": "2022-03-12T13:44:25.541Z"
   },
   {
    "duration": 11,
    "start_time": "2022-03-12T13:44:25.555Z"
   },
   {
    "duration": 6,
    "start_time": "2022-03-12T13:44:25.568Z"
   },
   {
    "duration": 9213,
    "start_time": "2022-03-12T13:44:25.578Z"
   },
   {
    "duration": 38,
    "start_time": "2022-03-12T13:45:04.841Z"
   },
   {
    "duration": 8741,
    "start_time": "2022-03-12T13:45:48.687Z"
   },
   {
    "duration": 8892,
    "start_time": "2022-03-12T13:46:00.115Z"
   },
   {
    "duration": 6,
    "start_time": "2022-03-12T13:46:51.670Z"
   },
   {
    "duration": 13,
    "start_time": "2022-03-12T13:47:15.682Z"
   },
   {
    "duration": 790,
    "start_time": "2022-03-12T13:55:43.528Z"
   },
   {
    "duration": 99,
    "start_time": "2022-03-12T13:55:44.321Z"
   },
   {
    "duration": 16,
    "start_time": "2022-03-12T13:55:44.423Z"
   },
   {
    "duration": 21,
    "start_time": "2022-03-12T13:55:44.441Z"
   },
   {
    "duration": 83,
    "start_time": "2022-03-12T13:55:44.464Z"
   },
   {
    "duration": 8,
    "start_time": "2022-03-12T13:55:44.550Z"
   },
   {
    "duration": 11,
    "start_time": "2022-03-12T13:55:44.561Z"
   },
   {
    "duration": 11,
    "start_time": "2022-03-12T13:55:44.576Z"
   },
   {
    "duration": 44,
    "start_time": "2022-03-12T13:55:44.590Z"
   },
   {
    "duration": 4,
    "start_time": "2022-03-12T13:55:44.637Z"
   },
   {
    "duration": 9,
    "start_time": "2022-03-12T13:55:44.643Z"
   },
   {
    "duration": 6,
    "start_time": "2022-03-12T13:55:44.654Z"
   },
   {
    "duration": 16,
    "start_time": "2022-03-12T13:55:44.662Z"
   },
   {
    "duration": 6,
    "start_time": "2022-03-12T13:55:44.680Z"
   },
   {
    "duration": 50,
    "start_time": "2022-03-12T13:55:44.688Z"
   },
   {
    "duration": 6,
    "start_time": "2022-03-12T13:55:44.741Z"
   },
   {
    "duration": 7,
    "start_time": "2022-03-12T13:55:44.750Z"
   },
   {
    "duration": 7,
    "start_time": "2022-03-12T13:55:44.759Z"
   },
   {
    "duration": 9,
    "start_time": "2022-03-12T13:55:44.769Z"
   },
   {
    "duration": 14,
    "start_time": "2022-03-12T13:55:44.833Z"
   },
   {
    "duration": 11,
    "start_time": "2022-03-12T13:55:44.849Z"
   },
   {
    "duration": 10,
    "start_time": "2022-03-12T13:55:44.862Z"
   },
   {
    "duration": 80,
    "start_time": "2022-03-12T13:55:44.876Z"
   },
   {
    "duration": 6,
    "start_time": "2022-03-12T13:55:44.958Z"
   },
   {
    "duration": 19,
    "start_time": "2022-03-12T13:55:44.966Z"
   },
   {
    "duration": 6,
    "start_time": "2022-03-12T13:56:04.472Z"
   },
   {
    "duration": 7,
    "start_time": "2022-03-12T14:07:08.819Z"
   },
   {
    "duration": 12,
    "start_time": "2022-03-12T14:29:09.851Z"
   },
   {
    "duration": 108,
    "start_time": "2022-03-12T14:36:45.627Z"
   },
   {
    "duration": 10,
    "start_time": "2022-03-12T14:37:08.103Z"
   },
   {
    "duration": 10,
    "start_time": "2022-03-12T14:37:28.474Z"
   },
   {
    "duration": 9,
    "start_time": "2022-03-12T14:37:35.976Z"
   },
   {
    "duration": 11,
    "start_time": "2022-03-12T14:37:40.459Z"
   },
   {
    "duration": 12,
    "start_time": "2022-03-12T14:38:08.305Z"
   },
   {
    "duration": 9,
    "start_time": "2022-03-12T14:38:37.530Z"
   },
   {
    "duration": 11,
    "start_time": "2022-03-12T14:38:44.515Z"
   },
   {
    "duration": 7,
    "start_time": "2022-03-12T14:38:55.478Z"
   },
   {
    "duration": 5,
    "start_time": "2022-03-12T14:46:46.597Z"
   },
   {
    "duration": 6,
    "start_time": "2022-03-12T14:46:58.323Z"
   },
   {
    "duration": 8,
    "start_time": "2022-03-12T14:48:00.131Z"
   },
   {
    "duration": 12,
    "start_time": "2022-03-12T14:49:44.843Z"
   },
   {
    "duration": 11,
    "start_time": "2022-03-12T14:50:11.733Z"
   },
   {
    "duration": 38,
    "start_time": "2022-03-12T14:51:36.871Z"
   },
   {
    "duration": 8,
    "start_time": "2022-03-12T14:52:35.550Z"
   },
   {
    "duration": 37,
    "start_time": "2022-03-12T14:52:40.843Z"
   },
   {
    "duration": 14,
    "start_time": "2022-03-12T14:53:25.843Z"
   },
   {
    "duration": 41,
    "start_time": "2022-03-12T14:57:30.348Z"
   },
   {
    "duration": 19,
    "start_time": "2022-03-12T15:09:19.001Z"
   },
   {
    "duration": 48,
    "start_time": "2022-03-12T15:09:52.057Z"
   },
   {
    "duration": 668,
    "start_time": "2022-03-12T15:18:28.851Z"
   },
   {
    "duration": 8,
    "start_time": "2022-03-12T15:19:19.704Z"
   },
   {
    "duration": 62,
    "start_time": "2022-03-12T15:20:06.217Z"
   },
   {
    "duration": 822,
    "start_time": "2022-03-12T15:26:15.642Z"
   },
   {
    "duration": 93,
    "start_time": "2022-03-12T15:26:16.467Z"
   },
   {
    "duration": 15,
    "start_time": "2022-03-12T15:26:16.563Z"
   },
   {
    "duration": 31,
    "start_time": "2022-03-12T15:26:16.581Z"
   },
   {
    "duration": 79,
    "start_time": "2022-03-12T15:26:16.614Z"
   },
   {
    "duration": 9,
    "start_time": "2022-03-12T15:26:16.695Z"
   },
   {
    "duration": 16,
    "start_time": "2022-03-12T15:26:16.733Z"
   },
   {
    "duration": 11,
    "start_time": "2022-03-12T15:26:16.920Z"
   },
   {
    "duration": 13,
    "start_time": "2022-03-12T15:26:17.333Z"
   },
   {
    "duration": 12,
    "start_time": "2022-03-12T15:26:17.348Z"
   },
   {
    "duration": 7,
    "start_time": "2022-03-12T15:26:17.650Z"
   },
   {
    "duration": 7,
    "start_time": "2022-03-12T15:26:18.161Z"
   },
   {
    "duration": 131,
    "start_time": "2022-03-12T15:26:18.173Z"
   },
   {
    "duration": -7508,
    "start_time": "2022-03-12T15:26:25.815Z"
   },
   {
    "duration": -7536,
    "start_time": "2022-03-12T15:26:25.845Z"
   },
   {
    "duration": 6,
    "start_time": "2022-03-12T15:26:18.662Z"
   },
   {
    "duration": 5,
    "start_time": "2022-03-12T15:26:18.679Z"
   },
   {
    "duration": 6,
    "start_time": "2022-03-12T15:26:18.712Z"
   },
   {
    "duration": 5,
    "start_time": "2022-03-12T15:26:18.721Z"
   },
   {
    "duration": 8,
    "start_time": "2022-03-12T15:26:19.120Z"
   },
   {
    "duration": 20,
    "start_time": "2022-03-12T15:26:19.134Z"
   },
   {
    "duration": 9,
    "start_time": "2022-03-12T15:26:19.157Z"
   },
   {
    "duration": 27,
    "start_time": "2022-03-12T15:26:19.169Z"
   },
   {
    "duration": 11,
    "start_time": "2022-03-12T15:26:19.198Z"
   },
   {
    "duration": 6,
    "start_time": "2022-03-12T15:26:19.232Z"
   },
   {
    "duration": 9,
    "start_time": "2022-03-12T15:26:19.240Z"
   },
   {
    "duration": 19,
    "start_time": "2022-03-12T15:26:19.252Z"
   },
   {
    "duration": 11,
    "start_time": "2022-03-12T15:26:19.274Z"
   },
   {
    "duration": 6,
    "start_time": "2022-03-12T15:26:19.287Z"
   },
   {
    "duration": 38,
    "start_time": "2022-03-12T15:26:19.296Z"
   },
   {
    "duration": 37,
    "start_time": "2022-03-12T15:26:19.952Z"
   },
   {
    "duration": 48,
    "start_time": "2022-03-12T15:26:19.992Z"
   },
   {
    "duration": 111,
    "start_time": "2022-03-12T15:26:20.043Z"
   },
   {
    "duration": 16,
    "start_time": "2022-03-12T15:27:29.187Z"
   },
   {
    "duration": 7,
    "start_time": "2022-03-12T15:27:30.014Z"
   },
   {
    "duration": 809,
    "start_time": "2022-03-12T15:27:57.004Z"
   },
   {
    "duration": 88,
    "start_time": "2022-03-12T15:27:57.815Z"
   },
   {
    "duration": 28,
    "start_time": "2022-03-12T15:27:57.906Z"
   },
   {
    "duration": 20,
    "start_time": "2022-03-12T15:27:57.937Z"
   },
   {
    "duration": 89,
    "start_time": "2022-03-12T15:27:57.959Z"
   },
   {
    "duration": 7,
    "start_time": "2022-03-12T15:27:58.050Z"
   },
   {
    "duration": 12,
    "start_time": "2022-03-12T15:27:58.060Z"
   },
   {
    "duration": 11,
    "start_time": "2022-03-12T15:27:58.075Z"
   },
   {
    "duration": 44,
    "start_time": "2022-03-12T15:27:58.089Z"
   },
   {
    "duration": 12,
    "start_time": "2022-03-12T15:27:58.136Z"
   },
   {
    "duration": 6,
    "start_time": "2022-03-12T15:27:58.150Z"
   },
   {
    "duration": 6,
    "start_time": "2022-03-12T15:27:58.159Z"
   },
   {
    "duration": 13,
    "start_time": "2022-03-12T15:27:58.167Z"
   },
   {
    "duration": 5,
    "start_time": "2022-03-12T15:27:58.182Z"
   },
   {
    "duration": 8,
    "start_time": "2022-03-12T15:27:58.233Z"
   },
   {
    "duration": 7,
    "start_time": "2022-03-12T15:27:58.243Z"
   },
   {
    "duration": 6,
    "start_time": "2022-03-12T15:27:58.252Z"
   },
   {
    "duration": 14,
    "start_time": "2022-03-12T15:27:58.260Z"
   },
   {
    "duration": 12,
    "start_time": "2022-03-12T15:27:58.276Z"
   },
   {
    "duration": 48,
    "start_time": "2022-03-12T15:27:58.290Z"
   },
   {
    "duration": 10,
    "start_time": "2022-03-12T15:27:58.340Z"
   },
   {
    "duration": 28,
    "start_time": "2022-03-12T15:27:58.352Z"
   },
   {
    "duration": 11,
    "start_time": "2022-03-12T15:27:58.384Z"
   },
   {
    "duration": 36,
    "start_time": "2022-03-12T15:27:58.398Z"
   },
   {
    "duration": 10,
    "start_time": "2022-03-12T15:27:58.437Z"
   },
   {
    "duration": 18,
    "start_time": "2022-03-12T15:27:58.450Z"
   },
   {
    "duration": 8,
    "start_time": "2022-03-12T15:27:58.471Z"
   },
   {
    "duration": 6,
    "start_time": "2022-03-12T15:27:58.482Z"
   },
   {
    "duration": 19,
    "start_time": "2022-03-12T15:27:58.490Z"
   },
   {
    "duration": 39,
    "start_time": "2022-03-12T15:27:58.532Z"
   },
   {
    "duration": 73,
    "start_time": "2022-03-12T15:27:58.573Z"
   },
   {
    "duration": 4,
    "start_time": "2022-03-12T15:27:58.648Z"
   },
   {
    "duration": 38,
    "start_time": "2022-03-12T15:29:38.109Z"
   },
   {
    "duration": 18,
    "start_time": "2022-03-12T15:30:42.293Z"
   },
   {
    "duration": 761,
    "start_time": "2022-03-12T15:30:54.650Z"
   },
   {
    "duration": 89,
    "start_time": "2022-03-12T15:30:55.413Z"
   },
   {
    "duration": 27,
    "start_time": "2022-03-12T15:30:55.505Z"
   },
   {
    "duration": 19,
    "start_time": "2022-03-12T15:30:55.535Z"
   },
   {
    "duration": 39,
    "start_time": "2022-03-12T15:30:55.556Z"
   },
   {
    "duration": 39,
    "start_time": "2022-03-12T15:30:55.598Z"
   },
   {
    "duration": 14,
    "start_time": "2022-03-12T15:30:55.639Z"
   },
   {
    "duration": 11,
    "start_time": "2022-03-12T15:30:55.657Z"
   },
   {
    "duration": 15,
    "start_time": "2022-03-12T15:30:55.672Z"
   },
   {
    "duration": 46,
    "start_time": "2022-03-12T15:30:55.689Z"
   },
   {
    "duration": 7,
    "start_time": "2022-03-12T15:30:55.737Z"
   },
   {
    "duration": 5,
    "start_time": "2022-03-12T15:30:55.747Z"
   },
   {
    "duration": 12,
    "start_time": "2022-03-12T15:30:55.754Z"
   },
   {
    "duration": 5,
    "start_time": "2022-03-12T15:30:55.769Z"
   },
   {
    "duration": 5,
    "start_time": "2022-03-12T15:30:55.776Z"
   },
   {
    "duration": 50,
    "start_time": "2022-03-12T15:30:55.784Z"
   },
   {
    "duration": 5,
    "start_time": "2022-03-12T15:30:55.837Z"
   },
   {
    "duration": 6,
    "start_time": "2022-03-12T15:30:55.844Z"
   },
   {
    "duration": 7,
    "start_time": "2022-03-12T15:30:55.852Z"
   },
   {
    "duration": 15,
    "start_time": "2022-03-12T15:30:55.862Z"
   },
   {
    "duration": 57,
    "start_time": "2022-03-12T15:30:55.880Z"
   },
   {
    "duration": 27,
    "start_time": "2022-03-12T15:30:55.940Z"
   },
   {
    "duration": 9,
    "start_time": "2022-03-12T15:30:55.972Z"
   },
   {
    "duration": 6,
    "start_time": "2022-03-12T15:30:55.984Z"
   },
   {
    "duration": 43,
    "start_time": "2022-03-12T15:30:55.992Z"
   },
   {
    "duration": 14,
    "start_time": "2022-03-12T15:30:56.038Z"
   },
   {
    "duration": 11,
    "start_time": "2022-03-12T15:30:56.055Z"
   },
   {
    "duration": 8,
    "start_time": "2022-03-12T15:30:56.069Z"
   },
   {
    "duration": 12,
    "start_time": "2022-03-12T15:30:56.080Z"
   },
   {
    "duration": 77,
    "start_time": "2022-03-12T15:30:56.094Z"
   },
   {
    "duration": 69,
    "start_time": "2022-03-12T15:30:56.173Z"
   },
   {
    "duration": 114,
    "start_time": "2022-03-12T15:30:56.245Z"
   },
   {
    "duration": 1786,
    "start_time": "2022-03-12T15:39:31.746Z"
   },
   {
    "duration": 1217,
    "start_time": "2022-03-12T15:45:27.525Z"
   },
   {
    "duration": 1431,
    "start_time": "2022-03-12T15:45:52.268Z"
   },
   {
    "duration": 1326,
    "start_time": "2022-03-12T15:45:59.953Z"
   },
   {
    "duration": 1198,
    "start_time": "2022-03-12T15:46:42.241Z"
   },
   {
    "duration": 1533,
    "start_time": "2022-03-12T15:47:48.732Z"
   },
   {
    "duration": 6,
    "start_time": "2022-03-12T15:50:09.952Z"
   },
   {
    "duration": 8996,
    "start_time": "2022-03-12T15:50:11.058Z"
   },
   {
    "duration": 40,
    "start_time": "2022-03-12T15:50:28.012Z"
   },
   {
    "duration": 295,
    "start_time": "2022-03-13T07:09:37.390Z"
   },
   {
    "duration": 559,
    "start_time": "2022-03-13T07:09:48.681Z"
   },
   {
    "duration": 74,
    "start_time": "2022-03-13T07:09:49.241Z"
   },
   {
    "duration": 11,
    "start_time": "2022-03-13T07:09:49.317Z"
   },
   {
    "duration": 14,
    "start_time": "2022-03-13T07:09:49.333Z"
   },
   {
    "duration": 23,
    "start_time": "2022-03-13T07:09:49.348Z"
   },
   {
    "duration": 6,
    "start_time": "2022-03-13T07:09:49.372Z"
   },
   {
    "duration": 9,
    "start_time": "2022-03-13T07:09:49.379Z"
   },
   {
    "duration": 17,
    "start_time": "2022-03-13T07:09:49.390Z"
   },
   {
    "duration": 32,
    "start_time": "2022-03-13T07:09:49.409Z"
   },
   {
    "duration": 12,
    "start_time": "2022-03-13T07:09:49.442Z"
   },
   {
    "duration": 5,
    "start_time": "2022-03-13T07:09:49.456Z"
   },
   {
    "duration": 7,
    "start_time": "2022-03-13T07:09:49.463Z"
   },
   {
    "duration": 11,
    "start_time": "2022-03-13T07:09:49.471Z"
   },
   {
    "duration": 6,
    "start_time": "2022-03-13T07:09:49.484Z"
   },
   {
    "duration": 7,
    "start_time": "2022-03-13T07:09:49.491Z"
   },
   {
    "duration": 7,
    "start_time": "2022-03-13T07:09:49.499Z"
   },
   {
    "duration": 26,
    "start_time": "2022-03-13T07:09:49.507Z"
   },
   {
    "duration": 4,
    "start_time": "2022-03-13T07:09:49.535Z"
   },
   {
    "duration": 11,
    "start_time": "2022-03-13T07:09:49.541Z"
   },
   {
    "duration": 14,
    "start_time": "2022-03-13T07:09:49.553Z"
   },
   {
    "duration": 7,
    "start_time": "2022-03-13T07:09:49.569Z"
   },
   {
    "duration": 17,
    "start_time": "2022-03-13T07:09:49.577Z"
   },
   {
    "duration": 7,
    "start_time": "2022-03-13T07:09:49.597Z"
   },
   {
    "duration": 30,
    "start_time": "2022-03-13T07:09:49.605Z"
   },
   {
    "duration": 11,
    "start_time": "2022-03-13T07:09:49.637Z"
   },
   {
    "duration": 11,
    "start_time": "2022-03-13T07:09:49.650Z"
   },
   {
    "duration": 5,
    "start_time": "2022-03-13T07:09:49.662Z"
   },
   {
    "duration": 11,
    "start_time": "2022-03-13T07:09:49.669Z"
   },
   {
    "duration": 17,
    "start_time": "2022-03-13T07:09:49.682Z"
   },
   {
    "duration": 26,
    "start_time": "2022-03-13T07:09:49.701Z"
   },
   {
    "duration": 31,
    "start_time": "2022-03-13T07:09:49.732Z"
   },
   {
    "duration": 692,
    "start_time": "2022-03-13T07:09:49.765Z"
   },
   {
    "duration": 3,
    "start_time": "2022-03-13T07:09:50.459Z"
   },
   {
    "duration": 26,
    "start_time": "2022-03-13T07:09:50.463Z"
   },
   {
    "duration": 290,
    "start_time": "2022-03-13T07:09:50.491Z"
   },
   {
    "duration": 152,
    "start_time": "2022-03-13T07:10:05.654Z"
   },
   {
    "duration": 286,
    "start_time": "2022-03-13T07:10:58.695Z"
   },
   {
    "duration": 301,
    "start_time": "2022-03-13T07:12:04.747Z"
   },
   {
    "duration": 297,
    "start_time": "2022-03-13T07:12:14.039Z"
   },
   {
    "duration": 302,
    "start_time": "2022-03-13T07:12:20.678Z"
   },
   {
    "duration": 361,
    "start_time": "2022-03-13T07:12:56.481Z"
   },
   {
    "duration": 326,
    "start_time": "2022-03-13T07:14:17.921Z"
   },
   {
    "duration": 897,
    "start_time": "2022-03-13T07:14:24.949Z"
   },
   {
    "duration": 181,
    "start_time": "2022-03-13T07:14:33.617Z"
   },
   {
    "duration": 1663,
    "start_time": "2022-03-13T07:14:45.914Z"
   },
   {
    "duration": 8034,
    "start_time": "2022-03-13T07:15:19.786Z"
   },
   {
    "duration": 313,
    "start_time": "2022-03-13T07:16:30.290Z"
   },
   {
    "duration": 14,
    "start_time": "2022-03-13T07:16:55.555Z"
   },
   {
    "duration": 559,
    "start_time": "2022-03-13T07:17:43.330Z"
   },
   {
    "duration": 1231,
    "start_time": "2022-03-13T07:18:05.388Z"
   },
   {
    "duration": 172,
    "start_time": "2022-03-13T07:18:37.881Z"
   },
   {
    "duration": 309,
    "start_time": "2022-03-13T07:18:51.409Z"
   },
   {
    "duration": 514,
    "start_time": "2022-03-13T07:21:20.019Z"
   },
   {
    "duration": 435,
    "start_time": "2022-03-13T07:22:25.139Z"
   },
   {
    "duration": 311,
    "start_time": "2022-03-13T07:22:39.375Z"
   },
   {
    "duration": 4,
    "start_time": "2022-03-13T07:24:18.096Z"
   },
   {
    "duration": 328,
    "start_time": "2022-03-13T07:24:21.185Z"
   },
   {
    "duration": 28,
    "start_time": "2022-03-13T07:24:43.812Z"
   },
   {
    "duration": 349,
    "start_time": "2022-03-13T07:25:56.645Z"
   },
   {
    "duration": 374,
    "start_time": "2022-03-13T07:26:00.299Z"
   },
   {
    "duration": 22,
    "start_time": "2022-03-13T07:26:35.081Z"
   },
   {
    "duration": 32,
    "start_time": "2022-03-13T07:26:44.721Z"
   },
   {
    "duration": 30,
    "start_time": "2022-03-13T07:26:56.130Z"
   },
   {
    "duration": 31,
    "start_time": "2022-03-13T07:27:02.328Z"
   },
   {
    "duration": 603,
    "start_time": "2022-03-13T07:27:31.349Z"
   },
   {
    "duration": 72,
    "start_time": "2022-03-13T07:27:31.954Z"
   },
   {
    "duration": 20,
    "start_time": "2022-03-13T07:27:32.028Z"
   },
   {
    "duration": 13,
    "start_time": "2022-03-13T07:27:32.050Z"
   },
   {
    "duration": 22,
    "start_time": "2022-03-13T07:27:32.065Z"
   },
   {
    "duration": 6,
    "start_time": "2022-03-13T07:27:32.088Z"
   },
   {
    "duration": 10,
    "start_time": "2022-03-13T07:27:32.095Z"
   },
   {
    "duration": 36,
    "start_time": "2022-03-13T07:27:32.108Z"
   },
   {
    "duration": 22,
    "start_time": "2022-03-13T07:27:32.147Z"
   },
   {
    "duration": 18,
    "start_time": "2022-03-13T07:27:32.171Z"
   },
   {
    "duration": 7,
    "start_time": "2022-03-13T07:27:32.190Z"
   },
   {
    "duration": 5,
    "start_time": "2022-03-13T07:27:32.199Z"
   },
   {
    "duration": 10,
    "start_time": "2022-03-13T07:27:32.205Z"
   },
   {
    "duration": 9,
    "start_time": "2022-03-13T07:27:32.233Z"
   },
   {
    "duration": 10,
    "start_time": "2022-03-13T07:27:32.245Z"
   },
   {
    "duration": 4,
    "start_time": "2022-03-13T07:27:32.257Z"
   },
   {
    "duration": 16,
    "start_time": "2022-03-13T07:27:32.262Z"
   },
   {
    "duration": 10,
    "start_time": "2022-03-13T07:27:32.279Z"
   },
   {
    "duration": 10,
    "start_time": "2022-03-13T07:27:32.290Z"
   },
   {
    "duration": 15,
    "start_time": "2022-03-13T07:27:32.301Z"
   },
   {
    "duration": 19,
    "start_time": "2022-03-13T07:27:32.317Z"
   },
   {
    "duration": 18,
    "start_time": "2022-03-13T07:27:32.339Z"
   },
   {
    "duration": 9,
    "start_time": "2022-03-13T07:27:32.360Z"
   },
   {
    "duration": 3,
    "start_time": "2022-03-13T07:27:32.371Z"
   },
   {
    "duration": 5,
    "start_time": "2022-03-13T07:27:32.376Z"
   },
   {
    "duration": 11,
    "start_time": "2022-03-13T07:27:32.382Z"
   },
   {
    "duration": 6,
    "start_time": "2022-03-13T07:27:32.394Z"
   },
   {
    "duration": 33,
    "start_time": "2022-03-13T07:27:32.401Z"
   },
   {
    "duration": 27,
    "start_time": "2022-03-13T07:27:32.438Z"
   },
   {
    "duration": 26,
    "start_time": "2022-03-13T07:27:32.467Z"
   },
   {
    "duration": 29,
    "start_time": "2022-03-13T07:27:32.495Z"
   },
   {
    "duration": 796,
    "start_time": "2022-03-13T07:27:32.525Z"
   },
   {
    "duration": 13,
    "start_time": "2022-03-13T07:27:33.322Z"
   },
   {
    "duration": 35,
    "start_time": "2022-03-13T07:27:33.338Z"
   },
   {
    "duration": 441,
    "start_time": "2022-03-13T07:27:33.374Z"
   },
   {
    "duration": 352,
    "start_time": "2022-03-13T07:27:33.817Z"
   },
   {
    "duration": 24,
    "start_time": "2022-03-13T08:03:54.163Z"
   },
   {
    "duration": 323,
    "start_time": "2022-03-13T08:04:21.525Z"
   },
   {
    "duration": 918,
    "start_time": "2022-03-13T08:05:16.646Z"
   },
   {
    "duration": 1768,
    "start_time": "2022-03-13T08:05:29.310Z"
   },
   {
    "duration": 185,
    "start_time": "2022-03-13T08:05:40.797Z"
   },
   {
    "duration": 16934,
    "start_time": "2022-03-13T08:05:55.901Z"
   },
   {
    "duration": 519,
    "start_time": "2022-03-13T08:07:05.487Z"
   },
   {
    "duration": 443,
    "start_time": "2022-03-13T08:07:22.228Z"
   },
   {
    "duration": 470,
    "start_time": "2022-03-13T08:07:27.450Z"
   },
   {
    "duration": 539,
    "start_time": "2022-03-13T08:07:33.465Z"
   },
   {
    "duration": 2892,
    "start_time": "2022-03-13T08:07:44.218Z"
   },
   {
    "duration": 184,
    "start_time": "2022-03-13T08:08:50.818Z"
   },
   {
    "duration": 171,
    "start_time": "2022-03-13T08:09:07.984Z"
   },
   {
    "duration": 204,
    "start_time": "2022-03-13T08:09:17.459Z"
   },
   {
    "duration": 211,
    "start_time": "2022-03-13T08:09:34.498Z"
   },
   {
    "duration": 205,
    "start_time": "2022-03-13T08:09:43.320Z"
   },
   {
    "duration": 178,
    "start_time": "2022-03-13T10:24:50.266Z"
   },
   {
    "duration": 16293,
    "start_time": "2022-03-13T10:25:02.957Z"
   },
   {
    "duration": 2625,
    "start_time": "2022-03-13T10:25:43.072Z"
   },
   {
    "duration": 951,
    "start_time": "2022-03-13T10:26:00.635Z"
   },
   {
    "duration": 525,
    "start_time": "2022-03-13T10:26:13.249Z"
   },
   {
    "duration": 207,
    "start_time": "2022-03-13T10:26:30.056Z"
   },
   {
    "duration": 194,
    "start_time": "2022-03-13T10:26:53.725Z"
   },
   {
    "duration": 184,
    "start_time": "2022-03-13T10:27:04.585Z"
   },
   {
    "duration": 224,
    "start_time": "2022-03-13T10:27:21.259Z"
   },
   {
    "duration": 204,
    "start_time": "2022-03-13T10:27:37.207Z"
   },
   {
    "duration": 180,
    "start_time": "2022-03-13T10:29:13.272Z"
   },
   {
    "duration": 163,
    "start_time": "2022-03-13T10:29:19.395Z"
   },
   {
    "duration": 155,
    "start_time": "2022-03-13T10:29:26.470Z"
   },
   {
    "duration": 306,
    "start_time": "2022-03-13T10:29:32.240Z"
   },
   {
    "duration": 1303,
    "start_time": "2022-03-13T10:29:49.126Z"
   },
   {
    "duration": 333,
    "start_time": "2022-03-13T10:30:05.226Z"
   },
   {
    "duration": 468,
    "start_time": "2022-03-13T10:30:40.698Z"
   },
   {
    "duration": 310,
    "start_time": "2022-03-13T10:30:48.146Z"
   },
   {
    "duration": 407,
    "start_time": "2022-03-13T10:31:03.245Z"
   },
   {
    "duration": 280,
    "start_time": "2022-03-13T10:31:45.748Z"
   },
   {
    "duration": 766,
    "start_time": "2022-03-13T10:45:53.260Z"
   },
   {
    "duration": 89,
    "start_time": "2022-03-13T10:45:54.029Z"
   },
   {
    "duration": 19,
    "start_time": "2022-03-13T10:45:54.121Z"
   },
   {
    "duration": 11,
    "start_time": "2022-03-13T10:45:54.142Z"
   },
   {
    "duration": 24,
    "start_time": "2022-03-13T10:45:54.154Z"
   },
   {
    "duration": 9,
    "start_time": "2022-03-13T10:45:54.180Z"
   },
   {
    "duration": 8,
    "start_time": "2022-03-13T10:45:54.191Z"
   },
   {
    "duration": 37,
    "start_time": "2022-03-13T10:45:54.202Z"
   },
   {
    "duration": 11,
    "start_time": "2022-03-13T10:45:54.242Z"
   },
   {
    "duration": 11,
    "start_time": "2022-03-13T10:45:54.254Z"
   },
   {
    "duration": 6,
    "start_time": "2022-03-13T10:45:54.266Z"
   },
   {
    "duration": 7,
    "start_time": "2022-03-13T10:45:54.273Z"
   },
   {
    "duration": 10,
    "start_time": "2022-03-13T10:45:54.282Z"
   },
   {
    "duration": 4,
    "start_time": "2022-03-13T10:45:54.294Z"
   },
   {
    "duration": 40,
    "start_time": "2022-03-13T10:45:54.299Z"
   },
   {
    "duration": 7,
    "start_time": "2022-03-13T10:45:54.340Z"
   },
   {
    "duration": 10,
    "start_time": "2022-03-13T10:45:54.349Z"
   },
   {
    "duration": 7,
    "start_time": "2022-03-13T10:45:54.361Z"
   },
   {
    "duration": 8,
    "start_time": "2022-03-13T10:45:54.369Z"
   },
   {
    "duration": 12,
    "start_time": "2022-03-13T10:45:54.379Z"
   },
   {
    "duration": 8,
    "start_time": "2022-03-13T10:45:54.393Z"
   },
   {
    "duration": 38,
    "start_time": "2022-03-13T10:45:54.403Z"
   },
   {
    "duration": 10,
    "start_time": "2022-03-13T10:45:54.444Z"
   },
   {
    "duration": 5,
    "start_time": "2022-03-13T10:45:54.456Z"
   },
   {
    "duration": 4,
    "start_time": "2022-03-13T10:45:54.463Z"
   },
   {
    "duration": 13,
    "start_time": "2022-03-13T10:45:54.469Z"
   },
   {
    "duration": 7,
    "start_time": "2022-03-13T10:45:54.483Z"
   },
   {
    "duration": 8,
    "start_time": "2022-03-13T10:45:54.492Z"
   },
   {
    "duration": 39,
    "start_time": "2022-03-13T10:45:54.502Z"
   },
   {
    "duration": 24,
    "start_time": "2022-03-13T10:45:54.543Z"
   },
   {
    "duration": 31,
    "start_time": "2022-03-13T10:45:54.569Z"
   },
   {
    "duration": 718,
    "start_time": "2022-03-13T10:45:54.602Z"
   },
   {
    "duration": 11,
    "start_time": "2022-03-13T10:45:55.322Z"
   },
   {
    "duration": 26,
    "start_time": "2022-03-13T10:45:55.335Z"
   },
   {
    "duration": 23,
    "start_time": "2022-03-13T10:45:55.363Z"
   },
   {
    "duration": 394,
    "start_time": "2022-03-13T10:45:55.388Z"
   },
   {
    "duration": 343,
    "start_time": "2022-03-13T10:45:55.784Z"
   },
   {
    "duration": 211,
    "start_time": "2022-03-13T10:45:56.132Z"
   },
   {
    "duration": 205,
    "start_time": "2022-03-13T10:45:56.346Z"
   },
   {
    "duration": 472,
    "start_time": "2022-03-13T10:49:13.199Z"
   },
   {
    "duration": 616,
    "start_time": "2022-03-13T10:50:05.054Z"
   },
   {
    "duration": 1189,
    "start_time": "2022-03-13T10:51:34.710Z"
   },
   {
    "duration": 1151,
    "start_time": "2022-03-13T10:52:00.791Z"
   },
   {
    "duration": 1051,
    "start_time": "2022-03-13T10:52:17.265Z"
   },
   {
    "duration": 184,
    "start_time": "2022-03-13T10:52:48.309Z"
   },
   {
    "duration": 338,
    "start_time": "2022-03-13T10:53:31.653Z"
   },
   {
    "duration": 4,
    "start_time": "2022-03-13T11:25:37.634Z"
   },
   {
    "duration": 3,
    "start_time": "2022-03-13T11:25:52.849Z"
   },
   {
    "duration": 3,
    "start_time": "2022-03-13T11:26:00.423Z"
   },
   {
    "duration": 387,
    "start_time": "2022-03-13T11:34:25.117Z"
   },
   {
    "duration": 308,
    "start_time": "2022-03-13T11:34:40.719Z"
   },
   {
    "duration": 317,
    "start_time": "2022-03-13T11:35:08.055Z"
   },
   {
    "duration": 421,
    "start_time": "2022-03-13T11:35:17.130Z"
   },
   {
    "duration": 308,
    "start_time": "2022-03-13T11:35:23.697Z"
   },
   {
    "duration": 378,
    "start_time": "2022-03-13T11:35:37.569Z"
   },
   {
    "duration": 309,
    "start_time": "2022-03-13T11:35:53.099Z"
   },
   {
    "duration": 315,
    "start_time": "2022-03-13T11:37:02.252Z"
   },
   {
    "duration": 309,
    "start_time": "2022-03-13T11:37:23.411Z"
   },
   {
    "duration": 178,
    "start_time": "2022-03-13T11:40:29.144Z"
   },
   {
    "duration": 58,
    "start_time": "2022-03-13T11:40:34.278Z"
   },
   {
    "duration": 26,
    "start_time": "2022-03-13T11:42:12.528Z"
   },
   {
    "duration": 12,
    "start_time": "2022-03-13T11:42:15.602Z"
   },
   {
    "duration": 22,
    "start_time": "2022-03-13T11:42:26.848Z"
   },
   {
    "duration": 9,
    "start_time": "2022-03-13T11:45:07.081Z"
   },
   {
    "duration": 4,
    "start_time": "2022-03-13T11:46:08.966Z"
   },
   {
    "duration": 9,
    "start_time": "2022-03-13T11:46:26.937Z"
   },
   {
    "duration": 10,
    "start_time": "2022-03-13T11:48:52.221Z"
   },
   {
    "duration": 22,
    "start_time": "2022-03-13T11:48:54.714Z"
   },
   {
    "duration": 8,
    "start_time": "2022-03-13T11:49:05.426Z"
   },
   {
    "duration": 9,
    "start_time": "2022-03-13T11:49:19.017Z"
   },
   {
    "duration": 8,
    "start_time": "2022-03-13T11:49:19.801Z"
   },
   {
    "duration": 9,
    "start_time": "2022-03-13T11:49:32.817Z"
   },
   {
    "duration": 8,
    "start_time": "2022-03-13T11:49:35.438Z"
   },
   {
    "duration": 9,
    "start_time": "2022-03-13T11:49:39.118Z"
   },
   {
    "duration": 12,
    "start_time": "2022-03-13T11:50:21.497Z"
   },
   {
    "duration": 15,
    "start_time": "2022-03-13T11:50:22.625Z"
   },
   {
    "duration": 12,
    "start_time": "2022-03-13T11:50:31.073Z"
   },
   {
    "duration": 10,
    "start_time": "2022-03-13T11:50:31.920Z"
   },
   {
    "duration": 9,
    "start_time": "2022-03-13T11:50:41.374Z"
   },
   {
    "duration": 11,
    "start_time": "2022-03-13T11:50:42.459Z"
   },
   {
    "duration": 11,
    "start_time": "2022-03-13T11:51:26.284Z"
   },
   {
    "duration": 11,
    "start_time": "2022-03-13T11:51:26.948Z"
   },
   {
    "duration": 82,
    "start_time": "2022-03-13T11:58:21.027Z"
   },
   {
    "duration": 7,
    "start_time": "2022-03-13T12:01:24.093Z"
   },
   {
    "duration": 191,
    "start_time": "2022-03-13T12:02:35.333Z"
   },
   {
    "duration": 6,
    "start_time": "2022-03-13T12:02:51.309Z"
   },
   {
    "duration": 5,
    "start_time": "2022-03-13T12:03:58.532Z"
   },
   {
    "duration": 5,
    "start_time": "2022-03-13T12:08:17.001Z"
   },
   {
    "duration": 5,
    "start_time": "2022-03-13T12:08:29.097Z"
   },
   {
    "duration": 6,
    "start_time": "2022-03-13T12:08:37.353Z"
   },
   {
    "duration": 5,
    "start_time": "2022-03-13T12:11:06.233Z"
   },
   {
    "duration": 5,
    "start_time": "2022-03-13T12:11:09.339Z"
   },
   {
    "duration": 6,
    "start_time": "2022-03-13T12:11:11.591Z"
   },
   {
    "duration": 63,
    "start_time": "2022-03-13T12:11:12.939Z"
   },
   {
    "duration": 647,
    "start_time": "2022-03-13T12:13:24.622Z"
   },
   {
    "duration": 6,
    "start_time": "2022-03-13T12:16:19.317Z"
   },
   {
    "duration": 170,
    "start_time": "2022-03-13T12:21:14.384Z"
   },
   {
    "duration": 7,
    "start_time": "2022-03-13T12:21:43.403Z"
   },
   {
    "duration": 171,
    "start_time": "2022-03-13T12:21:54.402Z"
   },
   {
    "duration": 206,
    "start_time": "2022-03-13T12:22:10.051Z"
   },
   {
    "duration": 6,
    "start_time": "2022-03-13T12:22:17.650Z"
   },
   {
    "duration": 7,
    "start_time": "2022-03-13T12:22:34.685Z"
   },
   {
    "duration": 5,
    "start_time": "2022-03-13T12:23:15.563Z"
   },
   {
    "duration": 5,
    "start_time": "2022-03-13T12:24:45.662Z"
   },
   {
    "duration": 5,
    "start_time": "2022-03-13T12:25:49.338Z"
   },
   {
    "duration": 6,
    "start_time": "2022-03-13T12:25:51.904Z"
   },
   {
    "duration": 6,
    "start_time": "2022-03-13T12:43:41.204Z"
   },
   {
    "duration": 7,
    "start_time": "2022-03-13T12:43:59.736Z"
   },
   {
    "duration": 8,
    "start_time": "2022-03-13T12:44:19.020Z"
   },
   {
    "duration": 8,
    "start_time": "2022-03-13T12:46:09.466Z"
   },
   {
    "duration": 187,
    "start_time": "2022-03-13T12:56:59.700Z"
   },
   {
    "duration": 22,
    "start_time": "2022-03-13T12:57:09.446Z"
   },
   {
    "duration": 175,
    "start_time": "2022-03-13T12:58:26.374Z"
   },
   {
    "duration": 211,
    "start_time": "2022-03-13T13:05:20.287Z"
   },
   {
    "duration": 23,
    "start_time": "2022-03-13T13:05:39.819Z"
   },
   {
    "duration": 24,
    "start_time": "2022-03-13T13:11:12.149Z"
   },
   {
    "duration": 21,
    "start_time": "2022-03-13T13:13:01.455Z"
   },
   {
    "duration": 23,
    "start_time": "2022-03-13T13:13:12.071Z"
   },
   {
    "duration": 25,
    "start_time": "2022-03-13T13:19:37.812Z"
   },
   {
    "duration": 14,
    "start_time": "2022-03-13T13:19:53.157Z"
   },
   {
    "duration": 7,
    "start_time": "2022-03-13T13:20:04.111Z"
   },
   {
    "duration": 51,
    "start_time": "2022-03-13T13:21:48.499Z"
   },
   {
    "duration": 23,
    "start_time": "2022-03-13T13:22:05.179Z"
   },
   {
    "duration": 32,
    "start_time": "2022-03-13T13:22:53.627Z"
   },
   {
    "duration": 37,
    "start_time": "2022-03-13T13:23:36.203Z"
   },
   {
    "duration": 26,
    "start_time": "2022-03-13T13:31:13.437Z"
   },
   {
    "duration": 564,
    "start_time": "2022-03-13T13:35:20.926Z"
   },
   {
    "duration": 615,
    "start_time": "2022-03-13T13:38:59.054Z"
   },
   {
    "duration": 72,
    "start_time": "2022-03-13T13:38:59.671Z"
   },
   {
    "duration": 10,
    "start_time": "2022-03-13T13:38:59.745Z"
   },
   {
    "duration": 10,
    "start_time": "2022-03-13T13:38:59.757Z"
   },
   {
    "duration": 22,
    "start_time": "2022-03-13T13:38:59.768Z"
   },
   {
    "duration": 6,
    "start_time": "2022-03-13T13:38:59.792Z"
   },
   {
    "duration": 37,
    "start_time": "2022-03-13T13:38:59.799Z"
   },
   {
    "duration": 9,
    "start_time": "2022-03-13T13:38:59.838Z"
   },
   {
    "duration": 9,
    "start_time": "2022-03-13T13:38:59.849Z"
   },
   {
    "duration": 12,
    "start_time": "2022-03-13T13:38:59.860Z"
   },
   {
    "duration": 5,
    "start_time": "2022-03-13T13:38:59.873Z"
   },
   {
    "duration": 4,
    "start_time": "2022-03-13T13:38:59.879Z"
   },
   {
    "duration": 8,
    "start_time": "2022-03-13T13:38:59.885Z"
   },
   {
    "duration": 4,
    "start_time": "2022-03-13T13:38:59.894Z"
   },
   {
    "duration": 37,
    "start_time": "2022-03-13T13:38:59.899Z"
   },
   {
    "duration": 7,
    "start_time": "2022-03-13T13:38:59.938Z"
   },
   {
    "duration": 6,
    "start_time": "2022-03-13T13:38:59.947Z"
   },
   {
    "duration": 5,
    "start_time": "2022-03-13T13:38:59.954Z"
   },
   {
    "duration": 7,
    "start_time": "2022-03-13T13:38:59.960Z"
   },
   {
    "duration": 12,
    "start_time": "2022-03-13T13:38:59.969Z"
   },
   {
    "duration": 8,
    "start_time": "2022-03-13T13:38:59.982Z"
   },
   {
    "duration": 43,
    "start_time": "2022-03-13T13:38:59.991Z"
   },
   {
    "duration": 9,
    "start_time": "2022-03-13T13:39:00.038Z"
   },
   {
    "duration": 4,
    "start_time": "2022-03-13T13:39:00.050Z"
   },
   {
    "duration": 6,
    "start_time": "2022-03-13T13:39:00.056Z"
   },
   {
    "duration": 13,
    "start_time": "2022-03-13T13:39:00.064Z"
   },
   {
    "duration": 7,
    "start_time": "2022-03-13T13:39:00.079Z"
   },
   {
    "duration": 8,
    "start_time": "2022-03-13T13:39:00.087Z"
   },
   {
    "duration": 41,
    "start_time": "2022-03-13T13:39:00.097Z"
   },
   {
    "duration": 25,
    "start_time": "2022-03-13T13:39:00.140Z"
   },
   {
    "duration": 38,
    "start_time": "2022-03-13T13:39:00.167Z"
   },
   {
    "duration": 712,
    "start_time": "2022-03-13T13:39:00.207Z"
   },
   {
    "duration": 11,
    "start_time": "2022-03-13T13:39:00.921Z"
   },
   {
    "duration": 29,
    "start_time": "2022-03-13T13:39:00.934Z"
   },
   {
    "duration": 22,
    "start_time": "2022-03-13T13:39:00.965Z"
   },
   {
    "duration": 388,
    "start_time": "2022-03-13T13:39:00.989Z"
   },
   {
    "duration": 345,
    "start_time": "2022-03-13T13:39:01.378Z"
   },
   {
    "duration": 213,
    "start_time": "2022-03-13T13:39:01.732Z"
   },
   {
    "duration": 212,
    "start_time": "2022-03-13T13:39:01.947Z"
   },
   {
    "duration": 336,
    "start_time": "2022-03-13T13:39:02.161Z"
   },
   {
    "duration": 3,
    "start_time": "2022-03-13T13:39:02.499Z"
   },
   {
    "duration": 13,
    "start_time": "2022-03-13T13:39:02.504Z"
   },
   {
    "duration": 25,
    "start_time": "2022-03-13T13:39:02.519Z"
   },
   {
    "duration": 11,
    "start_time": "2022-03-13T13:39:02.546Z"
   },
   {
    "duration": 4,
    "start_time": "2022-03-13T13:39:02.558Z"
   },
   {
    "duration": 4,
    "start_time": "2022-03-13T13:39:02.564Z"
   },
   {
    "duration": 6,
    "start_time": "2022-03-13T13:39:02.570Z"
   },
   {
    "duration": 8,
    "start_time": "2022-03-13T13:39:02.577Z"
   },
   {
    "duration": 5,
    "start_time": "2022-03-13T13:39:02.588Z"
   },
   {
    "duration": 6,
    "start_time": "2022-03-13T13:39:02.632Z"
   },
   {
    "duration": 6,
    "start_time": "2022-03-13T13:39:02.640Z"
   },
   {
    "duration": 5,
    "start_time": "2022-03-13T13:39:02.648Z"
   },
   {
    "duration": 7,
    "start_time": "2022-03-13T13:39:02.655Z"
   },
   {
    "duration": 5,
    "start_time": "2022-03-13T13:39:02.663Z"
   },
   {
    "duration": 25,
    "start_time": "2022-03-13T13:39:02.669Z"
   },
   {
    "duration": 41,
    "start_time": "2022-03-13T13:39:02.695Z"
   },
   {
    "duration": 23,
    "start_time": "2022-03-13T13:39:02.738Z"
   },
   {
    "duration": 22,
    "start_time": "2022-03-13T13:39:02.762Z"
   },
   {
    "duration": 513,
    "start_time": "2022-03-13T13:52:12.471Z"
   },
   {
    "duration": 16,
    "start_time": "2022-03-13T13:53:05.499Z"
   },
   {
    "duration": 4358,
    "start_time": "2022-03-13T13:53:30.448Z"
   },
   {
    "duration": 4189,
    "start_time": "2022-03-13T13:54:37.659Z"
   },
   {
    "duration": 659,
    "start_time": "2022-03-13T13:55:29.282Z"
   },
   {
    "duration": 70,
    "start_time": "2022-03-13T13:55:29.943Z"
   },
   {
    "duration": 12,
    "start_time": "2022-03-13T13:55:30.015Z"
   },
   {
    "duration": 11,
    "start_time": "2022-03-13T13:55:30.032Z"
   },
   {
    "duration": 24,
    "start_time": "2022-03-13T13:55:30.045Z"
   },
   {
    "duration": 17,
    "start_time": "2022-03-13T13:55:30.071Z"
   },
   {
    "duration": 10,
    "start_time": "2022-03-13T13:55:30.089Z"
   },
   {
    "duration": 9,
    "start_time": "2022-03-13T13:55:30.101Z"
   },
   {
    "duration": 28,
    "start_time": "2022-03-13T13:55:30.111Z"
   },
   {
    "duration": 11,
    "start_time": "2022-03-13T13:55:30.141Z"
   },
   {
    "duration": 11,
    "start_time": "2022-03-13T13:55:30.153Z"
   },
   {
    "duration": 11,
    "start_time": "2022-03-13T13:55:30.165Z"
   },
   {
    "duration": 12,
    "start_time": "2022-03-13T13:55:30.178Z"
   },
   {
    "duration": 3,
    "start_time": "2022-03-13T13:55:30.192Z"
   },
   {
    "duration": 9,
    "start_time": "2022-03-13T13:55:30.197Z"
   },
   {
    "duration": 12,
    "start_time": "2022-03-13T13:55:30.207Z"
   },
   {
    "duration": 14,
    "start_time": "2022-03-13T13:55:30.221Z"
   },
   {
    "duration": 8,
    "start_time": "2022-03-13T13:55:30.237Z"
   },
   {
    "duration": 13,
    "start_time": "2022-03-13T13:55:30.246Z"
   },
   {
    "duration": 28,
    "start_time": "2022-03-13T13:55:30.261Z"
   },
   {
    "duration": 11,
    "start_time": "2022-03-13T13:55:30.291Z"
   },
   {
    "duration": 18,
    "start_time": "2022-03-13T13:55:30.304Z"
   },
   {
    "duration": 7,
    "start_time": "2022-03-13T13:55:30.326Z"
   },
   {
    "duration": 14,
    "start_time": "2022-03-13T13:55:30.335Z"
   },
   {
    "duration": 12,
    "start_time": "2022-03-13T13:55:30.350Z"
   },
   {
    "duration": 9,
    "start_time": "2022-03-13T13:55:30.363Z"
   },
   {
    "duration": 5,
    "start_time": "2022-03-13T13:55:30.374Z"
   },
   {
    "duration": 8,
    "start_time": "2022-03-13T13:55:30.381Z"
   },
   {
    "duration": 10,
    "start_time": "2022-03-13T13:55:30.391Z"
   },
   {
    "duration": 39,
    "start_time": "2022-03-13T13:55:30.402Z"
   },
   {
    "duration": 34,
    "start_time": "2022-03-13T13:55:30.443Z"
   },
   {
    "duration": 766,
    "start_time": "2022-03-13T13:55:30.479Z"
   },
   {
    "duration": 3,
    "start_time": "2022-03-13T13:55:31.247Z"
   },
   {
    "duration": 36,
    "start_time": "2022-03-13T13:55:31.252Z"
   },
   {
    "duration": 26,
    "start_time": "2022-03-13T13:55:31.290Z"
   },
   {
    "duration": 569,
    "start_time": "2022-03-13T13:55:31.318Z"
   },
   {
    "duration": 346,
    "start_time": "2022-03-13T13:55:31.888Z"
   },
   {
    "duration": 208,
    "start_time": "2022-03-13T13:55:32.236Z"
   },
   {
    "duration": 195,
    "start_time": "2022-03-13T13:55:32.446Z"
   },
   {
    "duration": 483,
    "start_time": "2022-03-13T13:55:32.642Z"
   },
   {
    "duration": 5,
    "start_time": "2022-03-13T13:55:33.132Z"
   },
   {
    "duration": 15,
    "start_time": "2022-03-13T13:55:33.139Z"
   },
   {
    "duration": 26,
    "start_time": "2022-03-13T13:55:33.156Z"
   },
   {
    "duration": 15,
    "start_time": "2022-03-13T13:55:33.184Z"
   },
   {
    "duration": 5,
    "start_time": "2022-03-13T13:55:33.201Z"
   },
   {
    "duration": 26,
    "start_time": "2022-03-13T13:55:33.208Z"
   },
   {
    "duration": 6,
    "start_time": "2022-03-13T13:55:33.235Z"
   },
   {
    "duration": 12,
    "start_time": "2022-03-13T13:55:33.243Z"
   },
   {
    "duration": 7,
    "start_time": "2022-03-13T13:55:33.257Z"
   },
   {
    "duration": 5,
    "start_time": "2022-03-13T13:55:33.266Z"
   },
   {
    "duration": 7,
    "start_time": "2022-03-13T13:55:33.273Z"
   },
   {
    "duration": 4,
    "start_time": "2022-03-13T13:55:33.282Z"
   },
   {
    "duration": 45,
    "start_time": "2022-03-13T13:55:33.288Z"
   },
   {
    "duration": 4,
    "start_time": "2022-03-13T13:55:33.335Z"
   },
   {
    "duration": 23,
    "start_time": "2022-03-13T13:55:33.341Z"
   },
   {
    "duration": 15,
    "start_time": "2022-03-13T13:55:33.366Z"
   },
   {
    "duration": 52,
    "start_time": "2022-03-13T13:55:33.383Z"
   },
   {
    "duration": 24,
    "start_time": "2022-03-13T13:55:33.437Z"
   },
   {
    "duration": 531,
    "start_time": "2022-03-13T13:55:33.462Z"
   },
   {
    "duration": 423,
    "start_time": "2022-03-13T13:57:10.069Z"
   },
   {
    "duration": 35,
    "start_time": "2022-03-13T13:58:56.592Z"
   },
   {
    "duration": 409,
    "start_time": "2022-03-13T13:59:41.228Z"
   },
   {
    "duration": 23,
    "start_time": "2022-03-13T14:03:57.940Z"
   },
   {
    "duration": 485,
    "start_time": "2022-03-13T14:04:10.440Z"
   },
   {
    "duration": 61,
    "start_time": "2022-03-13T14:05:15.912Z"
   },
   {
    "duration": 8,
    "start_time": "2022-03-13T14:05:26.099Z"
   },
   {
    "duration": 16,
    "start_time": "2022-03-13T14:06:24.659Z"
   },
   {
    "duration": 616,
    "start_time": "2022-03-13T14:07:24.754Z"
   },
   {
    "duration": 82,
    "start_time": "2022-03-13T14:07:25.372Z"
   },
   {
    "duration": 12,
    "start_time": "2022-03-13T14:07:25.456Z"
   },
   {
    "duration": 10,
    "start_time": "2022-03-13T14:07:25.471Z"
   },
   {
    "duration": 23,
    "start_time": "2022-03-13T14:07:25.483Z"
   },
   {
    "duration": 7,
    "start_time": "2022-03-13T14:07:25.533Z"
   },
   {
    "duration": 9,
    "start_time": "2022-03-13T14:07:25.541Z"
   },
   {
    "duration": 8,
    "start_time": "2022-03-13T14:07:25.553Z"
   },
   {
    "duration": 11,
    "start_time": "2022-03-13T14:07:25.563Z"
   },
   {
    "duration": 11,
    "start_time": "2022-03-13T14:07:25.576Z"
   },
   {
    "duration": 47,
    "start_time": "2022-03-13T14:07:25.588Z"
   },
   {
    "duration": 5,
    "start_time": "2022-03-13T14:07:25.636Z"
   },
   {
    "duration": 18,
    "start_time": "2022-03-13T14:07:25.642Z"
   },
   {
    "duration": 12,
    "start_time": "2022-03-13T14:07:25.661Z"
   },
   {
    "duration": 8,
    "start_time": "2022-03-13T14:07:25.675Z"
   },
   {
    "duration": 7,
    "start_time": "2022-03-13T14:07:25.685Z"
   },
   {
    "duration": 11,
    "start_time": "2022-03-13T14:07:25.694Z"
   },
   {
    "duration": 6,
    "start_time": "2022-03-13T14:07:25.707Z"
   },
   {
    "duration": 17,
    "start_time": "2022-03-13T14:07:25.715Z"
   },
   {
    "duration": 10,
    "start_time": "2022-03-13T14:07:25.734Z"
   },
   {
    "duration": 8,
    "start_time": "2022-03-13T14:07:25.746Z"
   },
   {
    "duration": 15,
    "start_time": "2022-03-13T14:07:25.756Z"
   },
   {
    "duration": 7,
    "start_time": "2022-03-13T14:07:25.775Z"
   },
   {
    "duration": 3,
    "start_time": "2022-03-13T14:07:25.785Z"
   },
   {
    "duration": 8,
    "start_time": "2022-03-13T14:07:25.790Z"
   },
   {
    "duration": 35,
    "start_time": "2022-03-13T14:07:25.799Z"
   },
   {
    "duration": 5,
    "start_time": "2022-03-13T14:07:25.835Z"
   },
   {
    "duration": 7,
    "start_time": "2022-03-13T14:07:25.842Z"
   },
   {
    "duration": 12,
    "start_time": "2022-03-13T14:07:25.850Z"
   },
   {
    "duration": 25,
    "start_time": "2022-03-13T14:07:25.864Z"
   },
   {
    "duration": 50,
    "start_time": "2022-03-13T14:07:25.890Z"
   },
   {
    "duration": 669,
    "start_time": "2022-03-13T14:07:25.942Z"
   },
   {
    "duration": 3,
    "start_time": "2022-03-13T14:07:26.613Z"
   },
   {
    "duration": 33,
    "start_time": "2022-03-13T14:07:26.618Z"
   },
   {
    "duration": 22,
    "start_time": "2022-03-13T14:07:26.653Z"
   },
   {
    "duration": 373,
    "start_time": "2022-03-13T14:07:26.677Z"
   },
   {
    "duration": 318,
    "start_time": "2022-03-13T14:07:27.052Z"
   },
   {
    "duration": 204,
    "start_time": "2022-03-13T14:07:27.371Z"
   },
   {
    "duration": 191,
    "start_time": "2022-03-13T14:07:27.577Z"
   },
   {
    "duration": 336,
    "start_time": "2022-03-13T14:07:27.770Z"
   },
   {
    "duration": 5,
    "start_time": "2022-03-13T14:07:28.107Z"
   },
   {
    "duration": 21,
    "start_time": "2022-03-13T14:07:28.113Z"
   },
   {
    "duration": 17,
    "start_time": "2022-03-13T14:07:28.135Z"
   },
   {
    "duration": 11,
    "start_time": "2022-03-13T14:07:28.154Z"
   },
   {
    "duration": 5,
    "start_time": "2022-03-13T14:07:28.167Z"
   },
   {
    "duration": 5,
    "start_time": "2022-03-13T14:07:28.173Z"
   },
   {
    "duration": 6,
    "start_time": "2022-03-13T14:07:28.179Z"
   },
   {
    "duration": 6,
    "start_time": "2022-03-13T14:07:28.187Z"
   },
   {
    "duration": 6,
    "start_time": "2022-03-13T14:07:28.233Z"
   },
   {
    "duration": 5,
    "start_time": "2022-03-13T14:07:28.240Z"
   },
   {
    "duration": 6,
    "start_time": "2022-03-13T14:07:28.246Z"
   },
   {
    "duration": 5,
    "start_time": "2022-03-13T14:07:28.253Z"
   },
   {
    "duration": 10,
    "start_time": "2022-03-13T14:07:28.259Z"
   },
   {
    "duration": 3,
    "start_time": "2022-03-13T14:07:28.271Z"
   },
   {
    "duration": 22,
    "start_time": "2022-03-13T14:07:28.276Z"
   },
   {
    "duration": 48,
    "start_time": "2022-03-13T14:07:28.299Z"
   },
   {
    "duration": 5,
    "start_time": "2022-03-13T14:07:28.349Z"
   },
   {
    "duration": 10,
    "start_time": "2022-03-13T14:07:28.355Z"
   },
   {
    "duration": 477,
    "start_time": "2022-03-13T14:07:28.367Z"
   },
   {
    "duration": 54,
    "start_time": "2022-03-13T14:09:22.061Z"
   },
   {
    "duration": 18,
    "start_time": "2022-03-13T14:09:28.413Z"
   },
   {
    "duration": 16,
    "start_time": "2022-03-13T14:10:00.684Z"
   },
   {
    "duration": 21,
    "start_time": "2022-03-13T14:10:16.904Z"
   },
   {
    "duration": 5,
    "start_time": "2022-03-13T14:10:58.953Z"
   },
   {
    "duration": 6,
    "start_time": "2022-03-13T14:11:09.063Z"
   },
   {
    "duration": 24,
    "start_time": "2022-03-13T14:11:35.341Z"
   },
   {
    "duration": 5,
    "start_time": "2022-03-13T14:12:53.374Z"
   },
   {
    "duration": 444,
    "start_time": "2022-03-13T14:13:01.627Z"
   },
   {
    "duration": 6,
    "start_time": "2022-03-13T14:13:45.027Z"
   },
   {
    "duration": 650,
    "start_time": "2022-03-13T14:13:56.824Z"
   },
   {
    "duration": 68,
    "start_time": "2022-03-13T14:13:57.476Z"
   },
   {
    "duration": 12,
    "start_time": "2022-03-13T14:13:57.547Z"
   },
   {
    "duration": 12,
    "start_time": "2022-03-13T14:13:57.561Z"
   },
   {
    "duration": 22,
    "start_time": "2022-03-13T14:13:57.574Z"
   },
   {
    "duration": 35,
    "start_time": "2022-03-13T14:13:57.598Z"
   },
   {
    "duration": 9,
    "start_time": "2022-03-13T14:13:57.635Z"
   },
   {
    "duration": 8,
    "start_time": "2022-03-13T14:13:57.645Z"
   },
   {
    "duration": 10,
    "start_time": "2022-03-13T14:13:57.656Z"
   },
   {
    "duration": 9,
    "start_time": "2022-03-13T14:13:57.668Z"
   },
   {
    "duration": 5,
    "start_time": "2022-03-13T14:13:57.678Z"
   },
   {
    "duration": 4,
    "start_time": "2022-03-13T14:13:57.685Z"
   },
   {
    "duration": 42,
    "start_time": "2022-03-13T14:13:57.691Z"
   },
   {
    "duration": 4,
    "start_time": "2022-03-13T14:13:57.735Z"
   },
   {
    "duration": 6,
    "start_time": "2022-03-13T14:13:57.741Z"
   },
   {
    "duration": 5,
    "start_time": "2022-03-13T14:13:57.748Z"
   },
   {
    "duration": 4,
    "start_time": "2022-03-13T14:13:57.755Z"
   },
   {
    "duration": 4,
    "start_time": "2022-03-13T14:13:57.761Z"
   },
   {
    "duration": 11,
    "start_time": "2022-03-13T14:13:57.767Z"
   },
   {
    "duration": 12,
    "start_time": "2022-03-13T14:13:57.779Z"
   },
   {
    "duration": 7,
    "start_time": "2022-03-13T14:13:57.793Z"
   },
   {
    "duration": 40,
    "start_time": "2022-03-13T14:13:57.802Z"
   },
   {
    "duration": 10,
    "start_time": "2022-03-13T14:13:57.843Z"
   },
   {
    "duration": 3,
    "start_time": "2022-03-13T14:13:57.855Z"
   },
   {
    "duration": 3,
    "start_time": "2022-03-13T14:13:57.860Z"
   },
   {
    "duration": 7,
    "start_time": "2022-03-13T14:13:57.865Z"
   },
   {
    "duration": 5,
    "start_time": "2022-03-13T14:13:57.876Z"
   },
   {
    "duration": 4,
    "start_time": "2022-03-13T14:13:57.883Z"
   },
   {
    "duration": 45,
    "start_time": "2022-03-13T14:13:57.888Z"
   },
   {
    "duration": 25,
    "start_time": "2022-03-13T14:13:57.934Z"
   },
   {
    "duration": 31,
    "start_time": "2022-03-13T14:13:57.961Z"
   },
   {
    "duration": 696,
    "start_time": "2022-03-13T14:13:57.994Z"
   },
   {
    "duration": 5,
    "start_time": "2022-03-13T14:13:58.692Z"
   },
   {
    "duration": 39,
    "start_time": "2022-03-13T14:13:58.699Z"
   },
   {
    "duration": 23,
    "start_time": "2022-03-13T14:13:58.740Z"
   },
   {
    "duration": 375,
    "start_time": "2022-03-13T14:13:58.765Z"
   },
   {
    "duration": 332,
    "start_time": "2022-03-13T14:13:59.142Z"
   },
   {
    "duration": 210,
    "start_time": "2022-03-13T14:13:59.476Z"
   },
   {
    "duration": 191,
    "start_time": "2022-03-13T14:13:59.687Z"
   },
   {
    "duration": 333,
    "start_time": "2022-03-13T14:13:59.879Z"
   },
   {
    "duration": 3,
    "start_time": "2022-03-13T14:14:00.214Z"
   },
   {
    "duration": 20,
    "start_time": "2022-03-13T14:14:00.219Z"
   },
   {
    "duration": 19,
    "start_time": "2022-03-13T14:14:00.240Z"
   },
   {
    "duration": 10,
    "start_time": "2022-03-13T14:14:00.261Z"
   },
   {
    "duration": 4,
    "start_time": "2022-03-13T14:14:00.272Z"
   },
   {
    "duration": 7,
    "start_time": "2022-03-13T14:14:00.277Z"
   },
   {
    "duration": 6,
    "start_time": "2022-03-13T14:14:00.285Z"
   },
   {
    "duration": 6,
    "start_time": "2022-03-13T14:14:00.292Z"
   },
   {
    "duration": 35,
    "start_time": "2022-03-13T14:14:00.300Z"
   },
   {
    "duration": 4,
    "start_time": "2022-03-13T14:14:00.337Z"
   },
   {
    "duration": 6,
    "start_time": "2022-03-13T14:14:00.343Z"
   },
   {
    "duration": 5,
    "start_time": "2022-03-13T14:14:00.350Z"
   },
   {
    "duration": 6,
    "start_time": "2022-03-13T14:14:00.356Z"
   },
   {
    "duration": 4,
    "start_time": "2022-03-13T14:14:00.364Z"
   },
   {
    "duration": 26,
    "start_time": "2022-03-13T14:14:00.369Z"
   },
   {
    "duration": 43,
    "start_time": "2022-03-13T14:14:00.397Z"
   },
   {
    "duration": 6,
    "start_time": "2022-03-13T14:14:00.441Z"
   },
   {
    "duration": 13,
    "start_time": "2022-03-13T14:14:00.448Z"
   },
   {
    "duration": 484,
    "start_time": "2022-03-13T14:14:00.463Z"
   },
   {
    "duration": 6,
    "start_time": "2022-03-13T14:15:57.424Z"
   },
   {
    "duration": 9,
    "start_time": "2022-03-13T14:16:10.517Z"
   },
   {
    "duration": 7,
    "start_time": "2022-03-13T14:16:27.459Z"
   },
   {
    "duration": 5,
    "start_time": "2022-03-13T14:17:09.738Z"
   },
   {
    "duration": 5,
    "start_time": "2022-03-13T14:17:13.770Z"
   },
   {
    "duration": 421,
    "start_time": "2022-03-13T14:17:16.240Z"
   },
   {
    "duration": 22,
    "start_time": "2022-03-13T14:17:44.589Z"
   },
   {
    "duration": 7,
    "start_time": "2022-03-13T14:18:55.605Z"
   },
   {
    "duration": 193,
    "start_time": "2022-03-13T14:22:08.301Z"
   },
   {
    "duration": 6,
    "start_time": "2022-03-13T14:22:31.258Z"
   },
   {
    "duration": 176,
    "start_time": "2022-03-13T14:23:29.535Z"
   },
   {
    "duration": 219,
    "start_time": "2022-03-13T14:26:02.348Z"
   },
   {
    "duration": 177,
    "start_time": "2022-03-13T14:26:54.363Z"
   },
   {
    "duration": 7,
    "start_time": "2022-03-13T14:27:47.842Z"
   },
   {
    "duration": 7,
    "start_time": "2022-03-13T14:27:58.399Z"
   },
   {
    "duration": 25,
    "start_time": "2022-03-13T14:28:03.975Z"
   },
   {
    "duration": 279,
    "start_time": "2022-03-13T14:28:07.462Z"
   },
   {
    "duration": 661,
    "start_time": "2022-03-13T14:28:20.328Z"
   },
   {
    "duration": 5,
    "start_time": "2022-03-13T14:30:00.642Z"
   },
   {
    "duration": 25,
    "start_time": "2022-03-13T14:30:02.057Z"
   },
   {
    "duration": 421,
    "start_time": "2022-03-13T14:33:19.011Z"
   },
   {
    "duration": 383,
    "start_time": "2022-03-13T14:37:26.636Z"
   },
   {
    "duration": 423,
    "start_time": "2022-03-13T14:37:57.221Z"
   },
   {
    "duration": 200,
    "start_time": "2022-03-13T14:48:14.160Z"
   },
   {
    "duration": 202,
    "start_time": "2022-03-13T14:48:33.133Z"
   },
   {
    "duration": 202,
    "start_time": "2022-03-13T14:48:49.533Z"
   },
   {
    "duration": 418,
    "start_time": "2022-03-13T14:49:07.843Z"
   },
   {
    "duration": 413,
    "start_time": "2022-03-13T14:49:35.129Z"
   },
   {
    "duration": 9,
    "start_time": "2022-03-13T14:51:08.938Z"
   },
   {
    "duration": 13,
    "start_time": "2022-03-13T14:54:13.208Z"
   },
   {
    "duration": 8,
    "start_time": "2022-03-13T14:54:14.778Z"
   },
   {
    "duration": 11,
    "start_time": "2022-03-13T14:55:01.724Z"
   },
   {
    "duration": 643,
    "start_time": "2022-03-13T14:55:24.861Z"
   },
   {
    "duration": 72,
    "start_time": "2022-03-13T14:55:25.506Z"
   },
   {
    "duration": 10,
    "start_time": "2022-03-13T14:55:25.580Z"
   },
   {
    "duration": 10,
    "start_time": "2022-03-13T14:55:25.592Z"
   },
   {
    "duration": 40,
    "start_time": "2022-03-13T14:55:25.603Z"
   },
   {
    "duration": 6,
    "start_time": "2022-03-13T14:55:25.644Z"
   },
   {
    "duration": 8,
    "start_time": "2022-03-13T14:55:25.651Z"
   },
   {
    "duration": 18,
    "start_time": "2022-03-13T14:55:25.662Z"
   },
   {
    "duration": 15,
    "start_time": "2022-03-13T14:55:25.682Z"
   },
   {
    "duration": 10,
    "start_time": "2022-03-13T14:55:25.699Z"
   },
   {
    "duration": 22,
    "start_time": "2022-03-13T14:55:25.711Z"
   },
   {
    "duration": 5,
    "start_time": "2022-03-13T14:55:25.734Z"
   },
   {
    "duration": 13,
    "start_time": "2022-03-13T14:55:25.740Z"
   },
   {
    "duration": 4,
    "start_time": "2022-03-13T14:55:25.755Z"
   },
   {
    "duration": 5,
    "start_time": "2022-03-13T14:55:25.760Z"
   },
   {
    "duration": 4,
    "start_time": "2022-03-13T14:55:25.767Z"
   },
   {
    "duration": 5,
    "start_time": "2022-03-13T14:55:25.772Z"
   },
   {
    "duration": 3,
    "start_time": "2022-03-13T14:55:25.779Z"
   },
   {
    "duration": 5,
    "start_time": "2022-03-13T14:55:25.784Z"
   },
   {
    "duration": 11,
    "start_time": "2022-03-13T14:55:25.791Z"
   },
   {
    "duration": 36,
    "start_time": "2022-03-13T14:55:25.803Z"
   },
   {
    "duration": 16,
    "start_time": "2022-03-13T14:55:25.841Z"
   },
   {
    "duration": 7,
    "start_time": "2022-03-13T14:55:25.861Z"
   },
   {
    "duration": 3,
    "start_time": "2022-03-13T14:55:25.870Z"
   },
   {
    "duration": 4,
    "start_time": "2022-03-13T14:55:25.875Z"
   },
   {
    "duration": 11,
    "start_time": "2022-03-13T14:55:25.880Z"
   },
   {
    "duration": 6,
    "start_time": "2022-03-13T14:55:25.892Z"
   },
   {
    "duration": 38,
    "start_time": "2022-03-13T14:55:25.899Z"
   },
   {
    "duration": 10,
    "start_time": "2022-03-13T14:55:25.939Z"
   },
   {
    "duration": 23,
    "start_time": "2022-03-13T14:55:25.950Z"
   },
   {
    "duration": 29,
    "start_time": "2022-03-13T14:55:25.975Z"
   },
   {
    "duration": 714,
    "start_time": "2022-03-13T14:55:26.005Z"
   },
   {
    "duration": 4,
    "start_time": "2022-03-13T14:55:26.721Z"
   },
   {
    "duration": 24,
    "start_time": "2022-03-13T14:55:26.733Z"
   },
   {
    "duration": 22,
    "start_time": "2022-03-13T14:55:26.758Z"
   },
   {
    "duration": 371,
    "start_time": "2022-03-13T14:55:26.781Z"
   },
   {
    "duration": 336,
    "start_time": "2022-03-13T14:55:27.154Z"
   },
   {
    "duration": 194,
    "start_time": "2022-03-13T14:55:27.492Z"
   },
   {
    "duration": 199,
    "start_time": "2022-03-13T14:55:27.688Z"
   },
   {
    "duration": 328,
    "start_time": "2022-03-13T14:55:27.888Z"
   },
   {
    "duration": 3,
    "start_time": "2022-03-13T14:55:28.218Z"
   },
   {
    "duration": 16,
    "start_time": "2022-03-13T14:55:28.223Z"
   },
   {
    "duration": 19,
    "start_time": "2022-03-13T14:55:28.241Z"
   },
   {
    "duration": 8,
    "start_time": "2022-03-13T14:55:28.261Z"
   },
   {
    "duration": 10,
    "start_time": "2022-03-13T14:55:28.270Z"
   },
   {
    "duration": 5,
    "start_time": "2022-03-13T14:55:28.281Z"
   },
   {
    "duration": 6,
    "start_time": "2022-03-13T14:55:28.288Z"
   },
   {
    "duration": 39,
    "start_time": "2022-03-13T14:55:28.295Z"
   },
   {
    "duration": 7,
    "start_time": "2022-03-13T14:55:28.335Z"
   },
   {
    "duration": 7,
    "start_time": "2022-03-13T14:55:28.343Z"
   },
   {
    "duration": 5,
    "start_time": "2022-03-13T14:55:28.352Z"
   },
   {
    "duration": 8,
    "start_time": "2022-03-13T14:55:28.359Z"
   },
   {
    "duration": 6,
    "start_time": "2022-03-13T14:55:28.368Z"
   },
   {
    "duration": 6,
    "start_time": "2022-03-13T14:55:28.375Z"
   },
   {
    "duration": 6,
    "start_time": "2022-03-13T14:55:28.383Z"
   },
   {
    "duration": 55,
    "start_time": "2022-03-13T14:55:28.391Z"
   },
   {
    "duration": 14,
    "start_time": "2022-03-13T14:55:28.448Z"
   },
   {
    "duration": 5,
    "start_time": "2022-03-13T14:55:28.463Z"
   },
   {
    "duration": 28,
    "start_time": "2022-03-13T14:55:28.469Z"
   },
   {
    "duration": 445,
    "start_time": "2022-03-13T14:55:28.498Z"
   },
   {
    "duration": 10,
    "start_time": "2022-03-13T14:56:09.816Z"
   },
   {
    "duration": 229,
    "start_time": "2022-03-13T14:56:10.606Z"
   },
   {
    "duration": 8,
    "start_time": "2022-03-13T14:56:20.404Z"
   },
   {
    "duration": 61,
    "start_time": "2022-03-13T14:56:41.037Z"
   },
   {
    "duration": 10,
    "start_time": "2022-03-13T14:57:04.417Z"
   },
   {
    "duration": 8,
    "start_time": "2022-03-13T14:57:06.443Z"
   },
   {
    "duration": 3,
    "start_time": "2022-03-13T14:59:31.651Z"
   },
   {
    "duration": 717,
    "start_time": "2022-03-13T15:00:38.120Z"
   },
   {
    "duration": 70,
    "start_time": "2022-03-13T15:00:38.841Z"
   },
   {
    "duration": 20,
    "start_time": "2022-03-13T15:00:38.913Z"
   },
   {
    "duration": 14,
    "start_time": "2022-03-13T15:00:38.935Z"
   },
   {
    "duration": 23,
    "start_time": "2022-03-13T15:00:38.951Z"
   },
   {
    "duration": 5,
    "start_time": "2022-03-13T15:00:38.976Z"
   },
   {
    "duration": 10,
    "start_time": "2022-03-13T15:00:38.983Z"
   },
   {
    "duration": 37,
    "start_time": "2022-03-13T15:00:38.996Z"
   },
   {
    "duration": 28,
    "start_time": "2022-03-13T15:00:39.035Z"
   },
   {
    "duration": 11,
    "start_time": "2022-03-13T15:00:39.065Z"
   },
   {
    "duration": 5,
    "start_time": "2022-03-13T15:00:39.078Z"
   },
   {
    "duration": 4,
    "start_time": "2022-03-13T15:00:39.085Z"
   },
   {
    "duration": 9,
    "start_time": "2022-03-13T15:00:39.091Z"
   },
   {
    "duration": 4,
    "start_time": "2022-03-13T15:00:39.101Z"
   },
   {
    "duration": 6,
    "start_time": "2022-03-13T15:00:39.107Z"
   },
   {
    "duration": 22,
    "start_time": "2022-03-13T15:00:39.114Z"
   },
   {
    "duration": 10,
    "start_time": "2022-03-13T15:00:39.138Z"
   },
   {
    "duration": 8,
    "start_time": "2022-03-13T15:00:39.150Z"
   },
   {
    "duration": 7,
    "start_time": "2022-03-13T15:00:39.160Z"
   },
   {
    "duration": 11,
    "start_time": "2022-03-13T15:00:39.169Z"
   },
   {
    "duration": 8,
    "start_time": "2022-03-13T15:00:39.182Z"
   },
   {
    "duration": 45,
    "start_time": "2022-03-13T15:00:39.192Z"
   },
   {
    "duration": 10,
    "start_time": "2022-03-13T15:00:39.242Z"
   },
   {
    "duration": 5,
    "start_time": "2022-03-13T15:00:39.255Z"
   },
   {
    "duration": 7,
    "start_time": "2022-03-13T15:00:39.262Z"
   },
   {
    "duration": 8,
    "start_time": "2022-03-13T15:00:39.271Z"
   },
   {
    "duration": 6,
    "start_time": "2022-03-13T15:00:39.281Z"
   },
   {
    "duration": 44,
    "start_time": "2022-03-13T15:00:39.288Z"
   },
   {
    "duration": 10,
    "start_time": "2022-03-13T15:00:39.334Z"
   },
   {
    "duration": 25,
    "start_time": "2022-03-13T15:00:39.346Z"
   },
   {
    "duration": 31,
    "start_time": "2022-03-13T15:00:39.373Z"
   },
   {
    "duration": 804,
    "start_time": "2022-03-13T15:00:39.405Z"
   },
   {
    "duration": 4,
    "start_time": "2022-03-13T15:00:40.210Z"
   },
   {
    "duration": 32,
    "start_time": "2022-03-13T15:00:40.216Z"
   },
   {
    "duration": 23,
    "start_time": "2022-03-13T15:00:40.250Z"
   },
   {
    "duration": 381,
    "start_time": "2022-03-13T15:00:40.274Z"
   },
   {
    "duration": 375,
    "start_time": "2022-03-13T15:00:40.657Z"
   },
   {
    "duration": 226,
    "start_time": "2022-03-13T15:00:41.034Z"
   },
   {
    "duration": 202,
    "start_time": "2022-03-13T15:00:41.262Z"
   },
   {
    "duration": 333,
    "start_time": "2022-03-13T15:00:41.466Z"
   },
   {
    "duration": 4,
    "start_time": "2022-03-13T15:00:41.801Z"
   },
   {
    "duration": 11,
    "start_time": "2022-03-13T15:00:41.806Z"
   },
   {
    "duration": 30,
    "start_time": "2022-03-13T15:00:41.818Z"
   },
   {
    "duration": 13,
    "start_time": "2022-03-13T15:00:41.850Z"
   },
   {
    "duration": 11,
    "start_time": "2022-03-13T15:00:41.865Z"
   },
   {
    "duration": 3,
    "start_time": "2022-03-13T15:00:41.877Z"
   },
   {
    "duration": 6,
    "start_time": "2022-03-13T15:00:41.882Z"
   },
   {
    "duration": 4,
    "start_time": "2022-03-13T15:00:41.890Z"
   },
   {
    "duration": 41,
    "start_time": "2022-03-13T15:00:41.895Z"
   },
   {
    "duration": 13,
    "start_time": "2022-03-13T15:00:41.939Z"
   },
   {
    "duration": 10,
    "start_time": "2022-03-13T15:00:41.957Z"
   },
   {
    "duration": 5,
    "start_time": "2022-03-13T15:00:41.968Z"
   },
   {
    "duration": 6,
    "start_time": "2022-03-13T15:00:41.974Z"
   },
   {
    "duration": 4,
    "start_time": "2022-03-13T15:00:41.982Z"
   },
   {
    "duration": 6,
    "start_time": "2022-03-13T15:00:41.987Z"
   },
   {
    "duration": 40,
    "start_time": "2022-03-13T15:00:41.994Z"
   },
   {
    "duration": 24,
    "start_time": "2022-03-13T15:00:42.036Z"
   },
   {
    "duration": 15,
    "start_time": "2022-03-13T15:00:42.061Z"
   },
   {
    "duration": 5,
    "start_time": "2022-03-13T15:00:42.078Z"
   },
   {
    "duration": 61,
    "start_time": "2022-03-13T15:00:42.088Z"
   },
   {
    "duration": 457,
    "start_time": "2022-03-13T15:00:42.152Z"
   },
   {
    "duration": 13,
    "start_time": "2022-03-13T15:04:48.323Z"
   },
   {
    "duration": 148,
    "start_time": "2022-03-13T15:06:51.812Z"
   },
   {
    "duration": 292,
    "start_time": "2022-03-13T15:07:03.020Z"
   },
   {
    "duration": 383,
    "start_time": "2022-03-13T18:11:09.722Z"
   },
   {
    "duration": 308,
    "start_time": "2022-03-13T18:15:31.714Z"
   },
   {
    "duration": 314,
    "start_time": "2022-03-13T18:15:47.659Z"
   },
   {
    "duration": 299,
    "start_time": "2022-03-13T18:17:48.191Z"
   },
   {
    "duration": 177,
    "start_time": "2022-03-13T18:17:55.691Z"
   },
   {
    "duration": 319,
    "start_time": "2022-03-13T18:18:47.595Z"
   },
   {
    "duration": 239,
    "start_time": "2022-03-13T18:18:54.322Z"
   },
   {
    "duration": 168,
    "start_time": "2022-03-13T18:19:15.602Z"
   },
   {
    "duration": 192,
    "start_time": "2022-03-13T18:19:30.565Z"
   },
   {
    "duration": 177,
    "start_time": "2022-03-13T18:19:34.219Z"
   },
   {
    "duration": 186,
    "start_time": "2022-03-13T18:21:46.353Z"
   },
   {
    "duration": 167,
    "start_time": "2022-03-13T18:21:55.505Z"
   },
   {
    "duration": 157,
    "start_time": "2022-03-13T18:22:02.556Z"
   },
   {
    "duration": 288,
    "start_time": "2022-03-13T18:22:34.506Z"
   },
   {
    "duration": 332,
    "start_time": "2022-03-13T18:22:48.124Z"
   },
   {
    "duration": 278,
    "start_time": "2022-03-13T18:22:58.923Z"
   },
   {
    "duration": 165,
    "start_time": "2022-03-13T18:23:08.809Z"
   },
   {
    "duration": 9,
    "start_time": "2022-03-13T18:25:36.025Z"
   },
   {
    "duration": 5,
    "start_time": "2022-03-13T18:26:30.577Z"
   },
   {
    "duration": 5,
    "start_time": "2022-03-13T18:26:44.083Z"
   },
   {
    "duration": 7,
    "start_time": "2022-03-13T18:30:41.586Z"
   },
   {
    "duration": 6,
    "start_time": "2022-03-13T18:30:55.170Z"
   },
   {
    "duration": 8,
    "start_time": "2022-03-13T18:35:46.838Z"
   },
   {
    "duration": 7,
    "start_time": "2022-03-13T18:36:36.626Z"
   },
   {
    "duration": 7,
    "start_time": "2022-03-13T18:40:42.335Z"
   },
   {
    "duration": 5,
    "start_time": "2022-03-13T18:41:07.433Z"
   },
   {
    "duration": 6,
    "start_time": "2022-03-13T18:48:22.075Z"
   },
   {
    "duration": 8,
    "start_time": "2022-03-13T18:48:34.051Z"
   },
   {
    "duration": 660,
    "start_time": "2022-03-13T18:54:55.744Z"
   },
   {
    "duration": 72,
    "start_time": "2022-03-13T18:54:56.406Z"
   },
   {
    "duration": 12,
    "start_time": "2022-03-13T18:54:56.480Z"
   },
   {
    "duration": 10,
    "start_time": "2022-03-13T18:54:56.494Z"
   },
   {
    "duration": 48,
    "start_time": "2022-03-13T18:54:56.506Z"
   },
   {
    "duration": 5,
    "start_time": "2022-03-13T18:54:56.556Z"
   },
   {
    "duration": 10,
    "start_time": "2022-03-13T18:54:56.563Z"
   },
   {
    "duration": 9,
    "start_time": "2022-03-13T18:54:56.575Z"
   },
   {
    "duration": 10,
    "start_time": "2022-03-13T18:54:56.586Z"
   },
   {
    "duration": 39,
    "start_time": "2022-03-13T18:54:56.597Z"
   },
   {
    "duration": 7,
    "start_time": "2022-03-13T18:54:56.638Z"
   },
   {
    "duration": 8,
    "start_time": "2022-03-13T18:54:56.648Z"
   },
   {
    "duration": 18,
    "start_time": "2022-03-13T18:54:56.658Z"
   },
   {
    "duration": 4,
    "start_time": "2022-03-13T18:54:56.678Z"
   },
   {
    "duration": 4,
    "start_time": "2022-03-13T18:54:56.684Z"
   },
   {
    "duration": 4,
    "start_time": "2022-03-13T18:54:56.689Z"
   },
   {
    "duration": 4,
    "start_time": "2022-03-13T18:54:56.695Z"
   },
   {
    "duration": 5,
    "start_time": "2022-03-13T18:54:56.700Z"
   },
   {
    "duration": 31,
    "start_time": "2022-03-13T18:54:56.706Z"
   },
   {
    "duration": 15,
    "start_time": "2022-03-13T18:54:56.739Z"
   },
   {
    "duration": 9,
    "start_time": "2022-03-13T18:54:56.756Z"
   },
   {
    "duration": 16,
    "start_time": "2022-03-13T18:54:56.767Z"
   },
   {
    "duration": 8,
    "start_time": "2022-03-13T18:54:56.788Z"
   },
   {
    "duration": 5,
    "start_time": "2022-03-13T18:54:56.834Z"
   },
   {
    "duration": 15,
    "start_time": "2022-03-13T18:54:56.841Z"
   },
   {
    "duration": 10,
    "start_time": "2022-03-13T18:54:56.858Z"
   },
   {
    "duration": 6,
    "start_time": "2022-03-13T18:54:56.870Z"
   },
   {
    "duration": 5,
    "start_time": "2022-03-13T18:54:56.877Z"
   },
   {
    "duration": 11,
    "start_time": "2022-03-13T18:54:56.883Z"
   },
   {
    "duration": 59,
    "start_time": "2022-03-13T18:54:56.896Z"
   },
   {
    "duration": 30,
    "start_time": "2022-03-13T18:54:56.956Z"
   },
   {
    "duration": 778,
    "start_time": "2022-03-13T18:54:56.988Z"
   },
   {
    "duration": 3,
    "start_time": "2022-03-13T18:54:57.768Z"
   },
   {
    "duration": 24,
    "start_time": "2022-03-13T18:54:57.773Z"
   },
   {
    "duration": 43,
    "start_time": "2022-03-13T18:54:57.799Z"
   },
   {
    "duration": 401,
    "start_time": "2022-03-13T18:54:57.845Z"
   },
   {
    "duration": 354,
    "start_time": "2022-03-13T18:54:58.248Z"
   },
   {
    "duration": 219,
    "start_time": "2022-03-13T18:54:58.603Z"
   },
   {
    "duration": 201,
    "start_time": "2022-03-13T18:54:58.824Z"
   },
   {
    "duration": 359,
    "start_time": "2022-03-13T18:54:59.027Z"
   },
   {
    "duration": 3,
    "start_time": "2022-03-13T18:54:59.388Z"
   },
   {
    "duration": 11,
    "start_time": "2022-03-13T18:54:59.393Z"
   },
   {
    "duration": 36,
    "start_time": "2022-03-13T18:54:59.406Z"
   },
   {
    "duration": 10,
    "start_time": "2022-03-13T18:54:59.448Z"
   },
   {
    "duration": 10,
    "start_time": "2022-03-13T18:54:59.460Z"
   },
   {
    "duration": 5,
    "start_time": "2022-03-13T18:54:59.471Z"
   },
   {
    "duration": 6,
    "start_time": "2022-03-13T18:54:59.477Z"
   },
   {
    "duration": 4,
    "start_time": "2022-03-13T18:54:59.485Z"
   },
   {
    "duration": 18,
    "start_time": "2022-03-13T18:54:59.491Z"
   },
   {
    "duration": 27,
    "start_time": "2022-03-13T18:54:59.510Z"
   },
   {
    "duration": 11,
    "start_time": "2022-03-13T18:54:59.540Z"
   },
   {
    "duration": 8,
    "start_time": "2022-03-13T18:54:59.553Z"
   },
   {
    "duration": 8,
    "start_time": "2022-03-13T18:54:59.563Z"
   },
   {
    "duration": 5,
    "start_time": "2022-03-13T18:54:59.573Z"
   },
   {
    "duration": 8,
    "start_time": "2022-03-13T18:54:59.579Z"
   },
   {
    "duration": 4,
    "start_time": "2022-03-13T18:54:59.591Z"
   },
   {
    "duration": 60,
    "start_time": "2022-03-13T18:54:59.597Z"
   },
   {
    "duration": 15,
    "start_time": "2022-03-13T18:54:59.659Z"
   },
   {
    "duration": 5,
    "start_time": "2022-03-13T18:54:59.676Z"
   },
   {
    "duration": 23,
    "start_time": "2022-03-13T18:54:59.682Z"
   },
   {
    "duration": 435,
    "start_time": "2022-03-13T18:54:59.735Z"
   },
   {
    "duration": 13,
    "start_time": "2022-03-13T18:55:00.172Z"
   },
   {
    "duration": 330,
    "start_time": "2022-03-13T18:55:00.187Z"
   },
   {
    "duration": 394,
    "start_time": "2022-03-13T18:55:00.519Z"
   },
   {
    "duration": 353,
    "start_time": "2022-03-13T18:55:00.914Z"
   },
   {
    "duration": 341,
    "start_time": "2022-03-13T18:55:01.269Z"
   },
   {
    "duration": 199,
    "start_time": "2022-03-13T18:55:01.612Z"
   },
   {
    "duration": 210,
    "start_time": "2022-03-13T18:55:01.813Z"
   },
   {
    "duration": 191,
    "start_time": "2022-03-13T18:55:02.033Z"
   },
   {
    "duration": 189,
    "start_time": "2022-03-13T18:55:02.226Z"
   },
   {
    "duration": 5,
    "start_time": "2022-03-13T18:55:02.418Z"
   },
   {
    "duration": 13,
    "start_time": "2022-03-13T18:55:02.424Z"
   },
   {
    "duration": 69,
    "start_time": "2022-03-13T18:55:02.440Z"
   },
   {
    "duration": -7275,
    "start_time": "2022-03-13T18:55:09.786Z"
   },
   {
    "duration": -7293,
    "start_time": "2022-03-13T18:55:09.805Z"
   },
   {
    "duration": -7318,
    "start_time": "2022-03-13T18:55:09.831Z"
   },
   {
    "duration": -7334,
    "start_time": "2022-03-13T18:55:09.848Z"
   },
   {
    "duration": -7352,
    "start_time": "2022-03-13T18:55:09.867Z"
   },
   {
    "duration": 791,
    "start_time": "2022-03-13T18:55:35.049Z"
   },
   {
    "duration": 69,
    "start_time": "2022-03-13T18:55:35.842Z"
   },
   {
    "duration": 10,
    "start_time": "2022-03-13T18:55:35.913Z"
   },
   {
    "duration": 15,
    "start_time": "2022-03-13T18:55:35.934Z"
   },
   {
    "duration": 32,
    "start_time": "2022-03-13T18:55:35.951Z"
   },
   {
    "duration": 6,
    "start_time": "2022-03-13T18:55:35.985Z"
   },
   {
    "duration": 44,
    "start_time": "2022-03-13T18:55:35.993Z"
   },
   {
    "duration": 26,
    "start_time": "2022-03-13T18:55:36.041Z"
   },
   {
    "duration": 13,
    "start_time": "2022-03-13T18:55:36.070Z"
   },
   {
    "duration": 16,
    "start_time": "2022-03-13T18:55:36.085Z"
   },
   {
    "duration": 7,
    "start_time": "2022-03-13T18:55:36.103Z"
   },
   {
    "duration": 9,
    "start_time": "2022-03-13T18:55:36.112Z"
   },
   {
    "duration": 12,
    "start_time": "2022-03-13T18:55:36.134Z"
   },
   {
    "duration": 6,
    "start_time": "2022-03-13T18:55:36.149Z"
   },
   {
    "duration": 11,
    "start_time": "2022-03-13T18:55:36.157Z"
   },
   {
    "duration": 5,
    "start_time": "2022-03-13T18:55:36.170Z"
   },
   {
    "duration": 6,
    "start_time": "2022-03-13T18:55:36.176Z"
   },
   {
    "duration": 5,
    "start_time": "2022-03-13T18:55:36.183Z"
   },
   {
    "duration": 7,
    "start_time": "2022-03-13T18:55:36.190Z"
   },
   {
    "duration": 44,
    "start_time": "2022-03-13T18:55:36.198Z"
   },
   {
    "duration": 10,
    "start_time": "2022-03-13T18:55:36.245Z"
   },
   {
    "duration": 18,
    "start_time": "2022-03-13T18:55:36.258Z"
   },
   {
    "duration": 7,
    "start_time": "2022-03-13T18:55:36.278Z"
   },
   {
    "duration": 5,
    "start_time": "2022-03-13T18:55:36.287Z"
   },
   {
    "duration": 4,
    "start_time": "2022-03-13T18:55:36.294Z"
   },
   {
    "duration": 40,
    "start_time": "2022-03-13T18:55:36.303Z"
   },
   {
    "duration": 12,
    "start_time": "2022-03-13T18:55:36.347Z"
   },
   {
    "duration": 5,
    "start_time": "2022-03-13T18:55:36.361Z"
   },
   {
    "duration": 8,
    "start_time": "2022-03-13T18:55:36.368Z"
   },
   {
    "duration": 23,
    "start_time": "2022-03-13T18:55:36.378Z"
   },
   {
    "duration": 39,
    "start_time": "2022-03-13T18:55:36.433Z"
   },
   {
    "duration": 750,
    "start_time": "2022-03-13T18:55:36.474Z"
   },
   {
    "duration": 9,
    "start_time": "2022-03-13T18:55:37.226Z"
   },
   {
    "duration": 30,
    "start_time": "2022-03-13T18:55:37.237Z"
   },
   {
    "duration": 22,
    "start_time": "2022-03-13T18:55:37.268Z"
   },
   {
    "duration": 409,
    "start_time": "2022-03-13T18:55:37.291Z"
   },
   {
    "duration": 353,
    "start_time": "2022-03-13T18:55:37.702Z"
   },
   {
    "duration": 243,
    "start_time": "2022-03-13T18:55:38.056Z"
   },
   {
    "duration": 204,
    "start_time": "2022-03-13T18:55:38.301Z"
   },
   {
    "duration": 512,
    "start_time": "2022-03-13T18:55:38.507Z"
   },
   {
    "duration": 12,
    "start_time": "2022-03-13T18:55:39.021Z"
   },
   {
    "duration": 18,
    "start_time": "2022-03-13T18:55:39.035Z"
   },
   {
    "duration": 17,
    "start_time": "2022-03-13T18:55:39.054Z"
   },
   {
    "duration": 7,
    "start_time": "2022-03-13T18:55:39.073Z"
   },
   {
    "duration": 11,
    "start_time": "2022-03-13T18:55:39.082Z"
   },
   {
    "duration": 3,
    "start_time": "2022-03-13T18:55:39.095Z"
   },
   {
    "duration": 48,
    "start_time": "2022-03-13T18:55:39.100Z"
   },
   {
    "duration": 11,
    "start_time": "2022-03-13T18:55:39.150Z"
   },
   {
    "duration": 5,
    "start_time": "2022-03-13T18:55:39.163Z"
   },
   {
    "duration": 8,
    "start_time": "2022-03-13T18:55:39.170Z"
   },
   {
    "duration": 6,
    "start_time": "2022-03-13T18:55:39.180Z"
   },
   {
    "duration": 6,
    "start_time": "2022-03-13T18:55:39.188Z"
   },
   {
    "duration": 7,
    "start_time": "2022-03-13T18:55:39.195Z"
   },
   {
    "duration": 5,
    "start_time": "2022-03-13T18:55:39.204Z"
   },
   {
    "duration": 7,
    "start_time": "2022-03-13T18:55:39.234Z"
   },
   {
    "duration": 5,
    "start_time": "2022-03-13T18:55:39.244Z"
   },
   {
    "duration": 33,
    "start_time": "2022-03-13T18:55:39.251Z"
   },
   {
    "duration": 49,
    "start_time": "2022-03-13T18:55:39.286Z"
   },
   {
    "duration": 10,
    "start_time": "2022-03-13T18:55:39.339Z"
   },
   {
    "duration": 36,
    "start_time": "2022-03-13T18:55:39.351Z"
   },
   {
    "duration": 584,
    "start_time": "2022-03-13T18:55:39.389Z"
   },
   {
    "duration": 16,
    "start_time": "2022-03-13T18:55:39.975Z"
   },
   {
    "duration": 394,
    "start_time": "2022-03-13T18:55:39.994Z"
   },
   {
    "duration": 407,
    "start_time": "2022-03-13T18:55:40.390Z"
   },
   {
    "duration": 346,
    "start_time": "2022-03-13T18:55:40.799Z"
   },
   {
    "duration": 343,
    "start_time": "2022-03-13T18:55:41.147Z"
   },
   {
    "duration": 208,
    "start_time": "2022-03-13T18:55:41.492Z"
   },
   {
    "duration": 267,
    "start_time": "2022-03-13T18:55:41.701Z"
   },
   {
    "duration": 266,
    "start_time": "2022-03-13T18:55:41.970Z"
   },
   {
    "duration": 191,
    "start_time": "2022-03-13T18:55:42.238Z"
   },
   {
    "duration": 13,
    "start_time": "2022-03-13T18:55:42.430Z"
   },
   {
    "duration": 8,
    "start_time": "2022-03-13T18:55:42.445Z"
   },
   {
    "duration": 8,
    "start_time": "2022-03-13T18:55:42.457Z"
   },
   {
    "duration": 11,
    "start_time": "2022-03-13T18:55:42.466Z"
   },
   {
    "duration": 8,
    "start_time": "2022-03-13T18:55:42.478Z"
   },
   {
    "duration": 6,
    "start_time": "2022-03-13T18:55:42.488Z"
   },
   {
    "duration": 6,
    "start_time": "2022-03-13T18:55:42.496Z"
   },
   {
    "duration": 14,
    "start_time": "2022-03-13T19:04:14.431Z"
   },
   {
    "duration": 9,
    "start_time": "2022-03-13T19:04:15.626Z"
   },
   {
    "duration": 14,
    "start_time": "2022-03-13T19:04:18.686Z"
   },
   {
    "duration": 665,
    "start_time": "2022-03-13T19:04:44.928Z"
   },
   {
    "duration": 79,
    "start_time": "2022-03-13T19:04:45.595Z"
   },
   {
    "duration": 13,
    "start_time": "2022-03-13T19:04:45.677Z"
   },
   {
    "duration": 15,
    "start_time": "2022-03-13T19:04:45.692Z"
   },
   {
    "duration": 53,
    "start_time": "2022-03-13T19:04:45.709Z"
   },
   {
    "duration": 6,
    "start_time": "2022-03-13T19:04:45.764Z"
   },
   {
    "duration": 10,
    "start_time": "2022-03-13T19:04:45.772Z"
   },
   {
    "duration": 8,
    "start_time": "2022-03-13T19:04:45.785Z"
   },
   {
    "duration": 42,
    "start_time": "2022-03-13T19:04:45.796Z"
   },
   {
    "duration": 15,
    "start_time": "2022-03-13T19:04:45.840Z"
   },
   {
    "duration": 8,
    "start_time": "2022-03-13T19:04:45.857Z"
   },
   {
    "duration": 11,
    "start_time": "2022-03-13T19:04:45.867Z"
   },
   {
    "duration": 13,
    "start_time": "2022-03-13T19:04:45.881Z"
   },
   {
    "duration": 5,
    "start_time": "2022-03-13T19:04:45.895Z"
   },
   {
    "duration": 34,
    "start_time": "2022-03-13T19:04:45.902Z"
   },
   {
    "duration": 6,
    "start_time": "2022-03-13T19:04:45.941Z"
   },
   {
    "duration": 8,
    "start_time": "2022-03-13T19:04:45.948Z"
   },
   {
    "duration": 8,
    "start_time": "2022-03-13T19:04:45.958Z"
   },
   {
    "duration": 10,
    "start_time": "2022-03-13T19:04:45.968Z"
   },
   {
    "duration": 13,
    "start_time": "2022-03-13T19:04:45.980Z"
   },
   {
    "duration": 16,
    "start_time": "2022-03-13T19:04:45.995Z"
   },
   {
    "duration": 39,
    "start_time": "2022-03-13T19:04:46.013Z"
   },
   {
    "duration": 8,
    "start_time": "2022-03-13T19:04:46.056Z"
   },
   {
    "duration": 6,
    "start_time": "2022-03-13T19:04:46.066Z"
   },
   {
    "duration": 7,
    "start_time": "2022-03-13T19:04:46.073Z"
   },
   {
    "duration": 10,
    "start_time": "2022-03-13T19:04:46.082Z"
   },
   {
    "duration": 7,
    "start_time": "2022-03-13T19:04:46.093Z"
   },
   {
    "duration": 34,
    "start_time": "2022-03-13T19:04:46.102Z"
   },
   {
    "duration": 13,
    "start_time": "2022-03-13T19:04:46.138Z"
   },
   {
    "duration": 28,
    "start_time": "2022-03-13T19:04:46.154Z"
   },
   {
    "duration": 53,
    "start_time": "2022-03-13T19:04:46.184Z"
   },
   {
    "duration": 757,
    "start_time": "2022-03-13T19:04:46.240Z"
   },
   {
    "duration": 3,
    "start_time": "2022-03-13T19:04:46.999Z"
   },
   {
    "duration": 31,
    "start_time": "2022-03-13T19:04:47.004Z"
   },
   {
    "duration": 26,
    "start_time": "2022-03-13T19:04:47.041Z"
   },
   {
    "duration": 425,
    "start_time": "2022-03-13T19:04:47.068Z"
   },
   {
    "duration": 369,
    "start_time": "2022-03-13T19:04:47.495Z"
   },
   {
    "duration": 229,
    "start_time": "2022-03-13T19:04:47.866Z"
   },
   {
    "duration": 209,
    "start_time": "2022-03-13T19:04:48.097Z"
   },
   {
    "duration": 371,
    "start_time": "2022-03-13T19:04:48.307Z"
   },
   {
    "duration": 5,
    "start_time": "2022-03-13T19:04:48.680Z"
   },
   {
    "duration": 15,
    "start_time": "2022-03-13T19:04:48.687Z"
   },
   {
    "duration": 42,
    "start_time": "2022-03-13T19:04:48.704Z"
   },
   {
    "duration": 10,
    "start_time": "2022-03-13T19:04:48.748Z"
   },
   {
    "duration": 22,
    "start_time": "2022-03-13T19:04:48.760Z"
   },
   {
    "duration": 4,
    "start_time": "2022-03-13T19:04:48.786Z"
   },
   {
    "duration": 6,
    "start_time": "2022-03-13T19:04:48.792Z"
   },
   {
    "duration": 5,
    "start_time": "2022-03-13T19:04:48.800Z"
   },
   {
    "duration": 29,
    "start_time": "2022-03-13T19:04:48.806Z"
   },
   {
    "duration": 9,
    "start_time": "2022-03-13T19:04:48.838Z"
   },
   {
    "duration": 15,
    "start_time": "2022-03-13T19:04:48.849Z"
   },
   {
    "duration": 7,
    "start_time": "2022-03-13T19:04:48.866Z"
   },
   {
    "duration": 8,
    "start_time": "2022-03-13T19:04:48.875Z"
   },
   {
    "duration": 4,
    "start_time": "2022-03-13T19:04:48.885Z"
   },
   {
    "duration": 9,
    "start_time": "2022-03-13T19:04:48.890Z"
   },
   {
    "duration": 34,
    "start_time": "2022-03-13T19:04:48.901Z"
   },
   {
    "duration": 29,
    "start_time": "2022-03-13T19:04:48.936Z"
   },
   {
    "duration": 14,
    "start_time": "2022-03-13T19:04:48.967Z"
   },
   {
    "duration": 5,
    "start_time": "2022-03-13T19:04:48.983Z"
   },
   {
    "duration": 56,
    "start_time": "2022-03-13T19:04:48.989Z"
   },
   {
    "duration": 450,
    "start_time": "2022-03-13T19:04:49.047Z"
   },
   {
    "duration": 11,
    "start_time": "2022-03-13T19:04:49.501Z"
   },
   {
    "duration": 321,
    "start_time": "2022-03-13T19:04:49.514Z"
   },
   {
    "duration": 643,
    "start_time": "2022-03-13T19:04:49.838Z"
   },
   {
    "duration": 537,
    "start_time": "2022-03-13T19:04:50.482Z"
   },
   {
    "duration": 493,
    "start_time": "2022-03-13T19:04:51.021Z"
   },
   {
    "duration": 270,
    "start_time": "2022-03-13T19:04:51.516Z"
   },
   {
    "duration": 288,
    "start_time": "2022-03-13T19:04:51.788Z"
   },
   {
    "duration": 262,
    "start_time": "2022-03-13T19:04:52.078Z"
   },
   {
    "duration": 270,
    "start_time": "2022-03-13T19:04:52.342Z"
   },
   {
    "duration": 5,
    "start_time": "2022-03-13T19:04:52.613Z"
   },
   {
    "duration": 14,
    "start_time": "2022-03-13T19:04:52.620Z"
   },
   {
    "duration": 16,
    "start_time": "2022-03-13T19:04:52.637Z"
   },
   {
    "duration": 8,
    "start_time": "2022-03-13T19:04:52.654Z"
   },
   {
    "duration": 7,
    "start_time": "2022-03-13T19:04:52.663Z"
   },
   {
    "duration": 17,
    "start_time": "2022-03-13T19:04:52.672Z"
   },
   {
    "duration": 7,
    "start_time": "2022-03-13T19:04:52.691Z"
   },
   {
    "duration": 5,
    "start_time": "2022-03-13T19:07:27.074Z"
   },
   {
    "duration": 5,
    "start_time": "2022-03-13T19:07:55.346Z"
   },
   {
    "duration": 578,
    "start_time": "2022-03-13T19:25:11.292Z"
   },
   {
    "duration": 68,
    "start_time": "2022-03-13T19:25:11.872Z"
   },
   {
    "duration": 10,
    "start_time": "2022-03-13T19:25:11.942Z"
   },
   {
    "duration": 9,
    "start_time": "2022-03-13T19:25:11.954Z"
   },
   {
    "duration": 21,
    "start_time": "2022-03-13T19:25:11.965Z"
   },
   {
    "duration": 4,
    "start_time": "2022-03-13T19:25:11.988Z"
   },
   {
    "duration": 9,
    "start_time": "2022-03-13T19:25:11.994Z"
   },
   {
    "duration": 36,
    "start_time": "2022-03-13T19:25:12.004Z"
   },
   {
    "duration": 10,
    "start_time": "2022-03-13T19:25:12.043Z"
   },
   {
    "duration": 8,
    "start_time": "2022-03-13T19:25:12.055Z"
   },
   {
    "duration": 5,
    "start_time": "2022-03-13T19:25:12.065Z"
   },
   {
    "duration": 5,
    "start_time": "2022-03-13T19:25:12.071Z"
   },
   {
    "duration": 11,
    "start_time": "2022-03-13T19:25:12.077Z"
   },
   {
    "duration": 4,
    "start_time": "2022-03-13T19:25:12.089Z"
   },
   {
    "duration": 4,
    "start_time": "2022-03-13T19:25:12.095Z"
   },
   {
    "duration": 34,
    "start_time": "2022-03-13T19:25:12.101Z"
   },
   {
    "duration": 5,
    "start_time": "2022-03-13T19:25:12.137Z"
   },
   {
    "duration": 4,
    "start_time": "2022-03-13T19:25:12.143Z"
   },
   {
    "duration": 5,
    "start_time": "2022-03-13T19:25:12.148Z"
   },
   {
    "duration": 13,
    "start_time": "2022-03-13T19:25:12.155Z"
   },
   {
    "duration": 6,
    "start_time": "2022-03-13T19:25:12.170Z"
   },
   {
    "duration": 14,
    "start_time": "2022-03-13T19:25:12.178Z"
   },
   {
    "duration": 40,
    "start_time": "2022-03-13T19:25:12.193Z"
   },
   {
    "duration": 3,
    "start_time": "2022-03-13T19:25:12.235Z"
   },
   {
    "duration": 4,
    "start_time": "2022-03-13T19:25:12.240Z"
   },
   {
    "duration": 8,
    "start_time": "2022-03-13T19:25:12.246Z"
   },
   {
    "duration": 5,
    "start_time": "2022-03-13T19:25:12.258Z"
   },
   {
    "duration": 4,
    "start_time": "2022-03-13T19:25:12.265Z"
   },
   {
    "duration": 9,
    "start_time": "2022-03-13T19:25:12.270Z"
   },
   {
    "duration": 53,
    "start_time": "2022-03-13T19:25:12.281Z"
   },
   {
    "duration": 30,
    "start_time": "2022-03-13T19:25:12.335Z"
   },
   {
    "duration": 691,
    "start_time": "2022-03-13T19:25:12.366Z"
   },
   {
    "duration": 3,
    "start_time": "2022-03-13T19:25:13.059Z"
   },
   {
    "duration": 24,
    "start_time": "2022-03-13T19:25:13.063Z"
   },
   {
    "duration": 20,
    "start_time": "2022-03-13T19:25:13.089Z"
   },
   {
    "duration": 368,
    "start_time": "2022-03-13T19:25:13.111Z"
   },
   {
    "duration": 322,
    "start_time": "2022-03-13T19:25:13.480Z"
   },
   {
    "duration": 203,
    "start_time": "2022-03-13T19:25:13.804Z"
   },
   {
    "duration": 194,
    "start_time": "2022-03-13T19:25:14.009Z"
   },
   {
    "duration": 329,
    "start_time": "2022-03-13T19:25:14.205Z"
   },
   {
    "duration": 4,
    "start_time": "2022-03-13T19:25:14.536Z"
   },
   {
    "duration": 10,
    "start_time": "2022-03-13T19:25:14.541Z"
   },
   {
    "duration": 15,
    "start_time": "2022-03-13T19:25:14.553Z"
   },
   {
    "duration": 8,
    "start_time": "2022-03-13T19:25:14.569Z"
   },
   {
    "duration": 10,
    "start_time": "2022-03-13T19:25:14.579Z"
   },
   {
    "duration": 4,
    "start_time": "2022-03-13T19:25:14.590Z"
   },
   {
    "duration": 40,
    "start_time": "2022-03-13T19:25:14.596Z"
   },
   {
    "duration": 4,
    "start_time": "2022-03-13T19:25:14.638Z"
   },
   {
    "duration": 4,
    "start_time": "2022-03-13T19:25:14.644Z"
   },
   {
    "duration": 6,
    "start_time": "2022-03-13T19:25:14.649Z"
   },
   {
    "duration": 5,
    "start_time": "2022-03-13T19:25:14.657Z"
   },
   {
    "duration": 4,
    "start_time": "2022-03-13T19:25:14.664Z"
   },
   {
    "duration": 7,
    "start_time": "2022-03-13T19:25:14.669Z"
   },
   {
    "duration": 4,
    "start_time": "2022-03-13T19:25:14.678Z"
   },
   {
    "duration": 51,
    "start_time": "2022-03-13T19:25:14.683Z"
   },
   {
    "duration": 5,
    "start_time": "2022-03-13T19:25:14.735Z"
   },
   {
    "duration": 27,
    "start_time": "2022-03-13T19:25:14.742Z"
   },
   {
    "duration": 14,
    "start_time": "2022-03-13T19:25:14.771Z"
   },
   {
    "duration": 5,
    "start_time": "2022-03-13T19:25:14.787Z"
   },
   {
    "duration": 53,
    "start_time": "2022-03-13T19:25:14.794Z"
   },
   {
    "duration": 394,
    "start_time": "2022-03-13T19:25:14.849Z"
   },
   {
    "duration": 12,
    "start_time": "2022-03-13T19:25:15.244Z"
   },
   {
    "duration": 330,
    "start_time": "2022-03-13T19:25:15.258Z"
   },
   {
    "duration": 380,
    "start_time": "2022-03-13T19:25:15.594Z"
   },
   {
    "duration": 324,
    "start_time": "2022-03-13T19:25:15.976Z"
   },
   {
    "duration": 309,
    "start_time": "2022-03-13T19:25:16.302Z"
   },
   {
    "duration": 175,
    "start_time": "2022-03-13T19:25:16.613Z"
   },
   {
    "duration": 183,
    "start_time": "2022-03-13T19:25:16.789Z"
   },
   {
    "duration": 177,
    "start_time": "2022-03-13T19:25:16.973Z"
   },
   {
    "duration": 173,
    "start_time": "2022-03-13T19:25:17.151Z"
   },
   {
    "duration": 9,
    "start_time": "2022-03-13T19:25:17.326Z"
   },
   {
    "duration": 7,
    "start_time": "2022-03-13T19:25:17.336Z"
   },
   {
    "duration": 8,
    "start_time": "2022-03-13T19:25:17.344Z"
   },
   {
    "duration": 9,
    "start_time": "2022-03-13T19:25:17.353Z"
   },
   {
    "duration": 5,
    "start_time": "2022-03-13T19:25:17.364Z"
   },
   {
    "duration": 9,
    "start_time": "2022-03-13T19:25:17.370Z"
   },
   {
    "duration": 7,
    "start_time": "2022-03-13T19:25:17.380Z"
   },
   {
    "duration": 8,
    "start_time": "2022-03-13T19:25:17.388Z"
   },
   {
    "duration": 660,
    "start_time": "2022-03-14T09:45:45.103Z"
   },
   {
    "duration": 65,
    "start_time": "2022-03-14T09:45:45.764Z"
   },
   {
    "duration": 10,
    "start_time": "2022-03-14T09:45:45.831Z"
   },
   {
    "duration": 10,
    "start_time": "2022-03-14T09:45:45.843Z"
   },
   {
    "duration": 24,
    "start_time": "2022-03-14T09:45:45.854Z"
   },
   {
    "duration": 6,
    "start_time": "2022-03-14T09:45:45.880Z"
   },
   {
    "duration": 12,
    "start_time": "2022-03-14T09:45:45.887Z"
   },
   {
    "duration": 38,
    "start_time": "2022-03-14T09:45:45.901Z"
   },
   {
    "duration": 12,
    "start_time": "2022-03-14T09:45:45.941Z"
   },
   {
    "duration": 11,
    "start_time": "2022-03-14T09:45:45.954Z"
   },
   {
    "duration": 6,
    "start_time": "2022-03-14T09:45:45.966Z"
   },
   {
    "duration": 9,
    "start_time": "2022-03-14T09:45:45.973Z"
   },
   {
    "duration": 16,
    "start_time": "2022-03-14T09:45:45.984Z"
   },
   {
    "duration": 4,
    "start_time": "2022-03-14T09:45:46.001Z"
   },
   {
    "duration": 7,
    "start_time": "2022-03-14T09:45:46.007Z"
   },
   {
    "duration": 19,
    "start_time": "2022-03-14T09:45:46.015Z"
   },
   {
    "duration": 4,
    "start_time": "2022-03-14T09:45:46.036Z"
   },
   {
    "duration": 5,
    "start_time": "2022-03-14T09:45:46.041Z"
   },
   {
    "duration": 6,
    "start_time": "2022-03-14T09:45:46.048Z"
   },
   {
    "duration": 11,
    "start_time": "2022-03-14T09:45:46.056Z"
   },
   {
    "duration": 7,
    "start_time": "2022-03-14T09:45:46.068Z"
   },
   {
    "duration": 14,
    "start_time": "2022-03-14T09:45:46.077Z"
   },
   {
    "duration": 39,
    "start_time": "2022-03-14T09:45:46.095Z"
   },
   {
    "duration": 3,
    "start_time": "2022-03-14T09:45:46.136Z"
   },
   {
    "duration": 16,
    "start_time": "2022-03-14T09:45:46.141Z"
   },
   {
    "duration": 12,
    "start_time": "2022-03-14T09:45:46.159Z"
   },
   {
    "duration": 6,
    "start_time": "2022-03-14T09:45:46.172Z"
   },
   {
    "duration": 8,
    "start_time": "2022-03-14T09:45:46.179Z"
   },
   {
    "duration": 12,
    "start_time": "2022-03-14T09:45:46.188Z"
   },
   {
    "duration": 35,
    "start_time": "2022-03-14T09:45:46.201Z"
   },
   {
    "duration": 29,
    "start_time": "2022-03-14T09:45:46.237Z"
   },
   {
    "duration": 671,
    "start_time": "2022-03-14T09:45:46.268Z"
   },
   {
    "duration": 4,
    "start_time": "2022-03-14T09:45:46.940Z"
   },
   {
    "duration": 28,
    "start_time": "2022-03-14T09:45:46.945Z"
   },
   {
    "duration": 20,
    "start_time": "2022-03-14T09:45:46.974Z"
   },
   {
    "duration": 363,
    "start_time": "2022-03-14T09:45:46.996Z"
   },
   {
    "duration": 324,
    "start_time": "2022-03-14T09:45:47.361Z"
   },
   {
    "duration": 203,
    "start_time": "2022-03-14T09:45:47.686Z"
   },
   {
    "duration": 195,
    "start_time": "2022-03-14T09:45:47.891Z"
   },
   {
    "duration": 336,
    "start_time": "2022-03-14T09:45:48.087Z"
   },
   {
    "duration": 10,
    "start_time": "2022-03-14T09:45:48.424Z"
   },
   {
    "duration": 16,
    "start_time": "2022-03-14T09:45:48.435Z"
   },
   {
    "duration": 13,
    "start_time": "2022-03-14T09:45:48.452Z"
   },
   {
    "duration": 10,
    "start_time": "2022-03-14T09:45:48.467Z"
   },
   {
    "duration": 11,
    "start_time": "2022-03-14T09:45:48.478Z"
   },
   {
    "duration": 3,
    "start_time": "2022-03-14T09:45:48.491Z"
   },
   {
    "duration": 8,
    "start_time": "2022-03-14T09:45:48.495Z"
   },
   {
    "duration": 6,
    "start_time": "2022-03-14T09:45:48.505Z"
   },
   {
    "duration": 24,
    "start_time": "2022-03-14T09:45:48.512Z"
   },
   {
    "duration": 8,
    "start_time": "2022-03-14T09:45:48.538Z"
   },
   {
    "duration": 10,
    "start_time": "2022-03-14T09:45:48.548Z"
   },
   {
    "duration": 14,
    "start_time": "2022-03-14T09:45:48.560Z"
   },
   {
    "duration": 13,
    "start_time": "2022-03-14T09:45:48.576Z"
   },
   {
    "duration": 9,
    "start_time": "2022-03-14T09:45:48.591Z"
   },
   {
    "duration": 9,
    "start_time": "2022-03-14T09:45:48.601Z"
   },
   {
    "duration": 25,
    "start_time": "2022-03-14T09:45:48.612Z"
   },
   {
    "duration": 24,
    "start_time": "2022-03-14T09:45:48.638Z"
   },
   {
    "duration": 15,
    "start_time": "2022-03-14T09:45:48.664Z"
   },
   {
    "duration": 10,
    "start_time": "2022-03-14T09:45:48.681Z"
   },
   {
    "duration": 51,
    "start_time": "2022-03-14T09:45:48.693Z"
   },
   {
    "duration": 396,
    "start_time": "2022-03-14T09:45:48.746Z"
   },
   {
    "duration": 12,
    "start_time": "2022-03-14T09:45:49.143Z"
   },
   {
    "duration": 316,
    "start_time": "2022-03-14T09:45:49.156Z"
   },
   {
    "duration": 368,
    "start_time": "2022-03-14T09:45:49.473Z"
   },
   {
    "duration": 322,
    "start_time": "2022-03-14T09:45:49.842Z"
   },
   {
    "duration": 308,
    "start_time": "2022-03-14T09:45:50.166Z"
   },
   {
    "duration": 177,
    "start_time": "2022-03-14T09:45:50.476Z"
   },
   {
    "duration": 184,
    "start_time": "2022-03-14T09:45:50.658Z"
   },
   {
    "duration": 175,
    "start_time": "2022-03-14T09:45:50.844Z"
   },
   {
    "duration": 171,
    "start_time": "2022-03-14T09:45:51.020Z"
   },
   {
    "duration": 3,
    "start_time": "2022-03-14T09:45:51.193Z"
   },
   {
    "duration": 8,
    "start_time": "2022-03-14T09:45:51.198Z"
   },
   {
    "duration": 4,
    "start_time": "2022-03-14T09:45:51.208Z"
   },
   {
    "duration": 21,
    "start_time": "2022-03-14T09:45:51.213Z"
   },
   {
    "duration": 11,
    "start_time": "2022-03-14T09:45:51.235Z"
   },
   {
    "duration": 12,
    "start_time": "2022-03-14T09:45:51.247Z"
   },
   {
    "duration": 12,
    "start_time": "2022-03-14T09:45:51.261Z"
   },
   {
    "duration": 7,
    "start_time": "2022-03-14T09:45:51.275Z"
   },
   {
    "duration": 48,
    "start_time": "2022-03-23T20:59:28.523Z"
   },
   {
    "duration": 70,
    "start_time": "2022-03-24T05:55:56.378Z"
   },
   {
    "duration": 98,
    "start_time": "2022-03-24T05:56:06.364Z"
   },
   {
    "duration": 0,
    "start_time": "2022-03-24T05:56:06.468Z"
   },
   {
    "duration": 0,
    "start_time": "2022-03-24T05:56:06.470Z"
   },
   {
    "duration": 0,
    "start_time": "2022-03-24T05:56:06.473Z"
   },
   {
    "duration": 0,
    "start_time": "2022-03-24T05:56:06.474Z"
   },
   {
    "duration": 0,
    "start_time": "2022-03-24T05:56:06.477Z"
   },
   {
    "duration": 1,
    "start_time": "2022-03-24T05:56:06.478Z"
   },
   {
    "duration": 0,
    "start_time": "2022-03-24T05:56:06.481Z"
   },
   {
    "duration": 0,
    "start_time": "2022-03-24T05:56:06.484Z"
   },
   {
    "duration": 0,
    "start_time": "2022-03-24T05:56:06.487Z"
   },
   {
    "duration": 0,
    "start_time": "2022-03-24T05:56:06.489Z"
   },
   {
    "duration": 0,
    "start_time": "2022-03-24T05:56:06.492Z"
   },
   {
    "duration": 0,
    "start_time": "2022-03-24T05:56:06.495Z"
   },
   {
    "duration": 0,
    "start_time": "2022-03-24T05:56:06.497Z"
   },
   {
    "duration": 0,
    "start_time": "2022-03-24T05:56:06.500Z"
   },
   {
    "duration": 0,
    "start_time": "2022-03-24T05:56:06.502Z"
   },
   {
    "duration": 0,
    "start_time": "2022-03-24T05:56:06.504Z"
   },
   {
    "duration": 0,
    "start_time": "2022-03-24T05:56:06.507Z"
   },
   {
    "duration": 0,
    "start_time": "2022-03-24T05:56:06.569Z"
   },
   {
    "duration": 0,
    "start_time": "2022-03-24T05:56:06.571Z"
   },
   {
    "duration": 0,
    "start_time": "2022-03-24T05:56:06.574Z"
   },
   {
    "duration": 0,
    "start_time": "2022-03-24T05:56:06.576Z"
   },
   {
    "duration": 0,
    "start_time": "2022-03-24T05:56:06.578Z"
   },
   {
    "duration": 0,
    "start_time": "2022-03-24T05:56:06.580Z"
   },
   {
    "duration": 0,
    "start_time": "2022-03-24T05:56:06.583Z"
   },
   {
    "duration": 0,
    "start_time": "2022-03-24T05:56:06.585Z"
   },
   {
    "duration": 0,
    "start_time": "2022-03-24T05:56:06.588Z"
   },
   {
    "duration": 0,
    "start_time": "2022-03-24T05:56:06.590Z"
   },
   {
    "duration": 0,
    "start_time": "2022-03-24T05:56:06.592Z"
   },
   {
    "duration": 0,
    "start_time": "2022-03-24T05:56:06.594Z"
   },
   {
    "duration": 1,
    "start_time": "2022-03-24T05:56:06.596Z"
   },
   {
    "duration": 0,
    "start_time": "2022-03-24T05:56:06.598Z"
   },
   {
    "duration": 0,
    "start_time": "2022-03-24T05:56:06.600Z"
   },
   {
    "duration": 1,
    "start_time": "2022-03-24T05:56:06.602Z"
   },
   {
    "duration": 0,
    "start_time": "2022-03-24T05:56:06.605Z"
   },
   {
    "duration": 124,
    "start_time": "2022-03-24T05:56:06.675Z"
   },
   {
    "duration": 0,
    "start_time": "2022-03-24T05:56:06.802Z"
   },
   {
    "duration": 0,
    "start_time": "2022-03-24T05:56:06.803Z"
   },
   {
    "duration": 0,
    "start_time": "2022-03-24T05:56:06.805Z"
   },
   {
    "duration": 0,
    "start_time": "2022-03-24T05:56:06.806Z"
   },
   {
    "duration": 0,
    "start_time": "2022-03-24T05:56:06.807Z"
   },
   {
    "duration": 0,
    "start_time": "2022-03-24T05:56:06.809Z"
   },
   {
    "duration": 0,
    "start_time": "2022-03-24T05:56:06.811Z"
   },
   {
    "duration": 0,
    "start_time": "2022-03-24T05:56:06.812Z"
   },
   {
    "duration": 0,
    "start_time": "2022-03-24T05:56:06.813Z"
   },
   {
    "duration": 0,
    "start_time": "2022-03-24T05:56:06.816Z"
   },
   {
    "duration": 0,
    "start_time": "2022-03-24T05:56:06.817Z"
   },
   {
    "duration": 1,
    "start_time": "2022-03-24T05:56:06.818Z"
   },
   {
    "duration": 0,
    "start_time": "2022-03-24T05:56:06.820Z"
   },
   {
    "duration": 0,
    "start_time": "2022-03-24T05:56:06.868Z"
   },
   {
    "duration": 0,
    "start_time": "2022-03-24T05:56:06.869Z"
   },
   {
    "duration": 0,
    "start_time": "2022-03-24T05:56:06.870Z"
   },
   {
    "duration": 0,
    "start_time": "2022-03-24T05:56:06.872Z"
   },
   {
    "duration": 0,
    "start_time": "2022-03-24T05:56:06.873Z"
   },
   {
    "duration": 1,
    "start_time": "2022-03-24T05:56:06.874Z"
   },
   {
    "duration": 0,
    "start_time": "2022-03-24T05:56:06.876Z"
   },
   {
    "duration": 0,
    "start_time": "2022-03-24T05:56:06.877Z"
   },
   {
    "duration": 0,
    "start_time": "2022-03-24T05:56:06.879Z"
   },
   {
    "duration": 0,
    "start_time": "2022-03-24T05:56:06.881Z"
   },
   {
    "duration": 0,
    "start_time": "2022-03-24T05:56:06.882Z"
   },
   {
    "duration": 0,
    "start_time": "2022-03-24T05:56:06.884Z"
   },
   {
    "duration": 0,
    "start_time": "2022-03-24T05:56:06.885Z"
   },
   {
    "duration": 0,
    "start_time": "2022-03-24T05:56:06.887Z"
   },
   {
    "duration": 0,
    "start_time": "2022-03-24T05:56:06.889Z"
   },
   {
    "duration": 0,
    "start_time": "2022-03-24T05:56:06.890Z"
   },
   {
    "duration": 0,
    "start_time": "2022-03-24T05:56:06.892Z"
   },
   {
    "duration": 0,
    "start_time": "2022-03-24T05:56:06.893Z"
   },
   {
    "duration": 0,
    "start_time": "2022-03-24T05:56:06.895Z"
   },
   {
    "duration": 0,
    "start_time": "2022-03-24T05:56:06.896Z"
   },
   {
    "duration": 0,
    "start_time": "2022-03-24T05:56:06.897Z"
   },
   {
    "duration": 74,
    "start_time": "2022-03-24T05:56:06.902Z"
   },
   {
    "duration": 0,
    "start_time": "2022-03-24T05:56:06.978Z"
   },
   {
    "duration": 0,
    "start_time": "2022-03-24T05:56:06.980Z"
   },
   {
    "duration": 21,
    "start_time": "2022-03-24T05:56:07.051Z"
   },
   {
    "duration": 0,
    "start_time": "2022-03-24T05:56:07.074Z"
   },
   {
    "duration": 0,
    "start_time": "2022-03-24T05:56:07.076Z"
   },
   {
    "duration": 0,
    "start_time": "2022-03-24T05:56:07.078Z"
   },
   {
    "duration": 0,
    "start_time": "2022-03-24T05:56:07.079Z"
   },
   {
    "duration": 89,
    "start_time": "2022-03-24T05:57:12.545Z"
   },
   {
    "duration": 0,
    "start_time": "2022-03-24T05:57:12.637Z"
   },
   {
    "duration": 0,
    "start_time": "2022-03-24T05:57:12.639Z"
   },
   {
    "duration": 0,
    "start_time": "2022-03-24T05:57:12.641Z"
   },
   {
    "duration": 0,
    "start_time": "2022-03-24T05:57:12.642Z"
   },
   {
    "duration": 0,
    "start_time": "2022-03-24T05:57:12.643Z"
   },
   {
    "duration": 0,
    "start_time": "2022-03-24T05:57:12.644Z"
   },
   {
    "duration": 0,
    "start_time": "2022-03-24T05:57:12.646Z"
   },
   {
    "duration": 0,
    "start_time": "2022-03-24T05:57:12.647Z"
   },
   {
    "duration": 0,
    "start_time": "2022-03-24T05:57:12.649Z"
   },
   {
    "duration": 0,
    "start_time": "2022-03-24T05:57:12.650Z"
   },
   {
    "duration": 0,
    "start_time": "2022-03-24T05:57:12.651Z"
   },
   {
    "duration": 0,
    "start_time": "2022-03-24T05:57:12.652Z"
   },
   {
    "duration": 0,
    "start_time": "2022-03-24T05:57:12.653Z"
   },
   {
    "duration": 0,
    "start_time": "2022-03-24T05:57:12.655Z"
   },
   {
    "duration": 0,
    "start_time": "2022-03-24T05:57:12.656Z"
   },
   {
    "duration": 0,
    "start_time": "2022-03-24T05:57:12.657Z"
   },
   {
    "duration": 0,
    "start_time": "2022-03-24T05:57:12.659Z"
   },
   {
    "duration": 0,
    "start_time": "2022-03-24T05:57:12.661Z"
   },
   {
    "duration": 0,
    "start_time": "2022-03-24T05:57:12.662Z"
   },
   {
    "duration": 0,
    "start_time": "2022-03-24T05:57:12.664Z"
   },
   {
    "duration": 0,
    "start_time": "2022-03-24T05:57:12.667Z"
   },
   {
    "duration": 0,
    "start_time": "2022-03-24T05:57:12.669Z"
   },
   {
    "duration": 0,
    "start_time": "2022-03-24T05:57:12.670Z"
   },
   {
    "duration": 0,
    "start_time": "2022-03-24T05:57:12.671Z"
   },
   {
    "duration": 0,
    "start_time": "2022-03-24T05:57:12.673Z"
   },
   {
    "duration": 0,
    "start_time": "2022-03-24T05:57:12.674Z"
   },
   {
    "duration": 0,
    "start_time": "2022-03-24T05:57:12.676Z"
   },
   {
    "duration": 0,
    "start_time": "2022-03-24T05:57:12.677Z"
   },
   {
    "duration": 0,
    "start_time": "2022-03-24T05:57:12.679Z"
   },
   {
    "duration": 0,
    "start_time": "2022-03-24T05:57:12.680Z"
   },
   {
    "duration": 0,
    "start_time": "2022-03-24T05:57:12.682Z"
   },
   {
    "duration": 0,
    "start_time": "2022-03-24T05:57:12.683Z"
   },
   {
    "duration": 186,
    "start_time": "2022-03-24T05:57:12.688Z"
   },
   {
    "duration": 0,
    "start_time": "2022-03-24T05:57:12.877Z"
   },
   {
    "duration": 0,
    "start_time": "2022-03-24T05:57:12.879Z"
   },
   {
    "duration": 0,
    "start_time": "2022-03-24T05:57:12.881Z"
   },
   {
    "duration": 0,
    "start_time": "2022-03-24T05:57:12.883Z"
   },
   {
    "duration": 0,
    "start_time": "2022-03-24T05:57:12.884Z"
   },
   {
    "duration": 0,
    "start_time": "2022-03-24T05:57:12.885Z"
   },
   {
    "duration": 0,
    "start_time": "2022-03-24T05:57:12.887Z"
   },
   {
    "duration": 0,
    "start_time": "2022-03-24T05:57:12.889Z"
   },
   {
    "duration": 0,
    "start_time": "2022-03-24T05:57:12.891Z"
   },
   {
    "duration": 0,
    "start_time": "2022-03-24T05:57:12.893Z"
   },
   {
    "duration": 0,
    "start_time": "2022-03-24T05:57:12.894Z"
   },
   {
    "duration": 0,
    "start_time": "2022-03-24T05:57:12.896Z"
   },
   {
    "duration": 0,
    "start_time": "2022-03-24T05:57:12.898Z"
   },
   {
    "duration": 0,
    "start_time": "2022-03-24T05:57:12.900Z"
   },
   {
    "duration": 0,
    "start_time": "2022-03-24T05:57:12.901Z"
   },
   {
    "duration": 0,
    "start_time": "2022-03-24T05:57:12.903Z"
   },
   {
    "duration": 0,
    "start_time": "2022-03-24T05:57:12.967Z"
   },
   {
    "duration": 1,
    "start_time": "2022-03-24T05:57:12.968Z"
   },
   {
    "duration": 0,
    "start_time": "2022-03-24T05:57:12.970Z"
   },
   {
    "duration": 0,
    "start_time": "2022-03-24T05:57:12.972Z"
   },
   {
    "duration": 0,
    "start_time": "2022-03-24T05:57:12.973Z"
   },
   {
    "duration": 0,
    "start_time": "2022-03-24T05:57:12.975Z"
   },
   {
    "duration": 0,
    "start_time": "2022-03-24T05:57:12.976Z"
   },
   {
    "duration": 0,
    "start_time": "2022-03-24T05:57:12.978Z"
   },
   {
    "duration": 0,
    "start_time": "2022-03-24T05:57:12.979Z"
   },
   {
    "duration": 0,
    "start_time": "2022-03-24T05:57:12.981Z"
   },
   {
    "duration": 0,
    "start_time": "2022-03-24T05:57:12.982Z"
   },
   {
    "duration": 0,
    "start_time": "2022-03-24T05:57:12.983Z"
   },
   {
    "duration": 0,
    "start_time": "2022-03-24T05:57:12.985Z"
   },
   {
    "duration": 0,
    "start_time": "2022-03-24T05:57:12.986Z"
   },
   {
    "duration": 0,
    "start_time": "2022-03-24T05:57:12.987Z"
   },
   {
    "duration": 0,
    "start_time": "2022-03-24T05:57:12.989Z"
   },
   {
    "duration": 0,
    "start_time": "2022-03-24T05:57:12.990Z"
   },
   {
    "duration": 0,
    "start_time": "2022-03-24T05:57:12.991Z"
   },
   {
    "duration": 0,
    "start_time": "2022-03-24T05:57:12.992Z"
   },
   {
    "duration": 0,
    "start_time": "2022-03-24T05:57:12.993Z"
   },
   {
    "duration": 0,
    "start_time": "2022-03-24T05:57:12.995Z"
   },
   {
    "duration": 0,
    "start_time": "2022-03-24T05:57:12.996Z"
   },
   {
    "duration": 0,
    "start_time": "2022-03-24T05:57:12.998Z"
   },
   {
    "duration": 0,
    "start_time": "2022-03-24T05:57:12.999Z"
   },
   {
    "duration": 0,
    "start_time": "2022-03-24T05:57:13.000Z"
   },
   {
    "duration": 0,
    "start_time": "2022-03-24T05:57:13.001Z"
   },
   {
    "duration": 0,
    "start_time": "2022-03-24T05:57:13.003Z"
   },
   {
    "duration": 0,
    "start_time": "2022-03-24T05:57:13.004Z"
   },
   {
    "duration": 97,
    "start_time": "2022-03-24T05:57:24.382Z"
   },
   {
    "duration": 0,
    "start_time": "2022-03-24T05:57:24.482Z"
   },
   {
    "duration": 0,
    "start_time": "2022-03-24T05:57:24.484Z"
   },
   {
    "duration": 0,
    "start_time": "2022-03-24T05:57:24.486Z"
   },
   {
    "duration": 0,
    "start_time": "2022-03-24T05:57:24.487Z"
   },
   {
    "duration": 0,
    "start_time": "2022-03-24T05:57:24.488Z"
   },
   {
    "duration": 0,
    "start_time": "2022-03-24T05:57:24.490Z"
   },
   {
    "duration": 0,
    "start_time": "2022-03-24T05:57:24.491Z"
   },
   {
    "duration": 1,
    "start_time": "2022-03-24T05:57:24.492Z"
   },
   {
    "duration": 0,
    "start_time": "2022-03-24T05:57:24.494Z"
   },
   {
    "duration": 0,
    "start_time": "2022-03-24T05:57:24.495Z"
   },
   {
    "duration": 0,
    "start_time": "2022-03-24T05:57:24.496Z"
   },
   {
    "duration": 0,
    "start_time": "2022-03-24T05:57:24.497Z"
   },
   {
    "duration": 0,
    "start_time": "2022-03-24T05:57:24.499Z"
   },
   {
    "duration": 0,
    "start_time": "2022-03-24T05:57:24.500Z"
   },
   {
    "duration": 0,
    "start_time": "2022-03-24T05:57:24.501Z"
   },
   {
    "duration": 1,
    "start_time": "2022-03-24T05:57:24.503Z"
   },
   {
    "duration": 0,
    "start_time": "2022-03-24T05:57:24.505Z"
   },
   {
    "duration": 0,
    "start_time": "2022-03-24T05:57:24.506Z"
   },
   {
    "duration": 0,
    "start_time": "2022-03-24T05:57:24.507Z"
   },
   {
    "duration": 0,
    "start_time": "2022-03-24T05:57:24.509Z"
   },
   {
    "duration": 0,
    "start_time": "2022-03-24T05:57:24.510Z"
   },
   {
    "duration": 0,
    "start_time": "2022-03-24T05:57:24.511Z"
   },
   {
    "duration": 0,
    "start_time": "2022-03-24T05:57:24.513Z"
   },
   {
    "duration": 0,
    "start_time": "2022-03-24T05:57:24.514Z"
   },
   {
    "duration": 0,
    "start_time": "2022-03-24T05:57:24.568Z"
   },
   {
    "duration": 0,
    "start_time": "2022-03-24T05:57:24.570Z"
   },
   {
    "duration": 0,
    "start_time": "2022-03-24T05:57:24.571Z"
   },
   {
    "duration": 0,
    "start_time": "2022-03-24T05:57:24.573Z"
   },
   {
    "duration": 0,
    "start_time": "2022-03-24T05:57:24.574Z"
   },
   {
    "duration": 0,
    "start_time": "2022-03-24T05:57:24.575Z"
   },
   {
    "duration": 0,
    "start_time": "2022-03-24T05:57:24.577Z"
   },
   {
    "duration": 0,
    "start_time": "2022-03-24T05:57:24.578Z"
   },
   {
    "duration": 0,
    "start_time": "2022-03-24T05:57:24.579Z"
   },
   {
    "duration": 0,
    "start_time": "2022-03-24T05:57:24.581Z"
   },
   {
    "duration": 184,
    "start_time": "2022-03-24T05:57:24.589Z"
   },
   {
    "duration": 0,
    "start_time": "2022-03-24T05:57:24.775Z"
   },
   {
    "duration": 0,
    "start_time": "2022-03-24T05:57:24.777Z"
   },
   {
    "duration": 1,
    "start_time": "2022-03-24T05:57:24.778Z"
   },
   {
    "duration": 0,
    "start_time": "2022-03-24T05:57:24.780Z"
   },
   {
    "duration": 0,
    "start_time": "2022-03-24T05:57:24.782Z"
   },
   {
    "duration": 0,
    "start_time": "2022-03-24T05:57:24.783Z"
   },
   {
    "duration": 1,
    "start_time": "2022-03-24T05:57:24.784Z"
   },
   {
    "duration": 0,
    "start_time": "2022-03-24T05:57:24.786Z"
   },
   {
    "duration": 0,
    "start_time": "2022-03-24T05:57:24.788Z"
   },
   {
    "duration": 0,
    "start_time": "2022-03-24T05:57:24.789Z"
   },
   {
    "duration": 0,
    "start_time": "2022-03-24T05:57:24.791Z"
   },
   {
    "duration": 0,
    "start_time": "2022-03-24T05:57:24.792Z"
   },
   {
    "duration": 0,
    "start_time": "2022-03-24T05:57:24.794Z"
   },
   {
    "duration": 0,
    "start_time": "2022-03-24T05:57:24.795Z"
   },
   {
    "duration": 0,
    "start_time": "2022-03-24T05:57:24.797Z"
   },
   {
    "duration": 0,
    "start_time": "2022-03-24T05:57:24.798Z"
   },
   {
    "duration": 0,
    "start_time": "2022-03-24T05:57:24.799Z"
   },
   {
    "duration": 0,
    "start_time": "2022-03-24T05:57:24.801Z"
   },
   {
    "duration": 0,
    "start_time": "2022-03-24T05:57:24.802Z"
   },
   {
    "duration": 0,
    "start_time": "2022-03-24T05:57:24.804Z"
   },
   {
    "duration": 0,
    "start_time": "2022-03-24T05:57:24.805Z"
   },
   {
    "duration": 0,
    "start_time": "2022-03-24T05:57:24.806Z"
   },
   {
    "duration": 0,
    "start_time": "2022-03-24T05:57:24.868Z"
   },
   {
    "duration": 0,
    "start_time": "2022-03-24T05:57:24.870Z"
   },
   {
    "duration": 0,
    "start_time": "2022-03-24T05:57:24.871Z"
   },
   {
    "duration": 0,
    "start_time": "2022-03-24T05:57:24.872Z"
   },
   {
    "duration": 0,
    "start_time": "2022-03-24T05:57:24.874Z"
   },
   {
    "duration": 0,
    "start_time": "2022-03-24T05:57:24.875Z"
   },
   {
    "duration": 0,
    "start_time": "2022-03-24T05:57:24.877Z"
   },
   {
    "duration": 0,
    "start_time": "2022-03-24T05:57:24.878Z"
   },
   {
    "duration": 0,
    "start_time": "2022-03-24T05:57:24.879Z"
   },
   {
    "duration": 0,
    "start_time": "2022-03-24T05:57:24.880Z"
   },
   {
    "duration": 0,
    "start_time": "2022-03-24T05:57:24.881Z"
   },
   {
    "duration": 0,
    "start_time": "2022-03-24T05:57:24.883Z"
   },
   {
    "duration": 0,
    "start_time": "2022-03-24T05:57:24.884Z"
   },
   {
    "duration": 0,
    "start_time": "2022-03-24T05:57:24.886Z"
   },
   {
    "duration": 0,
    "start_time": "2022-03-24T05:57:24.887Z"
   },
   {
    "duration": 0,
    "start_time": "2022-03-24T05:57:24.888Z"
   },
   {
    "duration": 0,
    "start_time": "2022-03-24T05:57:24.889Z"
   },
   {
    "duration": 0,
    "start_time": "2022-03-24T05:57:24.891Z"
   },
   {
    "duration": 0,
    "start_time": "2022-03-24T05:57:24.892Z"
   },
   {
    "duration": 0,
    "start_time": "2022-03-24T05:57:24.894Z"
   },
   {
    "duration": 1062,
    "start_time": "2022-03-24T05:57:53.011Z"
   },
   {
    "duration": 104,
    "start_time": "2022-03-24T05:57:54.077Z"
   },
   {
    "duration": 24,
    "start_time": "2022-03-24T05:57:54.183Z"
   },
   {
    "duration": 16,
    "start_time": "2022-03-24T05:57:54.210Z"
   },
   {
    "duration": 66,
    "start_time": "2022-03-24T05:57:54.228Z"
   },
   {
    "duration": 4,
    "start_time": "2022-03-24T05:57:54.296Z"
   },
   {
    "duration": 13,
    "start_time": "2022-03-24T05:57:54.302Z"
   },
   {
    "duration": 10,
    "start_time": "2022-03-24T05:57:54.317Z"
   },
   {
    "duration": 44,
    "start_time": "2022-03-24T05:57:54.330Z"
   },
   {
    "duration": 15,
    "start_time": "2022-03-24T05:57:54.378Z"
   },
   {
    "duration": 9,
    "start_time": "2022-03-24T05:57:54.394Z"
   },
   {
    "duration": 6,
    "start_time": "2022-03-24T05:57:54.405Z"
   },
   {
    "duration": 12,
    "start_time": "2022-03-24T05:57:54.413Z"
   },
   {
    "duration": 44,
    "start_time": "2022-03-24T05:57:54.427Z"
   },
   {
    "duration": 7,
    "start_time": "2022-03-24T05:57:54.473Z"
   },
   {
    "duration": 6,
    "start_time": "2022-03-24T05:57:54.483Z"
   },
   {
    "duration": 7,
    "start_time": "2022-03-24T05:57:54.491Z"
   },
   {
    "duration": 6,
    "start_time": "2022-03-24T05:57:54.500Z"
   },
   {
    "duration": 12,
    "start_time": "2022-03-24T05:57:54.508Z"
   },
   {
    "duration": 11,
    "start_time": "2022-03-24T05:57:54.567Z"
   },
   {
    "duration": 10,
    "start_time": "2022-03-24T05:57:54.581Z"
   },
   {
    "duration": 25,
    "start_time": "2022-03-24T05:57:54.594Z"
   },
   {
    "duration": 55,
    "start_time": "2022-03-24T05:57:54.621Z"
   },
   {
    "duration": 5,
    "start_time": "2022-03-24T05:57:54.678Z"
   },
   {
    "duration": 5,
    "start_time": "2022-03-24T05:57:54.685Z"
   },
   {
    "duration": 10,
    "start_time": "2022-03-24T05:57:54.693Z"
   },
   {
    "duration": 7,
    "start_time": "2022-03-24T05:57:54.705Z"
   },
   {
    "duration": 48,
    "start_time": "2022-03-24T05:57:54.719Z"
   },
   {
    "duration": 19,
    "start_time": "2022-03-24T05:57:54.770Z"
   },
   {
    "duration": 38,
    "start_time": "2022-03-24T05:57:54.791Z"
   },
   {
    "duration": 72,
    "start_time": "2022-03-24T05:57:54.831Z"
   },
   {
    "duration": 424,
    "start_time": "2022-03-24T05:57:54.905Z"
   },
   {
    "duration": 5,
    "start_time": "2022-03-24T05:57:55.331Z"
   },
   {
    "duration": 51,
    "start_time": "2022-03-24T05:57:55.338Z"
   },
   {
    "duration": 35,
    "start_time": "2022-03-24T05:57:55.391Z"
   },
   {
    "duration": 456,
    "start_time": "2022-03-24T05:57:55.428Z"
   },
   {
    "duration": 417,
    "start_time": "2022-03-24T05:57:55.886Z"
   },
   {
    "duration": 262,
    "start_time": "2022-03-24T05:57:56.305Z"
   },
   {
    "duration": 247,
    "start_time": "2022-03-24T05:57:56.569Z"
   },
   {
    "duration": 404,
    "start_time": "2022-03-24T05:57:56.818Z"
   },
   {
    "duration": 5,
    "start_time": "2022-03-24T05:57:57.224Z"
   },
   {
    "duration": 15,
    "start_time": "2022-03-24T05:57:57.231Z"
   },
   {
    "duration": 37,
    "start_time": "2022-03-24T05:57:57.248Z"
   },
   {
    "duration": 11,
    "start_time": "2022-03-24T05:57:57.287Z"
   },
   {
    "duration": 19,
    "start_time": "2022-03-24T05:57:57.300Z"
   },
   {
    "duration": 5,
    "start_time": "2022-03-24T05:57:57.321Z"
   },
   {
    "duration": 43,
    "start_time": "2022-03-24T05:57:57.328Z"
   },
   {
    "duration": 7,
    "start_time": "2022-03-24T05:57:57.373Z"
   },
   {
    "duration": 6,
    "start_time": "2022-03-24T05:57:57.382Z"
   },
   {
    "duration": 10,
    "start_time": "2022-03-24T05:57:57.390Z"
   },
   {
    "duration": 8,
    "start_time": "2022-03-24T05:57:57.402Z"
   },
   {
    "duration": 6,
    "start_time": "2022-03-24T05:57:57.412Z"
   },
   {
    "duration": 9,
    "start_time": "2022-03-24T05:57:57.468Z"
   },
   {
    "duration": 7,
    "start_time": "2022-03-24T05:57:57.479Z"
   },
   {
    "duration": 8,
    "start_time": "2022-03-24T05:57:57.488Z"
   },
   {
    "duration": 6,
    "start_time": "2022-03-24T05:57:57.499Z"
   },
   {
    "duration": 81,
    "start_time": "2022-03-24T05:57:57.507Z"
   },
   {
    "duration": 25,
    "start_time": "2022-03-24T05:57:57.590Z"
   },
   {
    "duration": 1157,
    "start_time": "2022-03-24T05:57:57.617Z"
   },
   {
    "duration": 0,
    "start_time": "2022-03-24T05:57:58.777Z"
   },
   {
    "duration": 0,
    "start_time": "2022-03-24T05:57:58.778Z"
   },
   {
    "duration": 0,
    "start_time": "2022-03-24T05:57:58.780Z"
   },
   {
    "duration": 0,
    "start_time": "2022-03-24T05:57:58.781Z"
   },
   {
    "duration": 0,
    "start_time": "2022-03-24T05:57:58.783Z"
   },
   {
    "duration": 0,
    "start_time": "2022-03-24T05:57:58.785Z"
   },
   {
    "duration": 0,
    "start_time": "2022-03-24T05:57:58.786Z"
   },
   {
    "duration": 0,
    "start_time": "2022-03-24T05:57:58.788Z"
   },
   {
    "duration": 0,
    "start_time": "2022-03-24T05:57:58.789Z"
   },
   {
    "duration": 0,
    "start_time": "2022-03-24T05:57:58.790Z"
   },
   {
    "duration": 0,
    "start_time": "2022-03-24T05:57:58.792Z"
   },
   {
    "duration": 0,
    "start_time": "2022-03-24T05:57:58.793Z"
   },
   {
    "duration": 0,
    "start_time": "2022-03-24T05:57:58.795Z"
   },
   {
    "duration": 0,
    "start_time": "2022-03-24T05:57:58.796Z"
   },
   {
    "duration": 0,
    "start_time": "2022-03-24T05:57:58.798Z"
   },
   {
    "duration": 0,
    "start_time": "2022-03-24T05:57:58.799Z"
   },
   {
    "duration": 0,
    "start_time": "2022-03-24T05:57:58.801Z"
   },
   {
    "duration": 0,
    "start_time": "2022-03-24T05:57:58.802Z"
   },
   {
    "duration": 1,
    "start_time": "2022-03-24T05:57:58.803Z"
   },
   {
    "duration": 7,
    "start_time": "2022-03-24T05:58:50.729Z"
   },
   {
    "duration": 27,
    "start_time": "2022-03-24T05:59:37.815Z"
   },
   {
    "duration": 25,
    "start_time": "2022-03-24T06:00:50.695Z"
   },
   {
    "duration": 5,
    "start_time": "2022-03-24T06:01:32.839Z"
   },
   {
    "duration": 7,
    "start_time": "2022-03-24T06:01:47.729Z"
   },
   {
    "duration": 810,
    "start_time": "2022-03-24T06:02:04.793Z"
   },
   {
    "duration": 101,
    "start_time": "2022-03-24T06:02:05.606Z"
   },
   {
    "duration": 23,
    "start_time": "2022-03-24T06:02:05.710Z"
   },
   {
    "duration": 41,
    "start_time": "2022-03-24T06:02:05.738Z"
   },
   {
    "duration": 40,
    "start_time": "2022-03-24T06:02:05.782Z"
   },
   {
    "duration": 5,
    "start_time": "2022-03-24T06:02:05.824Z"
   },
   {
    "duration": 41,
    "start_time": "2022-03-24T06:02:05.831Z"
   },
   {
    "duration": 9,
    "start_time": "2022-03-24T06:02:05.874Z"
   },
   {
    "duration": 14,
    "start_time": "2022-03-24T06:02:05.886Z"
   },
   {
    "duration": 15,
    "start_time": "2022-03-24T06:02:05.903Z"
   },
   {
    "duration": 9,
    "start_time": "2022-03-24T06:02:05.920Z"
   },
   {
    "duration": 38,
    "start_time": "2022-03-24T06:02:05.931Z"
   },
   {
    "duration": 12,
    "start_time": "2022-03-24T06:02:05.971Z"
   },
   {
    "duration": 6,
    "start_time": "2022-03-24T06:02:05.985Z"
   },
   {
    "duration": 5,
    "start_time": "2022-03-24T06:02:05.993Z"
   },
   {
    "duration": 6,
    "start_time": "2022-03-24T06:02:06.000Z"
   },
   {
    "duration": 11,
    "start_time": "2022-03-24T06:02:06.008Z"
   },
   {
    "duration": 7,
    "start_time": "2022-03-24T06:02:06.021Z"
   },
   {
    "duration": 43,
    "start_time": "2022-03-24T06:02:06.030Z"
   },
   {
    "duration": 13,
    "start_time": "2022-03-24T06:02:06.076Z"
   },
   {
    "duration": 11,
    "start_time": "2022-03-24T06:02:06.092Z"
   },
   {
    "duration": 25,
    "start_time": "2022-03-24T06:02:06.105Z"
   },
   {
    "duration": 13,
    "start_time": "2022-03-24T06:02:06.169Z"
   },
   {
    "duration": 4,
    "start_time": "2022-03-24T06:02:06.185Z"
   },
   {
    "duration": 7,
    "start_time": "2022-03-24T06:02:06.191Z"
   },
   {
    "duration": 15,
    "start_time": "2022-03-24T06:02:06.200Z"
   },
   {
    "duration": 6,
    "start_time": "2022-03-24T06:02:06.217Z"
   },
   {
    "duration": 6,
    "start_time": "2022-03-24T06:02:06.274Z"
   },
   {
    "duration": 22,
    "start_time": "2022-03-24T06:02:06.282Z"
   },
   {
    "duration": 61,
    "start_time": "2022-03-24T06:02:06.306Z"
   },
   {
    "duration": 45,
    "start_time": "2022-03-24T06:02:06.369Z"
   },
   {
    "duration": 416,
    "start_time": "2022-03-24T06:02:06.416Z"
   },
   {
    "duration": 4,
    "start_time": "2022-03-24T06:02:06.834Z"
   },
   {
    "duration": 64,
    "start_time": "2022-03-24T06:02:06.841Z"
   },
   {
    "duration": 35,
    "start_time": "2022-03-24T06:02:06.907Z"
   },
   {
    "duration": 551,
    "start_time": "2022-03-24T06:02:06.945Z"
   },
   {
    "duration": 413,
    "start_time": "2022-03-24T06:02:07.498Z"
   },
   {
    "duration": 261,
    "start_time": "2022-03-24T06:02:07.913Z"
   },
   {
    "duration": 248,
    "start_time": "2022-03-24T06:02:08.176Z"
   },
   {
    "duration": 395,
    "start_time": "2022-03-24T06:02:08.427Z"
   },
   {
    "duration": 6,
    "start_time": "2022-03-24T06:02:08.824Z"
   },
   {
    "duration": 16,
    "start_time": "2022-03-24T06:02:08.832Z"
   },
   {
    "duration": 38,
    "start_time": "2022-03-24T06:02:08.850Z"
   },
   {
    "duration": 12,
    "start_time": "2022-03-24T06:02:08.891Z"
   },
   {
    "duration": 21,
    "start_time": "2022-03-24T06:02:08.905Z"
   },
   {
    "duration": 5,
    "start_time": "2022-03-24T06:02:08.928Z"
   },
   {
    "duration": 7,
    "start_time": "2022-03-24T06:02:08.967Z"
   },
   {
    "duration": 9,
    "start_time": "2022-03-24T06:02:08.976Z"
   },
   {
    "duration": 7,
    "start_time": "2022-03-24T06:02:08.988Z"
   },
   {
    "duration": 11,
    "start_time": "2022-03-24T06:02:08.999Z"
   },
   {
    "duration": 64,
    "start_time": "2022-03-24T06:02:09.012Z"
   },
   {
    "duration": 9,
    "start_time": "2022-03-24T06:02:09.079Z"
   },
   {
    "duration": 9,
    "start_time": "2022-03-24T06:02:09.091Z"
   },
   {
    "duration": 8,
    "start_time": "2022-03-24T06:02:09.103Z"
   },
   {
    "duration": 58,
    "start_time": "2022-03-24T06:02:09.114Z"
   },
   {
    "duration": 8,
    "start_time": "2022-03-24T06:02:09.175Z"
   },
   {
    "duration": 33,
    "start_time": "2022-03-24T06:02:09.186Z"
   },
   {
    "duration": 64,
    "start_time": "2022-03-24T06:02:09.222Z"
   },
   {
    "duration": 7,
    "start_time": "2022-03-24T06:02:09.289Z"
   },
   {
    "duration": 41,
    "start_time": "2022-03-24T06:02:09.298Z"
   },
   {
    "duration": 269,
    "start_time": "2022-03-24T06:02:09.368Z"
   },
   {
    "duration": 35,
    "start_time": "2022-03-24T06:02:09.639Z"
   },
   {
    "duration": 374,
    "start_time": "2022-03-24T06:02:09.676Z"
   },
   {
    "duration": 451,
    "start_time": "2022-03-24T06:02:10.052Z"
   },
   {
    "duration": 404,
    "start_time": "2022-03-24T06:02:10.505Z"
   },
   {
    "duration": 370,
    "start_time": "2022-03-24T06:02:10.911Z"
   },
   {
    "duration": 218,
    "start_time": "2022-03-24T06:02:11.284Z"
   },
   {
    "duration": 230,
    "start_time": "2022-03-24T06:02:11.504Z"
   },
   {
    "duration": 226,
    "start_time": "2022-03-24T06:02:11.736Z"
   },
   {
    "duration": 319,
    "start_time": "2022-03-24T06:02:11.964Z"
   },
   {
    "duration": 7,
    "start_time": "2022-03-24T06:02:12.285Z"
   },
   {
    "duration": 7,
    "start_time": "2022-03-24T06:02:12.294Z"
   },
   {
    "duration": 7,
    "start_time": "2022-03-24T06:02:12.303Z"
   },
   {
    "duration": 8,
    "start_time": "2022-03-24T06:02:12.312Z"
   },
   {
    "duration": 48,
    "start_time": "2022-03-24T06:02:12.322Z"
   },
   {
    "duration": 8,
    "start_time": "2022-03-24T06:02:12.372Z"
   },
   {
    "duration": 8,
    "start_time": "2022-03-24T06:02:12.383Z"
   },
   {
    "duration": 9,
    "start_time": "2022-03-24T06:02:12.393Z"
   },
   {
    "duration": 107,
    "start_time": "2022-03-24T06:03:24.885Z"
   },
   {
    "duration": 847,
    "start_time": "2022-03-24T06:03:59.857Z"
   },
   {
    "duration": 101,
    "start_time": "2022-03-24T06:04:00.706Z"
   },
   {
    "duration": 25,
    "start_time": "2022-03-24T06:04:00.809Z"
   },
   {
    "duration": 32,
    "start_time": "2022-03-24T06:04:00.837Z"
   },
   {
    "duration": 40,
    "start_time": "2022-03-24T06:04:00.871Z"
   },
   {
    "duration": 4,
    "start_time": "2022-03-24T06:04:00.915Z"
   },
   {
    "duration": 32,
    "start_time": "2022-03-24T06:04:00.921Z"
   },
   {
    "duration": 10,
    "start_time": "2022-03-24T06:04:00.967Z"
   },
   {
    "duration": 17,
    "start_time": "2022-03-24T06:04:00.979Z"
   },
   {
    "duration": 25,
    "start_time": "2022-03-24T06:04:01.000Z"
   },
   {
    "duration": 13,
    "start_time": "2022-03-24T06:04:01.027Z"
   },
   {
    "duration": 13,
    "start_time": "2022-03-24T06:04:01.042Z"
   },
   {
    "duration": 19,
    "start_time": "2022-03-24T06:04:01.057Z"
   },
   {
    "duration": 13,
    "start_time": "2022-03-24T06:04:01.078Z"
   },
   {
    "duration": 18,
    "start_time": "2022-03-24T06:04:01.093Z"
   },
   {
    "duration": 23,
    "start_time": "2022-03-24T06:04:01.113Z"
   },
   {
    "duration": 36,
    "start_time": "2022-03-24T06:04:01.138Z"
   },
   {
    "duration": 18,
    "start_time": "2022-03-24T06:04:01.176Z"
   },
   {
    "duration": 15,
    "start_time": "2022-03-24T06:04:01.197Z"
   },
   {
    "duration": 28,
    "start_time": "2022-03-24T06:04:01.214Z"
   },
   {
    "duration": 25,
    "start_time": "2022-03-24T06:04:01.244Z"
   },
   {
    "duration": 42,
    "start_time": "2022-03-24T06:04:01.271Z"
   },
   {
    "duration": 11,
    "start_time": "2022-03-24T06:04:01.315Z"
   },
   {
    "duration": 11,
    "start_time": "2022-03-24T06:04:01.328Z"
   },
   {
    "duration": 21,
    "start_time": "2022-03-24T06:04:01.341Z"
   },
   {
    "duration": 37,
    "start_time": "2022-03-24T06:04:01.364Z"
   },
   {
    "duration": 8,
    "start_time": "2022-03-24T06:04:01.404Z"
   },
   {
    "duration": 21,
    "start_time": "2022-03-24T06:04:01.419Z"
   },
   {
    "duration": 36,
    "start_time": "2022-03-24T06:04:01.442Z"
   },
   {
    "duration": 44,
    "start_time": "2022-03-24T06:04:01.480Z"
   },
   {
    "duration": 63,
    "start_time": "2022-03-24T06:04:01.526Z"
   },
   {
    "duration": 424,
    "start_time": "2022-03-24T06:04:01.591Z"
   },
   {
    "duration": 5,
    "start_time": "2022-03-24T06:04:02.018Z"
   },
   {
    "duration": 48,
    "start_time": "2022-03-24T06:04:02.025Z"
   },
   {
    "duration": 36,
    "start_time": "2022-03-24T06:04:02.075Z"
   },
   {
    "duration": 473,
    "start_time": "2022-03-24T06:04:02.113Z"
   },
   {
    "duration": 413,
    "start_time": "2022-03-24T06:04:02.589Z"
   },
   {
    "duration": 374,
    "start_time": "2022-03-24T06:04:03.004Z"
   },
   {
    "duration": 249,
    "start_time": "2022-03-24T06:04:03.380Z"
   },
   {
    "duration": 408,
    "start_time": "2022-03-24T06:04:03.632Z"
   },
   {
    "duration": 5,
    "start_time": "2022-03-24T06:04:04.043Z"
   },
   {
    "duration": 25,
    "start_time": "2022-03-24T06:04:04.050Z"
   },
   {
    "duration": 22,
    "start_time": "2022-03-24T06:04:04.078Z"
   },
   {
    "duration": 11,
    "start_time": "2022-03-24T06:04:04.102Z"
   },
   {
    "duration": 52,
    "start_time": "2022-03-24T06:04:04.116Z"
   },
   {
    "duration": 6,
    "start_time": "2022-03-24T06:04:04.170Z"
   },
   {
    "duration": 8,
    "start_time": "2022-03-24T06:04:04.178Z"
   },
   {
    "duration": 7,
    "start_time": "2022-03-24T06:04:04.188Z"
   },
   {
    "duration": 7,
    "start_time": "2022-03-24T06:04:04.197Z"
   },
   {
    "duration": 10,
    "start_time": "2022-03-24T06:04:04.206Z"
   },
   {
    "duration": 55,
    "start_time": "2022-03-24T06:04:04.218Z"
   },
   {
    "duration": 7,
    "start_time": "2022-03-24T06:04:04.275Z"
   },
   {
    "duration": 11,
    "start_time": "2022-03-24T06:04:04.284Z"
   },
   {
    "duration": 7,
    "start_time": "2022-03-24T06:04:04.297Z"
   },
   {
    "duration": 9,
    "start_time": "2022-03-24T06:04:04.306Z"
   },
   {
    "duration": 52,
    "start_time": "2022-03-24T06:04:04.317Z"
   },
   {
    "duration": 34,
    "start_time": "2022-03-24T06:04:04.371Z"
   },
   {
    "duration": 62,
    "start_time": "2022-03-24T06:04:04.407Z"
   },
   {
    "duration": 118,
    "start_time": "2022-03-24T06:04:04.471Z"
   },
   {
    "duration": 0,
    "start_time": "2022-03-24T06:04:04.591Z"
   },
   {
    "duration": 0,
    "start_time": "2022-03-24T06:04:04.593Z"
   },
   {
    "duration": 0,
    "start_time": "2022-03-24T06:04:04.594Z"
   },
   {
    "duration": 0,
    "start_time": "2022-03-24T06:04:04.596Z"
   },
   {
    "duration": 0,
    "start_time": "2022-03-24T06:04:04.597Z"
   },
   {
    "duration": 0,
    "start_time": "2022-03-24T06:04:04.598Z"
   },
   {
    "duration": 0,
    "start_time": "2022-03-24T06:04:04.600Z"
   },
   {
    "duration": 0,
    "start_time": "2022-03-24T06:04:04.601Z"
   },
   {
    "duration": 0,
    "start_time": "2022-03-24T06:04:04.602Z"
   },
   {
    "duration": 0,
    "start_time": "2022-03-24T06:04:04.603Z"
   },
   {
    "duration": 0,
    "start_time": "2022-03-24T06:04:04.605Z"
   },
   {
    "duration": 0,
    "start_time": "2022-03-24T06:04:04.606Z"
   },
   {
    "duration": 0,
    "start_time": "2022-03-24T06:04:04.608Z"
   },
   {
    "duration": 0,
    "start_time": "2022-03-24T06:04:04.610Z"
   },
   {
    "duration": 0,
    "start_time": "2022-03-24T06:04:04.612Z"
   },
   {
    "duration": 0,
    "start_time": "2022-03-24T06:04:04.613Z"
   },
   {
    "duration": 1,
    "start_time": "2022-03-24T06:04:04.614Z"
   },
   {
    "duration": 0,
    "start_time": "2022-03-24T06:04:04.616Z"
   },
   {
    "duration": 0,
    "start_time": "2022-03-24T06:04:04.618Z"
   },
   {
    "duration": 8,
    "start_time": "2022-03-24T06:07:07.275Z"
   },
   {
    "duration": 1151,
    "start_time": "2022-03-24T06:09:03.749Z"
   },
   {
    "duration": 34,
    "start_time": "2022-03-24T06:16:28.111Z"
   },
   {
    "duration": 1119,
    "start_time": "2022-03-24T06:17:11.328Z"
   },
   {
    "duration": 95,
    "start_time": "2022-03-24T06:17:24.735Z"
   },
   {
    "duration": 6,
    "start_time": "2022-03-24T06:18:09.974Z"
   },
   {
    "duration": 8,
    "start_time": "2022-03-24T06:23:05.655Z"
   },
   {
    "duration": 44,
    "start_time": "2022-03-24T06:23:27.848Z"
   },
   {
    "duration": 802,
    "start_time": "2022-03-24T06:23:51.803Z"
   },
   {
    "duration": 104,
    "start_time": "2022-03-24T06:23:52.607Z"
   },
   {
    "duration": 22,
    "start_time": "2022-03-24T06:23:52.713Z"
   },
   {
    "duration": 35,
    "start_time": "2022-03-24T06:23:52.738Z"
   },
   {
    "duration": 38,
    "start_time": "2022-03-24T06:23:52.775Z"
   },
   {
    "duration": 4,
    "start_time": "2022-03-24T06:23:52.815Z"
   },
   {
    "duration": 15,
    "start_time": "2022-03-24T06:23:52.821Z"
   },
   {
    "duration": 36,
    "start_time": "2022-03-24T06:23:52.838Z"
   },
   {
    "duration": 14,
    "start_time": "2022-03-24T06:23:52.876Z"
   },
   {
    "duration": 15,
    "start_time": "2022-03-24T06:23:52.893Z"
   },
   {
    "duration": 9,
    "start_time": "2022-03-24T06:23:52.909Z"
   },
   {
    "duration": 4,
    "start_time": "2022-03-24T06:23:52.920Z"
   },
   {
    "duration": 48,
    "start_time": "2022-03-24T06:23:52.926Z"
   },
   {
    "duration": 7,
    "start_time": "2022-03-24T06:23:52.976Z"
   },
   {
    "duration": 6,
    "start_time": "2022-03-24T06:23:52.986Z"
   },
   {
    "duration": 5,
    "start_time": "2022-03-24T06:23:52.995Z"
   },
   {
    "duration": 5,
    "start_time": "2022-03-24T06:23:53.003Z"
   },
   {
    "duration": 6,
    "start_time": "2022-03-24T06:23:53.010Z"
   },
   {
    "duration": 56,
    "start_time": "2022-03-24T06:23:53.019Z"
   },
   {
    "duration": 13,
    "start_time": "2022-03-24T06:23:53.077Z"
   },
   {
    "duration": 10,
    "start_time": "2022-03-24T06:23:53.092Z"
   },
   {
    "duration": 23,
    "start_time": "2022-03-24T06:23:53.104Z"
   },
   {
    "duration": 47,
    "start_time": "2022-03-24T06:23:53.130Z"
   },
   {
    "duration": 5,
    "start_time": "2022-03-24T06:23:53.179Z"
   },
   {
    "duration": 5,
    "start_time": "2022-03-24T06:23:53.186Z"
   },
   {
    "duration": 11,
    "start_time": "2022-03-24T06:23:53.193Z"
   },
   {
    "duration": 6,
    "start_time": "2022-03-24T06:23:53.207Z"
   },
   {
    "duration": 50,
    "start_time": "2022-03-24T06:23:53.220Z"
   },
   {
    "duration": 19,
    "start_time": "2022-03-24T06:23:53.273Z"
   },
   {
    "duration": 37,
    "start_time": "2022-03-24T06:23:53.295Z"
   },
   {
    "duration": 77,
    "start_time": "2022-03-24T06:23:53.334Z"
   },
   {
    "duration": 423,
    "start_time": "2022-03-24T06:23:53.413Z"
   },
   {
    "duration": 6,
    "start_time": "2022-03-24T06:23:53.838Z"
   },
   {
    "duration": 43,
    "start_time": "2022-03-24T06:23:53.846Z"
   },
   {
    "duration": 35,
    "start_time": "2022-03-24T06:23:53.891Z"
   },
   {
    "duration": 448,
    "start_time": "2022-03-24T06:23:53.928Z"
   },
   {
    "duration": 405,
    "start_time": "2022-03-24T06:23:54.378Z"
   },
   {
    "duration": 266,
    "start_time": "2022-03-24T06:23:54.785Z"
   },
   {
    "duration": 243,
    "start_time": "2022-03-24T06:23:55.054Z"
   },
   {
    "duration": 401,
    "start_time": "2022-03-24T06:23:55.300Z"
   },
   {
    "duration": 5,
    "start_time": "2022-03-24T06:23:55.703Z"
   },
   {
    "duration": 14,
    "start_time": "2022-03-24T06:23:55.710Z"
   },
   {
    "duration": 45,
    "start_time": "2022-03-24T06:23:55.727Z"
   },
   {
    "duration": 13,
    "start_time": "2022-03-24T06:23:55.774Z"
   },
   {
    "duration": 21,
    "start_time": "2022-03-24T06:23:55.789Z"
   },
   {
    "duration": 5,
    "start_time": "2022-03-24T06:23:55.812Z"
   },
   {
    "duration": 7,
    "start_time": "2022-03-24T06:23:55.819Z"
   },
   {
    "duration": 6,
    "start_time": "2022-03-24T06:23:55.868Z"
   },
   {
    "duration": 8,
    "start_time": "2022-03-24T06:23:55.876Z"
   },
   {
    "duration": 10,
    "start_time": "2022-03-24T06:23:55.886Z"
   },
   {
    "duration": 8,
    "start_time": "2022-03-24T06:23:55.898Z"
   },
   {
    "duration": 7,
    "start_time": "2022-03-24T06:23:55.908Z"
   },
   {
    "duration": 57,
    "start_time": "2022-03-24T06:23:55.917Z"
   },
   {
    "duration": 7,
    "start_time": "2022-03-24T06:23:55.976Z"
   },
   {
    "duration": 8,
    "start_time": "2022-03-24T06:23:55.985Z"
   },
   {
    "duration": 6,
    "start_time": "2022-03-24T06:23:55.995Z"
   },
   {
    "duration": 78,
    "start_time": "2022-03-24T06:23:56.003Z"
   },
   {
    "duration": 26,
    "start_time": "2022-03-24T06:23:56.083Z"
   },
   {
    "duration": 9,
    "start_time": "2022-03-24T06:23:56.111Z"
   },
   {
    "duration": 68,
    "start_time": "2022-03-24T06:23:56.122Z"
   },
   {
    "duration": 265,
    "start_time": "2022-03-24T06:23:56.192Z"
   },
   {
    "duration": 31,
    "start_time": "2022-03-24T06:23:56.459Z"
   },
   {
    "duration": 368,
    "start_time": "2022-03-24T06:23:56.492Z"
   },
   {
    "duration": 433,
    "start_time": "2022-03-24T06:23:56.867Z"
   },
   {
    "duration": 386,
    "start_time": "2022-03-24T06:23:57.302Z"
   },
   {
    "duration": 366,
    "start_time": "2022-03-24T06:23:57.690Z"
   },
   {
    "duration": 222,
    "start_time": "2022-03-24T06:23:58.059Z"
   },
   {
    "duration": 233,
    "start_time": "2022-03-24T06:23:58.283Z"
   },
   {
    "duration": 222,
    "start_time": "2022-03-24T06:23:58.518Z"
   },
   {
    "duration": 224,
    "start_time": "2022-03-24T06:23:58.743Z"
   },
   {
    "duration": 7,
    "start_time": "2022-03-24T06:23:58.970Z"
   },
   {
    "duration": 7,
    "start_time": "2022-03-24T06:23:58.979Z"
   },
   {
    "duration": 7,
    "start_time": "2022-03-24T06:23:58.988Z"
   },
   {
    "duration": 8,
    "start_time": "2022-03-24T06:23:58.997Z"
   },
   {
    "duration": 7,
    "start_time": "2022-03-24T06:23:59.008Z"
   },
   {
    "duration": 59,
    "start_time": "2022-03-24T06:23:59.017Z"
   },
   {
    "duration": 8,
    "start_time": "2022-03-24T06:23:59.078Z"
   },
   {
    "duration": 12,
    "start_time": "2022-03-24T06:23:59.088Z"
   },
   {
    "duration": 4,
    "start_time": "2022-03-24T06:25:10.396Z"
   },
   {
    "duration": 884,
    "start_time": "2022-03-24T06:25:16.657Z"
   },
   {
    "duration": 108,
    "start_time": "2022-03-24T06:25:17.544Z"
   },
   {
    "duration": 25,
    "start_time": "2022-03-24T06:25:17.655Z"
   },
   {
    "duration": 15,
    "start_time": "2022-03-24T06:25:17.683Z"
   },
   {
    "duration": 67,
    "start_time": "2022-03-24T06:25:17.700Z"
   },
   {
    "duration": 5,
    "start_time": "2022-03-24T06:25:17.769Z"
   },
   {
    "duration": 12,
    "start_time": "2022-03-24T06:25:17.776Z"
   },
   {
    "duration": 11,
    "start_time": "2022-03-24T06:25:17.791Z"
   },
   {
    "duration": 16,
    "start_time": "2022-03-24T06:25:17.805Z"
   },
   {
    "duration": 50,
    "start_time": "2022-03-24T06:25:17.827Z"
   },
   {
    "duration": 8,
    "start_time": "2022-03-24T06:25:17.880Z"
   },
   {
    "duration": 6,
    "start_time": "2022-03-24T06:25:17.890Z"
   },
   {
    "duration": 13,
    "start_time": "2022-03-24T06:25:17.899Z"
   },
   {
    "duration": 5,
    "start_time": "2022-03-24T06:25:17.915Z"
   },
   {
    "duration": 6,
    "start_time": "2022-03-24T06:25:17.923Z"
   },
   {
    "duration": 7,
    "start_time": "2022-03-24T06:25:17.969Z"
   },
   {
    "duration": 9,
    "start_time": "2022-03-24T06:25:17.978Z"
   },
   {
    "duration": 6,
    "start_time": "2022-03-24T06:25:17.989Z"
   },
   {
    "duration": 8,
    "start_time": "2022-03-24T06:25:17.997Z"
   },
   {
    "duration": 12,
    "start_time": "2022-03-24T06:25:18.007Z"
   },
   {
    "duration": 50,
    "start_time": "2022-03-24T06:25:18.021Z"
   },
   {
    "duration": 26,
    "start_time": "2022-03-24T06:25:18.073Z"
   },
   {
    "duration": 15,
    "start_time": "2022-03-24T06:25:18.102Z"
   },
   {
    "duration": 5,
    "start_time": "2022-03-24T06:25:18.119Z"
   },
   {
    "duration": 43,
    "start_time": "2022-03-24T06:25:18.126Z"
   },
   {
    "duration": 14,
    "start_time": "2022-03-24T06:25:18.171Z"
   },
   {
    "duration": 6,
    "start_time": "2022-03-24T06:25:18.188Z"
   },
   {
    "duration": 6,
    "start_time": "2022-03-24T06:25:18.201Z"
   },
   {
    "duration": 22,
    "start_time": "2022-03-24T06:25:18.209Z"
   },
   {
    "duration": 39,
    "start_time": "2022-03-24T06:25:18.268Z"
   },
   {
    "duration": 71,
    "start_time": "2022-03-24T06:25:18.310Z"
   },
   {
    "duration": 446,
    "start_time": "2022-03-24T06:25:18.383Z"
   },
   {
    "duration": 6,
    "start_time": "2022-03-24T06:25:18.832Z"
   },
   {
    "duration": 54,
    "start_time": "2022-03-24T06:25:18.841Z"
   },
   {
    "duration": 38,
    "start_time": "2022-03-24T06:25:18.897Z"
   },
   {
    "duration": 490,
    "start_time": "2022-03-24T06:25:18.937Z"
   },
   {
    "duration": 418,
    "start_time": "2022-03-24T06:25:19.429Z"
   },
   {
    "duration": 272,
    "start_time": "2022-03-24T06:25:19.849Z"
   },
   {
    "duration": 258,
    "start_time": "2022-03-24T06:25:20.123Z"
   },
   {
    "duration": 424,
    "start_time": "2022-03-24T06:25:20.384Z"
   },
   {
    "duration": 6,
    "start_time": "2022-03-24T06:25:20.810Z"
   },
   {
    "duration": 31,
    "start_time": "2022-03-24T06:25:20.818Z"
   },
   {
    "duration": 33,
    "start_time": "2022-03-24T06:25:20.851Z"
   },
   {
    "duration": 12,
    "start_time": "2022-03-24T06:25:20.886Z"
   },
   {
    "duration": 21,
    "start_time": "2022-03-24T06:25:20.899Z"
   },
   {
    "duration": 6,
    "start_time": "2022-03-24T06:25:20.923Z"
   },
   {
    "duration": 41,
    "start_time": "2022-03-24T06:25:20.931Z"
   },
   {
    "duration": 13,
    "start_time": "2022-03-24T06:25:20.974Z"
   },
   {
    "duration": 11,
    "start_time": "2022-03-24T06:25:20.989Z"
   },
   {
    "duration": 16,
    "start_time": "2022-03-24T06:25:21.002Z"
   },
   {
    "duration": 16,
    "start_time": "2022-03-24T06:25:21.021Z"
   },
   {
    "duration": 30,
    "start_time": "2022-03-24T06:25:21.039Z"
   },
   {
    "duration": 9,
    "start_time": "2022-03-24T06:25:21.072Z"
   },
   {
    "duration": 7,
    "start_time": "2022-03-24T06:25:21.083Z"
   },
   {
    "duration": 10,
    "start_time": "2022-03-24T06:25:21.092Z"
   },
   {
    "duration": 9,
    "start_time": "2022-03-24T06:25:21.104Z"
   },
   {
    "duration": 81,
    "start_time": "2022-03-24T06:25:21.115Z"
   },
   {
    "duration": 31,
    "start_time": "2022-03-24T06:25:21.199Z"
   },
   {
    "duration": 7,
    "start_time": "2022-03-24T06:25:21.233Z"
   },
   {
    "duration": 41,
    "start_time": "2022-03-24T06:25:21.269Z"
   },
   {
    "duration": 292,
    "start_time": "2022-03-24T06:25:21.312Z"
   },
   {
    "duration": 26,
    "start_time": "2022-03-24T06:25:21.606Z"
   },
   {
    "duration": 399,
    "start_time": "2022-03-24T06:25:21.634Z"
   },
   {
    "duration": 475,
    "start_time": "2022-03-24T06:25:22.037Z"
   },
   {
    "duration": 410,
    "start_time": "2022-03-24T06:25:22.515Z"
   },
   {
    "duration": 405,
    "start_time": "2022-03-24T06:25:22.927Z"
   },
   {
    "duration": 237,
    "start_time": "2022-03-24T06:25:23.334Z"
   },
   {
    "duration": 249,
    "start_time": "2022-03-24T06:25:23.574Z"
   },
   {
    "duration": 237,
    "start_time": "2022-03-24T06:25:23.825Z"
   },
   {
    "duration": 238,
    "start_time": "2022-03-24T06:25:24.064Z"
   },
   {
    "duration": 8,
    "start_time": "2022-03-24T06:25:24.304Z"
   },
   {
    "duration": 8,
    "start_time": "2022-03-24T06:25:24.314Z"
   },
   {
    "duration": 7,
    "start_time": "2022-03-24T06:25:24.324Z"
   },
   {
    "duration": 41,
    "start_time": "2022-03-24T06:25:24.333Z"
   },
   {
    "duration": 13,
    "start_time": "2022-03-24T06:25:24.376Z"
   },
   {
    "duration": 8,
    "start_time": "2022-03-24T06:25:24.391Z"
   },
   {
    "duration": 11,
    "start_time": "2022-03-24T06:25:24.401Z"
   },
   {
    "duration": 8,
    "start_time": "2022-03-24T06:25:24.415Z"
   },
   {
    "duration": 408,
    "start_time": "2022-03-24T06:30:25.267Z"
   },
   {
    "duration": 360,
    "start_time": "2022-03-24T06:30:47.100Z"
   },
   {
    "duration": 231,
    "start_time": "2022-03-24T06:30:56.011Z"
   },
   {
    "duration": 245,
    "start_time": "2022-03-24T06:31:01.572Z"
   },
   {
    "duration": 279,
    "start_time": "2022-03-24T06:31:07.458Z"
   },
   {
    "duration": 249,
    "start_time": "2022-03-24T06:31:14.435Z"
   },
   {
    "duration": 403,
    "start_time": "2022-03-24T06:31:59.136Z"
   },
   {
    "duration": 219,
    "start_time": "2022-03-24T06:45:25.990Z"
   },
   {
    "duration": 233,
    "start_time": "2022-03-24T06:45:34.885Z"
   },
   {
    "duration": 360,
    "start_time": "2022-03-24T06:45:56.724Z"
   },
   {
    "duration": 474,
    "start_time": "2022-03-24T06:46:10.380Z"
   },
   {
    "duration": 363,
    "start_time": "2022-03-24T06:46:23.971Z"
   },
   {
    "duration": 94,
    "start_time": "2022-03-24T06:50:18.727Z"
   },
   {
    "duration": 239,
    "start_time": "2022-03-24T06:50:28.911Z"
   },
   {
    "duration": 212,
    "start_time": "2022-03-24T06:51:05.917Z"
   },
   {
    "duration": 244,
    "start_time": "2022-03-24T06:51:12.093Z"
   },
   {
    "duration": 223,
    "start_time": "2022-03-24T06:51:17.271Z"
   },
   {
    "duration": 222,
    "start_time": "2022-03-24T06:51:27.830Z"
   },
   {
    "duration": 121,
    "start_time": "2022-03-24T07:10:41.947Z"
   },
   {
    "duration": 115,
    "start_time": "2022-03-24T07:11:30.713Z"
   },
   {
    "duration": 1029,
    "start_time": "2022-03-24T07:24:18.372Z"
   },
   {
    "duration": 117,
    "start_time": "2022-03-24T07:24:19.405Z"
   },
   {
    "duration": 23,
    "start_time": "2022-03-24T07:24:19.524Z"
   },
   {
    "duration": 152,
    "start_time": "2022-03-24T07:24:19.551Z"
   },
   {
    "duration": 20,
    "start_time": "2022-03-24T07:24:19.706Z"
   },
   {
    "duration": 64,
    "start_time": "2022-03-24T07:24:19.728Z"
   },
   {
    "duration": 4,
    "start_time": "2022-03-24T07:24:19.794Z"
   },
   {
    "duration": 17,
    "start_time": "2022-03-24T07:24:19.801Z"
   },
   {
    "duration": 10,
    "start_time": "2022-03-24T07:24:19.821Z"
   },
   {
    "duration": 17,
    "start_time": "2022-03-24T07:24:19.868Z"
   },
   {
    "duration": 15,
    "start_time": "2022-03-24T07:24:19.888Z"
   },
   {
    "duration": 9,
    "start_time": "2022-03-24T07:24:19.905Z"
   },
   {
    "duration": 6,
    "start_time": "2022-03-24T07:24:19.917Z"
   },
   {
    "duration": 48,
    "start_time": "2022-03-24T07:24:19.925Z"
   },
   {
    "duration": 6,
    "start_time": "2022-03-24T07:24:19.976Z"
   },
   {
    "duration": 6,
    "start_time": "2022-03-24T07:24:19.984Z"
   },
   {
    "duration": 6,
    "start_time": "2022-03-24T07:24:19.992Z"
   },
   {
    "duration": 7,
    "start_time": "2022-03-24T07:24:20.001Z"
   },
   {
    "duration": 7,
    "start_time": "2022-03-24T07:24:20.010Z"
   },
   {
    "duration": 52,
    "start_time": "2022-03-24T07:24:20.019Z"
   },
   {
    "duration": 12,
    "start_time": "2022-03-24T07:24:20.073Z"
   },
   {
    "duration": 9,
    "start_time": "2022-03-24T07:24:20.088Z"
   },
   {
    "duration": 24,
    "start_time": "2022-03-24T07:24:20.099Z"
   },
   {
    "duration": 48,
    "start_time": "2022-03-24T07:24:20.125Z"
   },
   {
    "duration": 6,
    "start_time": "2022-03-24T07:24:20.175Z"
   },
   {
    "duration": 5,
    "start_time": "2022-03-24T07:24:20.183Z"
   },
   {
    "duration": 19,
    "start_time": "2022-03-24T07:24:20.191Z"
   },
   {
    "duration": 45,
    "start_time": "2022-03-24T07:24:20.222Z"
   },
   {
    "duration": 6,
    "start_time": "2022-03-24T07:24:20.270Z"
   },
   {
    "duration": 24,
    "start_time": "2022-03-24T07:24:20.278Z"
   },
   {
    "duration": 38,
    "start_time": "2022-03-24T07:24:20.305Z"
   },
   {
    "duration": 47,
    "start_time": "2022-03-24T07:24:20.368Z"
   },
   {
    "duration": 441,
    "start_time": "2022-03-24T07:24:20.417Z"
   },
   {
    "duration": 10,
    "start_time": "2022-03-24T07:24:20.860Z"
   },
   {
    "duration": 40,
    "start_time": "2022-03-24T07:24:20.872Z"
   },
   {
    "duration": 69,
    "start_time": "2022-03-24T07:24:20.914Z"
   },
   {
    "duration": 447,
    "start_time": "2022-03-24T07:24:20.986Z"
   },
   {
    "duration": 260,
    "start_time": "2022-03-24T07:24:21.435Z"
   },
   {
    "duration": 235,
    "start_time": "2022-03-24T07:24:21.697Z"
   },
   {
    "duration": 245,
    "start_time": "2022-03-24T07:24:21.935Z"
   },
   {
    "duration": 506,
    "start_time": "2022-03-24T07:24:22.183Z"
   },
   {
    "duration": 6,
    "start_time": "2022-03-24T07:24:22.691Z"
   },
   {
    "duration": 16,
    "start_time": "2022-03-24T07:24:22.700Z"
   },
   {
    "duration": 50,
    "start_time": "2022-03-24T07:24:22.719Z"
   },
   {
    "duration": 14,
    "start_time": "2022-03-24T07:24:22.771Z"
   },
   {
    "duration": 22,
    "start_time": "2022-03-24T07:24:22.787Z"
   },
   {
    "duration": 155,
    "start_time": "2022-03-24T07:24:22.812Z"
   },
   {
    "duration": 5,
    "start_time": "2022-03-24T07:24:22.970Z"
   },
   {
    "duration": 9,
    "start_time": "2022-03-24T07:24:22.978Z"
   },
   {
    "duration": 6,
    "start_time": "2022-03-24T07:24:22.990Z"
   },
   {
    "duration": 9,
    "start_time": "2022-03-24T07:24:22.998Z"
   },
   {
    "duration": 57,
    "start_time": "2022-03-24T07:24:23.010Z"
   },
   {
    "duration": 10,
    "start_time": "2022-03-24T07:24:23.070Z"
   },
   {
    "duration": 8,
    "start_time": "2022-03-24T07:24:23.084Z"
   },
   {
    "duration": 8,
    "start_time": "2022-03-24T07:24:23.095Z"
   },
   {
    "duration": 7,
    "start_time": "2022-03-24T07:24:23.106Z"
   },
   {
    "duration": 60,
    "start_time": "2022-03-24T07:24:23.116Z"
   },
   {
    "duration": 8,
    "start_time": "2022-03-24T07:24:23.179Z"
   },
   {
    "duration": 46,
    "start_time": "2022-03-24T07:24:23.189Z"
   },
   {
    "duration": 58,
    "start_time": "2022-03-24T07:24:23.237Z"
   },
   {
    "duration": 7,
    "start_time": "2022-03-24T07:24:23.298Z"
   },
   {
    "duration": 63,
    "start_time": "2022-03-24T07:24:23.307Z"
   },
   {
    "duration": 278,
    "start_time": "2022-03-24T07:24:23.373Z"
   },
   {
    "duration": 33,
    "start_time": "2022-03-24T07:24:23.653Z"
   },
   {
    "duration": 385,
    "start_time": "2022-03-24T07:24:23.689Z"
   },
   {
    "duration": 377,
    "start_time": "2022-03-24T07:24:24.077Z"
   },
   {
    "duration": 473,
    "start_time": "2022-03-24T07:24:24.456Z"
   },
   {
    "duration": 407,
    "start_time": "2022-03-24T07:24:24.932Z"
   },
   {
    "duration": 230,
    "start_time": "2022-03-24T07:24:25.341Z"
   },
   {
    "duration": 233,
    "start_time": "2022-03-24T07:24:25.573Z"
   },
   {
    "duration": 235,
    "start_time": "2022-03-24T07:24:25.808Z"
   },
   {
    "duration": 223,
    "start_time": "2022-03-24T07:24:26.046Z"
   },
   {
    "duration": 7,
    "start_time": "2022-03-24T07:24:26.272Z"
   },
   {
    "duration": 10,
    "start_time": "2022-03-24T07:24:26.281Z"
   },
   {
    "duration": 19,
    "start_time": "2022-03-24T07:24:26.293Z"
   },
   {
    "duration": 15,
    "start_time": "2022-03-24T07:24:26.314Z"
   },
   {
    "duration": 7,
    "start_time": "2022-03-24T07:24:26.331Z"
   },
   {
    "duration": 32,
    "start_time": "2022-03-24T07:24:26.340Z"
   },
   {
    "duration": 9,
    "start_time": "2022-03-24T07:24:26.374Z"
   },
   {
    "duration": 7,
    "start_time": "2022-03-24T07:24:26.386Z"
   },
   {
    "duration": 121,
    "start_time": "2022-03-24T07:26:49.893Z"
   },
   {
    "duration": 861,
    "start_time": "2022-03-24T07:27:09.155Z"
   },
   {
    "duration": 113,
    "start_time": "2022-03-24T07:27:10.019Z"
   },
   {
    "duration": 21,
    "start_time": "2022-03-24T07:27:10.135Z"
   },
   {
    "duration": 17,
    "start_time": "2022-03-24T07:27:10.167Z"
   },
   {
    "duration": 39,
    "start_time": "2022-03-24T07:27:10.186Z"
   },
   {
    "duration": 4,
    "start_time": "2022-03-24T07:27:10.228Z"
   },
   {
    "duration": 42,
    "start_time": "2022-03-24T07:27:10.235Z"
   },
   {
    "duration": 13,
    "start_time": "2022-03-24T07:27:10.279Z"
   },
   {
    "duration": 14,
    "start_time": "2022-03-24T07:27:10.294Z"
   },
   {
    "duration": 14,
    "start_time": "2022-03-24T07:27:10.312Z"
   },
   {
    "duration": 46,
    "start_time": "2022-03-24T07:27:10.329Z"
   },
   {
    "duration": 5,
    "start_time": "2022-03-24T07:27:10.378Z"
   },
   {
    "duration": 11,
    "start_time": "2022-03-24T07:27:10.386Z"
   },
   {
    "duration": 5,
    "start_time": "2022-03-24T07:27:10.399Z"
   },
   {
    "duration": 8,
    "start_time": "2022-03-24T07:27:10.407Z"
   },
   {
    "duration": 49,
    "start_time": "2022-03-24T07:27:10.418Z"
   },
   {
    "duration": 7,
    "start_time": "2022-03-24T07:27:10.470Z"
   },
   {
    "duration": 6,
    "start_time": "2022-03-24T07:27:10.480Z"
   },
   {
    "duration": 14,
    "start_time": "2022-03-24T07:27:10.487Z"
   },
   {
    "duration": 17,
    "start_time": "2022-03-24T07:27:10.503Z"
   },
   {
    "duration": 9,
    "start_time": "2022-03-24T07:27:10.523Z"
   },
   {
    "duration": 23,
    "start_time": "2022-03-24T07:27:10.567Z"
   },
   {
    "duration": 13,
    "start_time": "2022-03-24T07:27:10.592Z"
   },
   {
    "duration": 6,
    "start_time": "2022-03-24T07:27:10.607Z"
   },
   {
    "duration": 5,
    "start_time": "2022-03-24T07:27:10.615Z"
   },
   {
    "duration": 48,
    "start_time": "2022-03-24T07:27:10.622Z"
   },
   {
    "duration": 6,
    "start_time": "2022-03-24T07:27:10.673Z"
   },
   {
    "duration": 6,
    "start_time": "2022-03-24T07:27:10.686Z"
   },
   {
    "duration": 18,
    "start_time": "2022-03-24T07:27:10.694Z"
   },
   {
    "duration": 95,
    "start_time": "2022-03-24T07:27:10.714Z"
   },
   {
    "duration": 62,
    "start_time": "2022-03-24T07:27:10.812Z"
   },
   {
    "duration": 437,
    "start_time": "2022-03-24T07:27:10.876Z"
   },
   {
    "duration": 5,
    "start_time": "2022-03-24T07:27:11.316Z"
   },
   {
    "duration": 65,
    "start_time": "2022-03-24T07:27:11.323Z"
   },
   {
    "duration": 39,
    "start_time": "2022-03-24T07:27:11.391Z"
   },
   {
    "duration": 564,
    "start_time": "2022-03-24T07:27:11.434Z"
   },
   {
    "duration": 301,
    "start_time": "2022-03-24T07:27:12.001Z"
   },
   {
    "duration": 274,
    "start_time": "2022-03-24T07:27:12.305Z"
   },
   {
    "duration": 285,
    "start_time": "2022-03-24T07:27:12.582Z"
   },
   {
    "duration": 427,
    "start_time": "2022-03-24T07:27:12.870Z"
   },
   {
    "duration": 6,
    "start_time": "2022-03-24T07:27:13.300Z"
   },
   {
    "duration": 15,
    "start_time": "2022-03-24T07:27:13.308Z"
   },
   {
    "duration": 53,
    "start_time": "2022-03-24T07:27:13.325Z"
   },
   {
    "duration": 14,
    "start_time": "2022-03-24T07:27:13.380Z"
   },
   {
    "duration": 26,
    "start_time": "2022-03-24T07:27:13.396Z"
   },
   {
    "duration": 171,
    "start_time": "2022-03-24T07:27:13.425Z"
   },
   {
    "duration": 147,
    "start_time": "2022-03-24T07:27:13.599Z"
   },
   {
    "duration": 6,
    "start_time": "2022-03-24T07:27:13.749Z"
   },
   {
    "duration": 7,
    "start_time": "2022-03-24T07:27:13.768Z"
   },
   {
    "duration": 7,
    "start_time": "2022-03-24T07:27:13.777Z"
   },
   {
    "duration": 6,
    "start_time": "2022-03-24T07:27:13.787Z"
   },
   {
    "duration": 9,
    "start_time": "2022-03-24T07:27:13.796Z"
   },
   {
    "duration": 63,
    "start_time": "2022-03-24T07:27:13.807Z"
   },
   {
    "duration": 8,
    "start_time": "2022-03-24T07:27:13.872Z"
   },
   {
    "duration": 13,
    "start_time": "2022-03-24T07:27:13.883Z"
   },
   {
    "duration": 6,
    "start_time": "2022-03-24T07:27:13.899Z"
   },
   {
    "duration": 10,
    "start_time": "2022-03-24T07:27:13.908Z"
   },
   {
    "duration": 54,
    "start_time": "2022-03-24T07:27:13.920Z"
   },
   {
    "duration": 41,
    "start_time": "2022-03-24T07:27:13.976Z"
   },
   {
    "duration": 63,
    "start_time": "2022-03-24T07:27:14.020Z"
   },
   {
    "duration": 8,
    "start_time": "2022-03-24T07:27:14.085Z"
   },
   {
    "duration": 44,
    "start_time": "2022-03-24T07:27:14.096Z"
   },
   {
    "duration": 318,
    "start_time": "2022-03-24T07:27:14.143Z"
   },
   {
    "duration": 26,
    "start_time": "2022-03-24T07:27:14.463Z"
   },
   {
    "duration": 449,
    "start_time": "2022-03-24T07:27:14.491Z"
   },
   {
    "duration": 406,
    "start_time": "2022-03-24T07:27:14.943Z"
   },
   {
    "duration": 501,
    "start_time": "2022-03-24T07:27:15.352Z"
   },
   {
    "duration": 399,
    "start_time": "2022-03-24T07:27:15.856Z"
   },
   {
    "duration": 235,
    "start_time": "2022-03-24T07:27:16.257Z"
   },
   {
    "duration": 251,
    "start_time": "2022-03-24T07:27:16.495Z"
   },
   {
    "duration": 265,
    "start_time": "2022-03-24T07:27:16.748Z"
   },
   {
    "duration": 233,
    "start_time": "2022-03-24T07:27:17.016Z"
   },
   {
    "duration": 18,
    "start_time": "2022-03-24T07:27:17.251Z"
   },
   {
    "duration": 7,
    "start_time": "2022-03-24T07:27:17.271Z"
   },
   {
    "duration": 7,
    "start_time": "2022-03-24T07:27:17.281Z"
   },
   {
    "duration": 12,
    "start_time": "2022-03-24T07:27:17.291Z"
   },
   {
    "duration": 13,
    "start_time": "2022-03-24T07:27:17.305Z"
   },
   {
    "duration": 48,
    "start_time": "2022-03-24T07:27:17.321Z"
   },
   {
    "duration": 11,
    "start_time": "2022-03-24T07:27:17.371Z"
   },
   {
    "duration": 8,
    "start_time": "2022-03-24T07:27:17.384Z"
   },
   {
    "duration": 8,
    "start_time": "2022-03-24T09:20:40.279Z"
   },
   {
    "duration": 46,
    "start_time": "2022-03-24T09:21:26.036Z"
   },
   {
    "duration": 832,
    "start_time": "2022-03-24T09:21:39.044Z"
   },
   {
    "duration": 86,
    "start_time": "2022-03-24T09:21:39.879Z"
   },
   {
    "duration": 18,
    "start_time": "2022-03-24T09:21:39.967Z"
   },
   {
    "duration": 26,
    "start_time": "2022-03-24T09:21:39.987Z"
   },
   {
    "duration": 28,
    "start_time": "2022-03-24T09:21:40.015Z"
   },
   {
    "duration": 4,
    "start_time": "2022-03-24T09:21:40.045Z"
   },
   {
    "duration": 12,
    "start_time": "2022-03-24T09:21:40.051Z"
   },
   {
    "duration": 10,
    "start_time": "2022-03-24T09:21:40.065Z"
   },
   {
    "duration": 11,
    "start_time": "2022-03-24T09:21:40.108Z"
   },
   {
    "duration": 11,
    "start_time": "2022-03-24T09:21:40.122Z"
   },
   {
    "duration": 7,
    "start_time": "2022-03-24T09:21:40.135Z"
   },
   {
    "duration": 5,
    "start_time": "2022-03-24T09:21:40.144Z"
   },
   {
    "duration": 9,
    "start_time": "2022-03-24T09:21:40.150Z"
   },
   {
    "duration": 5,
    "start_time": "2022-03-24T09:21:40.161Z"
   },
   {
    "duration": 5,
    "start_time": "2022-03-24T09:21:40.208Z"
   },
   {
    "duration": 4,
    "start_time": "2022-03-24T09:21:40.215Z"
   },
   {
    "duration": 6,
    "start_time": "2022-03-24T09:21:40.220Z"
   },
   {
    "duration": 7,
    "start_time": "2022-03-24T09:21:40.228Z"
   },
   {
    "duration": 6,
    "start_time": "2022-03-24T09:21:40.236Z"
   },
   {
    "duration": 20,
    "start_time": "2022-03-24T09:21:40.244Z"
   },
   {
    "duration": 27,
    "start_time": "2022-03-24T09:21:40.265Z"
   },
   {
    "duration": 28,
    "start_time": "2022-03-24T09:21:40.293Z"
   },
   {
    "duration": 8,
    "start_time": "2022-03-24T09:21:40.322Z"
   },
   {
    "duration": 6,
    "start_time": "2022-03-24T09:21:40.332Z"
   },
   {
    "duration": 5,
    "start_time": "2022-03-24T09:21:40.340Z"
   },
   {
    "duration": 10,
    "start_time": "2022-03-24T09:21:40.346Z"
   },
   {
    "duration": 5,
    "start_time": "2022-03-24T09:21:40.357Z"
   },
   {
    "duration": 44,
    "start_time": "2022-03-24T09:21:40.367Z"
   },
   {
    "duration": 13,
    "start_time": "2022-03-24T09:21:40.413Z"
   },
   {
    "duration": 27,
    "start_time": "2022-03-24T09:21:40.427Z"
   },
   {
    "duration": 61,
    "start_time": "2022-03-24T09:21:40.456Z"
   },
   {
    "duration": 272,
    "start_time": "2022-03-24T09:21:40.518Z"
   },
   {
    "duration": 4,
    "start_time": "2022-03-24T09:21:40.792Z"
   },
   {
    "duration": 35,
    "start_time": "2022-03-24T09:21:40.797Z"
   },
   {
    "duration": 26,
    "start_time": "2022-03-24T09:21:40.834Z"
   },
   {
    "duration": 343,
    "start_time": "2022-03-24T09:21:40.862Z"
   },
   {
    "duration": 171,
    "start_time": "2022-03-24T09:21:41.209Z"
   },
   {
    "duration": 163,
    "start_time": "2022-03-24T09:21:41.382Z"
   },
   {
    "duration": 167,
    "start_time": "2022-03-24T09:21:41.547Z"
   },
   {
    "duration": 271,
    "start_time": "2022-03-24T09:21:41.715Z"
   },
   {
    "duration": 4,
    "start_time": "2022-03-24T09:21:41.988Z"
   },
   {
    "duration": 17,
    "start_time": "2022-03-24T09:21:41.993Z"
   },
   {
    "duration": 17,
    "start_time": "2022-03-24T09:21:42.011Z"
   },
   {
    "duration": 9,
    "start_time": "2022-03-24T09:21:42.030Z"
   },
   {
    "duration": 13,
    "start_time": "2022-03-24T09:21:42.041Z"
   },
   {
    "duration": 118,
    "start_time": "2022-03-24T09:21:42.056Z"
   },
   {
    "duration": 91,
    "start_time": "2022-03-24T09:21:42.175Z"
   },
   {
    "duration": 4,
    "start_time": "2022-03-24T09:21:42.268Z"
   },
   {
    "duration": 7,
    "start_time": "2022-03-24T09:21:42.273Z"
   },
   {
    "duration": 4,
    "start_time": "2022-03-24T09:21:42.282Z"
   },
   {
    "duration": 5,
    "start_time": "2022-03-24T09:21:42.309Z"
   },
   {
    "duration": 8,
    "start_time": "2022-03-24T09:21:42.316Z"
   },
   {
    "duration": 6,
    "start_time": "2022-03-24T09:21:42.326Z"
   },
   {
    "duration": 5,
    "start_time": "2022-03-24T09:21:42.334Z"
   },
   {
    "duration": 6,
    "start_time": "2022-03-24T09:21:42.340Z"
   },
   {
    "duration": 5,
    "start_time": "2022-03-24T09:21:42.348Z"
   },
   {
    "duration": 6,
    "start_time": "2022-03-24T09:21:42.354Z"
   },
   {
    "duration": 51,
    "start_time": "2022-03-24T09:21:42.362Z"
   },
   {
    "duration": 34,
    "start_time": "2022-03-24T09:21:42.415Z"
   },
   {
    "duration": 18,
    "start_time": "2022-03-24T09:21:42.450Z"
   },
   {
    "duration": 5,
    "start_time": "2022-03-24T09:21:42.470Z"
   },
   {
    "duration": 24,
    "start_time": "2022-03-24T09:21:42.508Z"
   },
   {
    "duration": 198,
    "start_time": "2022-03-24T09:21:42.534Z"
   },
   {
    "duration": 18,
    "start_time": "2022-03-24T09:21:42.734Z"
   },
   {
    "duration": 254,
    "start_time": "2022-03-24T09:21:42.754Z"
   },
   {
    "duration": 237,
    "start_time": "2022-03-24T09:21:43.010Z"
   },
   {
    "duration": 342,
    "start_time": "2022-03-24T09:21:43.249Z"
   },
   {
    "duration": 252,
    "start_time": "2022-03-24T09:21:43.592Z"
   },
   {
    "duration": 175,
    "start_time": "2022-03-24T09:21:43.846Z"
   },
   {
    "duration": 154,
    "start_time": "2022-03-24T09:21:44.023Z"
   },
   {
    "duration": 151,
    "start_time": "2022-03-24T09:21:44.178Z"
   },
   {
    "duration": 201,
    "start_time": "2022-03-24T09:21:44.331Z"
   },
   {
    "duration": 6,
    "start_time": "2022-03-24T09:21:44.534Z"
   },
   {
    "duration": 289,
    "start_time": "2022-03-24T09:21:44.542Z"
   },
   {
    "duration": 6,
    "start_time": "2022-03-24T09:21:44.832Z"
   },
   {
    "duration": 7,
    "start_time": "2022-03-24T09:21:44.840Z"
   },
   {
    "duration": 8,
    "start_time": "2022-03-24T09:21:44.850Z"
   },
   {
    "duration": 9,
    "start_time": "2022-03-24T09:21:44.860Z"
   },
   {
    "duration": 42,
    "start_time": "2022-03-24T09:21:44.871Z"
   },
   {
    "duration": 8,
    "start_time": "2022-03-24T09:21:44.915Z"
   },
   {
    "duration": 146,
    "start_time": "2022-03-24T09:22:47.477Z"
   },
   {
    "duration": 156,
    "start_time": "2022-03-24T09:23:54.106Z"
   },
   {
    "duration": 221,
    "start_time": "2022-03-24T09:24:38.850Z"
   },
   {
    "duration": 146,
    "start_time": "2022-03-24T09:25:00.442Z"
   },
   {
    "duration": 190,
    "start_time": "2022-03-24T09:26:17.057Z"
   },
   {
    "duration": 168,
    "start_time": "2022-03-24T09:26:59.959Z"
   },
   {
    "duration": 160,
    "start_time": "2022-03-24T09:27:45.303Z"
   },
   {
    "duration": 163,
    "start_time": "2022-03-24T09:29:04.548Z"
   },
   {
    "duration": 176,
    "start_time": "2022-03-24T09:29:20.362Z"
   },
   {
    "duration": 178,
    "start_time": "2022-03-24T09:50:09.243Z"
   },
   {
    "duration": 185,
    "start_time": "2022-03-24T09:51:24.627Z"
   },
   {
    "duration": 183,
    "start_time": "2022-03-24T09:52:33.209Z"
   },
   {
    "duration": 225,
    "start_time": "2022-03-24T09:52:49.454Z"
   },
   {
    "duration": 216,
    "start_time": "2022-03-24T09:57:20.684Z"
   },
   {
    "duration": 76,
    "start_time": "2022-03-24T10:00:41.973Z"
   },
   {
    "duration": 693,
    "start_time": "2022-03-24T10:06:08.803Z"
   },
   {
    "duration": 76,
    "start_time": "2022-03-24T10:06:09.498Z"
   },
   {
    "duration": 15,
    "start_time": "2022-03-24T10:06:09.576Z"
   },
   {
    "duration": 12,
    "start_time": "2022-03-24T10:06:09.609Z"
   },
   {
    "duration": 26,
    "start_time": "2022-03-24T10:06:09.622Z"
   },
   {
    "duration": 3,
    "start_time": "2022-03-24T10:06:09.650Z"
   },
   {
    "duration": 10,
    "start_time": "2022-03-24T10:06:09.655Z"
   },
   {
    "duration": 7,
    "start_time": "2022-03-24T10:06:09.667Z"
   },
   {
    "duration": 36,
    "start_time": "2022-03-24T10:06:09.676Z"
   },
   {
    "duration": 13,
    "start_time": "2022-03-24T10:06:09.716Z"
   },
   {
    "duration": 7,
    "start_time": "2022-03-24T10:06:09.730Z"
   },
   {
    "duration": 5,
    "start_time": "2022-03-24T10:06:09.739Z"
   },
   {
    "duration": 9,
    "start_time": "2022-03-24T10:06:09.745Z"
   },
   {
    "duration": 5,
    "start_time": "2022-03-24T10:06:09.756Z"
   },
   {
    "duration": 5,
    "start_time": "2022-03-24T10:06:09.763Z"
   },
   {
    "duration": 8,
    "start_time": "2022-03-24T10:06:09.770Z"
   },
   {
    "duration": 29,
    "start_time": "2022-03-24T10:06:09.780Z"
   },
   {
    "duration": 5,
    "start_time": "2022-03-24T10:06:09.810Z"
   },
   {
    "duration": 8,
    "start_time": "2022-03-24T10:06:09.816Z"
   },
   {
    "duration": 10,
    "start_time": "2022-03-24T10:06:09.825Z"
   },
   {
    "duration": 7,
    "start_time": "2022-03-24T10:06:09.837Z"
   },
   {
    "duration": 15,
    "start_time": "2022-03-24T10:06:09.846Z"
   },
   {
    "duration": 9,
    "start_time": "2022-03-24T10:06:09.862Z"
   },
   {
    "duration": 40,
    "start_time": "2022-03-24T10:06:09.873Z"
   },
   {
    "duration": 10,
    "start_time": "2022-03-24T10:06:09.915Z"
   },
   {
    "duration": 9,
    "start_time": "2022-03-24T10:06:09.927Z"
   },
   {
    "duration": 4,
    "start_time": "2022-03-24T10:06:09.938Z"
   },
   {
    "duration": 5,
    "start_time": "2022-03-24T10:06:09.946Z"
   },
   {
    "duration": 13,
    "start_time": "2022-03-24T10:06:09.953Z"
   },
   {
    "duration": 64,
    "start_time": "2022-03-24T10:06:09.968Z"
   },
   {
    "duration": 35,
    "start_time": "2022-03-24T10:06:10.034Z"
   },
   {
    "duration": 273,
    "start_time": "2022-03-24T10:06:10.072Z"
   },
   {
    "duration": 4,
    "start_time": "2022-03-24T10:06:10.347Z"
   },
   {
    "duration": 34,
    "start_time": "2022-03-24T10:06:10.353Z"
   },
   {
    "duration": 35,
    "start_time": "2022-03-24T10:06:10.389Z"
   },
   {
    "duration": 324,
    "start_time": "2022-03-24T10:06:10.426Z"
   },
   {
    "duration": 174,
    "start_time": "2022-03-24T10:06:10.751Z"
   },
   {
    "duration": 164,
    "start_time": "2022-03-24T10:06:10.926Z"
   },
   {
    "duration": 162,
    "start_time": "2022-03-24T10:06:11.092Z"
   },
   {
    "duration": 261,
    "start_time": "2022-03-24T10:06:11.256Z"
   },
   {
    "duration": 4,
    "start_time": "2022-03-24T10:06:11.519Z"
   },
   {
    "duration": 11,
    "start_time": "2022-03-24T10:06:11.525Z"
   },
   {
    "duration": 15,
    "start_time": "2022-03-24T10:06:11.537Z"
   },
   {
    "duration": 9,
    "start_time": "2022-03-24T10:06:11.553Z"
   },
   {
    "duration": 14,
    "start_time": "2022-03-24T10:06:11.564Z"
   },
   {
    "duration": 101,
    "start_time": "2022-03-24T10:06:11.610Z"
   },
   {
    "duration": 84,
    "start_time": "2022-03-24T10:06:11.713Z"
   },
   {
    "duration": 13,
    "start_time": "2022-03-24T10:06:11.798Z"
   },
   {
    "duration": 197,
    "start_time": "2022-03-24T10:06:11.813Z"
   },
   {
    "duration": 212,
    "start_time": "2022-03-24T10:06:12.013Z"
   },
   {
    "duration": 210,
    "start_time": "2022-03-24T10:06:12.227Z"
   },
   {
    "duration": 8,
    "start_time": "2022-03-24T10:06:12.439Z"
   },
   {
    "duration": 6,
    "start_time": "2022-03-24T10:06:12.449Z"
   },
   {
    "duration": 7,
    "start_time": "2022-03-24T10:06:12.457Z"
   },
   {
    "duration": 7,
    "start_time": "2022-03-24T10:06:12.466Z"
   },
   {
    "duration": 37,
    "start_time": "2022-03-24T10:06:12.475Z"
   },
   {
    "duration": 6,
    "start_time": "2022-03-24T10:06:12.514Z"
   },
   {
    "duration": 6,
    "start_time": "2022-03-24T10:06:12.522Z"
   },
   {
    "duration": 23,
    "start_time": "2022-03-24T10:06:12.530Z"
   },
   {
    "duration": 20,
    "start_time": "2022-03-24T10:06:12.554Z"
   },
   {
    "duration": 5,
    "start_time": "2022-03-24T10:06:12.609Z"
   },
   {
    "duration": 28,
    "start_time": "2022-03-24T10:06:12.616Z"
   },
   {
    "duration": 187,
    "start_time": "2022-03-24T10:06:12.645Z"
   },
   {
    "duration": 19,
    "start_time": "2022-03-24T10:06:12.833Z"
   },
   {
    "duration": 321,
    "start_time": "2022-03-24T10:06:12.853Z"
   },
   {
    "duration": 247,
    "start_time": "2022-03-24T10:06:13.176Z"
   },
   {
    "duration": 253,
    "start_time": "2022-03-24T10:06:13.425Z"
   },
   {
    "duration": 251,
    "start_time": "2022-03-24T10:06:13.679Z"
   },
   {
    "duration": 144,
    "start_time": "2022-03-24T10:06:13.931Z"
   },
   {
    "duration": 157,
    "start_time": "2022-03-24T10:06:14.077Z"
   },
   {
    "duration": 149,
    "start_time": "2022-03-24T10:06:14.235Z"
   },
   {
    "duration": 152,
    "start_time": "2022-03-24T10:06:14.386Z"
   },
   {
    "duration": 234,
    "start_time": "2022-03-24T10:06:14.539Z"
   },
   {
    "duration": 176,
    "start_time": "2022-03-24T10:06:14.775Z"
   },
   {
    "duration": 183,
    "start_time": "2022-03-24T10:06:14.953Z"
   },
   {
    "duration": 7,
    "start_time": "2022-03-24T10:06:15.138Z"
   },
   {
    "duration": 7,
    "start_time": "2022-03-24T10:06:15.147Z"
   },
   {
    "duration": 6,
    "start_time": "2022-03-24T10:06:15.156Z"
   },
   {
    "duration": 9,
    "start_time": "2022-03-24T10:06:15.164Z"
   },
   {
    "duration": 32,
    "start_time": "2022-03-24T10:06:15.178Z"
   }
  ],
  "kernelspec": {
   "display_name": "Python 3 (ipykernel)",
   "language": "python",
   "name": "python3"
  },
  "language_info": {
   "codemirror_mode": {
    "name": "ipython",
    "version": 3
   },
   "file_extension": ".py",
   "mimetype": "text/x-python",
   "name": "python",
   "nbconvert_exporter": "python",
   "pygments_lexer": "ipython3",
   "version": "3.9.5"
  },
  "toc": {
   "base_numbering": 1,
   "nav_menu": {},
   "number_sections": true,
   "sideBar": true,
   "skip_h1_title": true,
   "title_cell": "Содержание",
   "title_sidebar": "Contents",
   "toc_cell": true,
   "toc_position": {},
   "toc_section_display": true,
   "toc_window_display": false
  }
 },
 "nbformat": 4,
 "nbformat_minor": 4
}
