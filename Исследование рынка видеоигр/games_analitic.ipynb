{
 "cells": [
  {
   "cell_type": "markdown",
   "id": "400120ac",
   "metadata": {},
   "source": [
    "Проект: Изучение закономерностей рынка компьютерных игр для дальнейшего планирования рекламных кампаний, кампаний по продвижению продуктов и продаж. Имеются данные из общедоступных источников о выходе (дата релиза, название игры и жанр) игр на игровых платформах и продажи по регионам мира в млн. копий, данные пользовательских оценок, оценок критиков и рейтинги специальзированной организации. Целью является определение наиболее востребованных жанров (платформ), определение зависимостей между определенными параметрами, определение динамики продаж."
   ]
  },
  {
   "cell_type": "markdown",
   "id": "9863c339",
   "metadata": {},
   "source": [
    "# 1. Загрузка датасета и получение информации о нем"
   ]
  },
  {
   "cell_type": "code",
   "execution_count": 1,
   "id": "67b1d0e4",
   "metadata": {},
   "outputs": [],
   "source": [
    "import pandas as pd\n",
    "import numpy as np\n",
    "import matplotlib.pyplot as plt\n",
    "from scipy import stats as st\n",
    "import os"
   ]
  },
  {
   "cell_type": "code",
   "execution_count": 2,
   "id": "7384ee6e",
   "metadata": {},
   "outputs": [
    {
     "name": "stdout",
     "output_type": "stream",
     "text": [
      "<class 'pandas.core.frame.DataFrame'>\n",
      "RangeIndex: 16715 entries, 0 to 16714\n",
      "Data columns (total 11 columns):\n",
      " #   Column           Non-Null Count  Dtype  \n",
      "---  ------           --------------  -----  \n",
      " 0   name             16713 non-null  object \n",
      " 1   platform         16715 non-null  object \n",
      " 2   year_of_release  16446 non-null  float64\n",
      " 3   genre            16713 non-null  object \n",
      " 4   na_sales         16715 non-null  float64\n",
      " 5   eu_sales         16715 non-null  float64\n",
      " 6   jp_sales         16715 non-null  float64\n",
      " 7   other_sales      16715 non-null  float64\n",
      " 8   critic_score     8137 non-null   float64\n",
      " 9   user_score       10014 non-null  object \n",
      " 10  rating           9949 non-null   object \n",
      "dtypes: float64(6), object(5)\n",
      "memory usage: 1.4+ MB\n"
     ]
    }
   ],
   "source": [
    "games = pd.read_csv('/datasets/games.csv')\n",
    "games.columns = ['name', 'platform', 'year_of_release', 'genre', 'na_sales', 'eu_sales', 'jp_sales', 'other_sales','critic_score', 'user_score', 'rating']\n",
    "games.info()"
   ]
  },
  {
   "cell_type": "code",
   "execution_count": 3,
   "id": "19835774",
   "metadata": {},
   "outputs": [
    {
     "data": {
      "text/plain": [
       "name               0.000120\n",
       "platform           0.000000\n",
       "year_of_release    0.016093\n",
       "genre              0.000120\n",
       "na_sales           0.000000\n",
       "eu_sales           0.000000\n",
       "jp_sales           0.000000\n",
       "other_sales        0.000000\n",
       "critic_score       0.513192\n",
       "user_score         0.400897\n",
       "rating             0.404786\n",
       "dtype: float64"
      ]
     },
     "execution_count": 3,
     "metadata": {},
     "output_type": "execute_result"
    }
   ],
   "source": [
    "games.isna().mean()"
   ]
  },
  {
   "cell_type": "markdown",
   "id": "4d5c2760",
   "metadata": {},
   "source": [
    "Загруженный датасет состоит из 16715 записей. Имеются пропуски данных в столбцах name, year_of_release, genre, critic_score, user_score, rating. Пропусков в столбцах name, genre одинаковое количество (отсутствие имени в названии продукта повлекло отсутствие жанра). Столбец year имеет формат float64. Планируется удаление отсутствующих строк в name, year_of_release, genre так как их невозможно заменить подходящими значениями и они составляют менее 1 % от общего объема данных. Остальные значения в столбце year_of_release будут приведены к формату int.  Столбец user_score содержит текстовые значения tbd (to be determinated - требует уточнения), данные в нем представлены в текстовом формате. Планируется замена значений tbd значениями nan и перевод данных в столбце в формат float. Планируется заполнить пропуски в столбцах critic_score, user_score средними значениями из группы со сохожим именем (name) и медианными значениями платформ. Отстутствующие значения в столбце rating планируется заменить no rating."
   ]
  },
  {
   "cell_type": "markdown",
   "id": "1f307dc7",
   "metadata": {},
   "source": [
    "# 2. Подготовка данных"
   ]
  },
  {
   "cell_type": "code",
   "execution_count": 4,
   "id": "89c39b65",
   "metadata": {},
   "outputs": [],
   "source": [
    "games = games.dropna(subset = ['name'])"
   ]
  },
  {
   "cell_type": "markdown",
   "id": "5eff556d",
   "metadata": {},
   "source": [
    "удаляем строк в которых отсутсутствует имя игры"
   ]
  },
  {
   "cell_type": "code",
   "execution_count": 5,
   "id": "8ab1902e",
   "metadata": {},
   "outputs": [],
   "source": [
    "games['user_score'].replace('tbd', np.nan, inplace=True)"
   ]
  },
  {
   "cell_type": "markdown",
   "id": "97c930ef",
   "metadata": {},
   "source": [
    "заменяем значения tbd значениями nan"
   ]
  },
  {
   "cell_type": "code",
   "execution_count": 6,
   "id": "679b99d6",
   "metadata": {},
   "outputs": [
    {
     "data": {
      "text/plain": [
       "name               0.000000\n",
       "platform           0.000000\n",
       "year_of_release    0.016095\n",
       "genre              0.000000\n",
       "na_sales           0.000000\n",
       "eu_sales           0.000000\n",
       "jp_sales           0.000000\n",
       "other_sales        0.000000\n",
       "critic_score       0.513133\n",
       "user_score         0.545863\n",
       "rating             0.404715\n",
       "dtype: float64"
      ]
     },
     "execution_count": 6,
     "metadata": {},
     "output_type": "execute_result"
    }
   ],
   "source": [
    "games.isna().mean()"
   ]
  },
  {
   "cell_type": "code",
   "execution_count": 7,
   "id": "c5b628af",
   "metadata": {},
   "outputs": [],
   "source": [
    "games['user_score'] = games['user_score'].astype('float')"
   ]
  },
  {
   "cell_type": "code",
   "execution_count": 8,
   "id": "7359e6b0",
   "metadata": {},
   "outputs": [],
   "source": [
    "games['user_score'] = games['user_score'].fillna(games.groupby('name')['user_score'].transform('mean'))"
   ]
  },
  {
   "cell_type": "code",
   "execution_count": 10,
   "id": "b990fb05",
   "metadata": {},
   "outputs": [],
   "source": [
    "games['critic_score'] = games['critic_score'].fillna(games.groupby('name')['critic_score'].transform('mean'))"
   ]
  },
  {
   "cell_type": "code",
   "execution_count": 12,
   "id": "9a53ffdd",
   "metadata": {},
   "outputs": [],
   "source": [
    "games['rating'] = games['rating'].fillna(value='no rating')"
   ]
  },
  {
   "cell_type": "markdown",
   "id": "76c2e3ba",
   "metadata": {},
   "source": [
    "заполняем отсутствующие значения столбцов user_score и critic_score средними и медианными значениями. отсутствующие значения в столбце rating заполняем записями  no rating."
   ]
  },
  {
   "cell_type": "code",
   "execution_count": 13,
   "id": "a23a29c9",
   "metadata": {},
   "outputs": [],
   "source": [
    "games['year_of_release'] = games['year_of_release'].fillna(games.groupby('name')['year_of_release'].transform('max'))"
   ]
  },
  {
   "cell_type": "markdown",
   "id": "ead77026",
   "metadata": {},
   "source": [
    "заполняем пропущенные значения в столбце year_of_release зачениями установленные у игр с тем же именем."
   ]
  },
  {
   "cell_type": "code",
   "execution_count": 14,
   "id": "660332f7",
   "metadata": {},
   "outputs": [
    {
     "data": {
      "text/plain": [
       "name               0.000000\n",
       "platform           0.000000\n",
       "year_of_release    0.008736\n",
       "genre              0.000000\n",
       "na_sales           0.000000\n",
       "eu_sales           0.000000\n",
       "jp_sales           0.000000\n",
       "other_sales        0.000000\n",
       "critic_score       0.455633\n",
       "user_score         0.480105\n",
       "rating             0.000000\n",
       "dtype: float64"
      ]
     },
     "execution_count": 14,
     "metadata": {},
     "output_type": "execute_result"
    }
   ],
   "source": [
    "games.isna().mean()"
   ]
  },
  {
   "cell_type": "code",
   "execution_count": 16,
   "id": "4359371b",
   "metadata": {},
   "outputs": [
    {
     "data": {
      "text/plain": [
       "name               0.000000\n",
       "platform           0.000000\n",
       "year_of_release    0.008736\n",
       "genre              0.000000\n",
       "na_sales           0.000000\n",
       "eu_sales           0.000000\n",
       "jp_sales           0.000000\n",
       "other_sales        0.000000\n",
       "critic_score       0.455633\n",
       "user_score         0.480105\n",
       "rating             0.000000\n",
       "dtype: float64"
      ]
     },
     "execution_count": 16,
     "metadata": {},
     "output_type": "execute_result"
    }
   ],
   "source": [
    "games.isna().mean()"
   ]
  },
  {
   "cell_type": "code",
   "execution_count": 17,
   "id": "ff34ed14",
   "metadata": {},
   "outputs": [],
   "source": [
    "games = games.dropna(subset = ['year_of_release'])"
   ]
  },
  {
   "cell_type": "code",
   "execution_count": 18,
   "id": "2f80dc6c",
   "metadata": {},
   "outputs": [
    {
     "data": {
      "text/plain": [
       "name               0.000000\n",
       "platform           0.000000\n",
       "year_of_release    0.000000\n",
       "genre              0.000000\n",
       "na_sales           0.000000\n",
       "eu_sales           0.000000\n",
       "jp_sales           0.000000\n",
       "other_sales        0.000000\n",
       "critic_score       0.454639\n",
       "user_score         0.478542\n",
       "rating             0.000000\n",
       "dtype: float64"
      ]
     },
     "execution_count": 18,
     "metadata": {},
     "output_type": "execute_result"
    }
   ],
   "source": [
    "games.isna().mean()"
   ]
  },
  {
   "cell_type": "markdown",
   "id": "321a3fb1",
   "metadata": {},
   "source": [
    "удаляем строки которые не удалось заполнить значениями"
   ]
  },
  {
   "cell_type": "code",
   "execution_count": 20,
   "id": "28cc860e",
   "metadata": {},
   "outputs": [],
   "source": [
    "games['year_of_release'] = pd.to_datetime(games['year_of_release'], format = '%Y').dt.year"
   ]
  },
  {
   "cell_type": "code",
   "execution_count": 21,
   "id": "d9688742",
   "metadata": {},
   "outputs": [
    {
     "name": "stdout",
     "output_type": "stream",
     "text": [
      "<class 'pandas.core.frame.DataFrame'>\n",
      "Int64Index: 16567 entries, 0 to 16714\n",
      "Data columns (total 11 columns):\n",
      " #   Column           Non-Null Count  Dtype  \n",
      "---  ------           --------------  -----  \n",
      " 0   name             16567 non-null  object \n",
      " 1   platform         16567 non-null  object \n",
      " 2   year_of_release  16567 non-null  int64  \n",
      " 3   genre            16567 non-null  object \n",
      " 4   na_sales         16567 non-null  float64\n",
      " 5   eu_sales         16567 non-null  float64\n",
      " 6   jp_sales         16567 non-null  float64\n",
      " 7   other_sales      16567 non-null  float64\n",
      " 8   critic_score     9035 non-null   float64\n",
      " 9   user_score       8639 non-null   float64\n",
      " 10  rating           16567 non-null  object \n",
      "dtypes: float64(6), int64(1), object(4)\n",
      "memory usage: 1.5+ MB\n"
     ]
    }
   ],
   "source": [
    "games.info()"
   ]
  },
  {
   "cell_type": "code",
   "execution_count": 22,
   "id": "8abebff9",
   "metadata": {},
   "outputs": [
    {
     "data": {
      "text/html": [
       "<div>\n",
       "<style scoped>\n",
       "    .dataframe tbody tr th:only-of-type {\n",
       "        vertical-align: middle;\n",
       "    }\n",
       "\n",
       "    .dataframe tbody tr th {\n",
       "        vertical-align: top;\n",
       "    }\n",
       "\n",
       "    .dataframe thead th {\n",
       "        text-align: right;\n",
       "    }\n",
       "</style>\n",
       "<table border=\"1\" class=\"dataframe\">\n",
       "  <thead>\n",
       "    <tr style=\"text-align: right;\">\n",
       "      <th></th>\n",
       "      <th>name</th>\n",
       "      <th>platform</th>\n",
       "      <th>year_of_release</th>\n",
       "      <th>genre</th>\n",
       "      <th>na_sales</th>\n",
       "      <th>eu_sales</th>\n",
       "      <th>jp_sales</th>\n",
       "      <th>other_sales</th>\n",
       "      <th>critic_score</th>\n",
       "      <th>user_score</th>\n",
       "      <th>rating</th>\n",
       "    </tr>\n",
       "  </thead>\n",
       "  <tbody>\n",
       "    <tr>\n",
       "      <th>0</th>\n",
       "      <td>Wii Sports</td>\n",
       "      <td>Wii</td>\n",
       "      <td>2006</td>\n",
       "      <td>Sports</td>\n",
       "      <td>41.36</td>\n",
       "      <td>28.96</td>\n",
       "      <td>3.77</td>\n",
       "      <td>8.45</td>\n",
       "      <td>76.0</td>\n",
       "      <td>8.0</td>\n",
       "      <td>E</td>\n",
       "    </tr>\n",
       "    <tr>\n",
       "      <th>1</th>\n",
       "      <td>Super Mario Bros.</td>\n",
       "      <td>NES</td>\n",
       "      <td>1985</td>\n",
       "      <td>Platform</td>\n",
       "      <td>29.08</td>\n",
       "      <td>3.58</td>\n",
       "      <td>6.81</td>\n",
       "      <td>0.77</td>\n",
       "      <td>NaN</td>\n",
       "      <td>NaN</td>\n",
       "      <td>no rating</td>\n",
       "    </tr>\n",
       "    <tr>\n",
       "      <th>2</th>\n",
       "      <td>Mario Kart Wii</td>\n",
       "      <td>Wii</td>\n",
       "      <td>2008</td>\n",
       "      <td>Racing</td>\n",
       "      <td>15.68</td>\n",
       "      <td>12.76</td>\n",
       "      <td>3.79</td>\n",
       "      <td>3.29</td>\n",
       "      <td>82.0</td>\n",
       "      <td>8.3</td>\n",
       "      <td>E</td>\n",
       "    </tr>\n",
       "    <tr>\n",
       "      <th>3</th>\n",
       "      <td>Wii Sports Resort</td>\n",
       "      <td>Wii</td>\n",
       "      <td>2009</td>\n",
       "      <td>Sports</td>\n",
       "      <td>15.61</td>\n",
       "      <td>10.93</td>\n",
       "      <td>3.28</td>\n",
       "      <td>2.95</td>\n",
       "      <td>80.0</td>\n",
       "      <td>8.0</td>\n",
       "      <td>E</td>\n",
       "    </tr>\n",
       "    <tr>\n",
       "      <th>4</th>\n",
       "      <td>Pokemon Red/Pokemon Blue</td>\n",
       "      <td>GB</td>\n",
       "      <td>1996</td>\n",
       "      <td>Role-Playing</td>\n",
       "      <td>11.27</td>\n",
       "      <td>8.89</td>\n",
       "      <td>10.22</td>\n",
       "      <td>1.00</td>\n",
       "      <td>NaN</td>\n",
       "      <td>NaN</td>\n",
       "      <td>no rating</td>\n",
       "    </tr>\n",
       "    <tr>\n",
       "      <th>...</th>\n",
       "      <td>...</td>\n",
       "      <td>...</td>\n",
       "      <td>...</td>\n",
       "      <td>...</td>\n",
       "      <td>...</td>\n",
       "      <td>...</td>\n",
       "      <td>...</td>\n",
       "      <td>...</td>\n",
       "      <td>...</td>\n",
       "      <td>...</td>\n",
       "      <td>...</td>\n",
       "    </tr>\n",
       "    <tr>\n",
       "      <th>16562</th>\n",
       "      <td>Samurai Warriors: Sanada Maru</td>\n",
       "      <td>PS3</td>\n",
       "      <td>2016</td>\n",
       "      <td>Action</td>\n",
       "      <td>0.00</td>\n",
       "      <td>0.00</td>\n",
       "      <td>0.01</td>\n",
       "      <td>0.00</td>\n",
       "      <td>NaN</td>\n",
       "      <td>NaN</td>\n",
       "      <td>no rating</td>\n",
       "    </tr>\n",
       "    <tr>\n",
       "      <th>16563</th>\n",
       "      <td>LMA Manager 2007</td>\n",
       "      <td>X360</td>\n",
       "      <td>2006</td>\n",
       "      <td>Sports</td>\n",
       "      <td>0.00</td>\n",
       "      <td>0.01</td>\n",
       "      <td>0.00</td>\n",
       "      <td>0.00</td>\n",
       "      <td>NaN</td>\n",
       "      <td>NaN</td>\n",
       "      <td>no rating</td>\n",
       "    </tr>\n",
       "    <tr>\n",
       "      <th>16564</th>\n",
       "      <td>Haitaka no Psychedelica</td>\n",
       "      <td>PSV</td>\n",
       "      <td>2016</td>\n",
       "      <td>Adventure</td>\n",
       "      <td>0.00</td>\n",
       "      <td>0.00</td>\n",
       "      <td>0.01</td>\n",
       "      <td>0.00</td>\n",
       "      <td>NaN</td>\n",
       "      <td>NaN</td>\n",
       "      <td>no rating</td>\n",
       "    </tr>\n",
       "    <tr>\n",
       "      <th>16565</th>\n",
       "      <td>Spirits &amp; Spells</td>\n",
       "      <td>GBA</td>\n",
       "      <td>2003</td>\n",
       "      <td>Platform</td>\n",
       "      <td>0.01</td>\n",
       "      <td>0.00</td>\n",
       "      <td>0.00</td>\n",
       "      <td>0.00</td>\n",
       "      <td>NaN</td>\n",
       "      <td>NaN</td>\n",
       "      <td>no rating</td>\n",
       "    </tr>\n",
       "    <tr>\n",
       "      <th>16566</th>\n",
       "      <td>Winning Post 8 2016</td>\n",
       "      <td>PSV</td>\n",
       "      <td>2016</td>\n",
       "      <td>Simulation</td>\n",
       "      <td>0.00</td>\n",
       "      <td>0.00</td>\n",
       "      <td>0.01</td>\n",
       "      <td>0.00</td>\n",
       "      <td>NaN</td>\n",
       "      <td>NaN</td>\n",
       "      <td>no rating</td>\n",
       "    </tr>\n",
       "  </tbody>\n",
       "</table>\n",
       "<p>16567 rows × 11 columns</p>\n",
       "</div>"
      ],
      "text/plain": [
       "                                name platform  year_of_release         genre  \\\n",
       "0                         Wii Sports      Wii             2006        Sports   \n",
       "1                  Super Mario Bros.      NES             1985      Platform   \n",
       "2                     Mario Kart Wii      Wii             2008        Racing   \n",
       "3                  Wii Sports Resort      Wii             2009        Sports   \n",
       "4           Pokemon Red/Pokemon Blue       GB             1996  Role-Playing   \n",
       "...                              ...      ...              ...           ...   \n",
       "16562  Samurai Warriors: Sanada Maru      PS3             2016        Action   \n",
       "16563               LMA Manager 2007     X360             2006        Sports   \n",
       "16564        Haitaka no Psychedelica      PSV             2016     Adventure   \n",
       "16565               Spirits & Spells      GBA             2003      Platform   \n",
       "16566            Winning Post 8 2016      PSV             2016    Simulation   \n",
       "\n",
       "       na_sales  eu_sales  jp_sales  other_sales  critic_score  user_score  \\\n",
       "0         41.36     28.96      3.77         8.45          76.0         8.0   \n",
       "1         29.08      3.58      6.81         0.77           NaN         NaN   \n",
       "2         15.68     12.76      3.79         3.29          82.0         8.3   \n",
       "3         15.61     10.93      3.28         2.95          80.0         8.0   \n",
       "4         11.27      8.89     10.22         1.00           NaN         NaN   \n",
       "...         ...       ...       ...          ...           ...         ...   \n",
       "16562      0.00      0.00      0.01         0.00           NaN         NaN   \n",
       "16563      0.00      0.01      0.00         0.00           NaN         NaN   \n",
       "16564      0.00      0.00      0.01         0.00           NaN         NaN   \n",
       "16565      0.01      0.00      0.00         0.00           NaN         NaN   \n",
       "16566      0.00      0.00      0.01         0.00           NaN         NaN   \n",
       "\n",
       "          rating  \n",
       "0              E  \n",
       "1      no rating  \n",
       "2              E  \n",
       "3              E  \n",
       "4      no rating  \n",
       "...          ...  \n",
       "16562  no rating  \n",
       "16563  no rating  \n",
       "16564  no rating  \n",
       "16565  no rating  \n",
       "16566  no rating  \n",
       "\n",
       "[16567 rows x 11 columns]"
      ]
     },
     "execution_count": 22,
     "metadata": {},
     "output_type": "execute_result"
    }
   ],
   "source": [
    "games.reset_index(drop = True, inplace = True)\n",
    "games"
   ]
  },
  {
   "cell_type": "code",
   "execution_count": 23,
   "id": "13b86e56",
   "metadata": {},
   "outputs": [],
   "source": [
    "games ['total_sales'] = games ['na_sales']+games ['eu_sales']+games ['jp_sales']+games ['other_sales']"
   ]
  },
  {
   "cell_type": "markdown",
   "id": "063d1b66",
   "metadata": {},
   "source": [
    "заполнены пропуски в данных у которых была возможность их заполнения и удалены строки у которых отсутствовала возможность заполнения пропусков. Из исходного датасета удалены 179 строк, что составляет 1% от исходных данных. Данные о продажах на разных рынках собраны в одном столбце."
   ]
  },
  {
   "cell_type": "markdown",
   "id": "4928358e",
   "metadata": {},
   "source": [
    "# 3. Проведение исследовательского анализа данных"
   ]
  },
  {
   "cell_type": "code",
   "execution_count": 24,
   "id": "923aa6a1",
   "metadata": {},
   "outputs": [
    {
     "data": {
      "text/plain": [
       "<AxesSubplot:xlabel='year_of_release'>"
      ]
     },
     "execution_count": 24,
     "metadata": {},
     "output_type": "execute_result"
    },
    {
     "data": {
      "image/png": "[encoded data removed]",
      "text/plain": [
       "<Figure size 432x288 with 1 Axes>"
      ]
     },
     "metadata": {
      "needs_background": "light"
     },
     "output_type": "display_data"
    }
   ],
   "source": [
    "games_grop_by_release_year =games.groupby('year_of_release')['total_sales'].sum().reset_index()\n",
    "games_grop_by_release_year.plot(kind = 'bar', x='year_of_release', y='total_sales')"
   ]
  },
  {
   "cell_type": "markdown",
   "id": "cf81d68f",
   "metadata": {},
   "source": [
    "Выпуск игр по годам неравномерный. Можно выделить 4 временных интервала в выходе игр на рынок 1980-1990 (стабильно малый), 1991-2001 (стабильный рост) 2002-2011 (\"игровой бум\") 2012-2016 (спад)."
   ]
  },
  {
   "cell_type": "code",
   "execution_count": 25,
   "id": "9b743cb9",
   "metadata": {},
   "outputs": [
    {
     "data": {
      "text/plain": [
       "<AxesSubplot:xlabel='platform', ylabel='year_of_release'>"
      ]
     },
     "execution_count": 25,
     "metadata": {},
     "output_type": "execute_result"
    },
    {
     "data": {
      "image/png": "[encoded data removed]",
      "text/plain": [
       "<Figure size 1440x720 with 1 Axes>"
      ]
     },
     "metadata": {
      "needs_background": "light"
     },
     "output_type": "display_data"
    }
   ],
   "source": [
    "games_grop_by_platform = games.groupby(by=['platform','year_of_release'])['total_sales'].sum().reset_index()\n",
    "games_grop_by_platform.sort_values(by='year_of_release', ascending=True, inplace=True)\n",
    "games_grop_by_platform.plot(kind = 'scatter', x= 'platform', y = 'year_of_release', figsize = (20, 10))"
   ]
  },
  {
   "cell_type": "code",
   "execution_count": 26,
   "id": "01f97b2b",
   "metadata": {},
   "outputs": [
    {
     "data": {
      "text/html": [
       "<div>\n",
       "<style scoped>\n",
       "    .dataframe tbody tr th:only-of-type {\n",
       "        vertical-align: middle;\n",
       "    }\n",
       "\n",
       "    .dataframe tbody tr th {\n",
       "        vertical-align: top;\n",
       "    }\n",
       "\n",
       "    .dataframe thead th {\n",
       "        text-align: right;\n",
       "    }\n",
       "</style>\n",
       "<table border=\"1\" class=\"dataframe\">\n",
       "  <thead>\n",
       "    <tr style=\"text-align: right;\">\n",
       "      <th></th>\n",
       "      <th>platform</th>\n",
       "      <th>year_of_release</th>\n",
       "      <th>total_sales</th>\n",
       "    </tr>\n",
       "  </thead>\n",
       "  <tbody>\n",
       "    <tr>\n",
       "      <th>0</th>\n",
       "      <td>2600</td>\n",
       "      <td>1980</td>\n",
       "      <td>11.38</td>\n",
       "    </tr>\n",
       "    <tr>\n",
       "      <th>1</th>\n",
       "      <td>2600</td>\n",
       "      <td>1981</td>\n",
       "      <td>35.68</td>\n",
       "    </tr>\n",
       "    <tr>\n",
       "      <th>2</th>\n",
       "      <td>2600</td>\n",
       "      <td>1982</td>\n",
       "      <td>28.88</td>\n",
       "    </tr>\n",
       "    <tr>\n",
       "      <th>3</th>\n",
       "      <td>2600</td>\n",
       "      <td>1983</td>\n",
       "      <td>5.84</td>\n",
       "    </tr>\n",
       "    <tr>\n",
       "      <th>80</th>\n",
       "      <td>NES</td>\n",
       "      <td>1983</td>\n",
       "      <td>10.96</td>\n",
       "    </tr>\n",
       "    <tr>\n",
       "      <th>...</th>\n",
       "      <td>...</td>\n",
       "      <td>...</td>\n",
       "      <td>...</td>\n",
       "    </tr>\n",
       "    <tr>\n",
       "      <th>228</th>\n",
       "      <td>X360</td>\n",
       "      <td>2016</td>\n",
       "      <td>1.52</td>\n",
       "    </tr>\n",
       "    <tr>\n",
       "      <th>121</th>\n",
       "      <td>PC</td>\n",
       "      <td>2016</td>\n",
       "      <td>5.25</td>\n",
       "    </tr>\n",
       "    <tr>\n",
       "      <th>19</th>\n",
       "      <td>3DS</td>\n",
       "      <td>2016</td>\n",
       "      <td>15.14</td>\n",
       "    </tr>\n",
       "    <tr>\n",
       "      <th>211</th>\n",
       "      <td>Wii</td>\n",
       "      <td>2016</td>\n",
       "      <td>0.18</td>\n",
       "    </tr>\n",
       "    <tr>\n",
       "      <th>241</th>\n",
       "      <td>XOne</td>\n",
       "      <td>2016</td>\n",
       "      <td>26.15</td>\n",
       "    </tr>\n",
       "  </tbody>\n",
       "</table>\n",
       "<p>242 rows × 3 columns</p>\n",
       "</div>"
      ],
      "text/plain": [
       "    platform  year_of_release  total_sales\n",
       "0       2600             1980        11.38\n",
       "1       2600             1981        35.68\n",
       "2       2600             1982        28.88\n",
       "3       2600             1983         5.84\n",
       "80       NES             1983        10.96\n",
       "..       ...              ...          ...\n",
       "228     X360             2016         1.52\n",
       "121       PC             2016         5.25\n",
       "19       3DS             2016        15.14\n",
       "211      Wii             2016         0.18\n",
       "241     XOne             2016        26.15\n",
       "\n",
       "[242 rows x 3 columns]"
      ]
     },
     "execution_count": 26,
     "metadata": {},
     "output_type": "execute_result"
    }
   ],
   "source": [
    "games_grop_by_platform"
   ]
  },
  {
   "cell_type": "code",
   "execution_count": 27,
   "id": "5265f4ae",
   "metadata": {},
   "outputs": [
    {
     "data": {
      "text/html": [
       "<div>\n",
       "<style scoped>\n",
       "    .dataframe tbody tr th:only-of-type {\n",
       "        vertical-align: middle;\n",
       "    }\n",
       "\n",
       "    .dataframe tbody tr th {\n",
       "        vertical-align: top;\n",
       "    }\n",
       "\n",
       "    .dataframe thead th {\n",
       "        text-align: right;\n",
       "    }\n",
       "</style>\n",
       "<table border=\"1\" class=\"dataframe\">\n",
       "  <thead>\n",
       "    <tr style=\"text-align: right;\">\n",
       "      <th></th>\n",
       "      <th>platform</th>\n",
       "      <th>total_sales</th>\n",
       "    </tr>\n",
       "  </thead>\n",
       "  <tbody>\n",
       "    <tr>\n",
       "      <th>16</th>\n",
       "      <td>PS2</td>\n",
       "      <td>1247.16</td>\n",
       "    </tr>\n",
       "    <tr>\n",
       "      <th>28</th>\n",
       "      <td>X360</td>\n",
       "      <td>966.61</td>\n",
       "    </tr>\n",
       "    <tr>\n",
       "      <th>17</th>\n",
       "      <td>PS3</td>\n",
       "      <td>935.19</td>\n",
       "    </tr>\n",
       "    <tr>\n",
       "      <th>26</th>\n",
       "      <td>Wii</td>\n",
       "      <td>903.31</td>\n",
       "    </tr>\n",
       "    <tr>\n",
       "      <th>4</th>\n",
       "      <td>DS</td>\n",
       "      <td>804.28</td>\n",
       "    </tr>\n",
       "    <tr>\n",
       "      <th>15</th>\n",
       "      <td>PS</td>\n",
       "      <td>727.58</td>\n",
       "    </tr>\n",
       "    <tr>\n",
       "      <th>18</th>\n",
       "      <td>PS4</td>\n",
       "      <td>314.14</td>\n",
       "    </tr>\n",
       "    <tr>\n",
       "      <th>6</th>\n",
       "      <td>GBA</td>\n",
       "      <td>313.73</td>\n",
       "    </tr>\n",
       "    <tr>\n",
       "      <th>19</th>\n",
       "      <td>PSP</td>\n",
       "      <td>293.57</td>\n",
       "    </tr>\n",
       "    <tr>\n",
       "      <th>13</th>\n",
       "      <td>PC</td>\n",
       "      <td>258.86</td>\n",
       "    </tr>\n",
       "    <tr>\n",
       "      <th>2</th>\n",
       "      <td>3DS</td>\n",
       "      <td>258.53</td>\n",
       "    </tr>\n",
       "    <tr>\n",
       "      <th>29</th>\n",
       "      <td>XB</td>\n",
       "      <td>256.69</td>\n",
       "    </tr>\n",
       "    <tr>\n",
       "      <th>5</th>\n",
       "      <td>GB</td>\n",
       "      <td>254.43</td>\n",
       "    </tr>\n",
       "    <tr>\n",
       "      <th>11</th>\n",
       "      <td>NES</td>\n",
       "      <td>251.05</td>\n",
       "    </tr>\n",
       "    <tr>\n",
       "      <th>10</th>\n",
       "      <td>N64</td>\n",
       "      <td>218.48</td>\n",
       "    </tr>\n",
       "    <tr>\n",
       "      <th>23</th>\n",
       "      <td>SNES</td>\n",
       "      <td>200.04</td>\n",
       "    </tr>\n",
       "    <tr>\n",
       "      <th>7</th>\n",
       "      <td>GC</td>\n",
       "      <td>198.66</td>\n",
       "    </tr>\n",
       "    <tr>\n",
       "      <th>30</th>\n",
       "      <td>XOne</td>\n",
       "      <td>159.32</td>\n",
       "    </tr>\n",
       "    <tr>\n",
       "      <th>0</th>\n",
       "      <td>2600</td>\n",
       "      <td>89.01</td>\n",
       "    </tr>\n",
       "    <tr>\n",
       "      <th>27</th>\n",
       "      <td>WiiU</td>\n",
       "      <td>82.19</td>\n",
       "    </tr>\n",
       "    <tr>\n",
       "      <th>20</th>\n",
       "      <td>PSV</td>\n",
       "      <td>53.81</td>\n",
       "    </tr>\n",
       "    <tr>\n",
       "      <th>21</th>\n",
       "      <td>SAT</td>\n",
       "      <td>33.59</td>\n",
       "    </tr>\n",
       "    <tr>\n",
       "      <th>8</th>\n",
       "      <td>GEN</td>\n",
       "      <td>28.35</td>\n",
       "    </tr>\n",
       "    <tr>\n",
       "      <th>3</th>\n",
       "      <td>DC</td>\n",
       "      <td>15.95</td>\n",
       "    </tr>\n",
       "    <tr>\n",
       "      <th>22</th>\n",
       "      <td>SCD</td>\n",
       "      <td>1.86</td>\n",
       "    </tr>\n",
       "    <tr>\n",
       "      <th>12</th>\n",
       "      <td>NG</td>\n",
       "      <td>1.44</td>\n",
       "    </tr>\n",
       "    <tr>\n",
       "      <th>25</th>\n",
       "      <td>WS</td>\n",
       "      <td>1.42</td>\n",
       "    </tr>\n",
       "    <tr>\n",
       "      <th>24</th>\n",
       "      <td>TG16</td>\n",
       "      <td>0.16</td>\n",
       "    </tr>\n",
       "    <tr>\n",
       "      <th>1</th>\n",
       "      <td>3DO</td>\n",
       "      <td>0.10</td>\n",
       "    </tr>\n",
       "    <tr>\n",
       "      <th>9</th>\n",
       "      <td>GG</td>\n",
       "      <td>0.04</td>\n",
       "    </tr>\n",
       "    <tr>\n",
       "      <th>14</th>\n",
       "      <td>PCFX</td>\n",
       "      <td>0.03</td>\n",
       "    </tr>\n",
       "  </tbody>\n",
       "</table>\n",
       "</div>"
      ],
      "text/plain": [
       "   platform  total_sales\n",
       "16      PS2      1247.16\n",
       "28     X360       966.61\n",
       "17      PS3       935.19\n",
       "26      Wii       903.31\n",
       "4        DS       804.28\n",
       "15       PS       727.58\n",
       "18      PS4       314.14\n",
       "6       GBA       313.73\n",
       "19      PSP       293.57\n",
       "13       PC       258.86\n",
       "2       3DS       258.53\n",
       "29       XB       256.69\n",
       "5        GB       254.43\n",
       "11      NES       251.05\n",
       "10      N64       218.48\n",
       "23     SNES       200.04\n",
       "7        GC       198.66\n",
       "30     XOne       159.32\n",
       "0      2600        89.01\n",
       "27     WiiU        82.19\n",
       "20      PSV        53.81\n",
       "21      SAT        33.59\n",
       "8       GEN        28.35\n",
       "3        DC        15.95\n",
       "22      SCD         1.86\n",
       "12       NG         1.44\n",
       "25       WS         1.42\n",
       "24     TG16         0.16\n",
       "1       3DO         0.10\n",
       "9        GG         0.04\n",
       "14     PCFX         0.03"
      ]
     },
     "execution_count": 27,
     "metadata": {},
     "output_type": "execute_result"
    }
   ],
   "source": [
    "games_grop_by_platform1 = games.groupby(by='platform')['total_sales'].sum().reset_index().sort_values(by='total_sales', ascending = False)\n",
    "games_grop_by_platform1"
   ]
  },
  {
   "cell_type": "code",
   "execution_count": 28,
   "id": "5c2c61e4",
   "metadata": {},
   "outputs": [
    {
     "data": {
      "text/html": [
       "<div>\n",
       "<style scoped>\n",
       "    .dataframe tbody tr th:only-of-type {\n",
       "        vertical-align: middle;\n",
       "    }\n",
       "\n",
       "    .dataframe tbody tr th {\n",
       "        vertical-align: top;\n",
       "    }\n",
       "\n",
       "    .dataframe thead th {\n",
       "        text-align: right;\n",
       "    }\n",
       "</style>\n",
       "<table border=\"1\" class=\"dataframe\">\n",
       "  <thead>\n",
       "    <tr style=\"text-align: right;\">\n",
       "      <th></th>\n",
       "      <th>platform</th>\n",
       "      <th>total_sales</th>\n",
       "    </tr>\n",
       "  </thead>\n",
       "  <tbody>\n",
       "    <tr>\n",
       "      <th>16</th>\n",
       "      <td>PS2</td>\n",
       "      <td>1247.16</td>\n",
       "    </tr>\n",
       "    <tr>\n",
       "      <th>28</th>\n",
       "      <td>X360</td>\n",
       "      <td>966.61</td>\n",
       "    </tr>\n",
       "    <tr>\n",
       "      <th>17</th>\n",
       "      <td>PS3</td>\n",
       "      <td>935.19</td>\n",
       "    </tr>\n",
       "    <tr>\n",
       "      <th>26</th>\n",
       "      <td>Wii</td>\n",
       "      <td>903.31</td>\n",
       "    </tr>\n",
       "    <tr>\n",
       "      <th>4</th>\n",
       "      <td>DS</td>\n",
       "      <td>804.28</td>\n",
       "    </tr>\n",
       "    <tr>\n",
       "      <th>15</th>\n",
       "      <td>PS</td>\n",
       "      <td>727.58</td>\n",
       "    </tr>\n",
       "    <tr>\n",
       "      <th>18</th>\n",
       "      <td>PS4</td>\n",
       "      <td>314.14</td>\n",
       "    </tr>\n",
       "    <tr>\n",
       "      <th>6</th>\n",
       "      <td>GBA</td>\n",
       "      <td>313.73</td>\n",
       "    </tr>\n",
       "    <tr>\n",
       "      <th>19</th>\n",
       "      <td>PSP</td>\n",
       "      <td>293.57</td>\n",
       "    </tr>\n",
       "    <tr>\n",
       "      <th>13</th>\n",
       "      <td>PC</td>\n",
       "      <td>258.86</td>\n",
       "    </tr>\n",
       "  </tbody>\n",
       "</table>\n",
       "</div>"
      ],
      "text/plain": [
       "   platform  total_sales\n",
       "16      PS2      1247.16\n",
       "28     X360       966.61\n",
       "17      PS3       935.19\n",
       "26      Wii       903.31\n",
       "4        DS       804.28\n",
       "15       PS       727.58\n",
       "18      PS4       314.14\n",
       "6       GBA       313.73\n",
       "19      PSP       293.57\n",
       "13       PC       258.86"
      ]
     },
     "execution_count": 28,
     "metadata": {},
     "output_type": "execute_result"
    }
   ],
   "source": [
    "top_10_platform = games_grop_by_platform1.head(10)\n",
    "top_10_platform"
   ]
  },
  {
   "cell_type": "code",
   "execution_count": 29,
   "id": "4fd42100",
   "metadata": {},
   "outputs": [
    {
     "data": {
      "text/plain": [
       "platform\n",
       "DS      AxesSubplot(0.125,0.125;0.775x0.755)\n",
       "GBA     AxesSubplot(0.125,0.125;0.775x0.755)\n",
       "PC      AxesSubplot(0.125,0.125;0.775x0.755)\n",
       "PS      AxesSubplot(0.125,0.125;0.775x0.755)\n",
       "PS2     AxesSubplot(0.125,0.125;0.775x0.755)\n",
       "PS3     AxesSubplot(0.125,0.125;0.775x0.755)\n",
       "PS4     AxesSubplot(0.125,0.125;0.775x0.755)\n",
       "PSP     AxesSubplot(0.125,0.125;0.775x0.755)\n",
       "Wii     AxesSubplot(0.125,0.125;0.775x0.755)\n",
       "X360    AxesSubplot(0.125,0.125;0.775x0.755)\n",
       "Name: total_sales, dtype: object"
      ]
     },
     "execution_count": 29,
     "metadata": {},
     "output_type": "execute_result"
    },
    {
     "data": {
      "image/png": "[encoded data removed]",
      "text/plain": [
       "<Figure size 1440x720 with 1 Axes>"
      ]
     },
     "metadata": {
      "needs_background": "light"
     },
     "output_type": "display_data"
    }
   ],
   "source": [
    "games_grop_by_platform.query('platform in @top_10_platform.platform').sort_values(by='year_of_release', ascending=True).set_index('year_of_release').groupby('platform').total_sales.plot(ylabel = 'total_sales', legend = 'platform', figsize=(20,10), grid=True)"
   ]
  },
  {
   "cell_type": "markdown",
   "id": "2fbfd351",
   "metadata": {},
   "source": [
    "Время жизни платформ преимущественно составляет 12 лет. Однако для дальнейшего анализа возьмем данные за период 2013-2016 гг (с учетом того, что с 2011 года происходит падение продаж и платформы растут в продажах 3-4 года). К 2016 году из ТОП 10 платформ (с наибольшими продажами за весь период наблюдения) остались PS4, PS3, PC, X360 (на них в 2016 году выходили и продавались релизы игр)."
   ]
  },
  {
   "cell_type": "code",
   "execution_count": 31,
   "id": "b75915f6",
   "metadata": {},
   "outputs": [
    {
     "name": "stdout",
     "output_type": "stream",
     "text": [
      "<class 'pandas.core.frame.DataFrame'>\n",
      "Int64Index: 2237 entries, 16 to 16566\n",
      "Data columns (total 12 columns):\n",
      " #   Column           Non-Null Count  Dtype  \n",
      "---  ------           --------------  -----  \n",
      " 0   name             2237 non-null   object \n",
      " 1   platform         2237 non-null   object \n",
      " 2   year_of_release  2237 non-null   int64  \n",
      " 3   genre            2237 non-null   object \n",
      " 4   na_sales         2237 non-null   float64\n",
      " 5   eu_sales         2237 non-null   float64\n",
      " 6   jp_sales         2237 non-null   float64\n",
      " 7   other_sales      2237 non-null   float64\n",
      " 8   critic_score     1329 non-null   float64\n",
      " 9   user_score       1372 non-null   float64\n",
      " 10  rating           2237 non-null   object \n",
      " 11  total_sales      2237 non-null   float64\n",
      "dtypes: float64(7), int64(1), object(4)\n",
      "memory usage: 227.2+ KB\n"
     ]
    }
   ],
   "source": [
    "games_from_2013_to_2016 = games.query('year_of_release>=2013 and total_sales>0')\n",
    "games_from_2013_to_2016.info()"
   ]
  },
  {
   "cell_type": "code",
   "execution_count": 32,
   "id": "94a32824",
   "metadata": {},
   "outputs": [
    {
     "data": {
      "text/html": [
       "<div>\n",
       "<style scoped>\n",
       "    .dataframe tbody tr th:only-of-type {\n",
       "        vertical-align: middle;\n",
       "    }\n",
       "\n",
       "    .dataframe tbody tr th {\n",
       "        vertical-align: top;\n",
       "    }\n",
       "\n",
       "    .dataframe thead th {\n",
       "        text-align: right;\n",
       "    }\n",
       "</style>\n",
       "<table border=\"1\" class=\"dataframe\">\n",
       "  <thead>\n",
       "    <tr style=\"text-align: right;\">\n",
       "      <th></th>\n",
       "      <th>platform</th>\n",
       "      <th>year_of_release</th>\n",
       "      <th>total_sales</th>\n",
       "    </tr>\n",
       "  </thead>\n",
       "  <tbody>\n",
       "    <tr>\n",
       "      <th>0</th>\n",
       "      <td>3DS</td>\n",
       "      <td>2013</td>\n",
       "      <td>56.57</td>\n",
       "    </tr>\n",
       "    <tr>\n",
       "      <th>1</th>\n",
       "      <td>3DS</td>\n",
       "      <td>2014</td>\n",
       "      <td>43.76</td>\n",
       "    </tr>\n",
       "    <tr>\n",
       "      <th>2</th>\n",
       "      <td>3DS</td>\n",
       "      <td>2015</td>\n",
       "      <td>27.78</td>\n",
       "    </tr>\n",
       "    <tr>\n",
       "      <th>3</th>\n",
       "      <td>3DS</td>\n",
       "      <td>2016</td>\n",
       "      <td>15.14</td>\n",
       "    </tr>\n",
       "    <tr>\n",
       "      <th>4</th>\n",
       "      <td>DS</td>\n",
       "      <td>2013</td>\n",
       "      <td>1.54</td>\n",
       "    </tr>\n",
       "    <tr>\n",
       "      <th>5</th>\n",
       "      <td>PC</td>\n",
       "      <td>2013</td>\n",
       "      <td>12.66</td>\n",
       "    </tr>\n",
       "    <tr>\n",
       "      <th>6</th>\n",
       "      <td>PC</td>\n",
       "      <td>2014</td>\n",
       "      <td>13.63</td>\n",
       "    </tr>\n",
       "    <tr>\n",
       "      <th>7</th>\n",
       "      <td>PC</td>\n",
       "      <td>2015</td>\n",
       "      <td>8.52</td>\n",
       "    </tr>\n",
       "    <tr>\n",
       "      <th>8</th>\n",
       "      <td>PC</td>\n",
       "      <td>2016</td>\n",
       "      <td>5.25</td>\n",
       "    </tr>\n",
       "    <tr>\n",
       "      <th>9</th>\n",
       "      <td>PS3</td>\n",
       "      <td>2013</td>\n",
       "      <td>113.25</td>\n",
       "    </tr>\n",
       "    <tr>\n",
       "      <th>10</th>\n",
       "      <td>PS3</td>\n",
       "      <td>2014</td>\n",
       "      <td>47.76</td>\n",
       "    </tr>\n",
       "    <tr>\n",
       "      <th>11</th>\n",
       "      <td>PS3</td>\n",
       "      <td>2015</td>\n",
       "      <td>16.82</td>\n",
       "    </tr>\n",
       "    <tr>\n",
       "      <th>12</th>\n",
       "      <td>PS3</td>\n",
       "      <td>2016</td>\n",
       "      <td>3.60</td>\n",
       "    </tr>\n",
       "    <tr>\n",
       "      <th>13</th>\n",
       "      <td>PS4</td>\n",
       "      <td>2013</td>\n",
       "      <td>25.99</td>\n",
       "    </tr>\n",
       "    <tr>\n",
       "      <th>14</th>\n",
       "      <td>PS4</td>\n",
       "      <td>2014</td>\n",
       "      <td>100.00</td>\n",
       "    </tr>\n",
       "    <tr>\n",
       "      <th>15</th>\n",
       "      <td>PS4</td>\n",
       "      <td>2015</td>\n",
       "      <td>118.90</td>\n",
       "    </tr>\n",
       "    <tr>\n",
       "      <th>16</th>\n",
       "      <td>PS4</td>\n",
       "      <td>2016</td>\n",
       "      <td>69.25</td>\n",
       "    </tr>\n",
       "    <tr>\n",
       "      <th>17</th>\n",
       "      <td>PSP</td>\n",
       "      <td>2013</td>\n",
       "      <td>3.38</td>\n",
       "    </tr>\n",
       "    <tr>\n",
       "      <th>18</th>\n",
       "      <td>PSP</td>\n",
       "      <td>2014</td>\n",
       "      <td>0.24</td>\n",
       "    </tr>\n",
       "    <tr>\n",
       "      <th>19</th>\n",
       "      <td>PSP</td>\n",
       "      <td>2015</td>\n",
       "      <td>0.12</td>\n",
       "    </tr>\n",
       "    <tr>\n",
       "      <th>20</th>\n",
       "      <td>PSV</td>\n",
       "      <td>2013</td>\n",
       "      <td>10.59</td>\n",
       "    </tr>\n",
       "    <tr>\n",
       "      <th>21</th>\n",
       "      <td>PSV</td>\n",
       "      <td>2014</td>\n",
       "      <td>11.90</td>\n",
       "    </tr>\n",
       "    <tr>\n",
       "      <th>22</th>\n",
       "      <td>PSV</td>\n",
       "      <td>2015</td>\n",
       "      <td>6.25</td>\n",
       "    </tr>\n",
       "    <tr>\n",
       "      <th>23</th>\n",
       "      <td>PSV</td>\n",
       "      <td>2016</td>\n",
       "      <td>4.25</td>\n",
       "    </tr>\n",
       "    <tr>\n",
       "      <th>24</th>\n",
       "      <td>Wii</td>\n",
       "      <td>2013</td>\n",
       "      <td>8.59</td>\n",
       "    </tr>\n",
       "    <tr>\n",
       "      <th>25</th>\n",
       "      <td>Wii</td>\n",
       "      <td>2014</td>\n",
       "      <td>3.75</td>\n",
       "    </tr>\n",
       "    <tr>\n",
       "      <th>26</th>\n",
       "      <td>Wii</td>\n",
       "      <td>2015</td>\n",
       "      <td>1.14</td>\n",
       "    </tr>\n",
       "    <tr>\n",
       "      <th>27</th>\n",
       "      <td>Wii</td>\n",
       "      <td>2016</td>\n",
       "      <td>0.18</td>\n",
       "    </tr>\n",
       "    <tr>\n",
       "      <th>28</th>\n",
       "      <td>WiiU</td>\n",
       "      <td>2013</td>\n",
       "      <td>21.65</td>\n",
       "    </tr>\n",
       "    <tr>\n",
       "      <th>29</th>\n",
       "      <td>WiiU</td>\n",
       "      <td>2014</td>\n",
       "      <td>22.03</td>\n",
       "    </tr>\n",
       "    <tr>\n",
       "      <th>30</th>\n",
       "      <td>WiiU</td>\n",
       "      <td>2015</td>\n",
       "      <td>16.35</td>\n",
       "    </tr>\n",
       "    <tr>\n",
       "      <th>31</th>\n",
       "      <td>WiiU</td>\n",
       "      <td>2016</td>\n",
       "      <td>4.60</td>\n",
       "    </tr>\n",
       "    <tr>\n",
       "      <th>32</th>\n",
       "      <td>X360</td>\n",
       "      <td>2013</td>\n",
       "      <td>88.58</td>\n",
       "    </tr>\n",
       "    <tr>\n",
       "      <th>33</th>\n",
       "      <td>X360</td>\n",
       "      <td>2014</td>\n",
       "      <td>34.74</td>\n",
       "    </tr>\n",
       "    <tr>\n",
       "      <th>34</th>\n",
       "      <td>X360</td>\n",
       "      <td>2015</td>\n",
       "      <td>11.96</td>\n",
       "    </tr>\n",
       "    <tr>\n",
       "      <th>35</th>\n",
       "      <td>X360</td>\n",
       "      <td>2016</td>\n",
       "      <td>1.52</td>\n",
       "    </tr>\n",
       "    <tr>\n",
       "      <th>36</th>\n",
       "      <td>XOne</td>\n",
       "      <td>2013</td>\n",
       "      <td>18.96</td>\n",
       "    </tr>\n",
       "    <tr>\n",
       "      <th>37</th>\n",
       "      <td>XOne</td>\n",
       "      <td>2014</td>\n",
       "      <td>54.07</td>\n",
       "    </tr>\n",
       "    <tr>\n",
       "      <th>38</th>\n",
       "      <td>XOne</td>\n",
       "      <td>2015</td>\n",
       "      <td>60.14</td>\n",
       "    </tr>\n",
       "    <tr>\n",
       "      <th>39</th>\n",
       "      <td>XOne</td>\n",
       "      <td>2016</td>\n",
       "      <td>26.15</td>\n",
       "    </tr>\n",
       "  </tbody>\n",
       "</table>\n",
       "</div>"
      ],
      "text/plain": [
       "   platform  year_of_release  total_sales\n",
       "0       3DS             2013        56.57\n",
       "1       3DS             2014        43.76\n",
       "2       3DS             2015        27.78\n",
       "3       3DS             2016        15.14\n",
       "4        DS             2013         1.54\n",
       "5        PC             2013        12.66\n",
       "6        PC             2014        13.63\n",
       "7        PC             2015         8.52\n",
       "8        PC             2016         5.25\n",
       "9       PS3             2013       113.25\n",
       "10      PS3             2014        47.76\n",
       "11      PS3             2015        16.82\n",
       "12      PS3             2016         3.60\n",
       "13      PS4             2013        25.99\n",
       "14      PS4             2014       100.00\n",
       "15      PS4             2015       118.90\n",
       "16      PS4             2016        69.25\n",
       "17      PSP             2013         3.38\n",
       "18      PSP             2014         0.24\n",
       "19      PSP             2015         0.12\n",
       "20      PSV             2013        10.59\n",
       "21      PSV             2014        11.90\n",
       "22      PSV             2015         6.25\n",
       "23      PSV             2016         4.25\n",
       "24      Wii             2013         8.59\n",
       "25      Wii             2014         3.75\n",
       "26      Wii             2015         1.14\n",
       "27      Wii             2016         0.18\n",
       "28     WiiU             2013        21.65\n",
       "29     WiiU             2014        22.03\n",
       "30     WiiU             2015        16.35\n",
       "31     WiiU             2016         4.60\n",
       "32     X360             2013        88.58\n",
       "33     X360             2014        34.74\n",
       "34     X360             2015        11.96\n",
       "35     X360             2016         1.52\n",
       "36     XOne             2013        18.96\n",
       "37     XOne             2014        54.07\n",
       "38     XOne             2015        60.14\n",
       "39     XOne             2016        26.15"
      ]
     },
     "execution_count": 32,
     "metadata": {},
     "output_type": "execute_result"
    }
   ],
   "source": [
    "games_from_2013_to_2016_gb_platform = games_from_2013_to_2016.groupby(by=['platform', 'year_of_release'])['total_sales'].sum().reset_index()\n",
    "games_from_2013_to_2016_gb_platform"
   ]
  },
  {
   "cell_type": "code",
   "execution_count": 33,
   "id": "b87a7336",
   "metadata": {},
   "outputs": [
    {
     "data": {
      "text/html": [
       "<div>\n",
       "<style scoped>\n",
       "    .dataframe tbody tr th:only-of-type {\n",
       "        vertical-align: middle;\n",
       "    }\n",
       "\n",
       "    .dataframe tbody tr th {\n",
       "        vertical-align: top;\n",
       "    }\n",
       "\n",
       "    .dataframe thead th {\n",
       "        text-align: right;\n",
       "    }\n",
       "</style>\n",
       "<table border=\"1\" class=\"dataframe\">\n",
       "  <thead>\n",
       "    <tr style=\"text-align: right;\">\n",
       "      <th></th>\n",
       "      <th>platform</th>\n",
       "      <th>total_sales</th>\n",
       "    </tr>\n",
       "  </thead>\n",
       "  <tbody>\n",
       "    <tr>\n",
       "      <th>4</th>\n",
       "      <td>PS4</td>\n",
       "      <td>314.14</td>\n",
       "    </tr>\n",
       "    <tr>\n",
       "      <th>3</th>\n",
       "      <td>PS3</td>\n",
       "      <td>181.43</td>\n",
       "    </tr>\n",
       "    <tr>\n",
       "      <th>10</th>\n",
       "      <td>XOne</td>\n",
       "      <td>159.32</td>\n",
       "    </tr>\n",
       "    <tr>\n",
       "      <th>0</th>\n",
       "      <td>3DS</td>\n",
       "      <td>143.25</td>\n",
       "    </tr>\n",
       "    <tr>\n",
       "      <th>9</th>\n",
       "      <td>X360</td>\n",
       "      <td>136.80</td>\n",
       "    </tr>\n",
       "    <tr>\n",
       "      <th>8</th>\n",
       "      <td>WiiU</td>\n",
       "      <td>64.63</td>\n",
       "    </tr>\n",
       "    <tr>\n",
       "      <th>2</th>\n",
       "      <td>PC</td>\n",
       "      <td>40.06</td>\n",
       "    </tr>\n",
       "    <tr>\n",
       "      <th>6</th>\n",
       "      <td>PSV</td>\n",
       "      <td>32.99</td>\n",
       "    </tr>\n",
       "    <tr>\n",
       "      <th>7</th>\n",
       "      <td>Wii</td>\n",
       "      <td>13.66</td>\n",
       "    </tr>\n",
       "    <tr>\n",
       "      <th>5</th>\n",
       "      <td>PSP</td>\n",
       "      <td>3.74</td>\n",
       "    </tr>\n",
       "    <tr>\n",
       "      <th>1</th>\n",
       "      <td>DS</td>\n",
       "      <td>1.54</td>\n",
       "    </tr>\n",
       "  </tbody>\n",
       "</table>\n",
       "</div>"
      ],
      "text/plain": [
       "   platform  total_sales\n",
       "4       PS4       314.14\n",
       "3       PS3       181.43\n",
       "10     XOne       159.32\n",
       "0       3DS       143.25\n",
       "9      X360       136.80\n",
       "8      WiiU        64.63\n",
       "2        PC        40.06\n",
       "6       PSV        32.99\n",
       "7       Wii        13.66\n",
       "5       PSP         3.74\n",
       "1        DS         1.54"
      ]
     },
     "execution_count": 33,
     "metadata": {},
     "output_type": "execute_result"
    }
   ],
   "source": [
    "games_from_2013_to_2016_gb_platform1=games_from_2013_to_2016.groupby('platform')['total_sales'].sum().reset_index().sort_values('total_sales', ascending=False)\n",
    "games_from_2013_to_2016_gb_platform1"
   ]
  },
  {
   "cell_type": "code",
   "execution_count": 34,
   "id": "5bc4f60b",
   "metadata": {},
   "outputs": [
    {
     "data": {
      "text/plain": [
       "platform\n",
       "3DS     AxesSubplot(0.125,0.125;0.775x0.755)\n",
       "DS      AxesSubplot(0.125,0.125;0.775x0.755)\n",
       "PC      AxesSubplot(0.125,0.125;0.775x0.755)\n",
       "PS3     AxesSubplot(0.125,0.125;0.775x0.755)\n",
       "PS4     AxesSubplot(0.125,0.125;0.775x0.755)\n",
       "PSP     AxesSubplot(0.125,0.125;0.775x0.755)\n",
       "PSV     AxesSubplot(0.125,0.125;0.775x0.755)\n",
       "Wii     AxesSubplot(0.125,0.125;0.775x0.755)\n",
       "WiiU    AxesSubplot(0.125,0.125;0.775x0.755)\n",
       "X360    AxesSubplot(0.125,0.125;0.775x0.755)\n",
       "XOne    AxesSubplot(0.125,0.125;0.775x0.755)\n",
       "Name: total_sales, dtype: object"
      ]
     },
     "execution_count": 34,
     "metadata": {},
     "output_type": "execute_result"
    },
    {
     "data": {
      "image/png": "[encoded data removed]",
      "text/plain": [
       "<Figure size 1440x720 with 1 Axes>"
      ]
     },
     "metadata": {
      "needs_background": "light"
     },
     "output_type": "display_data"
    }
   ],
   "source": [
    "games_from_2013_to_2016_gb_platform.set_index('year_of_release').groupby('platform').total_sales.plot(ylabel = 'total_sales', legend = 'platform', figsize=(20,10), grid=True)"
   ]
  },
  {
   "cell_type": "markdown",
   "id": "0533e5fc",
   "metadata": {},
   "source": [
    "В 2013 - 2016 годах (с учетом того что в 2016 году данные предположительно неполные) предположительно набирали обороты платформы PS4 и XOne. Игры на платформе PSP перестали выходить и продаваться в 2015 году. Игры на платформе Wii имеют нулевые продажи в 2016 году. Остальные платформы к 2016 году имеют снижение продаж.  "
   ]
  },
  {
   "cell_type": "code",
   "execution_count": 35,
   "id": "de64252c",
   "metadata": {},
   "outputs": [
    {
     "data": {
      "image/png": "[encoded data removed]",
      "text/plain": [
       "<Figure size 1440x720 with 1 Axes>"
      ]
     },
     "metadata": {
      "needs_background": "light"
     },
     "output_type": "display_data"
    }
   ],
   "source": [
    "axes = games_from_2013_to_2016.boxplot(column=['total_sales'], by=['platform'], figsize=(20,10), return_type='axes', grid=True)\n",
    "\n",
    "for ax in axes:\n",
    "    ax.set_ylim(0,2)\n",
    "    \n",
    "plt.show()"
   ]
  },
  {
   "cell_type": "code",
   "execution_count": 36,
   "id": "ad73fee5",
   "metadata": {},
   "outputs": [
    {
     "data": {
      "text/html": [
       "<div>\n",
       "<style scoped>\n",
       "    .dataframe tbody tr th:only-of-type {\n",
       "        vertical-align: middle;\n",
       "    }\n",
       "\n",
       "    .dataframe tbody tr th {\n",
       "        vertical-align: top;\n",
       "    }\n",
       "\n",
       "    .dataframe thead th {\n",
       "        text-align: right;\n",
       "    }\n",
       "</style>\n",
       "<table border=\"1\" class=\"dataframe\">\n",
       "  <thead>\n",
       "    <tr style=\"text-align: right;\">\n",
       "      <th></th>\n",
       "      <th>year_of_release</th>\n",
       "      <th>na_sales</th>\n",
       "      <th>eu_sales</th>\n",
       "      <th>jp_sales</th>\n",
       "      <th>other_sales</th>\n",
       "      <th>critic_score</th>\n",
       "      <th>user_score</th>\n",
       "      <th>total_sales</th>\n",
       "    </tr>\n",
       "  </thead>\n",
       "  <tbody>\n",
       "    <tr>\n",
       "      <th>count</th>\n",
       "      <td>2237.000000</td>\n",
       "      <td>2237.000000</td>\n",
       "      <td>2237.000000</td>\n",
       "      <td>2237.000000</td>\n",
       "      <td>2237.000000</td>\n",
       "      <td>1329.000000</td>\n",
       "      <td>1372.000000</td>\n",
       "      <td>2237.000000</td>\n",
       "    </tr>\n",
       "    <tr>\n",
       "      <th>mean</th>\n",
       "      <td>2014.475190</td>\n",
       "      <td>0.195704</td>\n",
       "      <td>0.175552</td>\n",
       "      <td>0.063040</td>\n",
       "      <td>0.053661</td>\n",
       "      <td>71.943787</td>\n",
       "      <td>6.602483</td>\n",
       "      <td>0.487957</td>\n",
       "    </tr>\n",
       "    <tr>\n",
       "      <th>std</th>\n",
       "      <td>1.089853</td>\n",
       "      <td>0.547291</td>\n",
       "      <td>0.512013</td>\n",
       "      <td>0.233829</td>\n",
       "      <td>0.165553</td>\n",
       "      <td>13.374518</td>\n",
       "      <td>1.607371</td>\n",
       "      <td>1.234181</td>\n",
       "    </tr>\n",
       "    <tr>\n",
       "      <th>min</th>\n",
       "      <td>2013.000000</td>\n",
       "      <td>0.000000</td>\n",
       "      <td>0.000000</td>\n",
       "      <td>0.000000</td>\n",
       "      <td>0.000000</td>\n",
       "      <td>13.000000</td>\n",
       "      <td>0.200000</td>\n",
       "      <td>0.010000</td>\n",
       "    </tr>\n",
       "    <tr>\n",
       "      <th>25%</th>\n",
       "      <td>2014.000000</td>\n",
       "      <td>0.000000</td>\n",
       "      <td>0.000000</td>\n",
       "      <td>0.000000</td>\n",
       "      <td>0.000000</td>\n",
       "      <td>66.000000</td>\n",
       "      <td>5.737500</td>\n",
       "      <td>0.030000</td>\n",
       "    </tr>\n",
       "    <tr>\n",
       "      <th>50%</th>\n",
       "      <td>2014.000000</td>\n",
       "      <td>0.020000</td>\n",
       "      <td>0.030000</td>\n",
       "      <td>0.010000</td>\n",
       "      <td>0.010000</td>\n",
       "      <td>74.000000</td>\n",
       "      <td>7.000000</td>\n",
       "      <td>0.110000</td>\n",
       "    </tr>\n",
       "    <tr>\n",
       "      <th>75%</th>\n",
       "      <td>2015.000000</td>\n",
       "      <td>0.150000</td>\n",
       "      <td>0.130000</td>\n",
       "      <td>0.050000</td>\n",
       "      <td>0.040000</td>\n",
       "      <td>81.000000</td>\n",
       "      <td>7.800000</td>\n",
       "      <td>0.400000</td>\n",
       "    </tr>\n",
       "    <tr>\n",
       "      <th>max</th>\n",
       "      <td>2016.000000</td>\n",
       "      <td>9.660000</td>\n",
       "      <td>9.090000</td>\n",
       "      <td>4.350000</td>\n",
       "      <td>3.960000</td>\n",
       "      <td>97.000000</td>\n",
       "      <td>9.300000</td>\n",
       "      <td>21.050000</td>\n",
       "    </tr>\n",
       "  </tbody>\n",
       "</table>\n",
       "</div>"
      ],
      "text/plain": [
       "       year_of_release     na_sales     eu_sales     jp_sales  other_sales  \\\n",
       "count      2237.000000  2237.000000  2237.000000  2237.000000  2237.000000   \n",
       "mean       2014.475190     0.195704     0.175552     0.063040     0.053661   \n",
       "std           1.089853     0.547291     0.512013     0.233829     0.165553   \n",
       "min        2013.000000     0.000000     0.000000     0.000000     0.000000   \n",
       "25%        2014.000000     0.000000     0.000000     0.000000     0.000000   \n",
       "50%        2014.000000     0.020000     0.030000     0.010000     0.010000   \n",
       "75%        2015.000000     0.150000     0.130000     0.050000     0.040000   \n",
       "max        2016.000000     9.660000     9.090000     4.350000     3.960000   \n",
       "\n",
       "       critic_score   user_score  total_sales  \n",
       "count   1329.000000  1372.000000  2237.000000  \n",
       "mean      71.943787     6.602483     0.487957  \n",
       "std       13.374518     1.607371     1.234181  \n",
       "min       13.000000     0.200000     0.010000  \n",
       "25%       66.000000     5.737500     0.030000  \n",
       "50%       74.000000     7.000000     0.110000  \n",
       "75%       81.000000     7.800000     0.400000  \n",
       "max       97.000000     9.300000    21.050000  "
      ]
     },
     "execution_count": 36,
     "metadata": {},
     "output_type": "execute_result"
    }
   ],
   "source": [
    "games_from_2013_to_2016.describe()"
   ]
  },
  {
   "cell_type": "markdown",
   "id": "d52f41b7",
   "metadata": {},
   "source": [
    "Данные по продажам в разрезе платформ распределены не равномерно, и характеризуется большим количеством выбросов (бестселлеров) и большим стандартным отклонением 1,5 млн. копий. Об этом говорят данные статистических показателей выборки медиана и значительно меньше среднего. Среднее находится выше 75 % всех результатов (3 квартиля). В основном продажи составляют от 0.06 млн. копий до 0,75 млн. копий."
   ]
  },
  {
   "cell_type": "code",
   "execution_count": 37,
   "id": "9f90b95a",
   "metadata": {},
   "outputs": [],
   "source": [
    "x_360_data = games_from_2013_to_2016.query('platform==\"X360\"')"
   ]
  },
  {
   "cell_type": "code",
   "execution_count": 38,
   "id": "74b39eef",
   "metadata": {},
   "outputs": [
    {
     "data": {
      "text/plain": [
       "<AxesSubplot:xlabel='total_sales', ylabel='user_score'>"
      ]
     },
     "execution_count": 38,
     "metadata": {},
     "output_type": "execute_result"
    },
    {
     "data": {
      "image/png": "[encoded data removed]",
      "text/plain": [
       "<Figure size 432x288 with 1 Axes>"
      ]
     },
     "metadata": {
      "needs_background": "light"
     },
     "output_type": "display_data"
    },
    {
     "data": {
      "image/png": "[encoded data removed]",
      "text/plain": [
       "<Figure size 432x288 with 1 Axes>"
      ]
     },
     "metadata": {
      "needs_background": "light"
     },
     "output_type": "display_data"
    }
   ],
   "source": [
    "x_360_data.plot(kind='scatter', x='total_sales', y='critic_score', grid=True)\n",
    "x_360_data.boxplot(column=['total_sales'], vert=False)\n",
    "x_360_data.plot(kind='scatter', x='total_sales', y='user_score')\n",
    "x_360_data.boxplot(column=['total_sales'], vert=False)"
   ]
  },
  {
   "cell_type": "code",
   "execution_count": 39,
   "id": "8a1883fd",
   "metadata": {},
   "outputs": [
    {
     "data": {
      "text/plain": [
       "0.2961991906201606"
      ]
     },
     "execution_count": 39,
     "metadata": {},
     "output_type": "execute_result"
    }
   ],
   "source": [
    "x_360_data['total_sales'].corr(x_360_data['critic_score'])"
   ]
  },
  {
   "cell_type": "code",
   "execution_count": 40,
   "id": "5369802d",
   "metadata": {},
   "outputs": [
    {
     "data": {
      "text/plain": [
       "-0.007494619297380101"
      ]
     },
     "execution_count": 40,
     "metadata": {},
     "output_type": "execute_result"
    }
   ],
   "source": [
    "x_360_data['total_sales'].corr(x_360_data['user_score'])"
   ]
  },
  {
   "cell_type": "markdown",
   "id": "9492731d",
   "metadata": {},
   "source": [
    "По диаграммам рассеяния и коэффициентам корреляции видно, что для платформы X360 между продажами и отзывами критиков существует средняя линейная связь. Линейная зависимость между продажами и отзывами пользователей отстутствует. Значения имеют большое рассеяние и  попадают во треугольный флаг, имеющий прикреплений к оси У длинная сторона которого следует наискосок от значения у=1,5 к значению у=9,5 вдоль оси х."
   ]
  },
  {
   "cell_type": "code",
   "execution_count": 41,
   "id": "8e3cd586",
   "metadata": {},
   "outputs": [
    {
     "data": {
      "text/plain": [
       "0.29806842287627555"
      ]
     },
     "execution_count": 41,
     "metadata": {},
     "output_type": "execute_result"
    }
   ],
   "source": [
    "games_from_2013_to_2016['total_sales'].corr(games_from_2013_to_2016['critic_score'])"
   ]
  },
  {
   "cell_type": "code",
   "execution_count": 42,
   "id": "5e18c4f0",
   "metadata": {},
   "outputs": [
    {
     "data": {
      "text/plain": [
       "0.00996999018501519"
      ]
     },
     "execution_count": 42,
     "metadata": {},
     "output_type": "execute_result"
    }
   ],
   "source": [
    "games_from_2013_to_2016['total_sales'].corr(games_from_2013_to_2016['user_score'])"
   ]
  },
  {
   "cell_type": "code",
   "execution_count": 43,
   "id": "b29c65af",
   "metadata": {},
   "outputs": [
    {
     "data": {
      "text/plain": [
       "<AxesSubplot:xlabel='total_sales', ylabel='critic_score'>"
      ]
     },
     "execution_count": 43,
     "metadata": {},
     "output_type": "execute_result"
    },
    {
     "data": {
      "image/png": "[encoded data removed]",
      "text/plain": [
       "<Figure size 432x288 with 1 Axes>"
      ]
     },
     "metadata": {
      "needs_background": "light"
     },
     "output_type": "display_data"
    }
   ],
   "source": [
    "games_from_2013_to_2016.plot(kind='scatter', x='total_sales', y='critic_score', grid=True)"
   ]
  },
  {
   "cell_type": "code",
   "execution_count": 44,
   "id": "d024b212",
   "metadata": {},
   "outputs": [
    {
     "data": {
      "text/plain": [
       "<AxesSubplot:xlabel='total_sales', ylabel='user_score'>"
      ]
     },
     "execution_count": 44,
     "metadata": {},
     "output_type": "execute_result"
    },
    {
     "data": {
      "image/png": "[encoded data removed]",
      "text/plain": [
       "<Figure size 432x288 with 1 Axes>"
      ]
     },
     "metadata": {
      "needs_background": "light"
     },
     "output_type": "display_data"
    }
   ],
   "source": [
    "games_from_2013_to_2016.plot(kind='scatter', x='total_sales', y='user_score', grid=True)"
   ]
  },
  {
   "cell_type": "markdown",
   "id": "495ea0a9",
   "metadata": {},
   "source": [
    "Сделанные выше выводы справелдивы и для других платформ с учетом того, что зависимость продаж от оценки критиков слабее чем для платформы X360. Формы рассеяния схожи с формой рассеяния продаж и отзывов пользователей для платформы X360."
   ]
  },
  {
   "cell_type": "code",
   "execution_count": 45,
   "id": "b2ba5525",
   "metadata": {},
   "outputs": [
    {
     "data": {
      "text/plain": [
       "<AxesSubplot:title={'center':'Games by genre'}, xlabel='Median sales'>"
      ]
     },
     "execution_count": 45,
     "metadata": {},
     "output_type": "execute_result"
    },
    {
     "data": {
      "image/png": "[encoded data removed]",
      "text/plain": [
       "<Figure size 432x288 with 1 Axes>"
      ]
     },
     "metadata": {
      "needs_background": "light"
     },
     "output_type": "display_data"
    }
   ],
   "source": [
    "games_from_2013_to_2016_gb_genres = games_from_2013_to_2016.groupby('genre')['total_sales'].median().reset_index().sort_values('total_sales', ascending=False)\n",
    "games_from_2013_to_2016_gb_genres\n",
    "games_from_2013_to_2016_gb_genres.plot(kind='bar', x='genre', title=\"Games by genre\", xlabel = \"Median sales\")"
   ]
  },
  {
   "cell_type": "markdown",
   "id": "1a02eaf3",
   "metadata": {},
   "source": [
    "Наиболее продаваемыми (по медианному значению групп жанров) играми являются игры в жанре Shooter. Наименее продаваемыми игры в жанре Adventure."
   ]
  },
  {
   "cell_type": "code",
   "execution_count": 46,
   "id": "cd6c1710",
   "metadata": {},
   "outputs": [
    {
     "data": {
      "text/html": [
       "<div>\n",
       "<style scoped>\n",
       "    .dataframe tbody tr th:only-of-type {\n",
       "        vertical-align: middle;\n",
       "    }\n",
       "\n",
       "    .dataframe tbody tr th {\n",
       "        vertical-align: top;\n",
       "    }\n",
       "\n",
       "    .dataframe thead th {\n",
       "        text-align: right;\n",
       "    }\n",
       "</style>\n",
       "<table border=\"1\" class=\"dataframe\">\n",
       "  <thead>\n",
       "    <tr style=\"text-align: right;\">\n",
       "      <th></th>\n",
       "      <th>year_of_release</th>\n",
       "      <th>na_sales</th>\n",
       "      <th>eu_sales</th>\n",
       "      <th>jp_sales</th>\n",
       "      <th>other_sales</th>\n",
       "      <th>critic_score</th>\n",
       "      <th>user_score</th>\n",
       "      <th>total_sales</th>\n",
       "    </tr>\n",
       "  </thead>\n",
       "  <tbody>\n",
       "    <tr>\n",
       "      <th>count</th>\n",
       "      <td>16567.000000</td>\n",
       "      <td>16567.000000</td>\n",
       "      <td>16567.000000</td>\n",
       "      <td>16567.000000</td>\n",
       "      <td>16567.000000</td>\n",
       "      <td>9035.000000</td>\n",
       "      <td>8639.000000</td>\n",
       "      <td>16567.000000</td>\n",
       "    </tr>\n",
       "    <tr>\n",
       "      <th>mean</th>\n",
       "      <td>2006.491881</td>\n",
       "      <td>0.263975</td>\n",
       "      <td>0.145814</td>\n",
       "      <td>0.078020</td>\n",
       "      <td>0.047567</td>\n",
       "      <td>68.783089</td>\n",
       "      <td>7.088010</td>\n",
       "      <td>0.535376</td>\n",
       "    </tr>\n",
       "    <tr>\n",
       "      <th>std</th>\n",
       "      <td>5.862239</td>\n",
       "      <td>0.816474</td>\n",
       "      <td>0.505364</td>\n",
       "      <td>0.310068</td>\n",
       "      <td>0.187476</td>\n",
       "      <td>14.093330</td>\n",
       "      <td>1.501612</td>\n",
       "      <td>1.554281</td>\n",
       "    </tr>\n",
       "    <tr>\n",
       "      <th>min</th>\n",
       "      <td>1980.000000</td>\n",
       "      <td>0.000000</td>\n",
       "      <td>0.000000</td>\n",
       "      <td>0.000000</td>\n",
       "      <td>0.000000</td>\n",
       "      <td>13.000000</td>\n",
       "      <td>0.000000</td>\n",
       "      <td>0.000000</td>\n",
       "    </tr>\n",
       "    <tr>\n",
       "      <th>25%</th>\n",
       "      <td>2003.000000</td>\n",
       "      <td>0.000000</td>\n",
       "      <td>0.000000</td>\n",
       "      <td>0.000000</td>\n",
       "      <td>0.000000</td>\n",
       "      <td>60.000000</td>\n",
       "      <td>6.300000</td>\n",
       "      <td>0.060000</td>\n",
       "    </tr>\n",
       "    <tr>\n",
       "      <th>50%</th>\n",
       "      <td>2007.000000</td>\n",
       "      <td>0.080000</td>\n",
       "      <td>0.020000</td>\n",
       "      <td>0.000000</td>\n",
       "      <td>0.010000</td>\n",
       "      <td>71.000000</td>\n",
       "      <td>7.400000</td>\n",
       "      <td>0.170000</td>\n",
       "    </tr>\n",
       "    <tr>\n",
       "      <th>75%</th>\n",
       "      <td>2010.000000</td>\n",
       "      <td>0.240000</td>\n",
       "      <td>0.110000</td>\n",
       "      <td>0.040000</td>\n",
       "      <td>0.030000</td>\n",
       "      <td>79.000000</td>\n",
       "      <td>8.200000</td>\n",
       "      <td>0.470000</td>\n",
       "    </tr>\n",
       "    <tr>\n",
       "      <th>max</th>\n",
       "      <td>2016.000000</td>\n",
       "      <td>41.360000</td>\n",
       "      <td>28.960000</td>\n",
       "      <td>10.220000</td>\n",
       "      <td>10.570000</td>\n",
       "      <td>98.000000</td>\n",
       "      <td>9.700000</td>\n",
       "      <td>82.540000</td>\n",
       "    </tr>\n",
       "  </tbody>\n",
       "</table>\n",
       "</div>"
      ],
      "text/plain": [
       "       year_of_release      na_sales      eu_sales      jp_sales  \\\n",
       "count     16567.000000  16567.000000  16567.000000  16567.000000   \n",
       "mean       2006.491881      0.263975      0.145814      0.078020   \n",
       "std           5.862239      0.816474      0.505364      0.310068   \n",
       "min        1980.000000      0.000000      0.000000      0.000000   \n",
       "25%        2003.000000      0.000000      0.000000      0.000000   \n",
       "50%        2007.000000      0.080000      0.020000      0.000000   \n",
       "75%        2010.000000      0.240000      0.110000      0.040000   \n",
       "max        2016.000000     41.360000     28.960000     10.220000   \n",
       "\n",
       "        other_sales  critic_score   user_score   total_sales  \n",
       "count  16567.000000   9035.000000  8639.000000  16567.000000  \n",
       "mean       0.047567     68.783089     7.088010      0.535376  \n",
       "std        0.187476     14.093330     1.501612      1.554281  \n",
       "min        0.000000     13.000000     0.000000      0.000000  \n",
       "25%        0.000000     60.000000     6.300000      0.060000  \n",
       "50%        0.010000     71.000000     7.400000      0.170000  \n",
       "75%        0.030000     79.000000     8.200000      0.470000  \n",
       "max       10.570000     98.000000     9.700000     82.540000  "
      ]
     },
     "execution_count": 46,
     "metadata": {},
     "output_type": "execute_result"
    }
   ],
   "source": [
    "games.describe()"
   ]
  },
  {
   "cell_type": "code",
   "execution_count": 47,
   "id": "7c4898a1",
   "metadata": {},
   "outputs": [
    {
     "data": {
      "text/html": [
       "<div>\n",
       "<style scoped>\n",
       "    .dataframe tbody tr th:only-of-type {\n",
       "        vertical-align: middle;\n",
       "    }\n",
       "\n",
       "    .dataframe tbody tr th {\n",
       "        vertical-align: top;\n",
       "    }\n",
       "\n",
       "    .dataframe thead th {\n",
       "        text-align: right;\n",
       "    }\n",
       "</style>\n",
       "<table border=\"1\" class=\"dataframe\">\n",
       "  <thead>\n",
       "    <tr style=\"text-align: right;\">\n",
       "      <th></th>\n",
       "      <th>year_of_release</th>\n",
       "      <th>na_sales</th>\n",
       "      <th>eu_sales</th>\n",
       "      <th>jp_sales</th>\n",
       "      <th>other_sales</th>\n",
       "      <th>critic_score</th>\n",
       "      <th>user_score</th>\n",
       "      <th>total_sales</th>\n",
       "    </tr>\n",
       "  </thead>\n",
       "  <tbody>\n",
       "    <tr>\n",
       "      <th>count</th>\n",
       "      <td>2237.000000</td>\n",
       "      <td>2237.000000</td>\n",
       "      <td>2237.000000</td>\n",
       "      <td>2237.000000</td>\n",
       "      <td>2237.000000</td>\n",
       "      <td>1329.000000</td>\n",
       "      <td>1372.000000</td>\n",
       "      <td>2237.000000</td>\n",
       "    </tr>\n",
       "    <tr>\n",
       "      <th>mean</th>\n",
       "      <td>2014.475190</td>\n",
       "      <td>0.195704</td>\n",
       "      <td>0.175552</td>\n",
       "      <td>0.063040</td>\n",
       "      <td>0.053661</td>\n",
       "      <td>71.943787</td>\n",
       "      <td>6.602483</td>\n",
       "      <td>0.487957</td>\n",
       "    </tr>\n",
       "    <tr>\n",
       "      <th>std</th>\n",
       "      <td>1.089853</td>\n",
       "      <td>0.547291</td>\n",
       "      <td>0.512013</td>\n",
       "      <td>0.233829</td>\n",
       "      <td>0.165553</td>\n",
       "      <td>13.374518</td>\n",
       "      <td>1.607371</td>\n",
       "      <td>1.234181</td>\n",
       "    </tr>\n",
       "    <tr>\n",
       "      <th>min</th>\n",
       "      <td>2013.000000</td>\n",
       "      <td>0.000000</td>\n",
       "      <td>0.000000</td>\n",
       "      <td>0.000000</td>\n",
       "      <td>0.000000</td>\n",
       "      <td>13.000000</td>\n",
       "      <td>0.200000</td>\n",
       "      <td>0.010000</td>\n",
       "    </tr>\n",
       "    <tr>\n",
       "      <th>25%</th>\n",
       "      <td>2014.000000</td>\n",
       "      <td>0.000000</td>\n",
       "      <td>0.000000</td>\n",
       "      <td>0.000000</td>\n",
       "      <td>0.000000</td>\n",
       "      <td>66.000000</td>\n",
       "      <td>5.737500</td>\n",
       "      <td>0.030000</td>\n",
       "    </tr>\n",
       "    <tr>\n",
       "      <th>50%</th>\n",
       "      <td>2014.000000</td>\n",
       "      <td>0.020000</td>\n",
       "      <td>0.030000</td>\n",
       "      <td>0.010000</td>\n",
       "      <td>0.010000</td>\n",
       "      <td>74.000000</td>\n",
       "      <td>7.000000</td>\n",
       "      <td>0.110000</td>\n",
       "    </tr>\n",
       "    <tr>\n",
       "      <th>75%</th>\n",
       "      <td>2015.000000</td>\n",
       "      <td>0.150000</td>\n",
       "      <td>0.130000</td>\n",
       "      <td>0.050000</td>\n",
       "      <td>0.040000</td>\n",
       "      <td>81.000000</td>\n",
       "      <td>7.800000</td>\n",
       "      <td>0.400000</td>\n",
       "    </tr>\n",
       "    <tr>\n",
       "      <th>max</th>\n",
       "      <td>2016.000000</td>\n",
       "      <td>9.660000</td>\n",
       "      <td>9.090000</td>\n",
       "      <td>4.350000</td>\n",
       "      <td>3.960000</td>\n",
       "      <td>97.000000</td>\n",
       "      <td>9.300000</td>\n",
       "      <td>21.050000</td>\n",
       "    </tr>\n",
       "  </tbody>\n",
       "</table>\n",
       "</div>"
      ],
      "text/plain": [
       "       year_of_release     na_sales     eu_sales     jp_sales  other_sales  \\\n",
       "count      2237.000000  2237.000000  2237.000000  2237.000000  2237.000000   \n",
       "mean       2014.475190     0.195704     0.175552     0.063040     0.053661   \n",
       "std           1.089853     0.547291     0.512013     0.233829     0.165553   \n",
       "min        2013.000000     0.000000     0.000000     0.000000     0.000000   \n",
       "25%        2014.000000     0.000000     0.000000     0.000000     0.000000   \n",
       "50%        2014.000000     0.020000     0.030000     0.010000     0.010000   \n",
       "75%        2015.000000     0.150000     0.130000     0.050000     0.040000   \n",
       "max        2016.000000     9.660000     9.090000     4.350000     3.960000   \n",
       "\n",
       "       critic_score   user_score  total_sales  \n",
       "count   1329.000000  1372.000000  2237.000000  \n",
       "mean      71.943787     6.602483     0.487957  \n",
       "std       13.374518     1.607371     1.234181  \n",
       "min       13.000000     0.200000     0.010000  \n",
       "25%       66.000000     5.737500     0.030000  \n",
       "50%       74.000000     7.000000     0.110000  \n",
       "75%       81.000000     7.800000     0.400000  \n",
       "max       97.000000     9.300000    21.050000  "
      ]
     },
     "execution_count": 47,
     "metadata": {},
     "output_type": "execute_result"
    }
   ],
   "source": [
    "games_from_2013_to_2016.describe()"
   ]
  },
  {
   "cell_type": "markdown",
   "id": "15368970",
   "metadata": {},
   "source": [
    "статистические показатели (параметр total sales) исходной и отфильтрованной выборки имеют существенные различия (но они связаны с общим падением. Стат показатели пользовательских и оценок критиков существенно не изменились."
   ]
  },
  {
   "cell_type": "markdown",
   "id": "8ce878dc",
   "metadata": {},
   "source": [
    "Вывод. Для более детального анализа были отобраны данные о продаже игр с 2013 по 2016 гг. Решение выбрать этот период для анализа обусловлено тем, что с продажи  с 2013 года снижаются но не резко, кроме того на рынке появляются новые перспективные платформы, которые могу потеряться в данных прошлых продаж. В основном (по данным 2013-2016) на действующих платформах продается от 0,06 до 0,75 млн копий, однако существует достаточное количество бестселлеров, продажи которых не укладываются в заданный диапазон. На платформах PS4 и XOne к 2015 году продажи росли. На остальных действующих в 2013-2016 годах платформах продажи снижались. На части платформ (PSP и Wii) в рассматриваемый период продажи прекратились. Между продажами о отзывами критиков существует средняя линейная взаимосвязь. Между продажами и отзывами пользователей линейная связь отсутствует. Самым пополурным жанром является Shooter, самыми непопулярными Adventure и Puzzle."
   ]
  },
  {
   "cell_type": "markdown",
   "id": "944c2087",
   "metadata": {},
   "source": [
    "# 4. Составление портрета пользователя каждого региона"
   ]
  },
  {
   "cell_type": "code",
   "execution_count": 48,
   "id": "bd4ee225",
   "metadata": {},
   "outputs": [],
   "source": [
    "na_data_platform = games_from_2013_to_2016.pivot_table(index = 'platform', values ='na_sales',  aggfunc='sum').sort_values(by='na_sales', ascending=False)\n",
    "eu_data_platform = games_from_2013_to_2016.pivot_table(index = 'platform', values ='eu_sales',  aggfunc='sum').sort_values(by='eu_sales', ascending=False)\n",
    "jp_data_platform = games_from_2013_to_2016.pivot_table(index = 'platform', values ='jp_sales',  aggfunc='sum').sort_values(by='jp_sales', ascending=False)"
   ]
  },
  {
   "cell_type": "code",
   "execution_count": 49,
   "id": "abe309bf",
   "metadata": {},
   "outputs": [
    {
     "data": {
      "text/html": [
       "<div>\n",
       "<style scoped>\n",
       "    .dataframe tbody tr th:only-of-type {\n",
       "        vertical-align: middle;\n",
       "    }\n",
       "\n",
       "    .dataframe tbody tr th {\n",
       "        vertical-align: top;\n",
       "    }\n",
       "\n",
       "    .dataframe thead th {\n",
       "        text-align: right;\n",
       "    }\n",
       "</style>\n",
       "<table border=\"1\" class=\"dataframe\">\n",
       "  <thead>\n",
       "    <tr style=\"text-align: right;\">\n",
       "      <th></th>\n",
       "      <th>na_sales</th>\n",
       "    </tr>\n",
       "    <tr>\n",
       "      <th>platform</th>\n",
       "      <th></th>\n",
       "    </tr>\n",
       "  </thead>\n",
       "  <tbody>\n",
       "    <tr>\n",
       "      <th>PS4</th>\n",
       "      <td>108.74</td>\n",
       "    </tr>\n",
       "    <tr>\n",
       "      <th>XOne</th>\n",
       "      <td>93.12</td>\n",
       "    </tr>\n",
       "    <tr>\n",
       "      <th>X360</th>\n",
       "      <td>81.66</td>\n",
       "    </tr>\n",
       "    <tr>\n",
       "      <th>PS3</th>\n",
       "      <td>63.50</td>\n",
       "    </tr>\n",
       "    <tr>\n",
       "      <th>3DS</th>\n",
       "      <td>38.20</td>\n",
       "    </tr>\n",
       "  </tbody>\n",
       "</table>\n",
       "</div>"
      ],
      "text/plain": [
       "          na_sales\n",
       "platform          \n",
       "PS4         108.74\n",
       "XOne         93.12\n",
       "X360         81.66\n",
       "PS3          63.50\n",
       "3DS          38.20"
      ]
     },
     "execution_count": 49,
     "metadata": {},
     "output_type": "execute_result"
    }
   ],
   "source": [
    "na_data_platform.head()"
   ]
  },
  {
   "cell_type": "code",
   "execution_count": 50,
   "id": "5197b216",
   "metadata": {},
   "outputs": [
    {
     "data": {
      "text/html": [
       "<div>\n",
       "<style scoped>\n",
       "    .dataframe tbody tr th:only-of-type {\n",
       "        vertical-align: middle;\n",
       "    }\n",
       "\n",
       "    .dataframe tbody tr th {\n",
       "        vertical-align: top;\n",
       "    }\n",
       "\n",
       "    .dataframe thead th {\n",
       "        text-align: right;\n",
       "    }\n",
       "</style>\n",
       "<table border=\"1\" class=\"dataframe\">\n",
       "  <thead>\n",
       "    <tr style=\"text-align: right;\">\n",
       "      <th></th>\n",
       "      <th>eu_sales</th>\n",
       "    </tr>\n",
       "    <tr>\n",
       "      <th>platform</th>\n",
       "      <th></th>\n",
       "    </tr>\n",
       "  </thead>\n",
       "  <tbody>\n",
       "    <tr>\n",
       "      <th>PS4</th>\n",
       "      <td>141.09</td>\n",
       "    </tr>\n",
       "    <tr>\n",
       "      <th>PS3</th>\n",
       "      <td>67.81</td>\n",
       "    </tr>\n",
       "    <tr>\n",
       "      <th>XOne</th>\n",
       "      <td>51.59</td>\n",
       "    </tr>\n",
       "    <tr>\n",
       "      <th>X360</th>\n",
       "      <td>42.52</td>\n",
       "    </tr>\n",
       "    <tr>\n",
       "      <th>3DS</th>\n",
       "      <td>30.96</td>\n",
       "    </tr>\n",
       "  </tbody>\n",
       "</table>\n",
       "</div>"
      ],
      "text/plain": [
       "          eu_sales\n",
       "platform          \n",
       "PS4         141.09\n",
       "PS3          67.81\n",
       "XOne         51.59\n",
       "X360         42.52\n",
       "3DS          30.96"
      ]
     },
     "execution_count": 50,
     "metadata": {},
     "output_type": "execute_result"
    }
   ],
   "source": [
    "eu_data_platform.head()"
   ]
  },
  {
   "cell_type": "code",
   "execution_count": 51,
   "id": "6648b625",
   "metadata": {},
   "outputs": [
    {
     "data": {
      "text/html": [
       "<div>\n",
       "<style scoped>\n",
       "    .dataframe tbody tr th:only-of-type {\n",
       "        vertical-align: middle;\n",
       "    }\n",
       "\n",
       "    .dataframe tbody tr th {\n",
       "        vertical-align: top;\n",
       "    }\n",
       "\n",
       "    .dataframe thead th {\n",
       "        text-align: right;\n",
       "    }\n",
       "</style>\n",
       "<table border=\"1\" class=\"dataframe\">\n",
       "  <thead>\n",
       "    <tr style=\"text-align: right;\">\n",
       "      <th></th>\n",
       "      <th>jp_sales</th>\n",
       "    </tr>\n",
       "    <tr>\n",
       "      <th>platform</th>\n",
       "      <th></th>\n",
       "    </tr>\n",
       "  </thead>\n",
       "  <tbody>\n",
       "    <tr>\n",
       "      <th>3DS</th>\n",
       "      <td>67.81</td>\n",
       "    </tr>\n",
       "    <tr>\n",
       "      <th>PS3</th>\n",
       "      <td>23.35</td>\n",
       "    </tr>\n",
       "    <tr>\n",
       "      <th>PSV</th>\n",
       "      <td>18.59</td>\n",
       "    </tr>\n",
       "    <tr>\n",
       "      <th>PS4</th>\n",
       "      <td>15.96</td>\n",
       "    </tr>\n",
       "    <tr>\n",
       "      <th>WiiU</th>\n",
       "      <td>10.88</td>\n",
       "    </tr>\n",
       "  </tbody>\n",
       "</table>\n",
       "</div>"
      ],
      "text/plain": [
       "          jp_sales\n",
       "platform          \n",
       "3DS          67.81\n",
       "PS3          23.35\n",
       "PSV          18.59\n",
       "PS4          15.96\n",
       "WiiU         10.88"
      ]
     },
     "execution_count": 51,
     "metadata": {},
     "output_type": "execute_result"
    }
   ],
   "source": [
    "jp_data_platform.head()"
   ]
  },
  {
   "cell_type": "markdown",
   "id": "40370ee1",
   "metadata": {},
   "source": [
    "Продажи на плаформах в Америке и Европе похожи. Есть различие в продажах в ранге некоторых платформ. В Японии есть уникальные платформы WiiU и PSV."
   ]
  },
  {
   "cell_type": "code",
   "execution_count": 52,
   "id": "9e76fbb9",
   "metadata": {},
   "outputs": [],
   "source": [
    "na_data_genre = games_from_2013_to_2016.pivot_table(index = 'genre', values ='na_sales',  aggfunc='sum').sort_values(by='na_sales', ascending=False)\n",
    "eu_data_genre = games_from_2013_to_2016.pivot_table(index = 'genre', values ='eu_sales',  aggfunc='sum').sort_values(by='eu_sales', ascending=False)\n",
    "jp_data_genre = games_from_2013_to_2016.pivot_table(index = 'genre', values ='jp_sales',  aggfunc='sum').sort_values(by='jp_sales', ascending=False)"
   ]
  },
  {
   "cell_type": "code",
   "execution_count": 53,
   "id": "d4cecc7f",
   "metadata": {},
   "outputs": [
    {
     "data": {
      "text/html": [
       "<div>\n",
       "<style scoped>\n",
       "    .dataframe tbody tr th:only-of-type {\n",
       "        vertical-align: middle;\n",
       "    }\n",
       "\n",
       "    .dataframe tbody tr th {\n",
       "        vertical-align: top;\n",
       "    }\n",
       "\n",
       "    .dataframe thead th {\n",
       "        text-align: right;\n",
       "    }\n",
       "</style>\n",
       "<table border=\"1\" class=\"dataframe\">\n",
       "  <thead>\n",
       "    <tr style=\"text-align: right;\">\n",
       "      <th></th>\n",
       "      <th>na_sales</th>\n",
       "    </tr>\n",
       "    <tr>\n",
       "      <th>genre</th>\n",
       "      <th></th>\n",
       "    </tr>\n",
       "  </thead>\n",
       "  <tbody>\n",
       "    <tr>\n",
       "      <th>Action</th>\n",
       "      <td>126.13</td>\n",
       "    </tr>\n",
       "    <tr>\n",
       "      <th>Shooter</th>\n",
       "      <td>109.74</td>\n",
       "    </tr>\n",
       "    <tr>\n",
       "      <th>Sports</th>\n",
       "      <td>65.27</td>\n",
       "    </tr>\n",
       "    <tr>\n",
       "      <th>Role-Playing</th>\n",
       "      <td>46.40</td>\n",
       "    </tr>\n",
       "    <tr>\n",
       "      <th>Misc</th>\n",
       "      <td>27.49</td>\n",
       "    </tr>\n",
       "  </tbody>\n",
       "</table>\n",
       "</div>"
      ],
      "text/plain": [
       "              na_sales\n",
       "genre                 \n",
       "Action          126.13\n",
       "Shooter         109.74\n",
       "Sports           65.27\n",
       "Role-Playing     46.40\n",
       "Misc             27.49"
      ]
     },
     "execution_count": 53,
     "metadata": {},
     "output_type": "execute_result"
    }
   ],
   "source": [
    "na_data_genre.head()"
   ]
  },
  {
   "cell_type": "code",
   "execution_count": 54,
   "id": "577dd172",
   "metadata": {},
   "outputs": [
    {
     "data": {
      "text/html": [
       "<div>\n",
       "<style scoped>\n",
       "    .dataframe tbody tr th:only-of-type {\n",
       "        vertical-align: middle;\n",
       "    }\n",
       "\n",
       "    .dataframe tbody tr th {\n",
       "        vertical-align: top;\n",
       "    }\n",
       "\n",
       "    .dataframe thead th {\n",
       "        text-align: right;\n",
       "    }\n",
       "</style>\n",
       "<table border=\"1\" class=\"dataframe\">\n",
       "  <thead>\n",
       "    <tr style=\"text-align: right;\">\n",
       "      <th></th>\n",
       "      <th>eu_sales</th>\n",
       "    </tr>\n",
       "    <tr>\n",
       "      <th>genre</th>\n",
       "      <th></th>\n",
       "    </tr>\n",
       "  </thead>\n",
       "  <tbody>\n",
       "    <tr>\n",
       "      <th>Action</th>\n",
       "      <td>118.61</td>\n",
       "    </tr>\n",
       "    <tr>\n",
       "      <th>Shooter</th>\n",
       "      <td>87.86</td>\n",
       "    </tr>\n",
       "    <tr>\n",
       "      <th>Sports</th>\n",
       "      <td>60.52</td>\n",
       "    </tr>\n",
       "    <tr>\n",
       "      <th>Role-Playing</th>\n",
       "      <td>36.97</td>\n",
       "    </tr>\n",
       "    <tr>\n",
       "      <th>Racing</th>\n",
       "      <td>20.19</td>\n",
       "    </tr>\n",
       "  </tbody>\n",
       "</table>\n",
       "</div>"
      ],
      "text/plain": [
       "              eu_sales\n",
       "genre                 \n",
       "Action          118.61\n",
       "Shooter          87.86\n",
       "Sports           60.52\n",
       "Role-Playing     36.97\n",
       "Racing           20.19"
      ]
     },
     "execution_count": 54,
     "metadata": {},
     "output_type": "execute_result"
    }
   ],
   "source": [
    "eu_data_genre.head()"
   ]
  },
  {
   "cell_type": "code",
   "execution_count": 55,
   "id": "41ca3f19",
   "metadata": {},
   "outputs": [
    {
     "data": {
      "text/html": [
       "<div>\n",
       "<style scoped>\n",
       "    .dataframe tbody tr th:only-of-type {\n",
       "        vertical-align: middle;\n",
       "    }\n",
       "\n",
       "    .dataframe tbody tr th {\n",
       "        vertical-align: top;\n",
       "    }\n",
       "\n",
       "    .dataframe thead th {\n",
       "        text-align: right;\n",
       "    }\n",
       "</style>\n",
       "<table border=\"1\" class=\"dataframe\">\n",
       "  <thead>\n",
       "    <tr style=\"text-align: right;\">\n",
       "      <th></th>\n",
       "      <th>jp_sales</th>\n",
       "    </tr>\n",
       "    <tr>\n",
       "      <th>genre</th>\n",
       "      <th></th>\n",
       "    </tr>\n",
       "  </thead>\n",
       "  <tbody>\n",
       "    <tr>\n",
       "      <th>Role-Playing</th>\n",
       "      <td>51.04</td>\n",
       "    </tr>\n",
       "    <tr>\n",
       "      <th>Action</th>\n",
       "      <td>40.49</td>\n",
       "    </tr>\n",
       "    <tr>\n",
       "      <th>Misc</th>\n",
       "      <td>9.44</td>\n",
       "    </tr>\n",
       "    <tr>\n",
       "      <th>Fighting</th>\n",
       "      <td>7.65</td>\n",
       "    </tr>\n",
       "    <tr>\n",
       "      <th>Shooter</th>\n",
       "      <td>6.61</td>\n",
       "    </tr>\n",
       "  </tbody>\n",
       "</table>\n",
       "</div>"
      ],
      "text/plain": [
       "              jp_sales\n",
       "genre                 \n",
       "Role-Playing     51.04\n",
       "Action           40.49\n",
       "Misc              9.44\n",
       "Fighting          7.65\n",
       "Shooter           6.61"
      ]
     },
     "execution_count": 55,
     "metadata": {},
     "output_type": "execute_result"
    }
   ],
   "source": [
    "jp_data_genre.head()"
   ]
  },
  {
   "cell_type": "markdown",
   "id": "f902edab",
   "metadata": {},
   "source": [
    "Предпочитаемые жанры в Америке и Европе совпадают. Отличие только в последних местах в Америке это Misc в Европе Rasing. В Японии популярный жанр (Shooter) игр находится на последнем месте. Уникальным для Японии является жанр Fighting. "
   ]
  },
  {
   "cell_type": "code",
   "execution_count": 56,
   "id": "fed8f866",
   "metadata": {},
   "outputs": [],
   "source": [
    "na_data_rating = games_from_2013_to_2016.pivot_table(index = 'rating', values ='na_sales',  aggfunc='sum').sort_values(by='na_sales', ascending=False)\n",
    "eu_data_rating = games_from_2013_to_2016.pivot_table(index = 'rating', values ='eu_sales',  aggfunc='sum').sort_values(by='eu_sales', ascending=False)\n",
    "jp_data_rating = games_from_2013_to_2016.pivot_table(index = 'rating', values ='jp_sales',  aggfunc='sum').sort_values(by='jp_sales', ascending=False)"
   ]
  },
  {
   "cell_type": "code",
   "execution_count": 57,
   "id": "f3a8a050",
   "metadata": {},
   "outputs": [
    {
     "data": {
      "text/html": [
       "<div>\n",
       "<style scoped>\n",
       "    .dataframe tbody tr th:only-of-type {\n",
       "        vertical-align: middle;\n",
       "    }\n",
       "\n",
       "    .dataframe tbody tr th {\n",
       "        vertical-align: top;\n",
       "    }\n",
       "\n",
       "    .dataframe thead th {\n",
       "        text-align: right;\n",
       "    }\n",
       "</style>\n",
       "<table border=\"1\" class=\"dataframe\">\n",
       "  <thead>\n",
       "    <tr style=\"text-align: right;\">\n",
       "      <th></th>\n",
       "      <th>na_sales</th>\n",
       "    </tr>\n",
       "    <tr>\n",
       "      <th>rating</th>\n",
       "      <th></th>\n",
       "    </tr>\n",
       "  </thead>\n",
       "  <tbody>\n",
       "    <tr>\n",
       "      <th>M</th>\n",
       "      <td>165.29</td>\n",
       "    </tr>\n",
       "    <tr>\n",
       "      <th>no rating</th>\n",
       "      <td>89.42</td>\n",
       "    </tr>\n",
       "    <tr>\n",
       "      <th>E</th>\n",
       "      <td>79.05</td>\n",
       "    </tr>\n",
       "    <tr>\n",
       "      <th>E10+</th>\n",
       "      <td>54.24</td>\n",
       "    </tr>\n",
       "    <tr>\n",
       "      <th>T</th>\n",
       "      <td>49.79</td>\n",
       "    </tr>\n",
       "  </tbody>\n",
       "</table>\n",
       "</div>"
      ],
      "text/plain": [
       "           na_sales\n",
       "rating             \n",
       "M            165.29\n",
       "no rating     89.42\n",
       "E             79.05\n",
       "E10+          54.24\n",
       "T             49.79"
      ]
     },
     "execution_count": 57,
     "metadata": {},
     "output_type": "execute_result"
    }
   ],
   "source": [
    "na_data_rating"
   ]
  },
  {
   "cell_type": "code",
   "execution_count": 58,
   "id": "191ddc50",
   "metadata": {},
   "outputs": [
    {
     "data": {
      "text/html": [
       "<div>\n",
       "<style scoped>\n",
       "    .dataframe tbody tr th:only-of-type {\n",
       "        vertical-align: middle;\n",
       "    }\n",
       "\n",
       "    .dataframe tbody tr th {\n",
       "        vertical-align: top;\n",
       "    }\n",
       "\n",
       "    .dataframe thead th {\n",
       "        text-align: right;\n",
       "    }\n",
       "</style>\n",
       "<table border=\"1\" class=\"dataframe\">\n",
       "  <thead>\n",
       "    <tr style=\"text-align: right;\">\n",
       "      <th></th>\n",
       "      <th>eu_sales</th>\n",
       "    </tr>\n",
       "    <tr>\n",
       "      <th>rating</th>\n",
       "      <th></th>\n",
       "    </tr>\n",
       "  </thead>\n",
       "  <tbody>\n",
       "    <tr>\n",
       "      <th>M</th>\n",
       "      <td>145.80</td>\n",
       "    </tr>\n",
       "    <tr>\n",
       "      <th>E</th>\n",
       "      <td>83.36</td>\n",
       "    </tr>\n",
       "    <tr>\n",
       "      <th>no rating</th>\n",
       "      <td>78.91</td>\n",
       "    </tr>\n",
       "    <tr>\n",
       "      <th>E10+</th>\n",
       "      <td>42.69</td>\n",
       "    </tr>\n",
       "    <tr>\n",
       "      <th>T</th>\n",
       "      <td>41.95</td>\n",
       "    </tr>\n",
       "  </tbody>\n",
       "</table>\n",
       "</div>"
      ],
      "text/plain": [
       "           eu_sales\n",
       "rating             \n",
       "M            145.80\n",
       "E             83.36\n",
       "no rating     78.91\n",
       "E10+          42.69\n",
       "T             41.95"
      ]
     },
     "execution_count": 58,
     "metadata": {},
     "output_type": "execute_result"
    }
   ],
   "source": [
    "eu_data_rating"
   ]
  },
  {
   "cell_type": "code",
   "execution_count": 59,
   "id": "414c2c02",
   "metadata": {},
   "outputs": [
    {
     "data": {
      "text/html": [
       "<div>\n",
       "<style scoped>\n",
       "    .dataframe tbody tr th:only-of-type {\n",
       "        vertical-align: middle;\n",
       "    }\n",
       "\n",
       "    .dataframe tbody tr th {\n",
       "        vertical-align: top;\n",
       "    }\n",
       "\n",
       "    .dataframe thead th {\n",
       "        text-align: right;\n",
       "    }\n",
       "</style>\n",
       "<table border=\"1\" class=\"dataframe\">\n",
       "  <thead>\n",
       "    <tr style=\"text-align: right;\">\n",
       "      <th></th>\n",
       "      <th>jp_sales</th>\n",
       "    </tr>\n",
       "    <tr>\n",
       "      <th>rating</th>\n",
       "      <th></th>\n",
       "    </tr>\n",
       "  </thead>\n",
       "  <tbody>\n",
       "    <tr>\n",
       "      <th>no rating</th>\n",
       "      <td>85.29</td>\n",
       "    </tr>\n",
       "    <tr>\n",
       "      <th>T</th>\n",
       "      <td>20.59</td>\n",
       "    </tr>\n",
       "    <tr>\n",
       "      <th>E</th>\n",
       "      <td>15.14</td>\n",
       "    </tr>\n",
       "    <tr>\n",
       "      <th>M</th>\n",
       "      <td>14.11</td>\n",
       "    </tr>\n",
       "    <tr>\n",
       "      <th>E10+</th>\n",
       "      <td>5.89</td>\n",
       "    </tr>\n",
       "  </tbody>\n",
       "</table>\n",
       "</div>"
      ],
      "text/plain": [
       "           jp_sales\n",
       "rating             \n",
       "no rating     85.29\n",
       "T             20.59\n",
       "E             15.14\n",
       "M             14.11\n",
       "E10+           5.89"
      ]
     },
     "execution_count": 59,
     "metadata": {},
     "output_type": "execute_result"
    }
   ],
   "source": [
    "jp_data_rating"
   ]
  },
  {
   "cell_type": "markdown",
   "id": "856c31da",
   "metadata": {},
   "source": [
    "Продажи игр зависят от рейтинга точнее от его отсуствия (игры не имеющие возрастного рейтинга) занимают первые 3 места в продажах в зависимости от региона. Игры с рейтингом E10+ находятся в конце ТОП 5. Остальные рейтинги находятся на разных местах. Рейтинговые предпочтенния похожи в Америке и Европе."
   ]
  },
  {
   "cell_type": "markdown",
   "id": "c4f09197",
   "metadata": {},
   "source": [
    "Вывод:<br> 1. Продажи на в разрезе платформ в Америке и Европе пожожи. В Японии другое распределение продаж игр по платформам. Уникальные платформы для Японии WiiU и PSV <br> 2. Популярные жанры игр в Европе, Америке и Японии практические совпадают. Уникальным для Японии является жанр Fighting. <br> 3. Продажи игр без возрастного рейтинга наиболее популярны во всех 3 регионах. Игры с рейтингом E10+ одниково непопулярны в всех 3 регионах. В отношении игр с другими рейтингами зависимости нет."
   ]
  },
  {
   "cell_type": "markdown",
   "id": "3b1ddf92",
   "metadata": {},
   "source": [
    "# 5. Проверка гипотез"
   ]
  },
  {
   "cell_type": "code",
   "execution_count": 60,
   "id": "570d3b0d",
   "metadata": {},
   "outputs": [],
   "source": [
    "games_from_2013_to_2016_dropna = games_from_2013_to_2016.dropna(subset=['user_score'])\n",
    "\n",
    "x_box_one_user_score = games_from_2013_to_2016_dropna[games_from_2013_to_2016_dropna['platform']=='XOne']['user_score']\n",
    "pc_user_score = games_from_2013_to_2016_dropna[games_from_2013_to_2016_dropna['platform']=='PC']['user_score']\n",
    "action_score = games_from_2013_to_2016_dropna[games_from_2013_to_2016_dropna['genre']=='Action']['user_score']\n",
    "sports_score = games_from_2013_to_2016_dropna[games_from_2013_to_2016_dropna['genre']=='Sports']['user_score']"
   ]
  },
  {
   "cell_type": "code",
   "execution_count": 61,
   "id": "513adfc4",
   "metadata": {},
   "outputs": [
    {
     "name": "stdout",
     "output_type": "stream",
     "text": [
      "<class 'pandas.core.frame.DataFrame'>\n",
      "Int64Index: 1372 entries, 16 to 16544\n",
      "Data columns (total 12 columns):\n",
      " #   Column           Non-Null Count  Dtype  \n",
      "---  ------           --------------  -----  \n",
      " 0   name             1372 non-null   object \n",
      " 1   platform         1372 non-null   object \n",
      " 2   year_of_release  1372 non-null   int64  \n",
      " 3   genre            1372 non-null   object \n",
      " 4   na_sales         1372 non-null   float64\n",
      " 5   eu_sales         1372 non-null   float64\n",
      " 6   jp_sales         1372 non-null   float64\n",
      " 7   other_sales      1372 non-null   float64\n",
      " 8   critic_score     1320 non-null   float64\n",
      " 9   user_score       1372 non-null   float64\n",
      " 10  rating           1372 non-null   object \n",
      " 11  total_sales      1372 non-null   float64\n",
      "dtypes: float64(7), int64(1), object(4)\n",
      "memory usage: 139.3+ KB\n"
     ]
    }
   ],
   "source": [
    "games_from_2013_to_2016_dropna.info()"
   ]
  },
  {
   "cell_type": "markdown",
   "id": "a667a13a",
   "metadata": {},
   "source": [
    "Нулевая гиппотеза. Средние оценки пользователей на платформах XBoxOne и PC равны.\n",
    "Альтернативная гиппотеза. Средние оценки пользователей на платформах XBoxOne и PC неравны."
   ]
  },
  {
   "cell_type": "code",
   "execution_count": 62,
   "id": "ae90773f",
   "metadata": {},
   "outputs": [
    {
     "name": "stdout",
     "output_type": "stream",
     "text": [
      "0.037433229555221846\n",
      "Отвергаем нулевую гиппотезу\n"
     ]
    }
   ],
   "source": [
    "alpha = 0.05\n",
    "result = st.ttest_ind(x_box_one_user_score, pc_user_score)\n",
    "print(result.pvalue)\n",
    "\n",
    "if (result.pvalue)<alpha:\n",
    "    print('Отвергаем нулевую гиппотезу')\n",
    "else:\n",
    "    print('Принимаем нулевую гиппотезу')"
   ]
  },
  {
   "cell_type": "markdown",
   "id": "c10e7900",
   "metadata": {},
   "source": [
    "Гипотеза о равенстве средних оценок пользователей платформ XBoxOne и PC не нашла подтверждение на данном уровне значимости"
   ]
  },
  {
   "cell_type": "markdown",
   "id": "9148c4cf",
   "metadata": {},
   "source": [
    "______________________________________________________________________________________________"
   ]
  },
  {
   "cell_type": "markdown",
   "id": "2448f7a3",
   "metadata": {},
   "source": [
    "Нулевая гиппотеза. Средние оценки пользователей игр жанров Action и Sports равны.\n",
    "Альтернативная гиппотеза. Средние оценки пользователей игр жанров Action и Sports неравны."
   ]
  },
  {
   "cell_type": "code",
   "execution_count": 63,
   "id": "6ed231ae",
   "metadata": {},
   "outputs": [
    {
     "name": "stdout",
     "output_type": "stream",
     "text": [
      "2.094211289933641e-34\n",
      "Отвергаем нулевую гиппотезу\n"
     ]
    }
   ],
   "source": [
    "alpha = 0.05\n",
    "result = st.ttest_ind(action_score, sports_score)\n",
    "print(result.pvalue)\n",
    "\n",
    "if (result.pvalue)<alpha:\n",
    "    print('Отвергаем нулевую гиппотезу')\n",
    "else:\n",
    "    print('Принимаем нулевую гиппотезу')"
   ]
  },
  {
   "cell_type": "markdown",
   "id": "f0b2180b",
   "metadata": {},
   "source": [
    "Гипотеза о равенстве пользовательских оценок игр в жанрах Action и Sports не нашла подтверждения."
   ]
  },
  {
   "cell_type": "markdown",
   "id": "48648635",
   "metadata": {},
   "source": [
    "# Вывод про проекту:"
   ]
  },
  {
   "cell_type": "markdown",
   "id": "0b3c8f44",
   "metadata": {},
   "source": [
    "1.Продажи игр до 1990 года были незначительными и оставались на одном уровне. После 1990 года начался постепенны рост продаж игр. В 2001 году стабильный рост сменился бурным ростом, продолжавшимся до 2008 года. После 2009 года начался спад продаж игр. <br> 2. Игровые платформы имеют определенный срок жизни около 12 лет.<br> 3. Продажи игр на основных платформах сосредоточены в интервале 0,06 - 0,75 млн. копий, после данных значений следует большое количество выбросов возможно обусловленные наличием досточного количества бестселлеров.<br> 4. За последние 3 года с 2013 по 2016 наблюдался рост продаж на платформах PS4 и XOne. Остальные платформы падали в продажах или продажи на них прекращались (Wii и PSP) <br>  5. Продажи игр средне зависят от оценок критиков и не зависят от оценок пользователей.<br> 6. Наиболее популярным жанром игр является Shooter. Наименее востребованные Adventure и Puzzle.<br> 7. Продажи по игровым платформам пожожи для Америки и Европы (самая популярная платформа PS4). В Японии другое распределени продаж по платформам. Популярные жанры игр в Европе, Америке и Японии практические совпадают. Уникальным для Японии является жанр Fighting. Продажи игр без возрастного рейтинга наиболее популярны во всех 3 регионах.<br> 8. Средние оценки пользователей платформ XBOne и PC предположительно не равны. Средние оценки игр жанров Action и Sport предположительно не равны."
   ]
  }
 ],
 "metadata": {
  "ExecuteTimeLog": [
   {
    "duration": 2291,
    "start_time": "2022-04-19T16:16:51.008Z"
   },
   {
    "duration": 316,
    "start_time": "2022-04-19T16:16:53.303Z"
   },
   {
    "duration": 0,
    "start_time": "2022-04-19T16:16:53.625Z"
   },
   {
    "duration": 0,
    "start_time": "2022-04-19T16:16:53.628Z"
   },
   {
    "duration": 0,
    "start_time": "2022-04-19T16:16:53.630Z"
   },
   {
    "duration": 0,
    "start_time": "2022-04-19T16:16:53.632Z"
   },
   {
    "duration": 0,
    "start_time": "2022-04-19T16:16:53.635Z"
   },
   {
    "duration": 0,
    "start_time": "2022-04-19T16:16:53.655Z"
   },
   {
    "duration": 0,
    "start_time": "2022-04-19T16:16:53.657Z"
   },
   {
    "duration": 0,
    "start_time": "2022-04-19T16:16:53.658Z"
   },
   {
    "duration": 0,
    "start_time": "2022-04-19T16:16:53.659Z"
   },
   {
    "duration": 0,
    "start_time": "2022-04-19T16:16:53.662Z"
   },
   {
    "duration": 0,
    "start_time": "2022-04-19T16:16:53.663Z"
   },
   {
    "duration": 0,
    "start_time": "2022-04-19T16:16:53.665Z"
   },
   {
    "duration": 0,
    "start_time": "2022-04-19T16:16:53.667Z"
   },
   {
    "duration": 0,
    "start_time": "2022-04-19T16:16:53.668Z"
   },
   {
    "duration": 0,
    "start_time": "2022-04-19T16:16:53.670Z"
   },
   {
    "duration": 0,
    "start_time": "2022-04-19T16:16:53.675Z"
   },
   {
    "duration": 0,
    "start_time": "2022-04-19T16:16:53.677Z"
   },
   {
    "duration": 1,
    "start_time": "2022-04-19T16:16:53.679Z"
   },
   {
    "duration": 0,
    "start_time": "2022-04-19T16:16:53.684Z"
   },
   {
    "duration": 0,
    "start_time": "2022-04-19T16:16:53.686Z"
   },
   {
    "duration": 0,
    "start_time": "2022-04-19T16:16:53.687Z"
   },
   {
    "duration": 0,
    "start_time": "2022-04-19T16:16:53.689Z"
   },
   {
    "duration": 0,
    "start_time": "2022-04-19T16:16:53.691Z"
   },
   {
    "duration": 0,
    "start_time": "2022-04-19T16:16:53.693Z"
   },
   {
    "duration": 0,
    "start_time": "2022-04-19T16:16:53.695Z"
   },
   {
    "duration": 0,
    "start_time": "2022-04-19T16:16:53.697Z"
   },
   {
    "duration": 0,
    "start_time": "2022-04-19T16:16:53.698Z"
   },
   {
    "duration": 0,
    "start_time": "2022-04-19T16:16:53.754Z"
   },
   {
    "duration": 0,
    "start_time": "2022-04-19T16:16:53.756Z"
   },
   {
    "duration": 0,
    "start_time": "2022-04-19T16:16:53.757Z"
   },
   {
    "duration": 0,
    "start_time": "2022-04-19T16:16:53.759Z"
   },
   {
    "duration": 0,
    "start_time": "2022-04-19T16:16:53.761Z"
   },
   {
    "duration": 0,
    "start_time": "2022-04-19T16:16:53.762Z"
   },
   {
    "duration": 0,
    "start_time": "2022-04-19T16:16:53.763Z"
   },
   {
    "duration": 0,
    "start_time": "2022-04-19T16:16:53.765Z"
   },
   {
    "duration": 0,
    "start_time": "2022-04-19T16:16:53.766Z"
   },
   {
    "duration": 0,
    "start_time": "2022-04-19T16:16:53.772Z"
   },
   {
    "duration": 0,
    "start_time": "2022-04-19T16:16:53.774Z"
   },
   {
    "duration": 0,
    "start_time": "2022-04-19T16:16:53.776Z"
   },
   {
    "duration": 0,
    "start_time": "2022-04-19T16:16:53.778Z"
   },
   {
    "duration": 0,
    "start_time": "2022-04-19T16:16:53.780Z"
   },
   {
    "duration": 0,
    "start_time": "2022-04-19T16:16:53.782Z"
   },
   {
    "duration": 0,
    "start_time": "2022-04-19T16:16:53.784Z"
   },
   {
    "duration": 0,
    "start_time": "2022-04-19T16:16:53.785Z"
   },
   {
    "duration": 1,
    "start_time": "2022-04-19T16:16:53.787Z"
   },
   {
    "duration": 0,
    "start_time": "2022-04-19T16:16:53.789Z"
   },
   {
    "duration": 0,
    "start_time": "2022-04-19T16:16:53.790Z"
   },
   {
    "duration": 0,
    "start_time": "2022-04-19T16:16:53.791Z"
   },
   {
    "duration": 0,
    "start_time": "2022-04-19T16:16:53.793Z"
   },
   {
    "duration": 0,
    "start_time": "2022-04-19T16:16:53.794Z"
   },
   {
    "duration": 0,
    "start_time": "2022-04-19T16:16:53.856Z"
   },
   {
    "duration": 0,
    "start_time": "2022-04-19T16:16:53.857Z"
   },
   {
    "duration": 0,
    "start_time": "2022-04-19T16:16:53.859Z"
   },
   {
    "duration": 0,
    "start_time": "2022-04-19T16:16:53.861Z"
   },
   {
    "duration": 0,
    "start_time": "2022-04-19T16:16:53.862Z"
   },
   {
    "duration": 0,
    "start_time": "2022-04-19T16:16:53.864Z"
   },
   {
    "duration": 0,
    "start_time": "2022-04-19T16:16:53.866Z"
   },
   {
    "duration": 0,
    "start_time": "2022-04-19T16:16:53.867Z"
   },
   {
    "duration": 1582,
    "start_time": "2022-04-19T16:17:30.560Z"
   },
   {
    "duration": 77,
    "start_time": "2022-04-19T16:17:32.145Z"
   },
   {
    "duration": 17,
    "start_time": "2022-04-19T16:17:32.225Z"
   },
   {
    "duration": 16,
    "start_time": "2022-04-19T16:17:32.256Z"
   },
   {
    "duration": 8,
    "start_time": "2022-04-19T16:17:32.275Z"
   },
   {
    "duration": 17,
    "start_time": "2022-04-19T16:17:32.286Z"
   },
   {
    "duration": 7,
    "start_time": "2022-04-19T16:17:32.306Z"
   },
   {
    "duration": 66,
    "start_time": "2022-04-19T16:17:32.315Z"
   },
   {
    "duration": 8,
    "start_time": "2022-04-19T16:17:32.383Z"
   },
   {
    "duration": 22,
    "start_time": "2022-04-19T16:17:32.396Z"
   },
   {
    "duration": 36,
    "start_time": "2022-04-19T16:17:32.420Z"
   },
   {
    "duration": 13,
    "start_time": "2022-04-19T16:17:32.464Z"
   },
   {
    "duration": 27,
    "start_time": "2022-04-19T16:17:32.480Z"
   },
   {
    "duration": 13,
    "start_time": "2022-04-19T16:17:32.509Z"
   },
   {
    "duration": 41,
    "start_time": "2022-04-19T16:17:32.524Z"
   },
   {
    "duration": 25,
    "start_time": "2022-04-19T16:17:32.568Z"
   },
   {
    "duration": 15,
    "start_time": "2022-04-19T16:17:32.596Z"
   },
   {
    "duration": 29,
    "start_time": "2022-04-19T16:17:32.613Z"
   },
   {
    "duration": 3,
    "start_time": "2022-04-19T16:17:32.645Z"
   },
   {
    "duration": 25,
    "start_time": "2022-04-19T16:17:32.651Z"
   },
   {
    "duration": 19,
    "start_time": "2022-04-19T16:17:32.679Z"
   },
   {
    "duration": 38,
    "start_time": "2022-04-19T16:17:32.700Z"
   },
   {
    "duration": 20,
    "start_time": "2022-04-19T16:17:32.740Z"
   },
   {
    "duration": 549,
    "start_time": "2022-04-19T16:17:32.767Z"
   },
   {
    "duration": 495,
    "start_time": "2022-04-19T16:17:33.318Z"
   },
   {
    "duration": 16,
    "start_time": "2022-04-19T16:17:33.815Z"
   },
   {
    "duration": 41,
    "start_time": "2022-04-19T16:17:33.834Z"
   },
   {
    "duration": 11,
    "start_time": "2022-04-19T16:17:33.883Z"
   },
   {
    "duration": 9,
    "start_time": "2022-04-19T16:17:33.897Z"
   },
   {
    "duration": 371,
    "start_time": "2022-04-19T16:17:33.909Z"
   },
   {
    "duration": 28,
    "start_time": "2022-04-19T16:17:34.283Z"
   },
   {
    "duration": 56,
    "start_time": "2022-04-19T16:17:34.314Z"
   },
   {
    "duration": 20,
    "start_time": "2022-04-19T16:17:34.373Z"
   },
   {
    "duration": 2673,
    "start_time": "2022-04-19T16:17:34.396Z"
   },
   {
    "duration": 757,
    "start_time": "2022-04-19T16:17:37.072Z"
   },
   {
    "duration": 61,
    "start_time": "2022-04-19T16:17:37.832Z"
   },
   {
    "duration": 8,
    "start_time": "2022-04-19T16:17:37.896Z"
   },
   {
    "duration": 588,
    "start_time": "2022-04-19T16:17:37.906Z"
   },
   {
    "duration": 8,
    "start_time": "2022-04-19T16:17:38.497Z"
   },
   {
    "duration": 16,
    "start_time": "2022-04-19T16:17:38.507Z"
   },
   {
    "duration": 45,
    "start_time": "2022-04-19T16:17:38.525Z"
   },
   {
    "duration": 11,
    "start_time": "2022-04-19T16:17:38.573Z"
   },
   {
    "duration": 388,
    "start_time": "2022-04-19T16:17:38.586Z"
   },
   {
    "duration": 280,
    "start_time": "2022-04-19T16:17:38.977Z"
   },
   {
    "duration": 297,
    "start_time": "2022-04-19T16:17:39.267Z"
   },
   {
    "duration": 47,
    "start_time": "2022-04-19T16:17:39.567Z"
   },
   {
    "duration": 67,
    "start_time": "2022-04-19T16:17:39.617Z"
   },
   {
    "duration": 19,
    "start_time": "2022-04-19T16:17:39.686Z"
   },
   {
    "duration": 45,
    "start_time": "2022-04-19T16:17:39.708Z"
   },
   {
    "duration": 19,
    "start_time": "2022-04-19T16:17:39.761Z"
   },
   {
    "duration": 24,
    "start_time": "2022-04-19T16:17:39.783Z"
   },
   {
    "duration": 25,
    "start_time": "2022-04-19T16:17:39.809Z"
   },
   {
    "duration": 21,
    "start_time": "2022-04-19T16:17:39.852Z"
   },
   {
    "duration": 15,
    "start_time": "2022-04-19T16:17:39.875Z"
   },
   {
    "duration": 19,
    "start_time": "2022-04-19T16:17:39.892Z"
   },
   {
    "duration": 55,
    "start_time": "2022-04-19T16:17:39.913Z"
   },
   {
    "duration": 20,
    "start_time": "2022-04-19T16:17:39.971Z"
   },
   {
    "duration": 29,
    "start_time": "2022-04-19T16:17:39.993Z"
   },
   {
    "duration": 7,
    "start_time": "2022-04-19T16:17:40.025Z"
   },
   {
    "duration": 26,
    "start_time": "2022-04-19T16:17:40.051Z"
   },
   {
    "duration": 4,
    "start_time": "2022-04-20T09:41:22.038Z"
   },
   {
    "duration": 1190,
    "start_time": "2022-04-20T09:41:37.591Z"
   },
   {
    "duration": 45,
    "start_time": "2022-04-20T09:41:38.783Z"
   },
   {
    "duration": 30,
    "start_time": "2022-04-20T09:41:38.830Z"
   },
   {
    "duration": 9,
    "start_time": "2022-04-20T09:41:38.862Z"
   },
   {
    "duration": 5,
    "start_time": "2022-04-20T09:41:38.873Z"
   },
   {
    "duration": 11,
    "start_time": "2022-04-20T09:41:38.879Z"
   },
   {
    "duration": 2,
    "start_time": "2022-04-20T09:41:38.891Z"
   },
   {
    "duration": 3,
    "start_time": "2022-04-20T09:41:38.895Z"
   },
   {
    "duration": 3,
    "start_time": "2022-04-20T09:41:38.900Z"
   },
   {
    "duration": 3,
    "start_time": "2022-04-20T09:41:38.905Z"
   },
   {
    "duration": 3,
    "start_time": "2022-04-20T09:41:38.910Z"
   },
   {
    "duration": 5,
    "start_time": "2022-04-20T09:41:38.915Z"
   },
   {
    "duration": 42,
    "start_time": "2022-04-20T09:41:38.922Z"
   },
   {
    "duration": 8,
    "start_time": "2022-04-20T09:41:38.966Z"
   },
   {
    "duration": 7,
    "start_time": "2022-04-20T09:41:38.975Z"
   },
   {
    "duration": 9,
    "start_time": "2022-04-20T09:41:38.983Z"
   },
   {
    "duration": 6,
    "start_time": "2022-04-20T09:41:38.993Z"
   },
   {
    "duration": 9,
    "start_time": "2022-04-20T09:41:39.000Z"
   },
   {
    "duration": 3,
    "start_time": "2022-04-20T09:41:39.010Z"
   },
   {
    "duration": 37,
    "start_time": "2022-04-20T09:41:39.014Z"
   },
   {
    "duration": 19,
    "start_time": "2022-04-20T09:41:39.053Z"
   },
   {
    "duration": 20,
    "start_time": "2022-04-20T09:41:39.073Z"
   },
   {
    "duration": 5,
    "start_time": "2022-04-20T09:41:39.094Z"
   },
   {
    "duration": 242,
    "start_time": "2022-04-20T09:41:39.100Z"
   },
   {
    "duration": 219,
    "start_time": "2022-04-20T09:41:39.347Z"
   },
   {
    "duration": 10,
    "start_time": "2022-04-20T09:41:39.567Z"
   },
   {
    "duration": 12,
    "start_time": "2022-04-20T09:41:39.579Z"
   },
   {
    "duration": 7,
    "start_time": "2022-04-20T09:41:39.595Z"
   },
   {
    "duration": 5,
    "start_time": "2022-04-20T09:41:39.604Z"
   },
   {
    "duration": 193,
    "start_time": "2022-04-20T09:41:39.611Z"
   },
   {
    "duration": 15,
    "start_time": "2022-04-20T09:41:39.805Z"
   },
   {
    "duration": 31,
    "start_time": "2022-04-20T09:41:39.821Z"
   },
   {
    "duration": 12,
    "start_time": "2022-04-20T09:41:39.853Z"
   },
   {
    "duration": 1247,
    "start_time": "2022-04-20T09:41:39.867Z"
   },
   {
    "duration": 334,
    "start_time": "2022-04-20T09:41:41.116Z"
   },
   {
    "duration": 26,
    "start_time": "2022-04-20T09:41:41.452Z"
   },
   {
    "duration": 5,
    "start_time": "2022-04-20T09:41:41.480Z"
   },
   {
    "duration": 395,
    "start_time": "2022-04-20T09:41:41.486Z"
   },
   {
    "duration": 0,
    "start_time": "2022-04-20T09:41:41.882Z"
   },
   {
    "duration": 0,
    "start_time": "2022-04-20T09:41:41.883Z"
   },
   {
    "duration": 0,
    "start_time": "2022-04-20T09:41:41.884Z"
   },
   {
    "duration": 0,
    "start_time": "2022-04-20T09:41:41.886Z"
   },
   {
    "duration": 0,
    "start_time": "2022-04-20T09:41:41.887Z"
   },
   {
    "duration": 0,
    "start_time": "2022-04-20T09:41:41.887Z"
   },
   {
    "duration": 0,
    "start_time": "2022-04-20T09:41:41.888Z"
   },
   {
    "duration": 0,
    "start_time": "2022-04-20T09:41:41.890Z"
   },
   {
    "duration": 1,
    "start_time": "2022-04-20T09:41:41.890Z"
   },
   {
    "duration": 0,
    "start_time": "2022-04-20T09:41:41.891Z"
   },
   {
    "duration": 0,
    "start_time": "2022-04-20T09:41:41.892Z"
   },
   {
    "duration": 0,
    "start_time": "2022-04-20T09:41:41.894Z"
   },
   {
    "duration": 0,
    "start_time": "2022-04-20T09:41:41.895Z"
   },
   {
    "duration": 0,
    "start_time": "2022-04-20T09:41:41.895Z"
   },
   {
    "duration": 0,
    "start_time": "2022-04-20T09:41:41.896Z"
   },
   {
    "duration": 0,
    "start_time": "2022-04-20T09:41:41.897Z"
   },
   {
    "duration": 0,
    "start_time": "2022-04-20T09:41:41.898Z"
   },
   {
    "duration": 0,
    "start_time": "2022-04-20T09:41:41.899Z"
   },
   {
    "duration": 0,
    "start_time": "2022-04-20T09:41:41.900Z"
   },
   {
    "duration": 0,
    "start_time": "2022-04-20T09:41:41.901Z"
   },
   {
    "duration": 0,
    "start_time": "2022-04-20T09:41:41.902Z"
   },
   {
    "duration": 0,
    "start_time": "2022-04-20T09:41:41.903Z"
   },
   {
    "duration": 1403,
    "start_time": "2022-04-20T10:03:13.443Z"
   },
   {
    "duration": 288,
    "start_time": "2022-04-20T10:03:14.850Z"
   },
   {
    "duration": 19,
    "start_time": "2022-04-20T10:03:15.140Z"
   },
   {
    "duration": 11,
    "start_time": "2022-04-20T10:03:15.163Z"
   },
   {
    "duration": 17,
    "start_time": "2022-04-20T10:03:15.175Z"
   },
   {
    "duration": 13,
    "start_time": "2022-04-20T10:03:15.194Z"
   },
   {
    "duration": 2,
    "start_time": "2022-04-20T10:03:15.209Z"
   },
   {
    "duration": 5,
    "start_time": "2022-04-20T10:03:15.213Z"
   },
   {
    "duration": 7,
    "start_time": "2022-04-20T10:03:15.220Z"
   },
   {
    "duration": 18,
    "start_time": "2022-04-20T10:03:15.230Z"
   },
   {
    "duration": 15,
    "start_time": "2022-04-20T10:03:15.249Z"
   },
   {
    "duration": 7,
    "start_time": "2022-04-20T10:03:15.265Z"
   },
   {
    "duration": 26,
    "start_time": "2022-04-20T10:03:15.273Z"
   },
   {
    "duration": 15,
    "start_time": "2022-04-20T10:03:15.301Z"
   },
   {
    "duration": 3,
    "start_time": "2022-04-20T10:03:15.318Z"
   },
   {
    "duration": 30,
    "start_time": "2022-04-20T10:03:15.323Z"
   },
   {
    "duration": 13,
    "start_time": "2022-04-20T10:03:15.355Z"
   },
   {
    "duration": 8,
    "start_time": "2022-04-20T10:03:15.370Z"
   },
   {
    "duration": 2,
    "start_time": "2022-04-20T10:03:15.380Z"
   },
   {
    "duration": 9,
    "start_time": "2022-04-20T10:03:15.383Z"
   },
   {
    "duration": 12,
    "start_time": "2022-04-20T10:03:15.394Z"
   },
   {
    "duration": 64,
    "start_time": "2022-04-20T10:03:15.408Z"
   },
   {
    "duration": 5,
    "start_time": "2022-04-20T10:03:15.475Z"
   },
   {
    "duration": 373,
    "start_time": "2022-04-20T10:03:15.482Z"
   },
   {
    "duration": 304,
    "start_time": "2022-04-20T10:03:15.856Z"
   },
   {
    "duration": 11,
    "start_time": "2022-04-20T10:03:16.163Z"
   },
   {
    "duration": 13,
    "start_time": "2022-04-20T10:03:16.176Z"
   },
   {
    "duration": 7,
    "start_time": "2022-04-20T10:03:16.193Z"
   },
   {
    "duration": 8,
    "start_time": "2022-04-20T10:03:16.202Z"
   },
   {
    "duration": 215,
    "start_time": "2022-04-20T10:03:16.212Z"
   },
   {
    "duration": 28,
    "start_time": "2022-04-20T10:03:16.429Z"
   },
   {
    "duration": 16,
    "start_time": "2022-04-20T10:03:16.460Z"
   },
   {
    "duration": 113,
    "start_time": "2022-04-20T10:03:16.478Z"
   },
   {
    "duration": 0,
    "start_time": "2022-04-20T10:03:16.593Z"
   },
   {
    "duration": 0,
    "start_time": "2022-04-20T10:03:16.594Z"
   },
   {
    "duration": 0,
    "start_time": "2022-04-20T10:03:16.595Z"
   },
   {
    "duration": 0,
    "start_time": "2022-04-20T10:03:16.596Z"
   },
   {
    "duration": 0,
    "start_time": "2022-04-20T10:03:16.597Z"
   },
   {
    "duration": 0,
    "start_time": "2022-04-20T10:03:16.598Z"
   },
   {
    "duration": 0,
    "start_time": "2022-04-20T10:03:16.599Z"
   },
   {
    "duration": 0,
    "start_time": "2022-04-20T10:03:16.600Z"
   },
   {
    "duration": 0,
    "start_time": "2022-04-20T10:03:16.601Z"
   },
   {
    "duration": 0,
    "start_time": "2022-04-20T10:03:16.602Z"
   },
   {
    "duration": 0,
    "start_time": "2022-04-20T10:03:16.603Z"
   },
   {
    "duration": 0,
    "start_time": "2022-04-20T10:03:16.605Z"
   },
   {
    "duration": 0,
    "start_time": "2022-04-20T10:03:16.606Z"
   },
   {
    "duration": 0,
    "start_time": "2022-04-20T10:03:16.607Z"
   },
   {
    "duration": 0,
    "start_time": "2022-04-20T10:03:16.608Z"
   },
   {
    "duration": 0,
    "start_time": "2022-04-20T10:03:16.609Z"
   },
   {
    "duration": 0,
    "start_time": "2022-04-20T10:03:16.610Z"
   },
   {
    "duration": 0,
    "start_time": "2022-04-20T10:03:16.611Z"
   },
   {
    "duration": 0,
    "start_time": "2022-04-20T10:03:16.647Z"
   },
   {
    "duration": 0,
    "start_time": "2022-04-20T10:03:16.649Z"
   },
   {
    "duration": 0,
    "start_time": "2022-04-20T10:03:16.650Z"
   },
   {
    "duration": 0,
    "start_time": "2022-04-20T10:03:16.654Z"
   },
   {
    "duration": 0,
    "start_time": "2022-04-20T10:03:16.656Z"
   },
   {
    "duration": 0,
    "start_time": "2022-04-20T10:03:16.657Z"
   },
   {
    "duration": 0,
    "start_time": "2022-04-20T10:03:16.659Z"
   },
   {
    "duration": 0,
    "start_time": "2022-04-20T10:03:16.661Z"
   },
   {
    "duration": 0,
    "start_time": "2022-04-20T10:03:16.663Z"
   },
   {
    "duration": 11,
    "start_time": "2022-04-20T10:04:50.810Z"
   },
   {
    "duration": 695,
    "start_time": "2022-04-20T10:04:53.755Z"
   },
   {
    "duration": 473,
    "start_time": "2022-04-20T10:12:42.906Z"
   },
   {
    "duration": 166,
    "start_time": "2022-04-20T10:19:10.277Z"
   },
   {
    "duration": 1265,
    "start_time": "2022-04-20T10:28:54.752Z"
   },
   {
    "duration": 2,
    "start_time": "2022-04-20T10:31:31.262Z"
   },
   {
    "duration": 167,
    "start_time": "2022-04-20T10:31:34.609Z"
   },
   {
    "duration": 147,
    "start_time": "2022-04-20T10:31:58.870Z"
   },
   {
    "duration": 3504,
    "start_time": "2022-04-20T10:36:34.841Z"
   },
   {
    "duration": 131,
    "start_time": "2022-04-20T10:37:07.711Z"
   },
   {
    "duration": 99,
    "start_time": "2022-04-20T10:48:26.751Z"
   },
   {
    "duration": 104,
    "start_time": "2022-04-20T10:48:45.905Z"
   },
   {
    "duration": 16,
    "start_time": "2022-04-20T10:49:00.001Z"
   },
   {
    "duration": 1472,
    "start_time": "2022-04-20T10:49:23.744Z"
   },
   {
    "duration": 1616,
    "start_time": "2022-04-20T10:52:51.422Z"
   },
   {
    "duration": 1383,
    "start_time": "2022-04-20T10:53:11.380Z"
   },
   {
    "duration": 1156,
    "start_time": "2022-04-20T10:54:23.900Z"
   },
   {
    "duration": 1128,
    "start_time": "2022-04-20T10:54:44.421Z"
   },
   {
    "duration": 1324,
    "start_time": "2022-04-20T10:55:38.012Z"
   },
   {
    "duration": 1245,
    "start_time": "2022-04-20T10:57:30.475Z"
   },
   {
    "duration": 1378,
    "start_time": "2022-04-20T10:57:41.082Z"
   },
   {
    "duration": 170,
    "start_time": "2022-04-20T11:00:58.237Z"
   },
   {
    "duration": 237,
    "start_time": "2022-04-20T11:01:29.975Z"
   },
   {
    "duration": 224,
    "start_time": "2022-04-20T11:03:13.491Z"
   },
   {
    "duration": 242,
    "start_time": "2022-04-20T11:03:57.725Z"
   },
   {
    "duration": 317,
    "start_time": "2022-04-20T11:04:56.023Z"
   },
   {
    "duration": 321,
    "start_time": "2022-04-20T11:08:10.098Z"
   },
   {
    "duration": 380,
    "start_time": "2022-04-20T11:10:26.303Z"
   },
   {
    "duration": 214,
    "start_time": "2022-04-20T11:31:50.836Z"
   },
   {
    "duration": 355,
    "start_time": "2022-04-20T11:32:43.436Z"
   },
   {
    "duration": 15,
    "start_time": "2022-04-20T12:25:39.303Z"
   },
   {
    "duration": 13,
    "start_time": "2022-04-20T12:25:40.448Z"
   },
   {
    "duration": 14,
    "start_time": "2022-04-20T12:27:10.581Z"
   },
   {
    "duration": 1070,
    "start_time": "2022-04-20T12:27:16.757Z"
   },
   {
    "duration": 47,
    "start_time": "2022-04-20T12:27:17.829Z"
   },
   {
    "duration": 11,
    "start_time": "2022-04-20T12:27:17.877Z"
   },
   {
    "duration": 8,
    "start_time": "2022-04-20T12:27:17.890Z"
   },
   {
    "duration": 4,
    "start_time": "2022-04-20T12:27:17.900Z"
   },
   {
    "duration": 10,
    "start_time": "2022-04-20T12:27:17.906Z"
   },
   {
    "duration": 4,
    "start_time": "2022-04-20T12:27:17.918Z"
   },
   {
    "duration": 6,
    "start_time": "2022-04-20T12:27:17.948Z"
   },
   {
    "duration": 11,
    "start_time": "2022-04-20T12:27:17.956Z"
   },
   {
    "duration": 5,
    "start_time": "2022-04-20T12:27:17.969Z"
   },
   {
    "duration": 7,
    "start_time": "2022-04-20T12:27:17.975Z"
   },
   {
    "duration": 7,
    "start_time": "2022-04-20T12:27:17.984Z"
   },
   {
    "duration": 18,
    "start_time": "2022-04-20T12:27:17.992Z"
   },
   {
    "duration": 12,
    "start_time": "2022-04-20T12:27:18.011Z"
   },
   {
    "duration": 3,
    "start_time": "2022-04-20T12:27:18.025Z"
   },
   {
    "duration": 21,
    "start_time": "2022-04-20T12:27:18.030Z"
   },
   {
    "duration": 6,
    "start_time": "2022-04-20T12:27:18.053Z"
   },
   {
    "duration": 10,
    "start_time": "2022-04-20T12:27:18.060Z"
   },
   {
    "duration": 3,
    "start_time": "2022-04-20T12:27:18.071Z"
   },
   {
    "duration": 8,
    "start_time": "2022-04-20T12:27:18.075Z"
   },
   {
    "duration": 12,
    "start_time": "2022-04-20T12:27:18.085Z"
   },
   {
    "duration": 51,
    "start_time": "2022-04-20T12:27:18.099Z"
   },
   {
    "duration": 5,
    "start_time": "2022-04-20T12:27:18.152Z"
   },
   {
    "duration": 302,
    "start_time": "2022-04-20T12:27:18.158Z"
   },
   {
    "duration": 277,
    "start_time": "2022-04-20T12:27:18.462Z"
   },
   {
    "duration": 15,
    "start_time": "2022-04-20T12:27:18.740Z"
   },
   {
    "duration": 13,
    "start_time": "2022-04-20T12:27:18.757Z"
   },
   {
    "duration": 7,
    "start_time": "2022-04-20T12:27:18.773Z"
   },
   {
    "duration": 386,
    "start_time": "2022-04-20T12:27:18.782Z"
   },
   {
    "duration": 2,
    "start_time": "2022-04-20T12:27:19.170Z"
   },
   {
    "duration": 16,
    "start_time": "2022-04-20T12:27:19.174Z"
   },
   {
    "duration": 13,
    "start_time": "2022-04-20T12:27:19.191Z"
   },
   {
    "duration": 97,
    "start_time": "2022-04-20T12:27:19.206Z"
   },
   {
    "duration": 0,
    "start_time": "2022-04-20T12:27:19.304Z"
   },
   {
    "duration": 0,
    "start_time": "2022-04-20T12:27:19.305Z"
   },
   {
    "duration": 0,
    "start_time": "2022-04-20T12:27:19.306Z"
   },
   {
    "duration": 0,
    "start_time": "2022-04-20T12:27:19.307Z"
   },
   {
    "duration": 0,
    "start_time": "2022-04-20T12:27:19.309Z"
   },
   {
    "duration": 0,
    "start_time": "2022-04-20T12:27:19.309Z"
   },
   {
    "duration": 0,
    "start_time": "2022-04-20T12:27:19.311Z"
   },
   {
    "duration": 0,
    "start_time": "2022-04-20T12:27:19.312Z"
   },
   {
    "duration": 0,
    "start_time": "2022-04-20T12:27:19.313Z"
   },
   {
    "duration": 0,
    "start_time": "2022-04-20T12:27:19.314Z"
   },
   {
    "duration": 0,
    "start_time": "2022-04-20T12:27:19.315Z"
   },
   {
    "duration": 0,
    "start_time": "2022-04-20T12:27:19.316Z"
   },
   {
    "duration": 0,
    "start_time": "2022-04-20T12:27:19.317Z"
   },
   {
    "duration": 0,
    "start_time": "2022-04-20T12:27:19.318Z"
   },
   {
    "duration": 0,
    "start_time": "2022-04-20T12:27:19.318Z"
   },
   {
    "duration": 0,
    "start_time": "2022-04-20T12:27:19.319Z"
   },
   {
    "duration": 0,
    "start_time": "2022-04-20T12:27:19.348Z"
   },
   {
    "duration": 0,
    "start_time": "2022-04-20T12:27:19.349Z"
   },
   {
    "duration": 0,
    "start_time": "2022-04-20T12:27:19.350Z"
   },
   {
    "duration": 0,
    "start_time": "2022-04-20T12:27:19.351Z"
   },
   {
    "duration": 0,
    "start_time": "2022-04-20T12:27:19.352Z"
   },
   {
    "duration": 0,
    "start_time": "2022-04-20T12:27:19.353Z"
   },
   {
    "duration": 0,
    "start_time": "2022-04-20T12:27:19.354Z"
   },
   {
    "duration": 0,
    "start_time": "2022-04-20T12:27:19.355Z"
   },
   {
    "duration": 0,
    "start_time": "2022-04-20T12:27:19.356Z"
   },
   {
    "duration": 0,
    "start_time": "2022-04-20T12:27:19.357Z"
   },
   {
    "duration": 0,
    "start_time": "2022-04-20T12:27:19.358Z"
   },
   {
    "duration": 10,
    "start_time": "2022-04-20T12:31:08.245Z"
   },
   {
    "duration": 9,
    "start_time": "2022-04-20T12:31:14.622Z"
   },
   {
    "duration": 325,
    "start_time": "2022-04-20T12:31:24.389Z"
   },
   {
    "duration": 359,
    "start_time": "2022-04-20T12:33:46.171Z"
   },
   {
    "duration": 515,
    "start_time": "2022-04-20T12:35:30.254Z"
   },
   {
    "duration": 399,
    "start_time": "2022-04-20T12:35:41.199Z"
   },
   {
    "duration": 9,
    "start_time": "2022-04-20T12:45:28.933Z"
   },
   {
    "duration": 336,
    "start_time": "2022-04-20T12:45:36.276Z"
   },
   {
    "duration": 38,
    "start_time": "2022-04-20T12:46:20.932Z"
   },
   {
    "duration": 6,
    "start_time": "2022-04-20T12:48:00.178Z"
   },
   {
    "duration": 250,
    "start_time": "2022-04-20T12:48:04.243Z"
   },
   {
    "duration": 5,
    "start_time": "2022-04-20T12:52:13.340Z"
   },
   {
    "duration": 1109,
    "start_time": "2022-04-20T12:52:26.017Z"
   },
   {
    "duration": 62,
    "start_time": "2022-04-20T12:52:27.128Z"
   },
   {
    "duration": 12,
    "start_time": "2022-04-20T12:52:27.192Z"
   },
   {
    "duration": 8,
    "start_time": "2022-04-20T12:52:27.206Z"
   },
   {
    "duration": 5,
    "start_time": "2022-04-20T12:52:27.215Z"
   },
   {
    "duration": 35,
    "start_time": "2022-04-20T12:52:27.222Z"
   },
   {
    "duration": 31,
    "start_time": "2022-04-20T12:52:27.258Z"
   },
   {
    "duration": 6,
    "start_time": "2022-04-20T12:52:27.291Z"
   },
   {
    "duration": 4,
    "start_time": "2022-04-20T12:52:27.298Z"
   },
   {
    "duration": 3,
    "start_time": "2022-04-20T12:52:27.304Z"
   },
   {
    "duration": 4,
    "start_time": "2022-04-20T12:52:27.309Z"
   },
   {
    "duration": 10,
    "start_time": "2022-04-20T12:52:27.314Z"
   },
   {
    "duration": 14,
    "start_time": "2022-04-20T12:52:27.326Z"
   },
   {
    "duration": 16,
    "start_time": "2022-04-20T12:52:27.342Z"
   },
   {
    "duration": 33,
    "start_time": "2022-04-20T12:52:27.360Z"
   },
   {
    "duration": 11,
    "start_time": "2022-04-20T12:52:27.394Z"
   },
   {
    "duration": 6,
    "start_time": "2022-04-20T12:52:27.407Z"
   },
   {
    "duration": 8,
    "start_time": "2022-04-20T12:52:27.414Z"
   },
   {
    "duration": 2,
    "start_time": "2022-04-20T12:52:27.424Z"
   },
   {
    "duration": 13,
    "start_time": "2022-04-20T12:52:27.427Z"
   },
   {
    "duration": 52,
    "start_time": "2022-04-20T12:52:27.441Z"
   },
   {
    "duration": 21,
    "start_time": "2022-04-20T12:52:27.494Z"
   },
   {
    "duration": 5,
    "start_time": "2022-04-20T12:52:27.516Z"
   },
   {
    "duration": 316,
    "start_time": "2022-04-20T12:52:27.522Z"
   },
   {
    "duration": 312,
    "start_time": "2022-04-20T12:52:27.840Z"
   },
   {
    "duration": 20,
    "start_time": "2022-04-20T12:52:28.154Z"
   },
   {
    "duration": 29,
    "start_time": "2022-04-20T12:52:28.175Z"
   },
   {
    "duration": 7,
    "start_time": "2022-04-20T12:52:28.208Z"
   },
   {
    "duration": 408,
    "start_time": "2022-04-20T12:52:28.216Z"
   },
   {
    "duration": 3,
    "start_time": "2022-04-20T12:52:28.626Z"
   },
   {
    "duration": 18,
    "start_time": "2022-04-20T12:52:28.630Z"
   },
   {
    "duration": 19,
    "start_time": "2022-04-20T12:52:28.655Z"
   },
   {
    "duration": 24,
    "start_time": "2022-04-20T12:52:28.675Z"
   },
   {
    "duration": 407,
    "start_time": "2022-04-20T12:52:28.701Z"
   },
   {
    "duration": 322,
    "start_time": "2022-04-20T12:52:29.110Z"
   },
   {
    "duration": 39,
    "start_time": "2022-04-20T12:52:29.434Z"
   },
   {
    "duration": 16,
    "start_time": "2022-04-20T12:52:29.474Z"
   },
   {
    "duration": 265,
    "start_time": "2022-04-20T12:52:29.493Z"
   },
   {
    "duration": 7,
    "start_time": "2022-04-20T12:52:29.762Z"
   },
   {
    "duration": 25,
    "start_time": "2022-04-20T12:52:29.770Z"
   },
   {
    "duration": 104,
    "start_time": "2022-04-20T12:52:29.796Z"
   },
   {
    "duration": 0,
    "start_time": "2022-04-20T12:52:29.901Z"
   },
   {
    "duration": 0,
    "start_time": "2022-04-20T12:52:29.902Z"
   },
   {
    "duration": 0,
    "start_time": "2022-04-20T12:52:29.903Z"
   },
   {
    "duration": 0,
    "start_time": "2022-04-20T12:52:29.904Z"
   },
   {
    "duration": 0,
    "start_time": "2022-04-20T12:52:29.905Z"
   },
   {
    "duration": 0,
    "start_time": "2022-04-20T12:52:29.906Z"
   },
   {
    "duration": 0,
    "start_time": "2022-04-20T12:52:29.907Z"
   },
   {
    "duration": 0,
    "start_time": "2022-04-20T12:52:29.908Z"
   },
   {
    "duration": 0,
    "start_time": "2022-04-20T12:52:29.909Z"
   },
   {
    "duration": 0,
    "start_time": "2022-04-20T12:52:29.910Z"
   },
   {
    "duration": 0,
    "start_time": "2022-04-20T12:52:29.911Z"
   },
   {
    "duration": 0,
    "start_time": "2022-04-20T12:52:29.912Z"
   },
   {
    "duration": 0,
    "start_time": "2022-04-20T12:52:29.913Z"
   },
   {
    "duration": 0,
    "start_time": "2022-04-20T12:52:29.914Z"
   },
   {
    "duration": 0,
    "start_time": "2022-04-20T12:52:29.915Z"
   },
   {
    "duration": 0,
    "start_time": "2022-04-20T12:52:29.916Z"
   },
   {
    "duration": 0,
    "start_time": "2022-04-20T12:52:29.917Z"
   },
   {
    "duration": 0,
    "start_time": "2022-04-20T12:52:29.917Z"
   },
   {
    "duration": 0,
    "start_time": "2022-04-20T12:52:29.918Z"
   },
   {
    "duration": 7,
    "start_time": "2022-04-20T12:53:16.274Z"
   },
   {
    "duration": 5,
    "start_time": "2022-04-20T12:53:18.274Z"
   },
   {
    "duration": 219,
    "start_time": "2022-04-20T12:53:19.212Z"
   },
   {
    "duration": 133,
    "start_time": "2022-04-20T12:53:22.300Z"
   },
   {
    "duration": 182,
    "start_time": "2022-04-20T12:54:40.862Z"
   },
   {
    "duration": 126,
    "start_time": "2022-04-20T12:57:28.366Z"
   },
   {
    "duration": 133,
    "start_time": "2022-04-20T12:57:41.592Z"
   },
   {
    "duration": 167,
    "start_time": "2022-04-20T12:58:33.170Z"
   },
   {
    "duration": 31,
    "start_time": "2022-04-20T12:59:11.710Z"
   },
   {
    "duration": 33,
    "start_time": "2022-04-20T12:59:14.246Z"
   },
   {
    "duration": 183,
    "start_time": "2022-04-20T13:01:17.246Z"
   },
   {
    "duration": 312,
    "start_time": "2022-04-20T13:14:12.602Z"
   },
   {
    "duration": 250,
    "start_time": "2022-04-20T13:21:52.290Z"
   },
   {
    "duration": 12,
    "start_time": "2022-04-20T13:22:56.189Z"
   },
   {
    "duration": 10,
    "start_time": "2022-04-20T13:22:59.497Z"
   },
   {
    "duration": 10,
    "start_time": "2022-04-20T13:23:00.696Z"
   },
   {
    "duration": 14,
    "start_time": "2022-04-20T13:23:02.966Z"
   },
   {
    "duration": 12,
    "start_time": "2022-04-20T13:23:08.378Z"
   },
   {
    "duration": 14,
    "start_time": "2022-04-20T13:23:09.270Z"
   },
   {
    "duration": 14,
    "start_time": "2022-04-20T13:23:09.929Z"
   },
   {
    "duration": 10,
    "start_time": "2022-04-20T13:23:13.617Z"
   },
   {
    "duration": 13,
    "start_time": "2022-04-20T13:23:14.174Z"
   },
   {
    "duration": 17,
    "start_time": "2022-04-20T13:23:14.770Z"
   },
   {
    "duration": 8,
    "start_time": "2022-04-20T13:23:52.214Z"
   },
   {
    "duration": 4,
    "start_time": "2022-04-20T13:23:56.729Z"
   },
   {
    "duration": 5,
    "start_time": "2022-04-20T13:24:39.294Z"
   },
   {
    "duration": 8,
    "start_time": "2022-04-20T13:26:02.294Z"
   },
   {
    "duration": 6,
    "start_time": "2022-04-20T13:26:04.590Z"
   },
   {
    "duration": 10,
    "start_time": "2022-04-20T13:32:52.589Z"
   },
   {
    "duration": 10,
    "start_time": "2022-04-20T13:33:03.780Z"
   },
   {
    "duration": 9,
    "start_time": "2022-04-20T13:33:28.295Z"
   },
   {
    "duration": 4,
    "start_time": "2022-04-20T13:33:30.903Z"
   },
   {
    "duration": 154,
    "start_time": "2022-04-20T13:36:59.235Z"
   },
   {
    "duration": 13,
    "start_time": "2022-04-20T13:37:08.573Z"
   },
   {
    "duration": 7,
    "start_time": "2022-04-20T13:37:10.670Z"
   },
   {
    "duration": 23,
    "start_time": "2022-04-20T13:37:44.747Z"
   },
   {
    "duration": 13,
    "start_time": "2022-04-20T13:38:06.345Z"
   },
   {
    "duration": 7,
    "start_time": "2022-04-20T13:38:09.412Z"
   },
   {
    "duration": 13,
    "start_time": "2022-04-20T13:38:26.722Z"
   },
   {
    "duration": 7,
    "start_time": "2022-04-20T13:38:28.934Z"
   },
   {
    "duration": 36,
    "start_time": "2022-04-20T13:38:33.157Z"
   },
   {
    "duration": 17,
    "start_time": "2022-04-20T13:38:51.465Z"
   },
   {
    "duration": 28,
    "start_time": "2022-04-20T13:40:01.573Z"
   },
   {
    "duration": 23,
    "start_time": "2022-04-20T13:40:33.841Z"
   },
   {
    "duration": 24,
    "start_time": "2022-04-20T13:40:45.744Z"
   },
   {
    "duration": 12,
    "start_time": "2022-04-20T13:40:47.304Z"
   },
   {
    "duration": 7,
    "start_time": "2022-04-20T13:41:21.032Z"
   },
   {
    "duration": 9,
    "start_time": "2022-04-20T13:41:24.648Z"
   },
   {
    "duration": 7,
    "start_time": "2022-04-20T13:41:27.122Z"
   },
   {
    "duration": 8,
    "start_time": "2022-04-20T13:41:30.144Z"
   },
   {
    "duration": 11,
    "start_time": "2022-04-20T13:42:53.766Z"
   },
   {
    "duration": 25,
    "start_time": "2022-04-20T13:42:57.175Z"
   },
   {
    "duration": 8,
    "start_time": "2022-04-20T13:42:59.257Z"
   },
   {
    "duration": 29,
    "start_time": "2022-04-20T13:44:15.629Z"
   },
   {
    "duration": 7,
    "start_time": "2022-04-20T13:45:01.398Z"
   },
   {
    "duration": 7,
    "start_time": "2022-04-20T13:45:03.309Z"
   },
   {
    "duration": 7,
    "start_time": "2022-04-20T13:45:16.133Z"
   },
   {
    "duration": 7,
    "start_time": "2022-04-20T13:45:16.693Z"
   },
   {
    "duration": 8,
    "start_time": "2022-04-20T13:45:17.443Z"
   },
   {
    "duration": 22,
    "start_time": "2022-04-20T13:46:40.164Z"
   },
   {
    "duration": 6,
    "start_time": "2022-04-20T13:46:51.140Z"
   },
   {
    "duration": 14,
    "start_time": "2022-04-20T13:47:03.652Z"
   },
   {
    "duration": 6,
    "start_time": "2022-04-20T13:47:17.772Z"
   },
   {
    "duration": 6,
    "start_time": "2022-04-20T13:48:14.239Z"
   },
   {
    "duration": 7,
    "start_time": "2022-04-20T13:48:15.090Z"
   },
   {
    "duration": 1168,
    "start_time": "2022-04-20T13:53:48.720Z"
   },
   {
    "duration": 50,
    "start_time": "2022-04-20T13:53:49.892Z"
   },
   {
    "duration": 19,
    "start_time": "2022-04-20T13:53:49.944Z"
   },
   {
    "duration": 11,
    "start_time": "2022-04-20T13:53:49.965Z"
   },
   {
    "duration": 5,
    "start_time": "2022-04-20T13:53:49.977Z"
   },
   {
    "duration": 11,
    "start_time": "2022-04-20T13:53:49.983Z"
   },
   {
    "duration": 4,
    "start_time": "2022-04-20T13:53:49.996Z"
   },
   {
    "duration": 9,
    "start_time": "2022-04-20T13:53:50.002Z"
   },
   {
    "duration": 18,
    "start_time": "2022-04-20T13:53:50.013Z"
   },
   {
    "duration": 4,
    "start_time": "2022-04-20T13:53:50.033Z"
   },
   {
    "duration": 6,
    "start_time": "2022-04-20T13:53:50.039Z"
   },
   {
    "duration": 18,
    "start_time": "2022-04-20T13:53:50.047Z"
   },
   {
    "duration": 16,
    "start_time": "2022-04-20T13:53:50.067Z"
   },
   {
    "duration": 8,
    "start_time": "2022-04-20T13:53:50.085Z"
   },
   {
    "duration": 3,
    "start_time": "2022-04-20T13:53:50.095Z"
   },
   {
    "duration": 10,
    "start_time": "2022-04-20T13:53:50.099Z"
   },
   {
    "duration": 5,
    "start_time": "2022-04-20T13:53:50.111Z"
   },
   {
    "duration": 7,
    "start_time": "2022-04-20T13:53:50.118Z"
   },
   {
    "duration": 26,
    "start_time": "2022-04-20T13:53:50.127Z"
   },
   {
    "duration": 20,
    "start_time": "2022-04-20T13:53:50.157Z"
   },
   {
    "duration": 12,
    "start_time": "2022-04-20T13:53:50.179Z"
   },
   {
    "duration": 19,
    "start_time": "2022-04-20T13:53:50.193Z"
   },
   {
    "duration": 5,
    "start_time": "2022-04-20T13:53:50.213Z"
   },
   {
    "duration": 315,
    "start_time": "2022-04-20T13:53:50.219Z"
   },
   {
    "duration": 257,
    "start_time": "2022-04-20T13:53:50.535Z"
   },
   {
    "duration": 10,
    "start_time": "2022-04-20T13:53:50.793Z"
   },
   {
    "duration": 12,
    "start_time": "2022-04-20T13:53:50.807Z"
   },
   {
    "duration": 29,
    "start_time": "2022-04-20T13:53:50.820Z"
   },
   {
    "duration": 361,
    "start_time": "2022-04-20T13:53:50.851Z"
   },
   {
    "duration": 3,
    "start_time": "2022-04-20T13:53:51.214Z"
   },
   {
    "duration": 22,
    "start_time": "2022-04-20T13:53:51.219Z"
   },
   {
    "duration": 13,
    "start_time": "2022-04-20T13:53:51.243Z"
   },
   {
    "duration": 10,
    "start_time": "2022-04-20T13:53:51.258Z"
   },
   {
    "duration": 362,
    "start_time": "2022-04-20T13:53:51.270Z"
   },
   {
    "duration": 276,
    "start_time": "2022-04-20T13:53:51.633Z"
   },
   {
    "duration": 39,
    "start_time": "2022-04-20T13:53:51.911Z"
   },
   {
    "duration": 6,
    "start_time": "2022-04-20T13:53:51.952Z"
   },
   {
    "duration": 240,
    "start_time": "2022-04-20T13:53:51.959Z"
   },
   {
    "duration": 6,
    "start_time": "2022-04-20T13:53:52.201Z"
   },
   {
    "duration": 7,
    "start_time": "2022-04-20T13:53:52.208Z"
   },
   {
    "duration": 6,
    "start_time": "2022-04-20T13:53:52.216Z"
   },
   {
    "duration": 26,
    "start_time": "2022-04-20T13:53:52.223Z"
   },
   {
    "duration": 183,
    "start_time": "2022-04-20T13:53:52.250Z"
   },
   {
    "duration": 125,
    "start_time": "2022-04-20T13:53:52.435Z"
   },
   {
    "duration": 157,
    "start_time": "2022-04-20T13:53:52.562Z"
   },
   {
    "duration": 35,
    "start_time": "2022-04-20T13:53:52.722Z"
   },
   {
    "duration": 26,
    "start_time": "2022-04-20T13:53:52.759Z"
   },
   {
    "duration": 18,
    "start_time": "2022-04-20T13:53:52.787Z"
   },
   {
    "duration": 7,
    "start_time": "2022-04-20T13:53:52.807Z"
   },
   {
    "duration": 36,
    "start_time": "2022-04-20T13:53:52.815Z"
   },
   {
    "duration": 7,
    "start_time": "2022-04-20T13:53:52.853Z"
   },
   {
    "duration": 19,
    "start_time": "2022-04-20T13:53:52.861Z"
   },
   {
    "duration": 6,
    "start_time": "2022-04-20T13:53:52.882Z"
   },
   {
    "duration": 7,
    "start_time": "2022-04-20T13:53:52.889Z"
   },
   {
    "duration": 6,
    "start_time": "2022-04-20T13:53:52.898Z"
   },
   {
    "duration": 47,
    "start_time": "2022-04-20T13:53:52.905Z"
   },
   {
    "duration": 6,
    "start_time": "2022-04-20T13:53:52.954Z"
   },
   {
    "duration": 8,
    "start_time": "2022-04-20T13:53:52.961Z"
   },
   {
    "duration": 9,
    "start_time": "2022-04-20T13:53:52.971Z"
   },
   {
    "duration": 9,
    "start_time": "2022-04-20T13:53:52.981Z"
   },
   {
    "duration": 5,
    "start_time": "2022-04-20T13:53:52.992Z"
   },
   {
    "duration": 4,
    "start_time": "2022-04-20T13:53:52.998Z"
   },
   {
    "duration": 10,
    "start_time": "2022-04-20T14:23:21.606Z"
   },
   {
    "duration": 5,
    "start_time": "2022-04-20T14:23:24.438Z"
   },
   {
    "duration": 89,
    "start_time": "2022-04-20T14:23:51.693Z"
   },
   {
    "duration": 9,
    "start_time": "2022-04-20T14:24:20.221Z"
   },
   {
    "duration": 14,
    "start_time": "2022-04-20T14:24:24.926Z"
   },
   {
    "duration": 4,
    "start_time": "2022-04-20T14:24:44.213Z"
   },
   {
    "duration": 12,
    "start_time": "2022-04-20T14:25:25.772Z"
   },
   {
    "duration": 4,
    "start_time": "2022-04-20T14:26:02.387Z"
   },
   {
    "duration": 4,
    "start_time": "2022-04-20T14:26:08.650Z"
   },
   {
    "duration": 1070,
    "start_time": "2022-04-20T14:27:53.987Z"
   },
   {
    "duration": 71,
    "start_time": "2022-04-20T14:27:55.059Z"
   },
   {
    "duration": 10,
    "start_time": "2022-04-20T14:27:55.132Z"
   },
   {
    "duration": 9,
    "start_time": "2022-04-20T14:27:55.144Z"
   },
   {
    "duration": 6,
    "start_time": "2022-04-20T14:27:55.154Z"
   },
   {
    "duration": 11,
    "start_time": "2022-04-20T14:27:55.161Z"
   },
   {
    "duration": 4,
    "start_time": "2022-04-20T14:27:55.174Z"
   },
   {
    "duration": 9,
    "start_time": "2022-04-20T14:27:55.180Z"
   },
   {
    "duration": 12,
    "start_time": "2022-04-20T14:27:55.191Z"
   },
   {
    "duration": 3,
    "start_time": "2022-04-20T14:27:55.205Z"
   },
   {
    "duration": 5,
    "start_time": "2022-04-20T14:27:55.210Z"
   },
   {
    "duration": 6,
    "start_time": "2022-04-20T14:27:55.216Z"
   },
   {
    "duration": 29,
    "start_time": "2022-04-20T14:27:55.223Z"
   },
   {
    "duration": 8,
    "start_time": "2022-04-20T14:27:55.254Z"
   },
   {
    "duration": 3,
    "start_time": "2022-04-20T14:27:55.264Z"
   },
   {
    "duration": 18,
    "start_time": "2022-04-20T14:27:55.268Z"
   },
   {
    "duration": 7,
    "start_time": "2022-04-20T14:27:55.288Z"
   },
   {
    "duration": 9,
    "start_time": "2022-04-20T14:27:55.297Z"
   },
   {
    "duration": 2,
    "start_time": "2022-04-20T14:27:55.308Z"
   },
   {
    "duration": 37,
    "start_time": "2022-04-20T14:27:55.311Z"
   },
   {
    "duration": 18,
    "start_time": "2022-04-20T14:27:55.351Z"
   },
   {
    "duration": 27,
    "start_time": "2022-04-20T14:27:55.371Z"
   },
   {
    "duration": 4,
    "start_time": "2022-04-20T14:27:55.401Z"
   },
   {
    "duration": 303,
    "start_time": "2022-04-20T14:27:55.407Z"
   },
   {
    "duration": 274,
    "start_time": "2022-04-20T14:27:55.712Z"
   },
   {
    "duration": 10,
    "start_time": "2022-04-20T14:27:55.988Z"
   },
   {
    "duration": 20,
    "start_time": "2022-04-20T14:27:56.000Z"
   },
   {
    "duration": 30,
    "start_time": "2022-04-20T14:27:56.025Z"
   },
   {
    "duration": 359,
    "start_time": "2022-04-20T14:27:56.057Z"
   },
   {
    "duration": 2,
    "start_time": "2022-04-20T14:27:56.418Z"
   },
   {
    "duration": 20,
    "start_time": "2022-04-20T14:27:56.422Z"
   },
   {
    "duration": 12,
    "start_time": "2022-04-20T14:27:56.447Z"
   },
   {
    "duration": 10,
    "start_time": "2022-04-20T14:27:56.461Z"
   },
   {
    "duration": 371,
    "start_time": "2022-04-20T14:27:56.472Z"
   },
   {
    "duration": 273,
    "start_time": "2022-04-20T14:27:56.848Z"
   },
   {
    "duration": 40,
    "start_time": "2022-04-20T14:27:57.123Z"
   },
   {
    "duration": 4,
    "start_time": "2022-04-20T14:27:57.165Z"
   },
   {
    "duration": 248,
    "start_time": "2022-04-20T14:27:57.170Z"
   },
   {
    "duration": 5,
    "start_time": "2022-04-20T14:27:57.420Z"
   },
   {
    "duration": 20,
    "start_time": "2022-04-20T14:27:57.427Z"
   },
   {
    "duration": 6,
    "start_time": "2022-04-20T14:27:57.449Z"
   },
   {
    "duration": 5,
    "start_time": "2022-04-20T14:27:57.456Z"
   },
   {
    "duration": 197,
    "start_time": "2022-04-20T14:27:57.462Z"
   },
   {
    "duration": 123,
    "start_time": "2022-04-20T14:27:57.660Z"
   },
   {
    "duration": 168,
    "start_time": "2022-04-20T14:27:57.785Z"
   },
   {
    "duration": 32,
    "start_time": "2022-04-20T14:27:57.954Z"
   },
   {
    "duration": 26,
    "start_time": "2022-04-20T14:27:57.987Z"
   },
   {
    "duration": 43,
    "start_time": "2022-04-20T14:27:58.015Z"
   },
   {
    "duration": 8,
    "start_time": "2022-04-20T14:27:58.059Z"
   },
   {
    "duration": 7,
    "start_time": "2022-04-20T14:27:58.069Z"
   },
   {
    "duration": 8,
    "start_time": "2022-04-20T14:27:58.077Z"
   },
   {
    "duration": 18,
    "start_time": "2022-04-20T14:27:58.087Z"
   },
   {
    "duration": 6,
    "start_time": "2022-04-20T14:27:58.107Z"
   },
   {
    "duration": 33,
    "start_time": "2022-04-20T14:27:58.115Z"
   },
   {
    "duration": 8,
    "start_time": "2022-04-20T14:27:58.150Z"
   },
   {
    "duration": 19,
    "start_time": "2022-04-20T14:27:58.160Z"
   },
   {
    "duration": 6,
    "start_time": "2022-04-20T14:27:58.181Z"
   },
   {
    "duration": 7,
    "start_time": "2022-04-20T14:27:58.189Z"
   },
   {
    "duration": 8,
    "start_time": "2022-04-20T14:27:58.197Z"
   },
   {
    "duration": 41,
    "start_time": "2022-04-20T14:27:58.207Z"
   },
   {
    "duration": 12,
    "start_time": "2022-04-20T14:27:58.250Z"
   },
   {
    "duration": 5,
    "start_time": "2022-04-20T14:27:58.263Z"
   },
   {
    "duration": 5,
    "start_time": "2022-04-20T14:27:58.269Z"
   },
   {
    "duration": 125,
    "start_time": "2022-04-20T14:27:58.276Z"
   },
   {
    "duration": 1115,
    "start_time": "2022-04-20T14:40:14.573Z"
   },
   {
    "duration": 48,
    "start_time": "2022-04-20T14:40:15.690Z"
   },
   {
    "duration": 18,
    "start_time": "2022-04-20T14:40:15.740Z"
   },
   {
    "duration": 8,
    "start_time": "2022-04-20T14:40:15.761Z"
   },
   {
    "duration": 5,
    "start_time": "2022-04-20T14:40:15.771Z"
   },
   {
    "duration": 13,
    "start_time": "2022-04-20T14:40:15.777Z"
   },
   {
    "duration": 5,
    "start_time": "2022-04-20T14:40:15.792Z"
   },
   {
    "duration": 18,
    "start_time": "2022-04-20T14:40:15.798Z"
   },
   {
    "duration": 31,
    "start_time": "2022-04-20T14:40:15.818Z"
   },
   {
    "duration": 17,
    "start_time": "2022-04-20T14:40:15.852Z"
   },
   {
    "duration": 3,
    "start_time": "2022-04-20T14:40:15.870Z"
   },
   {
    "duration": 6,
    "start_time": "2022-04-20T14:40:15.875Z"
   },
   {
    "duration": 18,
    "start_time": "2022-04-20T14:40:15.882Z"
   },
   {
    "duration": 10,
    "start_time": "2022-04-20T14:40:15.901Z"
   },
   {
    "duration": 5,
    "start_time": "2022-04-20T14:40:15.912Z"
   },
   {
    "duration": 10,
    "start_time": "2022-04-20T14:40:15.947Z"
   },
   {
    "duration": 8,
    "start_time": "2022-04-20T14:40:15.959Z"
   },
   {
    "duration": 9,
    "start_time": "2022-04-20T14:40:15.968Z"
   },
   {
    "duration": 2,
    "start_time": "2022-04-20T14:40:15.979Z"
   },
   {
    "duration": 11,
    "start_time": "2022-04-20T14:40:15.983Z"
   },
   {
    "duration": 14,
    "start_time": "2022-04-20T14:40:15.996Z"
   },
   {
    "duration": 61,
    "start_time": "2022-04-20T14:40:16.012Z"
   },
   {
    "duration": 5,
    "start_time": "2022-04-20T14:40:16.075Z"
   },
   {
    "duration": 295,
    "start_time": "2022-04-20T14:40:16.082Z"
   },
   {
    "duration": 274,
    "start_time": "2022-04-20T14:40:16.379Z"
   },
   {
    "duration": 12,
    "start_time": "2022-04-20T14:40:16.654Z"
   },
   {
    "duration": 18,
    "start_time": "2022-04-20T14:40:16.667Z"
   },
   {
    "duration": 7,
    "start_time": "2022-04-20T14:40:16.689Z"
   },
   {
    "duration": 402,
    "start_time": "2022-04-20T14:40:16.698Z"
   },
   {
    "duration": 3,
    "start_time": "2022-04-20T14:40:17.102Z"
   },
   {
    "duration": 21,
    "start_time": "2022-04-20T14:40:17.107Z"
   },
   {
    "duration": 14,
    "start_time": "2022-04-20T14:40:17.130Z"
   },
   {
    "duration": 15,
    "start_time": "2022-04-20T14:40:17.147Z"
   },
   {
    "duration": 368,
    "start_time": "2022-04-20T14:40:17.163Z"
   },
   {
    "duration": 283,
    "start_time": "2022-04-20T14:40:17.533Z"
   },
   {
    "duration": 35,
    "start_time": "2022-04-20T14:40:17.818Z"
   },
   {
    "duration": 5,
    "start_time": "2022-04-20T14:40:17.854Z"
   },
   {
    "duration": 248,
    "start_time": "2022-04-20T14:40:17.860Z"
   },
   {
    "duration": 5,
    "start_time": "2022-04-20T14:40:18.110Z"
   },
   {
    "duration": 6,
    "start_time": "2022-04-20T14:40:18.116Z"
   },
   {
    "duration": 25,
    "start_time": "2022-04-20T14:40:18.123Z"
   },
   {
    "duration": 5,
    "start_time": "2022-04-20T14:40:18.150Z"
   },
   {
    "duration": 205,
    "start_time": "2022-04-20T14:40:18.156Z"
   },
   {
    "duration": 126,
    "start_time": "2022-04-20T14:40:18.363Z"
   },
   {
    "duration": 164,
    "start_time": "2022-04-20T14:40:18.491Z"
   },
   {
    "duration": 31,
    "start_time": "2022-04-20T14:40:18.657Z"
   },
   {
    "duration": 26,
    "start_time": "2022-04-20T14:40:18.690Z"
   },
   {
    "duration": 40,
    "start_time": "2022-04-20T14:40:18.718Z"
   },
   {
    "duration": 7,
    "start_time": "2022-04-20T14:40:18.760Z"
   },
   {
    "duration": 8,
    "start_time": "2022-04-20T14:40:18.769Z"
   },
   {
    "duration": 8,
    "start_time": "2022-04-20T14:40:18.779Z"
   },
   {
    "duration": 21,
    "start_time": "2022-04-20T14:40:18.788Z"
   },
   {
    "duration": 6,
    "start_time": "2022-04-20T14:40:18.811Z"
   },
   {
    "duration": 34,
    "start_time": "2022-04-20T14:40:18.819Z"
   },
   {
    "duration": 7,
    "start_time": "2022-04-20T14:40:18.855Z"
   },
   {
    "duration": 22,
    "start_time": "2022-04-20T14:40:18.864Z"
   },
   {
    "duration": 6,
    "start_time": "2022-04-20T14:40:18.887Z"
   },
   {
    "duration": 7,
    "start_time": "2022-04-20T14:40:18.894Z"
   },
   {
    "duration": 7,
    "start_time": "2022-04-20T14:40:18.903Z"
   },
   {
    "duration": 41,
    "start_time": "2022-04-20T14:40:18.911Z"
   },
   {
    "duration": 12,
    "start_time": "2022-04-20T14:40:18.953Z"
   },
   {
    "duration": 5,
    "start_time": "2022-04-20T14:40:18.966Z"
   },
   {
    "duration": 8,
    "start_time": "2022-04-20T14:40:18.972Z"
   },
   {
    "duration": 1238,
    "start_time": "2022-04-20T14:50:11.819Z"
   },
   {
    "duration": 52,
    "start_time": "2022-04-20T14:50:13.061Z"
   },
   {
    "duration": 10,
    "start_time": "2022-04-20T14:50:13.115Z"
   },
   {
    "duration": 9,
    "start_time": "2022-04-20T14:50:13.127Z"
   },
   {
    "duration": 10,
    "start_time": "2022-04-20T14:50:13.137Z"
   },
   {
    "duration": 13,
    "start_time": "2022-04-20T14:50:13.149Z"
   },
   {
    "duration": 11,
    "start_time": "2022-04-20T14:50:13.163Z"
   },
   {
    "duration": 19,
    "start_time": "2022-04-20T14:50:13.176Z"
   },
   {
    "duration": 3,
    "start_time": "2022-04-20T14:50:13.197Z"
   },
   {
    "duration": 22,
    "start_time": "2022-04-20T14:50:13.203Z"
   },
   {
    "duration": 20,
    "start_time": "2022-04-20T14:50:13.227Z"
   },
   {
    "duration": 6,
    "start_time": "2022-04-20T14:50:13.249Z"
   },
   {
    "duration": 27,
    "start_time": "2022-04-20T14:50:13.257Z"
   },
   {
    "duration": 11,
    "start_time": "2022-04-20T14:50:13.286Z"
   },
   {
    "duration": 4,
    "start_time": "2022-04-20T14:50:13.299Z"
   },
   {
    "duration": 16,
    "start_time": "2022-04-20T14:50:13.305Z"
   },
   {
    "duration": 29,
    "start_time": "2022-04-20T14:50:13.323Z"
   },
   {
    "duration": 11,
    "start_time": "2022-04-20T14:50:13.353Z"
   },
   {
    "duration": 4,
    "start_time": "2022-04-20T14:50:13.366Z"
   },
   {
    "duration": 14,
    "start_time": "2022-04-20T14:50:13.371Z"
   },
   {
    "duration": 12,
    "start_time": "2022-04-20T14:50:13.387Z"
   },
   {
    "duration": 23,
    "start_time": "2022-04-20T14:50:13.401Z"
   },
   {
    "duration": 23,
    "start_time": "2022-04-20T14:50:13.426Z"
   },
   {
    "duration": 322,
    "start_time": "2022-04-20T14:50:13.451Z"
   },
   {
    "duration": 273,
    "start_time": "2022-04-20T14:50:13.774Z"
   },
   {
    "duration": 10,
    "start_time": "2022-04-20T14:50:14.049Z"
   },
   {
    "duration": 17,
    "start_time": "2022-04-20T14:50:14.060Z"
   },
   {
    "duration": 8,
    "start_time": "2022-04-20T14:50:14.080Z"
   },
   {
    "duration": 391,
    "start_time": "2022-04-20T14:50:14.089Z"
   },
   {
    "duration": 3,
    "start_time": "2022-04-20T14:50:14.482Z"
   },
   {
    "duration": 20,
    "start_time": "2022-04-20T14:50:14.486Z"
   },
   {
    "duration": 14,
    "start_time": "2022-04-20T14:50:14.507Z"
   },
   {
    "duration": 10,
    "start_time": "2022-04-20T14:50:14.522Z"
   },
   {
    "duration": 360,
    "start_time": "2022-04-20T14:50:14.534Z"
   },
   {
    "duration": 294,
    "start_time": "2022-04-20T14:50:14.896Z"
   },
   {
    "duration": 27,
    "start_time": "2022-04-20T14:50:15.192Z"
   },
   {
    "duration": 4,
    "start_time": "2022-04-20T14:50:15.221Z"
   },
   {
    "duration": 255,
    "start_time": "2022-04-20T14:50:15.227Z"
   },
   {
    "duration": 5,
    "start_time": "2022-04-20T14:50:15.483Z"
   },
   {
    "duration": 11,
    "start_time": "2022-04-20T14:50:15.490Z"
   },
   {
    "duration": 8,
    "start_time": "2022-04-20T14:50:15.503Z"
   },
   {
    "duration": 7,
    "start_time": "2022-04-20T14:50:15.513Z"
   },
   {
    "duration": 219,
    "start_time": "2022-04-20T14:50:15.521Z"
   },
   {
    "duration": 125,
    "start_time": "2022-04-20T14:50:15.747Z"
   },
   {
    "duration": 240,
    "start_time": "2022-04-20T14:50:15.873Z"
   },
   {
    "duration": 47,
    "start_time": "2022-04-20T14:50:16.115Z"
   },
   {
    "duration": 30,
    "start_time": "2022-04-20T14:50:16.163Z"
   },
   {
    "duration": 23,
    "start_time": "2022-04-20T14:50:16.195Z"
   },
   {
    "duration": 28,
    "start_time": "2022-04-20T14:50:16.220Z"
   },
   {
    "duration": 9,
    "start_time": "2022-04-20T14:50:16.250Z"
   },
   {
    "duration": 11,
    "start_time": "2022-04-20T14:50:16.260Z"
   },
   {
    "duration": 26,
    "start_time": "2022-04-20T14:50:16.272Z"
   },
   {
    "duration": 6,
    "start_time": "2022-04-20T14:50:16.300Z"
   },
   {
    "duration": 12,
    "start_time": "2022-04-20T14:50:16.307Z"
   },
   {
    "duration": 31,
    "start_time": "2022-04-20T14:50:16.320Z"
   },
   {
    "duration": 27,
    "start_time": "2022-04-20T14:50:16.353Z"
   },
   {
    "duration": 9,
    "start_time": "2022-04-20T14:50:16.382Z"
   },
   {
    "duration": 14,
    "start_time": "2022-04-20T14:50:16.393Z"
   },
   {
    "duration": 11,
    "start_time": "2022-04-20T14:50:16.408Z"
   },
   {
    "duration": 31,
    "start_time": "2022-04-20T14:50:16.420Z"
   },
   {
    "duration": 17,
    "start_time": "2022-04-20T14:50:16.452Z"
   },
   {
    "duration": 18,
    "start_time": "2022-04-20T14:50:16.471Z"
   },
   {
    "duration": 13,
    "start_time": "2022-04-20T14:50:16.490Z"
   },
   {
    "duration": 1082,
    "start_time": "2022-04-20T14:54:34.700Z"
   },
   {
    "duration": 66,
    "start_time": "2022-04-20T14:54:35.784Z"
   },
   {
    "duration": 16,
    "start_time": "2022-04-20T14:54:35.852Z"
   },
   {
    "duration": 10,
    "start_time": "2022-04-20T14:54:35.871Z"
   },
   {
    "duration": 5,
    "start_time": "2022-04-20T14:54:35.883Z"
   },
   {
    "duration": 17,
    "start_time": "2022-04-20T14:54:35.890Z"
   },
   {
    "duration": 38,
    "start_time": "2022-04-20T14:54:35.909Z"
   },
   {
    "duration": 16,
    "start_time": "2022-04-20T14:54:35.949Z"
   },
   {
    "duration": 3,
    "start_time": "2022-04-20T14:54:35.966Z"
   },
   {
    "duration": 17,
    "start_time": "2022-04-20T14:54:35.971Z"
   },
   {
    "duration": 2,
    "start_time": "2022-04-20T14:54:35.990Z"
   },
   {
    "duration": 9,
    "start_time": "2022-04-20T14:54:35.994Z"
   },
   {
    "duration": 46,
    "start_time": "2022-04-20T14:54:36.005Z"
   },
   {
    "duration": 10,
    "start_time": "2022-04-20T14:54:36.053Z"
   },
   {
    "duration": 7,
    "start_time": "2022-04-20T14:54:36.065Z"
   },
   {
    "duration": 11,
    "start_time": "2022-04-20T14:54:36.074Z"
   },
   {
    "duration": 8,
    "start_time": "2022-04-20T14:54:36.087Z"
   },
   {
    "duration": 12,
    "start_time": "2022-04-20T14:54:36.097Z"
   },
   {
    "duration": 2,
    "start_time": "2022-04-20T14:54:36.112Z"
   },
   {
    "duration": 9,
    "start_time": "2022-04-20T14:54:36.147Z"
   },
   {
    "duration": 19,
    "start_time": "2022-04-20T14:54:36.158Z"
   },
   {
    "duration": 29,
    "start_time": "2022-04-20T14:54:36.179Z"
   },
   {
    "duration": 37,
    "start_time": "2022-04-20T14:54:36.210Z"
   },
   {
    "duration": 300,
    "start_time": "2022-04-20T14:54:36.249Z"
   },
   {
    "duration": 327,
    "start_time": "2022-04-20T14:54:36.551Z"
   },
   {
    "duration": 14,
    "start_time": "2022-04-20T14:54:36.881Z"
   },
   {
    "duration": 21,
    "start_time": "2022-04-20T14:54:36.897Z"
   },
   {
    "duration": 28,
    "start_time": "2022-04-20T14:54:36.923Z"
   },
   {
    "duration": 371,
    "start_time": "2022-04-20T14:54:36.953Z"
   },
   {
    "duration": 3,
    "start_time": "2022-04-20T14:54:37.326Z"
   },
   {
    "duration": 27,
    "start_time": "2022-04-20T14:54:37.330Z"
   },
   {
    "duration": 15,
    "start_time": "2022-04-20T14:54:37.359Z"
   },
   {
    "duration": 13,
    "start_time": "2022-04-20T14:54:37.376Z"
   },
   {
    "duration": 395,
    "start_time": "2022-04-20T14:54:37.391Z"
   },
   {
    "duration": 291,
    "start_time": "2022-04-20T14:54:37.788Z"
   },
   {
    "duration": 28,
    "start_time": "2022-04-20T14:54:38.081Z"
   },
   {
    "duration": 5,
    "start_time": "2022-04-20T14:54:38.111Z"
   },
   {
    "duration": 273,
    "start_time": "2022-04-20T14:54:38.118Z"
   },
   {
    "duration": 5,
    "start_time": "2022-04-20T14:54:38.392Z"
   },
   {
    "duration": 6,
    "start_time": "2022-04-20T14:54:38.399Z"
   },
   {
    "duration": 13,
    "start_time": "2022-04-20T14:54:38.407Z"
   },
   {
    "duration": 8,
    "start_time": "2022-04-20T14:54:38.421Z"
   },
   {
    "duration": 245,
    "start_time": "2022-04-20T14:54:38.431Z"
   },
   {
    "duration": 123,
    "start_time": "2022-04-20T14:54:38.678Z"
   },
   {
    "duration": 163,
    "start_time": "2022-04-20T14:54:38.803Z"
   },
   {
    "duration": 33,
    "start_time": "2022-04-20T14:54:38.967Z"
   },
   {
    "duration": 47,
    "start_time": "2022-04-20T14:54:39.002Z"
   },
   {
    "duration": 20,
    "start_time": "2022-04-20T14:54:39.051Z"
   },
   {
    "duration": 10,
    "start_time": "2022-04-20T14:54:39.073Z"
   },
   {
    "duration": 8,
    "start_time": "2022-04-20T14:54:39.084Z"
   },
   {
    "duration": 10,
    "start_time": "2022-04-20T14:54:39.093Z"
   },
   {
    "duration": 47,
    "start_time": "2022-04-20T14:54:39.105Z"
   },
   {
    "duration": 6,
    "start_time": "2022-04-20T14:54:39.154Z"
   },
   {
    "duration": 10,
    "start_time": "2022-04-20T14:54:39.162Z"
   },
   {
    "duration": 8,
    "start_time": "2022-04-20T14:54:39.174Z"
   },
   {
    "duration": 25,
    "start_time": "2022-04-20T14:54:39.184Z"
   },
   {
    "duration": 38,
    "start_time": "2022-04-20T14:54:39.211Z"
   },
   {
    "duration": 13,
    "start_time": "2022-04-20T14:54:39.251Z"
   },
   {
    "duration": 9,
    "start_time": "2022-04-20T14:54:39.265Z"
   },
   {
    "duration": 13,
    "start_time": "2022-04-20T14:54:39.276Z"
   },
   {
    "duration": 15,
    "start_time": "2022-04-20T14:54:39.290Z"
   },
   {
    "duration": 8,
    "start_time": "2022-04-20T14:54:39.307Z"
   },
   {
    "duration": 31,
    "start_time": "2022-04-20T14:54:39.317Z"
   },
   {
    "duration": 1267,
    "start_time": "2022-04-21T06:32:47.081Z"
   },
   {
    "duration": 56,
    "start_time": "2022-04-21T06:32:48.350Z"
   },
   {
    "duration": 17,
    "start_time": "2022-04-21T06:32:48.409Z"
   },
   {
    "duration": 13,
    "start_time": "2022-04-21T06:32:48.429Z"
   },
   {
    "duration": 5,
    "start_time": "2022-04-21T06:32:48.444Z"
   },
   {
    "duration": 12,
    "start_time": "2022-04-21T06:32:48.451Z"
   },
   {
    "duration": 30,
    "start_time": "2022-04-21T06:32:48.465Z"
   },
   {
    "duration": 19,
    "start_time": "2022-04-21T06:32:48.497Z"
   },
   {
    "duration": 3,
    "start_time": "2022-04-21T06:32:48.518Z"
   },
   {
    "duration": 17,
    "start_time": "2022-04-21T06:32:48.525Z"
   },
   {
    "duration": 2,
    "start_time": "2022-04-21T06:32:48.544Z"
   },
   {
    "duration": 6,
    "start_time": "2022-04-21T06:32:48.548Z"
   },
   {
    "duration": 49,
    "start_time": "2022-04-21T06:32:48.556Z"
   },
   {
    "duration": 11,
    "start_time": "2022-04-21T06:32:48.607Z"
   },
   {
    "duration": 2,
    "start_time": "2022-04-21T06:32:48.620Z"
   },
   {
    "duration": 17,
    "start_time": "2022-04-21T06:32:48.624Z"
   },
   {
    "duration": 8,
    "start_time": "2022-04-21T06:32:48.643Z"
   },
   {
    "duration": 10,
    "start_time": "2022-04-21T06:32:48.652Z"
   },
   {
    "duration": 3,
    "start_time": "2022-04-21T06:32:48.693Z"
   },
   {
    "duration": 9,
    "start_time": "2022-04-21T06:32:48.697Z"
   },
   {
    "duration": 13,
    "start_time": "2022-04-21T06:32:48.708Z"
   },
   {
    "duration": 24,
    "start_time": "2022-04-21T06:32:48.723Z"
   },
   {
    "duration": 4,
    "start_time": "2022-04-21T06:32:48.749Z"
   },
   {
    "duration": 345,
    "start_time": "2022-04-21T06:32:48.755Z"
   },
   {
    "duration": 320,
    "start_time": "2022-04-21T06:32:49.102Z"
   },
   {
    "duration": 12,
    "start_time": "2022-04-21T06:32:49.423Z"
   },
   {
    "duration": 17,
    "start_time": "2022-04-21T06:32:49.437Z"
   },
   {
    "duration": 34,
    "start_time": "2022-04-21T06:32:49.460Z"
   },
   {
    "duration": 617,
    "start_time": "2022-04-21T06:32:49.496Z"
   },
   {
    "duration": 3,
    "start_time": "2022-04-21T06:32:50.115Z"
   },
   {
    "duration": 29,
    "start_time": "2022-04-21T06:32:50.120Z"
   },
   {
    "duration": 20,
    "start_time": "2022-04-21T06:32:50.151Z"
   },
   {
    "duration": 19,
    "start_time": "2022-04-21T06:32:50.173Z"
   },
   {
    "duration": 635,
    "start_time": "2022-04-21T06:32:50.194Z"
   },
   {
    "duration": 328,
    "start_time": "2022-04-21T06:32:50.831Z"
   },
   {
    "duration": 40,
    "start_time": "2022-04-21T06:32:51.162Z"
   },
   {
    "duration": 5,
    "start_time": "2022-04-21T06:32:51.204Z"
   },
   {
    "duration": 301,
    "start_time": "2022-04-21T06:32:51.211Z"
   },
   {
    "duration": 7,
    "start_time": "2022-04-21T06:32:51.514Z"
   },
   {
    "duration": 11,
    "start_time": "2022-04-21T06:32:51.522Z"
   },
   {
    "duration": 6,
    "start_time": "2022-04-21T06:32:51.535Z"
   },
   {
    "duration": 5,
    "start_time": "2022-04-21T06:32:51.543Z"
   },
   {
    "duration": 308,
    "start_time": "2022-04-21T06:32:51.550Z"
   },
   {
    "duration": 143,
    "start_time": "2022-04-21T06:32:51.860Z"
   },
   {
    "duration": 240,
    "start_time": "2022-04-21T06:32:52.006Z"
   },
   {
    "duration": 35,
    "start_time": "2022-04-21T06:32:52.247Z"
   },
   {
    "duration": 32,
    "start_time": "2022-04-21T06:32:52.292Z"
   },
   {
    "duration": 22,
    "start_time": "2022-04-21T06:32:52.326Z"
   },
   {
    "duration": 8,
    "start_time": "2022-04-21T06:32:52.350Z"
   },
   {
    "duration": 38,
    "start_time": "2022-04-21T06:32:52.360Z"
   },
   {
    "duration": 9,
    "start_time": "2022-04-21T06:32:52.400Z"
   },
   {
    "duration": 22,
    "start_time": "2022-04-21T06:32:52.411Z"
   },
   {
    "duration": 7,
    "start_time": "2022-04-21T06:32:52.436Z"
   },
   {
    "duration": 7,
    "start_time": "2022-04-21T06:32:52.445Z"
   },
   {
    "duration": 40,
    "start_time": "2022-04-21T06:32:52.455Z"
   },
   {
    "duration": 22,
    "start_time": "2022-04-21T06:32:52.498Z"
   },
   {
    "duration": 7,
    "start_time": "2022-04-21T06:32:52.522Z"
   },
   {
    "duration": 12,
    "start_time": "2022-04-21T06:32:52.531Z"
   },
   {
    "duration": 9,
    "start_time": "2022-04-21T06:32:52.544Z"
   },
   {
    "duration": 40,
    "start_time": "2022-04-21T06:32:52.555Z"
   },
   {
    "duration": 12,
    "start_time": "2022-04-21T06:32:52.597Z"
   },
   {
    "duration": 5,
    "start_time": "2022-04-21T06:32:52.611Z"
   },
   {
    "duration": 9,
    "start_time": "2022-04-21T06:32:52.618Z"
   }
  ],
  "kernelspec": {
   "display_name": "Python 3 (ipykernel)",
   "language": "python",
   "name": "python3"
  },
  "language_info": {
   "codemirror_mode": {
    "name": "ipython",
    "version": 3
   },
   "file_extension": ".py",
   "mimetype": "text/x-python",
   "name": "python",
   "nbconvert_exporter": "python",
   "pygments_lexer": "ipython3",
   "version": "3.9.7"
  },
  "toc": {
   "base_numbering": 1,
   "nav_menu": {},
   "number_sections": false,
   "sideBar": true,
   "skip_h1_title": false,
   "title_cell": "Table of Contents",
   "title_sidebar": "Contents",
   "toc_cell": false,
   "toc_position": {},
   "toc_section_display": true,
   "toc_window_display": true
  }
 },
 "nbformat": 4,
 "nbformat_minor": 5
}
