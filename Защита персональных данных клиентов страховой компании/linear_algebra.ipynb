{
 "cells": [
  {
   "cell_type": "markdown",
   "metadata": {},
   "source": [
    "# Защита персональных данных клиентов"
   ]
  },
  {
   "cell_type": "markdown",
   "metadata": {},
   "source": [
    "Вам нужно защитить данные клиентов страховой компании «Хоть потоп». Разработайте такой метод преобразования данных, чтобы по ним было сложно восстановить персональную информацию. Обоснуйте корректность его работы.\n",
    "\n",
    "Нужно защитить данные, чтобы при преобразовании качество моделей машинного обучения не ухудшилось. Подбирать наилучшую модель не требуется."
   ]
  },
  {
   "cell_type": "markdown",
   "metadata": {},
   "source": [
    "## Загрузка данных"
   ]
  },
  {
   "cell_type": "code",
   "execution_count": 1,
   "metadata": {},
   "outputs": [],
   "source": [
    "import pandas as pd\n",
    "\n",
    "import numpy as np\n",
    "\n",
    "from sklearn.linear_model import LinearRegression\n",
    "\n",
    "from sklearn.metrics import r2_score\n",
    "\n",
    "from sklearn.model_selection import train_test_split\n",
    "\n",
    "import warnings\n",
    "warnings.filterwarnings(\"ignore\")\n"
   ]
  },
  {
   "cell_type": "code",
   "execution_count": 2,
   "metadata": {},
   "outputs": [],
   "source": [
    "data = pd.read_csv('/datasets/insurance.csv')"
   ]
  },
  {
   "cell_type": "code",
   "execution_count": 3,
   "metadata": {},
   "outputs": [
    {
     "name": "stdout",
     "output_type": "stream",
     "text": [
      "<class 'pandas.core.frame.DataFrame'>\n",
      "RangeIndex: 5000 entries, 0 to 4999\n",
      "Data columns (total 5 columns):\n",
      " #   Column             Non-Null Count  Dtype  \n",
      "---  ------             --------------  -----  \n",
      " 0   Пол                5000 non-null   int64  \n",
      " 1   Возраст            5000 non-null   float64\n",
      " 2   Зарплата           5000 non-null   float64\n",
      " 3   Члены семьи        5000 non-null   int64  \n",
      " 4   Страховые выплаты  5000 non-null   int64  \n",
      "dtypes: float64(2), int64(3)\n",
      "memory usage: 195.4 KB\n",
      "None\n",
      "   Пол  Возраст  Зарплата  Члены семьи  Страховые выплаты\n",
      "0    1     41.0   49600.0            1                  0\n",
      "1    0     46.0   38000.0            1                  1\n",
      "2    0     29.0   21000.0            0                  0\n",
      "3    0     21.0   41700.0            2                  0\n",
      "4    1     28.0   26100.0            0                  0\n",
      "               Пол      Возраст      Зарплата  Члены семьи  Страховые выплаты\n",
      "count  5000.000000  5000.000000   5000.000000  5000.000000        5000.000000\n",
      "mean      0.499000    30.952800  39916.360000     1.194200           0.148000\n",
      "std       0.500049     8.440807   9900.083569     1.091387           0.463183\n",
      "min       0.000000    18.000000   5300.000000     0.000000           0.000000\n",
      "25%       0.000000    24.000000  33300.000000     0.000000           0.000000\n",
      "50%       0.000000    30.000000  40200.000000     1.000000           0.000000\n",
      "75%       1.000000    37.000000  46600.000000     2.000000           0.000000\n",
      "max       1.000000    65.000000  79000.000000     6.000000           5.000000\n",
      "                        Пол   Возраст  Зарплата  Члены семьи  \\\n",
      "Пол                1.000000  0.002074  0.014910    -0.008991   \n",
      "Возраст            0.002074  1.000000 -0.019093    -0.006692   \n",
      "Зарплата           0.014910 -0.019093  1.000000    -0.030296   \n",
      "Члены семьи       -0.008991 -0.006692 -0.030296     1.000000   \n",
      "Страховые выплаты  0.010140  0.651030 -0.014963    -0.036290   \n",
      "\n",
      "                   Страховые выплаты  \n",
      "Пол                         0.010140  \n",
      "Возраст                     0.651030  \n",
      "Зарплата                   -0.014963  \n",
      "Члены семьи                -0.036290  \n",
      "Страховые выплаты           1.000000  \n"
     ]
    }
   ],
   "source": [
    "print(data.info())\n",
    "print(data.head())\n",
    "print(data.describe())\n",
    "print(data.corr())"
   ]
  },
  {
   "cell_type": "code",
   "execution_count": 4,
   "metadata": {},
   "outputs": [
    {
     "data": {
      "text/html": [
       "<div>\n",
       "<style scoped>\n",
       "    .dataframe tbody tr th:only-of-type {\n",
       "        vertical-align: middle;\n",
       "    }\n",
       "\n",
       "    .dataframe tbody tr th {\n",
       "        vertical-align: top;\n",
       "    }\n",
       "\n",
       "    .dataframe thead th {\n",
       "        text-align: right;\n",
       "    }\n",
       "</style>\n",
       "<table border=\"1\" class=\"dataframe\">\n",
       "  <thead>\n",
       "    <tr style=\"text-align: right;\">\n",
       "      <th></th>\n",
       "      <th>sex</th>\n",
       "      <th>age</th>\n",
       "      <th>income</th>\n",
       "      <th>family</th>\n",
       "      <th>unsurance_pay</th>\n",
       "    </tr>\n",
       "  </thead>\n",
       "  <tbody>\n",
       "    <tr>\n",
       "      <th>0</th>\n",
       "      <td>1</td>\n",
       "      <td>41.0</td>\n",
       "      <td>49600.0</td>\n",
       "      <td>1</td>\n",
       "      <td>0</td>\n",
       "    </tr>\n",
       "    <tr>\n",
       "      <th>1</th>\n",
       "      <td>0</td>\n",
       "      <td>46.0</td>\n",
       "      <td>38000.0</td>\n",
       "      <td>1</td>\n",
       "      <td>1</td>\n",
       "    </tr>\n",
       "    <tr>\n",
       "      <th>2</th>\n",
       "      <td>0</td>\n",
       "      <td>29.0</td>\n",
       "      <td>21000.0</td>\n",
       "      <td>0</td>\n",
       "      <td>0</td>\n",
       "    </tr>\n",
       "    <tr>\n",
       "      <th>3</th>\n",
       "      <td>0</td>\n",
       "      <td>21.0</td>\n",
       "      <td>41700.0</td>\n",
       "      <td>2</td>\n",
       "      <td>0</td>\n",
       "    </tr>\n",
       "    <tr>\n",
       "      <th>4</th>\n",
       "      <td>1</td>\n",
       "      <td>28.0</td>\n",
       "      <td>26100.0</td>\n",
       "      <td>0</td>\n",
       "      <td>0</td>\n",
       "    </tr>\n",
       "    <tr>\n",
       "      <th>...</th>\n",
       "      <td>...</td>\n",
       "      <td>...</td>\n",
       "      <td>...</td>\n",
       "      <td>...</td>\n",
       "      <td>...</td>\n",
       "    </tr>\n",
       "    <tr>\n",
       "      <th>4995</th>\n",
       "      <td>0</td>\n",
       "      <td>28.0</td>\n",
       "      <td>35700.0</td>\n",
       "      <td>2</td>\n",
       "      <td>0</td>\n",
       "    </tr>\n",
       "    <tr>\n",
       "      <th>4996</th>\n",
       "      <td>0</td>\n",
       "      <td>34.0</td>\n",
       "      <td>52400.0</td>\n",
       "      <td>1</td>\n",
       "      <td>0</td>\n",
       "    </tr>\n",
       "    <tr>\n",
       "      <th>4997</th>\n",
       "      <td>0</td>\n",
       "      <td>20.0</td>\n",
       "      <td>33900.0</td>\n",
       "      <td>2</td>\n",
       "      <td>0</td>\n",
       "    </tr>\n",
       "    <tr>\n",
       "      <th>4998</th>\n",
       "      <td>1</td>\n",
       "      <td>22.0</td>\n",
       "      <td>32700.0</td>\n",
       "      <td>3</td>\n",
       "      <td>0</td>\n",
       "    </tr>\n",
       "    <tr>\n",
       "      <th>4999</th>\n",
       "      <td>1</td>\n",
       "      <td>28.0</td>\n",
       "      <td>40600.0</td>\n",
       "      <td>1</td>\n",
       "      <td>0</td>\n",
       "    </tr>\n",
       "  </tbody>\n",
       "</table>\n",
       "<p>5000 rows × 5 columns</p>\n",
       "</div>"
      ],
      "text/plain": [
       "      sex   age   income  family  unsurance_pay\n",
       "0       1  41.0  49600.0       1              0\n",
       "1       0  46.0  38000.0       1              1\n",
       "2       0  29.0  21000.0       0              0\n",
       "3       0  21.0  41700.0       2              0\n",
       "4       1  28.0  26100.0       0              0\n",
       "...   ...   ...      ...     ...            ...\n",
       "4995    0  28.0  35700.0       2              0\n",
       "4996    0  34.0  52400.0       1              0\n",
       "4997    0  20.0  33900.0       2              0\n",
       "4998    1  22.0  32700.0       3              0\n",
       "4999    1  28.0  40600.0       1              0\n",
       "\n",
       "[5000 rows x 5 columns]"
      ]
     },
     "execution_count": 4,
     "metadata": {},
     "output_type": "execute_result"
    }
   ],
   "source": [
    "data.columns = ['sex', 'age', 'income', 'family', 'unsurance_pay']\n",
    "data"
   ]
  },
  {
   "cell_type": "code",
   "execution_count": 5,
   "metadata": {},
   "outputs": [],
   "source": [
    "features = data.drop(['unsurance_pay'], axis=1)\n",
    "features_columns=features.columns\n",
    "target = data['unsurance_pay']"
   ]
  },
  {
   "cell_type": "code",
   "execution_count": 6,
   "metadata": {},
   "outputs": [],
   "source": [
    "train_features, test_features, train_target, test_target = (\n",
    "train_test_split(features, target, test_size =0.2, random_state=1245)) "
   ]
  },
  {
   "cell_type": "raw",
   "metadata": {},
   "source": [
    "print(train_features)\n",
    "print(test_features)\n",
    "print(train_target)\n",
    "print(test_target)"
   ]
  },
  {
   "cell_type": "markdown",
   "metadata": {},
   "source": [
    "Получены данные о клиетах страховой компани  содержащие персональные данные (возраст и доход) а так же обезличенные данные: количественный состав семьи, пол, количество страховых выплат за год. Данные не имеют пропусков. Изменены названия колонок, данные разделены на целевые признаки (пол, возраст, доход, количественный состав семьи) и конечный результат (количество страховых выплат в год). Есть средняя зависимость между возрастом клиента и количеством страховых выплат."
   ]
  },
  {
   "cell_type": "markdown",
   "metadata": {},
   "source": [
    "## Умножение матриц"
   ]
  },
  {
   "cell_type": "markdown",
   "metadata": {},
   "source": [
    "Обозначения:\n",
    "\n",
    "- $X$ — матрица признаков (нулевой столбец состоит из единиц)\n",
    "\n",
    "- $y$ — вектор целевого признака\n",
    "\n",
    "- $P$ — матрица, на которую умножаются признаки\n",
    "\n",
    "- $w$ — вектор весов линейной регрессии (нулевой элемент равен сдвигу)\n",
    "\n",
    "- $w1$ - случайный вектор линейной регрессии (нулевой элемент равен сдвигу)\n",
    "\n",
    "- $a*$ - предсказания модели с умноженной на обратимую матрицу матрицей целевого признака"
   ]
  },
  {
   "cell_type": "markdown",
   "metadata": {},
   "source": [
    "Предсказания:\n",
    "\n",
    "$$\n",
    "a = Xw\n",
    "$$\n",
    "\n",
    "Задача обучения:\n",
    "\n",
    "$$\n",
    "w = \\arg\\min_w MSE(Xw, y)\n",
    "$$\n",
    "\n",
    "Формула обучения:\n",
    "\n",
    "$$\n",
    "w = (X^T X)^{-1} X^T y\n",
    "$$"
   ]
  },
  {
   "cell_type": "markdown",
   "metadata": {},
   "source": [
    "**Ответ:** умножение матрицы признаков на обратимую матрицу не изменяет предсказания\n",
    "\n",
    "**Обоснование:**\n",
    "Умножим матрицу признаков (X) на обратимую матрицу (P) высота которой равна ширине матрицы (X) \n",
    "\n",
    "Предсказания:\n",
    "\n",
    "$$\n",
    "a* = XPw1\n",
    "$$\n",
    "\n",
    "Формула обучения при умножении целевого признака на матрицу P:\n",
    "\n",
    "$$\n",
    "w1 = (XP^T)  XP)^{-1} (XP)^T y\n",
    "$$\n",
    "\n",
    "Раскроем транспонирование матриц\n",
    "$$\n",
    "w1 = (X^T P^T  XP)^{-1} X^T P^T y\n",
    "$$\n",
    "\n",
    "Раскроем скобки для обратных матриц и перегруппируем члены уравнения\n",
    "\n",
    "$$\n",
    "w1 = P^{-1} (X^TX)^{-1} (P^T)^{-1} P^T X^T  y\n",
    "$$\n",
    "\n",
    "По условию матриц P оборатимая и по свойству оборатимых матриц выполняется равенство $P*P^{-1}=E$\n",
    "$$\n",
    "w1 = P^{-1} (X^T X)^{-1} E  X^T  y\n",
    "$$\n",
    "\n",
    "\n",
    "Упростим полученное уравнение:<br>  \n",
    "базовое уравнение обучения\n",
    "$$w = (X^T X)^{-1} X^T y$$ \n",
    "\n",
    "таким образом полученное ранее уравнение можно представить в виде:\n",
    "$$\n",
    "w1 =P^{-1} w\n",
    "$$\n",
    "\n",
    "Заменим $w1$ в формуле предсказаний на  $P^{-1} w$:\n",
    "\n",
    "$$\n",
    "a* = XPP^{-1} w\n",
    "$$\n",
    "\n",
    "По условию матриц P оборатимая и по свойству оборатимых матриц выполняется равенство $P*P^{-1}=E$\n",
    "$$\n",
    "a* = XEw = Xw = a\n",
    "$$\n",
    "то есть предсказания базовой модели и модели в которой целевые признаки умножены на любую обратимую матрицу остаются без изменений\n",
    "$$\n",
    "a*=a\n",
    "$$"
   ]
  },
  {
   "cell_type": "markdown",
   "metadata": {},
   "source": [
    "## Алгоритм преобразования"
   ]
  },
  {
   "cell_type": "markdown",
   "metadata": {},
   "source": [
    "**Алгоритм**<br>\n",
    "<b>1. Умножение матрицы признаков на случайную обратимую матрицу</b><br>\n",
    "Генерирование случайной обратимой матрицы с размерами равным ширине массива целевых признаков<br>\n",
    "$$a = XPw$$\n",
    "<b>2. Стандартизация данных</b><br>\n",
    "Преобразование данных в столбцах Возраст и Зарплата на величину стандартного отклонения по соответсвующей совокупности данных(аналог StandartScaler из библиотеки sklearn)<br> $$ z = (x-m)/q$$ где x - истинное значение, m-среднее выборки, q - стандартное отклонение выборки"
   ]
  },
  {
   "cell_type": "markdown",
   "metadata": {},
   "source": [
    "<b>1. Умножение матрицы признаков на случайную обратимую матрицу</b><br>"
   ]
  },
  {
   "cell_type": "code",
   "execution_count": 7,
   "metadata": {},
   "outputs": [
    {
     "data": {
      "text/plain": [
       "array([[-0.11104853, -0.22513506, -1.20098292, -0.24055427],\n",
       "       [-0.99512464, -1.63018285, -0.86655146, -1.26063985],\n",
       "       [ 0.40236909,  1.36627381,  0.43045329, -0.30180381],\n",
       "       [-1.24636922, -2.02479073,  1.14092516, -0.2193782 ]])"
      ]
     },
     "execution_count": 7,
     "metadata": {},
     "output_type": "execute_result"
    }
   ],
   "source": [
    "random_matrix = np.random.normal(size=(4,4))\n",
    "random_matrix"
   ]
  },
  {
   "cell_type": "code",
   "execution_count": 8,
   "metadata": {},
   "outputs": [
    {
     "data": {
      "text/html": [
       "<div>\n",
       "<style scoped>\n",
       "    .dataframe tbody tr th:only-of-type {\n",
       "        vertical-align: middle;\n",
       "    }\n",
       "\n",
       "    .dataframe tbody tr th {\n",
       "        vertical-align: top;\n",
       "    }\n",
       "\n",
       "    .dataframe thead th {\n",
       "        text-align: right;\n",
       "    }\n",
       "</style>\n",
       "<table border=\"1\" class=\"dataframe\">\n",
       "  <thead>\n",
       "    <tr style=\"text-align: right;\">\n",
       "      <th></th>\n",
       "      <th>0</th>\n",
       "      <th>1</th>\n",
       "      <th>2</th>\n",
       "      <th>3</th>\n",
       "    </tr>\n",
       "  </thead>\n",
       "  <tbody>\n",
       "    <tr>\n",
       "      <th>0</th>\n",
       "      <td>19915.349395</td>\n",
       "      <td>67698.093533</td>\n",
       "      <td>21314.894360</td>\n",
       "      <td>-15021.615229</td>\n",
       "    </tr>\n",
       "    <tr>\n",
       "      <th>1</th>\n",
       "      <td>15243.003363</td>\n",
       "      <td>51841.391563</td>\n",
       "      <td>16318.504458</td>\n",
       "      <td>-11526.753658</td>\n",
       "    </tr>\n",
       "    <tr>\n",
       "      <th>2</th>\n",
       "      <td>8420.892301</td>\n",
       "      <td>28644.474699</td>\n",
       "      <td>9014.389032</td>\n",
       "      <td>-6374.438602</td>\n",
       "    </tr>\n",
       "    <tr>\n",
       "      <th>3</th>\n",
       "      <td>16755.400747</td>\n",
       "      <td>56935.334439</td>\n",
       "      <td>17933.986331</td>\n",
       "      <td>-12612.131143</td>\n",
       "    </tr>\n",
       "    <tr>\n",
       "      <th>4</th>\n",
       "      <td>10473.858742</td>\n",
       "      <td>35613.876176</td>\n",
       "      <td>11209.366363</td>\n",
       "      <td>-7912.617957</td>\n",
       "    </tr>\n",
       "    <tr>\n",
       "      <th>...</th>\n",
       "      <td>...</td>\n",
       "      <td>...</td>\n",
       "      <td>...</td>\n",
       "      <td>...</td>\n",
       "    </tr>\n",
       "    <tr>\n",
       "      <th>4995</th>\n",
       "      <td>14334.220327</td>\n",
       "      <td>48726.280301</td>\n",
       "      <td>15345.200750</td>\n",
       "      <td>-10810.132752</td>\n",
       "    </tr>\n",
       "    <tr>\n",
       "      <th>4996</th>\n",
       "      <td>21049.059772</td>\n",
       "      <td>71535.296615</td>\n",
       "      <td>22527.430407</td>\n",
       "      <td>-15857.600869</td>\n",
       "    </tr>\n",
       "    <tr>\n",
       "      <th>4997</th>\n",
       "      <td>13617.916960</td>\n",
       "      <td>46280.028907</td>\n",
       "      <td>14577.317245</td>\n",
       "      <td>-10256.800772</td>\n",
       "    </tr>\n",
       "    <tr>\n",
       "      <th>4998</th>\n",
       "      <td>13131.726384</td>\n",
       "      <td>44634.990044</td>\n",
       "      <td>14058.980141</td>\n",
       "      <td>-9897.617410</td>\n",
       "    </tr>\n",
       "    <tr>\n",
       "      <th>4999</th>\n",
       "      <td>16306.964195</td>\n",
       "      <td>55422.821624</td>\n",
       "      <td>17452.079948</td>\n",
       "      <td>-12288.992605</td>\n",
       "    </tr>\n",
       "  </tbody>\n",
       "</table>\n",
       "<p>5000 rows × 4 columns</p>\n",
       "</div>"
      ],
      "text/plain": [
       "                 0             1             2             3\n",
       "0     19915.349395  67698.093533  21314.894360 -15021.615229\n",
       "1     15243.003363  51841.391563  16318.504458 -11526.753658\n",
       "2      8420.892301  28644.474699   9014.389032  -6374.438602\n",
       "3     16755.400747  56935.334439  17933.986331 -12612.131143\n",
       "4     10473.858742  35613.876176  11209.366363  -7912.617957\n",
       "...            ...           ...           ...           ...\n",
       "4995  14334.220327  48726.280301  15345.200750 -10810.132752\n",
       "4996  21049.059772  71535.296615  22527.430407 -15857.600869\n",
       "4997  13617.916960  46280.028907  14577.317245 -10256.800772\n",
       "4998  13131.726384  44634.990044  14058.980141  -9897.617410\n",
       "4999  16306.964195  55422.821624  17452.079948 -12288.992605\n",
       "\n",
       "[5000 rows x 4 columns]"
      ]
     },
     "execution_count": 8,
     "metadata": {},
     "output_type": "execute_result"
    }
   ],
   "source": [
    "encoded_features_matrix = features.dot(random_matrix)\n",
    "encoded_features_matrix"
   ]
  },
  {
   "cell_type": "code",
   "execution_count": 9,
   "metadata": {},
   "outputs": [
    {
     "data": {
      "text/html": [
       "<div>\n",
       "<style scoped>\n",
       "    .dataframe tbody tr th:only-of-type {\n",
       "        vertical-align: middle;\n",
       "    }\n",
       "\n",
       "    .dataframe tbody tr th {\n",
       "        vertical-align: top;\n",
       "    }\n",
       "\n",
       "    .dataframe thead th {\n",
       "        text-align: right;\n",
       "    }\n",
       "</style>\n",
       "<table border=\"1\" class=\"dataframe\">\n",
       "  <thead>\n",
       "    <tr style=\"text-align: right;\">\n",
       "      <th></th>\n",
       "      <th>0</th>\n",
       "      <th>1</th>\n",
       "      <th>2</th>\n",
       "      <th>3</th>\n",
       "    </tr>\n",
       "  </thead>\n",
       "  <tbody>\n",
       "    <tr>\n",
       "      <th>0</th>\n",
       "      <td>1.0</td>\n",
       "      <td>41.0</td>\n",
       "      <td>49600.0</td>\n",
       "      <td>1.0</td>\n",
       "    </tr>\n",
       "    <tr>\n",
       "      <th>1</th>\n",
       "      <td>-0.0</td>\n",
       "      <td>46.0</td>\n",
       "      <td>38000.0</td>\n",
       "      <td>1.0</td>\n",
       "    </tr>\n",
       "    <tr>\n",
       "      <th>2</th>\n",
       "      <td>0.0</td>\n",
       "      <td>29.0</td>\n",
       "      <td>21000.0</td>\n",
       "      <td>0.0</td>\n",
       "    </tr>\n",
       "    <tr>\n",
       "      <th>3</th>\n",
       "      <td>-0.0</td>\n",
       "      <td>21.0</td>\n",
       "      <td>41700.0</td>\n",
       "      <td>2.0</td>\n",
       "    </tr>\n",
       "    <tr>\n",
       "      <th>4</th>\n",
       "      <td>1.0</td>\n",
       "      <td>28.0</td>\n",
       "      <td>26100.0</td>\n",
       "      <td>-0.0</td>\n",
       "    </tr>\n",
       "    <tr>\n",
       "      <th>...</th>\n",
       "      <td>...</td>\n",
       "      <td>...</td>\n",
       "      <td>...</td>\n",
       "      <td>...</td>\n",
       "    </tr>\n",
       "    <tr>\n",
       "      <th>4995</th>\n",
       "      <td>-0.0</td>\n",
       "      <td>28.0</td>\n",
       "      <td>35700.0</td>\n",
       "      <td>2.0</td>\n",
       "    </tr>\n",
       "    <tr>\n",
       "      <th>4996</th>\n",
       "      <td>-0.0</td>\n",
       "      <td>34.0</td>\n",
       "      <td>52400.0</td>\n",
       "      <td>1.0</td>\n",
       "    </tr>\n",
       "    <tr>\n",
       "      <th>4997</th>\n",
       "      <td>0.0</td>\n",
       "      <td>20.0</td>\n",
       "      <td>33900.0</td>\n",
       "      <td>2.0</td>\n",
       "    </tr>\n",
       "    <tr>\n",
       "      <th>4998</th>\n",
       "      <td>1.0</td>\n",
       "      <td>22.0</td>\n",
       "      <td>32700.0</td>\n",
       "      <td>3.0</td>\n",
       "    </tr>\n",
       "    <tr>\n",
       "      <th>4999</th>\n",
       "      <td>1.0</td>\n",
       "      <td>28.0</td>\n",
       "      <td>40600.0</td>\n",
       "      <td>1.0</td>\n",
       "    </tr>\n",
       "  </tbody>\n",
       "</table>\n",
       "<p>5000 rows × 4 columns</p>\n",
       "</div>"
      ],
      "text/plain": [
       "        0     1        2    3\n",
       "0     1.0  41.0  49600.0  1.0\n",
       "1    -0.0  46.0  38000.0  1.0\n",
       "2     0.0  29.0  21000.0  0.0\n",
       "3    -0.0  21.0  41700.0  2.0\n",
       "4     1.0  28.0  26100.0 -0.0\n",
       "...   ...   ...      ...  ...\n",
       "4995 -0.0  28.0  35700.0  2.0\n",
       "4996 -0.0  34.0  52400.0  1.0\n",
       "4997  0.0  20.0  33900.0  2.0\n",
       "4998  1.0  22.0  32700.0  3.0\n",
       "4999  1.0  28.0  40600.0  1.0\n",
       "\n",
       "[5000 rows x 4 columns]"
      ]
     },
     "execution_count": 9,
     "metadata": {},
     "output_type": "execute_result"
    }
   ],
   "source": [
    "deencoded_features_matrix=round(encoded_features_matrix.dot(np.linalg.inv(random_matrix)))\n",
    "deencoded_features_matrix"
   ]
  },
  {
   "cell_type": "markdown",
   "metadata": {},
   "source": [
    "<b>2. Стандартизация данных</b><br>"
   ]
  },
  {
   "cell_type": "code",
   "execution_count": 10,
   "metadata": {},
   "outputs": [],
   "source": [
    "age_vector = features['age'].values\n",
    "income_vector = features['income'].values\n",
    "encoded_age_vector = pd.Series((age_vector-np.mean(age_vector))/np.std(age_vector))\n",
    "encoded_income_vector = pd.Series((income_vector-np.mean(income_vector))/np.std(income_vector))\n",
    "encoded_age_vector.index=features.index\n",
    "encoded_income_vector.index=features.index"
   ]
  },
  {
   "cell_type": "code",
   "execution_count": 11,
   "metadata": {},
   "outputs": [],
   "source": [
    "features['age_encode']=encoded_age_vector\n",
    "features['income_encode']=encoded_income_vector\n",
    "features_encode_standart = features.drop(['age', 'income'], axis=1)"
   ]
  },
  {
   "cell_type": "code",
   "execution_count": 12,
   "metadata": {},
   "outputs": [],
   "source": [
    "features.drop(['age_encode', 'income_encode'], axis=1, inplace=True)"
   ]
  },
  {
   "cell_type": "code",
   "execution_count": 13,
   "metadata": {},
   "outputs": [
    {
     "name": "stdout",
     "output_type": "stream",
     "text": [
      "      sex   age   income  family\n",
      "0       1  41.0  49600.0       1\n",
      "1       0  46.0  38000.0       1\n",
      "2       0  29.0  21000.0       0\n",
      "3       0  21.0  41700.0       2\n",
      "4       1  28.0  26100.0       0\n",
      "...   ...   ...      ...     ...\n",
      "4995    0  28.0  35700.0       2\n",
      "4996    0  34.0  52400.0       1\n",
      "4997    0  20.0  33900.0       2\n",
      "4998    1  22.0  32700.0       3\n",
      "4999    1  28.0  40600.0       1\n",
      "\n",
      "[5000 rows x 4 columns]\n"
     ]
    }
   ],
   "source": [
    "print(features)"
   ]
  },
  {
   "cell_type": "markdown",
   "metadata": {},
   "source": [
    "**Обоснование**\n"
   ]
  },
  {
   "cell_type": "markdown",
   "metadata": {},
   "source": [
    "В разделе 2 представлен вывод о неизменности предсказаний при умножении матрицы целевых признаков на обратимую матрицу. Представленная операция кодирования целевых признаков посредством стандартизации данных является частным вариантом умножения целевых признаков на обратимую матрицу. Проверим это опытным путем."
   ]
  },
  {
   "cell_type": "code",
   "execution_count": 14,
   "metadata": {},
   "outputs": [
    {
     "name": "stdout",
     "output_type": "stream",
     "text": [
      "0.42190741870614445\n"
     ]
    }
   ],
   "source": [
    "model=LinearRegression()\n",
    "model.fit(train_features, train_target)\n",
    "original_data_pred = model.predict(test_features)\n",
    "r2_score_original_data = r2_score(test_target, original_data_pred)\n",
    "print(r2_score_original_data)"
   ]
  },
  {
   "cell_type": "code",
   "execution_count": 15,
   "metadata": {},
   "outputs": [],
   "source": [
    "encoded_train_features_matrix, encoded_test_features_matrix, train_target, test_target = (\n",
    "train_test_split(encoded_features_matrix, target, test_size =0.2, random_state=1245)) "
   ]
  },
  {
   "cell_type": "code",
   "execution_count": 16,
   "metadata": {},
   "outputs": [
    {
     "name": "stdout",
     "output_type": "stream",
     "text": [
      "0.4219074187058621\n"
     ]
    }
   ],
   "source": [
    "model.fit(encoded_train_features_matrix, train_target)\n",
    "matrix_data_pred = model.predict(encoded_test_features_matrix)\n",
    "r2_score_matrix_data = r2_score(test_target, matrix_data_pred)\n",
    "print(r2_score_matrix_data)\n"
   ]
  },
  {
   "cell_type": "code",
   "execution_count": 17,
   "metadata": {},
   "outputs": [],
   "source": [
    "train_features_encode_standart, test_features_encode_standart, train_target, test_target = (\n",
    "train_test_split(features_encode_standart, target, test_size =0.2, random_state=1245)) "
   ]
  },
  {
   "cell_type": "code",
   "execution_count": 18,
   "metadata": {},
   "outputs": [
    {
     "name": "stdout",
     "output_type": "stream",
     "text": [
      "0.421907418706137\n"
     ]
    }
   ],
   "source": [
    "model.fit(train_features_encode_standart, train_target)\n",
    "standart_data_pred = model.predict(test_features_encode_standart)\n",
    "r2_score_standart_data = r2_score(test_target, standart_data_pred)\n",
    "print(r2_score_standart_data)\n"
   ]
  },
  {
   "cell_type": "markdown",
   "metadata": {},
   "source": [
    "Метрики R2 совпадают для предложенных вариантов"
   ]
  },
  {
   "cell_type": "markdown",
   "metadata": {},
   "source": [
    "## Проверка алгоритма"
   ]
  },
  {
   "cell_type": "code",
   "execution_count": 19,
   "metadata": {},
   "outputs": [],
   "source": [
    "train_features, test_features, train_target, test_target = (\n",
    "train_test_split(features, target, test_size =0.2, random_state=12345)) "
   ]
  },
  {
   "cell_type": "code",
   "execution_count": 20,
   "metadata": {},
   "outputs": [
    {
     "name": "stdout",
     "output_type": "stream",
     "text": [
      "0.41176839567705226\n"
     ]
    }
   ],
   "source": [
    "model.fit(train_features, train_target)\n",
    "original_data_pred = model.predict(test_features)\n",
    "r2_score_original_data = r2_score(test_target, original_data_pred)\n",
    "print(r2_score_original_data)"
   ]
  },
  {
   "cell_type": "markdown",
   "metadata": {},
   "source": [
    "Запишем в виде функции алгоритм умножения матрицы целевых признаков "
   ]
  },
  {
   "cell_type": "code",
   "execution_count": 21,
   "metadata": {},
   "outputs": [],
   "source": [
    "def encode_features_matrix (features):\n",
    "    size_matrix = features.shape[1]\n",
    "    random_matrix = np.random.normal(size=(size_matrix,size_matrix))\n",
    "    return features.dot(random_matrix)"
   ]
  },
  {
   "cell_type": "code",
   "execution_count": 22,
   "metadata": {},
   "outputs": [],
   "source": [
    "encode_features_matrix1=encode_features_matrix(features)"
   ]
  },
  {
   "cell_type": "code",
   "execution_count": 23,
   "metadata": {},
   "outputs": [],
   "source": [
    "encoded_train_features_matrix1, encoded_test_features_matrix1, train_target, test_target = (\n",
    "train_test_split(encode_features_matrix1, target, test_size =0.2, random_state=12345)) "
   ]
  },
  {
   "cell_type": "code",
   "execution_count": 24,
   "metadata": {},
   "outputs": [
    {
     "name": "stdout",
     "output_type": "stream",
     "text": [
      "0.411768395676956\n"
     ]
    }
   ],
   "source": [
    "model.fit(encoded_train_features_matrix1, train_target)\n",
    "matrix_data_pred1 = model.predict(encoded_test_features_matrix1)\n",
    "r2_score_matrix_data1 = r2_score(test_target, matrix_data_pred1)\n",
    "print(r2_score_matrix_data1)"
   ]
  },
  {
   "cell_type": "markdown",
   "metadata": {},
   "source": [
    "Запишем в виде функции алгоритм кодирования защищаемых данных (дохода и возраста) посредством их стандартизации (сравнения отклонения от среднего со стандартным отклонением выборки)"
   ]
  },
  {
   "cell_type": "code",
   "execution_count": 25,
   "metadata": {},
   "outputs": [],
   "source": [
    "def encode_features_standart(features):\n",
    "    age_vector = features['age'].values\n",
    "    income_vector = features['income'].values\n",
    "    encoded_age_vector = pd.Series((age_vector-np.mean(age_vector))/np.std(age_vector))\n",
    "    encoded_income_vector = pd.Series((income_vector-np.mean(income_vector))/np.std(income_vector))\n",
    "    encoded_age_vector.index=features.index\n",
    "    encoded_income_vector.index=features.index\n",
    "    features['age_encode']=encoded_age_vector\n",
    "    features['income_encode']=encoded_income_vector\n",
    "    features_encode_standart = features.drop(['age', 'income'], axis=1)\n",
    "    features.drop(['age_encode', 'income_encode'], axis=1, inplace=True)\n",
    "    return features_encode_standart"
   ]
  },
  {
   "cell_type": "code",
   "execution_count": 26,
   "metadata": {},
   "outputs": [],
   "source": [
    "encode_features_standart1=encode_features_standart(features)"
   ]
  },
  {
   "cell_type": "code",
   "execution_count": 27,
   "metadata": {},
   "outputs": [],
   "source": [
    "train_features_encode_standart1, test_features_encode_standart1, train_target, test_target = (\n",
    "train_test_split(encode_features_standart1, target, test_size =0.2, random_state=12345)) "
   ]
  },
  {
   "cell_type": "code",
   "execution_count": 28,
   "metadata": {},
   "outputs": [
    {
     "name": "stdout",
     "output_type": "stream",
     "text": [
      "0.41176839567704737\n"
     ]
    }
   ],
   "source": [
    "model.fit(train_features_encode_standart1, train_target)\n",
    "standart_data_pred1 = model.predict(test_features_encode_standart1)\n",
    "r2_score_standart_data1 = r2_score(test_target, standart_data_pred1)\n",
    "print(r2_score_standart_data1)"
   ]
  },
  {
   "cell_type": "code",
   "execution_count": 29,
   "metadata": {},
   "outputs": [
    {
     "name": "stdout",
     "output_type": "stream",
     "text": [
      "Метрика R2 для незакодированных данных:  0.41176839567705226\n",
      "Метрика R2 при умножении целевых признаков на случайную обратимую матрицу:  0.411768395676956\n",
      "Метрика R2 при стандартизации защищаемых признаков (дохода и возраста):  0.41176839567704737\n"
     ]
    }
   ],
   "source": [
    "print('Метрика R2 для незакодированных данных: ', r2_score_original_data)\n",
    "print('Метрика R2 при умножении целевых признаков на случайную обратимую матрицу: '\n",
    "      ,r2_score_matrix_data1)\n",
    "print('Метрика R2 при стандартизации защищаемых признаков (дохода и возраста): '\n",
    "      ,r2_score_standart_data1)"
   ]
  },
  {
   "cell_type": "markdown",
   "metadata": {},
   "source": [
    "Вывод:\n",
    "Предложенные способы кодирования целевых признаков или части целевых признаков работают. Метрики R2 для данных закодированных предложенными способами существенно не изменяются."
   ]
  },
  {
   "cell_type": "markdown",
   "metadata": {},
   "source": [
    "Выводы по проекту:\n",
    "1. Получены данные о клиентах страховой компании содержащие пол, доход, возраст, количественный состав семьи, и количество страховых выплат.\n",
    "2. Теоретически обосновано умножение матрицы признаков на случайную обратимую матрицу.\n",
    "3. Предложены модели кодирования данных которые дают равные показания метрики R2 не незакодированных и закодированных данных.\n",
    "4. Предложенные алгоритмы отражены в функциях и опробированы на имеющихся данных. Метрики R2 существенно не отличаются."
   ]
  }
 ],
 "metadata": {
  "ExecuteTimeLog": [
   {
    "duration": 428,
    "start_time": "2022-06-15T12:33:31.536Z"
   },
   {
    "duration": 57,
    "start_time": "2022-06-15T12:33:32.119Z"
   },
   {
    "duration": 89,
    "start_time": "2022-06-15T12:34:12.252Z"
   },
   {
    "duration": 17,
    "start_time": "2022-06-15T12:35:11.102Z"
   },
   {
    "duration": 19,
    "start_time": "2022-06-15T13:09:36.885Z"
   },
   {
    "duration": 44,
    "start_time": "2022-06-16T05:46:46.313Z"
   },
   {
    "duration": 950,
    "start_time": "2022-06-16T05:46:52.627Z"
   },
   {
    "duration": 0,
    "start_time": "2022-06-16T05:46:53.579Z"
   },
   {
    "duration": 0,
    "start_time": "2022-06-16T05:46:53.580Z"
   },
   {
    "duration": 26,
    "start_time": "2022-06-16T05:47:06.401Z"
   },
   {
    "duration": 38,
    "start_time": "2022-06-16T05:48:16.433Z"
   },
   {
    "duration": 85,
    "start_time": "2022-06-16T05:48:17.233Z"
   },
   {
    "duration": 32,
    "start_time": "2022-06-16T05:48:17.889Z"
   },
   {
    "duration": 30,
    "start_time": "2022-06-16T05:48:41.871Z"
   },
   {
    "duration": 1105,
    "start_time": "2022-06-17T06:14:01.405Z"
   },
   {
    "duration": 81,
    "start_time": "2022-06-17T06:14:02.512Z"
   },
   {
    "duration": 42,
    "start_time": "2022-06-17T06:14:02.596Z"
   },
   {
    "duration": 91,
    "start_time": "2022-06-17T06:17:57.806Z"
   },
   {
    "duration": 2,
    "start_time": "2022-06-17T06:18:24.348Z"
   },
   {
    "duration": 3,
    "start_time": "2022-06-17T06:18:27.845Z"
   },
   {
    "duration": 9,
    "start_time": "2022-06-17T06:18:38.361Z"
   },
   {
    "duration": 3,
    "start_time": "2022-06-17T06:23:15.687Z"
   },
   {
    "duration": 14,
    "start_time": "2022-06-17T06:23:21.183Z"
   },
   {
    "duration": 5,
    "start_time": "2022-06-17T06:24:19.822Z"
   },
   {
    "duration": 29,
    "start_time": "2022-06-17T06:26:50.386Z"
   },
   {
    "duration": 9,
    "start_time": "2022-06-17T06:26:59.451Z"
   },
   {
    "duration": 9,
    "start_time": "2022-06-17T06:27:05.288Z"
   },
   {
    "duration": 10,
    "start_time": "2022-06-17T06:27:08.787Z"
   },
   {
    "duration": 9,
    "start_time": "2022-06-17T06:28:08.545Z"
   },
   {
    "duration": 9,
    "start_time": "2022-06-17T06:28:12.052Z"
   },
   {
    "duration": 6,
    "start_time": "2022-06-17T06:28:15.720Z"
   },
   {
    "duration": 5,
    "start_time": "2022-06-17T06:29:33.621Z"
   },
   {
    "duration": 12,
    "start_time": "2022-06-17T06:29:43.961Z"
   },
   {
    "duration": 21,
    "start_time": "2022-06-17T06:31:33.614Z"
   },
   {
    "duration": 84,
    "start_time": "2022-06-17T06:32:39.511Z"
   },
   {
    "duration": 14,
    "start_time": "2022-06-17T06:33:07.990Z"
   },
   {
    "duration": 5,
    "start_time": "2022-06-17T06:38:31.867Z"
   },
   {
    "duration": 5,
    "start_time": "2022-06-17T06:38:34.510Z"
   },
   {
    "duration": 3,
    "start_time": "2022-06-17T06:40:13.419Z"
   },
   {
    "duration": 3,
    "start_time": "2022-06-17T06:40:53.694Z"
   },
   {
    "duration": 13,
    "start_time": "2022-06-17T06:41:00.701Z"
   },
   {
    "duration": 1050,
    "start_time": "2022-06-17T06:42:19.076Z"
   },
   {
    "duration": 29,
    "start_time": "2022-06-17T06:42:20.128Z"
   },
   {
    "duration": 32,
    "start_time": "2022-06-17T06:42:20.158Z"
   },
   {
    "duration": 17,
    "start_time": "2022-06-17T06:42:20.192Z"
   },
   {
    "duration": 4,
    "start_time": "2022-06-17T06:42:20.210Z"
   },
   {
    "duration": 9,
    "start_time": "2022-06-17T06:42:20.215Z"
   },
   {
    "duration": 9,
    "start_time": "2022-06-17T06:42:20.225Z"
   },
   {
    "duration": 19,
    "start_time": "2022-06-17T06:42:20.235Z"
   },
   {
    "duration": 49,
    "start_time": "2022-06-17T06:42:20.256Z"
   },
   {
    "duration": 4,
    "start_time": "2022-06-17T06:42:20.308Z"
   },
   {
    "duration": 5,
    "start_time": "2022-06-17T06:45:38.979Z"
   },
   {
    "duration": 5,
    "start_time": "2022-06-17T06:45:48.921Z"
   },
   {
    "duration": 457,
    "start_time": "2022-06-17T06:46:19.962Z"
   },
   {
    "duration": 3,
    "start_time": "2022-06-17T06:46:28.762Z"
   },
   {
    "duration": 4,
    "start_time": "2022-06-17T06:49:55.333Z"
   },
   {
    "duration": 6,
    "start_time": "2022-06-17T06:50:03.796Z"
   },
   {
    "duration": 6,
    "start_time": "2022-06-17T06:50:30.623Z"
   },
   {
    "duration": 3,
    "start_time": "2022-06-17T06:51:43.827Z"
   },
   {
    "duration": 12,
    "start_time": "2022-06-17T06:51:58.653Z"
   },
   {
    "duration": 9,
    "start_time": "2022-06-17T06:53:47.235Z"
   },
   {
    "duration": 9,
    "start_time": "2022-06-17T06:54:29.662Z"
   },
   {
    "duration": 4,
    "start_time": "2022-06-17T06:54:34.283Z"
   },
   {
    "duration": 8,
    "start_time": "2022-06-17T06:54:56.377Z"
   },
   {
    "duration": 14,
    "start_time": "2022-06-17T06:55:01.986Z"
   },
   {
    "duration": 8,
    "start_time": "2022-06-17T06:55:04.954Z"
   },
   {
    "duration": 5,
    "start_time": "2022-06-17T06:56:23.888Z"
   },
   {
    "duration": 6,
    "start_time": "2022-06-17T06:56:36.127Z"
   },
   {
    "duration": 1063,
    "start_time": "2022-06-17T06:56:51.515Z"
   },
   {
    "duration": 30,
    "start_time": "2022-06-17T06:56:52.580Z"
   },
   {
    "duration": 36,
    "start_time": "2022-06-17T06:56:52.612Z"
   },
   {
    "duration": 19,
    "start_time": "2022-06-17T06:56:52.649Z"
   },
   {
    "duration": 7,
    "start_time": "2022-06-17T06:56:52.670Z"
   },
   {
    "duration": 16,
    "start_time": "2022-06-17T06:56:52.678Z"
   },
   {
    "duration": 4,
    "start_time": "2022-06-17T06:56:52.696Z"
   },
   {
    "duration": 19,
    "start_time": "2022-06-17T06:56:52.702Z"
   },
   {
    "duration": 71,
    "start_time": "2022-06-17T06:56:52.723Z"
   },
   {
    "duration": 4,
    "start_time": "2022-06-17T06:56:52.796Z"
   },
   {
    "duration": 11,
    "start_time": "2022-06-17T06:56:52.802Z"
   },
   {
    "duration": 104,
    "start_time": "2022-06-17T06:56:52.895Z"
   },
   {
    "duration": 6,
    "start_time": "2022-06-17T06:57:01.306Z"
   },
   {
    "duration": 6,
    "start_time": "2022-06-17T06:57:19.050Z"
   },
   {
    "duration": 5,
    "start_time": "2022-06-17T06:58:24.597Z"
   },
   {
    "duration": 6,
    "start_time": "2022-06-17T06:58:30.370Z"
   },
   {
    "duration": 1074,
    "start_time": "2022-06-17T06:58:51.874Z"
   },
   {
    "duration": 29,
    "start_time": "2022-06-17T06:58:52.950Z"
   },
   {
    "duration": 36,
    "start_time": "2022-06-17T06:58:52.981Z"
   },
   {
    "duration": 18,
    "start_time": "2022-06-17T06:58:53.019Z"
   },
   {
    "duration": 6,
    "start_time": "2022-06-17T06:58:53.039Z"
   },
   {
    "duration": 8,
    "start_time": "2022-06-17T06:58:53.047Z"
   },
   {
    "duration": 9,
    "start_time": "2022-06-17T06:58:53.056Z"
   },
   {
    "duration": 29,
    "start_time": "2022-06-17T06:58:53.066Z"
   },
   {
    "duration": 22,
    "start_time": "2022-06-17T06:58:53.097Z"
   },
   {
    "duration": 4,
    "start_time": "2022-06-17T06:58:53.196Z"
   },
   {
    "duration": 15,
    "start_time": "2022-06-17T06:58:53.202Z"
   },
   {
    "duration": 3,
    "start_time": "2022-06-17T06:58:53.295Z"
   },
   {
    "duration": 8,
    "start_time": "2022-06-17T06:59:02.432Z"
   },
   {
    "duration": 5,
    "start_time": "2022-06-17T07:03:28.566Z"
   },
   {
    "duration": 6,
    "start_time": "2022-06-17T07:04:05.322Z"
   },
   {
    "duration": 5,
    "start_time": "2022-06-17T07:05:13.203Z"
   },
   {
    "duration": 4,
    "start_time": "2022-06-17T07:06:21.677Z"
   },
   {
    "duration": 6,
    "start_time": "2022-06-17T07:06:32.810Z"
   },
   {
    "duration": 8,
    "start_time": "2022-06-17T07:10:16.334Z"
   },
   {
    "duration": 30,
    "start_time": "2022-06-17T07:10:42.698Z"
   },
   {
    "duration": 6,
    "start_time": "2022-06-17T07:11:08.866Z"
   },
   {
    "duration": 107,
    "start_time": "2022-06-17T07:11:32.613Z"
   },
   {
    "duration": 6,
    "start_time": "2022-06-17T07:11:43.450Z"
   },
   {
    "duration": 5,
    "start_time": "2022-06-17T07:12:21.688Z"
   },
   {
    "duration": 9,
    "start_time": "2022-06-17T07:13:05.262Z"
   },
   {
    "duration": 6,
    "start_time": "2022-06-17T07:14:04.910Z"
   },
   {
    "duration": 23,
    "start_time": "2022-06-17T07:14:39.832Z"
   },
   {
    "duration": 1094,
    "start_time": "2022-06-17T07:15:00.467Z"
   },
   {
    "duration": 30,
    "start_time": "2022-06-17T07:15:01.564Z"
   },
   {
    "duration": 50,
    "start_time": "2022-06-17T07:15:01.596Z"
   },
   {
    "duration": 39,
    "start_time": "2022-06-17T07:15:01.649Z"
   },
   {
    "duration": 5,
    "start_time": "2022-06-17T07:15:01.690Z"
   },
   {
    "duration": 14,
    "start_time": "2022-06-17T07:15:01.696Z"
   },
   {
    "duration": 11,
    "start_time": "2022-06-17T07:15:01.711Z"
   },
   {
    "duration": 20,
    "start_time": "2022-06-17T07:15:01.724Z"
   },
   {
    "duration": 59,
    "start_time": "2022-06-17T07:15:01.746Z"
   },
   {
    "duration": 6,
    "start_time": "2022-06-17T07:15:01.808Z"
   },
   {
    "duration": 20,
    "start_time": "2022-06-17T07:15:01.894Z"
   },
   {
    "duration": 28,
    "start_time": "2022-06-17T07:15:01.916Z"
   },
   {
    "duration": 14,
    "start_time": "2022-06-17T07:16:16.378Z"
   },
   {
    "duration": 1107,
    "start_time": "2022-06-17T07:17:39.896Z"
   },
   {
    "duration": 29,
    "start_time": "2022-06-17T07:17:41.006Z"
   },
   {
    "duration": 38,
    "start_time": "2022-06-17T07:17:41.037Z"
   },
   {
    "duration": 6,
    "start_time": "2022-06-17T07:17:41.078Z"
   },
   {
    "duration": 10,
    "start_time": "2022-06-17T07:17:41.086Z"
   },
   {
    "duration": 6,
    "start_time": "2022-06-17T07:17:41.098Z"
   },
   {
    "duration": 11,
    "start_time": "2022-06-17T07:17:41.106Z"
   },
   {
    "duration": 17,
    "start_time": "2022-06-17T07:17:41.118Z"
   },
   {
    "duration": 68,
    "start_time": "2022-06-17T07:17:41.137Z"
   },
   {
    "duration": 87,
    "start_time": "2022-06-17T07:17:41.208Z"
   },
   {
    "duration": 13,
    "start_time": "2022-06-17T07:17:41.297Z"
   },
   {
    "duration": 16,
    "start_time": "2022-06-17T07:17:41.312Z"
   },
   {
    "duration": 14,
    "start_time": "2022-06-17T07:18:36.099Z"
   },
   {
    "duration": 16,
    "start_time": "2022-06-17T07:18:49.030Z"
   },
   {
    "duration": 6,
    "start_time": "2022-06-17T07:30:17.269Z"
   },
   {
    "duration": 6,
    "start_time": "2022-06-17T07:31:17.465Z"
   },
   {
    "duration": 1029,
    "start_time": "2022-06-17T07:32:35.426Z"
   },
   {
    "duration": 32,
    "start_time": "2022-06-17T07:32:36.457Z"
   },
   {
    "duration": 35,
    "start_time": "2022-06-17T07:32:36.491Z"
   },
   {
    "duration": 18,
    "start_time": "2022-06-17T07:32:36.528Z"
   },
   {
    "duration": 18,
    "start_time": "2022-06-17T07:32:36.548Z"
   },
   {
    "duration": 7,
    "start_time": "2022-06-17T07:32:36.568Z"
   },
   {
    "duration": 7,
    "start_time": "2022-06-17T07:32:36.576Z"
   },
   {
    "duration": 19,
    "start_time": "2022-06-17T07:32:36.584Z"
   },
   {
    "duration": 89,
    "start_time": "2022-06-17T07:32:36.605Z"
   },
   {
    "duration": 7,
    "start_time": "2022-06-17T07:32:36.698Z"
   },
   {
    "duration": 89,
    "start_time": "2022-06-17T07:32:36.708Z"
   },
   {
    "duration": 10,
    "start_time": "2022-06-17T07:32:36.798Z"
   },
   {
    "duration": 15,
    "start_time": "2022-06-17T07:32:46.750Z"
   },
   {
    "duration": 6,
    "start_time": "2022-06-17T07:32:59.147Z"
   },
   {
    "duration": 14,
    "start_time": "2022-06-17T07:33:02.951Z"
   },
   {
    "duration": 6,
    "start_time": "2022-06-17T07:33:18.503Z"
   },
   {
    "duration": 14,
    "start_time": "2022-06-17T07:33:20.512Z"
   },
   {
    "duration": 7,
    "start_time": "2022-06-17T07:34:03.341Z"
   },
   {
    "duration": 8,
    "start_time": "2022-06-17T07:35:03.196Z"
   },
   {
    "duration": 109,
    "start_time": "2022-06-17T07:37:34.500Z"
   },
   {
    "duration": 7,
    "start_time": "2022-06-17T07:37:41.618Z"
   },
   {
    "duration": 7,
    "start_time": "2022-06-17T07:38:36.535Z"
   },
   {
    "duration": 7,
    "start_time": "2022-06-17T07:38:47.390Z"
   },
   {
    "duration": 6,
    "start_time": "2022-06-17T07:38:51.657Z"
   },
   {
    "duration": 7,
    "start_time": "2022-06-17T07:41:21.565Z"
   },
   {
    "duration": 7,
    "start_time": "2022-06-17T07:41:35.670Z"
   },
   {
    "duration": 7,
    "start_time": "2022-06-17T07:41:51.605Z"
   },
   {
    "duration": 7,
    "start_time": "2022-06-17T07:42:02.022Z"
   },
   {
    "duration": 7,
    "start_time": "2022-06-17T07:42:09.372Z"
   },
   {
    "duration": 7,
    "start_time": "2022-06-17T07:42:29.909Z"
   },
   {
    "duration": 7,
    "start_time": "2022-06-17T07:43:00.634Z"
   },
   {
    "duration": 9,
    "start_time": "2022-06-17T07:43:39.739Z"
   },
   {
    "duration": 8,
    "start_time": "2022-06-17T07:43:51.563Z"
   },
   {
    "duration": 1024,
    "start_time": "2022-06-17T07:44:07.333Z"
   },
   {
    "duration": 31,
    "start_time": "2022-06-17T07:44:08.359Z"
   },
   {
    "duration": 35,
    "start_time": "2022-06-17T07:44:08.392Z"
   },
   {
    "duration": 18,
    "start_time": "2022-06-17T07:44:08.429Z"
   },
   {
    "duration": 7,
    "start_time": "2022-06-17T07:44:08.449Z"
   },
   {
    "duration": 14,
    "start_time": "2022-06-17T07:44:08.457Z"
   },
   {
    "duration": 21,
    "start_time": "2022-06-17T07:44:08.473Z"
   },
   {
    "duration": 28,
    "start_time": "2022-06-17T07:44:08.496Z"
   },
   {
    "duration": 17,
    "start_time": "2022-06-17T07:44:08.527Z"
   },
   {
    "duration": 6,
    "start_time": "2022-06-17T07:44:08.595Z"
   },
   {
    "duration": 183,
    "start_time": "2022-06-17T07:44:08.603Z"
   },
   {
    "duration": 0,
    "start_time": "2022-06-17T07:44:08.788Z"
   },
   {
    "duration": 6,
    "start_time": "2022-06-17T07:44:21.723Z"
   },
   {
    "duration": 8,
    "start_time": "2022-06-17T07:44:28.194Z"
   },
   {
    "duration": 8,
    "start_time": "2022-06-17T07:44:38.910Z"
   },
   {
    "duration": 7,
    "start_time": "2022-06-17T07:44:52.067Z"
   },
   {
    "duration": 8,
    "start_time": "2022-06-17T07:47:45.518Z"
   },
   {
    "duration": 7,
    "start_time": "2022-06-17T07:54:16.040Z"
   },
   {
    "duration": 7,
    "start_time": "2022-06-17T07:59:14.672Z"
   },
   {
    "duration": 1031,
    "start_time": "2022-06-17T07:59:34.447Z"
   },
   {
    "duration": 30,
    "start_time": "2022-06-17T07:59:35.480Z"
   },
   {
    "duration": 36,
    "start_time": "2022-06-17T07:59:35.512Z"
   },
   {
    "duration": 19,
    "start_time": "2022-06-17T07:59:35.550Z"
   },
   {
    "duration": 6,
    "start_time": "2022-06-17T07:59:35.570Z"
   },
   {
    "duration": 16,
    "start_time": "2022-06-17T07:59:35.578Z"
   },
   {
    "duration": 8,
    "start_time": "2022-06-17T07:59:35.596Z"
   },
   {
    "duration": 16,
    "start_time": "2022-06-17T07:59:35.606Z"
   },
   {
    "duration": 71,
    "start_time": "2022-06-17T07:59:35.624Z"
   },
   {
    "duration": 4,
    "start_time": "2022-06-17T07:59:35.698Z"
   },
   {
    "duration": 95,
    "start_time": "2022-06-17T07:59:35.704Z"
   },
   {
    "duration": 10,
    "start_time": "2022-06-17T07:59:35.801Z"
   },
   {
    "duration": 8,
    "start_time": "2022-06-17T08:00:00.863Z"
   },
   {
    "duration": 5,
    "start_time": "2022-06-17T08:00:10.589Z"
   },
   {
    "duration": 10,
    "start_time": "2022-06-17T08:01:45.757Z"
   },
   {
    "duration": 6,
    "start_time": "2022-06-17T08:01:46.941Z"
   },
   {
    "duration": 6,
    "start_time": "2022-06-17T08:02:08.652Z"
   },
   {
    "duration": 1009,
    "start_time": "2022-06-17T08:02:20.521Z"
   },
   {
    "duration": 29,
    "start_time": "2022-06-17T08:02:21.532Z"
   },
   {
    "duration": 32,
    "start_time": "2022-06-17T08:02:21.565Z"
   },
   {
    "duration": 17,
    "start_time": "2022-06-17T08:02:21.599Z"
   },
   {
    "duration": 4,
    "start_time": "2022-06-17T08:02:21.617Z"
   },
   {
    "duration": 11,
    "start_time": "2022-06-17T08:02:21.622Z"
   },
   {
    "duration": 9,
    "start_time": "2022-06-17T08:02:21.635Z"
   },
   {
    "duration": 13,
    "start_time": "2022-06-17T08:02:21.646Z"
   },
   {
    "duration": 44,
    "start_time": "2022-06-17T08:02:21.661Z"
   },
   {
    "duration": 6,
    "start_time": "2022-06-17T08:02:21.707Z"
   },
   {
    "duration": 89,
    "start_time": "2022-06-17T08:02:21.714Z"
   },
   {
    "duration": 14,
    "start_time": "2022-06-17T08:02:21.804Z"
   },
   {
    "duration": 3,
    "start_time": "2022-06-17T08:03:36.953Z"
   },
   {
    "duration": 5,
    "start_time": "2022-06-17T08:03:42.660Z"
   },
   {
    "duration": 24,
    "start_time": "2022-06-17T08:04:24.174Z"
   },
   {
    "duration": 36,
    "start_time": "2022-06-17T08:04:29.212Z"
   },
   {
    "duration": 5,
    "start_time": "2022-06-17T08:04:54.544Z"
   },
   {
    "duration": 6,
    "start_time": "2022-06-17T08:06:34.091Z"
   },
   {
    "duration": 119,
    "start_time": "2022-06-17T08:09:08.945Z"
   },
   {
    "duration": 1055,
    "start_time": "2022-06-17T08:10:57.588Z"
   },
   {
    "duration": 29,
    "start_time": "2022-06-17T08:10:58.645Z"
   },
   {
    "duration": 32,
    "start_time": "2022-06-17T08:10:58.676Z"
   },
   {
    "duration": 17,
    "start_time": "2022-06-17T08:10:58.711Z"
   },
   {
    "duration": 4,
    "start_time": "2022-06-17T08:10:58.729Z"
   },
   {
    "duration": 9,
    "start_time": "2022-06-17T08:10:58.735Z"
   },
   {
    "duration": 12,
    "start_time": "2022-06-17T08:10:58.746Z"
   },
   {
    "duration": 13,
    "start_time": "2022-06-17T08:10:58.760Z"
   },
   {
    "duration": 40,
    "start_time": "2022-06-17T08:10:58.774Z"
   },
   {
    "duration": 5,
    "start_time": "2022-06-17T08:10:58.897Z"
   },
   {
    "duration": 19,
    "start_time": "2022-06-17T08:10:58.904Z"
   },
   {
    "duration": 204,
    "start_time": "2022-06-17T08:10:58.925Z"
   },
   {
    "duration": 7,
    "start_time": "2022-06-17T08:11:27.532Z"
   },
   {
    "duration": 20,
    "start_time": "2022-06-17T08:11:40.634Z"
   },
   {
    "duration": 1065,
    "start_time": "2022-06-17T08:13:23.185Z"
   },
   {
    "duration": 30,
    "start_time": "2022-06-17T08:13:24.252Z"
   },
   {
    "duration": 33,
    "start_time": "2022-06-17T08:13:24.284Z"
   },
   {
    "duration": 19,
    "start_time": "2022-06-17T08:13:24.319Z"
   },
   {
    "duration": 5,
    "start_time": "2022-06-17T08:13:24.340Z"
   },
   {
    "duration": 7,
    "start_time": "2022-06-17T08:13:24.346Z"
   },
   {
    "duration": 9,
    "start_time": "2022-06-17T08:13:24.355Z"
   },
   {
    "duration": 36,
    "start_time": "2022-06-17T08:13:24.366Z"
   },
   {
    "duration": 90,
    "start_time": "2022-06-17T08:13:24.404Z"
   },
   {
    "duration": 4,
    "start_time": "2022-06-17T08:13:24.497Z"
   },
   {
    "duration": 97,
    "start_time": "2022-06-17T08:13:24.502Z"
   },
   {
    "duration": 24,
    "start_time": "2022-06-17T08:13:24.601Z"
   },
   {
    "duration": 9,
    "start_time": "2022-06-17T08:14:06.804Z"
   },
   {
    "duration": 1040,
    "start_time": "2022-06-17T08:14:14.201Z"
   },
   {
    "duration": 31,
    "start_time": "2022-06-17T08:14:15.242Z"
   },
   {
    "duration": 34,
    "start_time": "2022-06-17T08:14:15.275Z"
   },
   {
    "duration": 18,
    "start_time": "2022-06-17T08:14:15.311Z"
   },
   {
    "duration": 4,
    "start_time": "2022-06-17T08:14:15.330Z"
   },
   {
    "duration": 7,
    "start_time": "2022-06-17T08:14:15.336Z"
   },
   {
    "duration": 8,
    "start_time": "2022-06-17T08:14:15.345Z"
   },
   {
    "duration": 14,
    "start_time": "2022-06-17T08:14:15.354Z"
   },
   {
    "duration": 38,
    "start_time": "2022-06-17T08:14:15.370Z"
   },
   {
    "duration": 91,
    "start_time": "2022-06-17T08:14:15.410Z"
   },
   {
    "duration": 92,
    "start_time": "2022-06-17T08:14:15.503Z"
   },
   {
    "duration": 435,
    "start_time": "2022-06-17T08:33:45.437Z"
   },
   {
    "duration": 101,
    "start_time": "2022-06-17T08:34:05.188Z"
   },
   {
    "duration": 132,
    "start_time": "2022-06-17T08:34:14.156Z"
   },
   {
    "duration": 16,
    "start_time": "2022-06-17T08:34:20.828Z"
   },
   {
    "duration": 15,
    "start_time": "2022-06-17T08:35:07.812Z"
   },
   {
    "duration": 10,
    "start_time": "2022-06-17T08:38:23.047Z"
   },
   {
    "duration": 286,
    "start_time": "2022-06-17T08:38:55.612Z"
   },
   {
    "duration": 9,
    "start_time": "2022-06-17T08:39:08.518Z"
   },
   {
    "duration": 17,
    "start_time": "2022-06-17T08:41:11.845Z"
   },
   {
    "duration": 18,
    "start_time": "2022-06-17T08:42:01.827Z"
   },
   {
    "duration": 15,
    "start_time": "2022-06-17T08:42:22.467Z"
   },
   {
    "duration": 4,
    "start_time": "2022-06-17T08:43:43.924Z"
   },
   {
    "duration": 13,
    "start_time": "2022-06-17T08:43:52.946Z"
   },
   {
    "duration": 10,
    "start_time": "2022-06-17T09:05:44.182Z"
   },
   {
    "duration": 13,
    "start_time": "2022-06-17T09:06:07.084Z"
   },
   {
    "duration": 5,
    "start_time": "2022-06-17T09:06:20.780Z"
   },
   {
    "duration": 1060,
    "start_time": "2022-06-17T09:06:31.029Z"
   },
   {
    "duration": 40,
    "start_time": "2022-06-17T09:06:32.093Z"
   },
   {
    "duration": 36,
    "start_time": "2022-06-17T09:06:32.135Z"
   },
   {
    "duration": 31,
    "start_time": "2022-06-17T09:06:32.174Z"
   },
   {
    "duration": 13,
    "start_time": "2022-06-17T09:06:32.206Z"
   },
   {
    "duration": 22,
    "start_time": "2022-06-17T09:06:32.221Z"
   },
   {
    "duration": 10,
    "start_time": "2022-06-17T09:06:32.245Z"
   },
   {
    "duration": 103,
    "start_time": "2022-06-17T09:06:32.257Z"
   },
   {
    "duration": 0,
    "start_time": "2022-06-17T09:06:32.362Z"
   },
   {
    "duration": 0,
    "start_time": "2022-06-17T09:06:32.363Z"
   },
   {
    "duration": 0,
    "start_time": "2022-06-17T09:06:32.366Z"
   },
   {
    "duration": 0,
    "start_time": "2022-06-17T09:06:32.368Z"
   },
   {
    "duration": 1015,
    "start_time": "2022-06-17T09:06:55.935Z"
   },
   {
    "duration": 30,
    "start_time": "2022-06-17T09:06:56.952Z"
   },
   {
    "duration": 33,
    "start_time": "2022-06-17T09:06:56.984Z"
   },
   {
    "duration": 18,
    "start_time": "2022-06-17T09:06:57.020Z"
   },
   {
    "duration": 19,
    "start_time": "2022-06-17T09:06:57.040Z"
   },
   {
    "duration": 17,
    "start_time": "2022-06-17T09:06:57.061Z"
   },
   {
    "duration": 22,
    "start_time": "2022-06-17T09:06:57.080Z"
   },
   {
    "duration": 24,
    "start_time": "2022-06-17T09:06:57.103Z"
   },
   {
    "duration": 104,
    "start_time": "2022-06-17T09:06:57.129Z"
   },
   {
    "duration": 0,
    "start_time": "2022-06-17T09:06:57.236Z"
   },
   {
    "duration": 0,
    "start_time": "2022-06-17T09:06:57.237Z"
   },
   {
    "duration": 0,
    "start_time": "2022-06-17T09:06:57.238Z"
   },
   {
    "duration": 1062,
    "start_time": "2022-06-17T09:07:36.792Z"
   },
   {
    "duration": 30,
    "start_time": "2022-06-17T09:07:37.856Z"
   },
   {
    "duration": 36,
    "start_time": "2022-06-17T09:07:37.888Z"
   },
   {
    "duration": 19,
    "start_time": "2022-06-17T09:07:37.926Z"
   },
   {
    "duration": 3,
    "start_time": "2022-06-17T09:07:37.947Z"
   },
   {
    "duration": 8,
    "start_time": "2022-06-17T09:07:37.952Z"
   },
   {
    "duration": 34,
    "start_time": "2022-06-17T09:07:37.961Z"
   },
   {
    "duration": 11,
    "start_time": "2022-06-17T09:07:37.997Z"
   },
   {
    "duration": 88,
    "start_time": "2022-06-17T09:07:38.010Z"
   },
   {
    "duration": 5,
    "start_time": "2022-06-17T09:07:38.102Z"
   },
   {
    "duration": 97,
    "start_time": "2022-06-17T09:07:38.109Z"
   },
   {
    "duration": 8,
    "start_time": "2022-06-17T09:07:38.208Z"
   },
   {
    "duration": 470,
    "start_time": "2022-06-17T09:09:25.259Z"
   },
   {
    "duration": 1093,
    "start_time": "2022-06-17T09:10:41.554Z"
   },
   {
    "duration": 30,
    "start_time": "2022-06-17T09:10:42.649Z"
   },
   {
    "duration": 34,
    "start_time": "2022-06-17T09:10:42.681Z"
   },
   {
    "duration": 18,
    "start_time": "2022-06-17T09:10:42.718Z"
   },
   {
    "duration": 4,
    "start_time": "2022-06-17T09:10:42.738Z"
   },
   {
    "duration": 8,
    "start_time": "2022-06-17T09:10:42.743Z"
   },
   {
    "duration": 7,
    "start_time": "2022-06-17T09:10:42.752Z"
   },
   {
    "duration": 44,
    "start_time": "2022-06-17T09:10:42.761Z"
   },
   {
    "duration": 96,
    "start_time": "2022-06-17T09:10:42.807Z"
   },
   {
    "duration": 11,
    "start_time": "2022-06-17T09:10:42.912Z"
   },
   {
    "duration": 80,
    "start_time": "2022-06-17T09:10:42.926Z"
   },
   {
    "duration": 142,
    "start_time": "2022-06-17T09:10:43.008Z"
   },
   {
    "duration": 18,
    "start_time": "2022-06-17T09:11:02.169Z"
   },
   {
    "duration": 14,
    "start_time": "2022-06-17T09:11:45.365Z"
   },
   {
    "duration": 1011,
    "start_time": "2022-06-17T09:12:10.724Z"
   },
   {
    "duration": 29,
    "start_time": "2022-06-17T09:12:11.737Z"
   },
   {
    "duration": 34,
    "start_time": "2022-06-17T09:12:11.768Z"
   },
   {
    "duration": 19,
    "start_time": "2022-06-17T09:12:11.805Z"
   },
   {
    "duration": 7,
    "start_time": "2022-06-17T09:12:11.825Z"
   },
   {
    "duration": 9,
    "start_time": "2022-06-17T09:12:11.834Z"
   },
   {
    "duration": 6,
    "start_time": "2022-06-17T09:12:11.845Z"
   },
   {
    "duration": 14,
    "start_time": "2022-06-17T09:12:11.853Z"
   },
   {
    "duration": 34,
    "start_time": "2022-06-17T09:12:11.869Z"
   },
   {
    "duration": 6,
    "start_time": "2022-06-17T09:12:11.907Z"
   },
   {
    "duration": 15,
    "start_time": "2022-06-17T09:12:11.996Z"
   },
   {
    "duration": 139,
    "start_time": "2022-06-17T09:12:12.013Z"
   },
   {
    "duration": 30,
    "start_time": "2022-06-17T09:13:27.634Z"
   },
   {
    "duration": 14,
    "start_time": "2022-06-17T09:13:38.545Z"
   },
   {
    "duration": 15,
    "start_time": "2022-06-17T09:14:03.418Z"
   },
   {
    "duration": 1035,
    "start_time": "2022-06-17T09:15:17.534Z"
   },
   {
    "duration": 30,
    "start_time": "2022-06-17T09:15:18.571Z"
   },
   {
    "duration": 37,
    "start_time": "2022-06-17T09:15:18.603Z"
   },
   {
    "duration": 19,
    "start_time": "2022-06-17T09:15:18.642Z"
   },
   {
    "duration": 7,
    "start_time": "2022-06-17T09:15:18.663Z"
   },
   {
    "duration": 23,
    "start_time": "2022-06-17T09:15:18.672Z"
   },
   {
    "duration": 11,
    "start_time": "2022-06-17T09:15:18.696Z"
   },
   {
    "duration": 19,
    "start_time": "2022-06-17T09:15:18.709Z"
   },
   {
    "duration": 68,
    "start_time": "2022-06-17T09:15:18.729Z"
   },
   {
    "duration": 3,
    "start_time": "2022-06-17T09:15:18.801Z"
   },
   {
    "duration": 92,
    "start_time": "2022-06-17T09:15:18.806Z"
   },
   {
    "duration": 20,
    "start_time": "2022-06-17T09:15:18.900Z"
   },
   {
    "duration": 10,
    "start_time": "2022-06-17T09:16:45.394Z"
   },
   {
    "duration": 45,
    "start_time": "2022-06-17T09:17:44.394Z"
   },
   {
    "duration": 3,
    "start_time": "2022-06-17T09:32:41.627Z"
   },
   {
    "duration": 3,
    "start_time": "2022-06-17T09:33:11.931Z"
   },
   {
    "duration": 166,
    "start_time": "2022-06-17T09:34:10.817Z"
   },
   {
    "duration": 4,
    "start_time": "2022-06-17T09:34:54.666Z"
   },
   {
    "duration": 570,
    "start_time": "2022-06-17T09:34:55.412Z"
   },
   {
    "duration": 3,
    "start_time": "2022-06-17T09:38:06.500Z"
   },
   {
    "duration": 119,
    "start_time": "2022-06-17T09:38:07.292Z"
   },
   {
    "duration": 45,
    "start_time": "2022-06-17T14:42:41.735Z"
   },
   {
    "duration": 1085,
    "start_time": "2022-06-17T14:42:46.443Z"
   },
   {
    "duration": 95,
    "start_time": "2022-06-17T14:42:47.530Z"
   },
   {
    "duration": 36,
    "start_time": "2022-06-17T14:42:47.627Z"
   },
   {
    "duration": 18,
    "start_time": "2022-06-17T14:42:47.666Z"
   },
   {
    "duration": 7,
    "start_time": "2022-06-17T14:42:47.686Z"
   },
   {
    "duration": 13,
    "start_time": "2022-06-17T14:42:47.694Z"
   },
   {
    "duration": 15,
    "start_time": "2022-06-17T14:42:47.709Z"
   },
   {
    "duration": 15,
    "start_time": "2022-06-17T14:42:47.726Z"
   },
   {
    "duration": 29,
    "start_time": "2022-06-17T14:42:47.742Z"
   },
   {
    "duration": 86,
    "start_time": "2022-06-17T14:42:47.773Z"
   },
   {
    "duration": 17,
    "start_time": "2022-06-17T14:42:47.861Z"
   },
   {
    "duration": 7,
    "start_time": "2022-06-17T14:44:18.221Z"
   },
   {
    "duration": 4,
    "start_time": "2022-06-17T14:44:39.885Z"
   },
   {
    "duration": 3,
    "start_time": "2022-06-17T14:45:12.783Z"
   },
   {
    "duration": 13,
    "start_time": "2022-06-17T14:45:23.645Z"
   },
   {
    "duration": 5,
    "start_time": "2022-06-17T14:47:00.451Z"
   },
   {
    "duration": 12,
    "start_time": "2022-06-17T14:47:22.538Z"
   },
   {
    "duration": 1007,
    "start_time": "2022-06-17T14:50:31.098Z"
   },
   {
    "duration": 28,
    "start_time": "2022-06-17T14:50:32.107Z"
   },
   {
    "duration": 31,
    "start_time": "2022-06-17T14:50:32.137Z"
   },
   {
    "duration": 16,
    "start_time": "2022-06-17T14:50:32.169Z"
   },
   {
    "duration": 5,
    "start_time": "2022-06-17T14:50:32.187Z"
   },
   {
    "duration": 10,
    "start_time": "2022-06-17T14:50:32.193Z"
   },
   {
    "duration": 6,
    "start_time": "2022-06-17T14:50:32.204Z"
   },
   {
    "duration": 13,
    "start_time": "2022-06-17T14:50:32.211Z"
   },
   {
    "duration": 50,
    "start_time": "2022-06-17T14:50:32.226Z"
   },
   {
    "duration": 3,
    "start_time": "2022-06-17T14:50:32.358Z"
   },
   {
    "duration": 21,
    "start_time": "2022-06-17T14:50:32.363Z"
   },
   {
    "duration": 119,
    "start_time": "2022-06-17T14:50:32.386Z"
   },
   {
    "duration": 0,
    "start_time": "2022-06-17T14:50:32.506Z"
   },
   {
    "duration": 5,
    "start_time": "2022-06-17T14:51:36.697Z"
   },
   {
    "duration": 5,
    "start_time": "2022-06-17T14:51:43.925Z"
   },
   {
    "duration": 17,
    "start_time": "2022-06-17T14:51:55.095Z"
   },
   {
    "duration": 1013,
    "start_time": "2022-06-17T14:54:14.300Z"
   },
   {
    "duration": 28,
    "start_time": "2022-06-17T14:54:15.315Z"
   },
   {
    "duration": 37,
    "start_time": "2022-06-17T14:54:15.344Z"
   },
   {
    "duration": 19,
    "start_time": "2022-06-17T14:54:15.384Z"
   },
   {
    "duration": 5,
    "start_time": "2022-06-17T14:54:15.404Z"
   },
   {
    "duration": 8,
    "start_time": "2022-06-17T14:54:15.410Z"
   },
   {
    "duration": 12,
    "start_time": "2022-06-17T14:54:15.420Z"
   },
   {
    "duration": 35,
    "start_time": "2022-06-17T14:54:15.433Z"
   },
   {
    "duration": 89,
    "start_time": "2022-06-17T14:54:15.470Z"
   },
   {
    "duration": 4,
    "start_time": "2022-06-17T14:54:15.563Z"
   },
   {
    "duration": 94,
    "start_time": "2022-06-17T14:54:15.569Z"
   },
   {
    "duration": 14,
    "start_time": "2022-06-17T14:54:15.665Z"
   },
   {
    "duration": 109,
    "start_time": "2022-06-17T14:54:15.681Z"
   },
   {
    "duration": 13,
    "start_time": "2022-06-17T14:54:42.833Z"
   },
   {
    "duration": 7,
    "start_time": "2022-06-17T14:54:52.502Z"
   },
   {
    "duration": 10,
    "start_time": "2022-06-17T14:55:01.510Z"
   },
   {
    "duration": 10,
    "start_time": "2022-06-17T14:55:10.332Z"
   },
   {
    "duration": 8,
    "start_time": "2022-06-20T04:31:08.275Z"
   },
   {
    "duration": 1019,
    "start_time": "2022-06-20T04:31:22.190Z"
   },
   {
    "duration": 83,
    "start_time": "2022-06-20T04:31:23.211Z"
   },
   {
    "duration": 35,
    "start_time": "2022-06-20T04:31:23.296Z"
   },
   {
    "duration": 22,
    "start_time": "2022-06-20T04:31:23.332Z"
   },
   {
    "duration": 5,
    "start_time": "2022-06-20T04:31:23.357Z"
   },
   {
    "duration": 8,
    "start_time": "2022-06-20T04:31:23.364Z"
   },
   {
    "duration": 8,
    "start_time": "2022-06-20T04:31:23.374Z"
   },
   {
    "duration": 15,
    "start_time": "2022-06-20T04:31:23.383Z"
   },
   {
    "duration": 45,
    "start_time": "2022-06-20T04:31:23.399Z"
   },
   {
    "duration": 82,
    "start_time": "2022-06-20T04:31:23.446Z"
   },
   {
    "duration": 6,
    "start_time": "2022-06-20T04:31:23.530Z"
   },
   {
    "duration": 15,
    "start_time": "2022-06-20T04:31:23.538Z"
   },
   {
    "duration": 16,
    "start_time": "2022-06-20T04:31:23.555Z"
   },
   {
    "duration": 13,
    "start_time": "2022-06-20T04:31:23.573Z"
   },
   {
    "duration": 6,
    "start_time": "2022-06-20T04:31:23.587Z"
   },
   {
    "duration": 1129,
    "start_time": "2022-06-20T04:38:03.312Z"
   },
   {
    "duration": 30,
    "start_time": "2022-06-20T04:38:04.443Z"
   },
   {
    "duration": 37,
    "start_time": "2022-06-20T04:38:04.474Z"
   },
   {
    "duration": 19,
    "start_time": "2022-06-20T04:38:04.512Z"
   },
   {
    "duration": 9,
    "start_time": "2022-06-20T04:38:04.533Z"
   },
   {
    "duration": 8,
    "start_time": "2022-06-20T04:38:04.543Z"
   },
   {
    "duration": 7,
    "start_time": "2022-06-20T04:38:04.553Z"
   },
   {
    "duration": 13,
    "start_time": "2022-06-20T04:38:04.562Z"
   },
   {
    "duration": 63,
    "start_time": "2022-06-20T04:38:04.576Z"
   },
   {
    "duration": 94,
    "start_time": "2022-06-20T04:38:04.642Z"
   },
   {
    "duration": 19,
    "start_time": "2022-06-20T04:38:04.738Z"
   },
   {
    "duration": 15,
    "start_time": "2022-06-20T04:38:04.759Z"
   },
   {
    "duration": 28,
    "start_time": "2022-06-20T04:38:04.776Z"
   },
   {
    "duration": 30,
    "start_time": "2022-06-20T04:38:04.807Z"
   },
   {
    "duration": 21,
    "start_time": "2022-06-20T04:38:04.839Z"
   },
   {
    "duration": 298,
    "start_time": "2022-06-20T04:38:04.862Z"
   },
   {
    "duration": 0,
    "start_time": "2022-06-20T04:38:05.162Z"
   },
   {
    "duration": 4,
    "start_time": "2022-06-20T04:39:36.437Z"
   },
   {
    "duration": 6,
    "start_time": "2022-06-20T04:39:38.292Z"
   },
   {
    "duration": 15,
    "start_time": "2022-06-20T04:39:51.362Z"
   },
   {
    "duration": 13,
    "start_time": "2022-06-20T04:41:52.773Z"
   },
   {
    "duration": 7,
    "start_time": "2022-06-20T04:44:44.653Z"
   },
   {
    "duration": 17,
    "start_time": "2022-06-20T04:45:45.093Z"
   },
   {
    "duration": 15,
    "start_time": "2022-06-20T04:49:47.555Z"
   },
   {
    "duration": 1059,
    "start_time": "2022-06-20T04:50:14.758Z"
   },
   {
    "duration": 30,
    "start_time": "2022-06-20T04:50:15.819Z"
   },
   {
    "duration": 35,
    "start_time": "2022-06-20T04:50:15.853Z"
   },
   {
    "duration": 18,
    "start_time": "2022-06-20T04:50:15.890Z"
   },
   {
    "duration": 7,
    "start_time": "2022-06-20T04:50:15.909Z"
   },
   {
    "duration": 10,
    "start_time": "2022-06-20T04:50:15.917Z"
   },
   {
    "duration": 15,
    "start_time": "2022-06-20T04:50:15.929Z"
   },
   {
    "duration": 7,
    "start_time": "2022-06-20T04:50:15.945Z"
   },
   {
    "duration": 12,
    "start_time": "2022-06-20T04:50:15.953Z"
   },
   {
    "duration": 63,
    "start_time": "2022-06-20T04:50:15.966Z"
   },
   {
    "duration": 4,
    "start_time": "2022-06-20T04:50:16.032Z"
   },
   {
    "duration": 90,
    "start_time": "2022-06-20T04:50:16.037Z"
   },
   {
    "duration": 5,
    "start_time": "2022-06-20T04:50:16.130Z"
   },
   {
    "duration": 11,
    "start_time": "2022-06-20T04:50:16.137Z"
   },
   {
    "duration": 13,
    "start_time": "2022-06-20T04:50:16.149Z"
   },
   {
    "duration": 6,
    "start_time": "2022-06-20T04:50:16.164Z"
   },
   {
    "duration": 5,
    "start_time": "2022-06-20T04:50:16.172Z"
   },
   {
    "duration": 8,
    "start_time": "2022-06-20T04:50:16.178Z"
   },
   {
    "duration": 43,
    "start_time": "2022-06-20T04:50:16.188Z"
   },
   {
    "duration": 272,
    "start_time": "2022-06-20T04:50:16.233Z"
   },
   {
    "duration": 7,
    "start_time": "2022-06-20T04:51:37.522Z"
   },
   {
    "duration": 1048,
    "start_time": "2022-06-20T04:51:51.795Z"
   },
   {
    "duration": 28,
    "start_time": "2022-06-20T04:51:52.845Z"
   },
   {
    "duration": 31,
    "start_time": "2022-06-20T04:51:52.875Z"
   },
   {
    "duration": 16,
    "start_time": "2022-06-20T04:51:52.909Z"
   },
   {
    "duration": 4,
    "start_time": "2022-06-20T04:51:52.927Z"
   },
   {
    "duration": 7,
    "start_time": "2022-06-20T04:51:52.932Z"
   },
   {
    "duration": 13,
    "start_time": "2022-06-20T04:51:52.941Z"
   },
   {
    "duration": 5,
    "start_time": "2022-06-20T04:51:52.955Z"
   },
   {
    "duration": 14,
    "start_time": "2022-06-20T04:51:52.962Z"
   },
   {
    "duration": 62,
    "start_time": "2022-06-20T04:51:52.977Z"
   },
   {
    "duration": 4,
    "start_time": "2022-06-20T04:51:53.041Z"
   },
   {
    "duration": 86,
    "start_time": "2022-06-20T04:51:53.046Z"
   },
   {
    "duration": 7,
    "start_time": "2022-06-20T04:51:53.134Z"
   },
   {
    "duration": 11,
    "start_time": "2022-06-20T04:51:53.145Z"
   },
   {
    "duration": 10,
    "start_time": "2022-06-20T04:51:53.158Z"
   },
   {
    "duration": 5,
    "start_time": "2022-06-20T04:51:53.169Z"
   },
   {
    "duration": 5,
    "start_time": "2022-06-20T04:51:53.176Z"
   },
   {
    "duration": 8,
    "start_time": "2022-06-20T04:51:53.182Z"
   },
   {
    "duration": 40,
    "start_time": "2022-06-20T04:51:53.192Z"
   },
   {
    "duration": 21,
    "start_time": "2022-06-20T04:51:53.234Z"
   },
   {
    "duration": 11,
    "start_time": "2022-06-20T04:52:45.415Z"
   },
   {
    "duration": 93,
    "start_time": "2022-06-20T04:55:41.754Z"
   },
   {
    "duration": 9,
    "start_time": "2022-06-20T04:57:55.883Z"
   },
   {
    "duration": 8,
    "start_time": "2022-06-20T04:58:39.393Z"
   },
   {
    "duration": 8,
    "start_time": "2022-06-20T04:59:55.876Z"
   },
   {
    "duration": 1099,
    "start_time": "2022-06-20T05:03:48.809Z"
   },
   {
    "duration": 29,
    "start_time": "2022-06-20T05:03:49.910Z"
   },
   {
    "duration": 31,
    "start_time": "2022-06-20T05:03:49.941Z"
   },
   {
    "duration": 17,
    "start_time": "2022-06-20T05:03:49.974Z"
   },
   {
    "duration": 3,
    "start_time": "2022-06-20T05:03:49.993Z"
   },
   {
    "duration": 17,
    "start_time": "2022-06-20T05:03:49.997Z"
   },
   {
    "duration": 27,
    "start_time": "2022-06-20T05:03:50.015Z"
   },
   {
    "duration": 8,
    "start_time": "2022-06-20T05:03:50.043Z"
   },
   {
    "duration": 12,
    "start_time": "2022-06-20T05:03:50.052Z"
   },
   {
    "duration": 61,
    "start_time": "2022-06-20T05:03:50.066Z"
   },
   {
    "duration": 4,
    "start_time": "2022-06-20T05:03:50.130Z"
   },
   {
    "duration": 92,
    "start_time": "2022-06-20T05:03:50.135Z"
   },
   {
    "duration": 5,
    "start_time": "2022-06-20T05:03:50.229Z"
   },
   {
    "duration": 10,
    "start_time": "2022-06-20T05:03:50.236Z"
   },
   {
    "duration": 12,
    "start_time": "2022-06-20T05:03:50.248Z"
   },
   {
    "duration": 8,
    "start_time": "2022-06-20T05:03:50.261Z"
   },
   {
    "duration": 8,
    "start_time": "2022-06-20T05:03:50.270Z"
   },
   {
    "duration": 8,
    "start_time": "2022-06-20T05:03:50.279Z"
   },
   {
    "duration": 14,
    "start_time": "2022-06-20T05:03:50.288Z"
   },
   {
    "duration": 10,
    "start_time": "2022-06-20T05:03:50.327Z"
   },
   {
    "duration": 10,
    "start_time": "2022-06-20T05:03:50.338Z"
   },
   {
    "duration": 185,
    "start_time": "2022-06-20T05:03:50.349Z"
   },
   {
    "duration": 0,
    "start_time": "2022-06-20T05:03:50.536Z"
   },
   {
    "duration": 1014,
    "start_time": "2022-06-20T05:05:41.193Z"
   },
   {
    "duration": 30,
    "start_time": "2022-06-20T05:05:42.209Z"
   },
   {
    "duration": 32,
    "start_time": "2022-06-20T05:05:42.240Z"
   },
   {
    "duration": 17,
    "start_time": "2022-06-20T05:05:42.274Z"
   },
   {
    "duration": 3,
    "start_time": "2022-06-20T05:05:42.293Z"
   },
   {
    "duration": 9,
    "start_time": "2022-06-20T05:05:42.297Z"
   },
   {
    "duration": 25,
    "start_time": "2022-06-20T05:05:42.308Z"
   },
   {
    "duration": 7,
    "start_time": "2022-06-20T05:05:42.334Z"
   },
   {
    "duration": 12,
    "start_time": "2022-06-20T05:05:42.343Z"
   },
   {
    "duration": 13,
    "start_time": "2022-06-20T05:05:42.356Z"
   },
   {
    "duration": 64,
    "start_time": "2022-06-20T05:05:42.370Z"
   },
   {
    "duration": 11,
    "start_time": "2022-06-20T05:05:42.436Z"
   },
   {
    "duration": 6,
    "start_time": "2022-06-20T05:05:42.527Z"
   },
   {
    "duration": 13,
    "start_time": "2022-06-20T05:05:42.535Z"
   },
   {
    "duration": 9,
    "start_time": "2022-06-20T05:05:42.550Z"
   },
   {
    "duration": 6,
    "start_time": "2022-06-20T05:05:42.560Z"
   },
   {
    "duration": 12,
    "start_time": "2022-06-20T05:05:42.568Z"
   },
   {
    "duration": 12,
    "start_time": "2022-06-20T05:05:42.581Z"
   },
   {
    "duration": 20,
    "start_time": "2022-06-20T05:05:42.594Z"
   },
   {
    "duration": 26,
    "start_time": "2022-06-20T05:05:42.615Z"
   },
   {
    "duration": 16,
    "start_time": "2022-06-20T05:05:42.643Z"
   },
   {
    "duration": 14,
    "start_time": "2022-06-20T05:05:42.661Z"
   },
   {
    "duration": 55,
    "start_time": "2022-06-20T05:05:42.677Z"
   },
   {
    "duration": 9,
    "start_time": "2022-06-20T05:15:55.943Z"
   },
   {
    "duration": 1049,
    "start_time": "2022-06-20T05:18:36.048Z"
   },
   {
    "duration": 28,
    "start_time": "2022-06-20T05:18:37.099Z"
   },
   {
    "duration": 30,
    "start_time": "2022-06-20T05:18:37.129Z"
   },
   {
    "duration": 15,
    "start_time": "2022-06-20T05:18:37.162Z"
   },
   {
    "duration": 8,
    "start_time": "2022-06-20T05:18:37.178Z"
   },
   {
    "duration": 7,
    "start_time": "2022-06-20T05:18:37.187Z"
   },
   {
    "duration": 15,
    "start_time": "2022-06-20T05:18:37.195Z"
   },
   {
    "duration": 17,
    "start_time": "2022-06-20T05:18:37.211Z"
   },
   {
    "duration": 15,
    "start_time": "2022-06-20T05:18:37.229Z"
   },
   {
    "duration": 15,
    "start_time": "2022-06-20T05:18:37.247Z"
   },
   {
    "duration": 74,
    "start_time": "2022-06-20T05:18:37.264Z"
   },
   {
    "duration": 8,
    "start_time": "2022-06-20T05:18:37.340Z"
   },
   {
    "duration": 81,
    "start_time": "2022-06-20T05:18:37.349Z"
   },
   {
    "duration": 11,
    "start_time": "2022-06-20T05:18:37.432Z"
   },
   {
    "duration": 10,
    "start_time": "2022-06-20T05:18:37.444Z"
   },
   {
    "duration": 6,
    "start_time": "2022-06-20T05:18:37.456Z"
   },
   {
    "duration": 14,
    "start_time": "2022-06-20T05:18:37.463Z"
   },
   {
    "duration": 8,
    "start_time": "2022-06-20T05:18:37.478Z"
   },
   {
    "duration": 14,
    "start_time": "2022-06-20T05:18:37.487Z"
   },
   {
    "duration": 34,
    "start_time": "2022-06-20T05:18:37.502Z"
   },
   {
    "duration": 9,
    "start_time": "2022-06-20T05:18:37.537Z"
   },
   {
    "duration": 12,
    "start_time": "2022-06-20T05:18:37.547Z"
   },
   {
    "duration": 68,
    "start_time": "2022-06-20T05:18:37.560Z"
   },
   {
    "duration": 9,
    "start_time": "2022-06-20T05:18:37.629Z"
   },
   {
    "duration": 94,
    "start_time": "2022-06-20T05:19:18.892Z"
   },
   {
    "duration": 15,
    "start_time": "2022-06-20T05:20:47.112Z"
   },
   {
    "duration": 1063,
    "start_time": "2022-06-20T05:21:01.751Z"
   },
   {
    "duration": 30,
    "start_time": "2022-06-20T05:21:02.816Z"
   },
   {
    "duration": 33,
    "start_time": "2022-06-20T05:21:02.847Z"
   },
   {
    "duration": 18,
    "start_time": "2022-06-20T05:21:02.882Z"
   },
   {
    "duration": 5,
    "start_time": "2022-06-20T05:21:02.902Z"
   },
   {
    "duration": 14,
    "start_time": "2022-06-20T05:21:02.909Z"
   },
   {
    "duration": 15,
    "start_time": "2022-06-20T05:21:02.924Z"
   },
   {
    "duration": 4,
    "start_time": "2022-06-20T05:21:02.941Z"
   },
   {
    "duration": 20,
    "start_time": "2022-06-20T05:21:02.946Z"
   },
   {
    "duration": 60,
    "start_time": "2022-06-20T05:21:02.968Z"
   },
   {
    "duration": 4,
    "start_time": "2022-06-20T05:21:03.030Z"
   },
   {
    "duration": 95,
    "start_time": "2022-06-20T05:21:03.036Z"
   },
   {
    "duration": 12,
    "start_time": "2022-06-20T05:21:03.132Z"
   },
   {
    "duration": 25,
    "start_time": "2022-06-20T05:21:03.146Z"
   },
   {
    "duration": 12,
    "start_time": "2022-06-20T05:21:03.173Z"
   },
   {
    "duration": 7,
    "start_time": "2022-06-20T05:21:03.186Z"
   },
   {
    "duration": 6,
    "start_time": "2022-06-20T05:21:03.195Z"
   },
   {
    "duration": 13,
    "start_time": "2022-06-20T05:21:03.203Z"
   },
   {
    "duration": 16,
    "start_time": "2022-06-20T05:21:03.218Z"
   },
   {
    "duration": 15,
    "start_time": "2022-06-20T05:21:03.235Z"
   },
   {
    "duration": 22,
    "start_time": "2022-06-20T05:21:03.252Z"
   },
   {
    "duration": 8,
    "start_time": "2022-06-20T05:21:03.276Z"
   },
   {
    "duration": 11,
    "start_time": "2022-06-20T05:21:03.286Z"
   },
   {
    "duration": 10,
    "start_time": "2022-06-20T05:21:03.298Z"
   },
   {
    "duration": 1182,
    "start_time": "2022-06-20T05:22:53.408Z"
   },
   {
    "duration": 32,
    "start_time": "2022-06-20T05:22:54.593Z"
   },
   {
    "duration": 38,
    "start_time": "2022-06-20T05:22:54.627Z"
   },
   {
    "duration": 19,
    "start_time": "2022-06-20T05:22:54.666Z"
   },
   {
    "duration": 4,
    "start_time": "2022-06-20T05:22:54.688Z"
   },
   {
    "duration": 8,
    "start_time": "2022-06-20T05:22:54.694Z"
   },
   {
    "duration": 20,
    "start_time": "2022-06-20T05:22:54.729Z"
   },
   {
    "duration": 7,
    "start_time": "2022-06-20T05:22:54.750Z"
   },
   {
    "duration": 23,
    "start_time": "2022-06-20T05:22:54.758Z"
   },
   {
    "duration": 55,
    "start_time": "2022-06-20T05:22:54.783Z"
   },
   {
    "duration": 6,
    "start_time": "2022-06-20T05:22:54.840Z"
   },
   {
    "duration": 12,
    "start_time": "2022-06-20T05:22:54.927Z"
   },
   {
    "duration": 7,
    "start_time": "2022-06-20T05:22:54.941Z"
   },
   {
    "duration": 15,
    "start_time": "2022-06-20T05:22:54.951Z"
   },
   {
    "duration": 16,
    "start_time": "2022-06-20T05:22:54.967Z"
   },
   {
    "duration": 8,
    "start_time": "2022-06-20T05:22:54.985Z"
   },
   {
    "duration": 33,
    "start_time": "2022-06-20T05:22:54.994Z"
   },
   {
    "duration": 123,
    "start_time": "2022-06-20T05:22:55.034Z"
   },
   {
    "duration": 11,
    "start_time": "2022-06-20T05:22:55.159Z"
   },
   {
    "duration": 17,
    "start_time": "2022-06-20T05:22:55.172Z"
   },
   {
    "duration": 14,
    "start_time": "2022-06-20T05:22:55.191Z"
   },
   {
    "duration": 11,
    "start_time": "2022-06-20T05:22:55.207Z"
   },
   {
    "duration": 40,
    "start_time": "2022-06-20T05:22:55.219Z"
   },
   {
    "duration": 30,
    "start_time": "2022-06-20T05:22:55.261Z"
   },
   {
    "duration": 1167,
    "start_time": "2022-06-21T04:21:55.058Z"
   },
   {
    "duration": 114,
    "start_time": "2022-06-21T04:21:56.228Z"
   },
   {
    "duration": 45,
    "start_time": "2022-06-21T04:21:56.344Z"
   },
   {
    "duration": 28,
    "start_time": "2022-06-21T04:21:56.392Z"
   },
   {
    "duration": 63,
    "start_time": "2022-06-21T04:21:56.422Z"
   },
   {
    "duration": 15,
    "start_time": "2022-06-21T04:21:56.488Z"
   },
   {
    "duration": 23,
    "start_time": "2022-06-21T04:21:56.505Z"
   },
   {
    "duration": 35,
    "start_time": "2022-06-21T04:21:56.530Z"
   },
   {
    "duration": 25,
    "start_time": "2022-06-21T04:21:56.567Z"
   },
   {
    "duration": 32,
    "start_time": "2022-06-21T04:21:56.596Z"
   },
   {
    "duration": 98,
    "start_time": "2022-06-21T04:21:56.630Z"
   },
   {
    "duration": 34,
    "start_time": "2022-06-21T04:21:56.731Z"
   },
   {
    "duration": 12,
    "start_time": "2022-06-21T04:21:56.767Z"
   },
   {
    "duration": 15,
    "start_time": "2022-06-21T04:21:56.781Z"
   },
   {
    "duration": 13,
    "start_time": "2022-06-21T04:21:56.799Z"
   },
   {
    "duration": 7,
    "start_time": "2022-06-21T04:21:56.814Z"
   },
   {
    "duration": 31,
    "start_time": "2022-06-21T04:21:56.823Z"
   },
   {
    "duration": 12,
    "start_time": "2022-06-21T04:21:56.855Z"
   },
   {
    "duration": 9,
    "start_time": "2022-06-21T04:21:56.869Z"
   },
   {
    "duration": 22,
    "start_time": "2022-06-21T04:21:56.880Z"
   },
   {
    "duration": 11,
    "start_time": "2022-06-21T04:21:56.904Z"
   },
   {
    "duration": 11,
    "start_time": "2022-06-21T04:21:56.917Z"
   },
   {
    "duration": 31,
    "start_time": "2022-06-21T04:21:56.930Z"
   },
   {
    "duration": 9,
    "start_time": "2022-06-21T04:21:56.963Z"
   },
   {
    "duration": 9,
    "start_time": "2022-06-21T04:21:56.974Z"
   },
   {
    "duration": 1039,
    "start_time": "2022-06-21T04:26:22.587Z"
   },
   {
    "duration": 29,
    "start_time": "2022-06-21T04:26:23.628Z"
   },
   {
    "duration": 32,
    "start_time": "2022-06-21T04:26:23.659Z"
   },
   {
    "duration": 17,
    "start_time": "2022-06-21T04:26:23.692Z"
   },
   {
    "duration": 7,
    "start_time": "2022-06-21T04:26:23.711Z"
   },
   {
    "duration": 13,
    "start_time": "2022-06-21T04:26:23.719Z"
   },
   {
    "duration": 14,
    "start_time": "2022-06-21T04:26:23.733Z"
   },
   {
    "duration": 20,
    "start_time": "2022-06-21T04:26:23.749Z"
   },
   {
    "duration": 15,
    "start_time": "2022-06-21T04:26:23.771Z"
   },
   {
    "duration": 52,
    "start_time": "2022-06-21T04:26:23.787Z"
   },
   {
    "duration": 87,
    "start_time": "2022-06-21T04:26:23.841Z"
   },
   {
    "duration": 8,
    "start_time": "2022-06-21T04:26:23.930Z"
   },
   {
    "duration": 9,
    "start_time": "2022-06-21T04:26:23.940Z"
   },
   {
    "duration": 13,
    "start_time": "2022-06-21T04:26:23.951Z"
   },
   {
    "duration": 12,
    "start_time": "2022-06-21T04:26:23.965Z"
   },
   {
    "duration": 9,
    "start_time": "2022-06-21T04:26:23.979Z"
   },
   {
    "duration": 10,
    "start_time": "2022-06-21T04:26:23.989Z"
   },
   {
    "duration": 8,
    "start_time": "2022-06-21T04:26:24.001Z"
   },
   {
    "duration": 5,
    "start_time": "2022-06-21T04:26:24.028Z"
   },
   {
    "duration": 18,
    "start_time": "2022-06-21T04:26:24.035Z"
   },
   {
    "duration": 10,
    "start_time": "2022-06-21T04:26:24.055Z"
   },
   {
    "duration": 9,
    "start_time": "2022-06-21T04:26:24.067Z"
   },
   {
    "duration": 9,
    "start_time": "2022-06-21T04:26:24.078Z"
   },
   {
    "duration": 40,
    "start_time": "2022-06-21T04:26:24.088Z"
   },
   {
    "duration": 4,
    "start_time": "2022-06-21T04:26:24.129Z"
   },
   {
    "duration": 1103,
    "start_time": "2022-06-21T04:43:16.430Z"
   },
   {
    "duration": 31,
    "start_time": "2022-06-21T04:43:17.536Z"
   },
   {
    "duration": 33,
    "start_time": "2022-06-21T04:43:17.569Z"
   },
   {
    "duration": 18,
    "start_time": "2022-06-21T04:43:17.604Z"
   },
   {
    "duration": 3,
    "start_time": "2022-06-21T04:43:17.624Z"
   },
   {
    "duration": 11,
    "start_time": "2022-06-21T04:43:17.629Z"
   },
   {
    "duration": 21,
    "start_time": "2022-06-21T04:43:17.642Z"
   },
   {
    "duration": 5,
    "start_time": "2022-06-21T04:43:17.665Z"
   },
   {
    "duration": 25,
    "start_time": "2022-06-21T04:43:17.672Z"
   },
   {
    "duration": 118,
    "start_time": "2022-06-21T04:43:17.700Z"
   },
   {
    "duration": 0,
    "start_time": "2022-06-21T04:43:17.820Z"
   },
   {
    "duration": 0,
    "start_time": "2022-06-21T04:43:17.826Z"
   },
   {
    "duration": 0,
    "start_time": "2022-06-21T04:43:17.827Z"
   },
   {
    "duration": 0,
    "start_time": "2022-06-21T04:43:17.828Z"
   },
   {
    "duration": 0,
    "start_time": "2022-06-21T04:43:17.830Z"
   },
   {
    "duration": 0,
    "start_time": "2022-06-21T04:43:17.832Z"
   },
   {
    "duration": 0,
    "start_time": "2022-06-21T04:43:17.832Z"
   },
   {
    "duration": 0,
    "start_time": "2022-06-21T04:43:17.833Z"
   },
   {
    "duration": 0,
    "start_time": "2022-06-21T04:43:17.834Z"
   },
   {
    "duration": 0,
    "start_time": "2022-06-21T04:43:17.835Z"
   },
   {
    "duration": 0,
    "start_time": "2022-06-21T04:43:17.837Z"
   },
   {
    "duration": 18,
    "start_time": "2022-06-21T04:43:40.879Z"
   },
   {
    "duration": 2,
    "start_time": "2022-06-21T04:43:45.090Z"
   },
   {
    "duration": 1110,
    "start_time": "2022-06-21T04:43:52.918Z"
   },
   {
    "duration": 30,
    "start_time": "2022-06-21T04:43:54.030Z"
   },
   {
    "duration": 32,
    "start_time": "2022-06-21T04:43:54.062Z"
   },
   {
    "duration": 19,
    "start_time": "2022-06-21T04:43:54.096Z"
   },
   {
    "duration": 4,
    "start_time": "2022-06-21T04:43:54.116Z"
   },
   {
    "duration": 10,
    "start_time": "2022-06-21T04:43:54.121Z"
   },
   {
    "duration": 14,
    "start_time": "2022-06-21T04:43:54.132Z"
   },
   {
    "duration": 22,
    "start_time": "2022-06-21T04:43:54.148Z"
   },
   {
    "duration": 15,
    "start_time": "2022-06-21T04:43:54.172Z"
   },
   {
    "duration": 45,
    "start_time": "2022-06-21T04:43:54.189Z"
   },
   {
    "duration": 4,
    "start_time": "2022-06-21T04:43:54.237Z"
   },
   {
    "duration": 86,
    "start_time": "2022-06-21T04:43:54.243Z"
   },
   {
    "duration": 3,
    "start_time": "2022-06-21T04:43:54.330Z"
   },
   {
    "duration": 8,
    "start_time": "2022-06-21T04:43:54.335Z"
   },
   {
    "duration": 24,
    "start_time": "2022-06-21T04:43:54.345Z"
   },
   {
    "duration": 13,
    "start_time": "2022-06-21T04:43:54.370Z"
   },
   {
    "duration": 12,
    "start_time": "2022-06-21T04:43:54.384Z"
   },
   {
    "duration": 93,
    "start_time": "2022-06-21T04:43:54.398Z"
   },
   {
    "duration": 0,
    "start_time": "2022-06-21T04:43:54.493Z"
   },
   {
    "duration": 0,
    "start_time": "2022-06-21T04:43:54.494Z"
   },
   {
    "duration": 0,
    "start_time": "2022-06-21T04:43:54.495Z"
   },
   {
    "duration": 5,
    "start_time": "2022-06-21T04:47:18.722Z"
   },
   {
    "duration": 11,
    "start_time": "2022-06-21T04:47:20.922Z"
   },
   {
    "duration": 7,
    "start_time": "2022-06-21T04:47:49.443Z"
   },
   {
    "duration": 10,
    "start_time": "2022-06-21T04:47:50.823Z"
   },
   {
    "duration": 10,
    "start_time": "2022-06-21T04:47:58.463Z"
   },
   {
    "duration": 7,
    "start_time": "2022-06-21T04:49:33.283Z"
   },
   {
    "duration": 12,
    "start_time": "2022-06-21T04:49:34.732Z"
   },
   {
    "duration": 4,
    "start_time": "2022-06-21T04:54:05.612Z"
   },
   {
    "duration": 4,
    "start_time": "2022-06-21T04:54:06.562Z"
   },
   {
    "duration": 6,
    "start_time": "2022-06-21T04:54:07.522Z"
   },
   {
    "duration": 9,
    "start_time": "2022-06-21T04:54:08.222Z"
   },
   {
    "duration": 4,
    "start_time": "2022-06-21T05:01:53.647Z"
   },
   {
    "duration": 6,
    "start_time": "2022-06-21T05:02:21.422Z"
   },
   {
    "duration": 8,
    "start_time": "2022-06-21T05:03:06.003Z"
   },
   {
    "duration": 1149,
    "start_time": "2022-06-21T05:03:25.699Z"
   },
   {
    "duration": 30,
    "start_time": "2022-06-21T05:03:26.850Z"
   },
   {
    "duration": 47,
    "start_time": "2022-06-21T05:03:26.881Z"
   },
   {
    "duration": 25,
    "start_time": "2022-06-21T05:03:26.932Z"
   },
   {
    "duration": 8,
    "start_time": "2022-06-21T05:03:26.959Z"
   },
   {
    "duration": 36,
    "start_time": "2022-06-21T05:03:26.969Z"
   },
   {
    "duration": 19,
    "start_time": "2022-06-21T05:03:27.007Z"
   },
   {
    "duration": 38,
    "start_time": "2022-06-21T05:03:27.028Z"
   },
   {
    "duration": 37,
    "start_time": "2022-06-21T05:03:27.067Z"
   },
   {
    "duration": 28,
    "start_time": "2022-06-21T05:03:27.106Z"
   },
   {
    "duration": 92,
    "start_time": "2022-06-21T05:03:27.136Z"
   },
   {
    "duration": 21,
    "start_time": "2022-06-21T05:03:27.230Z"
   },
   {
    "duration": 27,
    "start_time": "2022-06-21T05:03:27.253Z"
   },
   {
    "duration": 44,
    "start_time": "2022-06-21T05:03:27.283Z"
   },
   {
    "duration": 33,
    "start_time": "2022-06-21T05:03:27.329Z"
   },
   {
    "duration": 38,
    "start_time": "2022-06-21T05:03:27.364Z"
   },
   {
    "duration": 43,
    "start_time": "2022-06-21T05:03:27.403Z"
   },
   {
    "duration": 9,
    "start_time": "2022-06-21T05:03:27.448Z"
   },
   {
    "duration": 32,
    "start_time": "2022-06-21T05:03:27.459Z"
   },
   {
    "duration": 43,
    "start_time": "2022-06-21T05:03:27.493Z"
   },
   {
    "duration": 30,
    "start_time": "2022-06-21T05:03:27.538Z"
   },
   {
    "duration": 21,
    "start_time": "2022-06-21T05:03:27.570Z"
   },
   {
    "duration": 32,
    "start_time": "2022-06-21T05:03:27.592Z"
   },
   {
    "duration": 28,
    "start_time": "2022-06-21T05:03:27.625Z"
   },
   {
    "duration": 22,
    "start_time": "2022-06-21T05:03:27.654Z"
   },
   {
    "duration": 40,
    "start_time": "2022-06-21T05:03:27.678Z"
   },
   {
    "duration": 31,
    "start_time": "2022-06-21T05:03:27.720Z"
   },
   {
    "duration": 13,
    "start_time": "2022-06-21T05:03:27.754Z"
   },
   {
    "duration": 1172,
    "start_time": "2022-06-21T05:05:25.120Z"
   },
   {
    "duration": 31,
    "start_time": "2022-06-21T05:05:26.295Z"
   },
   {
    "duration": 46,
    "start_time": "2022-06-21T05:05:26.328Z"
   },
   {
    "duration": 26,
    "start_time": "2022-06-21T05:05:26.377Z"
   },
   {
    "duration": 22,
    "start_time": "2022-06-21T05:05:26.406Z"
   },
   {
    "duration": 16,
    "start_time": "2022-06-21T05:05:26.430Z"
   },
   {
    "duration": 27,
    "start_time": "2022-06-21T05:05:26.448Z"
   },
   {
    "duration": 7,
    "start_time": "2022-06-21T05:05:26.478Z"
   },
   {
    "duration": 24,
    "start_time": "2022-06-21T05:05:26.487Z"
   },
   {
    "duration": 31,
    "start_time": "2022-06-21T05:05:26.515Z"
   },
   {
    "duration": 4,
    "start_time": "2022-06-21T05:05:26.628Z"
   },
   {
    "duration": 8,
    "start_time": "2022-06-21T05:05:26.636Z"
   },
   {
    "duration": 81,
    "start_time": "2022-06-21T05:05:26.646Z"
   },
   {
    "duration": 6,
    "start_time": "2022-06-21T05:05:26.729Z"
   },
   {
    "duration": 5,
    "start_time": "2022-06-21T05:05:26.737Z"
   },
   {
    "duration": 10,
    "start_time": "2022-06-21T05:05:26.743Z"
   },
   {
    "duration": 11,
    "start_time": "2022-06-21T05:05:26.755Z"
   },
   {
    "duration": 6,
    "start_time": "2022-06-21T05:05:26.767Z"
   },
   {
    "duration": 11,
    "start_time": "2022-06-21T05:05:26.774Z"
   },
   {
    "duration": 7,
    "start_time": "2022-06-21T05:05:26.786Z"
   },
   {
    "duration": 35,
    "start_time": "2022-06-21T05:05:26.795Z"
   },
   {
    "duration": 3,
    "start_time": "2022-06-21T05:05:26.832Z"
   },
   {
    "duration": 8,
    "start_time": "2022-06-21T05:05:26.836Z"
   },
   {
    "duration": 6,
    "start_time": "2022-06-21T05:05:26.845Z"
   },
   {
    "duration": 9,
    "start_time": "2022-06-21T05:05:26.853Z"
   },
   {
    "duration": 4,
    "start_time": "2022-06-21T05:05:26.864Z"
   },
   {
    "duration": 8,
    "start_time": "2022-06-21T05:05:26.869Z"
   },
   {
    "duration": 7,
    "start_time": "2022-06-21T05:05:26.879Z"
   },
   {
    "duration": 17,
    "start_time": "2022-06-21T05:05:26.888Z"
   },
   {
    "duration": 1057,
    "start_time": "2022-06-21T05:07:59.598Z"
   },
   {
    "duration": 30,
    "start_time": "2022-06-21T05:08:00.657Z"
   },
   {
    "duration": 42,
    "start_time": "2022-06-21T05:08:00.689Z"
   },
   {
    "duration": 22,
    "start_time": "2022-06-21T05:08:00.733Z"
   },
   {
    "duration": 18,
    "start_time": "2022-06-21T05:08:00.758Z"
   },
   {
    "duration": 28,
    "start_time": "2022-06-21T05:08:00.778Z"
   },
   {
    "duration": 47,
    "start_time": "2022-06-21T05:08:00.808Z"
   },
   {
    "duration": 30,
    "start_time": "2022-06-21T05:08:00.857Z"
   },
   {
    "duration": 28,
    "start_time": "2022-06-21T05:08:00.889Z"
   },
   {
    "duration": 42,
    "start_time": "2022-06-21T05:08:00.920Z"
   },
   {
    "duration": 77,
    "start_time": "2022-06-21T05:08:00.964Z"
   },
   {
    "duration": 84,
    "start_time": "2022-06-21T05:08:01.048Z"
   },
   {
    "duration": 17,
    "start_time": "2022-06-21T05:08:01.134Z"
   },
   {
    "duration": 38,
    "start_time": "2022-06-21T05:08:01.153Z"
   },
   {
    "duration": 13,
    "start_time": "2022-06-21T05:08:01.192Z"
   },
   {
    "duration": 61,
    "start_time": "2022-06-21T05:08:01.207Z"
   },
   {
    "duration": 83,
    "start_time": "2022-06-21T05:08:01.270Z"
   },
   {
    "duration": 21,
    "start_time": "2022-06-21T05:08:01.355Z"
   },
   {
    "duration": 39,
    "start_time": "2022-06-21T05:08:01.378Z"
   },
   {
    "duration": 28,
    "start_time": "2022-06-21T05:08:01.419Z"
   },
   {
    "duration": 30,
    "start_time": "2022-06-21T05:08:01.449Z"
   },
   {
    "duration": 16,
    "start_time": "2022-06-21T05:08:01.481Z"
   },
   {
    "duration": 26,
    "start_time": "2022-06-21T05:08:01.499Z"
   },
   {
    "duration": 26,
    "start_time": "2022-06-21T05:08:01.527Z"
   },
   {
    "duration": 35,
    "start_time": "2022-06-21T05:08:01.555Z"
   },
   {
    "duration": 29,
    "start_time": "2022-06-21T05:08:01.593Z"
   },
   {
    "duration": 27,
    "start_time": "2022-06-21T05:08:01.624Z"
   },
   {
    "duration": 17,
    "start_time": "2022-06-21T05:08:01.653Z"
   },
   {
    "duration": 20,
    "start_time": "2022-06-21T05:08:01.672Z"
   },
   {
    "duration": 4,
    "start_time": "2022-06-21T05:13:43.458Z"
   },
   {
    "duration": 4,
    "start_time": "2022-06-21T05:14:16.869Z"
   },
   {
    "duration": 5,
    "start_time": "2022-06-21T05:14:52.334Z"
   },
   {
    "duration": 15,
    "start_time": "2022-06-21T05:18:51.164Z"
   },
   {
    "duration": 1098,
    "start_time": "2022-06-21T05:19:03.299Z"
   },
   {
    "duration": 30,
    "start_time": "2022-06-21T05:19:04.400Z"
   },
   {
    "duration": 35,
    "start_time": "2022-06-21T05:19:04.432Z"
   },
   {
    "duration": 17,
    "start_time": "2022-06-21T05:19:04.470Z"
   },
   {
    "duration": 8,
    "start_time": "2022-06-21T05:19:04.489Z"
   },
   {
    "duration": 10,
    "start_time": "2022-06-21T05:19:04.499Z"
   },
   {
    "duration": 27,
    "start_time": "2022-06-21T05:19:04.511Z"
   },
   {
    "duration": 12,
    "start_time": "2022-06-21T05:19:04.540Z"
   },
   {
    "duration": 17,
    "start_time": "2022-06-21T05:19:04.555Z"
   },
   {
    "duration": 58,
    "start_time": "2022-06-21T05:19:04.576Z"
   },
   {
    "duration": 91,
    "start_time": "2022-06-21T05:19:04.636Z"
   },
   {
    "duration": 7,
    "start_time": "2022-06-21T05:19:04.729Z"
   },
   {
    "duration": 11,
    "start_time": "2022-06-21T05:19:04.738Z"
   },
   {
    "duration": 11,
    "start_time": "2022-06-21T05:19:04.750Z"
   },
   {
    "duration": 7,
    "start_time": "2022-06-21T05:19:04.763Z"
   },
   {
    "duration": 18,
    "start_time": "2022-06-21T05:19:04.772Z"
   },
   {
    "duration": 33,
    "start_time": "2022-06-21T05:19:04.793Z"
   },
   {
    "duration": 6,
    "start_time": "2022-06-21T05:19:04.828Z"
   },
   {
    "duration": 17,
    "start_time": "2022-06-21T05:19:04.836Z"
   },
   {
    "duration": 19,
    "start_time": "2022-06-21T05:19:04.855Z"
   },
   {
    "duration": 16,
    "start_time": "2022-06-21T05:19:04.876Z"
   },
   {
    "duration": 3,
    "start_time": "2022-06-21T05:19:04.894Z"
   },
   {
    "duration": 6,
    "start_time": "2022-06-21T05:19:04.898Z"
   },
   {
    "duration": 5,
    "start_time": "2022-06-21T05:19:04.905Z"
   },
   {
    "duration": 20,
    "start_time": "2022-06-21T05:19:04.912Z"
   },
   {
    "duration": 12,
    "start_time": "2022-06-21T05:19:04.933Z"
   },
   {
    "duration": 17,
    "start_time": "2022-06-21T05:19:04.946Z"
   },
   {
    "duration": 6,
    "start_time": "2022-06-21T05:19:04.967Z"
   },
   {
    "duration": 12,
    "start_time": "2022-06-21T05:19:04.974Z"
   },
   {
    "duration": 5,
    "start_time": "2022-06-21T05:19:04.990Z"
   },
   {
    "duration": 41,
    "start_time": "2022-06-21T05:19:04.997Z"
   },
   {
    "duration": 1118,
    "start_time": "2022-06-21T05:20:02.435Z"
   },
   {
    "duration": 30,
    "start_time": "2022-06-21T05:20:03.555Z"
   },
   {
    "duration": 34,
    "start_time": "2022-06-21T05:20:03.587Z"
   },
   {
    "duration": 25,
    "start_time": "2022-06-21T05:20:03.623Z"
   },
   {
    "duration": 5,
    "start_time": "2022-06-21T05:20:03.649Z"
   },
   {
    "duration": 14,
    "start_time": "2022-06-21T05:20:03.655Z"
   },
   {
    "duration": 17,
    "start_time": "2022-06-21T05:20:03.670Z"
   },
   {
    "duration": 12,
    "start_time": "2022-06-21T05:20:03.689Z"
   },
   {
    "duration": 16,
    "start_time": "2022-06-21T05:20:03.703Z"
   },
   {
    "duration": 27,
    "start_time": "2022-06-21T05:20:03.722Z"
   },
   {
    "duration": 97,
    "start_time": "2022-06-21T05:20:03.751Z"
   },
   {
    "duration": 23,
    "start_time": "2022-06-21T05:20:03.852Z"
   },
   {
    "duration": 12,
    "start_time": "2022-06-21T05:20:03.877Z"
   },
   {
    "duration": 40,
    "start_time": "2022-06-21T05:20:03.891Z"
   },
   {
    "duration": 24,
    "start_time": "2022-06-21T05:20:03.934Z"
   },
   {
    "duration": 21,
    "start_time": "2022-06-21T05:20:03.960Z"
   },
   {
    "duration": 16,
    "start_time": "2022-06-21T05:20:03.983Z"
   },
   {
    "duration": 6,
    "start_time": "2022-06-21T05:20:04.001Z"
   },
   {
    "duration": 29,
    "start_time": "2022-06-21T05:20:04.009Z"
   },
   {
    "duration": 12,
    "start_time": "2022-06-21T05:20:04.039Z"
   },
   {
    "duration": 13,
    "start_time": "2022-06-21T05:20:04.053Z"
   },
   {
    "duration": 8,
    "start_time": "2022-06-21T05:20:04.068Z"
   },
   {
    "duration": 33,
    "start_time": "2022-06-21T05:20:04.078Z"
   },
   {
    "duration": 10,
    "start_time": "2022-06-21T05:20:04.113Z"
   },
   {
    "duration": 29,
    "start_time": "2022-06-21T05:20:04.125Z"
   },
   {
    "duration": 5,
    "start_time": "2022-06-21T05:20:04.155Z"
   },
   {
    "duration": 20,
    "start_time": "2022-06-21T05:20:04.161Z"
   },
   {
    "duration": 6,
    "start_time": "2022-06-21T05:20:04.184Z"
   },
   {
    "duration": 11,
    "start_time": "2022-06-21T05:20:04.191Z"
   },
   {
    "duration": 7,
    "start_time": "2022-06-21T05:20:04.204Z"
   },
   {
    "duration": 18,
    "start_time": "2022-06-21T05:20:04.213Z"
   },
   {
    "duration": 1064,
    "start_time": "2022-06-21T05:21:20.215Z"
   },
   {
    "duration": 29,
    "start_time": "2022-06-21T05:21:21.282Z"
   },
   {
    "duration": 40,
    "start_time": "2022-06-21T05:21:21.313Z"
   },
   {
    "duration": 19,
    "start_time": "2022-06-21T05:21:21.354Z"
   },
   {
    "duration": 8,
    "start_time": "2022-06-21T05:21:21.375Z"
   },
   {
    "duration": 8,
    "start_time": "2022-06-21T05:21:21.384Z"
   },
   {
    "duration": 12,
    "start_time": "2022-06-21T05:21:21.394Z"
   },
   {
    "duration": 4,
    "start_time": "2022-06-21T05:21:21.408Z"
   },
   {
    "duration": 36,
    "start_time": "2022-06-21T05:21:21.414Z"
   },
   {
    "duration": 21,
    "start_time": "2022-06-21T05:21:21.453Z"
   },
   {
    "duration": 51,
    "start_time": "2022-06-21T05:21:21.476Z"
   },
   {
    "duration": 11,
    "start_time": "2022-06-21T05:21:21.531Z"
   },
   {
    "duration": 12,
    "start_time": "2022-06-21T05:21:21.546Z"
   },
   {
    "duration": 15,
    "start_time": "2022-06-21T05:21:21.631Z"
   },
   {
    "duration": 5,
    "start_time": "2022-06-21T05:21:21.648Z"
   },
   {
    "duration": 10,
    "start_time": "2022-06-21T05:21:21.654Z"
   },
   {
    "duration": 10,
    "start_time": "2022-06-21T05:21:21.666Z"
   },
   {
    "duration": 5,
    "start_time": "2022-06-21T05:21:21.677Z"
   },
   {
    "duration": 8,
    "start_time": "2022-06-21T05:21:21.684Z"
   },
   {
    "duration": 6,
    "start_time": "2022-06-21T05:21:21.693Z"
   },
   {
    "duration": 34,
    "start_time": "2022-06-21T05:21:21.700Z"
   },
   {
    "duration": 11,
    "start_time": "2022-06-21T05:21:21.735Z"
   },
   {
    "duration": 8,
    "start_time": "2022-06-21T05:21:21.748Z"
   },
   {
    "duration": 7,
    "start_time": "2022-06-21T05:21:21.758Z"
   },
   {
    "duration": 10,
    "start_time": "2022-06-21T05:21:21.766Z"
   },
   {
    "duration": 7,
    "start_time": "2022-06-21T05:21:21.777Z"
   },
   {
    "duration": 8,
    "start_time": "2022-06-21T05:21:21.786Z"
   },
   {
    "duration": 7,
    "start_time": "2022-06-21T05:21:21.796Z"
   },
   {
    "duration": 10,
    "start_time": "2022-06-21T05:21:21.805Z"
   },
   {
    "duration": 10,
    "start_time": "2022-06-21T05:21:21.833Z"
   },
   {
    "duration": 13,
    "start_time": "2022-06-21T05:21:21.845Z"
   },
   {
    "duration": 1052,
    "start_time": "2022-06-21T05:32:24.495Z"
   },
   {
    "duration": 31,
    "start_time": "2022-06-21T05:32:25.548Z"
   },
   {
    "duration": 35,
    "start_time": "2022-06-21T05:32:25.581Z"
   },
   {
    "duration": 19,
    "start_time": "2022-06-21T05:32:25.618Z"
   },
   {
    "duration": 11,
    "start_time": "2022-06-21T05:32:25.638Z"
   },
   {
    "duration": 8,
    "start_time": "2022-06-21T05:32:25.651Z"
   },
   {
    "duration": 17,
    "start_time": "2022-06-21T05:32:25.661Z"
   },
   {
    "duration": 7,
    "start_time": "2022-06-21T05:32:25.680Z"
   },
   {
    "duration": 39,
    "start_time": "2022-06-21T05:32:25.689Z"
   },
   {
    "duration": 96,
    "start_time": "2022-06-21T05:32:25.731Z"
   },
   {
    "duration": 6,
    "start_time": "2022-06-21T05:32:25.829Z"
   },
   {
    "duration": 93,
    "start_time": "2022-06-21T05:32:25.836Z"
   },
   {
    "duration": 11,
    "start_time": "2022-06-21T05:32:25.931Z"
   },
   {
    "duration": 8,
    "start_time": "2022-06-21T05:32:25.944Z"
   },
   {
    "duration": 14,
    "start_time": "2022-06-21T05:32:25.953Z"
   },
   {
    "duration": 12,
    "start_time": "2022-06-21T05:32:25.969Z"
   },
   {
    "duration": 9,
    "start_time": "2022-06-21T05:32:25.982Z"
   },
   {
    "duration": 16,
    "start_time": "2022-06-21T05:32:25.992Z"
   },
   {
    "duration": 21,
    "start_time": "2022-06-21T05:32:26.010Z"
   },
   {
    "duration": 9,
    "start_time": "2022-06-21T05:32:26.034Z"
   },
   {
    "duration": 8,
    "start_time": "2022-06-21T05:32:26.044Z"
   },
   {
    "duration": 12,
    "start_time": "2022-06-21T05:32:26.054Z"
   },
   {
    "duration": 6,
    "start_time": "2022-06-21T05:32:26.068Z"
   },
   {
    "duration": 11,
    "start_time": "2022-06-21T05:32:26.076Z"
   },
   {
    "duration": 7,
    "start_time": "2022-06-21T05:32:26.089Z"
   },
   {
    "duration": 8,
    "start_time": "2022-06-21T05:32:26.127Z"
   },
   {
    "duration": 8,
    "start_time": "2022-06-21T05:32:26.136Z"
   },
   {
    "duration": 11,
    "start_time": "2022-06-21T05:32:26.147Z"
   },
   {
    "duration": 4,
    "start_time": "2022-06-21T05:32:26.160Z"
   },
   {
    "duration": 1042,
    "start_time": "2022-06-21T10:36:10.092Z"
   },
   {
    "duration": 88,
    "start_time": "2022-06-21T10:36:11.137Z"
   },
   {
    "duration": 35,
    "start_time": "2022-06-21T10:36:11.226Z"
   },
   {
    "duration": 23,
    "start_time": "2022-06-21T10:36:11.264Z"
   },
   {
    "duration": 17,
    "start_time": "2022-06-21T10:36:11.289Z"
   },
   {
    "duration": 22,
    "start_time": "2022-06-21T10:36:11.308Z"
   },
   {
    "duration": 11,
    "start_time": "2022-06-21T10:36:11.333Z"
   },
   {
    "duration": 27,
    "start_time": "2022-06-21T10:36:11.346Z"
   },
   {
    "duration": 51,
    "start_time": "2022-06-21T10:36:11.375Z"
   },
   {
    "duration": 4,
    "start_time": "2022-06-21T10:36:11.431Z"
   },
   {
    "duration": 92,
    "start_time": "2022-06-21T10:36:11.437Z"
   },
   {
    "duration": 26,
    "start_time": "2022-06-21T10:36:11.531Z"
   },
   {
    "duration": 44,
    "start_time": "2022-06-21T10:36:11.559Z"
   },
   {
    "duration": 28,
    "start_time": "2022-06-21T10:36:11.605Z"
   },
   {
    "duration": 42,
    "start_time": "2022-06-21T10:36:11.636Z"
   },
   {
    "duration": 25,
    "start_time": "2022-06-21T10:36:11.679Z"
   },
   {
    "duration": 30,
    "start_time": "2022-06-21T10:36:11.706Z"
   },
   {
    "duration": 32,
    "start_time": "2022-06-21T10:36:11.738Z"
   },
   {
    "duration": 52,
    "start_time": "2022-06-21T10:36:11.772Z"
   },
   {
    "duration": 21,
    "start_time": "2022-06-21T10:36:11.826Z"
   },
   {
    "duration": 22,
    "start_time": "2022-06-21T10:36:11.848Z"
   },
   {
    "duration": 30,
    "start_time": "2022-06-21T10:36:11.873Z"
   },
   {
    "duration": 33,
    "start_time": "2022-06-21T10:36:11.905Z"
   },
   {
    "duration": 15,
    "start_time": "2022-06-21T10:36:11.940Z"
   },
   {
    "duration": 48,
    "start_time": "2022-06-21T10:36:11.957Z"
   },
   {
    "duration": 32,
    "start_time": "2022-06-21T10:36:12.006Z"
   },
   {
    "duration": 34,
    "start_time": "2022-06-21T10:36:12.039Z"
   },
   {
    "duration": 25,
    "start_time": "2022-06-21T10:36:12.077Z"
   },
   {
    "duration": 1171,
    "start_time": "2022-06-21T10:42:13.495Z"
   },
   {
    "duration": 32,
    "start_time": "2022-06-21T10:42:14.669Z"
   },
   {
    "duration": 43,
    "start_time": "2022-06-21T10:42:14.704Z"
   },
   {
    "duration": 25,
    "start_time": "2022-06-21T10:42:14.750Z"
   },
   {
    "duration": 17,
    "start_time": "2022-06-21T10:42:14.777Z"
   },
   {
    "duration": 11,
    "start_time": "2022-06-21T10:42:14.796Z"
   },
   {
    "duration": 18,
    "start_time": "2022-06-21T10:42:14.809Z"
   },
   {
    "duration": 15,
    "start_time": "2022-06-21T10:42:14.829Z"
   },
   {
    "duration": 81,
    "start_time": "2022-06-21T10:42:14.846Z"
   },
   {
    "duration": 13,
    "start_time": "2022-06-21T10:42:14.932Z"
   },
   {
    "duration": 14,
    "start_time": "2022-06-21T10:42:15.027Z"
   },
   {
    "duration": 22,
    "start_time": "2022-06-21T10:42:15.042Z"
   },
   {
    "duration": 20,
    "start_time": "2022-06-21T10:42:15.066Z"
   },
   {
    "duration": 28,
    "start_time": "2022-06-21T10:42:15.088Z"
   },
   {
    "duration": 7,
    "start_time": "2022-06-21T10:42:15.118Z"
   },
   {
    "duration": 13,
    "start_time": "2022-06-21T10:42:15.127Z"
   },
   {
    "duration": 6,
    "start_time": "2022-06-21T10:42:15.142Z"
   },
   {
    "duration": 12,
    "start_time": "2022-06-21T10:42:15.149Z"
   },
   {
    "duration": 7,
    "start_time": "2022-06-21T10:42:15.162Z"
   },
   {
    "duration": 14,
    "start_time": "2022-06-21T10:42:15.171Z"
   },
   {
    "duration": 13,
    "start_time": "2022-06-21T10:42:15.187Z"
   },
   {
    "duration": 15,
    "start_time": "2022-06-21T10:42:15.201Z"
   },
   {
    "duration": 5,
    "start_time": "2022-06-21T10:42:15.217Z"
   },
   {
    "duration": 21,
    "start_time": "2022-06-21T10:42:15.223Z"
   },
   {
    "duration": 8,
    "start_time": "2022-06-21T10:42:15.245Z"
   },
   {
    "duration": 12,
    "start_time": "2022-06-21T10:42:15.254Z"
   },
   {
    "duration": 6,
    "start_time": "2022-06-21T10:42:15.268Z"
   },
   {
    "duration": 5,
    "start_time": "2022-06-21T10:45:02.005Z"
   },
   {
    "duration": 9,
    "start_time": "2022-06-21T10:45:02.893Z"
   },
   {
    "duration": 1051,
    "start_time": "2022-06-21T10:45:15.669Z"
   },
   {
    "duration": 28,
    "start_time": "2022-06-21T10:45:16.722Z"
   },
   {
    "duration": 34,
    "start_time": "2022-06-21T10:45:16.752Z"
   },
   {
    "duration": 18,
    "start_time": "2022-06-21T10:45:16.789Z"
   },
   {
    "duration": 21,
    "start_time": "2022-06-21T10:45:16.808Z"
   },
   {
    "duration": 12,
    "start_time": "2022-06-21T10:45:16.831Z"
   },
   {
    "duration": 8,
    "start_time": "2022-06-21T10:45:16.845Z"
   },
   {
    "duration": 18,
    "start_time": "2022-06-21T10:45:16.854Z"
   },
   {
    "duration": 15,
    "start_time": "2022-06-21T10:45:16.874Z"
   },
   {
    "duration": 8,
    "start_time": "2022-06-21T10:45:16.929Z"
   },
   {
    "duration": 87,
    "start_time": "2022-06-21T10:45:16.939Z"
   },
   {
    "duration": 4,
    "start_time": "2022-06-21T10:45:17.028Z"
   },
   {
    "duration": 13,
    "start_time": "2022-06-21T10:45:17.034Z"
   },
   {
    "duration": 23,
    "start_time": "2022-06-21T10:45:17.049Z"
   },
   {
    "duration": 6,
    "start_time": "2022-06-21T10:45:17.074Z"
   },
   {
    "duration": 10,
    "start_time": "2022-06-21T10:45:17.082Z"
   },
   {
    "duration": 6,
    "start_time": "2022-06-21T10:45:17.094Z"
   },
   {
    "duration": 30,
    "start_time": "2022-06-21T10:45:17.101Z"
   },
   {
    "duration": 7,
    "start_time": "2022-06-21T10:45:17.133Z"
   },
   {
    "duration": 15,
    "start_time": "2022-06-21T10:45:17.142Z"
   },
   {
    "duration": 15,
    "start_time": "2022-06-21T10:45:17.159Z"
   },
   {
    "duration": 12,
    "start_time": "2022-06-21T10:45:17.176Z"
   },
   {
    "duration": 9,
    "start_time": "2022-06-21T10:45:17.190Z"
   },
   {
    "duration": 11,
    "start_time": "2022-06-21T10:45:17.200Z"
   },
   {
    "duration": 6,
    "start_time": "2022-06-21T10:45:17.212Z"
   },
   {
    "duration": 7,
    "start_time": "2022-06-21T10:45:17.225Z"
   },
   {
    "duration": 5,
    "start_time": "2022-06-21T10:45:17.234Z"
   },
   {
    "duration": 13,
    "start_time": "2022-06-21T10:45:17.241Z"
   },
   {
    "duration": 4,
    "start_time": "2022-06-21T10:45:17.256Z"
   }
  ],
  "kernelspec": {
   "display_name": "Python 3 (ipykernel)",
   "language": "python",
   "name": "python3"
  },
  "language_info": {
   "codemirror_mode": {
    "name": "ipython",
    "version": 3
   },
   "file_extension": ".py",
   "mimetype": "text/x-python",
   "name": "python",
   "nbconvert_exporter": "python",
   "pygments_lexer": "ipython3",
   "version": "3.9.7"
  },
  "toc": {
   "base_numbering": 1,
   "nav_menu": {},
   "number_sections": true,
   "sideBar": true,
   "skip_h1_title": true,
   "title_cell": "Содержание",
   "title_sidebar": "Contents",
   "toc_cell": true,
   "toc_position": {
    "height": "calc(100% - 180px)",
    "left": "10px",
    "top": "150px",
    "width": "408.95px"
   },
   "toc_section_display": true,
   "toc_window_display": true
  }
 },
 "nbformat": 4,
 "nbformat_minor": 2
}
