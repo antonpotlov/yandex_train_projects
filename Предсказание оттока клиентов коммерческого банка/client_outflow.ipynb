{
 "cells": [
  {
   "cell_type": "markdown",
   "metadata": {},
   "source": [
    "# Отток клиентов"
   ]
  },
  {
   "cell_type": "markdown",
   "metadata": {},
   "source": [
    "Из «Бета-Банка» стали уходить клиенты. Каждый месяц. Немного, но заметно. Банковские маркетологи посчитали: сохранять текущих клиентов дешевле, чем привлекать новых.\n",
    "\n",
    "Нужно спрогнозировать, уйдёт клиент из банка в ближайшее время или нет. Вам предоставлены исторические данные о поведении клиентов и расторжении договоров с банком. \n",
    "\n",
    "Постройте модель с предельно большим значением *F1*-меры. Чтобы сдать проект успешно, нужно довести метрику до 0.59. Проверьте *F1*-меру на тестовой выборке самостоятельно.\n",
    "\n",
    "Дополнительно измеряйте *AUC-ROC*, сравнивайте её значение с *F1*-мерой.\n",
    "\n",
    "Источник данных: [https://www.kaggle.com/barelydedicated/bank-customer-churn-modeling](https://www.kaggle.com/barelydedicated/bank-customer-churn-modeling)"
   ]
  },
  {
   "cell_type": "markdown",
   "metadata": {},
   "source": [
    "## Подготовка данных"
   ]
  },
  {
   "cell_type": "code",
   "execution_count": 1,
   "metadata": {},
   "outputs": [],
   "source": [
    "import pandas as pd\n",
    "from sklearn.tree import DecisionTreeClassifier\n",
    "from sklearn.ensemble import RandomForestClassifier\n",
    "from sklearn.linear_model import LogisticRegression\n",
    "from sklearn.model_selection import train_test_split, GridSearchCV\n",
    "from sklearn.utils import shuffle\n",
    "from sklearn.metrics import precision_score, recall_score, make_scorer, roc_curve, f1_score, roc_auc_score, classification_report\n",
    "import matplotlib.pyplot as plt\n",
    "import numpy as np\n",
    "import warnings\n",
    "warnings.filterwarnings(\"ignore\")\n",
    "\n",
    "data = pd.read_csv('/datasets/Churn.csv')"
   ]
  },
  {
   "cell_type": "code",
   "execution_count": 2,
   "metadata": {},
   "outputs": [
    {
     "data": {
      "text/plain": [
       "RowNumber          0.0000\n",
       "CustomerId         0.0000\n",
       "Surname            0.0000\n",
       "CreditScore        0.0000\n",
       "Geography          0.0000\n",
       "Gender             0.0000\n",
       "Age                0.0000\n",
       "Tenure             0.0909\n",
       "Balance            0.0000\n",
       "NumOfProducts      0.0000\n",
       "HasCrCard          0.0000\n",
       "IsActiveMember     0.0000\n",
       "EstimatedSalary    0.0000\n",
       "Exited             0.0000\n",
       "dtype: float64"
      ]
     },
     "execution_count": 2,
     "metadata": {},
     "output_type": "execute_result"
    }
   ],
   "source": [
    "data.isna().mean()"
   ]
  },
  {
   "cell_type": "code",
   "execution_count": 3,
   "metadata": {},
   "outputs": [
    {
     "data": {
      "text/html": [
       "<div>\n",
       "<style scoped>\n",
       "    .dataframe tbody tr th:only-of-type {\n",
       "        vertical-align: middle;\n",
       "    }\n",
       "\n",
       "    .dataframe tbody tr th {\n",
       "        vertical-align: top;\n",
       "    }\n",
       "\n",
       "    .dataframe thead th {\n",
       "        text-align: right;\n",
       "    }\n",
       "</style>\n",
       "<table border=\"1\" class=\"dataframe\">\n",
       "  <thead>\n",
       "    <tr style=\"text-align: right;\">\n",
       "      <th></th>\n",
       "      <th>RowNumber</th>\n",
       "      <th>CustomerId</th>\n",
       "      <th>Surname</th>\n",
       "      <th>CreditScore</th>\n",
       "      <th>Geography</th>\n",
       "      <th>Gender</th>\n",
       "      <th>Age</th>\n",
       "      <th>Tenure</th>\n",
       "      <th>Balance</th>\n",
       "      <th>NumOfProducts</th>\n",
       "      <th>HasCrCard</th>\n",
       "      <th>IsActiveMember</th>\n",
       "      <th>EstimatedSalary</th>\n",
       "      <th>Exited</th>\n",
       "    </tr>\n",
       "  </thead>\n",
       "  <tbody>\n",
       "    <tr>\n",
       "      <th>0</th>\n",
       "      <td>1</td>\n",
       "      <td>15634602</td>\n",
       "      <td>Hargrave</td>\n",
       "      <td>619</td>\n",
       "      <td>France</td>\n",
       "      <td>Female</td>\n",
       "      <td>42</td>\n",
       "      <td>2.0</td>\n",
       "      <td>0.00</td>\n",
       "      <td>1</td>\n",
       "      <td>1</td>\n",
       "      <td>1</td>\n",
       "      <td>101348.88</td>\n",
       "      <td>1</td>\n",
       "    </tr>\n",
       "    <tr>\n",
       "      <th>1</th>\n",
       "      <td>2</td>\n",
       "      <td>15647311</td>\n",
       "      <td>Hill</td>\n",
       "      <td>608</td>\n",
       "      <td>Spain</td>\n",
       "      <td>Female</td>\n",
       "      <td>41</td>\n",
       "      <td>1.0</td>\n",
       "      <td>83807.86</td>\n",
       "      <td>1</td>\n",
       "      <td>0</td>\n",
       "      <td>1</td>\n",
       "      <td>112542.58</td>\n",
       "      <td>0</td>\n",
       "    </tr>\n",
       "    <tr>\n",
       "      <th>2</th>\n",
       "      <td>3</td>\n",
       "      <td>15619304</td>\n",
       "      <td>Onio</td>\n",
       "      <td>502</td>\n",
       "      <td>France</td>\n",
       "      <td>Female</td>\n",
       "      <td>42</td>\n",
       "      <td>8.0</td>\n",
       "      <td>159660.80</td>\n",
       "      <td>3</td>\n",
       "      <td>1</td>\n",
       "      <td>0</td>\n",
       "      <td>113931.57</td>\n",
       "      <td>1</td>\n",
       "    </tr>\n",
       "    <tr>\n",
       "      <th>3</th>\n",
       "      <td>4</td>\n",
       "      <td>15701354</td>\n",
       "      <td>Boni</td>\n",
       "      <td>699</td>\n",
       "      <td>France</td>\n",
       "      <td>Female</td>\n",
       "      <td>39</td>\n",
       "      <td>1.0</td>\n",
       "      <td>0.00</td>\n",
       "      <td>2</td>\n",
       "      <td>0</td>\n",
       "      <td>0</td>\n",
       "      <td>93826.63</td>\n",
       "      <td>0</td>\n",
       "    </tr>\n",
       "    <tr>\n",
       "      <th>4</th>\n",
       "      <td>5</td>\n",
       "      <td>15737888</td>\n",
       "      <td>Mitchell</td>\n",
       "      <td>850</td>\n",
       "      <td>Spain</td>\n",
       "      <td>Female</td>\n",
       "      <td>43</td>\n",
       "      <td>2.0</td>\n",
       "      <td>125510.82</td>\n",
       "      <td>1</td>\n",
       "      <td>1</td>\n",
       "      <td>1</td>\n",
       "      <td>79084.10</td>\n",
       "      <td>0</td>\n",
       "    </tr>\n",
       "    <tr>\n",
       "      <th>5</th>\n",
       "      <td>6</td>\n",
       "      <td>15574012</td>\n",
       "      <td>Chu</td>\n",
       "      <td>645</td>\n",
       "      <td>Spain</td>\n",
       "      <td>Male</td>\n",
       "      <td>44</td>\n",
       "      <td>8.0</td>\n",
       "      <td>113755.78</td>\n",
       "      <td>2</td>\n",
       "      <td>1</td>\n",
       "      <td>0</td>\n",
       "      <td>149756.71</td>\n",
       "      <td>1</td>\n",
       "    </tr>\n",
       "    <tr>\n",
       "      <th>6</th>\n",
       "      <td>7</td>\n",
       "      <td>15592531</td>\n",
       "      <td>Bartlett</td>\n",
       "      <td>822</td>\n",
       "      <td>France</td>\n",
       "      <td>Male</td>\n",
       "      <td>50</td>\n",
       "      <td>7.0</td>\n",
       "      <td>0.00</td>\n",
       "      <td>2</td>\n",
       "      <td>1</td>\n",
       "      <td>1</td>\n",
       "      <td>10062.80</td>\n",
       "      <td>0</td>\n",
       "    </tr>\n",
       "    <tr>\n",
       "      <th>7</th>\n",
       "      <td>8</td>\n",
       "      <td>15656148</td>\n",
       "      <td>Obinna</td>\n",
       "      <td>376</td>\n",
       "      <td>Germany</td>\n",
       "      <td>Female</td>\n",
       "      <td>29</td>\n",
       "      <td>4.0</td>\n",
       "      <td>115046.74</td>\n",
       "      <td>4</td>\n",
       "      <td>1</td>\n",
       "      <td>0</td>\n",
       "      <td>119346.88</td>\n",
       "      <td>1</td>\n",
       "    </tr>\n",
       "    <tr>\n",
       "      <th>8</th>\n",
       "      <td>9</td>\n",
       "      <td>15792365</td>\n",
       "      <td>He</td>\n",
       "      <td>501</td>\n",
       "      <td>France</td>\n",
       "      <td>Male</td>\n",
       "      <td>44</td>\n",
       "      <td>4.0</td>\n",
       "      <td>142051.07</td>\n",
       "      <td>2</td>\n",
       "      <td>0</td>\n",
       "      <td>1</td>\n",
       "      <td>74940.50</td>\n",
       "      <td>0</td>\n",
       "    </tr>\n",
       "    <tr>\n",
       "      <th>9</th>\n",
       "      <td>10</td>\n",
       "      <td>15592389</td>\n",
       "      <td>H?</td>\n",
       "      <td>684</td>\n",
       "      <td>France</td>\n",
       "      <td>Male</td>\n",
       "      <td>27</td>\n",
       "      <td>2.0</td>\n",
       "      <td>134603.88</td>\n",
       "      <td>1</td>\n",
       "      <td>1</td>\n",
       "      <td>1</td>\n",
       "      <td>71725.73</td>\n",
       "      <td>0</td>\n",
       "    </tr>\n",
       "  </tbody>\n",
       "</table>\n",
       "</div>"
      ],
      "text/plain": [
       "   RowNumber  CustomerId   Surname  CreditScore Geography  Gender  Age  \\\n",
       "0          1    15634602  Hargrave          619    France  Female   42   \n",
       "1          2    15647311      Hill          608     Spain  Female   41   \n",
       "2          3    15619304      Onio          502    France  Female   42   \n",
       "3          4    15701354      Boni          699    France  Female   39   \n",
       "4          5    15737888  Mitchell          850     Spain  Female   43   \n",
       "5          6    15574012       Chu          645     Spain    Male   44   \n",
       "6          7    15592531  Bartlett          822    France    Male   50   \n",
       "7          8    15656148    Obinna          376   Germany  Female   29   \n",
       "8          9    15792365        He          501    France    Male   44   \n",
       "9         10    15592389        H?          684    France    Male   27   \n",
       "\n",
       "   Tenure    Balance  NumOfProducts  HasCrCard  IsActiveMember  \\\n",
       "0     2.0       0.00              1          1               1   \n",
       "1     1.0   83807.86              1          0               1   \n",
       "2     8.0  159660.80              3          1               0   \n",
       "3     1.0       0.00              2          0               0   \n",
       "4     2.0  125510.82              1          1               1   \n",
       "5     8.0  113755.78              2          1               0   \n",
       "6     7.0       0.00              2          1               1   \n",
       "7     4.0  115046.74              4          1               0   \n",
       "8     4.0  142051.07              2          0               1   \n",
       "9     2.0  134603.88              1          1               1   \n",
       "\n",
       "   EstimatedSalary  Exited  \n",
       "0        101348.88       1  \n",
       "1        112542.58       0  \n",
       "2        113931.57       1  \n",
       "3         93826.63       0  \n",
       "4         79084.10       0  \n",
       "5        149756.71       1  \n",
       "6         10062.80       0  \n",
       "7        119346.88       1  \n",
       "8         74940.50       0  \n",
       "9         71725.73       0  "
      ]
     },
     "execution_count": 3,
     "metadata": {},
     "output_type": "execute_result"
    }
   ],
   "source": [
    "data.head(10)"
   ]
  },
  {
   "cell_type": "code",
   "execution_count": 4,
   "metadata": {},
   "outputs": [],
   "source": [
    "data.columns = 'row_number', 'customer_id', 'surname','credit_score', 'geography', 'gender', 'age', 'tenure', 'balance', 'num_of_products', 'has_cr_card', 'is_active_member', 'estimated_salary', 'exited'"
   ]
  },
  {
   "cell_type": "code",
   "execution_count": 5,
   "metadata": {},
   "outputs": [
    {
     "name": "stdout",
     "output_type": "stream",
     "text": [
      "<class 'pandas.core.frame.DataFrame'>\n",
      "RangeIndex: 10000 entries, 0 to 9999\n",
      "Data columns (total 14 columns):\n",
      " #   Column            Non-Null Count  Dtype  \n",
      "---  ------            --------------  -----  \n",
      " 0   row_number        10000 non-null  int64  \n",
      " 1   customer_id       10000 non-null  int64  \n",
      " 2   surname           10000 non-null  object \n",
      " 3   credit_score      10000 non-null  int64  \n",
      " 4   geography         10000 non-null  object \n",
      " 5   gender            10000 non-null  object \n",
      " 6   age               10000 non-null  int64  \n",
      " 7   tenure            9091 non-null   float64\n",
      " 8   balance           10000 non-null  float64\n",
      " 9   num_of_products   10000 non-null  int64  \n",
      " 10  has_cr_card       10000 non-null  int64  \n",
      " 11  is_active_member  10000 non-null  int64  \n",
      " 12  estimated_salary  10000 non-null  float64\n",
      " 13  exited            10000 non-null  int64  \n",
      "dtypes: float64(3), int64(8), object(3)\n",
      "memory usage: 1.1+ MB\n"
     ]
    }
   ],
   "source": [
    "data.info()"
   ]
  },
  {
   "cell_type": "code",
   "execution_count": 6,
   "metadata": {},
   "outputs": [],
   "source": [
    "data['tenure'] = data['tenure'].fillna(data['tenure'].median())"
   ]
  },
  {
   "cell_type": "code",
   "execution_count": 7,
   "metadata": {},
   "outputs": [],
   "source": [
    "data_1 = data.drop(['row_number', 'customer_id', 'surname'], axis=1)"
   ]
  },
  {
   "cell_type": "code",
   "execution_count": 8,
   "metadata": {},
   "outputs": [
    {
     "data": {
      "text/html": [
       "<div>\n",
       "<style scoped>\n",
       "    .dataframe tbody tr th:only-of-type {\n",
       "        vertical-align: middle;\n",
       "    }\n",
       "\n",
       "    .dataframe tbody tr th {\n",
       "        vertical-align: top;\n",
       "    }\n",
       "\n",
       "    .dataframe thead th {\n",
       "        text-align: right;\n",
       "    }\n",
       "</style>\n",
       "<table border=\"1\" class=\"dataframe\">\n",
       "  <thead>\n",
       "    <tr style=\"text-align: right;\">\n",
       "      <th></th>\n",
       "      <th>credit_score</th>\n",
       "      <th>age</th>\n",
       "      <th>tenure</th>\n",
       "      <th>balance</th>\n",
       "      <th>num_of_products</th>\n",
       "      <th>has_cr_card</th>\n",
       "      <th>is_active_member</th>\n",
       "      <th>estimated_salary</th>\n",
       "      <th>exited</th>\n",
       "      <th>geography_Germany</th>\n",
       "      <th>geography_Spain</th>\n",
       "      <th>gender_Male</th>\n",
       "    </tr>\n",
       "  </thead>\n",
       "  <tbody>\n",
       "    <tr>\n",
       "      <th>0</th>\n",
       "      <td>619</td>\n",
       "      <td>42</td>\n",
       "      <td>2.0</td>\n",
       "      <td>0.00</td>\n",
       "      <td>1</td>\n",
       "      <td>1</td>\n",
       "      <td>1</td>\n",
       "      <td>101348.88</td>\n",
       "      <td>1</td>\n",
       "      <td>0</td>\n",
       "      <td>0</td>\n",
       "      <td>0</td>\n",
       "    </tr>\n",
       "    <tr>\n",
       "      <th>1</th>\n",
       "      <td>608</td>\n",
       "      <td>41</td>\n",
       "      <td>1.0</td>\n",
       "      <td>83807.86</td>\n",
       "      <td>1</td>\n",
       "      <td>0</td>\n",
       "      <td>1</td>\n",
       "      <td>112542.58</td>\n",
       "      <td>0</td>\n",
       "      <td>0</td>\n",
       "      <td>1</td>\n",
       "      <td>0</td>\n",
       "    </tr>\n",
       "    <tr>\n",
       "      <th>2</th>\n",
       "      <td>502</td>\n",
       "      <td>42</td>\n",
       "      <td>8.0</td>\n",
       "      <td>159660.80</td>\n",
       "      <td>3</td>\n",
       "      <td>1</td>\n",
       "      <td>0</td>\n",
       "      <td>113931.57</td>\n",
       "      <td>1</td>\n",
       "      <td>0</td>\n",
       "      <td>0</td>\n",
       "      <td>0</td>\n",
       "    </tr>\n",
       "    <tr>\n",
       "      <th>3</th>\n",
       "      <td>699</td>\n",
       "      <td>39</td>\n",
       "      <td>1.0</td>\n",
       "      <td>0.00</td>\n",
       "      <td>2</td>\n",
       "      <td>0</td>\n",
       "      <td>0</td>\n",
       "      <td>93826.63</td>\n",
       "      <td>0</td>\n",
       "      <td>0</td>\n",
       "      <td>0</td>\n",
       "      <td>0</td>\n",
       "    </tr>\n",
       "    <tr>\n",
       "      <th>4</th>\n",
       "      <td>850</td>\n",
       "      <td>43</td>\n",
       "      <td>2.0</td>\n",
       "      <td>125510.82</td>\n",
       "      <td>1</td>\n",
       "      <td>1</td>\n",
       "      <td>1</td>\n",
       "      <td>79084.10</td>\n",
       "      <td>0</td>\n",
       "      <td>0</td>\n",
       "      <td>1</td>\n",
       "      <td>0</td>\n",
       "    </tr>\n",
       "    <tr>\n",
       "      <th>...</th>\n",
       "      <td>...</td>\n",
       "      <td>...</td>\n",
       "      <td>...</td>\n",
       "      <td>...</td>\n",
       "      <td>...</td>\n",
       "      <td>...</td>\n",
       "      <td>...</td>\n",
       "      <td>...</td>\n",
       "      <td>...</td>\n",
       "      <td>...</td>\n",
       "      <td>...</td>\n",
       "      <td>...</td>\n",
       "    </tr>\n",
       "    <tr>\n",
       "      <th>9995</th>\n",
       "      <td>771</td>\n",
       "      <td>39</td>\n",
       "      <td>5.0</td>\n",
       "      <td>0.00</td>\n",
       "      <td>2</td>\n",
       "      <td>1</td>\n",
       "      <td>0</td>\n",
       "      <td>96270.64</td>\n",
       "      <td>0</td>\n",
       "      <td>0</td>\n",
       "      <td>0</td>\n",
       "      <td>1</td>\n",
       "    </tr>\n",
       "    <tr>\n",
       "      <th>9996</th>\n",
       "      <td>516</td>\n",
       "      <td>35</td>\n",
       "      <td>10.0</td>\n",
       "      <td>57369.61</td>\n",
       "      <td>1</td>\n",
       "      <td>1</td>\n",
       "      <td>1</td>\n",
       "      <td>101699.77</td>\n",
       "      <td>0</td>\n",
       "      <td>0</td>\n",
       "      <td>0</td>\n",
       "      <td>1</td>\n",
       "    </tr>\n",
       "    <tr>\n",
       "      <th>9997</th>\n",
       "      <td>709</td>\n",
       "      <td>36</td>\n",
       "      <td>7.0</td>\n",
       "      <td>0.00</td>\n",
       "      <td>1</td>\n",
       "      <td>0</td>\n",
       "      <td>1</td>\n",
       "      <td>42085.58</td>\n",
       "      <td>1</td>\n",
       "      <td>0</td>\n",
       "      <td>0</td>\n",
       "      <td>0</td>\n",
       "    </tr>\n",
       "    <tr>\n",
       "      <th>9998</th>\n",
       "      <td>772</td>\n",
       "      <td>42</td>\n",
       "      <td>3.0</td>\n",
       "      <td>75075.31</td>\n",
       "      <td>2</td>\n",
       "      <td>1</td>\n",
       "      <td>0</td>\n",
       "      <td>92888.52</td>\n",
       "      <td>1</td>\n",
       "      <td>1</td>\n",
       "      <td>0</td>\n",
       "      <td>1</td>\n",
       "    </tr>\n",
       "    <tr>\n",
       "      <th>9999</th>\n",
       "      <td>792</td>\n",
       "      <td>28</td>\n",
       "      <td>5.0</td>\n",
       "      <td>130142.79</td>\n",
       "      <td>1</td>\n",
       "      <td>1</td>\n",
       "      <td>0</td>\n",
       "      <td>38190.78</td>\n",
       "      <td>0</td>\n",
       "      <td>0</td>\n",
       "      <td>0</td>\n",
       "      <td>0</td>\n",
       "    </tr>\n",
       "  </tbody>\n",
       "</table>\n",
       "<p>10000 rows × 12 columns</p>\n",
       "</div>"
      ],
      "text/plain": [
       "      credit_score  age  tenure    balance  num_of_products  has_cr_card  \\\n",
       "0              619   42     2.0       0.00                1            1   \n",
       "1              608   41     1.0   83807.86                1            0   \n",
       "2              502   42     8.0  159660.80                3            1   \n",
       "3              699   39     1.0       0.00                2            0   \n",
       "4              850   43     2.0  125510.82                1            1   \n",
       "...            ...  ...     ...        ...              ...          ...   \n",
       "9995           771   39     5.0       0.00                2            1   \n",
       "9996           516   35    10.0   57369.61                1            1   \n",
       "9997           709   36     7.0       0.00                1            0   \n",
       "9998           772   42     3.0   75075.31                2            1   \n",
       "9999           792   28     5.0  130142.79                1            1   \n",
       "\n",
       "      is_active_member  estimated_salary  exited  geography_Germany  \\\n",
       "0                    1         101348.88       1                  0   \n",
       "1                    1         112542.58       0                  0   \n",
       "2                    0         113931.57       1                  0   \n",
       "3                    0          93826.63       0                  0   \n",
       "4                    1          79084.10       0                  0   \n",
       "...                ...               ...     ...                ...   \n",
       "9995                 0          96270.64       0                  0   \n",
       "9996                 1         101699.77       0                  0   \n",
       "9997                 1          42085.58       1                  0   \n",
       "9998                 0          92888.52       1                  1   \n",
       "9999                 0          38190.78       0                  0   \n",
       "\n",
       "      geography_Spain  gender_Male  \n",
       "0                   0            0  \n",
       "1                   1            0  \n",
       "2                   0            0  \n",
       "3                   0            0  \n",
       "4                   1            0  \n",
       "...               ...          ...  \n",
       "9995                0            1  \n",
       "9996                0            1  \n",
       "9997                0            0  \n",
       "9998                0            1  \n",
       "9999                0            0  \n",
       "\n",
       "[10000 rows x 12 columns]"
      ]
     },
     "execution_count": 8,
     "metadata": {},
     "output_type": "execute_result"
    }
   ],
   "source": [
    "data_ohe = pd.get_dummies(data_1, drop_first=True)\n",
    "data_ohe"
   ]
  },
  {
   "cell_type": "markdown",
   "metadata": {},
   "source": [
    "Загруженные данные имеют пропуски в столбце tenure (продолжительность нахождения в клиентах банка). Данные в текстовых столбцах представлены в формате object, данные в числовых столбцах предствлены в форматах int и float. Отсутствующие значения в столбце tenure заменили медианным значением данного столбца. Уберали столбцы row_number, customer_id, surname. Созданы мнимые признаки для столбцов geography, gender."
   ]
  },
  {
   "cell_type": "markdown",
   "metadata": {},
   "source": [
    "## Исследование задачи"
   ]
  },
  {
   "cell_type": "code",
   "execution_count": 9,
   "metadata": {},
   "outputs": [
    {
     "data": {
      "text/plain": [
       "0    0.7963\n",
       "1    0.2037\n",
       "Name: exited, dtype: float64"
      ]
     },
     "execution_count": 9,
     "metadata": {},
     "output_type": "execute_result"
    }
   ],
   "source": [
    "data_ohe['exited'].value_counts(normalize=True)"
   ]
  },
  {
   "cell_type": "markdown",
   "metadata": {},
   "source": [
    "данные с классами 0 (действующий) и 1 (ушедший) соотносятся 80 % и 20 % соответственно. Без дополнительной обработки (добавления к меньшему классу доп.значений, удаления из данных части значений доминирующего класса) модель будет выдавать много ответов с классом 0 (действующий), что будет ее незначительно отличать от предсказаний на константной (полностью заполненной значениями класса 0) модели."
   ]
  },
  {
   "cell_type": "code",
   "execution_count": 10,
   "metadata": {},
   "outputs": [],
   "source": [
    "features = data_ohe.drop(['exited'], axis=1)\n",
    "target = data_ohe['exited']\n",
    "features_train, features_valid, target_train, target_valid = train_test_split(features, \n",
    "                                            target, test_size = 0.2, random_state=12345)\n",
    "features_train, features_test, target_train, target_test = train_test_split(features_train, \n",
    "                                     target_train, test_size = 0.25, random_state=12345)"
   ]
  },
  {
   "cell_type": "markdown",
   "metadata": {},
   "source": [
    "разделили выборку на обучающую, валидационную и тестовую"
   ]
  },
  {
   "cell_type": "markdown",
   "metadata": {},
   "source": [
    "получим оптимальную модель случайного леса"
   ]
  },
  {
   "cell_type": "code",
   "execution_count": 11,
   "metadata": {},
   "outputs": [
    {
     "data": {
      "text/plain": [
       "GridSearchCV(cv=3, estimator=RandomForestClassifier(random_state=12345),\n",
       "             n_jobs=-1,\n",
       "             param_grid={'max_depth': range(1, 17, 2),\n",
       "                         'min_samples_leaf': range(1, 11, 2),\n",
       "                         'min_samples_split': range(1, 11, 2),\n",
       "                         'n_estimators': range(10, 100, 10)},\n",
       "             refit='f1_score',\n",
       "             scoring={'f1_score': make_scorer(f1_score),\n",
       "                      'precision_score': make_scorer(precision_score),\n",
       "                      'recall_score': make_scorer(recall_score)})"
      ]
     },
     "execution_count": 11,
     "metadata": {},
     "output_type": "execute_result"
    }
   ],
   "source": [
    "model = RandomForestClassifier(random_state = 12345)\n",
    "params = {\n",
    "    'n_estimators':range(10,100,10),\n",
    "    'max_depth': range(1,17,2),\n",
    "    'min_samples_split': range(1, 11, 2),\n",
    "    'min_samples_leaf': range(1, 11, 2)}\n",
    "scores = {\n",
    "    'precision_score': make_scorer(precision_score),\n",
    "    'recall_score': make_scorer(recall_score),\n",
    "    'f1_score': make_scorer(f1_score)\n",
    "}\n",
    "grid_model_rf_base = GridSearchCV(model, params, scoring = scores, refit = 'f1_score', cv=3, n_jobs=-1)\n",
    "grid_model_rf_base.fit(features_train, target_train)"
   ]
  },
  {
   "cell_type": "code",
   "execution_count": 12,
   "metadata": {},
   "outputs": [
    {
     "data": {
      "text/plain": [
       "{'max_depth': 13,\n",
       " 'min_samples_leaf': 1,\n",
       " 'min_samples_split': 5,\n",
       " 'n_estimators': 50}"
      ]
     },
     "execution_count": 12,
     "metadata": {},
     "output_type": "execute_result"
    }
   ],
   "source": [
    "rf_param = grid_model_rf_base.best_params_\n",
    "grid_model_rf_base.best_params_"
   ]
  },
  {
   "cell_type": "code",
   "execution_count": 13,
   "metadata": {},
   "outputs": [],
   "source": [
    "max_depth_rf = rf_param['max_depth']\n",
    "min_samples_leaf_rf = rf_param['min_samples_leaf']\n",
    "min_samples_split_rf = rf_param['min_samples_split']\n",
    "n_estimators_rf = rf_param['n_estimators']"
   ]
  },
  {
   "cell_type": "code",
   "execution_count": 14,
   "metadata": {},
   "outputs": [
    {
     "name": "stdout",
     "output_type": "stream",
     "text": [
      "               precision    recall  f1-score   support\n",
      "\n",
      "is_not_exited       0.88      0.97      0.92      1609\n",
      "       exited       0.77      0.43      0.56       391\n",
      "\n",
      "     accuracy                           0.86      2000\n",
      "    macro avg       0.82      0.70      0.74      2000\n",
      " weighted avg       0.85      0.86      0.85      2000\n",
      "\n"
     ]
    }
   ],
   "source": [
    "print(classification_report(target_test, grid_model_rf_base.predict(features_test), \n",
    "                            target_names=['is_not_exited', 'exited']))"
   ]
  },
  {
   "cell_type": "code",
   "execution_count": 15,
   "metadata": {},
   "outputs": [
    {
     "name": "stdout",
     "output_type": "stream",
     "text": [
      "0.8482067780499397\n"
     ]
    }
   ],
   "source": [
    "predicted_test_rf = grid_model_rf_base.predict(features_test)\n",
    "probabilities_test_rf = grid_model_rf_base.predict_proba(features_test)\n",
    "probabilities_one_test_rf = probabilities_test_rf[:, 1]\n",
    "\n",
    "print(roc_auc_score (target_test, probabilities_one_test_rf))"
   ]
  },
  {
   "cell_type": "markdown",
   "metadata": {},
   "source": [
    "получим оптимальную модель дерева принятия решений"
   ]
  },
  {
   "cell_type": "code",
   "execution_count": 16,
   "metadata": {},
   "outputs": [
    {
     "data": {
      "text/plain": [
       "GridSearchCV(cv=3, estimator=DecisionTreeClassifier(random_state=12345),\n",
       "             n_jobs=-1,\n",
       "             param_grid={'max_depth': range(1, 17, 2),\n",
       "                         'min_samples_leaf': range(1, 11, 2),\n",
       "                         'min_samples_split': range(1, 11, 2)},\n",
       "             refit='f1_score',\n",
       "             scoring={'f1_score': make_scorer(f1_score),\n",
       "                      'precision_score': make_scorer(precision_score),\n",
       "                      'recall_score': make_scorer(recall_score)})"
      ]
     },
     "execution_count": 16,
     "metadata": {},
     "output_type": "execute_result"
    }
   ],
   "source": [
    "model = DecisionTreeClassifier(random_state = 12345)\n",
    "params = {'max_depth': range(1,17,2),\n",
    "    'min_samples_split': range(1, 11, 2),\n",
    "    'min_samples_leaf': range(1, 11, 2)}\n",
    "\n",
    "scores = {\n",
    "    'precision_score': make_scorer(precision_score),\n",
    "    'recall_score': make_scorer(recall_score),\n",
    "    'f1_score': make_scorer(f1_score)}\n",
    "    \n",
    "grid_model_dt = GridSearchCV(model, params, scoring = scores, refit = 'f1_score', cv=3, n_jobs=-1)\n",
    "grid_model_dt.fit(features_train, target_train)"
   ]
  },
  {
   "cell_type": "code",
   "execution_count": 17,
   "metadata": {},
   "outputs": [
    {
     "data": {
      "text/plain": [
       "{'max_depth': 11, 'min_samples_leaf': 7, 'min_samples_split': 3}"
      ]
     },
     "execution_count": 17,
     "metadata": {},
     "output_type": "execute_result"
    }
   ],
   "source": [
    "grid_model_dt.best_params_"
   ]
  },
  {
   "cell_type": "code",
   "execution_count": 18,
   "metadata": {},
   "outputs": [
    {
     "name": "stdout",
     "output_type": "stream",
     "text": [
      "               precision    recall  f1-score   support\n",
      "\n",
      "is_not_exited       0.88      0.93      0.91      1609\n",
      "       exited       0.64      0.47      0.54       391\n",
      "\n",
      "     accuracy                           0.84      2000\n",
      "    macro avg       0.76      0.70      0.72      2000\n",
      " weighted avg       0.83      0.84      0.83      2000\n",
      "\n"
     ]
    }
   ],
   "source": [
    "print(classification_report(target_test, grid_model_dt.predict(features_test), \n",
    "                      target_names=['is_not_exited', 'exited']))"
   ]
  },
  {
   "cell_type": "code",
   "execution_count": 19,
   "metadata": {},
   "outputs": [
    {
     "name": "stdout",
     "output_type": "stream",
     "text": [
      "0.7729626668404547\n"
     ]
    }
   ],
   "source": [
    "probabilities_test = grid_model_dt.predict_proba(features_test)\n",
    "probabilities_one_test_dt = probabilities_test[:, 1]\n",
    "print(roc_auc_score (target_test, probabilities_one_test_dt))"
   ]
  },
  {
   "cell_type": "code",
   "execution_count": 20,
   "metadata": {},
   "outputs": [
    {
     "data": {
      "text/plain": [
       "LogisticRegression(solver='newton-cg')"
      ]
     },
     "execution_count": 20,
     "metadata": {},
     "output_type": "execute_result"
    }
   ],
   "source": [
    "grid_model=LogisticRegression(solver='newton-cg', max_iter = 100)\n",
    "grid_model.fit(features_train, target_train)"
   ]
  },
  {
   "cell_type": "code",
   "execution_count": 22,
   "metadata": {},
   "outputs": [
    {
     "name": "stdout",
     "output_type": "stream",
     "text": [
      "               precision    recall  f1-score   support\n",
      "\n",
      "is_not_exited       0.83      0.96      0.89      1609\n",
      "       exited       0.58      0.20      0.30       391\n",
      "\n",
      "     accuracy                           0.81      2000\n",
      "    macro avg       0.70      0.58      0.60      2000\n",
      " weighted avg       0.78      0.81      0.78      2000\n",
      "\n"
     ]
    }
   ],
   "source": [
    "print(classification_report(target_test, grid_model.predict(features_test), \n",
    "                      target_names=['is_not_exited', 'exited']))"
   ]
  },
  {
   "cell_type": "code",
   "execution_count": 23,
   "metadata": {},
   "outputs": [
    {
     "name": "stdout",
     "output_type": "stream",
     "text": [
      "0.7680963378947385\n"
     ]
    }
   ],
   "source": [
    "probabilities_test = grid_model.predict_proba(features_test)\n",
    "probabilities_one_test_lr = probabilities_test[:, 1]\n",
    "print(roc_auc_score (target_test, probabilities_one_test_lr))"
   ]
  },
  {
   "cell_type": "code",
   "execution_count": 29,
   "metadata": {},
   "outputs": [
    {
     "name": "stdout",
     "output_type": "stream",
     "text": [
      "0.5806451612903226 15 80\n"
     ]
    }
   ],
   "source": [
    "best_f1_score = 0\n",
    "best_depth = 0\n",
    "best_est = 0\n",
    "for est in range (20, 100, 10):\n",
    "    for depth in range(1, 16, 1):\n",
    "        model=RandomForestClassifier(n_estimators = est, max_depth=depth, random_state = 12345)\n",
    "        model.fit(features_train, target_train)\n",
    "        predicted_valid = model.predict(features_valid)\n",
    "        model_f1_score = f1_score(target_valid, predicted_valid)\n",
    "        if model_f1_score > best_f1_score:\n",
    "            best_f1_score = model_f1_score\n",
    "            best_depth = depth\n",
    "            best_est = est\n",
    "print(best_f1_score, best_depth, best_est)"
   ]
  },
  {
   "cell_type": "code",
   "execution_count": 30,
   "metadata": {},
   "outputs": [
    {
     "name": "stdout",
     "output_type": "stream",
     "text": [
      "               precision    recall  f1-score   support\n",
      "\n",
      "is_not_exited       0.87      0.97      0.91      1573\n",
      "       exited       0.78      0.46      0.58       427\n",
      "\n",
      "     accuracy                           0.86      2000\n",
      "    macro avg       0.83      0.71      0.75      2000\n",
      " weighted avg       0.85      0.86      0.84      2000\n",
      "\n"
     ]
    }
   ],
   "source": [
    "print(classification_report(target_valid, model.predict(features_valid), \n",
    "                      target_names=['is_not_exited', 'exited']))"
   ]
  },
  {
   "cell_type": "code",
   "execution_count": 33,
   "metadata": {},
   "outputs": [
    {
     "name": "stdout",
     "output_type": "stream",
     "text": [
      "0.8587545092761188\n"
     ]
    }
   ],
   "source": [
    "probabilities_valid = model.predict_proba(features_valid)\n",
    "probabilities_one_valid = probabilities_valid[:, 1]\n",
    "\n",
    "print(roc_auc_score (target_valid, probabilities_one_valid))"
   ]
  },
  {
   "cell_type": "code",
   "execution_count": 34,
   "metadata": {},
   "outputs": [
    {
     "data": {
      "image/png": "[encoded data removed]",
      "text/plain": [
       "<Figure size 432x288 with 1 Axes>"
      ]
     },
     "metadata": {
      "needs_background": "light"
     },
     "output_type": "display_data"
    }
   ],
   "source": [
    "fpr_rf, tpr_rf, thresholds_rf = roc_curve(target_test, probabilities_one_test_rf)\n",
    "fpr_dt, tpr_dt, thresholds_dt = roc_curve(target_test, probabilities_one_test_dt)\n",
    "fpr_lr, tpr_lr, thresholds_lr = roc_curve(target_test, probabilities_one_test_lr)\n",
    "fpr, tpr, thresholds = roc_curve(target_valid, probabilities_one_valid)\n",
    "\n",
    "\n",
    "plt.figure()\n",
    "\n",
    "plt.plot([0, 1], [0, 1], linestyle = '--')\n",
    "plt.plot(fpr_rf, tpr_rf, color = 'b')\n",
    "plt.plot(fpr_dt, tpr_dt, color = 'g')\n",
    "plt.plot(fpr_lr, tpr_lr, color = 'r')\n",
    "plt.plot(fpr, tpr, color = 'c')\n",
    "plt.xlim([0.0, 1.0])\n",
    "plt.ylim([0.0, 1.0])\n",
    "plt.xlabel('Fals positive rate')\n",
    "plt.ylabel('True positive rate')\n",
    "plt.title('ROC-кривая')\n",
    "\n",
    "plt.show()"
   ]
  },
  {
   "cell_type": "markdown",
   "metadata": {},
   "source": [
    "Мы протестировали модели случайного леса, дерева принятия решения и логистической регрессии на имеющихся несбалансированных данных. Показатель метрики f1 на тестовой выборке (валидационную выборку не используем в связи с применением метода GridSearchCV) для ушедших клиентов во всех случаях меньше целелевого показателя 0,59. Для улучшения данного показателя применим методы балансировки обучающей выборки (взвешивание классов, уменьшение превалирующего класса, увеличение класса, находящегося в меньшинстве, сдвиг порога классификации). Метрики получаемые на модели случайного леса выше остальных моделей в связи с эти будем использовать эту модель для тестирования методов борьбы с дисбалансом выборки."
   ]
  },
  {
   "cell_type": "markdown",
   "metadata": {},
   "source": [
    "## Борьба с дисбалансом"
   ]
  },
  {
   "cell_type": "markdown",
   "metadata": {},
   "source": [
    "### Взвешивание классов"
   ]
  },
  {
   "cell_type": "code",
   "execution_count": 35,
   "metadata": {},
   "outputs": [
    {
     "data": {
      "text/plain": [
       "GridSearchCV(cv=3,\n",
       "             estimator=RandomForestClassifier(class_weight='balanced',\n",
       "                                              random_state=12345),\n",
       "             n_jobs=-1,\n",
       "             param_grid={'max_depth': range(1, 17, 2),\n",
       "                         'min_samples_leaf': range(1, 11, 2),\n",
       "                         'min_samples_split': range(1, 11, 2),\n",
       "                         'n_estimators': range(10, 100, 10)},\n",
       "             refit='f1_score',\n",
       "             scoring={'f1_score': make_scorer(f1_score),\n",
       "                      'precision_score': make_scorer(precision_score),\n",
       "                      'recall_score': make_scorer(recall_score)})"
      ]
     },
     "execution_count": 35,
     "metadata": {},
     "output_type": "execute_result"
    }
   ],
   "source": [
    "model = RandomForestClassifier(class_weight='balanced', random_state = 12345)\n",
    "params = {\n",
    "    'n_estimators':range(10,100,10),\n",
    "    'max_depth': range(1,17,2),\n",
    "    'min_samples_split': range(1, 11, 2),\n",
    "    'min_samples_leaf': range(1, 11, 2)}\n",
    "scores = {\n",
    "    'precision_score': make_scorer(precision_score),\n",
    "    'recall_score': make_scorer(recall_score),\n",
    "    'f1_score': make_scorer(f1_score)\n",
    "}\n",
    "model_rf = GridSearchCV(model, params, scoring = scores, refit = 'f1_score', cv=3, n_jobs=-1)\n",
    "model_rf.fit(features_train, target_train)"
   ]
  },
  {
   "cell_type": "code",
   "execution_count": 36,
   "metadata": {},
   "outputs": [
    {
     "data": {
      "text/plain": [
       "{'max_depth': 11,\n",
       " 'min_samples_leaf': 3,\n",
       " 'min_samples_split': 9,\n",
       " 'n_estimators': 90}"
      ]
     },
     "execution_count": 36,
     "metadata": {},
     "output_type": "execute_result"
    }
   ],
   "source": [
    "model_rf.best_params_"
   ]
  },
  {
   "cell_type": "markdown",
   "metadata": {},
   "source": [
    "### Увеличение выборки"
   ]
  },
  {
   "cell_type": "code",
   "execution_count": 39,
   "metadata": {},
   "outputs": [],
   "source": [
    "repeat = 4\n",
    "features_zeros = features_train[target == 0]\n",
    "features_ones = features_train[target == 1]\n",
    "target_zeros = target_train[target == 0]\n",
    "target_ones = target_train[target == 1]\n",
    "upsamping_features = pd.concat([features_zeros]+[features_ones]*repeat)\n",
    "upsamping_target = pd.concat([target_zeros]+[target_ones]*repeat)\n",
    "\n",
    "upsamping_features_train, upsamping_target_train = shuffle(upsamping_features, upsamping_target, \n",
    "                                                random_state = 12345)"
   ]
  },
  {
   "cell_type": "markdown",
   "metadata": {},
   "source": [
    "### Уменьшение выборки"
   ]
  },
  {
   "cell_type": "code",
   "execution_count": 43,
   "metadata": {},
   "outputs": [],
   "source": [
    "fraction = 0.25\n",
    "features_zeros = features_train[target == 0]\n",
    "features_ones = features_train[target == 1]\n",
    "target_zeros = target_train[target == 0]\n",
    "target_ones = target_train[target == 1]\n",
    "downsampled_features = pd.concat([features_zeros.sample(frac=fraction, random_state=12345)]\n",
    "                                 +[features_ones])\n",
    "downsampled_target = pd.concat([target_zeros.sample(frac=fraction, random_state = 12345)]+\n",
    "                               [target_ones])\n",
    "\n",
    "downsampled_features_train, downsampled_target_train = shuffle(downsampled_features, \n",
    "                                                            downsampled_target,random_state = 12345)"
   ]
  },
  {
   "cell_type": "markdown",
   "metadata": {},
   "source": [
    "### Изменение порога классификации"
   ]
  },
  {
   "cell_type": "code",
   "execution_count": 47,
   "metadata": {},
   "outputs": [
    {
     "data": {
      "text/plain": [
       "0.5555555555555555"
      ]
     },
     "execution_count": 47,
     "metadata": {},
     "output_type": "execute_result"
    }
   ],
   "source": [
    "predicted_test_1 = predicted_test_rf\n",
    "probabilities_one_test_adj_thr = probabilities_one_test_rf\n",
    "model_f1_score = f1_score(target_test, predicted_test_1)\n",
    "model_f1_score"
   ]
  },
  {
   "cell_type": "code",
   "execution_count": 48,
   "metadata": {},
   "outputs": [
    {
     "name": "stdout",
     "output_type": "stream",
     "text": [
      "Best Threshold=0.229493\n",
      "0.22949260535739582\n"
     ]
    }
   ],
   "source": [
    "fpr, tpr, thresholds_1 = roc_curve(target_test, probabilities_one_test_adj_thr)\n",
    "\n",
    "J = tpr - fpr\n",
    "ix = np.argmax(J)\n",
    "best_thresh = thresholds_1[ix]\n",
    "print('Best Threshold=%f' % (best_thresh))\n",
    "print(best_thresh)"
   ]
  },
  {
   "cell_type": "code",
   "execution_count": 49,
   "metadata": {},
   "outputs": [
    {
     "data": {
      "image/png": "[encoded data removed]",
      "text/plain": [
       "<Figure size 432x288 with 1 Axes>"
      ]
     },
     "metadata": {
      "needs_background": "light"
     },
     "output_type": "display_data"
    }
   ],
   "source": [
    "plt.figure()\n",
    "\n",
    "plt.plot([0, 1], [0, 1], linestyle = '--')\n",
    "plt.plot(fpr, tpr)\n",
    "plt.axvline(best_thresh)\n",
    "plt.xlim([0.0, 1.0])\n",
    "plt.ylim([0.0, 1.0])\n",
    "plt.xlabel('Fals positive rate')\n",
    "plt.ylabel('True positive rate')\n",
    "plt.title('ROC-кривая')\n",
    "\n",
    "plt.show()"
   ]
  },
  {
   "cell_type": "code",
   "execution_count": 50,
   "metadata": {},
   "outputs": [
    {
     "name": "stdout",
     "output_type": "stream",
     "text": [
      "f1 метрика 0.59\n",
      "roc_auc_метрика 0.848\n"
     ]
    }
   ],
   "source": [
    "def adjusted_classes (probabilities_one_test_1, t):\n",
    "    return[1 if y >= t else 0 for y in probabilities_one_test_1]\n",
    "\n",
    "predict_test_adjust = adjusted_classes(probabilities_one_test_adj_thr, best_thresh)\n",
    "\n",
    "print('f1 метрика {:.2f}'. format(f1_score(target_test, predict_test_adjust)))\n",
    "print('roc_auc_метрика {:.3f}'.format(roc_auc_score (target_test, probabilities_one_test_adj_thr)))"
   ]
  },
  {
   "cell_type": "code",
   "execution_count": 51,
   "metadata": {},
   "outputs": [],
   "source": []
  },
  {
   "cell_type": "markdown",
   "metadata": {},
   "source": [
    "Применены методы борьбы с несбалансированностью выборки (взвешивание классов, увеличение выборки, уменьшение выборки, изменение порога классификации). Метод изменения классификационного порога показал следующие метрики f1 - 0,59, roc_auc - 0,848. Метрики остальных методов борьбы с дисбалансом рассмотрим в следующем разделе на тестовой выборке."
   ]
  },
  {
   "cell_type": "markdown",
   "metadata": {},
   "source": [
    "## Тестирование модели"
   ]
  },
  {
   "cell_type": "markdown",
   "metadata": {},
   "source": [
    "### Взвещенные данные"
   ]
  },
  {
   "cell_type": "code",
   "execution_count": 52,
   "metadata": {},
   "outputs": [
    {
     "name": "stdout",
     "output_type": "stream",
     "text": [
      "               precision    recall  f1-score   support\n",
      "\n",
      "is_not_exited       0.91      0.89      0.90      1609\n",
      "       exited       0.58      0.62      0.60       391\n",
      "\n",
      "     accuracy                           0.84      2000\n",
      "    macro avg       0.74      0.76      0.75      2000\n",
      " weighted avg       0.84      0.84      0.84      2000\n",
      "\n"
     ]
    }
   ],
   "source": [
    "print(classification_report(target_test, model_rf.predict(features_test), \n",
    "                            target_names=['is_not_exited', 'exited']))"
   ]
  },
  {
   "cell_type": "code",
   "execution_count": 53,
   "metadata": {},
   "outputs": [
    {
     "name": "stdout",
     "output_type": "stream",
     "text": [
      "0.8522394014486925\n"
     ]
    }
   ],
   "source": [
    "probabilities_test = model_rf.predict_proba(features_test)\n",
    "probabilities_one_test_nd = probabilities_test[:, 1]\n",
    "\n",
    "print(roc_auc_score (target_test, probabilities_one_test_nd))"
   ]
  },
  {
   "cell_type": "markdown",
   "metadata": {},
   "source": [
    "### Увеличенная выборка"
   ]
  },
  {
   "cell_type": "code",
   "execution_count": 54,
   "metadata": {},
   "outputs": [
    {
     "data": {
      "text/plain": [
       "GridSearchCV(cv=2, estimator=RandomForestClassifier(random_state=12345),\n",
       "             n_jobs=-1,\n",
       "             param_grid={'max_depth': range(1, 17, 2),\n",
       "                         'min_samples_leaf': range(1, 11, 2),\n",
       "                         'min_samples_split': range(1, 11, 2),\n",
       "                         'n_estimators': range(10, 100, 10)},\n",
       "             refit='f1_score',\n",
       "             scoring={'f1_score': make_scorer(f1_score),\n",
       "                      'precision_score': make_scorer(precision_score),\n",
       "                      'recall_score': make_scorer(recall_score)})"
      ]
     },
     "execution_count": 54,
     "metadata": {},
     "output_type": "execute_result"
    }
   ],
   "source": [
    "model = RandomForestClassifier(random_state = 12345)\n",
    "params = {\n",
    "    'n_estimators':range(10,100,10),\n",
    "    'max_depth': range(1,17,2),\n",
    "    'min_samples_split': range(1, 11, 2),\n",
    "    'min_samples_leaf': range(1, 11, 2)}\n",
    "scores = {\n",
    "    'precision_score': make_scorer(precision_score),\n",
    "    'recall_score': make_scorer(recall_score),\n",
    "    'f1_score': make_scorer(f1_score)\n",
    "}\n",
    "model_rf1 = GridSearchCV(model, params, scoring = scores, refit = 'f1_score', cv=2, n_jobs=-1)\n",
    "model_rf1.fit(upsamping_features_train, upsamping_target_train)"
   ]
  },
  {
   "cell_type": "code",
   "execution_count": 55,
   "metadata": {},
   "outputs": [
    {
     "name": "stdout",
     "output_type": "stream",
     "text": [
      "               precision    recall  f1-score   support\n",
      "\n",
      "is_not_exited       0.90      0.91      0.90      1609\n",
      "       exited       0.61      0.57      0.59       391\n",
      "\n",
      "     accuracy                           0.84      2000\n",
      "    macro avg       0.75      0.74      0.75      2000\n",
      " weighted avg       0.84      0.84      0.84      2000\n",
      "\n"
     ]
    }
   ],
   "source": [
    "print(classification_report(target_test, model_rf1.predict(features_test), \n",
    "                            target_names=['is_not_exited', 'exited']))"
   ]
  },
  {
   "cell_type": "code",
   "execution_count": 56,
   "metadata": {},
   "outputs": [
    {
     "name": "stdout",
     "output_type": "stream",
     "text": [
      "0.8454704117980858\n"
     ]
    }
   ],
   "source": [
    "probabilities_test = model_rf1.predict_proba(features_test)\n",
    "probabilities_one_test_up = probabilities_test[:, 1]\n",
    "\n",
    "print(roc_auc_score (target_test, probabilities_one_test_up))"
   ]
  },
  {
   "cell_type": "code",
   "execution_count": 57,
   "metadata": {},
   "outputs": [
    {
     "data": {
      "text/plain": [
       "{'max_depth': 15,\n",
       " 'min_samples_leaf': 1,\n",
       " 'min_samples_split': 3,\n",
       " 'n_estimators': 80}"
      ]
     },
     "execution_count": 57,
     "metadata": {},
     "output_type": "execute_result"
    }
   ],
   "source": [
    "model_rf1.best_params_"
   ]
  },
  {
   "cell_type": "markdown",
   "metadata": {},
   "source": [
    "### Уменьшенная выборка"
   ]
  },
  {
   "cell_type": "code",
   "execution_count": 58,
   "metadata": {},
   "outputs": [
    {
     "data": {
      "text/plain": [
       "GridSearchCV(cv=2, estimator=RandomForestClassifier(random_state=12345),\n",
       "             n_jobs=-1,\n",
       "             param_grid={'max_depth': range(1, 17, 2),\n",
       "                         'min_samples_leaf': range(1, 11, 2),\n",
       "                         'min_samples_split': range(1, 11, 2),\n",
       "                         'n_estimators': range(10, 100, 10)},\n",
       "             refit='f1_score',\n",
       "             scoring={'f1_score': make_scorer(f1_score),\n",
       "                      'precision_score': make_scorer(precision_score),\n",
       "                      'recall_score': make_scorer(recall_score)})"
      ]
     },
     "execution_count": 58,
     "metadata": {},
     "output_type": "execute_result"
    }
   ],
   "source": [
    "model = RandomForestClassifier(random_state = 12345)\n",
    "params = {\n",
    "    'n_estimators':range(10,100,10),\n",
    "    'max_depth': range(1,17,2),\n",
    "    'min_samples_split': range(1, 11, 2),\n",
    "    'min_samples_leaf': range(1, 11, 2)}\n",
    "scores = {\n",
    "    'precision_score': make_scorer(precision_score),\n",
    "    'recall_score': make_scorer(recall_score),\n",
    "    'f1_score': make_scorer(f1_score)\n",
    "}\n",
    "model_rf2 = GridSearchCV(model, params, scoring = scores, refit = 'f1_score', cv=2, n_jobs=-1)\n",
    "model_rf2.fit(downsampled_features_train, downsampled_target_train)"
   ]
  },
  {
   "cell_type": "code",
   "execution_count": 59,
   "metadata": {},
   "outputs": [
    {
     "name": "stdout",
     "output_type": "stream",
     "text": [
      "               precision    recall  f1-score   support\n",
      "\n",
      "is_not_exited       0.93      0.79      0.85      1609\n",
      "       exited       0.46      0.74      0.57       391\n",
      "\n",
      "     accuracy                           0.78      2000\n",
      "    macro avg       0.70      0.77      0.71      2000\n",
      " weighted avg       0.84      0.78      0.80      2000\n",
      "\n"
     ]
    }
   ],
   "source": [
    "print(classification_report(target_test, model_rf2.predict(features_test), \n",
    "                            target_names=['is_not_exited', 'exited']))"
   ]
  },
  {
   "cell_type": "code",
   "execution_count": 60,
   "metadata": {},
   "outputs": [
    {
     "name": "stdout",
     "output_type": "stream",
     "text": [
      "0.8483482457213977\n"
     ]
    }
   ],
   "source": [
    "probabilities_test = model_rf2.predict_proba(features_test)\n",
    "probabilities_one_test_dw = probabilities_test[:, 1]\n",
    "\n",
    "print(roc_auc_score (target_test, probabilities_one_test_dw))"
   ]
  },
  {
   "cell_type": "code",
   "execution_count": 61,
   "metadata": {},
   "outputs": [
    {
     "data": {
      "text/plain": [
       "{'max_depth': 9,\n",
       " 'min_samples_leaf': 1,\n",
       " 'min_samples_split': 9,\n",
       " 'n_estimators': 50}"
      ]
     },
     "execution_count": 61,
     "metadata": {},
     "output_type": "execute_result"
    }
   ],
   "source": [
    "model_rf2.best_params_"
   ]
  },
  {
   "cell_type": "markdown",
   "metadata": {},
   "source": [
    "### Изменений порога классификации"
   ]
  },
  {
   "cell_type": "code",
   "execution_count": 66,
   "metadata": {},
   "outputs": [
    {
     "data": {
      "image/png": "[encoded data removed]",
      "text/plain": [
       "<Figure size 432x288 with 1 Axes>"
      ]
     },
     "metadata": {
      "needs_background": "light"
     },
     "output_type": "display_data"
    }
   ],
   "source": [
    "fpr_nd, tpr_nd, thresholds_nd = roc_curve(target_test, probabilities_one_test_nd)\n",
    "fpr_up, tpr_up, thresholds_up = roc_curve(target_test, probabilities_one_test_up)\n",
    "fpr_dw, tpr_dw, thresholds_dw = roc_curve(target_test, probabilities_one_test_dw)\n",
    "fpr, tpr, thresholds = roc_curve(target_test, probabilities_one_test_adj_thr)\n",
    "fpr_rf, tpr_rf, thresholds_rf = roc_curve(target_test, probabilities_one_test_rf)\n",
    "\n",
    "plt.figure()\n",
    "\n",
    "plt.plot([0, 1], [0, 1], linestyle = '--')\n",
    "plt.plot(fpr_nd, tpr_nd, color = 'b')\n",
    "plt.plot(fpr_up, tpr_up, color = 'g')\n",
    "plt.plot(fpr_dw, tpr_dw, color = 'r')\n",
    "plt.plot(fpr_rf, tpr_rf, color = 'm')\n",
    "plt.plot(fpr, tpr, color = 'c')\n",
    "plt.xlim([0.0, 1.0])\n",
    "plt.ylim([0.0, 1.0])\n",
    "plt.xlabel('Fals positive rate')\n",
    "plt.ylabel('True positive rate')\n",
    "plt.title('ROC-кривая')\n",
    "\n",
    "plt.show()"
   ]
  },
  {
   "cell_type": "markdown",
   "metadata": {},
   "source": [
    "На тестовой выборке модель обученная с применением метода взвешивания классов показала следующие параметры f1 - 0.6 auc-roc - 0.852, модель обученная  с применением метода увеличения выборки показала f1-0.59, auc-roc - 0.845, метод уменьшения выборки показал f1 - 0.57 (меньше требуемого критерия), auc-roc - 0.848. Метод изменения классификационного порога показал следующие метрики f1 - 0,59, roc_auc = 0.848. Для используемых данных больше всего подходит метод борьбы с дисбалансом -  взвешивание классов."
   ]
  },
  {
   "cell_type": "markdown",
   "metadata": {},
   "source": [
    "Выводы по проекту.<br>\n",
    "1.Для анализа получены данные об ушедших клиентах коммерческого банка для построения модели предсказаний расторжения договора с банком. Заполнены пропуски в столбце tenure, для дальнейшего анализа из данных убраны столбцы с фамилией, номером по прорядку, идентификационном номере клиента, создали мнимые признаки для пола и мест жительства клиента.<br>\n",
    "2.Данные имеют дисбаланс отрицательного класса. При обучении моделей на таких данных (даже при автоматическом подборе гиперпараметров) метрика f1 не достигает целевого значения 0,59. Для дальнейшей борьбы с дибалансом отобрана модель случайного леса<br>\n",
    "3.Борьба с дисбалансом осуществлена методами взвешивания данных, увеличения выборки, уменьшения выборки, изменения порога классификации. На тестовых данных лучший результат показал метод взвешивания данных  f1 - 0,6 auc-roc - 0.852."
   ]
  }
 ],
 "metadata": {
  "ExecuteTimeLog": [
   {
    "duration": 567,
    "start_time": "2022-05-06T12:09:41.353Z"
   },
   {
    "duration": 35,
    "start_time": "2022-05-06T12:09:46.311Z"
   },
   {
    "duration": 29,
    "start_time": "2022-05-06T12:09:54.748Z"
   },
   {
    "duration": 92,
    "start_time": "2022-05-06T12:14:58.781Z"
   },
   {
    "duration": 8,
    "start_time": "2022-05-06T12:15:08.333Z"
   },
   {
    "duration": 7,
    "start_time": "2022-05-06T12:16:49.034Z"
   },
   {
    "duration": 7,
    "start_time": "2022-05-06T12:17:03.275Z"
   },
   {
    "duration": 9,
    "start_time": "2022-05-06T12:18:11.702Z"
   },
   {
    "duration": 12,
    "start_time": "2022-05-06T12:18:25.935Z"
   },
   {
    "duration": 11,
    "start_time": "2022-05-06T12:18:38.781Z"
   },
   {
    "duration": 11,
    "start_time": "2022-05-06T12:18:56.436Z"
   },
   {
    "duration": 11,
    "start_time": "2022-05-06T12:19:06.067Z"
   },
   {
    "duration": 12,
    "start_time": "2022-05-06T12:22:35.951Z"
   },
   {
    "duration": 11,
    "start_time": "2022-05-06T12:24:01.775Z"
   },
   {
    "duration": 6,
    "start_time": "2022-05-06T12:31:32.985Z"
   },
   {
    "duration": 3320,
    "start_time": "2022-05-06T12:31:44.467Z"
   },
   {
    "duration": 12,
    "start_time": "2022-05-06T12:32:33.005Z"
   },
   {
    "duration": 6,
    "start_time": "2022-05-06T12:39:11.784Z"
   },
   {
    "duration": 6,
    "start_time": "2022-05-06T12:39:15.241Z"
   },
   {
    "duration": 5,
    "start_time": "2022-05-06T12:39:28.995Z"
   },
   {
    "duration": 8,
    "start_time": "2022-05-06T12:39:30.114Z"
   },
   {
    "duration": 3556,
    "start_time": "2022-05-06T12:39:30.999Z"
   },
   {
    "duration": 7,
    "start_time": "2022-05-06T12:39:37.588Z"
   },
   {
    "duration": 11,
    "start_time": "2022-05-06T12:39:43.475Z"
   },
   {
    "duration": 9,
    "start_time": "2022-05-06T12:39:51.459Z"
   },
   {
    "duration": 392,
    "start_time": "2022-05-06T12:41:04.528Z"
   },
   {
    "duration": 9,
    "start_time": "2022-05-06T12:41:22.694Z"
   },
   {
    "duration": 10,
    "start_time": "2022-05-06T12:41:57.731Z"
   },
   {
    "duration": 8,
    "start_time": "2022-05-06T12:42:04.649Z"
   },
   {
    "duration": 31,
    "start_time": "2022-05-06T12:46:58.594Z"
   },
   {
    "duration": 9,
    "start_time": "2022-05-06T12:48:42.329Z"
   },
   {
    "duration": 1542,
    "start_time": "2022-05-06T13:14:14.064Z"
   },
   {
    "duration": 20,
    "start_time": "2022-05-06T13:14:15.609Z"
   },
   {
    "duration": 20,
    "start_time": "2022-05-06T13:14:15.631Z"
   },
   {
    "duration": 4,
    "start_time": "2022-05-06T13:14:15.654Z"
   },
   {
    "duration": 35,
    "start_time": "2022-05-06T13:14:15.659Z"
   },
   {
    "duration": 10,
    "start_time": "2022-05-06T13:14:15.697Z"
   },
   {
    "duration": 31,
    "start_time": "2022-05-06T13:14:15.709Z"
   },
   {
    "duration": 7,
    "start_time": "2022-05-06T13:14:15.743Z"
   },
   {
    "duration": 200,
    "start_time": "2022-05-06T13:14:15.752Z"
   },
   {
    "duration": 226,
    "start_time": "2022-05-06T13:14:58.260Z"
   },
   {
    "duration": 18,
    "start_time": "2022-05-06T13:16:49.010Z"
   },
   {
    "duration": 232143,
    "start_time": "2022-05-06T13:23:25.552Z"
   },
   {
    "duration": 6,
    "start_time": "2022-05-06T13:29:17.991Z"
   },
   {
    "duration": 13,
    "start_time": "2022-05-06T13:40:21.832Z"
   },
   {
    "duration": 0,
    "start_time": "2022-05-06T13:40:21.847Z"
   },
   {
    "duration": 0,
    "start_time": "2022-05-06T13:40:21.849Z"
   },
   {
    "duration": 12,
    "start_time": "2022-05-06T13:40:21.851Z"
   },
   {
    "duration": 0,
    "start_time": "2022-05-06T13:40:21.866Z"
   },
   {
    "duration": 0,
    "start_time": "2022-05-06T13:40:21.867Z"
   },
   {
    "duration": 0,
    "start_time": "2022-05-06T13:40:21.869Z"
   },
   {
    "duration": 0,
    "start_time": "2022-05-06T13:40:21.871Z"
   },
   {
    "duration": 25,
    "start_time": "2022-05-06T13:40:21.873Z"
   },
   {
    "duration": 0,
    "start_time": "2022-05-06T13:40:21.900Z"
   },
   {
    "duration": 9,
    "start_time": "2022-05-06T13:40:21.904Z"
   },
   {
    "duration": 14,
    "start_time": "2022-05-06T13:41:05.133Z"
   },
   {
    "duration": 40,
    "start_time": "2022-05-06T13:41:32.076Z"
   },
   {
    "duration": 1547,
    "start_time": "2022-05-06T13:41:39.818Z"
   },
   {
    "duration": 20,
    "start_time": "2022-05-06T13:41:41.368Z"
   },
   {
    "duration": 23,
    "start_time": "2022-05-06T13:41:41.390Z"
   },
   {
    "duration": 4,
    "start_time": "2022-05-06T13:41:41.414Z"
   },
   {
    "duration": 8,
    "start_time": "2022-05-06T13:41:41.421Z"
   },
   {
    "duration": 8,
    "start_time": "2022-05-06T13:41:41.431Z"
   },
   {
    "duration": 63,
    "start_time": "2022-05-06T13:41:41.441Z"
   },
   {
    "duration": 8,
    "start_time": "2022-05-06T13:41:41.507Z"
   },
   {
    "duration": 14,
    "start_time": "2022-05-06T13:41:41.518Z"
   },
   {
    "duration": 206935,
    "start_time": "2022-05-06T13:41:41.534Z"
   },
   {
    "duration": 0,
    "start_time": "2022-05-06T13:45:08.471Z"
   },
   {
    "duration": 0,
    "start_time": "2022-05-06T13:45:08.473Z"
   },
   {
    "duration": 447807,
    "start_time": "2022-05-06T13:46:19.041Z"
   },
   {
    "duration": 0,
    "start_time": "2022-05-06T13:53:46.850Z"
   },
   {
    "duration": 0,
    "start_time": "2022-05-06T13:53:46.851Z"
   },
   {
    "duration": 29,
    "start_time": "2022-05-06T13:55:47.954Z"
   },
   {
    "duration": 18,
    "start_time": "2022-05-06T13:58:00.454Z"
   },
   {
    "duration": 29,
    "start_time": "2022-05-06T14:03:00.343Z"
   },
   {
    "duration": 6,
    "start_time": "2022-05-06T14:04:24.200Z"
   },
   {
    "duration": 32,
    "start_time": "2022-05-06T14:04:43.248Z"
   },
   {
    "duration": 13,
    "start_time": "2022-05-06T14:05:21.653Z"
   },
   {
    "duration": 306,
    "start_time": "2022-05-06T14:05:35.628Z"
   },
   {
    "duration": 21,
    "start_time": "2022-05-06T14:06:25.855Z"
   },
   {
    "duration": 1655,
    "start_time": "2022-05-06T14:10:01.038Z"
   },
   {
    "duration": 21,
    "start_time": "2022-05-06T14:10:02.696Z"
   },
   {
    "duration": 20,
    "start_time": "2022-05-06T14:10:02.719Z"
   },
   {
    "duration": 4,
    "start_time": "2022-05-06T14:10:02.742Z"
   },
   {
    "duration": 48,
    "start_time": "2022-05-06T14:10:02.748Z"
   },
   {
    "duration": 30,
    "start_time": "2022-05-06T14:10:02.798Z"
   },
   {
    "duration": 7,
    "start_time": "2022-05-06T14:10:02.830Z"
   },
   {
    "duration": 10,
    "start_time": "2022-05-06T14:10:02.839Z"
   },
   {
    "duration": 46,
    "start_time": "2022-05-06T14:10:02.851Z"
   },
   {
    "duration": 167,
    "start_time": "2022-05-06T14:10:02.900Z"
   },
   {
    "duration": 0,
    "start_time": "2022-05-06T14:10:03.070Z"
   },
   {
    "duration": 1,
    "start_time": "2022-05-06T14:10:03.071Z"
   },
   {
    "duration": 0,
    "start_time": "2022-05-06T14:10:03.073Z"
   },
   {
    "duration": 0,
    "start_time": "2022-05-06T14:10:03.074Z"
   },
   {
    "duration": 1,
    "start_time": "2022-05-06T14:10:03.075Z"
   },
   {
    "duration": 1594,
    "start_time": "2022-05-06T14:12:31.644Z"
   },
   {
    "duration": 20,
    "start_time": "2022-05-06T14:12:33.240Z"
   },
   {
    "duration": 21,
    "start_time": "2022-05-06T14:12:33.262Z"
   },
   {
    "duration": 8,
    "start_time": "2022-05-06T14:12:33.286Z"
   },
   {
    "duration": 22,
    "start_time": "2022-05-06T14:12:33.296Z"
   },
   {
    "duration": 29,
    "start_time": "2022-05-06T14:12:33.320Z"
   },
   {
    "duration": 7,
    "start_time": "2022-05-06T14:12:33.351Z"
   },
   {
    "duration": 35,
    "start_time": "2022-05-06T14:12:33.360Z"
   },
   {
    "duration": 19,
    "start_time": "2022-05-06T14:12:33.398Z"
   },
   {
    "duration": 4,
    "start_time": "2022-05-06T14:12:33.421Z"
   },
   {
    "duration": 6,
    "start_time": "2022-05-06T14:12:33.428Z"
   },
   {
    "duration": 436598,
    "start_time": "2022-05-06T14:12:33.437Z"
   },
   {
    "duration": 0,
    "start_time": "2022-05-06T14:19:50.038Z"
   },
   {
    "duration": 0,
    "start_time": "2022-05-06T14:19:50.041Z"
   },
   {
    "duration": 0,
    "start_time": "2022-05-06T14:19:50.043Z"
   },
   {
    "duration": 5,
    "start_time": "2022-05-06T19:19:10.220Z"
   },
   {
    "duration": 11,
    "start_time": "2022-05-06T19:19:11.502Z"
   },
   {
    "duration": 19,
    "start_time": "2022-05-06T19:19:27.365Z"
   },
   {
    "duration": 6,
    "start_time": "2022-05-06T19:20:17.759Z"
   },
   {
    "duration": 13,
    "start_time": "2022-05-06T19:22:39.220Z"
   },
   {
    "duration": 25,
    "start_time": "2022-05-06T19:22:54.899Z"
   },
   {
    "duration": 6,
    "start_time": "2022-05-06T19:23:25.662Z"
   },
   {
    "duration": 13,
    "start_time": "2022-05-06T19:23:33.864Z"
   },
   {
    "duration": 30,
    "start_time": "2022-05-06T19:23:34.615Z"
   },
   {
    "duration": 49,
    "start_time": "2022-05-06T19:24:01.499Z"
   },
   {
    "duration": 12,
    "start_time": "2022-05-06T19:24:02.239Z"
   },
   {
    "duration": 18,
    "start_time": "2022-05-06T19:24:05.779Z"
   },
   {
    "duration": 5,
    "start_time": "2022-05-06T19:24:09.456Z"
   },
   {
    "duration": 18,
    "start_time": "2022-05-06T19:24:12.870Z"
   },
   {
    "duration": 6,
    "start_time": "2022-05-06T19:24:19.604Z"
   },
   {
    "duration": 6,
    "start_time": "2022-05-06T19:24:21.747Z"
   },
   {
    "duration": 7,
    "start_time": "2022-05-06T19:24:26.789Z"
   },
   {
    "duration": 3,
    "start_time": "2022-05-06T19:24:30.763Z"
   },
   {
    "duration": 13,
    "start_time": "2022-05-06T19:24:31.795Z"
   },
   {
    "duration": 16,
    "start_time": "2022-05-06T19:26:04.422Z"
   },
   {
    "duration": 6,
    "start_time": "2022-05-06T19:26:56.146Z"
   },
   {
    "duration": 6,
    "start_time": "2022-05-06T19:28:44.156Z"
   },
   {
    "duration": 30,
    "start_time": "2022-05-06T19:28:54.092Z"
   },
   {
    "duration": 16,
    "start_time": "2022-05-06T19:29:35.921Z"
   },
   {
    "duration": 9,
    "start_time": "2022-05-06T19:29:47.279Z"
   },
   {
    "duration": 59,
    "start_time": "2022-05-06T19:30:26.087Z"
   },
   {
    "duration": 16,
    "start_time": "2022-05-06T19:31:04.604Z"
   },
   {
    "duration": 27,
    "start_time": "2022-05-06T19:31:07.458Z"
   },
   {
    "duration": 249,
    "start_time": "2022-05-06T19:31:35.675Z"
   },
   {
    "duration": 7,
    "start_time": "2022-05-06T19:32:03.316Z"
   },
   {
    "duration": 8,
    "start_time": "2022-05-06T19:32:14.031Z"
   },
   {
    "duration": 1561,
    "start_time": "2022-05-06T20:14:30.311Z"
   },
   {
    "duration": 21,
    "start_time": "2022-05-06T20:14:31.874Z"
   },
   {
    "duration": 22,
    "start_time": "2022-05-06T20:14:31.897Z"
   },
   {
    "duration": 4,
    "start_time": "2022-05-06T20:14:31.922Z"
   },
   {
    "duration": 21,
    "start_time": "2022-05-06T20:14:31.928Z"
   },
   {
    "duration": 6,
    "start_time": "2022-05-06T20:14:31.951Z"
   },
   {
    "duration": 35,
    "start_time": "2022-05-06T20:14:31.959Z"
   },
   {
    "duration": 47,
    "start_time": "2022-05-06T20:14:31.996Z"
   },
   {
    "duration": 7,
    "start_time": "2022-05-06T20:14:32.045Z"
   },
   {
    "duration": 40,
    "start_time": "2022-05-06T20:14:32.056Z"
   },
   {
    "duration": 25,
    "start_time": "2022-05-06T20:14:32.098Z"
   },
   {
    "duration": 9,
    "start_time": "2022-05-06T20:14:32.125Z"
   },
   {
    "duration": 10,
    "start_time": "2022-05-06T20:14:32.136Z"
   },
   {
    "duration": 1591,
    "start_time": "2022-05-06T20:16:03.975Z"
   },
   {
    "duration": 20,
    "start_time": "2022-05-06T20:16:05.569Z"
   },
   {
    "duration": 22,
    "start_time": "2022-05-06T20:16:05.591Z"
   },
   {
    "duration": 4,
    "start_time": "2022-05-06T20:16:05.616Z"
   },
   {
    "duration": 19,
    "start_time": "2022-05-06T20:16:05.622Z"
   },
   {
    "duration": 5,
    "start_time": "2022-05-06T20:16:05.644Z"
   },
   {
    "duration": 5,
    "start_time": "2022-05-06T20:16:05.652Z"
   },
   {
    "duration": 38,
    "start_time": "2022-05-06T20:16:05.694Z"
   },
   {
    "duration": 7,
    "start_time": "2022-05-06T20:16:05.734Z"
   },
   {
    "duration": 17,
    "start_time": "2022-05-06T20:16:05.745Z"
   },
   {
    "duration": 50,
    "start_time": "2022-05-06T20:16:05.764Z"
   },
   {
    "duration": 8,
    "start_time": "2022-05-06T20:16:05.816Z"
   },
   {
    "duration": 10,
    "start_time": "2022-05-06T20:16:05.826Z"
   },
   {
    "duration": 1070,
    "start_time": "2022-05-07T05:53:45.059Z"
   },
   {
    "duration": 12,
    "start_time": "2022-05-07T05:53:46.131Z"
   },
   {
    "duration": 15,
    "start_time": "2022-05-07T05:53:46.145Z"
   },
   {
    "duration": 3,
    "start_time": "2022-05-07T05:53:46.162Z"
   },
   {
    "duration": 13,
    "start_time": "2022-05-07T05:53:46.166Z"
   },
   {
    "duration": 3,
    "start_time": "2022-05-07T05:53:46.181Z"
   },
   {
    "duration": 4,
    "start_time": "2022-05-07T05:53:46.185Z"
   },
   {
    "duration": 24,
    "start_time": "2022-05-07T05:53:46.190Z"
   },
   {
    "duration": 4,
    "start_time": "2022-05-07T05:53:46.215Z"
   },
   {
    "duration": 10,
    "start_time": "2022-05-07T05:53:46.247Z"
   },
   {
    "duration": 15,
    "start_time": "2022-05-07T05:53:46.258Z"
   },
   {
    "duration": 2,
    "start_time": "2022-05-07T05:53:46.274Z"
   },
   {
    "duration": 7,
    "start_time": "2022-05-07T05:53:46.277Z"
   },
   {
    "duration": 1054,
    "start_time": "2022-05-07T06:12:48.501Z"
   },
   {
    "duration": 14,
    "start_time": "2022-05-07T06:12:49.557Z"
   },
   {
    "duration": 13,
    "start_time": "2022-05-07T06:12:49.573Z"
   },
   {
    "duration": 3,
    "start_time": "2022-05-07T06:12:49.587Z"
   },
   {
    "duration": 12,
    "start_time": "2022-05-07T06:12:49.592Z"
   },
   {
    "duration": 5,
    "start_time": "2022-05-07T06:12:49.605Z"
   },
   {
    "duration": 6,
    "start_time": "2022-05-07T06:12:49.611Z"
   },
   {
    "duration": 49,
    "start_time": "2022-05-07T06:12:49.618Z"
   },
   {
    "duration": 5,
    "start_time": "2022-05-07T06:12:49.669Z"
   },
   {
    "duration": 15,
    "start_time": "2022-05-07T06:12:49.676Z"
   },
   {
    "duration": 16,
    "start_time": "2022-05-07T06:12:49.692Z"
   },
   {
    "duration": 2,
    "start_time": "2022-05-07T06:12:49.709Z"
   },
   {
    "duration": 7,
    "start_time": "2022-05-07T06:12:49.713Z"
   },
   {
    "duration": 1059,
    "start_time": "2022-05-07T06:14:18.349Z"
   },
   {
    "duration": 13,
    "start_time": "2022-05-07T06:14:19.410Z"
   },
   {
    "duration": 14,
    "start_time": "2022-05-07T06:14:19.425Z"
   },
   {
    "duration": 7,
    "start_time": "2022-05-07T06:14:19.441Z"
   },
   {
    "duration": 13,
    "start_time": "2022-05-07T06:14:19.450Z"
   },
   {
    "duration": 4,
    "start_time": "2022-05-07T06:14:19.465Z"
   },
   {
    "duration": 6,
    "start_time": "2022-05-07T06:14:19.471Z"
   },
   {
    "duration": 25,
    "start_time": "2022-05-07T06:14:19.478Z"
   },
   {
    "duration": 5,
    "start_time": "2022-05-07T06:14:19.505Z"
   },
   {
    "duration": 38,
    "start_time": "2022-05-07T06:14:19.512Z"
   },
   {
    "duration": 15,
    "start_time": "2022-05-07T06:14:19.552Z"
   },
   {
    "duration": 3,
    "start_time": "2022-05-07T06:14:19.569Z"
   },
   {
    "duration": 6,
    "start_time": "2022-05-07T06:14:19.573Z"
   },
   {
    "duration": 1076,
    "start_time": "2022-05-07T06:38:56.703Z"
   },
   {
    "duration": 13,
    "start_time": "2022-05-07T06:38:57.781Z"
   },
   {
    "duration": 14,
    "start_time": "2022-05-07T06:38:57.795Z"
   },
   {
    "duration": 3,
    "start_time": "2022-05-07T06:38:57.810Z"
   },
   {
    "duration": 13,
    "start_time": "2022-05-07T06:38:57.815Z"
   },
   {
    "duration": 20,
    "start_time": "2022-05-07T06:38:57.829Z"
   },
   {
    "duration": 3,
    "start_time": "2022-05-07T06:38:57.851Z"
   },
   {
    "duration": 25,
    "start_time": "2022-05-07T06:38:57.856Z"
   },
   {
    "duration": 6,
    "start_time": "2022-05-07T06:38:57.883Z"
   },
   {
    "duration": 9,
    "start_time": "2022-05-07T06:38:57.892Z"
   },
   {
    "duration": 46,
    "start_time": "2022-05-07T06:38:57.902Z"
   },
   {
    "duration": 2,
    "start_time": "2022-05-07T06:38:57.950Z"
   },
   {
    "duration": 7,
    "start_time": "2022-05-07T06:38:57.953Z"
   },
   {
    "duration": 1198219,
    "start_time": "2022-05-07T06:38:57.961Z"
   },
   {
    "duration": 4,
    "start_time": "2022-05-07T06:58:56.181Z"
   },
   {
    "duration": 42,
    "start_time": "2022-05-07T06:58:56.186Z"
   },
   {
    "duration": 97,
    "start_time": "2022-05-07T06:58:56.230Z"
   },
   {
    "duration": 103,
    "start_time": "2022-05-07T06:58:56.328Z"
   },
   {
    "duration": 0,
    "start_time": "2022-05-07T06:58:56.432Z"
   },
   {
    "duration": 0,
    "start_time": "2022-05-07T06:58:56.433Z"
   },
   {
    "duration": 0,
    "start_time": "2022-05-07T06:58:56.434Z"
   },
   {
    "duration": 0,
    "start_time": "2022-05-07T06:58:56.436Z"
   },
   {
    "duration": 0,
    "start_time": "2022-05-07T06:58:56.437Z"
   },
   {
    "duration": 0,
    "start_time": "2022-05-07T06:58:56.438Z"
   },
   {
    "duration": 0,
    "start_time": "2022-05-07T06:58:56.439Z"
   },
   {
    "duration": 0,
    "start_time": "2022-05-07T06:58:56.440Z"
   },
   {
    "duration": 41,
    "start_time": "2022-05-07T06:59:42.418Z"
   },
   {
    "duration": 85,
    "start_time": "2022-05-07T06:59:57.385Z"
   },
   {
    "duration": 12889,
    "start_time": "2022-05-07T07:00:23.645Z"
   },
   {
    "duration": 4,
    "start_time": "2022-05-07T07:01:00.511Z"
   },
   {
    "duration": 10,
    "start_time": "2022-05-07T07:01:13.522Z"
   },
   {
    "duration": 14,
    "start_time": "2022-05-07T07:01:45.827Z"
   },
   {
    "duration": 8,
    "start_time": "2022-05-07T07:02:47.280Z"
   },
   {
    "duration": 1756456,
    "start_time": "2022-05-07T07:03:05.193Z"
   },
   {
    "duration": 131,
    "start_time": "2022-05-07T07:32:21.652Z"
   },
   {
    "duration": 3,
    "start_time": "2022-05-07T07:32:21.784Z"
   },
   {
    "duration": 10,
    "start_time": "2022-05-07T07:32:21.789Z"
   },
   {
    "duration": 0,
    "start_time": "2022-05-07T07:32:21.800Z"
   },
   {
    "duration": 0,
    "start_time": "2022-05-07T07:32:21.802Z"
   },
   {
    "duration": 0,
    "start_time": "2022-05-07T07:32:21.803Z"
   },
   {
    "duration": 8,
    "start_time": "2022-05-07T07:35:05.834Z"
   },
   {
    "duration": 11,
    "start_time": "2022-05-07T07:35:16.715Z"
   },
   {
    "duration": 81,
    "start_time": "2022-05-07T07:35:25.571Z"
   },
   {
    "duration": 11,
    "start_time": "2022-05-07T07:35:36.066Z"
   },
   {
    "duration": 52,
    "start_time": "2022-05-07T07:35:56.902Z"
   },
   {
    "duration": 29,
    "start_time": "2022-05-07T07:36:08.737Z"
   },
   {
    "duration": 26389,
    "start_time": "2022-05-07T07:36:16.888Z"
   },
   {
    "duration": 13,
    "start_time": "2022-05-07T07:36:43.279Z"
   },
   {
    "duration": 0,
    "start_time": "2022-05-07T07:36:43.294Z"
   },
   {
    "duration": 0,
    "start_time": "2022-05-07T07:36:43.295Z"
   },
   {
    "duration": 1195368,
    "start_time": "2022-05-07T07:38:10.089Z"
   },
   {
    "duration": 3,
    "start_time": "2022-05-07T07:58:05.460Z"
   },
   {
    "duration": 43,
    "start_time": "2022-05-07T07:58:05.465Z"
   },
   {
    "duration": 14,
    "start_time": "2022-05-07T07:59:45.565Z"
   },
   {
    "duration": 14,
    "start_time": "2022-05-07T08:00:00.782Z"
   },
   {
    "duration": 1643217,
    "start_time": "2022-05-07T08:00:04.233Z"
   },
   {
    "duration": 3,
    "start_time": "2022-05-07T08:27:27.452Z"
   },
   {
    "duration": 46,
    "start_time": "2022-05-07T08:27:27.457Z"
   },
   {
    "duration": 16,
    "start_time": "2022-05-07T08:27:27.505Z"
   },
   {
    "duration": 0,
    "start_time": "2022-05-07T08:27:27.548Z"
   },
   {
    "duration": 0,
    "start_time": "2022-05-07T08:27:27.549Z"
   },
   {
    "duration": 0,
    "start_time": "2022-05-07T08:27:27.551Z"
   },
   {
    "duration": 14,
    "start_time": "2022-05-07T08:40:54.400Z"
   },
   {
    "duration": 13,
    "start_time": "2022-05-07T08:41:12.188Z"
   },
   {
    "duration": 1139,
    "start_time": "2022-05-07T08:43:45.129Z"
   },
   {
    "duration": 13,
    "start_time": "2022-05-07T08:43:46.270Z"
   },
   {
    "duration": 15,
    "start_time": "2022-05-07T08:43:46.285Z"
   },
   {
    "duration": 3,
    "start_time": "2022-05-07T08:43:46.301Z"
   },
   {
    "duration": 14,
    "start_time": "2022-05-07T08:43:46.305Z"
   },
   {
    "duration": 4,
    "start_time": "2022-05-07T08:43:46.320Z"
   },
   {
    "duration": 25,
    "start_time": "2022-05-07T08:43:46.325Z"
   },
   {
    "duration": 25,
    "start_time": "2022-05-07T08:43:46.352Z"
   },
   {
    "duration": 4,
    "start_time": "2022-05-07T08:43:46.379Z"
   },
   {
    "duration": 9,
    "start_time": "2022-05-07T08:43:46.385Z"
   },
   {
    "duration": 2,
    "start_time": "2022-05-07T08:43:46.396Z"
   },
   {
    "duration": 7,
    "start_time": "2022-05-07T08:43:46.399Z"
   },
   {
    "duration": 1211543,
    "start_time": "2022-05-07T08:43:46.407Z"
   },
   {
    "duration": 3,
    "start_time": "2022-05-07T09:03:57.953Z"
   },
   {
    "duration": 32,
    "start_time": "2022-05-07T09:03:57.958Z"
   },
   {
    "duration": 105,
    "start_time": "2022-05-07T09:03:57.992Z"
   },
   {
    "duration": 0,
    "start_time": "2022-05-07T09:03:58.099Z"
   },
   {
    "duration": 0,
    "start_time": "2022-05-07T09:03:58.100Z"
   },
   {
    "duration": 0,
    "start_time": "2022-05-07T09:03:58.102Z"
   },
   {
    "duration": 0,
    "start_time": "2022-05-07T09:03:58.104Z"
   },
   {
    "duration": 0,
    "start_time": "2022-05-07T09:03:58.105Z"
   },
   {
    "duration": 0,
    "start_time": "2022-05-07T09:03:58.106Z"
   },
   {
    "duration": 0,
    "start_time": "2022-05-07T09:03:58.107Z"
   },
   {
    "duration": 0,
    "start_time": "2022-05-07T09:03:58.109Z"
   },
   {
    "duration": 0,
    "start_time": "2022-05-07T09:03:58.110Z"
   },
   {
    "duration": 0,
    "start_time": "2022-05-07T09:03:58.111Z"
   },
   {
    "duration": 0,
    "start_time": "2022-05-07T09:03:58.113Z"
   },
   {
    "duration": 0,
    "start_time": "2022-05-07T09:03:58.114Z"
   },
   {
    "duration": 0,
    "start_time": "2022-05-07T09:03:58.115Z"
   },
   {
    "duration": 1,
    "start_time": "2022-05-07T09:03:58.146Z"
   },
   {
    "duration": 0,
    "start_time": "2022-05-07T09:03:58.148Z"
   },
   {
    "duration": 0,
    "start_time": "2022-05-07T09:03:58.150Z"
   },
   {
    "duration": 0,
    "start_time": "2022-05-07T09:03:58.151Z"
   },
   {
    "duration": 0,
    "start_time": "2022-05-07T09:03:58.153Z"
   },
   {
    "duration": 0,
    "start_time": "2022-05-07T09:03:58.154Z"
   },
   {
    "duration": 0,
    "start_time": "2022-05-07T09:03:58.155Z"
   },
   {
    "duration": 0,
    "start_time": "2022-05-07T09:03:58.156Z"
   },
   {
    "duration": 0,
    "start_time": "2022-05-07T09:03:58.158Z"
   },
   {
    "duration": 58,
    "start_time": "2022-05-07T09:14:33.755Z"
   },
   {
    "duration": 12835,
    "start_time": "2022-05-07T09:14:34.767Z"
   },
   {
    "duration": 3,
    "start_time": "2022-05-07T09:14:47.604Z"
   },
   {
    "duration": 11,
    "start_time": "2022-05-07T09:14:47.609Z"
   },
   {
    "duration": 34,
    "start_time": "2022-05-07T09:14:47.622Z"
   },
   {
    "duration": 2357504,
    "start_time": "2022-05-07T09:14:47.658Z"
   },
   {
    "duration": 90,
    "start_time": "2022-05-07T09:54:05.168Z"
   },
   {
    "duration": 89,
    "start_time": "2022-05-07T09:54:05.262Z"
   },
   {
    "duration": 117,
    "start_time": "2022-05-07T09:54:05.353Z"
   },
   {
    "duration": 27489,
    "start_time": "2022-05-07T09:54:05.551Z"
   },
   {
    "duration": 1263036,
    "start_time": "2022-05-07T09:54:33.047Z"
   },
   {
    "duration": 4,
    "start_time": "2022-05-07T10:15:36.085Z"
   },
   {
    "duration": 58,
    "start_time": "2022-05-07T10:15:36.091Z"
   },
   {
    "duration": 17,
    "start_time": "2022-05-07T10:15:36.150Z"
   },
   {
    "duration": 1142,
    "start_time": "2022-05-07T13:51:13.854Z"
   },
   {
    "duration": 14,
    "start_time": "2022-05-07T13:51:14.998Z"
   },
   {
    "duration": 19,
    "start_time": "2022-05-07T13:51:15.014Z"
   },
   {
    "duration": 3,
    "start_time": "2022-05-07T13:51:15.035Z"
   },
   {
    "duration": 18,
    "start_time": "2022-05-07T13:51:15.041Z"
   },
   {
    "duration": 4,
    "start_time": "2022-05-07T13:51:15.061Z"
   },
   {
    "duration": 4,
    "start_time": "2022-05-07T13:51:15.066Z"
   },
   {
    "duration": 25,
    "start_time": "2022-05-07T13:51:15.072Z"
   },
   {
    "duration": 5,
    "start_time": "2022-05-07T13:51:15.099Z"
   },
   {
    "duration": 42,
    "start_time": "2022-05-07T13:51:15.106Z"
   },
   {
    "duration": 3,
    "start_time": "2022-05-07T13:51:15.150Z"
   },
   {
    "duration": 8,
    "start_time": "2022-05-07T13:51:15.155Z"
   },
   {
    "duration": 1263971,
    "start_time": "2022-05-07T13:51:15.165Z"
   },
   {
    "duration": 4,
    "start_time": "2022-05-07T14:12:19.146Z"
   },
   {
    "duration": 40,
    "start_time": "2022-05-07T14:12:19.152Z"
   },
   {
    "duration": 91,
    "start_time": "2022-05-07T14:12:19.194Z"
   },
   {
    "duration": 13531,
    "start_time": "2022-05-07T14:12:19.286Z"
   },
   {
    "duration": 3,
    "start_time": "2022-05-07T14:12:32.819Z"
   },
   {
    "duration": 24,
    "start_time": "2022-05-07T14:12:32.824Z"
   },
   {
    "duration": 15,
    "start_time": "2022-05-07T14:12:32.850Z"
   },
   {
    "duration": 1674981,
    "start_time": "2022-05-07T14:12:32.867Z"
   },
   {
    "duration": 97,
    "start_time": "2022-05-07T14:40:27.851Z"
   },
   {
    "duration": 16,
    "start_time": "2022-05-07T14:40:27.949Z"
   },
   {
    "duration": 107,
    "start_time": "2022-05-07T14:40:28.049Z"
   },
   {
    "duration": 26523,
    "start_time": "2022-05-07T14:40:28.158Z"
   },
   {
    "duration": 1295603,
    "start_time": "2022-05-07T14:40:54.683Z"
   },
   {
    "duration": 3,
    "start_time": "2022-05-07T15:02:30.287Z"
   },
   {
    "duration": 57,
    "start_time": "2022-05-07T15:02:30.292Z"
   },
   {
    "duration": 16,
    "start_time": "2022-05-07T15:02:30.352Z"
   },
   {
    "duration": 1700148,
    "start_time": "2022-05-07T15:02:30.370Z"
   },
   {
    "duration": 3,
    "start_time": "2022-05-07T15:30:50.520Z"
   },
   {
    "duration": 57,
    "start_time": "2022-05-07T15:30:50.525Z"
   },
   {
    "duration": 12,
    "start_time": "2022-05-07T15:30:50.584Z"
   },
   {
    "duration": 905185,
    "start_time": "2022-05-07T15:30:50.597Z"
   },
   {
    "duration": 41,
    "start_time": "2022-05-07T15:45:55.785Z"
   },
   {
    "duration": 65,
    "start_time": "2022-05-07T15:45:55.828Z"
   },
   {
    "duration": 3,
    "start_time": "2022-05-07T15:45:55.895Z"
   },
   {
    "duration": 118,
    "start_time": "2022-05-07T15:45:55.899Z"
   },
   {
    "duration": 0,
    "start_time": "2022-05-07T15:45:56.020Z"
   },
   {
    "duration": 28,
    "start_time": "2022-05-07T15:51:19.870Z"
   },
   {
    "duration": 9,
    "start_time": "2022-05-07T15:51:28.535Z"
   },
   {
    "duration": 39,
    "start_time": "2022-05-07T15:51:57.671Z"
   },
   {
    "duration": 2,
    "start_time": "2022-05-07T15:51:58.445Z"
   },
   {
    "duration": 11,
    "start_time": "2022-05-07T15:51:59.495Z"
   },
   {
    "duration": 111,
    "start_time": "2022-05-07T15:52:18.325Z"
   },
   {
    "duration": 10,
    "start_time": "2022-05-07T15:52:26.321Z"
   },
   {
    "duration": 1179,
    "start_time": "2022-05-07T15:53:17.336Z"
   },
   {
    "duration": 14,
    "start_time": "2022-05-07T15:53:18.517Z"
   },
   {
    "duration": 26,
    "start_time": "2022-05-07T15:53:18.533Z"
   },
   {
    "duration": 6,
    "start_time": "2022-05-07T15:53:18.562Z"
   },
   {
    "duration": 13,
    "start_time": "2022-05-07T15:53:18.570Z"
   },
   {
    "duration": 4,
    "start_time": "2022-05-07T15:53:18.585Z"
   },
   {
    "duration": 9,
    "start_time": "2022-05-07T15:53:18.590Z"
   },
   {
    "duration": 26,
    "start_time": "2022-05-07T15:53:18.600Z"
   },
   {
    "duration": 12,
    "start_time": "2022-05-07T15:53:18.649Z"
   },
   {
    "duration": 12,
    "start_time": "2022-05-07T15:53:18.663Z"
   },
   {
    "duration": 2,
    "start_time": "2022-05-07T15:53:18.677Z"
   },
   {
    "duration": 6,
    "start_time": "2022-05-07T15:53:18.681Z"
   },
   {
    "duration": 1155,
    "start_time": "2022-05-07T15:54:37.365Z"
   },
   {
    "duration": 14,
    "start_time": "2022-05-07T15:54:38.522Z"
   },
   {
    "duration": 25,
    "start_time": "2022-05-07T15:54:38.537Z"
   },
   {
    "duration": 3,
    "start_time": "2022-05-07T15:54:38.565Z"
   },
   {
    "duration": 14,
    "start_time": "2022-05-07T15:54:38.570Z"
   },
   {
    "duration": 4,
    "start_time": "2022-05-07T15:54:38.585Z"
   },
   {
    "duration": 7,
    "start_time": "2022-05-07T15:54:38.591Z"
   },
   {
    "duration": 24,
    "start_time": "2022-05-07T15:54:38.599Z"
   },
   {
    "duration": 5,
    "start_time": "2022-05-07T15:54:38.624Z"
   },
   {
    "duration": 16,
    "start_time": "2022-05-07T15:54:38.650Z"
   },
   {
    "duration": 2,
    "start_time": "2022-05-07T15:54:38.668Z"
   },
   {
    "duration": 6,
    "start_time": "2022-05-07T15:54:38.672Z"
   },
   {
    "duration": 1212,
    "start_time": "2022-05-07T15:56:08.761Z"
   },
   {
    "duration": 13,
    "start_time": "2022-05-07T15:56:09.975Z"
   },
   {
    "duration": 15,
    "start_time": "2022-05-07T15:56:09.990Z"
   },
   {
    "duration": 3,
    "start_time": "2022-05-07T15:56:10.007Z"
   },
   {
    "duration": 16,
    "start_time": "2022-05-07T15:56:10.011Z"
   },
   {
    "duration": 4,
    "start_time": "2022-05-07T15:56:10.029Z"
   },
   {
    "duration": 11,
    "start_time": "2022-05-07T15:56:10.047Z"
   },
   {
    "duration": 27,
    "start_time": "2022-05-07T15:56:10.061Z"
   },
   {
    "duration": 5,
    "start_time": "2022-05-07T15:56:10.090Z"
   },
   {
    "duration": 10,
    "start_time": "2022-05-07T15:56:10.097Z"
   },
   {
    "duration": 2,
    "start_time": "2022-05-07T15:56:10.109Z"
   },
   {
    "duration": 8,
    "start_time": "2022-05-07T15:56:10.113Z"
   },
   {
    "duration": 1265779,
    "start_time": "2022-05-07T15:56:10.122Z"
   },
   {
    "duration": 2,
    "start_time": "2022-05-07T16:17:15.902Z"
   },
   {
    "duration": 6,
    "start_time": "2022-05-07T16:17:15.905Z"
   },
   {
    "duration": 51,
    "start_time": "2022-05-07T16:17:15.913Z"
   },
   {
    "duration": 36,
    "start_time": "2022-05-07T16:17:15.965Z"
   },
   {
    "duration": 13503,
    "start_time": "2022-05-07T16:17:16.003Z"
   },
   {
    "duration": 3,
    "start_time": "2022-05-07T16:17:29.508Z"
   },
   {
    "duration": 14,
    "start_time": "2022-05-07T16:17:29.513Z"
   },
   {
    "duration": 32,
    "start_time": "2022-05-07T16:17:29.529Z"
   },
   {
    "duration": 2803606,
    "start_time": "2022-05-07T16:17:29.563Z"
   },
   {
    "duration": 4,
    "start_time": "2022-05-07T17:04:13.171Z"
   },
   {
    "duration": 113,
    "start_time": "2022-05-07T17:04:13.257Z"
   },
   {
    "duration": 184,
    "start_time": "2022-05-07T17:04:13.372Z"
   },
   {
    "duration": 28927,
    "start_time": "2022-05-07T17:04:13.558Z"
   },
   {
    "duration": 44,
    "start_time": "2022-05-07T17:04:42.486Z"
   },
   {
    "duration": 59,
    "start_time": "2022-05-07T17:04:42.550Z"
   },
   {
    "duration": 455,
    "start_time": "2022-05-07T17:04:42.611Z"
   },
   {
    "duration": 3,
    "start_time": "2022-05-07T17:04:43.067Z"
   },
   {
    "duration": 43,
    "start_time": "2022-05-07T17:04:43.071Z"
   },
   {
    "duration": 51,
    "start_time": "2022-05-07T17:04:43.116Z"
   },
   {
    "duration": 14,
    "start_time": "2022-05-07T17:04:43.169Z"
   },
   {
    "duration": 636,
    "start_time": "2022-05-07T17:04:43.185Z"
   },
   {
    "duration": 2,
    "start_time": "2022-05-07T17:04:43.823Z"
   },
   {
    "duration": 54,
    "start_time": "2022-05-07T17:04:43.827Z"
   },
   {
    "duration": 104,
    "start_time": "2022-05-07T17:04:43.883Z"
   },
   {
    "duration": 0,
    "start_time": "2022-05-07T17:04:43.989Z"
   },
   {
    "duration": 0,
    "start_time": "2022-05-07T17:04:43.991Z"
   },
   {
    "duration": 0,
    "start_time": "2022-05-07T17:04:43.992Z"
   },
   {
    "duration": 0,
    "start_time": "2022-05-07T17:04:43.994Z"
   },
   {
    "duration": 0,
    "start_time": "2022-05-07T17:04:43.995Z"
   },
   {
    "duration": 0,
    "start_time": "2022-05-07T17:04:43.996Z"
   },
   {
    "duration": 0,
    "start_time": "2022-05-07T17:04:43.997Z"
   },
   {
    "duration": 0,
    "start_time": "2022-05-07T17:04:43.998Z"
   },
   {
    "duration": 0,
    "start_time": "2022-05-07T17:04:43.999Z"
   },
   {
    "duration": 0,
    "start_time": "2022-05-07T17:04:44.000Z"
   },
   {
    "duration": 54,
    "start_time": "2022-05-07T17:37:03.406Z"
   },
   {
    "duration": 14,
    "start_time": "2022-05-07T17:37:14.595Z"
   },
   {
    "duration": 387,
    "start_time": "2022-05-07T17:37:15.761Z"
   },
   {
    "duration": 3,
    "start_time": "2022-05-07T17:37:19.136Z"
   },
   {
    "duration": 44,
    "start_time": "2022-05-07T17:37:20.324Z"
   },
   {
    "duration": 37,
    "start_time": "2022-05-07T17:37:24.507Z"
   },
   {
    "duration": 34,
    "start_time": "2022-05-07T17:37:28.975Z"
   },
   {
    "duration": 38,
    "start_time": "2022-05-07T17:39:00.435Z"
   },
   {
    "duration": 9,
    "start_time": "2022-05-07T17:39:48.563Z"
   },
   {
    "duration": 3,
    "start_time": "2022-05-07T17:40:03.263Z"
   },
   {
    "duration": 6,
    "start_time": "2022-05-07T17:40:05.318Z"
   },
   {
    "duration": 10,
    "start_time": "2022-05-07T17:40:11.573Z"
   },
   {
    "duration": 559,
    "start_time": "2022-05-07T17:41:23.335Z"
   },
   {
    "duration": 144,
    "start_time": "2022-05-07T17:41:30.170Z"
   },
   {
    "duration": 13,
    "start_time": "2022-05-07T17:42:21.891Z"
   },
   {
    "duration": 10,
    "start_time": "2022-05-07T17:42:58.108Z"
   },
   {
    "duration": 10,
    "start_time": "2022-05-07T17:45:37.105Z"
   },
   {
    "duration": 76,
    "start_time": "2022-05-07T17:46:38.743Z"
   },
   {
    "duration": 10,
    "start_time": "2022-05-07T17:46:44.188Z"
   },
   {
    "duration": 71,
    "start_time": "2022-05-07T17:47:05.080Z"
   },
   {
    "duration": 4,
    "start_time": "2022-05-07T17:47:06.293Z"
   },
   {
    "duration": 6,
    "start_time": "2022-05-07T17:47:07.772Z"
   },
   {
    "duration": 157,
    "start_time": "2022-05-07T17:48:09.121Z"
   },
   {
    "duration": 117,
    "start_time": "2022-05-07T17:48:53.449Z"
   },
   {
    "duration": 10,
    "start_time": "2022-05-07T17:50:04.335Z"
   },
   {
    "duration": 11,
    "start_time": "2022-05-07T17:52:40.985Z"
   },
   {
    "duration": 190,
    "start_time": "2022-05-07T17:53:46.181Z"
   },
   {
    "duration": 104,
    "start_time": "2022-05-07T17:53:56.516Z"
   },
   {
    "duration": 250,
    "start_time": "2022-05-07T17:54:53.775Z"
   },
   {
    "duration": 129,
    "start_time": "2022-05-07T17:55:47.834Z"
   },
   {
    "duration": 268,
    "start_time": "2022-05-07T17:56:07.039Z"
   },
   {
    "duration": 114,
    "start_time": "2022-05-07T17:56:42.044Z"
   },
   {
    "duration": 211,
    "start_time": "2022-05-07T17:58:09.875Z"
   },
   {
    "duration": 6,
    "start_time": "2022-05-07T18:08:32.551Z"
   },
   {
    "duration": 6,
    "start_time": "2022-05-07T18:08:50.927Z"
   },
   {
    "duration": 6,
    "start_time": "2022-05-07T18:09:28.277Z"
   },
   {
    "duration": 105,
    "start_time": "2022-05-07T18:10:50.866Z"
   },
   {
    "duration": 7,
    "start_time": "2022-05-07T18:11:10.891Z"
   },
   {
    "duration": 12,
    "start_time": "2022-05-07T18:11:43.085Z"
   },
   {
    "duration": 13,
    "start_time": "2022-05-07T18:12:00.301Z"
   },
   {
    "duration": 6,
    "start_time": "2022-05-07T18:12:58.185Z"
   },
   {
    "duration": 11,
    "start_time": "2022-05-07T18:13:14.493Z"
   },
   {
    "duration": 11,
    "start_time": "2022-05-07T18:14:09.116Z"
   },
   {
    "duration": 69,
    "start_time": "2022-05-07T18:16:03.767Z"
   },
   {
    "duration": 70,
    "start_time": "2022-05-07T18:16:20.570Z"
   },
   {
    "duration": 11,
    "start_time": "2022-05-07T18:16:48.181Z"
   },
   {
    "duration": 10,
    "start_time": "2022-05-07T18:17:09.681Z"
   },
   {
    "duration": 5,
    "start_time": "2022-05-07T18:17:19.865Z"
   },
   {
    "duration": 5,
    "start_time": "2022-05-07T18:17:48.368Z"
   },
   {
    "duration": 12,
    "start_time": "2022-05-07T18:19:24.114Z"
   },
   {
    "duration": 30,
    "start_time": "2022-05-07T18:19:32.804Z"
   },
   {
    "duration": 12,
    "start_time": "2022-05-07T18:19:39.526Z"
   },
   {
    "duration": 9,
    "start_time": "2022-05-07T18:19:58.529Z"
   },
   {
    "duration": 9,
    "start_time": "2022-05-07T18:20:15.365Z"
   },
   {
    "duration": 76,
    "start_time": "2022-05-07T18:20:41.102Z"
   },
   {
    "duration": 91,
    "start_time": "2022-05-07T18:21:23.320Z"
   },
   {
    "duration": 93,
    "start_time": "2022-05-07T18:22:31.987Z"
   },
   {
    "duration": 4,
    "start_time": "2022-05-07T18:22:34.158Z"
   },
   {
    "duration": 67,
    "start_time": "2022-05-07T18:22:42.045Z"
   },
   {
    "duration": 2,
    "start_time": "2022-05-07T18:22:43.001Z"
   },
   {
    "duration": 5,
    "start_time": "2022-05-07T18:22:44.137Z"
   },
   {
    "duration": 111,
    "start_time": "2022-05-07T18:22:46.872Z"
   },
   {
    "duration": 270,
    "start_time": "2022-05-07T18:23:02.848Z"
   },
   {
    "duration": 5,
    "start_time": "2022-05-07T18:23:11.221Z"
   },
   {
    "duration": 12,
    "start_time": "2022-05-07T18:23:34.725Z"
   },
   {
    "duration": 79,
    "start_time": "2022-05-07T18:25:07.729Z"
   },
   {
    "duration": 5,
    "start_time": "2022-05-07T18:25:48.555Z"
   },
   {
    "duration": 10,
    "start_time": "2022-05-07T18:32:10.608Z"
   },
   {
    "duration": 10,
    "start_time": "2022-05-07T18:32:28.825Z"
   },
   {
    "duration": 9,
    "start_time": "2022-05-07T18:32:43.262Z"
   },
   {
    "duration": 15,
    "start_time": "2022-05-07T18:32:59.049Z"
   },
   {
    "duration": 9,
    "start_time": "2022-05-07T18:33:47.362Z"
   },
   {
    "duration": 5,
    "start_time": "2022-05-07T18:34:38.948Z"
   },
   {
    "duration": 11,
    "start_time": "2022-05-07T18:34:52.836Z"
   },
   {
    "duration": 3,
    "start_time": "2022-05-07T18:35:08.274Z"
   },
   {
    "duration": 5,
    "start_time": "2022-05-07T18:35:32.087Z"
   },
   {
    "duration": 7,
    "start_time": "2022-05-07T18:35:34.523Z"
   },
   {
    "duration": 9,
    "start_time": "2022-05-07T18:35:40.975Z"
   },
   {
    "duration": 67,
    "start_time": "2022-05-07T18:36:44.116Z"
   },
   {
    "duration": 79,
    "start_time": "2022-05-07T18:36:52.031Z"
   },
   {
    "duration": 108,
    "start_time": "2022-05-07T18:49:23.536Z"
   },
   {
    "duration": 103,
    "start_time": "2022-05-07T18:49:33.203Z"
   },
   {
    "duration": 103,
    "start_time": "2022-05-07T18:49:39.860Z"
   },
   {
    "duration": 104,
    "start_time": "2022-05-07T18:49:47.013Z"
   },
   {
    "duration": 10,
    "start_time": "2022-05-07T18:49:55.969Z"
   },
   {
    "duration": 102,
    "start_time": "2022-05-07T18:50:29.011Z"
   },
   {
    "duration": 10,
    "start_time": "2022-05-07T18:50:42.337Z"
   },
   {
    "duration": 9,
    "start_time": "2022-05-07T18:59:09.032Z"
   },
   {
    "duration": 86,
    "start_time": "2022-05-07T18:59:55.602Z"
   },
   {
    "duration": 51,
    "start_time": "2022-05-07T19:00:58.865Z"
   },
   {
    "duration": 39,
    "start_time": "2022-05-07T19:02:28.956Z"
   },
   {
    "duration": 1382,
    "start_time": "2022-05-07T19:02:49.892Z"
   },
   {
    "duration": 9,
    "start_time": "2022-05-07T19:02:51.276Z"
   },
   {
    "duration": 19,
    "start_time": "2022-05-07T19:02:51.286Z"
   },
   {
    "duration": 3,
    "start_time": "2022-05-07T19:02:51.307Z"
   },
   {
    "duration": 14,
    "start_time": "2022-05-07T19:02:51.311Z"
   },
   {
    "duration": 21,
    "start_time": "2022-05-07T19:02:51.326Z"
   },
   {
    "duration": 4,
    "start_time": "2022-05-07T19:02:51.349Z"
   },
   {
    "duration": 29,
    "start_time": "2022-05-07T19:02:51.355Z"
   },
   {
    "duration": 5,
    "start_time": "2022-05-07T19:02:51.385Z"
   },
   {
    "duration": 10,
    "start_time": "2022-05-07T19:02:51.393Z"
   },
   {
    "duration": 2,
    "start_time": "2022-05-07T19:02:51.404Z"
   },
   {
    "duration": 6,
    "start_time": "2022-05-07T19:02:51.408Z"
   },
   {
    "duration": 1304614,
    "start_time": "2022-05-07T19:02:51.416Z"
   },
   {
    "duration": 4,
    "start_time": "2022-05-07T19:24:36.032Z"
   },
   {
    "duration": 4,
    "start_time": "2022-05-07T19:24:36.048Z"
   },
   {
    "duration": 39,
    "start_time": "2022-05-07T19:24:36.053Z"
   },
   {
    "duration": 21,
    "start_time": "2022-05-07T19:24:36.094Z"
   },
   {
    "duration": 13210,
    "start_time": "2022-05-07T19:24:36.116Z"
   },
   {
    "duration": 4,
    "start_time": "2022-05-07T19:24:49.328Z"
   },
   {
    "duration": 20,
    "start_time": "2022-05-07T19:24:49.333Z"
   },
   {
    "duration": 7,
    "start_time": "2022-05-07T19:24:49.355Z"
   },
   {
    "duration": 555186,
    "start_time": "2022-05-07T19:24:49.363Z"
   },
   {
    "duration": 5,
    "start_time": "2022-05-07T19:34:04.551Z"
   },
   {
    "duration": 99,
    "start_time": "2022-05-07T19:34:04.559Z"
   },
   {
    "duration": 93,
    "start_time": "2022-05-07T19:34:04.660Z"
   },
   {
    "duration": 27118,
    "start_time": "2022-05-07T19:34:04.755Z"
   },
   {
    "duration": 46,
    "start_time": "2022-05-07T19:34:31.875Z"
   },
   {
    "duration": 70,
    "start_time": "2022-05-07T19:34:31.925Z"
   },
   {
    "duration": 199,
    "start_time": "2022-05-07T19:34:31.997Z"
   },
   {
    "duration": 3,
    "start_time": "2022-05-07T19:34:32.198Z"
   },
   {
    "duration": 29,
    "start_time": "2022-05-07T19:34:32.202Z"
   },
   {
    "duration": 35,
    "start_time": "2022-05-07T19:34:32.232Z"
   },
   {
    "duration": 18,
    "start_time": "2022-05-07T19:34:32.269Z"
   },
   {
    "duration": 294,
    "start_time": "2022-05-07T19:34:32.289Z"
   },
   {
    "duration": 2,
    "start_time": "2022-05-07T19:34:32.585Z"
   },
   {
    "duration": 26,
    "start_time": "2022-05-07T19:34:32.589Z"
   },
   {
    "duration": 43,
    "start_time": "2022-05-07T19:34:32.617Z"
   },
   {
    "duration": 17,
    "start_time": "2022-05-07T19:34:32.662Z"
   },
   {
    "duration": 189,
    "start_time": "2022-05-07T19:34:32.682Z"
   },
   {
    "duration": 3,
    "start_time": "2022-05-07T19:34:32.873Z"
   },
   {
    "duration": 24,
    "start_time": "2022-05-07T19:34:32.878Z"
   },
   {
    "duration": 21,
    "start_time": "2022-05-07T19:34:32.904Z"
   },
   {
    "duration": 37,
    "start_time": "2022-05-07T19:34:32.947Z"
   },
   {
    "duration": 2,
    "start_time": "2022-05-07T19:34:32.986Z"
   },
   {
    "duration": 11,
    "start_time": "2022-05-07T19:34:32.990Z"
   },
   {
    "duration": 223,
    "start_time": "2022-05-07T19:34:33.003Z"
   },
   {
    "duration": 23,
    "start_time": "2022-05-07T19:34:33.228Z"
   },
   {
    "duration": 8,
    "start_time": "2022-05-07T19:34:33.253Z"
   },
   {
    "duration": 112,
    "start_time": "2022-05-07T19:34:33.263Z"
   },
   {
    "duration": 9,
    "start_time": "2022-05-07T19:38:03.941Z"
   },
   {
    "duration": 29,
    "start_time": "2022-05-07T19:41:13.975Z"
   },
   {
    "duration": 25,
    "start_time": "2022-05-07T19:41:24.672Z"
   },
   {
    "duration": 24,
    "start_time": "2022-05-07T19:41:32.089Z"
   },
   {
    "duration": 23,
    "start_time": "2022-05-07T19:44:22.545Z"
   },
   {
    "duration": 2381,
    "start_time": "2022-05-07T19:57:10.530Z"
   },
   {
    "duration": 14,
    "start_time": "2022-05-07T19:57:12.914Z"
   },
   {
    "duration": 28,
    "start_time": "2022-05-07T19:57:12.930Z"
   },
   {
    "duration": 3,
    "start_time": "2022-05-07T19:57:12.961Z"
   },
   {
    "duration": 13,
    "start_time": "2022-05-07T19:57:12.966Z"
   },
   {
    "duration": 5,
    "start_time": "2022-05-07T19:57:12.981Z"
   },
   {
    "duration": 4,
    "start_time": "2022-05-07T19:57:12.988Z"
   },
   {
    "duration": 25,
    "start_time": "2022-05-07T19:57:12.994Z"
   },
   {
    "duration": 5,
    "start_time": "2022-05-07T19:57:13.048Z"
   },
   {
    "duration": 11,
    "start_time": "2022-05-07T19:57:13.056Z"
   },
   {
    "duration": 3,
    "start_time": "2022-05-07T19:57:13.069Z"
   },
   {
    "duration": 12,
    "start_time": "2022-05-07T19:57:13.074Z"
   },
   {
    "duration": 1589,
    "start_time": "2022-05-07T20:08:28.701Z"
   },
   {
    "duration": 13,
    "start_time": "2022-05-07T20:08:30.293Z"
   },
   {
    "duration": 24,
    "start_time": "2022-05-07T20:08:30.308Z"
   },
   {
    "duration": 4,
    "start_time": "2022-05-07T20:08:30.335Z"
   },
   {
    "duration": 18,
    "start_time": "2022-05-07T20:08:30.347Z"
   },
   {
    "duration": 5,
    "start_time": "2022-05-07T20:08:30.366Z"
   },
   {
    "duration": 8,
    "start_time": "2022-05-07T20:08:30.373Z"
   },
   {
    "duration": 49,
    "start_time": "2022-05-07T20:08:30.383Z"
   },
   {
    "duration": 18,
    "start_time": "2022-05-07T20:08:30.434Z"
   },
   {
    "duration": 27,
    "start_time": "2022-05-07T20:08:30.457Z"
   },
   {
    "duration": 4,
    "start_time": "2022-05-07T20:08:30.486Z"
   },
   {
    "duration": 38,
    "start_time": "2022-05-07T20:08:30.492Z"
   },
   {
    "duration": 1357549,
    "start_time": "2022-05-07T20:08:30.532Z"
   },
   {
    "duration": 5,
    "start_time": "2022-05-07T20:31:08.083Z"
   },
   {
    "duration": 64,
    "start_time": "2022-05-07T20:31:08.090Z"
   },
   {
    "duration": 112,
    "start_time": "2022-05-07T20:31:08.157Z"
   },
   {
    "duration": 102,
    "start_time": "2022-05-07T20:31:08.271Z"
   },
   {
    "duration": 32674,
    "start_time": "2022-05-07T20:31:08.375Z"
   },
   {
    "duration": 6,
    "start_time": "2022-05-07T20:31:41.050Z"
   },
   {
    "duration": 18,
    "start_time": "2022-05-07T20:31:41.058Z"
   },
   {
    "duration": 8,
    "start_time": "2022-05-07T20:31:41.081Z"
   },
   {
    "duration": 1581308,
    "start_time": "2022-05-07T20:31:41.147Z"
   },
   {
    "duration": 89,
    "start_time": "2022-05-07T20:58:02.461Z"
   },
   {
    "duration": 100,
    "start_time": "2022-05-07T20:58:02.552Z"
   },
   {
    "duration": 123,
    "start_time": "2022-05-07T20:58:02.654Z"
   },
   {
    "duration": 67296,
    "start_time": "2022-05-07T20:58:02.778Z"
   },
   {
    "duration": 99,
    "start_time": "2022-05-07T20:59:10.076Z"
   },
   {
    "duration": 96,
    "start_time": "2022-05-07T20:59:10.179Z"
   },
   {
    "duration": 1297,
    "start_time": "2022-05-07T20:59:10.277Z"
   },
   {
    "duration": 2,
    "start_time": "2022-05-07T20:59:11.576Z"
   },
   {
    "duration": 103,
    "start_time": "2022-05-07T20:59:11.580Z"
   },
   {
    "duration": 94,
    "start_time": "2022-05-07T20:59:11.686Z"
   },
   {
    "duration": 71,
    "start_time": "2022-05-07T20:59:11.782Z"
   },
   {
    "duration": 1702,
    "start_time": "2022-05-07T20:59:11.866Z"
   },
   {
    "duration": 3,
    "start_time": "2022-05-07T20:59:13.569Z"
   },
   {
    "duration": 110,
    "start_time": "2022-05-07T20:59:13.574Z"
   },
   {
    "duration": 100,
    "start_time": "2022-05-07T20:59:13.686Z"
   },
   {
    "duration": 70,
    "start_time": "2022-05-07T20:59:13.788Z"
   },
   {
    "duration": 693,
    "start_time": "2022-05-07T20:59:13.859Z"
   },
   {
    "duration": 2,
    "start_time": "2022-05-07T20:59:14.555Z"
   },
   {
    "duration": 96,
    "start_time": "2022-05-07T20:59:14.559Z"
   },
   {
    "duration": 96,
    "start_time": "2022-05-07T20:59:14.658Z"
   },
   {
    "duration": 1108,
    "start_time": "2022-05-07T20:59:14.755Z"
   },
   {
    "duration": 5,
    "start_time": "2022-05-07T20:59:15.865Z"
   },
   {
    "duration": 6,
    "start_time": "2022-05-07T20:59:15.872Z"
   },
   {
    "duration": 395,
    "start_time": "2022-05-07T20:59:15.879Z"
   },
   {
    "duration": 2,
    "start_time": "2022-05-07T20:59:16.276Z"
   },
   {
    "duration": 105,
    "start_time": "2022-05-07T20:59:16.280Z"
   },
   {
    "duration": 100,
    "start_time": "2022-05-07T20:59:16.387Z"
   },
   {
    "duration": 96,
    "start_time": "2022-05-07T20:59:16.488Z"
   },
   {
    "duration": 93,
    "start_time": "2022-05-07T20:59:16.586Z"
   },
   {
    "duration": 99,
    "start_time": "2022-05-07T20:59:16.681Z"
   },
   {
    "duration": 94,
    "start_time": "2022-05-07T20:59:16.782Z"
   },
   {
    "duration": 290,
    "start_time": "2022-05-07T21:05:27.795Z"
   },
   {
    "duration": 1037,
    "start_time": "2022-05-07T21:06:59.948Z"
   },
   {
    "duration": 1085,
    "start_time": "2022-05-07T21:07:15.002Z"
   },
   {
    "duration": 89,
    "start_time": "2022-05-07T21:12:20.402Z"
   },
   {
    "duration": 91,
    "start_time": "2022-05-07T21:12:42.583Z"
   },
   {
    "duration": 127,
    "start_time": "2022-05-07T21:13:27.925Z"
   },
   {
    "duration": 30,
    "start_time": "2022-05-07T21:14:48.128Z"
   },
   {
    "duration": 13,
    "start_time": "2022-05-07T21:15:10.100Z"
   },
   {
    "duration": 1434,
    "start_time": "2022-05-07T21:18:46.915Z"
   },
   {
    "duration": 5244,
    "start_time": "2022-05-08T05:40:08.180Z"
   },
   {
    "duration": 72,
    "start_time": "2022-05-08T05:40:13.428Z"
   },
   {
    "duration": 98,
    "start_time": "2022-05-08T05:40:13.503Z"
   },
   {
    "duration": 5,
    "start_time": "2022-05-08T05:40:13.603Z"
   },
   {
    "duration": 79,
    "start_time": "2022-05-08T05:40:13.613Z"
   },
   {
    "duration": 7,
    "start_time": "2022-05-08T05:40:13.696Z"
   },
   {
    "duration": 8,
    "start_time": "2022-05-08T05:40:13.706Z"
   },
   {
    "duration": 102,
    "start_time": "2022-05-08T05:40:13.717Z"
   },
   {
    "duration": 10,
    "start_time": "2022-05-08T05:40:13.885Z"
   },
   {
    "duration": 19,
    "start_time": "2022-05-08T05:40:13.898Z"
   },
   {
    "duration": 10,
    "start_time": "2022-05-08T05:40:13.982Z"
   },
   {
    "duration": 324,
    "start_time": "2022-05-08T05:40:13.995Z"
   },
   {
    "duration": 0,
    "start_time": "2022-05-08T05:40:14.323Z"
   },
   {
    "duration": 0,
    "start_time": "2022-05-08T05:40:14.324Z"
   },
   {
    "duration": 0,
    "start_time": "2022-05-08T05:40:14.326Z"
   },
   {
    "duration": 0,
    "start_time": "2022-05-08T05:40:14.327Z"
   },
   {
    "duration": 0,
    "start_time": "2022-05-08T05:40:14.382Z"
   },
   {
    "duration": 0,
    "start_time": "2022-05-08T05:40:14.383Z"
   },
   {
    "duration": 0,
    "start_time": "2022-05-08T05:40:14.384Z"
   },
   {
    "duration": 0,
    "start_time": "2022-05-08T05:40:14.386Z"
   },
   {
    "duration": 0,
    "start_time": "2022-05-08T05:40:14.388Z"
   },
   {
    "duration": 0,
    "start_time": "2022-05-08T05:40:14.390Z"
   },
   {
    "duration": 0,
    "start_time": "2022-05-08T05:40:14.391Z"
   },
   {
    "duration": 0,
    "start_time": "2022-05-08T05:40:14.393Z"
   },
   {
    "duration": 0,
    "start_time": "2022-05-08T05:40:14.394Z"
   },
   {
    "duration": 0,
    "start_time": "2022-05-08T05:40:14.396Z"
   },
   {
    "duration": 0,
    "start_time": "2022-05-08T05:40:14.397Z"
   },
   {
    "duration": 0,
    "start_time": "2022-05-08T05:40:14.399Z"
   },
   {
    "duration": 0,
    "start_time": "2022-05-08T05:40:14.400Z"
   },
   {
    "duration": 0,
    "start_time": "2022-05-08T05:40:14.402Z"
   },
   {
    "duration": 0,
    "start_time": "2022-05-08T05:40:14.403Z"
   },
   {
    "duration": 0,
    "start_time": "2022-05-08T05:40:14.405Z"
   },
   {
    "duration": 0,
    "start_time": "2022-05-08T05:40:14.406Z"
   },
   {
    "duration": 0,
    "start_time": "2022-05-08T05:40:14.408Z"
   },
   {
    "duration": 0,
    "start_time": "2022-05-08T05:40:14.409Z"
   },
   {
    "duration": 0,
    "start_time": "2022-05-08T05:40:14.482Z"
   },
   {
    "duration": 0,
    "start_time": "2022-05-08T05:40:14.484Z"
   },
   {
    "duration": 0,
    "start_time": "2022-05-08T05:40:14.486Z"
   },
   {
    "duration": 0,
    "start_time": "2022-05-08T05:40:14.487Z"
   },
   {
    "duration": 0,
    "start_time": "2022-05-08T05:40:14.489Z"
   },
   {
    "duration": 0,
    "start_time": "2022-05-08T05:40:14.491Z"
   },
   {
    "duration": 0,
    "start_time": "2022-05-08T05:40:14.492Z"
   },
   {
    "duration": 0,
    "start_time": "2022-05-08T05:40:14.494Z"
   },
   {
    "duration": 0,
    "start_time": "2022-05-08T05:40:14.500Z"
   },
   {
    "duration": 0,
    "start_time": "2022-05-08T05:40:14.502Z"
   },
   {
    "duration": 0,
    "start_time": "2022-05-08T05:40:14.505Z"
   },
   {
    "duration": 0,
    "start_time": "2022-05-08T05:40:14.507Z"
   },
   {
    "duration": 0,
    "start_time": "2022-05-08T05:40:14.509Z"
   },
   {
    "duration": 0,
    "start_time": "2022-05-08T05:40:14.582Z"
   },
   {
    "duration": 0,
    "start_time": "2022-05-08T05:40:14.584Z"
   },
   {
    "duration": 0,
    "start_time": "2022-05-08T05:40:14.585Z"
   },
   {
    "duration": 0,
    "start_time": "2022-05-08T05:40:14.587Z"
   },
   {
    "duration": 3777,
    "start_time": "2022-05-08T05:43:30.154Z"
   },
   {
    "duration": 15,
    "start_time": "2022-05-08T05:43:33.981Z"
   },
   {
    "duration": 90,
    "start_time": "2022-05-08T05:43:33.999Z"
   },
   {
    "duration": 5,
    "start_time": "2022-05-08T05:43:34.093Z"
   },
   {
    "duration": 82,
    "start_time": "2022-05-08T05:43:34.100Z"
   },
   {
    "duration": 7,
    "start_time": "2022-05-08T05:43:34.184Z"
   },
   {
    "duration": 9,
    "start_time": "2022-05-08T05:43:34.193Z"
   },
   {
    "duration": 105,
    "start_time": "2022-05-08T05:43:34.204Z"
   },
   {
    "duration": 7,
    "start_time": "2022-05-08T05:43:34.311Z"
   },
   {
    "duration": 71,
    "start_time": "2022-05-08T05:43:34.322Z"
   },
   {
    "duration": 8,
    "start_time": "2022-05-08T05:43:34.395Z"
   },
   {
    "duration": 3587886,
    "start_time": "2022-05-08T05:43:34.405Z"
   },
   {
    "duration": 6,
    "start_time": "2022-05-08T06:43:22.293Z"
   },
   {
    "duration": 14,
    "start_time": "2022-05-08T06:43:22.302Z"
   },
   {
    "duration": 46,
    "start_time": "2022-05-08T06:43:22.381Z"
   },
   {
    "duration": 100,
    "start_time": "2022-05-08T06:43:22.482Z"
   },
   {
    "duration": 33899,
    "start_time": "2022-05-08T06:43:22.584Z"
   },
   {
    "duration": 6,
    "start_time": "2022-05-08T06:43:56.485Z"
   },
   {
    "duration": 19,
    "start_time": "2022-05-08T06:43:56.493Z"
   },
   {
    "duration": 70,
    "start_time": "2022-05-08T06:43:56.515Z"
   },
   {
    "duration": 546703,
    "start_time": "2022-05-08T06:43:56.588Z"
   },
   {
    "duration": 92,
    "start_time": "2022-05-08T06:53:03.294Z"
   },
   {
    "duration": 194,
    "start_time": "2022-05-08T06:53:03.389Z"
   },
   {
    "duration": 15,
    "start_time": "2022-05-08T06:53:03.585Z"
   },
   {
    "duration": 112020,
    "start_time": "2022-05-08T06:53:03.684Z"
   },
   {
    "duration": 117,
    "start_time": "2022-05-08T06:54:55.707Z"
   },
   {
    "duration": 113,
    "start_time": "2022-05-08T06:54:55.882Z"
   },
   {
    "duration": 994,
    "start_time": "2022-05-08T06:54:56.001Z"
   },
   {
    "duration": 4,
    "start_time": "2022-05-08T06:54:56.998Z"
   },
   {
    "duration": 123,
    "start_time": "2022-05-08T06:54:57.005Z"
   },
   {
    "duration": 112,
    "start_time": "2022-05-08T06:54:57.183Z"
   },
   {
    "duration": 90,
    "start_time": "2022-05-08T06:54:57.297Z"
   },
   {
    "duration": 1496,
    "start_time": "2022-05-08T06:54:57.390Z"
   },
   {
    "duration": 4,
    "start_time": "2022-05-08T06:54:58.888Z"
   },
   {
    "duration": 123,
    "start_time": "2022-05-08T06:54:58.894Z"
   },
   {
    "duration": 161,
    "start_time": "2022-05-08T06:54:59.020Z"
   },
   {
    "duration": 27,
    "start_time": "2022-05-08T06:54:59.184Z"
   },
   {
    "duration": 808,
    "start_time": "2022-05-08T06:54:59.214Z"
   },
   {
    "duration": 58,
    "start_time": "2022-05-08T06:55:00.024Z"
   },
   {
    "duration": 100,
    "start_time": "2022-05-08T06:55:00.084Z"
   },
   {
    "duration": 95,
    "start_time": "2022-05-08T06:55:00.187Z"
   },
   {
    "duration": 1297,
    "start_time": "2022-05-08T06:55:00.285Z"
   },
   {
    "duration": 4,
    "start_time": "2022-05-08T06:55:01.585Z"
   },
   {
    "duration": 32,
    "start_time": "2022-05-08T06:55:01.592Z"
   },
   {
    "duration": 693,
    "start_time": "2022-05-08T06:55:01.627Z"
   },
   {
    "duration": 4,
    "start_time": "2022-05-08T06:55:02.323Z"
   },
   {
    "duration": 119,
    "start_time": "2022-05-08T06:55:02.383Z"
   },
   {
    "duration": 99,
    "start_time": "2022-05-08T06:55:02.505Z"
   },
   {
    "duration": 103,
    "start_time": "2022-05-08T06:55:02.607Z"
   },
   {
    "duration": 94,
    "start_time": "2022-05-08T06:55:02.713Z"
   },
   {
    "duration": 100,
    "start_time": "2022-05-08T06:55:02.809Z"
   },
   {
    "duration": 102,
    "start_time": "2022-05-08T06:55:02.913Z"
   },
   {
    "duration": 527,
    "start_time": "2022-05-08T07:00:15.365Z"
   },
   {
    "duration": 18,
    "start_time": "2022-05-08T07:00:31.365Z"
   },
   {
    "duration": 61,
    "start_time": "2022-05-08T07:00:45.943Z"
   },
   {
    "duration": 15,
    "start_time": "2022-05-08T07:00:56.926Z"
   },
   {
    "duration": 79,
    "start_time": "2022-05-08T07:01:03.807Z"
   },
   {
    "duration": 160,
    "start_time": "2022-05-08T07:01:12.526Z"
   },
   {
    "duration": 559,
    "start_time": "2022-05-08T07:01:15.126Z"
   },
   {
    "duration": 578,
    "start_time": "2022-05-08T07:01:39.921Z"
   },
   {
    "duration": 1544,
    "start_time": "2022-05-10T15:38:35.361Z"
   },
   {
    "duration": 10,
    "start_time": "2022-05-10T15:38:36.907Z"
   },
   {
    "duration": 16,
    "start_time": "2022-05-10T15:38:36.918Z"
   },
   {
    "duration": 3,
    "start_time": "2022-05-10T15:38:36.935Z"
   },
   {
    "duration": 18,
    "start_time": "2022-05-10T15:38:36.940Z"
   },
   {
    "duration": 6,
    "start_time": "2022-05-10T15:38:36.960Z"
   },
   {
    "duration": 4,
    "start_time": "2022-05-10T15:38:36.968Z"
   },
   {
    "duration": 24,
    "start_time": "2022-05-10T15:38:36.973Z"
   },
   {
    "duration": 4,
    "start_time": "2022-05-10T15:38:36.999Z"
   },
   {
    "duration": 12,
    "start_time": "2022-05-10T15:38:37.004Z"
   },
   {
    "duration": 1315138,
    "start_time": "2022-05-10T15:38:37.017Z"
   },
   {
    "duration": 5,
    "start_time": "2022-05-10T16:00:32.157Z"
   },
   {
    "duration": 9,
    "start_time": "2022-05-10T16:00:32.164Z"
   },
   {
    "duration": 27,
    "start_time": "2022-05-10T16:00:32.176Z"
   },
   {
    "duration": 24,
    "start_time": "2022-05-10T16:00:32.205Z"
   },
   {
    "duration": 183,
    "start_time": "2022-05-10T16:00:32.249Z"
   },
   {
    "duration": 0,
    "start_time": "2022-05-10T16:00:32.433Z"
   },
   {
    "duration": 0,
    "start_time": "2022-05-10T16:00:32.435Z"
   },
   {
    "duration": 0,
    "start_time": "2022-05-10T16:00:32.436Z"
   },
   {
    "duration": 0,
    "start_time": "2022-05-10T16:00:32.437Z"
   },
   {
    "duration": 0,
    "start_time": "2022-05-10T16:00:32.438Z"
   },
   {
    "duration": 0,
    "start_time": "2022-05-10T16:00:32.439Z"
   },
   {
    "duration": 0,
    "start_time": "2022-05-10T16:00:32.440Z"
   },
   {
    "duration": 0,
    "start_time": "2022-05-10T16:00:32.441Z"
   },
   {
    "duration": 0,
    "start_time": "2022-05-10T16:00:32.442Z"
   },
   {
    "duration": 0,
    "start_time": "2022-05-10T16:00:32.443Z"
   },
   {
    "duration": 0,
    "start_time": "2022-05-10T16:00:32.444Z"
   },
   {
    "duration": 0,
    "start_time": "2022-05-10T16:00:32.445Z"
   },
   {
    "duration": 0,
    "start_time": "2022-05-10T16:00:32.446Z"
   },
   {
    "duration": 0,
    "start_time": "2022-05-10T16:00:32.447Z"
   },
   {
    "duration": 0,
    "start_time": "2022-05-10T16:00:32.453Z"
   },
   {
    "duration": 0,
    "start_time": "2022-05-10T16:00:32.455Z"
   },
   {
    "duration": 0,
    "start_time": "2022-05-10T16:00:32.456Z"
   },
   {
    "duration": 0,
    "start_time": "2022-05-10T16:00:32.458Z"
   },
   {
    "duration": 0,
    "start_time": "2022-05-10T16:00:32.459Z"
   },
   {
    "duration": 0,
    "start_time": "2022-05-10T16:00:32.460Z"
   },
   {
    "duration": 0,
    "start_time": "2022-05-10T16:00:32.461Z"
   },
   {
    "duration": 0,
    "start_time": "2022-05-10T16:00:32.462Z"
   },
   {
    "duration": 0,
    "start_time": "2022-05-10T16:00:32.463Z"
   },
   {
    "duration": 0,
    "start_time": "2022-05-10T16:00:32.464Z"
   },
   {
    "duration": 0,
    "start_time": "2022-05-10T16:00:32.465Z"
   },
   {
    "duration": 0,
    "start_time": "2022-05-10T16:00:32.466Z"
   },
   {
    "duration": 0,
    "start_time": "2022-05-10T16:00:32.467Z"
   },
   {
    "duration": 0,
    "start_time": "2022-05-10T16:00:32.467Z"
   },
   {
    "duration": 0,
    "start_time": "2022-05-10T16:00:32.468Z"
   },
   {
    "duration": 0,
    "start_time": "2022-05-10T16:00:32.471Z"
   },
   {
    "duration": 0,
    "start_time": "2022-05-10T16:00:32.472Z"
   },
   {
    "duration": 0,
    "start_time": "2022-05-10T16:00:32.472Z"
   },
   {
    "duration": 0,
    "start_time": "2022-05-10T16:00:32.473Z"
   },
   {
    "duration": 124,
    "start_time": "2022-05-10T16:06:33.807Z"
   },
   {
    "duration": 149,
    "start_time": "2022-05-10T16:07:29.400Z"
   },
   {
    "duration": 128,
    "start_time": "2022-05-10T16:07:45.839Z"
   },
   {
    "duration": 123,
    "start_time": "2022-05-10T16:07:58.123Z"
   },
   {
    "duration": 125,
    "start_time": "2022-05-10T16:08:18.661Z"
   },
   {
    "duration": 7552,
    "start_time": "2022-05-10T16:08:32.815Z"
   },
   {
    "duration": 124,
    "start_time": "2022-05-10T16:09:21.379Z"
   },
   {
    "duration": 138,
    "start_time": "2022-05-10T16:09:30.748Z"
   },
   {
    "duration": 11816,
    "start_time": "2022-05-10T16:11:14.334Z"
   },
   {
    "duration": 5,
    "start_time": "2022-05-10T16:11:33.098Z"
   },
   {
    "duration": 14,
    "start_time": "2022-05-10T16:11:34.285Z"
   },
   {
    "duration": 9,
    "start_time": "2022-05-10T16:11:37.029Z"
   },
   {
    "duration": 225002,
    "start_time": "2022-05-10T16:11:40.052Z"
   },
   {
    "duration": 95,
    "start_time": "2022-05-10T16:15:25.056Z"
   },
   {
    "duration": 4,
    "start_time": "2022-05-10T16:16:41.200Z"
   },
   {
    "duration": 6,
    "start_time": "2022-05-10T16:16:50.144Z"
   },
   {
    "duration": 1438,
    "start_time": "2022-05-10T16:18:13.162Z"
   },
   {
    "duration": 9,
    "start_time": "2022-05-10T16:18:14.602Z"
   },
   {
    "duration": 17,
    "start_time": "2022-05-10T16:18:14.612Z"
   },
   {
    "duration": 3,
    "start_time": "2022-05-10T16:18:14.631Z"
   },
   {
    "duration": 19,
    "start_time": "2022-05-10T16:18:14.636Z"
   },
   {
    "duration": 10,
    "start_time": "2022-05-10T16:18:14.657Z"
   },
   {
    "duration": 8,
    "start_time": "2022-05-10T16:18:14.668Z"
   },
   {
    "duration": 27,
    "start_time": "2022-05-10T16:18:14.677Z"
   },
   {
    "duration": 6,
    "start_time": "2022-05-10T16:18:14.705Z"
   },
   {
    "duration": 10,
    "start_time": "2022-05-10T16:18:14.713Z"
   },
   {
    "duration": 1288304,
    "start_time": "2022-05-10T16:18:14.724Z"
   },
   {
    "duration": 4,
    "start_time": "2022-05-10T16:39:43.029Z"
   },
   {
    "duration": 5,
    "start_time": "2022-05-10T16:39:43.034Z"
   },
   {
    "duration": 36,
    "start_time": "2022-05-10T16:39:43.040Z"
   },
   {
    "duration": 26,
    "start_time": "2022-05-10T16:39:43.077Z"
   },
   {
    "duration": 8953,
    "start_time": "2022-05-10T16:39:43.104Z"
   },
   {
    "duration": 7,
    "start_time": "2022-05-10T16:39:52.059Z"
   },
   {
    "duration": 26,
    "start_time": "2022-05-10T16:39:52.067Z"
   },
   {
    "duration": 7,
    "start_time": "2022-05-10T16:39:52.095Z"
   },
   {
    "duration": 698745,
    "start_time": "2022-05-10T16:39:52.103Z"
   },
   {
    "duration": 4,
    "start_time": "2022-05-10T16:51:30.850Z"
   },
   {
    "duration": 32,
    "start_time": "2022-05-10T16:51:30.856Z"
   },
   {
    "duration": 117,
    "start_time": "2022-05-10T16:51:30.952Z"
   },
   {
    "duration": 28329,
    "start_time": "2022-05-10T16:51:31.164Z"
   },
   {
    "duration": 54,
    "start_time": "2022-05-10T16:51:59.494Z"
   },
   {
    "duration": 43,
    "start_time": "2022-05-10T16:51:59.550Z"
   },
   {
    "duration": 135,
    "start_time": "2022-05-10T16:51:59.594Z"
   },
   {
    "duration": 269,
    "start_time": "2022-05-10T16:51:59.732Z"
   },
   {
    "duration": 28,
    "start_time": "2022-05-10T16:52:00.003Z"
   },
   {
    "duration": 41,
    "start_time": "2022-05-10T16:52:00.032Z"
   },
   {
    "duration": 116,
    "start_time": "2022-05-10T16:52:00.075Z"
   },
   {
    "duration": 0,
    "start_time": "2022-05-10T16:52:00.193Z"
   },
   {
    "duration": 0,
    "start_time": "2022-05-10T16:52:00.194Z"
   },
   {
    "duration": 0,
    "start_time": "2022-05-10T16:52:00.195Z"
   },
   {
    "duration": 0,
    "start_time": "2022-05-10T16:52:00.196Z"
   },
   {
    "duration": 0,
    "start_time": "2022-05-10T16:52:00.197Z"
   },
   {
    "duration": 0,
    "start_time": "2022-05-10T16:52:00.198Z"
   },
   {
    "duration": 0,
    "start_time": "2022-05-10T16:52:00.199Z"
   },
   {
    "duration": 0,
    "start_time": "2022-05-10T16:52:00.201Z"
   },
   {
    "duration": 0,
    "start_time": "2022-05-10T16:52:00.202Z"
   },
   {
    "duration": 0,
    "start_time": "2022-05-10T16:52:00.203Z"
   },
   {
    "duration": 0,
    "start_time": "2022-05-10T16:52:00.204Z"
   },
   {
    "duration": 0,
    "start_time": "2022-05-10T16:52:00.205Z"
   },
   {
    "duration": 0,
    "start_time": "2022-05-10T16:52:00.206Z"
   },
   {
    "duration": 0,
    "start_time": "2022-05-10T16:52:00.207Z"
   },
   {
    "duration": 0,
    "start_time": "2022-05-10T16:52:00.208Z"
   },
   {
    "duration": 0,
    "start_time": "2022-05-10T16:52:00.208Z"
   },
   {
    "duration": 0,
    "start_time": "2022-05-10T16:52:00.209Z"
   },
   {
    "duration": 0,
    "start_time": "2022-05-10T16:52:00.210Z"
   },
   {
    "duration": 14,
    "start_time": "2022-05-10T16:53:17.305Z"
   },
   {
    "duration": 369,
    "start_time": "2022-05-10T16:53:20.006Z"
   },
   {
    "duration": 30,
    "start_time": "2022-05-10T16:53:21.772Z"
   },
   {
    "duration": 29,
    "start_time": "2022-05-10T16:53:25.057Z"
   },
   {
    "duration": 17,
    "start_time": "2022-05-10T16:53:29.246Z"
   },
   {
    "duration": 139,
    "start_time": "2022-05-10T16:53:31.284Z"
   },
   {
    "duration": 34,
    "start_time": "2022-05-10T16:53:32.830Z"
   },
   {
    "duration": 24,
    "start_time": "2022-05-10T16:53:36.722Z"
   },
   {
    "duration": 301,
    "start_time": "2022-05-10T16:53:41.842Z"
   },
   {
    "duration": 3,
    "start_time": "2022-05-10T16:53:43.643Z"
   },
   {
    "duration": 5,
    "start_time": "2022-05-10T16:53:47.488Z"
   },
   {
    "duration": 207,
    "start_time": "2022-05-10T16:53:55.668Z"
   },
   {
    "duration": 17,
    "start_time": "2022-05-10T16:53:59.666Z"
   },
   {
    "duration": 221,
    "start_time": "2022-05-10T16:54:42.259Z"
   },
   {
    "duration": 40,
    "start_time": "2022-05-10T16:55:22.074Z"
   },
   {
    "duration": 37,
    "start_time": "2022-05-10T16:55:23.765Z"
   },
   {
    "duration": 46,
    "start_time": "2022-05-10T16:55:27.216Z"
   },
   {
    "duration": 38,
    "start_time": "2022-05-10T16:55:30.284Z"
   },
   {
    "duration": 40,
    "start_time": "2022-05-10T16:55:33.983Z"
   },
   {
    "duration": 31,
    "start_time": "2022-05-10T16:55:36.634Z"
   },
   {
    "duration": 129,
    "start_time": "2022-05-10T16:56:21.799Z"
   },
   {
    "duration": 0,
    "start_time": "2022-05-10T16:56:21.930Z"
   },
   {
    "duration": 0,
    "start_time": "2022-05-10T16:56:21.931Z"
   },
   {
    "duration": 0,
    "start_time": "2022-05-10T16:56:21.933Z"
   },
   {
    "duration": 0,
    "start_time": "2022-05-10T16:56:21.934Z"
   },
   {
    "duration": 0,
    "start_time": "2022-05-10T16:56:21.935Z"
   },
   {
    "duration": 0,
    "start_time": "2022-05-10T16:56:21.937Z"
   },
   {
    "duration": 0,
    "start_time": "2022-05-10T16:56:21.938Z"
   },
   {
    "duration": 0,
    "start_time": "2022-05-10T16:56:21.940Z"
   },
   {
    "duration": 44,
    "start_time": "2022-05-10T16:56:21.942Z"
   },
   {
    "duration": 0,
    "start_time": "2022-05-10T16:56:21.987Z"
   },
   {
    "duration": 0,
    "start_time": "2022-05-10T16:56:21.988Z"
   },
   {
    "duration": 0,
    "start_time": "2022-05-10T16:56:21.989Z"
   },
   {
    "duration": 0,
    "start_time": "2022-05-10T16:56:21.990Z"
   },
   {
    "duration": 0,
    "start_time": "2022-05-10T16:56:21.991Z"
   },
   {
    "duration": 6,
    "start_time": "2022-05-10T16:56:21.994Z"
   },
   {
    "duration": 0,
    "start_time": "2022-05-10T16:56:22.002Z"
   },
   {
    "duration": 5,
    "start_time": "2022-05-10T16:56:22.004Z"
   },
   {
    "duration": 0,
    "start_time": "2022-05-10T16:56:22.010Z"
   },
   {
    "duration": 11,
    "start_time": "2022-05-10T16:56:22.053Z"
   },
   {
    "duration": 0,
    "start_time": "2022-05-10T16:56:22.065Z"
   },
   {
    "duration": 0,
    "start_time": "2022-05-10T16:56:22.066Z"
   },
   {
    "duration": 0,
    "start_time": "2022-05-10T16:56:22.067Z"
   },
   {
    "duration": 0,
    "start_time": "2022-05-10T16:56:22.068Z"
   },
   {
    "duration": 6,
    "start_time": "2022-05-10T16:56:22.070Z"
   },
   {
    "duration": 0,
    "start_time": "2022-05-10T16:56:22.077Z"
   },
   {
    "duration": 0,
    "start_time": "2022-05-10T16:56:22.078Z"
   },
   {
    "duration": 5,
    "start_time": "2022-05-10T16:56:22.082Z"
   },
   {
    "duration": 4,
    "start_time": "2022-05-10T16:56:22.094Z"
   },
   {
    "duration": 0,
    "start_time": "2022-05-10T16:56:22.100Z"
   },
   {
    "duration": 53,
    "start_time": "2022-05-10T16:56:22.104Z"
   },
   {
    "duration": 0,
    "start_time": "2022-05-10T16:56:22.159Z"
   },
   {
    "duration": 1,
    "start_time": "2022-05-10T16:56:22.160Z"
   },
   {
    "duration": 0,
    "start_time": "2022-05-10T16:56:22.161Z"
   },
   {
    "duration": 0,
    "start_time": "2022-05-10T16:56:22.162Z"
   },
   {
    "duration": 0,
    "start_time": "2022-05-10T16:56:22.163Z"
   },
   {
    "duration": 0,
    "start_time": "2022-05-10T16:56:22.164Z"
   },
   {
    "duration": 6,
    "start_time": "2022-05-10T16:56:22.169Z"
   },
   {
    "duration": 6,
    "start_time": "2022-05-10T16:56:22.187Z"
   },
   {
    "duration": 6,
    "start_time": "2022-05-10T16:56:22.610Z"
   },
   {
    "duration": 0,
    "start_time": "2022-05-10T16:56:22.617Z"
   },
   {
    "duration": 0,
    "start_time": "2022-05-10T16:56:22.619Z"
   },
   {
    "duration": 0,
    "start_time": "2022-05-10T16:56:22.620Z"
   },
   {
    "duration": 0,
    "start_time": "2022-05-10T16:56:22.620Z"
   },
   {
    "duration": 0,
    "start_time": "2022-05-10T16:56:22.622Z"
   },
   {
    "duration": 0,
    "start_time": "2022-05-10T16:56:22.622Z"
   },
   {
    "duration": 0,
    "start_time": "2022-05-10T16:56:22.623Z"
   },
   {
    "duration": 0,
    "start_time": "2022-05-10T16:56:22.624Z"
   },
   {
    "duration": 0,
    "start_time": "2022-05-10T16:56:22.625Z"
   },
   {
    "duration": 0,
    "start_time": "2022-05-10T16:56:22.626Z"
   },
   {
    "duration": 1490,
    "start_time": "2022-05-10T16:59:32.972Z"
   },
   {
    "duration": 1553,
    "start_time": "2022-05-10T16:59:52.316Z"
   },
   {
    "duration": 11,
    "start_time": "2022-05-10T16:59:53.871Z"
   },
   {
    "duration": 14,
    "start_time": "2022-05-10T16:59:53.884Z"
   },
   {
    "duration": 3,
    "start_time": "2022-05-10T16:59:53.900Z"
   },
   {
    "duration": 15,
    "start_time": "2022-05-10T16:59:53.904Z"
   },
   {
    "duration": 4,
    "start_time": "2022-05-10T16:59:53.921Z"
   },
   {
    "duration": 34,
    "start_time": "2022-05-10T16:59:53.926Z"
   },
   {
    "duration": 24,
    "start_time": "2022-05-10T16:59:53.963Z"
   },
   {
    "duration": 6,
    "start_time": "2022-05-10T16:59:53.988Z"
   },
   {
    "duration": 16,
    "start_time": "2022-05-10T16:59:53.997Z"
   },
   {
    "duration": 1283494,
    "start_time": "2022-05-10T16:59:54.014Z"
   },
   {
    "duration": 4,
    "start_time": "2022-05-10T17:21:17.510Z"
   },
   {
    "duration": 8,
    "start_time": "2022-05-10T17:21:17.515Z"
   },
   {
    "duration": 39,
    "start_time": "2022-05-10T17:21:17.524Z"
   },
   {
    "duration": 24,
    "start_time": "2022-05-10T17:21:17.565Z"
   },
   {
    "duration": 8695,
    "start_time": "2022-05-10T17:21:17.590Z"
   },
   {
    "duration": 4,
    "start_time": "2022-05-10T17:21:26.286Z"
   },
   {
    "duration": 14,
    "start_time": "2022-05-10T17:21:26.291Z"
   },
   {
    "duration": 7,
    "start_time": "2022-05-10T17:21:26.306Z"
   },
   {
    "duration": 622767,
    "start_time": "2022-05-10T17:21:26.314Z"
   },
   {
    "duration": 9,
    "start_time": "2022-05-10T17:31:49.148Z"
   },
   {
    "duration": 117,
    "start_time": "2022-05-10T17:31:49.159Z"
   },
   {
    "duration": 9,
    "start_time": "2022-05-10T17:31:49.278Z"
   },
   {
    "duration": 28601,
    "start_time": "2022-05-10T17:31:49.348Z"
   },
   {
    "duration": 48,
    "start_time": "2022-05-10T17:32:17.951Z"
   },
   {
    "duration": 78,
    "start_time": "2022-05-10T17:32:18.001Z"
   },
   {
    "duration": 151,
    "start_time": "2022-05-10T17:32:18.081Z"
   },
   {
    "duration": 270,
    "start_time": "2022-05-10T17:32:18.235Z"
   },
   {
    "duration": 28,
    "start_time": "2022-05-10T17:32:18.507Z"
   },
   {
    "duration": 37,
    "start_time": "2022-05-10T17:32:18.537Z"
   },
   {
    "duration": 14,
    "start_time": "2022-05-10T17:32:18.576Z"
   },
   {
    "duration": 404,
    "start_time": "2022-05-10T17:32:18.592Z"
   },
   {
    "duration": 29,
    "start_time": "2022-05-10T17:32:18.998Z"
   },
   {
    "duration": 45,
    "start_time": "2022-05-10T17:32:19.029Z"
   },
   {
    "duration": 16,
    "start_time": "2022-05-10T17:32:19.077Z"
   },
   {
    "duration": 210,
    "start_time": "2022-05-10T17:32:19.095Z"
   },
   {
    "duration": 48,
    "start_time": "2022-05-10T17:32:19.307Z"
   },
   {
    "duration": 34,
    "start_time": "2022-05-10T17:32:19.357Z"
   },
   {
    "duration": 329,
    "start_time": "2022-05-10T17:32:19.392Z"
   },
   {
    "duration": 3,
    "start_time": "2022-05-10T17:32:19.723Z"
   },
   {
    "duration": 7,
    "start_time": "2022-05-10T17:32:19.727Z"
   },
   {
    "duration": 240,
    "start_time": "2022-05-10T17:32:19.747Z"
   },
   {
    "duration": 266,
    "start_time": "2022-05-10T17:32:19.989Z"
   },
   {
    "duration": 3,
    "start_time": "2022-05-10T17:32:20.258Z"
   },
   {
    "duration": 45,
    "start_time": "2022-05-10T17:32:20.262Z"
   },
   {
    "duration": 48,
    "start_time": "2022-05-10T17:32:20.309Z"
   },
   {
    "duration": 41,
    "start_time": "2022-05-10T17:32:20.359Z"
   },
   {
    "duration": 28,
    "start_time": "2022-05-10T17:32:20.402Z"
   },
   {
    "duration": 34,
    "start_time": "2022-05-10T17:32:20.448Z"
   },
   {
    "duration": 34,
    "start_time": "2022-05-10T17:32:20.484Z"
   },
   {
    "duration": 9,
    "start_time": "2022-05-10T17:32:41.725Z"
   },
   {
    "duration": 8,
    "start_time": "2022-05-10T17:37:49.872Z"
   },
   {
    "duration": 110,
    "start_time": "2022-05-10T17:58:24.374Z"
   },
   {
    "duration": 418,
    "start_time": "2022-05-10T17:58:35.804Z"
   },
   {
    "duration": 3,
    "start_time": "2022-05-10T17:58:37.146Z"
   },
   {
    "duration": 10,
    "start_time": "2022-05-10T17:58:43.015Z"
   },
   {
    "duration": 8,
    "start_time": "2022-05-10T18:00:22.963Z"
   },
   {
    "duration": 22,
    "start_time": "2022-05-10T18:06:05.775Z"
   },
   {
    "duration": 6,
    "start_time": "2022-05-10T18:06:07.969Z"
   },
   {
    "duration": 3,
    "start_time": "2022-05-10T18:06:11.368Z"
   },
   {
    "duration": 9,
    "start_time": "2022-05-10T18:06:14.181Z"
   },
   {
    "duration": 3,
    "start_time": "2022-05-10T18:10:50.766Z"
   },
   {
    "duration": 8,
    "start_time": "2022-05-10T18:10:51.424Z"
   },
   {
    "duration": 125,
    "start_time": "2022-05-10T18:11:21.043Z"
   },
   {
    "duration": 130,
    "start_time": "2022-05-10T18:11:58.148Z"
   },
   {
    "duration": 123,
    "start_time": "2022-05-10T18:12:14.845Z"
   },
   {
    "duration": 127,
    "start_time": "2022-05-10T18:13:22.002Z"
   },
   {
    "duration": 9,
    "start_time": "2022-05-10T18:13:36.298Z"
   },
   {
    "duration": 10,
    "start_time": "2022-05-10T18:13:47.255Z"
   },
   {
    "duration": 1597,
    "start_time": "2022-05-10T18:14:14.632Z"
   },
   {
    "duration": 14,
    "start_time": "2022-05-10T18:14:16.231Z"
   },
   {
    "duration": 24,
    "start_time": "2022-05-10T18:14:16.251Z"
   },
   {
    "duration": 3,
    "start_time": "2022-05-10T18:14:16.277Z"
   },
   {
    "duration": 16,
    "start_time": "2022-05-10T18:14:16.282Z"
   },
   {
    "duration": 5,
    "start_time": "2022-05-10T18:14:16.300Z"
   },
   {
    "duration": 5,
    "start_time": "2022-05-10T18:14:16.306Z"
   },
   {
    "duration": 53,
    "start_time": "2022-05-10T18:14:16.313Z"
   },
   {
    "duration": 6,
    "start_time": "2022-05-10T18:14:16.370Z"
   },
   {
    "duration": 12,
    "start_time": "2022-05-10T18:14:16.378Z"
   },
   {
    "duration": 1315838,
    "start_time": "2022-05-10T18:14:16.393Z"
   },
   {
    "duration": 4,
    "start_time": "2022-05-10T18:36:12.232Z"
   },
   {
    "duration": 4,
    "start_time": "2022-05-10T18:36:12.247Z"
   },
   {
    "duration": 34,
    "start_time": "2022-05-10T18:36:12.253Z"
   },
   {
    "duration": 24,
    "start_time": "2022-05-10T18:36:12.289Z"
   },
   {
    "duration": 8861,
    "start_time": "2022-05-10T18:36:12.314Z"
   },
   {
    "duration": 4,
    "start_time": "2022-05-10T18:36:21.176Z"
   },
   {
    "duration": 11,
    "start_time": "2022-05-10T18:36:21.181Z"
   },
   {
    "duration": 7,
    "start_time": "2022-05-10T18:36:21.194Z"
   },
   {
    "duration": 654960,
    "start_time": "2022-05-10T18:36:21.202Z"
   },
   {
    "duration": 5,
    "start_time": "2022-05-10T18:47:16.165Z"
   },
   {
    "duration": 96,
    "start_time": "2022-05-10T18:47:16.172Z"
   },
   {
    "duration": 87,
    "start_time": "2022-05-10T18:47:16.271Z"
   },
   {
    "duration": 28884,
    "start_time": "2022-05-10T18:47:16.361Z"
   },
   {
    "duration": 46,
    "start_time": "2022-05-10T18:47:45.251Z"
   },
   {
    "duration": 49,
    "start_time": "2022-05-10T18:47:45.299Z"
   },
   {
    "duration": 132,
    "start_time": "2022-05-10T18:47:45.349Z"
   },
   {
    "duration": 277,
    "start_time": "2022-05-10T18:47:45.484Z"
   },
   {
    "duration": 26,
    "start_time": "2022-05-10T18:47:45.763Z"
   },
   {
    "duration": 22,
    "start_time": "2022-05-10T18:47:45.790Z"
   },
   {
    "duration": 14,
    "start_time": "2022-05-10T18:47:45.814Z"
   },
   {
    "duration": 386,
    "start_time": "2022-05-10T18:47:45.829Z"
   },
   {
    "duration": 35,
    "start_time": "2022-05-10T18:47:46.216Z"
   },
   {
    "duration": 31,
    "start_time": "2022-05-10T18:47:46.254Z"
   },
   {
    "duration": 12,
    "start_time": "2022-05-10T18:47:46.287Z"
   },
   {
    "duration": 160,
    "start_time": "2022-05-10T18:47:46.300Z"
   },
   {
    "duration": 26,
    "start_time": "2022-05-10T18:47:46.461Z"
   },
   {
    "duration": 23,
    "start_time": "2022-05-10T18:47:46.488Z"
   },
   {
    "duration": 325,
    "start_time": "2022-05-10T18:47:46.512Z"
   },
   {
    "duration": 2,
    "start_time": "2022-05-10T18:47:46.839Z"
   },
   {
    "duration": 6,
    "start_time": "2022-05-10T18:47:46.843Z"
   },
   {
    "duration": 221,
    "start_time": "2022-05-10T18:47:46.851Z"
   },
   {
    "duration": 9,
    "start_time": "2022-05-10T18:47:47.074Z"
   },
   {
    "duration": 3,
    "start_time": "2022-05-10T18:47:47.085Z"
   },
   {
    "duration": 34,
    "start_time": "2022-05-10T18:47:47.089Z"
   },
   {
    "duration": 43,
    "start_time": "2022-05-10T18:47:47.125Z"
   },
   {
    "duration": 28,
    "start_time": "2022-05-10T18:47:47.169Z"
   },
   {
    "duration": 24,
    "start_time": "2022-05-10T18:47:47.199Z"
   },
   {
    "duration": 46,
    "start_time": "2022-05-10T18:47:47.224Z"
   },
   {
    "duration": 22,
    "start_time": "2022-05-10T18:47:47.272Z"
   },
   {
    "duration": 22,
    "start_time": "2022-05-10T18:47:47.296Z"
   },
   {
    "duration": 4,
    "start_time": "2022-05-10T18:47:47.320Z"
   },
   {
    "duration": 4,
    "start_time": "2022-05-10T18:47:47.325Z"
   },
   {
    "duration": 26,
    "start_time": "2022-05-10T18:47:47.330Z"
   },
   {
    "duration": 1884,
    "start_time": "2022-05-11T19:41:00.105Z"
   },
   {
    "duration": 15,
    "start_time": "2022-05-11T19:41:01.992Z"
   },
   {
    "duration": 24,
    "start_time": "2022-05-11T19:41:02.009Z"
   },
   {
    "duration": 4,
    "start_time": "2022-05-11T19:41:02.036Z"
   },
   {
    "duration": 18,
    "start_time": "2022-05-11T19:41:02.043Z"
   },
   {
    "duration": 7,
    "start_time": "2022-05-11T19:41:02.063Z"
   },
   {
    "duration": 10,
    "start_time": "2022-05-11T19:41:02.072Z"
   },
   {
    "duration": 61,
    "start_time": "2022-05-11T19:41:02.084Z"
   },
   {
    "duration": 9,
    "start_time": "2022-05-11T19:41:02.148Z"
   },
   {
    "duration": 11,
    "start_time": "2022-05-11T19:41:02.161Z"
   },
   {
    "duration": 1741279,
    "start_time": "2022-05-11T19:41:02.174Z"
   },
   {
    "duration": 10,
    "start_time": "2022-05-11T20:10:03.461Z"
   },
   {
    "duration": 13,
    "start_time": "2022-05-11T20:10:03.474Z"
   },
   {
    "duration": 71,
    "start_time": "2022-05-11T20:10:03.493Z"
   },
   {
    "duration": 38,
    "start_time": "2022-05-11T20:10:03.569Z"
   },
   {
    "duration": 14054,
    "start_time": "2022-05-11T20:10:03.609Z"
   },
   {
    "duration": 4,
    "start_time": "2022-05-11T20:10:17.665Z"
   },
   {
    "duration": 16,
    "start_time": "2022-05-11T20:10:17.671Z"
   },
   {
    "duration": 11,
    "start_time": "2022-05-11T20:10:17.689Z"
   },
   {
    "duration": 808331,
    "start_time": "2022-05-11T20:10:17.703Z"
   },
   {
    "duration": 7,
    "start_time": "2022-05-11T20:23:46.037Z"
   },
   {
    "duration": 187,
    "start_time": "2022-05-11T20:23:46.047Z"
   },
   {
    "duration": 108,
    "start_time": "2022-05-11T20:23:46.237Z"
   },
   {
    "duration": 36244,
    "start_time": "2022-05-11T20:23:46.352Z"
   },
   {
    "duration": 79,
    "start_time": "2022-05-11T20:24:22.598Z"
   },
   {
    "duration": 72,
    "start_time": "2022-05-11T20:24:22.680Z"
   },
   {
    "duration": 223,
    "start_time": "2022-05-11T20:24:22.754Z"
   },
   {
    "duration": 294,
    "start_time": "2022-05-11T20:24:22.981Z"
   },
   {
    "duration": 56,
    "start_time": "2022-05-11T20:24:23.278Z"
   },
   {
    "duration": 38,
    "start_time": "2022-05-11T20:24:23.337Z"
   },
   {
    "duration": 19,
    "start_time": "2022-05-11T20:24:23.378Z"
   },
   {
    "duration": 417,
    "start_time": "2022-05-11T20:24:23.399Z"
   },
   {
    "duration": 41,
    "start_time": "2022-05-11T20:24:23.818Z"
   },
   {
    "duration": 39,
    "start_time": "2022-05-11T20:24:23.861Z"
   },
   {
    "duration": 47,
    "start_time": "2022-05-11T20:24:23.903Z"
   },
   {
    "duration": 172,
    "start_time": "2022-05-11T20:24:23.953Z"
   },
   {
    "duration": 37,
    "start_time": "2022-05-11T20:24:24.127Z"
   },
   {
    "duration": 34,
    "start_time": "2022-05-11T20:24:24.167Z"
   },
   {
    "duration": 365,
    "start_time": "2022-05-11T20:24:24.203Z"
   },
   {
    "duration": 3,
    "start_time": "2022-05-11T20:24:24.571Z"
   },
   {
    "duration": 12,
    "start_time": "2022-05-11T20:24:24.577Z"
   },
   {
    "duration": 372,
    "start_time": "2022-05-11T20:24:24.591Z"
   },
   {
    "duration": 16,
    "start_time": "2022-05-11T20:24:24.966Z"
   },
   {
    "duration": 4,
    "start_time": "2022-05-11T20:24:24.985Z"
   },
   {
    "duration": 75,
    "start_time": "2022-05-11T20:24:24.991Z"
   },
   {
    "duration": 38,
    "start_time": "2022-05-11T20:24:25.069Z"
   },
   {
    "duration": 66,
    "start_time": "2022-05-11T20:24:25.109Z"
   },
   {
    "duration": 56,
    "start_time": "2022-05-11T20:24:25.178Z"
   },
   {
    "duration": 34,
    "start_time": "2022-05-11T20:24:25.236Z"
   },
   {
    "duration": 35,
    "start_time": "2022-05-11T20:24:25.272Z"
   },
   {
    "duration": 26,
    "start_time": "2022-05-11T20:24:25.335Z"
   },
   {
    "duration": 9,
    "start_time": "2022-05-11T20:24:25.364Z"
   },
   {
    "duration": 5,
    "start_time": "2022-05-11T20:24:25.375Z"
   },
   {
    "duration": 12,
    "start_time": "2022-05-11T20:24:25.382Z"
   },
   {
    "duration": 1682,
    "start_time": "2022-05-11T20:30:10.243Z"
   },
   {
    "duration": 14,
    "start_time": "2022-05-11T20:30:11.927Z"
   },
   {
    "duration": 20,
    "start_time": "2022-05-11T20:30:11.942Z"
   },
   {
    "duration": 6,
    "start_time": "2022-05-11T20:30:11.965Z"
   },
   {
    "duration": 21,
    "start_time": "2022-05-11T20:30:11.973Z"
   },
   {
    "duration": 6,
    "start_time": "2022-05-11T20:30:11.996Z"
   },
   {
    "duration": 32,
    "start_time": "2022-05-11T20:30:12.004Z"
   },
   {
    "duration": 32,
    "start_time": "2022-05-11T20:30:12.038Z"
   },
   {
    "duration": 8,
    "start_time": "2022-05-11T20:30:12.071Z"
   },
   {
    "duration": 11,
    "start_time": "2022-05-11T20:30:12.082Z"
   },
   {
    "duration": 1661646,
    "start_time": "2022-05-11T20:30:12.094Z"
   },
   {
    "duration": 3,
    "start_time": "2022-05-11T20:57:53.742Z"
   },
   {
    "duration": 7,
    "start_time": "2022-05-11T20:57:53.747Z"
   },
   {
    "duration": 34,
    "start_time": "2022-05-11T20:57:53.756Z"
   },
   {
    "duration": 46,
    "start_time": "2022-05-11T20:57:53.792Z"
   },
   {
    "duration": 9945,
    "start_time": "2022-05-11T20:57:53.840Z"
   },
   {
    "duration": 4,
    "start_time": "2022-05-11T20:58:03.787Z"
   },
   {
    "duration": 13,
    "start_time": "2022-05-11T20:58:03.793Z"
   },
   {
    "duration": 25,
    "start_time": "2022-05-11T20:58:03.808Z"
   },
   {
    "duration": 462403,
    "start_time": "2022-05-11T20:58:03.835Z"
   },
   {
    "duration": 91,
    "start_time": "2022-05-11T21:05:46.241Z"
   },
   {
    "duration": 100,
    "start_time": "2022-05-11T21:05:46.335Z"
   },
   {
    "duration": 106,
    "start_time": "2022-05-11T21:05:46.438Z"
   },
   {
    "duration": 36419,
    "start_time": "2022-05-11T21:05:46.639Z"
   },
   {
    "duration": 60,
    "start_time": "2022-05-11T21:06:23.060Z"
   },
   {
    "duration": 66,
    "start_time": "2022-05-11T21:06:23.121Z"
   },
   {
    "duration": 164,
    "start_time": "2022-05-11T21:06:23.189Z"
   },
   {
    "duration": 283,
    "start_time": "2022-05-11T21:06:23.357Z"
   },
   {
    "duration": 32,
    "start_time": "2022-05-11T21:06:23.642Z"
   },
   {
    "duration": 29,
    "start_time": "2022-05-11T21:06:23.676Z"
   },
   {
    "duration": 39,
    "start_time": "2022-05-11T21:06:23.707Z"
   },
   {
    "duration": 379,
    "start_time": "2022-05-11T21:06:23.748Z"
   },
   {
    "duration": 34,
    "start_time": "2022-05-11T21:06:24.133Z"
   },
   {
    "duration": 29,
    "start_time": "2022-05-11T21:06:24.169Z"
   },
   {
    "duration": 33,
    "start_time": "2022-05-11T21:06:24.200Z"
   },
   {
    "duration": 147,
    "start_time": "2022-05-11T21:06:24.236Z"
   },
   {
    "duration": 33,
    "start_time": "2022-05-11T21:06:24.385Z"
   },
   {
    "duration": 38,
    "start_time": "2022-05-11T21:06:24.420Z"
   },
   {
    "duration": 338,
    "start_time": "2022-05-11T21:06:24.460Z"
   },
   {
    "duration": 3,
    "start_time": "2022-05-11T21:06:24.800Z"
   },
   {
    "duration": 14,
    "start_time": "2022-05-11T21:06:24.804Z"
   },
   {
    "duration": 282,
    "start_time": "2022-05-11T21:06:24.820Z"
   },
   {
    "duration": 10,
    "start_time": "2022-05-11T21:06:25.104Z"
   },
   {
    "duration": 18,
    "start_time": "2022-05-11T21:06:25.116Z"
   },
   {
    "duration": 36,
    "start_time": "2022-05-11T21:06:25.136Z"
   },
   {
    "duration": 31,
    "start_time": "2022-05-11T21:06:25.174Z"
   },
   {
    "duration": 55,
    "start_time": "2022-05-11T21:06:25.206Z"
   },
   {
    "duration": 29,
    "start_time": "2022-05-11T21:06:25.262Z"
   },
   {
    "duration": 47,
    "start_time": "2022-05-11T21:06:25.293Z"
   },
   {
    "duration": 28,
    "start_time": "2022-05-11T21:06:25.342Z"
   },
   {
    "duration": 25,
    "start_time": "2022-05-11T21:06:25.371Z"
   },
   {
    "duration": 6,
    "start_time": "2022-05-11T21:06:25.398Z"
   },
   {
    "duration": 29,
    "start_time": "2022-05-11T21:06:25.405Z"
   },
   {
    "duration": 29,
    "start_time": "2022-05-11T21:06:25.436Z"
   },
   {
    "duration": 599,
    "start_time": "2022-05-11T21:08:33.037Z"
   },
   {
    "duration": 57,
    "start_time": "2022-05-11T21:08:35.473Z"
   },
   {
    "duration": 54,
    "start_time": "2022-05-11T21:08:38.682Z"
   },
   {
    "duration": 15,
    "start_time": "2022-05-11T21:08:40.280Z"
   },
   {
    "duration": 818,
    "start_time": "2022-05-11T21:08:40.923Z"
   },
   {
    "duration": 59,
    "start_time": "2022-05-11T21:08:41.854Z"
   },
   {
    "duration": 58,
    "start_time": "2022-05-11T21:08:43.076Z"
   },
   {
    "duration": 14,
    "start_time": "2022-05-11T21:08:44.711Z"
   },
   {
    "duration": 308,
    "start_time": "2022-05-11T21:08:45.489Z"
   },
   {
    "duration": 59,
    "start_time": "2022-05-11T21:08:46.808Z"
   },
   {
    "duration": 52,
    "start_time": "2022-05-11T21:08:48.223Z"
   },
   {
    "duration": 674,
    "start_time": "2022-05-11T21:08:50.443Z"
   },
   {
    "duration": 3,
    "start_time": "2022-05-11T21:08:51.164Z"
   },
   {
    "duration": 6,
    "start_time": "2022-05-11T21:08:52.013Z"
   },
   {
    "duration": 54,
    "start_time": "2022-05-11T21:08:55.156Z"
   },
   {
    "duration": 693,
    "start_time": "2022-05-11T21:08:57.922Z"
   },
   {
    "duration": 2,
    "start_time": "2022-05-11T21:08:59.663Z"
   },
   {
    "duration": 6,
    "start_time": "2022-05-11T21:09:00.518Z"
   },
   {
    "duration": 248,
    "start_time": "2022-05-11T21:09:01.803Z"
   },
   {
    "duration": 10,
    "start_time": "2022-05-11T21:09:03.348Z"
   },
   {
    "duration": 3,
    "start_time": "2022-05-11T21:09:04.884Z"
   },
   {
    "duration": 59,
    "start_time": "2022-05-11T21:09:08.979Z"
   },
   {
    "duration": 57,
    "start_time": "2022-05-11T21:09:11.028Z"
   },
   {
    "duration": 61,
    "start_time": "2022-05-11T21:09:15.325Z"
   },
   {
    "duration": 58,
    "start_time": "2022-05-11T21:09:16.149Z"
   },
   {
    "duration": 61,
    "start_time": "2022-05-11T21:09:19.097Z"
   },
   {
    "duration": 59,
    "start_time": "2022-05-11T21:09:20.142Z"
   },
   {
    "duration": 52,
    "start_time": "2022-05-11T21:09:21.909Z"
   },
   {
    "duration": 6,
    "start_time": "2022-05-11T21:09:23.111Z"
   },
   {
    "duration": 3,
    "start_time": "2022-05-11T21:09:24.342Z"
   },
   {
    "duration": 9,
    "start_time": "2022-05-11T21:09:25.875Z"
   },
   {
    "duration": 587,
    "start_time": "2022-05-11T21:11:56.307Z"
   },
   {
    "duration": 60,
    "start_time": "2022-05-11T21:12:02.448Z"
   },
   {
    "duration": 56,
    "start_time": "2022-05-11T21:12:04.190Z"
   },
   {
    "duration": 16,
    "start_time": "2022-05-11T21:12:06.884Z"
   },
   {
    "duration": 893,
    "start_time": "2022-05-11T21:12:07.780Z"
   },
   {
    "duration": 71,
    "start_time": "2022-05-11T21:12:08.675Z"
   },
   {
    "duration": 64,
    "start_time": "2022-05-11T21:12:10.034Z"
   },
   {
    "duration": 15,
    "start_time": "2022-05-11T21:12:11.563Z"
   },
   {
    "duration": 299,
    "start_time": "2022-05-11T21:12:12.492Z"
   },
   {
    "duration": 55,
    "start_time": "2022-05-11T21:12:13.323Z"
   },
   {
    "duration": 50,
    "start_time": "2022-05-11T21:12:14.539Z"
   },
   {
    "duration": 737,
    "start_time": "2022-05-11T21:12:16.253Z"
   },
   {
    "duration": 2,
    "start_time": "2022-05-11T21:12:18.042Z"
   },
   {
    "duration": 8,
    "start_time": "2022-05-11T21:12:20.169Z"
   },
   {
    "duration": 266,
    "start_time": "2022-05-11T21:12:22.621Z"
   },
   {
    "duration": 10,
    "start_time": "2022-05-11T21:12:24.363Z"
   },
   {
    "duration": 3,
    "start_time": "2022-05-11T21:12:25.872Z"
   },
   {
    "duration": 60,
    "start_time": "2022-05-11T21:12:29.722Z"
   },
   {
    "duration": 56,
    "start_time": "2022-05-11T21:12:30.639Z"
   },
   {
    "duration": 60,
    "start_time": "2022-05-11T21:12:32.554Z"
   },
   {
    "duration": 58,
    "start_time": "2022-05-11T21:12:33.682Z"
   },
   {
    "duration": 53,
    "start_time": "2022-05-11T21:12:35.670Z"
   },
   {
    "duration": 52,
    "start_time": "2022-05-11T21:12:36.856Z"
   },
   {
    "duration": 51,
    "start_time": "2022-05-11T21:12:39.115Z"
   },
   {
    "duration": 7,
    "start_time": "2022-05-11T21:12:40.030Z"
   },
   {
    "duration": 3,
    "start_time": "2022-05-11T21:12:40.748Z"
   },
   {
    "duration": 11,
    "start_time": "2022-05-11T21:12:41.774Z"
   },
   {
    "duration": 2351,
    "start_time": "2022-05-12T06:46:18.178Z"
   },
   {
    "duration": 15,
    "start_time": "2022-05-12T06:46:20.532Z"
   },
   {
    "duration": 23,
    "start_time": "2022-05-12T06:46:20.549Z"
   },
   {
    "duration": 5,
    "start_time": "2022-05-12T06:46:20.574Z"
   },
   {
    "duration": 23,
    "start_time": "2022-05-12T06:46:20.597Z"
   },
   {
    "duration": 6,
    "start_time": "2022-05-12T06:46:20.622Z"
   },
   {
    "duration": 6,
    "start_time": "2022-05-12T06:46:20.629Z"
   },
   {
    "duration": 71,
    "start_time": "2022-05-12T06:46:20.638Z"
   },
   {
    "duration": 10,
    "start_time": "2022-05-12T06:46:20.712Z"
   },
   {
    "duration": 12,
    "start_time": "2022-05-12T06:46:20.726Z"
   },
   {
    "duration": 2616531,
    "start_time": "2022-05-12T06:46:20.740Z"
   },
   {
    "duration": 6,
    "start_time": "2022-05-12T07:29:57.273Z"
   },
   {
    "duration": 4,
    "start_time": "2022-05-12T07:29:57.292Z"
   },
   {
    "duration": 53,
    "start_time": "2022-05-12T07:29:57.299Z"
   },
   {
    "duration": 75,
    "start_time": "2022-05-12T07:29:57.354Z"
   },
   {
    "duration": 14763,
    "start_time": "2022-05-12T07:29:57.432Z"
   },
   {
    "duration": 7,
    "start_time": "2022-05-12T07:30:12.197Z"
   },
   {
    "duration": 18,
    "start_time": "2022-05-12T07:30:12.206Z"
   },
   {
    "duration": 12,
    "start_time": "2022-05-12T07:30:12.227Z"
   },
   {
    "duration": 800859,
    "start_time": "2022-05-12T07:30:12.241Z"
   },
   {
    "duration": 218,
    "start_time": "2022-05-12T07:43:33.105Z"
   },
   {
    "duration": 0,
    "start_time": "2022-05-12T07:43:33.327Z"
   },
   {
    "duration": 0,
    "start_time": "2022-05-12T07:43:33.329Z"
   },
   {
    "duration": 0,
    "start_time": "2022-05-12T07:43:33.332Z"
   },
   {
    "duration": 1,
    "start_time": "2022-05-12T07:43:33.334Z"
   },
   {
    "duration": 0,
    "start_time": "2022-05-12T07:43:33.337Z"
   },
   {
    "duration": 0,
    "start_time": "2022-05-12T07:43:33.339Z"
   },
   {
    "duration": 0,
    "start_time": "2022-05-12T07:43:33.341Z"
   },
   {
    "duration": 0,
    "start_time": "2022-05-12T07:43:33.343Z"
   },
   {
    "duration": 0,
    "start_time": "2022-05-12T07:43:33.345Z"
   },
   {
    "duration": 0,
    "start_time": "2022-05-12T07:43:33.347Z"
   },
   {
    "duration": 0,
    "start_time": "2022-05-12T07:43:33.350Z"
   },
   {
    "duration": 0,
    "start_time": "2022-05-12T07:43:33.352Z"
   },
   {
    "duration": 0,
    "start_time": "2022-05-12T07:43:33.354Z"
   },
   {
    "duration": 0,
    "start_time": "2022-05-12T07:43:33.357Z"
   },
   {
    "duration": 0,
    "start_time": "2022-05-12T07:43:33.358Z"
   },
   {
    "duration": 0,
    "start_time": "2022-05-12T07:43:33.360Z"
   },
   {
    "duration": 0,
    "start_time": "2022-05-12T07:43:33.362Z"
   },
   {
    "duration": 1,
    "start_time": "2022-05-12T07:43:33.364Z"
   },
   {
    "duration": 0,
    "start_time": "2022-05-12T07:43:33.395Z"
   },
   {
    "duration": 0,
    "start_time": "2022-05-12T07:43:33.402Z"
   },
   {
    "duration": 0,
    "start_time": "2022-05-12T07:43:33.405Z"
   },
   {
    "duration": 0,
    "start_time": "2022-05-12T07:43:33.407Z"
   },
   {
    "duration": 0,
    "start_time": "2022-05-12T07:43:33.410Z"
   },
   {
    "duration": 0,
    "start_time": "2022-05-12T07:43:33.413Z"
   },
   {
    "duration": 0,
    "start_time": "2022-05-12T07:43:33.416Z"
   },
   {
    "duration": 0,
    "start_time": "2022-05-12T07:43:33.419Z"
   },
   {
    "duration": 0,
    "start_time": "2022-05-12T07:43:33.421Z"
   },
   {
    "duration": 0,
    "start_time": "2022-05-12T07:43:33.423Z"
   },
   {
    "duration": 0,
    "start_time": "2022-05-12T07:43:33.424Z"
   },
   {
    "duration": 0,
    "start_time": "2022-05-12T07:43:33.425Z"
   },
   {
    "duration": 0,
    "start_time": "2022-05-12T07:43:33.426Z"
   },
   {
    "duration": 0,
    "start_time": "2022-05-12T07:43:33.428Z"
   },
   {
    "duration": 0,
    "start_time": "2022-05-12T07:43:33.430Z"
   },
   {
    "duration": 0,
    "start_time": "2022-05-12T07:43:33.432Z"
   },
   {
    "duration": 0,
    "start_time": "2022-05-12T07:43:33.434Z"
   },
   {
    "duration": 5,
    "start_time": "2022-05-12T07:47:40.141Z"
   },
   {
    "duration": 74,
    "start_time": "2022-05-12T07:47:41.019Z"
   },
   {
    "duration": 14,
    "start_time": "2022-05-12T07:47:41.619Z"
   },
   {
    "duration": 59743,
    "start_time": "2022-05-12T07:47:42.012Z"
   },
   {
    "duration": 74,
    "start_time": "2022-05-12T07:48:41.758Z"
   },
   {
    "duration": 72,
    "start_time": "2022-05-12T07:48:41.834Z"
   },
   {
    "duration": 265,
    "start_time": "2022-05-12T07:48:41.909Z"
   },
   {
    "duration": 3019266,
    "start_time": "2022-05-12T07:48:42.176Z"
   },
   {
    "duration": 4,
    "start_time": "2022-05-12T08:39:01.444Z"
   },
   {
    "duration": 8,
    "start_time": "2022-05-12T08:39:01.450Z"
   },
   {
    "duration": 43,
    "start_time": "2022-05-12T08:39:01.460Z"
   },
   {
    "duration": 4,
    "start_time": "2022-05-12T08:39:01.505Z"
   },
   {
    "duration": 8,
    "start_time": "2022-05-12T08:39:01.514Z"
   },
   {
    "duration": 6,
    "start_time": "2022-05-12T08:39:01.524Z"
   },
   {
    "duration": 24,
    "start_time": "2022-05-12T08:39:01.532Z"
   },
   {
    "duration": 4,
    "start_time": "2022-05-12T08:39:01.559Z"
   },
   {
    "duration": 29,
    "start_time": "2022-05-12T08:39:01.565Z"
   },
   {
    "duration": 21,
    "start_time": "2022-05-12T08:39:01.597Z"
   },
   {
    "duration": 248,
    "start_time": "2022-05-12T08:39:01.621Z"
   },
   {
    "duration": 0,
    "start_time": "2022-05-12T08:39:01.872Z"
   },
   {
    "duration": 0,
    "start_time": "2022-05-12T08:39:01.874Z"
   },
   {
    "duration": 0,
    "start_time": "2022-05-12T08:39:01.876Z"
   },
   {
    "duration": 0,
    "start_time": "2022-05-12T08:39:01.894Z"
   },
   {
    "duration": 0,
    "start_time": "2022-05-12T08:39:01.896Z"
   },
   {
    "duration": 0,
    "start_time": "2022-05-12T08:39:01.898Z"
   },
   {
    "duration": 0,
    "start_time": "2022-05-12T08:39:01.900Z"
   },
   {
    "duration": 0,
    "start_time": "2022-05-12T08:39:01.902Z"
   },
   {
    "duration": 1,
    "start_time": "2022-05-12T08:39:01.903Z"
   },
   {
    "duration": 0,
    "start_time": "2022-05-12T08:39:01.906Z"
   },
   {
    "duration": 0,
    "start_time": "2022-05-12T08:39:01.908Z"
   },
   {
    "duration": 0,
    "start_time": "2022-05-12T08:39:01.910Z"
   },
   {
    "duration": 0,
    "start_time": "2022-05-12T08:39:01.911Z"
   },
   {
    "duration": 0,
    "start_time": "2022-05-12T08:39:01.913Z"
   },
   {
    "duration": 0,
    "start_time": "2022-05-12T08:39:01.915Z"
   },
   {
    "duration": 0,
    "start_time": "2022-05-12T08:39:01.917Z"
   },
   {
    "duration": 0,
    "start_time": "2022-05-12T08:39:01.920Z"
   },
   {
    "duration": 0,
    "start_time": "2022-05-12T08:39:01.922Z"
   },
   {
    "duration": 91,
    "start_time": "2022-05-12T08:39:30.829Z"
   },
   {
    "duration": 13,
    "start_time": "2022-05-12T08:39:39.695Z"
   },
   {
    "duration": 8,
    "start_time": "2022-05-12T08:39:42.006Z"
   },
   {
    "duration": 297,
    "start_time": "2022-05-12T08:39:42.935Z"
   },
   {
    "duration": 21,
    "start_time": "2022-05-12T08:39:47.095Z"
   },
   {
    "duration": 52,
    "start_time": "2022-05-12T08:39:56.733Z"
   },
   {
    "duration": 77,
    "start_time": "2022-05-12T08:40:00.690Z"
   },
   {
    "duration": 4186742,
    "start_time": "2022-05-12T08:40:04.112Z"
   },
   {
    "duration": 65,
    "start_time": "2022-05-12T09:49:50.857Z"
   },
   {
    "duration": 44,
    "start_time": "2022-05-12T09:49:50.924Z"
   },
   {
    "duration": 1474959,
    "start_time": "2022-05-12T09:49:50.971Z"
   },
   {
    "duration": 61,
    "start_time": "2022-05-12T10:14:25.932Z"
   },
   {
    "duration": 42,
    "start_time": "2022-05-12T10:14:25.995Z"
   },
   {
    "duration": 4,
    "start_time": "2022-05-12T10:14:26.039Z"
   },
   {
    "duration": 8,
    "start_time": "2022-05-12T10:14:26.045Z"
   },
   {
    "duration": 11,
    "start_time": "2022-05-12T10:14:26.055Z"
   },
   {
    "duration": 3,
    "start_time": "2022-05-12T10:14:26.096Z"
   },
   {
    "duration": 201,
    "start_time": "2022-05-12T10:14:26.101Z"
   },
   {
    "duration": 5,
    "start_time": "2022-05-12T10:14:26.304Z"
   },
   {
    "duration": 8,
    "start_time": "2022-05-12T10:14:26.311Z"
   },
   {
    "duration": 17,
    "start_time": "2022-05-12T10:15:19.150Z"
   },
   {
    "duration": 199,
    "start_time": "2022-05-12T10:15:23.669Z"
   },
   {
    "duration": 7,
    "start_time": "2022-05-12T10:26:12.735Z"
   },
   {
    "duration": 153195,
    "start_time": "2022-05-12T10:29:35.100Z"
   },
   {
    "duration": 24,
    "start_time": "2022-05-12T10:43:30.656Z"
   },
   {
    "duration": 6,
    "start_time": "2022-05-12T10:43:54.764Z"
   },
   {
    "duration": 3810790,
    "start_time": "2022-05-12T10:44:34.213Z"
   },
   {
    "duration": 13,
    "start_time": "2022-05-12T11:48:05.006Z"
   },
   {
    "duration": 22,
    "start_time": "2022-05-12T11:48:05.022Z"
   },
   {
    "duration": 50,
    "start_time": "2022-05-12T11:49:00.496Z"
   },
   {
    "duration": 45,
    "start_time": "2022-05-12T11:49:03.945Z"
   },
   {
    "duration": 6,
    "start_time": "2022-05-12T11:49:05.846Z"
   },
   {
    "duration": 50,
    "start_time": "2022-05-12T11:49:27.983Z"
   },
   {
    "duration": 46,
    "start_time": "2022-05-12T11:49:28.941Z"
   },
   {
    "duration": 46,
    "start_time": "2022-05-12T11:49:40.520Z"
   },
   {
    "duration": 43,
    "start_time": "2022-05-12T11:49:43.337Z"
   },
   {
    "duration": 185,
    "start_time": "2022-05-12T11:49:47.535Z"
   },
   {
    "duration": 2486,
    "start_time": "2022-05-12T11:51:30.009Z"
   },
   {
    "duration": 21,
    "start_time": "2022-05-12T11:51:32.498Z"
   },
   {
    "duration": 37,
    "start_time": "2022-05-12T11:51:32.522Z"
   },
   {
    "duration": 30,
    "start_time": "2022-05-12T11:51:32.563Z"
   },
   {
    "duration": 22,
    "start_time": "2022-05-12T11:51:32.595Z"
   },
   {
    "duration": 8,
    "start_time": "2022-05-12T11:51:32.619Z"
   },
   {
    "duration": 7,
    "start_time": "2022-05-12T11:51:32.629Z"
   },
   {
    "duration": 71,
    "start_time": "2022-05-12T11:51:32.639Z"
   },
   {
    "duration": 9,
    "start_time": "2022-05-12T11:51:32.712Z"
   },
   {
    "duration": 10,
    "start_time": "2022-05-12T11:51:32.726Z"
   },
   {
    "duration": 1450957,
    "start_time": "2022-05-12T11:51:32.740Z"
   },
   {
    "duration": 4,
    "start_time": "2022-05-12T12:15:43.700Z"
   },
   {
    "duration": 14,
    "start_time": "2022-05-12T12:15:43.707Z"
   },
   {
    "duration": 69,
    "start_time": "2022-05-12T12:15:43.724Z"
   },
   {
    "duration": 70,
    "start_time": "2022-05-12T12:15:43.797Z"
   },
   {
    "duration": 19589,
    "start_time": "2022-05-12T12:15:43.870Z"
   },
   {
    "duration": 6,
    "start_time": "2022-05-12T12:16:03.462Z"
   },
   {
    "duration": 37,
    "start_time": "2022-05-12T12:16:03.471Z"
   },
   {
    "duration": 190,
    "start_time": "2022-05-12T12:16:03.511Z"
   },
   {
    "duration": 0,
    "start_time": "2022-05-12T12:16:03.705Z"
   },
   {
    "duration": 0,
    "start_time": "2022-05-12T12:16:03.707Z"
   },
   {
    "duration": 0,
    "start_time": "2022-05-12T12:16:03.709Z"
   },
   {
    "duration": 0,
    "start_time": "2022-05-12T12:16:03.711Z"
   },
   {
    "duration": 0,
    "start_time": "2022-05-12T12:16:03.713Z"
   },
   {
    "duration": 0,
    "start_time": "2022-05-12T12:16:03.715Z"
   },
   {
    "duration": 0,
    "start_time": "2022-05-12T12:16:03.717Z"
   },
   {
    "duration": 0,
    "start_time": "2022-05-12T12:16:03.719Z"
   },
   {
    "duration": 0,
    "start_time": "2022-05-12T12:16:03.720Z"
   },
   {
    "duration": 0,
    "start_time": "2022-05-12T12:16:03.721Z"
   },
   {
    "duration": 1,
    "start_time": "2022-05-12T12:16:03.723Z"
   },
   {
    "duration": 0,
    "start_time": "2022-05-12T12:16:03.726Z"
   },
   {
    "duration": 0,
    "start_time": "2022-05-12T12:16:03.727Z"
   },
   {
    "duration": 0,
    "start_time": "2022-05-12T12:16:03.730Z"
   },
   {
    "duration": 0,
    "start_time": "2022-05-12T12:16:03.731Z"
   },
   {
    "duration": 0,
    "start_time": "2022-05-12T12:16:03.734Z"
   },
   {
    "duration": 0,
    "start_time": "2022-05-12T12:16:03.735Z"
   },
   {
    "duration": 0,
    "start_time": "2022-05-12T12:16:03.737Z"
   },
   {
    "duration": 0,
    "start_time": "2022-05-12T12:16:03.739Z"
   },
   {
    "duration": 0,
    "start_time": "2022-05-12T12:16:03.793Z"
   },
   {
    "duration": 0,
    "start_time": "2022-05-12T12:16:03.796Z"
   },
   {
    "duration": 0,
    "start_time": "2022-05-12T12:16:03.799Z"
   },
   {
    "duration": 0,
    "start_time": "2022-05-12T12:16:03.800Z"
   },
   {
    "duration": 0,
    "start_time": "2022-05-12T12:16:03.803Z"
   },
   {
    "duration": 0,
    "start_time": "2022-05-12T12:16:03.805Z"
   },
   {
    "duration": 0,
    "start_time": "2022-05-12T12:16:03.806Z"
   },
   {
    "duration": 0,
    "start_time": "2022-05-12T12:16:03.809Z"
   },
   {
    "duration": 0,
    "start_time": "2022-05-12T12:16:03.811Z"
   },
   {
    "duration": 0,
    "start_time": "2022-05-12T12:16:03.812Z"
   },
   {
    "duration": 0,
    "start_time": "2022-05-12T12:16:03.814Z"
   },
   {
    "duration": 0,
    "start_time": "2022-05-12T12:16:03.816Z"
   },
   {
    "duration": 0,
    "start_time": "2022-05-12T12:16:03.819Z"
   },
   {
    "duration": 0,
    "start_time": "2022-05-12T12:16:03.821Z"
   },
   {
    "duration": 0,
    "start_time": "2022-05-12T12:16:03.824Z"
   },
   {
    "duration": 0,
    "start_time": "2022-05-12T12:16:03.826Z"
   },
   {
    "duration": 0,
    "start_time": "2022-05-12T12:16:03.829Z"
   },
   {
    "duration": 0,
    "start_time": "2022-05-12T12:16:03.830Z"
   },
   {
    "duration": 0,
    "start_time": "2022-05-12T12:16:03.832Z"
   },
   {
    "duration": 0,
    "start_time": "2022-05-12T12:16:03.895Z"
   },
   {
    "duration": 0,
    "start_time": "2022-05-12T12:16:03.897Z"
   },
   {
    "duration": 10,
    "start_time": "2022-05-12T12:37:33.711Z"
   },
   {
    "duration": 8485,
    "start_time": "2022-05-12T12:37:35.917Z"
   },
   {
    "duration": 11,
    "start_time": "2022-05-12T12:37:47.493Z"
   },
   {
    "duration": 52,
    "start_time": "2022-05-12T12:37:57.741Z"
   },
   {
    "duration": 12,
    "start_time": "2022-05-12T12:38:04.764Z"
   },
   {
    "duration": 53314,
    "start_time": "2022-05-12T12:38:07.629Z"
   },
   {
    "duration": 74,
    "start_time": "2022-05-12T12:39:00.945Z"
   },
   {
    "duration": 57,
    "start_time": "2022-05-12T12:39:01.021Z"
   },
   {
    "duration": 212,
    "start_time": "2022-05-12T12:39:01.094Z"
   },
   {
    "duration": 2703565,
    "start_time": "2022-05-12T12:42:57.727Z"
   },
   {
    "duration": 9,
    "start_time": "2022-05-12T13:28:01.296Z"
   },
   {
    "duration": 28,
    "start_time": "2022-05-12T13:28:01.309Z"
   },
   {
    "duration": 9,
    "start_time": "2022-05-12T13:28:01.340Z"
   },
   {
    "duration": 64,
    "start_time": "2022-05-12T13:28:01.352Z"
   },
   {
    "duration": 9,
    "start_time": "2022-05-12T13:28:01.419Z"
   },
   {
    "duration": 14,
    "start_time": "2022-05-12T13:28:01.430Z"
   },
   {
    "duration": 59,
    "start_time": "2022-05-12T13:28:01.446Z"
   },
   {
    "duration": 39,
    "start_time": "2022-05-12T13:28:01.508Z"
   },
   {
    "duration": 3,
    "start_time": "2022-05-12T13:28:01.551Z"
   },
   {
    "duration": 14,
    "start_time": "2022-05-12T13:28:01.557Z"
   },
   {
    "duration": 8,
    "start_time": "2022-05-12T13:28:01.573Z"
   },
   {
    "duration": 23,
    "start_time": "2022-05-12T13:28:01.583Z"
   },
   {
    "duration": 10,
    "start_time": "2022-05-12T13:28:01.610Z"
   },
   {
    "duration": 310,
    "start_time": "2022-05-12T13:28:01.623Z"
   },
   {
    "duration": 13,
    "start_time": "2022-05-12T13:28:01.935Z"
   },
   {
    "duration": 34,
    "start_time": "2022-05-12T13:28:01.950Z"
   },
   {
    "duration": 88,
    "start_time": "2022-05-12T13:28:01.986Z"
   },
   {
    "duration": 56,
    "start_time": "2022-05-12T13:28:02.077Z"
   },
   {
    "duration": 1318041,
    "start_time": "2022-05-12T13:28:02.135Z"
   },
   {
    "duration": 80,
    "start_time": "2022-05-12T13:50:00.178Z"
   },
   {
    "duration": 80,
    "start_time": "2022-05-12T13:50:00.260Z"
   },
   {
    "duration": 6,
    "start_time": "2022-05-12T13:50:00.342Z"
   },
   {
    "duration": 563994,
    "start_time": "2022-05-12T13:50:00.350Z"
   },
   {
    "duration": 76,
    "start_time": "2022-05-12T13:59:24.347Z"
   },
   {
    "duration": 90,
    "start_time": "2022-05-12T13:59:24.425Z"
   },
   {
    "duration": 11,
    "start_time": "2022-05-12T13:59:24.518Z"
   },
   {
    "duration": 4,
    "start_time": "2022-05-12T13:59:24.534Z"
   },
   {
    "duration": 13,
    "start_time": "2022-05-12T13:59:24.541Z"
   },
   {
    "duration": 8,
    "start_time": "2022-05-12T13:59:24.556Z"
   },
   {
    "duration": 37,
    "start_time": "2022-05-12T13:59:24.572Z"
   },
   {
    "duration": 322,
    "start_time": "2022-05-12T13:59:24.613Z"
   },
   {
    "duration": 240,
    "start_time": "2022-05-12T14:04:59.842Z"
   },
   {
    "duration": 396,
    "start_time": "2022-05-12T14:05:13.914Z"
   },
   {
    "duration": 4,
    "start_time": "2022-05-12T17:49:09.862Z"
   },
   {
    "duration": 1661,
    "start_time": "2022-05-12T17:53:12.714Z"
   },
   {
    "duration": 12,
    "start_time": "2022-05-12T17:53:14.377Z"
   },
   {
    "duration": 20,
    "start_time": "2022-05-12T17:53:14.392Z"
   },
   {
    "duration": 4,
    "start_time": "2022-05-12T17:53:14.414Z"
   },
   {
    "duration": 13,
    "start_time": "2022-05-12T17:53:14.421Z"
   },
   {
    "duration": 4,
    "start_time": "2022-05-12T17:53:14.436Z"
   },
   {
    "duration": 4,
    "start_time": "2022-05-12T17:53:14.442Z"
   },
   {
    "duration": 61,
    "start_time": "2022-05-12T17:53:14.448Z"
   },
   {
    "duration": 7,
    "start_time": "2022-05-12T17:53:14.510Z"
   },
   {
    "duration": 119,
    "start_time": "2022-05-12T17:53:14.519Z"
   },
   {
    "duration": 0,
    "start_time": "2022-05-12T17:53:14.641Z"
   },
   {
    "duration": 0,
    "start_time": "2022-05-12T17:53:14.642Z"
   },
   {
    "duration": 0,
    "start_time": "2022-05-12T17:53:14.643Z"
   },
   {
    "duration": 0,
    "start_time": "2022-05-12T17:53:14.644Z"
   },
   {
    "duration": 0,
    "start_time": "2022-05-12T17:53:14.646Z"
   },
   {
    "duration": 0,
    "start_time": "2022-05-12T17:53:14.647Z"
   },
   {
    "duration": 0,
    "start_time": "2022-05-12T17:53:14.648Z"
   },
   {
    "duration": 0,
    "start_time": "2022-05-12T17:53:14.649Z"
   },
   {
    "duration": 0,
    "start_time": "2022-05-12T17:53:14.649Z"
   },
   {
    "duration": 0,
    "start_time": "2022-05-12T17:53:14.650Z"
   },
   {
    "duration": 0,
    "start_time": "2022-05-12T17:53:14.651Z"
   },
   {
    "duration": 0,
    "start_time": "2022-05-12T17:53:14.652Z"
   },
   {
    "duration": 0,
    "start_time": "2022-05-12T17:53:14.653Z"
   },
   {
    "duration": 0,
    "start_time": "2022-05-12T17:53:14.654Z"
   },
   {
    "duration": 0,
    "start_time": "2022-05-12T17:53:14.655Z"
   },
   {
    "duration": 0,
    "start_time": "2022-05-12T17:53:14.656Z"
   },
   {
    "duration": 0,
    "start_time": "2022-05-12T17:53:14.657Z"
   },
   {
    "duration": 0,
    "start_time": "2022-05-12T17:53:14.658Z"
   },
   {
    "duration": 0,
    "start_time": "2022-05-12T17:53:14.659Z"
   },
   {
    "duration": 0,
    "start_time": "2022-05-12T17:53:14.660Z"
   },
   {
    "duration": 0,
    "start_time": "2022-05-12T17:53:14.660Z"
   },
   {
    "duration": 0,
    "start_time": "2022-05-12T17:53:14.662Z"
   },
   {
    "duration": 0,
    "start_time": "2022-05-12T17:53:14.663Z"
   },
   {
    "duration": 0,
    "start_time": "2022-05-12T17:53:14.664Z"
   },
   {
    "duration": 0,
    "start_time": "2022-05-12T17:53:14.666Z"
   },
   {
    "duration": 0,
    "start_time": "2022-05-12T17:53:14.667Z"
   },
   {
    "duration": 0,
    "start_time": "2022-05-12T17:53:14.668Z"
   },
   {
    "duration": 0,
    "start_time": "2022-05-12T17:53:14.670Z"
   },
   {
    "duration": 0,
    "start_time": "2022-05-12T17:53:14.671Z"
   },
   {
    "duration": 0,
    "start_time": "2022-05-12T17:53:14.672Z"
   },
   {
    "duration": 0,
    "start_time": "2022-05-12T17:53:14.674Z"
   },
   {
    "duration": 0,
    "start_time": "2022-05-12T17:53:14.675Z"
   },
   {
    "duration": 0,
    "start_time": "2022-05-12T17:53:14.676Z"
   },
   {
    "duration": 0,
    "start_time": "2022-05-12T17:53:14.677Z"
   },
   {
    "duration": 0,
    "start_time": "2022-05-12T17:53:14.690Z"
   },
   {
    "duration": 0,
    "start_time": "2022-05-12T17:53:14.692Z"
   },
   {
    "duration": 0,
    "start_time": "2022-05-12T17:53:14.694Z"
   },
   {
    "duration": 0,
    "start_time": "2022-05-12T17:53:14.695Z"
   },
   {
    "duration": 0,
    "start_time": "2022-05-12T17:53:14.696Z"
   },
   {
    "duration": 0,
    "start_time": "2022-05-12T17:53:14.698Z"
   },
   {
    "duration": 0,
    "start_time": "2022-05-12T17:53:14.699Z"
   },
   {
    "duration": 0,
    "start_time": "2022-05-12T17:53:14.701Z"
   },
   {
    "duration": 0,
    "start_time": "2022-05-12T17:53:14.702Z"
   },
   {
    "duration": 0,
    "start_time": "2022-05-12T17:53:14.703Z"
   },
   {
    "duration": 0,
    "start_time": "2022-05-12T17:53:14.705Z"
   },
   {
    "duration": 0,
    "start_time": "2022-05-12T17:53:14.706Z"
   },
   {
    "duration": 0,
    "start_time": "2022-05-12T17:53:14.708Z"
   },
   {
    "duration": 0,
    "start_time": "2022-05-12T17:53:14.709Z"
   },
   {
    "duration": 0,
    "start_time": "2022-05-12T17:53:14.710Z"
   },
   {
    "duration": 1509,
    "start_time": "2022-05-12T17:59:11.753Z"
   },
   {
    "duration": 16,
    "start_time": "2022-05-12T17:59:13.264Z"
   },
   {
    "duration": 27,
    "start_time": "2022-05-12T17:59:13.282Z"
   },
   {
    "duration": 4,
    "start_time": "2022-05-12T17:59:13.312Z"
   },
   {
    "duration": 21,
    "start_time": "2022-05-12T17:59:13.317Z"
   },
   {
    "duration": 5,
    "start_time": "2022-05-12T17:59:13.340Z"
   },
   {
    "duration": 18,
    "start_time": "2022-05-12T17:59:13.347Z"
   },
   {
    "duration": 49,
    "start_time": "2022-05-12T17:59:13.368Z"
   },
   {
    "duration": 7,
    "start_time": "2022-05-12T17:59:13.419Z"
   },
   {
    "duration": 10,
    "start_time": "2022-05-12T17:59:13.429Z"
   },
   {
    "duration": 765458,
    "start_time": "2022-05-12T17:59:13.441Z"
   },
   {
    "duration": 4,
    "start_time": "2022-05-12T18:11:58.901Z"
   },
   {
    "duration": 9,
    "start_time": "2022-05-12T18:11:58.907Z"
   },
   {
    "duration": 46,
    "start_time": "2022-05-12T18:11:58.917Z"
   },
   {
    "duration": 67,
    "start_time": "2022-05-12T18:11:58.965Z"
   },
   {
    "duration": 30600,
    "start_time": "2022-05-12T18:12:23.094Z"
   },
   {
    "duration": 51,
    "start_time": "2022-05-12T18:12:53.696Z"
   },
   {
    "duration": 160,
    "start_time": "2022-05-12T18:12:53.749Z"
   },
   {
    "duration": 0,
    "start_time": "2022-05-12T18:12:53.912Z"
   },
   {
    "duration": 0,
    "start_time": "2022-05-12T18:12:53.913Z"
   },
   {
    "duration": 0,
    "start_time": "2022-05-12T18:12:53.914Z"
   },
   {
    "duration": 0,
    "start_time": "2022-05-12T18:12:53.915Z"
   },
   {
    "duration": 0,
    "start_time": "2022-05-12T18:12:53.916Z"
   },
   {
    "duration": 0,
    "start_time": "2022-05-12T18:12:53.917Z"
   },
   {
    "duration": 0,
    "start_time": "2022-05-12T18:12:53.918Z"
   },
   {
    "duration": 0,
    "start_time": "2022-05-12T18:12:53.919Z"
   },
   {
    "duration": 0,
    "start_time": "2022-05-12T18:12:53.920Z"
   },
   {
    "duration": 0,
    "start_time": "2022-05-12T18:12:53.921Z"
   },
   {
    "duration": 0,
    "start_time": "2022-05-12T18:12:53.922Z"
   },
   {
    "duration": 0,
    "start_time": "2022-05-12T18:12:53.922Z"
   },
   {
    "duration": 0,
    "start_time": "2022-05-12T18:12:53.924Z"
   },
   {
    "duration": 0,
    "start_time": "2022-05-12T18:12:53.925Z"
   },
   {
    "duration": 0,
    "start_time": "2022-05-12T18:12:53.926Z"
   },
   {
    "duration": 0,
    "start_time": "2022-05-12T18:12:53.927Z"
   },
   {
    "duration": 0,
    "start_time": "2022-05-12T18:12:53.928Z"
   },
   {
    "duration": 0,
    "start_time": "2022-05-12T18:12:53.929Z"
   },
   {
    "duration": 0,
    "start_time": "2022-05-12T18:12:53.930Z"
   },
   {
    "duration": 0,
    "start_time": "2022-05-12T18:12:53.931Z"
   },
   {
    "duration": 0,
    "start_time": "2022-05-12T18:12:53.932Z"
   },
   {
    "duration": 0,
    "start_time": "2022-05-12T18:12:53.933Z"
   },
   {
    "duration": 0,
    "start_time": "2022-05-12T18:12:53.934Z"
   },
   {
    "duration": 0,
    "start_time": "2022-05-12T18:12:53.936Z"
   },
   {
    "duration": 0,
    "start_time": "2022-05-12T18:12:53.936Z"
   },
   {
    "duration": 0,
    "start_time": "2022-05-12T18:12:53.937Z"
   },
   {
    "duration": 0,
    "start_time": "2022-05-12T18:12:53.938Z"
   },
   {
    "duration": 0,
    "start_time": "2022-05-12T18:12:53.939Z"
   },
   {
    "duration": 0,
    "start_time": "2022-05-12T18:12:53.988Z"
   },
   {
    "duration": 0,
    "start_time": "2022-05-12T18:12:53.990Z"
   },
   {
    "duration": 0,
    "start_time": "2022-05-12T18:12:53.991Z"
   },
   {
    "duration": 0,
    "start_time": "2022-05-12T18:12:53.992Z"
   },
   {
    "duration": 0,
    "start_time": "2022-05-12T18:12:53.992Z"
   },
   {
    "duration": 1489,
    "start_time": "2022-05-12T18:14:19.605Z"
   },
   {
    "duration": 16,
    "start_time": "2022-05-12T18:14:21.097Z"
   },
   {
    "duration": 16,
    "start_time": "2022-05-12T18:14:21.114Z"
   },
   {
    "duration": 3,
    "start_time": "2022-05-12T18:14:21.132Z"
   },
   {
    "duration": 14,
    "start_time": "2022-05-12T18:14:21.137Z"
   },
   {
    "duration": 5,
    "start_time": "2022-05-12T18:14:21.153Z"
   },
   {
    "duration": 33,
    "start_time": "2022-05-12T18:14:21.159Z"
   },
   {
    "duration": 35,
    "start_time": "2022-05-12T18:14:21.194Z"
   },
   {
    "duration": 7,
    "start_time": "2022-05-12T18:14:21.231Z"
   },
   {
    "duration": 10,
    "start_time": "2022-05-12T18:14:21.241Z"
   },
   {
    "duration": 821187,
    "start_time": "2022-05-12T18:14:21.253Z"
   },
   {
    "duration": 4,
    "start_time": "2022-05-12T18:28:02.442Z"
   },
   {
    "duration": 31,
    "start_time": "2022-05-12T18:28:02.448Z"
   },
   {
    "duration": 75,
    "start_time": "2022-05-12T18:28:02.481Z"
   },
   {
    "duration": 60,
    "start_time": "2022-05-12T18:28:02.558Z"
   },
   {
    "duration": 9814,
    "start_time": "2022-05-12T18:28:02.621Z"
   },
   {
    "duration": 4,
    "start_time": "2022-05-12T18:28:12.437Z"
   },
   {
    "duration": 16,
    "start_time": "2022-05-12T18:28:12.442Z"
   },
   {
    "duration": 7,
    "start_time": "2022-05-12T18:28:12.460Z"
   },
   {
    "duration": 13440,
    "start_time": "2022-05-12T18:28:12.468Z"
   },
   {
    "duration": 73,
    "start_time": "2022-05-12T18:28:25.920Z"
   },
   {
    "duration": 193,
    "start_time": "2022-05-12T18:28:26.000Z"
   },
   {
    "duration": 28,
    "start_time": "2022-05-12T18:28:26.196Z"
   },
   {
    "duration": 33836,
    "start_time": "2022-05-12T18:28:26.226Z"
   },
   {
    "duration": 62,
    "start_time": "2022-05-12T18:29:00.064Z"
   },
   {
    "duration": 47,
    "start_time": "2022-05-12T18:29:00.128Z"
   },
   {
    "duration": 139,
    "start_time": "2022-05-12T18:29:00.189Z"
   },
   {
    "duration": 0,
    "start_time": "2022-05-12T18:29:00.331Z"
   },
   {
    "duration": 0,
    "start_time": "2022-05-12T18:29:00.332Z"
   },
   {
    "duration": 0,
    "start_time": "2022-05-12T18:29:00.333Z"
   },
   {
    "duration": 0,
    "start_time": "2022-05-12T18:29:00.334Z"
   },
   {
    "duration": 0,
    "start_time": "2022-05-12T18:29:00.335Z"
   },
   {
    "duration": 0,
    "start_time": "2022-05-12T18:29:00.336Z"
   },
   {
    "duration": 0,
    "start_time": "2022-05-12T18:29:00.337Z"
   },
   {
    "duration": 0,
    "start_time": "2022-05-12T18:29:00.338Z"
   },
   {
    "duration": 0,
    "start_time": "2022-05-12T18:29:00.339Z"
   },
   {
    "duration": 0,
    "start_time": "2022-05-12T18:29:00.340Z"
   },
   {
    "duration": 0,
    "start_time": "2022-05-12T18:29:00.341Z"
   },
   {
    "duration": 0,
    "start_time": "2022-05-12T18:29:00.341Z"
   },
   {
    "duration": 0,
    "start_time": "2022-05-12T18:29:00.342Z"
   },
   {
    "duration": 0,
    "start_time": "2022-05-12T18:29:00.343Z"
   },
   {
    "duration": 0,
    "start_time": "2022-05-12T18:29:00.344Z"
   },
   {
    "duration": 0,
    "start_time": "2022-05-12T18:29:00.345Z"
   },
   {
    "duration": 0,
    "start_time": "2022-05-12T18:29:00.346Z"
   },
   {
    "duration": 0,
    "start_time": "2022-05-12T18:29:00.347Z"
   },
   {
    "duration": 0,
    "start_time": "2022-05-12T18:29:00.348Z"
   },
   {
    "duration": 0,
    "start_time": "2022-05-12T18:29:00.349Z"
   },
   {
    "duration": 0,
    "start_time": "2022-05-12T18:29:00.350Z"
   },
   {
    "duration": 0,
    "start_time": "2022-05-12T18:29:00.351Z"
   },
   {
    "duration": 0,
    "start_time": "2022-05-12T18:29:00.351Z"
   },
   {
    "duration": 0,
    "start_time": "2022-05-12T18:29:00.391Z"
   },
   {
    "duration": 0,
    "start_time": "2022-05-12T18:29:00.392Z"
   },
   {
    "duration": 0,
    "start_time": "2022-05-12T18:29:00.394Z"
   },
   {
    "duration": 0,
    "start_time": "2022-05-12T18:29:00.395Z"
   },
   {
    "duration": 0,
    "start_time": "2022-05-12T18:29:00.396Z"
   },
   {
    "duration": 0,
    "start_time": "2022-05-12T18:29:00.397Z"
   },
   {
    "duration": 0,
    "start_time": "2022-05-12T18:29:00.398Z"
   },
   {
    "duration": 0,
    "start_time": "2022-05-12T18:29:00.400Z"
   },
   {
    "duration": 0,
    "start_time": "2022-05-12T18:29:00.401Z"
   },
   {
    "duration": 1849,
    "start_time": "2022-05-12T18:48:53.622Z"
   },
   {
    "duration": 11,
    "start_time": "2022-05-12T18:48:55.472Z"
   },
   {
    "duration": 57,
    "start_time": "2022-05-12T18:48:55.485Z"
   },
   {
    "duration": 3,
    "start_time": "2022-05-12T18:48:55.544Z"
   },
   {
    "duration": 15,
    "start_time": "2022-05-12T18:48:55.550Z"
   },
   {
    "duration": 5,
    "start_time": "2022-05-12T18:48:55.566Z"
   },
   {
    "duration": 4,
    "start_time": "2022-05-12T18:48:55.573Z"
   },
   {
    "duration": 53,
    "start_time": "2022-05-12T18:48:55.579Z"
   },
   {
    "duration": 10,
    "start_time": "2022-05-12T18:48:55.633Z"
   },
   {
    "duration": 10,
    "start_time": "2022-05-12T18:48:55.645Z"
   },
   {
    "duration": 842388,
    "start_time": "2022-05-12T18:48:55.657Z"
   },
   {
    "duration": 4,
    "start_time": "2022-05-12T19:02:58.047Z"
   },
   {
    "duration": 8,
    "start_time": "2022-05-12T19:02:58.052Z"
   },
   {
    "duration": 50,
    "start_time": "2022-05-12T19:02:58.064Z"
   },
   {
    "duration": 55,
    "start_time": "2022-05-12T19:02:58.116Z"
   },
   {
    "duration": 9680,
    "start_time": "2022-05-12T19:02:58.172Z"
   },
   {
    "duration": 4,
    "start_time": "2022-05-12T19:03:07.854Z"
   },
   {
    "duration": 15,
    "start_time": "2022-05-12T19:03:07.859Z"
   },
   {
    "duration": 11,
    "start_time": "2022-05-12T19:03:07.892Z"
   },
   {
    "duration": 30522,
    "start_time": "2022-05-12T19:03:07.905Z"
   },
   {
    "duration": 4,
    "start_time": "2022-05-12T19:03:38.502Z"
   },
   {
    "duration": 121,
    "start_time": "2022-05-12T19:03:38.516Z"
   },
   {
    "duration": 182,
    "start_time": "2022-05-12T19:03:38.639Z"
   },
   {
    "duration": 32787,
    "start_time": "2022-05-12T19:03:38.831Z"
   },
   {
    "duration": 55,
    "start_time": "2022-05-12T19:04:11.620Z"
   },
   {
    "duration": 62,
    "start_time": "2022-05-12T19:04:11.677Z"
   },
   {
    "duration": 152,
    "start_time": "2022-05-12T19:04:11.741Z"
   },
   {
    "duration": 0,
    "start_time": "2022-05-12T19:04:11.896Z"
   },
   {
    "duration": 0,
    "start_time": "2022-05-12T19:04:11.897Z"
   },
   {
    "duration": 0,
    "start_time": "2022-05-12T19:04:11.899Z"
   },
   {
    "duration": 0,
    "start_time": "2022-05-12T19:04:11.900Z"
   },
   {
    "duration": 0,
    "start_time": "2022-05-12T19:04:11.901Z"
   },
   {
    "duration": 0,
    "start_time": "2022-05-12T19:04:11.904Z"
   },
   {
    "duration": 0,
    "start_time": "2022-05-12T19:04:11.907Z"
   },
   {
    "duration": 0,
    "start_time": "2022-05-12T19:04:11.909Z"
   },
   {
    "duration": 0,
    "start_time": "2022-05-12T19:04:11.910Z"
   },
   {
    "duration": 0,
    "start_time": "2022-05-12T19:04:11.912Z"
   },
   {
    "duration": 0,
    "start_time": "2022-05-12T19:04:11.913Z"
   },
   {
    "duration": 0,
    "start_time": "2022-05-12T19:04:11.915Z"
   },
   {
    "duration": 0,
    "start_time": "2022-05-12T19:04:11.916Z"
   },
   {
    "duration": 0,
    "start_time": "2022-05-12T19:04:11.917Z"
   },
   {
    "duration": 0,
    "start_time": "2022-05-12T19:04:11.918Z"
   },
   {
    "duration": 0,
    "start_time": "2022-05-12T19:04:11.919Z"
   },
   {
    "duration": 0,
    "start_time": "2022-05-12T19:04:11.920Z"
   },
   {
    "duration": 0,
    "start_time": "2022-05-12T19:04:11.921Z"
   },
   {
    "duration": 0,
    "start_time": "2022-05-12T19:04:11.923Z"
   },
   {
    "duration": 0,
    "start_time": "2022-05-12T19:04:11.924Z"
   },
   {
    "duration": 0,
    "start_time": "2022-05-12T19:04:11.925Z"
   },
   {
    "duration": 0,
    "start_time": "2022-05-12T19:04:11.926Z"
   },
   {
    "duration": 0,
    "start_time": "2022-05-12T19:04:11.928Z"
   },
   {
    "duration": 0,
    "start_time": "2022-05-12T19:04:11.929Z"
   },
   {
    "duration": 0,
    "start_time": "2022-05-12T19:04:11.930Z"
   },
   {
    "duration": 0,
    "start_time": "2022-05-12T19:04:11.931Z"
   },
   {
    "duration": 0,
    "start_time": "2022-05-12T19:04:11.932Z"
   },
   {
    "duration": 0,
    "start_time": "2022-05-12T19:04:11.933Z"
   },
   {
    "duration": 0,
    "start_time": "2022-05-12T19:04:11.934Z"
   },
   {
    "duration": 0,
    "start_time": "2022-05-12T19:04:11.990Z"
   },
   {
    "duration": 0,
    "start_time": "2022-05-12T19:04:11.991Z"
   },
   {
    "duration": 0,
    "start_time": "2022-05-12T19:04:11.992Z"
   },
   {
    "duration": 227,
    "start_time": "2022-05-12T19:50:39.559Z"
   },
   {
    "duration": 45571,
    "start_time": "2022-05-12T19:51:22.303Z"
   },
   {
    "duration": 99,
    "start_time": "2022-05-12T19:52:07.876Z"
   },
   {
    "duration": 65,
    "start_time": "2022-05-12T19:52:07.977Z"
   },
   {
    "duration": 185,
    "start_time": "2022-05-12T19:52:08.046Z"
   },
   {
    "duration": 68,
    "start_time": "2022-05-12T19:53:27.955Z"
   },
   {
    "duration": 225,
    "start_time": "2022-05-12T19:53:30.319Z"
   },
   {
    "duration": 919147,
    "start_time": "2022-05-12T19:53:38.624Z"
   },
   {
    "duration": 4,
    "start_time": "2022-05-12T20:08:57.774Z"
   },
   {
    "duration": 13,
    "start_time": "2022-05-12T20:08:57.780Z"
   },
   {
    "duration": 15,
    "start_time": "2022-05-12T20:08:57.796Z"
   },
   {
    "duration": 20,
    "start_time": "2022-05-12T20:08:57.815Z"
   },
   {
    "duration": 2,
    "start_time": "2022-05-12T20:08:57.837Z"
   },
   {
    "duration": 5,
    "start_time": "2022-05-12T20:08:57.841Z"
   },
   {
    "duration": 6,
    "start_time": "2022-05-12T20:08:57.848Z"
   },
   {
    "duration": 15,
    "start_time": "2022-05-12T20:08:57.855Z"
   },
   {
    "duration": 15,
    "start_time": "2022-05-12T20:08:57.873Z"
   },
   {
    "duration": 18,
    "start_time": "2022-05-12T20:08:57.893Z"
   },
   {
    "duration": 5,
    "start_time": "2022-05-12T20:08:57.913Z"
   },
   {
    "duration": 10,
    "start_time": "2022-05-12T20:08:57.920Z"
   },
   {
    "duration": 7,
    "start_time": "2022-05-12T20:08:57.932Z"
   },
   {
    "duration": 215,
    "start_time": "2022-05-12T20:08:57.941Z"
   },
   {
    "duration": 37,
    "start_time": "2022-05-12T20:08:58.158Z"
   },
   {
    "duration": 12,
    "start_time": "2022-05-12T20:08:58.198Z"
   },
   {
    "duration": 50,
    "start_time": "2022-05-12T20:08:58.212Z"
   },
   {
    "duration": 54,
    "start_time": "2022-05-12T20:08:58.264Z"
   },
   {
    "duration": 661014,
    "start_time": "2022-05-12T20:08:58.321Z"
   },
   {
    "duration": 54,
    "start_time": "2022-05-12T20:19:59.337Z"
   },
   {
    "duration": 47,
    "start_time": "2022-05-12T20:19:59.393Z"
   },
   {
    "duration": 4,
    "start_time": "2022-05-12T20:19:59.443Z"
   },
   {
    "duration": 311683,
    "start_time": "2022-05-12T20:19:59.449Z"
   },
   {
    "duration": 29,
    "start_time": "2022-05-12T20:25:11.134Z"
   },
   {
    "duration": 44,
    "start_time": "2022-05-12T20:25:11.165Z"
   },
   {
    "duration": 4,
    "start_time": "2022-05-12T20:25:11.211Z"
   },
   {
    "duration": 6,
    "start_time": "2022-05-12T20:25:11.218Z"
   },
   {
    "duration": 5,
    "start_time": "2022-05-12T20:25:11.226Z"
   },
   {
    "duration": 9,
    "start_time": "2022-05-12T20:25:11.233Z"
   },
   {
    "duration": 7,
    "start_time": "2022-05-12T20:25:11.244Z"
   },
   {
    "duration": 170,
    "start_time": "2022-05-12T20:25:11.252Z"
   }
  ],
  "kernelspec": {
   "display_name": "Python 3 (ipykernel)",
   "language": "python",
   "name": "python3"
  },
  "language_info": {
   "codemirror_mode": {
    "name": "ipython",
    "version": 3
   },
   "file_extension": ".py",
   "mimetype": "text/x-python",
   "name": "python",
   "nbconvert_exporter": "python",
   "pygments_lexer": "ipython3",
   "version": "3.9.7"
  },
  "toc": {
   "base_numbering": 1,
   "nav_menu": {},
   "number_sections": true,
   "sideBar": true,
   "skip_h1_title": true,
   "title_cell": "Содержание",
   "title_sidebar": "Contents",
   "toc_cell": true,
   "toc_position": {
    "height": "calc(100% - 180px)",
    "left": "10px",
    "top": "150px",
    "width": "255.6px"
   },
   "toc_section_display": true,
   "toc_window_display": true
  }
 },
 "nbformat": 4,
 "nbformat_minor": 2
}
