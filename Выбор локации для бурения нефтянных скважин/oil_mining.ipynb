{
 "cells": [
  {
   "cell_type": "markdown",
   "metadata": {},
   "source": [
    "# Выбор локации для скважины"
   ]
  },
  {
   "cell_type": "markdown",
   "metadata": {},
   "source": [
    "Допустим, вы работаете в добывающей компании «ГлавРосГосНефть». Нужно решить, где бурить новую скважину.\n",
    "\n",
    "Вам предоставлены пробы нефти в трёх регионах: в каждом 100 000 месторождений, где измерили качество нефти и объём её запасов. Постройте модель машинного обучения, которая поможет определить регион, где добыча принесёт наибольшую прибыль. Проанализируйте возможную прибыль и риски техникой *Bootstrap.*\n",
    "\n",
    "Шаги для выбора локации:\n",
    "\n",
    "- В избранном регионе ищут месторождения, для каждого определяют значения признаков;\n",
    "- Строят модель и оценивают объём запасов;\n",
    "- Выбирают месторождения с самым высокими оценками значений. Количество месторождений зависит от бюджета компании и стоимости разработки одной скважины;\n",
    "- Прибыль равна суммарной прибыли отобранных месторождений."
   ]
  },
  {
   "cell_type": "markdown",
   "metadata": {},
   "source": [
    "## Загрузка и подготовка данных"
   ]
  },
  {
   "cell_type": "code",
   "execution_count": 1,
   "metadata": {},
   "outputs": [],
   "source": [
    "import pandas as pd\n",
    "from sklearn.linear_model import LinearRegression\n",
    "from sklearn.model_selection import train_test_split, GridSearchCV\n",
    "from sklearn.metrics import mean_squared_error\n",
    "import matplotlib.pyplot as plt\n",
    "from scipy import stats as st\n",
    "import numpy as np\n",
    "import warnings\n",
    "warnings.filterwarnings(\"ignore\")\n",
    "\n",
    "data_1 = pd.read_csv('/datasets/geo_data_0.csv')\n",
    "data_2 = pd.read_csv('/datasets/geo_data_1.csv')\n",
    "data_3 = pd.read_csv('/datasets/geo_data_2.csv')"
   ]
  },
  {
   "cell_type": "code",
   "execution_count": 2,
   "metadata": {},
   "outputs": [
    {
     "name": "stdout",
     "output_type": "stream",
     "text": [
      "<class 'pandas.core.frame.DataFrame'>\n",
      "RangeIndex: 100000 entries, 0 to 99999\n",
      "Data columns (total 5 columns):\n",
      " #   Column   Non-Null Count   Dtype  \n",
      "---  ------   --------------   -----  \n",
      " 0   id       100000 non-null  object \n",
      " 1   f0       100000 non-null  float64\n",
      " 2   f1       100000 non-null  float64\n",
      " 3   f2       100000 non-null  float64\n",
      " 4   product  100000 non-null  float64\n",
      "dtypes: float64(4), object(1)\n",
      "memory usage: 3.8+ MB\n"
     ]
    }
   ],
   "source": [
    "data_1.info()"
   ]
  },
  {
   "cell_type": "code",
   "execution_count": 3,
   "metadata": {},
   "outputs": [
    {
     "name": "stdout",
     "output_type": "stream",
     "text": [
      "<class 'pandas.core.frame.DataFrame'>\n",
      "RangeIndex: 100000 entries, 0 to 99999\n",
      "Data columns (total 5 columns):\n",
      " #   Column   Non-Null Count   Dtype  \n",
      "---  ------   --------------   -----  \n",
      " 0   id       100000 non-null  object \n",
      " 1   f0       100000 non-null  float64\n",
      " 2   f1       100000 non-null  float64\n",
      " 3   f2       100000 non-null  float64\n",
      " 4   product  100000 non-null  float64\n",
      "dtypes: float64(4), object(1)\n",
      "memory usage: 3.8+ MB\n"
     ]
    }
   ],
   "source": [
    "data_2.info()"
   ]
  },
  {
   "cell_type": "code",
   "execution_count": 4,
   "metadata": {},
   "outputs": [
    {
     "name": "stdout",
     "output_type": "stream",
     "text": [
      "<class 'pandas.core.frame.DataFrame'>\n",
      "RangeIndex: 100000 entries, 0 to 99999\n",
      "Data columns (total 5 columns):\n",
      " #   Column   Non-Null Count   Dtype  \n",
      "---  ------   --------------   -----  \n",
      " 0   id       100000 non-null  object \n",
      " 1   f0       100000 non-null  float64\n",
      " 2   f1       100000 non-null  float64\n",
      " 3   f2       100000 non-null  float64\n",
      " 4   product  100000 non-null  float64\n",
      "dtypes: float64(4), object(1)\n",
      "memory usage: 3.8+ MB\n"
     ]
    }
   ],
   "source": [
    "data_3.info()"
   ]
  },
  {
   "cell_type": "code",
   "execution_count": 5,
   "metadata": {},
   "outputs": [],
   "source": [
    "features_1 = data_1.drop(['id', 'product'], axis=1)\n",
    "target_1 = data_1['product']\n",
    "features_2 = data_2.drop(['id', 'product'], axis=1)\n",
    "target_2 = data_2['product']\n",
    "features_3 = data_3.drop(['id', 'product'], axis=1)\n",
    "target_3 = data_3['product']"
   ]
  },
  {
   "cell_type": "markdown",
   "metadata": {},
   "source": [
    "Данные загружены. Пропусков в данных нет. Форматы колонок со значениями для обучения моделей имеют формат float. "
   ]
  },
  {
   "cell_type": "markdown",
   "metadata": {},
   "source": [
    "## Обучение и проверка модели"
   ]
  },
  {
   "cell_type": "code",
   "execution_count": 6,
   "metadata": {},
   "outputs": [],
   "source": [
    "features_1_train, features_1_valid, target_1_train, target_1_valid = train_test_split(features_1, target_1, \n",
    "                                                                                     test_size = 0.25, random_state=12345)\n",
    "features_2_train, features_2_valid, target_2_train, target_2_valid = train_test_split(features_2, target_2, \n",
    "                                                                                     test_size = 0.25, random_state=12345)\n",
    "features_3_train, features_3_valid, target_3_train, target_3_valid = train_test_split(features_3, target_3, \n",
    "                                                                                     test_size = 0.25, random_state=12345)"
   ]
  },
  {
   "cell_type": "code",
   "execution_count": 7,
   "metadata": {},
   "outputs": [],
   "source": [
    "model_1 = LinearRegression(n_jobs=-1)\n",
    "model_2 = LinearRegression(n_jobs=-1)\n",
    "model_3 = LinearRegression(n_jobs=-1)\n",
    "\n",
    "model_1.fit(features_1_train, target_1_train)\n",
    "model_2.fit(features_2_train, target_2_train)\n",
    "model_3.fit(features_3_train, target_3_train)\n",
    "\n",
    "predict_valid_1 = model_1.predict(features_1_valid)\n",
    "predict_valid_2 = model_2.predict(features_2_valid)\n",
    "predict_valid_3 = model_3.predict(features_3_valid)"
   ]
  },
  {
   "cell_type": "code",
   "execution_count": 8,
   "metadata": {},
   "outputs": [],
   "source": [
    "predict_valid_1 = pd.Series(predict_valid_1)\n",
    "predict_valid_2 = pd.Series(predict_valid_2)\n",
    "predict_valid_3 = pd.Series(predict_valid_3)"
   ]
  },
  {
   "cell_type": "code",
   "execution_count": 9,
   "metadata": {},
   "outputs": [
    {
     "name": "stdout",
     "output_type": "stream",
     "text": [
      "Средний предсказанный объем сырья в 1 скважине в 1-м регионе, тыс. баррелей: 92.59256778438035\n",
      "Средний предсказанный объем сырья в 1 скважине в 2-м регионе, тыс. баррелей: 68.728546895446\n",
      "Средний предсказанный объем сырья в 1 скважине в 3-м регионе, тыс. баррелей: 94.96504596800489\n"
     ]
    }
   ],
   "source": [
    "print('Средний предсказанный объем сырья в 1 скважине в 1-м регионе, тыс. баррелей:',predict_valid_1.mean())\n",
    "print('Средний предсказанный объем сырья в 1 скважине в 2-м регионе, тыс. баррелей:',predict_valid_2.mean())\n",
    "print('Средний предсказанный объем сырья в 1 скважине в 3-м регионе, тыс. баррелей:',predict_valid_3.mean())"
   ]
  },
  {
   "cell_type": "code",
   "execution_count": 28,
   "metadata": {},
   "outputs": [
    {
     "data": {
      "text/plain": [
       "(array([1.000e+00, 0.000e+00, 3.000e+00, 2.000e+00, 1.200e+01, 3.700e+01,\n",
       "        7.500e+01, 1.550e+02, 3.360e+02, 5.560e+02, 8.590e+02, 1.303e+03,\n",
       "        1.637e+03, 2.120e+03, 2.376e+03, 2.642e+03, 2.670e+03, 2.493e+03,\n",
       "        2.197e+03, 1.839e+03, 1.381e+03, 9.370e+02, 6.130e+02, 3.640e+02,\n",
       "        1.990e+02, 1.110e+02, 5.100e+01, 1.900e+01, 8.000e+00, 4.000e+00]),\n",
       " array([ -9.36784638,  -3.04956106,   3.26872425,   9.58700957,\n",
       "         15.90529488,  22.22358019,  28.54186551,  34.86015082,\n",
       "         41.17843614,  47.49672145,  53.81500677,  60.13329208,\n",
       "         66.4515774 ,  72.76986271,  79.08814803,  85.40643334,\n",
       "         91.72471866,  98.04300397, 104.36128929, 110.6795746 ,\n",
       "        116.99785991, 123.31614523, 129.63443054, 135.95271586,\n",
       "        142.27100117, 148.58928649, 154.9075718 , 161.22585712,\n",
       "        167.54414243, 173.86242775, 180.18071306]),\n",
       " <BarContainer object of 30 artists>)"
      ]
     },
     "execution_count": 28,
     "metadata": {},
     "output_type": "execute_result"
    },
    {
     "data": {
      "image/png": "[encoded data removed]",
      "text/plain": [
       "<Figure size 432x288 with 1 Axes>"
      ]
     },
     "metadata": {
      "needs_background": "light"
     },
     "output_type": "display_data"
    }
   ],
   "source": [
    "plt.hist(target_1_valid, bins=30, alpha=0.6)\n",
    "plt.hist(predict_valid_1, bins=30, alpha=0.6)"
   ]
  },
  {
   "cell_type": "code",
   "execution_count": 35,
   "metadata": {},
   "outputs": [
    {
     "data": {
      "text/plain": [
       "(array([4360., 5500., 5437., 5351., 4352.]),\n",
       " array([ -1.89377434,  26.44877449,  54.79132332,  83.13387215,\n",
       "        111.47642098, 139.81896981]),\n",
       " <BarContainer object of 5 artists>)"
      ]
     },
     "execution_count": 35,
     "metadata": {},
     "output_type": "execute_result"
    },
    {
     "data": {
      "image/png": "[encoded data removed]",
      "text/plain": [
       "<Figure size 432x288 with 1 Axes>"
      ]
     },
     "metadata": {
      "needs_background": "light"
     },
     "output_type": "display_data"
    }
   ],
   "source": [
    "plt.hist(target_2_valid, bins=5, alpha=0.6)\n",
    "plt.hist(predict_valid_2, bins=5, alpha=0.6)"
   ]
  },
  {
   "cell_type": "code",
   "execution_count": 36,
   "metadata": {},
   "outputs": [
    {
     "data": {
      "text/plain": [
       "(array([   4.,    3.,    6.,   18.,   56.,  110.,  174.,  286.,  500.,\n",
       "         808., 1092., 1452., 1820., 2108., 2367., 2370., 2473., 2272.,\n",
       "        1920., 1578., 1239.,  891.,  619.,  369.,  220.,  138.,   63.,\n",
       "          23.,   14.,    7.]),\n",
       " array([ 17.13159749,  22.08910535,  27.04661321,  32.00412106,\n",
       "         36.96162892,  41.91913677,  46.87664463,  51.83415249,\n",
       "         56.79166034,  61.7491682 ,  66.70667605,  71.66418391,\n",
       "         76.62169177,  81.57919962,  86.53670748,  91.49421533,\n",
       "         96.45172319, 101.40923105, 106.3667389 , 111.32424676,\n",
       "        116.28175461, 121.23926247, 126.19677033, 131.15427818,\n",
       "        136.11178604, 141.06929389, 146.02680175, 150.98430961,\n",
       "        155.94181746, 160.89932532, 165.85683317]),\n",
       " <BarContainer object of 30 artists>)"
      ]
     },
     "execution_count": 36,
     "metadata": {},
     "output_type": "execute_result"
    },
    {
     "data": {
      "image/png": "[encoded data removed]",
      "text/plain": [
       "<Figure size 432x288 with 1 Axes>"
      ]
     },
     "metadata": {
      "needs_background": "light"
     },
     "output_type": "display_data"
    }
   ],
   "source": [
    "plt.hist(target_3_valid, bins=30, alpha=0.6)\n",
    "plt.hist(predict_valid_3, bins=30, alpha=0.6)"
   ]
  },
  {
   "cell_type": "code",
   "execution_count": null,
   "metadata": {},
   "outputs": [],
   "source": []
  },
  {
   "cell_type": "code",
   "execution_count": 12,
   "metadata": {},
   "outputs": [],
   "source": [
    "rms_1 = mean_squared_error(target_1_valid, predict_valid_1, squared=False)\n",
    "rms_2 = mean_squared_error(target_2_valid, predict_valid_2, squared=False)\n",
    "rms_3 = mean_squared_error(target_3_valid, predict_valid_3, squared=False)"
   ]
  },
  {
   "cell_type": "code",
   "execution_count": 13,
   "metadata": {},
   "outputs": [
    {
     "name": "stdout",
     "output_type": "stream",
     "text": [
      "Среднеквадратичная ошибка (RMSE) 1-м регионе, тыс. баррелей: 37.5794217150813\n",
      "Среднеквадратичная ошибка (RMSE) 2-м регионе, тыс. баррелей: 0.893099286775617\n",
      "Среднеквадратичная ошибка (RMSE) 3-м регионе, тыс. баррелей: 40.02970873393434\n"
     ]
    }
   ],
   "source": [
    "print('Среднеквадратичная ошибка (RMSE) 1-м регионе, тыс. баррелей:',rms_1)\n",
    "print('Среднеквадратичная ошибка (RMSE) 2-м регионе, тыс. баррелей:',rms_2)\n",
    "print('Среднеквадратичная ошибка (RMSE) 3-м регионе, тыс. баррелей:',rms_3)"
   ]
  },
  {
   "cell_type": "markdown",
   "metadata": {},
   "source": [
    "Мы выделили тестовые и валидационные выборки для каждого из регионов, обучили модели линейной регрессии и составили предсказания добычи на валидационных данных, расчитали средний объем запасов в 1 скважине в каждом из регионов и среднеквадратичныу ошибку предсказания модели для каждого из регионов). Среднеквадратичная ошибка предсказаний в 1 и 3 регионе составляет почти 1/3 от средних предсказанных объемов 1 скважины."
   ]
  },
  {
   "cell_type": "markdown",
   "metadata": {},
   "source": [
    "## Подготовка к расчёту прибыли"
   ]
  },
  {
   "cell_type": "markdown",
   "metadata": {},
   "source": [
    "расчитаем пороговое значение запасов в 1 скважине для безубыточной разработки исходя из 200 скважин планируемых к разработке и прибыли от добычи 1 тыс. баррелей в 450 тыс. руб."
   ]
  },
  {
   "cell_type": "code",
   "execution_count": 15,
   "metadata": {},
   "outputs": [],
   "source": [
    "TOTAL_EXPENSES = 10000000000\n",
    "QTY_WELL = 200\n",
    "PROFIT_PER_THOUS_BARELL = 450000\n",
    "SIZE_TO_SEARCH = 500"
   ]
  },
  {
   "cell_type": "code",
   "execution_count": 16,
   "metadata": {},
   "outputs": [
    {
     "name": "stdout",
     "output_type": "stream",
     "text": [
      "Среднее пороговое значение запасов месторождения для безубыточной его разработки, тыс. бар.: 111.11111111111111\n"
     ]
    }
   ],
   "source": [
    "threshold_value_break_even = TOTAL_EXPENSES/QTY_WELL/PROFIT_PER_THOUS_BARELL\n",
    "print('Среднее пороговое значение запасов месторождения для безубыточной его разработки, тыс. бар.:',threshold_value_break_even)"
   ]
  },
  {
   "cell_type": "markdown",
   "metadata": {},
   "source": [
    "сравним пороговое значение запасов в 1 скважине со средним значением запасов в 1 скважине в каждом из регионов"
   ]
  },
  {
   "cell_type": "code",
   "execution_count": 17,
   "metadata": {},
   "outputs": [
    {
     "name": "stdout",
     "output_type": "stream",
     "text": [
      "Сравнение среднего предсказанного объема и объема для безубыточной добычи Регион 1, тыс. бар.: -18.6111111111111\n",
      "Сравнение среднего предсказанного объема и объема для безубыточной добычи Регион 2, тыс. бар.: -42.2861111111111\n",
      "Сравнение среднего предсказанного объема и объема для безубыточной добычи Регион 3, тыс. бар.: -16.11111111111107\n"
     ]
    }
   ],
   "source": [
    "print('Сравнение среднего предсказанного объема и объема для безубыточной добычи Регион 1, тыс. бар.:',\n",
    "      target_1.mean() - threshold_value_break_even)\n",
    "print('Сравнение среднего предсказанного объема и объема для безубыточной добычи Регион 2, тыс. бар.:', \n",
    "      target_2.mean() - threshold_value_break_even)\n",
    "print('Сравнение среднего предсказанного объема и объема для безубыточной добычи Регион 3, тыс. бар.:',\n",
    "      target_3.mean() - threshold_value_break_even)"
   ]
  },
  {
   "cell_type": "markdown",
   "metadata": {},
   "source": [
    "Мы выявили, что 1 скважина положительно рентабельна при запасах нефти в 111 тыс. баррелей. (при условии разработки 200 скважин, при прибыльности добычи 1 тыс. баррелей  , средние показатели запасов в 1 скважине в регионах меньше чем вышеуказанный показатель в Регионе 1 на 19 тыс. баррелей, в Регионе 2 на 42 тыс. баррелей., в Регионе 3 на 16 тыс. баррелей."
   ]
  },
  {
   "cell_type": "code",
   "execution_count": 18,
   "metadata": {},
   "outputs": [],
   "source": [
    "def max_reserve_find (target, predict, qty_well, total_expenses, profit_per_thous_barell):\n",
    "    predict_sorted = predict.sort_values(ascending=False)[:qty_well]\n",
    "    target_sorted = target.iloc[predict_sorted.index]\n",
    "    return (target_sorted.sum()*profit_per_thous_barell-total_expenses)"
   ]
  },
  {
   "cell_type": "markdown",
   "metadata": {},
   "source": [
    "Мы подготовили функцию для отбора 200 максимальных значений по размерам запасов нефти и расчету прибыли от их разработки."
   ]
  },
  {
   "cell_type": "markdown",
   "metadata": {},
   "source": [
    "## Расчёт прибыли и рисков "
   ]
  },
  {
   "cell_type": "code",
   "execution_count": 19,
   "metadata": {},
   "outputs": [
    {
     "name": "stdout",
     "output_type": "stream",
     "text": [
      "Нижняя граница доверительного интервала -111215.55 тыс. руб.  Верхняя граница доверительного интервала 909766.94 тыс. руб.\n",
      "Среднее значение прибыли 396164.98 тыс. руб.\n",
      "Вероятность получения убытка от разработки предсказанных скважин 6.855%\n",
      "Вероятность получения убытка от разработки предсказанных скважин 6.900%\n"
     ]
    },
    {
     "data": {
      "text/plain": [
       "<matplotlib.lines.Line2D at 0x7f23065c57f0>"
      ]
     },
     "execution_count": 19,
     "metadata": {},
     "output_type": "execute_result"
    },
    {
     "data": {
      "image/png": "[encoded data removed]",
      "text/plain": [
       "<Figure size 432x288 with 1 Axes>"
      ]
     },
     "metadata": {
      "needs_background": "light"
     },
     "output_type": "display_data"
    }
   ],
   "source": [
    "random_state = np.random.RandomState(12345)\n",
    "values=[]\n",
    "for i in range (1000):\n",
    "    sample_reserve = predict_valid_1.sample(n=SIZE_TO_SEARCH, replace=True, random_state=random_state)\n",
    "    values.append(max_reserve_find(target_1_valid, sample_reserve, QTY_WELL, TOTAL_EXPENSES, PROFIT_PER_THOUS_BARELL))\n",
    "\n",
    "values = pd.Series(values)\n",
    "lower = values.quantile(0.025)\n",
    "upper = values.quantile(0.975)\n",
    "values_std = np.std(values)\n",
    "zero_profit=st.norm(values.mean(), values_std).cdf(0)\n",
    "\n",
    "\n",
    "print('Нижняя граница доверительного интервала {:.2f} тыс. руб.  Верхняя граница доверительного интервала {:.2f} тыс. руб.'\n",
    "      .format(lower/1000,upper/1000))\n",
    "print('Среднее значение прибыли {:.2f} тыс. руб.'.format(values.mean()/1000))\n",
    "print('Вероятность получения убытка от разработки предсказанных скважин {:.3%}'.format(zero_profit))\n",
    "print('Вероятность получения убытка от разработки предсказанных скважин {:.3%}'.format((values<=0).mean()))\n",
    "\n",
    "fig, ax = plt.subplots()\n",
    "plt.hist(values, bins=30)\n",
    "plt.axvline(lower)\n",
    "plt.axvline(upper)\n",
    "plt.axvline(values.mean())\n",
    "plt.axvline(zero_profit, color = 'red')"
   ]
  },
  {
   "cell_type": "code",
   "execution_count": 20,
   "metadata": {},
   "outputs": [
    {
     "data": {
      "text/plain": [
       "445   -3.695671e+08\n",
       "502   -3.247521e+08\n",
       "465   -3.171276e+08\n",
       "938   -3.046120e+08\n",
       "217   -2.995066e+08\n",
       "           ...     \n",
       "768    1.076333e+09\n",
       "373    1.093074e+09\n",
       "415    1.097962e+09\n",
       "662    1.180922e+09\n",
       "140    1.349267e+09\n",
       "Length: 1000, dtype: float64"
      ]
     },
     "execution_count": 20,
     "metadata": {},
     "output_type": "execute_result"
    }
   ],
   "source": [
    "values.sort_values(ascending = True)"
   ]
  },
  {
   "cell_type": "code",
   "execution_count": 21,
   "metadata": {},
   "outputs": [
    {
     "name": "stdout",
     "output_type": "stream",
     "text": [
      "Нижняя граница доверительного интервала 33820.51 тыс. руб.  Верхняя граница доверительного интервала 852289.45 тыс. руб.\n",
      "Среднее значение прибыли 456045.11 тыс. руб.\n",
      "Вероятность получения убытка от разработки предсказанных скважин 1.407%\n",
      "Вероятность получения убытка от разработки предсказанных скважин 1.500%\n"
     ]
    },
    {
     "data": {
      "text/plain": [
       "<matplotlib.lines.Line2D at 0x7f2305410070>"
      ]
     },
     "execution_count": 21,
     "metadata": {},
     "output_type": "execute_result"
    },
    {
     "data": {
      "image/png": "[encoded data removed]",
      "text/plain": [
       "<Figure size 432x288 with 1 Axes>"
      ]
     },
     "metadata": {
      "needs_background": "light"
     },
     "output_type": "display_data"
    }
   ],
   "source": [
    "random_state = np.random.RandomState(12345)\n",
    "values=[]\n",
    "for i in range (1000):\n",
    "    sample_reserve = predict_valid_2.sample(n=SIZE_TO_SEARCH, replace=True, random_state=random_state)\n",
    "    values.append(max_reserve_find(target_2_valid, sample_reserve, QTY_WELL, TOTAL_EXPENSES, PROFIT_PER_THOUS_BARELL))\n",
    "\n",
    "\n",
    "values = pd.Series(values)\n",
    "lower = values.quantile(0.025)\n",
    "upper = values.quantile(0.975)\n",
    "values_std = np.std(values)\n",
    "zero_profit=st.norm(values.mean(), values_std).cdf(0)\n",
    "print('Нижняя граница доверительного интервала {:.2f} тыс. руб.  Верхняя граница доверительного интервала {:.2f} тыс. руб.'\n",
    "      .format(lower/1000,upper/1000))\n",
    "print('Среднее значение прибыли {:.2f} тыс. руб.'.format(values.mean()/1000))\n",
    "print('Вероятность получения убытка от разработки предсказанных скважин {:.3%}'.format(zero_profit))\n",
    "print('Вероятность получения убытка от разработки предсказанных скважин {:.3%}'.format((values<=0).mean()))\n",
    "fig, ax = plt.subplots()\n",
    "plt.hist(values, bins=30)\n",
    "plt.axvline(lower)\n",
    "plt.axvline(upper)\n",
    "plt.axvline(values.mean())\n",
    "plt.axvline(zero_profit, color = 'red')"
   ]
  },
  {
   "cell_type": "code",
   "execution_count": 22,
   "metadata": {},
   "outputs": [
    {
     "name": "stdout",
     "output_type": "stream",
     "text": [
      "Нижняя граница доверительного интервала -163350.41 тыс. руб.  Верхняя граница доверительного интервала 950359.57 тыс. руб.\n",
      "Среднее значение прибыли 404403.87 тыс. руб.\n",
      "Вероятность получения убытка от разработки предсказанных скважин 6.936%\n",
      "Вероятность получения убытка от разработки предсказанных скважин 7.600%\n"
     ]
    },
    {
     "data": {
      "text/plain": [
       "<matplotlib.lines.Line2D at 0x7f23053cca00>"
      ]
     },
     "execution_count": 22,
     "metadata": {},
     "output_type": "execute_result"
    },
    {
     "data": {
      "image/png": "[encoded data removed]",
      "text/plain": [
       "<Figure size 432x288 with 1 Axes>"
      ]
     },
     "metadata": {
      "needs_background": "light"
     },
     "output_type": "display_data"
    }
   ],
   "source": [
    "random_state = np.random.RandomState(12345)\n",
    "values=[]\n",
    "for i in range (1000):\n",
    "    sample_reserve = predict_valid_3.sample(n=SIZE_TO_SEARCH, replace=True, random_state=random_state)\n",
    "    values.append(max_reserve_find(target_3_valid, sample_reserve, QTY_WELL, TOTAL_EXPENSES, PROFIT_PER_THOUS_BARELL))\n",
    "    \n",
    "values = pd.Series(values)\n",
    "lower = values.quantile(0.025)\n",
    "upper = values.quantile(0.975)\n",
    "values_std = np.std(values)\n",
    "zero_profit=st.norm(values.mean(), values_std).cdf(0)\n",
    "print('Нижняя граница доверительного интервала {:.2f} тыс. руб.  Верхняя граница доверительного интервала {:.2f} тыс. руб.'\n",
    "      .format(lower/1000,upper/1000))\n",
    "print('Среднее значение прибыли {:.2f} тыс. руб.'.format(values.mean()/1000))\n",
    "print('Вероятность получения убытка от разработки предсказанных скважин {:.3%}'.format(zero_profit))\n",
    "print('Вероятность получения убытка от разработки предсказанных скважин {:.3%}'.format((values<=0).mean()))\n",
    "\n",
    "fig, ax = plt.subplots()\n",
    "plt.hist(values, bins=30)\n",
    "plt.axvline(lower)\n",
    "plt.axvline(upper)\n",
    "plt.axvline(values.mean())\n",
    "plt.axvline(zero_profit, color = 'red')"
   ]
  },
  {
   "cell_type": "markdown",
   "metadata": {},
   "source": [
    "Для дальнейшей разработки месторождений выберем регион 2 с учетом того, что вероятность убытков при разработке данного региона составляет 1 % вместо 7 % в регионе 1 и регионе 3.Пороговое значение вероятности убытка 2,5 %."
   ]
  },
  {
   "cell_type": "markdown",
   "metadata": {},
   "source": [
    "Выводы по проекту:<br>\n",
    "1.Получены данные о важных параметрах и запасах нефти в разных точках бурения. Данные разделены на обучающую и валидационную выборку. На вышеуказанных данных обучены и сделаны предсказания модели линейной регрессии. <br>\n",
    "2.Получены средние предсказанные объемы запасов нефти в регионах (регион 1 - 93 тыс. баррелей., регион 2 - 69 тыс. баррелей, регион 3 - 96 тыс.баррелей) и среднеквадратичные ошибки (RMSE) в предсказаний модели(регион 1 - 38 тыс. баррелей, регион 2 - 1 тыс. баррелей, регион 3 - 40 тыс. баррелей). <br>\n",
    "3.Рассчитано пороговое значение безубыточной добычи нефти из 200 месторождений при учете прибыли 450 тыс. руб/1тыс. баррелей оно составило 111 тыс. баррелей. Средние значения предсказанные моделями меньше безубыточного порога от добычи регион 1 - 19 тыс. баррелей, регион 2 - 42 тыс. баррелей, регион 3 - 16 тыс. баррелей. Подготовлена функция расчета прибыли от разработки 200 максимальных по объему предсказанных запасов месторождений.<br>\n",
    "4.Для данных о фактических объемов запасов регионов (отобранных в соответствии с предсказаниями модели о размерах запасов) проведена процедура Bootstrap. Получены следующие результаты. Регион 1: НГДИ - убыток 111 216 тыс. руб. ВГДИ - 909 767 руб. средняя прибыль - 396 165 тыс. руб.; Регион 2 - НГДИ - 33 820 тыс. руб. ВГДИ - 852 289 руб. средняя прибыль - 456 045 тыс. руб.; Регион 3 - НГДИ - убыток 163 350 тыс. руб. ВГДИ - 950 360 руб. средняя прибыль - 404 404 тыс. руб.<br>\n",
    "5.Для разработки месторождений предлагается выбрать Регион 2, так как вероятность убытков (1 %) в этом регионе меньше чем заданный порог в 2,5 %."
   ]
  }
 ],
 "metadata": {
  "ExecuteTimeLog": [
   {
    "duration": 2396,
    "start_time": "2022-05-18T08:04:29.570Z"
   },
   {
    "duration": 23,
    "start_time": "2022-05-18T08:04:42.073Z"
   },
   {
    "duration": 14,
    "start_time": "2022-05-18T08:04:43.385Z"
   },
   {
    "duration": 14,
    "start_time": "2022-05-18T08:04:46.355Z"
   },
   {
    "duration": 19,
    "start_time": "2022-05-18T08:05:12.176Z"
   },
   {
    "duration": 13,
    "start_time": "2022-05-18T08:05:15.545Z"
   },
   {
    "duration": 9,
    "start_time": "2022-05-18T08:05:16.318Z"
   },
   {
    "duration": 65,
    "start_time": "2022-05-18T08:07:56.084Z"
   },
   {
    "duration": 25,
    "start_time": "2022-05-18T08:15:10.987Z"
   },
   {
    "duration": 9,
    "start_time": "2022-05-18T08:15:24.344Z"
   },
   {
    "duration": 26,
    "start_time": "2022-05-18T08:16:03.667Z"
   },
   {
    "duration": 11,
    "start_time": "2022-05-18T08:16:14.344Z"
   },
   {
    "duration": 15,
    "start_time": "2022-05-18T08:16:23.697Z"
   },
   {
    "duration": 193,
    "start_time": "2022-05-18T08:17:39.009Z"
   },
   {
    "duration": 89,
    "start_time": "2022-05-18T08:17:53.713Z"
   },
   {
    "duration": 75,
    "start_time": "2022-05-18T08:18:18.654Z"
   },
   {
    "duration": 15,
    "start_time": "2022-05-18T08:18:42.159Z"
   },
   {
    "duration": 51,
    "start_time": "2022-05-18T08:20:11.270Z"
   },
   {
    "duration": 57,
    "start_time": "2022-05-18T08:20:25.239Z"
   },
   {
    "duration": 50,
    "start_time": "2022-05-18T08:20:33.754Z"
   },
   {
    "duration": 16,
    "start_time": "2022-05-18T08:21:18.631Z"
   },
   {
    "duration": 12,
    "start_time": "2022-05-18T08:21:28.405Z"
   },
   {
    "duration": 314,
    "start_time": "2022-05-18T08:22:10.404Z"
   },
   {
    "duration": 14,
    "start_time": "2022-05-18T08:23:20.955Z"
   },
   {
    "duration": 11,
    "start_time": "2022-05-18T08:23:42.163Z"
   },
   {
    "duration": 410,
    "start_time": "2022-05-18T08:23:49.939Z"
   },
   {
    "duration": 741,
    "start_time": "2022-05-18T08:23:55.165Z"
   },
   {
    "duration": 429,
    "start_time": "2022-05-18T08:24:08.346Z"
   },
   {
    "duration": 595,
    "start_time": "2022-05-18T08:24:32.450Z"
   },
   {
    "duration": 419,
    "start_time": "2022-05-18T08:24:38.770Z"
   },
   {
    "duration": 456,
    "start_time": "2022-05-18T08:24:55.291Z"
   },
   {
    "duration": 313,
    "start_time": "2022-05-18T08:25:44.656Z"
   },
   {
    "duration": 10,
    "start_time": "2022-05-18T08:26:46.589Z"
   },
   {
    "duration": 703,
    "start_time": "2022-05-18T08:26:52.270Z"
   },
   {
    "duration": 468,
    "start_time": "2022-05-18T08:27:23.076Z"
   },
   {
    "duration": 377,
    "start_time": "2022-05-18T08:28:00.423Z"
   },
   {
    "duration": 16,
    "start_time": "2022-05-18T08:32:12.391Z"
   },
   {
    "duration": 323,
    "start_time": "2022-05-18T08:32:15.249Z"
   },
   {
    "duration": 27,
    "start_time": "2022-05-18T08:32:33.367Z"
   },
   {
    "duration": 416,
    "start_time": "2022-05-18T08:35:23.998Z"
   },
   {
    "duration": 886,
    "start_time": "2022-05-18T08:36:33.683Z"
   },
   {
    "duration": 251,
    "start_time": "2022-05-18T08:39:14.793Z"
   },
   {
    "duration": 956,
    "start_time": "2022-05-18T08:47:18.311Z"
   },
   {
    "duration": 882,
    "start_time": "2022-05-18T09:09:36.255Z"
   },
   {
    "duration": 9,
    "start_time": "2022-05-18T09:10:10.345Z"
   },
   {
    "duration": 5,
    "start_time": "2022-05-18T09:15:22.440Z"
   },
   {
    "duration": 11,
    "start_time": "2022-05-18T09:15:30.503Z"
   },
   {
    "duration": 8,
    "start_time": "2022-05-18T09:15:40.849Z"
   },
   {
    "duration": 6,
    "start_time": "2022-05-18T09:15:47.055Z"
   },
   {
    "duration": 9,
    "start_time": "2022-05-18T09:16:22.361Z"
   },
   {
    "duration": 14,
    "start_time": "2022-05-18T09:22:00.617Z"
   },
   {
    "duration": 27,
    "start_time": "2022-05-18T09:22:28.680Z"
   },
   {
    "duration": 10,
    "start_time": "2022-05-18T09:26:37.283Z"
   },
   {
    "duration": 33,
    "start_time": "2022-05-18T09:27:02.020Z"
   },
   {
    "duration": 29,
    "start_time": "2022-05-18T09:27:53.457Z"
   },
   {
    "duration": 19,
    "start_time": "2022-05-18T09:27:54.707Z"
   },
   {
    "duration": 14,
    "start_time": "2022-05-18T09:28:08.563Z"
   },
   {
    "duration": 12,
    "start_time": "2022-05-18T09:29:18.184Z"
   },
   {
    "duration": 644,
    "start_time": "2022-05-18T09:29:22.735Z"
   },
   {
    "duration": 181,
    "start_time": "2022-05-18T09:29:25.954Z"
   },
   {
    "duration": 5,
    "start_time": "2022-05-18T09:29:33.953Z"
   },
   {
    "duration": 3,
    "start_time": "2022-05-18T09:30:03.884Z"
   },
   {
    "duration": 6,
    "start_time": "2022-05-18T09:30:14.093Z"
   },
   {
    "duration": 7,
    "start_time": "2022-05-18T09:31:45.231Z"
   },
   {
    "duration": 10,
    "start_time": "2022-05-18T09:32:40.277Z"
   },
   {
    "duration": 57,
    "start_time": "2022-05-18T09:32:45.179Z"
   },
   {
    "duration": 3,
    "start_time": "2022-05-18T09:34:42.294Z"
   },
   {
    "duration": 192,
    "start_time": "2022-05-18T09:34:43.831Z"
   },
   {
    "duration": 5,
    "start_time": "2022-05-18T09:35:20.817Z"
   },
   {
    "duration": 3,
    "start_time": "2022-05-18T09:36:10.274Z"
   },
   {
    "duration": 4,
    "start_time": "2022-05-18T09:36:25.897Z"
   },
   {
    "duration": 4,
    "start_time": "2022-05-18T09:37:08.097Z"
   },
   {
    "duration": 5,
    "start_time": "2022-05-18T09:37:41.383Z"
   },
   {
    "duration": 469,
    "start_time": "2022-05-18T09:44:38.496Z"
   },
   {
    "duration": 5,
    "start_time": "2022-05-18T09:45:12.502Z"
   },
   {
    "duration": 7,
    "start_time": "2022-05-18T09:45:22.959Z"
   },
   {
    "duration": 6,
    "start_time": "2022-05-18T09:45:39.642Z"
   },
   {
    "duration": 7,
    "start_time": "2022-05-18T09:47:44.781Z"
   },
   {
    "duration": 4,
    "start_time": "2022-05-18T09:47:46.956Z"
   },
   {
    "duration": 1670,
    "start_time": "2022-05-18T09:49:53.262Z"
   },
   {
    "duration": 22,
    "start_time": "2022-05-18T09:49:54.934Z"
   },
   {
    "duration": 15,
    "start_time": "2022-05-18T09:49:54.958Z"
   },
   {
    "duration": 9,
    "start_time": "2022-05-18T09:49:54.975Z"
   },
   {
    "duration": 16,
    "start_time": "2022-05-18T09:49:54.986Z"
   },
   {
    "duration": 54,
    "start_time": "2022-05-18T09:49:55.004Z"
   },
   {
    "duration": 90,
    "start_time": "2022-05-18T09:49:55.060Z"
   },
   {
    "duration": 3,
    "start_time": "2022-05-18T09:49:55.233Z"
   },
   {
    "duration": 92,
    "start_time": "2022-05-18T09:49:55.238Z"
   },
   {
    "duration": 9,
    "start_time": "2022-05-18T09:49:55.337Z"
   },
   {
    "duration": 5,
    "start_time": "2022-05-18T09:49:55.348Z"
   },
   {
    "duration": 2,
    "start_time": "2022-05-18T09:50:28.290Z"
   },
   {
    "duration": 6,
    "start_time": "2022-05-18T09:50:29.357Z"
   },
   {
    "duration": 117,
    "start_time": "2022-05-18T09:50:32.714Z"
   },
   {
    "duration": 2,
    "start_time": "2022-05-18T09:50:33.444Z"
   },
   {
    "duration": 5,
    "start_time": "2022-05-18T09:50:33.994Z"
   },
   {
    "duration": 5,
    "start_time": "2022-05-18T09:50:36.172Z"
   },
   {
    "duration": 4,
    "start_time": "2022-05-18T09:50:36.833Z"
   },
   {
    "duration": 6,
    "start_time": "2022-05-18T09:56:53.139Z"
   },
   {
    "duration": 124,
    "start_time": "2022-05-18T09:57:56.520Z"
   },
   {
    "duration": 1570,
    "start_time": "2022-05-18T09:58:50.784Z"
   },
   {
    "duration": 17,
    "start_time": "2022-05-18T09:58:52.356Z"
   },
   {
    "duration": 18,
    "start_time": "2022-05-18T09:58:52.375Z"
   },
   {
    "duration": 31,
    "start_time": "2022-05-18T09:58:52.397Z"
   },
   {
    "duration": 13,
    "start_time": "2022-05-18T09:58:52.430Z"
   },
   {
    "duration": 61,
    "start_time": "2022-05-18T09:58:52.444Z"
   },
   {
    "duration": 121,
    "start_time": "2022-05-18T09:58:52.507Z"
   },
   {
    "duration": 6,
    "start_time": "2022-05-18T09:58:52.631Z"
   },
   {
    "duration": 117,
    "start_time": "2022-05-18T09:58:52.725Z"
   },
   {
    "duration": 62,
    "start_time": "2022-05-18T09:58:52.845Z"
   },
   {
    "duration": 138,
    "start_time": "2022-05-18T09:58:52.908Z"
   },
   {
    "duration": 0,
    "start_time": "2022-05-18T09:58:53.048Z"
   },
   {
    "duration": 0,
    "start_time": "2022-05-18T09:58:53.049Z"
   },
   {
    "duration": 5,
    "start_time": "2022-05-18T10:02:36.671Z"
   },
   {
    "duration": 4,
    "start_time": "2022-05-18T10:02:37.550Z"
   },
   {
    "duration": 5,
    "start_time": "2022-05-18T10:13:23.344Z"
   },
   {
    "duration": 11,
    "start_time": "2022-05-18T10:20:42.382Z"
   },
   {
    "duration": 5,
    "start_time": "2022-05-18T10:20:48.532Z"
   },
   {
    "duration": 4,
    "start_time": "2022-05-18T10:20:56.572Z"
   },
   {
    "duration": 13,
    "start_time": "2022-05-18T10:21:23.219Z"
   },
   {
    "duration": 4,
    "start_time": "2022-05-18T10:23:05.544Z"
   },
   {
    "duration": 5,
    "start_time": "2022-05-18T10:23:06.377Z"
   },
   {
    "duration": 5,
    "start_time": "2022-05-18T10:23:13.552Z"
   },
   {
    "duration": 7,
    "start_time": "2022-05-18T10:23:49.440Z"
   },
   {
    "duration": 5,
    "start_time": "2022-05-18T10:24:17.346Z"
   },
   {
    "duration": 5,
    "start_time": "2022-05-18T10:24:17.903Z"
   },
   {
    "duration": 4,
    "start_time": "2022-05-18T10:24:35.288Z"
   },
   {
    "duration": 7,
    "start_time": "2022-05-18T10:24:36.136Z"
   },
   {
    "duration": 2,
    "start_time": "2022-05-18T10:24:59.048Z"
   },
   {
    "duration": 3,
    "start_time": "2022-05-18T10:24:59.568Z"
   },
   {
    "duration": 2,
    "start_time": "2022-05-18T10:29:55.738Z"
   },
   {
    "duration": 4,
    "start_time": "2022-05-18T10:30:06.207Z"
   },
   {
    "duration": 10,
    "start_time": "2022-05-18T10:33:54.157Z"
   },
   {
    "duration": 4,
    "start_time": "2022-05-18T10:34:05.221Z"
   },
   {
    "duration": 4,
    "start_time": "2022-05-18T10:34:22.895Z"
   },
   {
    "duration": 7,
    "start_time": "2022-05-18T10:39:00.399Z"
   },
   {
    "duration": 5,
    "start_time": "2022-05-18T10:39:57.599Z"
   },
   {
    "duration": 6,
    "start_time": "2022-05-18T10:41:54.204Z"
   },
   {
    "duration": 6,
    "start_time": "2022-05-18T10:43:30.878Z"
   },
   {
    "duration": 4,
    "start_time": "2022-05-18T10:45:28.839Z"
   },
   {
    "duration": 4,
    "start_time": "2022-05-18T10:46:05.352Z"
   },
   {
    "duration": 4,
    "start_time": "2022-05-18T10:46:19.938Z"
   },
   {
    "duration": 5,
    "start_time": "2022-05-18T10:47:07.648Z"
   },
   {
    "duration": 3,
    "start_time": "2022-05-18T10:47:17.168Z"
   },
   {
    "duration": 8,
    "start_time": "2022-05-18T10:50:02.182Z"
   },
   {
    "duration": 32,
    "start_time": "2022-05-18T11:05:35.665Z"
   },
   {
    "duration": 3,
    "start_time": "2022-05-18T11:05:35.959Z"
   },
   {
    "duration": 29,
    "start_time": "2022-05-18T11:05:36.484Z"
   },
   {
    "duration": 5,
    "start_time": "2022-05-18T11:05:37.223Z"
   },
   {
    "duration": 6,
    "start_time": "2022-05-18T11:05:37.847Z"
   },
   {
    "duration": 2,
    "start_time": "2022-05-18T11:05:38.752Z"
   },
   {
    "duration": 2,
    "start_time": "2022-05-18T11:05:43.876Z"
   },
   {
    "duration": 6,
    "start_time": "2022-05-18T11:05:44.664Z"
   },
   {
    "duration": 3,
    "start_time": "2022-05-18T11:05:47.000Z"
   },
   {
    "duration": 85,
    "start_time": "2022-05-18T11:07:08.853Z"
   },
   {
    "duration": 3,
    "start_time": "2022-05-18T11:07:09.677Z"
   },
   {
    "duration": 6,
    "start_time": "2022-05-18T11:07:10.249Z"
   },
   {
    "duration": 3,
    "start_time": "2022-05-18T11:07:10.841Z"
   },
   {
    "duration": 2,
    "start_time": "2022-05-18T11:07:11.366Z"
   },
   {
    "duration": 6,
    "start_time": "2022-05-18T11:07:12.012Z"
   },
   {
    "duration": 4,
    "start_time": "2022-05-18T11:07:12.998Z"
   },
   {
    "duration": 7,
    "start_time": "2022-05-18T11:07:14.685Z"
   },
   {
    "duration": 53,
    "start_time": "2022-05-18T14:42:00.927Z"
   },
   {
    "duration": 2748,
    "start_time": "2022-05-18T14:42:08.487Z"
   },
   {
    "duration": 14,
    "start_time": "2022-05-18T14:42:11.237Z"
   },
   {
    "duration": 11,
    "start_time": "2022-05-18T14:42:11.252Z"
   },
   {
    "duration": 7,
    "start_time": "2022-05-18T14:42:11.265Z"
   },
   {
    "duration": 10,
    "start_time": "2022-05-18T14:42:11.273Z"
   },
   {
    "duration": 29,
    "start_time": "2022-05-18T14:42:11.284Z"
   },
   {
    "duration": 2,
    "start_time": "2022-05-18T14:42:11.315Z"
   },
   {
    "duration": 245,
    "start_time": "2022-05-18T14:42:11.318Z"
   },
   {
    "duration": 3,
    "start_time": "2022-05-18T14:42:11.565Z"
   },
   {
    "duration": 100,
    "start_time": "2022-05-18T14:42:11.660Z"
   },
   {
    "duration": 4,
    "start_time": "2022-05-18T14:42:11.762Z"
   },
   {
    "duration": 5,
    "start_time": "2022-05-18T14:42:11.768Z"
   },
   {
    "duration": 6,
    "start_time": "2022-05-18T14:42:11.774Z"
   },
   {
    "duration": 4,
    "start_time": "2022-05-18T14:42:11.782Z"
   },
   {
    "duration": 7,
    "start_time": "2022-05-18T14:42:11.787Z"
   },
   {
    "duration": 4,
    "start_time": "2022-05-18T14:42:11.795Z"
   },
   {
    "duration": 7,
    "start_time": "2022-05-18T14:42:11.800Z"
   },
   {
    "duration": 8,
    "start_time": "2022-05-18T14:42:11.808Z"
   },
   {
    "duration": 8,
    "start_time": "2022-05-18T14:42:26.438Z"
   },
   {
    "duration": 8,
    "start_time": "2022-05-18T14:42:37.558Z"
   },
   {
    "duration": 8,
    "start_time": "2022-05-18T14:43:08.950Z"
   },
   {
    "duration": 8,
    "start_time": "2022-05-18T14:43:15.892Z"
   },
   {
    "duration": 11,
    "start_time": "2022-05-18T14:44:50.117Z"
   },
   {
    "duration": 13,
    "start_time": "2022-05-18T14:45:00.506Z"
   },
   {
    "duration": 4,
    "start_time": "2022-05-18T14:46:19.570Z"
   },
   {
    "duration": 10,
    "start_time": "2022-05-18T14:46:51.634Z"
   },
   {
    "duration": 4,
    "start_time": "2022-05-18T14:47:14.144Z"
   },
   {
    "duration": 4,
    "start_time": "2022-05-18T14:47:27.160Z"
   },
   {
    "duration": 3,
    "start_time": "2022-05-18T14:47:32.044Z"
   },
   {
    "duration": 2,
    "start_time": "2022-05-18T14:53:23.179Z"
   },
   {
    "duration": 4,
    "start_time": "2022-05-18T14:53:25.994Z"
   },
   {
    "duration": 3,
    "start_time": "2022-05-18T14:54:54.306Z"
   },
   {
    "duration": 3,
    "start_time": "2022-05-18T14:55:04.543Z"
   },
   {
    "duration": 3,
    "start_time": "2022-05-18T14:55:10.650Z"
   },
   {
    "duration": 3866,
    "start_time": "2022-05-18T19:04:29.150Z"
   },
   {
    "duration": 26,
    "start_time": "2022-05-18T19:04:33.018Z"
   },
   {
    "duration": 44,
    "start_time": "2022-05-18T19:04:33.047Z"
   },
   {
    "duration": 12,
    "start_time": "2022-05-18T19:04:33.094Z"
   },
   {
    "duration": 15,
    "start_time": "2022-05-18T19:04:33.109Z"
   },
   {
    "duration": 51,
    "start_time": "2022-05-18T19:04:33.127Z"
   },
   {
    "duration": 3,
    "start_time": "2022-05-18T19:04:33.181Z"
   },
   {
    "duration": 329,
    "start_time": "2022-05-18T19:04:33.186Z"
   },
   {
    "duration": 5,
    "start_time": "2022-05-18T19:04:33.517Z"
   },
   {
    "duration": 92,
    "start_time": "2022-05-18T19:04:33.524Z"
   },
   {
    "duration": 2,
    "start_time": "2022-05-18T19:04:33.619Z"
   },
   {
    "duration": 5,
    "start_time": "2022-05-18T19:04:33.623Z"
   },
   {
    "duration": 7,
    "start_time": "2022-05-18T19:04:33.631Z"
   },
   {
    "duration": 5,
    "start_time": "2022-05-18T19:04:33.642Z"
   },
   {
    "duration": 10,
    "start_time": "2022-05-18T19:04:33.649Z"
   },
   {
    "duration": 6,
    "start_time": "2022-05-18T19:04:33.662Z"
   },
   {
    "duration": 142,
    "start_time": "2022-05-18T19:04:33.670Z"
   },
   {
    "duration": 0,
    "start_time": "2022-05-18T19:04:33.814Z"
   },
   {
    "duration": 0,
    "start_time": "2022-05-18T19:04:33.816Z"
   },
   {
    "duration": 0,
    "start_time": "2022-05-18T19:04:33.817Z"
   },
   {
    "duration": 3,
    "start_time": "2022-05-18T19:04:58.440Z"
   },
   {
    "duration": 8,
    "start_time": "2022-05-18T19:05:00.156Z"
   },
   {
    "duration": 4,
    "start_time": "2022-05-18T19:05:02.296Z"
   },
   {
    "duration": 5,
    "start_time": "2022-05-18T19:05:17.935Z"
   },
   {
    "duration": 538,
    "start_time": "2022-05-18T19:05:24.837Z"
   },
   {
    "duration": 603,
    "start_time": "2022-05-18T19:05:37.739Z"
   },
   {
    "duration": 734,
    "start_time": "2022-05-18T19:05:40.170Z"
   },
   {
    "duration": 511,
    "start_time": "2022-05-18T19:06:03.487Z"
   },
   {
    "duration": 480,
    "start_time": "2022-05-18T19:06:20.456Z"
   },
   {
    "duration": 523,
    "start_time": "2022-05-18T19:06:31.899Z"
   },
   {
    "duration": 4,
    "start_time": "2022-05-18T19:14:45.377Z"
   },
   {
    "duration": 12,
    "start_time": "2022-05-18T19:14:47.073Z"
   },
   {
    "duration": 384,
    "start_time": "2022-05-18T19:15:17.704Z"
   },
   {
    "duration": 394,
    "start_time": "2022-05-18T19:15:24.441Z"
   },
   {
    "duration": 3,
    "start_time": "2022-05-18T19:16:11.162Z"
   },
   {
    "duration": 466,
    "start_time": "2022-05-18T19:16:13.418Z"
   },
   {
    "duration": 3,
    "start_time": "2022-05-18T19:16:34.654Z"
   },
   {
    "duration": 457,
    "start_time": "2022-05-18T19:16:35.853Z"
   },
   {
    "duration": 455,
    "start_time": "2022-05-18T19:16:41.663Z"
   },
   {
    "duration": 4,
    "start_time": "2022-05-18T19:17:11.967Z"
   },
   {
    "duration": 379,
    "start_time": "2022-05-18T19:17:13.191Z"
   },
   {
    "duration": 4,
    "start_time": "2022-05-18T19:18:17.279Z"
   },
   {
    "duration": 377,
    "start_time": "2022-05-18T19:18:18.555Z"
   },
   {
    "duration": 4,
    "start_time": "2022-05-18T19:18:29.996Z"
   },
   {
    "duration": 493,
    "start_time": "2022-05-18T19:18:33.471Z"
   },
   {
    "duration": 540,
    "start_time": "2022-05-18T19:21:31.318Z"
   },
   {
    "duration": 389,
    "start_time": "2022-05-18T19:23:26.849Z"
   },
   {
    "duration": 375,
    "start_time": "2022-05-18T19:23:40.696Z"
   },
   {
    "duration": 3,
    "start_time": "2022-05-18T19:26:42.023Z"
   },
   {
    "duration": 380,
    "start_time": "2022-05-18T19:26:43.384Z"
   },
   {
    "duration": 372,
    "start_time": "2022-05-18T19:26:49.333Z"
   },
   {
    "duration": 393,
    "start_time": "2022-05-18T19:27:01.659Z"
   },
   {
    "duration": 4,
    "start_time": "2022-05-18T19:28:46.775Z"
   },
   {
    "duration": 393,
    "start_time": "2022-05-18T19:28:50.903Z"
   },
   {
    "duration": 405,
    "start_time": "2022-05-18T19:28:53.199Z"
   },
   {
    "duration": 386,
    "start_time": "2022-05-18T19:28:55.490Z"
   },
   {
    "duration": 402,
    "start_time": "2022-05-18T19:30:27.802Z"
   },
   {
    "duration": 390,
    "start_time": "2022-05-18T19:30:54.733Z"
   },
   {
    "duration": 795,
    "start_time": "2022-05-18T19:32:18.730Z"
   },
   {
    "duration": 487,
    "start_time": "2022-05-18T19:32:31.862Z"
   },
   {
    "duration": 409,
    "start_time": "2022-05-18T19:34:57.919Z"
   },
   {
    "duration": 428,
    "start_time": "2022-05-18T19:36:48.419Z"
   },
   {
    "duration": 406,
    "start_time": "2022-05-18T19:37:03.047Z"
   },
   {
    "duration": 564,
    "start_time": "2022-05-18T19:37:14.793Z"
   },
   {
    "duration": 441,
    "start_time": "2022-05-18T19:37:30.589Z"
   },
   {
    "duration": 569,
    "start_time": "2022-05-18T19:37:41.364Z"
   },
   {
    "duration": 431,
    "start_time": "2022-05-18T19:37:53.486Z"
   },
   {
    "duration": 11,
    "start_time": "2022-05-18T19:40:06.045Z"
   },
   {
    "duration": 436,
    "start_time": "2022-05-18T19:56:25.449Z"
   },
   {
    "duration": 431,
    "start_time": "2022-05-18T19:56:32.256Z"
   },
   {
    "duration": 10,
    "start_time": "2022-05-18T19:56:49.923Z"
   },
   {
    "duration": 10,
    "start_time": "2022-05-18T19:57:30.239Z"
   },
   {
    "duration": 10,
    "start_time": "2022-05-18T19:58:53.979Z"
   },
   {
    "duration": 360,
    "start_time": "2022-05-18T19:59:12.473Z"
   },
   {
    "duration": 384,
    "start_time": "2022-05-18T19:59:20.779Z"
   },
   {
    "duration": 421,
    "start_time": "2022-05-18T19:59:34.222Z"
   },
   {
    "duration": 1580,
    "start_time": "2022-05-18T19:59:43.699Z"
   },
   {
    "duration": 15,
    "start_time": "2022-05-18T19:59:45.281Z"
   },
   {
    "duration": 23,
    "start_time": "2022-05-18T19:59:45.298Z"
   },
   {
    "duration": 8,
    "start_time": "2022-05-18T19:59:45.323Z"
   },
   {
    "duration": 11,
    "start_time": "2022-05-18T19:59:45.333Z"
   },
   {
    "duration": 33,
    "start_time": "2022-05-18T19:59:45.346Z"
   },
   {
    "duration": 3,
    "start_time": "2022-05-18T19:59:45.380Z"
   },
   {
    "duration": 62,
    "start_time": "2022-05-18T19:59:45.384Z"
   },
   {
    "duration": 65,
    "start_time": "2022-05-18T19:59:45.448Z"
   },
   {
    "duration": 101,
    "start_time": "2022-05-18T19:59:45.515Z"
   },
   {
    "duration": 8,
    "start_time": "2022-05-18T19:59:45.617Z"
   },
   {
    "duration": 6,
    "start_time": "2022-05-18T19:59:45.626Z"
   },
   {
    "duration": 10,
    "start_time": "2022-05-18T19:59:45.634Z"
   },
   {
    "duration": 4,
    "start_time": "2022-05-18T19:59:45.646Z"
   },
   {
    "duration": 8,
    "start_time": "2022-05-18T19:59:45.651Z"
   },
   {
    "duration": 4,
    "start_time": "2022-05-18T19:59:45.661Z"
   },
   {
    "duration": 6,
    "start_time": "2022-05-18T19:59:45.666Z"
   },
   {
    "duration": 7,
    "start_time": "2022-05-18T19:59:45.675Z"
   },
   {
    "duration": 5,
    "start_time": "2022-05-18T19:59:45.712Z"
   },
   {
    "duration": 508,
    "start_time": "2022-05-18T19:59:45.719Z"
   },
   {
    "duration": 0,
    "start_time": "2022-05-18T19:59:46.229Z"
   },
   {
    "duration": 0,
    "start_time": "2022-05-18T19:59:46.230Z"
   },
   {
    "duration": 463,
    "start_time": "2022-05-18T20:02:19.897Z"
   },
   {
    "duration": 487,
    "start_time": "2022-05-18T20:02:27.362Z"
   },
   {
    "duration": 989,
    "start_time": "2022-05-18T20:06:09.143Z"
   },
   {
    "duration": 610,
    "start_time": "2022-05-18T20:06:31.923Z"
   },
   {
    "duration": 601,
    "start_time": "2022-05-18T20:06:38.697Z"
   },
   {
    "duration": 595,
    "start_time": "2022-05-18T20:06:47.407Z"
   },
   {
    "duration": 696,
    "start_time": "2022-05-18T20:07:40.993Z"
   },
   {
    "duration": 766,
    "start_time": "2022-05-18T20:09:25.632Z"
   },
   {
    "duration": 669,
    "start_time": "2022-05-18T20:09:48.354Z"
   },
   {
    "duration": 839,
    "start_time": "2022-05-18T20:10:13.977Z"
   },
   {
    "duration": 834,
    "start_time": "2022-05-18T20:10:47.370Z"
   },
   {
    "duration": 711,
    "start_time": "2022-05-18T20:11:27.371Z"
   },
   {
    "duration": 1605,
    "start_time": "2022-05-18T20:18:04.353Z"
   },
   {
    "duration": 17,
    "start_time": "2022-05-18T20:18:05.960Z"
   },
   {
    "duration": 13,
    "start_time": "2022-05-18T20:18:05.978Z"
   },
   {
    "duration": 20,
    "start_time": "2022-05-18T20:18:05.994Z"
   },
   {
    "duration": 23,
    "start_time": "2022-05-18T20:18:06.016Z"
   },
   {
    "duration": 34,
    "start_time": "2022-05-18T20:18:06.041Z"
   },
   {
    "duration": 2,
    "start_time": "2022-05-18T20:18:06.077Z"
   },
   {
    "duration": 153,
    "start_time": "2022-05-18T20:18:06.081Z"
   },
   {
    "duration": 80,
    "start_time": "2022-05-18T20:18:06.237Z"
   },
   {
    "duration": 102,
    "start_time": "2022-05-18T20:18:06.332Z"
   },
   {
    "duration": 5,
    "start_time": "2022-05-18T20:18:06.436Z"
   },
   {
    "duration": 5,
    "start_time": "2022-05-18T20:18:06.443Z"
   },
   {
    "duration": 9,
    "start_time": "2022-05-18T20:18:06.450Z"
   },
   {
    "duration": 9,
    "start_time": "2022-05-18T20:18:06.460Z"
   },
   {
    "duration": 9,
    "start_time": "2022-05-18T20:18:06.471Z"
   },
   {
    "duration": 5,
    "start_time": "2022-05-18T20:18:06.481Z"
   },
   {
    "duration": 8,
    "start_time": "2022-05-18T20:18:06.487Z"
   },
   {
    "duration": 15,
    "start_time": "2022-05-18T20:18:06.498Z"
   },
   {
    "duration": 20,
    "start_time": "2022-05-18T20:18:06.515Z"
   },
   {
    "duration": 897,
    "start_time": "2022-05-18T20:18:06.537Z"
   },
   {
    "duration": 835,
    "start_time": "2022-05-18T20:18:07.436Z"
   },
   {
    "duration": 714,
    "start_time": "2022-05-18T20:18:08.272Z"
   },
   {
    "duration": 4,
    "start_time": "2022-05-18T20:19:57.139Z"
   },
   {
    "duration": 868,
    "start_time": "2022-05-18T20:20:07.994Z"
   },
   {
    "duration": 1939,
    "start_time": "2022-05-18T20:21:52.398Z"
   },
   {
    "duration": 18,
    "start_time": "2022-05-18T20:21:54.339Z"
   },
   {
    "duration": 19,
    "start_time": "2022-05-18T20:21:54.359Z"
   },
   {
    "duration": 21,
    "start_time": "2022-05-18T20:21:54.381Z"
   },
   {
    "duration": 15,
    "start_time": "2022-05-18T20:21:54.405Z"
   },
   {
    "duration": 63,
    "start_time": "2022-05-18T20:21:54.424Z"
   },
   {
    "duration": 6,
    "start_time": "2022-05-18T20:21:54.490Z"
   },
   {
    "duration": 136,
    "start_time": "2022-05-18T20:21:54.498Z"
   },
   {
    "duration": 56,
    "start_time": "2022-05-18T20:21:54.661Z"
   },
   {
    "duration": 58,
    "start_time": "2022-05-18T20:21:54.720Z"
   },
   {
    "duration": 15,
    "start_time": "2022-05-18T20:21:54.781Z"
   },
   {
    "duration": 7,
    "start_time": "2022-05-18T20:21:54.798Z"
   },
   {
    "duration": 12,
    "start_time": "2022-05-18T20:21:54.806Z"
   },
   {
    "duration": 35,
    "start_time": "2022-05-18T20:21:54.819Z"
   },
   {
    "duration": 19,
    "start_time": "2022-05-18T20:21:54.856Z"
   },
   {
    "duration": 4,
    "start_time": "2022-05-18T20:21:54.877Z"
   },
   {
    "duration": 8,
    "start_time": "2022-05-18T20:21:54.883Z"
   },
   {
    "duration": 9,
    "start_time": "2022-05-18T20:21:54.893Z"
   },
   {
    "duration": 21,
    "start_time": "2022-05-18T20:21:54.904Z"
   },
   {
    "duration": 928,
    "start_time": "2022-05-18T20:21:54.930Z"
   },
   {
    "duration": 916,
    "start_time": "2022-05-18T20:21:55.861Z"
   },
   {
    "duration": 956,
    "start_time": "2022-05-18T20:21:56.779Z"
   },
   {
    "duration": 731,
    "start_time": "2022-05-18T20:23:43.269Z"
   },
   {
    "duration": 784,
    "start_time": "2022-05-18T20:24:52.083Z"
   },
   {
    "duration": 770,
    "start_time": "2022-05-18T20:26:28.195Z"
   },
   {
    "duration": 767,
    "start_time": "2022-05-18T20:27:28.257Z"
   },
   {
    "duration": 711,
    "start_time": "2022-05-18T20:29:00.388Z"
   },
   {
    "duration": 699,
    "start_time": "2022-05-18T20:29:16.090Z"
   },
   {
    "duration": 705,
    "start_time": "2022-05-18T20:29:41.017Z"
   },
   {
    "duration": 682,
    "start_time": "2022-05-18T20:30:09.792Z"
   },
   {
    "duration": 775,
    "start_time": "2022-05-18T20:31:48.507Z"
   },
   {
    "duration": 648,
    "start_time": "2022-05-18T20:32:19.866Z"
   },
   {
    "duration": 696,
    "start_time": "2022-05-18T20:33:27.683Z"
   },
   {
    "duration": 746,
    "start_time": "2022-05-18T20:33:37.775Z"
   },
   {
    "duration": 783,
    "start_time": "2022-05-18T20:33:54.383Z"
   },
   {
    "duration": 155,
    "start_time": "2022-05-18T20:35:55.963Z"
   },
   {
    "duration": 531,
    "start_time": "2022-05-18T20:36:12.869Z"
   },
   {
    "duration": 835,
    "start_time": "2022-05-18T20:36:38.739Z"
   },
   {
    "duration": 792,
    "start_time": "2022-05-18T20:37:05.008Z"
   },
   {
    "duration": 1054,
    "start_time": "2022-05-18T20:37:16.607Z"
   },
   {
    "duration": 695,
    "start_time": "2022-05-18T20:37:37.870Z"
   },
   {
    "duration": 1904,
    "start_time": "2022-05-19T06:14:16.304Z"
   },
   {
    "duration": 14,
    "start_time": "2022-05-19T06:14:18.210Z"
   },
   {
    "duration": 10,
    "start_time": "2022-05-19T06:14:18.226Z"
   },
   {
    "duration": 7,
    "start_time": "2022-05-19T06:14:18.238Z"
   },
   {
    "duration": 10,
    "start_time": "2022-05-19T06:14:18.247Z"
   },
   {
    "duration": 41,
    "start_time": "2022-05-19T06:14:18.258Z"
   },
   {
    "duration": 3,
    "start_time": "2022-05-19T06:14:18.300Z"
   },
   {
    "duration": 202,
    "start_time": "2022-05-19T06:14:18.304Z"
   },
   {
    "duration": 86,
    "start_time": "2022-05-19T06:14:18.509Z"
   },
   {
    "duration": 96,
    "start_time": "2022-05-19T06:14:18.598Z"
   },
   {
    "duration": 5,
    "start_time": "2022-05-19T06:14:18.695Z"
   },
   {
    "duration": 5,
    "start_time": "2022-05-19T06:14:18.701Z"
   },
   {
    "duration": 7,
    "start_time": "2022-05-19T06:14:18.707Z"
   },
   {
    "duration": 6,
    "start_time": "2022-05-19T06:14:18.715Z"
   },
   {
    "duration": 7,
    "start_time": "2022-05-19T06:14:18.722Z"
   },
   {
    "duration": 3,
    "start_time": "2022-05-19T06:14:18.730Z"
   },
   {
    "duration": 5,
    "start_time": "2022-05-19T06:14:18.735Z"
   },
   {
    "duration": 7,
    "start_time": "2022-05-19T06:14:18.741Z"
   },
   {
    "duration": 6,
    "start_time": "2022-05-19T06:14:18.749Z"
   },
   {
    "duration": 688,
    "start_time": "2022-05-19T06:14:18.756Z"
   },
   {
    "duration": 625,
    "start_time": "2022-05-19T06:14:19.445Z"
   },
   {
    "duration": 576,
    "start_time": "2022-05-19T06:14:20.072Z"
   },
   {
    "duration": 597,
    "start_time": "2022-05-19T06:15:04.552Z"
   },
   {
    "duration": 587,
    "start_time": "2022-05-19T06:15:13.167Z"
   },
   {
    "duration": 602,
    "start_time": "2022-05-19T06:15:19.149Z"
   },
   {
    "duration": 113,
    "start_time": "2022-05-19T06:22:44.724Z"
   },
   {
    "duration": 17,
    "start_time": "2022-05-19T06:22:55.813Z"
   },
   {
    "duration": 17,
    "start_time": "2022-05-19T06:23:09.812Z"
   },
   {
    "duration": 1354,
    "start_time": "2022-05-19T06:53:55.487Z"
   },
   {
    "duration": 101,
    "start_time": "2022-05-19T06:53:56.843Z"
   },
   {
    "duration": 0,
    "start_time": "2022-05-19T06:53:56.947Z"
   },
   {
    "duration": 0,
    "start_time": "2022-05-19T06:53:56.948Z"
   },
   {
    "duration": 0,
    "start_time": "2022-05-19T06:53:56.949Z"
   },
   {
    "duration": 0,
    "start_time": "2022-05-19T06:53:56.950Z"
   },
   {
    "duration": 0,
    "start_time": "2022-05-19T06:53:56.951Z"
   },
   {
    "duration": 0,
    "start_time": "2022-05-19T06:53:56.952Z"
   },
   {
    "duration": 0,
    "start_time": "2022-05-19T06:53:56.953Z"
   },
   {
    "duration": 0,
    "start_time": "2022-05-19T06:53:56.954Z"
   },
   {
    "duration": 0,
    "start_time": "2022-05-19T06:53:56.955Z"
   },
   {
    "duration": 0,
    "start_time": "2022-05-19T06:53:56.955Z"
   },
   {
    "duration": 0,
    "start_time": "2022-05-19T06:53:56.956Z"
   },
   {
    "duration": 0,
    "start_time": "2022-05-19T06:53:56.957Z"
   },
   {
    "duration": 0,
    "start_time": "2022-05-19T06:53:56.958Z"
   },
   {
    "duration": 0,
    "start_time": "2022-05-19T06:53:56.960Z"
   },
   {
    "duration": 0,
    "start_time": "2022-05-19T06:53:56.961Z"
   },
   {
    "duration": 0,
    "start_time": "2022-05-19T06:53:56.962Z"
   },
   {
    "duration": 0,
    "start_time": "2022-05-19T06:53:56.963Z"
   },
   {
    "duration": 0,
    "start_time": "2022-05-19T06:53:56.964Z"
   },
   {
    "duration": 0,
    "start_time": "2022-05-19T06:53:56.964Z"
   },
   {
    "duration": 1395,
    "start_time": "2022-05-19T06:54:22.472Z"
   },
   {
    "duration": 14,
    "start_time": "2022-05-19T06:54:23.869Z"
   },
   {
    "duration": 18,
    "start_time": "2022-05-19T06:54:23.884Z"
   },
   {
    "duration": 7,
    "start_time": "2022-05-19T06:54:23.904Z"
   },
   {
    "duration": 10,
    "start_time": "2022-05-19T06:54:23.913Z"
   },
   {
    "duration": 30,
    "start_time": "2022-05-19T06:54:23.924Z"
   },
   {
    "duration": 53,
    "start_time": "2022-05-19T06:54:23.956Z"
   },
   {
    "duration": 83,
    "start_time": "2022-05-19T06:54:24.012Z"
   },
   {
    "duration": 99,
    "start_time": "2022-05-19T06:54:24.097Z"
   },
   {
    "duration": 2,
    "start_time": "2022-05-19T06:54:24.199Z"
   },
   {
    "duration": 5,
    "start_time": "2022-05-19T06:54:24.203Z"
   },
   {
    "duration": 6,
    "start_time": "2022-05-19T06:54:24.209Z"
   },
   {
    "duration": 5,
    "start_time": "2022-05-19T06:54:24.217Z"
   },
   {
    "duration": 4,
    "start_time": "2022-05-19T06:54:24.223Z"
   },
   {
    "duration": 6,
    "start_time": "2022-05-19T06:54:24.229Z"
   },
   {
    "duration": 6,
    "start_time": "2022-05-19T06:54:24.236Z"
   },
   {
    "duration": 7,
    "start_time": "2022-05-19T06:54:24.243Z"
   },
   {
    "duration": 3,
    "start_time": "2022-05-19T06:54:24.252Z"
   },
   {
    "duration": 721,
    "start_time": "2022-05-19T06:54:24.257Z"
   },
   {
    "duration": 795,
    "start_time": "2022-05-19T06:54:24.980Z"
   },
   {
    "duration": 697,
    "start_time": "2022-05-19T06:54:25.777Z"
   },
   {
    "duration": 13,
    "start_time": "2022-05-19T06:54:47.013Z"
   },
   {
    "duration": 13,
    "start_time": "2022-05-19T06:54:54.067Z"
   },
   {
    "duration": 1374,
    "start_time": "2022-05-19T06:57:05.090Z"
   },
   {
    "duration": 14,
    "start_time": "2022-05-19T06:57:06.466Z"
   },
   {
    "duration": 22,
    "start_time": "2022-05-19T06:57:06.481Z"
   },
   {
    "duration": 12,
    "start_time": "2022-05-19T06:57:06.505Z"
   },
   {
    "duration": 8,
    "start_time": "2022-05-19T06:57:06.518Z"
   },
   {
    "duration": 31,
    "start_time": "2022-05-19T06:57:06.528Z"
   },
   {
    "duration": 49,
    "start_time": "2022-05-19T06:57:06.560Z"
   },
   {
    "duration": 4,
    "start_time": "2022-05-19T06:57:06.612Z"
   },
   {
    "duration": 11,
    "start_time": "2022-05-19T06:57:06.695Z"
   },
   {
    "duration": 5,
    "start_time": "2022-05-19T06:57:06.795Z"
   },
   {
    "duration": 4,
    "start_time": "2022-05-19T06:57:06.801Z"
   },
   {
    "duration": 6,
    "start_time": "2022-05-19T06:57:06.807Z"
   },
   {
    "duration": 6,
    "start_time": "2022-05-19T06:57:06.815Z"
   },
   {
    "duration": 4,
    "start_time": "2022-05-19T06:57:06.822Z"
   },
   {
    "duration": 5,
    "start_time": "2022-05-19T06:57:06.827Z"
   },
   {
    "duration": 6,
    "start_time": "2022-05-19T06:57:06.833Z"
   },
   {
    "duration": 9,
    "start_time": "2022-05-19T06:57:06.840Z"
   },
   {
    "duration": 5,
    "start_time": "2022-05-19T06:57:06.850Z"
   },
   {
    "duration": 702,
    "start_time": "2022-05-19T06:57:06.856Z"
   },
   {
    "duration": 588,
    "start_time": "2022-05-19T06:57:07.559Z"
   },
   {
    "duration": 616,
    "start_time": "2022-05-19T06:57:08.149Z"
   },
   {
    "duration": 611,
    "start_time": "2022-05-19T06:57:50.915Z"
   },
   {
    "duration": 627,
    "start_time": "2022-05-19T06:58:13.218Z"
   },
   {
    "duration": 36,
    "start_time": "2022-05-19T06:59:24.469Z"
   },
   {
    "duration": 616,
    "start_time": "2022-05-19T06:59:43.040Z"
   },
   {
    "duration": 1325,
    "start_time": "2022-05-19T07:00:17.537Z"
   },
   {
    "duration": 16,
    "start_time": "2022-05-19T07:00:18.864Z"
   },
   {
    "duration": 30,
    "start_time": "2022-05-19T07:00:18.882Z"
   },
   {
    "duration": 15,
    "start_time": "2022-05-19T07:00:18.914Z"
   },
   {
    "duration": 26,
    "start_time": "2022-05-19T07:00:18.931Z"
   },
   {
    "duration": 60,
    "start_time": "2022-05-19T07:00:18.959Z"
   },
   {
    "duration": 83,
    "start_time": "2022-05-19T07:00:19.022Z"
   },
   {
    "duration": 4,
    "start_time": "2022-05-19T07:00:19.198Z"
   },
   {
    "duration": 100,
    "start_time": "2022-05-19T07:00:19.203Z"
   },
   {
    "duration": 2,
    "start_time": "2022-05-19T07:00:19.307Z"
   },
   {
    "duration": 7,
    "start_time": "2022-05-19T07:00:19.310Z"
   },
   {
    "duration": 7,
    "start_time": "2022-05-19T07:00:19.318Z"
   },
   {
    "duration": 9,
    "start_time": "2022-05-19T07:00:19.327Z"
   },
   {
    "duration": 6,
    "start_time": "2022-05-19T07:00:19.337Z"
   },
   {
    "duration": 5,
    "start_time": "2022-05-19T07:00:19.344Z"
   },
   {
    "duration": 6,
    "start_time": "2022-05-19T07:00:19.350Z"
   },
   {
    "duration": 8,
    "start_time": "2022-05-19T07:00:19.357Z"
   },
   {
    "duration": 3,
    "start_time": "2022-05-19T07:00:19.366Z"
   },
   {
    "duration": 710,
    "start_time": "2022-05-19T07:00:19.370Z"
   },
   {
    "duration": 5,
    "start_time": "2022-05-19T07:00:20.082Z"
   },
   {
    "duration": 0,
    "start_time": "2022-05-19T07:00:20.088Z"
   },
   {
    "duration": 1392,
    "start_time": "2022-05-19T07:00:42.703Z"
   },
   {
    "duration": 15,
    "start_time": "2022-05-19T07:00:44.097Z"
   },
   {
    "duration": 17,
    "start_time": "2022-05-19T07:00:44.113Z"
   },
   {
    "duration": 13,
    "start_time": "2022-05-19T07:00:44.131Z"
   },
   {
    "duration": 11,
    "start_time": "2022-05-19T07:00:44.145Z"
   },
   {
    "duration": 43,
    "start_time": "2022-05-19T07:00:44.158Z"
   },
   {
    "duration": 32,
    "start_time": "2022-05-19T07:00:44.202Z"
   },
   {
    "duration": 4,
    "start_time": "2022-05-19T07:00:44.299Z"
   },
   {
    "duration": 109,
    "start_time": "2022-05-19T07:00:44.305Z"
   },
   {
    "duration": 12,
    "start_time": "2022-05-19T07:00:44.417Z"
   },
   {
    "duration": 18,
    "start_time": "2022-05-19T07:00:44.430Z"
   },
   {
    "duration": 15,
    "start_time": "2022-05-19T07:00:44.450Z"
   },
   {
    "duration": 5,
    "start_time": "2022-05-19T07:00:44.466Z"
   },
   {
    "duration": 6,
    "start_time": "2022-05-19T07:00:44.473Z"
   },
   {
    "duration": 6,
    "start_time": "2022-05-19T07:00:44.480Z"
   },
   {
    "duration": 7,
    "start_time": "2022-05-19T07:00:44.488Z"
   },
   {
    "duration": 11,
    "start_time": "2022-05-19T07:00:44.496Z"
   },
   {
    "duration": 10,
    "start_time": "2022-05-19T07:00:44.509Z"
   },
   {
    "duration": 685,
    "start_time": "2022-05-19T07:00:44.520Z"
   },
   {
    "duration": 550,
    "start_time": "2022-05-19T07:00:45.207Z"
   },
   {
    "duration": 592,
    "start_time": "2022-05-19T07:00:45.759Z"
   },
   {
    "duration": 3041,
    "start_time": "2022-05-21T08:02:20.812Z"
   },
   {
    "duration": 17,
    "start_time": "2022-05-21T08:02:23.855Z"
   },
   {
    "duration": 23,
    "start_time": "2022-05-21T08:02:23.874Z"
   },
   {
    "duration": 34,
    "start_time": "2022-05-21T08:02:23.899Z"
   },
   {
    "duration": 10,
    "start_time": "2022-05-21T08:02:23.934Z"
   },
   {
    "duration": 38,
    "start_time": "2022-05-21T08:02:23.945Z"
   },
   {
    "duration": 301,
    "start_time": "2022-05-21T08:02:23.985Z"
   },
   {
    "duration": 5,
    "start_time": "2022-05-21T08:02:24.288Z"
   },
   {
    "duration": 96,
    "start_time": "2022-05-21T08:02:24.295Z"
   },
   {
    "duration": 4,
    "start_time": "2022-05-21T08:02:24.393Z"
   },
   {
    "duration": 6,
    "start_time": "2022-05-21T08:02:24.399Z"
   },
   {
    "duration": 77,
    "start_time": "2022-05-21T08:02:24.407Z"
   },
   {
    "duration": 3,
    "start_time": "2022-05-21T08:02:24.486Z"
   },
   {
    "duration": 9,
    "start_time": "2022-05-21T08:02:24.491Z"
   },
   {
    "duration": 13,
    "start_time": "2022-05-21T08:02:24.502Z"
   },
   {
    "duration": 115,
    "start_time": "2022-05-21T08:02:24.516Z"
   },
   {
    "duration": 0,
    "start_time": "2022-05-21T08:02:24.632Z"
   },
   {
    "duration": 0,
    "start_time": "2022-05-21T08:02:24.634Z"
   },
   {
    "duration": 0,
    "start_time": "2022-05-21T08:02:24.635Z"
   },
   {
    "duration": 0,
    "start_time": "2022-05-21T08:02:24.636Z"
   },
   {
    "duration": 0,
    "start_time": "2022-05-21T08:02:24.638Z"
   },
   {
    "duration": 3,
    "start_time": "2022-05-21T08:03:11.063Z"
   },
   {
    "duration": 6,
    "start_time": "2022-05-21T08:03:13.922Z"
   },
   {
    "duration": 4,
    "start_time": "2022-05-21T08:03:17.618Z"
   },
   {
    "duration": 24,
    "start_time": "2022-05-21T08:03:19.391Z"
   },
   {
    "duration": 23,
    "start_time": "2022-05-21T08:03:19.767Z"
   },
   {
    "duration": 22,
    "start_time": "2022-05-21T08:03:19.979Z"
   },
   {
    "duration": 4,
    "start_time": "2022-05-21T08:04:51.683Z"
   },
   {
    "duration": 19,
    "start_time": "2022-05-21T08:04:54.600Z"
   },
   {
    "duration": 5,
    "start_time": "2022-05-21T08:11:03.902Z"
   },
   {
    "duration": 18,
    "start_time": "2022-05-21T08:11:06.811Z"
   },
   {
    "duration": 5,
    "start_time": "2022-05-21T08:11:37.788Z"
   },
   {
    "duration": 47,
    "start_time": "2022-05-21T08:11:41.115Z"
   },
   {
    "duration": 1663,
    "start_time": "2022-05-21T08:12:52.388Z"
   },
   {
    "duration": 33,
    "start_time": "2022-05-21T08:12:54.053Z"
   },
   {
    "duration": 20,
    "start_time": "2022-05-21T08:12:54.088Z"
   },
   {
    "duration": 16,
    "start_time": "2022-05-21T08:12:54.111Z"
   },
   {
    "duration": 11,
    "start_time": "2022-05-21T08:12:54.130Z"
   },
   {
    "duration": 81,
    "start_time": "2022-05-21T08:12:54.143Z"
   },
   {
    "duration": 179,
    "start_time": "2022-05-21T08:12:54.226Z"
   },
   {
    "duration": 75,
    "start_time": "2022-05-21T08:12:54.414Z"
   },
   {
    "duration": 90,
    "start_time": "2022-05-21T08:12:54.504Z"
   },
   {
    "duration": 3,
    "start_time": "2022-05-21T08:12:54.597Z"
   },
   {
    "duration": 32,
    "start_time": "2022-05-21T08:12:54.602Z"
   },
   {
    "duration": 7,
    "start_time": "2022-05-21T08:12:54.637Z"
   },
   {
    "duration": 7,
    "start_time": "2022-05-21T08:12:54.646Z"
   },
   {
    "duration": 2,
    "start_time": "2022-05-21T08:12:54.657Z"
   },
   {
    "duration": 7,
    "start_time": "2022-05-21T08:12:54.667Z"
   },
   {
    "duration": 4,
    "start_time": "2022-05-21T08:12:54.683Z"
   },
   {
    "duration": 11,
    "start_time": "2022-05-21T08:12:54.690Z"
   },
   {
    "duration": 7,
    "start_time": "2022-05-21T08:12:54.705Z"
   },
   {
    "duration": 187,
    "start_time": "2022-05-21T08:12:54.715Z"
   },
   {
    "duration": 0,
    "start_time": "2022-05-21T08:12:54.904Z"
   },
   {
    "duration": 0,
    "start_time": "2022-05-21T08:12:54.906Z"
   },
   {
    "duration": 4,
    "start_time": "2022-05-21T08:13:13.672Z"
   },
   {
    "duration": 29,
    "start_time": "2022-05-21T08:13:17.410Z"
   },
   {
    "duration": 4,
    "start_time": "2022-05-21T08:14:15.422Z"
   },
   {
    "duration": 22,
    "start_time": "2022-05-21T08:14:18.859Z"
   },
   {
    "duration": 5,
    "start_time": "2022-05-21T08:14:55.564Z"
   },
   {
    "duration": 1127,
    "start_time": "2022-05-21T08:14:58.083Z"
   },
   {
    "duration": 792,
    "start_time": "2022-05-21T08:15:08.064Z"
   },
   {
    "duration": 1060,
    "start_time": "2022-05-21T08:15:14.990Z"
   },
   {
    "duration": 386,
    "start_time": "2022-05-21T08:25:35.370Z"
   },
   {
    "duration": 492,
    "start_time": "2022-05-21T08:26:37.002Z"
   },
   {
    "duration": 771,
    "start_time": "2022-05-21T08:27:01.457Z"
   },
   {
    "duration": 517,
    "start_time": "2022-05-21T08:27:47.224Z"
   },
   {
    "duration": 562,
    "start_time": "2022-05-21T08:29:26.606Z"
   },
   {
    "duration": 798,
    "start_time": "2022-05-21T08:39:04.854Z"
   },
   {
    "duration": 869,
    "start_time": "2022-05-21T08:40:41.697Z"
   },
   {
    "duration": 571,
    "start_time": "2022-05-21T08:41:11.478Z"
   },
   {
    "duration": 549,
    "start_time": "2022-05-21T08:43:54.959Z"
   },
   {
    "duration": 841,
    "start_time": "2022-05-21T08:44:09.425Z"
   },
   {
    "duration": 818,
    "start_time": "2022-05-21T08:46:52.009Z"
   },
   {
    "duration": 555,
    "start_time": "2022-05-21T08:47:37.063Z"
   },
   {
    "duration": 791,
    "start_time": "2022-05-21T08:49:13.017Z"
   },
   {
    "duration": 785,
    "start_time": "2022-05-21T08:49:32.301Z"
   },
   {
    "duration": 802,
    "start_time": "2022-05-21T08:49:39.369Z"
   },
   {
    "duration": 746,
    "start_time": "2022-05-21T08:50:12.726Z"
   },
   {
    "duration": 937,
    "start_time": "2022-05-21T08:51:06.213Z"
   },
   {
    "duration": 832,
    "start_time": "2022-05-21T08:51:55.619Z"
   },
   {
    "duration": 1630,
    "start_time": "2022-05-21T08:52:42.382Z"
   },
   {
    "duration": 15,
    "start_time": "2022-05-21T08:52:44.015Z"
   },
   {
    "duration": 29,
    "start_time": "2022-05-21T08:52:44.031Z"
   },
   {
    "duration": 32,
    "start_time": "2022-05-21T08:52:44.062Z"
   },
   {
    "duration": 24,
    "start_time": "2022-05-21T08:52:44.098Z"
   },
   {
    "duration": 72,
    "start_time": "2022-05-21T08:52:44.124Z"
   },
   {
    "duration": 50,
    "start_time": "2022-05-21T08:52:44.198Z"
   },
   {
    "duration": 8,
    "start_time": "2022-05-21T08:52:44.291Z"
   },
   {
    "duration": 100,
    "start_time": "2022-05-21T08:52:44.301Z"
   },
   {
    "duration": 22,
    "start_time": "2022-05-21T08:52:44.403Z"
   },
   {
    "duration": 8,
    "start_time": "2022-05-21T08:52:44.427Z"
   },
   {
    "duration": 11,
    "start_time": "2022-05-21T08:52:44.437Z"
   },
   {
    "duration": 5,
    "start_time": "2022-05-21T08:52:44.450Z"
   },
   {
    "duration": 3,
    "start_time": "2022-05-21T08:52:44.458Z"
   },
   {
    "duration": 7,
    "start_time": "2022-05-21T08:52:44.462Z"
   },
   {
    "duration": 6,
    "start_time": "2022-05-21T08:52:44.471Z"
   },
   {
    "duration": 15,
    "start_time": "2022-05-21T08:52:44.479Z"
   },
   {
    "duration": 8,
    "start_time": "2022-05-21T08:52:44.498Z"
   },
   {
    "duration": 947,
    "start_time": "2022-05-21T08:52:44.509Z"
   },
   {
    "duration": 818,
    "start_time": "2022-05-21T08:52:45.457Z"
   },
   {
    "duration": 823,
    "start_time": "2022-05-21T08:52:46.276Z"
   },
   {
    "duration": 816,
    "start_time": "2022-05-21T08:59:54.759Z"
   },
   {
    "duration": 1593,
    "start_time": "2022-05-21T09:00:10.260Z"
   },
   {
    "duration": 16,
    "start_time": "2022-05-21T09:00:11.855Z"
   },
   {
    "duration": 21,
    "start_time": "2022-05-21T09:00:11.873Z"
   },
   {
    "duration": 14,
    "start_time": "2022-05-21T09:00:11.896Z"
   },
   {
    "duration": 10,
    "start_time": "2022-05-21T09:00:11.911Z"
   },
   {
    "duration": 35,
    "start_time": "2022-05-21T09:00:11.923Z"
   },
   {
    "duration": 59,
    "start_time": "2022-05-21T09:00:11.960Z"
   },
   {
    "duration": 4,
    "start_time": "2022-05-21T09:00:12.086Z"
   },
   {
    "duration": 95,
    "start_time": "2022-05-21T09:00:12.092Z"
   },
   {
    "duration": 2,
    "start_time": "2022-05-21T09:00:12.190Z"
   },
   {
    "duration": 6,
    "start_time": "2022-05-21T09:00:12.193Z"
   },
   {
    "duration": 8,
    "start_time": "2022-05-21T09:00:12.200Z"
   },
   {
    "duration": 6,
    "start_time": "2022-05-21T09:00:12.209Z"
   },
   {
    "duration": 3,
    "start_time": "2022-05-21T09:00:12.216Z"
   },
   {
    "duration": 5,
    "start_time": "2022-05-21T09:00:12.220Z"
   },
   {
    "duration": 6,
    "start_time": "2022-05-21T09:00:12.226Z"
   },
   {
    "duration": 7,
    "start_time": "2022-05-21T09:00:12.233Z"
   },
   {
    "duration": 3,
    "start_time": "2022-05-21T09:00:12.242Z"
   },
   {
    "duration": 858,
    "start_time": "2022-05-21T09:00:12.284Z"
   },
   {
    "duration": 756,
    "start_time": "2022-05-21T09:00:13.144Z"
   },
   {
    "duration": 789,
    "start_time": "2022-05-21T09:00:13.901Z"
   },
   {
    "duration": 1531,
    "start_time": "2022-05-21T09:06:03.256Z"
   },
   {
    "duration": 16,
    "start_time": "2022-05-21T09:06:04.789Z"
   },
   {
    "duration": 14,
    "start_time": "2022-05-21T09:06:04.806Z"
   },
   {
    "duration": 16,
    "start_time": "2022-05-21T09:06:04.821Z"
   },
   {
    "duration": 13,
    "start_time": "2022-05-21T09:06:04.839Z"
   },
   {
    "duration": 53,
    "start_time": "2022-05-21T09:06:04.853Z"
   },
   {
    "duration": 35,
    "start_time": "2022-05-21T09:06:04.908Z"
   },
   {
    "duration": 6,
    "start_time": "2022-05-21T09:06:04.987Z"
   },
   {
    "duration": 100,
    "start_time": "2022-05-21T09:06:04.995Z"
   },
   {
    "duration": 15,
    "start_time": "2022-05-21T09:06:05.096Z"
   },
   {
    "duration": 6,
    "start_time": "2022-05-21T09:06:05.113Z"
   },
   {
    "duration": 8,
    "start_time": "2022-05-21T09:06:05.120Z"
   },
   {
    "duration": 6,
    "start_time": "2022-05-21T09:06:05.130Z"
   },
   {
    "duration": 5,
    "start_time": "2022-05-21T09:06:05.139Z"
   },
   {
    "duration": 5,
    "start_time": "2022-05-21T09:06:05.145Z"
   },
   {
    "duration": 5,
    "start_time": "2022-05-21T09:06:05.151Z"
   },
   {
    "duration": 7,
    "start_time": "2022-05-21T09:06:05.158Z"
   },
   {
    "duration": 5,
    "start_time": "2022-05-21T09:06:05.167Z"
   },
   {
    "duration": 841,
    "start_time": "2022-05-21T09:06:05.184Z"
   },
   {
    "duration": 761,
    "start_time": "2022-05-21T09:06:06.027Z"
   },
   {
    "duration": 755,
    "start_time": "2022-05-21T09:06:06.789Z"
   },
   {
    "duration": 1551,
    "start_time": "2022-05-21T09:07:04.923Z"
   },
   {
    "duration": 23,
    "start_time": "2022-05-21T09:07:06.476Z"
   },
   {
    "duration": 12,
    "start_time": "2022-05-21T09:07:06.500Z"
   },
   {
    "duration": 12,
    "start_time": "2022-05-21T09:07:06.514Z"
   },
   {
    "duration": 9,
    "start_time": "2022-05-21T09:07:06.528Z"
   },
   {
    "duration": 63,
    "start_time": "2022-05-21T09:07:06.538Z"
   },
   {
    "duration": 87,
    "start_time": "2022-05-21T09:07:06.602Z"
   },
   {
    "duration": 5,
    "start_time": "2022-05-21T09:07:06.691Z"
   },
   {
    "duration": 87,
    "start_time": "2022-05-21T09:07:06.697Z"
   },
   {
    "duration": 12,
    "start_time": "2022-05-21T09:07:06.787Z"
   },
   {
    "duration": 6,
    "start_time": "2022-05-21T09:07:06.801Z"
   },
   {
    "duration": 9,
    "start_time": "2022-05-21T09:07:06.809Z"
   },
   {
    "duration": 5,
    "start_time": "2022-05-21T09:07:06.820Z"
   },
   {
    "duration": 5,
    "start_time": "2022-05-21T09:07:06.826Z"
   },
   {
    "duration": 6,
    "start_time": "2022-05-21T09:07:06.832Z"
   },
   {
    "duration": 6,
    "start_time": "2022-05-21T09:07:06.839Z"
   },
   {
    "duration": 7,
    "start_time": "2022-05-21T09:07:06.846Z"
   },
   {
    "duration": 28,
    "start_time": "2022-05-21T09:07:06.856Z"
   },
   {
    "duration": 906,
    "start_time": "2022-05-21T09:07:06.886Z"
   },
   {
    "duration": 865,
    "start_time": "2022-05-21T09:07:07.797Z"
   },
   {
    "duration": 825,
    "start_time": "2022-05-21T09:07:08.664Z"
   },
   {
    "duration": 1588,
    "start_time": "2022-05-21T09:19:49.965Z"
   },
   {
    "duration": 17,
    "start_time": "2022-05-21T09:19:51.555Z"
   },
   {
    "duration": 25,
    "start_time": "2022-05-21T09:19:51.574Z"
   },
   {
    "duration": 14,
    "start_time": "2022-05-21T09:19:51.601Z"
   },
   {
    "duration": 10,
    "start_time": "2022-05-21T09:19:51.616Z"
   },
   {
    "duration": 57,
    "start_time": "2022-05-21T09:19:51.627Z"
   },
   {
    "duration": 99,
    "start_time": "2022-05-21T09:19:51.686Z"
   },
   {
    "duration": 5,
    "start_time": "2022-05-21T09:19:51.787Z"
   },
   {
    "duration": 11,
    "start_time": "2022-05-21T09:19:51.794Z"
   },
   {
    "duration": 3,
    "start_time": "2022-05-21T09:19:51.887Z"
   },
   {
    "duration": 6,
    "start_time": "2022-05-21T09:19:51.892Z"
   },
   {
    "duration": 88,
    "start_time": "2022-05-21T09:19:51.899Z"
   },
   {
    "duration": 7,
    "start_time": "2022-05-21T09:19:51.990Z"
   },
   {
    "duration": 4,
    "start_time": "2022-05-21T09:19:51.999Z"
   },
   {
    "duration": 11,
    "start_time": "2022-05-21T09:19:52.004Z"
   },
   {
    "duration": 21,
    "start_time": "2022-05-21T09:19:52.017Z"
   },
   {
    "duration": 9,
    "start_time": "2022-05-21T09:19:52.040Z"
   },
   {
    "duration": 3,
    "start_time": "2022-05-21T09:19:52.051Z"
   },
   {
    "duration": 919,
    "start_time": "2022-05-21T09:19:52.055Z"
   },
   {
    "duration": 815,
    "start_time": "2022-05-21T09:19:52.975Z"
   },
   {
    "duration": 810,
    "start_time": "2022-05-21T09:19:53.792Z"
   },
   {
    "duration": 3082,
    "start_time": "2022-05-22T09:54:48.169Z"
   },
   {
    "duration": 16,
    "start_time": "2022-05-22T09:54:51.253Z"
   },
   {
    "duration": 14,
    "start_time": "2022-05-22T09:54:51.273Z"
   },
   {
    "duration": 17,
    "start_time": "2022-05-22T09:54:51.288Z"
   },
   {
    "duration": 9,
    "start_time": "2022-05-22T09:54:51.307Z"
   },
   {
    "duration": 36,
    "start_time": "2022-05-22T09:54:51.318Z"
   },
   {
    "duration": 152,
    "start_time": "2022-05-22T09:54:51.356Z"
   },
   {
    "duration": 4,
    "start_time": "2022-05-22T09:54:51.596Z"
   },
   {
    "duration": 101,
    "start_time": "2022-05-22T09:54:51.604Z"
   },
   {
    "duration": 6,
    "start_time": "2022-05-22T09:54:51.706Z"
   },
   {
    "duration": 15,
    "start_time": "2022-05-22T09:54:51.714Z"
   },
   {
    "duration": 11,
    "start_time": "2022-05-22T09:54:51.731Z"
   },
   {
    "duration": 6,
    "start_time": "2022-05-22T09:54:51.744Z"
   },
   {
    "duration": 7,
    "start_time": "2022-05-22T09:54:51.752Z"
   },
   {
    "duration": 7,
    "start_time": "2022-05-22T09:54:51.761Z"
   },
   {
    "duration": 8,
    "start_time": "2022-05-22T09:54:51.769Z"
   },
   {
    "duration": 19,
    "start_time": "2022-05-22T09:54:51.778Z"
   },
   {
    "duration": 5,
    "start_time": "2022-05-22T09:54:51.798Z"
   },
   {
    "duration": 8,
    "start_time": "2022-05-22T09:54:51.805Z"
   },
   {
    "duration": 0,
    "start_time": "2022-05-22T09:54:51.814Z"
   },
   {
    "duration": 0,
    "start_time": "2022-05-22T09:54:51.816Z"
   },
   {
    "duration": 951,
    "start_time": "2022-05-22T09:56:47.076Z"
   },
   {
    "duration": 763,
    "start_time": "2022-05-22T09:57:32.014Z"
   },
   {
    "duration": 828,
    "start_time": "2022-05-22T09:58:27.094Z"
   },
   {
    "duration": 5,
    "start_time": "2022-05-22T10:08:14.051Z"
   },
   {
    "duration": 5,
    "start_time": "2022-05-22T10:09:15.461Z"
   },
   {
    "duration": 4,
    "start_time": "2022-05-22T10:09:38.261Z"
   },
   {
    "duration": 722,
    "start_time": "2022-05-22T10:10:25.456Z"
   },
   {
    "duration": 9,
    "start_time": "2022-05-22T10:10:56.069Z"
   },
   {
    "duration": 6,
    "start_time": "2022-05-22T10:11:08.177Z"
   },
   {
    "duration": 1089,
    "start_time": "2022-05-22T10:13:32.471Z"
   },
   {
    "duration": 863,
    "start_time": "2022-05-22T10:13:47.000Z"
   },
   {
    "duration": 10,
    "start_time": "2022-05-22T10:14:28.370Z"
   },
   {
    "duration": 998,
    "start_time": "2022-05-22T10:14:38.860Z"
   },
   {
    "duration": 808,
    "start_time": "2022-05-22T10:15:00.514Z"
   },
   {
    "duration": 1609,
    "start_time": "2022-05-22T10:15:58.583Z"
   },
   {
    "duration": 26,
    "start_time": "2022-05-22T10:16:00.194Z"
   },
   {
    "duration": 34,
    "start_time": "2022-05-22T10:16:00.221Z"
   },
   {
    "duration": 26,
    "start_time": "2022-05-22T10:16:00.257Z"
   },
   {
    "duration": 18,
    "start_time": "2022-05-22T10:16:00.285Z"
   },
   {
    "duration": 75,
    "start_time": "2022-05-22T10:16:00.305Z"
   },
   {
    "duration": 37,
    "start_time": "2022-05-22T10:16:00.381Z"
   },
   {
    "duration": 76,
    "start_time": "2022-05-22T10:16:00.420Z"
   },
   {
    "duration": 107,
    "start_time": "2022-05-22T10:16:00.499Z"
   },
   {
    "duration": 25,
    "start_time": "2022-05-22T10:16:00.610Z"
   },
   {
    "duration": 47,
    "start_time": "2022-05-22T10:16:00.638Z"
   },
   {
    "duration": 31,
    "start_time": "2022-05-22T10:16:00.688Z"
   },
   {
    "duration": 18,
    "start_time": "2022-05-22T10:16:00.721Z"
   },
   {
    "duration": 22,
    "start_time": "2022-05-22T10:16:00.741Z"
   },
   {
    "duration": 65,
    "start_time": "2022-05-22T10:16:00.765Z"
   },
   {
    "duration": 26,
    "start_time": "2022-05-22T10:16:00.832Z"
   },
   {
    "duration": 21,
    "start_time": "2022-05-22T10:16:00.860Z"
   },
   {
    "duration": 15,
    "start_time": "2022-05-22T10:16:00.883Z"
   },
   {
    "duration": 920,
    "start_time": "2022-05-22T10:16:00.900Z"
   },
   {
    "duration": 8,
    "start_time": "2022-05-22T10:16:01.822Z"
   },
   {
    "duration": 877,
    "start_time": "2022-05-22T10:16:01.832Z"
   },
   {
    "duration": 794,
    "start_time": "2022-05-22T10:16:02.711Z"
   },
   {
    "duration": 927,
    "start_time": "2022-05-22T10:16:23.294Z"
   },
   {
    "duration": 1542,
    "start_time": "2022-05-22T10:17:18.665Z"
   },
   {
    "duration": 22,
    "start_time": "2022-05-22T10:17:20.209Z"
   },
   {
    "duration": 35,
    "start_time": "2022-05-22T10:17:20.233Z"
   },
   {
    "duration": 29,
    "start_time": "2022-05-22T10:17:20.271Z"
   },
   {
    "duration": 11,
    "start_time": "2022-05-22T10:17:20.303Z"
   },
   {
    "duration": 37,
    "start_time": "2022-05-22T10:17:20.316Z"
   },
   {
    "duration": 147,
    "start_time": "2022-05-22T10:17:20.356Z"
   },
   {
    "duration": 92,
    "start_time": "2022-05-22T10:17:20.506Z"
   },
   {
    "duration": 102,
    "start_time": "2022-05-22T10:17:20.601Z"
   },
   {
    "duration": 3,
    "start_time": "2022-05-22T10:17:20.707Z"
   },
   {
    "duration": 7,
    "start_time": "2022-05-22T10:17:20.712Z"
   },
   {
    "duration": 9,
    "start_time": "2022-05-22T10:17:20.721Z"
   },
   {
    "duration": 13,
    "start_time": "2022-05-22T10:17:20.732Z"
   },
   {
    "duration": 3,
    "start_time": "2022-05-22T10:17:20.748Z"
   },
   {
    "duration": 5,
    "start_time": "2022-05-22T10:17:20.752Z"
   },
   {
    "duration": 7,
    "start_time": "2022-05-22T10:17:20.759Z"
   },
   {
    "duration": 35,
    "start_time": "2022-05-22T10:17:20.768Z"
   },
   {
    "duration": 4,
    "start_time": "2022-05-22T10:17:20.806Z"
   },
   {
    "duration": 883,
    "start_time": "2022-05-22T10:17:20.812Z"
   },
   {
    "duration": 8,
    "start_time": "2022-05-22T10:17:21.697Z"
   },
   {
    "duration": 873,
    "start_time": "2022-05-22T10:17:21.708Z"
   },
   {
    "duration": 802,
    "start_time": "2022-05-22T10:17:22.582Z"
   },
   {
    "duration": 43,
    "start_time": "2022-05-22T10:21:52.571Z"
   },
   {
    "duration": 1690,
    "start_time": "2022-05-22T10:25:57.361Z"
   },
   {
    "duration": 17,
    "start_time": "2022-05-22T10:25:59.054Z"
   },
   {
    "duration": 37,
    "start_time": "2022-05-22T10:25:59.074Z"
   },
   {
    "duration": 15,
    "start_time": "2022-05-22T10:25:59.113Z"
   },
   {
    "duration": 11,
    "start_time": "2022-05-22T10:25:59.131Z"
   },
   {
    "duration": 63,
    "start_time": "2022-05-22T10:25:59.144Z"
   },
   {
    "duration": 191,
    "start_time": "2022-05-22T10:25:59.209Z"
   },
   {
    "duration": 4,
    "start_time": "2022-05-22T10:25:59.402Z"
   },
   {
    "duration": 101,
    "start_time": "2022-05-22T10:25:59.409Z"
   },
   {
    "duration": 80,
    "start_time": "2022-05-22T10:25:59.516Z"
   },
   {
    "duration": 8,
    "start_time": "2022-05-22T10:25:59.598Z"
   },
   {
    "duration": 8,
    "start_time": "2022-05-22T10:25:59.608Z"
   },
   {
    "duration": 9,
    "start_time": "2022-05-22T10:25:59.618Z"
   },
   {
    "duration": 11,
    "start_time": "2022-05-22T10:25:59.631Z"
   },
   {
    "duration": 14,
    "start_time": "2022-05-22T10:25:59.648Z"
   },
   {
    "duration": 11,
    "start_time": "2022-05-22T10:25:59.665Z"
   },
   {
    "duration": 22,
    "start_time": "2022-05-22T10:25:59.678Z"
   },
   {
    "duration": 5,
    "start_time": "2022-05-22T10:25:59.702Z"
   },
   {
    "duration": 1014,
    "start_time": "2022-05-22T10:25:59.710Z"
   },
   {
    "duration": 7,
    "start_time": "2022-05-22T10:26:00.726Z"
   },
   {
    "duration": 826,
    "start_time": "2022-05-22T10:26:00.735Z"
   },
   {
    "duration": 916,
    "start_time": "2022-05-22T10:26:01.563Z"
   },
   {
    "duration": 1679,
    "start_time": "2022-05-22T10:27:38.087Z"
   },
   {
    "duration": 28,
    "start_time": "2022-05-22T10:27:39.770Z"
   },
   {
    "duration": 22,
    "start_time": "2022-05-22T10:27:39.801Z"
   },
   {
    "duration": 30,
    "start_time": "2022-05-22T10:27:39.827Z"
   },
   {
    "duration": 36,
    "start_time": "2022-05-22T10:27:39.859Z"
   },
   {
    "duration": 65,
    "start_time": "2022-05-22T10:27:39.898Z"
   },
   {
    "duration": 242,
    "start_time": "2022-05-22T10:27:39.965Z"
   },
   {
    "duration": 5,
    "start_time": "2022-05-22T10:27:40.209Z"
   },
   {
    "duration": 189,
    "start_time": "2022-05-22T10:27:40.216Z"
   },
   {
    "duration": 3,
    "start_time": "2022-05-22T10:27:40.409Z"
   },
   {
    "duration": 10,
    "start_time": "2022-05-22T10:27:40.414Z"
   },
   {
    "duration": 12,
    "start_time": "2022-05-22T10:27:40.426Z"
   },
   {
    "duration": 9,
    "start_time": "2022-05-22T10:27:40.440Z"
   },
   {
    "duration": 5,
    "start_time": "2022-05-22T10:27:40.452Z"
   },
   {
    "duration": 4,
    "start_time": "2022-05-22T10:27:40.459Z"
   },
   {
    "duration": 8,
    "start_time": "2022-05-22T10:27:40.465Z"
   },
   {
    "duration": 23,
    "start_time": "2022-05-22T10:27:40.475Z"
   },
   {
    "duration": 4,
    "start_time": "2022-05-22T10:27:40.500Z"
   },
   {
    "duration": 883,
    "start_time": "2022-05-22T10:27:40.506Z"
   },
   {
    "duration": 10,
    "start_time": "2022-05-22T10:27:41.391Z"
   },
   {
    "duration": 857,
    "start_time": "2022-05-22T10:27:41.404Z"
   },
   {
    "duration": 837,
    "start_time": "2022-05-22T10:27:42.262Z"
   },
   {
    "duration": 1563,
    "start_time": "2022-05-22T10:28:23.710Z"
   },
   {
    "duration": 20,
    "start_time": "2022-05-22T10:28:25.275Z"
   },
   {
    "duration": 17,
    "start_time": "2022-05-22T10:28:25.296Z"
   },
   {
    "duration": 14,
    "start_time": "2022-05-22T10:28:25.315Z"
   },
   {
    "duration": 9,
    "start_time": "2022-05-22T10:28:25.333Z"
   },
   {
    "duration": 73,
    "start_time": "2022-05-22T10:28:25.345Z"
   },
   {
    "duration": 75,
    "start_time": "2022-05-22T10:28:25.420Z"
   },
   {
    "duration": 9,
    "start_time": "2022-05-22T10:28:25.498Z"
   },
   {
    "duration": 96,
    "start_time": "2022-05-22T10:28:25.509Z"
   },
   {
    "duration": 3,
    "start_time": "2022-05-22T10:28:25.607Z"
   },
   {
    "duration": 12,
    "start_time": "2022-05-22T10:28:25.612Z"
   },
   {
    "duration": 9,
    "start_time": "2022-05-22T10:28:25.626Z"
   },
   {
    "duration": 7,
    "start_time": "2022-05-22T10:28:25.637Z"
   },
   {
    "duration": 9,
    "start_time": "2022-05-22T10:28:25.647Z"
   },
   {
    "duration": 6,
    "start_time": "2022-05-22T10:28:25.658Z"
   },
   {
    "duration": 6,
    "start_time": "2022-05-22T10:28:25.666Z"
   },
   {
    "duration": 7,
    "start_time": "2022-05-22T10:28:25.695Z"
   },
   {
    "duration": 5,
    "start_time": "2022-05-22T10:28:25.704Z"
   },
   {
    "duration": 960,
    "start_time": "2022-05-22T10:28:25.710Z"
   },
   {
    "duration": 9,
    "start_time": "2022-05-22T10:28:26.672Z"
   },
   {
    "duration": 853,
    "start_time": "2022-05-22T10:28:26.695Z"
   },
   {
    "duration": 826,
    "start_time": "2022-05-22T10:28:27.551Z"
   },
   {
    "duration": 2884,
    "start_time": "2022-05-23T07:19:08.356Z"
   },
   {
    "duration": 19,
    "start_time": "2022-05-23T07:19:11.243Z"
   },
   {
    "duration": 36,
    "start_time": "2022-05-23T07:19:11.264Z"
   },
   {
    "duration": 22,
    "start_time": "2022-05-23T07:19:11.303Z"
   },
   {
    "duration": 12,
    "start_time": "2022-05-23T07:19:11.327Z"
   },
   {
    "duration": 50,
    "start_time": "2022-05-23T07:19:11.341Z"
   },
   {
    "duration": 209,
    "start_time": "2022-05-23T07:19:11.398Z"
   },
   {
    "duration": 4,
    "start_time": "2022-05-23T07:19:11.609Z"
   },
   {
    "duration": 55,
    "start_time": "2022-05-23T07:19:11.615Z"
   },
   {
    "duration": 93,
    "start_time": "2022-05-23T07:19:11.678Z"
   },
   {
    "duration": 34,
    "start_time": "2022-05-23T07:19:11.773Z"
   },
   {
    "duration": 11,
    "start_time": "2022-05-23T07:19:11.809Z"
   },
   {
    "duration": 9,
    "start_time": "2022-05-23T07:19:11.822Z"
   },
   {
    "duration": 5,
    "start_time": "2022-05-23T07:19:11.833Z"
   },
   {
    "duration": 6,
    "start_time": "2022-05-23T07:19:11.840Z"
   },
   {
    "duration": 8,
    "start_time": "2022-05-23T07:19:11.848Z"
   },
   {
    "duration": 12,
    "start_time": "2022-05-23T07:19:11.858Z"
   },
   {
    "duration": 37,
    "start_time": "2022-05-23T07:19:11.871Z"
   },
   {
    "duration": 723,
    "start_time": "2022-05-23T07:19:11.910Z"
   },
   {
    "duration": 0,
    "start_time": "2022-05-23T07:19:12.635Z"
   },
   {
    "duration": 0,
    "start_time": "2022-05-23T07:19:12.636Z"
   },
   {
    "duration": 0,
    "start_time": "2022-05-23T07:19:12.638Z"
   },
   {
    "duration": 10,
    "start_time": "2022-05-23T07:19:58.836Z"
   },
   {
    "duration": 966,
    "start_time": "2022-05-23T07:20:05.242Z"
   },
   {
    "duration": 1860,
    "start_time": "2022-05-23T07:20:57.179Z"
   },
   {
    "duration": 30,
    "start_time": "2022-05-23T07:20:59.043Z"
   },
   {
    "duration": 41,
    "start_time": "2022-05-23T07:20:59.077Z"
   },
   {
    "duration": 18,
    "start_time": "2022-05-23T07:20:59.122Z"
   },
   {
    "duration": 16,
    "start_time": "2022-05-23T07:20:59.142Z"
   },
   {
    "duration": 94,
    "start_time": "2022-05-23T07:20:59.160Z"
   },
   {
    "duration": 56,
    "start_time": "2022-05-23T07:20:59.257Z"
   },
   {
    "duration": 90,
    "start_time": "2022-05-23T07:20:59.379Z"
   },
   {
    "duration": 34,
    "start_time": "2022-05-23T07:20:59.471Z"
   },
   {
    "duration": 3,
    "start_time": "2022-05-23T07:20:59.508Z"
   },
   {
    "duration": 9,
    "start_time": "2022-05-23T07:20:59.513Z"
   },
   {
    "duration": 8,
    "start_time": "2022-05-23T07:20:59.524Z"
   },
   {
    "duration": 4,
    "start_time": "2022-05-23T07:20:59.534Z"
   },
   {
    "duration": 3,
    "start_time": "2022-05-23T07:20:59.543Z"
   },
   {
    "duration": 7,
    "start_time": "2022-05-23T07:20:59.547Z"
   },
   {
    "duration": 6,
    "start_time": "2022-05-23T07:20:59.556Z"
   },
   {
    "duration": 38,
    "start_time": "2022-05-23T07:20:59.563Z"
   },
   {
    "duration": 6,
    "start_time": "2022-05-23T07:20:59.603Z"
   },
   {
    "duration": 979,
    "start_time": "2022-05-23T07:20:59.611Z"
   },
   {
    "duration": 17,
    "start_time": "2022-05-23T07:21:00.592Z"
   },
   {
    "duration": 888,
    "start_time": "2022-05-23T07:21:00.611Z"
   },
   {
    "duration": 970,
    "start_time": "2022-05-23T07:21:01.501Z"
   },
   {
    "duration": 177,
    "start_time": "2022-05-23T07:22:14.643Z"
   },
   {
    "duration": 194,
    "start_time": "2022-05-23T07:22:36.352Z"
   },
   {
    "duration": 201,
    "start_time": "2022-05-23T07:23:12.779Z"
   },
   {
    "duration": 212,
    "start_time": "2022-05-23T07:23:55.295Z"
   },
   {
    "duration": 226,
    "start_time": "2022-05-23T07:24:16.692Z"
   },
   {
    "duration": 227,
    "start_time": "2022-05-23T07:24:29.222Z"
   },
   {
    "duration": 347,
    "start_time": "2022-05-23T07:25:24.804Z"
   },
   {
    "duration": 206,
    "start_time": "2022-05-23T07:25:35.446Z"
   },
   {
    "duration": 167,
    "start_time": "2022-05-23T07:25:44.245Z"
   },
   {
    "duration": 178,
    "start_time": "2022-05-23T07:25:51.723Z"
   },
   {
    "duration": 215,
    "start_time": "2022-05-23T07:26:04.462Z"
   },
   {
    "duration": 150,
    "start_time": "2022-05-23T07:26:10.887Z"
   },
   {
    "duration": 159,
    "start_time": "2022-05-23T07:26:22.248Z"
   },
   {
    "duration": 314,
    "start_time": "2022-05-23T07:27:02.661Z"
   }
  ],
  "kernelspec": {
   "display_name": "Python 3 (ipykernel)",
   "language": "python",
   "name": "python3"
  },
  "language_info": {
   "codemirror_mode": {
    "name": "ipython",
    "version": 3
   },
   "file_extension": ".py",
   "mimetype": "text/x-python",
   "name": "python",
   "nbconvert_exporter": "python",
   "pygments_lexer": "ipython3",
   "version": "3.9.7"
  },
  "toc": {
   "base_numbering": 1,
   "nav_menu": {},
   "number_sections": true,
   "sideBar": true,
   "skip_h1_title": true,
   "title_cell": "Table of Contents",
   "title_sidebar": "Contents",
   "toc_cell": false,
   "toc_position": {},
   "toc_section_display": true,
   "toc_window_display": false
  }
 },
 "nbformat": 4,
 "nbformat_minor": 2
}
