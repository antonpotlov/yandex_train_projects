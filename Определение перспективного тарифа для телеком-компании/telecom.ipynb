{
 "cells": [
  {
   "cell_type": "markdown",
   "id": "74be170f",
   "metadata": {},
   "source": [
    "# Проект: Определение выгодного тарифа сотовой связи"
   ]
  },
  {
   "cell_type": "markdown",
   "id": "ac3e531f",
   "metadata": {},
   "source": [
    "Описание проекта. На основании имеющихся выгрузок с данными абонентов компании сотовой связи необходимо сделать вывод о тратах на сотовую связь жителями разных городов и пользователями разных тарифных планов. Так же необходимо составить представление о покупательском поведении среднего пользователя услугами компании сотовой связи."
   ]
  },
  {
   "cell_type": "markdown",
   "id": "0ca5fab0",
   "metadata": {},
   "source": [
    "## 1. Загрузка и получение общих сведений о данных"
   ]
  },
  {
   "cell_type": "code",
   "execution_count": 1,
   "id": "7c1d4d09",
   "metadata": {},
   "outputs": [],
   "source": [
    "import pandas as pd\n",
    "import numpy as np\n",
    "import matplotlib.pyplot as plt\n",
    "from scipy import stats as st"
   ]
  },
  {
   "cell_type": "code",
   "execution_count": 2,
   "id": "2ee80fb9",
   "metadata": {},
   "outputs": [],
   "source": [
    "users_data = pd.read_csv('/datasets/users.csv')\n",
    "internet_data = pd.read_csv('/datasets/internet.csv')\n",
    "messages_data = pd.read_csv('/datasets/messages.csv')\n",
    "calls_data = pd.read_csv('/datasets/calls.csv')\n",
    "tariffs_data = pd.read_csv('/datasets/tariffs.csv')"
   ]
  },
  {
   "cell_type": "code",
   "execution_count": 3,
   "id": "63ba8173",
   "metadata": {},
   "outputs": [
    {
     "name": "stdout",
     "output_type": "stream",
     "text": [
      "   user_id  age churn_date         city first_name  last_name    reg_date  \\\n",
      "0     1000   52        NaN    Краснодар     Рафаил  Верещагин  2018-05-25   \n",
      "1     1001   41        NaN       Москва       Иван       Ежов  2018-11-01   \n",
      "2     1002   59        NaN  Стерлитамак    Евгений  Абрамович  2018-06-17   \n",
      "3     1003   23        NaN       Москва      Белла   Белякова  2018-08-17   \n",
      "4     1004   68        NaN  Новокузнецк    Татьяна   Авдеенко  2018-05-14   \n",
      "\n",
      "  tariff_name  \n",
      "0       ultra  \n",
      "1       smart  \n",
      "2       smart  \n",
      "3       ultra  \n",
      "4       ultra  \n",
      "<class 'pandas.core.frame.DataFrame'>\n",
      "RangeIndex: 500 entries, 0 to 499\n",
      "Data columns (total 8 columns):\n",
      " #   Column       Non-Null Count  Dtype \n",
      "---  ------       --------------  ----- \n",
      " 0   user_id      500 non-null    int64 \n",
      " 1   age          500 non-null    int64 \n",
      " 2   churn_date   38 non-null     object\n",
      " 3   city         500 non-null    object\n",
      " 4   first_name   500 non-null    object\n",
      " 5   last_name    500 non-null    object\n",
      " 6   reg_date     500 non-null    object\n",
      " 7   tariff_name  500 non-null    object\n",
      "dtypes: int64(2), object(6)\n",
      "memory usage: 31.4+ KB\n",
      "None\n"
     ]
    }
   ],
   "source": [
    "users_data.columns = ['user_id','age','churn_date', 'city', 'first_name', 'last_name', 'reg_date', 'tariff_name']\n",
    "print(users_data.head())\n",
    "print(users_data.info())"
   ]
  },
  {
   "cell_type": "code",
   "execution_count": 4,
   "id": "4d9a2af5",
   "metadata": {},
   "outputs": [
    {
     "name": "stdout",
     "output_type": "stream",
     "text": [
      "   Unnamed: 0      id  mb_used session_date  user_id\n",
      "0           0  1000_0   112.95   2018-11-25     1000\n",
      "1           1  1000_1  1052.81   2018-09-07     1000\n",
      "2           2  1000_2  1197.26   2018-06-25     1000\n",
      "3           3  1000_3   550.27   2018-08-22     1000\n",
      "4           4  1000_4   302.56   2018-09-24     1000\n",
      "<class 'pandas.core.frame.DataFrame'>\n",
      "RangeIndex: 149396 entries, 0 to 149395\n",
      "Data columns (total 5 columns):\n",
      " #   Column        Non-Null Count   Dtype  \n",
      "---  ------        --------------   -----  \n",
      " 0   Unnamed: 0    149396 non-null  int64  \n",
      " 1   id            149396 non-null  object \n",
      " 2   mb_used       149396 non-null  float64\n",
      " 3   session_date  149396 non-null  object \n",
      " 4   user_id       149396 non-null  int64  \n",
      "dtypes: float64(1), int64(2), object(2)\n",
      "memory usage: 5.7+ MB\n",
      "None\n"
     ]
    }
   ],
   "source": [
    "print(internet_data.head())\n",
    "print(internet_data.info())"
   ]
  },
  {
   "cell_type": "code",
   "execution_count": 5,
   "id": "9f9801d6",
   "metadata": {},
   "outputs": [
    {
     "name": "stdout",
     "output_type": "stream",
     "text": [
      "       id   call_date  duration  user_id\n",
      "0  1000_0  2018-07-25      0.00     1000\n",
      "1  1000_1  2018-08-17      0.00     1000\n",
      "2  1000_2  2018-06-11      2.85     1000\n",
      "3  1000_3  2018-09-21     13.80     1000\n",
      "4  1000_4  2018-12-15      5.18     1000\n",
      "<class 'pandas.core.frame.DataFrame'>\n",
      "RangeIndex: 202607 entries, 0 to 202606\n",
      "Data columns (total 4 columns):\n",
      " #   Column     Non-Null Count   Dtype  \n",
      "---  ------     --------------   -----  \n",
      " 0   id         202607 non-null  object \n",
      " 1   call_date  202607 non-null  object \n",
      " 2   duration   202607 non-null  float64\n",
      " 3   user_id    202607 non-null  int64  \n",
      "dtypes: float64(1), int64(1), object(2)\n",
      "memory usage: 6.2+ MB\n",
      "None\n"
     ]
    }
   ],
   "source": [
    "print(calls_data.head())\n",
    "print(calls_data.info())"
   ]
  },
  {
   "cell_type": "code",
   "execution_count": 6,
   "id": "3afa16d1",
   "metadata": {},
   "outputs": [
    {
     "name": "stdout",
     "output_type": "stream",
     "text": [
      "       id message_date  user_id\n",
      "0  1000_0   2018-06-27     1000\n",
      "1  1000_1   2018-10-08     1000\n",
      "2  1000_2   2018-08-04     1000\n",
      "3  1000_3   2018-06-16     1000\n",
      "4  1000_4   2018-12-05     1000\n",
      "<class 'pandas.core.frame.DataFrame'>\n",
      "RangeIndex: 123036 entries, 0 to 123035\n",
      "Data columns (total 3 columns):\n",
      " #   Column        Non-Null Count   Dtype \n",
      "---  ------        --------------   ----- \n",
      " 0   id            123036 non-null  object\n",
      " 1   message_date  123036 non-null  object\n",
      " 2   user_id       123036 non-null  int64 \n",
      "dtypes: int64(1), object(2)\n",
      "memory usage: 2.8+ MB\n",
      "None\n"
     ]
    }
   ],
   "source": [
    "print(messages_data.head())\n",
    "print(messages_data.info())"
   ]
  },
  {
   "cell_type": "code",
   "execution_count": 7,
   "id": "834e80d4",
   "metadata": {},
   "outputs": [
    {
     "data": {
      "text/html": [
       "<div>\n",
       "<style scoped>\n",
       "    .dataframe tbody tr th:only-of-type {\n",
       "        vertical-align: middle;\n",
       "    }\n",
       "\n",
       "    .dataframe tbody tr th {\n",
       "        vertical-align: top;\n",
       "    }\n",
       "\n",
       "    .dataframe thead th {\n",
       "        text-align: right;\n",
       "    }\n",
       "</style>\n",
       "<table border=\"1\" class=\"dataframe\">\n",
       "  <thead>\n",
       "    <tr style=\"text-align: right;\">\n",
       "      <th></th>\n",
       "      <th>messages_included</th>\n",
       "      <th>mb_per_month_included</th>\n",
       "      <th>minutes_included</th>\n",
       "      <th>rub_monthly_fee</th>\n",
       "      <th>rub_per_gb</th>\n",
       "      <th>rub_per_message</th>\n",
       "      <th>rub_per_minute</th>\n",
       "      <th>tariff_name</th>\n",
       "    </tr>\n",
       "  </thead>\n",
       "  <tbody>\n",
       "    <tr>\n",
       "      <th>0</th>\n",
       "      <td>50</td>\n",
       "      <td>15360</td>\n",
       "      <td>500</td>\n",
       "      <td>550</td>\n",
       "      <td>200</td>\n",
       "      <td>3</td>\n",
       "      <td>3</td>\n",
       "      <td>smart</td>\n",
       "    </tr>\n",
       "    <tr>\n",
       "      <th>1</th>\n",
       "      <td>1000</td>\n",
       "      <td>30720</td>\n",
       "      <td>3000</td>\n",
       "      <td>1950</td>\n",
       "      <td>150</td>\n",
       "      <td>1</td>\n",
       "      <td>1</td>\n",
       "      <td>ultra</td>\n",
       "    </tr>\n",
       "  </tbody>\n",
       "</table>\n",
       "</div>"
      ],
      "text/plain": [
       "   messages_included  mb_per_month_included  minutes_included  \\\n",
       "0                 50                  15360               500   \n",
       "1               1000                  30720              3000   \n",
       "\n",
       "   rub_monthly_fee  rub_per_gb  rub_per_message  rub_per_minute tariff_name  \n",
       "0              550         200                3               3       smart  \n",
       "1             1950         150                1               1       ultra  "
      ]
     },
     "execution_count": 7,
     "metadata": {},
     "output_type": "execute_result"
    }
   ],
   "source": [
    "tariffs_data"
   ]
  },
  {
   "cell_type": "markdown",
   "id": "93fa8378",
   "metadata": {},
   "source": [
    "Полученные данные не имеют отсутствующих значений (кроме столбца churn_date таблицы users_data). Данные колонок всех таблиц с датой представленны не в формате datetime. Приведем формат колонок, в полученных таблицах, с датой в формат datetime."
   ]
  },
  {
   "cell_type": "markdown",
   "id": "85f6e6aa",
   "metadata": {},
   "source": [
    "## 2. Переработка и подготовка данных"
   ]
  },
  {
   "cell_type": "code",
   "execution_count": 8,
   "id": "dfdd6823",
   "metadata": {},
   "outputs": [],
   "source": [
    "tariffs_data.head()\n",
    "tariffs_data.columns = ['messages_included', 'mb_per_month_included', 'minutes_included', 'rub_monthly_fee', 'rub_per_gb','rub_per_message', 'rub_per_minute', 'tariff_name']"
   ]
  },
  {
   "cell_type": "code",
   "execution_count": 9,
   "id": "7f6fcb64",
   "metadata": {},
   "outputs": [],
   "source": [
    "users_data['reg_date']=pd.to_datetime(users_data['reg_date'])\n",
    "calls_data['call_date']=pd.to_datetime(calls_data['call_date'])\n",
    "internet_data['session_date']=pd.to_datetime(internet_data['session_date'])\n",
    "messages_data['message_date']=pd.to_datetime(messages_data['message_date'])"
   ]
  },
  {
   "cell_type": "code",
   "execution_count": 10,
   "id": "5a67209e",
   "metadata": {},
   "outputs": [
    {
     "name": "stdout",
     "output_type": "stream",
     "text": [
      "<class 'pandas.core.frame.DataFrame'>\n",
      "RangeIndex: 123036 entries, 0 to 123035\n",
      "Data columns (total 3 columns):\n",
      " #   Column        Non-Null Count   Dtype         \n",
      "---  ------        --------------   -----         \n",
      " 0   id            123036 non-null  object        \n",
      " 1   message_date  123036 non-null  datetime64[ns]\n",
      " 2   user_id       123036 non-null  int64         \n",
      "dtypes: datetime64[ns](1), int64(1), object(1)\n",
      "memory usage: 2.8+ MB\n"
     ]
    }
   ],
   "source": [
    "messages_data.info()"
   ]
  },
  {
   "cell_type": "code",
   "execution_count": 11,
   "id": "c8442a1f",
   "metadata": {},
   "outputs": [],
   "source": [
    "calls_data['month'] = calls_data['call_date'].dt.month\n",
    "internet_data['month'] = internet_data['session_date'].dt.month\n",
    "messages_data['month'] = messages_data['message_date'].dt.month"
   ]
  },
  {
   "cell_type": "code",
   "execution_count": 12,
   "id": "5a802eaf",
   "metadata": {},
   "outputs": [
    {
     "data": {
      "text/html": [
       "<div>\n",
       "<style scoped>\n",
       "    .dataframe tbody tr th:only-of-type {\n",
       "        vertical-align: middle;\n",
       "    }\n",
       "\n",
       "    .dataframe tbody tr th {\n",
       "        vertical-align: top;\n",
       "    }\n",
       "\n",
       "    .dataframe thead th {\n",
       "        text-align: right;\n",
       "    }\n",
       "</style>\n",
       "<table border=\"1\" class=\"dataframe\">\n",
       "  <thead>\n",
       "    <tr style=\"text-align: right;\">\n",
       "      <th></th>\n",
       "      <th>id</th>\n",
       "      <th>message_date</th>\n",
       "      <th>user_id</th>\n",
       "      <th>month</th>\n",
       "    </tr>\n",
       "  </thead>\n",
       "  <tbody>\n",
       "    <tr>\n",
       "      <th>0</th>\n",
       "      <td>1000_0</td>\n",
       "      <td>2018-06-27</td>\n",
       "      <td>1000</td>\n",
       "      <td>6</td>\n",
       "    </tr>\n",
       "    <tr>\n",
       "      <th>1</th>\n",
       "      <td>1000_1</td>\n",
       "      <td>2018-10-08</td>\n",
       "      <td>1000</td>\n",
       "      <td>10</td>\n",
       "    </tr>\n",
       "    <tr>\n",
       "      <th>2</th>\n",
       "      <td>1000_2</td>\n",
       "      <td>2018-08-04</td>\n",
       "      <td>1000</td>\n",
       "      <td>8</td>\n",
       "    </tr>\n",
       "    <tr>\n",
       "      <th>3</th>\n",
       "      <td>1000_3</td>\n",
       "      <td>2018-06-16</td>\n",
       "      <td>1000</td>\n",
       "      <td>6</td>\n",
       "    </tr>\n",
       "    <tr>\n",
       "      <th>4</th>\n",
       "      <td>1000_4</td>\n",
       "      <td>2018-12-05</td>\n",
       "      <td>1000</td>\n",
       "      <td>12</td>\n",
       "    </tr>\n",
       "  </tbody>\n",
       "</table>\n",
       "</div>"
      ],
      "text/plain": [
       "       id message_date  user_id  month\n",
       "0  1000_0   2018-06-27     1000      6\n",
       "1  1000_1   2018-10-08     1000     10\n",
       "2  1000_2   2018-08-04     1000      8\n",
       "3  1000_3   2018-06-16     1000      6\n",
       "4  1000_4   2018-12-05     1000     12"
      ]
     },
     "execution_count": 12,
     "metadata": {},
     "output_type": "execute_result"
    }
   ],
   "source": [
    "messages_data.head()"
   ]
  },
  {
   "cell_type": "code",
   "execution_count": 13,
   "id": "b1e5d116",
   "metadata": {},
   "outputs": [
    {
     "data": {
      "text/html": [
       "<div>\n",
       "<style scoped>\n",
       "    .dataframe tbody tr th:only-of-type {\n",
       "        vertical-align: middle;\n",
       "    }\n",
       "\n",
       "    .dataframe tbody tr th {\n",
       "        vertical-align: top;\n",
       "    }\n",
       "\n",
       "    .dataframe thead th {\n",
       "        text-align: right;\n",
       "    }\n",
       "</style>\n",
       "<table border=\"1\" class=\"dataframe\">\n",
       "  <thead>\n",
       "    <tr style=\"text-align: right;\">\n",
       "      <th></th>\n",
       "      <th>id</th>\n",
       "      <th>call_date</th>\n",
       "      <th>duration</th>\n",
       "      <th>user_id</th>\n",
       "      <th>month</th>\n",
       "    </tr>\n",
       "  </thead>\n",
       "  <tbody>\n",
       "    <tr>\n",
       "      <th>0</th>\n",
       "      <td>1000_0</td>\n",
       "      <td>2018-07-25</td>\n",
       "      <td>0.0</td>\n",
       "      <td>1000</td>\n",
       "      <td>7</td>\n",
       "    </tr>\n",
       "    <tr>\n",
       "      <th>1</th>\n",
       "      <td>1000_1</td>\n",
       "      <td>2018-08-17</td>\n",
       "      <td>0.0</td>\n",
       "      <td>1000</td>\n",
       "      <td>8</td>\n",
       "    </tr>\n",
       "    <tr>\n",
       "      <th>2</th>\n",
       "      <td>1000_2</td>\n",
       "      <td>2018-06-11</td>\n",
       "      <td>3.0</td>\n",
       "      <td>1000</td>\n",
       "      <td>6</td>\n",
       "    </tr>\n",
       "    <tr>\n",
       "      <th>3</th>\n",
       "      <td>1000_3</td>\n",
       "      <td>2018-09-21</td>\n",
       "      <td>14.0</td>\n",
       "      <td>1000</td>\n",
       "      <td>9</td>\n",
       "    </tr>\n",
       "    <tr>\n",
       "      <th>4</th>\n",
       "      <td>1000_4</td>\n",
       "      <td>2018-12-15</td>\n",
       "      <td>6.0</td>\n",
       "      <td>1000</td>\n",
       "      <td>12</td>\n",
       "    </tr>\n",
       "    <tr>\n",
       "      <th>...</th>\n",
       "      <td>...</td>\n",
       "      <td>...</td>\n",
       "      <td>...</td>\n",
       "      <td>...</td>\n",
       "      <td>...</td>\n",
       "    </tr>\n",
       "    <tr>\n",
       "      <th>202602</th>\n",
       "      <td>1499_215</td>\n",
       "      <td>2018-12-26</td>\n",
       "      <td>1.0</td>\n",
       "      <td>1499</td>\n",
       "      <td>12</td>\n",
       "    </tr>\n",
       "    <tr>\n",
       "      <th>202603</th>\n",
       "      <td>1499_216</td>\n",
       "      <td>2018-10-18</td>\n",
       "      <td>19.0</td>\n",
       "      <td>1499</td>\n",
       "      <td>10</td>\n",
       "    </tr>\n",
       "    <tr>\n",
       "      <th>202604</th>\n",
       "      <td>1499_217</td>\n",
       "      <td>2018-11-10</td>\n",
       "      <td>11.0</td>\n",
       "      <td>1499</td>\n",
       "      <td>11</td>\n",
       "    </tr>\n",
       "    <tr>\n",
       "      <th>202605</th>\n",
       "      <td>1499_218</td>\n",
       "      <td>2018-10-06</td>\n",
       "      <td>5.0</td>\n",
       "      <td>1499</td>\n",
       "      <td>10</td>\n",
       "    </tr>\n",
       "    <tr>\n",
       "      <th>202606</th>\n",
       "      <td>1499_219</td>\n",
       "      <td>2018-12-14</td>\n",
       "      <td>20.0</td>\n",
       "      <td>1499</td>\n",
       "      <td>12</td>\n",
       "    </tr>\n",
       "  </tbody>\n",
       "</table>\n",
       "<p>202607 rows × 5 columns</p>\n",
       "</div>"
      ],
      "text/plain": [
       "              id  call_date  duration  user_id  month\n",
       "0         1000_0 2018-07-25       0.0     1000      7\n",
       "1         1000_1 2018-08-17       0.0     1000      8\n",
       "2         1000_2 2018-06-11       3.0     1000      6\n",
       "3         1000_3 2018-09-21      14.0     1000      9\n",
       "4         1000_4 2018-12-15       6.0     1000     12\n",
       "...          ...        ...       ...      ...    ...\n",
       "202602  1499_215 2018-12-26       1.0     1499     12\n",
       "202603  1499_216 2018-10-18      19.0     1499     10\n",
       "202604  1499_217 2018-11-10      11.0     1499     11\n",
       "202605  1499_218 2018-10-06       5.0     1499     10\n",
       "202606  1499_219 2018-12-14      20.0     1499     12\n",
       "\n",
       "[202607 rows x 5 columns]"
      ]
     },
     "execution_count": 13,
     "metadata": {},
     "output_type": "execute_result"
    }
   ],
   "source": [
    "calls_data['duration'] = calls_data['duration'].apply(np.ceil)\n",
    "calls_data"
   ]
  },
  {
   "cell_type": "markdown",
   "id": "6ab6caac",
   "metadata": {},
   "source": [
    "перевод данных о дате в формат datetime"
   ]
  },
  {
   "cell_type": "code",
   "execution_count": 14,
   "id": "160d78cf",
   "metadata": {},
   "outputs": [],
   "source": [
    "calls_data_group = calls_data.groupby(by= ['user_id', 'month']).agg({'duration':['sum', 'count']}).reset_index()\n",
    "calls_data_group.columns=['user_id', 'month','calls_duration', 'calls_count']\n",
    "internet_data_group = internet_data.groupby(by= ['user_id', 'month']).agg({'mb_used':'sum'}).reset_index()\n",
    "internet_data_group.columns=['user_id', 'month','mb_used']\n",
    "messages_data_group = messages_data.groupby(by= ['user_id', 'month']).agg({'id':'count'}).reset_index()\n",
    "messages_data_group.columns=['user_id', 'month','message_qty']"
   ]
  },
  {
   "cell_type": "code",
   "execution_count": 15,
   "id": "bfeb4e50",
   "metadata": {},
   "outputs": [
    {
     "name": "stdout",
     "output_type": "stream",
     "text": [
      "<class 'pandas.core.frame.DataFrame'>\n",
      "RangeIndex: 2717 entries, 0 to 2716\n",
      "Data columns (total 3 columns):\n",
      " #   Column       Non-Null Count  Dtype\n",
      "---  ------       --------------  -----\n",
      " 0   user_id      2717 non-null   int64\n",
      " 1   month        2717 non-null   int64\n",
      " 2   message_qty  2717 non-null   int64\n",
      "dtypes: int64(3)\n",
      "memory usage: 63.8 KB\n"
     ]
    }
   ],
   "source": [
    "messages_data_group.info()"
   ]
  },
  {
   "cell_type": "markdown",
   "id": "0cdd546b",
   "metadata": {},
   "source": [
    "агрегация данных о звонках, количестве полученных ГБ данных и количестве отправленных sms в разрезе пользователей и месяцев календарного года"
   ]
  },
  {
   "cell_type": "code",
   "execution_count": 16,
   "id": "a41c67f1",
   "metadata": {},
   "outputs": [],
   "source": [
    "total_data_one = users_data.merge(internet_data_group, on=['user_id'], how='left')"
   ]
  },
  {
   "cell_type": "code",
   "execution_count": 17,
   "id": "e6fd7b5a",
   "metadata": {},
   "outputs": [
    {
     "name": "stdout",
     "output_type": "stream",
     "text": [
      "<class 'pandas.core.frame.DataFrame'>\n",
      "Int64Index: 3206 entries, 0 to 3205\n",
      "Data columns (total 10 columns):\n",
      " #   Column       Non-Null Count  Dtype         \n",
      "---  ------       --------------  -----         \n",
      " 0   user_id      3206 non-null   int64         \n",
      " 1   age          3206 non-null   int64         \n",
      " 2   churn_date   188 non-null    object        \n",
      " 3   city         3206 non-null   object        \n",
      " 4   first_name   3206 non-null   object        \n",
      " 5   last_name    3206 non-null   object        \n",
      " 6   reg_date     3206 non-null   datetime64[ns]\n",
      " 7   tariff_name  3206 non-null   object        \n",
      " 8   month        3203 non-null   float64       \n",
      " 9   mb_used      3203 non-null   float64       \n",
      "dtypes: datetime64[ns](1), float64(2), int64(2), object(5)\n",
      "memory usage: 275.5+ KB\n"
     ]
    }
   ],
   "source": [
    "total_data_one.info()"
   ]
  },
  {
   "cell_type": "code",
   "execution_count": 18,
   "id": "e42b4494",
   "metadata": {},
   "outputs": [],
   "source": [
    "total_data_two = total_data_one.merge(messages_data_group, on=['user_id', 'month'], how='left').fillna(0)"
   ]
  },
  {
   "cell_type": "code",
   "execution_count": 19,
   "id": "c6ad4b9e",
   "metadata": {},
   "outputs": [
    {
     "name": "stdout",
     "output_type": "stream",
     "text": [
      "<class 'pandas.core.frame.DataFrame'>\n",
      "Int64Index: 3206 entries, 0 to 3205\n",
      "Data columns (total 11 columns):\n",
      " #   Column       Non-Null Count  Dtype         \n",
      "---  ------       --------------  -----         \n",
      " 0   user_id      3206 non-null   int64         \n",
      " 1   age          3206 non-null   int64         \n",
      " 2   churn_date   3206 non-null   object        \n",
      " 3   city         3206 non-null   object        \n",
      " 4   first_name   3206 non-null   object        \n",
      " 5   last_name    3206 non-null   object        \n",
      " 6   reg_date     3206 non-null   datetime64[ns]\n",
      " 7   tariff_name  3206 non-null   object        \n",
      " 8   month        3206 non-null   float64       \n",
      " 9   mb_used      3206 non-null   float64       \n",
      " 10  message_qty  3206 non-null   float64       \n",
      "dtypes: datetime64[ns](1), float64(3), int64(2), object(5)\n",
      "memory usage: 300.6+ KB\n"
     ]
    }
   ],
   "source": [
    "total_data_two.info()"
   ]
  },
  {
   "cell_type": "code",
   "execution_count": 20,
   "id": "378ba5eb",
   "metadata": {},
   "outputs": [],
   "source": [
    "total_data_three = total_data_two.merge(calls_data_group, on=['user_id', 'month'], how='left').fillna(0)"
   ]
  },
  {
   "cell_type": "code",
   "execution_count": 21,
   "id": "3710ad90",
   "metadata": {},
   "outputs": [
    {
     "name": "stdout",
     "output_type": "stream",
     "text": [
      "<class 'pandas.core.frame.DataFrame'>\n",
      "Int64Index: 3206 entries, 0 to 3205\n",
      "Data columns (total 13 columns):\n",
      " #   Column          Non-Null Count  Dtype         \n",
      "---  ------          --------------  -----         \n",
      " 0   user_id         3206 non-null   int64         \n",
      " 1   age             3206 non-null   int64         \n",
      " 2   churn_date      3206 non-null   object        \n",
      " 3   city            3206 non-null   object        \n",
      " 4   first_name      3206 non-null   object        \n",
      " 5   last_name       3206 non-null   object        \n",
      " 6   reg_date        3206 non-null   datetime64[ns]\n",
      " 7   tariff_name     3206 non-null   object        \n",
      " 8   month           3206 non-null   float64       \n",
      " 9   mb_used         3206 non-null   float64       \n",
      " 10  message_qty     3206 non-null   float64       \n",
      " 11  calls_duration  3206 non-null   float64       \n",
      " 12  calls_count     3206 non-null   float64       \n",
      "dtypes: datetime64[ns](1), float64(5), int64(2), object(5)\n",
      "memory usage: 350.7+ KB\n"
     ]
    }
   ],
   "source": [
    "total_data_three.info()"
   ]
  },
  {
   "cell_type": "code",
   "execution_count": 22,
   "id": "642b6504",
   "metadata": {},
   "outputs": [],
   "source": [
    "total_data = total_data_three.merge(tariffs_data, on='tariff_name', how='left')"
   ]
  },
  {
   "cell_type": "code",
   "execution_count": 23,
   "id": "8e2104e1",
   "metadata": {},
   "outputs": [
    {
     "data": {
      "text/plain": [
       "set()"
      ]
     },
     "execution_count": 23,
     "metadata": {},
     "output_type": "execute_result"
    }
   ],
   "source": [
    "set(users_data['user_id']) - set(total_data['user_id'])"
   ]
  },
  {
   "cell_type": "markdown",
   "id": "b2204b74",
   "metadata": {},
   "source": [
    "произведено сравнение таблицы users_data и total_data. все значения из таблицы users_data представлены в таблице total_data"
   ]
  },
  {
   "cell_type": "code",
   "execution_count": 24,
   "id": "a0022e08",
   "metadata": {},
   "outputs": [],
   "source": [
    "total_data['gb_used'] = (total_data ['mb_used']/1024).apply(np.ceil)\n",
    "total_data['gb_per_month_included'] = total_data ['mb_per_month_included']/1024"
   ]
  },
  {
   "cell_type": "code",
   "execution_count": 25,
   "id": "b86896c7",
   "metadata": {},
   "outputs": [
    {
     "name": "stdout",
     "output_type": "stream",
     "text": [
      "<class 'pandas.core.frame.DataFrame'>\n",
      "Int64Index: 3206 entries, 0 to 3205\n",
      "Data columns (total 22 columns):\n",
      " #   Column                 Non-Null Count  Dtype         \n",
      "---  ------                 --------------  -----         \n",
      " 0   user_id                3206 non-null   int64         \n",
      " 1   age                    3206 non-null   int64         \n",
      " 2   churn_date             3206 non-null   object        \n",
      " 3   city                   3206 non-null   object        \n",
      " 4   first_name             3206 non-null   object        \n",
      " 5   last_name              3206 non-null   object        \n",
      " 6   reg_date               3206 non-null   datetime64[ns]\n",
      " 7   tariff_name            3206 non-null   object        \n",
      " 8   month                  3206 non-null   float64       \n",
      " 9   mb_used                3206 non-null   float64       \n",
      " 10  message_qty            3206 non-null   float64       \n",
      " 11  calls_duration         3206 non-null   float64       \n",
      " 12  calls_count            3206 non-null   float64       \n",
      " 13  messages_included      3206 non-null   int64         \n",
      " 14  mb_per_month_included  3206 non-null   int64         \n",
      " 15  minutes_included       3206 non-null   int64         \n",
      " 16  rub_monthly_fee        3206 non-null   int64         \n",
      " 17  rub_per_gb             3206 non-null   int64         \n",
      " 18  rub_per_message        3206 non-null   int64         \n",
      " 19  rub_per_minute         3206 non-null   int64         \n",
      " 20  gb_used                3206 non-null   float64       \n",
      " 21  gb_per_month_included  3206 non-null   float64       \n",
      "dtypes: datetime64[ns](1), float64(7), int64(9), object(5)\n",
      "memory usage: 576.1+ KB\n"
     ]
    }
   ],
   "source": [
    "total_data.info()"
   ]
  },
  {
   "cell_type": "markdown",
   "id": "5a896539",
   "metadata": {},
   "source": [
    "произвели объединение таблиц о количестве минут, smd и гигабайт в единую таблицу"
   ]
  },
  {
   "cell_type": "code",
   "execution_count": 26,
   "id": "597b5097",
   "metadata": {},
   "outputs": [],
   "source": [
    "def services_pay_month (row):\n",
    "    total = 0\n",
    "    total = row['rub_monthly_fee']\n",
    "    if row['calls_duration']>row['minutes_included']:\n",
    "        total += (row['calls_duration']-row['minutes_included'])*row['rub_per_minute']\n",
    "    if row['message_qty']>row['messages_included']:\n",
    "        total += (row['message_qty']-row['messages_included'])*row['rub_per_message']\n",
    "    if row['gb_used']>row['gb_per_month_included']:\n",
    "        total += (row['gb_used']-row['gb_per_month_included'])*row['rub_per_gb']\n",
    "    return total"
   ]
  },
  {
   "cell_type": "code",
   "execution_count": 27,
   "id": "73d87dfe",
   "metadata": {},
   "outputs": [],
   "source": [
    "def services_for_month (row):\n",
    "    mins = (row['calls_duration']-row['minutes_included'])*row['rub_per_minute']\n",
    "    sms = (row['message_qty']-row['messages_included'])*row['rub_per_message']\n",
    "    gb = (row['gb_used']-row['gb_per_month_included'])*row['rub_per_gb']\n",
    "    total = 0\n",
    "    for i in [mins, sms, gb]:\n",
    "        if i>0:\n",
    "            total +=i\n",
    "    return total\n",
    "            "
   ]
  },
  {
   "cell_type": "code",
   "execution_count": 28,
   "id": "309a495a",
   "metadata": {},
   "outputs": [],
   "source": [
    "total_data['services_fee'] = total_data.apply(lambda x: services_for_month(x), axis=1)"
   ]
  },
  {
   "cell_type": "code",
   "execution_count": 29,
   "id": "05161441",
   "metadata": {},
   "outputs": [],
   "source": [
    "total_data['total_pay'] = total_data['services_fee']+total_data['rub_monthly_fee']"
   ]
  },
  {
   "cell_type": "code",
   "execution_count": 30,
   "id": "7813b665",
   "metadata": {},
   "outputs": [],
   "source": [
    "total_data['total_pay_alt'] = total_data.apply(services_pay_month, axis=1)"
   ]
  },
  {
   "cell_type": "code",
   "execution_count": 31,
   "id": "5e49d7ff",
   "metadata": {},
   "outputs": [
    {
     "data": {
      "text/plain": [
       "4898851.0"
      ]
     },
     "execution_count": 31,
     "metadata": {},
     "output_type": "execute_result"
    }
   ],
   "source": [
    "total_data['total_pay'].sum()"
   ]
  },
  {
   "cell_type": "code",
   "execution_count": 32,
   "id": "f14afa8b",
   "metadata": {},
   "outputs": [
    {
     "data": {
      "text/plain": [
       "4898851.0"
      ]
     },
     "execution_count": 32,
     "metadata": {},
     "output_type": "execute_result"
    }
   ],
   "source": [
    "total_data['total_pay_alt'].sum()"
   ]
  },
  {
   "cell_type": "markdown",
   "id": "bdfdbe6c",
   "metadata": {},
   "source": [
    "расчет помесячных расходов каждого пользователя и включение их в итоговую таблицу"
   ]
  },
  {
   "cell_type": "markdown",
   "id": "b6c6a171",
   "metadata": {},
   "source": [
    "Вывод: Полученные данные о дате и времени приведены к формату datetime. Данные собранные в таблицах о звонках, полученном количестве информации и количестве sms агрегированы по сумме и количеству (в зависимости от задания) в разрезе пользователей и месяцев. Данные из разных таблиц объеденены в общую таблицу. Расчитаны месячные расходы на услуги сотовой комании."
   ]
  },
  {
   "cell_type": "markdown",
   "id": "d895cfde",
   "metadata": {},
   "source": [
    "## 3. Анализ данных"
   ]
  },
  {
   "cell_type": "code",
   "execution_count": 33,
   "id": "c7c3fb53",
   "metadata": {},
   "outputs": [
    {
     "data": {
      "text/html": [
       "<div>\n",
       "<style scoped>\n",
       "    .dataframe tbody tr th:only-of-type {\n",
       "        vertical-align: middle;\n",
       "    }\n",
       "\n",
       "    .dataframe tbody tr th {\n",
       "        vertical-align: top;\n",
       "    }\n",
       "\n",
       "    .dataframe thead th {\n",
       "        text-align: right;\n",
       "    }\n",
       "</style>\n",
       "<table border=\"1\" class=\"dataframe\">\n",
       "  <thead>\n",
       "    <tr style=\"text-align: right;\">\n",
       "      <th></th>\n",
       "      <th>user_id</th>\n",
       "      <th>age</th>\n",
       "      <th>month</th>\n",
       "      <th>mb_used</th>\n",
       "      <th>message_qty</th>\n",
       "      <th>calls_duration</th>\n",
       "      <th>calls_count</th>\n",
       "      <th>messages_included</th>\n",
       "      <th>mb_per_month_included</th>\n",
       "      <th>minutes_included</th>\n",
       "      <th>rub_monthly_fee</th>\n",
       "      <th>rub_per_gb</th>\n",
       "      <th>rub_per_message</th>\n",
       "      <th>rub_per_minute</th>\n",
       "      <th>gb_used</th>\n",
       "      <th>gb_per_month_included</th>\n",
       "      <th>services_fee</th>\n",
       "      <th>total_pay</th>\n",
       "      <th>total_pay_alt</th>\n",
       "    </tr>\n",
       "    <tr>\n",
       "      <th>tariff_name</th>\n",
       "      <th></th>\n",
       "      <th></th>\n",
       "      <th></th>\n",
       "      <th></th>\n",
       "      <th></th>\n",
       "      <th></th>\n",
       "      <th></th>\n",
       "      <th></th>\n",
       "      <th></th>\n",
       "      <th></th>\n",
       "      <th></th>\n",
       "      <th></th>\n",
       "      <th></th>\n",
       "      <th></th>\n",
       "      <th></th>\n",
       "      <th></th>\n",
       "      <th></th>\n",
       "      <th></th>\n",
       "      <th></th>\n",
       "    </tr>\n",
       "  </thead>\n",
       "  <tbody>\n",
       "    <tr>\n",
       "      <th>smart</th>\n",
       "      <td>1246.472858</td>\n",
       "      <td>46.550022</td>\n",
       "      <td>8.343203</td>\n",
       "      <td>16208.386990</td>\n",
       "      <td>33.383580</td>\n",
       "      <td>417.912517</td>\n",
       "      <td>58.461642</td>\n",
       "      <td>50.0</td>\n",
       "      <td>15360.0</td>\n",
       "      <td>500.0</td>\n",
       "      <td>550.0</td>\n",
       "      <td>200.0</td>\n",
       "      <td>3.0</td>\n",
       "      <td>3.0</td>\n",
       "      <td>16.328847</td>\n",
       "      <td>15.0</td>\n",
       "      <td>739.973531</td>\n",
       "      <td>1289.973531</td>\n",
       "      <td>1289.973531</td>\n",
       "    </tr>\n",
       "    <tr>\n",
       "      <th>ultra</th>\n",
       "      <td>1262.636643</td>\n",
       "      <td>46.824974</td>\n",
       "      <td>8.244626</td>\n",
       "      <td>19628.222242</td>\n",
       "      <td>49.484135</td>\n",
       "      <td>528.665302</td>\n",
       "      <td>73.640737</td>\n",
       "      <td>1000.0</td>\n",
       "      <td>30720.0</td>\n",
       "      <td>3000.0</td>\n",
       "      <td>1950.0</td>\n",
       "      <td>150.0</td>\n",
       "      <td>1.0</td>\n",
       "      <td>1.0</td>\n",
       "      <td>19.654043</td>\n",
       "      <td>30.0</td>\n",
       "      <td>121.136131</td>\n",
       "      <td>2071.136131</td>\n",
       "      <td>2071.136131</td>\n",
       "    </tr>\n",
       "  </tbody>\n",
       "</table>\n",
       "</div>"
      ],
      "text/plain": [
       "                 user_id        age     month       mb_used  message_qty  \\\n",
       "tariff_name                                                                \n",
       "smart        1246.472858  46.550022  8.343203  16208.386990    33.383580   \n",
       "ultra        1262.636643  46.824974  8.244626  19628.222242    49.484135   \n",
       "\n",
       "             calls_duration  calls_count  messages_included  \\\n",
       "tariff_name                                                   \n",
       "smart            417.912517    58.461642               50.0   \n",
       "ultra            528.665302    73.640737             1000.0   \n",
       "\n",
       "             mb_per_month_included  minutes_included  rub_monthly_fee  \\\n",
       "tariff_name                                                             \n",
       "smart                      15360.0             500.0            550.0   \n",
       "ultra                      30720.0            3000.0           1950.0   \n",
       "\n",
       "             rub_per_gb  rub_per_message  rub_per_minute    gb_used  \\\n",
       "tariff_name                                                           \n",
       "smart             200.0              3.0             3.0  16.328847   \n",
       "ultra             150.0              1.0             1.0  19.654043   \n",
       "\n",
       "             gb_per_month_included  services_fee    total_pay  total_pay_alt  \n",
       "tariff_name                                                                   \n",
       "smart                         15.0    739.973531  1289.973531    1289.973531  \n",
       "ultra                         30.0    121.136131  2071.136131    2071.136131  "
      ]
     },
     "execution_count": 33,
     "metadata": {},
     "output_type": "execute_result"
    }
   ],
   "source": [
    "total_data.groupby('tariff_name').mean()"
   ]
  },
  {
   "cell_type": "code",
   "execution_count": 34,
   "id": "e67dbe5b",
   "metadata": {},
   "outputs": [
    {
     "data": {
      "text/html": [
       "<div>\n",
       "<style scoped>\n",
       "    .dataframe tbody tr th:only-of-type {\n",
       "        vertical-align: middle;\n",
       "    }\n",
       "\n",
       "    .dataframe tbody tr th {\n",
       "        vertical-align: top;\n",
       "    }\n",
       "\n",
       "    .dataframe thead th {\n",
       "        text-align: right;\n",
       "    }\n",
       "</style>\n",
       "<table border=\"1\" class=\"dataframe\">\n",
       "  <thead>\n",
       "    <tr style=\"text-align: right;\">\n",
       "      <th></th>\n",
       "      <th>user_id</th>\n",
       "      <th>age</th>\n",
       "      <th>month</th>\n",
       "      <th>mb_used</th>\n",
       "      <th>message_qty</th>\n",
       "      <th>calls_duration</th>\n",
       "      <th>calls_count</th>\n",
       "      <th>messages_included</th>\n",
       "      <th>mb_per_month_included</th>\n",
       "      <th>minutes_included</th>\n",
       "      <th>rub_monthly_fee</th>\n",
       "      <th>rub_per_gb</th>\n",
       "      <th>rub_per_message</th>\n",
       "      <th>rub_per_minute</th>\n",
       "      <th>gb_used</th>\n",
       "      <th>gb_per_month_included</th>\n",
       "      <th>services_fee</th>\n",
       "      <th>total_pay</th>\n",
       "      <th>total_pay_alt</th>\n",
       "    </tr>\n",
       "    <tr>\n",
       "      <th>tariff_name</th>\n",
       "      <th></th>\n",
       "      <th></th>\n",
       "      <th></th>\n",
       "      <th></th>\n",
       "      <th></th>\n",
       "      <th></th>\n",
       "      <th></th>\n",
       "      <th></th>\n",
       "      <th></th>\n",
       "      <th></th>\n",
       "      <th></th>\n",
       "      <th></th>\n",
       "      <th></th>\n",
       "      <th></th>\n",
       "      <th></th>\n",
       "      <th></th>\n",
       "      <th></th>\n",
       "      <th></th>\n",
       "      <th></th>\n",
       "    </tr>\n",
       "  </thead>\n",
       "  <tbody>\n",
       "    <tr>\n",
       "      <th>smart</th>\n",
       "      <td>1239</td>\n",
       "      <td>47</td>\n",
       "      <td>9.0</td>\n",
       "      <td>16506.84</td>\n",
       "      <td>28.0</td>\n",
       "      <td>422.0</td>\n",
       "      <td>60.0</td>\n",
       "      <td>50</td>\n",
       "      <td>15360</td>\n",
       "      <td>500</td>\n",
       "      <td>550</td>\n",
       "      <td>200</td>\n",
       "      <td>3</td>\n",
       "      <td>3</td>\n",
       "      <td>17.0</td>\n",
       "      <td>15.0</td>\n",
       "      <td>473.0</td>\n",
       "      <td>1023.0</td>\n",
       "      <td>1023.0</td>\n",
       "    </tr>\n",
       "    <tr>\n",
       "      <th>ultra</th>\n",
       "      <td>1277</td>\n",
       "      <td>45</td>\n",
       "      <td>9.0</td>\n",
       "      <td>19376.91</td>\n",
       "      <td>38.0</td>\n",
       "      <td>520.0</td>\n",
       "      <td>74.0</td>\n",
       "      <td>1000</td>\n",
       "      <td>30720</td>\n",
       "      <td>3000</td>\n",
       "      <td>1950</td>\n",
       "      <td>150</td>\n",
       "      <td>1</td>\n",
       "      <td>1</td>\n",
       "      <td>19.0</td>\n",
       "      <td>30.0</td>\n",
       "      <td>0.0</td>\n",
       "      <td>1950.0</td>\n",
       "      <td>1950.0</td>\n",
       "    </tr>\n",
       "  </tbody>\n",
       "</table>\n",
       "</div>"
      ],
      "text/plain": [
       "             user_id  age  month   mb_used  message_qty  calls_duration  \\\n",
       "tariff_name                                                               \n",
       "smart           1239   47    9.0  16506.84         28.0           422.0   \n",
       "ultra           1277   45    9.0  19376.91         38.0           520.0   \n",
       "\n",
       "             calls_count  messages_included  mb_per_month_included  \\\n",
       "tariff_name                                                          \n",
       "smart               60.0                 50                  15360   \n",
       "ultra               74.0               1000                  30720   \n",
       "\n",
       "             minutes_included  rub_monthly_fee  rub_per_gb  rub_per_message  \\\n",
       "tariff_name                                                                   \n",
       "smart                     500              550         200                3   \n",
       "ultra                    3000             1950         150                1   \n",
       "\n",
       "             rub_per_minute  gb_used  gb_per_month_included  services_fee  \\\n",
       "tariff_name                                                                 \n",
       "smart                     3     17.0                   15.0         473.0   \n",
       "ultra                     1     19.0                   30.0           0.0   \n",
       "\n",
       "             total_pay  total_pay_alt  \n",
       "tariff_name                            \n",
       "smart           1023.0         1023.0  \n",
       "ultra           1950.0         1950.0  "
      ]
     },
     "execution_count": 34,
     "metadata": {},
     "output_type": "execute_result"
    }
   ],
   "source": [
    "total_data.groupby('tariff_name').median()"
   ]
  },
  {
   "cell_type": "markdown",
   "id": "6d33be03",
   "metadata": {},
   "source": [
    "Медианные значения длительности звонков, количества звонков, количества полученных ГБ информации примерно равны средним значениям данных показателей в разрезе тарифных планов, что говорит о несмещенности выборки данных показателей (максимальные и минимальный значения не оказывают значительного влияния на средние показатели в данных категориях). Мединанные значения отправленных sms отличаются (меньше) от средних значений в разрезе тарифов, что говорит о наличии значительного количества пользователей отправивших количество SMS выше среднего."
   ]
  },
  {
   "cell_type": "code",
   "execution_count": 35,
   "id": "4a7abe30",
   "metadata": {},
   "outputs": [],
   "source": [
    "total_data_mins_ultra = total_data[total_data['tariff_name']=='ultra']['calls_duration']\n",
    "total_data_gb_ultra = total_data[total_data['tariff_name']=='ultra']['gb_used']\n",
    "total_data_sms_ultra = total_data[total_data['tariff_name']=='ultra']['message_qty']\n",
    "total_data_mins_smart = total_data[total_data['tariff_name']=='smart']['calls_duration']\n",
    "total_data_gb_smart = total_data[total_data['tariff_name']=='smart']['gb_used']\n",
    "total_data_sms_smart = total_data[total_data['tariff_name']=='smart']['message_qty']\n",
    "total_data_pay_ultra = total_data[total_data['tariff_name']=='ultra']['total_pay']\n",
    "total_data_pay_smart = total_data[total_data['tariff_name']=='smart']['total_pay']"
   ]
  },
  {
   "cell_type": "code",
   "execution_count": 36,
   "id": "0b915ad2",
   "metadata": {},
   "outputs": [
    {
     "data": {
      "image/png": "[encoded data removed]",
      "text/plain": [
       "<Figure size 432x288 with 1 Axes>"
      ]
     },
     "metadata": {
      "needs_background": "light"
     },
     "output_type": "display_data"
    }
   ],
   "source": [
    "x1 = 500\n",
    "x2 = 3000\n",
    "total_data_mins_ultra.plot.hist(bins=25, alpha=0.6, title=\"Ultra & Smart calls_duration\", label=\"Ultra calls duration\")\n",
    "total_data_mins_smart.plot.hist(alpha=0.6, label = \"Smart calls duration\")\n",
    "plt.axvline(x=x1, label=\"smart_limit\", color='k')\n",
    "plt.axvline(x=x2, label='ultra_limit', color='r')\n",
    "plt.legend()\n",
    "plt.show()"
   ]
  },
  {
   "cell_type": "markdown",
   "id": "90e8301f",
   "metadata": {},
   "source": [
    "форма распределения длительности звонков (помесячная каждого из пользователей) на тарифах различается. Гистограмма длительность звонков на тарифном плане Ultra имеет 3 пика в интервале 0-40 минут, в интервале 480-520 мин и в интервале 760-800 мин  и резкий обрыв в перед за длительностью разговоров в 800 минут. Правый край гистограммы на 1600 минут (лимит на тарифе 3000 минут). Форма гистограммы длительности звонков на тарифном плане Smart больше напоминает гистограмму нормального распределения с пологим левым краем и резким обрывом после 500 минут. Правый край гистограммы 1100 минут, есть выбросы с длительностью разговоров более 1200 минут (лимит на тарифе 500 минут)."
   ]
  },
  {
   "cell_type": "code",
   "execution_count": 37,
   "id": "6e4e06f8",
   "metadata": {},
   "outputs": [
    {
     "data": {
      "image/png": "[encoded data removed]",
      "text/plain": [
       "<Figure size 432x288 with 1 Axes>"
      ]
     },
     "metadata": {
      "needs_background": "light"
     },
     "output_type": "display_data"
    }
   ],
   "source": [
    "x1=15\n",
    "x2=30\n",
    "total_data_gb_ultra.plot.hist(alpha=0.6, title =\"Ultra & Smart gb used\", label=\"Ultra Gb used\")\n",
    "total_data_gb_smart.plot.hist(alpha=0.6, label=\"Smart Gb used\")\n",
    "plt.axvline(x=x1, label=\"Smart Gb limit\", color='k')\n",
    "plt.axvline(x=x2, label=\"Ultra Gb limit\", color='r')\n",
    "plt.legend()\n",
    "plt.show()"
   ]
  },
  {
   "cell_type": "markdown",
   "id": "c30fd5ac",
   "metadata": {},
   "source": [
    "Формы гистограмм распределения получения информации на обоих тарифных планах имеют схожую форму. При этом гистограмма получения информации на тарифе Ultra имеет резкий подъем с левого края пик в интервале 15-20 ГБ резкий обрыв в районе 30 ГБ. Крайние значения находятся на 50 ГБ(лимит 30 ГБ). Гистограмма получения информации на тарифном плане Smart имеет вершину в интервале 12-22 ГБ, резкий подъем и спад до и после этого интервала. Крайние значения находятся в районе 35 ГБ (лимит 15 ГБ)"
   ]
  },
  {
   "cell_type": "code",
   "execution_count": 38,
   "id": "ea1f93e7",
   "metadata": {},
   "outputs": [
    {
     "data": {
      "image/png": "[encoded data removed]",
      "text/plain": [
       "<Figure size 432x288 with 1 Axes>"
      ]
     },
     "metadata": {
      "needs_background": "light"
     },
     "output_type": "display_data"
    }
   ],
   "source": [
    "x1=50\n",
    "x2=1000\n",
    "total_data_sms_ultra.plot.hist(alpha=0.6, title = \"Ultra & Smart message Qty\", label = \"Ultra SMS Qty\")\n",
    "total_data_sms_smart.plot.hist(alpha=0.6, label = \"Smart SMS Qty\")\n",
    "plt.axvline(x=x1, label=\"Smart SMS limit\", color='k')\n",
    "plt.axvline(x=x2, label=\"Ultra SMS limit\", color='r')\n",
    "plt.legend()\n",
    "plt.show()"
   ]
  },
  {
   "cell_type": "markdown",
   "id": "81ce61ae",
   "metadata": {},
   "source": [
    "Формы гистограмм количества отправленных sms имеют похожие формы скошенные вправо. Резкий пик гистограммы количества отправленных sms на тарифном плане Ultra находится в интервале 0-20 шт, крайние значения находятся в интревале более 200 шт (лимит 1000 шт). Резкий пик гистограммs количества отправленных sms на тарифном плане Smart находится в районе 10 шт, крайние значения находятся в интервале 120-140 шт. (лимит 50 шт)"
   ]
  },
  {
   "cell_type": "code",
   "execution_count": 39,
   "id": "593403a3",
   "metadata": {},
   "outputs": [
    {
     "data": {
      "image/png": "[encoded data removed]",
      "text/plain": [
       "<Figure size 432x288 with 1 Axes>"
      ]
     },
     "metadata": {
      "needs_background": "light"
     },
     "output_type": "display_data"
    }
   ],
   "source": [
    "x1=550\n",
    "x2=1950\n",
    "total_data_pay_ultra.plot.hist(bins = 30, alpha = 0.6, title = \"Ultra & Smart total pay\", label = \"Ultra total pay\")\n",
    "total_data_pay_smart.plot.hist(bins = 40, alpha = 0.6, label = \"Smart total pay\")\n",
    "plt.axvline(x=x1, label=\"Smart fix fee\")\n",
    "plt.axvline(x=x2, label=\"Ultra fix fee\", color='r')\n",
    "plt.legend()\n",
    "plt.show()"
   ]
  },
  {
   "cell_type": "code",
   "execution_count": 40,
   "id": "5597e4ea",
   "metadata": {},
   "outputs": [
    {
     "data": {
      "text/html": [
       "<div>\n",
       "<style scoped>\n",
       "    .dataframe tbody tr th:only-of-type {\n",
       "        vertical-align: middle;\n",
       "    }\n",
       "\n",
       "    .dataframe tbody tr th {\n",
       "        vertical-align: top;\n",
       "    }\n",
       "\n",
       "    .dataframe thead th {\n",
       "        text-align: right;\n",
       "    }\n",
       "</style>\n",
       "<table border=\"1\" class=\"dataframe\">\n",
       "  <thead>\n",
       "    <tr style=\"text-align: right;\">\n",
       "      <th></th>\n",
       "      <th>user_id</th>\n",
       "      <th>age</th>\n",
       "      <th>month</th>\n",
       "      <th>mb_used</th>\n",
       "      <th>message_qty</th>\n",
       "      <th>calls_duration</th>\n",
       "      <th>calls_count</th>\n",
       "      <th>messages_included</th>\n",
       "      <th>mb_per_month_included</th>\n",
       "      <th>minutes_included</th>\n",
       "      <th>rub_monthly_fee</th>\n",
       "      <th>rub_per_gb</th>\n",
       "      <th>rub_per_message</th>\n",
       "      <th>rub_per_minute</th>\n",
       "      <th>gb_used</th>\n",
       "      <th>gb_per_month_included</th>\n",
       "      <th>services_fee</th>\n",
       "      <th>total_pay</th>\n",
       "      <th>total_pay_alt</th>\n",
       "    </tr>\n",
       "  </thead>\n",
       "  <tbody>\n",
       "    <tr>\n",
       "      <th>count</th>\n",
       "      <td>977.000000</td>\n",
       "      <td>977.000000</td>\n",
       "      <td>977.000000</td>\n",
       "      <td>977.000000</td>\n",
       "      <td>977.000000</td>\n",
       "      <td>977.000000</td>\n",
       "      <td>977.000000</td>\n",
       "      <td>977.0</td>\n",
       "      <td>977.0</td>\n",
       "      <td>977.0</td>\n",
       "      <td>977.0</td>\n",
       "      <td>977.0</td>\n",
       "      <td>977.0</td>\n",
       "      <td>977.0</td>\n",
       "      <td>977.000000</td>\n",
       "      <td>977.0</td>\n",
       "      <td>977.000000</td>\n",
       "      <td>977.000000</td>\n",
       "      <td>977.000000</td>\n",
       "    </tr>\n",
       "    <tr>\n",
       "      <th>mean</th>\n",
       "      <td>1262.636643</td>\n",
       "      <td>46.824974</td>\n",
       "      <td>8.244626</td>\n",
       "      <td>19628.222242</td>\n",
       "      <td>49.484135</td>\n",
       "      <td>528.665302</td>\n",
       "      <td>73.640737</td>\n",
       "      <td>1000.0</td>\n",
       "      <td>30720.0</td>\n",
       "      <td>3000.0</td>\n",
       "      <td>1950.0</td>\n",
       "      <td>150.0</td>\n",
       "      <td>1.0</td>\n",
       "      <td>1.0</td>\n",
       "      <td>19.654043</td>\n",
       "      <td>30.0</td>\n",
       "      <td>121.136131</td>\n",
       "      <td>2071.136131</td>\n",
       "      <td>2071.136131</td>\n",
       "    </tr>\n",
       "    <tr>\n",
       "      <th>std</th>\n",
       "      <td>141.225984</td>\n",
       "      <td>17.172374</td>\n",
       "      <td>2.886255</td>\n",
       "      <td>9972.600439</td>\n",
       "      <td>47.981618</td>\n",
       "      <td>318.199596</td>\n",
       "      <td>44.022522</td>\n",
       "      <td>0.0</td>\n",
       "      <td>0.0</td>\n",
       "      <td>0.0</td>\n",
       "      <td>0.0</td>\n",
       "      <td>0.0</td>\n",
       "      <td>0.0</td>\n",
       "      <td>0.0</td>\n",
       "      <td>9.733807</td>\n",
       "      <td>0.0</td>\n",
       "      <td>377.567765</td>\n",
       "      <td>377.567765</td>\n",
       "      <td>377.567765</td>\n",
       "    </tr>\n",
       "    <tr>\n",
       "      <th>min</th>\n",
       "      <td>1000.000000</td>\n",
       "      <td>18.000000</td>\n",
       "      <td>0.000000</td>\n",
       "      <td>0.000000</td>\n",
       "      <td>0.000000</td>\n",
       "      <td>0.000000</td>\n",
       "      <td>0.000000</td>\n",
       "      <td>1000.0</td>\n",
       "      <td>30720.0</td>\n",
       "      <td>3000.0</td>\n",
       "      <td>1950.0</td>\n",
       "      <td>150.0</td>\n",
       "      <td>1.0</td>\n",
       "      <td>1.0</td>\n",
       "      <td>0.000000</td>\n",
       "      <td>30.0</td>\n",
       "      <td>0.000000</td>\n",
       "      <td>1950.000000</td>\n",
       "      <td>1950.000000</td>\n",
       "    </tr>\n",
       "    <tr>\n",
       "      <th>25%</th>\n",
       "      <td>1143.000000</td>\n",
       "      <td>30.000000</td>\n",
       "      <td>6.000000</td>\n",
       "      <td>11919.350000</td>\n",
       "      <td>6.000000</td>\n",
       "      <td>291.000000</td>\n",
       "      <td>41.000000</td>\n",
       "      <td>1000.0</td>\n",
       "      <td>30720.0</td>\n",
       "      <td>3000.0</td>\n",
       "      <td>1950.0</td>\n",
       "      <td>150.0</td>\n",
       "      <td>1.0</td>\n",
       "      <td>1.0</td>\n",
       "      <td>12.000000</td>\n",
       "      <td>30.0</td>\n",
       "      <td>0.000000</td>\n",
       "      <td>1950.000000</td>\n",
       "      <td>1950.000000</td>\n",
       "    </tr>\n",
       "    <tr>\n",
       "      <th>50%</th>\n",
       "      <td>1277.000000</td>\n",
       "      <td>45.000000</td>\n",
       "      <td>9.000000</td>\n",
       "      <td>19376.910000</td>\n",
       "      <td>38.000000</td>\n",
       "      <td>520.000000</td>\n",
       "      <td>74.000000</td>\n",
       "      <td>1000.0</td>\n",
       "      <td>30720.0</td>\n",
       "      <td>3000.0</td>\n",
       "      <td>1950.0</td>\n",
       "      <td>150.0</td>\n",
       "      <td>1.0</td>\n",
       "      <td>1.0</td>\n",
       "      <td>19.000000</td>\n",
       "      <td>30.0</td>\n",
       "      <td>0.000000</td>\n",
       "      <td>1950.000000</td>\n",
       "      <td>1950.000000</td>\n",
       "    </tr>\n",
       "    <tr>\n",
       "      <th>75%</th>\n",
       "      <td>1381.000000</td>\n",
       "      <td>63.000000</td>\n",
       "      <td>11.000000</td>\n",
       "      <td>26865.250000</td>\n",
       "      <td>79.000000</td>\n",
       "      <td>752.000000</td>\n",
       "      <td>104.000000</td>\n",
       "      <td>1000.0</td>\n",
       "      <td>30720.0</td>\n",
       "      <td>3000.0</td>\n",
       "      <td>1950.0</td>\n",
       "      <td>150.0</td>\n",
       "      <td>1.0</td>\n",
       "      <td>1.0</td>\n",
       "      <td>27.000000</td>\n",
       "      <td>30.0</td>\n",
       "      <td>0.000000</td>\n",
       "      <td>1950.000000</td>\n",
       "      <td>1950.000000</td>\n",
       "    </tr>\n",
       "    <tr>\n",
       "      <th>max</th>\n",
       "      <td>1495.000000</td>\n",
       "      <td>75.000000</td>\n",
       "      <td>12.000000</td>\n",
       "      <td>49745.690000</td>\n",
       "      <td>224.000000</td>\n",
       "      <td>1673.000000</td>\n",
       "      <td>244.000000</td>\n",
       "      <td>1000.0</td>\n",
       "      <td>30720.0</td>\n",
       "      <td>3000.0</td>\n",
       "      <td>1950.0</td>\n",
       "      <td>150.0</td>\n",
       "      <td>1.0</td>\n",
       "      <td>1.0</td>\n",
       "      <td>49.000000</td>\n",
       "      <td>30.0</td>\n",
       "      <td>2850.000000</td>\n",
       "      <td>4800.000000</td>\n",
       "      <td>4800.000000</td>\n",
       "    </tr>\n",
       "  </tbody>\n",
       "</table>\n",
       "</div>"
      ],
      "text/plain": [
       "           user_id         age       month       mb_used  message_qty  \\\n",
       "count   977.000000  977.000000  977.000000    977.000000   977.000000   \n",
       "mean   1262.636643   46.824974    8.244626  19628.222242    49.484135   \n",
       "std     141.225984   17.172374    2.886255   9972.600439    47.981618   \n",
       "min    1000.000000   18.000000    0.000000      0.000000     0.000000   \n",
       "25%    1143.000000   30.000000    6.000000  11919.350000     6.000000   \n",
       "50%    1277.000000   45.000000    9.000000  19376.910000    38.000000   \n",
       "75%    1381.000000   63.000000   11.000000  26865.250000    79.000000   \n",
       "max    1495.000000   75.000000   12.000000  49745.690000   224.000000   \n",
       "\n",
       "       calls_duration  calls_count  messages_included  mb_per_month_included  \\\n",
       "count      977.000000   977.000000              977.0                  977.0   \n",
       "mean       528.665302    73.640737             1000.0                30720.0   \n",
       "std        318.199596    44.022522                0.0                    0.0   \n",
       "min          0.000000     0.000000             1000.0                30720.0   \n",
       "25%        291.000000    41.000000             1000.0                30720.0   \n",
       "50%        520.000000    74.000000             1000.0                30720.0   \n",
       "75%        752.000000   104.000000             1000.0                30720.0   \n",
       "max       1673.000000   244.000000             1000.0                30720.0   \n",
       "\n",
       "       minutes_included  rub_monthly_fee  rub_per_gb  rub_per_message  \\\n",
       "count             977.0            977.0       977.0            977.0   \n",
       "mean             3000.0           1950.0       150.0              1.0   \n",
       "std                 0.0              0.0         0.0              0.0   \n",
       "min              3000.0           1950.0       150.0              1.0   \n",
       "25%              3000.0           1950.0       150.0              1.0   \n",
       "50%              3000.0           1950.0       150.0              1.0   \n",
       "75%              3000.0           1950.0       150.0              1.0   \n",
       "max              3000.0           1950.0       150.0              1.0   \n",
       "\n",
       "       rub_per_minute     gb_used  gb_per_month_included  services_fee  \\\n",
       "count           977.0  977.000000                  977.0    977.000000   \n",
       "mean              1.0   19.654043                   30.0    121.136131   \n",
       "std               0.0    9.733807                    0.0    377.567765   \n",
       "min               1.0    0.000000                   30.0      0.000000   \n",
       "25%               1.0   12.000000                   30.0      0.000000   \n",
       "50%               1.0   19.000000                   30.0      0.000000   \n",
       "75%               1.0   27.000000                   30.0      0.000000   \n",
       "max               1.0   49.000000                   30.0   2850.000000   \n",
       "\n",
       "         total_pay  total_pay_alt  \n",
       "count   977.000000     977.000000  \n",
       "mean   2071.136131    2071.136131  \n",
       "std     377.567765     377.567765  \n",
       "min    1950.000000    1950.000000  \n",
       "25%    1950.000000    1950.000000  \n",
       "50%    1950.000000    1950.000000  \n",
       "75%    1950.000000    1950.000000  \n",
       "max    4800.000000    4800.000000  "
      ]
     },
     "execution_count": 40,
     "metadata": {},
     "output_type": "execute_result"
    }
   ],
   "source": [
    "total_data[total_data['tariff_name']=='ultra'].describe()"
   ]
  },
  {
   "cell_type": "code",
   "execution_count": 41,
   "id": "ab5a8bd5",
   "metadata": {},
   "outputs": [
    {
     "data": {
      "text/html": [
       "<div>\n",
       "<style scoped>\n",
       "    .dataframe tbody tr th:only-of-type {\n",
       "        vertical-align: middle;\n",
       "    }\n",
       "\n",
       "    .dataframe tbody tr th {\n",
       "        vertical-align: top;\n",
       "    }\n",
       "\n",
       "    .dataframe thead th {\n",
       "        text-align: right;\n",
       "    }\n",
       "</style>\n",
       "<table border=\"1\" class=\"dataframe\">\n",
       "  <thead>\n",
       "    <tr style=\"text-align: right;\">\n",
       "      <th></th>\n",
       "      <th>user_id</th>\n",
       "      <th>age</th>\n",
       "      <th>month</th>\n",
       "      <th>mb_used</th>\n",
       "      <th>message_qty</th>\n",
       "      <th>calls_duration</th>\n",
       "      <th>calls_count</th>\n",
       "      <th>messages_included</th>\n",
       "      <th>mb_per_month_included</th>\n",
       "      <th>minutes_included</th>\n",
       "      <th>rub_monthly_fee</th>\n",
       "      <th>rub_per_gb</th>\n",
       "      <th>rub_per_message</th>\n",
       "      <th>rub_per_minute</th>\n",
       "      <th>gb_used</th>\n",
       "      <th>gb_per_month_included</th>\n",
       "      <th>services_fee</th>\n",
       "      <th>total_pay</th>\n",
       "      <th>total_pay_alt</th>\n",
       "    </tr>\n",
       "  </thead>\n",
       "  <tbody>\n",
       "    <tr>\n",
       "      <th>count</th>\n",
       "      <td>2229.000000</td>\n",
       "      <td>2229.000000</td>\n",
       "      <td>2229.000000</td>\n",
       "      <td>2229.000000</td>\n",
       "      <td>2229.000000</td>\n",
       "      <td>2229.000000</td>\n",
       "      <td>2229.000000</td>\n",
       "      <td>2229.0</td>\n",
       "      <td>2229.0</td>\n",
       "      <td>2229.0</td>\n",
       "      <td>2229.0</td>\n",
       "      <td>2229.0</td>\n",
       "      <td>2229.0</td>\n",
       "      <td>2229.0</td>\n",
       "      <td>2229.000000</td>\n",
       "      <td>2229.0</td>\n",
       "      <td>2229.000000</td>\n",
       "      <td>2229.000000</td>\n",
       "      <td>2229.000000</td>\n",
       "    </tr>\n",
       "    <tr>\n",
       "      <th>mean</th>\n",
       "      <td>1246.472858</td>\n",
       "      <td>46.550022</td>\n",
       "      <td>8.343203</td>\n",
       "      <td>16208.386990</td>\n",
       "      <td>33.383580</td>\n",
       "      <td>417.912517</td>\n",
       "      <td>58.461642</td>\n",
       "      <td>50.0</td>\n",
       "      <td>15360.0</td>\n",
       "      <td>500.0</td>\n",
       "      <td>550.0</td>\n",
       "      <td>200.0</td>\n",
       "      <td>3.0</td>\n",
       "      <td>3.0</td>\n",
       "      <td>16.328847</td>\n",
       "      <td>15.0</td>\n",
       "      <td>739.973531</td>\n",
       "      <td>1289.973531</td>\n",
       "      <td>1289.973531</td>\n",
       "    </tr>\n",
       "    <tr>\n",
       "      <th>std</th>\n",
       "      <td>146.082168</td>\n",
       "      <td>16.349357</td>\n",
       "      <td>2.925653</td>\n",
       "      <td>5870.476681</td>\n",
       "      <td>28.228398</td>\n",
       "      <td>190.360058</td>\n",
       "      <td>25.943766</td>\n",
       "      <td>0.0</td>\n",
       "      <td>0.0</td>\n",
       "      <td>0.0</td>\n",
       "      <td>0.0</td>\n",
       "      <td>0.0</td>\n",
       "      <td>0.0</td>\n",
       "      <td>0.0</td>\n",
       "      <td>5.747061</td>\n",
       "      <td>0.0</td>\n",
       "      <td>818.404367</td>\n",
       "      <td>818.404367</td>\n",
       "      <td>818.404367</td>\n",
       "    </tr>\n",
       "    <tr>\n",
       "      <th>min</th>\n",
       "      <td>1001.000000</td>\n",
       "      <td>18.000000</td>\n",
       "      <td>0.000000</td>\n",
       "      <td>0.000000</td>\n",
       "      <td>0.000000</td>\n",
       "      <td>0.000000</td>\n",
       "      <td>0.000000</td>\n",
       "      <td>50.0</td>\n",
       "      <td>15360.0</td>\n",
       "      <td>500.0</td>\n",
       "      <td>550.0</td>\n",
       "      <td>200.0</td>\n",
       "      <td>3.0</td>\n",
       "      <td>3.0</td>\n",
       "      <td>0.000000</td>\n",
       "      <td>15.0</td>\n",
       "      <td>0.000000</td>\n",
       "      <td>550.000000</td>\n",
       "      <td>550.000000</td>\n",
       "    </tr>\n",
       "    <tr>\n",
       "      <th>25%</th>\n",
       "      <td>1121.000000</td>\n",
       "      <td>32.000000</td>\n",
       "      <td>6.000000</td>\n",
       "      <td>12643.010000</td>\n",
       "      <td>10.000000</td>\n",
       "      <td>282.000000</td>\n",
       "      <td>40.000000</td>\n",
       "      <td>50.0</td>\n",
       "      <td>15360.0</td>\n",
       "      <td>500.0</td>\n",
       "      <td>550.0</td>\n",
       "      <td>200.0</td>\n",
       "      <td>3.0</td>\n",
       "      <td>3.0</td>\n",
       "      <td>13.000000</td>\n",
       "      <td>15.0</td>\n",
       "      <td>0.000000</td>\n",
       "      <td>550.000000</td>\n",
       "      <td>550.000000</td>\n",
       "    </tr>\n",
       "    <tr>\n",
       "      <th>50%</th>\n",
       "      <td>1239.000000</td>\n",
       "      <td>47.000000</td>\n",
       "      <td>9.000000</td>\n",
       "      <td>16506.840000</td>\n",
       "      <td>28.000000</td>\n",
       "      <td>422.000000</td>\n",
       "      <td>60.000000</td>\n",
       "      <td>50.0</td>\n",
       "      <td>15360.0</td>\n",
       "      <td>500.0</td>\n",
       "      <td>550.0</td>\n",
       "      <td>200.0</td>\n",
       "      <td>3.0</td>\n",
       "      <td>3.0</td>\n",
       "      <td>17.000000</td>\n",
       "      <td>15.0</td>\n",
       "      <td>473.000000</td>\n",
       "      <td>1023.000000</td>\n",
       "      <td>1023.000000</td>\n",
       "    </tr>\n",
       "    <tr>\n",
       "      <th>75%</th>\n",
       "      <td>1376.000000</td>\n",
       "      <td>62.000000</td>\n",
       "      <td>11.000000</td>\n",
       "      <td>20042.930000</td>\n",
       "      <td>51.000000</td>\n",
       "      <td>545.000000</td>\n",
       "      <td>76.000000</td>\n",
       "      <td>50.0</td>\n",
       "      <td>15360.0</td>\n",
       "      <td>500.0</td>\n",
       "      <td>550.0</td>\n",
       "      <td>200.0</td>\n",
       "      <td>3.0</td>\n",
       "      <td>3.0</td>\n",
       "      <td>20.000000</td>\n",
       "      <td>15.0</td>\n",
       "      <td>1200.000000</td>\n",
       "      <td>1750.000000</td>\n",
       "      <td>1750.000000</td>\n",
       "    </tr>\n",
       "    <tr>\n",
       "      <th>max</th>\n",
       "      <td>1499.000000</td>\n",
       "      <td>75.000000</td>\n",
       "      <td>12.000000</td>\n",
       "      <td>38552.450000</td>\n",
       "      <td>143.000000</td>\n",
       "      <td>1435.000000</td>\n",
       "      <td>198.000000</td>\n",
       "      <td>50.0</td>\n",
       "      <td>15360.0</td>\n",
       "      <td>500.0</td>\n",
       "      <td>550.0</td>\n",
       "      <td>200.0</td>\n",
       "      <td>3.0</td>\n",
       "      <td>3.0</td>\n",
       "      <td>38.000000</td>\n",
       "      <td>15.0</td>\n",
       "      <td>6220.000000</td>\n",
       "      <td>6770.000000</td>\n",
       "      <td>6770.000000</td>\n",
       "    </tr>\n",
       "  </tbody>\n",
       "</table>\n",
       "</div>"
      ],
      "text/plain": [
       "           user_id          age        month       mb_used  message_qty  \\\n",
       "count  2229.000000  2229.000000  2229.000000   2229.000000  2229.000000   \n",
       "mean   1246.472858    46.550022     8.343203  16208.386990    33.383580   \n",
       "std     146.082168    16.349357     2.925653   5870.476681    28.228398   \n",
       "min    1001.000000    18.000000     0.000000      0.000000     0.000000   \n",
       "25%    1121.000000    32.000000     6.000000  12643.010000    10.000000   \n",
       "50%    1239.000000    47.000000     9.000000  16506.840000    28.000000   \n",
       "75%    1376.000000    62.000000    11.000000  20042.930000    51.000000   \n",
       "max    1499.000000    75.000000    12.000000  38552.450000   143.000000   \n",
       "\n",
       "       calls_duration  calls_count  messages_included  mb_per_month_included  \\\n",
       "count     2229.000000  2229.000000             2229.0                 2229.0   \n",
       "mean       417.912517    58.461642               50.0                15360.0   \n",
       "std        190.360058    25.943766                0.0                    0.0   \n",
       "min          0.000000     0.000000               50.0                15360.0   \n",
       "25%        282.000000    40.000000               50.0                15360.0   \n",
       "50%        422.000000    60.000000               50.0                15360.0   \n",
       "75%        545.000000    76.000000               50.0                15360.0   \n",
       "max       1435.000000   198.000000               50.0                15360.0   \n",
       "\n",
       "       minutes_included  rub_monthly_fee  rub_per_gb  rub_per_message  \\\n",
       "count            2229.0           2229.0      2229.0           2229.0   \n",
       "mean              500.0            550.0       200.0              3.0   \n",
       "std                 0.0              0.0         0.0              0.0   \n",
       "min               500.0            550.0       200.0              3.0   \n",
       "25%               500.0            550.0       200.0              3.0   \n",
       "50%               500.0            550.0       200.0              3.0   \n",
       "75%               500.0            550.0       200.0              3.0   \n",
       "max               500.0            550.0       200.0              3.0   \n",
       "\n",
       "       rub_per_minute      gb_used  gb_per_month_included  services_fee  \\\n",
       "count          2229.0  2229.000000                 2229.0   2229.000000   \n",
       "mean              3.0    16.328847                   15.0    739.973531   \n",
       "std               0.0     5.747061                    0.0    818.404367   \n",
       "min               3.0     0.000000                   15.0      0.000000   \n",
       "25%               3.0    13.000000                   15.0      0.000000   \n",
       "50%               3.0    17.000000                   15.0    473.000000   \n",
       "75%               3.0    20.000000                   15.0   1200.000000   \n",
       "max               3.0    38.000000                   15.0   6220.000000   \n",
       "\n",
       "         total_pay  total_pay_alt  \n",
       "count  2229.000000    2229.000000  \n",
       "mean   1289.973531    1289.973531  \n",
       "std     818.404367     818.404367  \n",
       "min     550.000000     550.000000  \n",
       "25%     550.000000     550.000000  \n",
       "50%    1023.000000    1023.000000  \n",
       "75%    1750.000000    1750.000000  \n",
       "max    6770.000000    6770.000000  "
      ]
     },
     "execution_count": 41,
     "metadata": {},
     "output_type": "execute_result"
    }
   ],
   "source": [
    "total_data[total_data['tariff_name']=='smart'].describe()"
   ]
  },
  {
   "cell_type": "code",
   "execution_count": 42,
   "id": "66ddaba7",
   "metadata": {},
   "outputs": [
    {
     "data": {
      "text/plain": [
       "user_id                                  141.225984\n",
       "age                                       17.172374\n",
       "reg_date                 83 days 15:03:04.616363334\n",
       "month                                      2.886255\n",
       "mb_used                                 9972.600439\n",
       "message_qty                               47.981618\n",
       "calls_duration                           318.199596\n",
       "calls_count                               44.022522\n",
       "messages_included                               0.0\n",
       "mb_per_month_included                           0.0\n",
       "minutes_included                                0.0\n",
       "rub_monthly_fee                                 0.0\n",
       "rub_per_gb                                      0.0\n",
       "rub_per_message                                 0.0\n",
       "rub_per_minute                                  0.0\n",
       "gb_used                                    9.733807\n",
       "gb_per_month_included                           0.0\n",
       "services_fee                             377.567765\n",
       "total_pay                                377.567765\n",
       "total_pay_alt                            377.567765\n",
       "dtype: object"
      ]
     },
     "execution_count": 42,
     "metadata": {},
     "output_type": "execute_result"
    }
   ],
   "source": [
    "np.std(total_data[total_data['tariff_name']=='ultra'], ddof=1)"
   ]
  },
  {
   "cell_type": "code",
   "execution_count": 43,
   "id": "9704170a",
   "metadata": {},
   "outputs": [
    {
     "data": {
      "text/plain": [
       "user_id                                  146.082168\n",
       "age                                       16.349357\n",
       "reg_date                 90 days 13:02:09.436012029\n",
       "month                                      2.925653\n",
       "mb_used                                 5870.476681\n",
       "message_qty                               28.228398\n",
       "calls_duration                           190.360058\n",
       "calls_count                               25.943766\n",
       "messages_included                               0.0\n",
       "mb_per_month_included                           0.0\n",
       "minutes_included                                0.0\n",
       "rub_monthly_fee                                 0.0\n",
       "rub_per_gb                                      0.0\n",
       "rub_per_message                                 0.0\n",
       "rub_per_minute                                  0.0\n",
       "gb_used                                    5.747061\n",
       "gb_per_month_included                           0.0\n",
       "services_fee                             818.404367\n",
       "total_pay                                818.404367\n",
       "total_pay_alt                            818.404367\n",
       "dtype: object"
      ]
     },
     "execution_count": 43,
     "metadata": {},
     "output_type": "execute_result"
    }
   ],
   "source": [
    "np.std(total_data[total_data['tariff_name']=='smart'], ddof=1)"
   ]
  },
  {
   "cell_type": "code",
   "execution_count": 44,
   "id": "205c42f7",
   "metadata": {},
   "outputs": [
    {
     "data": {
      "text/plain": [
       "user_id                  1.994478e+04\n",
       "age                      2.948904e+02\n",
       "month                    8.330465e+00\n",
       "mb_used                  9.945276e+07\n",
       "message_qty              2.302236e+03\n",
       "calls_duration           1.012510e+05\n",
       "calls_count              1.937982e+03\n",
       "messages_included        0.000000e+00\n",
       "mb_per_month_included    0.000000e+00\n",
       "minutes_included         0.000000e+00\n",
       "rub_monthly_fee          0.000000e+00\n",
       "rub_per_gb               0.000000e+00\n",
       "rub_per_message          0.000000e+00\n",
       "rub_per_minute           0.000000e+00\n",
       "gb_used                  9.474699e+01\n",
       "gb_per_month_included    0.000000e+00\n",
       "services_fee             1.425574e+05\n",
       "total_pay                1.425574e+05\n",
       "total_pay_alt            1.425574e+05\n",
       "dtype: float64"
      ]
     },
     "execution_count": 44,
     "metadata": {},
     "output_type": "execute_result"
    }
   ],
   "source": [
    "np.var(total_data[total_data['tariff_name']=='ultra'], ddof=1)"
   ]
  },
  {
   "cell_type": "code",
   "execution_count": 45,
   "id": "6fd5e2fa",
   "metadata": {},
   "outputs": [
    {
     "data": {
      "text/plain": [
       "user_id                  2.134000e+04\n",
       "age                      2.673015e+02\n",
       "month                    8.559448e+00\n",
       "mb_used                  3.446250e+07\n",
       "message_qty              7.968425e+02\n",
       "calls_duration           3.623695e+04\n",
       "calls_count              6.730790e+02\n",
       "messages_included        0.000000e+00\n",
       "mb_per_month_included    0.000000e+00\n",
       "minutes_included         0.000000e+00\n",
       "rub_monthly_fee          0.000000e+00\n",
       "rub_per_gb               0.000000e+00\n",
       "rub_per_message          0.000000e+00\n",
       "rub_per_minute           0.000000e+00\n",
       "gb_used                  3.302871e+01\n",
       "gb_per_month_included    0.000000e+00\n",
       "services_fee             6.697857e+05\n",
       "total_pay                6.697857e+05\n",
       "total_pay_alt            6.697857e+05\n",
       "dtype: float64"
      ]
     },
     "execution_count": 45,
     "metadata": {},
     "output_type": "execute_result"
    }
   ],
   "source": [
    "np.var(total_data[total_data['tariff_name']=='smart'], ddof=1)"
   ]
  },
  {
   "cell_type": "markdown",
   "id": "504ff326",
   "metadata": {},
   "source": [
    "Рассчитаны дисперсии и стандартные отклонения месячных количественных значений для разных категорий услуг для разных тарифных планов. Стандартное отклонение количества звонков на тарифном плане Ultra больше чем на тарифе Smart. При схожей  длительности разговоров выборка длительности разговоров имеет больший разброс данных. Похожие ситуации в выборках данных по количеству полученной информации и sms."
   ]
  },
  {
   "cell_type": "markdown",
   "id": "23fe87cc",
   "metadata": {},
   "source": [
    "Вывод: Выборки данных по тарифным планам в разрезе использованных минут и количества полученной информации не имеют большого смещения вправо, что говорит об отсутствии значимых выбросов в данных. Выборка по количеству отправленных sms на каждом из тарифных планов имеет смещение вправо за счет наличия достачного количества людей отправивших большое количество sms. Показатели стандартного отклонения говорят о том что выборка по всем показателям по тарифному плану smart более сконцентрирована (более острая) чем выборка по тарифному плану ultra (менее острая)."
   ]
  },
  {
   "cell_type": "markdown",
   "id": "594b9879",
   "metadata": {},
   "source": [
    "## 4. Проверка статистических гипотез"
   ]
  },
  {
   "cell_type": "markdown",
   "id": "013f029b",
   "metadata": {},
   "source": [
    "Сделаем выборки данных для проверки гипотез"
   ]
  },
  {
   "cell_type": "code",
   "execution_count": 46,
   "id": "8a15e0b6",
   "metadata": {},
   "outputs": [],
   "source": [
    "total_pay_moscow = total_data[total_data['city']=='Москва']['total_pay']\n",
    "total_pay_other_city = total_data[total_data['city']!='Москва']['total_pay']"
   ]
  },
  {
   "cell_type": "markdown",
   "id": "21f5ffc7",
   "metadata": {},
   "source": [
    "Нулевая гипотеза: Средние расходы на мобильную связь пользователей Москвы и остальных городов России равны. <br>\n",
    "Альтернативная гипотеза: Средние расходы на мобильную связь пользователей Москвы значительно больше чем у абонентов остальных городов России. \n"
   ]
  },
  {
   "cell_type": "code",
   "execution_count": 47,
   "id": "482c0dac",
   "metadata": {},
   "outputs": [
    {
     "name": "stdout",
     "output_type": "stream",
     "text": [
      "0.2602749988628089\n",
      "Не отвергаем нулевую гипотезу\n"
     ]
    }
   ],
   "source": [
    "alpha = 0.05\n",
    "\n",
    "total_pay_moscow_mean=total_pay_moscow.mean()\n",
    "total_pay_other_city_mean = total_pay_other_city.mean()\n",
    "result = st.ttest_ind(total_pay_moscow, total_pay_other_city)\n",
    "print(result.pvalue/2)\n",
    "\n",
    "if (result.pvalue/2)<alpha and result.statistic>0:\n",
    "    print('Отвергаем нулевую гипотезу')\n",
    "else:\n",
    "    print('Не отвергаем нулевую гипотезу')\n"
   ]
  },
  {
   "cell_type": "code",
   "execution_count": 48,
   "id": "e42ac250",
   "metadata": {},
   "outputs": [],
   "source": [
    "total_pay_ultra = total_data[total_data['tariff_name']=='ultra']['total_pay']\n",
    "total_pay_smart = total_data[total_data['tariff_name']=='smart']['total_pay']"
   ]
  },
  {
   "cell_type": "markdown",
   "id": "23ebf6d5",
   "metadata": {},
   "source": [
    "Нулевая гипотеза: Средние расходы пользователей тарифов Ultra и Smart равны <br> Альтернативная гипотеза: Средние расходы пользователей тарифа Ultra значительно больше средних расходов пользователей тарифа Smart"
   ]
  },
  {
   "cell_type": "code",
   "execution_count": 50,
   "id": "d01cabe3",
   "metadata": {},
   "outputs": [
    {
     "name": "stdout",
     "output_type": "stream",
     "text": [
      "9.722581639684176e-250\n",
      "Отвергаем нулевую гипотезу\n"
     ]
    }
   ],
   "source": [
    "alpha = 0.05\n",
    "\n",
    "total_pay_ultra_mean = total_pay_ultra.mean()\n",
    "total_pay_smart_mean = total_pay_smart.mean()\n",
    "result = st.ttest_ind(total_pay_ultra, total_pay_smart, equal_var=False)\n",
    "print(result.pvalue/2)\n",
    "\n",
    "if (result.pvalue/2)<alpha and result.statistic>0:\n",
    "    print('Отвергаем нулевую гипотезу')\n",
    "else:\n",
    "    print('Не отвергаем нулевую гипотезу')\n"
   ]
  },
  {
   "cell_type": "markdown",
   "id": "227fc994",
   "metadata": {},
   "source": [
    "Вывод: Нулевая гипотеза о равенстве средних расходов на сотовую связь в Москве и регионах России не отвергается. Нулевая гипотеза о равенстве средних расходов абонентов тарифов smart и ultra отвергнута. Принимается гипотеза о том, что средние расходы абонентов тарифа ultra больше чем средние расходы абонентов тарифа smart."
   ]
  },
  {
   "cell_type": "markdown",
   "id": "19fdd2c5",
   "metadata": {},
   "source": [
    "## Вывод по проекту"
   ]
  },
  {
   "cell_type": "markdown",
   "id": "292968d2",
   "metadata": {},
   "source": [
    "Средние расходы абонентов на тарифе ultra больше средних расходов на тарифе smart. Соответственно тариф ultra более выгоден компании, предоставляющей услуги сотовой связи. Пользователи стараются уложиться в предоставленные им лимиты услуг, однако свободно допускают превышение (особенно на тарифе smart), установленных их тарифными планами, лимитов на услуги. Возможно введение промежуточных тарифов с большим количеством минут (1000 минут) и интернета (25ГБ) и СМС (100 шт) что было бы востребовано пользователями тарифа Smart. Возможно предусмотреть лайт тариф к тарифу Ultra включающий 1500 минут разговоров и 200 SMS и 50 ГБ интернета за меньшую фиксированную плату."
   ]
  },
  {
   "cell_type": "code",
   "execution_count": null,
   "id": "f3a3ba49",
   "metadata": {},
   "outputs": [],
   "source": []
  }
 ],
 "metadata": {
  "ExecuteTimeLog": [
   {
    "duration": 981,
    "start_time": "2022-04-06T17:28:19.472Z"
   },
   {
    "duration": 113,
    "start_time": "2022-04-06T17:28:20.455Z"
   },
   {
    "duration": 0,
    "start_time": "2022-04-06T17:28:20.571Z"
   },
   {
    "duration": 0,
    "start_time": "2022-04-06T17:28:20.572Z"
   },
   {
    "duration": 0,
    "start_time": "2022-04-06T17:28:20.573Z"
   },
   {
    "duration": 0,
    "start_time": "2022-04-06T17:28:20.573Z"
   },
   {
    "duration": 0,
    "start_time": "2022-04-06T17:28:20.574Z"
   },
   {
    "duration": 0,
    "start_time": "2022-04-06T17:28:20.575Z"
   },
   {
    "duration": 0,
    "start_time": "2022-04-06T17:28:20.576Z"
   },
   {
    "duration": 0,
    "start_time": "2022-04-06T17:28:20.577Z"
   },
   {
    "duration": 0,
    "start_time": "2022-04-06T17:28:20.578Z"
   },
   {
    "duration": 0,
    "start_time": "2022-04-06T17:28:20.579Z"
   },
   {
    "duration": 0,
    "start_time": "2022-04-06T17:28:20.580Z"
   },
   {
    "duration": 0,
    "start_time": "2022-04-06T17:28:20.582Z"
   },
   {
    "duration": 0,
    "start_time": "2022-04-06T17:28:20.583Z"
   },
   {
    "duration": 0,
    "start_time": "2022-04-06T17:28:20.584Z"
   },
   {
    "duration": 0,
    "start_time": "2022-04-06T17:28:20.585Z"
   },
   {
    "duration": 0,
    "start_time": "2022-04-06T17:28:20.586Z"
   },
   {
    "duration": 0,
    "start_time": "2022-04-06T17:28:20.587Z"
   },
   {
    "duration": 0,
    "start_time": "2022-04-06T17:28:20.613Z"
   },
   {
    "duration": 0,
    "start_time": "2022-04-06T17:28:20.614Z"
   },
   {
    "duration": 0,
    "start_time": "2022-04-06T17:28:20.615Z"
   },
   {
    "duration": 0,
    "start_time": "2022-04-06T17:28:20.616Z"
   },
   {
    "duration": 0,
    "start_time": "2022-04-06T17:28:20.617Z"
   },
   {
    "duration": 0,
    "start_time": "2022-04-06T17:28:20.618Z"
   },
   {
    "duration": 0,
    "start_time": "2022-04-06T17:28:20.620Z"
   },
   {
    "duration": 0,
    "start_time": "2022-04-06T17:28:20.621Z"
   },
   {
    "duration": 0,
    "start_time": "2022-04-06T17:28:20.624Z"
   },
   {
    "duration": 0,
    "start_time": "2022-04-06T17:28:20.625Z"
   },
   {
    "duration": 0,
    "start_time": "2022-04-06T17:28:20.626Z"
   },
   {
    "duration": 0,
    "start_time": "2022-04-06T17:28:20.627Z"
   },
   {
    "duration": 0,
    "start_time": "2022-04-06T17:28:20.628Z"
   },
   {
    "duration": 0,
    "start_time": "2022-04-06T17:28:20.629Z"
   },
   {
    "duration": 0,
    "start_time": "2022-04-06T17:28:20.630Z"
   },
   {
    "duration": 0,
    "start_time": "2022-04-06T17:28:20.631Z"
   },
   {
    "duration": 0,
    "start_time": "2022-04-06T17:28:20.631Z"
   },
   {
    "duration": 0,
    "start_time": "2022-04-06T17:28:20.632Z"
   },
   {
    "duration": 0,
    "start_time": "2022-04-06T17:28:20.633Z"
   },
   {
    "duration": 0,
    "start_time": "2022-04-06T17:28:20.634Z"
   },
   {
    "duration": 0,
    "start_time": "2022-04-06T17:28:20.635Z"
   },
   {
    "duration": 0,
    "start_time": "2022-04-06T17:28:20.636Z"
   },
   {
    "duration": 0,
    "start_time": "2022-04-06T17:28:20.637Z"
   },
   {
    "duration": 0,
    "start_time": "2022-04-06T17:28:20.638Z"
   },
   {
    "duration": 0,
    "start_time": "2022-04-06T17:28:20.639Z"
   },
   {
    "duration": 0,
    "start_time": "2022-04-06T17:28:20.639Z"
   },
   {
    "duration": 0,
    "start_time": "2022-04-06T17:28:20.640Z"
   },
   {
    "duration": 0,
    "start_time": "2022-04-06T17:28:20.641Z"
   },
   {
    "duration": 0,
    "start_time": "2022-04-06T17:28:20.642Z"
   },
   {
    "duration": 0,
    "start_time": "2022-04-06T17:28:20.642Z"
   },
   {
    "duration": 1158,
    "start_time": "2022-04-06T17:40:33.702Z"
   },
   {
    "duration": 381,
    "start_time": "2022-04-06T17:40:34.862Z"
   },
   {
    "duration": 15,
    "start_time": "2022-04-06T17:40:35.245Z"
   },
   {
    "duration": 24,
    "start_time": "2022-04-06T17:40:35.262Z"
   },
   {
    "duration": 41,
    "start_time": "2022-04-06T17:40:35.288Z"
   },
   {
    "duration": 21,
    "start_time": "2022-04-06T17:40:35.330Z"
   },
   {
    "duration": 3,
    "start_time": "2022-04-06T17:40:35.352Z"
   },
   {
    "duration": 91,
    "start_time": "2022-04-06T17:40:35.357Z"
   },
   {
    "duration": 16,
    "start_time": "2022-04-06T17:40:35.450Z"
   },
   {
    "duration": 67,
    "start_time": "2022-04-06T17:40:35.468Z"
   },
   {
    "duration": 11,
    "start_time": "2022-04-06T17:40:35.536Z"
   },
   {
    "duration": 68,
    "start_time": "2022-04-06T17:40:35.548Z"
   },
   {
    "duration": 10,
    "start_time": "2022-04-06T17:40:35.617Z"
   },
   {
    "duration": 7,
    "start_time": "2022-04-06T17:40:35.630Z"
   },
   {
    "duration": 9,
    "start_time": "2022-04-06T17:40:35.639Z"
   },
   {
    "duration": 7,
    "start_time": "2022-04-06T17:40:35.649Z"
   },
   {
    "duration": 10,
    "start_time": "2022-04-06T17:40:35.658Z"
   },
   {
    "duration": 7,
    "start_time": "2022-04-06T17:40:35.669Z"
   },
   {
    "duration": 43,
    "start_time": "2022-04-06T17:40:35.677Z"
   },
   {
    "duration": 6,
    "start_time": "2022-04-06T17:40:35.722Z"
   },
   {
    "duration": 6,
    "start_time": "2022-04-06T17:40:35.730Z"
   },
   {
    "duration": 12,
    "start_time": "2022-04-06T17:40:35.737Z"
   },
   {
    "duration": 4,
    "start_time": "2022-04-06T17:40:35.750Z"
   },
   {
    "duration": 7,
    "start_time": "2022-04-06T17:40:35.756Z"
   },
   {
    "duration": 131,
    "start_time": "2022-04-06T17:40:35.765Z"
   },
   {
    "duration": 4,
    "start_time": "2022-04-06T17:40:35.898Z"
   },
   {
    "duration": 109,
    "start_time": "2022-04-06T17:40:35.909Z"
   },
   {
    "duration": 4,
    "start_time": "2022-04-06T17:40:36.020Z"
   },
   {
    "duration": 7,
    "start_time": "2022-04-06T17:40:36.025Z"
   },
   {
    "duration": 25,
    "start_time": "2022-04-06T17:40:36.033Z"
   },
   {
    "duration": 18,
    "start_time": "2022-04-06T17:40:36.059Z"
   },
   {
    "duration": 35,
    "start_time": "2022-04-06T17:40:36.079Z"
   },
   {
    "duration": 184,
    "start_time": "2022-04-06T17:40:36.116Z"
   },
   {
    "duration": 154,
    "start_time": "2022-04-06T17:40:36.302Z"
   },
   {
    "duration": 143,
    "start_time": "2022-04-06T17:40:36.458Z"
   },
   {
    "duration": 150,
    "start_time": "2022-04-06T17:40:36.603Z"
   },
   {
    "duration": 143,
    "start_time": "2022-04-06T17:40:36.754Z"
   },
   {
    "duration": 157,
    "start_time": "2022-04-06T17:40:36.898Z"
   },
   {
    "duration": 9,
    "start_time": "2022-04-06T17:40:37.057Z"
   },
   {
    "duration": 9,
    "start_time": "2022-04-06T17:40:37.068Z"
   },
   {
    "duration": 32,
    "start_time": "2022-04-06T17:40:37.081Z"
   },
   {
    "duration": 8,
    "start_time": "2022-04-06T17:40:37.115Z"
   },
   {
    "duration": 8,
    "start_time": "2022-04-06T17:40:37.124Z"
   },
   {
    "duration": 10,
    "start_time": "2022-04-06T17:40:37.134Z"
   },
   {
    "duration": 6,
    "start_time": "2022-04-06T17:40:37.145Z"
   },
   {
    "duration": 12,
    "start_time": "2022-04-06T17:40:37.153Z"
   },
   {
    "duration": 43,
    "start_time": "2022-04-06T17:40:37.166Z"
   },
   {
    "duration": 5,
    "start_time": "2022-04-06T17:40:37.211Z"
   },
   {
    "duration": 9,
    "start_time": "2022-04-06T17:40:37.217Z"
   },
   {
    "duration": 3,
    "start_time": "2022-04-06T17:43:32.748Z"
   },
   {
    "duration": 410,
    "start_time": "2022-04-06T17:43:32.753Z"
   },
   {
    "duration": 15,
    "start_time": "2022-04-06T17:43:33.165Z"
   },
   {
    "duration": 37,
    "start_time": "2022-04-06T17:43:33.183Z"
   },
   {
    "duration": 30,
    "start_time": "2022-04-06T17:43:33.222Z"
   },
   {
    "duration": 23,
    "start_time": "2022-04-06T17:43:33.254Z"
   },
   {
    "duration": 30,
    "start_time": "2022-04-06T17:43:33.279Z"
   },
   {
    "duration": 77,
    "start_time": "2022-04-06T17:43:33.310Z"
   },
   {
    "duration": 33,
    "start_time": "2022-04-06T17:43:33.389Z"
   },
   {
    "duration": 54,
    "start_time": "2022-04-06T17:43:33.424Z"
   },
   {
    "duration": 30,
    "start_time": "2022-04-06T17:43:33.480Z"
   },
   {
    "duration": 14,
    "start_time": "2022-04-06T17:43:40.574Z"
   },
   {
    "duration": 6,
    "start_time": "2022-04-06T17:52:27.658Z"
   },
   {
    "duration": 5,
    "start_time": "2022-04-06T17:52:30.810Z"
   },
   {
    "duration": 4,
    "start_time": "2022-04-06T18:20:57.786Z"
   },
   {
    "duration": 7,
    "start_time": "2022-04-06T18:21:05.250Z"
   },
   {
    "duration": 6,
    "start_time": "2022-04-06T18:21:05.898Z"
   },
   {
    "duration": 4,
    "start_time": "2022-04-06T18:21:08.666Z"
   },
   {
    "duration": 6,
    "start_time": "2022-04-06T18:21:35.350Z"
   },
   {
    "duration": 3,
    "start_time": "2022-04-06T18:21:35.931Z"
   },
   {
    "duration": 6,
    "start_time": "2022-04-06T18:21:39.972Z"
   },
   {
    "duration": 1103,
    "start_time": "2022-04-06T18:26:01.906Z"
   },
   {
    "duration": 378,
    "start_time": "2022-04-06T18:26:03.011Z"
   },
   {
    "duration": 16,
    "start_time": "2022-04-06T18:26:03.391Z"
   },
   {
    "duration": 24,
    "start_time": "2022-04-06T18:26:03.409Z"
   },
   {
    "duration": 28,
    "start_time": "2022-04-06T18:26:03.436Z"
   },
   {
    "duration": 43,
    "start_time": "2022-04-06T18:26:03.466Z"
   },
   {
    "duration": 4,
    "start_time": "2022-04-06T18:26:03.510Z"
   },
   {
    "duration": 78,
    "start_time": "2022-04-06T18:26:03.515Z"
   },
   {
    "duration": 27,
    "start_time": "2022-04-06T18:26:03.594Z"
   },
   {
    "duration": 50,
    "start_time": "2022-04-06T18:26:03.623Z"
   },
   {
    "duration": 11,
    "start_time": "2022-04-06T18:26:03.675Z"
   },
   {
    "duration": 60,
    "start_time": "2022-04-06T18:26:03.709Z"
   },
   {
    "duration": 10,
    "start_time": "2022-04-06T18:26:03.771Z"
   },
   {
    "duration": 25,
    "start_time": "2022-04-06T18:26:03.784Z"
   },
   {
    "duration": 11,
    "start_time": "2022-04-06T18:26:03.811Z"
   },
   {
    "duration": 7,
    "start_time": "2022-04-06T18:26:03.824Z"
   },
   {
    "duration": 10,
    "start_time": "2022-04-06T18:26:03.833Z"
   },
   {
    "duration": 7,
    "start_time": "2022-04-06T18:26:03.845Z"
   },
   {
    "duration": 13,
    "start_time": "2022-04-06T18:26:03.854Z"
   },
   {
    "duration": 41,
    "start_time": "2022-04-06T18:26:03.868Z"
   },
   {
    "duration": 6,
    "start_time": "2022-04-06T18:26:03.911Z"
   },
   {
    "duration": 12,
    "start_time": "2022-04-06T18:26:03.919Z"
   },
   {
    "duration": 4,
    "start_time": "2022-04-06T18:26:03.933Z"
   },
   {
    "duration": 5,
    "start_time": "2022-04-06T18:26:03.938Z"
   },
   {
    "duration": 130,
    "start_time": "2022-04-06T18:26:03.945Z"
   },
   {
    "duration": 4,
    "start_time": "2022-04-06T18:26:04.077Z"
   },
   {
    "duration": 111,
    "start_time": "2022-04-06T18:26:04.082Z"
   },
   {
    "duration": 4,
    "start_time": "2022-04-06T18:26:04.195Z"
   },
   {
    "duration": 4,
    "start_time": "2022-04-06T18:26:04.209Z"
   },
   {
    "duration": 22,
    "start_time": "2022-04-06T18:26:04.215Z"
   },
   {
    "duration": 17,
    "start_time": "2022-04-06T18:26:04.239Z"
   },
   {
    "duration": 10,
    "start_time": "2022-04-06T18:26:04.258Z"
   },
   {
    "duration": 204,
    "start_time": "2022-04-06T18:26:04.269Z"
   },
   {
    "duration": 150,
    "start_time": "2022-04-06T18:26:04.474Z"
   },
   {
    "duration": 154,
    "start_time": "2022-04-06T18:26:04.626Z"
   },
   {
    "duration": 138,
    "start_time": "2022-04-06T18:26:04.782Z"
   },
   {
    "duration": 141,
    "start_time": "2022-04-06T18:26:04.922Z"
   },
   {
    "duration": 168,
    "start_time": "2022-04-06T18:26:05.065Z"
   },
   {
    "duration": 8,
    "start_time": "2022-04-06T18:26:05.235Z"
   },
   {
    "duration": 22,
    "start_time": "2022-04-06T18:26:05.245Z"
   },
   {
    "duration": 8,
    "start_time": "2022-04-06T18:26:05.270Z"
   },
   {
    "duration": 9,
    "start_time": "2022-04-06T18:26:05.279Z"
   },
   {
    "duration": 25,
    "start_time": "2022-04-06T18:26:05.290Z"
   },
   {
    "duration": 13,
    "start_time": "2022-04-06T18:26:05.317Z"
   },
   {
    "duration": 12,
    "start_time": "2022-04-06T18:26:05.332Z"
   },
   {
    "duration": 23,
    "start_time": "2022-04-06T18:26:05.345Z"
   },
   {
    "duration": 9,
    "start_time": "2022-04-06T18:26:05.370Z"
   },
   {
    "duration": 25,
    "start_time": "2022-04-06T18:26:05.380Z"
   },
   {
    "duration": 14,
    "start_time": "2022-04-06T18:26:05.406Z"
   },
   {
    "duration": 19,
    "start_time": "2022-04-06T18:26:05.421Z"
   },
   {
    "duration": 1699,
    "start_time": "2022-04-07T06:02:29.355Z"
   },
   {
    "duration": 488,
    "start_time": "2022-04-07T06:02:31.056Z"
   },
   {
    "duration": 25,
    "start_time": "2022-04-07T06:02:31.546Z"
   },
   {
    "duration": 39,
    "start_time": "2022-04-07T06:02:31.573Z"
   },
   {
    "duration": 37,
    "start_time": "2022-04-07T06:02:31.614Z"
   },
   {
    "duration": 57,
    "start_time": "2022-04-07T06:02:31.653Z"
   },
   {
    "duration": 4,
    "start_time": "2022-04-07T06:02:31.712Z"
   },
   {
    "duration": 131,
    "start_time": "2022-04-07T06:02:31.718Z"
   },
   {
    "duration": 33,
    "start_time": "2022-04-07T06:02:31.851Z"
   },
   {
    "duration": 71,
    "start_time": "2022-04-07T06:02:31.887Z"
   },
   {
    "duration": 32,
    "start_time": "2022-04-07T06:02:31.960Z"
   },
   {
    "duration": 90,
    "start_time": "2022-04-07T06:02:31.994Z"
   },
   {
    "duration": 16,
    "start_time": "2022-04-07T06:02:32.086Z"
   },
   {
    "duration": 19,
    "start_time": "2022-04-07T06:02:32.104Z"
   },
   {
    "duration": 30,
    "start_time": "2022-04-07T06:02:32.125Z"
   },
   {
    "duration": 16,
    "start_time": "2022-04-07T06:02:32.157Z"
   },
   {
    "duration": 16,
    "start_time": "2022-04-07T06:02:32.183Z"
   },
   {
    "duration": 23,
    "start_time": "2022-04-07T06:02:32.201Z"
   },
   {
    "duration": 29,
    "start_time": "2022-04-07T06:02:32.226Z"
   },
   {
    "duration": 27,
    "start_time": "2022-04-07T06:02:32.257Z"
   },
   {
    "duration": 146,
    "start_time": "2022-04-07T06:02:32.286Z"
   },
   {
    "duration": 0,
    "start_time": "2022-04-07T06:02:32.435Z"
   },
   {
    "duration": 0,
    "start_time": "2022-04-07T06:02:32.437Z"
   },
   {
    "duration": 0,
    "start_time": "2022-04-07T06:02:32.439Z"
   },
   {
    "duration": 0,
    "start_time": "2022-04-07T06:02:32.441Z"
   },
   {
    "duration": 0,
    "start_time": "2022-04-07T06:02:32.443Z"
   },
   {
    "duration": 0,
    "start_time": "2022-04-07T06:02:32.444Z"
   },
   {
    "duration": 0,
    "start_time": "2022-04-07T06:02:32.446Z"
   },
   {
    "duration": 0,
    "start_time": "2022-04-07T06:02:32.448Z"
   },
   {
    "duration": 0,
    "start_time": "2022-04-07T06:02:32.450Z"
   },
   {
    "duration": 0,
    "start_time": "2022-04-07T06:02:32.452Z"
   },
   {
    "duration": 0,
    "start_time": "2022-04-07T06:02:32.485Z"
   },
   {
    "duration": 0,
    "start_time": "2022-04-07T06:02:32.486Z"
   },
   {
    "duration": 0,
    "start_time": "2022-04-07T06:02:32.488Z"
   },
   {
    "duration": 0,
    "start_time": "2022-04-07T06:02:32.490Z"
   },
   {
    "duration": 0,
    "start_time": "2022-04-07T06:02:32.491Z"
   },
   {
    "duration": 0,
    "start_time": "2022-04-07T06:02:32.493Z"
   },
   {
    "duration": 0,
    "start_time": "2022-04-07T06:02:32.495Z"
   },
   {
    "duration": 0,
    "start_time": "2022-04-07T06:02:32.497Z"
   },
   {
    "duration": 0,
    "start_time": "2022-04-07T06:02:32.498Z"
   },
   {
    "duration": 0,
    "start_time": "2022-04-07T06:02:32.500Z"
   },
   {
    "duration": 0,
    "start_time": "2022-04-07T06:02:32.501Z"
   },
   {
    "duration": 0,
    "start_time": "2022-04-07T06:02:32.503Z"
   },
   {
    "duration": 0,
    "start_time": "2022-04-07T06:02:32.505Z"
   },
   {
    "duration": 0,
    "start_time": "2022-04-07T06:02:32.507Z"
   },
   {
    "duration": 0,
    "start_time": "2022-04-07T06:02:32.508Z"
   },
   {
    "duration": 0,
    "start_time": "2022-04-07T06:02:32.510Z"
   },
   {
    "duration": 0,
    "start_time": "2022-04-07T06:02:32.511Z"
   },
   {
    "duration": 0,
    "start_time": "2022-04-07T06:02:32.513Z"
   },
   {
    "duration": 0,
    "start_time": "2022-04-07T06:02:32.515Z"
   },
   {
    "duration": 6,
    "start_time": "2022-04-07T06:03:08.334Z"
   },
   {
    "duration": 8,
    "start_time": "2022-04-07T06:05:27.247Z"
   },
   {
    "duration": 20,
    "start_time": "2022-04-07T06:08:29.489Z"
   },
   {
    "duration": 9,
    "start_time": "2022-04-07T06:09:14.824Z"
   },
   {
    "duration": 11,
    "start_time": "2022-04-07T06:09:37.726Z"
   },
   {
    "duration": 22,
    "start_time": "2022-04-07T06:10:24.575Z"
   },
   {
    "duration": 25,
    "start_time": "2022-04-07T06:11:32.468Z"
   },
   {
    "duration": 1436,
    "start_time": "2022-04-07T06:12:15.710Z"
   },
   {
    "duration": 504,
    "start_time": "2022-04-07T06:12:17.149Z"
   },
   {
    "duration": 29,
    "start_time": "2022-04-07T06:12:17.656Z"
   },
   {
    "duration": 33,
    "start_time": "2022-04-07T06:12:17.688Z"
   },
   {
    "duration": 36,
    "start_time": "2022-04-07T06:12:17.723Z"
   },
   {
    "duration": 29,
    "start_time": "2022-04-07T06:12:17.785Z"
   },
   {
    "duration": 4,
    "start_time": "2022-04-07T06:12:17.817Z"
   },
   {
    "duration": 134,
    "start_time": "2022-04-07T06:12:17.823Z"
   },
   {
    "duration": 30,
    "start_time": "2022-04-07T06:12:17.959Z"
   },
   {
    "duration": 70,
    "start_time": "2022-04-07T06:12:17.994Z"
   },
   {
    "duration": 29,
    "start_time": "2022-04-07T06:12:18.066Z"
   },
   {
    "duration": 103,
    "start_time": "2022-04-07T06:12:18.097Z"
   },
   {
    "duration": 15,
    "start_time": "2022-04-07T06:12:18.202Z"
   },
   {
    "duration": 16,
    "start_time": "2022-04-07T06:12:18.220Z"
   },
   {
    "duration": 16,
    "start_time": "2022-04-07T06:12:18.239Z"
   },
   {
    "duration": 10,
    "start_time": "2022-04-07T06:12:18.284Z"
   },
   {
    "duration": 15,
    "start_time": "2022-04-07T06:12:18.297Z"
   },
   {
    "duration": 10,
    "start_time": "2022-04-07T06:12:18.315Z"
   },
   {
    "duration": 19,
    "start_time": "2022-04-07T06:12:18.327Z"
   },
   {
    "duration": 11,
    "start_time": "2022-04-07T06:12:18.384Z"
   },
   {
    "duration": 8,
    "start_time": "2022-04-07T06:12:18.397Z"
   },
   {
    "duration": 22,
    "start_time": "2022-04-07T06:12:18.407Z"
   },
   {
    "duration": 56,
    "start_time": "2022-04-07T06:12:18.432Z"
   },
   {
    "duration": 22,
    "start_time": "2022-04-07T06:12:18.490Z"
   },
   {
    "duration": 7,
    "start_time": "2022-04-07T06:12:18.514Z"
   },
   {
    "duration": 25,
    "start_time": "2022-04-07T06:12:18.523Z"
   },
   {
    "duration": 35,
    "start_time": "2022-04-07T06:12:18.550Z"
   },
   {
    "duration": 6,
    "start_time": "2022-04-07T06:12:18.590Z"
   },
   {
    "duration": 185,
    "start_time": "2022-04-07T06:12:18.598Z"
   },
   {
    "duration": 5,
    "start_time": "2022-04-07T06:12:18.786Z"
   },
   {
    "duration": 182,
    "start_time": "2022-04-07T06:12:18.793Z"
   },
   {
    "duration": 11,
    "start_time": "2022-04-07T06:12:18.978Z"
   },
   {
    "duration": 12,
    "start_time": "2022-04-07T06:12:18.991Z"
   },
   {
    "duration": 33,
    "start_time": "2022-04-07T06:12:19.005Z"
   },
   {
    "duration": 51,
    "start_time": "2022-04-07T06:12:19.040Z"
   },
   {
    "duration": 17,
    "start_time": "2022-04-07T06:12:19.093Z"
   },
   {
    "duration": 304,
    "start_time": "2022-04-07T06:12:19.112Z"
   },
   {
    "duration": 233,
    "start_time": "2022-04-07T06:12:19.419Z"
   },
   {
    "duration": 230,
    "start_time": "2022-04-07T06:12:19.654Z"
   },
   {
    "duration": 218,
    "start_time": "2022-04-07T06:12:19.886Z"
   },
   {
    "duration": 216,
    "start_time": "2022-04-07T06:12:20.106Z"
   },
   {
    "duration": 240,
    "start_time": "2022-04-07T06:12:20.324Z"
   },
   {
    "duration": 22,
    "start_time": "2022-04-07T06:12:20.566Z"
   },
   {
    "duration": 13,
    "start_time": "2022-04-07T06:12:20.591Z"
   },
   {
    "duration": 11,
    "start_time": "2022-04-07T06:12:20.606Z"
   },
   {
    "duration": 11,
    "start_time": "2022-04-07T06:12:20.619Z"
   },
   {
    "duration": 52,
    "start_time": "2022-04-07T06:12:20.632Z"
   },
   {
    "duration": 12,
    "start_time": "2022-04-07T06:12:20.687Z"
   },
   {
    "duration": 8,
    "start_time": "2022-04-07T06:12:20.701Z"
   },
   {
    "duration": 8,
    "start_time": "2022-04-07T06:12:20.711Z"
   },
   {
    "duration": 12,
    "start_time": "2022-04-07T06:12:20.722Z"
   },
   {
    "duration": 13,
    "start_time": "2022-04-07T06:12:20.736Z"
   },
   {
    "duration": 7,
    "start_time": "2022-04-07T06:12:20.785Z"
   },
   {
    "duration": 14,
    "start_time": "2022-04-07T06:20:47.277Z"
   },
   {
    "duration": 19,
    "start_time": "2022-04-07T06:20:49.373Z"
   },
   {
    "duration": 26,
    "start_time": "2022-04-07T06:21:42.804Z"
   },
   {
    "duration": 9,
    "start_time": "2022-04-07T06:22:29.324Z"
   },
   {
    "duration": 11,
    "start_time": "2022-04-07T06:23:31.716Z"
   },
   {
    "duration": 20,
    "start_time": "2022-04-07T06:23:32.466Z"
   },
   {
    "duration": 11,
    "start_time": "2022-04-07T06:23:56.817Z"
   },
   {
    "duration": 19,
    "start_time": "2022-04-07T06:23:58.593Z"
   },
   {
    "duration": 161,
    "start_time": "2022-04-07T06:24:27.240Z"
   },
   {
    "duration": 11,
    "start_time": "2022-04-07T06:24:45.521Z"
   },
   {
    "duration": 16,
    "start_time": "2022-04-07T06:24:56.432Z"
   },
   {
    "duration": 19,
    "start_time": "2022-04-07T06:24:57.288Z"
   },
   {
    "duration": 14,
    "start_time": "2022-04-07T06:25:51.142Z"
   },
   {
    "duration": 19,
    "start_time": "2022-04-07T06:25:52.607Z"
   },
   {
    "duration": 13,
    "start_time": "2022-04-07T06:26:03.317Z"
   },
   {
    "duration": 7,
    "start_time": "2022-04-07T06:26:06.598Z"
   },
   {
    "duration": 12,
    "start_time": "2022-04-07T06:26:11.799Z"
   },
   {
    "duration": 16,
    "start_time": "2022-04-07T06:26:13.687Z"
   },
   {
    "duration": 19,
    "start_time": "2022-04-07T06:26:23.351Z"
   },
   {
    "duration": 7,
    "start_time": "2022-04-07T06:26:31.606Z"
   },
   {
    "duration": 22,
    "start_time": "2022-04-07T06:26:33.805Z"
   },
   {
    "duration": 16,
    "start_time": "2022-04-07T06:27:09.341Z"
   },
   {
    "duration": 19,
    "start_time": "2022-04-07T06:27:10.918Z"
   },
   {
    "duration": 11,
    "start_time": "2022-04-07T06:27:15.007Z"
   },
   {
    "duration": 6,
    "start_time": "2022-04-07T06:27:16.261Z"
   },
   {
    "duration": 10,
    "start_time": "2022-04-07T06:27:17.070Z"
   },
   {
    "duration": 15,
    "start_time": "2022-04-07T06:27:20.986Z"
   },
   {
    "duration": 17,
    "start_time": "2022-04-07T06:27:25.893Z"
   },
   {
    "duration": 8,
    "start_time": "2022-04-07T06:28:05.484Z"
   },
   {
    "duration": 21,
    "start_time": "2022-04-07T06:28:08.378Z"
   },
   {
    "duration": 6,
    "start_time": "2022-04-07T06:28:23.284Z"
   },
   {
    "duration": 6,
    "start_time": "2022-04-07T06:28:24.652Z"
   },
   {
    "duration": 173,
    "start_time": "2022-04-07T06:28:47.300Z"
   },
   {
    "duration": 5,
    "start_time": "2022-04-07T06:28:48.818Z"
   },
   {
    "duration": 169,
    "start_time": "2022-04-07T06:28:52.869Z"
   },
   {
    "duration": 6,
    "start_time": "2022-04-07T06:28:54.508Z"
   },
   {
    "duration": 7,
    "start_time": "2022-04-07T06:28:55.860Z"
   },
   {
    "duration": 1594,
    "start_time": "2022-04-07T06:29:11.463Z"
   },
   {
    "duration": 549,
    "start_time": "2022-04-07T06:29:13.060Z"
   },
   {
    "duration": 26,
    "start_time": "2022-04-07T06:29:13.611Z"
   },
   {
    "duration": 49,
    "start_time": "2022-04-07T06:29:13.640Z"
   },
   {
    "duration": 39,
    "start_time": "2022-04-07T06:29:13.692Z"
   },
   {
    "duration": 54,
    "start_time": "2022-04-07T06:29:13.733Z"
   },
   {
    "duration": 5,
    "start_time": "2022-04-07T06:29:13.790Z"
   },
   {
    "duration": 133,
    "start_time": "2022-04-07T06:29:13.798Z"
   },
   {
    "duration": 25,
    "start_time": "2022-04-07T06:29:13.934Z"
   },
   {
    "duration": 86,
    "start_time": "2022-04-07T06:29:13.962Z"
   },
   {
    "duration": 16,
    "start_time": "2022-04-07T06:29:14.050Z"
   },
   {
    "duration": 82,
    "start_time": "2022-04-07T06:29:14.085Z"
   },
   {
    "duration": 27,
    "start_time": "2022-04-07T06:29:14.170Z"
   },
   {
    "duration": 19,
    "start_time": "2022-04-07T06:29:14.200Z"
   },
   {
    "duration": 19,
    "start_time": "2022-04-07T06:29:14.222Z"
   },
   {
    "duration": 45,
    "start_time": "2022-04-07T06:29:14.245Z"
   },
   {
    "duration": 19,
    "start_time": "2022-04-07T06:29:14.293Z"
   },
   {
    "duration": 30,
    "start_time": "2022-04-07T06:29:14.315Z"
   },
   {
    "duration": 40,
    "start_time": "2022-04-07T06:29:14.348Z"
   },
   {
    "duration": 13,
    "start_time": "2022-04-07T06:29:14.390Z"
   },
   {
    "duration": 8,
    "start_time": "2022-04-07T06:29:14.405Z"
   },
   {
    "duration": 15,
    "start_time": "2022-04-07T06:29:14.415Z"
   },
   {
    "duration": 51,
    "start_time": "2022-04-07T06:29:14.433Z"
   },
   {
    "duration": 7,
    "start_time": "2022-04-07T06:29:14.486Z"
   },
   {
    "duration": 17,
    "start_time": "2022-04-07T06:29:14.495Z"
   },
   {
    "duration": 184,
    "start_time": "2022-04-07T06:29:14.514Z"
   },
   {
    "duration": 6,
    "start_time": "2022-04-07T06:29:14.700Z"
   },
   {
    "duration": 185,
    "start_time": "2022-04-07T06:29:14.712Z"
   },
   {
    "duration": 6,
    "start_time": "2022-04-07T06:29:14.899Z"
   },
   {
    "duration": 13,
    "start_time": "2022-04-07T06:29:14.907Z"
   },
   {
    "duration": 39,
    "start_time": "2022-04-07T06:29:14.921Z"
   },
   {
    "duration": 45,
    "start_time": "2022-04-07T06:29:14.962Z"
   },
   {
    "duration": 18,
    "start_time": "2022-04-07T06:29:15.010Z"
   },
   {
    "duration": 346,
    "start_time": "2022-04-07T06:29:15.029Z"
   },
   {
    "duration": 245,
    "start_time": "2022-04-07T06:29:15.377Z"
   },
   {
    "duration": 238,
    "start_time": "2022-04-07T06:29:15.624Z"
   },
   {
    "duration": 237,
    "start_time": "2022-04-07T06:29:15.865Z"
   },
   {
    "duration": 229,
    "start_time": "2022-04-07T06:29:16.105Z"
   },
   {
    "duration": 252,
    "start_time": "2022-04-07T06:29:16.337Z"
   },
   {
    "duration": 13,
    "start_time": "2022-04-07T06:29:16.591Z"
   },
   {
    "duration": 20,
    "start_time": "2022-04-07T06:29:16.606Z"
   },
   {
    "duration": 12,
    "start_time": "2022-04-07T06:29:16.629Z"
   },
   {
    "duration": 46,
    "start_time": "2022-04-07T06:29:16.643Z"
   },
   {
    "duration": 18,
    "start_time": "2022-04-07T06:29:16.692Z"
   },
   {
    "duration": 13,
    "start_time": "2022-04-07T06:29:16.712Z"
   },
   {
    "duration": 9,
    "start_time": "2022-04-07T06:29:16.727Z"
   },
   {
    "duration": 48,
    "start_time": "2022-04-07T06:29:16.739Z"
   },
   {
    "duration": 9,
    "start_time": "2022-04-07T06:29:16.789Z"
   },
   {
    "duration": 19,
    "start_time": "2022-04-07T06:29:16.800Z"
   },
   {
    "duration": 8,
    "start_time": "2022-04-07T06:29:16.822Z"
   },
   {
    "duration": 182,
    "start_time": "2022-04-07T06:31:55.935Z"
   },
   {
    "duration": 5,
    "start_time": "2022-04-07T06:31:56.943Z"
   },
   {
    "duration": 186,
    "start_time": "2022-04-07T06:31:57.582Z"
   },
   {
    "duration": 8,
    "start_time": "2022-04-07T06:31:58.465Z"
   },
   {
    "duration": 7,
    "start_time": "2022-04-07T06:31:59.200Z"
   },
   {
    "duration": 419,
    "start_time": "2022-04-07T06:33:01.735Z"
   },
   {
    "duration": 341,
    "start_time": "2022-04-07T06:34:54.170Z"
   },
   {
    "duration": 268,
    "start_time": "2022-04-07T06:37:34.400Z"
   },
   {
    "duration": 273,
    "start_time": "2022-04-07T06:38:06.399Z"
   },
   {
    "duration": 378,
    "start_time": "2022-04-07T06:38:27.960Z"
   },
   {
    "duration": 270,
    "start_time": "2022-04-07T06:38:49.392Z"
   },
   {
    "duration": 25,
    "start_time": "2022-04-07T06:39:16.040Z"
   },
   {
    "duration": 279,
    "start_time": "2022-04-07T06:39:36.318Z"
   },
   {
    "duration": 398,
    "start_time": "2022-04-07T06:40:12.223Z"
   },
   {
    "duration": 282,
    "start_time": "2022-04-07T06:40:33.550Z"
   },
   {
    "duration": 285,
    "start_time": "2022-04-07T07:04:37.289Z"
   },
   {
    "duration": 467,
    "start_time": "2022-04-07T07:04:54.055Z"
   },
   {
    "duration": 276,
    "start_time": "2022-04-07T07:05:08.829Z"
   },
   {
    "duration": 144,
    "start_time": "2022-04-07T07:05:15.171Z"
   },
   {
    "duration": 398,
    "start_time": "2022-04-07T07:05:24.828Z"
   },
   {
    "duration": 271,
    "start_time": "2022-04-07T07:11:45.424Z"
   },
   {
    "duration": 276,
    "start_time": "2022-04-07T07:12:42.268Z"
   },
   {
    "duration": 367,
    "start_time": "2022-04-07T07:14:45.517Z"
   },
   {
    "duration": 281,
    "start_time": "2022-04-07T07:15:18.408Z"
   },
   {
    "duration": 11,
    "start_time": "2022-04-07T07:17:35.184Z"
   },
   {
    "duration": 265,
    "start_time": "2022-04-07T07:17:58.926Z"
   },
   {
    "duration": 122,
    "start_time": "2022-04-07T07:18:21.165Z"
   },
   {
    "duration": 271,
    "start_time": "2022-04-07T07:18:42.884Z"
   },
   {
    "duration": 101,
    "start_time": "2022-04-07T07:18:55.117Z"
   },
   {
    "duration": 275,
    "start_time": "2022-04-07T07:24:35.639Z"
   },
   {
    "duration": 292,
    "start_time": "2022-04-07T07:25:32.939Z"
   },
   {
    "duration": 1516,
    "start_time": "2022-04-07T07:28:05.579Z"
   },
   {
    "duration": 17,
    "start_time": "2022-04-07T07:29:36.448Z"
   },
   {
    "duration": 329,
    "start_time": "2022-04-07T07:29:52.922Z"
   },
   {
    "duration": 1467,
    "start_time": "2022-04-07T08:07:39.879Z"
   },
   {
    "duration": 715,
    "start_time": "2022-04-07T08:07:41.348Z"
   },
   {
    "duration": 29,
    "start_time": "2022-04-07T08:07:42.066Z"
   },
   {
    "duration": 49,
    "start_time": "2022-04-07T08:07:42.099Z"
   },
   {
    "duration": 59,
    "start_time": "2022-04-07T08:07:42.150Z"
   },
   {
    "duration": 28,
    "start_time": "2022-04-07T08:07:42.211Z"
   },
   {
    "duration": 6,
    "start_time": "2022-04-07T08:07:42.241Z"
   },
   {
    "duration": 154,
    "start_time": "2022-04-07T08:07:42.250Z"
   },
   {
    "duration": 24,
    "start_time": "2022-04-07T08:07:42.406Z"
   },
   {
    "duration": 97,
    "start_time": "2022-04-07T08:07:42.436Z"
   },
   {
    "duration": 16,
    "start_time": "2022-04-07T08:07:42.535Z"
   },
   {
    "duration": 96,
    "start_time": "2022-04-07T08:07:42.554Z"
   },
   {
    "duration": 16,
    "start_time": "2022-04-07T08:07:42.652Z"
   },
   {
    "duration": 11,
    "start_time": "2022-04-07T08:07:42.683Z"
   },
   {
    "duration": 18,
    "start_time": "2022-04-07T08:07:42.696Z"
   },
   {
    "duration": 17,
    "start_time": "2022-04-07T08:07:42.716Z"
   },
   {
    "duration": 53,
    "start_time": "2022-04-07T08:07:42.735Z"
   },
   {
    "duration": 17,
    "start_time": "2022-04-07T08:07:42.790Z"
   },
   {
    "duration": 21,
    "start_time": "2022-04-07T08:07:42.809Z"
   },
   {
    "duration": 11,
    "start_time": "2022-04-07T08:07:42.832Z"
   },
   {
    "duration": 7,
    "start_time": "2022-04-07T08:07:42.884Z"
   },
   {
    "duration": 11,
    "start_time": "2022-04-07T08:07:42.893Z"
   },
   {
    "duration": 20,
    "start_time": "2022-04-07T08:07:42.906Z"
   },
   {
    "duration": 6,
    "start_time": "2022-04-07T08:07:42.928Z"
   },
   {
    "duration": 48,
    "start_time": "2022-04-07T08:07:42.936Z"
   },
   {
    "duration": 184,
    "start_time": "2022-04-07T08:07:42.986Z"
   },
   {
    "duration": 13,
    "start_time": "2022-04-07T08:07:43.172Z"
   },
   {
    "duration": 188,
    "start_time": "2022-04-07T08:07:43.190Z"
   },
   {
    "duration": 6,
    "start_time": "2022-04-07T08:07:43.380Z"
   },
   {
    "duration": 7,
    "start_time": "2022-04-07T08:07:43.389Z"
   },
   {
    "duration": 35,
    "start_time": "2022-04-07T08:07:43.398Z"
   },
   {
    "duration": 60,
    "start_time": "2022-04-07T08:07:43.436Z"
   },
   {
    "duration": 16,
    "start_time": "2022-04-07T08:07:43.498Z"
   },
   {
    "duration": 347,
    "start_time": "2022-04-07T08:07:43.516Z"
   },
   {
    "duration": 295,
    "start_time": "2022-04-07T08:07:43.866Z"
   },
   {
    "duration": 298,
    "start_time": "2022-04-07T08:07:44.164Z"
   },
   {
    "duration": 222,
    "start_time": "2022-04-07T08:07:44.464Z"
   },
   {
    "duration": 218,
    "start_time": "2022-04-07T08:07:44.688Z"
   },
   {
    "duration": 245,
    "start_time": "2022-04-07T08:07:44.909Z"
   },
   {
    "duration": 30,
    "start_time": "2022-04-07T08:07:45.157Z"
   },
   {
    "duration": 12,
    "start_time": "2022-04-07T08:07:45.190Z"
   },
   {
    "duration": 12,
    "start_time": "2022-04-07T08:07:45.205Z"
   },
   {
    "duration": 16,
    "start_time": "2022-04-07T08:07:45.219Z"
   },
   {
    "duration": 49,
    "start_time": "2022-04-07T08:07:45.237Z"
   },
   {
    "duration": 11,
    "start_time": "2022-04-07T08:07:45.289Z"
   },
   {
    "duration": 19,
    "start_time": "2022-04-07T08:07:45.302Z"
   },
   {
    "duration": 10,
    "start_time": "2022-04-07T08:07:45.323Z"
   },
   {
    "duration": 12,
    "start_time": "2022-04-07T08:07:45.335Z"
   },
   {
    "duration": 39,
    "start_time": "2022-04-07T08:07:45.349Z"
   },
   {
    "duration": 25,
    "start_time": "2022-04-07T08:07:45.391Z"
   },
   {
    "duration": 10,
    "start_time": "2022-04-07T08:08:50.123Z"
   },
   {
    "duration": 9,
    "start_time": "2022-04-07T08:09:45.316Z"
   },
   {
    "duration": 8,
    "start_time": "2022-04-07T08:10:57.841Z"
   },
   {
    "duration": 8,
    "start_time": "2022-04-07T08:19:24.712Z"
   },
   {
    "duration": 9,
    "start_time": "2022-04-07T08:21:01.821Z"
   },
   {
    "duration": 8,
    "start_time": "2022-04-07T08:22:03.571Z"
   },
   {
    "duration": 45,
    "start_time": "2022-04-07T10:05:47.620Z"
   },
   {
    "duration": 1258,
    "start_time": "2022-04-07T10:05:56.561Z"
   },
   {
    "duration": 445,
    "start_time": "2022-04-07T10:05:57.821Z"
   },
   {
    "duration": 16,
    "start_time": "2022-04-07T10:05:58.267Z"
   },
   {
    "duration": 25,
    "start_time": "2022-04-07T10:05:58.285Z"
   },
   {
    "duration": 27,
    "start_time": "2022-04-07T10:05:58.312Z"
   },
   {
    "duration": 40,
    "start_time": "2022-04-07T10:05:58.341Z"
   },
   {
    "duration": 3,
    "start_time": "2022-04-07T10:05:58.383Z"
   },
   {
    "duration": 74,
    "start_time": "2022-04-07T10:05:58.388Z"
   },
   {
    "duration": 26,
    "start_time": "2022-04-07T10:05:58.463Z"
   },
   {
    "duration": 49,
    "start_time": "2022-04-07T10:05:58.492Z"
   },
   {
    "duration": 10,
    "start_time": "2022-04-07T10:05:58.542Z"
   },
   {
    "duration": 70,
    "start_time": "2022-04-07T10:05:58.554Z"
   },
   {
    "duration": 9,
    "start_time": "2022-04-07T10:05:58.625Z"
   },
   {
    "duration": 10,
    "start_time": "2022-04-07T10:05:58.636Z"
   },
   {
    "duration": 11,
    "start_time": "2022-04-07T10:05:58.647Z"
   },
   {
    "duration": 27,
    "start_time": "2022-04-07T10:05:58.660Z"
   },
   {
    "duration": 13,
    "start_time": "2022-04-07T10:05:58.689Z"
   },
   {
    "duration": 10,
    "start_time": "2022-04-07T10:05:58.703Z"
   },
   {
    "duration": 12,
    "start_time": "2022-04-07T10:05:58.714Z"
   },
   {
    "duration": 7,
    "start_time": "2022-04-07T10:05:58.727Z"
   },
   {
    "duration": 5,
    "start_time": "2022-04-07T10:05:58.735Z"
   },
   {
    "duration": 39,
    "start_time": "2022-04-07T10:05:58.741Z"
   },
   {
    "duration": 12,
    "start_time": "2022-04-07T10:05:58.782Z"
   },
   {
    "duration": 3,
    "start_time": "2022-04-07T10:05:58.796Z"
   },
   {
    "duration": 5,
    "start_time": "2022-04-07T10:05:58.801Z"
   },
   {
    "duration": 120,
    "start_time": "2022-04-07T10:05:58.807Z"
   },
   {
    "duration": 4,
    "start_time": "2022-04-07T10:05:58.929Z"
   },
   {
    "duration": 113,
    "start_time": "2022-04-07T10:05:58.937Z"
   },
   {
    "duration": 5,
    "start_time": "2022-04-07T10:05:59.052Z"
   },
   {
    "duration": 5,
    "start_time": "2022-04-07T10:05:59.059Z"
   },
   {
    "duration": 29,
    "start_time": "2022-04-07T10:05:59.065Z"
   },
   {
    "duration": 16,
    "start_time": "2022-04-07T10:05:59.096Z"
   },
   {
    "duration": 12,
    "start_time": "2022-04-07T10:05:59.113Z"
   },
   {
    "duration": 210,
    "start_time": "2022-04-07T10:05:59.126Z"
   },
   {
    "duration": 126,
    "start_time": "2022-04-07T10:05:59.337Z"
   },
   {
    "duration": 127,
    "start_time": "2022-04-07T10:05:59.464Z"
   },
   {
    "duration": 125,
    "start_time": "2022-04-07T10:05:59.592Z"
   },
   {
    "duration": 118,
    "start_time": "2022-04-07T10:05:59.718Z"
   },
   {
    "duration": 127,
    "start_time": "2022-04-07T10:05:59.837Z"
   },
   {
    "duration": 20,
    "start_time": "2022-04-07T10:05:59.966Z"
   },
   {
    "duration": 10,
    "start_time": "2022-04-07T10:05:59.987Z"
   },
   {
    "duration": 13,
    "start_time": "2022-04-07T10:05:59.998Z"
   },
   {
    "duration": 10,
    "start_time": "2022-04-07T10:06:00.012Z"
   },
   {
    "duration": 20,
    "start_time": "2022-04-07T10:06:00.024Z"
   },
   {
    "duration": 7,
    "start_time": "2022-04-07T10:06:00.045Z"
   },
   {
    "duration": 5,
    "start_time": "2022-04-07T10:06:00.054Z"
   },
   {
    "duration": 23,
    "start_time": "2022-04-07T10:06:00.061Z"
   },
   {
    "duration": 9,
    "start_time": "2022-04-07T10:06:00.085Z"
   },
   {
    "duration": 7,
    "start_time": "2022-04-07T10:06:00.096Z"
   },
   {
    "duration": 8,
    "start_time": "2022-04-07T10:06:00.104Z"
   },
   {
    "duration": 149,
    "start_time": "2022-04-07T10:07:01.197Z"
   },
   {
    "duration": 171,
    "start_time": "2022-04-07T10:08:34.831Z"
   },
   {
    "duration": 236,
    "start_time": "2022-04-07T10:10:04.344Z"
   },
   {
    "duration": 175,
    "start_time": "2022-04-07T10:10:40.752Z"
   },
   {
    "duration": 155,
    "start_time": "2022-04-07T10:10:55.599Z"
   },
   {
    "duration": 177,
    "start_time": "2022-04-07T10:11:02.127Z"
   },
   {
    "duration": 137,
    "start_time": "2022-04-07T10:12:40.350Z"
   },
   {
    "duration": 184,
    "start_time": "2022-04-07T10:13:23.107Z"
   },
   {
    "duration": 185,
    "start_time": "2022-04-07T10:14:28.237Z"
   },
   {
    "duration": 11,
    "start_time": "2022-04-07T10:16:12.073Z"
   },
   {
    "duration": 177,
    "start_time": "2022-04-07T10:16:13.266Z"
   },
   {
    "duration": 10,
    "start_time": "2022-04-07T10:16:29.898Z"
   },
   {
    "duration": 191,
    "start_time": "2022-04-07T10:16:32.111Z"
   },
   {
    "duration": 144,
    "start_time": "2022-04-07T10:17:31.033Z"
   },
   {
    "duration": 139,
    "start_time": "2022-04-07T10:18:42.623Z"
   },
   {
    "duration": 260,
    "start_time": "2022-04-07T10:19:24.888Z"
   },
   {
    "duration": 2,
    "start_time": "2022-04-07T10:19:49.262Z"
   },
   {
    "duration": 3,
    "start_time": "2022-04-07T10:20:07.646Z"
   },
   {
    "duration": 7,
    "start_time": "2022-04-07T10:23:20.697Z"
   },
   {
    "duration": 269,
    "start_time": "2022-04-07T10:29:05.283Z"
   },
   {
    "duration": 180,
    "start_time": "2022-04-07T10:29:16.386Z"
   },
   {
    "duration": 177,
    "start_time": "2022-04-07T10:33:04.071Z"
   },
   {
    "duration": 180,
    "start_time": "2022-04-07T10:33:12.175Z"
   },
   {
    "duration": 179,
    "start_time": "2022-04-07T10:47:01.637Z"
   },
   {
    "duration": 3170,
    "start_time": "2022-04-07T10:48:55.987Z"
   },
   {
    "duration": 3219,
    "start_time": "2022-04-07T10:49:09.259Z"
   },
   {
    "duration": 189,
    "start_time": "2022-04-07T10:51:16.577Z"
   },
   {
    "duration": 187,
    "start_time": "2022-04-07T10:53:27.276Z"
   },
   {
    "duration": 183,
    "start_time": "2022-04-07T10:54:30.333Z"
   },
   {
    "duration": 383,
    "start_time": "2022-04-07T10:54:52.021Z"
   },
   {
    "duration": 184,
    "start_time": "2022-04-07T10:58:05.406Z"
   },
   {
    "duration": 287,
    "start_time": "2022-04-07T11:00:00.903Z"
   },
   {
    "duration": 343,
    "start_time": "2022-04-07T11:00:16.022Z"
   },
   {
    "duration": 360,
    "start_time": "2022-04-07T11:01:21.955Z"
   },
   {
    "duration": 373,
    "start_time": "2022-04-07T11:01:45.139Z"
   },
   {
    "duration": 320,
    "start_time": "2022-04-07T11:02:26.418Z"
   },
   {
    "duration": 345,
    "start_time": "2022-04-07T11:03:10.759Z"
   },
   {
    "duration": 194,
    "start_time": "2022-04-07T11:03:31.736Z"
   },
   {
    "duration": 192,
    "start_time": "2022-04-07T11:04:01.929Z"
   },
   {
    "duration": 374,
    "start_time": "2022-04-07T11:04:13.225Z"
   },
   {
    "duration": 296,
    "start_time": "2022-04-07T11:04:27.390Z"
   },
   {
    "duration": 333,
    "start_time": "2022-04-07T11:04:37.207Z"
   },
   {
    "duration": 145,
    "start_time": "2022-04-07T11:04:43.056Z"
   },
   {
    "duration": 368,
    "start_time": "2022-04-07T11:06:35.462Z"
   },
   {
    "duration": 435,
    "start_time": "2022-04-07T11:06:43.893Z"
   },
   {
    "duration": 202,
    "start_time": "2022-04-07T11:06:56.165Z"
   },
   {
    "duration": 388,
    "start_time": "2022-04-07T11:08:01.245Z"
   },
   {
    "duration": 397,
    "start_time": "2022-04-07T11:08:17.029Z"
   },
   {
    "duration": 354,
    "start_time": "2022-04-07T11:08:25.333Z"
   },
   {
    "duration": 314,
    "start_time": "2022-04-07T11:08:38.688Z"
   },
   {
    "duration": 357,
    "start_time": "2022-04-07T11:08:46.738Z"
   },
   {
    "duration": 346,
    "start_time": "2022-04-07T11:08:52.627Z"
   },
   {
    "duration": 314,
    "start_time": "2022-04-07T11:09:01.475Z"
   },
   {
    "duration": 296,
    "start_time": "2022-04-07T11:09:11.190Z"
   },
   {
    "duration": 378,
    "start_time": "2022-04-07T11:09:26.913Z"
   },
   {
    "duration": 1082,
    "start_time": "2022-04-07T12:59:55.625Z"
   },
   {
    "duration": 373,
    "start_time": "2022-04-07T12:59:56.709Z"
   },
   {
    "duration": 13,
    "start_time": "2022-04-07T12:59:57.084Z"
   },
   {
    "duration": 26,
    "start_time": "2022-04-07T12:59:57.099Z"
   },
   {
    "duration": 24,
    "start_time": "2022-04-07T12:59:57.127Z"
   },
   {
    "duration": 30,
    "start_time": "2022-04-07T12:59:57.153Z"
   },
   {
    "duration": 9,
    "start_time": "2022-04-07T12:59:57.185Z"
   },
   {
    "duration": 3,
    "start_time": "2022-04-07T12:59:57.195Z"
   },
   {
    "duration": 83,
    "start_time": "2022-04-07T12:59:57.199Z"
   },
   {
    "duration": 14,
    "start_time": "2022-04-07T12:59:57.284Z"
   },
   {
    "duration": 45,
    "start_time": "2022-04-07T12:59:57.299Z"
   },
   {
    "duration": 7,
    "start_time": "2022-04-07T12:59:57.345Z"
   },
   {
    "duration": 69,
    "start_time": "2022-04-07T12:59:57.353Z"
   },
   {
    "duration": 9,
    "start_time": "2022-04-07T12:59:57.423Z"
   },
   {
    "duration": 9,
    "start_time": "2022-04-07T12:59:57.433Z"
   },
   {
    "duration": 10,
    "start_time": "2022-04-07T12:59:57.443Z"
   },
   {
    "duration": 32,
    "start_time": "2022-04-07T12:59:57.454Z"
   },
   {
    "duration": 10,
    "start_time": "2022-04-07T12:59:57.487Z"
   },
   {
    "duration": 10,
    "start_time": "2022-04-07T12:59:57.499Z"
   },
   {
    "duration": 10,
    "start_time": "2022-04-07T12:59:57.511Z"
   },
   {
    "duration": 6,
    "start_time": "2022-04-07T12:59:57.522Z"
   },
   {
    "duration": 6,
    "start_time": "2022-04-07T12:59:57.529Z"
   },
   {
    "duration": 12,
    "start_time": "2022-04-07T12:59:57.537Z"
   },
   {
    "duration": 32,
    "start_time": "2022-04-07T12:59:57.550Z"
   },
   {
    "duration": 6,
    "start_time": "2022-04-07T12:59:57.583Z"
   },
   {
    "duration": 8,
    "start_time": "2022-04-07T12:59:57.590Z"
   },
   {
    "duration": 105,
    "start_time": "2022-04-07T12:59:57.600Z"
   },
   {
    "duration": 4,
    "start_time": "2022-04-07T12:59:57.709Z"
   },
   {
    "duration": 101,
    "start_time": "2022-04-07T12:59:57.714Z"
   },
   {
    "duration": 5,
    "start_time": "2022-04-07T12:59:57.816Z"
   },
   {
    "duration": 6,
    "start_time": "2022-04-07T12:59:57.823Z"
   },
   {
    "duration": 17,
    "start_time": "2022-04-07T12:59:57.831Z"
   },
   {
    "duration": 41,
    "start_time": "2022-04-07T12:59:57.850Z"
   },
   {
    "duration": 13,
    "start_time": "2022-04-07T12:59:57.893Z"
   },
   {
    "duration": 335,
    "start_time": "2022-04-07T12:59:57.908Z"
   },
   {
    "duration": 318,
    "start_time": "2022-04-07T12:59:58.245Z"
   },
   {
    "duration": 152,
    "start_time": "2022-04-07T12:59:58.565Z"
   },
   {
    "duration": 8,
    "start_time": "2022-04-07T12:59:58.718Z"
   },
   {
    "duration": 16,
    "start_time": "2022-04-07T12:59:58.727Z"
   },
   {
    "duration": 7,
    "start_time": "2022-04-07T12:59:58.745Z"
   },
   {
    "duration": 8,
    "start_time": "2022-04-07T12:59:58.754Z"
   },
   {
    "duration": 21,
    "start_time": "2022-04-07T12:59:58.764Z"
   },
   {
    "duration": 8,
    "start_time": "2022-04-07T12:59:58.787Z"
   },
   {
    "duration": 6,
    "start_time": "2022-04-07T12:59:58.796Z"
   },
   {
    "duration": 7,
    "start_time": "2022-04-07T12:59:58.803Z"
   },
   {
    "duration": 9,
    "start_time": "2022-04-07T12:59:58.811Z"
   },
   {
    "duration": 7,
    "start_time": "2022-04-07T12:59:58.821Z"
   },
   {
    "duration": 8,
    "start_time": "2022-04-07T12:59:58.829Z"
   },
   {
    "duration": 238,
    "start_time": "2022-04-07T13:02:42.032Z"
   },
   {
    "duration": 281,
    "start_time": "2022-04-07T13:02:49.478Z"
   },
   {
    "duration": 268,
    "start_time": "2022-04-07T13:08:10.187Z"
   },
   {
    "duration": 292,
    "start_time": "2022-04-07T13:09:10.538Z"
   },
   {
    "duration": 160,
    "start_time": "2022-04-07T13:10:14.225Z"
   },
   {
    "duration": 342,
    "start_time": "2022-04-07T13:13:29.839Z"
   },
   {
    "duration": 354,
    "start_time": "2022-04-07T13:13:49.892Z"
   },
   {
    "duration": 297,
    "start_time": "2022-04-07T13:14:12.610Z"
   },
   {
    "duration": 3080,
    "start_time": "2022-04-07T13:19:05.309Z"
   },
   {
    "duration": 3147,
    "start_time": "2022-04-07T13:19:21.774Z"
   },
   {
    "duration": 9,
    "start_time": "2022-04-07T13:20:10.245Z"
   },
   {
    "duration": 6,
    "start_time": "2022-04-07T13:20:20.372Z"
   },
   {
    "duration": 13,
    "start_time": "2022-04-07T13:20:41.660Z"
   },
   {
    "duration": 1140,
    "start_time": "2022-04-07T13:23:15.460Z"
   },
   {
    "duration": 382,
    "start_time": "2022-04-07T13:23:16.601Z"
   },
   {
    "duration": 15,
    "start_time": "2022-04-07T13:23:16.985Z"
   },
   {
    "duration": 24,
    "start_time": "2022-04-07T13:23:17.001Z"
   },
   {
    "duration": 25,
    "start_time": "2022-04-07T13:23:17.026Z"
   },
   {
    "duration": 35,
    "start_time": "2022-04-07T13:23:17.052Z"
   },
   {
    "duration": 9,
    "start_time": "2022-04-07T13:23:17.089Z"
   },
   {
    "duration": 6,
    "start_time": "2022-04-07T13:23:17.100Z"
   },
   {
    "duration": 83,
    "start_time": "2022-04-07T13:23:17.107Z"
   },
   {
    "duration": 14,
    "start_time": "2022-04-07T13:23:17.192Z"
   },
   {
    "duration": 49,
    "start_time": "2022-04-07T13:23:17.207Z"
   },
   {
    "duration": 24,
    "start_time": "2022-04-07T13:23:17.257Z"
   },
   {
    "duration": 16,
    "start_time": "2022-04-07T13:23:17.282Z"
   },
   {
    "duration": 48,
    "start_time": "2022-04-07T13:23:17.300Z"
   },
   {
    "duration": 9,
    "start_time": "2022-04-07T13:23:17.350Z"
   },
   {
    "duration": 7,
    "start_time": "2022-04-07T13:23:17.381Z"
   },
   {
    "duration": 11,
    "start_time": "2022-04-07T13:23:17.390Z"
   },
   {
    "duration": 9,
    "start_time": "2022-04-07T13:23:17.403Z"
   },
   {
    "duration": 11,
    "start_time": "2022-04-07T13:23:17.413Z"
   },
   {
    "duration": 9,
    "start_time": "2022-04-07T13:23:17.425Z"
   },
   {
    "duration": 10,
    "start_time": "2022-04-07T13:23:17.436Z"
   },
   {
    "duration": 6,
    "start_time": "2022-04-07T13:23:17.481Z"
   },
   {
    "duration": 5,
    "start_time": "2022-04-07T13:23:17.489Z"
   },
   {
    "duration": 12,
    "start_time": "2022-04-07T13:23:17.495Z"
   },
   {
    "duration": 11,
    "start_time": "2022-04-07T13:23:17.508Z"
   },
   {
    "duration": 3,
    "start_time": "2022-04-07T13:23:17.520Z"
   },
   {
    "duration": 5,
    "start_time": "2022-04-07T13:23:17.524Z"
   },
   {
    "duration": 117,
    "start_time": "2022-04-07T13:23:17.532Z"
   },
   {
    "duration": 4,
    "start_time": "2022-04-07T13:23:17.651Z"
   },
   {
    "duration": 109,
    "start_time": "2022-04-07T13:23:17.657Z"
   },
   {
    "duration": 4,
    "start_time": "2022-04-07T13:23:17.768Z"
   },
   {
    "duration": 4,
    "start_time": "2022-04-07T13:23:17.781Z"
   },
   {
    "duration": 18,
    "start_time": "2022-04-07T13:23:17.786Z"
   },
   {
    "duration": 15,
    "start_time": "2022-04-07T13:23:17.806Z"
   },
   {
    "duration": 12,
    "start_time": "2022-04-07T13:23:17.822Z"
   },
   {
    "duration": 360,
    "start_time": "2022-04-07T13:23:17.836Z"
   },
   {
    "duration": 251,
    "start_time": "2022-04-07T13:23:18.198Z"
   },
   {
    "duration": 300,
    "start_time": "2022-04-07T13:23:18.451Z"
   },
   {
    "duration": 293,
    "start_time": "2022-04-07T13:23:18.752Z"
   },
   {
    "duration": 6,
    "start_time": "2022-04-07T13:23:19.047Z"
   },
   {
    "duration": 10,
    "start_time": "2022-04-07T13:23:19.055Z"
   },
   {
    "duration": 7,
    "start_time": "2022-04-07T13:23:19.080Z"
   },
   {
    "duration": 7,
    "start_time": "2022-04-07T13:23:19.088Z"
   },
   {
    "duration": 7,
    "start_time": "2022-04-07T13:23:19.096Z"
   },
   {
    "duration": 7,
    "start_time": "2022-04-07T13:23:19.105Z"
   },
   {
    "duration": 5,
    "start_time": "2022-04-07T13:23:19.114Z"
   },
   {
    "duration": 5,
    "start_time": "2022-04-07T13:23:19.120Z"
   },
   {
    "duration": 10,
    "start_time": "2022-04-07T13:23:19.126Z"
   },
   {
    "duration": 6,
    "start_time": "2022-04-07T13:23:19.137Z"
   },
   {
    "duration": 5,
    "start_time": "2022-04-07T13:23:19.181Z"
   },
   {
    "duration": 292,
    "start_time": "2022-04-07T13:24:16.547Z"
   },
   {
    "duration": 261,
    "start_time": "2022-04-07T13:36:56.888Z"
   },
   {
    "duration": 285,
    "start_time": "2022-04-07T13:37:04.760Z"
   },
   {
    "duration": 369,
    "start_time": "2022-04-07T13:38:47.070Z"
   },
   {
    "duration": 491,
    "start_time": "2022-04-07T13:39:05.166Z"
   },
   {
    "duration": 416,
    "start_time": "2022-04-07T13:39:12.741Z"
   },
   {
    "duration": 461,
    "start_time": "2022-04-07T13:39:19.807Z"
   },
   {
    "duration": 529,
    "start_time": "2022-04-07T13:39:30.797Z"
   },
   {
    "duration": 359,
    "start_time": "2022-04-07T13:39:53.125Z"
   },
   {
    "duration": 50,
    "start_time": "2022-04-07T13:41:13.107Z"
   },
   {
    "duration": 1663,
    "start_time": "2022-04-07T16:35:28.847Z"
   },
   {
    "duration": 475,
    "start_time": "2022-04-07T16:35:30.513Z"
   },
   {
    "duration": 25,
    "start_time": "2022-04-07T16:35:30.990Z"
   },
   {
    "duration": 53,
    "start_time": "2022-04-07T16:35:31.018Z"
   },
   {
    "duration": 36,
    "start_time": "2022-04-07T16:35:31.074Z"
   },
   {
    "duration": 27,
    "start_time": "2022-04-07T16:35:31.112Z"
   },
   {
    "duration": 15,
    "start_time": "2022-04-07T16:35:31.168Z"
   },
   {
    "duration": 7,
    "start_time": "2022-04-07T16:35:31.186Z"
   },
   {
    "duration": 121,
    "start_time": "2022-04-07T16:35:31.195Z"
   },
   {
    "duration": 20,
    "start_time": "2022-04-07T16:35:31.320Z"
   },
   {
    "duration": 80,
    "start_time": "2022-04-07T16:35:31.342Z"
   },
   {
    "duration": 11,
    "start_time": "2022-04-07T16:35:31.424Z"
   },
   {
    "duration": 39,
    "start_time": "2022-04-07T16:35:31.437Z"
   },
   {
    "duration": 66,
    "start_time": "2022-04-07T16:35:31.479Z"
   },
   {
    "duration": 31,
    "start_time": "2022-04-07T16:35:31.548Z"
   },
   {
    "duration": 15,
    "start_time": "2022-04-07T16:35:31.581Z"
   },
   {
    "duration": 16,
    "start_time": "2022-04-07T16:35:31.598Z"
   },
   {
    "duration": 19,
    "start_time": "2022-04-07T16:35:31.616Z"
   },
   {
    "duration": 42,
    "start_time": "2022-04-07T16:35:31.638Z"
   },
   {
    "duration": 21,
    "start_time": "2022-04-07T16:35:31.682Z"
   },
   {
    "duration": 18,
    "start_time": "2022-04-07T16:35:31.705Z"
   },
   {
    "duration": 14,
    "start_time": "2022-04-07T16:35:31.725Z"
   },
   {
    "duration": 6,
    "start_time": "2022-04-07T16:35:31.767Z"
   },
   {
    "duration": 14,
    "start_time": "2022-04-07T16:35:31.775Z"
   },
   {
    "duration": 18,
    "start_time": "2022-04-07T16:35:31.792Z"
   },
   {
    "duration": 6,
    "start_time": "2022-04-07T16:35:31.812Z"
   },
   {
    "duration": 5,
    "start_time": "2022-04-07T16:35:31.820Z"
   },
   {
    "duration": 197,
    "start_time": "2022-04-07T16:35:31.830Z"
   },
   {
    "duration": 5,
    "start_time": "2022-04-07T16:35:32.030Z"
   },
   {
    "duration": 194,
    "start_time": "2022-04-07T16:35:32.037Z"
   },
   {
    "duration": 6,
    "start_time": "2022-04-07T16:35:32.233Z"
   },
   {
    "duration": 25,
    "start_time": "2022-04-07T16:35:32.242Z"
   },
   {
    "duration": 32,
    "start_time": "2022-04-07T16:35:32.269Z"
   },
   {
    "duration": 28,
    "start_time": "2022-04-07T16:35:32.304Z"
   },
   {
    "duration": 47,
    "start_time": "2022-04-07T16:35:32.335Z"
   },
   {
    "duration": 549,
    "start_time": "2022-04-07T16:35:32.384Z"
   },
   {
    "duration": 398,
    "start_time": "2022-04-07T16:35:32.935Z"
   },
   {
    "duration": 418,
    "start_time": "2022-04-07T16:35:33.336Z"
   },
   {
    "duration": 559,
    "start_time": "2022-04-07T16:35:33.758Z"
   },
   {
    "duration": 104,
    "start_time": "2022-04-07T16:35:34.320Z"
   },
   {
    "duration": 11,
    "start_time": "2022-04-07T16:35:34.427Z"
   },
   {
    "duration": 30,
    "start_time": "2022-04-07T16:35:34.441Z"
   },
   {
    "duration": 11,
    "start_time": "2022-04-07T16:35:34.473Z"
   },
   {
    "duration": 11,
    "start_time": "2022-04-07T16:35:34.486Z"
   },
   {
    "duration": 18,
    "start_time": "2022-04-07T16:35:34.499Z"
   },
   {
    "duration": 56,
    "start_time": "2022-04-07T16:35:34.520Z"
   },
   {
    "duration": 104,
    "start_time": "2022-04-07T16:35:34.579Z"
   },
   {
    "duration": 8,
    "start_time": "2022-04-07T16:35:34.686Z"
   },
   {
    "duration": 10,
    "start_time": "2022-04-07T16:35:34.696Z"
   },
   {
    "duration": 12,
    "start_time": "2022-04-07T16:35:34.707Z"
   },
   {
    "duration": 9,
    "start_time": "2022-04-07T16:35:34.721Z"
   },
   {
    "duration": 41,
    "start_time": "2022-04-07T16:35:34.732Z"
   },
   {
    "duration": 83,
    "start_time": "2022-04-07T16:37:07.958Z"
   },
   {
    "duration": 84,
    "start_time": "2022-04-07T16:37:41.219Z"
   },
   {
    "duration": 14,
    "start_time": "2022-04-07T16:38:24.479Z"
   },
   {
    "duration": 16,
    "start_time": "2022-04-07T16:39:26.842Z"
   },
   {
    "duration": 14,
    "start_time": "2022-04-07T16:41:03.509Z"
   },
   {
    "duration": 14,
    "start_time": "2022-04-07T16:41:06.283Z"
   },
   {
    "duration": 14,
    "start_time": "2022-04-07T16:42:20.616Z"
   },
   {
    "duration": 13,
    "start_time": "2022-04-07T16:42:37.013Z"
   },
   {
    "duration": 1403,
    "start_time": "2022-04-07T16:55:08.601Z"
   },
   {
    "duration": 471,
    "start_time": "2022-04-07T16:55:10.007Z"
   },
   {
    "duration": 26,
    "start_time": "2022-04-07T16:55:10.480Z"
   },
   {
    "duration": 33,
    "start_time": "2022-04-07T16:55:10.510Z"
   },
   {
    "duration": 42,
    "start_time": "2022-04-07T16:55:10.567Z"
   },
   {
    "duration": 59,
    "start_time": "2022-04-07T16:55:10.611Z"
   },
   {
    "duration": 17,
    "start_time": "2022-04-07T16:55:10.673Z"
   },
   {
    "duration": 6,
    "start_time": "2022-04-07T16:55:10.692Z"
   },
   {
    "duration": 139,
    "start_time": "2022-04-07T16:55:10.701Z"
   },
   {
    "duration": 28,
    "start_time": "2022-04-07T16:55:10.844Z"
   },
   {
    "duration": 69,
    "start_time": "2022-04-07T16:55:10.875Z"
   },
   {
    "duration": 29,
    "start_time": "2022-04-07T16:55:10.947Z"
   },
   {
    "duration": 26,
    "start_time": "2022-04-07T16:55:10.978Z"
   },
   {
    "duration": 103,
    "start_time": "2022-04-07T16:55:11.007Z"
   },
   {
    "duration": 17,
    "start_time": "2022-04-07T16:55:11.112Z"
   },
   {
    "duration": 35,
    "start_time": "2022-04-07T16:55:11.132Z"
   },
   {
    "duration": 19,
    "start_time": "2022-04-07T16:55:11.169Z"
   },
   {
    "duration": 19,
    "start_time": "2022-04-07T16:55:11.190Z"
   },
   {
    "duration": 17,
    "start_time": "2022-04-07T16:55:11.211Z"
   },
   {
    "duration": 44,
    "start_time": "2022-04-07T16:55:11.230Z"
   },
   {
    "duration": 17,
    "start_time": "2022-04-07T16:55:11.276Z"
   },
   {
    "duration": 10,
    "start_time": "2022-04-07T16:55:11.295Z"
   },
   {
    "duration": 17,
    "start_time": "2022-04-07T16:55:11.308Z"
   },
   {
    "duration": 13,
    "start_time": "2022-04-07T16:55:11.327Z"
   },
   {
    "duration": 47,
    "start_time": "2022-04-07T16:55:11.342Z"
   },
   {
    "duration": 6,
    "start_time": "2022-04-07T16:55:11.391Z"
   },
   {
    "duration": 18,
    "start_time": "2022-04-07T16:55:11.399Z"
   },
   {
    "duration": 187,
    "start_time": "2022-04-07T16:55:11.423Z"
   },
   {
    "duration": 5,
    "start_time": "2022-04-07T16:55:11.612Z"
   },
   {
    "duration": 185,
    "start_time": "2022-04-07T16:55:11.619Z"
   },
   {
    "duration": 7,
    "start_time": "2022-04-07T16:55:11.806Z"
   },
   {
    "duration": 7,
    "start_time": "2022-04-07T16:55:11.815Z"
   },
   {
    "duration": 61,
    "start_time": "2022-04-07T16:55:11.824Z"
   },
   {
    "duration": 27,
    "start_time": "2022-04-07T16:55:11.887Z"
   },
   {
    "duration": 20,
    "start_time": "2022-04-07T16:55:11.916Z"
   },
   {
    "duration": 502,
    "start_time": "2022-04-07T16:55:11.968Z"
   },
   {
    "duration": 379,
    "start_time": "2022-04-07T16:55:12.473Z"
   },
   {
    "duration": 421,
    "start_time": "2022-04-07T16:55:12.854Z"
   },
   {
    "duration": 539,
    "start_time": "2022-04-07T16:55:13.277Z"
   },
   {
    "duration": 102,
    "start_time": "2022-04-07T16:55:13.818Z"
   },
   {
    "duration": 94,
    "start_time": "2022-04-07T16:55:13.922Z"
   },
   {
    "duration": 14,
    "start_time": "2022-04-07T16:55:14.018Z"
   },
   {
    "duration": 37,
    "start_time": "2022-04-07T16:55:14.034Z"
   },
   {
    "duration": 13,
    "start_time": "2022-04-07T16:55:14.073Z"
   },
   {
    "duration": 12,
    "start_time": "2022-04-07T16:55:14.088Z"
   },
   {
    "duration": 106,
    "start_time": "2022-04-07T16:55:14.102Z"
   },
   {
    "duration": 8,
    "start_time": "2022-04-07T16:55:14.210Z"
   },
   {
    "duration": 9,
    "start_time": "2022-04-07T16:55:14.220Z"
   },
   {
    "duration": 37,
    "start_time": "2022-04-07T16:55:14.231Z"
   },
   {
    "duration": 8,
    "start_time": "2022-04-07T16:55:14.270Z"
   },
   {
    "duration": 10,
    "start_time": "2022-04-07T16:55:14.280Z"
   },
   {
    "duration": 1405,
    "start_time": "2022-04-07T16:57:35.215Z"
   },
   {
    "duration": 448,
    "start_time": "2022-04-07T16:57:36.622Z"
   },
   {
    "duration": 23,
    "start_time": "2022-04-07T16:57:37.072Z"
   },
   {
    "duration": 42,
    "start_time": "2022-04-07T16:57:37.099Z"
   },
   {
    "duration": 54,
    "start_time": "2022-04-07T16:57:37.143Z"
   },
   {
    "duration": 28,
    "start_time": "2022-04-07T16:57:37.200Z"
   },
   {
    "duration": 41,
    "start_time": "2022-04-07T16:57:37.230Z"
   },
   {
    "duration": 6,
    "start_time": "2022-04-07T16:57:37.273Z"
   },
   {
    "duration": 125,
    "start_time": "2022-04-07T16:57:37.281Z"
   },
   {
    "duration": 21,
    "start_time": "2022-04-07T16:57:37.410Z"
   },
   {
    "duration": 83,
    "start_time": "2022-04-07T16:57:37.433Z"
   },
   {
    "duration": 13,
    "start_time": "2022-04-07T16:57:37.518Z"
   },
   {
    "duration": 44,
    "start_time": "2022-04-07T16:57:37.533Z"
   },
   {
    "duration": 69,
    "start_time": "2022-04-07T16:57:37.579Z"
   },
   {
    "duration": 30,
    "start_time": "2022-04-07T16:57:37.650Z"
   },
   {
    "duration": 16,
    "start_time": "2022-04-07T16:57:37.682Z"
   },
   {
    "duration": 18,
    "start_time": "2022-04-07T16:57:37.700Z"
   },
   {
    "duration": 20,
    "start_time": "2022-04-07T16:57:37.720Z"
   },
   {
    "duration": 18,
    "start_time": "2022-04-07T16:57:37.767Z"
   },
   {
    "duration": 17,
    "start_time": "2022-04-07T16:57:37.787Z"
   },
   {
    "duration": 17,
    "start_time": "2022-04-07T16:57:37.806Z"
   },
   {
    "duration": 44,
    "start_time": "2022-04-07T16:57:37.824Z"
   },
   {
    "duration": 6,
    "start_time": "2022-04-07T16:57:37.870Z"
   },
   {
    "duration": 11,
    "start_time": "2022-04-07T16:57:37.878Z"
   },
   {
    "duration": 19,
    "start_time": "2022-04-07T16:57:37.891Z"
   },
   {
    "duration": 7,
    "start_time": "2022-04-07T16:57:37.912Z"
   },
   {
    "duration": 6,
    "start_time": "2022-04-07T16:57:37.921Z"
   },
   {
    "duration": 171,
    "start_time": "2022-04-07T16:57:37.971Z"
   },
   {
    "duration": 6,
    "start_time": "2022-04-07T16:57:38.144Z"
   },
   {
    "duration": 177,
    "start_time": "2022-04-07T16:57:38.167Z"
   },
   {
    "duration": 5,
    "start_time": "2022-04-07T16:57:38.347Z"
   },
   {
    "duration": 5,
    "start_time": "2022-04-07T16:57:38.367Z"
   },
   {
    "duration": 30,
    "start_time": "2022-04-07T16:57:38.374Z"
   },
   {
    "duration": 25,
    "start_time": "2022-04-07T16:57:38.407Z"
   },
   {
    "duration": 45,
    "start_time": "2022-04-07T16:57:38.434Z"
   },
   {
    "duration": 489,
    "start_time": "2022-04-07T16:57:38.481Z"
   },
   {
    "duration": 374,
    "start_time": "2022-04-07T16:57:38.972Z"
   },
   {
    "duration": 422,
    "start_time": "2022-04-07T16:57:39.348Z"
   },
   {
    "duration": 565,
    "start_time": "2022-04-07T16:57:39.773Z"
   },
   {
    "duration": 94,
    "start_time": "2022-04-07T16:57:40.340Z"
   },
   {
    "duration": 102,
    "start_time": "2022-04-07T16:57:40.436Z"
   },
   {
    "duration": 14,
    "start_time": "2022-04-07T16:57:40.540Z"
   },
   {
    "duration": 13,
    "start_time": "2022-04-07T16:57:40.568Z"
   },
   {
    "duration": 12,
    "start_time": "2022-04-07T16:57:40.584Z"
   },
   {
    "duration": 13,
    "start_time": "2022-04-07T16:57:40.597Z"
   },
   {
    "duration": 8,
    "start_time": "2022-04-07T16:57:40.612Z"
   },
   {
    "duration": 46,
    "start_time": "2022-04-07T16:57:40.622Z"
   },
   {
    "duration": 8,
    "start_time": "2022-04-07T16:57:40.670Z"
   },
   {
    "duration": 9,
    "start_time": "2022-04-07T16:57:40.681Z"
   },
   {
    "duration": 7,
    "start_time": "2022-04-07T16:57:40.692Z"
   },
   {
    "duration": 1294,
    "start_time": "2022-04-07T17:34:49.752Z"
   },
   {
    "duration": 314,
    "start_time": "2022-04-07T17:34:51.048Z"
   },
   {
    "duration": 15,
    "start_time": "2022-04-07T17:34:51.363Z"
   },
   {
    "duration": 23,
    "start_time": "2022-04-07T17:34:51.380Z"
   },
   {
    "duration": 32,
    "start_time": "2022-04-07T17:34:51.404Z"
   },
   {
    "duration": 17,
    "start_time": "2022-04-07T17:34:51.438Z"
   },
   {
    "duration": 9,
    "start_time": "2022-04-07T17:34:51.456Z"
   },
   {
    "duration": 22,
    "start_time": "2022-04-07T17:34:51.467Z"
   },
   {
    "duration": 67,
    "start_time": "2022-04-07T17:34:51.490Z"
   },
   {
    "duration": 12,
    "start_time": "2022-04-07T17:34:51.560Z"
   },
   {
    "duration": 58,
    "start_time": "2022-04-07T17:34:51.574Z"
   },
   {
    "duration": 7,
    "start_time": "2022-04-07T17:34:51.634Z"
   },
   {
    "duration": 17,
    "start_time": "2022-04-07T17:34:51.642Z"
   },
   {
    "duration": 44,
    "start_time": "2022-04-07T17:34:51.660Z"
   },
   {
    "duration": 31,
    "start_time": "2022-04-07T17:34:51.705Z"
   },
   {
    "duration": 9,
    "start_time": "2022-04-07T17:34:51.738Z"
   },
   {
    "duration": 12,
    "start_time": "2022-04-07T17:34:51.748Z"
   },
   {
    "duration": 9,
    "start_time": "2022-04-07T17:34:51.761Z"
   },
   {
    "duration": 11,
    "start_time": "2022-04-07T17:34:51.771Z"
   },
   {
    "duration": 10,
    "start_time": "2022-04-07T17:34:51.783Z"
   },
   {
    "duration": 43,
    "start_time": "2022-04-07T17:34:51.794Z"
   },
   {
    "duration": 7,
    "start_time": "2022-04-07T17:34:51.839Z"
   },
   {
    "duration": 16,
    "start_time": "2022-04-07T17:34:51.847Z"
   },
   {
    "duration": 10,
    "start_time": "2022-04-07T17:34:51.864Z"
   },
   {
    "duration": 12,
    "start_time": "2022-04-07T17:34:51.876Z"
   },
   {
    "duration": 4,
    "start_time": "2022-04-07T17:34:51.890Z"
   },
   {
    "duration": 5,
    "start_time": "2022-04-07T17:34:51.896Z"
   },
   {
    "duration": 111,
    "start_time": "2022-04-07T17:34:51.904Z"
   },
   {
    "duration": 3,
    "start_time": "2022-04-07T17:34:52.017Z"
   },
   {
    "duration": 98,
    "start_time": "2022-04-07T17:34:52.022Z"
   },
   {
    "duration": 8,
    "start_time": "2022-04-07T17:34:52.122Z"
   },
   {
    "duration": 6,
    "start_time": "2022-04-07T17:34:52.131Z"
   },
   {
    "duration": 18,
    "start_time": "2022-04-07T17:34:52.138Z"
   },
   {
    "duration": 14,
    "start_time": "2022-04-07T17:34:52.157Z"
   },
   {
    "duration": 11,
    "start_time": "2022-04-07T17:34:52.173Z"
   },
   {
    "duration": 392,
    "start_time": "2022-04-07T17:34:52.185Z"
   },
   {
    "duration": 288,
    "start_time": "2022-04-07T17:34:52.579Z"
   },
   {
    "duration": 276,
    "start_time": "2022-04-07T17:34:52.869Z"
   },
   {
    "duration": 326,
    "start_time": "2022-04-07T17:34:53.147Z"
   },
   {
    "duration": 61,
    "start_time": "2022-04-07T17:34:53.475Z"
   },
   {
    "duration": 50,
    "start_time": "2022-04-07T17:34:53.538Z"
   },
   {
    "duration": 8,
    "start_time": "2022-04-07T17:34:53.589Z"
   },
   {
    "duration": 8,
    "start_time": "2022-04-07T17:34:53.598Z"
   },
   {
    "duration": 8,
    "start_time": "2022-04-07T17:34:53.629Z"
   },
   {
    "duration": 8,
    "start_time": "2022-04-07T17:34:53.638Z"
   },
   {
    "duration": 4,
    "start_time": "2022-04-07T17:34:53.648Z"
   },
   {
    "duration": 6,
    "start_time": "2022-04-07T17:34:53.654Z"
   },
   {
    "duration": 7,
    "start_time": "2022-04-07T17:34:53.661Z"
   },
   {
    "duration": 11,
    "start_time": "2022-04-07T17:34:53.670Z"
   },
   {
    "duration": 5,
    "start_time": "2022-04-07T17:34:53.682Z"
   },
   {
    "duration": 5,
    "start_time": "2022-04-07T17:37:11.773Z"
   },
   {
    "duration": 5,
    "start_time": "2022-04-07T17:37:15.174Z"
   },
   {
    "duration": 87,
    "start_time": "2022-04-07T17:37:36.445Z"
   },
   {
    "duration": 5,
    "start_time": "2022-04-07T17:37:43.462Z"
   }
  ],
  "kernelspec": {
   "display_name": "Python 3 (ipykernel)",
   "language": "python",
   "name": "python3"
  },
  "language_info": {
   "codemirror_mode": {
    "name": "ipython",
    "version": 3
   },
   "file_extension": ".py",
   "mimetype": "text/x-python",
   "name": "python",
   "nbconvert_exporter": "python",
   "pygments_lexer": "ipython3",
   "version": "3.9.7"
  },
  "toc": {
   "base_numbering": 1,
   "nav_menu": {},
   "number_sections": true,
   "sideBar": true,
   "skip_h1_title": true,
   "title_cell": "Table of Contents",
   "title_sidebar": "Contents",
   "toc_cell": false,
   "toc_position": {
    "height": "calc(100% - 180px)",
    "left": "10px",
    "top": "150px",
    "width": "334.188px"
   },
   "toc_section_display": true,
   "toc_window_display": true
  }
 },
 "nbformat": 4,
 "nbformat_minor": 5
}
