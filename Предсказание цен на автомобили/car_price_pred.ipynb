{
 "cells": [
  {
   "cell_type": "markdown",
   "metadata": {},
   "source": [
    "# Определение стоимости автомобилей"
   ]
  },
  {
   "cell_type": "markdown",
   "metadata": {},
   "source": [
    "Сервис по продаже автомобилей с пробегом «Не бит, не крашен» разрабатывает приложение для привлечения новых клиентов. В нём можно быстро узнать рыночную стоимость своего автомобиля. В вашем распоряжении исторические данные: технические характеристики, комплектации и цены автомобилей. Вам нужно построить модель для определения стоимости. \n",
    "\n",
    "Заказчику важны:\n",
    "\n",
    "- качество предсказания;\n",
    "- скорость предсказания;\n",
    "- время обучения."
   ]
  },
  {
   "cell_type": "markdown",
   "metadata": {},
   "source": [
    "## Подготовка данных"
   ]
  },
  {
   "cell_type": "code",
   "execution_count": 1,
   "metadata": {},
   "outputs": [],
   "source": [
    "import pandas as pd\n",
    "import numpy as np\n",
    "from sklearn.linear_model import LinearRegression\n",
    "from sklearn.ensemble import RandomForestRegressor\n",
    "import lightgbm as lgbm\n",
    "from sklearn.model_selection import train_test_split\n",
    "from sklearn.model_selection import cross_val_score\n",
    "from sklearn.metrics import mean_squared_error\n",
    "from sklearn.preprocessing import LabelEncoder\n",
    "from sklearn.metrics import make_scorer\n",
    "from sklearn.model_selection import cross_validate\n",
    "from sklearn.dummy import DummyRegressor\n",
    "from sklearn.model_selection import GridSearchCV\n",
    "import warnings\n",
    "warnings.filterwarnings(\"ignore\")"
   ]
  },
  {
   "cell_type": "code",
   "execution_count": 2,
   "metadata": {},
   "outputs": [],
   "source": [
    "data = pd.read_csv('/datasets/autos.csv')"
   ]
  },
  {
   "cell_type": "code",
   "execution_count": 3,
   "metadata": {
    "scrolled": true
   },
   "outputs": [
    {
     "name": "stdout",
     "output_type": "stream",
     "text": [
      "DateCrawled          0.000000\n",
      "Price                0.000000\n",
      "VehicleType          0.105794\n",
      "RegistrationYear     0.000000\n",
      "Gearbox              0.055967\n",
      "Power                0.000000\n",
      "Model                0.055606\n",
      "Kilometer            0.000000\n",
      "RegistrationMonth    0.000000\n",
      "FuelType             0.092827\n",
      "Brand                0.000000\n",
      "NotRepaired          0.200791\n",
      "DateCreated          0.000000\n",
      "NumberOfPictures     0.000000\n",
      "PostalCode           0.000000\n",
      "LastSeen             0.000000\n",
      "dtype: float64\n",
      "                      Price  RegistrationYear     Power  Kilometer  \\\n",
      "Price              1.000000          0.026916  0.158872  -0.333199   \n",
      "RegistrationYear   0.026916          1.000000 -0.000828  -0.053447   \n",
      "Power              0.158872         -0.000828  1.000000   0.024002   \n",
      "Kilometer         -0.333199         -0.053447  0.024002   1.000000   \n",
      "RegistrationMonth  0.110581         -0.011619  0.043380   0.009571   \n",
      "NumberOfPictures        NaN               NaN       NaN        NaN   \n",
      "PostalCode         0.076055         -0.003459  0.021665  -0.007698   \n",
      "\n",
      "                   RegistrationMonth  NumberOfPictures  PostalCode  \n",
      "Price                       0.110581               NaN    0.076055  \n",
      "RegistrationYear           -0.011619               NaN   -0.003459  \n",
      "Power                       0.043380               NaN    0.021665  \n",
      "Kilometer                   0.009571               NaN   -0.007698  \n",
      "RegistrationMonth           1.000000               NaN    0.013995  \n",
      "NumberOfPictures                 NaN               NaN         NaN  \n",
      "PostalCode                  0.013995               NaN    1.000000  \n",
      "               Price  RegistrationYear          Power      Kilometer  \\\n",
      "count  354369.000000     354369.000000  354369.000000  354369.000000   \n",
      "mean     4416.656776       2004.234448     110.094337  128211.172535   \n",
      "std      4514.158514         90.227958     189.850405   37905.341530   \n",
      "min         0.000000       1000.000000       0.000000    5000.000000   \n",
      "25%      1050.000000       1999.000000      69.000000  125000.000000   \n",
      "50%      2700.000000       2003.000000     105.000000  150000.000000   \n",
      "75%      6400.000000       2008.000000     143.000000  150000.000000   \n",
      "max     20000.000000       9999.000000   20000.000000  150000.000000   \n",
      "\n",
      "       RegistrationMonth  NumberOfPictures     PostalCode  \n",
      "count      354369.000000          354369.0  354369.000000  \n",
      "mean            5.714645               0.0   50508.689087  \n",
      "std             3.726421               0.0   25783.096248  \n",
      "min             0.000000               0.0    1067.000000  \n",
      "25%             3.000000               0.0   30165.000000  \n",
      "50%             6.000000               0.0   49413.000000  \n",
      "75%             9.000000               0.0   71083.000000  \n",
      "max            12.000000               0.0   99998.000000  \n"
     ]
    }
   ],
   "source": [
    "print(data.isna().mean())\n",
    "print(data.corr())\n",
    "print(data.describe())"
   ]
  },
  {
   "cell_type": "code",
   "execution_count": 4,
   "metadata": {},
   "outputs": [
    {
     "data": {
      "text/html": [
       "<div>\n",
       "<style scoped>\n",
       "    .dataframe tbody tr th:only-of-type {\n",
       "        vertical-align: middle;\n",
       "    }\n",
       "\n",
       "    .dataframe tbody tr th {\n",
       "        vertical-align: top;\n",
       "    }\n",
       "\n",
       "    .dataframe thead th {\n",
       "        text-align: right;\n",
       "    }\n",
       "</style>\n",
       "<table border=\"1\" class=\"dataframe\">\n",
       "  <thead>\n",
       "    <tr style=\"text-align: right;\">\n",
       "      <th></th>\n",
       "      <th>DateCrawled</th>\n",
       "      <th>Price</th>\n",
       "      <th>VehicleType</th>\n",
       "      <th>RegistrationYear</th>\n",
       "      <th>Gearbox</th>\n",
       "      <th>Power</th>\n",
       "      <th>Model</th>\n",
       "      <th>Kilometer</th>\n",
       "      <th>RegistrationMonth</th>\n",
       "      <th>FuelType</th>\n",
       "      <th>Brand</th>\n",
       "      <th>NotRepaired</th>\n",
       "      <th>DateCreated</th>\n",
       "      <th>NumberOfPictures</th>\n",
       "      <th>PostalCode</th>\n",
       "      <th>LastSeen</th>\n",
       "    </tr>\n",
       "  </thead>\n",
       "  <tbody>\n",
       "    <tr>\n",
       "      <th>0</th>\n",
       "      <td>2016-03-24 11:52:17</td>\n",
       "      <td>480</td>\n",
       "      <td>NaN</td>\n",
       "      <td>1993</td>\n",
       "      <td>manual</td>\n",
       "      <td>0</td>\n",
       "      <td>golf</td>\n",
       "      <td>150000</td>\n",
       "      <td>0</td>\n",
       "      <td>petrol</td>\n",
       "      <td>volkswagen</td>\n",
       "      <td>NaN</td>\n",
       "      <td>2016-03-24 00:00:00</td>\n",
       "      <td>0</td>\n",
       "      <td>70435</td>\n",
       "      <td>2016-04-07 03:16:57</td>\n",
       "    </tr>\n",
       "    <tr>\n",
       "      <th>1</th>\n",
       "      <td>2016-03-24 10:58:45</td>\n",
       "      <td>18300</td>\n",
       "      <td>coupe</td>\n",
       "      <td>2011</td>\n",
       "      <td>manual</td>\n",
       "      <td>190</td>\n",
       "      <td>NaN</td>\n",
       "      <td>125000</td>\n",
       "      <td>5</td>\n",
       "      <td>gasoline</td>\n",
       "      <td>audi</td>\n",
       "      <td>yes</td>\n",
       "      <td>2016-03-24 00:00:00</td>\n",
       "      <td>0</td>\n",
       "      <td>66954</td>\n",
       "      <td>2016-04-07 01:46:50</td>\n",
       "    </tr>\n",
       "    <tr>\n",
       "      <th>2</th>\n",
       "      <td>2016-03-14 12:52:21</td>\n",
       "      <td>9800</td>\n",
       "      <td>suv</td>\n",
       "      <td>2004</td>\n",
       "      <td>auto</td>\n",
       "      <td>163</td>\n",
       "      <td>grand</td>\n",
       "      <td>125000</td>\n",
       "      <td>8</td>\n",
       "      <td>gasoline</td>\n",
       "      <td>jeep</td>\n",
       "      <td>NaN</td>\n",
       "      <td>2016-03-14 00:00:00</td>\n",
       "      <td>0</td>\n",
       "      <td>90480</td>\n",
       "      <td>2016-04-05 12:47:46</td>\n",
       "    </tr>\n",
       "    <tr>\n",
       "      <th>3</th>\n",
       "      <td>2016-03-17 16:54:04</td>\n",
       "      <td>1500</td>\n",
       "      <td>small</td>\n",
       "      <td>2001</td>\n",
       "      <td>manual</td>\n",
       "      <td>75</td>\n",
       "      <td>golf</td>\n",
       "      <td>150000</td>\n",
       "      <td>6</td>\n",
       "      <td>petrol</td>\n",
       "      <td>volkswagen</td>\n",
       "      <td>no</td>\n",
       "      <td>2016-03-17 00:00:00</td>\n",
       "      <td>0</td>\n",
       "      <td>91074</td>\n",
       "      <td>2016-03-17 17:40:17</td>\n",
       "    </tr>\n",
       "    <tr>\n",
       "      <th>4</th>\n",
       "      <td>2016-03-31 17:25:20</td>\n",
       "      <td>3600</td>\n",
       "      <td>small</td>\n",
       "      <td>2008</td>\n",
       "      <td>manual</td>\n",
       "      <td>69</td>\n",
       "      <td>fabia</td>\n",
       "      <td>90000</td>\n",
       "      <td>7</td>\n",
       "      <td>gasoline</td>\n",
       "      <td>skoda</td>\n",
       "      <td>no</td>\n",
       "      <td>2016-03-31 00:00:00</td>\n",
       "      <td>0</td>\n",
       "      <td>60437</td>\n",
       "      <td>2016-04-06 10:17:21</td>\n",
       "    </tr>\n",
       "    <tr>\n",
       "      <th>...</th>\n",
       "      <td>...</td>\n",
       "      <td>...</td>\n",
       "      <td>...</td>\n",
       "      <td>...</td>\n",
       "      <td>...</td>\n",
       "      <td>...</td>\n",
       "      <td>...</td>\n",
       "      <td>...</td>\n",
       "      <td>...</td>\n",
       "      <td>...</td>\n",
       "      <td>...</td>\n",
       "      <td>...</td>\n",
       "      <td>...</td>\n",
       "      <td>...</td>\n",
       "      <td>...</td>\n",
       "      <td>...</td>\n",
       "    </tr>\n",
       "    <tr>\n",
       "      <th>354364</th>\n",
       "      <td>2016-03-21 09:50:58</td>\n",
       "      <td>0</td>\n",
       "      <td>NaN</td>\n",
       "      <td>2005</td>\n",
       "      <td>manual</td>\n",
       "      <td>0</td>\n",
       "      <td>colt</td>\n",
       "      <td>150000</td>\n",
       "      <td>7</td>\n",
       "      <td>petrol</td>\n",
       "      <td>mitsubishi</td>\n",
       "      <td>yes</td>\n",
       "      <td>2016-03-21 00:00:00</td>\n",
       "      <td>0</td>\n",
       "      <td>2694</td>\n",
       "      <td>2016-03-21 10:42:49</td>\n",
       "    </tr>\n",
       "    <tr>\n",
       "      <th>354365</th>\n",
       "      <td>2016-03-14 17:48:27</td>\n",
       "      <td>2200</td>\n",
       "      <td>NaN</td>\n",
       "      <td>2005</td>\n",
       "      <td>NaN</td>\n",
       "      <td>0</td>\n",
       "      <td>NaN</td>\n",
       "      <td>20000</td>\n",
       "      <td>1</td>\n",
       "      <td>NaN</td>\n",
       "      <td>sonstige_autos</td>\n",
       "      <td>NaN</td>\n",
       "      <td>2016-03-14 00:00:00</td>\n",
       "      <td>0</td>\n",
       "      <td>39576</td>\n",
       "      <td>2016-04-06 00:46:52</td>\n",
       "    </tr>\n",
       "    <tr>\n",
       "      <th>354366</th>\n",
       "      <td>2016-03-05 19:56:21</td>\n",
       "      <td>1199</td>\n",
       "      <td>convertible</td>\n",
       "      <td>2000</td>\n",
       "      <td>auto</td>\n",
       "      <td>101</td>\n",
       "      <td>fortwo</td>\n",
       "      <td>125000</td>\n",
       "      <td>3</td>\n",
       "      <td>petrol</td>\n",
       "      <td>smart</td>\n",
       "      <td>no</td>\n",
       "      <td>2016-03-05 00:00:00</td>\n",
       "      <td>0</td>\n",
       "      <td>26135</td>\n",
       "      <td>2016-03-11 18:17:12</td>\n",
       "    </tr>\n",
       "    <tr>\n",
       "      <th>354367</th>\n",
       "      <td>2016-03-19 18:57:12</td>\n",
       "      <td>9200</td>\n",
       "      <td>bus</td>\n",
       "      <td>1996</td>\n",
       "      <td>manual</td>\n",
       "      <td>102</td>\n",
       "      <td>transporter</td>\n",
       "      <td>150000</td>\n",
       "      <td>3</td>\n",
       "      <td>gasoline</td>\n",
       "      <td>volkswagen</td>\n",
       "      <td>no</td>\n",
       "      <td>2016-03-19 00:00:00</td>\n",
       "      <td>0</td>\n",
       "      <td>87439</td>\n",
       "      <td>2016-04-07 07:15:26</td>\n",
       "    </tr>\n",
       "    <tr>\n",
       "      <th>354368</th>\n",
       "      <td>2016-03-20 19:41:08</td>\n",
       "      <td>3400</td>\n",
       "      <td>wagon</td>\n",
       "      <td>2002</td>\n",
       "      <td>manual</td>\n",
       "      <td>100</td>\n",
       "      <td>golf</td>\n",
       "      <td>150000</td>\n",
       "      <td>6</td>\n",
       "      <td>gasoline</td>\n",
       "      <td>volkswagen</td>\n",
       "      <td>NaN</td>\n",
       "      <td>2016-03-20 00:00:00</td>\n",
       "      <td>0</td>\n",
       "      <td>40764</td>\n",
       "      <td>2016-03-24 12:45:21</td>\n",
       "    </tr>\n",
       "  </tbody>\n",
       "</table>\n",
       "<p>354369 rows × 16 columns</p>\n",
       "</div>"
      ],
      "text/plain": [
       "                DateCrawled  Price  VehicleType  RegistrationYear Gearbox  \\\n",
       "0       2016-03-24 11:52:17    480          NaN              1993  manual   \n",
       "1       2016-03-24 10:58:45  18300        coupe              2011  manual   \n",
       "2       2016-03-14 12:52:21   9800          suv              2004    auto   \n",
       "3       2016-03-17 16:54:04   1500        small              2001  manual   \n",
       "4       2016-03-31 17:25:20   3600        small              2008  manual   \n",
       "...                     ...    ...          ...               ...     ...   \n",
       "354364  2016-03-21 09:50:58      0          NaN              2005  manual   \n",
       "354365  2016-03-14 17:48:27   2200          NaN              2005     NaN   \n",
       "354366  2016-03-05 19:56:21   1199  convertible              2000    auto   \n",
       "354367  2016-03-19 18:57:12   9200          bus              1996  manual   \n",
       "354368  2016-03-20 19:41:08   3400        wagon              2002  manual   \n",
       "\n",
       "        Power        Model  Kilometer  RegistrationMonth  FuelType  \\\n",
       "0           0         golf     150000                  0    petrol   \n",
       "1         190          NaN     125000                  5  gasoline   \n",
       "2         163        grand     125000                  8  gasoline   \n",
       "3          75         golf     150000                  6    petrol   \n",
       "4          69        fabia      90000                  7  gasoline   \n",
       "...       ...          ...        ...                ...       ...   \n",
       "354364      0         colt     150000                  7    petrol   \n",
       "354365      0          NaN      20000                  1       NaN   \n",
       "354366    101       fortwo     125000                  3    petrol   \n",
       "354367    102  transporter     150000                  3  gasoline   \n",
       "354368    100         golf     150000                  6  gasoline   \n",
       "\n",
       "                 Brand NotRepaired          DateCreated  NumberOfPictures  \\\n",
       "0           volkswagen         NaN  2016-03-24 00:00:00                 0   \n",
       "1                 audi         yes  2016-03-24 00:00:00                 0   \n",
       "2                 jeep         NaN  2016-03-14 00:00:00                 0   \n",
       "3           volkswagen          no  2016-03-17 00:00:00                 0   \n",
       "4                skoda          no  2016-03-31 00:00:00                 0   \n",
       "...                ...         ...                  ...               ...   \n",
       "354364      mitsubishi         yes  2016-03-21 00:00:00                 0   \n",
       "354365  sonstige_autos         NaN  2016-03-14 00:00:00                 0   \n",
       "354366           smart          no  2016-03-05 00:00:00                 0   \n",
       "354367      volkswagen          no  2016-03-19 00:00:00                 0   \n",
       "354368      volkswagen         NaN  2016-03-20 00:00:00                 0   \n",
       "\n",
       "        PostalCode             LastSeen  \n",
       "0            70435  2016-04-07 03:16:57  \n",
       "1            66954  2016-04-07 01:46:50  \n",
       "2            90480  2016-04-05 12:47:46  \n",
       "3            91074  2016-03-17 17:40:17  \n",
       "4            60437  2016-04-06 10:17:21  \n",
       "...            ...                  ...  \n",
       "354364        2694  2016-03-21 10:42:49  \n",
       "354365       39576  2016-04-06 00:46:52  \n",
       "354366       26135  2016-03-11 18:17:12  \n",
       "354367       87439  2016-04-07 07:15:26  \n",
       "354368       40764  2016-03-24 12:45:21  \n",
       "\n",
       "[354369 rows x 16 columns]"
      ]
     },
     "execution_count": 4,
     "metadata": {},
     "output_type": "execute_result"
    }
   ],
   "source": [
    "data"
   ]
  },
  {
   "cell_type": "markdown",
   "metadata": {},
   "source": [
    "Загружен исходный датасет. Данные имеют пропуски в столбцах  VehicleType, Gearbox, Model, FuelType, NotRepaired. В столбцах Price  и  Power присутствуют нулевые значения. Кроме того в столбце RegistrationYear указаны неверные годы регистрации. Изучем уникальные признаки из столбцов с пропусками и постараемся заменить их подходящими значениями."
   ]
  },
  {
   "cell_type": "code",
   "execution_count": 5,
   "metadata": {},
   "outputs": [
    {
     "data": {
      "text/plain": [
       "array([nan, 'coupe', 'suv', 'small', 'sedan', 'convertible', 'bus',\n",
       "       'wagon', 'other'], dtype=object)"
      ]
     },
     "execution_count": 5,
     "metadata": {},
     "output_type": "execute_result"
    }
   ],
   "source": [
    "data['VehicleType'].unique()"
   ]
  },
  {
   "cell_type": "code",
   "execution_count": 6,
   "metadata": {},
   "outputs": [
    {
     "data": {
      "text/plain": [
       "array(['manual', 'auto', nan], dtype=object)"
      ]
     },
     "execution_count": 6,
     "metadata": {},
     "output_type": "execute_result"
    }
   ],
   "source": [
    "data['Gearbox'].unique()"
   ]
  },
  {
   "cell_type": "code",
   "execution_count": 7,
   "metadata": {},
   "outputs": [
    {
     "data": {
      "text/plain": [
       "array(['petrol', 'gasoline', nan, 'lpg', 'other', 'hybrid', 'cng',\n",
       "       'electric'], dtype=object)"
      ]
     },
     "execution_count": 7,
     "metadata": {},
     "output_type": "execute_result"
    }
   ],
   "source": [
    "data['FuelType'].unique()"
   ]
  },
  {
   "cell_type": "code",
   "execution_count": 8,
   "metadata": {},
   "outputs": [
    {
     "data": {
      "text/plain": [
       "array(['volkswagen', 'audi', 'jeep', 'skoda', 'bmw', 'peugeot', 'ford',\n",
       "       'mazda', 'nissan', 'renault', 'mercedes_benz', 'opel', 'seat',\n",
       "       'citroen', 'honda', 'fiat', 'mini', 'smart', 'hyundai',\n",
       "       'sonstige_autos', 'alfa_romeo', 'subaru', 'volvo', 'mitsubishi',\n",
       "       'kia', 'suzuki', 'lancia', 'toyota', 'chevrolet', 'dacia',\n",
       "       'daihatsu', 'trabant', 'saab', 'chrysler', 'jaguar', 'daewoo',\n",
       "       'porsche', 'rover', 'land_rover', 'lada'], dtype=object)"
      ]
     },
     "execution_count": 8,
     "metadata": {},
     "output_type": "execute_result"
    }
   ],
   "source": [
    "data['Brand'].unique()"
   ]
  },
  {
   "cell_type": "code",
   "execution_count": 9,
   "metadata": {},
   "outputs": [
    {
     "data": {
      "text/html": [
       "<div>\n",
       "<style scoped>\n",
       "    .dataframe tbody tr th:only-of-type {\n",
       "        vertical-align: middle;\n",
       "    }\n",
       "\n",
       "    .dataframe tbody tr th {\n",
       "        vertical-align: top;\n",
       "    }\n",
       "\n",
       "    .dataframe thead th {\n",
       "        text-align: right;\n",
       "    }\n",
       "</style>\n",
       "<table border=\"1\" class=\"dataframe\">\n",
       "  <thead>\n",
       "    <tr style=\"text-align: right;\">\n",
       "      <th></th>\n",
       "      <th>DateCrawled</th>\n",
       "      <th>Price</th>\n",
       "      <th>VehicleType</th>\n",
       "      <th>RegistrationYear</th>\n",
       "      <th>Gearbox</th>\n",
       "      <th>Power</th>\n",
       "      <th>Model</th>\n",
       "      <th>Kilometer</th>\n",
       "      <th>RegistrationMonth</th>\n",
       "      <th>FuelType</th>\n",
       "      <th>Brand</th>\n",
       "      <th>NotRepaired</th>\n",
       "      <th>DateCreated</th>\n",
       "      <th>NumberOfPictures</th>\n",
       "      <th>PostalCode</th>\n",
       "      <th>LastSeen</th>\n",
       "    </tr>\n",
       "  </thead>\n",
       "  <tbody>\n",
       "    <tr>\n",
       "      <th>15</th>\n",
       "      <td>2016-03-11 21:39:15</td>\n",
       "      <td>450</td>\n",
       "      <td>small</td>\n",
       "      <td>1910</td>\n",
       "      <td>NaN</td>\n",
       "      <td>0</td>\n",
       "      <td>ka</td>\n",
       "      <td>5000</td>\n",
       "      <td>0</td>\n",
       "      <td>petrol</td>\n",
       "      <td>ford</td>\n",
       "      <td>NaN</td>\n",
       "      <td>2016-03-11 00:00:00</td>\n",
       "      <td>0</td>\n",
       "      <td>24148</td>\n",
       "      <td>2016-03-19 08:46:47</td>\n",
       "    </tr>\n",
       "    <tr>\n",
       "      <th>360</th>\n",
       "      <td>2016-03-17 14:52:07</td>\n",
       "      <td>10000</td>\n",
       "      <td>bus</td>\n",
       "      <td>1976</td>\n",
       "      <td>NaN</td>\n",
       "      <td>0</td>\n",
       "      <td>transporter</td>\n",
       "      <td>5000</td>\n",
       "      <td>0</td>\n",
       "      <td>petrol</td>\n",
       "      <td>volkswagen</td>\n",
       "      <td>NaN</td>\n",
       "      <td>2016-03-17 00:00:00</td>\n",
       "      <td>0</td>\n",
       "      <td>73479</td>\n",
       "      <td>2016-03-19 14:21:08</td>\n",
       "    </tr>\n",
       "    <tr>\n",
       "      <th>534</th>\n",
       "      <td>2016-03-27 10:52:55</td>\n",
       "      <td>4900</td>\n",
       "      <td>convertible</td>\n",
       "      <td>1973</td>\n",
       "      <td>manual</td>\n",
       "      <td>44</td>\n",
       "      <td>kaefer</td>\n",
       "      <td>90000</td>\n",
       "      <td>4</td>\n",
       "      <td>petrol</td>\n",
       "      <td>volkswagen</td>\n",
       "      <td>no</td>\n",
       "      <td>2016-03-27 00:00:00</td>\n",
       "      <td>0</td>\n",
       "      <td>16567</td>\n",
       "      <td>2016-04-07 06:44:31</td>\n",
       "    </tr>\n",
       "    <tr>\n",
       "      <th>622</th>\n",
       "      <td>2016-03-16 16:55:09</td>\n",
       "      <td>0</td>\n",
       "      <td>NaN</td>\n",
       "      <td>1111</td>\n",
       "      <td>NaN</td>\n",
       "      <td>0</td>\n",
       "      <td>NaN</td>\n",
       "      <td>5000</td>\n",
       "      <td>0</td>\n",
       "      <td>NaN</td>\n",
       "      <td>opel</td>\n",
       "      <td>NaN</td>\n",
       "      <td>2016-03-16 00:00:00</td>\n",
       "      <td>0</td>\n",
       "      <td>44628</td>\n",
       "      <td>2016-03-20 16:44:37</td>\n",
       "    </tr>\n",
       "    <tr>\n",
       "      <th>630</th>\n",
       "      <td>2016-03-18 12:43:41</td>\n",
       "      <td>12000</td>\n",
       "      <td>sedan</td>\n",
       "      <td>1969</td>\n",
       "      <td>manual</td>\n",
       "      <td>140</td>\n",
       "      <td>s_klasse</td>\n",
       "      <td>80000</td>\n",
       "      <td>3</td>\n",
       "      <td>petrol</td>\n",
       "      <td>mercedes_benz</td>\n",
       "      <td>no</td>\n",
       "      <td>2016-03-18 00:00:00</td>\n",
       "      <td>0</td>\n",
       "      <td>46286</td>\n",
       "      <td>2016-04-05 22:16:44</td>\n",
       "    </tr>\n",
       "    <tr>\n",
       "      <th>...</th>\n",
       "      <td>...</td>\n",
       "      <td>...</td>\n",
       "      <td>...</td>\n",
       "      <td>...</td>\n",
       "      <td>...</td>\n",
       "      <td>...</td>\n",
       "      <td>...</td>\n",
       "      <td>...</td>\n",
       "      <td>...</td>\n",
       "      <td>...</td>\n",
       "      <td>...</td>\n",
       "      <td>...</td>\n",
       "      <td>...</td>\n",
       "      <td>...</td>\n",
       "      <td>...</td>\n",
       "      <td>...</td>\n",
       "    </tr>\n",
       "    <tr>\n",
       "      <th>353961</th>\n",
       "      <td>2016-03-17 13:54:22</td>\n",
       "      <td>200</td>\n",
       "      <td>NaN</td>\n",
       "      <td>1910</td>\n",
       "      <td>NaN</td>\n",
       "      <td>0</td>\n",
       "      <td>NaN</td>\n",
       "      <td>5000</td>\n",
       "      <td>0</td>\n",
       "      <td>petrol</td>\n",
       "      <td>sonstige_autos</td>\n",
       "      <td>NaN</td>\n",
       "      <td>2016-03-17 00:00:00</td>\n",
       "      <td>0</td>\n",
       "      <td>42289</td>\n",
       "      <td>2016-03-31 22:46:47</td>\n",
       "    </tr>\n",
       "    <tr>\n",
       "      <th>354037</th>\n",
       "      <td>2016-03-23 16:57:30</td>\n",
       "      <td>10500</td>\n",
       "      <td>convertible</td>\n",
       "      <td>1968</td>\n",
       "      <td>manual</td>\n",
       "      <td>54</td>\n",
       "      <td>other</td>\n",
       "      <td>20000</td>\n",
       "      <td>4</td>\n",
       "      <td>NaN</td>\n",
       "      <td>renault</td>\n",
       "      <td>no</td>\n",
       "      <td>2016-03-23 00:00:00</td>\n",
       "      <td>0</td>\n",
       "      <td>63755</td>\n",
       "      <td>2016-03-25 00:47:18</td>\n",
       "    </tr>\n",
       "    <tr>\n",
       "      <th>354063</th>\n",
       "      <td>2016-03-08 23:37:04</td>\n",
       "      <td>0</td>\n",
       "      <td>NaN</td>\n",
       "      <td>1970</td>\n",
       "      <td>NaN</td>\n",
       "      <td>0</td>\n",
       "      <td>sl</td>\n",
       "      <td>150000</td>\n",
       "      <td>0</td>\n",
       "      <td>NaN</td>\n",
       "      <td>mercedes_benz</td>\n",
       "      <td>NaN</td>\n",
       "      <td>2016-03-08 00:00:00</td>\n",
       "      <td>0</td>\n",
       "      <td>34123</td>\n",
       "      <td>2016-04-07 05:15:38</td>\n",
       "    </tr>\n",
       "    <tr>\n",
       "      <th>354286</th>\n",
       "      <td>2016-03-21 20:44:38</td>\n",
       "      <td>16500</td>\n",
       "      <td>coupe</td>\n",
       "      <td>1973</td>\n",
       "      <td>manual</td>\n",
       "      <td>200</td>\n",
       "      <td>other</td>\n",
       "      <td>150000</td>\n",
       "      <td>6</td>\n",
       "      <td>petrol</td>\n",
       "      <td>bmw</td>\n",
       "      <td>yes</td>\n",
       "      <td>2016-03-21 00:00:00</td>\n",
       "      <td>0</td>\n",
       "      <td>74722</td>\n",
       "      <td>2016-04-06 19:16:32</td>\n",
       "    </tr>\n",
       "    <tr>\n",
       "      <th>354316</th>\n",
       "      <td>2016-03-07 19:58:44</td>\n",
       "      <td>3300</td>\n",
       "      <td>coupe</td>\n",
       "      <td>1957</td>\n",
       "      <td>manual</td>\n",
       "      <td>40</td>\n",
       "      <td>other</td>\n",
       "      <td>100000</td>\n",
       "      <td>11</td>\n",
       "      <td>petrol</td>\n",
       "      <td>trabant</td>\n",
       "      <td>no</td>\n",
       "      <td>2016-03-07 00:00:00</td>\n",
       "      <td>0</td>\n",
       "      <td>10317</td>\n",
       "      <td>2016-03-08 06:45:48</td>\n",
       "    </tr>\n",
       "  </tbody>\n",
       "</table>\n",
       "<p>3452 rows × 16 columns</p>\n",
       "</div>"
      ],
      "text/plain": [
       "                DateCrawled  Price  VehicleType  RegistrationYear Gearbox  \\\n",
       "15      2016-03-11 21:39:15    450        small              1910     NaN   \n",
       "360     2016-03-17 14:52:07  10000          bus              1976     NaN   \n",
       "534     2016-03-27 10:52:55   4900  convertible              1973  manual   \n",
       "622     2016-03-16 16:55:09      0          NaN              1111     NaN   \n",
       "630     2016-03-18 12:43:41  12000        sedan              1969  manual   \n",
       "...                     ...    ...          ...               ...     ...   \n",
       "353961  2016-03-17 13:54:22    200          NaN              1910     NaN   \n",
       "354037  2016-03-23 16:57:30  10500  convertible              1968  manual   \n",
       "354063  2016-03-08 23:37:04      0          NaN              1970     NaN   \n",
       "354286  2016-03-21 20:44:38  16500        coupe              1973  manual   \n",
       "354316  2016-03-07 19:58:44   3300        coupe              1957  manual   \n",
       "\n",
       "        Power        Model  Kilometer  RegistrationMonth FuelType  \\\n",
       "15          0           ka       5000                  0   petrol   \n",
       "360         0  transporter       5000                  0   petrol   \n",
       "534        44       kaefer      90000                  4   petrol   \n",
       "622         0          NaN       5000                  0      NaN   \n",
       "630       140     s_klasse      80000                  3   petrol   \n",
       "...       ...          ...        ...                ...      ...   \n",
       "353961      0          NaN       5000                  0   petrol   \n",
       "354037     54        other      20000                  4      NaN   \n",
       "354063      0           sl     150000                  0      NaN   \n",
       "354286    200        other     150000                  6   petrol   \n",
       "354316     40        other     100000                 11   petrol   \n",
       "\n",
       "                 Brand NotRepaired          DateCreated  NumberOfPictures  \\\n",
       "15                ford         NaN  2016-03-11 00:00:00                 0   \n",
       "360         volkswagen         NaN  2016-03-17 00:00:00                 0   \n",
       "534         volkswagen          no  2016-03-27 00:00:00                 0   \n",
       "622               opel         NaN  2016-03-16 00:00:00                 0   \n",
       "630      mercedes_benz          no  2016-03-18 00:00:00                 0   \n",
       "...                ...         ...                  ...               ...   \n",
       "353961  sonstige_autos         NaN  2016-03-17 00:00:00                 0   \n",
       "354037         renault          no  2016-03-23 00:00:00                 0   \n",
       "354063   mercedes_benz         NaN  2016-03-08 00:00:00                 0   \n",
       "354286             bmw         yes  2016-03-21 00:00:00                 0   \n",
       "354316         trabant          no  2016-03-07 00:00:00                 0   \n",
       "\n",
       "        PostalCode             LastSeen  \n",
       "15           24148  2016-03-19 08:46:47  \n",
       "360          73479  2016-03-19 14:21:08  \n",
       "534          16567  2016-04-07 06:44:31  \n",
       "622          44628  2016-03-20 16:44:37  \n",
       "630          46286  2016-04-05 22:16:44  \n",
       "...            ...                  ...  \n",
       "353961       42289  2016-03-31 22:46:47  \n",
       "354037       63755  2016-03-25 00:47:18  \n",
       "354063       34123  2016-04-07 05:15:38  \n",
       "354286       74722  2016-04-06 19:16:32  \n",
       "354316       10317  2016-03-08 06:45:48  \n",
       "\n",
       "[3452 rows x 16 columns]"
      ]
     },
     "execution_count": 9,
     "metadata": {},
     "output_type": "execute_result"
    }
   ],
   "source": [
    "data[data['RegistrationYear']<1980]"
   ]
  },
  {
   "cell_type": "code",
   "execution_count": 10,
   "metadata": {},
   "outputs": [],
   "source": [
    "# удалим строки с пропусками в поле Model\n",
    "data.dropna(subset=['Model'], inplace = True)\n",
    "\n",
    "# заменим пропуски в полях 'FuelType' 'Gearbox' 'VehicleType' на характерные для определенной модели автомобиля\n",
    "data['FuelType'].fillna(data.groupby('Model')['FuelType'].transform('first'), inplace=True)\n",
    "data['Gearbox'].fillna(data.groupby('Model')['Gearbox'].transform('first'), inplace=True)\n",
    "data['VehicleType'].fillna(data.groupby('Model')['VehicleType'].transform('first'), inplace=True)\n",
    "\n",
    "# поставим ограничение по мощности автомобиля. приравняем выбивающиеся значения к nan и заменим \n",
    "#их медианным показателем аналогичной модели. несопоставленные значения удалим\n",
    "data.loc[data['Power']>200, 'Power']=0\n",
    "data.loc[data['Power']<50, 'Power']=0\n",
    "data['Power'] = data['Power'].replace(0, np.nan)\n",
    "data['Power'].fillna(data.groupby('Model')['Power'].transform('median'), inplace=True)\n",
    "data.dropna(subset=['Power'], inplace = True)\n",
    "\n",
    "# заменим аналоги в поле FuelType на одно из значений. значение other возмем аналогичным для конкретной модели автомобиля\n",
    "data['FuelType'] = data['FuelType'].replace('cng', 'lpg')\n",
    "data['FuelType'] = data['FuelType'].replace('gasoline', 'petrol')\n",
    "data['FuelType'] = data['FuelType'].replace('other', np.nan)\n",
    "data['FuelType'].fillna(data.groupby('Model')['FuelType'].transform('first'), inplace=True)\n",
    "\n",
    "# приравняем выбивающися значения даты регистрации к nan и заменим их минимальным значением для данной модели автомобиля.\n",
    "# несопоставленные значения удалим. Изменими тип данных в столбце Дата регистрации.\n",
    "data.loc[data['RegistrationYear']>2016, 'RegistrationYear']=0\n",
    "data.loc[data['RegistrationYear']<1990, 'RegistrationYear']=0\n",
    "data['RegistrationYear'] = data['RegistrationYear'].replace(0, np.nan)\n",
    "data['RegistrationYear'].fillna(data.groupby('Model')['RegistrationYear'].transform('max'), inplace=True)\n",
    "data.dropna(subset=['RegistrationYear'], inplace = True)\n",
    "data['RegistrationYear']=data['RegistrationYear'].astype('int64')"
   ]
  },
  {
   "cell_type": "code",
   "execution_count": 11,
   "metadata": {},
   "outputs": [
    {
     "name": "stdout",
     "output_type": "stream",
     "text": [
      "DateCrawled          0.000000\n",
      "Price                0.000000\n",
      "VehicleType          0.000000\n",
      "RegistrationYear     0.000000\n",
      "Gearbox              0.000000\n",
      "Power                0.000000\n",
      "Model                0.000000\n",
      "Kilometer            0.000000\n",
      "RegistrationMonth    0.000000\n",
      "FuelType             0.000000\n",
      "Brand                0.000000\n",
      "NotRepaired          0.185671\n",
      "DateCreated          0.000000\n",
      "NumberOfPictures     0.000000\n",
      "PostalCode           0.000000\n",
      "LastSeen             0.000000\n",
      "dtype: float64\n"
     ]
    }
   ],
   "source": [
    "print(data.isna().mean())"
   ]
  },
  {
   "cell_type": "markdown",
   "metadata": {},
   "source": [
    "пропуски из ключевых столбцов удалены"
   ]
  },
  {
   "cell_type": "code",
   "execution_count": 12,
   "metadata": {},
   "outputs": [
    {
     "data": {
      "text/html": [
       "<div>\n",
       "<style scoped>\n",
       "    .dataframe tbody tr th:only-of-type {\n",
       "        vertical-align: middle;\n",
       "    }\n",
       "\n",
       "    .dataframe tbody tr th {\n",
       "        vertical-align: top;\n",
       "    }\n",
       "\n",
       "    .dataframe thead th {\n",
       "        text-align: right;\n",
       "    }\n",
       "</style>\n",
       "<table border=\"1\" class=\"dataframe\">\n",
       "  <thead>\n",
       "    <tr style=\"text-align: right;\">\n",
       "      <th></th>\n",
       "      <th>DateCrawled</th>\n",
       "      <th>Price</th>\n",
       "      <th>VehicleType</th>\n",
       "      <th>RegistrationYear</th>\n",
       "      <th>Gearbox</th>\n",
       "      <th>Power</th>\n",
       "      <th>Model</th>\n",
       "      <th>Kilometer</th>\n",
       "      <th>RegistrationMonth</th>\n",
       "      <th>FuelType</th>\n",
       "      <th>Brand</th>\n",
       "      <th>NotRepaired</th>\n",
       "      <th>DateCreated</th>\n",
       "      <th>NumberOfPictures</th>\n",
       "      <th>PostalCode</th>\n",
       "      <th>LastSeen</th>\n",
       "    </tr>\n",
       "  </thead>\n",
       "  <tbody>\n",
       "    <tr>\n",
       "      <th>0</th>\n",
       "      <td>2016-03-24 11:52:17</td>\n",
       "      <td>480</td>\n",
       "      <td>small</td>\n",
       "      <td>1993</td>\n",
       "      <td>manual</td>\n",
       "      <td>101.0</td>\n",
       "      <td>golf</td>\n",
       "      <td>150000</td>\n",
       "      <td>0</td>\n",
       "      <td>petrol</td>\n",
       "      <td>volkswagen</td>\n",
       "      <td>NaN</td>\n",
       "      <td>2016-03-24 00:00:00</td>\n",
       "      <td>0</td>\n",
       "      <td>70435</td>\n",
       "      <td>2016-04-07 03:16:57</td>\n",
       "    </tr>\n",
       "    <tr>\n",
       "      <th>2</th>\n",
       "      <td>2016-03-14 12:52:21</td>\n",
       "      <td>9800</td>\n",
       "      <td>suv</td>\n",
       "      <td>2004</td>\n",
       "      <td>auto</td>\n",
       "      <td>163.0</td>\n",
       "      <td>grand</td>\n",
       "      <td>125000</td>\n",
       "      <td>8</td>\n",
       "      <td>petrol</td>\n",
       "      <td>jeep</td>\n",
       "      <td>NaN</td>\n",
       "      <td>2016-03-14 00:00:00</td>\n",
       "      <td>0</td>\n",
       "      <td>90480</td>\n",
       "      <td>2016-04-05 12:47:46</td>\n",
       "    </tr>\n",
       "    <tr>\n",
       "      <th>3</th>\n",
       "      <td>2016-03-17 16:54:04</td>\n",
       "      <td>1500</td>\n",
       "      <td>small</td>\n",
       "      <td>2001</td>\n",
       "      <td>manual</td>\n",
       "      <td>75.0</td>\n",
       "      <td>golf</td>\n",
       "      <td>150000</td>\n",
       "      <td>6</td>\n",
       "      <td>petrol</td>\n",
       "      <td>volkswagen</td>\n",
       "      <td>no</td>\n",
       "      <td>2016-03-17 00:00:00</td>\n",
       "      <td>0</td>\n",
       "      <td>91074</td>\n",
       "      <td>2016-03-17 17:40:17</td>\n",
       "    </tr>\n",
       "    <tr>\n",
       "      <th>4</th>\n",
       "      <td>2016-03-31 17:25:20</td>\n",
       "      <td>3600</td>\n",
       "      <td>small</td>\n",
       "      <td>2008</td>\n",
       "      <td>manual</td>\n",
       "      <td>69.0</td>\n",
       "      <td>fabia</td>\n",
       "      <td>90000</td>\n",
       "      <td>7</td>\n",
       "      <td>petrol</td>\n",
       "      <td>skoda</td>\n",
       "      <td>no</td>\n",
       "      <td>2016-03-31 00:00:00</td>\n",
       "      <td>0</td>\n",
       "      <td>60437</td>\n",
       "      <td>2016-04-06 10:17:21</td>\n",
       "    </tr>\n",
       "    <tr>\n",
       "      <th>5</th>\n",
       "      <td>2016-04-04 17:36:23</td>\n",
       "      <td>650</td>\n",
       "      <td>sedan</td>\n",
       "      <td>1995</td>\n",
       "      <td>manual</td>\n",
       "      <td>102.0</td>\n",
       "      <td>3er</td>\n",
       "      <td>150000</td>\n",
       "      <td>10</td>\n",
       "      <td>petrol</td>\n",
       "      <td>bmw</td>\n",
       "      <td>yes</td>\n",
       "      <td>2016-04-04 00:00:00</td>\n",
       "      <td>0</td>\n",
       "      <td>33775</td>\n",
       "      <td>2016-04-06 19:17:07</td>\n",
       "    </tr>\n",
       "    <tr>\n",
       "      <th>...</th>\n",
       "      <td>...</td>\n",
       "      <td>...</td>\n",
       "      <td>...</td>\n",
       "      <td>...</td>\n",
       "      <td>...</td>\n",
       "      <td>...</td>\n",
       "      <td>...</td>\n",
       "      <td>...</td>\n",
       "      <td>...</td>\n",
       "      <td>...</td>\n",
       "      <td>...</td>\n",
       "      <td>...</td>\n",
       "      <td>...</td>\n",
       "      <td>...</td>\n",
       "      <td>...</td>\n",
       "      <td>...</td>\n",
       "    </tr>\n",
       "    <tr>\n",
       "      <th>354363</th>\n",
       "      <td>2016-03-27 20:36:20</td>\n",
       "      <td>1150</td>\n",
       "      <td>bus</td>\n",
       "      <td>2000</td>\n",
       "      <td>manual</td>\n",
       "      <td>125.0</td>\n",
       "      <td>zafira</td>\n",
       "      <td>150000</td>\n",
       "      <td>3</td>\n",
       "      <td>petrol</td>\n",
       "      <td>opel</td>\n",
       "      <td>no</td>\n",
       "      <td>2016-03-27 00:00:00</td>\n",
       "      <td>0</td>\n",
       "      <td>26624</td>\n",
       "      <td>2016-03-29 10:17:23</td>\n",
       "    </tr>\n",
       "    <tr>\n",
       "      <th>354364</th>\n",
       "      <td>2016-03-21 09:50:58</td>\n",
       "      <td>0</td>\n",
       "      <td>sedan</td>\n",
       "      <td>2005</td>\n",
       "      <td>manual</td>\n",
       "      <td>82.0</td>\n",
       "      <td>colt</td>\n",
       "      <td>150000</td>\n",
       "      <td>7</td>\n",
       "      <td>petrol</td>\n",
       "      <td>mitsubishi</td>\n",
       "      <td>yes</td>\n",
       "      <td>2016-03-21 00:00:00</td>\n",
       "      <td>0</td>\n",
       "      <td>2694</td>\n",
       "      <td>2016-03-21 10:42:49</td>\n",
       "    </tr>\n",
       "    <tr>\n",
       "      <th>354366</th>\n",
       "      <td>2016-03-05 19:56:21</td>\n",
       "      <td>1199</td>\n",
       "      <td>convertible</td>\n",
       "      <td>2000</td>\n",
       "      <td>auto</td>\n",
       "      <td>101.0</td>\n",
       "      <td>fortwo</td>\n",
       "      <td>125000</td>\n",
       "      <td>3</td>\n",
       "      <td>petrol</td>\n",
       "      <td>smart</td>\n",
       "      <td>no</td>\n",
       "      <td>2016-03-05 00:00:00</td>\n",
       "      <td>0</td>\n",
       "      <td>26135</td>\n",
       "      <td>2016-03-11 18:17:12</td>\n",
       "    </tr>\n",
       "    <tr>\n",
       "      <th>354367</th>\n",
       "      <td>2016-03-19 18:57:12</td>\n",
       "      <td>9200</td>\n",
       "      <td>bus</td>\n",
       "      <td>1996</td>\n",
       "      <td>manual</td>\n",
       "      <td>102.0</td>\n",
       "      <td>transporter</td>\n",
       "      <td>150000</td>\n",
       "      <td>3</td>\n",
       "      <td>petrol</td>\n",
       "      <td>volkswagen</td>\n",
       "      <td>no</td>\n",
       "      <td>2016-03-19 00:00:00</td>\n",
       "      <td>0</td>\n",
       "      <td>87439</td>\n",
       "      <td>2016-04-07 07:15:26</td>\n",
       "    </tr>\n",
       "    <tr>\n",
       "      <th>354368</th>\n",
       "      <td>2016-03-20 19:41:08</td>\n",
       "      <td>3400</td>\n",
       "      <td>wagon</td>\n",
       "      <td>2002</td>\n",
       "      <td>manual</td>\n",
       "      <td>100.0</td>\n",
       "      <td>golf</td>\n",
       "      <td>150000</td>\n",
       "      <td>6</td>\n",
       "      <td>petrol</td>\n",
       "      <td>volkswagen</td>\n",
       "      <td>NaN</td>\n",
       "      <td>2016-03-20 00:00:00</td>\n",
       "      <td>0</td>\n",
       "      <td>40764</td>\n",
       "      <td>2016-03-24 12:45:21</td>\n",
       "    </tr>\n",
       "  </tbody>\n",
       "</table>\n",
       "<p>334198 rows × 16 columns</p>\n",
       "</div>"
      ],
      "text/plain": [
       "                DateCrawled  Price  VehicleType  RegistrationYear Gearbox  \\\n",
       "0       2016-03-24 11:52:17    480        small              1993  manual   \n",
       "2       2016-03-14 12:52:21   9800          suv              2004    auto   \n",
       "3       2016-03-17 16:54:04   1500        small              2001  manual   \n",
       "4       2016-03-31 17:25:20   3600        small              2008  manual   \n",
       "5       2016-04-04 17:36:23    650        sedan              1995  manual   \n",
       "...                     ...    ...          ...               ...     ...   \n",
       "354363  2016-03-27 20:36:20   1150          bus              2000  manual   \n",
       "354364  2016-03-21 09:50:58      0        sedan              2005  manual   \n",
       "354366  2016-03-05 19:56:21   1199  convertible              2000    auto   \n",
       "354367  2016-03-19 18:57:12   9200          bus              1996  manual   \n",
       "354368  2016-03-20 19:41:08   3400        wagon              2002  manual   \n",
       "\n",
       "        Power        Model  Kilometer  RegistrationMonth FuelType       Brand  \\\n",
       "0       101.0         golf     150000                  0   petrol  volkswagen   \n",
       "2       163.0        grand     125000                  8   petrol        jeep   \n",
       "3        75.0         golf     150000                  6   petrol  volkswagen   \n",
       "4        69.0        fabia      90000                  7   petrol       skoda   \n",
       "5       102.0          3er     150000                 10   petrol         bmw   \n",
       "...       ...          ...        ...                ...      ...         ...   \n",
       "354363  125.0       zafira     150000                  3   petrol        opel   \n",
       "354364   82.0         colt     150000                  7   petrol  mitsubishi   \n",
       "354366  101.0       fortwo     125000                  3   petrol       smart   \n",
       "354367  102.0  transporter     150000                  3   petrol  volkswagen   \n",
       "354368  100.0         golf     150000                  6   petrol  volkswagen   \n",
       "\n",
       "       NotRepaired          DateCreated  NumberOfPictures  PostalCode  \\\n",
       "0              NaN  2016-03-24 00:00:00                 0       70435   \n",
       "2              NaN  2016-03-14 00:00:00                 0       90480   \n",
       "3               no  2016-03-17 00:00:00                 0       91074   \n",
       "4               no  2016-03-31 00:00:00                 0       60437   \n",
       "5              yes  2016-04-04 00:00:00                 0       33775   \n",
       "...            ...                  ...               ...         ...   \n",
       "354363          no  2016-03-27 00:00:00                 0       26624   \n",
       "354364         yes  2016-03-21 00:00:00                 0        2694   \n",
       "354366          no  2016-03-05 00:00:00                 0       26135   \n",
       "354367          no  2016-03-19 00:00:00                 0       87439   \n",
       "354368         NaN  2016-03-20 00:00:00                 0       40764   \n",
       "\n",
       "                   LastSeen  \n",
       "0       2016-04-07 03:16:57  \n",
       "2       2016-04-05 12:47:46  \n",
       "3       2016-03-17 17:40:17  \n",
       "4       2016-04-06 10:17:21  \n",
       "5       2016-04-06 19:17:07  \n",
       "...                     ...  \n",
       "354363  2016-03-29 10:17:23  \n",
       "354364  2016-03-21 10:42:49  \n",
       "354366  2016-03-11 18:17:12  \n",
       "354367  2016-04-07 07:15:26  \n",
       "354368  2016-03-24 12:45:21  \n",
       "\n",
       "[334198 rows x 16 columns]"
      ]
     },
     "execution_count": 12,
     "metadata": {},
     "output_type": "execute_result"
    }
   ],
   "source": [
    "data"
   ]
  },
  {
   "cell_type": "code",
   "execution_count": 13,
   "metadata": {},
   "outputs": [
    {
     "name": "stdout",
     "output_type": "stream",
     "text": [
      "               Price  RegistrationYear          Power      Kilometer  \\\n",
      "count  334198.000000     334198.000000  334198.000000  334198.000000   \n",
      "mean     4491.148783       2003.994773     112.706895  128555.167894   \n",
      "std      4518.120226          6.219033      38.717370   37211.258311   \n",
      "min         0.000000       1990.000000      50.000000    5000.000000   \n",
      "25%      1150.000000       1999.000000      75.000000  125000.000000   \n",
      "50%      2800.000000       2004.000000     110.000000  150000.000000   \n",
      "75%      6500.000000       2008.000000     143.000000  150000.000000   \n",
      "max     20000.000000       2016.000000     200.000000  150000.000000   \n",
      "\n",
      "       RegistrationMonth  NumberOfPictures     PostalCode  \n",
      "count      334198.000000          334198.0  334198.000000  \n",
      "mean            5.804876               0.0   50671.456502  \n",
      "std             3.688998               0.0   25755.436189  \n",
      "min             0.000000               0.0    1067.000000  \n",
      "25%             3.000000               0.0   30419.000000  \n",
      "50%             6.000000               0.0   49525.000000  \n",
      "75%             9.000000               0.0   71229.000000  \n",
      "max            12.000000               0.0   99998.000000  \n"
     ]
    }
   ],
   "source": [
    "print(data.describe())"
   ]
  },
  {
   "cell_type": "code",
   "execution_count": 14,
   "metadata": {},
   "outputs": [],
   "source": [
    "# уберем экстремально малые значения целевого признака\n",
    "price_min_threshold = data['Price'].quantile(0.05)\n",
    "price_max_threshold = data['Price'].quantile(0.95)\n",
    "data_filtered = data[data['Price']>=price_min_threshold]"
   ]
  },
  {
   "cell_type": "code",
   "execution_count": 15,
   "metadata": {},
   "outputs": [
    {
     "name": "stdout",
     "output_type": "stream",
     "text": [
      "               Price  RegistrationYear          Power      Kilometer  \\\n",
      "count  317610.000000     317610.000000  317610.000000  317610.000000   \n",
      "mean     4722.395176       2004.125021     113.500893  128574.730015   \n",
      "std      4516.839938          6.111377      38.621834   36768.064400   \n",
      "min       250.000000       1990.000000      50.000000    5000.000000   \n",
      "25%      1300.000000       2000.000000      78.000000  125000.000000   \n",
      "50%      3000.000000       2004.000000     110.000000  150000.000000   \n",
      "75%      6800.000000       2008.000000     143.000000  150000.000000   \n",
      "max     20000.000000       2016.000000     200.000000  150000.000000   \n",
      "\n",
      "       RegistrationMonth  NumberOfPictures     PostalCode  \n",
      "count      317610.000000          317610.0  317610.000000  \n",
      "mean            5.902799               0.0   50900.158732  \n",
      "std             3.644733               0.0   25688.278309  \n",
      "min             0.000000               0.0    1067.000000  \n",
      "25%             3.000000               0.0   30823.000000  \n",
      "50%             6.000000               0.0   49716.000000  \n",
      "75%             9.000000               0.0   71384.000000  \n",
      "max            12.000000               0.0   99998.000000  \n",
      "                      Price  RegistrationYear     Power  Kilometer  \\\n",
      "Price              1.000000          0.493884  0.449149  -0.379949   \n",
      "RegistrationYear   0.493884          1.000000  0.075487  -0.346071   \n",
      "Power              0.449149          0.075487  1.000000   0.115142   \n",
      "Kilometer         -0.379949         -0.346071  0.115142   1.000000   \n",
      "RegistrationMonth  0.076624         -0.000400  0.044488  -0.008889   \n",
      "NumberOfPictures        NaN               NaN       NaN        NaN   \n",
      "PostalCode         0.069355          0.024997  0.058601  -0.012113   \n",
      "\n",
      "                   RegistrationMonth  NumberOfPictures  PostalCode  \n",
      "Price                       0.076624               NaN    0.069355  \n",
      "RegistrationYear           -0.000400               NaN    0.024997  \n",
      "Power                       0.044488               NaN    0.058601  \n",
      "Kilometer                  -0.008889               NaN   -0.012113  \n",
      "RegistrationMonth           1.000000               NaN    0.006952  \n",
      "NumberOfPictures                 NaN               NaN         NaN  \n",
      "PostalCode                  0.006952               NaN    1.000000  \n"
     ]
    }
   ],
   "source": [
    "print(data_filtered.describe())\n",
    "print(data_filtered.corr())"
   ]
  },
  {
   "cell_type": "markdown",
   "metadata": {},
   "source": [
    "в результате преобразований датасет сократился на 10 %.  Улучшились показатели зависимости цены (целевого признака) от года регистрации автомобиля и мощности автомобиля."
   ]
  },
  {
   "cell_type": "code",
   "execution_count": 16,
   "metadata": {},
   "outputs": [
    {
     "data": {
      "text/html": [
       "<div>\n",
       "<style scoped>\n",
       "    .dataframe tbody tr th:only-of-type {\n",
       "        vertical-align: middle;\n",
       "    }\n",
       "\n",
       "    .dataframe tbody tr th {\n",
       "        vertical-align: top;\n",
       "    }\n",
       "\n",
       "    .dataframe thead th {\n",
       "        text-align: right;\n",
       "    }\n",
       "</style>\n",
       "<table border=\"1\" class=\"dataframe\">\n",
       "  <thead>\n",
       "    <tr style=\"text-align: right;\">\n",
       "      <th></th>\n",
       "      <th>Price</th>\n",
       "      <th>VehicleType</th>\n",
       "      <th>RegistrationYear</th>\n",
       "      <th>Gearbox</th>\n",
       "      <th>Power</th>\n",
       "      <th>Model</th>\n",
       "      <th>Kilometer</th>\n",
       "      <th>FuelType</th>\n",
       "      <th>Brand</th>\n",
       "    </tr>\n",
       "  </thead>\n",
       "  <tbody>\n",
       "    <tr>\n",
       "      <th>0</th>\n",
       "      <td>480</td>\n",
       "      <td>small</td>\n",
       "      <td>1993</td>\n",
       "      <td>manual</td>\n",
       "      <td>101.0</td>\n",
       "      <td>golf</td>\n",
       "      <td>150000</td>\n",
       "      <td>petrol</td>\n",
       "      <td>volkswagen</td>\n",
       "    </tr>\n",
       "    <tr>\n",
       "      <th>2</th>\n",
       "      <td>9800</td>\n",
       "      <td>suv</td>\n",
       "      <td>2004</td>\n",
       "      <td>auto</td>\n",
       "      <td>163.0</td>\n",
       "      <td>grand</td>\n",
       "      <td>125000</td>\n",
       "      <td>petrol</td>\n",
       "      <td>jeep</td>\n",
       "    </tr>\n",
       "    <tr>\n",
       "      <th>3</th>\n",
       "      <td>1500</td>\n",
       "      <td>small</td>\n",
       "      <td>2001</td>\n",
       "      <td>manual</td>\n",
       "      <td>75.0</td>\n",
       "      <td>golf</td>\n",
       "      <td>150000</td>\n",
       "      <td>petrol</td>\n",
       "      <td>volkswagen</td>\n",
       "    </tr>\n",
       "    <tr>\n",
       "      <th>4</th>\n",
       "      <td>3600</td>\n",
       "      <td>small</td>\n",
       "      <td>2008</td>\n",
       "      <td>manual</td>\n",
       "      <td>69.0</td>\n",
       "      <td>fabia</td>\n",
       "      <td>90000</td>\n",
       "      <td>petrol</td>\n",
       "      <td>skoda</td>\n",
       "    </tr>\n",
       "    <tr>\n",
       "      <th>5</th>\n",
       "      <td>650</td>\n",
       "      <td>sedan</td>\n",
       "      <td>1995</td>\n",
       "      <td>manual</td>\n",
       "      <td>102.0</td>\n",
       "      <td>3er</td>\n",
       "      <td>150000</td>\n",
       "      <td>petrol</td>\n",
       "      <td>bmw</td>\n",
       "    </tr>\n",
       "    <tr>\n",
       "      <th>...</th>\n",
       "      <td>...</td>\n",
       "      <td>...</td>\n",
       "      <td>...</td>\n",
       "      <td>...</td>\n",
       "      <td>...</td>\n",
       "      <td>...</td>\n",
       "      <td>...</td>\n",
       "      <td>...</td>\n",
       "      <td>...</td>\n",
       "    </tr>\n",
       "    <tr>\n",
       "      <th>354362</th>\n",
       "      <td>3200</td>\n",
       "      <td>sedan</td>\n",
       "      <td>2004</td>\n",
       "      <td>manual</td>\n",
       "      <td>122.0</td>\n",
       "      <td>leon</td>\n",
       "      <td>150000</td>\n",
       "      <td>petrol</td>\n",
       "      <td>seat</td>\n",
       "    </tr>\n",
       "    <tr>\n",
       "      <th>354363</th>\n",
       "      <td>1150</td>\n",
       "      <td>bus</td>\n",
       "      <td>2000</td>\n",
       "      <td>manual</td>\n",
       "      <td>125.0</td>\n",
       "      <td>zafira</td>\n",
       "      <td>150000</td>\n",
       "      <td>petrol</td>\n",
       "      <td>opel</td>\n",
       "    </tr>\n",
       "    <tr>\n",
       "      <th>354366</th>\n",
       "      <td>1199</td>\n",
       "      <td>convertible</td>\n",
       "      <td>2000</td>\n",
       "      <td>auto</td>\n",
       "      <td>101.0</td>\n",
       "      <td>fortwo</td>\n",
       "      <td>125000</td>\n",
       "      <td>petrol</td>\n",
       "      <td>smart</td>\n",
       "    </tr>\n",
       "    <tr>\n",
       "      <th>354367</th>\n",
       "      <td>9200</td>\n",
       "      <td>bus</td>\n",
       "      <td>1996</td>\n",
       "      <td>manual</td>\n",
       "      <td>102.0</td>\n",
       "      <td>transporter</td>\n",
       "      <td>150000</td>\n",
       "      <td>petrol</td>\n",
       "      <td>volkswagen</td>\n",
       "    </tr>\n",
       "    <tr>\n",
       "      <th>354368</th>\n",
       "      <td>3400</td>\n",
       "      <td>wagon</td>\n",
       "      <td>2002</td>\n",
       "      <td>manual</td>\n",
       "      <td>100.0</td>\n",
       "      <td>golf</td>\n",
       "      <td>150000</td>\n",
       "      <td>petrol</td>\n",
       "      <td>volkswagen</td>\n",
       "    </tr>\n",
       "  </tbody>\n",
       "</table>\n",
       "<p>317610 rows × 9 columns</p>\n",
       "</div>"
      ],
      "text/plain": [
       "        Price  VehicleType  RegistrationYear Gearbox  Power        Model  \\\n",
       "0         480        small              1993  manual  101.0         golf   \n",
       "2        9800          suv              2004    auto  163.0        grand   \n",
       "3        1500        small              2001  manual   75.0         golf   \n",
       "4        3600        small              2008  manual   69.0        fabia   \n",
       "5         650        sedan              1995  manual  102.0          3er   \n",
       "...       ...          ...               ...     ...    ...          ...   \n",
       "354362   3200        sedan              2004  manual  122.0         leon   \n",
       "354363   1150          bus              2000  manual  125.0       zafira   \n",
       "354366   1199  convertible              2000    auto  101.0       fortwo   \n",
       "354367   9200          bus              1996  manual  102.0  transporter   \n",
       "354368   3400        wagon              2002  manual  100.0         golf   \n",
       "\n",
       "        Kilometer FuelType       Brand  \n",
       "0          150000   petrol  volkswagen  \n",
       "2          125000   petrol        jeep  \n",
       "3          150000   petrol  volkswagen  \n",
       "4           90000   petrol       skoda  \n",
       "5          150000   petrol         bmw  \n",
       "...           ...      ...         ...  \n",
       "354362     150000   petrol        seat  \n",
       "354363     150000   petrol        opel  \n",
       "354366     125000   petrol       smart  \n",
       "354367     150000   petrol  volkswagen  \n",
       "354368     150000   petrol  volkswagen  \n",
       "\n",
       "[317610 rows x 9 columns]"
      ]
     },
     "execution_count": 16,
     "metadata": {},
     "output_type": "execute_result"
    }
   ],
   "source": [
    "# выберем из отредактированного датасета целевые признаки для дальнейшего использования в моделях машинного обучения\n",
    "data_filtered_1 = data_filtered.drop(['DateCrawled',  \n",
    "                                      'RegistrationMonth', \n",
    "                                      'NotRepaired', \n",
    "                                      'DateCreated', \n",
    "                                      'NumberOfPictures',\n",
    "                                      'PostalCode',\n",
    "                                      'LastSeen'], axis=1)\n",
    "data_filtered_1\n",
    "data_filtered_2 = data_filtered_1.copy(deep=True)\n",
    "data_filtered_1"
   ]
  },
  {
   "cell_type": "code",
   "execution_count": 17,
   "metadata": {},
   "outputs": [
    {
     "data": {
      "text/html": [
       "<div>\n",
       "<style scoped>\n",
       "    .dataframe tbody tr th:only-of-type {\n",
       "        vertical-align: middle;\n",
       "    }\n",
       "\n",
       "    .dataframe tbody tr th {\n",
       "        vertical-align: top;\n",
       "    }\n",
       "\n",
       "    .dataframe thead th {\n",
       "        text-align: right;\n",
       "    }\n",
       "</style>\n",
       "<table border=\"1\" class=\"dataframe\">\n",
       "  <thead>\n",
       "    <tr style=\"text-align: right;\">\n",
       "      <th></th>\n",
       "      <th>Price</th>\n",
       "      <th>RegistrationYear</th>\n",
       "      <th>Power</th>\n",
       "      <th>Kilometer</th>\n",
       "      <th>VehicleType_convertible</th>\n",
       "      <th>VehicleType_coupe</th>\n",
       "      <th>VehicleType_other</th>\n",
       "      <th>VehicleType_sedan</th>\n",
       "      <th>VehicleType_small</th>\n",
       "      <th>VehicleType_suv</th>\n",
       "      <th>...</th>\n",
       "      <th>Brand_saab</th>\n",
       "      <th>Brand_seat</th>\n",
       "      <th>Brand_skoda</th>\n",
       "      <th>Brand_smart</th>\n",
       "      <th>Brand_subaru</th>\n",
       "      <th>Brand_suzuki</th>\n",
       "      <th>Brand_toyota</th>\n",
       "      <th>Brand_trabant</th>\n",
       "      <th>Brand_volkswagen</th>\n",
       "      <th>Brand_volvo</th>\n",
       "    </tr>\n",
       "  </thead>\n",
       "  <tbody>\n",
       "    <tr>\n",
       "      <th>0</th>\n",
       "      <td>480</td>\n",
       "      <td>1993</td>\n",
       "      <td>101.0</td>\n",
       "      <td>150000</td>\n",
       "      <td>0</td>\n",
       "      <td>0</td>\n",
       "      <td>0</td>\n",
       "      <td>0</td>\n",
       "      <td>1</td>\n",
       "      <td>0</td>\n",
       "      <td>...</td>\n",
       "      <td>0</td>\n",
       "      <td>0</td>\n",
       "      <td>0</td>\n",
       "      <td>0</td>\n",
       "      <td>0</td>\n",
       "      <td>0</td>\n",
       "      <td>0</td>\n",
       "      <td>0</td>\n",
       "      <td>1</td>\n",
       "      <td>0</td>\n",
       "    </tr>\n",
       "    <tr>\n",
       "      <th>2</th>\n",
       "      <td>9800</td>\n",
       "      <td>2004</td>\n",
       "      <td>163.0</td>\n",
       "      <td>125000</td>\n",
       "      <td>0</td>\n",
       "      <td>0</td>\n",
       "      <td>0</td>\n",
       "      <td>0</td>\n",
       "      <td>0</td>\n",
       "      <td>1</td>\n",
       "      <td>...</td>\n",
       "      <td>0</td>\n",
       "      <td>0</td>\n",
       "      <td>0</td>\n",
       "      <td>0</td>\n",
       "      <td>0</td>\n",
       "      <td>0</td>\n",
       "      <td>0</td>\n",
       "      <td>0</td>\n",
       "      <td>0</td>\n",
       "      <td>0</td>\n",
       "    </tr>\n",
       "    <tr>\n",
       "      <th>3</th>\n",
       "      <td>1500</td>\n",
       "      <td>2001</td>\n",
       "      <td>75.0</td>\n",
       "      <td>150000</td>\n",
       "      <td>0</td>\n",
       "      <td>0</td>\n",
       "      <td>0</td>\n",
       "      <td>0</td>\n",
       "      <td>1</td>\n",
       "      <td>0</td>\n",
       "      <td>...</td>\n",
       "      <td>0</td>\n",
       "      <td>0</td>\n",
       "      <td>0</td>\n",
       "      <td>0</td>\n",
       "      <td>0</td>\n",
       "      <td>0</td>\n",
       "      <td>0</td>\n",
       "      <td>0</td>\n",
       "      <td>1</td>\n",
       "      <td>0</td>\n",
       "    </tr>\n",
       "    <tr>\n",
       "      <th>4</th>\n",
       "      <td>3600</td>\n",
       "      <td>2008</td>\n",
       "      <td>69.0</td>\n",
       "      <td>90000</td>\n",
       "      <td>0</td>\n",
       "      <td>0</td>\n",
       "      <td>0</td>\n",
       "      <td>0</td>\n",
       "      <td>1</td>\n",
       "      <td>0</td>\n",
       "      <td>...</td>\n",
       "      <td>0</td>\n",
       "      <td>0</td>\n",
       "      <td>1</td>\n",
       "      <td>0</td>\n",
       "      <td>0</td>\n",
       "      <td>0</td>\n",
       "      <td>0</td>\n",
       "      <td>0</td>\n",
       "      <td>0</td>\n",
       "      <td>0</td>\n",
       "    </tr>\n",
       "    <tr>\n",
       "      <th>5</th>\n",
       "      <td>650</td>\n",
       "      <td>1995</td>\n",
       "      <td>102.0</td>\n",
       "      <td>150000</td>\n",
       "      <td>0</td>\n",
       "      <td>0</td>\n",
       "      <td>0</td>\n",
       "      <td>1</td>\n",
       "      <td>0</td>\n",
       "      <td>0</td>\n",
       "      <td>...</td>\n",
       "      <td>0</td>\n",
       "      <td>0</td>\n",
       "      <td>0</td>\n",
       "      <td>0</td>\n",
       "      <td>0</td>\n",
       "      <td>0</td>\n",
       "      <td>0</td>\n",
       "      <td>0</td>\n",
       "      <td>0</td>\n",
       "      <td>0</td>\n",
       "    </tr>\n",
       "    <tr>\n",
       "      <th>...</th>\n",
       "      <td>...</td>\n",
       "      <td>...</td>\n",
       "      <td>...</td>\n",
       "      <td>...</td>\n",
       "      <td>...</td>\n",
       "      <td>...</td>\n",
       "      <td>...</td>\n",
       "      <td>...</td>\n",
       "      <td>...</td>\n",
       "      <td>...</td>\n",
       "      <td>...</td>\n",
       "      <td>...</td>\n",
       "      <td>...</td>\n",
       "      <td>...</td>\n",
       "      <td>...</td>\n",
       "      <td>...</td>\n",
       "      <td>...</td>\n",
       "      <td>...</td>\n",
       "      <td>...</td>\n",
       "      <td>...</td>\n",
       "      <td>...</td>\n",
       "    </tr>\n",
       "    <tr>\n",
       "      <th>354362</th>\n",
       "      <td>3200</td>\n",
       "      <td>2004</td>\n",
       "      <td>122.0</td>\n",
       "      <td>150000</td>\n",
       "      <td>0</td>\n",
       "      <td>0</td>\n",
       "      <td>0</td>\n",
       "      <td>1</td>\n",
       "      <td>0</td>\n",
       "      <td>0</td>\n",
       "      <td>...</td>\n",
       "      <td>0</td>\n",
       "      <td>1</td>\n",
       "      <td>0</td>\n",
       "      <td>0</td>\n",
       "      <td>0</td>\n",
       "      <td>0</td>\n",
       "      <td>0</td>\n",
       "      <td>0</td>\n",
       "      <td>0</td>\n",
       "      <td>0</td>\n",
       "    </tr>\n",
       "    <tr>\n",
       "      <th>354363</th>\n",
       "      <td>1150</td>\n",
       "      <td>2000</td>\n",
       "      <td>125.0</td>\n",
       "      <td>150000</td>\n",
       "      <td>0</td>\n",
       "      <td>0</td>\n",
       "      <td>0</td>\n",
       "      <td>0</td>\n",
       "      <td>0</td>\n",
       "      <td>0</td>\n",
       "      <td>...</td>\n",
       "      <td>0</td>\n",
       "      <td>0</td>\n",
       "      <td>0</td>\n",
       "      <td>0</td>\n",
       "      <td>0</td>\n",
       "      <td>0</td>\n",
       "      <td>0</td>\n",
       "      <td>0</td>\n",
       "      <td>0</td>\n",
       "      <td>0</td>\n",
       "    </tr>\n",
       "    <tr>\n",
       "      <th>354366</th>\n",
       "      <td>1199</td>\n",
       "      <td>2000</td>\n",
       "      <td>101.0</td>\n",
       "      <td>125000</td>\n",
       "      <td>1</td>\n",
       "      <td>0</td>\n",
       "      <td>0</td>\n",
       "      <td>0</td>\n",
       "      <td>0</td>\n",
       "      <td>0</td>\n",
       "      <td>...</td>\n",
       "      <td>0</td>\n",
       "      <td>0</td>\n",
       "      <td>0</td>\n",
       "      <td>1</td>\n",
       "      <td>0</td>\n",
       "      <td>0</td>\n",
       "      <td>0</td>\n",
       "      <td>0</td>\n",
       "      <td>0</td>\n",
       "      <td>0</td>\n",
       "    </tr>\n",
       "    <tr>\n",
       "      <th>354367</th>\n",
       "      <td>9200</td>\n",
       "      <td>1996</td>\n",
       "      <td>102.0</td>\n",
       "      <td>150000</td>\n",
       "      <td>0</td>\n",
       "      <td>0</td>\n",
       "      <td>0</td>\n",
       "      <td>0</td>\n",
       "      <td>0</td>\n",
       "      <td>0</td>\n",
       "      <td>...</td>\n",
       "      <td>0</td>\n",
       "      <td>0</td>\n",
       "      <td>0</td>\n",
       "      <td>0</td>\n",
       "      <td>0</td>\n",
       "      <td>0</td>\n",
       "      <td>0</td>\n",
       "      <td>0</td>\n",
       "      <td>1</td>\n",
       "      <td>0</td>\n",
       "    </tr>\n",
       "    <tr>\n",
       "      <th>354368</th>\n",
       "      <td>3400</td>\n",
       "      <td>2002</td>\n",
       "      <td>100.0</td>\n",
       "      <td>150000</td>\n",
       "      <td>0</td>\n",
       "      <td>0</td>\n",
       "      <td>0</td>\n",
       "      <td>0</td>\n",
       "      <td>0</td>\n",
       "      <td>0</td>\n",
       "      <td>...</td>\n",
       "      <td>0</td>\n",
       "      <td>0</td>\n",
       "      <td>0</td>\n",
       "      <td>0</td>\n",
       "      <td>0</td>\n",
       "      <td>0</td>\n",
       "      <td>0</td>\n",
       "      <td>0</td>\n",
       "      <td>1</td>\n",
       "      <td>0</td>\n",
       "    </tr>\n",
       "  </tbody>\n",
       "</table>\n",
       "<p>317610 rows × 295 columns</p>\n",
       "</div>"
      ],
      "text/plain": [
       "        Price  RegistrationYear  Power  Kilometer  VehicleType_convertible  \\\n",
       "0         480              1993  101.0     150000                        0   \n",
       "2        9800              2004  163.0     125000                        0   \n",
       "3        1500              2001   75.0     150000                        0   \n",
       "4        3600              2008   69.0      90000                        0   \n",
       "5         650              1995  102.0     150000                        0   \n",
       "...       ...               ...    ...        ...                      ...   \n",
       "354362   3200              2004  122.0     150000                        0   \n",
       "354363   1150              2000  125.0     150000                        0   \n",
       "354366   1199              2000  101.0     125000                        1   \n",
       "354367   9200              1996  102.0     150000                        0   \n",
       "354368   3400              2002  100.0     150000                        0   \n",
       "\n",
       "        VehicleType_coupe  VehicleType_other  VehicleType_sedan  \\\n",
       "0                       0                  0                  0   \n",
       "2                       0                  0                  0   \n",
       "3                       0                  0                  0   \n",
       "4                       0                  0                  0   \n",
       "5                       0                  0                  1   \n",
       "...                   ...                ...                ...   \n",
       "354362                  0                  0                  1   \n",
       "354363                  0                  0                  0   \n",
       "354366                  0                  0                  0   \n",
       "354367                  0                  0                  0   \n",
       "354368                  0                  0                  0   \n",
       "\n",
       "        VehicleType_small  VehicleType_suv  ...  Brand_saab  Brand_seat  \\\n",
       "0                       1                0  ...           0           0   \n",
       "2                       0                1  ...           0           0   \n",
       "3                       1                0  ...           0           0   \n",
       "4                       1                0  ...           0           0   \n",
       "5                       0                0  ...           0           0   \n",
       "...                   ...              ...  ...         ...         ...   \n",
       "354362                  0                0  ...           0           1   \n",
       "354363                  0                0  ...           0           0   \n",
       "354366                  0                0  ...           0           0   \n",
       "354367                  0                0  ...           0           0   \n",
       "354368                  0                0  ...           0           0   \n",
       "\n",
       "        Brand_skoda  Brand_smart  Brand_subaru  Brand_suzuki  Brand_toyota  \\\n",
       "0                 0            0             0             0             0   \n",
       "2                 0            0             0             0             0   \n",
       "3                 0            0             0             0             0   \n",
       "4                 1            0             0             0             0   \n",
       "5                 0            0             0             0             0   \n",
       "...             ...          ...           ...           ...           ...   \n",
       "354362            0            0             0             0             0   \n",
       "354363            0            0             0             0             0   \n",
       "354366            0            1             0             0             0   \n",
       "354367            0            0             0             0             0   \n",
       "354368            0            0             0             0             0   \n",
       "\n",
       "        Brand_trabant  Brand_volkswagen  Brand_volvo  \n",
       "0                   0                 1            0  \n",
       "2                   0                 0            0  \n",
       "3                   0                 1            0  \n",
       "4                   0                 0            0  \n",
       "5                   0                 0            0  \n",
       "...               ...               ...          ...  \n",
       "354362              0                 0            0  \n",
       "354363              0                 0            0  \n",
       "354366              0                 0            0  \n",
       "354367              0                 1            0  \n",
       "354368              0                 1            0  \n",
       "\n",
       "[317610 rows x 295 columns]"
      ]
     },
     "execution_count": 17,
     "metadata": {},
     "output_type": "execute_result"
    }
   ],
   "source": [
    "data_filtered_1_ohe = pd.get_dummies(data_filtered_1, drop_first=True)\n",
    "data_filtered_1_ohe"
   ]
  },
  {
   "cell_type": "code",
   "execution_count": 18,
   "metadata": {},
   "outputs": [
    {
     "data": {
      "text/html": [
       "<div>\n",
       "<style scoped>\n",
       "    .dataframe tbody tr th:only-of-type {\n",
       "        vertical-align: middle;\n",
       "    }\n",
       "\n",
       "    .dataframe tbody tr th {\n",
       "        vertical-align: top;\n",
       "    }\n",
       "\n",
       "    .dataframe thead th {\n",
       "        text-align: right;\n",
       "    }\n",
       "</style>\n",
       "<table border=\"1\" class=\"dataframe\">\n",
       "  <thead>\n",
       "    <tr style=\"text-align: right;\">\n",
       "      <th></th>\n",
       "      <th>Price</th>\n",
       "      <th>VehicleType</th>\n",
       "      <th>RegistrationYear</th>\n",
       "      <th>Gearbox</th>\n",
       "      <th>Power</th>\n",
       "      <th>Model</th>\n",
       "      <th>Kilometer</th>\n",
       "      <th>FuelType</th>\n",
       "      <th>Brand</th>\n",
       "    </tr>\n",
       "  </thead>\n",
       "  <tbody>\n",
       "    <tr>\n",
       "      <th>0</th>\n",
       "      <td>480</td>\n",
       "      <td>5</td>\n",
       "      <td>1993</td>\n",
       "      <td>1</td>\n",
       "      <td>101.0</td>\n",
       "      <td>114</td>\n",
       "      <td>150000</td>\n",
       "      <td>3</td>\n",
       "      <td>37</td>\n",
       "    </tr>\n",
       "    <tr>\n",
       "      <th>2</th>\n",
       "      <td>9800</td>\n",
       "      <td>6</td>\n",
       "      <td>2004</td>\n",
       "      <td>0</td>\n",
       "      <td>163.0</td>\n",
       "      <td>115</td>\n",
       "      <td>125000</td>\n",
       "      <td>3</td>\n",
       "      <td>14</td>\n",
       "    </tr>\n",
       "    <tr>\n",
       "      <th>3</th>\n",
       "      <td>1500</td>\n",
       "      <td>5</td>\n",
       "      <td>2001</td>\n",
       "      <td>1</td>\n",
       "      <td>75.0</td>\n",
       "      <td>114</td>\n",
       "      <td>150000</td>\n",
       "      <td>3</td>\n",
       "      <td>37</td>\n",
       "    </tr>\n",
       "    <tr>\n",
       "      <th>4</th>\n",
       "      <td>3600</td>\n",
       "      <td>5</td>\n",
       "      <td>2008</td>\n",
       "      <td>1</td>\n",
       "      <td>69.0</td>\n",
       "      <td>100</td>\n",
       "      <td>90000</td>\n",
       "      <td>3</td>\n",
       "      <td>31</td>\n",
       "    </tr>\n",
       "    <tr>\n",
       "      <th>5</th>\n",
       "      <td>650</td>\n",
       "      <td>4</td>\n",
       "      <td>1995</td>\n",
       "      <td>1</td>\n",
       "      <td>102.0</td>\n",
       "      <td>11</td>\n",
       "      <td>150000</td>\n",
       "      <td>3</td>\n",
       "      <td>2</td>\n",
       "    </tr>\n",
       "    <tr>\n",
       "      <th>...</th>\n",
       "      <td>...</td>\n",
       "      <td>...</td>\n",
       "      <td>...</td>\n",
       "      <td>...</td>\n",
       "      <td>...</td>\n",
       "      <td>...</td>\n",
       "      <td>...</td>\n",
       "      <td>...</td>\n",
       "      <td>...</td>\n",
       "    </tr>\n",
       "    <tr>\n",
       "      <th>354362</th>\n",
       "      <td>3200</td>\n",
       "      <td>4</td>\n",
       "      <td>2004</td>\n",
       "      <td>1</td>\n",
       "      <td>122.0</td>\n",
       "      <td>138</td>\n",
       "      <td>150000</td>\n",
       "      <td>3</td>\n",
       "      <td>30</td>\n",
       "    </tr>\n",
       "    <tr>\n",
       "      <th>354363</th>\n",
       "      <td>1150</td>\n",
       "      <td>0</td>\n",
       "      <td>2000</td>\n",
       "      <td>1</td>\n",
       "      <td>125.0</td>\n",
       "      <td>242</td>\n",
       "      <td>150000</td>\n",
       "      <td>3</td>\n",
       "      <td>24</td>\n",
       "    </tr>\n",
       "    <tr>\n",
       "      <th>354366</th>\n",
       "      <td>1199</td>\n",
       "      <td>1</td>\n",
       "      <td>2000</td>\n",
       "      <td>0</td>\n",
       "      <td>101.0</td>\n",
       "      <td>105</td>\n",
       "      <td>125000</td>\n",
       "      <td>3</td>\n",
       "      <td>32</td>\n",
       "    </tr>\n",
       "    <tr>\n",
       "      <th>354367</th>\n",
       "      <td>9200</td>\n",
       "      <td>0</td>\n",
       "      <td>1996</td>\n",
       "      <td>1</td>\n",
       "      <td>102.0</td>\n",
       "      <td>217</td>\n",
       "      <td>150000</td>\n",
       "      <td>3</td>\n",
       "      <td>37</td>\n",
       "    </tr>\n",
       "    <tr>\n",
       "      <th>354368</th>\n",
       "      <td>3400</td>\n",
       "      <td>7</td>\n",
       "      <td>2002</td>\n",
       "      <td>1</td>\n",
       "      <td>100.0</td>\n",
       "      <td>114</td>\n",
       "      <td>150000</td>\n",
       "      <td>3</td>\n",
       "      <td>37</td>\n",
       "    </tr>\n",
       "  </tbody>\n",
       "</table>\n",
       "<p>317610 rows × 9 columns</p>\n",
       "</div>"
      ],
      "text/plain": [
       "        Price  VehicleType  RegistrationYear  Gearbox  Power  Model  \\\n",
       "0         480            5              1993        1  101.0    114   \n",
       "2        9800            6              2004        0  163.0    115   \n",
       "3        1500            5              2001        1   75.0    114   \n",
       "4        3600            5              2008        1   69.0    100   \n",
       "5         650            4              1995        1  102.0     11   \n",
       "...       ...          ...               ...      ...    ...    ...   \n",
       "354362   3200            4              2004        1  122.0    138   \n",
       "354363   1150            0              2000        1  125.0    242   \n",
       "354366   1199            1              2000        0  101.0    105   \n",
       "354367   9200            0              1996        1  102.0    217   \n",
       "354368   3400            7              2002        1  100.0    114   \n",
       "\n",
       "        Kilometer  FuelType  Brand  \n",
       "0          150000         3     37  \n",
       "2          125000         3     14  \n",
       "3          150000         3     37  \n",
       "4           90000         3     31  \n",
       "5          150000         3      2  \n",
       "...           ...       ...    ...  \n",
       "354362     150000         3     30  \n",
       "354363     150000         3     24  \n",
       "354366     125000         3     32  \n",
       "354367     150000         3     37  \n",
       "354368     150000         3     37  \n",
       "\n",
       "[317610 rows x 9 columns]"
      ]
     },
     "execution_count": 18,
     "metadata": {},
     "output_type": "execute_result"
    }
   ],
   "source": [
    "# закодируем категориальные целевые признаки\n",
    "le = LabelEncoder()\n",
    "data_filtered_1['VehicleType']=le.fit_transform(data_filtered_1['VehicleType'])\n",
    "data_filtered_1['Gearbox']=le.fit_transform(data_filtered_1['Gearbox'])\n",
    "data_filtered_1['Model']=le.fit_transform(data_filtered_1['Model'])\n",
    "data_filtered_1['FuelType']=le.fit_transform(data_filtered_1['FuelType'])\n",
    "data_filtered_1['Brand']=le.fit_transform(data_filtered_1['Brand'])\n",
    "data_filtered_1"
   ]
  },
  {
   "cell_type": "code",
   "execution_count": 19,
   "metadata": {},
   "outputs": [],
   "source": [
    "features = data_filtered_1.drop(['Price'], axis = 1)\n",
    "target = data_filtered_1['Price']\n",
    "features_ohe = data_filtered_1_ohe.drop(['Price'], axis = 1)\n",
    "target_ohe = data_filtered_1_ohe['Price']\n",
    "features_lgbm = data_filtered_2.drop(['Price'], axis = 1)\n",
    "target_lgbm = data_filtered_2['Price']"
   ]
  },
  {
   "cell_type": "code",
   "execution_count": 20,
   "metadata": {},
   "outputs": [],
   "source": [
    "features_train, features_test, target_train, target_test = train_test_split(features, target, \n",
    "                                                                            test_size = 0.2, \n",
    "                                                                            random_state=12345)\n",
    "features_train_ohe, features_test_ohe, target_train_ohe, target_test_ohe = train_test_split(features_ohe, target_ohe, \n",
    "                                                                            test_size = 0.2, \n",
    "                                                                            random_state=12345)\n",
    "features_train_lgbm, features_test_lgbm, target_train_lgbm, target_test_lgbm = train_test_split(features_lgbm, target_lgbm, \n",
    "                                                                            test_size = 0.2, \n",
    "                                                                            random_state=12345)\n",
    "for c in features_train_lgbm.columns:\n",
    "    col_type = features_train_lgbm[c].dtype\n",
    "    if col_type == 'object' or col_type.name == 'category':\n",
    "        features_train_lgbm[c] = features_train_lgbm[c].astype('category')\n",
    "        \n",
    "for c in features_test_lgbm:\n",
    "    col_type = features_test_lgbm[c].dtype\n",
    "    if col_type == 'object' or col_type.name == 'category':\n",
    "        features_test_lgbm[c] = features_test_lgbm[c].astype('category')"
   ]
  },
  {
   "cell_type": "markdown",
   "metadata": {},
   "source": [
    "Загружен исходный датасет. Исходные данные имеют пропуски в планируемых для использования категориальных целевых признаках. Пропуски заменены подходящими значениями. Нулевые значения в столбцах Price отфильтрованы от нулевых и околонулевых значений и Power взяты аналогично параметрам конкретной модели автомобиля. Категориальные признаки закодированы числами для дальнейшего использования в моделях машинного обучения"
   ]
  },
  {
   "cell_type": "markdown",
   "metadata": {},
   "source": [
    "## Обучение моделей"
   ]
  },
  {
   "cell_type": "markdown",
   "metadata": {},
   "source": [
    "### Случайный лес"
   ]
  },
  {
   "cell_type": "code",
   "execution_count": 21,
   "metadata": {},
   "outputs": [
    {
     "name": "stdout",
     "output_type": "stream",
     "text": [
      "CPU times: user 6min 57s, sys: 1.84 s, total: 6min 59s\n",
      "Wall time: 6min 59s\n"
     ]
    },
    {
     "data": {
      "text/plain": [
       "GridSearchCV(cv=2, estimator=RandomForestRegressor(random_state=12345),\n",
       "             param_grid={'max_depth': [10, 12, 15],\n",
       "                         'n_estimators': [100, 120, 150]},\n",
       "             scoring=make_scorer(mean_squared_error))"
      ]
     },
     "execution_count": 21,
     "metadata": {},
     "output_type": "execute_result"
    }
   ],
   "source": [
    "%%time\n",
    "score = make_scorer(mean_squared_error, greater_is_better=True)\n",
    "model_rf = RandomForestRegressor(random_state=12345)\n",
    "param_set = {\n",
    " 'n_estimators':[100, 120, 150],\n",
    " 'max_depth': [10, 12, 15]\n",
    "}\n",
    "\n",
    "model_rf = GridSearchCV(model_rf, param_grid = param_set, cv=2, scoring = score)\n",
    "model_rf.fit(features_train, target_train)"
   ]
  },
  {
   "cell_type": "code",
   "execution_count": 22,
   "metadata": {},
   "outputs": [
    {
     "data": {
      "text/plain": [
       "{'max_depth': 10, 'n_estimators': 100}"
      ]
     },
     "execution_count": 22,
     "metadata": {},
     "output_type": "execute_result"
    }
   ],
   "source": [
    "model_rf.best_params_"
   ]
  },
  {
   "cell_type": "code",
   "execution_count": 23,
   "metadata": {},
   "outputs": [
    {
     "data": {
      "text/plain": [
       "1978.3824678627623"
      ]
     },
     "execution_count": 23,
     "metadata": {},
     "output_type": "execute_result"
    }
   ],
   "source": [
    "model_rf.score(features_train, target_train)**0.5"
   ]
  },
  {
   "cell_type": "code",
   "execution_count": 24,
   "metadata": {},
   "outputs": [],
   "source": [
    "del features_train\n",
    "del target_train\n"
   ]
  },
  {
   "cell_type": "markdown",
   "metadata": {},
   "source": [
    "### Линейная регрессия"
   ]
  },
  {
   "cell_type": "code",
   "execution_count": 25,
   "metadata": {},
   "outputs": [
    {
     "name": "stdout",
     "output_type": "stream",
     "text": [
      "CPU times: user 16.4 s, sys: 22.6 s, total: 39.1 s\n",
      "Wall time: 39 s\n"
     ]
    },
    {
     "data": {
      "text/plain": [
       "LinearRegression()"
      ]
     },
     "execution_count": 25,
     "metadata": {},
     "output_type": "execute_result"
    }
   ],
   "source": [
    "%%time\n",
    "model_lr = LinearRegression()\n",
    "model_lr.fit(features_train_ohe, target_train_ohe)"
   ]
  },
  {
   "cell_type": "code",
   "execution_count": 26,
   "metadata": {},
   "outputs": [
    {
     "name": "stdout",
     "output_type": "stream",
     "text": [
      "RMSE линейная регрессия 2845.00\n"
     ]
    }
   ],
   "source": [
    "score = make_scorer(mean_squared_error, greater_is_better=True)\n",
    "cv_result = cross_validate(model_lr, features_train_ohe, target_train_ohe, scoring=score, cv=3)\n",
    "print('RMSE линейная регрессия {:.2f}'.format (abs((cv_result['test_score']**0.5).mean())))"
   ]
  },
  {
   "cell_type": "markdown",
   "metadata": {},
   "source": [
    "### Градиентный бустинг"
   ]
  },
  {
   "cell_type": "code",
   "execution_count": 27,
   "metadata": {},
   "outputs": [
    {
     "name": "stdout",
     "output_type": "stream",
     "text": [
      "CPU times: user 11min 27s, sys: 4.19 s, total: 11min 31s\n",
      "Wall time: 11min 35s\n"
     ]
    },
    {
     "data": {
      "text/plain": [
       "GridSearchCV(cv=2,\n",
       "             estimator=LGBMRegressor(max_depth=3, n_estimators=25,\n",
       "                                     objective='regression_l2',\n",
       "                                     random_state=12345),\n",
       "             param_grid={'learning_rate': [0.05, 0.1], 'max_depth': [10, 15],\n",
       "                         'n_estimators': [100, 150]},\n",
       "             scoring=make_scorer(mean_squared_error))"
      ]
     },
     "execution_count": 27,
     "metadata": {},
     "output_type": "execute_result"
    }
   ],
   "source": [
    "%%time\n",
    "score = make_scorer(mean_squared_error, greater_is_better=True)\n",
    "\n",
    "alg_conf = {\n",
    "    \"num_boost_round\":25,\n",
    "    \"max_depth\" : 3,\n",
    "    \"num_leaves\" : 31,\n",
    "    'learning_rate' : 0.1,\n",
    "    'boosting_type' : 'gbdt',\n",
    "    'objective' : 'regression_l2',\n",
    "    \"early_stopping_rounds\": None\n",
    "}\n",
    "param_set = {\n",
    " 'n_estimators':[100, 150],\n",
    " 'max_depth':[10, 15],\n",
    " 'learning_rate':[0.05, 0.1]\n",
    "}\n",
    "\n",
    "booster = GridSearchCV(estimator = lgbm.LGBMRegressor(random_state = 12345,\n",
    "                                                     num_leaves=alg_conf[\"num_leaves\"],\n",
    "                                                     n_estimators=alg_conf[\"num_boost_round\"],\n",
    "                                                    max_depth=alg_conf[\"max_depth\"],\n",
    "                                                    learning_rate=alg_conf[\"learning_rate\"],\n",
    "                                                    objective=alg_conf[\"objective\"],\n",
    "                                                     ), cv=2, scoring = score, param_grid = param_set)\n",
    "\n",
    "booster.fit(features_train_lgbm, target_train_lgbm)"
   ]
  },
  {
   "cell_type": "code",
   "execution_count": 28,
   "metadata": {},
   "outputs": [
    {
     "data": {
      "text/plain": [
       "1839.9443941998807"
      ]
     },
     "execution_count": 28,
     "metadata": {},
     "output_type": "execute_result"
    }
   ],
   "source": [
    "booster.score(features_train_lgbm, target_train_lgbm)**0.5"
   ]
  },
  {
   "cell_type": "code",
   "execution_count": 29,
   "metadata": {},
   "outputs": [
    {
     "data": {
      "text/plain": [
       "{'learning_rate': 0.05, 'max_depth': 10, 'n_estimators': 100}"
      ]
     },
     "execution_count": 29,
     "metadata": {},
     "output_type": "execute_result"
    }
   ],
   "source": [
    "booster.best_params_"
   ]
  },
  {
   "cell_type": "code",
   "execution_count": 31,
   "metadata": {},
   "outputs": [],
   "source": [
    "del features_train_lgbm\n",
    "del target_train_lgbm"
   ]
  },
  {
   "cell_type": "markdown",
   "metadata": {},
   "source": [
    "Обучены и валидированы модели случайного леса, линейной регрессии и градиентного бустинга LGBMRegressor. Получены следующие результаты:<br>\n",
    "Случайный лес: RMSE - 1978 евро,  время обучения с подбором параметров по сетке 7 минут <br>\n",
    "Линейная регрессия: RMSE - 2845 евро, время обучения 1 минута (параметры по сетке не подбирались)<br>\n",
    "Градиентный бустинг: RMSE - 1839 евро, время обучения с подбором параметров по сетке 11 минут <br>"
   ]
  },
  {
   "cell_type": "markdown",
   "metadata": {},
   "source": [
    "## Анализ моделей"
   ]
  },
  {
   "cell_type": "markdown",
   "metadata": {},
   "source": [
    "### Случайный лес"
   ]
  },
  {
   "cell_type": "code",
   "execution_count": 32,
   "metadata": {},
   "outputs": [
    {
     "name": "stdout",
     "output_type": "stream",
     "text": [
      "2036.9307149313738\n",
      "CPU times: user 598 ms, sys: 5.25 ms, total: 604 ms\n",
      "Wall time: 601 ms\n"
     ]
    }
   ],
   "source": [
    "%%time\n",
    "model_rf_predict = model_rf.predict(features_test)\n",
    "print(mean_squared_error(target_test, model_rf_predict, squared=False))"
   ]
  },
  {
   "cell_type": "markdown",
   "metadata": {},
   "source": [
    "### Линейная регрессия"
   ]
  },
  {
   "cell_type": "code",
   "execution_count": 33,
   "metadata": {},
   "outputs": [
    {
     "name": "stdout",
     "output_type": "stream",
     "text": [
      "2864.4932886613733\n",
      "CPU times: user 101 ms, sys: 37.9 ms, total: 139 ms\n",
      "Wall time: 93.1 ms\n"
     ]
    }
   ],
   "source": [
    "%%time\n",
    "model_lr_predict = model_lr.predict(features_test_ohe)\n",
    "print(mean_squared_error(target_test_ohe, model_lr_predict, squared=False))"
   ]
  },
  {
   "cell_type": "markdown",
   "metadata": {},
   "source": [
    "### Градиентный бустинг"
   ]
  },
  {
   "cell_type": "code",
   "execution_count": 34,
   "metadata": {},
   "outputs": [
    {
     "name": "stdout",
     "output_type": "stream",
     "text": [
      "1867.9793128445717\n",
      "CPU times: user 685 ms, sys: 0 ns, total: 685 ms\n",
      "Wall time: 697 ms\n"
     ]
    }
   ],
   "source": [
    "%%time\n",
    "booster_predict = booster.predict(features_test_lgbm)\n",
    "print(mean_squared_error(target_test_lgbm, booster_predict, squared=False))"
   ]
  },
  {
   "cell_type": "markdown",
   "metadata": {},
   "source": [
    "### Случайный регрессор"
   ]
  },
  {
   "cell_type": "code",
   "execution_count": 35,
   "metadata": {},
   "outputs": [
    {
     "name": "stdout",
     "output_type": "stream",
     "text": [
      "4514.417536013342\n",
      "CPU times: user 4.17 ms, sys: 0 ns, total: 4.17 ms\n",
      "Wall time: 2.45 ms\n"
     ]
    }
   ],
   "source": [
    "%%time\n",
    "dr = DummyRegressor(strategy='mean')\n",
    "dr.fit(features_train_ohe, target_train_ohe)\n",
    "predict_dr = dr.predict(features_test_ohe)\n",
    "print(mean_squared_error(target_test_ohe, predict_dr, squared=False))"
   ]
  },
  {
   "cell_type": "markdown",
   "metadata": {},
   "source": [
    "На ранее обученных моделях сделаны предсказания. Получены следующие результаты:<br>\n",
    "Случайный лес: RMSE - 2037 евро,  время предсказаний 601 милисекунда<br>\n",
    "Линейная регрессия: RMSE - 2864 евро, время предсказаний 91 милисекунд<br>\n",
    "Градиентный бустинг: RMSE - 1868 евро, время предсказаний 697 милисекунд <br>\n",
    "Случайный регрессор: RMSE - 4514 евро, время предсказаний 2,45 милисекунд.\n",
    "Для дальнейшего использования выберем модель градиентного бустинга как более быструю в обучении и подходящую под заданный критерий ошибки."
   ]
  },
  {
   "cell_type": "markdown",
   "metadata": {},
   "source": [
    "Выводы про проекту:<br>\n",
    "1. Получены входящие данные из базы продаж машин содержащие различные признаки продаваемыех машин. Данные имеют пропуски в категориальных данных и нулевые значения в столбцах с числовыми значениями. Пропущенные категориальные значения заполнены аналогичными параметрами для модели автомобиля. Значения цены отфильтрованы от экстремально низких (нулевых значений). Значения мощности взяты по аналогичными данной модели автомобиля.<br>\n",
    "2. Обучены модели случайного леса, линейной регрессии и градиентного бустинга. Лучшие результаты по времени обучения и точности предсказаний показала модель градиентного бустинга (RMSE - 1839 евро, время обучения 11 минут).<br>\n",
    "3. Сделаны предсказания на тестовой выборке моделей. Лучшие показатели времени предсказаний и точности показаны моделью градиентного бустинга (RMSE - 1868 евро, время предсказаний 697 милисекунд). Случайный регрессор показал значения RMSE - 4514 евро, время предсказаний 2,45 милисекунд.<br>\n",
    "Модель градиентного бустинга лучше остальных показала себя на большом объеме данных по времени обучения/предсказания и точности (ошибке предсказаний).\n"
   ]
  }
 ],
 "metadata": {
  "ExecuteTimeLog": [
   {
    "duration": 457,
    "start_time": "2022-06-28T11:35:30.700Z"
   },
   {
    "duration": 843,
    "start_time": "2022-06-28T11:35:41.019Z"
   },
   {
    "duration": 41,
    "start_time": "2022-06-28T11:36:20.212Z"
   },
   {
    "duration": 100,
    "start_time": "2022-06-28T11:36:46.811Z"
   },
   {
    "duration": 3297,
    "start_time": "2022-06-28T11:38:00.664Z"
   },
   {
    "duration": 129,
    "start_time": "2022-06-28T11:38:13.368Z"
   },
   {
    "duration": 43,
    "start_time": "2022-06-28T11:38:38.654Z"
   },
   {
    "duration": 101,
    "start_time": "2022-06-28T11:40:09.714Z"
   },
   {
    "duration": 17,
    "start_time": "2022-06-28T11:41:35.263Z"
   },
   {
    "duration": 130,
    "start_time": "2022-06-28T11:41:40.680Z"
   },
   {
    "duration": 86,
    "start_time": "2022-06-28T11:42:56.894Z"
   },
   {
    "duration": 4,
    "start_time": "2022-06-28T11:56:03.450Z"
   },
   {
    "duration": 21,
    "start_time": "2022-06-28T12:00:21.655Z"
   },
   {
    "duration": 1184,
    "start_time": "2022-06-29T10:24:20.231Z"
   },
   {
    "duration": 1059,
    "start_time": "2022-06-29T10:24:21.417Z"
   },
   {
    "duration": 315,
    "start_time": "2022-06-29T10:24:22.478Z"
   },
   {
    "duration": 38,
    "start_time": "2022-06-29T10:24:22.796Z"
   },
   {
    "duration": 77,
    "start_time": "2022-06-29T10:24:22.835Z"
   },
   {
    "duration": 20,
    "start_time": "2022-06-29T10:24:22.922Z"
   },
   {
    "duration": 21,
    "start_time": "2022-06-29T10:28:29.450Z"
   },
   {
    "duration": 22,
    "start_time": "2022-06-29T10:29:01.773Z"
   },
   {
    "duration": 111,
    "start_time": "2022-06-29T10:31:27.774Z"
   },
   {
    "duration": 27,
    "start_time": "2022-06-29T10:31:38.255Z"
   },
   {
    "duration": 16,
    "start_time": "2022-06-29T10:42:48.155Z"
   },
   {
    "duration": 12,
    "start_time": "2022-06-29T10:43:06.603Z"
   },
   {
    "duration": 18,
    "start_time": "2022-06-29T10:43:18.818Z"
   },
   {
    "duration": 20,
    "start_time": "2022-06-29T10:51:05.201Z"
   },
   {
    "duration": 123,
    "start_time": "2022-06-29T10:51:28.417Z"
   },
   {
    "duration": 133,
    "start_time": "2022-06-29T10:51:47.244Z"
   },
   {
    "duration": 19,
    "start_time": "2022-06-29T10:52:03.391Z"
   },
   {
    "duration": 10,
    "start_time": "2022-06-29T10:52:05.575Z"
   },
   {
    "duration": 799,
    "start_time": "2022-06-29T10:52:12.568Z"
   },
   {
    "duration": 1258,
    "start_time": "2022-06-29T10:52:23.423Z"
   },
   {
    "duration": 902,
    "start_time": "2022-06-29T10:52:24.684Z"
   },
   {
    "duration": 312,
    "start_time": "2022-06-29T10:52:25.588Z"
   },
   {
    "duration": 37,
    "start_time": "2022-06-29T10:52:25.902Z"
   },
   {
    "duration": 98,
    "start_time": "2022-06-29T10:52:25.941Z"
   },
   {
    "duration": 27,
    "start_time": "2022-06-29T10:52:26.041Z"
   },
   {
    "duration": 31,
    "start_time": "2022-06-29T10:52:26.070Z"
   },
   {
    "duration": 44,
    "start_time": "2022-06-29T10:52:26.103Z"
   },
   {
    "duration": 26,
    "start_time": "2022-06-29T10:52:26.149Z"
   },
   {
    "duration": 21,
    "start_time": "2022-06-29T10:52:26.178Z"
   },
   {
    "duration": 173,
    "start_time": "2022-06-29T10:52:26.200Z"
   },
   {
    "duration": 18,
    "start_time": "2022-06-29T10:53:45.348Z"
   },
   {
    "duration": 131,
    "start_time": "2022-06-29T10:53:48.693Z"
   },
   {
    "duration": 139,
    "start_time": "2022-06-29T10:54:05.434Z"
   },
   {
    "duration": 74,
    "start_time": "2022-06-29T10:55:49.040Z"
   },
   {
    "duration": 116,
    "start_time": "2022-06-29T10:55:49.760Z"
   },
   {
    "duration": 471,
    "start_time": "2022-06-29T10:58:55.117Z"
   },
   {
    "duration": 113,
    "start_time": "2022-06-29T10:59:37.378Z"
   },
   {
    "duration": 137,
    "start_time": "2022-06-29T10:59:42.716Z"
   },
   {
    "duration": 133,
    "start_time": "2022-06-29T11:00:08.859Z"
   },
   {
    "duration": 117,
    "start_time": "2022-06-29T11:00:10.516Z"
   },
   {
    "duration": 175,
    "start_time": "2022-06-29T11:00:51.018Z"
   },
   {
    "duration": 122,
    "start_time": "2022-06-29T11:00:52.042Z"
   },
   {
    "duration": 214,
    "start_time": "2022-06-29T11:01:18.602Z"
   },
   {
    "duration": 115,
    "start_time": "2022-06-29T11:01:20.970Z"
   },
   {
    "duration": 274,
    "start_time": "2022-06-29T11:03:43.655Z"
   },
   {
    "duration": 268,
    "start_time": "2022-06-29T11:04:00.568Z"
   },
   {
    "duration": 141,
    "start_time": "2022-06-29T11:04:07.296Z"
   },
   {
    "duration": 260,
    "start_time": "2022-06-29T11:04:39.327Z"
   },
   {
    "duration": 126,
    "start_time": "2022-06-29T11:04:39.998Z"
   },
   {
    "duration": 250,
    "start_time": "2022-06-29T11:08:17.827Z"
   },
   {
    "duration": 251,
    "start_time": "2022-06-29T11:08:38.020Z"
   },
   {
    "duration": 124,
    "start_time": "2022-06-29T11:08:39.539Z"
   },
   {
    "duration": 23,
    "start_time": "2022-06-29T11:09:14.723Z"
   },
   {
    "duration": 276,
    "start_time": "2022-06-29T11:09:41.851Z"
   },
   {
    "duration": 118,
    "start_time": "2022-06-29T11:09:42.835Z"
   },
   {
    "duration": 22,
    "start_time": "2022-06-29T11:09:45.669Z"
   },
   {
    "duration": 89,
    "start_time": "2022-06-29T11:10:28.844Z"
   },
   {
    "duration": 1158,
    "start_time": "2022-06-29T11:10:49.061Z"
   },
   {
    "duration": 816,
    "start_time": "2022-06-29T11:10:50.221Z"
   },
   {
    "duration": 272,
    "start_time": "2022-06-29T11:10:51.039Z"
   },
   {
    "duration": 31,
    "start_time": "2022-06-29T11:10:51.314Z"
   },
   {
    "duration": 86,
    "start_time": "2022-06-29T11:10:51.346Z"
   },
   {
    "duration": 24,
    "start_time": "2022-06-29T11:10:51.434Z"
   },
   {
    "duration": 25,
    "start_time": "2022-06-29T11:10:51.459Z"
   },
   {
    "duration": 30,
    "start_time": "2022-06-29T11:10:51.486Z"
   },
   {
    "duration": 38,
    "start_time": "2022-06-29T11:10:51.523Z"
   },
   {
    "duration": 335,
    "start_time": "2022-06-29T11:10:51.564Z"
   },
   {
    "duration": 136,
    "start_time": "2022-06-29T11:10:51.900Z"
   },
   {
    "duration": 96,
    "start_time": "2022-06-29T11:10:52.038Z"
   },
   {
    "duration": 26,
    "start_time": "2022-06-29T11:12:08.948Z"
   },
   {
    "duration": 309,
    "start_time": "2022-06-29T11:14:26.864Z"
   },
   {
    "duration": 137,
    "start_time": "2022-06-29T11:14:28.449Z"
   },
   {
    "duration": 37,
    "start_time": "2022-06-29T11:14:35.355Z"
   },
   {
    "duration": 1290,
    "start_time": "2022-06-29T11:15:18.925Z"
   },
   {
    "duration": 841,
    "start_time": "2022-06-29T11:15:20.217Z"
   },
   {
    "duration": 288,
    "start_time": "2022-06-29T11:15:21.060Z"
   },
   {
    "duration": 38,
    "start_time": "2022-06-29T11:15:21.350Z"
   },
   {
    "duration": 87,
    "start_time": "2022-06-29T11:15:21.390Z"
   },
   {
    "duration": 19,
    "start_time": "2022-06-29T11:15:21.479Z"
   },
   {
    "duration": 35,
    "start_time": "2022-06-29T11:15:21.500Z"
   },
   {
    "duration": 20,
    "start_time": "2022-06-29T11:15:21.537Z"
   },
   {
    "duration": 36,
    "start_time": "2022-06-29T11:15:21.559Z"
   },
   {
    "duration": 365,
    "start_time": "2022-06-29T11:15:21.597Z"
   },
   {
    "duration": 127,
    "start_time": "2022-06-29T11:15:21.964Z"
   },
   {
    "duration": 36,
    "start_time": "2022-06-29T11:15:22.092Z"
   },
   {
    "duration": 1214,
    "start_time": "2022-06-29T11:16:44.221Z"
   },
   {
    "duration": 826,
    "start_time": "2022-06-29T11:16:45.437Z"
   },
   {
    "duration": 284,
    "start_time": "2022-06-29T11:16:46.265Z"
   },
   {
    "duration": 40,
    "start_time": "2022-06-29T11:16:46.552Z"
   },
   {
    "duration": 105,
    "start_time": "2022-06-29T11:16:46.594Z"
   },
   {
    "duration": 30,
    "start_time": "2022-06-29T11:16:46.701Z"
   },
   {
    "duration": 26,
    "start_time": "2022-06-29T11:16:46.732Z"
   },
   {
    "duration": 24,
    "start_time": "2022-06-29T11:16:46.760Z"
   },
   {
    "duration": 45,
    "start_time": "2022-06-29T11:16:46.785Z"
   },
   {
    "duration": 421,
    "start_time": "2022-06-29T11:16:46.832Z"
   },
   {
    "duration": 124,
    "start_time": "2022-06-29T11:16:47.255Z"
   },
   {
    "duration": 25,
    "start_time": "2022-06-29T11:16:47.380Z"
   },
   {
    "duration": 323,
    "start_time": "2022-06-29T11:17:43.708Z"
   },
   {
    "duration": 347,
    "start_time": "2022-06-29T11:18:06.078Z"
   },
   {
    "duration": 115,
    "start_time": "2022-06-29T11:18:10.143Z"
   },
   {
    "duration": 21,
    "start_time": "2022-06-29T11:18:27.820Z"
   },
   {
    "duration": 1214,
    "start_time": "2022-06-29T11:19:49.833Z"
   },
   {
    "duration": 846,
    "start_time": "2022-06-29T11:19:51.048Z"
   },
   {
    "duration": 298,
    "start_time": "2022-06-29T11:19:51.895Z"
   },
   {
    "duration": 39,
    "start_time": "2022-06-29T11:19:52.196Z"
   },
   {
    "duration": 88,
    "start_time": "2022-06-29T11:19:52.237Z"
   },
   {
    "duration": 22,
    "start_time": "2022-06-29T11:19:52.327Z"
   },
   {
    "duration": 28,
    "start_time": "2022-06-29T11:19:52.351Z"
   },
   {
    "duration": 27,
    "start_time": "2022-06-29T11:19:52.381Z"
   },
   {
    "duration": 37,
    "start_time": "2022-06-29T11:19:52.424Z"
   },
   {
    "duration": 484,
    "start_time": "2022-06-29T11:19:52.464Z"
   },
   {
    "duration": 116,
    "start_time": "2022-06-29T11:19:52.950Z"
   },
   {
    "duration": 57,
    "start_time": "2022-06-29T11:19:53.068Z"
   },
   {
    "duration": 19,
    "start_time": "2022-06-29T11:19:53.127Z"
   },
   {
    "duration": 21,
    "start_time": "2022-06-29T11:20:13.690Z"
   },
   {
    "duration": 41,
    "start_time": "2022-06-29T11:20:29.249Z"
   },
   {
    "duration": 331,
    "start_time": "2022-06-29T11:39:35.203Z"
   },
   {
    "duration": 115,
    "start_time": "2022-06-29T11:39:36.305Z"
   },
   {
    "duration": 24,
    "start_time": "2022-06-29T11:39:37.869Z"
   },
   {
    "duration": 23,
    "start_time": "2022-06-29T11:39:42.388Z"
   },
   {
    "duration": 21,
    "start_time": "2022-06-29T11:40:01.943Z"
   },
   {
    "duration": 110,
    "start_time": "2022-06-29T11:40:40.463Z"
   },
   {
    "duration": 19,
    "start_time": "2022-06-29T11:40:52.359Z"
   },
   {
    "duration": 24,
    "start_time": "2022-06-29T11:41:09.759Z"
   },
   {
    "duration": 27,
    "start_time": "2022-06-29T11:41:16.006Z"
   },
   {
    "duration": 10,
    "start_time": "2022-06-29T11:41:46.910Z"
   },
   {
    "duration": 10,
    "start_time": "2022-06-29T11:41:52.670Z"
   },
   {
    "duration": 24,
    "start_time": "2022-06-29T11:42:37.527Z"
   },
   {
    "duration": 33,
    "start_time": "2022-06-29T11:43:05.390Z"
   },
   {
    "duration": 29,
    "start_time": "2022-06-29T11:43:21.309Z"
   },
   {
    "duration": 1229,
    "start_time": "2022-06-29T11:43:43.695Z"
   },
   {
    "duration": 887,
    "start_time": "2022-06-29T11:43:44.926Z"
   },
   {
    "duration": 315,
    "start_time": "2022-06-29T11:43:45.815Z"
   },
   {
    "duration": 32,
    "start_time": "2022-06-29T11:43:46.132Z"
   },
   {
    "duration": 101,
    "start_time": "2022-06-29T11:43:46.166Z"
   },
   {
    "duration": 21,
    "start_time": "2022-06-29T11:43:46.269Z"
   },
   {
    "duration": 33,
    "start_time": "2022-06-29T11:43:46.291Z"
   },
   {
    "duration": 23,
    "start_time": "2022-06-29T11:43:46.326Z"
   },
   {
    "duration": 26,
    "start_time": "2022-06-29T11:43:46.351Z"
   },
   {
    "duration": 465,
    "start_time": "2022-06-29T11:43:46.379Z"
   },
   {
    "duration": 127,
    "start_time": "2022-06-29T11:43:46.847Z"
   },
   {
    "duration": 39,
    "start_time": "2022-06-29T11:43:46.976Z"
   },
   {
    "duration": 40,
    "start_time": "2022-06-29T11:43:47.017Z"
   },
   {
    "duration": 1151,
    "start_time": "2022-06-29T11:45:05.386Z"
   },
   {
    "duration": 813,
    "start_time": "2022-06-29T11:45:06.540Z"
   },
   {
    "duration": 311,
    "start_time": "2022-06-29T11:45:07.363Z"
   },
   {
    "duration": 25,
    "start_time": "2022-06-29T11:45:07.676Z"
   },
   {
    "duration": 81,
    "start_time": "2022-06-29T11:45:07.703Z"
   },
   {
    "duration": 20,
    "start_time": "2022-06-29T11:45:07.786Z"
   },
   {
    "duration": 19,
    "start_time": "2022-06-29T11:45:07.824Z"
   },
   {
    "duration": 21,
    "start_time": "2022-06-29T11:45:07.845Z"
   },
   {
    "duration": 27,
    "start_time": "2022-06-29T11:45:07.868Z"
   },
   {
    "duration": 514,
    "start_time": "2022-06-29T11:45:07.897Z"
   },
   {
    "duration": 124,
    "start_time": "2022-06-29T11:45:08.413Z"
   },
   {
    "duration": 23,
    "start_time": "2022-06-29T11:45:08.539Z"
   },
   {
    "duration": 30,
    "start_time": "2022-06-29T11:45:08.564Z"
   },
   {
    "duration": 97,
    "start_time": "2022-06-29T11:47:38.926Z"
   },
   {
    "duration": 13,
    "start_time": "2022-06-29T11:54:39.995Z"
   },
   {
    "duration": 53,
    "start_time": "2022-06-29T11:56:54.737Z"
   },
   {
    "duration": 123,
    "start_time": "2022-06-29T11:57:01.721Z"
   },
   {
    "duration": 85,
    "start_time": "2022-06-29T11:58:46.424Z"
   },
   {
    "duration": 88,
    "start_time": "2022-06-29T11:58:47.554Z"
   },
   {
    "duration": 113,
    "start_time": "2022-06-29T11:59:32.678Z"
   },
   {
    "duration": 70,
    "start_time": "2022-06-29T11:59:59.791Z"
   },
   {
    "duration": 80,
    "start_time": "2022-06-29T12:00:00.583Z"
   },
   {
    "duration": 1235,
    "start_time": "2022-06-29T12:00:17.967Z"
   },
   {
    "duration": 972,
    "start_time": "2022-06-29T12:00:19.204Z"
   },
   {
    "duration": 317,
    "start_time": "2022-06-29T12:00:20.178Z"
   },
   {
    "duration": 34,
    "start_time": "2022-06-29T12:00:20.498Z"
   },
   {
    "duration": 90,
    "start_time": "2022-06-29T12:00:20.534Z"
   },
   {
    "duration": 22,
    "start_time": "2022-06-29T12:00:20.626Z"
   },
   {
    "duration": 24,
    "start_time": "2022-06-29T12:00:20.650Z"
   },
   {
    "duration": 48,
    "start_time": "2022-06-29T12:00:20.675Z"
   },
   {
    "duration": 28,
    "start_time": "2022-06-29T12:00:20.726Z"
   },
   {
    "duration": 536,
    "start_time": "2022-06-29T12:00:20.758Z"
   },
   {
    "duration": 130,
    "start_time": "2022-06-29T12:00:21.296Z"
   },
   {
    "duration": 25,
    "start_time": "2022-06-29T12:00:21.428Z"
   },
   {
    "duration": 127,
    "start_time": "2022-06-29T12:00:21.456Z"
   },
   {
    "duration": 72,
    "start_time": "2022-06-29T12:00:21.585Z"
   },
   {
    "duration": 107,
    "start_time": "2022-06-29T12:00:21.659Z"
   },
   {
    "duration": 67,
    "start_time": "2022-06-29T12:01:11.084Z"
   },
   {
    "duration": 83,
    "start_time": "2022-06-29T12:01:11.838Z"
   },
   {
    "duration": 58,
    "start_time": "2022-06-29T12:01:26.951Z"
   },
   {
    "duration": 84,
    "start_time": "2022-06-29T12:01:29.316Z"
   },
   {
    "duration": 1364,
    "start_time": "2022-06-29T12:01:42.496Z"
   },
   {
    "duration": 895,
    "start_time": "2022-06-29T12:01:43.862Z"
   },
   {
    "duration": 309,
    "start_time": "2022-06-29T12:01:44.759Z"
   },
   {
    "duration": 31,
    "start_time": "2022-06-29T12:01:45.070Z"
   },
   {
    "duration": 92,
    "start_time": "2022-06-29T12:01:45.103Z"
   },
   {
    "duration": 30,
    "start_time": "2022-06-29T12:01:45.197Z"
   },
   {
    "duration": 24,
    "start_time": "2022-06-29T12:01:45.229Z"
   },
   {
    "duration": 29,
    "start_time": "2022-06-29T12:01:45.255Z"
   },
   {
    "duration": 46,
    "start_time": "2022-06-29T12:01:45.286Z"
   },
   {
    "duration": 502,
    "start_time": "2022-06-29T12:01:45.335Z"
   },
   {
    "duration": 128,
    "start_time": "2022-06-29T12:01:45.839Z"
   },
   {
    "duration": 46,
    "start_time": "2022-06-29T12:01:45.969Z"
   },
   {
    "duration": 103,
    "start_time": "2022-06-29T12:01:46.016Z"
   },
   {
    "duration": 53,
    "start_time": "2022-06-29T12:01:46.121Z"
   },
   {
    "duration": 111,
    "start_time": "2022-06-29T12:01:46.175Z"
   },
   {
    "duration": 1325,
    "start_time": "2022-06-29T12:02:12.148Z"
   },
   {
    "duration": 891,
    "start_time": "2022-06-29T12:02:13.475Z"
   },
   {
    "duration": 317,
    "start_time": "2022-06-29T12:02:14.367Z"
   },
   {
    "duration": 42,
    "start_time": "2022-06-29T12:02:14.685Z"
   },
   {
    "duration": 75,
    "start_time": "2022-06-29T12:02:14.730Z"
   },
   {
    "duration": 34,
    "start_time": "2022-06-29T12:02:14.807Z"
   },
   {
    "duration": 23,
    "start_time": "2022-06-29T12:02:14.843Z"
   },
   {
    "duration": 27,
    "start_time": "2022-06-29T12:02:14.868Z"
   },
   {
    "duration": 64,
    "start_time": "2022-06-29T12:02:14.897Z"
   },
   {
    "duration": 511,
    "start_time": "2022-06-29T12:02:14.963Z"
   },
   {
    "duration": 122,
    "start_time": "2022-06-29T12:02:15.477Z"
   },
   {
    "duration": 33,
    "start_time": "2022-06-29T12:02:15.600Z"
   },
   {
    "duration": 101,
    "start_time": "2022-06-29T12:02:15.635Z"
   },
   {
    "duration": 51,
    "start_time": "2022-06-29T12:02:15.738Z"
   },
   {
    "duration": 114,
    "start_time": "2022-06-29T12:02:15.791Z"
   },
   {
    "duration": 60,
    "start_time": "2022-06-29T12:02:41.489Z"
   },
   {
    "duration": 58,
    "start_time": "2022-06-29T12:02:42.337Z"
   },
   {
    "duration": 29,
    "start_time": "2022-06-29T12:03:39.862Z"
   },
   {
    "duration": 41,
    "start_time": "2022-06-29T12:03:42.383Z"
   },
   {
    "duration": 25,
    "start_time": "2022-06-29T12:04:00.535Z"
   },
   {
    "duration": 50,
    "start_time": "2022-06-29T12:04:02.511Z"
   },
   {
    "duration": 1203,
    "start_time": "2022-06-29T12:04:08.466Z"
   },
   {
    "duration": 862,
    "start_time": "2022-06-29T12:04:09.672Z"
   },
   {
    "duration": 295,
    "start_time": "2022-06-29T12:04:10.536Z"
   },
   {
    "duration": 25,
    "start_time": "2022-06-29T12:04:10.834Z"
   },
   {
    "duration": 92,
    "start_time": "2022-06-29T12:04:10.861Z"
   },
   {
    "duration": 21,
    "start_time": "2022-06-29T12:04:10.955Z"
   },
   {
    "duration": 28,
    "start_time": "2022-06-29T12:04:10.978Z"
   },
   {
    "duration": 47,
    "start_time": "2022-06-29T12:04:11.008Z"
   },
   {
    "duration": 42,
    "start_time": "2022-06-29T12:04:11.058Z"
   },
   {
    "duration": 531,
    "start_time": "2022-06-29T12:04:11.103Z"
   },
   {
    "duration": 121,
    "start_time": "2022-06-29T12:04:11.636Z"
   },
   {
    "duration": 23,
    "start_time": "2022-06-29T12:04:11.759Z"
   },
   {
    "duration": 109,
    "start_time": "2022-06-29T12:04:11.784Z"
   },
   {
    "duration": 72,
    "start_time": "2022-06-29T12:04:11.895Z"
   },
   {
    "duration": 109,
    "start_time": "2022-06-29T12:04:11.969Z"
   },
   {
    "duration": 1247,
    "start_time": "2022-06-29T12:05:10.793Z"
   },
   {
    "duration": 857,
    "start_time": "2022-06-29T12:05:12.042Z"
   },
   {
    "duration": 283,
    "start_time": "2022-06-29T12:05:12.900Z"
   },
   {
    "duration": 27,
    "start_time": "2022-06-29T12:05:13.185Z"
   },
   {
    "duration": 82,
    "start_time": "2022-06-29T12:05:13.214Z"
   },
   {
    "duration": 33,
    "start_time": "2022-06-29T12:05:13.298Z"
   },
   {
    "duration": 23,
    "start_time": "2022-06-29T12:05:13.332Z"
   },
   {
    "duration": 24,
    "start_time": "2022-06-29T12:05:13.356Z"
   },
   {
    "duration": 44,
    "start_time": "2022-06-29T12:05:13.382Z"
   },
   {
    "duration": 495,
    "start_time": "2022-06-29T12:05:13.428Z"
   },
   {
    "duration": 124,
    "start_time": "2022-06-29T12:05:13.924Z"
   },
   {
    "duration": 21,
    "start_time": "2022-06-29T12:05:14.050Z"
   },
   {
    "duration": 101,
    "start_time": "2022-06-29T12:05:14.072Z"
   },
   {
    "duration": 59,
    "start_time": "2022-06-29T12:05:14.175Z"
   },
   {
    "duration": 94,
    "start_time": "2022-06-29T12:05:14.236Z"
   },
   {
    "duration": 61,
    "start_time": "2022-06-29T12:05:28.504Z"
   },
   {
    "duration": 76,
    "start_time": "2022-06-29T12:05:29.313Z"
   },
   {
    "duration": 1230,
    "start_time": "2022-06-29T12:07:23.945Z"
   },
   {
    "duration": 804,
    "start_time": "2022-06-29T12:07:25.178Z"
   },
   {
    "duration": 287,
    "start_time": "2022-06-29T12:07:25.985Z"
   },
   {
    "duration": 25,
    "start_time": "2022-06-29T12:07:26.273Z"
   },
   {
    "duration": 84,
    "start_time": "2022-06-29T12:07:26.300Z"
   },
   {
    "duration": 20,
    "start_time": "2022-06-29T12:07:26.386Z"
   },
   {
    "duration": 35,
    "start_time": "2022-06-29T12:07:26.407Z"
   },
   {
    "duration": 23,
    "start_time": "2022-06-29T12:07:26.444Z"
   },
   {
    "duration": 27,
    "start_time": "2022-06-29T12:07:26.469Z"
   },
   {
    "duration": 507,
    "start_time": "2022-06-29T12:07:26.497Z"
   },
   {
    "duration": 118,
    "start_time": "2022-06-29T12:07:27.006Z"
   },
   {
    "duration": 23,
    "start_time": "2022-06-29T12:07:27.126Z"
   },
   {
    "duration": 101,
    "start_time": "2022-06-29T12:07:27.150Z"
   },
   {
    "duration": 51,
    "start_time": "2022-06-29T12:07:27.254Z"
   },
   {
    "duration": 93,
    "start_time": "2022-06-29T12:07:27.307Z"
   },
   {
    "duration": 1254,
    "start_time": "2022-06-29T12:09:21.408Z"
   },
   {
    "duration": 925,
    "start_time": "2022-06-29T12:09:22.665Z"
   },
   {
    "duration": 303,
    "start_time": "2022-06-29T12:09:23.592Z"
   },
   {
    "duration": 50,
    "start_time": "2022-06-29T12:09:23.898Z"
   },
   {
    "duration": 100,
    "start_time": "2022-06-29T12:09:23.950Z"
   },
   {
    "duration": 35,
    "start_time": "2022-06-29T12:09:24.052Z"
   },
   {
    "duration": 34,
    "start_time": "2022-06-29T12:09:24.090Z"
   },
   {
    "duration": 37,
    "start_time": "2022-06-29T12:09:24.127Z"
   },
   {
    "duration": 38,
    "start_time": "2022-06-29T12:09:24.166Z"
   },
   {
    "duration": 558,
    "start_time": "2022-06-29T12:09:24.225Z"
   },
   {
    "duration": 123,
    "start_time": "2022-06-29T12:09:24.785Z"
   },
   {
    "duration": 31,
    "start_time": "2022-06-29T12:09:24.914Z"
   },
   {
    "duration": 131,
    "start_time": "2022-06-29T12:09:24.947Z"
   },
   {
    "duration": 69,
    "start_time": "2022-06-29T12:09:25.080Z"
   },
   {
    "duration": 99,
    "start_time": "2022-06-29T12:09:25.151Z"
   },
   {
    "duration": 1221,
    "start_time": "2022-06-29T12:09:56.825Z"
   },
   {
    "duration": 867,
    "start_time": "2022-06-29T12:09:58.048Z"
   },
   {
    "duration": 308,
    "start_time": "2022-06-29T12:09:58.917Z"
   },
   {
    "duration": 36,
    "start_time": "2022-06-29T12:09:59.227Z"
   },
   {
    "duration": 105,
    "start_time": "2022-06-29T12:09:59.264Z"
   },
   {
    "duration": 25,
    "start_time": "2022-06-29T12:09:59.371Z"
   },
   {
    "duration": 39,
    "start_time": "2022-06-29T12:09:59.398Z"
   },
   {
    "duration": 23,
    "start_time": "2022-06-29T12:09:59.439Z"
   },
   {
    "duration": 32,
    "start_time": "2022-06-29T12:09:59.464Z"
   },
   {
    "duration": 531,
    "start_time": "2022-06-29T12:09:59.499Z"
   },
   {
    "duration": 145,
    "start_time": "2022-06-29T12:10:00.032Z"
   },
   {
    "duration": 26,
    "start_time": "2022-06-29T12:10:00.178Z"
   },
   {
    "duration": 123,
    "start_time": "2022-06-29T12:10:00.206Z"
   },
   {
    "duration": 53,
    "start_time": "2022-06-29T12:10:00.332Z"
   },
   {
    "duration": 106,
    "start_time": "2022-06-29T12:10:00.387Z"
   },
   {
    "duration": 1264,
    "start_time": "2022-06-29T12:10:32.893Z"
   },
   {
    "duration": 844,
    "start_time": "2022-06-29T12:10:34.159Z"
   },
   {
    "duration": 300,
    "start_time": "2022-06-29T12:10:35.005Z"
   },
   {
    "duration": 37,
    "start_time": "2022-06-29T12:10:35.307Z"
   },
   {
    "duration": 86,
    "start_time": "2022-06-29T12:10:35.347Z"
   },
   {
    "duration": 20,
    "start_time": "2022-06-29T12:10:35.435Z"
   },
   {
    "duration": 28,
    "start_time": "2022-06-29T12:10:35.457Z"
   },
   {
    "duration": 53,
    "start_time": "2022-06-29T12:10:35.487Z"
   },
   {
    "duration": 43,
    "start_time": "2022-06-29T12:10:35.542Z"
   },
   {
    "duration": 549,
    "start_time": "2022-06-29T12:10:35.588Z"
   },
   {
    "duration": 120,
    "start_time": "2022-06-29T12:10:36.139Z"
   },
   {
    "duration": 22,
    "start_time": "2022-06-29T12:10:36.262Z"
   },
   {
    "duration": 107,
    "start_time": "2022-06-29T12:10:36.286Z"
   },
   {
    "duration": 64,
    "start_time": "2022-06-29T12:10:36.396Z"
   },
   {
    "duration": 92,
    "start_time": "2022-06-29T12:10:36.461Z"
   },
   {
    "duration": 1254,
    "start_time": "2022-06-29T12:11:14.336Z"
   },
   {
    "duration": 821,
    "start_time": "2022-06-29T12:11:15.592Z"
   },
   {
    "duration": 303,
    "start_time": "2022-06-29T12:11:16.414Z"
   },
   {
    "duration": 28,
    "start_time": "2022-06-29T12:11:16.723Z"
   },
   {
    "duration": 91,
    "start_time": "2022-06-29T12:11:16.752Z"
   },
   {
    "duration": 21,
    "start_time": "2022-06-29T12:11:16.845Z"
   },
   {
    "duration": 22,
    "start_time": "2022-06-29T12:11:16.868Z"
   },
   {
    "duration": 47,
    "start_time": "2022-06-29T12:11:16.892Z"
   },
   {
    "duration": 25,
    "start_time": "2022-06-29T12:11:16.941Z"
   },
   {
    "duration": 434,
    "start_time": "2022-06-29T12:11:16.969Z"
   },
   {
    "duration": 125,
    "start_time": "2022-06-29T12:11:17.404Z"
   },
   {
    "duration": 23,
    "start_time": "2022-06-29T12:11:17.531Z"
   },
   {
    "duration": 117,
    "start_time": "2022-06-29T12:11:17.555Z"
   },
   {
    "duration": 58,
    "start_time": "2022-06-29T12:11:17.674Z"
   },
   {
    "duration": 93,
    "start_time": "2022-06-29T12:11:17.734Z"
   },
   {
    "duration": 7,
    "start_time": "2022-06-29T12:13:26.768Z"
   },
   {
    "duration": 568,
    "start_time": "2022-06-29T12:13:50.321Z"
   },
   {
    "duration": 139,
    "start_time": "2022-06-29T12:14:03.750Z"
   },
   {
    "duration": 899,
    "start_time": "2022-06-29T12:14:08.803Z"
   },
   {
    "duration": 158,
    "start_time": "2022-06-29T12:14:21.760Z"
   },
   {
    "duration": 140,
    "start_time": "2022-06-29T12:14:31.286Z"
   },
   {
    "duration": 139,
    "start_time": "2022-06-29T12:14:37.296Z"
   },
   {
    "duration": 12,
    "start_time": "2022-06-29T12:15:34.102Z"
   },
   {
    "duration": 139,
    "start_time": "2022-06-29T12:16:15.715Z"
   },
   {
    "duration": 1170,
    "start_time": "2022-06-29T12:16:51.985Z"
   },
   {
    "duration": 815,
    "start_time": "2022-06-29T12:16:53.157Z"
   },
   {
    "duration": 307,
    "start_time": "2022-06-29T12:16:53.974Z"
   },
   {
    "duration": 27,
    "start_time": "2022-06-29T12:16:54.284Z"
   },
   {
    "duration": 85,
    "start_time": "2022-06-29T12:16:54.312Z"
   },
   {
    "duration": 31,
    "start_time": "2022-06-29T12:16:54.399Z"
   },
   {
    "duration": 26,
    "start_time": "2022-06-29T12:16:54.432Z"
   },
   {
    "duration": 24,
    "start_time": "2022-06-29T12:16:54.459Z"
   },
   {
    "duration": 43,
    "start_time": "2022-06-29T12:16:54.485Z"
   },
   {
    "duration": 345,
    "start_time": "2022-06-29T12:16:54.531Z"
   },
   {
    "duration": 522,
    "start_time": "2022-06-29T12:16:54.877Z"
   },
   {
    "duration": 124,
    "start_time": "2022-06-29T12:16:55.400Z"
   },
   {
    "duration": 22,
    "start_time": "2022-06-29T12:16:55.525Z"
   },
   {
    "duration": 93,
    "start_time": "2022-06-29T12:16:55.549Z"
   },
   {
    "duration": 47,
    "start_time": "2022-06-29T12:16:55.644Z"
   },
   {
    "duration": 89,
    "start_time": "2022-06-29T12:16:55.694Z"
   },
   {
    "duration": 124,
    "start_time": "2022-06-29T12:17:13.256Z"
   },
   {
    "duration": 166,
    "start_time": "2022-06-29T12:17:18.918Z"
   },
   {
    "duration": 131,
    "start_time": "2022-06-29T12:17:23.293Z"
   },
   {
    "duration": 129,
    "start_time": "2022-06-29T12:17:27.503Z"
   },
   {
    "duration": 212,
    "start_time": "2022-06-29T12:17:34.541Z"
   },
   {
    "duration": 6,
    "start_time": "2022-06-29T12:18:58.425Z"
   },
   {
    "duration": 34,
    "start_time": "2022-06-29T12:19:27.275Z"
   },
   {
    "duration": 1169,
    "start_time": "2022-06-29T12:19:56.877Z"
   },
   {
    "duration": 808,
    "start_time": "2022-06-29T12:19:58.048Z"
   },
   {
    "duration": 306,
    "start_time": "2022-06-29T12:19:58.858Z"
   },
   {
    "duration": 26,
    "start_time": "2022-06-29T12:19:59.166Z"
   },
   {
    "duration": 105,
    "start_time": "2022-06-29T12:19:59.194Z"
   },
   {
    "duration": 30,
    "start_time": "2022-06-29T12:19:59.302Z"
   },
   {
    "duration": 28,
    "start_time": "2022-06-29T12:19:59.334Z"
   },
   {
    "duration": 28,
    "start_time": "2022-06-29T12:19:59.364Z"
   },
   {
    "duration": 38,
    "start_time": "2022-06-29T12:19:59.394Z"
   },
   {
    "duration": 35,
    "start_time": "2022-06-29T12:19:59.434Z"
   },
   {
    "duration": 552,
    "start_time": "2022-06-29T12:19:59.471Z"
   },
   {
    "duration": 129,
    "start_time": "2022-06-29T12:20:00.025Z"
   },
   {
    "duration": 23,
    "start_time": "2022-06-29T12:20:00.156Z"
   },
   {
    "duration": 109,
    "start_time": "2022-06-29T12:20:00.181Z"
   },
   {
    "duration": 59,
    "start_time": "2022-06-29T12:20:00.292Z"
   },
   {
    "duration": 92,
    "start_time": "2022-06-29T12:20:00.353Z"
   },
   {
    "duration": 24,
    "start_time": "2022-06-29T12:20:17.648Z"
   },
   {
    "duration": 32,
    "start_time": "2022-06-29T12:20:31.091Z"
   },
   {
    "duration": 22,
    "start_time": "2022-06-29T12:20:41.848Z"
   },
   {
    "duration": 28,
    "start_time": "2022-06-29T12:20:48.913Z"
   },
   {
    "duration": 22,
    "start_time": "2022-06-29T12:20:56.879Z"
   },
   {
    "duration": 9,
    "start_time": "2022-06-29T12:21:05.545Z"
   },
   {
    "duration": 21,
    "start_time": "2022-06-29T12:21:15.016Z"
   },
   {
    "duration": 13,
    "start_time": "2022-06-29T12:21:22.989Z"
   },
   {
    "duration": 24,
    "start_time": "2022-06-29T12:21:45.446Z"
   },
   {
    "duration": 1324,
    "start_time": "2022-06-29T12:25:40.537Z"
   },
   {
    "duration": 886,
    "start_time": "2022-06-29T12:25:41.863Z"
   },
   {
    "duration": 333,
    "start_time": "2022-06-29T12:25:42.756Z"
   },
   {
    "duration": 38,
    "start_time": "2022-06-29T12:25:43.090Z"
   },
   {
    "duration": 76,
    "start_time": "2022-06-29T12:25:43.130Z"
   },
   {
    "duration": 36,
    "start_time": "2022-06-29T12:25:43.208Z"
   },
   {
    "duration": 29,
    "start_time": "2022-06-29T12:25:43.246Z"
   },
   {
    "duration": 24,
    "start_time": "2022-06-29T12:25:43.277Z"
   },
   {
    "duration": 31,
    "start_time": "2022-06-29T12:25:43.322Z"
   },
   {
    "duration": 24,
    "start_time": "2022-06-29T12:25:43.355Z"
   },
   {
    "duration": 615,
    "start_time": "2022-06-29T12:25:43.380Z"
   },
   {
    "duration": 126,
    "start_time": "2022-06-29T12:25:43.997Z"
   },
   {
    "duration": 27,
    "start_time": "2022-06-29T12:25:44.125Z"
   },
   {
    "duration": 107,
    "start_time": "2022-06-29T12:25:44.153Z"
   },
   {
    "duration": 45,
    "start_time": "2022-06-29T12:25:44.261Z"
   },
   {
    "duration": 97,
    "start_time": "2022-06-29T12:25:44.308Z"
   },
   {
    "duration": 1150,
    "start_time": "2022-06-29T12:26:40.273Z"
   },
   {
    "duration": 842,
    "start_time": "2022-06-29T12:26:41.426Z"
   },
   {
    "duration": 307,
    "start_time": "2022-06-29T12:26:42.270Z"
   },
   {
    "duration": 51,
    "start_time": "2022-06-29T12:26:42.580Z"
   },
   {
    "duration": 99,
    "start_time": "2022-06-29T12:26:42.633Z"
   },
   {
    "duration": 34,
    "start_time": "2022-06-29T12:26:42.734Z"
   },
   {
    "duration": 72,
    "start_time": "2022-06-29T12:26:42.770Z"
   },
   {
    "duration": 54,
    "start_time": "2022-06-29T12:26:42.844Z"
   },
   {
    "duration": 45,
    "start_time": "2022-06-29T12:26:42.899Z"
   },
   {
    "duration": 42,
    "start_time": "2022-06-29T12:26:42.946Z"
   },
   {
    "duration": 618,
    "start_time": "2022-06-29T12:26:42.990Z"
   },
   {
    "duration": 124,
    "start_time": "2022-06-29T12:26:43.610Z"
   },
   {
    "duration": 24,
    "start_time": "2022-06-29T12:26:43.735Z"
   },
   {
    "duration": 121,
    "start_time": "2022-06-29T12:26:43.760Z"
   },
   {
    "duration": 61,
    "start_time": "2022-06-29T12:26:43.882Z"
   },
   {
    "duration": 93,
    "start_time": "2022-06-29T12:26:43.946Z"
   },
   {
    "duration": 1321,
    "start_time": "2022-06-29T12:27:31.043Z"
   },
   {
    "duration": 900,
    "start_time": "2022-06-29T12:27:32.366Z"
   },
   {
    "duration": 294,
    "start_time": "2022-06-29T12:27:33.268Z"
   },
   {
    "duration": 40,
    "start_time": "2022-06-29T12:27:33.564Z"
   },
   {
    "duration": 85,
    "start_time": "2022-06-29T12:27:33.606Z"
   },
   {
    "duration": 32,
    "start_time": "2022-06-29T12:27:33.692Z"
   },
   {
    "duration": 21,
    "start_time": "2022-06-29T12:27:33.726Z"
   },
   {
    "duration": 23,
    "start_time": "2022-06-29T12:27:33.749Z"
   },
   {
    "duration": 37,
    "start_time": "2022-06-29T12:27:33.774Z"
   },
   {
    "duration": 35,
    "start_time": "2022-06-29T12:27:33.824Z"
   },
   {
    "duration": 635,
    "start_time": "2022-06-29T12:27:33.860Z"
   },
   {
    "duration": 128,
    "start_time": "2022-06-29T12:27:34.496Z"
   },
   {
    "duration": 22,
    "start_time": "2022-06-29T12:27:34.626Z"
   },
   {
    "duration": 111,
    "start_time": "2022-06-29T12:27:34.649Z"
   },
   {
    "duration": 61,
    "start_time": "2022-06-29T12:27:34.762Z"
   },
   {
    "duration": 87,
    "start_time": "2022-06-29T12:27:34.825Z"
   },
   {
    "duration": 1354,
    "start_time": "2022-06-29T12:29:52.214Z"
   },
   {
    "duration": 864,
    "start_time": "2022-06-29T12:29:53.570Z"
   },
   {
    "duration": 291,
    "start_time": "2022-06-29T12:29:54.436Z"
   },
   {
    "duration": 27,
    "start_time": "2022-06-29T12:29:54.729Z"
   },
   {
    "duration": 90,
    "start_time": "2022-06-29T12:29:54.757Z"
   },
   {
    "duration": 21,
    "start_time": "2022-06-29T12:29:54.849Z"
   },
   {
    "duration": 23,
    "start_time": "2022-06-29T12:29:54.872Z"
   },
   {
    "duration": 38,
    "start_time": "2022-06-29T12:29:54.896Z"
   },
   {
    "duration": 26,
    "start_time": "2022-06-29T12:29:54.936Z"
   },
   {
    "duration": 26,
    "start_time": "2022-06-29T12:29:54.965Z"
   },
   {
    "duration": 642,
    "start_time": "2022-06-29T12:29:54.993Z"
   },
   {
    "duration": 113,
    "start_time": "2022-06-29T12:29:55.637Z"
   },
   {
    "duration": 23,
    "start_time": "2022-06-29T12:29:55.752Z"
   },
   {
    "duration": 123,
    "start_time": "2022-06-29T12:29:55.776Z"
   },
   {
    "duration": 53,
    "start_time": "2022-06-29T12:29:55.902Z"
   },
   {
    "duration": 100,
    "start_time": "2022-06-29T12:29:55.956Z"
   },
   {
    "duration": 1153,
    "start_time": "2022-06-29T12:32:21.287Z"
   },
   {
    "duration": 922,
    "start_time": "2022-06-29T12:32:22.442Z"
   },
   {
    "duration": 289,
    "start_time": "2022-06-29T12:32:23.365Z"
   },
   {
    "duration": 29,
    "start_time": "2022-06-29T12:32:23.656Z"
   },
   {
    "duration": 107,
    "start_time": "2022-06-29T12:32:23.686Z"
   },
   {
    "duration": 20,
    "start_time": "2022-06-29T12:32:23.795Z"
   },
   {
    "duration": 20,
    "start_time": "2022-06-29T12:32:23.823Z"
   },
   {
    "duration": 25,
    "start_time": "2022-06-29T12:32:23.845Z"
   },
   {
    "duration": 36,
    "start_time": "2022-06-29T12:32:23.872Z"
   },
   {
    "duration": 25,
    "start_time": "2022-06-29T12:32:23.922Z"
   },
   {
    "duration": 627,
    "start_time": "2022-06-29T12:32:23.948Z"
   },
   {
    "duration": 134,
    "start_time": "2022-06-29T12:32:24.577Z"
   },
   {
    "duration": 37,
    "start_time": "2022-06-29T12:32:24.713Z"
   },
   {
    "duration": 112,
    "start_time": "2022-06-29T12:32:24.751Z"
   },
   {
    "duration": 60,
    "start_time": "2022-06-29T12:32:24.864Z"
   },
   {
    "duration": 85,
    "start_time": "2022-06-29T12:32:24.925Z"
   },
   {
    "duration": 142,
    "start_time": "2022-06-29T12:35:34.421Z"
   },
   {
    "duration": 1227,
    "start_time": "2022-06-29T12:37:49.218Z"
   },
   {
    "duration": 921,
    "start_time": "2022-06-29T12:37:50.448Z"
   },
   {
    "duration": 314,
    "start_time": "2022-06-29T12:37:51.371Z"
   },
   {
    "duration": 51,
    "start_time": "2022-06-29T12:37:51.687Z"
   },
   {
    "duration": 86,
    "start_time": "2022-06-29T12:37:51.741Z"
   },
   {
    "duration": 37,
    "start_time": "2022-06-29T12:37:51.829Z"
   },
   {
    "duration": 38,
    "start_time": "2022-06-29T12:37:51.868Z"
   },
   {
    "duration": 73,
    "start_time": "2022-06-29T12:37:51.908Z"
   },
   {
    "duration": 34,
    "start_time": "2022-06-29T12:37:51.984Z"
   },
   {
    "duration": 34,
    "start_time": "2022-06-29T12:37:52.021Z"
   },
   {
    "duration": 783,
    "start_time": "2022-06-29T12:37:52.057Z"
   },
   {
    "duration": 194,
    "start_time": "2022-06-29T12:37:52.842Z"
   },
   {
    "duration": 25,
    "start_time": "2022-06-29T12:37:53.038Z"
   },
   {
    "duration": 133,
    "start_time": "2022-06-29T12:37:53.065Z"
   },
   {
    "duration": 66,
    "start_time": "2022-06-29T12:37:53.200Z"
   },
   {
    "duration": 147,
    "start_time": "2022-06-29T12:37:53.268Z"
   },
   {
    "duration": 1165,
    "start_time": "2022-06-29T12:43:54.566Z"
   },
   {
    "duration": 884,
    "start_time": "2022-06-29T12:43:55.732Z"
   },
   {
    "duration": 327,
    "start_time": "2022-06-29T12:43:56.618Z"
   },
   {
    "duration": 27,
    "start_time": "2022-06-29T12:43:56.948Z"
   },
   {
    "duration": 101,
    "start_time": "2022-06-29T12:43:56.976Z"
   },
   {
    "duration": 20,
    "start_time": "2022-06-29T12:43:57.079Z"
   },
   {
    "duration": 39,
    "start_time": "2022-06-29T12:43:57.100Z"
   },
   {
    "duration": 35,
    "start_time": "2022-06-29T12:43:57.142Z"
   },
   {
    "duration": 29,
    "start_time": "2022-06-29T12:43:57.179Z"
   },
   {
    "duration": 33,
    "start_time": "2022-06-29T12:43:57.211Z"
   },
   {
    "duration": 789,
    "start_time": "2022-06-29T12:43:57.246Z"
   },
   {
    "duration": 0,
    "start_time": "2022-06-29T12:43:58.037Z"
   },
   {
    "duration": 0,
    "start_time": "2022-06-29T12:43:58.039Z"
   },
   {
    "duration": 0,
    "start_time": "2022-06-29T12:43:58.040Z"
   },
   {
    "duration": 0,
    "start_time": "2022-06-29T12:43:58.041Z"
   },
   {
    "duration": 0,
    "start_time": "2022-06-29T12:43:58.042Z"
   },
   {
    "duration": 1192,
    "start_time": "2022-06-29T12:44:33.592Z"
   },
   {
    "duration": 878,
    "start_time": "2022-06-29T12:44:34.786Z"
   },
   {
    "duration": 323,
    "start_time": "2022-06-29T12:44:35.668Z"
   },
   {
    "duration": 43,
    "start_time": "2022-06-29T12:44:35.993Z"
   },
   {
    "duration": 71,
    "start_time": "2022-06-29T12:44:36.045Z"
   },
   {
    "duration": 28,
    "start_time": "2022-06-29T12:44:36.117Z"
   },
   {
    "duration": 25,
    "start_time": "2022-06-29T12:44:36.146Z"
   },
   {
    "duration": 22,
    "start_time": "2022-06-29T12:44:36.172Z"
   },
   {
    "duration": 41,
    "start_time": "2022-06-29T12:44:36.195Z"
   },
   {
    "duration": 26,
    "start_time": "2022-06-29T12:44:36.239Z"
   },
   {
    "duration": 776,
    "start_time": "2022-06-29T12:44:36.267Z"
   },
   {
    "duration": 0,
    "start_time": "2022-06-29T12:44:37.045Z"
   },
   {
    "duration": 0,
    "start_time": "2022-06-29T12:44:37.047Z"
   },
   {
    "duration": 0,
    "start_time": "2022-06-29T12:44:37.048Z"
   },
   {
    "duration": 0,
    "start_time": "2022-06-29T12:44:37.049Z"
   },
   {
    "duration": 0,
    "start_time": "2022-06-29T12:44:37.050Z"
   },
   {
    "duration": 440,
    "start_time": "2022-06-29T12:44:51.294Z"
   },
   {
    "duration": 1222,
    "start_time": "2022-06-29T12:46:13.810Z"
   },
   {
    "duration": 816,
    "start_time": "2022-06-29T12:46:15.035Z"
   },
   {
    "duration": 304,
    "start_time": "2022-06-29T12:46:15.853Z"
   },
   {
    "duration": 25,
    "start_time": "2022-06-29T12:46:16.159Z"
   },
   {
    "duration": 95,
    "start_time": "2022-06-29T12:46:16.186Z"
   },
   {
    "duration": 21,
    "start_time": "2022-06-29T12:46:16.282Z"
   },
   {
    "duration": 43,
    "start_time": "2022-06-29T12:46:16.305Z"
   },
   {
    "duration": 21,
    "start_time": "2022-06-29T12:46:16.349Z"
   },
   {
    "duration": 30,
    "start_time": "2022-06-29T12:46:16.371Z"
   },
   {
    "duration": 39,
    "start_time": "2022-06-29T12:46:16.404Z"
   },
   {
    "duration": 616,
    "start_time": "2022-06-29T12:46:16.444Z"
   },
   {
    "duration": 125,
    "start_time": "2022-06-29T12:46:17.061Z"
   },
   {
    "duration": 39,
    "start_time": "2022-06-29T12:46:17.187Z"
   },
   {
    "duration": 114,
    "start_time": "2022-06-29T12:46:17.227Z"
   },
   {
    "duration": 47,
    "start_time": "2022-06-29T12:46:17.342Z"
   },
   {
    "duration": 161,
    "start_time": "2022-06-29T12:46:17.391Z"
   },
   {
    "duration": 1151,
    "start_time": "2022-06-29T12:46:33.488Z"
   },
   {
    "duration": 858,
    "start_time": "2022-06-29T12:46:34.641Z"
   },
   {
    "duration": 286,
    "start_time": "2022-06-29T12:46:35.501Z"
   },
   {
    "duration": 44,
    "start_time": "2022-06-29T12:46:35.789Z"
   },
   {
    "duration": 74,
    "start_time": "2022-06-29T12:46:35.835Z"
   },
   {
    "duration": 33,
    "start_time": "2022-06-29T12:46:35.911Z"
   },
   {
    "duration": 30,
    "start_time": "2022-06-29T12:46:35.946Z"
   },
   {
    "duration": 28,
    "start_time": "2022-06-29T12:46:35.977Z"
   },
   {
    "duration": 54,
    "start_time": "2022-06-29T12:46:36.006Z"
   },
   {
    "duration": 23,
    "start_time": "2022-06-29T12:46:36.063Z"
   },
   {
    "duration": 664,
    "start_time": "2022-06-29T12:46:36.088Z"
   },
   {
    "duration": 126,
    "start_time": "2022-06-29T12:46:36.754Z"
   },
   {
    "duration": 21,
    "start_time": "2022-06-29T12:46:36.882Z"
   },
   {
    "duration": 105,
    "start_time": "2022-06-29T12:46:36.905Z"
   },
   {
    "duration": 54,
    "start_time": "2022-06-29T12:46:37.012Z"
   },
   {
    "duration": 139,
    "start_time": "2022-06-29T12:46:37.068Z"
   },
   {
    "duration": 67,
    "start_time": "2022-06-30T10:09:09.501Z"
   },
   {
    "duration": 1547,
    "start_time": "2022-06-30T10:09:15.802Z"
   },
   {
    "duration": 1252,
    "start_time": "2022-06-30T10:09:17.352Z"
   },
   {
    "duration": 304,
    "start_time": "2022-06-30T10:09:18.606Z"
   },
   {
    "duration": 36,
    "start_time": "2022-06-30T10:09:18.912Z"
   },
   {
    "duration": 101,
    "start_time": "2022-06-30T10:09:18.950Z"
   },
   {
    "duration": 21,
    "start_time": "2022-06-30T10:09:19.053Z"
   },
   {
    "duration": 38,
    "start_time": "2022-06-30T10:09:19.076Z"
   },
   {
    "duration": 42,
    "start_time": "2022-06-30T10:09:19.126Z"
   },
   {
    "duration": 29,
    "start_time": "2022-06-30T10:09:19.171Z"
   },
   {
    "duration": 42,
    "start_time": "2022-06-30T10:09:19.203Z"
   },
   {
    "duration": 664,
    "start_time": "2022-06-30T10:09:19.247Z"
   },
   {
    "duration": 126,
    "start_time": "2022-06-30T10:09:19.913Z"
   },
   {
    "duration": 32,
    "start_time": "2022-06-30T10:09:20.041Z"
   },
   {
    "duration": 135,
    "start_time": "2022-06-30T10:09:20.075Z"
   },
   {
    "duration": 60,
    "start_time": "2022-06-30T10:09:20.212Z"
   },
   {
    "duration": 155,
    "start_time": "2022-06-30T10:09:20.274Z"
   },
   {
    "duration": 13,
    "start_time": "2022-06-30T10:16:26.392Z"
   },
   {
    "duration": 37,
    "start_time": "2022-06-30T10:16:34.125Z"
   },
   {
    "duration": 115,
    "start_time": "2022-06-30T10:19:50.105Z"
   },
   {
    "duration": 4,
    "start_time": "2022-06-30T10:19:56.046Z"
   },
   {
    "duration": 12,
    "start_time": "2022-06-30T10:20:01.541Z"
   },
   {
    "duration": 1045,
    "start_time": "2022-06-30T10:23:18.413Z"
   },
   {
    "duration": 14,
    "start_time": "2022-06-30T10:28:35.034Z"
   },
   {
    "duration": 9,
    "start_time": "2022-06-30T10:28:46.445Z"
   },
   {
    "duration": 5,
    "start_time": "2022-06-30T10:29:02.399Z"
   },
   {
    "duration": 379,
    "start_time": "2022-06-30T10:34:49.020Z"
   },
   {
    "duration": 1226,
    "start_time": "2022-06-30T10:35:15.340Z"
   },
   {
    "duration": 877,
    "start_time": "2022-06-30T10:35:16.568Z"
   },
   {
    "duration": 304,
    "start_time": "2022-06-30T10:35:17.448Z"
   },
   {
    "duration": 41,
    "start_time": "2022-06-30T10:35:17.757Z"
   },
   {
    "duration": 104,
    "start_time": "2022-06-30T10:35:17.800Z"
   },
   {
    "duration": 37,
    "start_time": "2022-06-30T10:35:17.906Z"
   },
   {
    "duration": 57,
    "start_time": "2022-06-30T10:35:17.945Z"
   },
   {
    "duration": 53,
    "start_time": "2022-06-30T10:35:18.003Z"
   },
   {
    "duration": 53,
    "start_time": "2022-06-30T10:35:18.057Z"
   },
   {
    "duration": 38,
    "start_time": "2022-06-30T10:35:18.113Z"
   },
   {
    "duration": 727,
    "start_time": "2022-06-30T10:35:18.153Z"
   },
   {
    "duration": 141,
    "start_time": "2022-06-30T10:35:18.882Z"
   },
   {
    "duration": 62,
    "start_time": "2022-06-30T10:35:19.027Z"
   },
   {
    "duration": 139,
    "start_time": "2022-06-30T10:35:19.091Z"
   },
   {
    "duration": 55,
    "start_time": "2022-06-30T10:35:19.235Z"
   },
   {
    "duration": 164,
    "start_time": "2022-06-30T10:35:19.291Z"
   },
   {
    "duration": 35,
    "start_time": "2022-06-30T10:35:19.457Z"
   },
   {
    "duration": 5,
    "start_time": "2022-06-30T10:35:19.494Z"
   },
   {
    "duration": 60,
    "start_time": "2022-06-30T10:35:19.526Z"
   },
   {
    "duration": 114,
    "start_time": "2022-06-30T10:38:25.373Z"
   },
   {
    "duration": 17,
    "start_time": "2022-06-30T10:38:37.531Z"
   },
   {
    "duration": 16,
    "start_time": "2022-06-30T10:38:42.622Z"
   },
   {
    "duration": 15,
    "start_time": "2022-06-30T10:38:49.350Z"
   },
   {
    "duration": 14,
    "start_time": "2022-06-30T10:38:57.289Z"
   },
   {
    "duration": 15,
    "start_time": "2022-06-30T10:39:11.185Z"
   },
   {
    "duration": 11,
    "start_time": "2022-06-30T10:39:35.528Z"
   },
   {
    "duration": 10,
    "start_time": "2022-06-30T10:39:40.816Z"
   },
   {
    "duration": 3,
    "start_time": "2022-06-30T10:39:45.159Z"
   },
   {
    "duration": 6,
    "start_time": "2022-06-30T10:39:58.053Z"
   },
   {
    "duration": 11,
    "start_time": "2022-06-30T10:43:21.363Z"
   },
   {
    "duration": 5,
    "start_time": "2022-06-30T10:46:30.345Z"
   },
   {
    "duration": 13,
    "start_time": "2022-06-30T10:46:41.225Z"
   },
   {
    "duration": 12,
    "start_time": "2022-06-30T10:46:51.388Z"
   },
   {
    "duration": 17,
    "start_time": "2022-06-30T10:46:56.424Z"
   },
   {
    "duration": 12,
    "start_time": "2022-06-30T10:47:28.646Z"
   },
   {
    "duration": 4,
    "start_time": "2022-06-30T10:47:45.296Z"
   },
   {
    "duration": 9,
    "start_time": "2022-06-30T10:48:38.998Z"
   },
   {
    "duration": 11,
    "start_time": "2022-06-30T10:48:54.048Z"
   },
   {
    "duration": 3,
    "start_time": "2022-06-30T10:49:10.102Z"
   },
   {
    "duration": 3,
    "start_time": "2022-06-30T10:49:29.340Z"
   },
   {
    "duration": 5,
    "start_time": "2022-06-30T10:49:38.556Z"
   },
   {
    "duration": 3,
    "start_time": "2022-06-30T10:50:18.780Z"
   },
   {
    "duration": 63,
    "start_time": "2022-06-30T10:52:53.092Z"
   },
   {
    "duration": 14,
    "start_time": "2022-06-30T10:53:01.585Z"
   },
   {
    "duration": 15,
    "start_time": "2022-06-30T10:53:09.148Z"
   },
   {
    "duration": 5,
    "start_time": "2022-06-30T10:53:17.881Z"
   },
   {
    "duration": 14,
    "start_time": "2022-06-30T10:53:25.348Z"
   },
   {
    "duration": 12,
    "start_time": "2022-06-30T10:53:57.849Z"
   },
   {
    "duration": 5,
    "start_time": "2022-06-30T10:54:11.116Z"
   },
   {
    "duration": 7,
    "start_time": "2022-06-30T10:54:21.084Z"
   },
   {
    "duration": 78,
    "start_time": "2022-06-30T10:56:32.833Z"
   },
   {
    "duration": 32,
    "start_time": "2022-06-30T10:56:42.877Z"
   },
   {
    "duration": 283,
    "start_time": "2022-06-30T10:58:06.179Z"
   },
   {
    "duration": 24,
    "start_time": "2022-06-30T10:59:43.042Z"
   },
   {
    "duration": 46,
    "start_time": "2022-06-30T11:01:45.526Z"
   },
   {
    "duration": 5,
    "start_time": "2022-06-30T11:10:38.127Z"
   },
   {
    "duration": 55842,
    "start_time": "2022-06-30T11:12:16.267Z"
   },
   {
    "duration": 123114,
    "start_time": "2022-06-30T11:15:41.599Z"
   },
   {
    "duration": 58,
    "start_time": "2022-06-30T11:18:16.247Z"
   },
   {
    "duration": 572,
    "start_time": "2022-06-30T11:18:19.580Z"
   },
   {
    "duration": 1074,
    "start_time": "2022-06-30T11:28:31.991Z"
   },
   {
    "duration": 11,
    "start_time": "2022-06-30T11:31:33.935Z"
   },
   {
    "duration": 12,
    "start_time": "2022-06-30T11:31:42.851Z"
   },
   {
    "duration": 5,
    "start_time": "2022-06-30T11:32:16.266Z"
   },
   {
    "duration": 1037,
    "start_time": "2022-06-30T11:33:26.049Z"
   },
   {
    "duration": 5,
    "start_time": "2022-06-30T11:33:56.552Z"
   },
   {
    "duration": 20093,
    "start_time": "2022-06-30T11:36:48.564Z"
   },
   {
    "duration": 63283,
    "start_time": "2022-06-30T11:38:02.264Z"
   },
   {
    "duration": 36175,
    "start_time": "2022-06-30T11:42:03.974Z"
   },
   {
    "duration": 114476,
    "start_time": "2022-06-30T11:43:28.163Z"
   },
   {
    "duration": 1825,
    "start_time": "2022-06-30T11:56:11.660Z"
   },
   {
    "duration": 74,
    "start_time": "2022-06-30T11:56:54.970Z"
   },
   {
    "duration": 1653,
    "start_time": "2022-06-30T11:57:28.540Z"
   },
   {
    "duration": 1691,
    "start_time": "2022-06-30T11:57:39.459Z"
   },
   {
    "duration": 62,
    "start_time": "2022-06-30T11:58:24.391Z"
   },
   {
    "duration": 1668,
    "start_time": "2022-06-30T11:58:35.646Z"
   },
   {
    "duration": 22,
    "start_time": "2022-06-30T11:58:38.843Z"
   },
   {
    "duration": 52,
    "start_time": "2022-06-30T12:00:07.007Z"
   },
   {
    "duration": 1324,
    "start_time": "2022-06-30T12:01:16.792Z"
   },
   {
    "duration": 1033,
    "start_time": "2022-06-30T12:01:18.117Z"
   },
   {
    "duration": 323,
    "start_time": "2022-06-30T12:01:19.152Z"
   },
   {
    "duration": 29,
    "start_time": "2022-06-30T12:01:19.478Z"
   },
   {
    "duration": 102,
    "start_time": "2022-06-30T12:01:19.509Z"
   },
   {
    "duration": 34,
    "start_time": "2022-06-30T12:01:19.613Z"
   },
   {
    "duration": 21,
    "start_time": "2022-06-30T12:01:19.648Z"
   },
   {
    "duration": 26,
    "start_time": "2022-06-30T12:01:19.671Z"
   },
   {
    "duration": 45,
    "start_time": "2022-06-30T12:01:19.698Z"
   },
   {
    "duration": 30,
    "start_time": "2022-06-30T12:01:19.748Z"
   },
   {
    "duration": 787,
    "start_time": "2022-06-30T12:01:19.781Z"
   },
   {
    "duration": 145,
    "start_time": "2022-06-30T12:01:20.570Z"
   },
   {
    "duration": 30,
    "start_time": "2022-06-30T12:01:20.719Z"
   },
   {
    "duration": 114,
    "start_time": "2022-06-30T12:01:20.751Z"
   },
   {
    "duration": 50,
    "start_time": "2022-06-30T12:01:20.867Z"
   },
   {
    "duration": 160,
    "start_time": "2022-06-30T12:01:20.929Z"
   },
   {
    "duration": 41,
    "start_time": "2022-06-30T12:01:21.091Z"
   },
   {
    "duration": 377,
    "start_time": "2022-06-30T12:01:21.134Z"
   },
   {
    "duration": 33,
    "start_time": "2022-06-30T12:01:21.513Z"
   },
   {
    "duration": 65,
    "start_time": "2022-06-30T12:01:21.549Z"
   },
   {
    "duration": 54948,
    "start_time": "2022-06-30T12:01:21.616Z"
   },
   {
    "duration": 104582,
    "start_time": "2022-06-30T12:02:16.566Z"
   },
   {
    "duration": 84,
    "start_time": "2022-06-30T12:04:01.150Z"
   },
   {
    "duration": 518,
    "start_time": "2022-06-30T12:04:01.237Z"
   },
   {
    "duration": 193,
    "start_time": "2022-06-30T12:04:01.758Z"
   },
   {
    "duration": 0,
    "start_time": "2022-06-30T12:04:01.953Z"
   },
   {
    "duration": 0,
    "start_time": "2022-06-30T12:04:01.955Z"
   },
   {
    "duration": 0,
    "start_time": "2022-06-30T12:04:01.957Z"
   },
   {
    "duration": 0,
    "start_time": "2022-06-30T12:04:01.958Z"
   },
   {
    "duration": 35086,
    "start_time": "2022-06-30T12:04:25.844Z"
   },
   {
    "duration": 116804,
    "start_time": "2022-06-30T12:05:00.935Z"
   },
   {
    "duration": 1758,
    "start_time": "2022-06-30T12:06:57.746Z"
   },
   {
    "duration": 137,
    "start_time": "2022-06-30T12:06:59.507Z"
   },
   {
    "duration": 186,
    "start_time": "2022-06-30T12:06:59.653Z"
   },
   {
    "duration": 11,
    "start_time": "2022-06-30T12:12:58.639Z"
   },
   {
    "duration": 6,
    "start_time": "2022-06-30T12:15:10.957Z"
   },
   {
    "duration": 1246,
    "start_time": "2022-06-30T12:15:23.045Z"
   },
   {
    "duration": 929,
    "start_time": "2022-06-30T12:15:24.294Z"
   },
   {
    "duration": 319,
    "start_time": "2022-06-30T12:15:25.226Z"
   },
   {
    "duration": 35,
    "start_time": "2022-06-30T12:15:25.547Z"
   },
   {
    "duration": 97,
    "start_time": "2022-06-30T12:15:25.584Z"
   },
   {
    "duration": 23,
    "start_time": "2022-06-30T12:15:25.683Z"
   },
   {
    "duration": 77,
    "start_time": "2022-06-30T12:15:25.708Z"
   },
   {
    "duration": 50,
    "start_time": "2022-06-30T12:15:25.786Z"
   },
   {
    "duration": 61,
    "start_time": "2022-06-30T12:15:25.838Z"
   },
   {
    "duration": 33,
    "start_time": "2022-06-30T12:15:25.902Z"
   },
   {
    "duration": 752,
    "start_time": "2022-06-30T12:15:25.936Z"
   },
   {
    "duration": 138,
    "start_time": "2022-06-30T12:15:26.690Z"
   },
   {
    "duration": 38,
    "start_time": "2022-06-30T12:15:26.834Z"
   },
   {
    "duration": 106,
    "start_time": "2022-06-30T12:15:26.874Z"
   },
   {
    "duration": 54,
    "start_time": "2022-06-30T12:15:26.982Z"
   },
   {
    "duration": 157,
    "start_time": "2022-06-30T12:15:27.042Z"
   },
   {
    "duration": 43,
    "start_time": "2022-06-30T12:15:27.201Z"
   },
   {
    "duration": 338,
    "start_time": "2022-06-30T12:15:27.248Z"
   },
   {
    "duration": 20,
    "start_time": "2022-06-30T12:15:27.589Z"
   },
   {
    "duration": 55,
    "start_time": "2022-06-30T12:15:27.611Z"
   },
   {
    "duration": 52044,
    "start_time": "2022-06-30T12:15:27.667Z"
   },
   {
    "duration": 104448,
    "start_time": "2022-06-30T12:16:19.712Z"
   },
   {
    "duration": 72,
    "start_time": "2022-06-30T12:18:04.162Z"
   },
   {
    "duration": 690,
    "start_time": "2022-06-30T12:18:04.236Z"
   },
   {
    "duration": 35119,
    "start_time": "2022-06-30T12:18:04.930Z"
   },
   {
    "duration": 124008,
    "start_time": "2022-06-30T12:18:40.051Z"
   },
   {
    "duration": 1761,
    "start_time": "2022-06-30T12:20:44.061Z"
   },
   {
    "duration": 23,
    "start_time": "2022-06-30T12:20:45.834Z"
   },
   {
    "duration": 287,
    "start_time": "2022-06-30T12:20:45.859Z"
   },
   {
    "duration": 6,
    "start_time": "2022-06-30T12:20:46.149Z"
   },
   {
    "duration": 209,
    "start_time": "2022-06-30T12:21:34.675Z"
   },
   {
    "duration": 103,
    "start_time": "2022-06-30T12:22:33.466Z"
   },
   {
    "duration": 170093,
    "start_time": "2022-06-30T12:25:04.147Z"
   },
   {
    "duration": 1310,
    "start_time": "2022-06-30T12:33:54.577Z"
   },
   {
    "duration": 1055,
    "start_time": "2022-06-30T12:33:55.889Z"
   },
   {
    "duration": 328,
    "start_time": "2022-06-30T12:33:56.946Z"
   },
   {
    "duration": 35,
    "start_time": "2022-06-30T12:33:57.277Z"
   },
   {
    "duration": 97,
    "start_time": "2022-06-30T12:33:57.328Z"
   },
   {
    "duration": 37,
    "start_time": "2022-06-30T12:33:57.433Z"
   },
   {
    "duration": 52,
    "start_time": "2022-06-30T12:33:57.472Z"
   },
   {
    "duration": 91,
    "start_time": "2022-06-30T12:33:57.528Z"
   },
   {
    "duration": 60,
    "start_time": "2022-06-30T12:33:57.622Z"
   },
   {
    "duration": 51,
    "start_time": "2022-06-30T12:33:57.686Z"
   },
   {
    "duration": 752,
    "start_time": "2022-06-30T12:33:57.739Z"
   },
   {
    "duration": 174,
    "start_time": "2022-06-30T12:33:58.493Z"
   },
   {
    "duration": 41,
    "start_time": "2022-06-30T12:33:58.670Z"
   },
   {
    "duration": 150,
    "start_time": "2022-06-30T12:33:58.713Z"
   },
   {
    "duration": 43,
    "start_time": "2022-06-30T12:33:58.866Z"
   },
   {
    "duration": 173,
    "start_time": "2022-06-30T12:33:58.911Z"
   },
   {
    "duration": 48,
    "start_time": "2022-06-30T12:33:59.086Z"
   },
   {
    "duration": 579,
    "start_time": "2022-06-30T12:33:59.137Z"
   },
   {
    "duration": 27,
    "start_time": "2022-06-30T12:33:59.719Z"
   },
   {
    "duration": 74,
    "start_time": "2022-06-30T12:33:59.749Z"
   },
   {
    "duration": 53410,
    "start_time": "2022-06-30T12:33:59.826Z"
   },
   {
    "duration": 112645,
    "start_time": "2022-06-30T12:34:53.240Z"
   },
   {
    "duration": 71,
    "start_time": "2022-06-30T12:36:45.887Z"
   },
   {
    "duration": 567,
    "start_time": "2022-06-30T12:36:45.961Z"
   },
   {
    "duration": 18707,
    "start_time": "2022-06-30T12:36:46.530Z"
   },
   {
    "duration": 50224,
    "start_time": "2022-06-30T12:37:05.240Z"
   },
   {
    "duration": 1730,
    "start_time": "2022-06-30T12:37:55.466Z"
   },
   {
    "duration": 42,
    "start_time": "2022-06-30T12:37:57.199Z"
   },
   {
    "duration": 98,
    "start_time": "2022-06-30T12:37:57.332Z"
   },
   {
    "duration": 16,
    "start_time": "2022-06-30T12:37:57.436Z"
   },
   {
    "duration": 1210,
    "start_time": "2022-06-30T12:45:42.658Z"
   },
   {
    "duration": 927,
    "start_time": "2022-06-30T12:45:43.870Z"
   },
   {
    "duration": 312,
    "start_time": "2022-06-30T12:45:44.799Z"
   },
   {
    "duration": 38,
    "start_time": "2022-06-30T12:45:45.113Z"
   },
   {
    "duration": 88,
    "start_time": "2022-06-30T12:45:45.152Z"
   },
   {
    "duration": 31,
    "start_time": "2022-06-30T12:45:45.242Z"
   },
   {
    "duration": 60,
    "start_time": "2022-06-30T12:45:45.275Z"
   },
   {
    "duration": 73,
    "start_time": "2022-06-30T12:45:45.336Z"
   },
   {
    "duration": 46,
    "start_time": "2022-06-30T12:45:45.411Z"
   },
   {
    "duration": 28,
    "start_time": "2022-06-30T12:45:45.460Z"
   },
   {
    "duration": 762,
    "start_time": "2022-06-30T12:45:45.489Z"
   },
   {
    "duration": 138,
    "start_time": "2022-06-30T12:45:46.253Z"
   },
   {
    "duration": 38,
    "start_time": "2022-06-30T12:45:46.393Z"
   },
   {
    "duration": 110,
    "start_time": "2022-06-30T12:45:46.438Z"
   },
   {
    "duration": 45,
    "start_time": "2022-06-30T12:45:46.550Z"
   },
   {
    "duration": 169,
    "start_time": "2022-06-30T12:45:46.597Z"
   },
   {
    "duration": 24,
    "start_time": "2022-06-30T12:45:46.768Z"
   },
   {
    "duration": 409,
    "start_time": "2022-06-30T12:45:46.794Z"
   },
   {
    "duration": 32,
    "start_time": "2022-06-30T12:45:47.206Z"
   },
   {
    "duration": 57,
    "start_time": "2022-06-30T12:45:47.240Z"
   },
   {
    "duration": 52857,
    "start_time": "2022-06-30T12:45:47.300Z"
   },
   {
    "duration": 106687,
    "start_time": "2022-06-30T12:46:40.159Z"
   },
   {
    "duration": 80,
    "start_time": "2022-06-30T12:48:26.848Z"
   },
   {
    "duration": 508,
    "start_time": "2022-06-30T12:48:26.939Z"
   },
   {
    "duration": 34591,
    "start_time": "2022-06-30T12:48:27.450Z"
   },
   {
    "duration": 103194,
    "start_time": "2022-06-30T12:49:02.043Z"
   },
   {
    "duration": 1750,
    "start_time": "2022-06-30T12:50:45.251Z"
   },
   {
    "duration": 45,
    "start_time": "2022-06-30T12:50:47.005Z"
   },
   {
    "duration": 204,
    "start_time": "2022-06-30T12:50:47.052Z"
   },
   {
    "duration": 103,
    "start_time": "2022-06-30T12:50:47.257Z"
   },
   {
    "duration": 1172,
    "start_time": "2022-07-01T10:07:00.373Z"
   },
   {
    "duration": 3042,
    "start_time": "2022-07-01T10:07:01.547Z"
   },
   {
    "duration": 265,
    "start_time": "2022-07-01T10:07:04.591Z"
   },
   {
    "duration": 27,
    "start_time": "2022-07-01T10:07:04.857Z"
   },
   {
    "duration": 18,
    "start_time": "2022-07-01T10:07:04.886Z"
   },
   {
    "duration": 37,
    "start_time": "2022-07-01T10:07:04.905Z"
   },
   {
    "duration": 20,
    "start_time": "2022-07-01T10:07:04.944Z"
   },
   {
    "duration": 26,
    "start_time": "2022-07-01T10:07:04.966Z"
   },
   {
    "duration": 45,
    "start_time": "2022-07-01T10:07:04.994Z"
   },
   {
    "duration": 557,
    "start_time": "2022-07-01T10:07:05.040Z"
   },
   {
    "duration": 95,
    "start_time": "2022-07-01T10:07:05.599Z"
   },
   {
    "duration": 30,
    "start_time": "2022-07-01T10:07:05.696Z"
   },
   {
    "duration": 91,
    "start_time": "2022-07-01T10:07:05.728Z"
   },
   {
    "duration": 41,
    "start_time": "2022-07-01T10:07:05.825Z"
   },
   {
    "duration": 150,
    "start_time": "2022-07-01T10:07:05.868Z"
   },
   {
    "duration": 28,
    "start_time": "2022-07-01T10:07:06.019Z"
   },
   {
    "duration": 277,
    "start_time": "2022-07-01T10:07:06.049Z"
   },
   {
    "duration": 20,
    "start_time": "2022-07-01T10:07:06.327Z"
   },
   {
    "duration": 39,
    "start_time": "2022-07-01T10:07:06.348Z"
   },
   {
    "duration": 43520,
    "start_time": "2022-07-01T10:07:06.388Z"
   },
   {
    "duration": 90408,
    "start_time": "2022-07-01T10:07:49.909Z"
   },
   {
    "duration": 52,
    "start_time": "2022-07-01T10:09:20.318Z"
   },
   {
    "duration": 568,
    "start_time": "2022-07-01T10:09:20.371Z"
   },
   {
    "duration": 35995,
    "start_time": "2022-07-01T10:09:20.941Z"
   },
   {
    "duration": 80401,
    "start_time": "2022-07-01T10:09:56.937Z"
   },
   {
    "duration": 1604,
    "start_time": "2022-07-01T10:11:17.340Z"
   },
   {
    "duration": 7,
    "start_time": "2022-07-01T10:11:18.945Z"
   },
   {
    "duration": 184,
    "start_time": "2022-07-01T10:11:18.954Z"
   },
   {
    "duration": 97,
    "start_time": "2022-07-01T10:11:19.139Z"
   },
   {
    "duration": 10,
    "start_time": "2022-07-01T10:11:58.423Z"
   },
   {
    "duration": 1132,
    "start_time": "2022-07-01T10:12:58.574Z"
   },
   {
    "duration": 768,
    "start_time": "2022-07-01T10:12:59.707Z"
   },
   {
    "duration": 265,
    "start_time": "2022-07-01T10:13:00.477Z"
   },
   {
    "duration": 40,
    "start_time": "2022-07-01T10:13:00.744Z"
   },
   {
    "duration": 40,
    "start_time": "2022-07-01T10:13:00.786Z"
   },
   {
    "duration": 32,
    "start_time": "2022-07-01T10:13:00.827Z"
   },
   {
    "duration": 36,
    "start_time": "2022-07-01T10:13:00.860Z"
   },
   {
    "duration": 35,
    "start_time": "2022-07-01T10:13:00.897Z"
   },
   {
    "duration": 27,
    "start_time": "2022-07-01T10:13:00.934Z"
   },
   {
    "duration": 588,
    "start_time": "2022-07-01T10:13:00.962Z"
   },
   {
    "duration": 100,
    "start_time": "2022-07-01T10:13:01.552Z"
   },
   {
    "duration": 22,
    "start_time": "2022-07-01T10:13:01.654Z"
   },
   {
    "duration": 103,
    "start_time": "2022-07-01T10:13:01.677Z"
   },
   {
    "duration": 46,
    "start_time": "2022-07-01T10:13:01.783Z"
   },
   {
    "duration": 142,
    "start_time": "2022-07-01T10:13:01.831Z"
   },
   {
    "duration": 25,
    "start_time": "2022-07-01T10:13:01.975Z"
   },
   {
    "duration": 277,
    "start_time": "2022-07-01T10:13:02.001Z"
   },
   {
    "duration": 18,
    "start_time": "2022-07-01T10:13:02.280Z"
   },
   {
    "duration": 54,
    "start_time": "2022-07-01T10:13:02.300Z"
   },
   {
    "duration": 43225,
    "start_time": "2022-07-01T10:13:02.355Z"
   },
   {
    "duration": 89985,
    "start_time": "2022-07-01T10:13:45.581Z"
   },
   {
    "duration": 61,
    "start_time": "2022-07-01T10:15:15.568Z"
   },
   {
    "duration": 594,
    "start_time": "2022-07-01T10:15:15.631Z"
   },
   {
    "duration": 22810,
    "start_time": "2022-07-01T10:15:16.228Z"
   },
   {
    "duration": 26304,
    "start_time": "2022-07-01T10:15:39.040Z"
   },
   {
    "duration": 1687,
    "start_time": "2022-07-01T10:16:05.346Z"
   },
   {
    "duration": 8,
    "start_time": "2022-07-01T10:16:07.035Z"
   },
   {
    "duration": 200,
    "start_time": "2022-07-01T10:16:07.045Z"
   },
   {
    "duration": 18,
    "start_time": "2022-07-01T10:16:07.324Z"
   },
   {
    "duration": 1249,
    "start_time": "2022-07-01T10:19:48.354Z"
   },
   {
    "duration": 914,
    "start_time": "2022-07-01T10:19:49.605Z"
   },
   {
    "duration": 290,
    "start_time": "2022-07-01T10:19:50.520Z"
   },
   {
    "duration": 36,
    "start_time": "2022-07-01T10:19:50.812Z"
   },
   {
    "duration": 33,
    "start_time": "2022-07-01T10:19:50.849Z"
   },
   {
    "duration": 23,
    "start_time": "2022-07-01T10:19:50.883Z"
   },
   {
    "duration": 38,
    "start_time": "2022-07-01T10:19:50.907Z"
   },
   {
    "duration": 40,
    "start_time": "2022-07-01T10:19:50.948Z"
   },
   {
    "duration": 28,
    "start_time": "2022-07-01T10:19:50.989Z"
   },
   {
    "duration": 656,
    "start_time": "2022-07-01T10:19:51.019Z"
   },
   {
    "duration": 108,
    "start_time": "2022-07-01T10:19:51.677Z"
   },
   {
    "duration": 24,
    "start_time": "2022-07-01T10:19:51.786Z"
   },
   {
    "duration": 117,
    "start_time": "2022-07-01T10:19:51.811Z"
   },
   {
    "duration": 45,
    "start_time": "2022-07-01T10:19:51.930Z"
   },
   {
    "duration": 171,
    "start_time": "2022-07-01T10:19:51.977Z"
   },
   {
    "duration": 23,
    "start_time": "2022-07-01T10:19:52.152Z"
   },
   {
    "duration": 320,
    "start_time": "2022-07-01T10:19:52.177Z"
   },
   {
    "duration": 16,
    "start_time": "2022-07-01T10:19:52.499Z"
   },
   {
    "duration": 48,
    "start_time": "2022-07-01T10:19:52.525Z"
   },
   {
    "duration": 49674,
    "start_time": "2022-07-01T10:19:52.575Z"
   },
   {
    "duration": 97528,
    "start_time": "2022-07-01T10:20:42.250Z"
   },
   {
    "duration": 55,
    "start_time": "2022-07-01T10:22:19.779Z"
   },
   {
    "duration": 511,
    "start_time": "2022-07-01T10:22:19.835Z"
   },
   {
    "duration": 35285,
    "start_time": "2022-07-01T10:22:20.348Z"
   },
   {
    "duration": 105692,
    "start_time": "2022-07-01T10:22:55.634Z"
   },
   {
    "duration": 1652,
    "start_time": "2022-07-01T10:24:41.328Z"
   },
   {
    "duration": 145,
    "start_time": "2022-07-01T10:24:42.982Z"
   },
   {
    "duration": 111,
    "start_time": "2022-07-01T10:24:43.130Z"
   },
   {
    "duration": 5,
    "start_time": "2022-07-01T10:24:43.243Z"
   },
   {
    "duration": 47,
    "start_time": "2022-07-01T10:29:09.346Z"
   },
   {
    "duration": 128,
    "start_time": "2022-07-01T10:29:10.802Z"
   },
   {
    "duration": 47,
    "start_time": "2022-07-01T10:29:16.171Z"
   },
   {
    "duration": 126,
    "start_time": "2022-07-01T10:29:17.092Z"
   },
   {
    "duration": 1187,
    "start_time": "2022-07-01T10:43:25.073Z"
   },
   {
    "duration": 820,
    "start_time": "2022-07-01T10:43:26.263Z"
   },
   {
    "duration": 261,
    "start_time": "2022-07-01T10:43:27.085Z"
   },
   {
    "duration": 26,
    "start_time": "2022-07-01T10:43:27.348Z"
   },
   {
    "duration": 18,
    "start_time": "2022-07-01T10:43:27.375Z"
   },
   {
    "duration": 39,
    "start_time": "2022-07-01T10:43:27.395Z"
   },
   {
    "duration": 21,
    "start_time": "2022-07-01T10:43:27.435Z"
   },
   {
    "duration": 25,
    "start_time": "2022-07-01T10:43:27.457Z"
   },
   {
    "duration": 52,
    "start_time": "2022-07-01T10:43:27.483Z"
   },
   {
    "duration": 587,
    "start_time": "2022-07-01T10:43:27.537Z"
   },
   {
    "duration": 104,
    "start_time": "2022-07-01T10:43:28.126Z"
   },
   {
    "duration": 36,
    "start_time": "2022-07-01T10:43:28.232Z"
   },
   {
    "duration": 108,
    "start_time": "2022-07-01T10:43:28.269Z"
   },
   {
    "duration": 52,
    "start_time": "2022-07-01T10:43:28.378Z"
   },
   {
    "duration": 146,
    "start_time": "2022-07-01T10:43:28.432Z"
   },
   {
    "duration": 26,
    "start_time": "2022-07-01T10:43:28.579Z"
   },
   {
    "duration": 320,
    "start_time": "2022-07-01T10:43:28.606Z"
   },
   {
    "duration": 18,
    "start_time": "2022-07-01T10:43:28.928Z"
   },
   {
    "duration": 41,
    "start_time": "2022-07-01T10:43:28.947Z"
   },
   {
    "duration": 46163,
    "start_time": "2022-07-01T10:43:28.990Z"
   },
   {
    "duration": 92761,
    "start_time": "2022-07-01T10:44:15.155Z"
   },
   {
    "duration": 56,
    "start_time": "2022-07-01T10:45:47.918Z"
   },
   {
    "duration": 554,
    "start_time": "2022-07-01T10:45:47.977Z"
   },
   {
    "duration": 1202,
    "start_time": "2022-07-01T10:45:48.535Z"
   },
   {
    "duration": 6905,
    "start_time": "2022-07-01T10:45:49.739Z"
   },
   {
    "duration": 1640,
    "start_time": "2022-07-01T10:45:56.726Z"
   },
   {
    "duration": 61,
    "start_time": "2022-07-01T10:45:58.368Z"
   },
   {
    "duration": 199,
    "start_time": "2022-07-01T10:45:58.433Z"
   },
   {
    "duration": 6,
    "start_time": "2022-07-01T10:45:58.633Z"
   },
   {
    "duration": 1138,
    "start_time": "2022-07-01T11:03:52.784Z"
   },
   {
    "duration": 741,
    "start_time": "2022-07-01T11:03:53.924Z"
   },
   {
    "duration": 245,
    "start_time": "2022-07-01T11:03:54.667Z"
   },
   {
    "duration": 29,
    "start_time": "2022-07-01T11:03:54.914Z"
   },
   {
    "duration": 19,
    "start_time": "2022-07-01T11:03:54.944Z"
   },
   {
    "duration": 19,
    "start_time": "2022-07-01T11:03:54.964Z"
   },
   {
    "duration": 21,
    "start_time": "2022-07-01T11:03:54.984Z"
   },
   {
    "duration": 34,
    "start_time": "2022-07-01T11:03:55.006Z"
   },
   {
    "duration": 28,
    "start_time": "2022-07-01T11:03:55.042Z"
   },
   {
    "duration": 576,
    "start_time": "2022-07-01T11:03:55.073Z"
   },
   {
    "duration": 90,
    "start_time": "2022-07-01T11:03:55.651Z"
   },
   {
    "duration": 21,
    "start_time": "2022-07-01T11:03:55.743Z"
   },
   {
    "duration": 98,
    "start_time": "2022-07-01T11:03:55.766Z"
   },
   {
    "duration": 39,
    "start_time": "2022-07-01T11:03:55.865Z"
   },
   {
    "duration": 148,
    "start_time": "2022-07-01T11:03:55.906Z"
   },
   {
    "duration": 24,
    "start_time": "2022-07-01T11:03:56.056Z"
   },
   {
    "duration": 281,
    "start_time": "2022-07-01T11:03:56.081Z"
   },
   {
    "duration": 19,
    "start_time": "2022-07-01T11:03:56.364Z"
   },
   {
    "duration": 54,
    "start_time": "2022-07-01T11:03:56.385Z"
   },
   {
    "duration": 43424,
    "start_time": "2022-07-01T11:03:56.441Z"
   },
   {
    "duration": 90140,
    "start_time": "2022-07-01T11:04:39.867Z"
   },
   {
    "duration": 59,
    "start_time": "2022-07-01T11:06:10.008Z"
   },
   {
    "duration": 477,
    "start_time": "2022-07-01T11:06:10.069Z"
   },
   {
    "duration": 1215,
    "start_time": "2022-07-01T11:06:10.626Z"
   },
   {
    "duration": 4197,
    "start_time": "2022-07-01T11:06:11.843Z"
   },
   {
    "duration": 1604,
    "start_time": "2022-07-01T11:06:16.042Z"
   },
   {
    "duration": 7,
    "start_time": "2022-07-01T11:06:17.647Z"
   },
   {
    "duration": 269,
    "start_time": "2022-07-01T11:06:17.657Z"
   },
   {
    "duration": 5,
    "start_time": "2022-07-01T11:06:17.928Z"
   },
   {
    "duration": 644,
    "start_time": "2022-07-01T11:30:03.857Z"
   },
   {
    "duration": 156,
    "start_time": "2022-07-01T11:30:13.882Z"
   },
   {
    "duration": 1569,
    "start_time": "2022-07-01T11:31:11.107Z"
   },
   {
    "duration": 47,
    "start_time": "2022-07-01T11:31:56.234Z"
   },
   {
    "duration": 1500,
    "start_time": "2022-07-01T11:31:56.912Z"
   },
   {
    "duration": 112,
    "start_time": "2022-07-01T11:32:22.190Z"
   },
   {
    "duration": 1107,
    "start_time": "2022-07-01T11:33:03.378Z"
   },
   {
    "duration": 779,
    "start_time": "2022-07-01T11:33:04.487Z"
   },
   {
    "duration": 247,
    "start_time": "2022-07-01T11:33:05.268Z"
   },
   {
    "duration": 37,
    "start_time": "2022-07-01T11:33:05.517Z"
   },
   {
    "duration": 21,
    "start_time": "2022-07-01T11:33:05.556Z"
   },
   {
    "duration": 19,
    "start_time": "2022-07-01T11:33:05.578Z"
   },
   {
    "duration": 39,
    "start_time": "2022-07-01T11:33:05.599Z"
   },
   {
    "duration": 22,
    "start_time": "2022-07-01T11:33:05.640Z"
   },
   {
    "duration": 25,
    "start_time": "2022-07-01T11:33:05.664Z"
   },
   {
    "duration": 603,
    "start_time": "2022-07-01T11:33:05.691Z"
   },
   {
    "duration": 94,
    "start_time": "2022-07-01T11:33:06.296Z"
   },
   {
    "duration": 21,
    "start_time": "2022-07-01T11:33:06.392Z"
   },
   {
    "duration": 100,
    "start_time": "2022-07-01T11:33:06.426Z"
   },
   {
    "duration": 53,
    "start_time": "2022-07-01T11:33:06.528Z"
   },
   {
    "duration": 176,
    "start_time": "2022-07-01T11:33:06.584Z"
   },
   {
    "duration": 28,
    "start_time": "2022-07-01T11:33:06.762Z"
   },
   {
    "duration": 227,
    "start_time": "2022-07-01T11:33:06.792Z"
   },
   {
    "duration": 163,
    "start_time": "2022-07-01T11:33:07.025Z"
   },
   {
    "duration": 113,
    "start_time": "2022-07-01T11:33:07.190Z"
   },
   {
    "duration": 0,
    "start_time": "2022-07-01T11:33:07.305Z"
   },
   {
    "duration": 0,
    "start_time": "2022-07-01T11:33:07.306Z"
   },
   {
    "duration": 0,
    "start_time": "2022-07-01T11:33:07.307Z"
   },
   {
    "duration": 0,
    "start_time": "2022-07-01T11:33:07.383Z"
   },
   {
    "duration": 0,
    "start_time": "2022-07-01T11:33:07.385Z"
   },
   {
    "duration": 0,
    "start_time": "2022-07-01T11:33:07.386Z"
   },
   {
    "duration": 0,
    "start_time": "2022-07-01T11:33:07.387Z"
   },
   {
    "duration": 0,
    "start_time": "2022-07-01T11:33:07.389Z"
   },
   {
    "duration": 0,
    "start_time": "2022-07-01T11:33:07.390Z"
   },
   {
    "duration": 0,
    "start_time": "2022-07-01T11:33:07.391Z"
   },
   {
    "duration": 0,
    "start_time": "2022-07-01T11:33:07.393Z"
   },
   {
    "duration": 1204,
    "start_time": "2022-07-01T11:36:08.726Z"
   },
   {
    "duration": 758,
    "start_time": "2022-07-01T11:36:09.932Z"
   },
   {
    "duration": 260,
    "start_time": "2022-07-01T11:36:10.692Z"
   },
   {
    "duration": 25,
    "start_time": "2022-07-01T11:36:10.955Z"
   },
   {
    "duration": 18,
    "start_time": "2022-07-01T11:36:10.982Z"
   },
   {
    "duration": 35,
    "start_time": "2022-07-01T11:36:11.001Z"
   },
   {
    "duration": 19,
    "start_time": "2022-07-01T11:36:11.038Z"
   },
   {
    "duration": 23,
    "start_time": "2022-07-01T11:36:11.059Z"
   },
   {
    "duration": 43,
    "start_time": "2022-07-01T11:36:11.083Z"
   },
   {
    "duration": 583,
    "start_time": "2022-07-01T11:36:11.129Z"
   },
   {
    "duration": 90,
    "start_time": "2022-07-01T11:36:11.714Z"
   },
   {
    "duration": 30,
    "start_time": "2022-07-01T11:36:11.806Z"
   },
   {
    "duration": 102,
    "start_time": "2022-07-01T11:36:11.837Z"
   },
   {
    "duration": 41,
    "start_time": "2022-07-01T11:36:11.941Z"
   },
   {
    "duration": 161,
    "start_time": "2022-07-01T11:36:11.984Z"
   },
   {
    "duration": 27,
    "start_time": "2022-07-01T11:36:12.147Z"
   },
   {
    "duration": 257,
    "start_time": "2022-07-01T11:36:12.176Z"
   },
   {
    "duration": 624,
    "start_time": "2022-07-01T11:36:12.435Z"
   },
   {
    "duration": 107,
    "start_time": "2022-07-01T11:36:13.061Z"
   },
   {
    "duration": 261,
    "start_time": "2022-07-01T11:36:13.170Z"
   },
   {
    "duration": 394166,
    "start_time": "2022-07-01T11:36:13.433Z"
   },
   {
    "duration": 1102,
    "start_time": "2022-07-01T11:43:05.032Z"
   },
   {
    "duration": 817,
    "start_time": "2022-07-01T11:43:06.135Z"
   },
   {
    "duration": 256,
    "start_time": "2022-07-01T11:43:06.954Z"
   },
   {
    "duration": 32,
    "start_time": "2022-07-01T11:43:07.212Z"
   },
   {
    "duration": 19,
    "start_time": "2022-07-01T11:43:07.245Z"
   },
   {
    "duration": 31,
    "start_time": "2022-07-01T11:43:07.265Z"
   },
   {
    "duration": 32,
    "start_time": "2022-07-01T11:43:07.299Z"
   },
   {
    "duration": 40,
    "start_time": "2022-07-01T11:43:07.333Z"
   },
   {
    "duration": 43,
    "start_time": "2022-07-01T11:43:07.374Z"
   },
   {
    "duration": 615,
    "start_time": "2022-07-01T11:43:07.421Z"
   },
   {
    "duration": 100,
    "start_time": "2022-07-01T11:43:08.037Z"
   },
   {
    "duration": 22,
    "start_time": "2022-07-01T11:43:08.138Z"
   },
   {
    "duration": 106,
    "start_time": "2022-07-01T11:43:08.161Z"
   },
   {
    "duration": 41,
    "start_time": "2022-07-01T11:43:08.268Z"
   },
   {
    "duration": 158,
    "start_time": "2022-07-01T11:43:08.311Z"
   },
   {
    "duration": 25,
    "start_time": "2022-07-01T11:43:08.471Z"
   },
   {
    "duration": 268,
    "start_time": "2022-07-01T11:43:08.497Z"
   },
   {
    "duration": 134,
    "start_time": "2022-07-01T11:43:08.768Z"
   },
   {
    "duration": 28,
    "start_time": "2022-07-01T11:43:08.904Z"
   },
   {
    "duration": 68,
    "start_time": "2022-07-01T11:43:08.934Z"
   },
   {
    "duration": 578,
    "start_time": "2022-07-01T11:43:09.004Z"
   },
   {
    "duration": 713,
    "start_time": "2022-07-01T11:43:09.583Z"
   },
   {
    "duration": 0,
    "start_time": "2022-07-01T11:43:10.298Z"
   },
   {
    "duration": 0,
    "start_time": "2022-07-01T11:43:10.299Z"
   },
   {
    "duration": 0,
    "start_time": "2022-07-01T11:43:10.300Z"
   },
   {
    "duration": 0,
    "start_time": "2022-07-01T11:43:10.301Z"
   },
   {
    "duration": 0,
    "start_time": "2022-07-01T11:43:10.302Z"
   },
   {
    "duration": 0,
    "start_time": "2022-07-01T11:43:10.303Z"
   },
   {
    "duration": 0,
    "start_time": "2022-07-01T11:43:10.304Z"
   },
   {
    "duration": 0,
    "start_time": "2022-07-01T11:43:10.304Z"
   },
   {
    "duration": 1147,
    "start_time": "2022-07-01T11:43:54.483Z"
   },
   {
    "duration": 742,
    "start_time": "2022-07-01T11:43:55.632Z"
   },
   {
    "duration": 273,
    "start_time": "2022-07-01T11:43:56.376Z"
   },
   {
    "duration": 32,
    "start_time": "2022-07-01T11:43:56.651Z"
   },
   {
    "duration": 23,
    "start_time": "2022-07-01T11:43:56.686Z"
   },
   {
    "duration": 18,
    "start_time": "2022-07-01T11:43:56.726Z"
   },
   {
    "duration": 24,
    "start_time": "2022-07-01T11:43:56.747Z"
   },
   {
    "duration": 30,
    "start_time": "2022-07-01T11:43:56.773Z"
   },
   {
    "duration": 46,
    "start_time": "2022-07-01T11:43:56.804Z"
   },
   {
    "duration": 586,
    "start_time": "2022-07-01T11:43:56.853Z"
   },
   {
    "duration": 103,
    "start_time": "2022-07-01T11:43:57.441Z"
   },
   {
    "duration": 24,
    "start_time": "2022-07-01T11:43:57.546Z"
   },
   {
    "duration": 101,
    "start_time": "2022-07-01T11:43:57.572Z"
   },
   {
    "duration": 39,
    "start_time": "2022-07-01T11:43:57.675Z"
   },
   {
    "duration": 145,
    "start_time": "2022-07-01T11:43:57.715Z"
   },
   {
    "duration": 25,
    "start_time": "2022-07-01T11:43:57.861Z"
   },
   {
    "duration": 230,
    "start_time": "2022-07-01T11:43:57.887Z"
   },
   {
    "duration": 141,
    "start_time": "2022-07-01T11:43:58.118Z"
   },
   {
    "duration": 21,
    "start_time": "2022-07-01T11:43:58.260Z"
   },
   {
    "duration": 79,
    "start_time": "2022-07-01T11:43:58.282Z"
   },
   {
    "duration": 120736,
    "start_time": "2022-07-01T11:43:58.363Z"
   },
   {
    "duration": 234101,
    "start_time": "2022-07-01T11:45:59.100Z"
   },
   {
    "duration": 1424,
    "start_time": "2022-07-01T11:49:53.203Z"
   },
   {
    "duration": 3398,
    "start_time": "2022-07-01T11:49:54.629Z"
   },
   {
    "duration": 25212,
    "start_time": "2022-07-01T11:49:58.029Z"
   },
   {
    "duration": 55494,
    "start_time": "2022-07-01T11:50:23.243Z"
   },
   {
    "duration": 1637,
    "start_time": "2022-07-01T11:51:18.740Z"
   },
   {
    "duration": 57,
    "start_time": "2022-07-01T11:51:20.379Z"
   },
   {
    "duration": 200,
    "start_time": "2022-07-01T11:51:20.438Z"
   },
   {
    "duration": 5,
    "start_time": "2022-07-01T11:51:20.640Z"
   },
   {
    "duration": 1180,
    "start_time": "2022-07-01T11:51:48.287Z"
   },
   {
    "duration": 797,
    "start_time": "2022-07-01T11:51:49.469Z"
   },
   {
    "duration": 257,
    "start_time": "2022-07-01T11:51:50.268Z"
   },
   {
    "duration": 25,
    "start_time": "2022-07-01T11:51:50.527Z"
   },
   {
    "duration": 29,
    "start_time": "2022-07-01T11:51:50.553Z"
   },
   {
    "duration": 44,
    "start_time": "2022-07-01T11:51:50.584Z"
   },
   {
    "duration": 22,
    "start_time": "2022-07-01T11:51:50.629Z"
   },
   {
    "duration": 34,
    "start_time": "2022-07-01T11:51:50.653Z"
   },
   {
    "duration": 52,
    "start_time": "2022-07-01T11:51:50.689Z"
   },
   {
    "duration": 593,
    "start_time": "2022-07-01T11:51:50.744Z"
   },
   {
    "duration": 96,
    "start_time": "2022-07-01T11:51:51.339Z"
   },
   {
    "duration": 23,
    "start_time": "2022-07-01T11:51:51.437Z"
   },
   {
    "duration": 110,
    "start_time": "2022-07-01T11:51:51.461Z"
   },
   {
    "duration": 40,
    "start_time": "2022-07-01T11:51:51.572Z"
   },
   {
    "duration": 151,
    "start_time": "2022-07-01T11:51:51.614Z"
   },
   {
    "duration": 24,
    "start_time": "2022-07-01T11:51:51.767Z"
   },
   {
    "duration": 241,
    "start_time": "2022-07-01T11:51:51.793Z"
   },
   {
    "duration": 558,
    "start_time": "2022-07-01T11:51:52.036Z"
   },
   {
    "duration": 98,
    "start_time": "2022-07-01T11:51:52.595Z"
   },
   {
    "duration": 264,
    "start_time": "2022-07-01T11:51:52.695Z"
   },
   {
    "duration": 399514,
    "start_time": "2022-07-01T11:51:52.961Z"
   },
   {
    "duration": 730070,
    "start_time": "2022-07-01T11:58:32.477Z"
   },
   {
    "duration": 23278,
    "start_time": "2022-07-01T12:10:42.549Z"
   },
   {
    "duration": 47798,
    "start_time": "2022-07-01T12:11:05.828Z"
   },
   {
    "duration": 26510,
    "start_time": "2022-07-01T12:11:53.628Z"
   },
   {
    "duration": 74594,
    "start_time": "2022-07-01T12:12:20.140Z"
   },
   {
    "duration": 1957,
    "start_time": "2022-07-01T12:13:34.736Z"
   },
   {
    "duration": 129,
    "start_time": "2022-07-01T12:13:36.696Z"
   },
   {
    "duration": 319,
    "start_time": "2022-07-01T12:13:36.827Z"
   },
   {
    "duration": 6,
    "start_time": "2022-07-01T12:13:37.225Z"
   },
   {
    "duration": 1194,
    "start_time": "2022-07-01T12:16:33.047Z"
   },
   {
    "duration": 757,
    "start_time": "2022-07-01T12:16:34.243Z"
   },
   {
    "duration": 270,
    "start_time": "2022-07-01T12:16:35.002Z"
   },
   {
    "duration": 26,
    "start_time": "2022-07-01T12:16:35.274Z"
   },
   {
    "duration": 35,
    "start_time": "2022-07-01T12:16:35.301Z"
   },
   {
    "duration": 19,
    "start_time": "2022-07-01T12:16:35.338Z"
   },
   {
    "duration": 21,
    "start_time": "2022-07-01T12:16:35.358Z"
   },
   {
    "duration": 23,
    "start_time": "2022-07-01T12:16:35.381Z"
   },
   {
    "duration": 44,
    "start_time": "2022-07-01T12:16:35.405Z"
   },
   {
    "duration": 583,
    "start_time": "2022-07-01T12:16:35.452Z"
   },
   {
    "duration": 98,
    "start_time": "2022-07-01T12:16:36.037Z"
   },
   {
    "duration": 23,
    "start_time": "2022-07-01T12:16:36.136Z"
   },
   {
    "duration": 101,
    "start_time": "2022-07-01T12:16:36.160Z"
   },
   {
    "duration": 39,
    "start_time": "2022-07-01T12:16:36.263Z"
   },
   {
    "duration": 145,
    "start_time": "2022-07-01T12:16:36.303Z"
   },
   {
    "duration": 24,
    "start_time": "2022-07-01T12:16:36.450Z"
   },
   {
    "duration": 310,
    "start_time": "2022-07-01T12:16:36.476Z"
   },
   {
    "duration": 20,
    "start_time": "2022-07-01T12:16:36.788Z"
   },
   {
    "duration": 62,
    "start_time": "2022-07-01T12:16:36.810Z"
   },
   {
    "duration": 45503,
    "start_time": "2022-07-01T12:16:36.874Z"
   },
   {
    "duration": 91896,
    "start_time": "2022-07-01T12:17:22.379Z"
   },
   {
    "duration": 60,
    "start_time": "2022-07-01T12:18:54.276Z"
   },
   {
    "duration": 500,
    "start_time": "2022-07-01T12:18:54.338Z"
   },
   {
    "duration": 34290,
    "start_time": "2022-07-01T12:18:54.840Z"
   },
   {
    "duration": 101008,
    "start_time": "2022-07-01T12:19:29.131Z"
   },
   {
    "duration": 1576,
    "start_time": "2022-07-01T12:21:10.141Z"
   },
   {
    "duration": 12,
    "start_time": "2022-07-01T12:21:11.719Z"
   },
   {
    "duration": 213,
    "start_time": "2022-07-01T12:21:11.734Z"
   },
   {
    "duration": 8,
    "start_time": "2022-07-01T12:21:12.025Z"
   },
   {
    "duration": 1230,
    "start_time": "2022-07-01T15:12:08.617Z"
   },
   {
    "duration": 1123,
    "start_time": "2022-07-01T15:12:09.849Z"
   },
   {
    "duration": 262,
    "start_time": "2022-07-01T15:12:10.974Z"
   },
   {
    "duration": 40,
    "start_time": "2022-07-01T15:12:11.238Z"
   },
   {
    "duration": 21,
    "start_time": "2022-07-01T15:12:11.280Z"
   },
   {
    "duration": 24,
    "start_time": "2022-07-01T15:12:11.303Z"
   },
   {
    "duration": 52,
    "start_time": "2022-07-01T15:12:11.329Z"
   },
   {
    "duration": 24,
    "start_time": "2022-07-01T15:12:11.383Z"
   },
   {
    "duration": 59,
    "start_time": "2022-07-01T15:12:11.409Z"
   },
   {
    "duration": 591,
    "start_time": "2022-07-01T15:12:12.328Z"
   },
   {
    "duration": 3,
    "start_time": "2022-07-01T15:12:39.339Z"
   },
   {
    "duration": 769,
    "start_time": "2022-07-01T15:12:39.344Z"
   },
   {
    "duration": 285,
    "start_time": "2022-07-01T15:12:40.114Z"
   },
   {
    "duration": 20,
    "start_time": "2022-07-01T15:12:40.401Z"
   },
   {
    "duration": 48,
    "start_time": "2022-07-01T15:12:40.423Z"
   },
   {
    "duration": 29,
    "start_time": "2022-07-01T15:12:40.474Z"
   },
   {
    "duration": 20,
    "start_time": "2022-07-01T15:12:40.505Z"
   },
   {
    "duration": 46,
    "start_time": "2022-07-01T15:12:40.526Z"
   },
   {
    "duration": 45,
    "start_time": "2022-07-01T15:12:40.574Z"
   },
   {
    "duration": 102,
    "start_time": "2022-07-01T15:12:57.749Z"
   },
   {
    "duration": 102,
    "start_time": "2022-07-01T15:13:06.068Z"
   },
   {
    "duration": 4,
    "start_time": "2022-07-01T15:13:25.018Z"
   },
   {
    "duration": 14,
    "start_time": "2022-07-01T15:13:55.467Z"
   },
   {
    "duration": 228,
    "start_time": "2022-07-01T15:14:04.889Z"
   },
   {
    "duration": 1767,
    "start_time": "2022-07-01T15:14:58.362Z"
   },
   {
    "duration": 110,
    "start_time": "2022-07-01T15:15:15.067Z"
   },
   {
    "duration": 9,
    "start_time": "2022-07-01T15:15:19.712Z"
   },
   {
    "duration": 13,
    "start_time": "2022-07-01T15:15:28.322Z"
   },
   {
    "duration": 12,
    "start_time": "2022-07-01T15:15:39.666Z"
   },
   {
    "duration": 48,
    "start_time": "2022-07-01T15:15:58.915Z"
   },
   {
    "duration": 27,
    "start_time": "2022-07-01T15:16:13.114Z"
   },
   {
    "duration": 33,
    "start_time": "2022-07-01T15:17:17.175Z"
   },
   {
    "duration": 83,
    "start_time": "2022-07-01T15:41:16.391Z"
   },
   {
    "duration": 121,
    "start_time": "2022-07-01T15:56:14.959Z"
   },
   {
    "duration": 1225,
    "start_time": "2022-07-01T17:44:49.626Z"
   },
   {
    "duration": 1097,
    "start_time": "2022-07-01T17:44:50.853Z"
   },
   {
    "duration": 274,
    "start_time": "2022-07-01T17:44:51.952Z"
   },
   {
    "duration": 25,
    "start_time": "2022-07-01T17:44:52.229Z"
   },
   {
    "duration": 28,
    "start_time": "2022-07-01T17:44:52.255Z"
   },
   {
    "duration": 27,
    "start_time": "2022-07-01T17:44:52.285Z"
   },
   {
    "duration": 35,
    "start_time": "2022-07-01T17:44:52.313Z"
   },
   {
    "duration": 28,
    "start_time": "2022-07-01T17:44:52.350Z"
   },
   {
    "duration": 27,
    "start_time": "2022-07-01T17:44:52.379Z"
   },
   {
    "duration": 622,
    "start_time": "2022-07-01T17:44:52.409Z"
   },
   {
    "duration": 115,
    "start_time": "2022-07-01T17:44:53.033Z"
   },
   {
    "duration": 21,
    "start_time": "2022-07-01T17:44:53.150Z"
   },
   {
    "duration": 103,
    "start_time": "2022-07-01T17:44:53.173Z"
   },
   {
    "duration": 40,
    "start_time": "2022-07-01T17:44:53.277Z"
   },
   {
    "duration": 142,
    "start_time": "2022-07-01T17:44:53.318Z"
   },
   {
    "duration": 25,
    "start_time": "2022-07-01T17:44:53.462Z"
   },
   {
    "duration": 294,
    "start_time": "2022-07-01T17:44:53.489Z"
   },
   {
    "duration": 20,
    "start_time": "2022-07-01T17:44:53.785Z"
   },
   {
    "duration": 57,
    "start_time": "2022-07-01T17:44:53.807Z"
   },
   {
    "duration": 47668,
    "start_time": "2022-07-01T17:44:53.866Z"
   },
   {
    "duration": 102610,
    "start_time": "2022-07-01T17:45:41.536Z"
   },
   {
    "duration": 50,
    "start_time": "2022-07-01T17:47:24.149Z"
   },
   {
    "duration": 424,
    "start_time": "2022-07-01T17:47:24.229Z"
   },
   {
    "duration": 36277,
    "start_time": "2022-07-01T17:47:24.660Z"
   },
   {
    "duration": 116105,
    "start_time": "2022-07-01T17:48:00.942Z"
   },
   {
    "duration": 1658,
    "start_time": "2022-07-01T17:49:57.050Z"
   },
   {
    "duration": 25,
    "start_time": "2022-07-01T17:49:58.709Z"
   },
   {
    "duration": 286,
    "start_time": "2022-07-01T17:49:58.741Z"
   },
   {
    "duration": 6,
    "start_time": "2022-07-01T17:49:59.029Z"
   },
   {
    "duration": 1287,
    "start_time": "2022-07-01T17:56:52.750Z"
   },
   {
    "duration": 955,
    "start_time": "2022-07-01T17:56:54.040Z"
   },
   {
    "duration": 348,
    "start_time": "2022-07-01T17:56:54.997Z"
   },
   {
    "duration": 26,
    "start_time": "2022-07-01T17:56:55.348Z"
   },
   {
    "duration": 20,
    "start_time": "2022-07-01T17:56:55.376Z"
   },
   {
    "duration": 49,
    "start_time": "2022-07-01T17:56:55.398Z"
   },
   {
    "duration": 20,
    "start_time": "2022-07-01T17:56:55.449Z"
   },
   {
    "duration": 24,
    "start_time": "2022-07-01T17:56:55.471Z"
   },
   {
    "duration": 51,
    "start_time": "2022-07-01T17:56:55.497Z"
   },
   {
    "duration": 737,
    "start_time": "2022-07-01T17:56:55.551Z"
   },
   {
    "duration": 162,
    "start_time": "2022-07-01T17:56:56.290Z"
   },
   {
    "duration": 31,
    "start_time": "2022-07-01T17:56:56.454Z"
   },
   {
    "duration": 118,
    "start_time": "2022-07-01T17:56:56.486Z"
   },
   {
    "duration": 54,
    "start_time": "2022-07-01T17:56:56.606Z"
   },
   {
    "duration": 154,
    "start_time": "2022-07-01T17:56:56.662Z"
   },
   {
    "duration": 41,
    "start_time": "2022-07-01T17:56:56.818Z"
   },
   {
    "duration": 146,
    "start_time": "2022-07-01T17:56:56.861Z"
   },
   {
    "duration": 0,
    "start_time": "2022-07-01T17:56:57.009Z"
   },
   {
    "duration": 0,
    "start_time": "2022-07-01T17:56:57.010Z"
   },
   {
    "duration": 0,
    "start_time": "2022-07-01T17:56:57.012Z"
   },
   {
    "duration": 0,
    "start_time": "2022-07-01T17:56:57.013Z"
   },
   {
    "duration": 0,
    "start_time": "2022-07-01T17:56:57.015Z"
   },
   {
    "duration": 0,
    "start_time": "2022-07-01T17:56:57.015Z"
   },
   {
    "duration": 0,
    "start_time": "2022-07-01T17:56:57.028Z"
   },
   {
    "duration": 0,
    "start_time": "2022-07-01T17:56:57.029Z"
   },
   {
    "duration": 0,
    "start_time": "2022-07-01T17:56:57.030Z"
   },
   {
    "duration": 0,
    "start_time": "2022-07-01T17:56:57.030Z"
   },
   {
    "duration": 0,
    "start_time": "2022-07-01T17:56:57.031Z"
   },
   {
    "duration": 0,
    "start_time": "2022-07-01T17:56:57.032Z"
   },
   {
    "duration": 0,
    "start_time": "2022-07-01T17:56:57.035Z"
   },
   {
    "duration": 1168,
    "start_time": "2022-07-01T17:57:35.922Z"
   },
   {
    "duration": 824,
    "start_time": "2022-07-01T17:57:37.092Z"
   },
   {
    "duration": 295,
    "start_time": "2022-07-01T17:57:37.918Z"
   },
   {
    "duration": 31,
    "start_time": "2022-07-01T17:57:38.214Z"
   },
   {
    "duration": 19,
    "start_time": "2022-07-01T17:57:38.247Z"
   },
   {
    "duration": 20,
    "start_time": "2022-07-01T17:57:38.268Z"
   },
   {
    "duration": 40,
    "start_time": "2022-07-01T17:57:38.289Z"
   },
   {
    "duration": 23,
    "start_time": "2022-07-01T17:57:38.331Z"
   },
   {
    "duration": 25,
    "start_time": "2022-07-01T17:57:38.356Z"
   },
   {
    "duration": 646,
    "start_time": "2022-07-01T17:57:38.383Z"
   },
   {
    "duration": 117,
    "start_time": "2022-07-01T17:57:39.030Z"
   },
   {
    "duration": 22,
    "start_time": "2022-07-01T17:57:39.149Z"
   },
   {
    "duration": 97,
    "start_time": "2022-07-01T17:57:39.172Z"
   },
   {
    "duration": 41,
    "start_time": "2022-07-01T17:57:39.272Z"
   },
   {
    "duration": 148,
    "start_time": "2022-07-01T17:57:39.314Z"
   },
   {
    "duration": 28,
    "start_time": "2022-07-01T17:57:39.464Z"
   },
   {
    "duration": 651,
    "start_time": "2022-07-01T17:57:39.494Z"
   },
   {
    "duration": 288,
    "start_time": "2022-07-01T17:57:40.147Z"
   },
   {
    "duration": 18,
    "start_time": "2022-07-01T17:57:40.437Z"
   },
   {
    "duration": 34,
    "start_time": "2022-07-01T17:57:40.456Z"
   },
   {
    "duration": 48293,
    "start_time": "2022-07-01T17:57:40.492Z"
   },
   {
    "duration": 103420,
    "start_time": "2022-07-01T17:58:28.786Z"
   },
   {
    "duration": 56,
    "start_time": "2022-07-01T18:00:12.208Z"
   },
   {
    "duration": 572,
    "start_time": "2022-07-01T18:00:12.266Z"
   },
   {
    "duration": 94,
    "start_time": "2022-07-01T18:00:12.846Z"
   },
   {
    "duration": 0,
    "start_time": "2022-07-01T18:00:12.942Z"
   },
   {
    "duration": 0,
    "start_time": "2022-07-01T18:00:12.944Z"
   },
   {
    "duration": 0,
    "start_time": "2022-07-01T18:00:12.945Z"
   },
   {
    "duration": 0,
    "start_time": "2022-07-01T18:00:12.948Z"
   },
   {
    "duration": 0,
    "start_time": "2022-07-01T18:00:12.950Z"
   },
   {
    "duration": 1158,
    "start_time": "2022-07-01T18:29:10.957Z"
   },
   {
    "duration": 775,
    "start_time": "2022-07-01T18:29:12.117Z"
   },
   {
    "duration": 269,
    "start_time": "2022-07-01T18:29:12.894Z"
   },
   {
    "duration": 27,
    "start_time": "2022-07-01T18:29:13.165Z"
   },
   {
    "duration": 35,
    "start_time": "2022-07-01T18:29:13.195Z"
   },
   {
    "duration": 23,
    "start_time": "2022-07-01T18:29:13.232Z"
   },
   {
    "duration": 30,
    "start_time": "2022-07-01T18:29:13.256Z"
   },
   {
    "duration": 25,
    "start_time": "2022-07-01T18:29:13.287Z"
   },
   {
    "duration": 39,
    "start_time": "2022-07-01T18:29:13.313Z"
   },
   {
    "duration": 649,
    "start_time": "2022-07-01T18:29:13.354Z"
   },
   {
    "duration": 119,
    "start_time": "2022-07-01T18:29:14.004Z"
   },
   {
    "duration": 22,
    "start_time": "2022-07-01T18:29:14.127Z"
   },
   {
    "duration": 103,
    "start_time": "2022-07-01T18:29:14.150Z"
   },
   {
    "duration": 42,
    "start_time": "2022-07-01T18:29:14.256Z"
   },
   {
    "duration": 149,
    "start_time": "2022-07-01T18:29:14.299Z"
   },
   {
    "duration": 19,
    "start_time": "2022-07-01T18:29:14.450Z"
   },
   {
    "duration": 706,
    "start_time": "2022-07-01T18:29:14.471Z"
   },
   {
    "duration": 293,
    "start_time": "2022-07-01T18:29:15.178Z"
   },
   {
    "duration": 1288,
    "start_time": "2022-07-01T18:29:15.472Z"
   },
   {
    "duration": 0,
    "start_time": "2022-07-01T18:29:16.761Z"
   },
   {
    "duration": 0,
    "start_time": "2022-07-01T18:29:16.763Z"
   },
   {
    "duration": 0,
    "start_time": "2022-07-01T18:29:16.764Z"
   },
   {
    "duration": 0,
    "start_time": "2022-07-01T18:29:16.765Z"
   },
   {
    "duration": 0,
    "start_time": "2022-07-01T18:29:16.766Z"
   },
   {
    "duration": 0,
    "start_time": "2022-07-01T18:29:16.767Z"
   },
   {
    "duration": 0,
    "start_time": "2022-07-01T18:29:16.768Z"
   },
   {
    "duration": 0,
    "start_time": "2022-07-01T18:29:16.769Z"
   },
   {
    "duration": 0,
    "start_time": "2022-07-01T18:29:16.770Z"
   },
   {
    "duration": 0,
    "start_time": "2022-07-01T18:29:16.771Z"
   },
   {
    "duration": 0,
    "start_time": "2022-07-01T18:29:16.773Z"
   },
   {
    "duration": 30,
    "start_time": "2022-07-01T18:29:48.545Z"
   },
   {
    "duration": 43,
    "start_time": "2022-07-01T18:30:05.006Z"
   },
   {
    "duration": 1151,
    "start_time": "2022-07-01T18:33:19.043Z"
   },
   {
    "duration": 769,
    "start_time": "2022-07-01T18:33:20.196Z"
   },
   {
    "duration": 291,
    "start_time": "2022-07-01T18:33:20.968Z"
   },
   {
    "duration": 25,
    "start_time": "2022-07-01T18:33:21.261Z"
   },
   {
    "duration": 21,
    "start_time": "2022-07-01T18:33:21.287Z"
   },
   {
    "duration": 35,
    "start_time": "2022-07-01T18:33:21.310Z"
   },
   {
    "duration": 23,
    "start_time": "2022-07-01T18:33:21.347Z"
   },
   {
    "duration": 29,
    "start_time": "2022-07-01T18:33:21.372Z"
   },
   {
    "duration": 56,
    "start_time": "2022-07-01T18:33:21.402Z"
   },
   {
    "duration": 682,
    "start_time": "2022-07-01T18:33:21.461Z"
   },
   {
    "duration": 111,
    "start_time": "2022-07-01T18:33:22.145Z"
   },
   {
    "duration": 23,
    "start_time": "2022-07-01T18:33:22.257Z"
   },
   {
    "duration": 107,
    "start_time": "2022-07-01T18:33:22.281Z"
   },
   {
    "duration": 48,
    "start_time": "2022-07-01T18:33:22.389Z"
   },
   {
    "duration": 145,
    "start_time": "2022-07-01T18:33:22.439Z"
   },
   {
    "duration": 50,
    "start_time": "2022-07-01T18:33:22.586Z"
   },
   {
    "duration": 615,
    "start_time": "2022-07-01T18:33:22.639Z"
   },
   {
    "duration": 298,
    "start_time": "2022-07-01T18:33:23.256Z"
   },
   {
    "duration": 227,
    "start_time": "2022-07-01T18:33:23.556Z"
   },
   {
    "duration": 65,
    "start_time": "2022-07-01T18:33:23.784Z"
   },
   {
    "duration": 0,
    "start_time": "2022-07-01T18:33:23.851Z"
   },
   {
    "duration": 0,
    "start_time": "2022-07-01T18:33:23.909Z"
   },
   {
    "duration": 0,
    "start_time": "2022-07-01T18:33:23.910Z"
   },
   {
    "duration": 0,
    "start_time": "2022-07-01T18:33:23.911Z"
   },
   {
    "duration": 0,
    "start_time": "2022-07-01T18:33:23.913Z"
   },
   {
    "duration": 0,
    "start_time": "2022-07-01T18:33:23.914Z"
   },
   {
    "duration": 0,
    "start_time": "2022-07-01T18:33:23.916Z"
   },
   {
    "duration": 0,
    "start_time": "2022-07-01T18:33:23.917Z"
   },
   {
    "duration": 0,
    "start_time": "2022-07-01T18:33:23.918Z"
   },
   {
    "duration": 0,
    "start_time": "2022-07-01T18:33:23.919Z"
   },
   {
    "duration": 1203,
    "start_time": "2022-07-01T18:33:59.691Z"
   },
   {
    "duration": 887,
    "start_time": "2022-07-01T18:34:00.896Z"
   },
   {
    "duration": 296,
    "start_time": "2022-07-01T18:34:01.785Z"
   },
   {
    "duration": 26,
    "start_time": "2022-07-01T18:34:02.083Z"
   },
   {
    "duration": 36,
    "start_time": "2022-07-01T18:34:02.111Z"
   },
   {
    "duration": 35,
    "start_time": "2022-07-01T18:34:02.149Z"
   },
   {
    "duration": 31,
    "start_time": "2022-07-01T18:34:02.185Z"
   },
   {
    "duration": 29,
    "start_time": "2022-07-01T18:34:02.218Z"
   },
   {
    "duration": 31,
    "start_time": "2022-07-01T18:34:02.248Z"
   },
   {
    "duration": 658,
    "start_time": "2022-07-01T18:34:02.282Z"
   },
   {
    "duration": 115,
    "start_time": "2022-07-01T18:34:02.941Z"
   },
   {
    "duration": 22,
    "start_time": "2022-07-01T18:34:03.058Z"
   },
   {
    "duration": 108,
    "start_time": "2022-07-01T18:34:03.082Z"
   },
   {
    "duration": 49,
    "start_time": "2022-07-01T18:34:03.192Z"
   },
   {
    "duration": 144,
    "start_time": "2022-07-01T18:34:03.243Z"
   },
   {
    "duration": 40,
    "start_time": "2022-07-01T18:34:03.388Z"
   },
   {
    "duration": 632,
    "start_time": "2022-07-01T18:34:03.430Z"
   },
   {
    "duration": 312,
    "start_time": "2022-07-01T18:34:04.064Z"
   },
   {
    "duration": 210,
    "start_time": "2022-07-01T18:34:04.377Z"
   },
   {
    "duration": 437,
    "start_time": "2022-07-01T18:34:04.589Z"
   },
   {
    "duration": 45592,
    "start_time": "2022-07-01T18:34:05.028Z"
   },
   {
    "duration": 1200,
    "start_time": "2022-07-01T18:35:02.530Z"
   },
   {
    "duration": 828,
    "start_time": "2022-07-01T18:35:03.732Z"
   },
   {
    "duration": 295,
    "start_time": "2022-07-01T18:35:04.562Z"
   },
   {
    "duration": 45,
    "start_time": "2022-07-01T18:35:04.860Z"
   },
   {
    "duration": 47,
    "start_time": "2022-07-01T18:35:04.907Z"
   },
   {
    "duration": 26,
    "start_time": "2022-07-01T18:35:04.957Z"
   },
   {
    "duration": 44,
    "start_time": "2022-07-01T18:35:04.984Z"
   },
   {
    "duration": 43,
    "start_time": "2022-07-01T18:35:05.030Z"
   },
   {
    "duration": 53,
    "start_time": "2022-07-01T18:35:05.075Z"
   },
   {
    "duration": 682,
    "start_time": "2022-07-01T18:35:05.132Z"
   },
   {
    "duration": 140,
    "start_time": "2022-07-01T18:35:05.816Z"
   },
   {
    "duration": 24,
    "start_time": "2022-07-01T18:35:05.958Z"
   },
   {
    "duration": 121,
    "start_time": "2022-07-01T18:35:05.984Z"
   },
   {
    "duration": 57,
    "start_time": "2022-07-01T18:35:06.107Z"
   },
   {
    "duration": 148,
    "start_time": "2022-07-01T18:35:06.166Z"
   },
   {
    "duration": 48,
    "start_time": "2022-07-01T18:35:06.316Z"
   },
   {
    "duration": 763,
    "start_time": "2022-07-01T18:35:06.366Z"
   },
   {
    "duration": 365,
    "start_time": "2022-07-01T18:35:07.131Z"
   },
   {
    "duration": 241,
    "start_time": "2022-07-01T18:35:07.498Z"
   },
   {
    "duration": 451,
    "start_time": "2022-07-01T18:35:07.741Z"
   },
   {
    "duration": 48476,
    "start_time": "2022-07-01T18:35:08.194Z"
   },
   {
    "duration": 97303,
    "start_time": "2022-07-01T18:35:56.672Z"
   },
   {
    "duration": 24952,
    "start_time": "2022-07-01T18:37:33.977Z"
   },
   {
    "duration": 52506,
    "start_time": "2022-07-01T18:37:58.930Z"
   },
   {
    "duration": 91,
    "start_time": "2022-07-01T18:38:51.438Z"
   },
   {
    "duration": 0,
    "start_time": "2022-07-01T18:38:51.531Z"
   },
   {
    "duration": 0,
    "start_time": "2022-07-01T18:38:51.533Z"
   },
   {
    "duration": 0,
    "start_time": "2022-07-01T18:38:51.535Z"
   },
   {
    "duration": 0,
    "start_time": "2022-07-01T18:38:51.536Z"
   },
   {
    "duration": 0,
    "start_time": "2022-07-01T18:38:51.537Z"
   },
   {
    "duration": 1203,
    "start_time": "2022-07-01T18:39:44.101Z"
   },
   {
    "duration": 808,
    "start_time": "2022-07-01T18:39:45.306Z"
   },
   {
    "duration": 281,
    "start_time": "2022-07-01T18:39:46.116Z"
   },
   {
    "duration": 40,
    "start_time": "2022-07-01T18:39:46.398Z"
   },
   {
    "duration": 20,
    "start_time": "2022-07-01T18:39:46.440Z"
   },
   {
    "duration": 26,
    "start_time": "2022-07-01T18:39:46.462Z"
   },
   {
    "duration": 26,
    "start_time": "2022-07-01T18:39:46.489Z"
   },
   {
    "duration": 36,
    "start_time": "2022-07-01T18:39:46.526Z"
   },
   {
    "duration": 29,
    "start_time": "2022-07-01T18:39:46.564Z"
   },
   {
    "duration": 664,
    "start_time": "2022-07-01T18:39:46.594Z"
   },
   {
    "duration": 115,
    "start_time": "2022-07-01T18:39:47.260Z"
   },
   {
    "duration": 23,
    "start_time": "2022-07-01T18:39:47.377Z"
   },
   {
    "duration": 108,
    "start_time": "2022-07-01T18:39:47.402Z"
   },
   {
    "duration": 46,
    "start_time": "2022-07-01T18:39:47.513Z"
   },
   {
    "duration": 142,
    "start_time": "2022-07-01T18:39:47.560Z"
   },
   {
    "duration": 46,
    "start_time": "2022-07-01T18:39:47.703Z"
   },
   {
    "duration": 626,
    "start_time": "2022-07-01T18:39:47.751Z"
   },
   {
    "duration": 295,
    "start_time": "2022-07-01T18:39:48.378Z"
   },
   {
    "duration": 217,
    "start_time": "2022-07-01T18:39:48.674Z"
   },
   {
    "duration": 422,
    "start_time": "2022-07-01T18:39:48.892Z"
   },
   {
    "duration": 48884,
    "start_time": "2022-07-01T18:39:49.316Z"
   },
   {
    "duration": 102757,
    "start_time": "2022-07-01T18:40:38.202Z"
   },
   {
    "duration": 55592,
    "start_time": "2022-07-01T18:42:20.960Z"
   },
   {
    "duration": 110707,
    "start_time": "2022-07-01T18:43:16.627Z"
   },
   {
    "duration": 47,
    "start_time": "2022-07-01T18:45:07.338Z"
   },
   {
    "duration": 0,
    "start_time": "2022-07-01T18:45:07.387Z"
   },
   {
    "duration": 0,
    "start_time": "2022-07-01T18:45:07.388Z"
   },
   {
    "duration": 0,
    "start_time": "2022-07-01T18:45:07.389Z"
   },
   {
    "duration": 0,
    "start_time": "2022-07-01T18:45:07.391Z"
   },
   {
    "duration": 0,
    "start_time": "2022-07-01T18:45:07.392Z"
   },
   {
    "duration": 221,
    "start_time": "2022-07-01T18:46:11.954Z"
   },
   {
    "duration": 64,
    "start_time": "2022-07-01T18:46:39.000Z"
   },
   {
    "duration": 2975,
    "start_time": "2022-07-01T18:46:50.508Z"
   },
   {
    "duration": 54,
    "start_time": "2022-07-01T18:47:42.246Z"
   },
   {
    "duration": 60,
    "start_time": "2022-07-01T18:48:11.663Z"
   },
   {
    "duration": 575,
    "start_time": "2022-07-01T18:50:07.546Z"
   },
   {
    "duration": 550,
    "start_time": "2022-07-01T18:50:30.815Z"
   },
   {
    "duration": 518,
    "start_time": "2022-07-01T18:51:25.745Z"
   },
   {
    "duration": 1717,
    "start_time": "2022-07-01T19:02:22.619Z"
   },
   {
    "duration": 1430,
    "start_time": "2022-07-01T19:03:09.535Z"
   },
   {
    "duration": 2349,
    "start_time": "2022-07-01T19:04:20.142Z"
   },
   {
    "duration": 14171,
    "start_time": "2022-07-01T19:05:28.917Z"
   },
   {
    "duration": 18967,
    "start_time": "2022-07-01T19:08:53.589Z"
   },
   {
    "duration": 14891,
    "start_time": "2022-07-01T19:10:29.209Z"
   },
   {
    "duration": 461,
    "start_time": "2022-07-01T19:11:07.007Z"
   },
   {
    "duration": 404,
    "start_time": "2022-07-01T19:11:24.570Z"
   },
   {
    "duration": 448,
    "start_time": "2022-07-01T19:11:53.379Z"
   },
   {
    "duration": 105,
    "start_time": "2022-07-01T19:16:10.821Z"
   },
   {
    "duration": 112,
    "start_time": "2022-07-01T19:22:06.756Z"
   },
   {
    "duration": 61,
    "start_time": "2022-07-01T19:22:50.482Z"
   },
   {
    "duration": 67,
    "start_time": "2022-07-01T19:23:34.240Z"
   },
   {
    "duration": 60,
    "start_time": "2022-07-01T19:24:19.850Z"
   },
   {
    "duration": 366,
    "start_time": "2022-07-01T19:24:37.025Z"
   },
   {
    "duration": 234,
    "start_time": "2022-07-01T19:25:07.435Z"
   },
   {
    "duration": 84,
    "start_time": "2022-07-01T19:25:42.659Z"
   },
   {
    "duration": 313,
    "start_time": "2022-07-01T19:29:26.696Z"
   },
   {
    "duration": 348,
    "start_time": "2022-07-01T19:31:14.176Z"
   },
   {
    "duration": 365,
    "start_time": "2022-07-01T19:32:18.485Z"
   },
   {
    "duration": 1560,
    "start_time": "2022-07-01T19:45:31.526Z"
   },
   {
    "duration": 967,
    "start_time": "2022-07-01T19:45:33.088Z"
   },
   {
    "duration": 298,
    "start_time": "2022-07-01T19:45:34.057Z"
   },
   {
    "duration": 25,
    "start_time": "2022-07-01T19:45:34.358Z"
   },
   {
    "duration": 19,
    "start_time": "2022-07-01T19:45:34.385Z"
   },
   {
    "duration": 46,
    "start_time": "2022-07-01T19:45:34.406Z"
   },
   {
    "duration": 20,
    "start_time": "2022-07-01T19:45:34.453Z"
   },
   {
    "duration": 25,
    "start_time": "2022-07-01T19:45:34.475Z"
   },
   {
    "duration": 49,
    "start_time": "2022-07-01T19:45:34.501Z"
   },
   {
    "duration": 717,
    "start_time": "2022-07-01T19:45:34.553Z"
   },
   {
    "duration": 124,
    "start_time": "2022-07-01T19:45:35.271Z"
   },
   {
    "duration": 35,
    "start_time": "2022-07-01T19:45:35.397Z"
   },
   {
    "duration": 99,
    "start_time": "2022-07-01T19:45:35.433Z"
   },
   {
    "duration": 44,
    "start_time": "2022-07-01T19:45:35.533Z"
   },
   {
    "duration": 159,
    "start_time": "2022-07-01T19:45:35.579Z"
   },
   {
    "duration": 41,
    "start_time": "2022-07-01T19:45:35.745Z"
   },
   {
    "duration": 673,
    "start_time": "2022-07-01T19:45:35.788Z"
   },
   {
    "duration": 332,
    "start_time": "2022-07-01T19:45:36.462Z"
   },
   {
    "duration": 224,
    "start_time": "2022-07-01T19:45:36.796Z"
   },
   {
    "duration": 464,
    "start_time": "2022-07-01T19:45:37.022Z"
   },
   {
    "duration": 186,
    "start_time": "2022-07-01T19:45:37.487Z"
   },
   {
    "duration": 8,
    "start_time": "2022-07-01T19:45:37.675Z"
   },
   {
    "duration": 0,
    "start_time": "2022-07-01T19:45:37.685Z"
   },
   {
    "duration": 0,
    "start_time": "2022-07-01T19:45:37.686Z"
   },
   {
    "duration": 0,
    "start_time": "2022-07-01T19:45:37.688Z"
   },
   {
    "duration": 0,
    "start_time": "2022-07-01T19:45:37.689Z"
   },
   {
    "duration": 0,
    "start_time": "2022-07-01T19:45:37.690Z"
   },
   {
    "duration": 0,
    "start_time": "2022-07-01T19:45:37.691Z"
   },
   {
    "duration": 0,
    "start_time": "2022-07-01T19:45:37.693Z"
   },
   {
    "duration": 0,
    "start_time": "2022-07-01T19:45:37.694Z"
   },
   {
    "duration": 0,
    "start_time": "2022-07-01T19:45:37.695Z"
   },
   {
    "duration": 1238,
    "start_time": "2022-07-01T19:46:17.274Z"
   },
   {
    "duration": 860,
    "start_time": "2022-07-01T19:46:18.514Z"
   },
   {
    "duration": 324,
    "start_time": "2022-07-01T19:46:19.376Z"
   },
   {
    "duration": 43,
    "start_time": "2022-07-01T19:46:19.703Z"
   },
   {
    "duration": 29,
    "start_time": "2022-07-01T19:46:19.748Z"
   },
   {
    "duration": 35,
    "start_time": "2022-07-01T19:46:19.778Z"
   },
   {
    "duration": 39,
    "start_time": "2022-07-01T19:46:19.814Z"
   },
   {
    "duration": 25,
    "start_time": "2022-07-01T19:46:19.854Z"
   },
   {
    "duration": 50,
    "start_time": "2022-07-01T19:46:19.881Z"
   },
   {
    "duration": 724,
    "start_time": "2022-07-01T19:46:19.934Z"
   },
   {
    "duration": 136,
    "start_time": "2022-07-01T19:46:20.662Z"
   },
   {
    "duration": 40,
    "start_time": "2022-07-01T19:46:20.800Z"
   },
   {
    "duration": 102,
    "start_time": "2022-07-01T19:46:20.842Z"
   },
   {
    "duration": 43,
    "start_time": "2022-07-01T19:46:20.946Z"
   },
   {
    "duration": 166,
    "start_time": "2022-07-01T19:46:20.992Z"
   },
   {
    "duration": 31,
    "start_time": "2022-07-01T19:46:21.159Z"
   },
   {
    "duration": 771,
    "start_time": "2022-07-01T19:46:21.192Z"
   },
   {
    "duration": 338,
    "start_time": "2022-07-01T19:46:21.965Z"
   },
   {
    "duration": 234,
    "start_time": "2022-07-01T19:46:22.305Z"
   },
   {
    "duration": 454,
    "start_time": "2022-07-01T19:46:22.542Z"
   },
   {
    "duration": 587081,
    "start_time": "2022-07-01T19:46:22.998Z"
   },
   {
    "duration": 4,
    "start_time": "2022-07-01T19:56:10.081Z"
   },
   {
    "duration": 19,
    "start_time": "2022-07-01T19:56:10.086Z"
   },
   {
    "duration": 40947,
    "start_time": "2022-07-01T19:56:10.106Z"
   },
   {
    "duration": 52173,
    "start_time": "2022-07-01T19:56:51.054Z"
   },
   {
    "duration": 289,
    "start_time": "2022-07-01T19:57:43.229Z"
   },
   {
    "duration": 9,
    "start_time": "2022-07-01T19:57:43.520Z"
   },
   {
    "duration": 0,
    "start_time": "2022-07-01T19:57:43.531Z"
   },
   {
    "duration": 0,
    "start_time": "2022-07-01T19:57:43.533Z"
   },
   {
    "duration": 0,
    "start_time": "2022-07-01T19:57:43.534Z"
   },
   {
    "duration": 0,
    "start_time": "2022-07-01T19:57:43.536Z"
   },
   {
    "duration": 8,
    "start_time": "2022-07-01T19:59:09.285Z"
   },
   {
    "duration": 119,
    "start_time": "2022-07-01T20:03:09.501Z"
   },
   {
    "duration": 484,
    "start_time": "2022-07-01T20:16:30.216Z"
   },
   {
    "duration": 1712,
    "start_time": "2022-07-01T20:17:15.785Z"
   },
   {
    "duration": 481,
    "start_time": "2022-07-01T20:17:50.036Z"
   },
   {
    "duration": 28194,
    "start_time": "2022-07-01T20:18:25.943Z"
   },
   {
    "duration": 28579,
    "start_time": "2022-07-01T20:20:15.259Z"
   },
   {
    "duration": 33,
    "start_time": "2022-07-01T20:30:21.689Z"
   },
   {
    "duration": 16830,
    "start_time": "2022-07-01T20:30:55.107Z"
   },
   {
    "duration": 1268,
    "start_time": "2022-07-01T20:31:22.486Z"
   },
   {
    "duration": 825,
    "start_time": "2022-07-01T20:31:23.755Z"
   },
   {
    "duration": 286,
    "start_time": "2022-07-01T20:31:24.581Z"
   },
   {
    "duration": 27,
    "start_time": "2022-07-01T20:31:24.869Z"
   },
   {
    "duration": 31,
    "start_time": "2022-07-01T20:31:24.897Z"
   },
   {
    "duration": 19,
    "start_time": "2022-07-01T20:31:24.930Z"
   },
   {
    "duration": 27,
    "start_time": "2022-07-01T20:31:24.950Z"
   },
   {
    "duration": 26,
    "start_time": "2022-07-01T20:31:24.978Z"
   },
   {
    "duration": 27,
    "start_time": "2022-07-01T20:31:25.027Z"
   },
   {
    "duration": 648,
    "start_time": "2022-07-01T20:31:25.057Z"
   },
   {
    "duration": 125,
    "start_time": "2022-07-01T20:31:25.707Z"
   },
   {
    "duration": 21,
    "start_time": "2022-07-01T20:31:25.834Z"
   },
   {
    "duration": 99,
    "start_time": "2022-07-01T20:31:25.856Z"
   },
   {
    "duration": 40,
    "start_time": "2022-07-01T20:31:25.957Z"
   },
   {
    "duration": 151,
    "start_time": "2022-07-01T20:31:25.999Z"
   },
   {
    "duration": 38,
    "start_time": "2022-07-01T20:31:26.152Z"
   },
   {
    "duration": 634,
    "start_time": "2022-07-01T20:31:26.191Z"
   },
   {
    "duration": 293,
    "start_time": "2022-07-01T20:31:26.827Z"
   },
   {
    "duration": 219,
    "start_time": "2022-07-01T20:31:27.121Z"
   },
   {
    "duration": 540,
    "start_time": "2022-07-01T20:31:27.342Z"
   },
   {
    "duration": 1155,
    "start_time": "2022-07-01T20:38:12.776Z"
   },
   {
    "duration": 820,
    "start_time": "2022-07-01T20:38:13.933Z"
   },
   {
    "duration": 282,
    "start_time": "2022-07-01T20:38:14.754Z"
   },
   {
    "duration": 26,
    "start_time": "2022-07-01T20:38:15.037Z"
   },
   {
    "duration": 20,
    "start_time": "2022-07-01T20:38:15.065Z"
   },
   {
    "duration": 42,
    "start_time": "2022-07-01T20:38:15.086Z"
   },
   {
    "duration": 22,
    "start_time": "2022-07-01T20:38:15.130Z"
   },
   {
    "duration": 25,
    "start_time": "2022-07-01T20:38:15.153Z"
   },
   {
    "duration": 27,
    "start_time": "2022-07-01T20:38:15.179Z"
   },
   {
    "duration": 656,
    "start_time": "2022-07-01T20:38:15.208Z"
   },
   {
    "duration": 112,
    "start_time": "2022-07-01T20:38:15.865Z"
   },
   {
    "duration": 21,
    "start_time": "2022-07-01T20:38:15.979Z"
   },
   {
    "duration": 107,
    "start_time": "2022-07-01T20:38:16.001Z"
   },
   {
    "duration": 51,
    "start_time": "2022-07-01T20:38:16.111Z"
   },
   {
    "duration": 141,
    "start_time": "2022-07-01T20:38:16.164Z"
   },
   {
    "duration": 47,
    "start_time": "2022-07-01T20:38:16.307Z"
   },
   {
    "duration": 651,
    "start_time": "2022-07-01T20:38:16.356Z"
   },
   {
    "duration": 298,
    "start_time": "2022-07-01T20:38:17.008Z"
   },
   {
    "duration": 218,
    "start_time": "2022-07-01T20:38:17.308Z"
   },
   {
    "duration": 548,
    "start_time": "2022-07-01T20:38:17.528Z"
   },
   {
    "duration": 516005,
    "start_time": "2022-07-01T20:38:18.077Z"
   },
   {
    "duration": 3,
    "start_time": "2022-07-01T20:46:54.084Z"
   },
   {
    "duration": 7,
    "start_time": "2022-07-01T20:46:54.089Z"
   },
   {
    "duration": 19931,
    "start_time": "2022-07-01T20:46:54.098Z"
   },
   {
    "duration": 40797,
    "start_time": "2022-07-01T20:47:14.030Z"
   },
   {
    "duration": 15304,
    "start_time": "2022-07-01T20:47:54.829Z"
   },
   {
    "duration": 131,
    "start_time": "2022-07-01T20:48:10.134Z"
   },
   {
    "duration": 0,
    "start_time": "2022-07-01T20:48:10.267Z"
   },
   {
    "duration": 0,
    "start_time": "2022-07-01T20:48:10.268Z"
   },
   {
    "duration": 0,
    "start_time": "2022-07-01T20:48:10.269Z"
   },
   {
    "duration": 0,
    "start_time": "2022-07-01T20:48:10.270Z"
   },
   {
    "duration": 96,
    "start_time": "2022-07-01T20:48:40.935Z"
   },
   {
    "duration": 75,
    "start_time": "2022-07-01T20:48:49.652Z"
   },
   {
    "duration": 2210,
    "start_time": "2022-07-01T20:49:02.405Z"
   },
   {
    "duration": 2256,
    "start_time": "2022-07-01T20:49:10.423Z"
   },
   {
    "duration": 576,
    "start_time": "2022-07-01T20:49:25.590Z"
   },
   {
    "duration": 137,
    "start_time": "2022-07-01T20:49:32.292Z"
   },
   {
    "duration": 22,
    "start_time": "2022-07-01T20:49:37.518Z"
   },
   {
    "duration": 7,
    "start_time": "2022-07-01T20:49:43.350Z"
   },
   {
    "duration": 14974,
    "start_time": "2022-07-01T20:51:06.165Z"
   },
   {
    "duration": 33,
    "start_time": "2022-07-01T20:51:27.318Z"
   },
   {
    "duration": 52124,
    "start_time": "2022-07-01T20:51:54.020Z"
   },
   {
    "duration": 2127,
    "start_time": "2022-07-01T20:52:51.008Z"
   },
   {
    "duration": 4,
    "start_time": "2022-07-01T20:53:28.309Z"
   },
   {
    "duration": 604,
    "start_time": "2022-07-01T20:53:49.553Z"
   },
   {
    "duration": 122,
    "start_time": "2022-07-01T20:53:52.210Z"
   },
   {
    "duration": 585,
    "start_time": "2022-07-01T20:53:55.450Z"
   },
   {
    "duration": 7,
    "start_time": "2022-07-01T20:53:58.336Z"
   },
   {
    "duration": 1148,
    "start_time": "2022-07-03T05:11:51.289Z"
   },
   {
    "duration": 1138,
    "start_time": "2022-07-03T05:11:52.438Z"
   },
   {
    "duration": 266,
    "start_time": "2022-07-03T05:11:53.577Z"
   },
   {
    "duration": 38,
    "start_time": "2022-07-03T05:11:53.844Z"
   },
   {
    "duration": 19,
    "start_time": "2022-07-03T05:11:53.885Z"
   },
   {
    "duration": 19,
    "start_time": "2022-07-03T05:11:53.906Z"
   },
   {
    "duration": 43,
    "start_time": "2022-07-03T05:11:53.928Z"
   },
   {
    "duration": 24,
    "start_time": "2022-07-03T05:11:53.972Z"
   },
   {
    "duration": 28,
    "start_time": "2022-07-03T05:11:53.997Z"
   },
   {
    "duration": 638,
    "start_time": "2022-07-03T05:11:54.026Z"
   },
   {
    "duration": 98,
    "start_time": "2022-07-03T05:11:54.666Z"
   },
   {
    "duration": 25,
    "start_time": "2022-07-03T05:11:54.767Z"
   },
   {
    "duration": 98,
    "start_time": "2022-07-03T05:11:54.794Z"
   },
   {
    "duration": 40,
    "start_time": "2022-07-03T05:11:54.895Z"
   },
   {
    "duration": 150,
    "start_time": "2022-07-03T05:11:54.937Z"
   },
   {
    "duration": 39,
    "start_time": "2022-07-03T05:11:55.088Z"
   },
   {
    "duration": 904,
    "start_time": "2022-07-03T05:11:55.130Z"
   },
   {
    "duration": 324,
    "start_time": "2022-07-03T05:11:56.036Z"
   },
   {
    "duration": 212,
    "start_time": "2022-07-03T05:11:56.362Z"
   },
   {
    "duration": 588,
    "start_time": "2022-07-03T05:11:56.576Z"
   },
   {
    "duration": 516529,
    "start_time": "2022-07-03T05:11:57.166Z"
   },
   {
    "duration": 2298,
    "start_time": "2022-07-03T05:20:33.697Z"
   },
   {
    "duration": 3,
    "start_time": "2022-07-03T05:20:35.996Z"
   },
   {
    "duration": 41771,
    "start_time": "2022-07-03T05:20:36.002Z"
   },
   {
    "duration": 77885,
    "start_time": "2022-07-03T05:21:17.776Z"
   },
   {
    "duration": 1178,
    "start_time": "2022-07-03T05:35:20.717Z"
   },
   {
    "duration": 850,
    "start_time": "2022-07-03T05:35:21.897Z"
   },
   {
    "duration": 277,
    "start_time": "2022-07-03T05:35:22.749Z"
   },
   {
    "duration": 44,
    "start_time": "2022-07-03T05:35:23.028Z"
   },
   {
    "duration": 36,
    "start_time": "2022-07-03T05:35:23.075Z"
   },
   {
    "duration": 53,
    "start_time": "2022-07-03T05:35:23.112Z"
   },
   {
    "duration": 39,
    "start_time": "2022-07-03T05:35:23.167Z"
   },
   {
    "duration": 36,
    "start_time": "2022-07-03T05:35:23.208Z"
   },
   {
    "duration": 44,
    "start_time": "2022-07-03T05:35:23.246Z"
   },
   {
    "duration": 669,
    "start_time": "2022-07-03T05:35:23.292Z"
   },
   {
    "duration": 124,
    "start_time": "2022-07-03T05:35:23.970Z"
   },
   {
    "duration": 33,
    "start_time": "2022-07-03T05:35:24.096Z"
   },
   {
    "duration": 143,
    "start_time": "2022-07-03T05:35:24.131Z"
   },
   {
    "duration": 44,
    "start_time": "2022-07-03T05:35:24.278Z"
   },
   {
    "duration": 158,
    "start_time": "2022-07-03T05:35:24.324Z"
   },
   {
    "duration": 39,
    "start_time": "2022-07-03T05:35:24.484Z"
   },
   {
    "duration": 720,
    "start_time": "2022-07-03T05:35:24.524Z"
   },
   {
    "duration": 368,
    "start_time": "2022-07-03T05:35:25.247Z"
   },
   {
    "duration": 217,
    "start_time": "2022-07-03T05:35:25.616Z"
   },
   {
    "duration": 596,
    "start_time": "2022-07-03T05:35:25.835Z"
   },
   {
    "duration": 564475,
    "start_time": "2022-07-03T05:35:26.433Z"
   },
   {
    "duration": 2335,
    "start_time": "2022-07-03T05:44:50.910Z"
   },
   {
    "duration": 8,
    "start_time": "2022-07-03T05:44:53.247Z"
   },
   {
    "duration": 66095,
    "start_time": "2022-07-03T05:44:53.262Z"
   },
   {
    "duration": 132095,
    "start_time": "2022-07-03T05:45:59.359Z"
   },
   {
    "duration": 5,
    "start_time": "2022-07-03T05:48:11.456Z"
   },
   {
    "duration": 1247,
    "start_time": "2022-07-03T06:34:50.581Z"
   },
   {
    "duration": 853,
    "start_time": "2022-07-03T06:34:51.829Z"
   },
   {
    "duration": 302,
    "start_time": "2022-07-03T06:34:52.684Z"
   },
   {
    "duration": 26,
    "start_time": "2022-07-03T06:34:52.988Z"
   },
   {
    "duration": 20,
    "start_time": "2022-07-03T06:34:53.016Z"
   },
   {
    "duration": 69,
    "start_time": "2022-07-03T06:34:53.038Z"
   },
   {
    "duration": 29,
    "start_time": "2022-07-03T06:34:53.109Z"
   },
   {
    "duration": 41,
    "start_time": "2022-07-03T06:34:53.140Z"
   },
   {
    "duration": 27,
    "start_time": "2022-07-03T06:34:53.183Z"
   },
   {
    "duration": 638,
    "start_time": "2022-07-03T06:34:53.212Z"
   },
   {
    "duration": 113,
    "start_time": "2022-07-03T06:34:53.873Z"
   },
   {
    "duration": 21,
    "start_time": "2022-07-03T06:34:53.988Z"
   },
   {
    "duration": 110,
    "start_time": "2022-07-03T06:34:54.011Z"
   },
   {
    "duration": 68,
    "start_time": "2022-07-03T06:34:54.124Z"
   },
   {
    "duration": 139,
    "start_time": "2022-07-03T06:34:54.194Z"
   },
   {
    "duration": 57,
    "start_time": "2022-07-03T06:34:54.335Z"
   },
   {
    "duration": 657,
    "start_time": "2022-07-03T06:34:54.393Z"
   },
   {
    "duration": 350,
    "start_time": "2022-07-03T06:34:55.061Z"
   },
   {
    "duration": 223,
    "start_time": "2022-07-03T06:34:55.414Z"
   },
   {
    "duration": 602,
    "start_time": "2022-07-03T06:34:55.639Z"
   },
   {
    "duration": 688568,
    "start_time": "2022-07-03T06:34:56.243Z"
   },
   {
    "duration": 4,
    "start_time": "2022-07-03T06:46:24.812Z"
   },
   {
    "duration": 2514,
    "start_time": "2022-07-03T06:46:24.818Z"
   },
   {
    "duration": 4,
    "start_time": "2022-07-03T06:46:27.333Z"
   },
   {
    "duration": 87716,
    "start_time": "2022-07-03T06:46:27.339Z"
   },
   {
    "duration": 206815,
    "start_time": "2022-07-03T06:47:55.059Z"
   },
   {
    "duration": 71,
    "start_time": "2022-07-03T06:51:21.883Z"
   },
   {
    "duration": 278,
    "start_time": "2022-07-03T06:51:21.957Z"
   },
   {
    "duration": 13,
    "start_time": "2022-07-03T06:51:22.237Z"
   },
   {
    "duration": 0,
    "start_time": "2022-07-03T06:51:22.259Z"
   },
   {
    "duration": 0,
    "start_time": "2022-07-03T06:51:22.260Z"
   },
   {
    "duration": 0,
    "start_time": "2022-07-03T06:51:22.261Z"
   },
   {
    "duration": 0,
    "start_time": "2022-07-03T06:51:22.262Z"
   },
   {
    "duration": 0,
    "start_time": "2022-07-03T06:51:22.263Z"
   },
   {
    "duration": 0,
    "start_time": "2022-07-03T06:51:22.264Z"
   },
   {
    "duration": 1416,
    "start_time": "2022-07-03T07:24:00.713Z"
   },
   {
    "duration": 939,
    "start_time": "2022-07-03T07:24:02.133Z"
   },
   {
    "duration": 308,
    "start_time": "2022-07-03T07:24:03.074Z"
   },
   {
    "duration": 31,
    "start_time": "2022-07-03T07:24:03.384Z"
   },
   {
    "duration": 57,
    "start_time": "2022-07-03T07:24:03.417Z"
   },
   {
    "duration": 26,
    "start_time": "2022-07-03T07:24:03.476Z"
   },
   {
    "duration": 33,
    "start_time": "2022-07-03T07:24:03.504Z"
   },
   {
    "duration": 43,
    "start_time": "2022-07-03T07:24:03.539Z"
   },
   {
    "duration": 51,
    "start_time": "2022-07-03T07:24:03.584Z"
   },
   {
    "duration": 676,
    "start_time": "2022-07-03T07:24:03.638Z"
   },
   {
    "duration": 112,
    "start_time": "2022-07-03T07:24:04.317Z"
   },
   {
    "duration": 42,
    "start_time": "2022-07-03T07:24:04.431Z"
   },
   {
    "duration": 112,
    "start_time": "2022-07-03T07:24:04.474Z"
   },
   {
    "duration": 57,
    "start_time": "2022-07-03T07:24:04.589Z"
   },
   {
    "duration": 164,
    "start_time": "2022-07-03T07:24:04.648Z"
   },
   {
    "duration": 55,
    "start_time": "2022-07-03T07:24:04.814Z"
   },
   {
    "duration": 807,
    "start_time": "2022-07-03T07:24:04.871Z"
   },
   {
    "duration": 401,
    "start_time": "2022-07-03T07:24:05.682Z"
   },
   {
    "duration": 239,
    "start_time": "2022-07-03T07:24:06.088Z"
   },
   {
    "duration": 610,
    "start_time": "2022-07-03T07:24:06.329Z"
   },
   {
    "duration": 434309,
    "start_time": "2022-07-03T07:24:06.941Z"
   },
   {
    "duration": 4,
    "start_time": "2022-07-03T07:31:21.252Z"
   },
   {
    "duration": 2542,
    "start_time": "2022-07-03T07:31:21.257Z"
   },
   {
    "duration": 3,
    "start_time": "2022-07-03T07:31:23.802Z"
   },
   {
    "duration": 75561,
    "start_time": "2022-07-03T07:31:23.807Z"
   },
   {
    "duration": 141410,
    "start_time": "2022-07-03T07:32:39.378Z"
   },
   {
    "duration": 55,
    "start_time": "2022-07-03T07:35:00.801Z"
   },
   {
    "duration": 1289,
    "start_time": "2022-07-03T09:50:16.758Z"
   },
   {
    "duration": 885,
    "start_time": "2022-07-03T09:50:18.050Z"
   },
   {
    "duration": 285,
    "start_time": "2022-07-03T09:50:18.937Z"
   },
   {
    "duration": 43,
    "start_time": "2022-07-03T09:50:19.224Z"
   },
   {
    "duration": 23,
    "start_time": "2022-07-03T09:50:19.275Z"
   },
   {
    "duration": 34,
    "start_time": "2022-07-03T09:50:19.300Z"
   },
   {
    "duration": 42,
    "start_time": "2022-07-03T09:50:19.336Z"
   },
   {
    "duration": 38,
    "start_time": "2022-07-03T09:50:19.381Z"
   },
   {
    "duration": 69,
    "start_time": "2022-07-03T09:50:19.422Z"
   },
   {
    "duration": 895,
    "start_time": "2022-07-03T09:50:19.495Z"
   },
   {
    "duration": 170,
    "start_time": "2022-07-03T09:50:20.392Z"
   },
   {
    "duration": 30,
    "start_time": "2022-07-03T09:50:20.564Z"
   },
   {
    "duration": 139,
    "start_time": "2022-07-03T09:50:20.596Z"
   },
   {
    "duration": 61,
    "start_time": "2022-07-03T09:50:20.738Z"
   },
   {
    "duration": 182,
    "start_time": "2022-07-03T09:50:20.801Z"
   },
   {
    "duration": 40,
    "start_time": "2022-07-03T09:50:20.987Z"
   },
   {
    "duration": 1090,
    "start_time": "2022-07-03T09:50:21.029Z"
   },
   {
    "duration": 509,
    "start_time": "2022-07-03T09:50:22.122Z"
   },
   {
    "duration": 247,
    "start_time": "2022-07-03T09:50:22.634Z"
   },
   {
    "duration": 681,
    "start_time": "2022-07-03T09:50:22.883Z"
   },
   {
    "duration": 441635,
    "start_time": "2022-07-03T09:50:23.565Z"
   },
   {
    "duration": 5,
    "start_time": "2022-07-03T09:57:45.202Z"
   },
   {
    "duration": 2403,
    "start_time": "2022-07-03T09:57:45.209Z"
   },
   {
    "duration": 3,
    "start_time": "2022-07-03T09:57:47.614Z"
   },
   {
    "duration": 47056,
    "start_time": "2022-07-03T09:57:47.621Z"
   },
   {
    "duration": 90482,
    "start_time": "2022-07-03T09:58:34.679Z"
   },
   {
    "duration": 1627,
    "start_time": "2022-07-03T10:18:37.976Z"
   },
   {
    "duration": 1,
    "start_time": "2022-07-03T10:20:01.651Z"
   },
   {
    "duration": 1535,
    "start_time": "2022-07-03T10:20:34.583Z"
   },
   {
    "duration": 1116,
    "start_time": "2022-07-03T10:20:36.123Z"
   },
   {
    "duration": 388,
    "start_time": "2022-07-03T10:20:37.241Z"
   },
   {
    "duration": 61,
    "start_time": "2022-07-03T10:20:37.642Z"
   },
   {
    "duration": 86,
    "start_time": "2022-07-03T10:20:37.708Z"
   },
   {
    "duration": 111,
    "start_time": "2022-07-03T10:20:37.802Z"
   },
   {
    "duration": 61,
    "start_time": "2022-07-03T10:20:37.919Z"
   },
   {
    "duration": 63,
    "start_time": "2022-07-03T10:20:37.986Z"
   },
   {
    "duration": 41,
    "start_time": "2022-07-03T10:20:38.051Z"
   },
   {
    "duration": 963,
    "start_time": "2022-07-03T10:20:38.099Z"
   },
   {
    "duration": 201,
    "start_time": "2022-07-03T10:20:39.069Z"
   },
   {
    "duration": 61,
    "start_time": "2022-07-03T10:20:39.277Z"
   },
   {
    "duration": 230,
    "start_time": "2022-07-03T10:20:39.340Z"
   },
   {
    "duration": 67,
    "start_time": "2022-07-03T10:20:39.577Z"
   },
   {
    "duration": 255,
    "start_time": "2022-07-03T10:20:39.647Z"
   },
   {
    "duration": 54,
    "start_time": "2022-07-03T10:20:39.904Z"
   },
   {
    "duration": 838,
    "start_time": "2022-07-03T10:20:39.960Z"
   },
   {
    "duration": 493,
    "start_time": "2022-07-03T10:20:40.801Z"
   },
   {
    "duration": 238,
    "start_time": "2022-07-03T10:20:41.300Z"
   },
   {
    "duration": 774,
    "start_time": "2022-07-03T10:20:41.541Z"
   },
   {
    "duration": 592810,
    "start_time": "2022-07-03T10:20:42.317Z"
   },
   {
    "duration": 7,
    "start_time": "2022-07-03T10:30:35.129Z"
   },
   {
    "duration": 2808,
    "start_time": "2022-07-03T10:30:35.138Z"
   },
   {
    "duration": 8,
    "start_time": "2022-07-03T10:30:37.948Z"
   },
   {
    "duration": 74504,
    "start_time": "2022-07-03T10:30:37.963Z"
   },
   {
    "duration": 162618,
    "start_time": "2022-07-03T10:31:52.469Z"
   },
   {
    "duration": 1252,
    "start_time": "2022-07-03T15:12:24.740Z"
   },
   {
    "duration": 3317,
    "start_time": "2022-07-03T15:12:25.994Z"
   },
   {
    "duration": 283,
    "start_time": "2022-07-03T15:12:29.312Z"
   },
   {
    "duration": 40,
    "start_time": "2022-07-03T15:12:29.597Z"
   },
   {
    "duration": 21,
    "start_time": "2022-07-03T15:12:29.642Z"
   },
   {
    "duration": 20,
    "start_time": "2022-07-03T15:12:29.664Z"
   },
   {
    "duration": 23,
    "start_time": "2022-07-03T15:12:29.686Z"
   },
   {
    "duration": 28,
    "start_time": "2022-07-03T15:12:29.725Z"
   },
   {
    "duration": 27,
    "start_time": "2022-07-03T15:12:29.755Z"
   },
   {
    "duration": 681,
    "start_time": "2022-07-03T15:12:29.785Z"
   },
   {
    "duration": 108,
    "start_time": "2022-07-03T15:12:30.468Z"
   },
   {
    "duration": 24,
    "start_time": "2022-07-03T15:12:30.577Z"
   },
   {
    "duration": 110,
    "start_time": "2022-07-03T15:12:30.603Z"
   },
   {
    "duration": 53,
    "start_time": "2022-07-03T15:12:30.715Z"
   },
   {
    "duration": 172,
    "start_time": "2022-07-03T15:12:30.770Z"
   },
   {
    "duration": 44,
    "start_time": "2022-07-03T15:12:30.945Z"
   },
   {
    "duration": 857,
    "start_time": "2022-07-03T15:12:30.991Z"
   },
   {
    "duration": 313,
    "start_time": "2022-07-03T15:12:31.851Z"
   },
   {
    "duration": 220,
    "start_time": "2022-07-03T15:12:32.166Z"
   },
   {
    "duration": 614,
    "start_time": "2022-07-03T15:12:32.388Z"
   },
   {
    "duration": 419661,
    "start_time": "2022-07-03T15:12:33.004Z"
   },
   {
    "duration": 4,
    "start_time": "2022-07-03T15:19:32.667Z"
   },
   {
    "duration": 2424,
    "start_time": "2022-07-03T15:19:32.672Z"
   },
   {
    "duration": 2,
    "start_time": "2022-07-03T15:19:35.098Z"
   },
   {
    "duration": 39126,
    "start_time": "2022-07-03T15:19:35.102Z"
   },
   {
    "duration": 85811,
    "start_time": "2022-07-03T15:20:14.230Z"
   },
   {
    "duration": 695691,
    "start_time": "2022-07-03T15:21:40.044Z"
   },
   {
    "duration": 2589,
    "start_time": "2022-07-03T15:33:15.738Z"
   },
   {
    "duration": 3,
    "start_time": "2022-07-03T15:33:18.329Z"
   },
   {
    "duration": 126,
    "start_time": "2022-07-03T15:33:18.334Z"
   },
   {
    "duration": 0,
    "start_time": "2022-07-03T15:33:18.462Z"
   },
   {
    "duration": 0,
    "start_time": "2022-07-03T15:33:18.463Z"
   },
   {
    "duration": 0,
    "start_time": "2022-07-03T15:33:18.464Z"
   },
   {
    "duration": 0,
    "start_time": "2022-07-03T15:33:18.465Z"
   },
   {
    "duration": 2,
    "start_time": "2022-07-03T15:33:39.670Z"
   },
   {
    "duration": 605,
    "start_time": "2022-07-03T15:33:43.830Z"
   },
   {
    "duration": 97,
    "start_time": "2022-07-03T15:33:44.437Z"
   },
   {
    "duration": 700,
    "start_time": "2022-07-03T15:33:44.727Z"
   },
   {
    "duration": 6,
    "start_time": "2022-07-03T15:33:45.429Z"
   }
  ],
  "kernelspec": {
   "display_name": "Python 3 (ipykernel)",
   "language": "python",
   "name": "python3"
  },
  "language_info": {
   "codemirror_mode": {
    "name": "ipython",
    "version": 3
   },
   "file_extension": ".py",
   "mimetype": "text/x-python",
   "name": "python",
   "nbconvert_exporter": "python",
   "pygments_lexer": "ipython3",
   "version": "3.9.7"
  },
  "toc": {
   "base_numbering": 1,
   "nav_menu": {},
   "number_sections": true,
   "sideBar": true,
   "skip_h1_title": true,
   "title_cell": "Table of Contents",
   "title_sidebar": "Contents",
   "toc_cell": false,
   "toc_position": {},
   "toc_section_display": true,
   "toc_window_display": false
  }
 },
 "nbformat": 4,
 "nbformat_minor": 2
}
