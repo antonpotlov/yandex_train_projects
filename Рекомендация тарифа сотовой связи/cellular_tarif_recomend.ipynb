{
 "cells": [
  {
   "cell_type": "markdown",
   "metadata": {},
   "source": [
    "# Рекомендация тарифов"
   ]
  },
  {
   "cell_type": "markdown",
   "metadata": {},
   "source": [
    "В вашем распоряжении данные о поведении клиентов, которые уже перешли на эти тарифы (из проекта курса «Статистический анализ данных»). Нужно построить модель для задачи классификации, которая выберет подходящий тариф. Предобработка данных не понадобится — вы её уже сделали.\n",
    "\n",
    "Постройте модель с максимально большим значением *accuracy*. Чтобы сдать проект успешно, нужно довести долю правильных ответов по крайней мере до 0.75. Проверьте *accuracy* на тестовой выборке самостоятельно."
   ]
  },
  {
   "cell_type": "markdown",
   "metadata": {},
   "source": [
    "## Откройте и изучите файл"
   ]
  },
  {
   "cell_type": "code",
   "execution_count": 1,
   "metadata": {},
   "outputs": [],
   "source": [
    "import pandas as pd\n",
    "from sklearn.tree import DecisionTreeClassifier\n",
    "from sklearn.ensemble import RandomForestClassifier\n",
    "from sklearn.linear_model import LogisticRegression\n",
    "from sklearn.model_selection import train_test_split\n",
    "from sklearn.metrics import accuracy_score\n",
    "from sklearn.metrics import classification_report\n",
    "from sklearn.model_selection import GridSearchCV\n",
    "import warnings\n",
    "warnings.filterwarnings(\"ignore\")"
   ]
  },
  {
   "cell_type": "code",
   "execution_count": 2,
   "metadata": {},
   "outputs": [
    {
     "name": "stdout",
     "output_type": "stream",
     "text": [
      "<class 'pandas.core.frame.DataFrame'>\n",
      "RangeIndex: 3214 entries, 0 to 3213\n",
      "Data columns (total 5 columns):\n",
      " #   Column    Non-Null Count  Dtype  \n",
      "---  ------    --------------  -----  \n",
      " 0   calls     3214 non-null   float64\n",
      " 1   minutes   3214 non-null   float64\n",
      " 2   messages  3214 non-null   float64\n",
      " 3   mb_used   3214 non-null   float64\n",
      " 4   is_ultra  3214 non-null   int64  \n",
      "dtypes: float64(4), int64(1)\n",
      "memory usage: 125.7 KB\n"
     ]
    }
   ],
   "source": [
    "df = pd.read_csv('/datasets/users_behavior.csv')\n",
    "features = df.drop(['is_ultra'], axis=1)\n",
    "target = df['is_ultra']\n",
    "df.info()"
   ]
  },
  {
   "cell_type": "code",
   "execution_count": 3,
   "metadata": {},
   "outputs": [
    {
     "name": "stdout",
     "output_type": "stream",
     "text": [
      "<class 'pandas.core.frame.DataFrame'>\n",
      "RangeIndex: 3214 entries, 0 to 3213\n",
      "Data columns (total 5 columns):\n",
      " #   Column    Non-Null Count  Dtype  \n",
      "---  ------    --------------  -----  \n",
      " 0   calls     3214 non-null   float64\n",
      " 1   minutes   3214 non-null   float64\n",
      " 2   messages  3214 non-null   float64\n",
      " 3   mb_used   3214 non-null   float64\n",
      " 4   is_ultra  3214 non-null   int64  \n",
      "dtypes: float64(4), int64(1)\n",
      "memory usage: 125.7 KB\n"
     ]
    }
   ],
   "source": [
    "df.info()"
   ]
  },
  {
   "cell_type": "markdown",
   "metadata": {},
   "source": [
    "Вывод.<br> 1.Данные не имеют отсутствующих значений.<br> 2.Числовые данные (количественные значения минут звонков, количества смс, использованного интернет трафика) представлены в формате float. Данные в целевом слобце is_ultra представлены в формате int."
   ]
  },
  {
   "cell_type": "markdown",
   "metadata": {},
   "source": [
    "## Разбейте данные на выборки"
   ]
  },
  {
   "cell_type": "code",
   "execution_count": 4,
   "metadata": {},
   "outputs": [],
   "source": [
    "features_train, features_valid, target_train, target_valid = train_test_split(features, target, \n",
    "                                                                              test_size=0.2, random_state=12345)"
   ]
  },
  {
   "cell_type": "code",
   "execution_count": 5,
   "metadata": {},
   "outputs": [],
   "source": [
    "features_train, features_test, target_train, target_test = train_test_split(features_train, target_train, \n",
    "                                                                            test_size=0.25, random_state=12345)"
   ]
  },
  {
   "cell_type": "markdown",
   "metadata": {},
   "source": [
    "Исходная выборка разделена в пропорциях 3 (обучающая выборка), 1 (валидационная выборка), 1 (тестовая выборка)"
   ]
  },
  {
   "cell_type": "markdown",
   "metadata": {},
   "source": [
    "## Исследуйте модели"
   ]
  },
  {
   "cell_type": "markdown",
   "metadata": {},
   "source": [
    "### Дерево решений"
   ]
  },
  {
   "cell_type": "code",
   "execution_count": 6,
   "metadata": {},
   "outputs": [
    {
     "name": "stdout",
     "output_type": "stream",
     "text": [
      "Accuracy лучшей модели 0.7884914463452566 Лучшая глубина дерева 5\n"
     ]
    }
   ],
   "source": [
    "best_model = None\n",
    "best_result = 0\n",
    "best_depth = 0\n",
    "for depth in range(1, 10):\n",
    "    model = DecisionTreeClassifier(random_state=12345, max_depth=depth)\n",
    "    model.fit(features_train, target_train)\n",
    "    predictions_valid = model.predict(features_valid)\n",
    "    result = accuracy_score(target_valid, predictions_valid)\n",
    "    if result > best_result:\n",
    "        best_model = model\n",
    "        best_result = result\n",
    "        best_depth = depth\n",
    "        \n",
    "print('Accuracy лучшей модели', best_result, 'Лучшая глубина дерева', best_depth)"
   ]
  },
  {
   "cell_type": "markdown",
   "metadata": {},
   "source": [
    "### Случайный лес"
   ]
  },
  {
   "cell_type": "code",
   "execution_count": 7,
   "metadata": {},
   "outputs": [
    {
     "name": "stdout",
     "output_type": "stream",
     "text": [
      "Accuracy лучшей модели 0.7807153965785381\n"
     ]
    }
   ],
   "source": [
    "best_model_forest = None\n",
    "best_result_forest = 0\n",
    "best_est = 0\n",
    "for est in range(1,10):\n",
    "    model_forest = RandomForestClassifier(random_state=12345, n_estimators=est)\n",
    "    model_forest.fit(features_train, target_train)\n",
    "    predictions_valid_forest = model_forest.predict(features_valid)\n",
    "    result_forest = accuracy_score(target_valid, predictions_valid_forest)\n",
    "    if result_forest > best_result_forest:\n",
    "        best_model_forest = model_forest\n",
    "        best_result_forest = result_forest\n",
    "        best_est = est\n",
    "    \n",
    "        \n",
    "print('Accuracy лучшей модели', best_result_forest)"
   ]
  },
  {
   "cell_type": "markdown",
   "metadata": {},
   "source": [
    "### Логистическая регрессия"
   ]
  },
  {
   "cell_type": "code",
   "execution_count": 8,
   "metadata": {},
   "outputs": [
    {
     "name": "stdout",
     "output_type": "stream",
     "text": [
      "Accuracy модели логистической регрессии 0.7589424572317263\n"
     ]
    }
   ],
   "source": [
    "best_model_regr = None\n",
    "best_result_regr = 0\n",
    "best_iter = 0\n",
    "for itera in range(500, 5001, 500):\n",
    "    model_regr = LogisticRegression(random_state=12345, solver='lbfgs', max_iter=itera)\n",
    "    model_regr.fit(features_train, target_train)\n",
    "    predictions_valid_regr = model_regr.predict(features_valid)\n",
    "    result_regr = model_regr.score(features_valid, target_valid)\n",
    "    if result_regr>best_result_regr:\n",
    "        best_model_regr=model_regr\n",
    "        best_result_regr = result_regr\n",
    "        best_iter=itera\n",
    "print('Accuracy модели логистической регрессии',best_result_regr)"
   ]
  },
  {
   "cell_type": "markdown",
   "metadata": {},
   "source": [
    "Сформированы и обучены и проверены на валидационных данных разные алгоритмы предсказаний. На используемыех данных с большей точностью предсказания осуществлены алгоритмом \"Дерево решений\"."
   ]
  },
  {
   "cell_type": "markdown",
   "metadata": {},
   "source": [
    "### GreadsearchCV"
   ]
  },
  {
   "cell_type": "markdown",
   "metadata": {},
   "source": [
    "подберем параметры моделей с помощью функции GridSearchCV и опробуем их на валидационной выборке"
   ]
  },
  {
   "cell_type": "markdown",
   "metadata": {},
   "source": [
    "#### Случайный лес"
   ]
  },
  {
   "cell_type": "code",
   "execution_count": 9,
   "metadata": {},
   "outputs": [
    {
     "data": {
      "text/plain": [
       "GridSearchCV(cv=5, estimator=RandomForestClassifier(),\n",
       "             param_grid={'max_depth': range(1, 16),\n",
       "                         'min_samples_leaf': range(1, 11, 2),\n",
       "                         'min_samples_split': range(1, 11, 2),\n",
       "                         'n_estimators': range(10, 100, 10)})"
      ]
     },
     "execution_count": 9,
     "metadata": {},
     "output_type": "execute_result"
    }
   ],
   "source": [
    "rf = RandomForestClassifier()\n",
    "params_rf = {'n_estimators': range(10, 100, 10),\n",
    "             'max_depth': range(1, 16, 1),\n",
    "             'min_samples_split': range(1, 11, 2),\n",
    "             'min_samples_leaf': range(1, 11, 2)}\n",
    "grid_rf = GridSearchCV(rf, params_rf, cv=5)\n",
    "grid_rf.fit(features_train, target_train)"
   ]
  },
  {
   "cell_type": "code",
   "execution_count": 10,
   "metadata": {},
   "outputs": [
    {
     "data": {
      "text/plain": [
       "{'max_depth': 13,\n",
       " 'min_samples_leaf': 7,\n",
       " 'min_samples_split': 3,\n",
       " 'n_estimators': 30}"
      ]
     },
     "execution_count": 10,
     "metadata": {},
     "output_type": "execute_result"
    }
   ],
   "source": [
    "grid_rf.best_params_"
   ]
  },
  {
   "cell_type": "code",
   "execution_count": 11,
   "metadata": {},
   "outputs": [
    {
     "data": {
      "text/plain": [
       "0.8236552048987281"
      ]
     },
     "execution_count": 11,
     "metadata": {},
     "output_type": "execute_result"
    }
   ],
   "source": [
    "grid_rf.best_score_"
   ]
  },
  {
   "cell_type": "code",
   "execution_count": 12,
   "metadata": {},
   "outputs": [
    {
     "data": {
      "text/plain": [
       "0.7962674961119751"
      ]
     },
     "execution_count": 12,
     "metadata": {},
     "output_type": "execute_result"
    }
   ],
   "source": [
    "predict_grid_rf_valid = grid_rf.predict(features_valid)\n",
    "predict_grid_rf_valid_score = accuracy_score(target_valid, predict_grid_rf_valid)\n",
    "predict_grid_rf_valid_score"
   ]
  },
  {
   "cell_type": "code",
   "execution_count": 13,
   "metadata": {},
   "outputs": [
    {
     "data": {
      "text/plain": [
       "array([0, 0, 0, 0, 0, 0, 0, 1, 0, 0, 0, 0, 0, 0, 1, 0, 0, 0, 0, 1, 0, 0,\n",
       "       0, 0, 0, 1, 1, 1, 1, 0, 0, 1, 0, 0, 0, 0, 0, 1, 0, 0, 0, 1, 0, 0,\n",
       "       0, 1, 0, 1, 0, 0, 1, 1, 0, 1, 0, 0, 1, 1, 0, 0, 0, 0, 1, 0, 0, 0,\n",
       "       0, 0, 0, 0, 0, 1, 0, 1, 0, 1, 0, 0, 0, 0, 0, 0, 0, 0, 0, 0, 0, 0,\n",
       "       0, 0, 0, 0, 0, 1, 0, 0, 0, 0, 0, 0, 1, 0, 0, 1, 0, 0, 1, 0, 0, 1,\n",
       "       0, 0, 0, 1, 1, 0, 0, 0, 0, 0, 0, 0, 1, 0, 0, 0, 0, 0, 0, 0, 0, 0,\n",
       "       0, 0, 1, 0, 0, 0, 0, 0, 0, 0, 0, 1, 0, 1, 0, 0, 1, 0, 0, 0, 0, 0,\n",
       "       1, 0, 0, 0, 0, 0, 0, 0, 0, 0, 0, 0, 0, 1, 0, 0, 1, 0, 1, 1, 1, 0,\n",
       "       0, 0, 0, 0, 1, 0, 1, 0, 0, 0, 1, 0, 1, 0, 0, 0, 0, 1, 0, 0, 0, 0,\n",
       "       0, 0, 0, 0, 0, 1, 0, 1, 0, 0, 0, 1, 0, 0, 0, 0, 1, 0, 0, 1, 0, 0,\n",
       "       1, 0, 0, 1, 0, 0, 0, 1, 0, 0, 1, 1, 0, 0, 0, 0, 0, 0, 0, 1, 1, 1,\n",
       "       0, 0, 0, 0, 1, 0, 0, 0, 1, 0, 0, 0, 0, 0, 0, 0, 0, 0, 0, 0, 0, 0,\n",
       "       0, 0, 0, 0, 0, 0, 0, 1, 0, 0, 1, 0, 0, 0, 0, 0, 0, 0, 0, 0, 0, 0,\n",
       "       0, 0, 0, 0, 0, 0, 0, 0, 1, 1, 0, 1, 1, 0, 0, 0, 0, 0, 0, 0, 0, 0,\n",
       "       0, 0, 0, 0, 0, 0, 0, 0, 0, 0, 1, 1, 0, 0, 0, 0, 0, 1, 0, 0, 0, 0,\n",
       "       0, 0, 0, 0, 1, 0, 0, 0, 0, 0, 0, 0, 0, 0, 0, 0, 0, 1, 0, 0, 0, 0,\n",
       "       0, 0, 0, 0, 0, 1, 0, 0, 0, 0, 0, 1, 0, 0, 0, 0, 0, 0, 0, 0, 0, 0,\n",
       "       0, 0, 0, 0, 0, 0, 1, 1, 0, 0, 0, 0, 1, 0, 1, 1, 0, 0, 1, 0, 0, 1,\n",
       "       0, 1, 0, 1, 0, 0, 0, 0, 1, 0, 0, 1, 1, 0, 0, 0, 0, 0, 0, 1, 0, 0,\n",
       "       0, 1, 0, 0, 0, 1, 0, 1, 0, 1, 0, 0, 0, 0, 0, 0, 0, 1, 0, 0, 1, 0,\n",
       "       0, 1, 0, 0, 1, 0, 0, 1, 0, 1, 0, 0, 0, 0, 0, 0, 0, 1, 1, 1, 0, 0,\n",
       "       0, 0, 1, 1, 0, 0, 1, 1, 0, 0, 0, 1, 1, 0, 0, 1, 0, 0, 0, 1, 0, 1,\n",
       "       0, 0, 0, 1, 0, 0, 0, 0, 1, 0, 0, 0, 0, 0, 0, 0, 0, 0, 0, 1, 0, 1,\n",
       "       1, 0, 1, 0, 1, 0, 1, 0, 0, 1, 0, 0, 0, 0, 0, 0, 0, 0, 0, 0, 0, 1,\n",
       "       0, 0, 0, 1, 1, 1, 0, 1, 0, 1, 0, 1, 0, 0, 0, 0, 0, 0, 0, 0, 1, 0,\n",
       "       0, 0, 0, 0, 0, 0, 0, 0, 0, 1, 0, 0, 0, 1, 0, 1, 0, 0, 1, 0, 0, 0,\n",
       "       1, 1, 0, 0, 1, 0, 1, 1, 0, 1, 1, 0, 0, 0, 0, 1, 0, 0, 0, 0, 0, 1,\n",
       "       0, 1, 0, 1, 0, 0, 0, 0, 0, 0, 0, 0, 0, 0, 0, 0, 0, 0, 0, 0, 0, 1,\n",
       "       0, 0, 0, 0, 0, 0, 0, 1, 0, 0, 0, 1, 0, 0, 1, 0, 0, 1, 0, 0, 0, 0,\n",
       "       0, 0, 0, 1, 0])"
      ]
     },
     "execution_count": 13,
     "metadata": {},
     "output_type": "execute_result"
    }
   ],
   "source": [
    "predict_grid_rf_valid"
   ]
  },
  {
   "cell_type": "markdown",
   "metadata": {},
   "source": [
    "#### Дерево принятия решений"
   ]
  },
  {
   "cell_type": "code",
   "execution_count": 14,
   "metadata": {},
   "outputs": [
    {
     "data": {
      "text/plain": [
       "GridSearchCV(cv=5, estimator=DecisionTreeClassifier(),\n",
       "             param_grid={'max_depth': range(1, 10),\n",
       "                         'min_samples_leaf': range(1, 11, 2),\n",
       "                         'min_samples_split': range(1, 11, 2)})"
      ]
     },
     "execution_count": 14,
     "metadata": {},
     "output_type": "execute_result"
    }
   ],
   "source": [
    "dt = DecisionTreeClassifier()\n",
    "params_dt = {'max_depth': range(1, 10, 1),\n",
    "             'min_samples_split': range(1, 11, 2),\n",
    "             'min_samples_leaf': range(1, 11, 2)}\n",
    "grid_dt = GridSearchCV(dt, params_dt, cv=5)\n",
    "grid_dt.fit(features_train, target_train)"
   ]
  },
  {
   "cell_type": "code",
   "execution_count": 15,
   "metadata": {},
   "outputs": [
    {
     "data": {
      "text/plain": [
       "{'max_depth': 8, 'min_samples_leaf': 9, 'min_samples_split': 3}"
      ]
     },
     "execution_count": 15,
     "metadata": {},
     "output_type": "execute_result"
    }
   ],
   "source": [
    "grid_dt.best_params_"
   ]
  },
  {
   "cell_type": "code",
   "execution_count": 16,
   "metadata": {},
   "outputs": [
    {
     "data": {
      "text/plain": [
       "0.8081030886212233"
      ]
     },
     "execution_count": 16,
     "metadata": {},
     "output_type": "execute_result"
    }
   ],
   "source": [
    "grid_dt.best_score_"
   ]
  },
  {
   "cell_type": "code",
   "execution_count": 17,
   "metadata": {},
   "outputs": [
    {
     "data": {
      "text/plain": [
       "0.7853810264385692"
      ]
     },
     "execution_count": 17,
     "metadata": {},
     "output_type": "execute_result"
    }
   ],
   "source": [
    "predict_grid_dt_valid = grid_dt.predict(features_valid)\n",
    "predict_grid_dt_valid_score = accuracy_score(target_valid, predict_grid_dt_valid)\n",
    "predict_grid_dt_valid_score"
   ]
  },
  {
   "cell_type": "markdown",
   "metadata": {},
   "source": [
    "#### Логистическая регрессия"
   ]
  },
  {
   "cell_type": "code",
   "execution_count": 18,
   "metadata": {},
   "outputs": [
    {
     "data": {
      "text/plain": [
       "GridSearchCV(cv=5, estimator=LogisticRegression(),\n",
       "             param_grid={'max_iter': range(100, 5001, 200),\n",
       "                         'solver': ['newton-cg', 'lbfgs', 'sag', 'saga',\n",
       "                                    'liblinear']})"
      ]
     },
     "execution_count": 18,
     "metadata": {},
     "output_type": "execute_result"
    }
   ],
   "source": [
    "lr=LogisticRegression()\n",
    "params_lr = {'solver': ['newton-cg', 'lbfgs', 'sag', 'saga', 'liblinear'],\n",
    "             'max_iter': range(100, 5001, 200)}\n",
    "grid_lr = GridSearchCV(lr, params_lr, cv=5)\n",
    "grid_lr.fit(features_train, target_train)"
   ]
  },
  {
   "cell_type": "code",
   "execution_count": 19,
   "metadata": {},
   "outputs": [
    {
     "data": {
      "text/plain": [
       "{'max_iter': 100, 'solver': 'newton-cg'}"
      ]
     },
     "execution_count": 19,
     "metadata": {},
     "output_type": "execute_result"
    }
   ],
   "source": [
    "grid_lr.best_params_"
   ]
  },
  {
   "cell_type": "code",
   "execution_count": 20,
   "metadata": {},
   "outputs": [
    {
     "data": {
      "text/plain": [
       "0.7505201534217079"
      ]
     },
     "execution_count": 20,
     "metadata": {},
     "output_type": "execute_result"
    }
   ],
   "source": [
    "grid_lr.best_score_"
   ]
  },
  {
   "cell_type": "code",
   "execution_count": 21,
   "metadata": {},
   "outputs": [
    {
     "data": {
      "text/plain": [
       "0.7589424572317263"
      ]
     },
     "execution_count": 21,
     "metadata": {},
     "output_type": "execute_result"
    }
   ],
   "source": [
    "predict_grid_lr_valid = grid_lr.predict(features_valid)\n",
    "predict_grid_lr_valid_score = accuracy_score(target_valid, predict_grid_lr_valid)\n",
    "predict_grid_lr_valid_score"
   ]
  },
  {
   "cell_type": "markdown",
   "metadata": {},
   "source": [
    "Функция GridSearchCV помогла подобрать оптимальные параметры для моделей Случайный лес, Дерево принятия решения и Логистическая регрессия. Лучшие результаты accuracy на валидационной выборке показаны моделью Случайный лес."
   ]
  },
  {
   "cell_type": "markdown",
   "metadata": {},
   "source": [
    "## Проверьте модель на тестовой выборке"
   ]
  },
  {
   "cell_type": "code",
   "execution_count": 22,
   "metadata": {},
   "outputs": [
    {
     "name": "stdout",
     "output_type": "stream",
     "text": [
      "Accuracy дерева решений 0.7589424572317263\n"
     ]
    }
   ],
   "source": [
    "predictions_test_tree = best_model.predict(features_test)\n",
    "result_test_tree = accuracy_score(target_test, predictions_test_tree)\n",
    "print('Accuracy дерева решений', result_test_tree)"
   ]
  },
  {
   "cell_type": "code",
   "execution_count": 23,
   "metadata": {},
   "outputs": [
    {
     "name": "stdout",
     "output_type": "stream",
     "text": [
      "Accuracy случайного леса 0.7620528771384136\n"
     ]
    }
   ],
   "source": [
    "predictions_test_forest = best_model_forest.predict(features_test)\n",
    "result_test_forest = accuracy_score(target_test, predictions_test_forest)\n",
    "print('Accuracy случайного леса', result_test_forest)"
   ]
  },
  {
   "cell_type": "code",
   "execution_count": 24,
   "metadata": {},
   "outputs": [
    {
     "name": "stdout",
     "output_type": "stream",
     "text": [
      "Accuracy логистической регрессии 0.7262830482115086\n"
     ]
    }
   ],
   "source": [
    "result_test_regr = model_regr.score(features_test, target_test)\n",
    "print('Accuracy логистической регрессии', result_test_regr)"
   ]
  },
  {
   "cell_type": "code",
   "execution_count": 25,
   "metadata": {},
   "outputs": [
    {
     "data": {
      "text/plain": [
       "0.7947122861586314"
      ]
     },
     "execution_count": 25,
     "metadata": {},
     "output_type": "execute_result"
    }
   ],
   "source": [
    "predict_grid_rf_test = grid_rf.predict(features_test)\n",
    "predict_grid_rf_test_score = accuracy_score(target_test, predict_grid_rf_test)\n",
    "predict_grid_rf_test_score"
   ]
  },
  {
   "cell_type": "code",
   "execution_count": 26,
   "metadata": {},
   "outputs": [
    {
     "data": {
      "text/plain": [
       "0.7791601866251944"
      ]
     },
     "execution_count": 26,
     "metadata": {},
     "output_type": "execute_result"
    }
   ],
   "source": [
    "predict_grid_dt_test = grid_dt.predict(features_test)\n",
    "predict_grid_dt_test_score = accuracy_score(target_test, predict_grid_dt_test)\n",
    "predict_grid_dt_test_score"
   ]
  },
  {
   "cell_type": "code",
   "execution_count": 27,
   "metadata": {},
   "outputs": [
    {
     "data": {
      "text/plain": [
       "0.7262830482115086"
      ]
     },
     "execution_count": 27,
     "metadata": {},
     "output_type": "execute_result"
    }
   ],
   "source": [
    "predict_grid_lr_test = grid_lr.predict(features_test)\n",
    "predict_grid_lr_test_score = accuracy_score(target_test, predict_grid_lr_test)\n",
    "predict_grid_lr_test_score"
   ]
  },
  {
   "cell_type": "markdown",
   "metadata": {},
   "source": [
    "Вывод.<br> 1.Данные тестовой выборки обработаны моделями построенными на \"ручном\" подборе параметров и на автоматическом подборе параметров.<br> 2. Модели сформированные на автоматическом подборе параметров показали лучшие параметры accuracy чем модели с \"ручным\" подбором параметров. 3.Модель Случайного леса имеет большую точность передсказаний на тествой выборке чем модели Дерева принятия решения и Логистической регрессии (как при \"ручном\" подборе параметров, так и при автоматическом) <br> 4. Модель Случайного леса (grid_rf), сформированная автоматическим подбором параметров (функция GridSearchCV) предлагается рассмотреть далее для определения прочих параметров предсказаний.<br> 5. Из \"ручных\" моделей также большую accuracy на тестовой выборке показала модель Случайного леса. Данная модель так же предлагается рассмотреть для определения прочих параметров предсказаний."
   ]
  },
  {
   "cell_type": "markdown",
   "metadata": {},
   "source": [
    "## (бонус) Проверьте модели на адекватность"
   ]
  },
  {
   "cell_type": "code",
   "execution_count": 28,
   "metadata": {},
   "outputs": [
    {
     "name": "stdout",
     "output_type": "stream",
     "text": [
      "              precision    recall  f1-score   support\n",
      "\n",
      "    is_ultra       0.80      0.86      0.83       443\n",
      "is_not_ultra       0.64      0.54      0.58       200\n",
      "\n",
      "    accuracy                           0.76       643\n",
      "   macro avg       0.72      0.70      0.71       643\n",
      "weighted avg       0.75      0.76      0.76       643\n",
      "\n"
     ]
    }
   ],
   "source": [
    "print(classification_report(target_test, best_model_forest.predict(features_test), \n",
    "                            target_names=['is_ultra', 'is_not_ultra']))"
   ]
  },
  {
   "cell_type": "code",
   "execution_count": 29,
   "metadata": {},
   "outputs": [
    {
     "name": "stdout",
     "output_type": "stream",
     "text": [
      "              precision    recall  f1-score   support\n",
      "\n",
      "    is_ultra       0.80      0.93      0.86       443\n",
      "is_not_ultra       0.76      0.49      0.60       200\n",
      "\n",
      "    accuracy                           0.79       643\n",
      "   macro avg       0.78      0.71      0.73       643\n",
      "weighted avg       0.79      0.79      0.78       643\n",
      "\n"
     ]
    }
   ],
   "source": [
    "print(classification_report(target_test, grid_rf.predict(features_test), target_names=['is_ultra', 'is_not_ultra']))"
   ]
  },
  {
   "cell_type": "markdown",
   "metadata": {},
   "source": [
    "Модель случайного леса (ручная)<br>\n",
    "Точность (precision) модели составляет 80 %, что равно расчитанной на тестовой выборке Accuracy, то есть модель дает 80 % правильных ответов. Полнота (recall) модели составляет 86 %, то есть модель выделила 86 % пользователей тарифа Ultra. Модель с точностью 64 % предсказала пользователей у которых тарифный план не Ultra и выделила 54 % таких пользователей. <br>\n",
    "\n",
    "Модель случайного леса (автоматическая)<br>\n",
    "Точность (precision) модели составляет 79 %, что равно расчитанной на тестовой выборке Accuracy, то есть модель дает 76 % правильных ответов. Полнота (recall) модели составляет 94 %, то есть модель выделила 94 % пользователей тарифа Ultra. Точность модели в предсказании пользователей тарифа не Ultra составляет 76 %, модель выделила 45 % таких пользователей. <br>\n",
    "\n",
    "Предлагается использовать Модель случайного леса(grid_rf) (автоматическую) для определения тарифа пользователей компании сотовой связи.\n"
   ]
  },
  {
   "cell_type": "markdown",
   "metadata": {},
   "source": [
    "Выводы по проекту:<br>\n",
    "1.Полученная выборка разделена на обучающую, валидационную и тестовую<br>\n",
    "2.На обучающей выборке обучены модели дерева, случаного леса и логистической регрессии и выбраны лучшие модели данных типов.<br>\n",
    "3.Лучшие модели по типам протестированы на тестовой выборке. Лучшее Accuracy получилось у моделей случайного леса.<br>\n",
    "4.Для выбранных моделей случайного леса расчитаны показатели precision и recall, которые показали, что точность модели составляет 80 % и ее полнота 86 % (ручная модель) и 79% (pecision) 94 % (recall) у модели случайного леса подобранного функцией GridSearchCV.<br>\n",
    "5.Для дальнейшей работы по предсказанию пользователей тарифа Ultra предлагается использовать модель случайного леса (автоматическую) - grid_rf\n"
   ]
  }
 ],
 "metadata": {
  "ExecuteTimeLog": [
   {
    "duration": 1753,
    "start_time": "2022-04-22T12:40:12.203Z"
   },
   {
    "duration": 153,
    "start_time": "2022-04-22T12:42:21.116Z"
   },
   {
    "duration": 14,
    "start_time": "2022-04-22T12:43:46.451Z"
   },
   {
    "duration": 16,
    "start_time": "2022-04-22T12:43:59.796Z"
   },
   {
    "duration": 15,
    "start_time": "2022-04-22T12:44:01.727Z"
   },
   {
    "duration": 84,
    "start_time": "2022-04-22T12:44:11.869Z"
   },
   {
    "duration": 44,
    "start_time": "2022-04-22T12:44:25.396Z"
   },
   {
    "duration": 4,
    "start_time": "2022-04-22T12:55:11.118Z"
   },
   {
    "duration": 14,
    "start_time": "2022-04-22T13:11:18.288Z"
   },
   {
    "duration": 1532,
    "start_time": "2022-04-22T13:12:45.226Z"
   },
   {
    "duration": 1792,
    "start_time": "2022-04-22T13:12:46.761Z"
   },
   {
    "duration": 0,
    "start_time": "2022-04-22T13:12:48.556Z"
   },
   {
    "duration": 18,
    "start_time": "2022-04-22T13:13:13.146Z"
   },
   {
    "duration": 11,
    "start_time": "2022-04-22T13:13:16.361Z"
   },
   {
    "duration": 17,
    "start_time": "2022-04-22T13:13:25.104Z"
   },
   {
    "duration": 20,
    "start_time": "2022-04-22T13:13:27.009Z"
   },
   {
    "duration": 20,
    "start_time": "2022-04-22T13:14:03.158Z"
   },
   {
    "duration": 7,
    "start_time": "2022-04-22T13:14:54.082Z"
   },
   {
    "duration": 16,
    "start_time": "2022-04-22T13:14:55.965Z"
   },
   {
    "duration": 17,
    "start_time": "2022-04-22T13:15:31.053Z"
   },
   {
    "duration": 6,
    "start_time": "2022-04-22T13:19:59.289Z"
   },
   {
    "duration": 7,
    "start_time": "2022-04-22T13:20:00.291Z"
   },
   {
    "duration": 16,
    "start_time": "2022-04-22T13:21:45.470Z"
   },
   {
    "duration": 15,
    "start_time": "2022-04-22T13:21:49.508Z"
   },
   {
    "duration": 17,
    "start_time": "2022-04-22T13:22:06.205Z"
   },
   {
    "duration": 12,
    "start_time": "2022-04-22T13:22:19.195Z"
   },
   {
    "duration": 16,
    "start_time": "2022-04-22T13:22:30.917Z"
   },
   {
    "duration": 12,
    "start_time": "2022-04-22T13:22:39.844Z"
   },
   {
    "duration": 6,
    "start_time": "2022-04-22T13:22:43.698Z"
   },
   {
    "duration": 14,
    "start_time": "2022-04-22T13:22:49.810Z"
   },
   {
    "duration": 13,
    "start_time": "2022-04-22T13:22:52.714Z"
   },
   {
    "duration": 6,
    "start_time": "2022-04-22T13:22:58.096Z"
   },
   {
    "duration": 5,
    "start_time": "2022-04-22T13:23:14.643Z"
   },
   {
    "duration": 5,
    "start_time": "2022-04-22T13:23:26.427Z"
   },
   {
    "duration": 5,
    "start_time": "2022-04-22T13:23:42.685Z"
   },
   {
    "duration": 5,
    "start_time": "2022-04-22T13:23:53.336Z"
   },
   {
    "duration": 4,
    "start_time": "2022-04-22T13:24:08.961Z"
   },
   {
    "duration": 8,
    "start_time": "2022-04-22T13:24:29.362Z"
   },
   {
    "duration": 1527,
    "start_time": "2022-04-22T13:24:55.038Z"
   },
   {
    "duration": 19,
    "start_time": "2022-04-22T13:24:56.568Z"
   },
   {
    "duration": 7,
    "start_time": "2022-04-22T13:24:56.589Z"
   },
   {
    "duration": 31,
    "start_time": "2022-04-22T13:24:56.599Z"
   },
   {
    "duration": 5,
    "start_time": "2022-04-22T13:24:56.633Z"
   },
   {
    "duration": 8,
    "start_time": "2022-04-22T13:24:56.640Z"
   },
   {
    "duration": 13,
    "start_time": "2022-04-22T13:24:56.650Z"
   },
   {
    "duration": 10,
    "start_time": "2022-04-22T13:24:56.665Z"
   },
   {
    "duration": 8,
    "start_time": "2022-04-22T13:24:56.677Z"
   },
   {
    "duration": 7,
    "start_time": "2022-04-22T13:25:51.774Z"
   },
   {
    "duration": 150,
    "start_time": "2022-04-22T14:20:53.364Z"
   },
   {
    "duration": 13,
    "start_time": "2022-04-22T14:21:21.596Z"
   },
   {
    "duration": 15,
    "start_time": "2022-04-22T14:21:37.488Z"
   },
   {
    "duration": 15,
    "start_time": "2022-04-22T14:23:08.114Z"
   },
   {
    "duration": 1620,
    "start_time": "2022-04-22T14:24:13.268Z"
   },
   {
    "duration": 21,
    "start_time": "2022-04-22T14:24:14.892Z"
   },
   {
    "duration": 14,
    "start_time": "2022-04-22T14:24:14.915Z"
   },
   {
    "duration": 8,
    "start_time": "2022-04-22T14:24:14.933Z"
   },
   {
    "duration": 176,
    "start_time": "2022-04-22T14:24:14.943Z"
   },
   {
    "duration": 15,
    "start_time": "2022-04-22T14:24:30.577Z"
   },
   {
    "duration": 20,
    "start_time": "2022-04-22T14:24:39.615Z"
   },
   {
    "duration": 21,
    "start_time": "2022-04-22T14:24:46.957Z"
   },
   {
    "duration": 46,
    "start_time": "2022-04-22T14:24:53.249Z"
   },
   {
    "duration": 59,
    "start_time": "2022-04-22T14:25:14.985Z"
   },
   {
    "duration": 111,
    "start_time": "2022-04-22T14:31:28.922Z"
   },
   {
    "duration": 123,
    "start_time": "2022-04-22T14:31:42.448Z"
   },
   {
    "duration": 102,
    "start_time": "2022-04-22T14:34:16.165Z"
   },
   {
    "duration": 1522,
    "start_time": "2022-04-22T14:34:36.521Z"
   },
   {
    "duration": 25,
    "start_time": "2022-04-22T14:34:38.046Z"
   },
   {
    "duration": 7,
    "start_time": "2022-04-22T14:34:38.073Z"
   },
   {
    "duration": 13,
    "start_time": "2022-04-22T14:34:38.083Z"
   },
   {
    "duration": 66,
    "start_time": "2022-04-22T14:34:38.099Z"
   },
   {
    "duration": 102,
    "start_time": "2022-04-22T14:34:38.168Z"
   },
   {
    "duration": 115,
    "start_time": "2022-04-22T14:35:17.706Z"
   },
   {
    "duration": 1169,
    "start_time": "2022-04-22T14:35:59.769Z"
   },
   {
    "duration": 365,
    "start_time": "2022-04-22T14:36:24.603Z"
   },
   {
    "duration": 1676,
    "start_time": "2022-04-22T14:36:58.749Z"
   },
   {
    "duration": 307,
    "start_time": "2022-04-22T14:40:52.752Z"
   },
   {
    "duration": 307,
    "start_time": "2022-04-22T14:44:25.448Z"
   },
   {
    "duration": 307,
    "start_time": "2022-04-22T14:45:14.318Z"
   },
   {
    "duration": 85,
    "start_time": "2022-04-22T14:45:23.581Z"
   },
   {
    "duration": 302,
    "start_time": "2022-04-22T14:45:28.610Z"
   },
   {
    "duration": 153,
    "start_time": "2022-04-22T14:50:54.464Z"
   },
   {
    "duration": 11,
    "start_time": "2022-04-22T14:51:35.960Z"
   },
   {
    "duration": 73,
    "start_time": "2022-04-22T14:51:42.820Z"
   },
   {
    "duration": 73,
    "start_time": "2022-04-22T14:52:24.721Z"
   },
   {
    "duration": 63,
    "start_time": "2022-04-22T14:54:32.642Z"
   },
   {
    "duration": 60,
    "start_time": "2022-04-22T14:54:41.887Z"
   },
   {
    "duration": 55,
    "start_time": "2022-04-22T14:54:47.493Z"
   },
   {
    "duration": 64,
    "start_time": "2022-04-22T14:54:56.500Z"
   },
   {
    "duration": 57,
    "start_time": "2022-04-22T14:55:57.231Z"
   },
   {
    "duration": 9,
    "start_time": "2022-04-22T14:59:51.884Z"
   },
   {
    "duration": 10,
    "start_time": "2022-04-22T15:01:33.065Z"
   },
   {
    "duration": 11,
    "start_time": "2022-04-22T15:04:13.898Z"
   },
   {
    "duration": 12,
    "start_time": "2022-04-22T15:04:37.750Z"
   },
   {
    "duration": 13,
    "start_time": "2022-04-22T15:10:55.394Z"
   },
   {
    "duration": 12,
    "start_time": "2022-04-22T15:11:19.802Z"
   },
   {
    "duration": 13,
    "start_time": "2022-04-22T15:59:00.440Z"
   },
   {
    "duration": 58,
    "start_time": "2022-04-22T16:13:26.541Z"
   },
   {
    "duration": 58,
    "start_time": "2022-04-22T16:13:36.457Z"
   },
   {
    "duration": 63,
    "start_time": "2022-04-22T16:14:05.684Z"
   },
   {
    "duration": 1679,
    "start_time": "2022-04-22T16:14:23.716Z"
   },
   {
    "duration": 25,
    "start_time": "2022-04-22T16:14:25.398Z"
   },
   {
    "duration": 10,
    "start_time": "2022-04-22T16:14:25.426Z"
   },
   {
    "duration": 10,
    "start_time": "2022-04-22T16:14:25.440Z"
   },
   {
    "duration": 118,
    "start_time": "2022-04-22T16:14:25.452Z"
   },
   {
    "duration": 434,
    "start_time": "2022-04-22T16:14:25.572Z"
   },
   {
    "duration": 68,
    "start_time": "2022-04-22T16:14:26.009Z"
   },
   {
    "duration": 8,
    "start_time": "2022-04-22T16:14:26.079Z"
   },
   {
    "duration": 12,
    "start_time": "2022-04-22T16:14:26.089Z"
   },
   {
    "duration": 10,
    "start_time": "2022-04-22T16:14:26.131Z"
   },
   {
    "duration": 152,
    "start_time": "2022-04-22T17:34:05.560Z"
   },
   {
    "duration": 12,
    "start_time": "2022-04-22T17:40:13.040Z"
   },
   {
    "duration": 5,
    "start_time": "2022-04-22T17:40:45.865Z"
   },
   {
    "duration": 20,
    "start_time": "2022-04-22T17:40:52.711Z"
   },
   {
    "duration": 14,
    "start_time": "2022-04-22T18:06:30.038Z"
   },
   {
    "duration": 1245,
    "start_time": "2022-04-23T08:15:04.569Z"
   },
   {
    "duration": 34,
    "start_time": "2022-04-23T08:15:05.816Z"
   },
   {
    "duration": 5,
    "start_time": "2022-04-23T08:15:05.852Z"
   },
   {
    "duration": 5,
    "start_time": "2022-04-23T08:15:05.859Z"
   },
   {
    "duration": 59,
    "start_time": "2022-04-23T08:15:05.866Z"
   },
   {
    "duration": 216,
    "start_time": "2022-04-23T08:15:05.926Z"
   },
   {
    "duration": 35,
    "start_time": "2022-04-23T08:15:06.143Z"
   },
   {
    "duration": 6,
    "start_time": "2022-04-23T08:15:06.180Z"
   },
   {
    "duration": 9,
    "start_time": "2022-04-23T08:15:06.188Z"
   },
   {
    "duration": 8,
    "start_time": "2022-04-23T08:15:06.224Z"
   },
   {
    "duration": 10,
    "start_time": "2022-04-23T08:15:06.234Z"
   },
   {
    "duration": 1309,
    "start_time": "2022-04-23T08:16:12.798Z"
   },
   {
    "duration": 22,
    "start_time": "2022-04-23T08:16:14.110Z"
   },
   {
    "duration": 6,
    "start_time": "2022-04-23T08:16:14.134Z"
   },
   {
    "duration": 5,
    "start_time": "2022-04-23T08:16:14.143Z"
   },
   {
    "duration": 73,
    "start_time": "2022-04-23T08:16:14.150Z"
   },
   {
    "duration": 233,
    "start_time": "2022-04-23T08:16:14.225Z"
   },
   {
    "duration": 36,
    "start_time": "2022-04-23T08:16:14.460Z"
   },
   {
    "duration": 6,
    "start_time": "2022-04-23T08:16:14.498Z"
   },
   {
    "duration": 13,
    "start_time": "2022-04-23T08:16:14.523Z"
   },
   {
    "duration": 21,
    "start_time": "2022-04-23T08:16:14.538Z"
   },
   {
    "duration": 34,
    "start_time": "2022-04-23T08:16:14.560Z"
   },
   {
    "duration": 71,
    "start_time": "2022-04-23T08:19:34.293Z"
   },
   {
    "duration": 137549,
    "start_time": "2022-04-23T08:22:17.205Z"
   },
   {
    "duration": 280,
    "start_time": "2022-04-23T08:27:06.927Z"
   },
   {
    "duration": 1261,
    "start_time": "2022-04-23T08:27:27.433Z"
   },
   {
    "duration": 34,
    "start_time": "2022-04-23T08:27:28.696Z"
   },
   {
    "duration": 5,
    "start_time": "2022-04-23T08:27:28.732Z"
   },
   {
    "duration": 6,
    "start_time": "2022-04-23T08:27:28.738Z"
   },
   {
    "duration": 56,
    "start_time": "2022-04-23T08:27:28.746Z"
   },
   {
    "duration": 216,
    "start_time": "2022-04-23T08:27:28.803Z"
   },
   {
    "duration": 287,
    "start_time": "2022-04-23T08:27:29.022Z"
   },
   {
    "duration": 5,
    "start_time": "2022-04-23T08:27:29.310Z"
   },
   {
    "duration": 8,
    "start_time": "2022-04-23T08:27:29.323Z"
   },
   {
    "duration": 10,
    "start_time": "2022-04-23T08:27:29.332Z"
   },
   {
    "duration": 9,
    "start_time": "2022-04-23T08:27:29.343Z"
   },
   {
    "duration": 84,
    "start_time": "2022-04-23T17:56:10.781Z"
   },
   {
    "duration": 1653,
    "start_time": "2022-04-23T17:56:18.312Z"
   },
   {
    "duration": 39,
    "start_time": "2022-04-23T17:56:19.968Z"
   },
   {
    "duration": 18,
    "start_time": "2022-04-23T17:56:20.010Z"
   },
   {
    "duration": 29,
    "start_time": "2022-04-23T17:56:20.031Z"
   },
   {
    "duration": 126,
    "start_time": "2022-04-23T17:56:20.063Z"
   },
   {
    "duration": 355,
    "start_time": "2022-04-23T17:56:20.192Z"
   },
   {
    "duration": 175,
    "start_time": "2022-04-23T17:56:20.549Z"
   },
   {
    "duration": 0,
    "start_time": "2022-04-23T17:56:20.728Z"
   },
   {
    "duration": 0,
    "start_time": "2022-04-23T17:56:20.731Z"
   },
   {
    "duration": 0,
    "start_time": "2022-04-23T17:56:20.733Z"
   },
   {
    "duration": 0,
    "start_time": "2022-04-23T17:56:20.736Z"
   },
   {
    "duration": 15,
    "start_time": "2022-04-23T17:57:25.649Z"
   },
   {
    "duration": 16,
    "start_time": "2022-04-23T18:03:03.857Z"
   },
   {
    "duration": 5,
    "start_time": "2022-04-23T18:05:12.702Z"
   },
   {
    "duration": 2077,
    "start_time": "2022-04-23T18:05:18.596Z"
   },
   {
    "duration": 32,
    "start_time": "2022-04-23T18:05:20.677Z"
   },
   {
    "duration": 36,
    "start_time": "2022-04-23T18:05:20.712Z"
   },
   {
    "duration": 11,
    "start_time": "2022-04-23T18:05:20.752Z"
   },
   {
    "duration": 15,
    "start_time": "2022-04-23T18:05:20.767Z"
   },
   {
    "duration": 116,
    "start_time": "2022-04-23T18:05:20.785Z"
   },
   {
    "duration": 433,
    "start_time": "2022-04-23T18:05:20.904Z"
   },
   {
    "duration": 534,
    "start_time": "2022-04-23T18:05:21.344Z"
   },
   {
    "duration": 10,
    "start_time": "2022-04-23T18:05:21.881Z"
   },
   {
    "duration": 45,
    "start_time": "2022-04-23T18:05:21.894Z"
   },
   {
    "duration": 16,
    "start_time": "2022-04-23T18:05:21.942Z"
   },
   {
    "duration": 15,
    "start_time": "2022-04-23T18:05:21.961Z"
   },
   {
    "duration": 149,
    "start_time": "2022-04-23T19:21:49.753Z"
   },
   {
    "duration": 5,
    "start_time": "2022-04-23T19:21:58.082Z"
   },
   {
    "duration": 13,
    "start_time": "2022-04-23T19:22:02.677Z"
   },
   {
    "duration": 13,
    "start_time": "2022-04-23T19:22:23.162Z"
   },
   {
    "duration": 1552,
    "start_time": "2022-04-23T19:33:23.404Z"
   },
   {
    "duration": 35,
    "start_time": "2022-04-23T19:33:24.959Z"
   },
   {
    "duration": 17,
    "start_time": "2022-04-23T19:33:24.996Z"
   },
   {
    "duration": 9,
    "start_time": "2022-04-23T19:33:25.025Z"
   },
   {
    "duration": 12,
    "start_time": "2022-04-23T19:33:25.036Z"
   },
   {
    "duration": 122,
    "start_time": "2022-04-23T19:33:25.051Z"
   },
   {
    "duration": 323,
    "start_time": "2022-04-23T19:33:25.176Z"
   },
   {
    "duration": 496,
    "start_time": "2022-04-23T19:33:25.501Z"
   },
   {
    "duration": 246641,
    "start_time": "2022-04-23T19:33:26.000Z"
   },
   {
    "duration": 6,
    "start_time": "2022-04-23T19:37:32.644Z"
   },
   {
    "duration": 42,
    "start_time": "2022-04-23T19:37:32.651Z"
   },
   {
    "duration": 18,
    "start_time": "2022-04-23T19:37:32.695Z"
   },
   {
    "duration": 39,
    "start_time": "2022-04-23T19:37:32.716Z"
   },
   {
    "duration": 29,
    "start_time": "2022-04-23T19:37:32.757Z"
   },
   {
    "duration": 5358,
    "start_time": "2022-04-23T19:43:09.104Z"
   },
   {
    "duration": 7,
    "start_time": "2022-04-23T19:43:14.464Z"
   },
   {
    "duration": 166,
    "start_time": "2022-04-23T19:50:39.865Z"
   },
   {
    "duration": 153928,
    "start_time": "2022-04-23T19:52:55.501Z"
   },
   {
    "duration": 11,
    "start_time": "2022-04-23T19:55:29.432Z"
   },
   {
    "duration": 9,
    "start_time": "2022-04-23T20:05:59.633Z"
   },
   {
    "duration": 6,
    "start_time": "2022-04-23T20:08:30.634Z"
   },
   {
    "duration": 7,
    "start_time": "2022-04-23T20:08:49.465Z"
   },
   {
    "duration": 15,
    "start_time": "2022-04-23T20:09:46.576Z"
   },
   {
    "duration": 1619,
    "start_time": "2022-04-23T20:10:12.745Z"
   },
   {
    "duration": 32,
    "start_time": "2022-04-23T20:10:14.367Z"
   },
   {
    "duration": 28,
    "start_time": "2022-04-23T20:10:14.402Z"
   },
   {
    "duration": 21,
    "start_time": "2022-04-23T20:10:14.433Z"
   },
   {
    "duration": 6,
    "start_time": "2022-04-23T20:10:14.457Z"
   },
   {
    "duration": 116,
    "start_time": "2022-04-23T20:10:14.465Z"
   },
   {
    "duration": 341,
    "start_time": "2022-04-23T20:10:14.584Z"
   },
   {
    "duration": 513,
    "start_time": "2022-04-23T20:10:14.928Z"
   },
   {
    "duration": 269961,
    "start_time": "2022-04-23T20:10:15.444Z"
   },
   {
    "duration": 17,
    "start_time": "2022-04-23T20:14:45.410Z"
   },
   {
    "duration": 9,
    "start_time": "2022-04-23T20:14:45.430Z"
   },
   {
    "duration": 5385,
    "start_time": "2022-04-23T20:14:45.442Z"
   },
   {
    "duration": 6,
    "start_time": "2022-04-23T20:14:50.829Z"
   },
   {
    "duration": 170027,
    "start_time": "2022-04-23T20:14:50.838Z"
   },
   {
    "duration": 6,
    "start_time": "2022-04-23T20:17:40.868Z"
   },
   {
    "duration": 19,
    "start_time": "2022-04-23T20:17:40.877Z"
   },
   {
    "duration": 48,
    "start_time": "2022-04-23T20:17:40.898Z"
   },
   {
    "duration": 23,
    "start_time": "2022-04-23T20:17:40.948Z"
   },
   {
    "duration": 25,
    "start_time": "2022-04-23T20:17:40.974Z"
   },
   {
    "duration": 9,
    "start_time": "2022-04-23T20:17:41.004Z"
   },
   {
    "duration": 7,
    "start_time": "2022-04-23T20:18:18.274Z"
   },
   {
    "duration": 316,
    "start_time": "2022-04-23T20:22:27.153Z"
   },
   {
    "duration": 10,
    "start_time": "2022-04-23T20:24:48.072Z"
   },
   {
    "duration": 11,
    "start_time": "2022-04-23T20:25:54.476Z"
   },
   {
    "duration": 9,
    "start_time": "2022-04-23T20:27:07.124Z"
   },
   {
    "duration": 1551,
    "start_time": "2022-04-23T20:27:38.630Z"
   },
   {
    "duration": 35,
    "start_time": "2022-04-23T20:27:40.183Z"
   },
   {
    "duration": 17,
    "start_time": "2022-04-23T20:27:40.220Z"
   },
   {
    "duration": 9,
    "start_time": "2022-04-23T20:27:40.240Z"
   },
   {
    "duration": 8,
    "start_time": "2022-04-23T20:27:40.251Z"
   },
   {
    "duration": 119,
    "start_time": "2022-04-23T20:27:40.262Z"
   },
   {
    "duration": 326,
    "start_time": "2022-04-23T20:27:40.383Z"
   },
   {
    "duration": 486,
    "start_time": "2022-04-23T20:27:40.711Z"
   },
   {
    "duration": 249301,
    "start_time": "2022-04-23T20:27:41.200Z"
   },
   {
    "duration": 6,
    "start_time": "2022-04-23T20:31:50.505Z"
   },
   {
    "duration": 16,
    "start_time": "2022-04-23T20:31:50.525Z"
   },
   {
    "duration": 22,
    "start_time": "2022-04-23T20:31:50.543Z"
   },
   {
    "duration": 5942,
    "start_time": "2022-04-23T20:31:50.567Z"
   },
   {
    "duration": 15,
    "start_time": "2022-04-23T20:31:56.512Z"
   },
   {
    "duration": 16,
    "start_time": "2022-04-23T20:31:56.530Z"
   },
   {
    "duration": 14,
    "start_time": "2022-04-23T20:31:56.549Z"
   },
   {
    "duration": 150219,
    "start_time": "2022-04-23T20:31:56.566Z"
   },
   {
    "duration": 6,
    "start_time": "2022-04-23T20:34:26.787Z"
   },
   {
    "duration": 29,
    "start_time": "2022-04-23T20:34:26.795Z"
   },
   {
    "duration": 12,
    "start_time": "2022-04-23T20:34:26.827Z"
   },
   {
    "duration": 13,
    "start_time": "2022-04-23T20:34:26.841Z"
   },
   {
    "duration": 23,
    "start_time": "2022-04-23T20:34:26.857Z"
   },
   {
    "duration": 18,
    "start_time": "2022-04-23T20:34:26.882Z"
   },
   {
    "duration": 14,
    "start_time": "2022-04-23T20:34:26.925Z"
   },
   {
    "duration": 13,
    "start_time": "2022-04-23T20:34:55.726Z"
   },
   {
    "duration": 9,
    "start_time": "2022-04-23T20:35:56.162Z"
   },
   {
    "duration": 10,
    "start_time": "2022-04-23T20:36:51.491Z"
   },
   {
    "duration": 15,
    "start_time": "2022-04-23T20:37:58.250Z"
   },
   {
    "duration": 1889,
    "start_time": "2022-04-24T09:26:57.362Z"
   },
   {
    "duration": 35,
    "start_time": "2022-04-24T09:26:59.254Z"
   },
   {
    "duration": 21,
    "start_time": "2022-04-24T09:26:59.291Z"
   },
   {
    "duration": 8,
    "start_time": "2022-04-24T09:26:59.316Z"
   },
   {
    "duration": 11,
    "start_time": "2022-04-24T09:26:59.327Z"
   },
   {
    "duration": 160,
    "start_time": "2022-04-24T09:26:59.341Z"
   },
   {
    "duration": 460,
    "start_time": "2022-04-24T09:26:59.504Z"
   },
   {
    "duration": 846,
    "start_time": "2022-04-24T09:26:59.967Z"
   },
   {
    "duration": 269365,
    "start_time": "2022-04-24T09:27:00.816Z"
   },
   {
    "duration": 11,
    "start_time": "2022-04-24T09:31:30.187Z"
   },
   {
    "duration": 19,
    "start_time": "2022-04-24T09:31:30.201Z"
   },
   {
    "duration": 32,
    "start_time": "2022-04-24T09:31:30.222Z"
   },
   {
    "duration": 5049,
    "start_time": "2022-04-24T09:31:30.257Z"
   },
   {
    "duration": 5,
    "start_time": "2022-04-24T09:31:35.308Z"
   },
   {
    "duration": 8,
    "start_time": "2022-04-24T09:31:35.315Z"
   },
   {
    "duration": 10,
    "start_time": "2022-04-24T09:31:35.325Z"
   },
   {
    "duration": 229938,
    "start_time": "2022-04-24T09:31:35.338Z"
   },
   {
    "duration": 14,
    "start_time": "2022-04-24T09:35:25.279Z"
   },
   {
    "duration": 6,
    "start_time": "2022-04-24T09:35:25.297Z"
   },
   {
    "duration": 23,
    "start_time": "2022-04-24T09:35:25.306Z"
   },
   {
    "duration": 12,
    "start_time": "2022-04-24T09:35:25.333Z"
   },
   {
    "duration": 51,
    "start_time": "2022-04-24T09:35:25.348Z"
   },
   {
    "duration": 10,
    "start_time": "2022-04-24T09:35:25.406Z"
   },
   {
    "duration": 32,
    "start_time": "2022-04-24T09:35:25.418Z"
   },
   {
    "duration": 42,
    "start_time": "2022-04-24T09:35:25.453Z"
   },
   {
    "duration": 11,
    "start_time": "2022-04-24T09:35:25.498Z"
   },
   {
    "duration": 28,
    "start_time": "2022-04-24T09:35:25.511Z"
   },
   {
    "duration": 47,
    "start_time": "2022-04-24T09:35:25.546Z"
   },
   {
    "duration": 1621,
    "start_time": "2022-04-24T09:37:23.047Z"
   },
   {
    "duration": 48,
    "start_time": "2022-04-24T09:37:24.670Z"
   },
   {
    "duration": 19,
    "start_time": "2022-04-24T09:37:24.720Z"
   },
   {
    "duration": 13,
    "start_time": "2022-04-24T09:37:24.742Z"
   },
   {
    "duration": 8,
    "start_time": "2022-04-24T09:37:24.757Z"
   },
   {
    "duration": 98,
    "start_time": "2022-04-24T09:37:24.767Z"
   },
   {
    "duration": 313,
    "start_time": "2022-04-24T09:37:24.868Z"
   },
   {
    "duration": 476,
    "start_time": "2022-04-24T09:37:25.183Z"
   },
   {
    "duration": 249264,
    "start_time": "2022-04-24T09:37:25.661Z"
   },
   {
    "duration": 5,
    "start_time": "2022-04-24T09:41:34.929Z"
   },
   {
    "duration": 12,
    "start_time": "2022-04-24T09:41:34.936Z"
   },
   {
    "duration": 16,
    "start_time": "2022-04-24T09:41:34.950Z"
   },
   {
    "duration": 5473,
    "start_time": "2022-04-24T09:41:34.968Z"
   },
   {
    "duration": 6,
    "start_time": "2022-04-24T09:41:40.443Z"
   },
   {
    "duration": 16,
    "start_time": "2022-04-24T09:41:40.451Z"
   },
   {
    "duration": 29,
    "start_time": "2022-04-24T09:41:40.470Z"
   },
   {
    "duration": 152033,
    "start_time": "2022-04-24T09:41:40.501Z"
   },
   {
    "duration": 5,
    "start_time": "2022-04-24T09:44:12.536Z"
   },
   {
    "duration": 9,
    "start_time": "2022-04-24T09:44:12.543Z"
   },
   {
    "duration": 39,
    "start_time": "2022-04-24T09:44:12.555Z"
   },
   {
    "duration": 8,
    "start_time": "2022-04-24T09:44:12.596Z"
   },
   {
    "duration": 11,
    "start_time": "2022-04-24T09:44:12.606Z"
   },
   {
    "duration": 7,
    "start_time": "2022-04-24T09:44:12.619Z"
   },
   {
    "duration": 19,
    "start_time": "2022-04-24T09:44:12.629Z"
   },
   {
    "duration": 54,
    "start_time": "2022-04-24T09:44:12.650Z"
   },
   {
    "duration": 15,
    "start_time": "2022-04-24T09:44:12.706Z"
   },
   {
    "duration": 17,
    "start_time": "2022-04-24T09:44:12.724Z"
   },
   {
    "duration": 60,
    "start_time": "2022-04-24T09:44:12.746Z"
   },
   {
    "duration": 14,
    "start_time": "2022-04-24T09:52:24.044Z"
   },
   {
    "duration": 1639,
    "start_time": "2022-04-24T10:46:50.750Z"
   },
   {
    "duration": 37,
    "start_time": "2022-04-24T10:46:52.392Z"
   },
   {
    "duration": 15,
    "start_time": "2022-04-24T10:46:52.431Z"
   },
   {
    "duration": 10,
    "start_time": "2022-04-24T10:46:52.450Z"
   },
   {
    "duration": 31,
    "start_time": "2022-04-24T10:46:52.462Z"
   },
   {
    "duration": 128,
    "start_time": "2022-04-24T10:46:52.496Z"
   },
   {
    "duration": 451,
    "start_time": "2022-04-24T10:46:52.626Z"
   },
   {
    "duration": 659,
    "start_time": "2022-04-24T10:46:53.080Z"
   },
   {
    "duration": 272981,
    "start_time": "2022-04-24T10:46:53.742Z"
   },
   {
    "duration": 8,
    "start_time": "2022-04-24T10:51:26.727Z"
   },
   {
    "duration": 8,
    "start_time": "2022-04-24T10:51:26.737Z"
   },
   {
    "duration": 51,
    "start_time": "2022-04-24T10:51:26.748Z"
   },
   {
    "duration": 6699,
    "start_time": "2022-04-24T10:51:26.802Z"
   },
   {
    "duration": 7,
    "start_time": "2022-04-24T10:51:33.503Z"
   },
   {
    "duration": 8,
    "start_time": "2022-04-24T10:51:33.512Z"
   },
   {
    "duration": 12,
    "start_time": "2022-04-24T10:51:33.522Z"
   },
   {
    "duration": 166562,
    "start_time": "2022-04-24T10:51:33.537Z"
   },
   {
    "duration": 6,
    "start_time": "2022-04-24T10:54:20.102Z"
   },
   {
    "duration": 7,
    "start_time": "2022-04-24T10:54:20.110Z"
   },
   {
    "duration": 12,
    "start_time": "2022-04-24T10:54:20.119Z"
   },
   {
    "duration": 11,
    "start_time": "2022-04-24T10:54:20.133Z"
   },
   {
    "duration": 52,
    "start_time": "2022-04-24T10:54:20.147Z"
   },
   {
    "duration": 9,
    "start_time": "2022-04-24T10:54:20.202Z"
   },
   {
    "duration": 25,
    "start_time": "2022-04-24T10:54:20.213Z"
   },
   {
    "duration": 53,
    "start_time": "2022-04-24T10:54:20.240Z"
   },
   {
    "duration": 9,
    "start_time": "2022-04-24T10:54:20.295Z"
   },
   {
    "duration": 16,
    "start_time": "2022-04-24T10:54:20.306Z"
   },
   {
    "duration": 23,
    "start_time": "2022-04-24T10:54:20.326Z"
   },
   {
    "duration": 164,
    "start_time": "2022-04-24T18:18:21.309Z"
   },
   {
    "duration": 1940,
    "start_time": "2022-05-05T11:47:59.233Z"
   },
   {
    "duration": 167,
    "start_time": "2022-05-05T11:48:01.176Z"
   },
   {
    "duration": 12,
    "start_time": "2022-05-05T11:48:01.345Z"
   },
   {
    "duration": 77,
    "start_time": "2022-05-05T11:48:01.359Z"
   },
   {
    "duration": 6,
    "start_time": "2022-05-05T11:48:01.438Z"
   },
   {
    "duration": 203,
    "start_time": "2022-05-05T11:48:01.446Z"
   },
   {
    "duration": 522,
    "start_time": "2022-05-05T11:48:01.651Z"
   },
   {
    "duration": 861,
    "start_time": "2022-05-05T11:48:02.175Z"
   },
   {
    "duration": 380720,
    "start_time": "2022-05-05T11:48:03.038Z"
   },
   {
    "duration": 4,
    "start_time": "2022-05-05T11:54:23.761Z"
   },
   {
    "duration": 10,
    "start_time": "2022-05-05T11:54:23.766Z"
   },
   {
    "duration": 14,
    "start_time": "2022-05-05T11:54:23.834Z"
   },
   {
    "duration": 7299,
    "start_time": "2022-05-05T11:54:23.849Z"
   },
   {
    "duration": 4,
    "start_time": "2022-05-05T11:54:31.149Z"
   },
   {
    "duration": 16,
    "start_time": "2022-05-05T11:54:31.155Z"
   },
   {
    "duration": 68,
    "start_time": "2022-05-05T11:54:31.172Z"
   },
   {
    "duration": 199793,
    "start_time": "2022-05-05T11:54:31.242Z"
   },
   {
    "duration": 4,
    "start_time": "2022-05-05T11:57:51.037Z"
   },
   {
    "duration": 28,
    "start_time": "2022-05-05T11:57:51.044Z"
   },
   {
    "duration": 86,
    "start_time": "2022-05-05T11:57:51.074Z"
   },
   {
    "duration": 11,
    "start_time": "2022-05-05T11:57:51.163Z"
   },
   {
    "duration": 57,
    "start_time": "2022-05-05T11:57:51.177Z"
   },
   {
    "duration": 8,
    "start_time": "2022-05-05T11:57:51.236Z"
   },
   {
    "duration": 17,
    "start_time": "2022-05-05T11:57:51.245Z"
   },
   {
    "duration": 70,
    "start_time": "2022-05-05T11:57:51.265Z"
   },
   {
    "duration": 10,
    "start_time": "2022-05-05T11:57:51.338Z"
   },
   {
    "duration": 14,
    "start_time": "2022-05-05T11:57:51.351Z"
   },
   {
    "duration": 77,
    "start_time": "2022-05-05T11:57:51.369Z"
   },
   {
    "duration": 104,
    "start_time": "2022-05-07T20:29:34.377Z"
   },
   {
    "duration": 1769,
    "start_time": "2022-05-07T20:29:45.189Z"
   },
   {
    "duration": 23,
    "start_time": "2022-05-07T20:29:46.960Z"
   },
   {
    "duration": 73,
    "start_time": "2022-05-07T20:29:46.984Z"
   },
   {
    "duration": 12,
    "start_time": "2022-05-07T20:29:47.060Z"
   },
   {
    "duration": 6,
    "start_time": "2022-05-07T20:29:47.073Z"
   },
   {
    "duration": 108,
    "start_time": "2022-05-07T20:29:47.081Z"
   },
   {
    "duration": 478,
    "start_time": "2022-05-07T20:29:47.191Z"
   },
   {
    "duration": 902,
    "start_time": "2022-05-07T20:29:47.670Z"
   },
   {
    "duration": 1674,
    "start_time": "2022-05-08T05:39:57.004Z"
   },
   {
    "duration": 69,
    "start_time": "2022-05-08T05:39:58.680Z"
   },
   {
    "duration": 16,
    "start_time": "2022-05-08T05:39:58.752Z"
   },
   {
    "duration": 8,
    "start_time": "2022-05-08T05:39:58.772Z"
   },
   {
    "duration": 16,
    "start_time": "2022-05-08T05:39:58.782Z"
   },
   {
    "duration": 99,
    "start_time": "2022-05-08T05:39:58.801Z"
   },
   {
    "duration": 332,
    "start_time": "2022-05-08T05:39:58.902Z"
   },
   {
    "duration": 495,
    "start_time": "2022-05-08T05:39:59.236Z"
   },
   {
    "duration": 5082576,
    "start_time": "2022-05-08T05:39:59.733Z"
   },
   {
    "duration": 6,
    "start_time": "2022-05-08T07:04:42.313Z"
   },
   {
    "duration": 7,
    "start_time": "2022-05-08T07:04:42.321Z"
   },
   {
    "duration": 19,
    "start_time": "2022-05-08T07:04:42.330Z"
   },
   {
    "duration": 35,
    "start_time": "2022-05-08T07:04:42.351Z"
   },
   {
    "duration": 13302,
    "start_time": "2022-05-08T07:04:42.389Z"
   },
   {
    "duration": 6,
    "start_time": "2022-05-08T07:04:55.694Z"
   },
   {
    "duration": 9,
    "start_time": "2022-05-08T07:04:55.702Z"
   },
   {
    "duration": 11,
    "start_time": "2022-05-08T07:04:55.714Z"
   },
   {
    "duration": 203117,
    "start_time": "2022-05-08T07:04:55.727Z"
   },
   {
    "duration": 5,
    "start_time": "2022-05-08T07:08:18.846Z"
   },
   {
    "duration": 8,
    "start_time": "2022-05-08T07:08:18.853Z"
   },
   {
    "duration": 12,
    "start_time": "2022-05-08T07:08:18.882Z"
   },
   {
    "duration": 19,
    "start_time": "2022-05-08T07:08:18.897Z"
   },
   {
    "duration": 11,
    "start_time": "2022-05-08T07:08:18.919Z"
   },
   {
    "duration": 9,
    "start_time": "2022-05-08T07:08:18.934Z"
   },
   {
    "duration": 57,
    "start_time": "2022-05-08T07:08:18.945Z"
   },
   {
    "duration": 9,
    "start_time": "2022-05-08T07:08:19.005Z"
   },
   {
    "duration": 9,
    "start_time": "2022-05-08T07:08:19.017Z"
   },
   {
    "duration": 64,
    "start_time": "2022-05-08T07:08:19.030Z"
   },
   {
    "duration": 23,
    "start_time": "2022-05-08T07:08:19.097Z"
   }
  ],
  "kernelspec": {
   "display_name": "Python 3 (ipykernel)",
   "language": "python",
   "name": "python3"
  },
  "language_info": {
   "codemirror_mode": {
    "name": "ipython",
    "version": 3
   },
   "file_extension": ".py",
   "mimetype": "text/x-python",
   "name": "python",
   "nbconvert_exporter": "python",
   "pygments_lexer": "ipython3",
   "version": "3.9.7"
  },
  "toc": {
   "base_numbering": 1,
   "nav_menu": {},
   "number_sections": true,
   "sideBar": true,
   "skip_h1_title": true,
   "title_cell": "Table of Contents",
   "title_sidebar": "Contents",
   "toc_cell": false,
   "toc_position": {},
   "toc_section_display": true,
   "toc_window_display": false
  }
 },
 "nbformat": 4,
 "nbformat_minor": 2
}
