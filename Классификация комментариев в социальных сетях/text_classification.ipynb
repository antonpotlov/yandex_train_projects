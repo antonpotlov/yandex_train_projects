{
 "cells": [
  {
   "cell_type": "markdown",
   "metadata": {},
   "source": [
    "# Проект для «Викишоп»"
   ]
  },
  {
   "cell_type": "markdown",
   "metadata": {},
   "source": [
    "Интернет-магазин «Викишоп» запускает новый сервис. Теперь пользователи могут редактировать и дополнять описания товаров, как в вики-сообществах. То есть клиенты предлагают свои правки и комментируют изменения других. Магазину нужен инструмент, который будет искать токсичные комментарии и отправлять их на модерацию. \n",
    "\n",
    "Обучите модель классифицировать комментарии на позитивные и негативные. В вашем распоряжении набор данных с разметкой о токсичности правок.\n",
    "\n",
    "Постройте модель со значением метрики качества *F1* не меньше 0.75. \n",
    "\n",
    "**Инструкция по выполнению проекта**\n",
    "\n",
    "1. Загрузите и подготовьте данные.\n",
    "2. Обучите разные модели. \n",
    "3. Сделайте выводы.\n",
    "\n",
    "Для выполнения проекта применять *BERT* необязательно, но вы можете попробовать.\n",
    "\n",
    "**Описание данных**\n",
    "\n",
    "Данные находятся в файле `toxic_comments.csv`. Столбец *text* в нём содержит текст комментария, а *toxic* — целевой признак."
   ]
  },
  {
   "cell_type": "markdown",
   "metadata": {},
   "source": [
    "## Подготовка"
   ]
  },
  {
   "cell_type": "code",
   "execution_count": 1,
   "metadata": {},
   "outputs": [],
   "source": [
    "import pandas as pd\n",
    "import numpy as np\n",
    "from pymystem3 import Mystem\n",
    "import re\n",
    "import nltk\n",
    "from nltk.corpus import stopwords\n",
    "from sklearn.feature_extraction.text import TfidfVectorizer\n",
    "from sklearn.feature_extraction.text import TfidfTransformer\n",
    "from sklearn.feature_extraction.text import CountVectorizer\n",
    "from sklearn.model_selection import train_test_split\n",
    "from sklearn.linear_model import LogisticRegression\n",
    "from sklearn.ensemble import RandomForestClassifier\n",
    "from sklearn.metrics import make_scorer\n",
    "from sklearn.model_selection import cross_validate\n",
    "from sklearn.metrics import f1_score\n",
    "from sklearn.metrics import classification_report\n",
    "from sklearn.model_selection import GridSearchCV\n",
    "from sklearn.dummy import DummyClassifier\n",
    "from sklearn.feature_extraction import text\n",
    "from sklearn.pipeline import Pipeline\n",
    "import warnings\n",
    "warnings.filterwarnings(\"ignore\")"
   ]
  },
  {
   "cell_type": "markdown",
   "metadata": {},
   "source": [
    "<div class=\"alert alert-block alert-success\">\n",
    "<b>Успех:</b> Отлично, что все импорты собраны в первой ячейке ноутбука! Если у того, кто будет запускать твой ноутбук будут отсутствовать некоторые библиотеки, то он это увидит сразу, а не в процессе!\n",
    "</div>"
   ]
  },
  {
   "cell_type": "code",
   "execution_count": 2,
   "metadata": {},
   "outputs": [],
   "source": [
    "data = pd.read_csv('/datasets/toxic_comments.csv')"
   ]
  },
  {
   "cell_type": "code",
   "execution_count": 3,
   "metadata": {},
   "outputs": [
    {
     "data": {
      "text/plain": [
       "0    0.898321\n",
       "1    0.101679\n",
       "Name: toxic, dtype: float64"
      ]
     },
     "execution_count": 3,
     "metadata": {},
     "output_type": "execute_result"
    }
   ],
   "source": [
    "data['toxic'].value_counts(normalize=True)"
   ]
  },
  {
   "cell_type": "code",
   "execution_count": 4,
   "metadata": {},
   "outputs": [
    {
     "name": "stdout",
     "output_type": "stream",
     "text": [
      "<class 'pandas.core.frame.DataFrame'>\n",
      "RangeIndex: 159571 entries, 0 to 159570\n",
      "Data columns (total 2 columns):\n",
      " #   Column  Non-Null Count   Dtype \n",
      "---  ------  --------------   ----- \n",
      " 0   text    159571 non-null  object\n",
      " 1   toxic   159571 non-null  int64 \n",
      "dtypes: int64(1), object(1)\n",
      "memory usage: 2.4+ MB\n"
     ]
    }
   ],
   "source": [
    "data.info()"
   ]
  },
  {
   "cell_type": "code",
   "execution_count": 5,
   "metadata": {},
   "outputs": [],
   "source": [
    "w_tokenizer = nltk.tokenize.WhitespaceTokenizer()\n",
    "lemmatizer = nltk.stem.WordNetLemmatizer()"
   ]
  },
  {
   "cell_type": "code",
   "execution_count": 7,
   "metadata": {},
   "outputs": [
    {
     "data": {
      "text/html": [
       "<div>\n",
       "<style scoped>\n",
       "    .dataframe tbody tr th:only-of-type {\n",
       "        vertical-align: middle;\n",
       "    }\n",
       "\n",
       "    .dataframe tbody tr th {\n",
       "        vertical-align: top;\n",
       "    }\n",
       "\n",
       "    .dataframe thead th {\n",
       "        text-align: right;\n",
       "    }\n",
       "</style>\n",
       "<table border=\"1\" class=\"dataframe\">\n",
       "  <thead>\n",
       "    <tr style=\"text-align: right;\">\n",
       "      <th></th>\n",
       "      <th>text</th>\n",
       "      <th>toxic</th>\n",
       "      <th>lemmatized_text</th>\n",
       "    </tr>\n",
       "  </thead>\n",
       "  <tbody>\n",
       "    <tr>\n",
       "      <th>0</th>\n",
       "      <td>Explanation\\nWhy the edits made under my usern...</td>\n",
       "      <td>0</td>\n",
       "      <td>explanation why the edits made under my userna...</td>\n",
       "    </tr>\n",
       "    <tr>\n",
       "      <th>1</th>\n",
       "      <td>D'aww! He matches this background colour I'm s...</td>\n",
       "      <td>0</td>\n",
       "      <td>d aww he matches this background colour i m se...</td>\n",
       "    </tr>\n",
       "    <tr>\n",
       "      <th>2</th>\n",
       "      <td>Hey man, I'm really not trying to edit war. It...</td>\n",
       "      <td>0</td>\n",
       "      <td>hey man i m really not trying to edit war it s...</td>\n",
       "    </tr>\n",
       "    <tr>\n",
       "      <th>3</th>\n",
       "      <td>\"\\nMore\\nI can't make any real suggestions on ...</td>\n",
       "      <td>0</td>\n",
       "      <td>more i can t make any real suggestions on impr...</td>\n",
       "    </tr>\n",
       "    <tr>\n",
       "      <th>4</th>\n",
       "      <td>You, sir, are my hero. Any chance you remember...</td>\n",
       "      <td>0</td>\n",
       "      <td>you sir are my hero any chance you remember wh...</td>\n",
       "    </tr>\n",
       "    <tr>\n",
       "      <th>...</th>\n",
       "      <td>...</td>\n",
       "      <td>...</td>\n",
       "      <td>...</td>\n",
       "    </tr>\n",
       "    <tr>\n",
       "      <th>159566</th>\n",
       "      <td>\":::::And for the second time of asking, when ...</td>\n",
       "      <td>0</td>\n",
       "      <td>and for the second time of asking when your vi...</td>\n",
       "    </tr>\n",
       "    <tr>\n",
       "      <th>159567</th>\n",
       "      <td>You should be ashamed of yourself \\n\\nThat is ...</td>\n",
       "      <td>0</td>\n",
       "      <td>you should be ashamed of yourself that is a ho...</td>\n",
       "    </tr>\n",
       "    <tr>\n",
       "      <th>159568</th>\n",
       "      <td>Spitzer \\n\\nUmm, theres no actual article for ...</td>\n",
       "      <td>0</td>\n",
       "      <td>spitzer umm theres no actual article for prost...</td>\n",
       "    </tr>\n",
       "    <tr>\n",
       "      <th>159569</th>\n",
       "      <td>And it looks like it was actually you who put ...</td>\n",
       "      <td>0</td>\n",
       "      <td>and it looks like it was actually you who put ...</td>\n",
       "    </tr>\n",
       "    <tr>\n",
       "      <th>159570</th>\n",
       "      <td>\"\\nAnd ... I really don't think you understand...</td>\n",
       "      <td>0</td>\n",
       "      <td>and i really don t think you understand i came...</td>\n",
       "    </tr>\n",
       "  </tbody>\n",
       "</table>\n",
       "<p>159571 rows × 3 columns</p>\n",
       "</div>"
      ],
      "text/plain": [
       "                                                     text  toxic  \\\n",
       "0       Explanation\\nWhy the edits made under my usern...      0   \n",
       "1       D'aww! He matches this background colour I'm s...      0   \n",
       "2       Hey man, I'm really not trying to edit war. It...      0   \n",
       "3       \"\\nMore\\nI can't make any real suggestions on ...      0   \n",
       "4       You, sir, are my hero. Any chance you remember...      0   \n",
       "...                                                   ...    ...   \n",
       "159566  \":::::And for the second time of asking, when ...      0   \n",
       "159567  You should be ashamed of yourself \\n\\nThat is ...      0   \n",
       "159568  Spitzer \\n\\nUmm, theres no actual article for ...      0   \n",
       "159569  And it looks like it was actually you who put ...      0   \n",
       "159570  \"\\nAnd ... I really don't think you understand...      0   \n",
       "\n",
       "                                          lemmatized_text  \n",
       "0       explanation why the edits made under my userna...  \n",
       "1       d aww he matches this background colour i m se...  \n",
       "2       hey man i m really not trying to edit war it s...  \n",
       "3       more i can t make any real suggestions on impr...  \n",
       "4       you sir are my hero any chance you remember wh...  \n",
       "...                                                   ...  \n",
       "159566  and for the second time of asking when your vi...  \n",
       "159567  you should be ashamed of yourself that is a ho...  \n",
       "159568  spitzer umm theres no actual article for prost...  \n",
       "159569  and it looks like it was actually you who put ...  \n",
       "159570  and i really don t think you understand i came...  \n",
       "\n",
       "[159571 rows x 3 columns]"
      ]
     },
     "execution_count": 7,
     "metadata": {},
     "output_type": "execute_result"
    }
   ],
   "source": [
    "m = Mystem()\n",
    "texts =[]\n",
    "for text in data['text'].values:\n",
    "    text = text.lower()\n",
    "    token_text = w_tokenizer.tokenize(text)\n",
    "    lemm_text = lemmatizer.lemmatize(str(token_text))\n",
    "    clear_text = re.sub(r'[^a-zA-Z]', ' ' , str(lemm_text))\n",
    "    text_clear = \" \".join(clear_text.split())\n",
    "    texts.append(text_clear)\n",
    "    \n",
    "lemmatized_text = pd.Series(texts, name='lemmatized_text')\n",
    "data_lemmatized = pd.concat([data, lemmatized_text], axis=1)\n",
    "data_lemmatized"
   ]
  },
  {
   "cell_type": "code",
   "execution_count": 8,
   "metadata": {},
   "outputs": [
    {
     "data": {
      "text/html": [
       "<div>\n",
       "<style scoped>\n",
       "    .dataframe tbody tr th:only-of-type {\n",
       "        vertical-align: middle;\n",
       "    }\n",
       "\n",
       "    .dataframe tbody tr th {\n",
       "        vertical-align: top;\n",
       "    }\n",
       "\n",
       "    .dataframe thead th {\n",
       "        text-align: right;\n",
       "    }\n",
       "</style>\n",
       "<table border=\"1\" class=\"dataframe\">\n",
       "  <thead>\n",
       "    <tr style=\"text-align: right;\">\n",
       "      <th></th>\n",
       "      <th>text</th>\n",
       "      <th>toxic</th>\n",
       "      <th>lemmatized_text</th>\n",
       "    </tr>\n",
       "  </thead>\n",
       "  <tbody>\n",
       "    <tr>\n",
       "      <th>45800</th>\n",
       "      <td>I have offered as well...but he must do my map...</td>\n",
       "      <td>0</td>\n",
       "      <td>i have offered as well but he must do my map f...</td>\n",
       "    </tr>\n",
       "    <tr>\n",
       "      <th>94209</th>\n",
       "      <td>YOUR biased! ORTHODOX VIEWS have no more merit...</td>\n",
       "      <td>0</td>\n",
       "      <td>your biased orthodox views have no more merit ...</td>\n",
       "    </tr>\n",
       "    <tr>\n",
       "      <th>135210</th>\n",
       "      <td>Thank you very much for your quick respond and...</td>\n",
       "      <td>0</td>\n",
       "      <td>thank you very much for your quick respond and...</td>\n",
       "    </tr>\n",
       "    <tr>\n",
       "      <th>89158</th>\n",
       "      <td>I moved this page.  When I did, I found anothe...</td>\n",
       "      <td>0</td>\n",
       "      <td>i moved this page when i did i found another l...</td>\n",
       "    </tr>\n",
       "    <tr>\n",
       "      <th>61233</th>\n",
       "      <td>Gray Powell article nominated for deletion \\nN...</td>\n",
       "      <td>0</td>\n",
       "      <td>gray powell article nominated for deletion nom...</td>\n",
       "    </tr>\n",
       "    <tr>\n",
       "      <th>...</th>\n",
       "      <td>...</td>\n",
       "      <td>...</td>\n",
       "      <td>...</td>\n",
       "    </tr>\n",
       "    <tr>\n",
       "      <th>109993</th>\n",
       "      <td>Gam, keep your CRAP off my Talk Page\\n\\nYour K...</td>\n",
       "      <td>0</td>\n",
       "      <td>gam keep your crap off my talk page your kkk s...</td>\n",
       "    </tr>\n",
       "    <tr>\n",
       "      <th>85412</th>\n",
       "      <td>I corrected what you listed.-</td>\n",
       "      <td>0</td>\n",
       "      <td>i corrected what you listed</td>\n",
       "    </tr>\n",
       "    <tr>\n",
       "      <th>133249</th>\n",
       "      <td>\"\\n\\nhmm, yes, as I said: I also \"\"watch\"\" the...</td>\n",
       "      <td>0</td>\n",
       "      <td>hmm yes as i said i also watch the emily ruete...</td>\n",
       "    </tr>\n",
       "    <tr>\n",
       "      <th>130333</th>\n",
       "      <td>kinda like miachael jackson</td>\n",
       "      <td>0</td>\n",
       "      <td>kinda like miachael jackson</td>\n",
       "    </tr>\n",
       "    <tr>\n",
       "      <th>77285</th>\n",
       "      <td>criteria for deletion \\nI'm just wondering, wh...</td>\n",
       "      <td>0</td>\n",
       "      <td>criteria for deletion i m just wondering what ...</td>\n",
       "    </tr>\n",
       "  </tbody>\n",
       "</table>\n",
       "<p>127656 rows × 3 columns</p>\n",
       "</div>"
      ],
      "text/plain": [
       "                                                     text  toxic  \\\n",
       "45800   I have offered as well...but he must do my map...      0   \n",
       "94209   YOUR biased! ORTHODOX VIEWS have no more merit...      0   \n",
       "135210  Thank you very much for your quick respond and...      0   \n",
       "89158   I moved this page.  When I did, I found anothe...      0   \n",
       "61233   Gray Powell article nominated for deletion \\nN...      0   \n",
       "...                                                   ...    ...   \n",
       "109993  Gam, keep your CRAP off my Talk Page\\n\\nYour K...      0   \n",
       "85412                       I corrected what you listed.-      0   \n",
       "133249  \"\\n\\nhmm, yes, as I said: I also \"\"watch\"\" the...      0   \n",
       "130333                        kinda like miachael jackson      0   \n",
       "77285   criteria for deletion \\nI'm just wondering, wh...      0   \n",
       "\n",
       "                                          lemmatized_text  \n",
       "45800   i have offered as well but he must do my map f...  \n",
       "94209   your biased orthodox views have no more merit ...  \n",
       "135210  thank you very much for your quick respond and...  \n",
       "89158   i moved this page when i did i found another l...  \n",
       "61233   gray powell article nominated for deletion nom...  \n",
       "...                                                   ...  \n",
       "109993  gam keep your crap off my talk page your kkk s...  \n",
       "85412                         i corrected what you listed  \n",
       "133249  hmm yes as i said i also watch the emily ruete...  \n",
       "130333                        kinda like miachael jackson  \n",
       "77285   criteria for deletion i m just wondering what ...  \n",
       "\n",
       "[127656 rows x 3 columns]"
      ]
     },
     "execution_count": 8,
     "metadata": {},
     "output_type": "execute_result"
    }
   ],
   "source": [
    "data_lemmatized_features, data_lemmatized_test = train_test_split(data_lemmatized, test_size = 0.2, random_state=12345)\n",
    "target_test = data_lemmatized_test['toxic']\n",
    "features_test = data_lemmatized_test.drop(['toxic'], axis = 1)\n",
    "data_lemmatized_features"
   ]
  },
  {
   "cell_type": "code",
   "execution_count": 9,
   "metadata": {},
   "outputs": [
    {
     "data": {
      "text/html": [
       "<div>\n",
       "<style scoped>\n",
       "    .dataframe tbody tr th:only-of-type {\n",
       "        vertical-align: middle;\n",
       "    }\n",
       "\n",
       "    .dataframe tbody tr th {\n",
       "        vertical-align: top;\n",
       "    }\n",
       "\n",
       "    .dataframe thead th {\n",
       "        text-align: right;\n",
       "    }\n",
       "</style>\n",
       "<table border=\"1\" class=\"dataframe\">\n",
       "  <thead>\n",
       "    <tr style=\"text-align: right;\">\n",
       "      <th></th>\n",
       "      <th>text</th>\n",
       "      <th>lemmatized_text</th>\n",
       "    </tr>\n",
       "  </thead>\n",
       "  <tbody>\n",
       "    <tr>\n",
       "      <th>146790</th>\n",
       "      <td>Ahh shut the fuck up you douchebag sand nigger...</td>\n",
       "      <td>ahh shut the fuck up you douchebag sand nigger...</td>\n",
       "    </tr>\n",
       "    <tr>\n",
       "      <th>2941</th>\n",
       "      <td>\"\\n\\nREPLY: There is no such thing as Texas Co...</td>\n",
       "      <td>reply there is no such thing as texas commerce...</td>\n",
       "    </tr>\n",
       "    <tr>\n",
       "      <th>115087</th>\n",
       "      <td>Reply\\nHey, you could at least mention Jasenov...</td>\n",
       "      <td>reply hey you could at least mention jasenovac...</td>\n",
       "    </tr>\n",
       "    <tr>\n",
       "      <th>48830</th>\n",
       "      <td>Thats fine, there is no deadline )   chi?</td>\n",
       "      <td>thats fine there is no deadline chi</td>\n",
       "    </tr>\n",
       "    <tr>\n",
       "      <th>136034</th>\n",
       "      <td>\"\\n\\nDYK nomination of Mustarabim\\n Hello! You...</td>\n",
       "      <td>dyk nomination of mustarabim hello your submis...</td>\n",
       "    </tr>\n",
       "    <tr>\n",
       "      <th>...</th>\n",
       "      <td>...</td>\n",
       "      <td>...</td>\n",
       "    </tr>\n",
       "    <tr>\n",
       "      <th>32895</th>\n",
       "      <td>I agree with Paul, and i'm going to revert it ...</td>\n",
       "      <td>i agree with paul and i m going to revert it w...</td>\n",
       "    </tr>\n",
       "    <tr>\n",
       "      <th>18757</th>\n",
       "      <td>I never came across a rule that you can't use ...</td>\n",
       "      <td>i never came across a rule that you can t use ...</td>\n",
       "    </tr>\n",
       "    <tr>\n",
       "      <th>5679</th>\n",
       "      <td>Autzen was not built on a landfill! The landfi...</td>\n",
       "      <td>autzen was not built on a landfill the landfil...</td>\n",
       "    </tr>\n",
       "    <tr>\n",
       "      <th>139386</th>\n",
       "      <td>\"IF YOU DONT LIKE ME LEAVING NASTY MESSAGES AN...</td>\n",
       "      <td>if you dont like me leaving nasty messages and...</td>\n",
       "    </tr>\n",
       "    <tr>\n",
       "      <th>124528</th>\n",
       "      <td>\"==Notability of The Thousandaires==\\n A tag h...</td>\n",
       "      <td>notability of the thousandaires a tag has been...</td>\n",
       "    </tr>\n",
       "  </tbody>\n",
       "</table>\n",
       "<p>31915 rows × 2 columns</p>\n",
       "</div>"
      ],
      "text/plain": [
       "                                                     text  \\\n",
       "146790  Ahh shut the fuck up you douchebag sand nigger...   \n",
       "2941    \"\\n\\nREPLY: There is no such thing as Texas Co...   \n",
       "115087  Reply\\nHey, you could at least mention Jasenov...   \n",
       "48830           Thats fine, there is no deadline )   chi?   \n",
       "136034  \"\\n\\nDYK nomination of Mustarabim\\n Hello! You...   \n",
       "...                                                   ...   \n",
       "32895   I agree with Paul, and i'm going to revert it ...   \n",
       "18757   I never came across a rule that you can't use ...   \n",
       "5679    Autzen was not built on a landfill! The landfi...   \n",
       "139386  \"IF YOU DONT LIKE ME LEAVING NASTY MESSAGES AN...   \n",
       "124528  \"==Notability of The Thousandaires==\\n A tag h...   \n",
       "\n",
       "                                          lemmatized_text  \n",
       "146790  ahh shut the fuck up you douchebag sand nigger...  \n",
       "2941    reply there is no such thing as texas commerce...  \n",
       "115087  reply hey you could at least mention jasenovac...  \n",
       "48830                 thats fine there is no deadline chi  \n",
       "136034  dyk nomination of mustarabim hello your submis...  \n",
       "...                                                   ...  \n",
       "32895   i agree with paul and i m going to revert it w...  \n",
       "18757   i never came across a rule that you can t use ...  \n",
       "5679    autzen was not built on a landfill the landfil...  \n",
       "139386  if you dont like me leaving nasty messages and...  \n",
       "124528  notability of the thousandaires a tag has been...  \n",
       "\n",
       "[31915 rows x 2 columns]"
      ]
     },
     "execution_count": 9,
     "metadata": {},
     "output_type": "execute_result"
    }
   ],
   "source": [
    "features_test"
   ]
  },
  {
   "cell_type": "code",
   "execution_count": 10,
   "metadata": {},
   "outputs": [],
   "source": [
    "count_tf_idf = TfidfVectorizer(stop_words = 'english', ngram_range=(1,3), min_df=3, max_df=0.9, use_idf=1, \n",
    "                               smooth_idf=1, sublinear_tf=1)\n",
    "features_train = count_tf_idf.fit_transform(data_lemmatized_features['lemmatized_text'].values)\n",
    "target_train = data_lemmatized_features['toxic']\n",
    "features_test = count_tf_idf.transform(features_test['lemmatized_text'].values)\n",
    "X = data_lemmatized_features['lemmatized_text']\n",
    "X_test = data_lemmatized_test['lemmatized_text']"
   ]
  },
  {
   "cell_type": "markdown",
   "metadata": {},
   "source": [
    "Загружен файл с размеченными токсичными комментариями. Файл состоит из 159 тыс. записей. Файл не содержит пропуски в данных. 10 % (несбалансированные данные) комментариев отмеченны как токсичные. Лемметизируем столбец text для его последующей векторизации и использовании в моделях машинного обучения. Выделим тренировочную и тестовую выборки целевых показателей и признаков."
   ]
  },
  {
   "cell_type": "markdown",
   "metadata": {},
   "source": [
    "## Обучение"
   ]
  },
  {
   "cell_type": "markdown",
   "metadata": {},
   "source": [
    "### Логистическая регрессия"
   ]
  },
  {
   "cell_type": "code",
   "execution_count": 11,
   "metadata": {},
   "outputs": [],
   "source": [
    "score = make_scorer(f1_score, greater_is_better=True)"
   ]
  },
  {
   "cell_type": "code",
   "execution_count": 12,
   "metadata": {},
   "outputs": [],
   "source": [
    "param_set = {\n",
    " 'lr__max_iter': [100]\n",
    "}"
   ]
  },
  {
   "cell_type": "code",
   "execution_count": 13,
   "metadata": {},
   "outputs": [],
   "source": [
    "pipe_lr = Pipeline([('vect', TfidfVectorizer(stop_words = 'english', ngram_range=(1,3), min_df=3, max_df=0.9, use_idf=1, \n",
    "                             smooth_idf=1, sublinear_tf=1)),\n",
    "                    ('tfidf', TfidfTransformer()),\n",
    "                    ('lr', LogisticRegression(random_state = 12345, class_weight='balanced'))\n",
    "                   ])\n"
   ]
  },
  {
   "cell_type": "code",
   "execution_count": 14,
   "metadata": {},
   "outputs": [
    {
     "name": "stdout",
     "output_type": "stream",
     "text": [
      "Мера f1 для логистической регрессии:0.9051796743402584\n"
     ]
    }
   ],
   "source": [
    "model_lr = GridSearchCV(estimator = pipe_lr, param_grid=param_set, cv=2, scoring = score)\n",
    "model_lr.fit(X, target_train)\n",
    "f1_score_lr = model_lr.score(X, target_train)\n",
    "print(f'Мера f1 для логистической регрессии:{f1_score_lr}')"
   ]
  },
  {
   "cell_type": "markdown",
   "metadata": {},
   "source": [
    "### Случайный лес"
   ]
  },
  {
   "cell_type": "code",
   "execution_count": 15,
   "metadata": {},
   "outputs": [],
   "source": [
    "pipe_rf = Pipeline([('vect', TfidfVectorizer(stop_words = 'english', ngram_range=(1,3), min_df=3, max_df=0.9, use_idf=1, \n",
    "                             smooth_idf=1, sublinear_tf=1)),\n",
    "                    ('tfidf', TfidfTransformer()),\n",
    "                    ('rf', RandomForestClassifier(random_state = 12345, class_weight='balanced'))\n",
    "                   ])"
   ]
  },
  {
   "cell_type": "code",
   "execution_count": 16,
   "metadata": {},
   "outputs": [],
   "source": [
    "param_set = {\n",
    " 'rf__n_estimators':[100, 120, 150, 200],\n",
    " 'rf__max_depth': [12, 15, 20, 25]\n",
    "}"
   ]
  },
  {
   "cell_type": "code",
   "execution_count": 17,
   "metadata": {},
   "outputs": [
    {
     "name": "stdout",
     "output_type": "stream",
     "text": [
      "Мера f1 для случайного леса:0.38152494549185584\n"
     ]
    }
   ],
   "source": [
    "model_rf = GridSearchCV(estimator = pipe_rf, param_grid = param_set, cv=2, scoring = score)\n",
    "model_rf.fit(X, target_train)\n",
    "f1_score_rf = model_rf.score(X, target_train)\n",
    "print(f'Мера f1 для случайного леса:{f1_score_rf}')"
   ]
  },
  {
   "cell_type": "code",
   "execution_count": 18,
   "metadata": {},
   "outputs": [
    {
     "data": {
      "text/plain": [
       "{'rf__max_depth': 15, 'rf__n_estimators': 150}"
      ]
     },
     "execution_count": 18,
     "metadata": {},
     "output_type": "execute_result"
    }
   ],
   "source": [
    "model_rf.best_params_"
   ]
  },
  {
   "cell_type": "markdown",
   "metadata": {},
   "source": [
    "Обучены модели логистической регрессии без подбора параметров и случайного леса с подбором параметров, в гиперпараметрах обеих моделей указан параметр балансировки несбалансированных данных. F1 мера для логистической регрессии 0,76, для случайного леса 0,39."
   ]
  },
  {
   "cell_type": "markdown",
   "metadata": {},
   "source": [
    "## Выводы"
   ]
  },
  {
   "cell_type": "markdown",
   "metadata": {},
   "source": [
    "### Логистическая регрессия"
   ]
  },
  {
   "cell_type": "code",
   "execution_count": 19,
   "metadata": {},
   "outputs": [
    {
     "name": "stdout",
     "output_type": "stream",
     "text": [
      "Мера f1 для логистической регрессии:0.7696563774024462\n"
     ]
    }
   ],
   "source": [
    "predict_lr = model_lr.predict(X_test)\n",
    "f1_score_lr_test = f1_score(target_test, predict_lr)\n",
    "print(f'Мера f1 для логистической регрессии:{f1_score_lr_test}')"
   ]
  },
  {
   "cell_type": "code",
   "execution_count": 20,
   "metadata": {},
   "outputs": [
    {
     "name": "stdout",
     "output_type": "stream",
     "text": [
      "              precision    recall  f1-score   support\n",
      "\n",
      "   not_toxic       0.98      0.97      0.97     28676\n",
      "       toxic       0.73      0.82      0.77      3239\n",
      "\n",
      "    accuracy                           0.95     31915\n",
      "   macro avg       0.85      0.89      0.87     31915\n",
      "weighted avg       0.95      0.95      0.95     31915\n",
      "\n"
     ]
    }
   ],
   "source": [
    "print(classification_report(target_test, predict_lr, \n",
    "                            target_names=['not_toxic', 'toxic']))"
   ]
  },
  {
   "cell_type": "markdown",
   "metadata": {},
   "source": [
    "### Случайный лес"
   ]
  },
  {
   "cell_type": "code",
   "execution_count": 21,
   "metadata": {},
   "outputs": [
    {
     "name": "stdout",
     "output_type": "stream",
     "text": [
      "Мера f1 для случайного леса:0.36432418568863806\n"
     ]
    }
   ],
   "source": [
    "predict_rf = model_rf.predict(X_test)\n",
    "f1_score_rf_test = f1_score(target_test, predict_rf)\n",
    "print(f'Мера f1 для случайного леса:{f1_score_rf_test}')"
   ]
  },
  {
   "cell_type": "code",
   "execution_count": 22,
   "metadata": {},
   "outputs": [
    {
     "name": "stdout",
     "output_type": "stream",
     "text": [
      "              precision    recall  f1-score   support\n",
      "\n",
      "   not_toxic       0.98      0.67      0.79     28676\n",
      "       toxic       0.23      0.88      0.36      3239\n",
      "\n",
      "    accuracy                           0.69     31915\n",
      "   macro avg       0.60      0.77      0.58     31915\n",
      "weighted avg       0.90      0.69      0.75     31915\n",
      "\n"
     ]
    }
   ],
   "source": [
    "print(classification_report(target_test, predict_rf, \n",
    "                            target_names=['not_toxic', 'toxic']))"
   ]
  },
  {
   "cell_type": "markdown",
   "metadata": {},
   "source": [
    "### Случайный классификатор"
   ]
  },
  {
   "cell_type": "code",
   "execution_count": 23,
   "metadata": {},
   "outputs": [
    {
     "name": "stdout",
     "output_type": "stream",
     "text": [
      "Мера f1 для мнимый классификатор :0.16850426461410445\n"
     ]
    }
   ],
   "source": [
    "dc = DummyClassifier(random_state = 12345, strategy='uniform')\n",
    "dc.fit(X, target_train)\n",
    "predict_dc = dc.predict(X_test)\n",
    "f1_score_dc = f1_score(target_test, predict_dc)\n",
    "print(f'Мера f1 для мнимый классификатор :{f1_score_dc}')"
   ]
  },
  {
   "cell_type": "code",
   "execution_count": 24,
   "metadata": {},
   "outputs": [
    {
     "name": "stdout",
     "output_type": "stream",
     "text": [
      "              precision    recall  f1-score   support\n",
      "\n",
      "   not_toxic       0.90      0.50      0.64     28676\n",
      "       toxic       0.10      0.50      0.17      3239\n",
      "\n",
      "    accuracy                           0.50     31915\n",
      "   macro avg       0.50      0.50      0.41     31915\n",
      "weighted avg       0.82      0.50      0.59     31915\n",
      "\n"
     ]
    }
   ],
   "source": [
    "print(classification_report(target_test, predict_dc, \n",
    "                            target_names=['not_toxic', 'toxic']))"
   ]
  },
  {
   "cell_type": "markdown",
   "metadata": {},
   "source": [
    "На тестовой выборке сделаны предсказания токсичности комментариев и рассчитана f1 мера. Логистическая регрессия - 0,76, случайный лес - 0,37, мнимый классификатор - 0.17. Для предсказаний классификации текстовых данных предлагается использовать модель логистической регрессии."
   ]
  },
  {
   "cell_type": "code",
   "execution_count": null,
   "metadata": {},
   "outputs": [],
   "source": []
  }
 ],
 "metadata": {
  "ExecuteTimeLog": [
   {
    "duration": 450,
    "start_time": "2022-07-19T07:21:26.132Z"
   },
   {
    "duration": 66,
    "start_time": "2022-07-19T07:21:27.421Z"
   },
   {
    "duration": 32,
    "start_time": "2022-07-19T07:21:36.467Z"
   },
   {
    "duration": 2204,
    "start_time": "2022-07-19T07:22:18.457Z"
   },
   {
    "duration": 14,
    "start_time": "2022-07-19T07:22:24.401Z"
   },
   {
    "duration": 503,
    "start_time": "2022-07-19T10:36:22.583Z"
   },
   {
    "duration": 0,
    "start_time": "2022-07-19T10:36:23.088Z"
   },
   {
    "duration": 0,
    "start_time": "2022-07-19T10:36:23.089Z"
   },
   {
    "duration": 0,
    "start_time": "2022-07-19T10:36:23.090Z"
   },
   {
    "duration": 374,
    "start_time": "2022-07-19T10:36:38.910Z"
   },
   {
    "duration": 2480,
    "start_time": "2022-07-19T10:36:39.286Z"
   },
   {
    "duration": 15,
    "start_time": "2022-07-19T10:36:41.768Z"
   },
   {
    "duration": 33,
    "start_time": "2022-07-19T10:36:41.784Z"
   },
   {
    "duration": 374,
    "start_time": "2022-07-19T10:36:54.859Z"
   },
   {
    "duration": 818,
    "start_time": "2022-07-19T10:36:55.236Z"
   },
   {
    "duration": 14,
    "start_time": "2022-07-19T10:36:56.056Z"
   },
   {
    "duration": 44,
    "start_time": "2022-07-19T10:36:56.072Z"
   },
   {
    "duration": 4,
    "start_time": "2022-07-19T10:41:48.977Z"
   },
   {
    "duration": 1149,
    "start_time": "2022-07-19T10:42:54.441Z"
   },
   {
    "duration": 3,
    "start_time": "2022-07-19T10:43:03.289Z"
   },
   {
    "duration": 427,
    "start_time": "2022-07-19T10:43:09.385Z"
   },
   {
    "duration": 782,
    "start_time": "2022-07-19T10:43:09.815Z"
   },
   {
    "duration": 17,
    "start_time": "2022-07-19T10:43:10.598Z"
   },
   {
    "duration": 46,
    "start_time": "2022-07-19T10:43:10.617Z"
   },
   {
    "duration": 22,
    "start_time": "2022-07-19T10:43:10.665Z"
   },
   {
    "duration": 1076,
    "start_time": "2022-07-19T10:43:10.690Z"
   },
   {
    "duration": 5,
    "start_time": "2022-07-19T10:43:31.477Z"
   },
   {
    "duration": 1308,
    "start_time": "2022-07-19T10:43:32.038Z"
   },
   {
    "duration": 1297,
    "start_time": "2022-07-19T10:49:21.553Z"
   },
   {
    "duration": 2464,
    "start_time": "2022-07-19T10:49:22.852Z"
   },
   {
    "duration": 32,
    "start_time": "2022-07-19T10:49:25.320Z"
   },
   {
    "duration": 44,
    "start_time": "2022-07-19T10:49:25.355Z"
   },
   {
    "duration": 53,
    "start_time": "2022-07-19T10:51:59.144Z"
   },
   {
    "duration": 528,
    "start_time": "2022-07-19T10:52:24.981Z"
   },
   {
    "duration": 2314,
    "start_time": "2022-07-19T10:52:25.511Z"
   },
   {
    "duration": 18,
    "start_time": "2022-07-19T10:52:27.828Z"
   },
   {
    "duration": 55,
    "start_time": "2022-07-19T10:52:27.848Z"
   },
   {
    "duration": 1936,
    "start_time": "2022-07-19T10:52:27.906Z"
   },
   {
    "duration": 7,
    "start_time": "2022-07-19T10:52:29.844Z"
   },
   {
    "duration": 58,
    "start_time": "2022-07-19T10:53:00.466Z"
   },
   {
    "duration": 419,
    "start_time": "2022-07-19T10:53:12.212Z"
   },
   {
    "duration": 2499,
    "start_time": "2022-07-19T10:53:12.633Z"
   },
   {
    "duration": 19,
    "start_time": "2022-07-19T10:53:15.138Z"
   },
   {
    "duration": 48,
    "start_time": "2022-07-19T10:53:15.159Z"
   },
   {
    "duration": 2038,
    "start_time": "2022-07-19T10:53:15.209Z"
   },
   {
    "duration": 6,
    "start_time": "2022-07-19T10:53:17.249Z"
   },
   {
    "duration": 13,
    "start_time": "2022-07-19T10:53:17.256Z"
   },
   {
    "duration": 75,
    "start_time": "2022-07-19T10:54:23.973Z"
   },
   {
    "duration": 61,
    "start_time": "2022-07-19T10:54:31.100Z"
   },
   {
    "duration": 480,
    "start_time": "2022-07-19T10:54:37.286Z"
   },
   {
    "duration": 843,
    "start_time": "2022-07-19T10:54:37.769Z"
   },
   {
    "duration": 21,
    "start_time": "2022-07-19T10:54:38.614Z"
   },
   {
    "duration": 49,
    "start_time": "2022-07-19T10:54:38.639Z"
   },
   {
    "duration": 64,
    "start_time": "2022-07-19T10:54:38.690Z"
   },
   {
    "duration": 5,
    "start_time": "2022-07-19T10:54:38.757Z"
   },
   {
    "duration": 63,
    "start_time": "2022-07-19T10:54:38.764Z"
   },
   {
    "duration": 62,
    "start_time": "2022-07-19T10:54:47.684Z"
   },
   {
    "duration": 79,
    "start_time": "2022-07-19T10:54:56.427Z"
   },
   {
    "duration": 3,
    "start_time": "2022-07-19T10:55:22.562Z"
   },
   {
    "duration": 1130,
    "start_time": "2022-07-19T10:55:32.490Z"
   },
   {
    "duration": 4,
    "start_time": "2022-07-19T11:02:39.682Z"
   },
   {
    "duration": 286,
    "start_time": "2022-07-19T11:02:40.569Z"
   },
   {
    "duration": 4,
    "start_time": "2022-07-19T11:02:57.048Z"
   },
   {
    "duration": 420,
    "start_time": "2022-07-19T11:02:57.601Z"
   },
   {
    "duration": 294,
    "start_time": "2022-07-19T11:04:09.520Z"
   },
   {
    "duration": 345,
    "start_time": "2022-07-19T11:06:43.241Z"
   },
   {
    "duration": 793,
    "start_time": "2022-07-19T11:06:43.588Z"
   },
   {
    "duration": 21,
    "start_time": "2022-07-19T11:06:44.383Z"
   },
   {
    "duration": 29,
    "start_time": "2022-07-19T11:06:44.406Z"
   },
   {
    "duration": 66,
    "start_time": "2022-07-19T11:06:44.437Z"
   },
   {
    "duration": 3,
    "start_time": "2022-07-19T11:06:44.505Z"
   },
   {
    "duration": 439,
    "start_time": "2022-07-19T11:06:44.509Z"
   },
   {
    "duration": 4,
    "start_time": "2022-07-19T11:07:12.944Z"
   },
   {
    "duration": 877,
    "start_time": "2022-07-19T11:07:13.457Z"
   },
   {
    "duration": 371,
    "start_time": "2022-07-19T11:08:16.632Z"
   },
   {
    "duration": 759,
    "start_time": "2022-07-19T11:08:17.005Z"
   },
   {
    "duration": 14,
    "start_time": "2022-07-19T11:08:17.766Z"
   },
   {
    "duration": 39,
    "start_time": "2022-07-19T11:08:17.782Z"
   },
   {
    "duration": 26,
    "start_time": "2022-07-19T11:08:17.822Z"
   },
   {
    "duration": 8,
    "start_time": "2022-07-19T11:08:17.849Z"
   },
   {
    "duration": 1074,
    "start_time": "2022-07-19T11:08:17.858Z"
   },
   {
    "duration": 82,
    "start_time": "2022-07-19T11:08:39.379Z"
   },
   {
    "duration": 4,
    "start_time": "2022-07-19T11:17:55.062Z"
   },
   {
    "duration": 210,
    "start_time": "2022-07-19T11:17:55.840Z"
   },
   {
    "duration": 3,
    "start_time": "2022-07-19T11:19:42.567Z"
   },
   {
    "duration": 257,
    "start_time": "2022-07-19T11:19:43.494Z"
   },
   {
    "duration": 1268,
    "start_time": "2022-07-19T12:21:01.386Z"
   },
   {
    "duration": 825,
    "start_time": "2022-07-19T12:21:02.656Z"
   },
   {
    "duration": 25,
    "start_time": "2022-07-19T12:21:03.482Z"
   },
   {
    "duration": 42,
    "start_time": "2022-07-19T12:21:03.509Z"
   },
   {
    "duration": 123,
    "start_time": "2022-07-19T12:21:03.553Z"
   },
   {
    "duration": 0,
    "start_time": "2022-07-19T12:21:03.677Z"
   },
   {
    "duration": 0,
    "start_time": "2022-07-19T12:21:03.678Z"
   },
   {
    "duration": 53,
    "start_time": "2022-07-19T12:21:21.925Z"
   },
   {
    "duration": 1214,
    "start_time": "2022-07-19T12:21:27.410Z"
   },
   {
    "duration": 769,
    "start_time": "2022-07-19T12:21:28.626Z"
   },
   {
    "duration": 16,
    "start_time": "2022-07-19T12:21:29.396Z"
   },
   {
    "duration": 33,
    "start_time": "2022-07-19T12:21:29.414Z"
   },
   {
    "duration": 69,
    "start_time": "2022-07-19T12:21:29.449Z"
   },
   {
    "duration": 3,
    "start_time": "2022-07-19T12:21:29.520Z"
   },
   {
    "duration": 1022,
    "start_time": "2022-07-19T12:21:29.525Z"
   },
   {
    "duration": 3,
    "start_time": "2022-07-19T12:24:51.024Z"
   },
   {
    "duration": 3,
    "start_time": "2022-07-19T12:24:54.119Z"
   },
   {
    "duration": 2,
    "start_time": "2022-07-19T12:24:54.594Z"
   },
   {
    "duration": 33757,
    "start_time": "2022-07-19T12:24:56.832Z"
   },
   {
    "duration": 10,
    "start_time": "2022-07-19T12:25:41.002Z"
   },
   {
    "duration": 16,
    "start_time": "2022-07-19T12:26:06.378Z"
   },
   {
    "duration": 1276,
    "start_time": "2022-07-19T12:26:35.063Z"
   },
   {
    "duration": 775,
    "start_time": "2022-07-19T12:26:36.341Z"
   },
   {
    "duration": 15,
    "start_time": "2022-07-19T12:26:37.118Z"
   },
   {
    "duration": 70,
    "start_time": "2022-07-19T12:26:37.135Z"
   },
   {
    "duration": 54,
    "start_time": "2022-07-19T12:26:37.207Z"
   },
   {
    "duration": 2,
    "start_time": "2022-07-19T12:26:37.263Z"
   },
   {
    "duration": 57,
    "start_time": "2022-07-19T12:26:37.267Z"
   },
   {
    "duration": 0,
    "start_time": "2022-07-19T12:26:37.325Z"
   },
   {
    "duration": 0,
    "start_time": "2022-07-19T12:26:37.327Z"
   },
   {
    "duration": 0,
    "start_time": "2022-07-19T12:26:37.328Z"
   },
   {
    "duration": 3,
    "start_time": "2022-07-19T12:26:57.820Z"
   },
   {
    "duration": 2,
    "start_time": "2022-07-19T12:26:58.564Z"
   },
   {
    "duration": 33936,
    "start_time": "2022-07-19T12:26:59.245Z"
   },
   {
    "duration": 21,
    "start_time": "2022-07-19T12:27:33.183Z"
   },
   {
    "duration": 1244,
    "start_time": "2022-07-19T12:28:54.245Z"
   },
   {
    "duration": 785,
    "start_time": "2022-07-19T12:28:55.492Z"
   },
   {
    "duration": 22,
    "start_time": "2022-07-19T12:28:56.279Z"
   },
   {
    "duration": 38,
    "start_time": "2022-07-19T12:28:56.304Z"
   },
   {
    "duration": 89,
    "start_time": "2022-07-19T12:28:56.344Z"
   },
   {
    "duration": 4,
    "start_time": "2022-07-19T12:28:56.435Z"
   },
   {
    "duration": 14,
    "start_time": "2022-07-19T12:28:56.441Z"
   },
   {
    "duration": 11,
    "start_time": "2022-07-19T12:28:56.457Z"
   },
   {
    "duration": 996,
    "start_time": "2022-07-19T12:28:56.470Z"
   },
   {
    "duration": 0,
    "start_time": "2022-07-19T12:28:57.468Z"
   },
   {
    "duration": 3,
    "start_time": "2022-07-19T12:29:51.029Z"
   },
   {
    "duration": 1101,
    "start_time": "2022-07-19T12:29:51.758Z"
   },
   {
    "duration": 1317,
    "start_time": "2022-07-19T12:31:05.568Z"
   },
   {
    "duration": 827,
    "start_time": "2022-07-19T12:31:06.887Z"
   },
   {
    "duration": 16,
    "start_time": "2022-07-19T12:31:07.716Z"
   },
   {
    "duration": 37,
    "start_time": "2022-07-19T12:31:07.734Z"
   },
   {
    "duration": 63,
    "start_time": "2022-07-19T12:31:07.773Z"
   },
   {
    "duration": 2,
    "start_time": "2022-07-19T12:31:07.838Z"
   },
   {
    "duration": 25,
    "start_time": "2022-07-19T12:31:07.842Z"
   },
   {
    "duration": 28,
    "start_time": "2022-07-19T12:31:07.869Z"
   },
   {
    "duration": 1266,
    "start_time": "2022-07-19T12:44:11.656Z"
   },
   {
    "duration": 807,
    "start_time": "2022-07-19T12:44:12.924Z"
   },
   {
    "duration": 15,
    "start_time": "2022-07-19T12:44:13.732Z"
   },
   {
    "duration": 37,
    "start_time": "2022-07-19T12:44:13.749Z"
   },
   {
    "duration": 67,
    "start_time": "2022-07-19T12:44:13.788Z"
   },
   {
    "duration": 3,
    "start_time": "2022-07-19T12:44:13.856Z"
   },
   {
    "duration": 6,
    "start_time": "2022-07-19T12:44:13.861Z"
   },
   {
    "duration": 31,
    "start_time": "2022-07-19T12:44:13.869Z"
   },
   {
    "duration": 1311,
    "start_time": "2022-07-19T13:06:31.019Z"
   },
   {
    "duration": 799,
    "start_time": "2022-07-19T13:06:32.331Z"
   },
   {
    "duration": 16,
    "start_time": "2022-07-19T13:06:33.132Z"
   },
   {
    "duration": 49,
    "start_time": "2022-07-19T13:06:33.150Z"
   },
   {
    "duration": 81,
    "start_time": "2022-07-19T13:06:33.201Z"
   },
   {
    "duration": 14,
    "start_time": "2022-07-19T13:06:33.284Z"
   },
   {
    "duration": 39,
    "start_time": "2022-07-19T13:06:33.302Z"
   },
   {
    "duration": 17,
    "start_time": "2022-07-19T13:06:33.343Z"
   },
   {
    "duration": 1217,
    "start_time": "2022-07-19T13:07:50.265Z"
   },
   {
    "duration": 788,
    "start_time": "2022-07-19T13:07:51.484Z"
   },
   {
    "duration": 16,
    "start_time": "2022-07-19T13:07:52.274Z"
   },
   {
    "duration": 33,
    "start_time": "2022-07-19T13:07:52.300Z"
   },
   {
    "duration": 29,
    "start_time": "2022-07-19T13:07:52.335Z"
   },
   {
    "duration": 6,
    "start_time": "2022-07-19T13:07:52.365Z"
   },
   {
    "duration": 10,
    "start_time": "2022-07-19T13:07:52.372Z"
   },
   {
    "duration": 10,
    "start_time": "2022-07-19T13:07:52.403Z"
   },
   {
    "duration": 1372,
    "start_time": "2022-07-19T13:08:05.666Z"
   },
   {
    "duration": 816,
    "start_time": "2022-07-19T13:08:07.040Z"
   },
   {
    "duration": 15,
    "start_time": "2022-07-19T13:08:07.857Z"
   },
   {
    "duration": 40,
    "start_time": "2022-07-19T13:08:07.874Z"
   },
   {
    "duration": 39,
    "start_time": "2022-07-19T13:08:07.916Z"
   },
   {
    "duration": 5,
    "start_time": "2022-07-19T13:08:07.965Z"
   },
   {
    "duration": 8,
    "start_time": "2022-07-19T13:08:07.971Z"
   },
   {
    "duration": 11,
    "start_time": "2022-07-19T13:08:07.981Z"
   },
   {
    "duration": 1276,
    "start_time": "2022-07-19T13:09:19.981Z"
   },
   {
    "duration": 820,
    "start_time": "2022-07-19T13:09:21.259Z"
   },
   {
    "duration": 27,
    "start_time": "2022-07-19T13:09:22.081Z"
   },
   {
    "duration": 41,
    "start_time": "2022-07-19T13:09:22.113Z"
   },
   {
    "duration": 1939,
    "start_time": "2022-07-19T13:09:22.156Z"
   },
   {
    "duration": 25,
    "start_time": "2022-07-19T13:09:24.096Z"
   },
   {
    "duration": 11,
    "start_time": "2022-07-19T13:09:24.122Z"
   },
   {
    "duration": 7,
    "start_time": "2022-07-19T13:09:24.134Z"
   },
   {
    "duration": 116732,
    "start_time": "2022-07-19T13:09:24.142Z"
   },
   {
    "duration": 13,
    "start_time": "2022-07-19T13:11:20.877Z"
   },
   {
    "duration": 1371,
    "start_time": "2022-07-19T13:17:53.115Z"
   },
   {
    "duration": 839,
    "start_time": "2022-07-19T13:17:54.488Z"
   },
   {
    "duration": 18,
    "start_time": "2022-07-19T13:17:55.330Z"
   },
   {
    "duration": 41,
    "start_time": "2022-07-19T13:17:55.350Z"
   },
   {
    "duration": 12,
    "start_time": "2022-07-19T13:17:55.393Z"
   },
   {
    "duration": 23,
    "start_time": "2022-07-19T13:17:55.407Z"
   },
   {
    "duration": 10,
    "start_time": "2022-07-19T13:17:55.433Z"
   },
   {
    "duration": 1264,
    "start_time": "2022-07-19T13:31:17.962Z"
   },
   {
    "duration": 802,
    "start_time": "2022-07-19T13:31:19.228Z"
   },
   {
    "duration": 16,
    "start_time": "2022-07-19T13:31:20.031Z"
   },
   {
    "duration": 34,
    "start_time": "2022-07-19T13:31:20.049Z"
   },
   {
    "duration": 15,
    "start_time": "2022-07-19T13:31:20.085Z"
   },
   {
    "duration": 11,
    "start_time": "2022-07-19T13:31:20.103Z"
   },
   {
    "duration": 117430,
    "start_time": "2022-07-19T13:31:20.115Z"
   },
   {
    "duration": 3,
    "start_time": "2022-07-19T13:33:17.546Z"
   },
   {
    "duration": 135,
    "start_time": "2022-07-19T13:33:17.550Z"
   },
   {
    "duration": 0,
    "start_time": "2022-07-19T13:33:17.687Z"
   },
   {
    "duration": 47,
    "start_time": "2022-07-19T13:34:39.474Z"
   },
   {
    "duration": 50,
    "start_time": "2022-07-19T13:36:23.108Z"
   },
   {
    "duration": 60,
    "start_time": "2022-07-19T13:36:35.257Z"
   },
   {
    "duration": 5584,
    "start_time": "2022-07-19T13:37:46.150Z"
   },
   {
    "duration": 4484,
    "start_time": "2022-07-19T13:38:03.726Z"
   },
   {
    "duration": 13,
    "start_time": "2022-07-19T13:38:23.253Z"
   },
   {
    "duration": 1670,
    "start_time": "2022-07-20T06:21:49.645Z"
   },
   {
    "duration": 3623,
    "start_time": "2022-07-20T06:21:51.317Z"
   },
   {
    "duration": 15,
    "start_time": "2022-07-20T06:21:54.943Z"
   },
   {
    "duration": 56,
    "start_time": "2022-07-20T06:21:54.962Z"
   },
   {
    "duration": 10,
    "start_time": "2022-07-20T06:21:55.020Z"
   },
   {
    "duration": 4,
    "start_time": "2022-07-20T06:21:55.035Z"
   },
   {
    "duration": 177,
    "start_time": "2022-07-20T06:21:55.040Z"
   },
   {
    "duration": 0,
    "start_time": "2022-07-20T06:21:55.219Z"
   },
   {
    "duration": 0,
    "start_time": "2022-07-20T06:21:55.221Z"
   },
   {
    "duration": 1561,
    "start_time": "2022-07-20T06:22:28.009Z"
   },
   {
    "duration": 1087,
    "start_time": "2022-07-20T06:22:29.572Z"
   },
   {
    "duration": 25,
    "start_time": "2022-07-20T06:22:30.661Z"
   },
   {
    "duration": 152,
    "start_time": "2022-07-20T06:22:30.688Z"
   },
   {
    "duration": 10,
    "start_time": "2022-07-20T06:22:30.843Z"
   },
   {
    "duration": 63,
    "start_time": "2022-07-20T06:22:30.855Z"
   },
   {
    "duration": 161550,
    "start_time": "2022-07-20T06:22:30.920Z"
   },
   {
    "duration": 90,
    "start_time": "2022-07-20T06:25:12.477Z"
   },
   {
    "duration": 554,
    "start_time": "2022-07-20T06:25:12.570Z"
   },
   {
    "duration": 1644,
    "start_time": "2022-07-20T06:30:01.728Z"
   },
   {
    "duration": 1135,
    "start_time": "2022-07-20T06:30:03.374Z"
   },
   {
    "duration": 20,
    "start_time": "2022-07-20T06:30:04.511Z"
   },
   {
    "duration": 50,
    "start_time": "2022-07-20T06:30:04.534Z"
   },
   {
    "duration": 29,
    "start_time": "2022-07-20T06:30:04.586Z"
   },
   {
    "duration": 8,
    "start_time": "2022-07-20T06:30:04.618Z"
   },
   {
    "duration": 157702,
    "start_time": "2022-07-20T06:30:04.629Z"
   },
   {
    "duration": 86,
    "start_time": "2022-07-20T06:32:42.333Z"
   },
   {
    "duration": 437,
    "start_time": "2022-07-20T06:32:42.420Z"
   },
   {
    "duration": 46,
    "start_time": "2022-07-20T06:37:02.187Z"
   },
   {
    "duration": 57,
    "start_time": "2022-07-20T06:37:18.412Z"
   },
   {
    "duration": 23,
    "start_time": "2022-07-20T06:37:52.629Z"
   },
   {
    "duration": 9713,
    "start_time": "2022-07-20T06:38:09.004Z"
   },
   {
    "duration": 5,
    "start_time": "2022-07-20T06:38:43.115Z"
   },
   {
    "duration": 1732,
    "start_time": "2022-07-20T06:39:29.851Z"
   },
   {
    "duration": 1185,
    "start_time": "2022-07-20T06:39:31.585Z"
   },
   {
    "duration": 25,
    "start_time": "2022-07-20T06:39:32.772Z"
   },
   {
    "duration": 68,
    "start_time": "2022-07-20T06:39:32.802Z"
   },
   {
    "duration": 29,
    "start_time": "2022-07-20T06:39:32.878Z"
   },
   {
    "duration": 21,
    "start_time": "2022-07-20T06:39:32.910Z"
   },
   {
    "duration": 153636,
    "start_time": "2022-07-20T06:39:32.933Z"
   },
   {
    "duration": 113,
    "start_time": "2022-07-20T06:42:06.577Z"
   },
   {
    "duration": 15,
    "start_time": "2022-07-20T06:42:06.705Z"
   },
   {
    "duration": 9784,
    "start_time": "2022-07-20T06:42:06.722Z"
   },
   {
    "duration": 8006,
    "start_time": "2022-07-20T06:42:44.215Z"
   },
   {
    "duration": 1521,
    "start_time": "2022-07-20T06:43:31.893Z"
   },
   {
    "duration": 1016,
    "start_time": "2022-07-20T06:43:33.416Z"
   },
   {
    "duration": 17,
    "start_time": "2022-07-20T06:43:34.433Z"
   },
   {
    "duration": 70,
    "start_time": "2022-07-20T06:43:34.452Z"
   },
   {
    "duration": 14,
    "start_time": "2022-07-20T06:43:34.524Z"
   },
   {
    "duration": 9,
    "start_time": "2022-07-20T06:43:34.540Z"
   },
   {
    "duration": 144803,
    "start_time": "2022-07-20T06:43:34.550Z"
   },
   {
    "duration": 87,
    "start_time": "2022-07-20T06:45:59.354Z"
   },
   {
    "duration": 8,
    "start_time": "2022-07-20T06:45:59.443Z"
   },
   {
    "duration": 9504,
    "start_time": "2022-07-20T06:45:59.461Z"
   },
   {
    "duration": 1332,
    "start_time": "2022-07-20T09:56:13.708Z"
   },
   {
    "duration": 2194,
    "start_time": "2022-07-20T09:56:15.042Z"
   },
   {
    "duration": 23,
    "start_time": "2022-07-20T09:56:17.239Z"
   },
   {
    "duration": 45,
    "start_time": "2022-07-20T09:56:17.265Z"
   },
   {
    "duration": 6,
    "start_time": "2022-07-20T09:56:17.312Z"
   },
   {
    "duration": 35,
    "start_time": "2022-07-20T09:56:17.319Z"
   },
   {
    "duration": 108423,
    "start_time": "2022-07-20T09:56:17.356Z"
   },
   {
    "duration": 77,
    "start_time": "2022-07-20T09:58:05.781Z"
   },
   {
    "duration": 9,
    "start_time": "2022-07-20T09:58:05.860Z"
   },
   {
    "duration": 45,
    "start_time": "2022-07-20T09:58:50.243Z"
   },
   {
    "duration": 1851,
    "start_time": "2022-07-20T09:58:55.553Z"
   },
   {
    "duration": 2221,
    "start_time": "2022-07-20T09:58:57.405Z"
   },
   {
    "duration": 16,
    "start_time": "2022-07-20T09:58:59.628Z"
   },
   {
    "duration": 33,
    "start_time": "2022-07-20T09:58:59.646Z"
   },
   {
    "duration": 3,
    "start_time": "2022-07-20T09:58:59.680Z"
   },
   {
    "duration": 11,
    "start_time": "2022-07-20T09:58:59.684Z"
   },
   {
    "duration": 111344,
    "start_time": "2022-07-20T09:58:59.696Z"
   },
   {
    "duration": 103,
    "start_time": "2022-07-20T10:00:51.045Z"
   },
   {
    "duration": 9,
    "start_time": "2022-07-20T10:00:51.150Z"
   },
   {
    "duration": 1961,
    "start_time": "2022-07-20T10:01:13.857Z"
   },
   {
    "duration": 0,
    "start_time": "2022-07-20T10:01:15.819Z"
   },
   {
    "duration": 0,
    "start_time": "2022-07-20T10:01:15.821Z"
   },
   {
    "duration": 0,
    "start_time": "2022-07-20T10:01:15.822Z"
   },
   {
    "duration": 0,
    "start_time": "2022-07-20T10:01:15.823Z"
   },
   {
    "duration": 0,
    "start_time": "2022-07-20T10:01:15.823Z"
   },
   {
    "duration": 0,
    "start_time": "2022-07-20T10:01:15.825Z"
   },
   {
    "duration": 0,
    "start_time": "2022-07-20T10:01:15.825Z"
   },
   {
    "duration": 0,
    "start_time": "2022-07-20T10:01:15.827Z"
   },
   {
    "duration": 0,
    "start_time": "2022-07-20T10:01:15.827Z"
   },
   {
    "duration": 0,
    "start_time": "2022-07-20T10:01:15.828Z"
   },
   {
    "duration": 1493,
    "start_time": "2022-07-20T10:02:45.464Z"
   },
   {
    "duration": 0,
    "start_time": "2022-07-20T10:02:46.958Z"
   },
   {
    "duration": 0,
    "start_time": "2022-07-20T10:02:46.960Z"
   },
   {
    "duration": 0,
    "start_time": "2022-07-20T10:02:46.960Z"
   },
   {
    "duration": 0,
    "start_time": "2022-07-20T10:02:46.961Z"
   },
   {
    "duration": 0,
    "start_time": "2022-07-20T10:02:46.963Z"
   },
   {
    "duration": 0,
    "start_time": "2022-07-20T10:02:46.964Z"
   },
   {
    "duration": 0,
    "start_time": "2022-07-20T10:02:46.965Z"
   },
   {
    "duration": 0,
    "start_time": "2022-07-20T10:02:46.966Z"
   },
   {
    "duration": 0,
    "start_time": "2022-07-20T10:02:46.967Z"
   },
   {
    "duration": 0,
    "start_time": "2022-07-20T10:02:46.968Z"
   },
   {
    "duration": 1193,
    "start_time": "2022-07-20T10:03:15.906Z"
   },
   {
    "duration": 2174,
    "start_time": "2022-07-20T10:03:17.101Z"
   },
   {
    "duration": 16,
    "start_time": "2022-07-20T10:03:19.276Z"
   },
   {
    "duration": 33,
    "start_time": "2022-07-20T10:03:19.294Z"
   },
   {
    "duration": 2,
    "start_time": "2022-07-20T10:03:19.329Z"
   },
   {
    "duration": 5,
    "start_time": "2022-07-20T10:03:19.333Z"
   },
   {
    "duration": 106374,
    "start_time": "2022-07-20T10:03:19.340Z"
   },
   {
    "duration": 80,
    "start_time": "2022-07-20T10:05:05.716Z"
   },
   {
    "duration": 8,
    "start_time": "2022-07-20T10:05:05.797Z"
   },
   {
    "duration": 7682,
    "start_time": "2022-07-20T10:05:05.807Z"
   },
   {
    "duration": 147,
    "start_time": "2022-07-20T10:05:13.491Z"
   },
   {
    "duration": 0,
    "start_time": "2022-07-20T10:05:13.639Z"
   },
   {
    "duration": 3,
    "start_time": "2022-07-20T10:05:18.172Z"
   },
   {
    "duration": 125127,
    "start_time": "2022-07-20T10:17:28.728Z"
   },
   {
    "duration": 3,
    "start_time": "2022-07-20T10:19:33.857Z"
   },
   {
    "duration": 487854,
    "start_time": "2022-07-20T10:19:33.861Z"
   },
   {
    "duration": 15,
    "start_time": "2022-07-20T10:27:41.717Z"
   },
   {
    "duration": 43,
    "start_time": "2022-07-20T10:27:41.734Z"
   },
   {
    "duration": 945,
    "start_time": "2022-07-20T10:27:41.778Z"
   },
   {
    "duration": 39,
    "start_time": "2022-07-20T10:27:42.725Z"
   },
   {
    "duration": 10,
    "start_time": "2022-07-20T10:29:18.406Z"
   },
   {
    "duration": 5,
    "start_time": "2022-07-20T10:29:24.393Z"
   },
   {
    "duration": 16,
    "start_time": "2022-07-20T10:29:31.842Z"
   },
   {
    "duration": 31,
    "start_time": "2022-07-20T10:29:34.873Z"
   },
   {
    "duration": 1311,
    "start_time": "2022-07-20T10:31:24.483Z"
   },
   {
    "duration": 834,
    "start_time": "2022-07-20T10:31:25.796Z"
   },
   {
    "duration": 23,
    "start_time": "2022-07-20T10:31:26.634Z"
   },
   {
    "duration": 39,
    "start_time": "2022-07-20T10:31:26.659Z"
   },
   {
    "duration": 2,
    "start_time": "2022-07-20T10:31:26.700Z"
   },
   {
    "duration": 9,
    "start_time": "2022-07-20T10:31:26.703Z"
   },
   {
    "duration": 100991,
    "start_time": "2022-07-20T10:31:26.714Z"
   },
   {
    "duration": 81,
    "start_time": "2022-07-20T10:33:07.707Z"
   },
   {
    "duration": 8,
    "start_time": "2022-07-20T10:33:07.792Z"
   },
   {
    "duration": 6999,
    "start_time": "2022-07-20T10:33:07.802Z"
   },
   {
    "duration": 2,
    "start_time": "2022-07-20T10:33:14.803Z"
   },
   {
    "duration": 119761,
    "start_time": "2022-07-20T10:33:14.806Z"
   },
   {
    "duration": 3,
    "start_time": "2022-07-20T10:35:14.569Z"
   },
   {
    "duration": 488932,
    "start_time": "2022-07-20T10:35:14.574Z"
   },
   {
    "duration": 5,
    "start_time": "2022-07-20T10:43:23.508Z"
   },
   {
    "duration": 32,
    "start_time": "2022-07-20T10:43:23.515Z"
   },
   {
    "duration": 35,
    "start_time": "2022-07-20T10:43:23.548Z"
   },
   {
    "duration": 968,
    "start_time": "2022-07-20T10:43:23.585Z"
   },
   {
    "duration": 31,
    "start_time": "2022-07-20T10:43:24.554Z"
   },
   {
    "duration": 16,
    "start_time": "2022-07-20T10:43:24.587Z"
   },
   {
    "duration": 50,
    "start_time": "2022-07-20T10:43:24.604Z"
   },
   {
    "duration": 4895,
    "start_time": "2022-07-20T11:01:57.235Z"
   },
   {
    "duration": 908,
    "start_time": "2022-07-20T11:02:02.133Z"
   },
   {
    "duration": 19,
    "start_time": "2022-07-20T11:02:03.043Z"
   },
   {
    "duration": 34,
    "start_time": "2022-07-20T11:02:03.064Z"
   },
   {
    "duration": 3,
    "start_time": "2022-07-20T11:02:03.100Z"
   },
   {
    "duration": 12,
    "start_time": "2022-07-20T11:02:03.104Z"
   },
   {
    "duration": 109371,
    "start_time": "2022-07-20T11:02:03.118Z"
   },
   {
    "duration": 86,
    "start_time": "2022-07-20T11:03:52.491Z"
   },
   {
    "duration": 8,
    "start_time": "2022-07-20T11:03:52.578Z"
   },
   {
    "duration": 118,
    "start_time": "2022-07-20T11:03:52.589Z"
   },
   {
    "duration": 0,
    "start_time": "2022-07-20T11:03:52.709Z"
   },
   {
    "duration": 0,
    "start_time": "2022-07-20T11:03:52.710Z"
   },
   {
    "duration": 0,
    "start_time": "2022-07-20T11:03:52.711Z"
   },
   {
    "duration": 0,
    "start_time": "2022-07-20T11:03:52.712Z"
   },
   {
    "duration": 0,
    "start_time": "2022-07-20T11:03:52.713Z"
   },
   {
    "duration": 0,
    "start_time": "2022-07-20T11:03:52.715Z"
   },
   {
    "duration": 0,
    "start_time": "2022-07-20T11:03:52.716Z"
   },
   {
    "duration": 0,
    "start_time": "2022-07-20T11:03:52.718Z"
   },
   {
    "duration": 0,
    "start_time": "2022-07-20T11:03:52.719Z"
   },
   {
    "duration": 0,
    "start_time": "2022-07-20T11:03:52.720Z"
   },
   {
    "duration": 0,
    "start_time": "2022-07-20T11:03:52.746Z"
   },
   {
    "duration": 27144,
    "start_time": "2022-07-20T11:04:34.844Z"
   },
   {
    "duration": 3,
    "start_time": "2022-07-20T11:05:01.991Z"
   },
   {
    "duration": 268716,
    "start_time": "2022-07-20T11:05:01.996Z"
   },
   {
    "duration": 3,
    "start_time": "2022-07-20T11:09:30.714Z"
   },
   {
    "duration": 1793,
    "start_time": "2022-07-20T11:11:52.409Z"
   },
   {
    "duration": 2292,
    "start_time": "2022-07-20T11:11:54.204Z"
   },
   {
    "duration": 16,
    "start_time": "2022-07-20T11:11:56.497Z"
   },
   {
    "duration": 41,
    "start_time": "2022-07-20T11:11:56.514Z"
   },
   {
    "duration": 25,
    "start_time": "2022-07-20T11:11:56.557Z"
   },
   {
    "duration": 24,
    "start_time": "2022-07-20T11:11:56.584Z"
   },
   {
    "duration": 1318,
    "start_time": "2022-07-20T11:12:41.723Z"
   },
   {
    "duration": 876,
    "start_time": "2022-07-20T11:12:43.043Z"
   },
   {
    "duration": 26,
    "start_time": "2022-07-20T11:12:43.921Z"
   },
   {
    "duration": 45,
    "start_time": "2022-07-20T11:12:43.949Z"
   },
   {
    "duration": 6,
    "start_time": "2022-07-20T11:12:43.997Z"
   },
   {
    "duration": 27,
    "start_time": "2022-07-20T11:12:44.004Z"
   },
   {
    "duration": 125947,
    "start_time": "2022-07-20T11:12:44.032Z"
   },
   {
    "duration": 90,
    "start_time": "2022-07-20T11:14:49.981Z"
   },
   {
    "duration": 9,
    "start_time": "2022-07-20T11:14:50.072Z"
   },
   {
    "duration": 7319,
    "start_time": "2022-07-20T11:14:50.083Z"
   },
   {
    "duration": 3,
    "start_time": "2022-07-20T11:14:57.404Z"
   },
   {
    "duration": 129164,
    "start_time": "2022-07-20T11:14:57.409Z"
   },
   {
    "duration": 4,
    "start_time": "2022-07-20T11:17:06.575Z"
   },
   {
    "duration": 465710,
    "start_time": "2022-07-20T11:17:06.581Z"
   },
   {
    "duration": 5,
    "start_time": "2022-07-20T11:24:52.293Z"
   },
   {
    "duration": 33,
    "start_time": "2022-07-20T11:24:52.300Z"
   },
   {
    "duration": 62,
    "start_time": "2022-07-20T11:24:52.335Z"
   },
   {
    "duration": 535,
    "start_time": "2022-07-20T11:24:52.399Z"
   },
   {
    "duration": 38,
    "start_time": "2022-07-20T11:24:52.935Z"
   },
   {
    "duration": 16,
    "start_time": "2022-07-20T11:24:52.975Z"
   },
   {
    "duration": 66,
    "start_time": "2022-07-20T11:24:52.993Z"
   },
   {
    "duration": 60,
    "start_time": "2022-07-20T11:57:02.996Z"
   },
   {
    "duration": 0,
    "start_time": "2022-07-20T11:57:03.058Z"
   },
   {
    "duration": 0,
    "start_time": "2022-07-20T11:57:03.059Z"
   },
   {
    "duration": 0,
    "start_time": "2022-07-20T11:57:03.060Z"
   },
   {
    "duration": 0,
    "start_time": "2022-07-20T11:57:03.062Z"
   },
   {
    "duration": 0,
    "start_time": "2022-07-20T11:57:03.063Z"
   },
   {
    "duration": 0,
    "start_time": "2022-07-20T11:57:03.064Z"
   },
   {
    "duration": 0,
    "start_time": "2022-07-20T11:57:03.066Z"
   },
   {
    "duration": 0,
    "start_time": "2022-07-20T11:57:03.067Z"
   },
   {
    "duration": 0,
    "start_time": "2022-07-20T11:57:03.068Z"
   },
   {
    "duration": 0,
    "start_time": "2022-07-20T11:57:03.070Z"
   },
   {
    "duration": 0,
    "start_time": "2022-07-20T11:57:03.071Z"
   },
   {
    "duration": 0,
    "start_time": "2022-07-20T11:57:03.072Z"
   },
   {
    "duration": 89,
    "start_time": "2022-07-20T11:57:03.075Z"
   },
   {
    "duration": 0,
    "start_time": "2022-07-20T11:57:03.165Z"
   },
   {
    "duration": 0,
    "start_time": "2022-07-20T11:57:03.166Z"
   },
   {
    "duration": 0,
    "start_time": "2022-07-20T11:57:03.168Z"
   },
   {
    "duration": 0,
    "start_time": "2022-07-20T11:57:03.169Z"
   },
   {
    "duration": 0,
    "start_time": "2022-07-20T11:57:03.170Z"
   },
   {
    "duration": 0,
    "start_time": "2022-07-20T11:57:03.171Z"
   },
   {
    "duration": 0,
    "start_time": "2022-07-20T11:57:03.172Z"
   },
   {
    "duration": 1294,
    "start_time": "2022-07-20T12:04:22.957Z"
   },
   {
    "duration": 859,
    "start_time": "2022-07-20T12:04:24.253Z"
   },
   {
    "duration": 15,
    "start_time": "2022-07-20T12:04:25.114Z"
   },
   {
    "duration": 46,
    "start_time": "2022-07-20T12:04:25.131Z"
   },
   {
    "duration": 3,
    "start_time": "2022-07-20T12:04:25.179Z"
   },
   {
    "duration": 5,
    "start_time": "2022-07-20T12:04:25.183Z"
   },
   {
    "duration": 107835,
    "start_time": "2022-07-20T12:04:25.190Z"
   },
   {
    "duration": 87,
    "start_time": "2022-07-20T12:06:13.027Z"
   },
   {
    "duration": 8,
    "start_time": "2022-07-20T12:06:13.115Z"
   },
   {
    "duration": 6914,
    "start_time": "2022-07-20T12:06:13.125Z"
   },
   {
    "duration": 3,
    "start_time": "2022-07-20T12:06:20.041Z"
   },
   {
    "duration": 120139,
    "start_time": "2022-07-20T12:06:20.045Z"
   },
   {
    "duration": 3,
    "start_time": "2022-07-20T12:08:20.186Z"
   },
   {
    "duration": 470695,
    "start_time": "2022-07-20T12:08:20.191Z"
   },
   {
    "duration": 4,
    "start_time": "2022-07-20T12:16:10.888Z"
   },
   {
    "duration": 18,
    "start_time": "2022-07-20T12:16:10.893Z"
   },
   {
    "duration": 54,
    "start_time": "2022-07-20T12:16:10.913Z"
   },
   {
    "duration": 395,
    "start_time": "2022-07-20T12:16:10.969Z"
   },
   {
    "duration": 30,
    "start_time": "2022-07-20T12:16:11.365Z"
   },
   {
    "duration": 13,
    "start_time": "2022-07-20T12:16:11.397Z"
   },
   {
    "duration": 58,
    "start_time": "2022-07-20T12:16:11.412Z"
   },
   {
    "duration": 1292,
    "start_time": "2022-07-20T12:23:09.900Z"
   },
   {
    "duration": 877,
    "start_time": "2022-07-20T12:23:11.193Z"
   },
   {
    "duration": 17,
    "start_time": "2022-07-20T12:23:12.072Z"
   },
   {
    "duration": 39,
    "start_time": "2022-07-20T12:23:12.091Z"
   },
   {
    "duration": 22,
    "start_time": "2022-07-20T12:23:12.132Z"
   },
   {
    "duration": 3,
    "start_time": "2022-07-20T12:23:12.159Z"
   },
   {
    "duration": 95034,
    "start_time": "2022-07-20T12:23:12.164Z"
   },
   {
    "duration": 83,
    "start_time": "2022-07-20T12:24:47.199Z"
   },
   {
    "duration": 8,
    "start_time": "2022-07-20T12:24:47.284Z"
   },
   {
    "duration": 6877,
    "start_time": "2022-07-20T12:24:47.295Z"
   },
   {
    "duration": 3,
    "start_time": "2022-07-20T12:24:54.174Z"
   },
   {
    "duration": 85003,
    "start_time": "2022-07-20T12:24:54.178Z"
   },
   {
    "duration": 4,
    "start_time": "2022-07-20T12:26:19.183Z"
   },
   {
    "duration": 506097,
    "start_time": "2022-07-20T12:26:19.189Z"
   },
   {
    "duration": 4,
    "start_time": "2022-07-20T12:34:45.287Z"
   },
   {
    "duration": 22,
    "start_time": "2022-07-20T12:34:45.292Z"
   },
   {
    "duration": 53,
    "start_time": "2022-07-20T12:34:45.315Z"
   },
   {
    "duration": 722,
    "start_time": "2022-07-20T12:34:45.372Z"
   },
   {
    "duration": 39,
    "start_time": "2022-07-20T12:34:46.096Z"
   },
   {
    "duration": 40,
    "start_time": "2022-07-20T12:34:46.136Z"
   },
   {
    "duration": 35,
    "start_time": "2022-07-20T12:34:46.178Z"
   },
   {
    "duration": 1363,
    "start_time": "2022-07-20T12:37:05.127Z"
   },
   {
    "duration": 963,
    "start_time": "2022-07-20T12:37:06.492Z"
   },
   {
    "duration": 22,
    "start_time": "2022-07-20T12:37:07.457Z"
   },
   {
    "duration": 57,
    "start_time": "2022-07-20T12:37:07.481Z"
   },
   {
    "duration": 32,
    "start_time": "2022-07-20T12:37:07.540Z"
   },
   {
    "duration": 14,
    "start_time": "2022-07-20T12:37:07.574Z"
   },
   {
    "duration": 105206,
    "start_time": "2022-07-20T12:37:07.589Z"
   },
   {
    "duration": 86,
    "start_time": "2022-07-20T12:38:52.797Z"
   },
   {
    "duration": 7,
    "start_time": "2022-07-20T12:38:52.885Z"
   },
   {
    "duration": 7709,
    "start_time": "2022-07-20T12:38:52.894Z"
   },
   {
    "duration": 2,
    "start_time": "2022-07-20T12:39:00.605Z"
   },
   {
    "duration": 128689,
    "start_time": "2022-07-20T12:39:00.609Z"
   },
   {
    "duration": 3,
    "start_time": "2022-07-20T12:41:09.301Z"
   },
   {
    "duration": 547208,
    "start_time": "2022-07-20T12:41:09.352Z"
   },
   {
    "duration": 4,
    "start_time": "2022-07-20T12:50:16.561Z"
   },
   {
    "duration": 23,
    "start_time": "2022-07-20T12:50:16.567Z"
   },
   {
    "duration": 35,
    "start_time": "2022-07-20T12:50:16.592Z"
   },
   {
    "duration": 1086,
    "start_time": "2022-07-20T12:50:16.628Z"
   },
   {
    "duration": 51,
    "start_time": "2022-07-20T12:50:17.715Z"
   },
   {
    "duration": 18,
    "start_time": "2022-07-20T12:50:17.768Z"
   },
   {
    "duration": 31,
    "start_time": "2022-07-20T12:50:17.788Z"
   },
   {
    "duration": 1391,
    "start_time": "2022-07-20T13:03:54.504Z"
   },
   {
    "duration": 848,
    "start_time": "2022-07-20T13:03:55.897Z"
   },
   {
    "duration": 137,
    "start_time": "2022-07-20T13:03:56.747Z"
   },
   {
    "duration": 0,
    "start_time": "2022-07-20T13:03:56.886Z"
   },
   {
    "duration": 0,
    "start_time": "2022-07-20T13:03:56.887Z"
   },
   {
    "duration": 0,
    "start_time": "2022-07-20T13:03:56.888Z"
   },
   {
    "duration": 0,
    "start_time": "2022-07-20T13:03:56.889Z"
   },
   {
    "duration": 0,
    "start_time": "2022-07-20T13:03:56.891Z"
   },
   {
    "duration": 0,
    "start_time": "2022-07-20T13:03:56.892Z"
   },
   {
    "duration": 0,
    "start_time": "2022-07-20T13:03:56.894Z"
   },
   {
    "duration": 0,
    "start_time": "2022-07-20T13:03:56.896Z"
   },
   {
    "duration": 0,
    "start_time": "2022-07-20T13:03:56.898Z"
   },
   {
    "duration": 0,
    "start_time": "2022-07-20T13:03:56.899Z"
   },
   {
    "duration": 0,
    "start_time": "2022-07-20T13:03:56.901Z"
   },
   {
    "duration": 0,
    "start_time": "2022-07-20T13:03:56.902Z"
   },
   {
    "duration": 0,
    "start_time": "2022-07-20T13:03:56.903Z"
   },
   {
    "duration": 0,
    "start_time": "2022-07-20T13:03:56.904Z"
   },
   {
    "duration": 0,
    "start_time": "2022-07-20T13:03:56.905Z"
   },
   {
    "duration": 0,
    "start_time": "2022-07-20T13:03:56.906Z"
   },
   {
    "duration": 0,
    "start_time": "2022-07-20T13:03:56.908Z"
   },
   {
    "duration": 0,
    "start_time": "2022-07-20T13:03:56.909Z"
   },
   {
    "duration": 16,
    "start_time": "2022-07-20T13:04:10.813Z"
   },
   {
    "duration": 6,
    "start_time": "2022-07-20T13:04:41.842Z"
   },
   {
    "duration": 6,
    "start_time": "2022-07-20T13:04:50.153Z"
   },
   {
    "duration": 25,
    "start_time": "2022-07-20T13:06:36.435Z"
   },
   {
    "duration": 1306,
    "start_time": "2022-07-20T13:06:46.869Z"
   },
   {
    "duration": 865,
    "start_time": "2022-07-20T13:06:48.177Z"
   },
   {
    "duration": 15,
    "start_time": "2022-07-20T13:06:49.044Z"
   },
   {
    "duration": 37,
    "start_time": "2022-07-20T13:06:49.061Z"
   },
   {
    "duration": 3,
    "start_time": "2022-07-20T13:06:49.101Z"
   },
   {
    "duration": 10,
    "start_time": "2022-07-20T13:06:49.105Z"
   },
   {
    "duration": 797,
    "start_time": "2022-07-20T13:06:49.117Z"
   },
   {
    "duration": 0,
    "start_time": "2022-07-20T13:06:49.916Z"
   },
   {
    "duration": 0,
    "start_time": "2022-07-20T13:06:49.917Z"
   },
   {
    "duration": 0,
    "start_time": "2022-07-20T13:06:49.919Z"
   },
   {
    "duration": 0,
    "start_time": "2022-07-20T13:06:49.920Z"
   },
   {
    "duration": 0,
    "start_time": "2022-07-20T13:06:49.921Z"
   },
   {
    "duration": 0,
    "start_time": "2022-07-20T13:06:49.922Z"
   },
   {
    "duration": 0,
    "start_time": "2022-07-20T13:06:49.923Z"
   },
   {
    "duration": 0,
    "start_time": "2022-07-20T13:06:49.924Z"
   },
   {
    "duration": 1,
    "start_time": "2022-07-20T13:06:49.925Z"
   },
   {
    "duration": 0,
    "start_time": "2022-07-20T13:06:49.926Z"
   },
   {
    "duration": 0,
    "start_time": "2022-07-20T13:06:49.946Z"
   },
   {
    "duration": 0,
    "start_time": "2022-07-20T13:06:49.947Z"
   },
   {
    "duration": 0,
    "start_time": "2022-07-20T13:06:49.948Z"
   },
   {
    "duration": 0,
    "start_time": "2022-07-20T13:06:49.949Z"
   },
   {
    "duration": 1352,
    "start_time": "2022-07-20T13:11:10.615Z"
   },
   {
    "duration": 938,
    "start_time": "2022-07-20T13:11:11.969Z"
   },
   {
    "duration": 18,
    "start_time": "2022-07-20T13:11:12.908Z"
   },
   {
    "duration": 46,
    "start_time": "2022-07-20T13:11:12.927Z"
   },
   {
    "duration": 3,
    "start_time": "2022-07-20T13:11:12.976Z"
   },
   {
    "duration": 9,
    "start_time": "2022-07-20T13:11:12.981Z"
   },
   {
    "duration": 80783,
    "start_time": "2022-07-20T13:11:12.992Z"
   },
   {
    "duration": 87,
    "start_time": "2022-07-20T13:12:33.777Z"
   },
   {
    "duration": 9,
    "start_time": "2022-07-20T13:12:33.866Z"
   },
   {
    "duration": 28616,
    "start_time": "2022-07-20T13:12:33.877Z"
   },
   {
    "duration": 2,
    "start_time": "2022-07-20T13:13:02.495Z"
   },
   {
    "duration": 104766,
    "start_time": "2022-07-20T13:13:02.499Z"
   },
   {
    "duration": 3,
    "start_time": "2022-07-20T13:14:47.267Z"
   },
   {
    "duration": 464316,
    "start_time": "2022-07-20T13:14:47.272Z"
   },
   {
    "duration": 3,
    "start_time": "2022-07-20T13:22:31.590Z"
   },
   {
    "duration": 41,
    "start_time": "2022-07-20T13:22:31.595Z"
   },
   {
    "duration": 41,
    "start_time": "2022-07-20T13:22:31.638Z"
   },
   {
    "duration": 1192,
    "start_time": "2022-07-20T13:22:31.681Z"
   },
   {
    "duration": 38,
    "start_time": "2022-07-20T13:22:32.875Z"
   },
   {
    "duration": 43,
    "start_time": "2022-07-20T13:22:32.915Z"
   },
   {
    "duration": 35,
    "start_time": "2022-07-20T13:22:32.960Z"
   },
   {
    "duration": 1206,
    "start_time": "2022-07-20T13:24:32.308Z"
   },
   {
    "duration": 868,
    "start_time": "2022-07-20T13:24:33.516Z"
   },
   {
    "duration": 12,
    "start_time": "2022-07-20T13:24:34.385Z"
   },
   {
    "duration": 31,
    "start_time": "2022-07-20T13:24:34.399Z"
   },
   {
    "duration": 9,
    "start_time": "2022-07-20T13:24:34.451Z"
   },
   {
    "duration": 9,
    "start_time": "2022-07-20T13:24:34.462Z"
   },
   {
    "duration": 96682,
    "start_time": "2022-07-20T13:24:34.472Z"
   },
   {
    "duration": 74,
    "start_time": "2022-07-20T13:26:11.159Z"
   },
   {
    "duration": 8,
    "start_time": "2022-07-20T13:26:11.234Z"
   },
   {
    "duration": 24577,
    "start_time": "2022-07-20T13:26:11.254Z"
   },
   {
    "duration": 3,
    "start_time": "2022-07-20T13:26:35.833Z"
   },
   {
    "duration": 86738,
    "start_time": "2022-07-20T13:26:35.838Z"
   },
   {
    "duration": 2,
    "start_time": "2022-07-20T13:28:02.578Z"
   },
   {
    "duration": 449391,
    "start_time": "2022-07-20T13:28:02.582Z"
   },
   {
    "duration": 4,
    "start_time": "2022-07-20T13:35:31.975Z"
   },
   {
    "duration": 32,
    "start_time": "2022-07-20T13:35:31.981Z"
   },
   {
    "duration": 46,
    "start_time": "2022-07-20T13:35:32.014Z"
   },
   {
    "duration": 1180,
    "start_time": "2022-07-20T13:35:32.063Z"
   },
   {
    "duration": 47,
    "start_time": "2022-07-20T13:35:33.247Z"
   },
   {
    "duration": 16,
    "start_time": "2022-07-20T13:35:33.295Z"
   },
   {
    "duration": 48,
    "start_time": "2022-07-20T13:35:33.312Z"
   },
   {
    "duration": 1257,
    "start_time": "2022-07-20T13:50:56.400Z"
   },
   {
    "duration": 843,
    "start_time": "2022-07-20T13:50:57.659Z"
   },
   {
    "duration": 12,
    "start_time": "2022-07-20T13:50:58.504Z"
   },
   {
    "duration": 45,
    "start_time": "2022-07-20T13:50:58.518Z"
   },
   {
    "duration": 3,
    "start_time": "2022-07-20T13:50:58.564Z"
   },
   {
    "duration": 5,
    "start_time": "2022-07-20T13:50:58.568Z"
   },
   {
    "duration": 94146,
    "start_time": "2022-07-20T13:50:58.574Z"
   },
   {
    "duration": 84,
    "start_time": "2022-07-20T13:52:32.721Z"
   },
   {
    "duration": 8,
    "start_time": "2022-07-20T13:52:32.807Z"
   },
   {
    "duration": 23757,
    "start_time": "2022-07-20T13:52:32.818Z"
   },
   {
    "duration": 3,
    "start_time": "2022-07-20T13:52:56.577Z"
   },
   {
    "duration": 92789,
    "start_time": "2022-07-20T13:52:56.581Z"
   },
   {
    "duration": 3,
    "start_time": "2022-07-20T13:54:29.373Z"
   },
   {
    "duration": 440895,
    "start_time": "2022-07-20T13:54:29.379Z"
   },
   {
    "duration": 4,
    "start_time": "2022-07-20T14:01:50.276Z"
   },
   {
    "duration": 26,
    "start_time": "2022-07-20T14:01:50.282Z"
   },
   {
    "duration": 53,
    "start_time": "2022-07-20T14:01:50.310Z"
   },
   {
    "duration": 1243,
    "start_time": "2022-07-20T14:01:50.365Z"
   },
   {
    "duration": 48,
    "start_time": "2022-07-20T14:01:51.610Z"
   },
   {
    "duration": 16,
    "start_time": "2022-07-20T14:01:51.661Z"
   },
   {
    "duration": 37,
    "start_time": "2022-07-20T14:01:51.679Z"
   },
   {
    "duration": 136338,
    "start_time": "2022-07-20T14:25:54.952Z"
   },
   {
    "duration": 122916,
    "start_time": "2022-07-20T14:29:50.965Z"
   },
   {
    "duration": 131165,
    "start_time": "2022-07-20T14:37:48.616Z"
   },
   {
    "duration": 119556,
    "start_time": "2022-07-20T14:41:47.905Z"
   },
   {
    "duration": 77,
    "start_time": "2022-07-20T14:46:51.203Z"
   },
   {
    "duration": 117150,
    "start_time": "2022-07-20T14:48:01.313Z"
   },
   {
    "duration": 134114,
    "start_time": "2022-07-20T14:51:04.661Z"
   },
   {
    "duration": 100,
    "start_time": "2022-07-20T14:54:14.611Z"
   },
   {
    "duration": 9,
    "start_time": "2022-07-20T14:54:14.818Z"
   },
   {
    "duration": 27557,
    "start_time": "2022-07-20T14:54:15.075Z"
   },
   {
    "duration": 3,
    "start_time": "2022-07-20T14:54:42.634Z"
   },
   {
    "duration": 108227,
    "start_time": "2022-07-20T14:54:42.639Z"
   },
   {
    "duration": 5,
    "start_time": "2022-07-20T14:56:30.868Z"
   },
   {
    "duration": 502447,
    "start_time": "2022-07-20T14:56:30.875Z"
   },
   {
    "duration": 4,
    "start_time": "2022-07-20T15:04:53.324Z"
   },
   {
    "duration": 40,
    "start_time": "2022-07-20T15:04:53.330Z"
   },
   {
    "duration": 55,
    "start_time": "2022-07-20T15:04:53.372Z"
   },
   {
    "duration": 1299,
    "start_time": "2022-07-20T15:04:53.429Z"
   },
   {
    "duration": 52,
    "start_time": "2022-07-20T15:04:54.730Z"
   },
   {
    "duration": 15,
    "start_time": "2022-07-20T15:04:54.784Z"
   },
   {
    "duration": 49,
    "start_time": "2022-07-20T15:04:54.801Z"
   },
   {
    "duration": 1320,
    "start_time": "2022-07-20T16:44:39.602Z"
   },
   {
    "duration": 822,
    "start_time": "2022-07-20T16:44:40.924Z"
   },
   {
    "duration": 13,
    "start_time": "2022-07-20T16:44:41.747Z"
   },
   {
    "duration": 31,
    "start_time": "2022-07-20T16:44:41.762Z"
   },
   {
    "duration": 3,
    "start_time": "2022-07-20T16:44:41.795Z"
   },
   {
    "duration": 4,
    "start_time": "2022-07-20T16:44:41.800Z"
   },
   {
    "duration": 107711,
    "start_time": "2022-07-20T16:44:41.805Z"
   },
   {
    "duration": 87,
    "start_time": "2022-07-20T16:46:29.517Z"
   },
   {
    "duration": 8,
    "start_time": "2022-07-20T16:46:29.606Z"
   },
   {
    "duration": 24341,
    "start_time": "2022-07-20T16:46:29.617Z"
   },
   {
    "duration": 4,
    "start_time": "2022-07-20T16:46:53.960Z"
   },
   {
    "duration": 105426,
    "start_time": "2022-07-20T16:46:53.965Z"
   },
   {
    "duration": 5,
    "start_time": "2022-07-20T16:48:39.394Z"
   },
   {
    "duration": 444741,
    "start_time": "2022-07-20T16:48:39.401Z"
   },
   {
    "duration": 17,
    "start_time": "2022-07-20T16:56:04.145Z"
   },
   {
    "duration": 37,
    "start_time": "2022-07-20T16:56:04.163Z"
   },
   {
    "duration": 1271,
    "start_time": "2022-07-20T16:56:04.202Z"
   },
   {
    "duration": 45,
    "start_time": "2022-07-20T16:56:05.475Z"
   },
   {
    "duration": 138,
    "start_time": "2022-07-20T16:56:05.522Z"
   },
   {
    "duration": 0,
    "start_time": "2022-07-20T16:56:05.662Z"
   },
   {
    "duration": 21,
    "start_time": "2022-07-20T17:01:57.903Z"
   },
   {
    "duration": 47,
    "start_time": "2022-07-20T17:02:12.817Z"
   },
   {
    "duration": 12,
    "start_time": "2022-07-20T17:03:16.618Z"
   },
   {
    "duration": 28,
    "start_time": "2022-07-20T17:03:23.844Z"
   },
   {
    "duration": 41,
    "start_time": "2022-07-20T17:03:26.088Z"
   },
   {
    "duration": 10,
    "start_time": "2022-07-21T06:05:22.417Z"
   },
   {
    "duration": 1228,
    "start_time": "2022-07-21T06:20:49.794Z"
   },
   {
    "duration": 861,
    "start_time": "2022-07-21T06:20:51.024Z"
   },
   {
    "duration": 12,
    "start_time": "2022-07-21T06:20:51.887Z"
   },
   {
    "duration": 31,
    "start_time": "2022-07-21T06:20:51.901Z"
   },
   {
    "duration": 22,
    "start_time": "2022-07-21T06:20:51.933Z"
   },
   {
    "duration": 2,
    "start_time": "2022-07-21T06:20:51.961Z"
   },
   {
    "duration": 5951,
    "start_time": "2022-07-21T06:20:51.964Z"
   },
   {
    "duration": 90,
    "start_time": "2022-07-21T06:20:57.917Z"
   },
   {
    "duration": 8,
    "start_time": "2022-07-21T06:20:58.009Z"
   },
   {
    "duration": 25558,
    "start_time": "2022-07-21T06:20:58.020Z"
   },
   {
    "duration": 4,
    "start_time": "2022-07-21T06:21:23.579Z"
   },
   {
    "duration": 20,
    "start_time": "2022-07-21T06:21:23.585Z"
   },
   {
    "duration": 129,
    "start_time": "2022-07-21T06:21:23.607Z"
   },
   {
    "duration": 0,
    "start_time": "2022-07-21T06:21:23.738Z"
   },
   {
    "duration": 0,
    "start_time": "2022-07-21T06:21:23.739Z"
   },
   {
    "duration": 0,
    "start_time": "2022-07-21T06:21:23.740Z"
   },
   {
    "duration": 0,
    "start_time": "2022-07-21T06:21:23.745Z"
   },
   {
    "duration": 0,
    "start_time": "2022-07-21T06:21:23.746Z"
   },
   {
    "duration": 0,
    "start_time": "2022-07-21T06:21:23.746Z"
   },
   {
    "duration": 0,
    "start_time": "2022-07-21T06:21:23.747Z"
   },
   {
    "duration": 0,
    "start_time": "2022-07-21T06:21:23.748Z"
   },
   {
    "duration": 0,
    "start_time": "2022-07-21T06:21:23.749Z"
   },
   {
    "duration": 15,
    "start_time": "2022-07-21T06:25:50.582Z"
   },
   {
    "duration": 5,
    "start_time": "2022-07-21T06:28:43.157Z"
   },
   {
    "duration": 3,
    "start_time": "2022-07-21T06:28:43.867Z"
   },
   {
    "duration": 5,
    "start_time": "2022-07-21T06:28:44.819Z"
   },
   {
    "duration": 12,
    "start_time": "2022-07-21T06:28:45.603Z"
   },
   {
    "duration": 3,
    "start_time": "2022-07-21T06:29:00.658Z"
   },
   {
    "duration": 2,
    "start_time": "2022-07-21T06:29:01.371Z"
   },
   {
    "duration": 3,
    "start_time": "2022-07-21T06:29:02.226Z"
   },
   {
    "duration": 14,
    "start_time": "2022-07-21T06:29:02.891Z"
   },
   {
    "duration": 3,
    "start_time": "2022-07-21T06:29:46.665Z"
   },
   {
    "duration": 3,
    "start_time": "2022-07-21T06:29:47.178Z"
   },
   {
    "duration": 3,
    "start_time": "2022-07-21T06:29:47.674Z"
   },
   {
    "duration": 37,
    "start_time": "2022-07-21T06:29:48.275Z"
   },
   {
    "duration": 3,
    "start_time": "2022-07-21T06:31:35.510Z"
   },
   {
    "duration": 3,
    "start_time": "2022-07-21T06:31:36.061Z"
   },
   {
    "duration": 4,
    "start_time": "2022-07-21T06:31:36.598Z"
   },
   {
    "duration": 35,
    "start_time": "2022-07-21T06:31:37.208Z"
   },
   {
    "duration": 3,
    "start_time": "2022-07-21T06:32:54.157Z"
   },
   {
    "duration": 3,
    "start_time": "2022-07-21T06:32:54.641Z"
   },
   {
    "duration": 3,
    "start_time": "2022-07-21T06:32:55.141Z"
   },
   {
    "duration": 172,
    "start_time": "2022-07-21T06:32:55.671Z"
   },
   {
    "duration": 3,
    "start_time": "2022-07-21T06:36:19.004Z"
   },
   {
    "duration": 2,
    "start_time": "2022-07-21T06:36:19.531Z"
   },
   {
    "duration": 3,
    "start_time": "2022-07-21T06:36:19.999Z"
   },
   {
    "duration": 163,
    "start_time": "2022-07-21T06:36:20.557Z"
   },
   {
    "duration": 3,
    "start_time": "2022-07-21T06:40:20.260Z"
   },
   {
    "duration": 3,
    "start_time": "2022-07-21T06:40:20.796Z"
   },
   {
    "duration": 3,
    "start_time": "2022-07-21T06:40:21.357Z"
   },
   {
    "duration": 1310,
    "start_time": "2022-07-21T06:42:07.068Z"
   },
   {
    "duration": 978,
    "start_time": "2022-07-21T06:42:08.380Z"
   },
   {
    "duration": 16,
    "start_time": "2022-07-21T06:42:09.363Z"
   },
   {
    "duration": 39,
    "start_time": "2022-07-21T06:42:09.381Z"
   },
   {
    "duration": 50,
    "start_time": "2022-07-21T06:42:09.424Z"
   },
   {
    "duration": 25,
    "start_time": "2022-07-21T06:42:09.475Z"
   },
   {
    "duration": 6399,
    "start_time": "2022-07-21T06:42:09.502Z"
   },
   {
    "duration": 87,
    "start_time": "2022-07-21T06:42:15.903Z"
   },
   {
    "duration": 9,
    "start_time": "2022-07-21T06:42:15.992Z"
   },
   {
    "duration": 26822,
    "start_time": "2022-07-21T06:42:16.002Z"
   },
   {
    "duration": 3,
    "start_time": "2022-07-21T06:42:42.826Z"
   },
   {
    "duration": 8,
    "start_time": "2022-07-21T06:42:42.830Z"
   },
   {
    "duration": 10,
    "start_time": "2022-07-21T06:42:42.839Z"
   },
   {
    "duration": 215139,
    "start_time": "2022-07-21T06:42:42.851Z"
   },
   {
    "duration": 0,
    "start_time": "2022-07-21T06:46:17.992Z"
   },
   {
    "duration": 0,
    "start_time": "2022-07-21T06:46:17.994Z"
   },
   {
    "duration": 0,
    "start_time": "2022-07-21T06:46:17.995Z"
   },
   {
    "duration": 0,
    "start_time": "2022-07-21T06:46:17.996Z"
   },
   {
    "duration": 0,
    "start_time": "2022-07-21T06:46:17.998Z"
   },
   {
    "duration": 0,
    "start_time": "2022-07-21T06:46:17.999Z"
   },
   {
    "duration": 0,
    "start_time": "2022-07-21T06:46:18.000Z"
   },
   {
    "duration": 0,
    "start_time": "2022-07-21T06:46:18.002Z"
   },
   {
    "duration": 0,
    "start_time": "2022-07-21T06:46:18.003Z"
   },
   {
    "duration": 3,
    "start_time": "2022-07-21T06:48:57.402Z"
   },
   {
    "duration": 3,
    "start_time": "2022-07-21T06:48:57.994Z"
   },
   {
    "duration": 3,
    "start_time": "2022-07-21T06:48:58.562Z"
   },
   {
    "duration": 10,
    "start_time": "2022-07-21T06:48:59.244Z"
   },
   {
    "duration": 22009,
    "start_time": "2022-07-21T06:49:03.970Z"
   },
   {
    "duration": 1258,
    "start_time": "2022-07-21T06:50:12.063Z"
   },
   {
    "duration": 847,
    "start_time": "2022-07-21T06:50:13.323Z"
   },
   {
    "duration": 12,
    "start_time": "2022-07-21T06:50:14.172Z"
   },
   {
    "duration": 31,
    "start_time": "2022-07-21T06:50:14.185Z"
   },
   {
    "duration": 3,
    "start_time": "2022-07-21T06:50:14.218Z"
   },
   {
    "duration": 24,
    "start_time": "2022-07-21T06:50:14.222Z"
   },
   {
    "duration": 5620,
    "start_time": "2022-07-21T06:50:14.247Z"
   },
   {
    "duration": 82,
    "start_time": "2022-07-21T06:50:19.868Z"
   },
   {
    "duration": 7,
    "start_time": "2022-07-21T06:50:19.952Z"
   },
   {
    "duration": 24698,
    "start_time": "2022-07-21T06:50:19.961Z"
   },
   {
    "duration": 2,
    "start_time": "2022-07-21T06:50:44.661Z"
   },
   {
    "duration": 11,
    "start_time": "2022-07-21T06:50:44.665Z"
   },
   {
    "duration": 19,
    "start_time": "2022-07-21T06:50:44.678Z"
   },
   {
    "duration": 195766,
    "start_time": "2022-07-21T06:50:44.698Z"
   },
   {
    "duration": 0,
    "start_time": "2022-07-21T06:54:00.466Z"
   },
   {
    "duration": 0,
    "start_time": "2022-07-21T06:54:00.468Z"
   },
   {
    "duration": 0,
    "start_time": "2022-07-21T06:54:00.469Z"
   },
   {
    "duration": 0,
    "start_time": "2022-07-21T06:54:00.470Z"
   },
   {
    "duration": 0,
    "start_time": "2022-07-21T06:54:00.472Z"
   },
   {
    "duration": 0,
    "start_time": "2022-07-21T06:54:00.473Z"
   },
   {
    "duration": 0,
    "start_time": "2022-07-21T06:54:00.474Z"
   },
   {
    "duration": 0,
    "start_time": "2022-07-21T06:54:00.476Z"
   },
   {
    "duration": 0,
    "start_time": "2022-07-21T06:54:00.477Z"
   },
   {
    "duration": 211193,
    "start_time": "2022-07-21T06:58:27.148Z"
   },
   {
    "duration": 4,
    "start_time": "2022-07-21T07:01:58.345Z"
   },
   {
    "duration": 9,
    "start_time": "2022-07-21T07:01:58.350Z"
   },
   {
    "duration": 1993,
    "start_time": "2022-07-21T07:02:17.924Z"
   },
   {
    "duration": 2169,
    "start_time": "2022-07-21T07:02:19.919Z"
   },
   {
    "duration": 15,
    "start_time": "2022-07-21T07:02:22.089Z"
   },
   {
    "duration": 38,
    "start_time": "2022-07-21T07:02:22.107Z"
   },
   {
    "duration": 3,
    "start_time": "2022-07-21T07:02:22.148Z"
   },
   {
    "duration": 14,
    "start_time": "2022-07-21T07:02:22.152Z"
   },
   {
    "duration": 5661,
    "start_time": "2022-07-21T07:02:22.168Z"
   },
   {
    "duration": 83,
    "start_time": "2022-07-21T07:02:27.830Z"
   },
   {
    "duration": 8,
    "start_time": "2022-07-21T07:02:27.914Z"
   },
   {
    "duration": 24802,
    "start_time": "2022-07-21T07:02:27.925Z"
   },
   {
    "duration": 3,
    "start_time": "2022-07-21T07:02:52.729Z"
   },
   {
    "duration": 13,
    "start_time": "2022-07-21T07:02:52.733Z"
   },
   {
    "duration": 5,
    "start_time": "2022-07-21T07:02:52.748Z"
   },
   {
    "duration": 215335,
    "start_time": "2022-07-21T07:02:52.755Z"
   },
   {
    "duration": 4,
    "start_time": "2022-07-21T07:06:28.092Z"
   },
   {
    "duration": 7,
    "start_time": "2022-07-21T07:06:28.097Z"
   },
   {
    "duration": 721790,
    "start_time": "2022-07-21T07:06:28.105Z"
   },
   {
    "duration": 142,
    "start_time": "2022-07-21T07:18:29.897Z"
   },
   {
    "duration": 0,
    "start_time": "2022-07-21T07:18:30.041Z"
   },
   {
    "duration": 0,
    "start_time": "2022-07-21T07:18:30.042Z"
   },
   {
    "duration": 0,
    "start_time": "2022-07-21T07:18:30.044Z"
   },
   {
    "duration": 0,
    "start_time": "2022-07-21T07:18:30.045Z"
   },
   {
    "duration": 0,
    "start_time": "2022-07-21T07:18:30.047Z"
   },
   {
    "duration": 1253,
    "start_time": "2022-07-21T07:26:17.133Z"
   },
   {
    "duration": 843,
    "start_time": "2022-07-21T07:26:18.387Z"
   },
   {
    "duration": 15,
    "start_time": "2022-07-21T07:26:19.231Z"
   },
   {
    "duration": 32,
    "start_time": "2022-07-21T07:26:19.248Z"
   },
   {
    "duration": 7,
    "start_time": "2022-07-21T07:26:19.281Z"
   },
   {
    "duration": 13,
    "start_time": "2022-07-21T07:26:19.289Z"
   },
   {
    "duration": 5587,
    "start_time": "2022-07-21T07:26:19.303Z"
   },
   {
    "duration": 77,
    "start_time": "2022-07-21T07:26:24.891Z"
   },
   {
    "duration": 8,
    "start_time": "2022-07-21T07:26:24.969Z"
   },
   {
    "duration": 24464,
    "start_time": "2022-07-21T07:26:24.979Z"
   },
   {
    "duration": 0,
    "start_time": "2022-07-21T07:26:49.445Z"
   },
   {
    "duration": 0,
    "start_time": "2022-07-21T07:26:49.446Z"
   },
   {
    "duration": 0,
    "start_time": "2022-07-21T07:26:49.447Z"
   },
   {
    "duration": 0,
    "start_time": "2022-07-21T07:26:49.449Z"
   },
   {
    "duration": 0,
    "start_time": "2022-07-21T07:26:49.450Z"
   },
   {
    "duration": 0,
    "start_time": "2022-07-21T07:26:49.451Z"
   },
   {
    "duration": 0,
    "start_time": "2022-07-21T07:26:49.452Z"
   },
   {
    "duration": 0,
    "start_time": "2022-07-21T07:26:49.453Z"
   },
   {
    "duration": 0,
    "start_time": "2022-07-21T07:26:49.455Z"
   },
   {
    "duration": 0,
    "start_time": "2022-07-21T07:26:49.456Z"
   },
   {
    "duration": 0,
    "start_time": "2022-07-21T07:26:49.457Z"
   },
   {
    "duration": 0,
    "start_time": "2022-07-21T07:26:49.459Z"
   },
   {
    "duration": 0,
    "start_time": "2022-07-21T07:26:49.460Z"
   },
   {
    "duration": 0,
    "start_time": "2022-07-21T07:26:49.461Z"
   },
   {
    "duration": 21986,
    "start_time": "2022-07-21T07:27:32.860Z"
   },
   {
    "duration": 1228,
    "start_time": "2022-07-21T07:28:26.665Z"
   },
   {
    "duration": 837,
    "start_time": "2022-07-21T07:28:27.895Z"
   },
   {
    "duration": 22,
    "start_time": "2022-07-21T07:28:28.733Z"
   },
   {
    "duration": 34,
    "start_time": "2022-07-21T07:28:28.757Z"
   },
   {
    "duration": 2,
    "start_time": "2022-07-21T07:28:28.793Z"
   },
   {
    "duration": 6,
    "start_time": "2022-07-21T07:28:28.797Z"
   },
   {
    "duration": 5877,
    "start_time": "2022-07-21T07:28:28.804Z"
   },
   {
    "duration": 81,
    "start_time": "2022-07-21T07:28:34.683Z"
   },
   {
    "duration": 7,
    "start_time": "2022-07-21T07:28:34.766Z"
   },
   {
    "duration": 23958,
    "start_time": "2022-07-21T07:28:34.775Z"
   },
   {
    "duration": 0,
    "start_time": "2022-07-21T07:28:58.734Z"
   },
   {
    "duration": 0,
    "start_time": "2022-07-21T07:28:58.735Z"
   },
   {
    "duration": 0,
    "start_time": "2022-07-21T07:28:58.736Z"
   },
   {
    "duration": 0,
    "start_time": "2022-07-21T07:28:58.737Z"
   },
   {
    "duration": 0,
    "start_time": "2022-07-21T07:28:58.738Z"
   },
   {
    "duration": 0,
    "start_time": "2022-07-21T07:28:58.745Z"
   },
   {
    "duration": 0,
    "start_time": "2022-07-21T07:28:58.747Z"
   },
   {
    "duration": 0,
    "start_time": "2022-07-21T07:28:58.748Z"
   },
   {
    "duration": 0,
    "start_time": "2022-07-21T07:28:58.749Z"
   },
   {
    "duration": 1,
    "start_time": "2022-07-21T07:28:58.749Z"
   },
   {
    "duration": 0,
    "start_time": "2022-07-21T07:28:58.751Z"
   },
   {
    "duration": 0,
    "start_time": "2022-07-21T07:28:58.752Z"
   },
   {
    "duration": 0,
    "start_time": "2022-07-21T07:28:58.752Z"
   },
   {
    "duration": 0,
    "start_time": "2022-07-21T07:28:58.753Z"
   },
   {
    "duration": 1286,
    "start_time": "2022-07-21T07:31:48.351Z"
   },
   {
    "duration": 806,
    "start_time": "2022-07-21T07:31:49.638Z"
   },
   {
    "duration": 12,
    "start_time": "2022-07-21T07:31:50.445Z"
   },
   {
    "duration": 32,
    "start_time": "2022-07-21T07:31:50.459Z"
   },
   {
    "duration": 14,
    "start_time": "2022-07-21T07:31:50.492Z"
   },
   {
    "duration": 10,
    "start_time": "2022-07-21T07:31:50.508Z"
   },
   {
    "duration": 5565,
    "start_time": "2022-07-21T07:31:50.519Z"
   },
   {
    "duration": 83,
    "start_time": "2022-07-21T07:31:56.086Z"
   },
   {
    "duration": 7,
    "start_time": "2022-07-21T07:31:56.171Z"
   },
   {
    "duration": 24472,
    "start_time": "2022-07-21T07:31:56.180Z"
   },
   {
    "duration": 0,
    "start_time": "2022-07-21T07:32:20.653Z"
   },
   {
    "duration": 0,
    "start_time": "2022-07-21T07:32:20.655Z"
   },
   {
    "duration": 0,
    "start_time": "2022-07-21T07:32:20.656Z"
   },
   {
    "duration": 0,
    "start_time": "2022-07-21T07:32:20.657Z"
   },
   {
    "duration": 0,
    "start_time": "2022-07-21T07:32:20.659Z"
   },
   {
    "duration": 0,
    "start_time": "2022-07-21T07:32:20.660Z"
   },
   {
    "duration": 0,
    "start_time": "2022-07-21T07:32:20.662Z"
   },
   {
    "duration": 0,
    "start_time": "2022-07-21T07:32:20.663Z"
   },
   {
    "duration": 0,
    "start_time": "2022-07-21T07:32:20.665Z"
   },
   {
    "duration": 0,
    "start_time": "2022-07-21T07:32:20.666Z"
   },
   {
    "duration": 0,
    "start_time": "2022-07-21T07:32:20.667Z"
   },
   {
    "duration": 0,
    "start_time": "2022-07-21T07:32:20.668Z"
   },
   {
    "duration": 0,
    "start_time": "2022-07-21T07:32:20.670Z"
   },
   {
    "duration": 0,
    "start_time": "2022-07-21T07:32:20.671Z"
   },
   {
    "duration": 1345,
    "start_time": "2022-07-21T07:35:08.493Z"
   },
   {
    "duration": 884,
    "start_time": "2022-07-21T07:35:09.839Z"
   },
   {
    "duration": 13,
    "start_time": "2022-07-21T07:35:10.724Z"
   },
   {
    "duration": 33,
    "start_time": "2022-07-21T07:35:10.746Z"
   },
   {
    "duration": 2,
    "start_time": "2022-07-21T07:35:10.781Z"
   },
   {
    "duration": 12,
    "start_time": "2022-07-21T07:35:10.785Z"
   },
   {
    "duration": 5872,
    "start_time": "2022-07-21T07:35:10.798Z"
   },
   {
    "duration": 90,
    "start_time": "2022-07-21T07:35:16.673Z"
   },
   {
    "duration": 9,
    "start_time": "2022-07-21T07:35:16.765Z"
   },
   {
    "duration": 26053,
    "start_time": "2022-07-21T07:35:16.776Z"
   },
   {
    "duration": 0,
    "start_time": "2022-07-21T07:35:42.831Z"
   },
   {
    "duration": 0,
    "start_time": "2022-07-21T07:35:42.833Z"
   },
   {
    "duration": 0,
    "start_time": "2022-07-21T07:35:42.834Z"
   },
   {
    "duration": 0,
    "start_time": "2022-07-21T07:35:42.845Z"
   },
   {
    "duration": 0,
    "start_time": "2022-07-21T07:35:42.848Z"
   },
   {
    "duration": 0,
    "start_time": "2022-07-21T07:35:42.849Z"
   },
   {
    "duration": 0,
    "start_time": "2022-07-21T07:35:42.851Z"
   },
   {
    "duration": 0,
    "start_time": "2022-07-21T07:35:42.852Z"
   },
   {
    "duration": 0,
    "start_time": "2022-07-21T07:35:42.854Z"
   },
   {
    "duration": 0,
    "start_time": "2022-07-21T07:35:42.855Z"
   },
   {
    "duration": 0,
    "start_time": "2022-07-21T07:35:42.857Z"
   },
   {
    "duration": 0,
    "start_time": "2022-07-21T07:35:42.859Z"
   },
   {
    "duration": 0,
    "start_time": "2022-07-21T07:35:42.860Z"
   },
   {
    "duration": 0,
    "start_time": "2022-07-21T07:35:42.861Z"
   },
   {
    "duration": 1358,
    "start_time": "2022-07-21T07:40:39.361Z"
   },
   {
    "duration": 885,
    "start_time": "2022-07-21T07:40:40.721Z"
   },
   {
    "duration": 14,
    "start_time": "2022-07-21T07:40:41.607Z"
   },
   {
    "duration": 50,
    "start_time": "2022-07-21T07:40:41.623Z"
   },
   {
    "duration": 4,
    "start_time": "2022-07-21T07:40:41.674Z"
   },
   {
    "duration": 7,
    "start_time": "2022-07-21T07:40:41.679Z"
   },
   {
    "duration": 6051,
    "start_time": "2022-07-21T07:40:41.688Z"
   },
   {
    "duration": 85,
    "start_time": "2022-07-21T07:40:47.741Z"
   },
   {
    "duration": 20,
    "start_time": "2022-07-21T07:40:47.827Z"
   },
   {
    "duration": 51,
    "start_time": "2022-07-21T07:40:47.851Z"
   },
   {
    "duration": 0,
    "start_time": "2022-07-21T07:40:47.903Z"
   },
   {
    "duration": 0,
    "start_time": "2022-07-21T07:40:47.904Z"
   },
   {
    "duration": 0,
    "start_time": "2022-07-21T07:40:47.905Z"
   },
   {
    "duration": 1,
    "start_time": "2022-07-21T07:40:47.906Z"
   },
   {
    "duration": 0,
    "start_time": "2022-07-21T07:40:47.908Z"
   },
   {
    "duration": 0,
    "start_time": "2022-07-21T07:40:47.908Z"
   },
   {
    "duration": 0,
    "start_time": "2022-07-21T07:40:47.909Z"
   },
   {
    "duration": 0,
    "start_time": "2022-07-21T07:40:47.910Z"
   },
   {
    "duration": 0,
    "start_time": "2022-07-21T07:40:47.912Z"
   },
   {
    "duration": 0,
    "start_time": "2022-07-21T07:40:47.913Z"
   },
   {
    "duration": 0,
    "start_time": "2022-07-21T07:40:47.914Z"
   },
   {
    "duration": 0,
    "start_time": "2022-07-21T07:40:47.915Z"
   },
   {
    "duration": 0,
    "start_time": "2022-07-21T07:40:47.916Z"
   },
   {
    "duration": 0,
    "start_time": "2022-07-21T07:40:47.917Z"
   },
   {
    "duration": 1298,
    "start_time": "2022-07-21T07:41:33.065Z"
   },
   {
    "duration": 868,
    "start_time": "2022-07-21T07:41:34.365Z"
   },
   {
    "duration": 20,
    "start_time": "2022-07-21T07:41:35.235Z"
   },
   {
    "duration": 36,
    "start_time": "2022-07-21T07:41:35.259Z"
   },
   {
    "duration": 2,
    "start_time": "2022-07-21T07:41:35.297Z"
   },
   {
    "duration": 6,
    "start_time": "2022-07-21T07:41:35.301Z"
   },
   {
    "duration": 6099,
    "start_time": "2022-07-21T07:41:35.308Z"
   },
   {
    "duration": 85,
    "start_time": "2022-07-21T07:41:41.408Z"
   },
   {
    "duration": 8,
    "start_time": "2022-07-21T07:41:41.495Z"
   },
   {
    "duration": 25704,
    "start_time": "2022-07-21T07:41:41.506Z"
   },
   {
    "duration": 0,
    "start_time": "2022-07-21T07:42:07.212Z"
   },
   {
    "duration": 0,
    "start_time": "2022-07-21T07:42:07.213Z"
   },
   {
    "duration": 0,
    "start_time": "2022-07-21T07:42:07.214Z"
   },
   {
    "duration": 0,
    "start_time": "2022-07-21T07:42:07.215Z"
   },
   {
    "duration": 0,
    "start_time": "2022-07-21T07:42:07.216Z"
   },
   {
    "duration": 0,
    "start_time": "2022-07-21T07:42:07.217Z"
   },
   {
    "duration": 0,
    "start_time": "2022-07-21T07:42:07.218Z"
   },
   {
    "duration": 0,
    "start_time": "2022-07-21T07:42:07.219Z"
   },
   {
    "duration": 0,
    "start_time": "2022-07-21T07:42:07.220Z"
   },
   {
    "duration": 0,
    "start_time": "2022-07-21T07:42:07.221Z"
   },
   {
    "duration": 0,
    "start_time": "2022-07-21T07:42:07.222Z"
   },
   {
    "duration": 0,
    "start_time": "2022-07-21T07:42:07.223Z"
   },
   {
    "duration": 0,
    "start_time": "2022-07-21T07:42:07.246Z"
   },
   {
    "duration": 0,
    "start_time": "2022-07-21T07:42:07.247Z"
   },
   {
    "duration": 1287,
    "start_time": "2022-07-21T07:42:23.591Z"
   },
   {
    "duration": 852,
    "start_time": "2022-07-21T07:42:24.880Z"
   },
   {
    "duration": 24,
    "start_time": "2022-07-21T07:42:25.734Z"
   },
   {
    "duration": 33,
    "start_time": "2022-07-21T07:42:25.761Z"
   },
   {
    "duration": 3,
    "start_time": "2022-07-21T07:42:25.795Z"
   },
   {
    "duration": 7,
    "start_time": "2022-07-21T07:42:25.799Z"
   },
   {
    "duration": 6108,
    "start_time": "2022-07-21T07:42:25.807Z"
   },
   {
    "duration": 83,
    "start_time": "2022-07-21T07:42:31.916Z"
   },
   {
    "duration": 7,
    "start_time": "2022-07-21T07:42:32.001Z"
   },
   {
    "duration": 26181,
    "start_time": "2022-07-21T07:42:32.011Z"
   },
   {
    "duration": 2,
    "start_time": "2022-07-21T07:42:58.194Z"
   },
   {
    "duration": 7,
    "start_time": "2022-07-21T07:42:58.197Z"
   },
   {
    "duration": 11,
    "start_time": "2022-07-21T07:42:58.205Z"
   },
   {
    "duration": 213445,
    "start_time": "2022-07-21T07:42:58.217Z"
   },
   {
    "duration": 4,
    "start_time": "2022-07-21T07:46:31.663Z"
   },
   {
    "duration": 15,
    "start_time": "2022-07-21T07:46:31.669Z"
   },
   {
    "duration": 752530,
    "start_time": "2022-07-21T07:46:31.686Z"
   },
   {
    "duration": 4,
    "start_time": "2022-07-21T07:59:04.218Z"
   },
   {
    "duration": 3153,
    "start_time": "2022-07-21T07:59:04.223Z"
   },
   {
    "duration": 37,
    "start_time": "2022-07-21T07:59:07.378Z"
   },
   {
    "duration": 4302,
    "start_time": "2022-07-21T07:59:07.417Z"
   },
   {
    "duration": 45,
    "start_time": "2022-07-21T07:59:11.721Z"
   },
   {
    "duration": 17,
    "start_time": "2022-07-21T07:59:11.768Z"
   },
   {
    "duration": 59,
    "start_time": "2022-07-21T07:59:11.787Z"
   },
   {
    "duration": 57,
    "start_time": "2022-07-21T08:12:59.830Z"
   },
   {
    "duration": 1269,
    "start_time": "2022-07-22T06:28:18.015Z"
   },
   {
    "duration": 2287,
    "start_time": "2022-07-22T06:28:19.286Z"
   },
   {
    "duration": 13,
    "start_time": "2022-07-22T06:28:21.575Z"
   },
   {
    "duration": 37,
    "start_time": "2022-07-22T06:28:21.590Z"
   },
   {
    "duration": 3,
    "start_time": "2022-07-22T06:28:21.629Z"
   },
   {
    "duration": 7,
    "start_time": "2022-07-22T06:28:21.633Z"
   },
   {
    "duration": 1264,
    "start_time": "2022-07-22T06:28:21.642Z"
   },
   {
    "duration": 0,
    "start_time": "2022-07-22T06:28:22.908Z"
   },
   {
    "duration": 0,
    "start_time": "2022-07-22T06:28:22.909Z"
   },
   {
    "duration": 0,
    "start_time": "2022-07-22T06:28:22.910Z"
   },
   {
    "duration": 0,
    "start_time": "2022-07-22T06:28:22.911Z"
   },
   {
    "duration": 0,
    "start_time": "2022-07-22T06:28:22.912Z"
   },
   {
    "duration": 0,
    "start_time": "2022-07-22T06:28:22.913Z"
   },
   {
    "duration": 0,
    "start_time": "2022-07-22T06:28:22.914Z"
   },
   {
    "duration": 0,
    "start_time": "2022-07-22T06:28:22.923Z"
   },
   {
    "duration": 0,
    "start_time": "2022-07-22T06:28:22.924Z"
   },
   {
    "duration": 0,
    "start_time": "2022-07-22T06:28:22.925Z"
   },
   {
    "duration": 0,
    "start_time": "2022-07-22T06:28:22.926Z"
   },
   {
    "duration": 0,
    "start_time": "2022-07-22T06:28:22.927Z"
   },
   {
    "duration": 0,
    "start_time": "2022-07-22T06:28:22.928Z"
   },
   {
    "duration": 0,
    "start_time": "2022-07-22T06:28:22.929Z"
   },
   {
    "duration": 0,
    "start_time": "2022-07-22T06:28:22.930Z"
   },
   {
    "duration": 0,
    "start_time": "2022-07-22T06:28:22.931Z"
   },
   {
    "duration": 0,
    "start_time": "2022-07-22T06:28:22.932Z"
   },
   {
    "duration": 1293,
    "start_time": "2022-07-22T06:29:07.504Z"
   },
   {
    "duration": 855,
    "start_time": "2022-07-22T06:29:08.799Z"
   },
   {
    "duration": 13,
    "start_time": "2022-07-22T06:29:09.656Z"
   },
   {
    "duration": 31,
    "start_time": "2022-07-22T06:29:09.671Z"
   },
   {
    "duration": 20,
    "start_time": "2022-07-22T06:29:09.704Z"
   },
   {
    "duration": 9,
    "start_time": "2022-07-22T06:29:09.726Z"
   },
   {
    "duration": 14181,
    "start_time": "2022-07-22T06:29:09.737Z"
   },
   {
    "duration": 65,
    "start_time": "2022-07-22T06:29:23.920Z"
   },
   {
    "duration": 7,
    "start_time": "2022-07-22T06:29:23.987Z"
   },
   {
    "duration": 23206,
    "start_time": "2022-07-22T06:29:23.996Z"
   },
   {
    "duration": 3,
    "start_time": "2022-07-22T06:29:47.205Z"
   },
   {
    "duration": 30,
    "start_time": "2022-07-22T06:29:47.210Z"
   },
   {
    "duration": 9,
    "start_time": "2022-07-22T06:29:47.243Z"
   },
   {
    "duration": 171847,
    "start_time": "2022-07-22T06:29:47.255Z"
   },
   {
    "duration": 4,
    "start_time": "2022-07-22T06:32:39.104Z"
   },
   {
    "duration": 16,
    "start_time": "2022-07-22T06:32:39.109Z"
   },
   {
    "duration": 715562,
    "start_time": "2022-07-22T06:32:39.126Z"
   },
   {
    "duration": 4,
    "start_time": "2022-07-22T06:44:34.689Z"
   },
   {
    "duration": 3370,
    "start_time": "2022-07-22T06:44:34.695Z"
   },
   {
    "duration": 37,
    "start_time": "2022-07-22T06:44:38.066Z"
   },
   {
    "duration": 4557,
    "start_time": "2022-07-22T06:44:38.105Z"
   },
   {
    "duration": 40,
    "start_time": "2022-07-22T06:44:42.663Z"
   },
   {
    "duration": 28,
    "start_time": "2022-07-22T06:44:42.705Z"
   },
   {
    "duration": 40,
    "start_time": "2022-07-22T06:44:42.735Z"
   }
  ],
  "kernelspec": {
   "display_name": "Python 3 (ipykernel)",
   "language": "python",
   "name": "python3"
  },
  "language_info": {
   "codemirror_mode": {
    "name": "ipython",
    "version": 3
   },
   "file_extension": ".py",
   "mimetype": "text/x-python",
   "name": "python",
   "nbconvert_exporter": "python",
   "pygments_lexer": "ipython3",
   "version": "3.9.7"
  },
  "toc": {
   "base_numbering": 1,
   "nav_menu": {},
   "number_sections": true,
   "sideBar": true,
   "skip_h1_title": true,
   "title_cell": "Содержание",
   "title_sidebar": "Contents",
   "toc_cell": true,
   "toc_position": {
    "height": "calc(100% - 180px)",
    "left": "10px",
    "top": "150px",
    "width": "302.391px"
   },
   "toc_section_display": true,
   "toc_window_display": false
  }
 },
 "nbformat": 4,
 "nbformat_minor": 2
}
